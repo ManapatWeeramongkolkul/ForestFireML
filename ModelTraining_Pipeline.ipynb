{
  "cells": [
    {
      "cell_type": "markdown",
      "metadata": {
        "id": "COF7WWOtCQRP"
      },
      "source": [
        "# Model Training & Evaluation Pipeline"
      ]
    },
    {
      "cell_type": "markdown",
      "metadata": {
        "id": "kNbJ7WYUXWks"
      },
      "source": [
        "Details: [Model Training Specifications](https://docs.google.com/document/d/1UiDi8nyTcfMeMNIAz3KntlVZBlYrpoMAURuDccTt-wk/edit?usp=sharing)\n",
        "\n",
        "Model Evaluation: Identify best parameters for each model"
      ]
    },
    {
      "cell_type": "code",
      "execution_count": 21,
      "metadata": {
        "colab": {
          "base_uri": "https://localhost:8080/"
        },
        "id": "qK_KRJw0rpA9",
        "outputId": "dc685720-3c1c-4501-ed34-bc05a3f52cff"
      },
      "outputs": [
        {
          "output_type": "stream",
          "name": "stdout",
          "text": [
            "Drive already mounted at /content/drive; to attempt to forcibly remount, call drive.mount(\"/content/drive\", force_remount=True).\n"
          ]
        }
      ],
      "source": [
        "# Basic Libraries\n",
        "\n",
        "import numpy as np\n",
        "import pandas as pd\n",
        "import seaborn as sb\n",
        "import matplotlib.pyplot as plt\n",
        "from datetime import datetime\n",
        "\n",
        "from google.colab import drive\n",
        "drive.mount('/content/drive')"
      ]
    },
    {
      "cell_type": "code",
      "execution_count": 22,
      "metadata": {
        "colab": {
          "base_uri": "https://localhost:8080/",
          "height": 206
        },
        "id": "BTKpuPDqvTli",
        "outputId": "3bc51e03-5586-46dc-ee10-460dc2b134da"
      },
      "outputs": [
        {
          "output_type": "execute_result",
          "data": {
            "text/plain": [
              "   CO_MOL/M2  SO2_MOL/M2  NO2_MOL/M2  O3_MOL/M2  FIRE_OCCURRED\n",
              "0   0.252793    0.175102    0.048868   0.390066              0\n",
              "1   0.267145    0.175102    0.048868   0.390066              0\n",
              "2   0.252793    0.175102    0.041340   0.390066              0\n",
              "3   0.267145    0.175102    0.041340   0.390066              0\n",
              "4   0.154547    0.210118    0.045284   0.550787              0"
            ],
            "text/html": [
              "\n",
              "  <div id=\"df-6975c511-d7d7-4944-ad3a-c3afc6172007\">\n",
              "    <div class=\"colab-df-container\">\n",
              "      <div>\n",
              "<style scoped>\n",
              "    .dataframe tbody tr th:only-of-type {\n",
              "        vertical-align: middle;\n",
              "    }\n",
              "\n",
              "    .dataframe tbody tr th {\n",
              "        vertical-align: top;\n",
              "    }\n",
              "\n",
              "    .dataframe thead th {\n",
              "        text-align: right;\n",
              "    }\n",
              "</style>\n",
              "<table border=\"1\" class=\"dataframe\">\n",
              "  <thead>\n",
              "    <tr style=\"text-align: right;\">\n",
              "      <th></th>\n",
              "      <th>CO_MOL/M2</th>\n",
              "      <th>SO2_MOL/M2</th>\n",
              "      <th>NO2_MOL/M2</th>\n",
              "      <th>O3_MOL/M2</th>\n",
              "      <th>FIRE_OCCURRED</th>\n",
              "    </tr>\n",
              "  </thead>\n",
              "  <tbody>\n",
              "    <tr>\n",
              "      <th>0</th>\n",
              "      <td>0.252793</td>\n",
              "      <td>0.175102</td>\n",
              "      <td>0.048868</td>\n",
              "      <td>0.390066</td>\n",
              "      <td>0</td>\n",
              "    </tr>\n",
              "    <tr>\n",
              "      <th>1</th>\n",
              "      <td>0.267145</td>\n",
              "      <td>0.175102</td>\n",
              "      <td>0.048868</td>\n",
              "      <td>0.390066</td>\n",
              "      <td>0</td>\n",
              "    </tr>\n",
              "    <tr>\n",
              "      <th>2</th>\n",
              "      <td>0.252793</td>\n",
              "      <td>0.175102</td>\n",
              "      <td>0.041340</td>\n",
              "      <td>0.390066</td>\n",
              "      <td>0</td>\n",
              "    </tr>\n",
              "    <tr>\n",
              "      <th>3</th>\n",
              "      <td>0.267145</td>\n",
              "      <td>0.175102</td>\n",
              "      <td>0.041340</td>\n",
              "      <td>0.390066</td>\n",
              "      <td>0</td>\n",
              "    </tr>\n",
              "    <tr>\n",
              "      <th>4</th>\n",
              "      <td>0.154547</td>\n",
              "      <td>0.210118</td>\n",
              "      <td>0.045284</td>\n",
              "      <td>0.550787</td>\n",
              "      <td>0</td>\n",
              "    </tr>\n",
              "  </tbody>\n",
              "</table>\n",
              "</div>\n",
              "      <button class=\"colab-df-convert\" onclick=\"convertToInteractive('df-6975c511-d7d7-4944-ad3a-c3afc6172007')\"\n",
              "              title=\"Convert this dataframe to an interactive table.\"\n",
              "              style=\"display:none;\">\n",
              "        \n",
              "  <svg xmlns=\"http://www.w3.org/2000/svg\" height=\"24px\"viewBox=\"0 0 24 24\"\n",
              "       width=\"24px\">\n",
              "    <path d=\"M0 0h24v24H0V0z\" fill=\"none\"/>\n",
              "    <path d=\"M18.56 5.44l.94 2.06.94-2.06 2.06-.94-2.06-.94-.94-2.06-.94 2.06-2.06.94zm-11 1L8.5 8.5l.94-2.06 2.06-.94-2.06-.94L8.5 2.5l-.94 2.06-2.06.94zm10 10l.94 2.06.94-2.06 2.06-.94-2.06-.94-.94-2.06-.94 2.06-2.06.94z\"/><path d=\"M17.41 7.96l-1.37-1.37c-.4-.4-.92-.59-1.43-.59-.52 0-1.04.2-1.43.59L10.3 9.45l-7.72 7.72c-.78.78-.78 2.05 0 2.83L4 21.41c.39.39.9.59 1.41.59.51 0 1.02-.2 1.41-.59l7.78-7.78 2.81-2.81c.8-.78.8-2.07 0-2.86zM5.41 20L4 18.59l7.72-7.72 1.47 1.35L5.41 20z\"/>\n",
              "  </svg>\n",
              "      </button>\n",
              "      \n",
              "  <style>\n",
              "    .colab-df-container {\n",
              "      display:flex;\n",
              "      flex-wrap:wrap;\n",
              "      gap: 12px;\n",
              "    }\n",
              "\n",
              "    .colab-df-convert {\n",
              "      background-color: #E8F0FE;\n",
              "      border: none;\n",
              "      border-radius: 50%;\n",
              "      cursor: pointer;\n",
              "      display: none;\n",
              "      fill: #1967D2;\n",
              "      height: 32px;\n",
              "      padding: 0 0 0 0;\n",
              "      width: 32px;\n",
              "    }\n",
              "\n",
              "    .colab-df-convert:hover {\n",
              "      background-color: #E2EBFA;\n",
              "      box-shadow: 0px 1px 2px rgba(60, 64, 67, 0.3), 0px 1px 3px 1px rgba(60, 64, 67, 0.15);\n",
              "      fill: #174EA6;\n",
              "    }\n",
              "\n",
              "    [theme=dark] .colab-df-convert {\n",
              "      background-color: #3B4455;\n",
              "      fill: #D2E3FC;\n",
              "    }\n",
              "\n",
              "    [theme=dark] .colab-df-convert:hover {\n",
              "      background-color: #434B5C;\n",
              "      box-shadow: 0px 1px 3px 1px rgba(0, 0, 0, 0.15);\n",
              "      filter: drop-shadow(0px 1px 2px rgba(0, 0, 0, 0.3));\n",
              "      fill: #FFFFFF;\n",
              "    }\n",
              "  </style>\n",
              "\n",
              "      <script>\n",
              "        const buttonEl =\n",
              "          document.querySelector('#df-6975c511-d7d7-4944-ad3a-c3afc6172007 button.colab-df-convert');\n",
              "        buttonEl.style.display =\n",
              "          google.colab.kernel.accessAllowed ? 'block' : 'none';\n",
              "\n",
              "        async function convertToInteractive(key) {\n",
              "          const element = document.querySelector('#df-6975c511-d7d7-4944-ad3a-c3afc6172007');\n",
              "          const dataTable =\n",
              "            await google.colab.kernel.invokeFunction('convertToInteractive',\n",
              "                                                     [key], {});\n",
              "          if (!dataTable) return;\n",
              "\n",
              "          const docLinkHtml = 'Like what you see? Visit the ' +\n",
              "            '<a target=\"_blank\" href=https://colab.research.google.com/notebooks/data_table.ipynb>data table notebook</a>'\n",
              "            + ' to learn more about interactive tables.';\n",
              "          element.innerHTML = '';\n",
              "          dataTable['output_type'] = 'display_data';\n",
              "          await google.colab.output.renderOutput(dataTable, element);\n",
              "          const docLink = document.createElement('div');\n",
              "          docLink.innerHTML = docLinkHtml;\n",
              "          element.appendChild(docLink);\n",
              "        }\n",
              "      </script>\n",
              "    </div>\n",
              "  </div>\n",
              "  "
            ]
          },
          "metadata": {},
          "execution_count": 22
        }
      ],
      "source": [
        "# Data Source\n",
        "\n",
        "df = pd.read_csv(\"/content/drive/MyDrive/cleaned_gee_data_v3.csv\")\n",
        "df = df.drop(columns = ['Unnamed: 0'], axis=1) # Drop index\n",
        "df = df.drop(columns = ['LATITUDE', 'LONGITUDE'], axis=1)\n",
        "df.head() "
      ]
    },
    {
      "cell_type": "code",
      "execution_count": 23,
      "metadata": {
        "colab": {
          "base_uri": "https://localhost:8080/"
        },
        "id": "vigF6PJAfy9R",
        "outputId": "27675c35-9f1f-4f3c-a8ec-af90ab127364"
      },
      "outputs": [
        {
          "output_type": "stream",
          "name": "stdout",
          "text": [
            "<class 'pandas.core.frame.DataFrame'>\n",
            "RangeIndex: 171893 entries, 0 to 171892\n",
            "Data columns (total 5 columns):\n",
            " #   Column         Non-Null Count   Dtype  \n",
            "---  ------         --------------   -----  \n",
            " 0   CO_MOL/M2      171893 non-null  float64\n",
            " 1   SO2_MOL/M2     171893 non-null  float64\n",
            " 2   NO2_MOL/M2     171893 non-null  float64\n",
            " 3   O3_MOL/M2      171893 non-null  float64\n",
            " 4   FIRE_OCCURRED  171893 non-null  int64  \n",
            "dtypes: float64(4), int64(1)\n",
            "memory usage: 6.6 MB\n"
          ]
        }
      ],
      "source": [
        "df.info()"
      ]
    },
    {
      "cell_type": "code",
      "execution_count": 24,
      "metadata": {
        "colab": {
          "base_uri": "https://localhost:8080/",
          "height": 72
        },
        "id": "2z3siI-MvbQs",
        "outputId": "8f2fa288-5b7d-4598-9dee-9202454911cb"
      },
      "outputs": [
        {
          "output_type": "display_data",
          "data": {
            "text/plain": [
              "0    170544\n",
              "1      1349\n",
              "Name: FIRE_OCCURRED, dtype: int64"
            ]
          },
          "metadata": {}
        }
      ],
      "source": [
        "display(df['FIRE_OCCURRED'].value_counts())"
      ]
    },
    {
      "cell_type": "markdown",
      "metadata": {
        "id": "bmVgX-C_pJrz"
      },
      "source": [
        "0.785% of FIRE_OCCURRED = 1"
      ]
    },
    {
      "cell_type": "code",
      "execution_count": 25,
      "metadata": {
        "id": "GEBLWi5ooiTO"
      },
      "outputs": [],
      "source": [
        "X = df.drop('FIRE_OCCURRED', axis=1)\n",
        "y = df['FIRE_OCCURRED']"
      ]
    },
    {
      "cell_type": "code",
      "execution_count": 26,
      "metadata": {
        "id": "96m0rNH7vhDg"
      },
      "outputs": [],
      "source": [
        "# Training, Validation, Testing Split\n",
        "\n",
        "from sklearn.model_selection import train_test_split\n",
        "\n",
        "# 80:10:10\n",
        "\n",
        "X_train, X_test, y_train, y_test = train_test_split(X, y, test_size=0.10, random_state=10, shuffle=True)\n",
        "X_train, X_val, y_train, y_val = train_test_split(X_train, y_train, test_size=1/9, random_state=10, shuffle=True)\n",
        "\n",
        "Original = [X_train, X_val, X_test, y_train, y_val, y_test] # For reference"
      ]
    },
    {
      "cell_type": "code",
      "execution_count": 27,
      "metadata": {
        "colab": {
          "base_uri": "https://localhost:8080/"
        },
        "id": "oihO76nhvifX",
        "outputId": "9ef173b6-52fc-4013-c352-c1251a1ffbed"
      },
      "outputs": [
        {
          "output_type": "stream",
          "name": "stdout",
          "text": [
            "X and y data length matching\n",
            "\n",
            "No. of training data = 137513\n",
            "No. of validation data = 17190\n",
            "No. of testing data = 17190\n"
          ]
        }
      ],
      "source": [
        "if len(X_train)==len(y_train) and len(X_test) == len(y_test) and len(X_val) == len(y_val):\n",
        "  print(\"X and y data length matching\")\n",
        "else:\n",
        "  print(\"Error in data preparation pipeline\")\n",
        "print()\n",
        "print(\"No. of training data = %d\" % len(X_train))\n",
        "print(\"No. of validation data = %d\" % len(X_val))\n",
        "print(\"No. of testing data = %d\" % len(X_test))"
      ]
    },
    {
      "cell_type": "code",
      "execution_count": 28,
      "metadata": {
        "colab": {
          "base_uri": "https://localhost:8080/",
          "height": 72
        },
        "id": "MVofMah3XWOo",
        "outputId": "f420a005-1acc-4cf3-fb0f-082094598ab1"
      },
      "outputs": [
        {
          "output_type": "display_data",
          "data": {
            "text/plain": [
              "0    17068\n",
              "1      122\n",
              "Name: FIRE_OCCURRED, dtype: int64"
            ]
          },
          "metadata": {}
        }
      ],
      "source": [
        "display(y_val.value_counts())"
      ]
    },
    {
      "cell_type": "code",
      "execution_count": 29,
      "metadata": {
        "colab": {
          "base_uri": "https://localhost:8080/",
          "height": 72
        },
        "id": "1ZcyP7nRvlYp",
        "outputId": "3bf038fb-2b00-417e-972f-4d372f434d0d"
      },
      "outputs": [
        {
          "output_type": "display_data",
          "data": {
            "text/plain": [
              "0    17059\n",
              "1      131\n",
              "Name: FIRE_OCCURRED, dtype: int64"
            ]
          },
          "metadata": {}
        }
      ],
      "source": [
        "display(y_test.value_counts())"
      ]
    },
    {
      "cell_type": "code",
      "execution_count": 30,
      "metadata": {
        "colab": {
          "base_uri": "https://localhost:8080/"
        },
        "id": "T8MI03z-vmdA",
        "outputId": "c4c8e6d3-0c6d-4e0a-e91e-16f1316272bc"
      },
      "outputs": [
        {
          "output_type": "stream",
          "name": "stdout",
          "text": [
            "Original dataset shape Counter({0: 136417, 1: 1096})\n",
            "Resampled dataset shape Counter({0: 136417, 1: 136417})\n"
          ]
        }
      ],
      "source": [
        "# SMOTE\n",
        "\n",
        "from collections import Counter\n",
        "from imblearn.over_sampling import SMOTE \n",
        "\n",
        "print('Original dataset shape %s' % Counter(y_train))\n",
        "sm = SMOTE(random_state=10)\n",
        "X_train, y_train = sm.fit_resample(X_train, y_train)\n",
        "print('Resampled dataset shape %s' % Counter(y_train))"
      ]
    },
    {
      "cell_type": "code",
      "execution_count": 31,
      "metadata": {
        "id": "Ts3u8k7ZoTmA"
      },
      "outputs": [],
      "source": [
        "# Shuffle Data since SMOTE appended many 1s at the end\n",
        "# Required for some algorithms such as ANN\n",
        "\n",
        "from sklearn.utils import shuffle\n",
        "\n",
        "X_train, y_train = shuffle(X_train, y_train, random_state = 10)"
      ]
    },
    {
      "cell_type": "code",
      "execution_count": 32,
      "metadata": {
        "id": "5pMqZtYUvo3T"
      },
      "outputs": [],
      "source": [
        "# Evaluation Metrics\n",
        "\n",
        "from sklearn.metrics import confusion_matrix, recall_score, f1_score, roc_auc_score, accuracy_score\n",
        "\n",
        "def evaluation_metrics(y_true, y_pred):\n",
        "  cfm = confusion_matrix(y_true, y_pred).ravel()\n",
        "  acc = accuracy_score(y_true, y_pred)\n",
        "  recs = recall_score(y_true, y_pred, average='binary')\n",
        "  f1s = f1_score(y_true, y_pred, average='binary')\n",
        "  rocs = roc_auc_score(y_true, y_pred, average='macro')\n",
        "  return [cfm, acc, recs, f1s, rocs]"
      ]
    },
    {
      "cell_type": "markdown",
      "metadata": {
        "id": "bDAw6kBSvqrd"
      },
      "source": [
        "Confusion matrix format : [ tn , fp , fn , tp ]"
      ]
    },
    {
      "cell_type": "code",
      "execution_count": 33,
      "metadata": {
        "id": "2m4kHhLmvnxj"
      },
      "outputs": [],
      "source": [
        "# Store Model Parameters and Eval\n",
        "\n",
        "models = pd.DataFrame(columns = ['model_name', 'model', 'parameters'])\n",
        "models_eval = pd.DataFrame(columns = ['model_name', 'confusion_matrix', 'accuracy', 'recall', 'f1_score', 'roc_auc_score'])"
      ]
    },
    {
      "cell_type": "code",
      "execution_count": 34,
      "metadata": {
        "id": "fFvGo3IYwC3h"
      },
      "outputs": [],
      "source": [
        "# Import ML Algorithms\n",
        "\n",
        "from sklearn.linear_model import LogisticRegression\n",
        "from sklearn.svm import SVC\n",
        "from sklearn.naive_bayes import GaussianNB\n",
        "from sklearn.neighbors import KNeighborsClassifier\n",
        "from sklearn.ensemble import RandomForestClassifier\n",
        "from sklearn.tree import DecisionTreeClassifier\n",
        "from sklearn.ensemble import GradientBoostingClassifier\n",
        "import xgboost\n",
        "from xgboost import XGBClassifier\n",
        "import lightgbm\n",
        "from lightgbm import LGBMClassifier\n",
        "import tensorflow as tf\n",
        "from tensorflow import keras\n",
        "from sklearn.ensemble import VotingClassifier\n",
        "\n",
        "# RandomizedSearchCV\n",
        "\n",
        "from sklearn.model_selection import RandomizedSearchCV"
      ]
    },
    {
      "cell_type": "markdown",
      "metadata": {
        "id": "ez3z3utYt1Y4"
      },
      "source": [
        "## Logistic Regression\n",
        "\n",
        "- Library: Scikit-learn"
      ]
    },
    {
      "cell_type": "code",
      "execution_count": 17,
      "metadata": {
        "colab": {
          "base_uri": "https://localhost:8080/"
        },
        "id": "fiXiFiYsZSB6",
        "outputId": "d21939b9-1271-434a-8de6-df6be708dd39"
      },
      "outputs": [
        {
          "output_type": "stream",
          "name": "stderr",
          "text": [
            "/usr/local/lib/python3.9/dist-packages/sklearn/linear_model/_logistic.py:1173: FutureWarning: `penalty='none'`has been deprecated in 1.2 and will be removed in 1.4. To keep the past behaviour, set `penalty=None`.\n",
            "  warnings.warn(\n"
          ]
        }
      ],
      "source": [
        "# Training\n",
        "\n",
        "name = 'log_clf'\n",
        "\n",
        "train = pd.DataFrame(columns = ['penalty', 'warm_start', 'solver', 'max_iter', 'dual', 'n_jobs','random_state'])\n",
        "train = train.append({'penalty' : 'none', 'warm_start': False, 'solver': 'newton-cg',  'max_iter': 247,  'dual': False, 'n_jobs': -1, 'random_state': 10}, ignore_index=True)\n",
        "train = train.append({'penalty' : 'l2', 'warm_start': False, 'solver': 'newton-cg',  'max_iter': 100,  'dual': False, 'n_jobs': -1, 'random_state': 10}, ignore_index=True)\n",
        "\n",
        "train = train.reset_index()\n",
        "for index, row in train.iterrows():\n",
        "    model_name = name + str(index)\n",
        "    log_clf = LogisticRegression(penalty = row['penalty'], n_jobs = int(row['n_jobs']), random_state = int(row['random_state']))\n",
        "    log_clf.fit(X_train, y_train)\n",
        "   \n",
        "    y_true = y_val\n",
        "    y_pred = log_clf.predict(X_val)\n",
        "    evaluation_results = evaluation_metrics(y_true, y_pred)\n",
        "\n",
        "    models = models.append({'model_name': model_name, \n",
        "                            'model': log_clf, \n",
        "                            'parameters': log_clf.get_params()}, \n",
        "                            ignore_index=True)\n",
        "   \n",
        "    models_eval = models_eval.append({'model_name': model_name, \n",
        "                                      'confusion_matrix' : evaluation_results[0], \n",
        "                                      'accuracy': evaluation_results[1], \n",
        "                                      'recall' : evaluation_results[2], \n",
        "                                      'f1_score': evaluation_results[3], \n",
        "                                      'roc_auc_score': evaluation_results[4]}, \n",
        "                                      ignore_index=True)"
      ]
    },
    {
      "cell_type": "code",
      "execution_count": 18,
      "metadata": {
        "colab": {
          "base_uri": "https://localhost:8080/",
          "height": 112
        },
        "id": "w5hD6F2kX9ih",
        "outputId": "79940851-73dc-475a-da59-4fab50b95843"
      },
      "outputs": [
        {
          "output_type": "display_data",
          "data": {
            "text/plain": [
              "  model_name       confusion_matrix  accuracy    recall  f1_score  \\\n",
              "0   log_clf0  [10970, 6098, 55, 67]  0.642059  0.549180  0.021314   \n",
              "1   log_clf1  [10973, 6095, 56, 66]  0.642176  0.540984  0.021009   \n",
              "\n",
              "   roc_auc_score  \n",
              "0       0.595952  \n",
              "1       0.591941  "
            ],
            "text/html": [
              "\n",
              "  <div id=\"df-14f2759f-b301-46d0-ac9a-dc5adb376d90\">\n",
              "    <div class=\"colab-df-container\">\n",
              "      <div>\n",
              "<style scoped>\n",
              "    .dataframe tbody tr th:only-of-type {\n",
              "        vertical-align: middle;\n",
              "    }\n",
              "\n",
              "    .dataframe tbody tr th {\n",
              "        vertical-align: top;\n",
              "    }\n",
              "\n",
              "    .dataframe thead th {\n",
              "        text-align: right;\n",
              "    }\n",
              "</style>\n",
              "<table border=\"1\" class=\"dataframe\">\n",
              "  <thead>\n",
              "    <tr style=\"text-align: right;\">\n",
              "      <th></th>\n",
              "      <th>model_name</th>\n",
              "      <th>confusion_matrix</th>\n",
              "      <th>accuracy</th>\n",
              "      <th>recall</th>\n",
              "      <th>f1_score</th>\n",
              "      <th>roc_auc_score</th>\n",
              "    </tr>\n",
              "  </thead>\n",
              "  <tbody>\n",
              "    <tr>\n",
              "      <th>0</th>\n",
              "      <td>log_clf0</td>\n",
              "      <td>[10970, 6098, 55, 67]</td>\n",
              "      <td>0.642059</td>\n",
              "      <td>0.549180</td>\n",
              "      <td>0.021314</td>\n",
              "      <td>0.595952</td>\n",
              "    </tr>\n",
              "    <tr>\n",
              "      <th>1</th>\n",
              "      <td>log_clf1</td>\n",
              "      <td>[10973, 6095, 56, 66]</td>\n",
              "      <td>0.642176</td>\n",
              "      <td>0.540984</td>\n",
              "      <td>0.021009</td>\n",
              "      <td>0.591941</td>\n",
              "    </tr>\n",
              "  </tbody>\n",
              "</table>\n",
              "</div>\n",
              "      <button class=\"colab-df-convert\" onclick=\"convertToInteractive('df-14f2759f-b301-46d0-ac9a-dc5adb376d90')\"\n",
              "              title=\"Convert this dataframe to an interactive table.\"\n",
              "              style=\"display:none;\">\n",
              "        \n",
              "  <svg xmlns=\"http://www.w3.org/2000/svg\" height=\"24px\"viewBox=\"0 0 24 24\"\n",
              "       width=\"24px\">\n",
              "    <path d=\"M0 0h24v24H0V0z\" fill=\"none\"/>\n",
              "    <path d=\"M18.56 5.44l.94 2.06.94-2.06 2.06-.94-2.06-.94-.94-2.06-.94 2.06-2.06.94zm-11 1L8.5 8.5l.94-2.06 2.06-.94-2.06-.94L8.5 2.5l-.94 2.06-2.06.94zm10 10l.94 2.06.94-2.06 2.06-.94-2.06-.94-.94-2.06-.94 2.06-2.06.94z\"/><path d=\"M17.41 7.96l-1.37-1.37c-.4-.4-.92-.59-1.43-.59-.52 0-1.04.2-1.43.59L10.3 9.45l-7.72 7.72c-.78.78-.78 2.05 0 2.83L4 21.41c.39.39.9.59 1.41.59.51 0 1.02-.2 1.41-.59l7.78-7.78 2.81-2.81c.8-.78.8-2.07 0-2.86zM5.41 20L4 18.59l7.72-7.72 1.47 1.35L5.41 20z\"/>\n",
              "  </svg>\n",
              "      </button>\n",
              "      \n",
              "  <style>\n",
              "    .colab-df-container {\n",
              "      display:flex;\n",
              "      flex-wrap:wrap;\n",
              "      gap: 12px;\n",
              "    }\n",
              "\n",
              "    .colab-df-convert {\n",
              "      background-color: #E8F0FE;\n",
              "      border: none;\n",
              "      border-radius: 50%;\n",
              "      cursor: pointer;\n",
              "      display: none;\n",
              "      fill: #1967D2;\n",
              "      height: 32px;\n",
              "      padding: 0 0 0 0;\n",
              "      width: 32px;\n",
              "    }\n",
              "\n",
              "    .colab-df-convert:hover {\n",
              "      background-color: #E2EBFA;\n",
              "      box-shadow: 0px 1px 2px rgba(60, 64, 67, 0.3), 0px 1px 3px 1px rgba(60, 64, 67, 0.15);\n",
              "      fill: #174EA6;\n",
              "    }\n",
              "\n",
              "    [theme=dark] .colab-df-convert {\n",
              "      background-color: #3B4455;\n",
              "      fill: #D2E3FC;\n",
              "    }\n",
              "\n",
              "    [theme=dark] .colab-df-convert:hover {\n",
              "      background-color: #434B5C;\n",
              "      box-shadow: 0px 1px 3px 1px rgba(0, 0, 0, 0.15);\n",
              "      filter: drop-shadow(0px 1px 2px rgba(0, 0, 0, 0.3));\n",
              "      fill: #FFFFFF;\n",
              "    }\n",
              "  </style>\n",
              "\n",
              "      <script>\n",
              "        const buttonEl =\n",
              "          document.querySelector('#df-14f2759f-b301-46d0-ac9a-dc5adb376d90 button.colab-df-convert');\n",
              "        buttonEl.style.display =\n",
              "          google.colab.kernel.accessAllowed ? 'block' : 'none';\n",
              "\n",
              "        async function convertToInteractive(key) {\n",
              "          const element = document.querySelector('#df-14f2759f-b301-46d0-ac9a-dc5adb376d90');\n",
              "          const dataTable =\n",
              "            await google.colab.kernel.invokeFunction('convertToInteractive',\n",
              "                                                     [key], {});\n",
              "          if (!dataTable) return;\n",
              "\n",
              "          const docLinkHtml = 'Like what you see? Visit the ' +\n",
              "            '<a target=\"_blank\" href=https://colab.research.google.com/notebooks/data_table.ipynb>data table notebook</a>'\n",
              "            + ' to learn more about interactive tables.';\n",
              "          element.innerHTML = '';\n",
              "          dataTable['output_type'] = 'display_data';\n",
              "          await google.colab.output.renderOutput(dataTable, element);\n",
              "          const docLink = document.createElement('div');\n",
              "          docLink.innerHTML = docLinkHtml;\n",
              "          element.appendChild(docLink);\n",
              "        }\n",
              "      </script>\n",
              "    </div>\n",
              "  </div>\n",
              "  "
            ]
          },
          "metadata": {}
        }
      ],
      "source": [
        "display(models_eval)"
      ]
    },
    {
      "cell_type": "code",
      "execution_count": 19,
      "metadata": {
        "colab": {
          "base_uri": "https://localhost:8080/"
        },
        "id": "efHl6tpGCRSI",
        "outputId": "51d3c3ad-d4f2-4ac5-e1c9-1e0f2cc38f64"
      },
      "outputs": [
        {
          "output_type": "execute_result",
          "data": {
            "text/plain": [
              "[array([0. , 0.1, 0.2, 0.3, 0.4, 0.5, 0.6, 0.7, 0.8, 0.9, 1. ])]"
            ]
          },
          "metadata": {},
          "execution_count": 19
        }
      ],
      "source": [
        "[np.arange(0, 1.1, 0.1)]"
      ]
    },
    {
      "cell_type": "code",
      "execution_count": 20,
      "metadata": {
        "colab": {
          "base_uri": "https://localhost:8080/",
          "height": 1000
        },
        "id": "09I9B42LX8mb",
        "outputId": "73f7927a-99ad-4c59-c500-06522c3c0d55"
      },
      "outputs": [
        {
          "output_type": "stream",
          "name": "stdout",
          "text": [
            "Fitting 3 folds for each of 70 candidates, totalling 210 fits\n",
            "[CV 1/3] END C=0.2, max_iter=100, penalty=l1, solver=newton-cg, warm_start=False;, score=nan total time=   0.1s\n",
            "[CV 2/3] END C=0.2, max_iter=100, penalty=l1, solver=newton-cg, warm_start=False;, score=nan total time=   0.0s\n",
            "[CV 3/3] END C=0.2, max_iter=100, penalty=l1, solver=newton-cg, warm_start=False;, score=nan total time=   0.0s\n"
          ]
        },
        {
          "output_type": "stream",
          "name": "stderr",
          "text": [
            "/usr/local/lib/python3.9/dist-packages/sklearn/linear_model/_logistic.py:1211: UserWarning: 'n_jobs' > 1 does not have any effect when 'solver' is set to 'liblinear'. Got 'n_jobs' = 2.\n",
            "  warnings.warn(\n"
          ]
        },
        {
          "output_type": "stream",
          "name": "stdout",
          "text": [
            "[CV 1/3] END C=0.8, max_iter=400, penalty=l1, solver=liblinear, warm_start=True;, score=0.592 total time=   6.2s\n"
          ]
        },
        {
          "output_type": "stream",
          "name": "stderr",
          "text": [
            "/usr/local/lib/python3.9/dist-packages/sklearn/linear_model/_logistic.py:1211: UserWarning: 'n_jobs' > 1 does not have any effect when 'solver' is set to 'liblinear'. Got 'n_jobs' = 2.\n",
            "  warnings.warn(\n"
          ]
        },
        {
          "output_type": "stream",
          "name": "stdout",
          "text": [
            "[CV 2/3] END C=0.8, max_iter=400, penalty=l1, solver=liblinear, warm_start=True;, score=0.587 total time=   2.9s\n"
          ]
        },
        {
          "output_type": "stream",
          "name": "stderr",
          "text": [
            "/usr/local/lib/python3.9/dist-packages/sklearn/linear_model/_logistic.py:1211: UserWarning: 'n_jobs' > 1 does not have any effect when 'solver' is set to 'liblinear'. Got 'n_jobs' = 2.\n",
            "  warnings.warn(\n"
          ]
        },
        {
          "output_type": "stream",
          "name": "stdout",
          "text": [
            "[CV 3/3] END C=0.8, max_iter=400, penalty=l1, solver=liblinear, warm_start=True;, score=0.585 total time=   2.4s\n",
            "[CV 1/3] END C=0.8, max_iter=400, penalty=l1, solver=newton-cg, warm_start=True;, score=nan total time=   0.0s\n",
            "[CV 2/3] END C=0.8, max_iter=400, penalty=l1, solver=newton-cg, warm_start=True;, score=nan total time=   0.0s\n",
            "[CV 3/3] END C=0.8, max_iter=400, penalty=l1, solver=newton-cg, warm_start=True;, score=nan total time=   0.0s\n"
          ]
        },
        {
          "output_type": "stream",
          "name": "stderr",
          "text": [
            "/usr/local/lib/python3.9/dist-packages/sklearn/linear_model/_logistic.py:1173: FutureWarning: `penalty='none'`has been deprecated in 1.2 and will be removed in 1.4. To keep the past behaviour, set `penalty=None`.\n",
            "  warnings.warn(\n",
            "/usr/local/lib/python3.9/dist-packages/sklearn/linear_model/_logistic.py:1181: UserWarning: Setting penalty=None will ignore the C and l1_ratio parameters\n",
            "  warnings.warn(\n"
          ]
        },
        {
          "output_type": "stream",
          "name": "stdout",
          "text": [
            "[CV 1/3] END C=0.4, max_iter=300, penalty=none, solver=lbfgs, warm_start=True;, score=0.592 total time=   1.4s\n"
          ]
        },
        {
          "output_type": "stream",
          "name": "stderr",
          "text": [
            "/usr/local/lib/python3.9/dist-packages/sklearn/linear_model/_logistic.py:1173: FutureWarning: `penalty='none'`has been deprecated in 1.2 and will be removed in 1.4. To keep the past behaviour, set `penalty=None`.\n",
            "  warnings.warn(\n",
            "/usr/local/lib/python3.9/dist-packages/sklearn/linear_model/_logistic.py:1181: UserWarning: Setting penalty=None will ignore the C and l1_ratio parameters\n",
            "  warnings.warn(\n"
          ]
        },
        {
          "output_type": "stream",
          "name": "stdout",
          "text": [
            "[CV 2/3] END C=0.4, max_iter=300, penalty=none, solver=lbfgs, warm_start=True;, score=0.588 total time=   1.4s\n"
          ]
        },
        {
          "output_type": "stream",
          "name": "stderr",
          "text": [
            "/usr/local/lib/python3.9/dist-packages/sklearn/linear_model/_logistic.py:1173: FutureWarning: `penalty='none'`has been deprecated in 1.2 and will be removed in 1.4. To keep the past behaviour, set `penalty=None`.\n",
            "  warnings.warn(\n",
            "/usr/local/lib/python3.9/dist-packages/sklearn/linear_model/_logistic.py:1181: UserWarning: Setting penalty=None will ignore the C and l1_ratio parameters\n",
            "  warnings.warn(\n"
          ]
        },
        {
          "output_type": "stream",
          "name": "stdout",
          "text": [
            "[CV 3/3] END C=0.4, max_iter=300, penalty=none, solver=lbfgs, warm_start=True;, score=0.585 total time=   1.6s\n",
            "[CV 1/3] END C=0.7, max_iter=100, penalty=l2, solver=lbfgs, warm_start=True;, score=0.590 total time=   1.6s\n",
            "[CV 2/3] END C=0.7, max_iter=100, penalty=l2, solver=lbfgs, warm_start=True;, score=0.587 total time=   1.6s\n",
            "[CV 3/3] END C=0.7, max_iter=100, penalty=l2, solver=lbfgs, warm_start=True;, score=0.584 total time=   1.5s\n"
          ]
        },
        {
          "output_type": "stream",
          "name": "stderr",
          "text": [
            "/usr/local/lib/python3.9/dist-packages/sklearn/linear_model/_logistic.py:1211: UserWarning: 'n_jobs' > 1 does not have any effect when 'solver' is set to 'liblinear'. Got 'n_jobs' = 2.\n",
            "  warnings.warn(\n"
          ]
        },
        {
          "output_type": "stream",
          "name": "stdout",
          "text": [
            "[CV 1/3] END C=0.5, max_iter=200, penalty=l1, solver=liblinear, warm_start=True;, score=0.591 total time=   2.3s\n"
          ]
        },
        {
          "output_type": "stream",
          "name": "stderr",
          "text": [
            "/usr/local/lib/python3.9/dist-packages/sklearn/linear_model/_logistic.py:1211: UserWarning: 'n_jobs' > 1 does not have any effect when 'solver' is set to 'liblinear'. Got 'n_jobs' = 2.\n",
            "  warnings.warn(\n"
          ]
        },
        {
          "output_type": "stream",
          "name": "stdout",
          "text": [
            "[CV 2/3] END C=0.5, max_iter=200, penalty=l1, solver=liblinear, warm_start=True;, score=0.587 total time=   2.3s\n"
          ]
        },
        {
          "output_type": "stream",
          "name": "stderr",
          "text": [
            "/usr/local/lib/python3.9/dist-packages/sklearn/linear_model/_logistic.py:1211: UserWarning: 'n_jobs' > 1 does not have any effect when 'solver' is set to 'liblinear'. Got 'n_jobs' = 2.\n",
            "  warnings.warn(\n"
          ]
        },
        {
          "output_type": "stream",
          "name": "stdout",
          "text": [
            "[CV 3/3] END C=0.5, max_iter=200, penalty=l1, solver=liblinear, warm_start=True;, score=0.585 total time=   2.2s\n",
            "[CV 1/3] END C=0.5, max_iter=100, penalty=l1, solver=newton-cg, warm_start=False;, score=nan total time=   0.0s\n",
            "[CV 2/3] END C=0.5, max_iter=100, penalty=l1, solver=newton-cg, warm_start=False;, score=nan total time=   0.0s\n",
            "[CV 3/3] END C=0.5, max_iter=100, penalty=l1, solver=newton-cg, warm_start=False;, score=nan total time=   0.0s\n"
          ]
        },
        {
          "output_type": "stream",
          "name": "stderr",
          "text": [
            "/usr/local/lib/python3.9/dist-packages/sklearn/linear_model/_logistic.py:1173: FutureWarning: `penalty='none'`has been deprecated in 1.2 and will be removed in 1.4. To keep the past behaviour, set `penalty=None`.\n",
            "  warnings.warn(\n",
            "/usr/local/lib/python3.9/dist-packages/sklearn/linear_model/_logistic.py:1181: UserWarning: Setting penalty=None will ignore the C and l1_ratio parameters\n",
            "  warnings.warn(\n"
          ]
        },
        {
          "output_type": "stream",
          "name": "stdout",
          "text": [
            "[CV 1/3] END C=0.1, max_iter=300, penalty=none, solver=lbfgs, warm_start=False;, score=0.592 total time=   1.4s\n"
          ]
        },
        {
          "output_type": "stream",
          "name": "stderr",
          "text": [
            "/usr/local/lib/python3.9/dist-packages/sklearn/linear_model/_logistic.py:1173: FutureWarning: `penalty='none'`has been deprecated in 1.2 and will be removed in 1.4. To keep the past behaviour, set `penalty=None`.\n",
            "  warnings.warn(\n",
            "/usr/local/lib/python3.9/dist-packages/sklearn/linear_model/_logistic.py:1181: UserWarning: Setting penalty=None will ignore the C and l1_ratio parameters\n",
            "  warnings.warn(\n"
          ]
        },
        {
          "output_type": "stream",
          "name": "stdout",
          "text": [
            "[CV 2/3] END C=0.1, max_iter=300, penalty=none, solver=lbfgs, warm_start=False;, score=0.588 total time=   1.5s\n"
          ]
        },
        {
          "output_type": "stream",
          "name": "stderr",
          "text": [
            "/usr/local/lib/python3.9/dist-packages/sklearn/linear_model/_logistic.py:1173: FutureWarning: `penalty='none'`has been deprecated in 1.2 and will be removed in 1.4. To keep the past behaviour, set `penalty=None`.\n",
            "  warnings.warn(\n",
            "/usr/local/lib/python3.9/dist-packages/sklearn/linear_model/_logistic.py:1181: UserWarning: Setting penalty=None will ignore the C and l1_ratio parameters\n",
            "  warnings.warn(\n"
          ]
        },
        {
          "output_type": "stream",
          "name": "stdout",
          "text": [
            "[CV 3/3] END C=0.1, max_iter=300, penalty=none, solver=lbfgs, warm_start=False;, score=0.585 total time=   2.2s\n",
            "[CV 1/3] END C=0.5, max_iter=500, penalty=none, solver=liblinear, warm_start=True;, score=nan total time=   0.0s\n",
            "[CV 2/3] END C=0.5, max_iter=500, penalty=none, solver=liblinear, warm_start=True;, score=nan total time=   0.0s\n",
            "[CV 3/3] END C=0.5, max_iter=500, penalty=none, solver=liblinear, warm_start=True;, score=nan total time=   0.0s\n",
            "[CV 1/3] END C=0.8, max_iter=100, penalty=l1, solver=lbfgs, warm_start=True;, score=nan total time=   0.0s\n",
            "[CV 2/3] END C=0.8, max_iter=100, penalty=l1, solver=lbfgs, warm_start=True;, score=nan total time=   0.0s\n",
            "[CV 3/3] END C=0.8, max_iter=100, penalty=l1, solver=lbfgs, warm_start=True;, score=nan total time=   0.0s\n",
            "[CV 1/3] END C=0.1, max_iter=400, penalty=elasticnet, solver=newton-cg, warm_start=False;, score=nan total time=   0.0s\n",
            "[CV 2/3] END C=0.1, max_iter=400, penalty=elasticnet, solver=newton-cg, warm_start=False;, score=nan total time=   0.0s\n",
            "[CV 3/3] END C=0.1, max_iter=400, penalty=elasticnet, solver=newton-cg, warm_start=False;, score=nan total time=   0.0s\n"
          ]
        },
        {
          "output_type": "stream",
          "name": "stderr",
          "text": [
            "/usr/local/lib/python3.9/dist-packages/sklearn/linear_model/_logistic.py:1211: UserWarning: 'n_jobs' > 1 does not have any effect when 'solver' is set to 'liblinear'. Got 'n_jobs' = 2.\n",
            "  warnings.warn(\n"
          ]
        },
        {
          "output_type": "error",
          "ename": "KeyboardInterrupt",
          "evalue": "ignored",
          "traceback": [
            "\u001b[0;31m---------------------------------------------------------------------------\u001b[0m",
            "\u001b[0;31mKeyboardInterrupt\u001b[0m                         Traceback (most recent call last)",
            "\u001b[0;32m<ipython-input-20-d7a8c238c6cf>\u001b[0m in \u001b[0;36m<module>\u001b[0;34m\u001b[0m\n\u001b[1;32m     17\u001b[0m                                 random_state = 10)\n\u001b[1;32m     18\u001b[0m \u001b[0;34m\u001b[0m\u001b[0m\n\u001b[0;32m---> 19\u001b[0;31m \u001b[0mlog_random\u001b[0m\u001b[0;34m.\u001b[0m\u001b[0mfit\u001b[0m\u001b[0;34m(\u001b[0m\u001b[0mX_train\u001b[0m\u001b[0;34m,\u001b[0m \u001b[0my_train\u001b[0m\u001b[0;34m)\u001b[0m\u001b[0;34m\u001b[0m\u001b[0;34m\u001b[0m\u001b[0m\n\u001b[0m\u001b[1;32m     20\u001b[0m \u001b[0mlog_random\u001b[0m\u001b[0;34m.\u001b[0m\u001b[0mbest_params_\u001b[0m\u001b[0;34m\u001b[0m\u001b[0;34m\u001b[0m\u001b[0m\n",
            "\u001b[0;32m/usr/local/lib/python3.9/dist-packages/sklearn/model_selection/_search.py\u001b[0m in \u001b[0;36mfit\u001b[0;34m(self, X, y, groups, **fit_params)\u001b[0m\n\u001b[1;32m    872\u001b[0m                 \u001b[0;32mreturn\u001b[0m \u001b[0mresults\u001b[0m\u001b[0;34m\u001b[0m\u001b[0;34m\u001b[0m\u001b[0m\n\u001b[1;32m    873\u001b[0m \u001b[0;34m\u001b[0m\u001b[0m\n\u001b[0;32m--> 874\u001b[0;31m             \u001b[0mself\u001b[0m\u001b[0;34m.\u001b[0m\u001b[0m_run_search\u001b[0m\u001b[0;34m(\u001b[0m\u001b[0mevaluate_candidates\u001b[0m\u001b[0;34m)\u001b[0m\u001b[0;34m\u001b[0m\u001b[0;34m\u001b[0m\u001b[0m\n\u001b[0m\u001b[1;32m    875\u001b[0m \u001b[0;34m\u001b[0m\u001b[0m\n\u001b[1;32m    876\u001b[0m             \u001b[0;31m# multimetric is determined here because in the case of a callable\u001b[0m\u001b[0;34m\u001b[0m\u001b[0;34m\u001b[0m\u001b[0m\n",
            "\u001b[0;32m/usr/local/lib/python3.9/dist-packages/sklearn/model_selection/_search.py\u001b[0m in \u001b[0;36m_run_search\u001b[0;34m(self, evaluate_candidates)\u001b[0m\n\u001b[1;32m   1766\u001b[0m     \u001b[0;32mdef\u001b[0m \u001b[0m_run_search\u001b[0m\u001b[0;34m(\u001b[0m\u001b[0mself\u001b[0m\u001b[0;34m,\u001b[0m \u001b[0mevaluate_candidates\u001b[0m\u001b[0;34m)\u001b[0m\u001b[0;34m:\u001b[0m\u001b[0;34m\u001b[0m\u001b[0;34m\u001b[0m\u001b[0m\n\u001b[1;32m   1767\u001b[0m         \u001b[0;34m\"\"\"Search n_iter candidates from param_distributions\"\"\"\u001b[0m\u001b[0;34m\u001b[0m\u001b[0;34m\u001b[0m\u001b[0m\n\u001b[0;32m-> 1768\u001b[0;31m         evaluate_candidates(\n\u001b[0m\u001b[1;32m   1769\u001b[0m             ParameterSampler(\n\u001b[1;32m   1770\u001b[0m                 \u001b[0mself\u001b[0m\u001b[0;34m.\u001b[0m\u001b[0mparam_distributions\u001b[0m\u001b[0;34m,\u001b[0m \u001b[0mself\u001b[0m\u001b[0;34m.\u001b[0m\u001b[0mn_iter\u001b[0m\u001b[0;34m,\u001b[0m \u001b[0mrandom_state\u001b[0m\u001b[0;34m=\u001b[0m\u001b[0mself\u001b[0m\u001b[0;34m.\u001b[0m\u001b[0mrandom_state\u001b[0m\u001b[0;34m\u001b[0m\u001b[0;34m\u001b[0m\u001b[0m\n",
            "\u001b[0;32m/usr/local/lib/python3.9/dist-packages/sklearn/model_selection/_search.py\u001b[0m in \u001b[0;36mevaluate_candidates\u001b[0;34m(candidate_params, cv, more_results)\u001b[0m\n\u001b[1;32m    819\u001b[0m                     )\n\u001b[1;32m    820\u001b[0m \u001b[0;34m\u001b[0m\u001b[0m\n\u001b[0;32m--> 821\u001b[0;31m                 out = parallel(\n\u001b[0m\u001b[1;32m    822\u001b[0m                     delayed(_fit_and_score)(\n\u001b[1;32m    823\u001b[0m                         \u001b[0mclone\u001b[0m\u001b[0;34m(\u001b[0m\u001b[0mbase_estimator\u001b[0m\u001b[0;34m)\u001b[0m\u001b[0;34m,\u001b[0m\u001b[0;34m\u001b[0m\u001b[0;34m\u001b[0m\u001b[0m\n",
            "\u001b[0;32m/usr/local/lib/python3.9/dist-packages/sklearn/utils/parallel.py\u001b[0m in \u001b[0;36m__call__\u001b[0;34m(self, iterable)\u001b[0m\n\u001b[1;32m     61\u001b[0m             \u001b[0;32mfor\u001b[0m \u001b[0mdelayed_func\u001b[0m\u001b[0;34m,\u001b[0m \u001b[0margs\u001b[0m\u001b[0;34m,\u001b[0m \u001b[0mkwargs\u001b[0m \u001b[0;32min\u001b[0m \u001b[0miterable\u001b[0m\u001b[0;34m\u001b[0m\u001b[0;34m\u001b[0m\u001b[0m\n\u001b[1;32m     62\u001b[0m         )\n\u001b[0;32m---> 63\u001b[0;31m         \u001b[0;32mreturn\u001b[0m \u001b[0msuper\u001b[0m\u001b[0;34m(\u001b[0m\u001b[0;34m)\u001b[0m\u001b[0;34m.\u001b[0m\u001b[0m__call__\u001b[0m\u001b[0;34m(\u001b[0m\u001b[0miterable_with_config\u001b[0m\u001b[0;34m)\u001b[0m\u001b[0;34m\u001b[0m\u001b[0;34m\u001b[0m\u001b[0m\n\u001b[0m\u001b[1;32m     64\u001b[0m \u001b[0;34m\u001b[0m\u001b[0m\n\u001b[1;32m     65\u001b[0m \u001b[0;34m\u001b[0m\u001b[0m\n",
            "\u001b[0;32m/usr/local/lib/python3.9/dist-packages/joblib/parallel.py\u001b[0m in \u001b[0;36m__call__\u001b[0;34m(self, iterable)\u001b[0m\n\u001b[1;32m   1086\u001b[0m                 \u001b[0mself\u001b[0m\u001b[0;34m.\u001b[0m\u001b[0m_iterating\u001b[0m \u001b[0;34m=\u001b[0m \u001b[0mself\u001b[0m\u001b[0;34m.\u001b[0m\u001b[0m_original_iterator\u001b[0m \u001b[0;32mis\u001b[0m \u001b[0;32mnot\u001b[0m \u001b[0;32mNone\u001b[0m\u001b[0;34m\u001b[0m\u001b[0;34m\u001b[0m\u001b[0m\n\u001b[1;32m   1087\u001b[0m \u001b[0;34m\u001b[0m\u001b[0m\n\u001b[0;32m-> 1088\u001b[0;31m             \u001b[0;32mwhile\u001b[0m \u001b[0mself\u001b[0m\u001b[0;34m.\u001b[0m\u001b[0mdispatch_one_batch\u001b[0m\u001b[0;34m(\u001b[0m\u001b[0miterator\u001b[0m\u001b[0;34m)\u001b[0m\u001b[0;34m:\u001b[0m\u001b[0;34m\u001b[0m\u001b[0;34m\u001b[0m\u001b[0m\n\u001b[0m\u001b[1;32m   1089\u001b[0m                 \u001b[0;32mpass\u001b[0m\u001b[0;34m\u001b[0m\u001b[0;34m\u001b[0m\u001b[0m\n\u001b[1;32m   1090\u001b[0m \u001b[0;34m\u001b[0m\u001b[0m\n",
            "\u001b[0;32m/usr/local/lib/python3.9/dist-packages/joblib/parallel.py\u001b[0m in \u001b[0;36mdispatch_one_batch\u001b[0;34m(self, iterator)\u001b[0m\n\u001b[1;32m    899\u001b[0m                 \u001b[0;32mreturn\u001b[0m \u001b[0;32mFalse\u001b[0m\u001b[0;34m\u001b[0m\u001b[0;34m\u001b[0m\u001b[0m\n\u001b[1;32m    900\u001b[0m             \u001b[0;32melse\u001b[0m\u001b[0;34m:\u001b[0m\u001b[0;34m\u001b[0m\u001b[0;34m\u001b[0m\u001b[0m\n\u001b[0;32m--> 901\u001b[0;31m                 \u001b[0mself\u001b[0m\u001b[0;34m.\u001b[0m\u001b[0m_dispatch\u001b[0m\u001b[0;34m(\u001b[0m\u001b[0mtasks\u001b[0m\u001b[0;34m)\u001b[0m\u001b[0;34m\u001b[0m\u001b[0;34m\u001b[0m\u001b[0m\n\u001b[0m\u001b[1;32m    902\u001b[0m                 \u001b[0;32mreturn\u001b[0m \u001b[0;32mTrue\u001b[0m\u001b[0;34m\u001b[0m\u001b[0;34m\u001b[0m\u001b[0m\n\u001b[1;32m    903\u001b[0m \u001b[0;34m\u001b[0m\u001b[0m\n",
            "\u001b[0;32m/usr/local/lib/python3.9/dist-packages/joblib/parallel.py\u001b[0m in \u001b[0;36m_dispatch\u001b[0;34m(self, batch)\u001b[0m\n\u001b[1;32m    817\u001b[0m         \u001b[0;32mwith\u001b[0m \u001b[0mself\u001b[0m\u001b[0;34m.\u001b[0m\u001b[0m_lock\u001b[0m\u001b[0;34m:\u001b[0m\u001b[0;34m\u001b[0m\u001b[0;34m\u001b[0m\u001b[0m\n\u001b[1;32m    818\u001b[0m             \u001b[0mjob_idx\u001b[0m \u001b[0;34m=\u001b[0m \u001b[0mlen\u001b[0m\u001b[0;34m(\u001b[0m\u001b[0mself\u001b[0m\u001b[0;34m.\u001b[0m\u001b[0m_jobs\u001b[0m\u001b[0;34m)\u001b[0m\u001b[0;34m\u001b[0m\u001b[0;34m\u001b[0m\u001b[0m\n\u001b[0;32m--> 819\u001b[0;31m             \u001b[0mjob\u001b[0m \u001b[0;34m=\u001b[0m \u001b[0mself\u001b[0m\u001b[0;34m.\u001b[0m\u001b[0m_backend\u001b[0m\u001b[0;34m.\u001b[0m\u001b[0mapply_async\u001b[0m\u001b[0;34m(\u001b[0m\u001b[0mbatch\u001b[0m\u001b[0;34m,\u001b[0m \u001b[0mcallback\u001b[0m\u001b[0;34m=\u001b[0m\u001b[0mcb\u001b[0m\u001b[0;34m)\u001b[0m\u001b[0;34m\u001b[0m\u001b[0;34m\u001b[0m\u001b[0m\n\u001b[0m\u001b[1;32m    820\u001b[0m             \u001b[0;31m# A job can complete so quickly than its callback is\u001b[0m\u001b[0;34m\u001b[0m\u001b[0;34m\u001b[0m\u001b[0m\n\u001b[1;32m    821\u001b[0m             \u001b[0;31m# called before we get here, causing self._jobs to\u001b[0m\u001b[0;34m\u001b[0m\u001b[0;34m\u001b[0m\u001b[0m\n",
            "\u001b[0;32m/usr/local/lib/python3.9/dist-packages/joblib/_parallel_backends.py\u001b[0m in \u001b[0;36mapply_async\u001b[0;34m(self, func, callback)\u001b[0m\n\u001b[1;32m    206\u001b[0m     \u001b[0;32mdef\u001b[0m \u001b[0mapply_async\u001b[0m\u001b[0;34m(\u001b[0m\u001b[0mself\u001b[0m\u001b[0;34m,\u001b[0m \u001b[0mfunc\u001b[0m\u001b[0;34m,\u001b[0m \u001b[0mcallback\u001b[0m\u001b[0;34m=\u001b[0m\u001b[0;32mNone\u001b[0m\u001b[0;34m)\u001b[0m\u001b[0;34m:\u001b[0m\u001b[0;34m\u001b[0m\u001b[0;34m\u001b[0m\u001b[0m\n\u001b[1;32m    207\u001b[0m         \u001b[0;34m\"\"\"Schedule a func to be run\"\"\"\u001b[0m\u001b[0;34m\u001b[0m\u001b[0;34m\u001b[0m\u001b[0m\n\u001b[0;32m--> 208\u001b[0;31m         \u001b[0mresult\u001b[0m \u001b[0;34m=\u001b[0m \u001b[0mImmediateResult\u001b[0m\u001b[0;34m(\u001b[0m\u001b[0mfunc\u001b[0m\u001b[0;34m)\u001b[0m\u001b[0;34m\u001b[0m\u001b[0;34m\u001b[0m\u001b[0m\n\u001b[0m\u001b[1;32m    209\u001b[0m         \u001b[0;32mif\u001b[0m \u001b[0mcallback\u001b[0m\u001b[0;34m:\u001b[0m\u001b[0;34m\u001b[0m\u001b[0;34m\u001b[0m\u001b[0m\n\u001b[1;32m    210\u001b[0m             \u001b[0mcallback\u001b[0m\u001b[0;34m(\u001b[0m\u001b[0mresult\u001b[0m\u001b[0;34m)\u001b[0m\u001b[0;34m\u001b[0m\u001b[0;34m\u001b[0m\u001b[0m\n",
            "\u001b[0;32m/usr/local/lib/python3.9/dist-packages/joblib/_parallel_backends.py\u001b[0m in \u001b[0;36m__init__\u001b[0;34m(self, batch)\u001b[0m\n\u001b[1;32m    595\u001b[0m         \u001b[0;31m# Don't delay the application, to avoid keeping the input\u001b[0m\u001b[0;34m\u001b[0m\u001b[0;34m\u001b[0m\u001b[0m\n\u001b[1;32m    596\u001b[0m         \u001b[0;31m# arguments in memory\u001b[0m\u001b[0;34m\u001b[0m\u001b[0;34m\u001b[0m\u001b[0m\n\u001b[0;32m--> 597\u001b[0;31m         \u001b[0mself\u001b[0m\u001b[0;34m.\u001b[0m\u001b[0mresults\u001b[0m \u001b[0;34m=\u001b[0m \u001b[0mbatch\u001b[0m\u001b[0;34m(\u001b[0m\u001b[0;34m)\u001b[0m\u001b[0;34m\u001b[0m\u001b[0;34m\u001b[0m\u001b[0m\n\u001b[0m\u001b[1;32m    598\u001b[0m \u001b[0;34m\u001b[0m\u001b[0m\n\u001b[1;32m    599\u001b[0m     \u001b[0;32mdef\u001b[0m \u001b[0mget\u001b[0m\u001b[0;34m(\u001b[0m\u001b[0mself\u001b[0m\u001b[0;34m)\u001b[0m\u001b[0;34m:\u001b[0m\u001b[0;34m\u001b[0m\u001b[0;34m\u001b[0m\u001b[0m\n",
            "\u001b[0;32m/usr/local/lib/python3.9/dist-packages/joblib/parallel.py\u001b[0m in \u001b[0;36m__call__\u001b[0;34m(self)\u001b[0m\n\u001b[1;32m    286\u001b[0m         \u001b[0;31m# change the default number of processes to -1\u001b[0m\u001b[0;34m\u001b[0m\u001b[0;34m\u001b[0m\u001b[0m\n\u001b[1;32m    287\u001b[0m         \u001b[0;32mwith\u001b[0m \u001b[0mparallel_backend\u001b[0m\u001b[0;34m(\u001b[0m\u001b[0mself\u001b[0m\u001b[0;34m.\u001b[0m\u001b[0m_backend\u001b[0m\u001b[0;34m,\u001b[0m \u001b[0mn_jobs\u001b[0m\u001b[0;34m=\u001b[0m\u001b[0mself\u001b[0m\u001b[0;34m.\u001b[0m\u001b[0m_n_jobs\u001b[0m\u001b[0;34m)\u001b[0m\u001b[0;34m:\u001b[0m\u001b[0;34m\u001b[0m\u001b[0;34m\u001b[0m\u001b[0m\n\u001b[0;32m--> 288\u001b[0;31m             return [func(*args, **kwargs)\n\u001b[0m\u001b[1;32m    289\u001b[0m                     for func, args, kwargs in self.items]\n\u001b[1;32m    290\u001b[0m \u001b[0;34m\u001b[0m\u001b[0m\n",
            "\u001b[0;32m/usr/local/lib/python3.9/dist-packages/joblib/parallel.py\u001b[0m in \u001b[0;36m<listcomp>\u001b[0;34m(.0)\u001b[0m\n\u001b[1;32m    286\u001b[0m         \u001b[0;31m# change the default number of processes to -1\u001b[0m\u001b[0;34m\u001b[0m\u001b[0;34m\u001b[0m\u001b[0m\n\u001b[1;32m    287\u001b[0m         \u001b[0;32mwith\u001b[0m \u001b[0mparallel_backend\u001b[0m\u001b[0;34m(\u001b[0m\u001b[0mself\u001b[0m\u001b[0;34m.\u001b[0m\u001b[0m_backend\u001b[0m\u001b[0;34m,\u001b[0m \u001b[0mn_jobs\u001b[0m\u001b[0;34m=\u001b[0m\u001b[0mself\u001b[0m\u001b[0;34m.\u001b[0m\u001b[0m_n_jobs\u001b[0m\u001b[0;34m)\u001b[0m\u001b[0;34m:\u001b[0m\u001b[0;34m\u001b[0m\u001b[0;34m\u001b[0m\u001b[0m\n\u001b[0;32m--> 288\u001b[0;31m             return [func(*args, **kwargs)\n\u001b[0m\u001b[1;32m    289\u001b[0m                     for func, args, kwargs in self.items]\n\u001b[1;32m    290\u001b[0m \u001b[0;34m\u001b[0m\u001b[0m\n",
            "\u001b[0;32m/usr/local/lib/python3.9/dist-packages/sklearn/utils/parallel.py\u001b[0m in \u001b[0;36m__call__\u001b[0;34m(self, *args, **kwargs)\u001b[0m\n\u001b[1;32m    121\u001b[0m             \u001b[0mconfig\u001b[0m \u001b[0;34m=\u001b[0m \u001b[0;34m{\u001b[0m\u001b[0;34m}\u001b[0m\u001b[0;34m\u001b[0m\u001b[0;34m\u001b[0m\u001b[0m\n\u001b[1;32m    122\u001b[0m         \u001b[0;32mwith\u001b[0m \u001b[0mconfig_context\u001b[0m\u001b[0;34m(\u001b[0m\u001b[0;34m**\u001b[0m\u001b[0mconfig\u001b[0m\u001b[0;34m)\u001b[0m\u001b[0;34m:\u001b[0m\u001b[0;34m\u001b[0m\u001b[0;34m\u001b[0m\u001b[0m\n\u001b[0;32m--> 123\u001b[0;31m             \u001b[0;32mreturn\u001b[0m \u001b[0mself\u001b[0m\u001b[0;34m.\u001b[0m\u001b[0mfunction\u001b[0m\u001b[0;34m(\u001b[0m\u001b[0;34m*\u001b[0m\u001b[0margs\u001b[0m\u001b[0;34m,\u001b[0m \u001b[0;34m**\u001b[0m\u001b[0mkwargs\u001b[0m\u001b[0;34m)\u001b[0m\u001b[0;34m\u001b[0m\u001b[0;34m\u001b[0m\u001b[0m\n\u001b[0m",
            "\u001b[0;32m/usr/local/lib/python3.9/dist-packages/sklearn/model_selection/_validation.py\u001b[0m in \u001b[0;36m_fit_and_score\u001b[0;34m(estimator, X, y, scorer, train, test, verbose, parameters, fit_params, return_train_score, return_parameters, return_n_test_samples, return_times, return_estimator, split_progress, candidate_progress, error_score)\u001b[0m\n\u001b[1;32m    684\u001b[0m             \u001b[0mestimator\u001b[0m\u001b[0;34m.\u001b[0m\u001b[0mfit\u001b[0m\u001b[0;34m(\u001b[0m\u001b[0mX_train\u001b[0m\u001b[0;34m,\u001b[0m \u001b[0;34m**\u001b[0m\u001b[0mfit_params\u001b[0m\u001b[0;34m)\u001b[0m\u001b[0;34m\u001b[0m\u001b[0;34m\u001b[0m\u001b[0m\n\u001b[1;32m    685\u001b[0m         \u001b[0;32melse\u001b[0m\u001b[0;34m:\u001b[0m\u001b[0;34m\u001b[0m\u001b[0;34m\u001b[0m\u001b[0m\n\u001b[0;32m--> 686\u001b[0;31m             \u001b[0mestimator\u001b[0m\u001b[0;34m.\u001b[0m\u001b[0mfit\u001b[0m\u001b[0;34m(\u001b[0m\u001b[0mX_train\u001b[0m\u001b[0;34m,\u001b[0m \u001b[0my_train\u001b[0m\u001b[0;34m,\u001b[0m \u001b[0;34m**\u001b[0m\u001b[0mfit_params\u001b[0m\u001b[0;34m)\u001b[0m\u001b[0;34m\u001b[0m\u001b[0;34m\u001b[0m\u001b[0m\n\u001b[0m\u001b[1;32m    687\u001b[0m \u001b[0;34m\u001b[0m\u001b[0m\n\u001b[1;32m    688\u001b[0m     \u001b[0;32mexcept\u001b[0m \u001b[0mException\u001b[0m\u001b[0;34m:\u001b[0m\u001b[0;34m\u001b[0m\u001b[0;34m\u001b[0m\u001b[0m\n",
            "\u001b[0;32m/usr/local/lib/python3.9/dist-packages/sklearn/linear_model/_logistic.py\u001b[0m in \u001b[0;36mfit\u001b[0;34m(self, X, y, sample_weight)\u001b[0m\n\u001b[1;32m   1214\u001b[0m                     \u001b[0;34m\" = {}.\"\u001b[0m\u001b[0;34m.\u001b[0m\u001b[0mformat\u001b[0m\u001b[0;34m(\u001b[0m\u001b[0meffective_n_jobs\u001b[0m\u001b[0;34m(\u001b[0m\u001b[0mself\u001b[0m\u001b[0;34m.\u001b[0m\u001b[0mn_jobs\u001b[0m\u001b[0;34m)\u001b[0m\u001b[0;34m)\u001b[0m\u001b[0;34m\u001b[0m\u001b[0;34m\u001b[0m\u001b[0m\n\u001b[1;32m   1215\u001b[0m                 )\n\u001b[0;32m-> 1216\u001b[0;31m             self.coef_, self.intercept_, self.n_iter_ = _fit_liblinear(\n\u001b[0m\u001b[1;32m   1217\u001b[0m                 \u001b[0mX\u001b[0m\u001b[0;34m,\u001b[0m\u001b[0;34m\u001b[0m\u001b[0;34m\u001b[0m\u001b[0m\n\u001b[1;32m   1218\u001b[0m                 \u001b[0my\u001b[0m\u001b[0;34m,\u001b[0m\u001b[0;34m\u001b[0m\u001b[0;34m\u001b[0m\u001b[0m\n",
            "\u001b[0;32m/usr/local/lib/python3.9/dist-packages/sklearn/svm/_base.py\u001b[0m in \u001b[0;36m_fit_liblinear\u001b[0;34m(X, y, C, fit_intercept, intercept_scaling, class_weight, penalty, dual, verbose, max_iter, tol, random_state, multi_class, loss, epsilon, sample_weight)\u001b[0m\n\u001b[1;32m   1222\u001b[0m \u001b[0;34m\u001b[0m\u001b[0m\n\u001b[1;32m   1223\u001b[0m     \u001b[0msolver_type\u001b[0m \u001b[0;34m=\u001b[0m \u001b[0m_get_liblinear_solver_type\u001b[0m\u001b[0;34m(\u001b[0m\u001b[0mmulti_class\u001b[0m\u001b[0;34m,\u001b[0m \u001b[0mpenalty\u001b[0m\u001b[0;34m,\u001b[0m \u001b[0mloss\u001b[0m\u001b[0;34m,\u001b[0m \u001b[0mdual\u001b[0m\u001b[0;34m)\u001b[0m\u001b[0;34m\u001b[0m\u001b[0;34m\u001b[0m\u001b[0m\n\u001b[0;32m-> 1224\u001b[0;31m     raw_coef_, n_iter_ = liblinear.train_wrap(\n\u001b[0m\u001b[1;32m   1225\u001b[0m         \u001b[0mX\u001b[0m\u001b[0;34m,\u001b[0m\u001b[0;34m\u001b[0m\u001b[0;34m\u001b[0m\u001b[0m\n\u001b[1;32m   1226\u001b[0m         \u001b[0my_ind\u001b[0m\u001b[0;34m,\u001b[0m\u001b[0;34m\u001b[0m\u001b[0;34m\u001b[0m\u001b[0m\n",
            "\u001b[0;31mKeyboardInterrupt\u001b[0m: "
          ]
        }
      ],
      "source": [
        "# RandomizedSearchCV\n",
        "\n",
        "random_grid = {\n",
        "                \"penalty\": ['l1', 'l2', 'elasticnet', 'none'],\n",
        "                \"max_iter\" :[100, 200, 300, 400, 500],\n",
        "                \"warm_start\" : [True, False],\n",
        "                \"solver\" : ['lbfgs', 'newton-cg', 'liblinear'],\n",
        "                \"C\" : [0.1, 0.2, 0.3, 0.4, 0.5, 0.6, 0.7, 0.8, 0.8, 1.0]\n",
        "              }\n",
        "\n",
        "log_random = RandomizedSearchCV(estimator = log_clf, \n",
        "                                param_distributions = random_grid, \n",
        "                                n_iter = 70, \n",
        "                                cv = 3, \n",
        "                                verbose = 3, \n",
        "                                scoring = 'recall',\n",
        "                                random_state = 10)\n",
        "\n",
        "log_random.fit(X_train, y_train)\n",
        "log_random.best_params_"
      ]
    },
    {
      "cell_type": "markdown",
      "metadata": {
        "id": "K6pDMCgDBqPd"
      },
      "source": [
        "Errors expected because there are different supported penalties for different solvers. Increase RandomizedSearchCV iterations to compensate.\n",
        "\n",
        "* ‘lbfgs’ - [‘l2’, None]\n",
        "* ‘liblinear’ - [‘l1’, ‘l2’]\n",
        "* ‘newton-cg’ - [‘l2’, None]\n",
        "\n"
      ]
    },
    {
      "cell_type": "code",
      "execution_count": null,
      "metadata": {
        "id": "GQf2Kg82OkuJ"
      },
      "outputs": [],
      "source": [
        "log_random.best_params_"
      ]
    },
    {
      "cell_type": "code",
      "execution_count": null,
      "metadata": {
        "id": "rSyim973PLda"
      },
      "outputs": [],
      "source": [
        "log_random.best_score_"
      ]
    },
    {
      "cell_type": "markdown",
      "metadata": {
        "id": "oBBQ_iust1eb"
      },
      "source": [
        "## Support Vector Machine (SVM)\n",
        "\n",
        "- Library: Scikit-learn"
      ]
    },
    {
      "cell_type": "markdown",
      "metadata": {
        "id": "-DJDztBnUV6b"
      },
      "source": [
        "Approach 1: Undersampling to lower number of training samples and reduce learning time"
      ]
    },
    {
      "cell_type": "code",
      "execution_count": null,
      "metadata": {
        "id": "tsq0c55qZSVE"
      },
      "outputs": [],
      "source": [
        "X_train_SVM = Original[0]\n",
        "X_val_SVM = Original[1]\n",
        "y_train_SVM = Original[3]\n",
        "y_val_SVM = Original[4]"
      ]
    },
    {
      "cell_type": "code",
      "execution_count": null,
      "metadata": {
        "id": "OlCn_HS1dItl"
      },
      "outputs": [],
      "source": [
        "display(y_train_SVM.value_counts())"
      ]
    },
    {
      "cell_type": "code",
      "execution_count": null,
      "metadata": {
        "id": "wPwHlXKMdiO9"
      },
      "outputs": [],
      "source": [
        "# Undersampling & Shuffle\n",
        "\n",
        "from imblearn.under_sampling import RandomUnderSampler\n",
        "\n",
        "rus = RandomUnderSampler(random_state=10)\n",
        "X_train_SVM, y_train_SVM = rus.fit_resample(X_train_SVM, y_train_SVM)\n",
        "X_train_SVM, y_train_SVM = shuffle(X_train_SVM, y_train_SVM, random_state = 10)"
      ]
    },
    {
      "cell_type": "code",
      "execution_count": null,
      "metadata": {
        "id": "9by4YC8tdj47"
      },
      "outputs": [],
      "source": [
        "display(y_train_SVM.value_counts())"
      ]
    },
    {
      "cell_type": "code",
      "execution_count": null,
      "metadata": {
        "id": "XsSKT8gmdoVT"
      },
      "outputs": [],
      "source": [
        "# Training\n",
        "\n",
        "name = 'svc_clf'\n",
        "\n",
        "train = pd.DataFrame(columns = ['kernel', 'random_state'])\n",
        "train = train.append({'kernel' : 'rbf', 'random_state': 10}, ignore_index=True)\n",
        "train = train.append({'kernel' : 'poly', 'random_state': 10}, ignore_index=True)\n",
        "train = train.append({'kernel' : 'sigmoid', 'random_state': 10}, ignore_index=True)\n",
        "\n",
        "train = train.reset_index()\n",
        "for index, row in train.iterrows():\n",
        "    model_name = name + str(index)\n",
        "    print(\"Currently at :\" , model_name)\n",
        "    svc_clf = SVC(kernel=row[\"kernel\"], random_state = int(row[\"random_state\"]))\n",
        "    svc_clf.fit(X_train_SVM, y_train_SVM)\n",
        "    \n",
        "    y_true = y_val_SVM\n",
        "    y_pred = svc_clf.predict(X_val_SVM)\n",
        "    evaluation_results = evaluation_metrics(y_true, y_pred)\n",
        "\n",
        "    models = models.append({'model_name': model_name, \n",
        "                            'model': svc_clf, \n",
        "                            'parameters': svc_clf.get_params()}, \n",
        "                            ignore_index=True)\n",
        "    \n",
        "    models_eval = models_eval.append({'model_name': model_name, \n",
        "                                      'confusion_matrix' : evaluation_results[0], \n",
        "                                      'accuracy': evaluation_results[1], \n",
        "                                      'recall' : evaluation_results[2], \n",
        "                                      'f1_score': evaluation_results[3], \n",
        "                                      'roc_auc_score': evaluation_results[4]}, \n",
        "                                      ignore_index=True)"
      ]
    },
    {
      "cell_type": "code",
      "execution_count": null,
      "metadata": {
        "id": "Wb-YSYc9VwpI"
      },
      "outputs": [],
      "source": [
        "display(models_eval)"
      ]
    },
    {
      "cell_type": "markdown",
      "metadata": {
        "id": "qrWtVscoHjwp"
      },
      "source": [
        "The best kernel is rbf for recall score. All kernel gives poor F1-score"
      ]
    },
    {
      "cell_type": "markdown",
      "metadata": {
        "id": "dMGtSxvfUekT"
      },
      "source": [
        "Approach 2: Class-weighted SVM with original amount of data (before SMOTE)"
      ]
    },
    {
      "cell_type": "code",
      "execution_count": null,
      "metadata": {
        "id": "ySImEnhqGWbH"
      },
      "outputs": [],
      "source": [
        "X_train_SVM = Original[0]\n",
        "X_val_SVM = Original[1]\n",
        "y_train_SVM = Original[3]\n",
        "y_val_SVM = Original[4]"
      ]
    },
    {
      "cell_type": "code",
      "execution_count": null,
      "metadata": {
        "id": "ugeOje0B-dZ1"
      },
      "outputs": [],
      "source": [
        "# Shuffle\n",
        "\n",
        "X_train_SVM, y_train_SVM = shuffle(X_train_SVM, y_train_SVM, random_state = 10)"
      ]
    },
    {
      "cell_type": "code",
      "execution_count": null,
      "metadata": {
        "id": "A88D9hpjGYf-"
      },
      "outputs": [],
      "source": [
        "display(y_train_SVM.value_counts())"
      ]
    },
    {
      "cell_type": "code",
      "execution_count": null,
      "metadata": {
        "id": "QGpzJBu7VRov"
      },
      "outputs": [],
      "source": [
        "# Training\n",
        "\n",
        "name = 'svc_clf'\n",
        "\n",
        "train = pd.DataFrame(columns = ['kernel', 'random_state'])\n",
        "train = train.append({'kernel' : 'rbf', 'C': 1, 'random_state': 10}, ignore_index=True)\n",
        "train = train.append({'kernel' : 'rbf', 'C': 2, 'random_state': 10}, ignore_index=True)\n",
        "train = train.append({'kernel' : 'rbf', 'C': 4, 'random_state': 10}, ignore_index=True)\n",
        "train = train.append({'kernel' : 'rbf', 'C': 8, 'random_state': 10}, ignore_index=True)\n",
        "\n",
        "train = train.reset_index()\n",
        "for index, row in train.iterrows():\n",
        "    index = index + 3\n",
        "    model_name = name + str(index)\n",
        "    print(\"Current at \", model_name)\n",
        "    svc_clf = SVC(kernel = row[\"kernel\"], class_weight='balanced', C = int(row[\"C\"]), random_state = int(row[\"random_state\"]))\n",
        "    svc_clf.fit(X_train_SVM, y_train_SVM)\n",
        "    \n",
        "    y_true = y_val_SVM\n",
        "    y_pred = svc_clf.predict(X_val_SVM)\n",
        "    evaluation_results = evaluation_metrics(y_true, y_pred)\n",
        "\n",
        "    models = models.append({'model_name': model_name, \n",
        "                            'model': svc_clf, \n",
        "                            'parameters': svc_clf.get_params()}, \n",
        "                            ignore_index=True)\n",
        "    \n",
        "    models_eval = models_eval.append({'model_name': model_name, \n",
        "                                      'confusion_matrix' : evaluation_results[0], \n",
        "                                      'accuracy': evaluation_results[1], \n",
        "                                      'recall' : evaluation_results[2], \n",
        "                                      'f1_score': evaluation_results[3], \n",
        "                                      'roc_auc_score': evaluation_results[4]}, \n",
        "                                      ignore_index=True)"
      ]
    },
    {
      "cell_type": "code",
      "execution_count": null,
      "metadata": {
        "id": "_18Aktz2aTn5"
      },
      "outputs": [],
      "source": [
        "display(models)"
      ]
    },
    {
      "cell_type": "code",
      "execution_count": null,
      "metadata": {
        "id": "FOc0QQ_FaUTL"
      },
      "outputs": [],
      "source": [
        "display(models_eval)"
      ]
    },
    {
      "cell_type": "markdown",
      "metadata": {
        "id": "v35KdCcEGL7J"
      },
      "source": [
        "Best Parameters: \n",
        "\n",
        "{'kernel': 'rbf', 'C' : '8', 'class_weight'='balanced'}"
      ]
    },
    {
      "cell_type": "markdown",
      "metadata": {
        "id": "Tzx0wl2ht1R1"
      },
      "source": [
        "## Naive Bayes\n",
        "\n",
        "- Library: Scikit-learn"
      ]
    },
    {
      "cell_type": "code",
      "execution_count": null,
      "metadata": {
        "id": "xDhLdEgHaVwR"
      },
      "outputs": [],
      "source": [
        "# Training\n",
        "\n",
        "name = 'bayes_clf'\n",
        "\n",
        "train = pd.DataFrame(columns = ['var_smoothing'])\n",
        "train = train.append({'var_smoothing': 1e-0}, ignore_index=True)\n",
        "train = train.append({'var_smoothing': 1e-1}, ignore_index=True)\n",
        "train = train.append({'var_smoothing': 1e-3}, ignore_index=True)\n",
        "train = train.append({'var_smoothing': 1e-5}, ignore_index=True)\n",
        "train = train.append({'var_smoothing': 1e-9}, ignore_index=True)\n",
        "train = train.append({'var_smoothing': 1e-10}, ignore_index=True)\n",
        "train = train.append({'var_smoothing': 1e-20}, ignore_index=True)\n",
        "\n",
        "train = train.reset_index()\n",
        "for index, row in train.iterrows():\n",
        "    model_name = name + str(index)\n",
        "    bayes_clf = GaussianNB(var_smoothing = row['var_smoothing'])\n",
        "    bayes_clf.fit(X_train, y_train)\n",
        "    \n",
        "    y_true = y_val\n",
        "    y_pred = bayes_clf.predict(X_val)\n",
        "    evaluation_results = evaluation_metrics(y_true, y_pred)\n",
        "\n",
        "    models = models.append({'model_name': model_name, \n",
        "                            'model': bayes_clf, \n",
        "                            'parameters': bayes_clf.get_params()}, \n",
        "                            ignore_index=True)\n",
        "    \n",
        "    models_eval = models_eval.append({'model_name': model_name, \n",
        "                                      'confusion_matrix' : evaluation_results[0], \n",
        "                                      'accuracy': evaluation_results[1], \n",
        "                                      'recall' : evaluation_results[2], \n",
        "                                      'f1_score': evaluation_results[3], \n",
        "                                      'roc_auc_score': evaluation_results[4]}, \n",
        "                                      ignore_index=True)"
      ]
    },
    {
      "cell_type": "code",
      "execution_count": null,
      "metadata": {
        "id": "n7Ad5Gr5eH_U"
      },
      "outputs": [],
      "source": [
        "display(models_eval)"
      ]
    },
    {
      "cell_type": "markdown",
      "metadata": {
        "id": "xbdXqp_Rq353"
      },
      "source": [
        "Best Parameters: \n",
        "\n",
        "{'var_smoothing': '1e-3'}"
      ]
    },
    {
      "cell_type": "markdown",
      "metadata": {
        "id": "M_gEyKKnt00q"
      },
      "source": [
        "## K-Nearest Neighbor\n",
        "\n",
        "- Library: Scikit-learn\n",
        "- Shuffling does not affect the model building. No random_state."
      ]
    },
    {
      "cell_type": "code",
      "execution_count": null,
      "metadata": {
        "id": "Vw5TiOkaZTHW"
      },
      "outputs": [],
      "source": [
        "# Training\n",
        "\n",
        "name = 'neigh_clf'\n",
        "\n",
        "train = pd.DataFrame(columns = ['n_neighbors', 'algorithm', 'n_jobs'])\n",
        "train = train.append({'n_neighbors': 5, 'algorithm':'auto', 'n_jobs':-1}, ignore_index=True)\n",
        "train = train.append({'n_neighbors': 1, 'algorithm':'auto', 'n_jobs':-1}, ignore_index=True)\n",
        "train = train.append({'n_neighbors': 20, 'algorithm':'kd_tree', 'n_jobs':-1}, ignore_index=True)\n",
        "\n",
        "train = train.reset_index()\n",
        "for index, row in train.iterrows():\n",
        "    model_name = name + str(index)\n",
        "    neigh_clf = KNeighborsClassifier(n_neighbors=int(row['n_neighbors']), algorithm = row['algorithm'], n_jobs = int(row['n_jobs']))\n",
        "    neigh_clf.fit(X_train, y_train)\n",
        "    \n",
        "    y_true = y_val\n",
        "    y_pred = neigh_clf.predict(X_val)\n",
        "    evaluation_results = evaluation_metrics(y_true, y_pred)\n",
        "\n",
        "    models = models.append({'model_name': model_name, \n",
        "                            'model': neigh_clf, \n",
        "                            'parameters': neigh_clf.get_params()}, \n",
        "                            ignore_index=True)\n",
        "    \n",
        "    models_eval = models_eval.append({'model_name': model_name, \n",
        "                                      'confusion_matrix' : evaluation_results[0], \n",
        "                                      'accuracy': evaluation_results[1], \n",
        "                                      'recall' : evaluation_results[2], \n",
        "                                      'f1_score': evaluation_results[3], \n",
        "                                      'roc_auc_score': evaluation_results[4]}, \n",
        "                                      ignore_index=True)"
      ]
    },
    {
      "cell_type": "code",
      "execution_count": null,
      "metadata": {
        "id": "EvI_e6r-exRk"
      },
      "outputs": [],
      "source": [
        "display(models_eval)"
      ]
    },
    {
      "cell_type": "code",
      "execution_count": null,
      "metadata": {
        "id": "SlJiuLzfen_x"
      },
      "outputs": [],
      "source": [
        "# RandomizedSearchCV\n",
        "\n",
        "random_grid = {\n",
        "                \"n_neighbors\": [int(x) for x in np.linspace(1, 20, num = 20)],\n",
        "                \"algorithm\": ['auto', 'kd_tree','ball_tree']\n",
        "              }\n",
        "\n",
        "neigh_random = RandomizedSearchCV(estimator = neigh_clf, \n",
        "                                  param_distributions = random_grid, \n",
        "                                  n_iter = 50, \n",
        "                                  cv = 3, \n",
        "                                  verbose = 3, \n",
        "                                  scoring = 'recall',\n",
        "                                  random_state = 10)\n",
        "\n",
        "neigh_random.fit(X_train, y_train)\n",
        "neigh_random.best_params_"
      ]
    },
    {
      "cell_type": "code",
      "execution_count": null,
      "metadata": {
        "id": "2G3z6f8vP21Z"
      },
      "outputs": [],
      "source": [
        "neigh_random.best_params_"
      ]
    },
    {
      "cell_type": "code",
      "execution_count": null,
      "metadata": {
        "id": "kTB3Zxm-PUu4"
      },
      "outputs": [],
      "source": [
        "neigh_random.best_score_"
      ]
    },
    {
      "cell_type": "markdown",
      "metadata": {
        "id": "brtgIH7pt1jO"
      },
      "source": [
        "## Decision Tree\n",
        "\n",
        "- Library: Scikit-learn"
      ]
    },
    {
      "cell_type": "code",
      "execution_count": null,
      "metadata": {
        "id": "sgwicO4LbXRt"
      },
      "outputs": [],
      "source": [
        "# Training\n",
        "\n",
        "name = 'tree_clf'\n",
        "\n",
        "train = pd.DataFrame(columns = ['criterion', 'splitter', 'min_samples_leaf', 'max_features', 'max_depth', 'n_jobs', 'random_state'])\n",
        "train = train.append({'criterion' : 'gini', 'splitter': 'best', 'min_samples_leaf': 1, 'max_features': 9, 'max_depth': None, 'random_state': 10}, ignore_index=True)\n",
        "train = train.append({'criterion' : 'entropy', 'splitter': 'best', 'min_samples_leaf': 1, 'max_features': 9, 'max_depth': None, 'random_state': 10}, ignore_index=True)\n",
        "train = train.append({'criterion' : 'gini', 'splitter': 'random', 'min_samples_leaf': 1, 'max_features': \"auto\", 'max_depth': None, 'random_state': 10}, ignore_index=True)\n",
        "train = train.append({'criterion' : 'entropy', 'splitter': 'random', 'min_samples_leaf': 1, 'max_features': \"auto\", 'max_depth': None, 'random_state': 10}, ignore_index=True)\n",
        "\n",
        "train = train.reset_index()\n",
        "for index, row in train.iterrows():\n",
        "    model_name = name + str(index)\n",
        "    tree_clf = DecisionTreeClassifier(criterion = row['criterion'], splitter = row['splitter'], max_depth = None, random_state = row['random_state'])\n",
        "    tree_clf.fit(X_train, y_train)\n",
        "    \n",
        "    y_true = y_val\n",
        "    y_pred = tree_clf.predict(X_val)\n",
        "    evaluation_results = evaluation_metrics(y_true, y_pred)\n",
        "\n",
        "    models = models.append({'model_name': model_name, \n",
        "                            'model': tree_clf, \n",
        "                            'parameters': tree_clf.get_params()}, \n",
        "                            ignore_index=True)\n",
        "    \n",
        "    models_eval = models_eval.append({'model_name': model_name, \n",
        "                                      'confusion_matrix' : evaluation_results[0], \n",
        "                                      'accuracy': evaluation_results[1], \n",
        "                                      'recall' : evaluation_results[2], \n",
        "                                      'f1_score': evaluation_results[3], \n",
        "                                      'roc_auc_score': evaluation_results[4]}, \n",
        "                                      ignore_index=True)"
      ]
    },
    {
      "cell_type": "code",
      "execution_count": null,
      "metadata": {
        "id": "YC01I-OZbZQU"
      },
      "outputs": [],
      "source": [
        "display(models_eval)"
      ]
    },
    {
      "cell_type": "code",
      "execution_count": null,
      "metadata": {
        "id": "HuK06hK8bZ_r"
      },
      "outputs": [],
      "source": [
        "# RandomizedSearchCV\n",
        "\n",
        "max_depth = [1, 3, 5, 8, 10, 15]\n",
        "max_depth.append(None)\n",
        "\n",
        "random_grid = {\n",
        "              \"max_depth\": max_depth,\n",
        "              \"max_features\": [int(x) for x in np.linspace(1, len(X_train.columns), num = len(X_train.columns))],\n",
        "              \"min_samples_leaf\": [int(x) for x in np.linspace(1, len(X_train.columns), num = len(X_train.columns))],\n",
        "              \"criterion\": [\"gini\", \"entropy\", \"log_loss\"],\n",
        "              \"splitter\": [\"random\", \"best\"]\n",
        "              }\n",
        "\n",
        "tree_random = RandomizedSearchCV(estimator = tree_clf, \n",
        "                                 param_distributions = random_grid, \n",
        "                                 n_iter = 100, \n",
        "                                 cv = 3, \n",
        "                                 verbose = 3, \n",
        "                                 scoring = 'recall',\n",
        "                                 random_state = 10)\n",
        "\n",
        "tree_random.fit(X_train, y_train)\n",
        "tree_random.best_params_"
      ]
    },
    {
      "cell_type": "code",
      "execution_count": null,
      "metadata": {
        "id": "2vMPck5n8EAi"
      },
      "outputs": [],
      "source": [
        "tree_random.best_params_"
      ]
    },
    {
      "cell_type": "code",
      "execution_count": null,
      "metadata": {
        "id": "7XhQr9Cc8EuF"
      },
      "outputs": [],
      "source": [
        "tree_random.best_score_"
      ]
    },
    {
      "cell_type": "markdown",
      "metadata": {
        "id": "e5dbRikwt1ov"
      },
      "source": [
        "## Random Forest Classifier\n",
        "\n",
        "- Library: Scikit-learn"
      ]
    },
    {
      "cell_type": "code",
      "execution_count": null,
      "metadata": {
        "id": "GuRwiYIX8Giw"
      },
      "outputs": [],
      "source": [
        "# Training\n",
        "\n",
        "name = 'rnd_clf'\n",
        "\n",
        "train = pd.DataFrame(columns = ['n_estimators', 'min_samples_split', 'min_samples_leaf', 'max_features','max_depth', 'n_jobs', 'random_state'])\n",
        "train = train.append({'n_estimators' : 100, 'min_samples_split': 5, 'min_samples_leaf': 1, 'max_features': 'auto', 'max_depth' : None, 'n_jobs': -1, 'random_state': 10}, ignore_index=True)\n",
        "train = train.append({'n_estimators' : 300, 'min_samples_split': 2, 'min_samples_leaf': 1, 'max_features': 'auto', 'max_depth' : 31, 'n_jobs': -1, 'random_state': 10}, ignore_index=True)\n",
        "train = train.append({'n_estimators' : 300, 'min_samples_split': 3, 'min_samples_leaf': 1, 'max_features': 'auto', 'max_depth' : None, 'n_jobs': -1, 'random_state': 10}, ignore_index=True)\n",
        "\n",
        "train = train.reset_index()\n",
        "for index, row in train.iterrows():\n",
        "    model_name = name + str(index)\n",
        "    rnd_clf = RandomForestClassifier(n_estimators = int(row['n_estimators']), max_depth = None, \n",
        "                                    n_jobs = int(row['n_jobs']), random_state = int(row['random_state']))\n",
        "    rnd_clf.fit(X_train, y_train)\n",
        "    \n",
        "    y_true = y_val\n",
        "    y_pred = rnd_clf.predict(X_val)\n",
        "    evaluation_results = evaluation_metrics(y_true, y_pred)\n",
        "\n",
        "    models = models.append({'model_name': model_name, \n",
        "                            'model': rnd_clf, \n",
        "                            'parameters': rnd_clf.get_params()}, \n",
        "                            ignore_index=True)\n",
        "    \n",
        "    models_eval = models_eval.append({'model_name': model_name, \n",
        "                                      'confusion_matrix' : evaluation_results[0], \n",
        "                                      'accuracy': evaluation_results[1], \n",
        "                                      'recall' : evaluation_results[2], \n",
        "                                      'f1_score': evaluation_results[3], \n",
        "                                      'roc_auc_score': evaluation_results[4]}, \n",
        "                                      ignore_index=True)"
      ]
    },
    {
      "cell_type": "code",
      "execution_count": null,
      "metadata": {
        "id": "8-QVWDIU8Hhy"
      },
      "outputs": [],
      "source": [
        "display(models_eval)"
      ]
    },
    {
      "cell_type": "code",
      "execution_count": null,
      "metadata": {
        "id": "IhoNEKJN8JSz"
      },
      "outputs": [],
      "source": [
        "# RandomizedSearchCV\n",
        "\n",
        "# Number of trees in random forest\n",
        "n_estimators = [100, 200, 300, 400, 500]\n",
        "# Number of features to consider at every split\n",
        "max_features = [int(x) for x in np.linspace(1, len(X_train.columns), num = len(X_train.columns))]\n",
        "# Maximum number of levels in tree\n",
        "max_depth = [1, 3, 5, 8, 10, 15]\n",
        "max_depth.append(None)\n",
        "# Minimum number of samples required to split a node\n",
        "min_samples_split = [2, 3, 5, 6, 10]\n",
        "# Minimum number of samples required at each leaf node\n",
        "min_samples_leaf = [1, 2, 4]\n",
        "\n",
        "# Create the random grid\n",
        "random_grid = {\n",
        "               'n_estimators': n_estimators,\n",
        "               'max_features': max_features,\n",
        "               'max_depth': max_depth,\n",
        "               'min_samples_split': min_samples_split,\n",
        "               'min_samples_leaf': min_samples_leaf,\n",
        "              }\n",
        "\n",
        "rnd_random = RandomizedSearchCV(estimator = rnd_clf, \n",
        "                                param_distributions = random_grid, \n",
        "                                n_iter = 50, \n",
        "                                cv = 3, \n",
        "                                verbose = 3, \n",
        "                                scoring = 'recall',\n",
        "                                random_state = 10)\n",
        "\n",
        "rnd_random.fit(X_train, y_train)\n",
        "rnd_random.best_params_"
      ]
    },
    {
      "cell_type": "code",
      "execution_count": null,
      "metadata": {
        "id": "9JdZxZ03KdPs"
      },
      "outputs": [],
      "source": [
        "rnd_random.best_params_"
      ]
    },
    {
      "cell_type": "code",
      "execution_count": null,
      "metadata": {
        "id": "ZAW2m9t_KeN3"
      },
      "outputs": [],
      "source": [
        "rnd_random.best_score_"
      ]
    },
    {
      "cell_type": "markdown",
      "metadata": {
        "id": "-0VzXIIcuTah"
      },
      "source": [
        "## Gradient Boosting Classifier\n",
        "\n",
        "- Library: Scikit-learn"
      ]
    },
    {
      "cell_type": "code",
      "execution_count": null,
      "metadata": {
        "id": "LLnnnelYKl_I"
      },
      "outputs": [],
      "source": [
        "# Training\n",
        "\n",
        "name = 'gboost_clf'\n",
        "\n",
        "train = pd.DataFrame(columns = ['n_estimators', 'learning_rate', 'max_depth', 'random_state'])\n",
        "train = train.append({'n_estimators': 100, 'learning_rate':0.1, 'max_depth':3, 'random_state':10}, ignore_index=True)\n",
        "train = train.append({'n_estimators': 500, 'learning_rate':0.5, 'max_depth':1, 'random_state':10}, ignore_index=True)\n",
        "train = train.append({'n_estimators': 50, 'learning_rate':0.01, 'max_depth':10, 'random_state':10}, ignore_index=True)\n",
        "\n",
        "train = train.reset_index()\n",
        "for index, row in train.iterrows():\n",
        "    model_name = name + str(index)\n",
        "    gboost_clf = GradientBoostingClassifier(n_estimators=int(row['n_estimators']), learning_rate=row['learning_rate'],\n",
        "                                            max_depth=int(row['max_depth']), random_state=int(row['random_state']))\n",
        "    gboost_clf.fit(X_train, y_train)\n",
        "   \n",
        "    y_true = y_val\n",
        "    y_pred = gboost_clf.predict(X_val)\n",
        "    evaluation_results = evaluation_metrics(y_true, y_pred)\n",
        "\n",
        "    models = models.append({'model_name': model_name, \n",
        "                            'model': gboost_clf, \n",
        "                            'parameters': gboost_clf.get_params()}, \n",
        "                            ignore_index=True)\n",
        "   \n",
        "    models_eval = models_eval.append({'model_name': model_name, \n",
        "                                      'confusion_matrix' : evaluation_results[0], \n",
        "                                      'accuracy': evaluation_results[1], \n",
        "                                      'recall' : evaluation_results[2], \n",
        "                                      'f1_score': evaluation_results[3], \n",
        "                                      'roc_auc_score': evaluation_results[4]}, \n",
        "                                      ignore_index=True)"
      ]
    },
    {
      "cell_type": "code",
      "execution_count": null,
      "metadata": {
        "id": "FdHGO8xUKm_P"
      },
      "outputs": [],
      "source": [
        "display(models_eval)"
      ]
    },
    {
      "cell_type": "code",
      "execution_count": null,
      "metadata": {
        "id": "Esowp65835v8"
      },
      "outputs": [],
      "source": [
        "# RandomizedSearchCV\n",
        "\n",
        "random_grid = {\n",
        "              \"n_estimators\": [100, 500, 750, 1000],\n",
        "              \"learning_rate\": [0.01, 0.05, 0.10, 0.15, 0.20, 0.25, 0.30, 0.50],\n",
        "              \"max_depth\": [1, 3, 5, 8, 10, 15]\n",
        "              }\n",
        "\n",
        "gboost_random = RandomizedSearchCV(estimator = gboost_clf, \n",
        "                                 param_distributions = random_grid, \n",
        "                                 n_iter = 15, \n",
        "                                 cv = 3, \n",
        "                                 verbose = 3, \n",
        "                                 scoring = 'recall',\n",
        "                                 random_state = 10)\n",
        "\n",
        "gboost_random.fit(X_train, y_train)\n",
        "gboost_random.best_params_"
      ]
    },
    {
      "cell_type": "code",
      "execution_count": null,
      "metadata": {
        "id": "f6-C1PnUKo9b"
      },
      "outputs": [],
      "source": [
        "gboost_random.best_params_"
      ]
    },
    {
      "cell_type": "code",
      "execution_count": null,
      "metadata": {
        "id": "8MoALn6aKpy4"
      },
      "outputs": [],
      "source": [
        "gboost_random.best_score_"
      ]
    },
    {
      "cell_type": "markdown",
      "metadata": {
        "id": "J3M3ob9buTHm"
      },
      "source": [
        "## XGBoost\n",
        "\n",
        "- Library: xgboost"
      ]
    },
    {
      "cell_type": "code",
      "execution_count": null,
      "metadata": {
        "colab": {
          "background_save": true
        },
        "id": "de182uAYuIE4"
      },
      "outputs": [],
      "source": [
        "# Training\n",
        "\n",
        "name = 'xgboost_clf'\n",
        "\n",
        "train = pd.DataFrame(columns = ['n_estimators', 'learning_rate', 'max_depth', 'random_state'])\n",
        "train = train.append({'n_estimators': 1000, 'learning_rate':0.1, 'max_depth':8, 'random_state':10}, ignore_index=True)\n",
        "train = train.append({'n_estimators': 500, 'learning_rate':0.5, 'max_depth':1, 'random_state':10}, ignore_index=True)\n",
        "train = train.append({'n_estimators': 750, 'learning_rate':0.01, 'max_depth':10, 'random_state':10}, ignore_index=True)\n",
        "\n",
        "train = train.reset_index()\n",
        "for index, row in train.iterrows():\n",
        "    model_name = name + str(index)\n",
        "    xgboost_clf = XGBClassifier(n_estimators=int(row['n_estimators']), learning_rate=row['learning_rate'],\n",
        "                                max_depth=int(row['max_depth']), random_state=int(row['random_state']))\n",
        "    xgboost_clf.fit(X_train, y_train)\n",
        "    \n",
        "    y_true = y_val\n",
        "    y_pred = xgboost_clf.predict(X_val)\n",
        "    evaluation_results = evaluation_metrics(y_true, y_pred)\n",
        "\n",
        "    models = models.append({'model_name': model_name, \n",
        "                            'model': xgboost_clf, \n",
        "                            'parameters': xgboost_clf.get_params()}, \n",
        "                            ignore_index=True)\n",
        "    \n",
        "    models_eval = models_eval.append({'model_name': model_name, \n",
        "                                      'confusion_matrix' : evaluation_results[0], \n",
        "                                      'accuracy': evaluation_results[1], \n",
        "                                      'recall' : evaluation_results[2], \n",
        "                                      'f1_score': evaluation_results[3], \n",
        "                                      'roc_auc_score': evaluation_results[4]}, \n",
        "                                      ignore_index=True)"
      ]
    },
    {
      "cell_type": "code",
      "execution_count": null,
      "metadata": {
        "colab": {
          "background_save": true
        },
        "id": "qrB_NNF_uJSv",
        "outputId": "29b33e9f-1ed4-41c3-a55e-90f6b82cfce0"
      },
      "outputs": [
        {
          "data": {
            "text/html": [
              "\n",
              "  <div id=\"df-03b3d9fd-281f-4239-8fd0-6a4cce5216fc\">\n",
              "    <div class=\"colab-df-container\">\n",
              "      <div>\n",
              "<style scoped>\n",
              "    .dataframe tbody tr th:only-of-type {\n",
              "        vertical-align: middle;\n",
              "    }\n",
              "\n",
              "    .dataframe tbody tr th {\n",
              "        vertical-align: top;\n",
              "    }\n",
              "\n",
              "    .dataframe thead th {\n",
              "        text-align: right;\n",
              "    }\n",
              "</style>\n",
              "<table border=\"1\" class=\"dataframe\">\n",
              "  <thead>\n",
              "    <tr style=\"text-align: right;\">\n",
              "      <th></th>\n",
              "      <th>model_name</th>\n",
              "      <th>confusion_matrix</th>\n",
              "      <th>accuracy</th>\n",
              "      <th>recall</th>\n",
              "      <th>f1_score</th>\n",
              "      <th>roc_auc_score</th>\n",
              "    </tr>\n",
              "  </thead>\n",
              "  <tbody>\n",
              "    <tr>\n",
              "      <th>0</th>\n",
              "      <td>xgboost_clf0</td>\n",
              "      <td>[16995, 73, 21, 101]</td>\n",
              "      <td>0.994532</td>\n",
              "      <td>0.827869</td>\n",
              "      <td>0.682432</td>\n",
              "      <td>0.911796</td>\n",
              "    </tr>\n",
              "    <tr>\n",
              "      <th>1</th>\n",
              "      <td>xgboost_clf1</td>\n",
              "      <td>[14793, 2275, 22, 100]</td>\n",
              "      <td>0.866376</td>\n",
              "      <td>0.819672</td>\n",
              "      <td>0.080096</td>\n",
              "      <td>0.843191</td>\n",
              "    </tr>\n",
              "    <tr>\n",
              "      <th>2</th>\n",
              "      <td>xgboost_clf2</td>\n",
              "      <td>[16719, 349, 20, 102]</td>\n",
              "      <td>0.978534</td>\n",
              "      <td>0.836066</td>\n",
              "      <td>0.356021</td>\n",
              "      <td>0.907809</td>\n",
              "    </tr>\n",
              "  </tbody>\n",
              "</table>\n",
              "</div>\n",
              "      <button class=\"colab-df-convert\" onclick=\"convertToInteractive('df-03b3d9fd-281f-4239-8fd0-6a4cce5216fc')\"\n",
              "              title=\"Convert this dataframe to an interactive table.\"\n",
              "              style=\"display:none;\">\n",
              "        \n",
              "  <svg xmlns=\"http://www.w3.org/2000/svg\" height=\"24px\"viewBox=\"0 0 24 24\"\n",
              "       width=\"24px\">\n",
              "    <path d=\"M0 0h24v24H0V0z\" fill=\"none\"/>\n",
              "    <path d=\"M18.56 5.44l.94 2.06.94-2.06 2.06-.94-2.06-.94-.94-2.06-.94 2.06-2.06.94zm-11 1L8.5 8.5l.94-2.06 2.06-.94-2.06-.94L8.5 2.5l-.94 2.06-2.06.94zm10 10l.94 2.06.94-2.06 2.06-.94-2.06-.94-.94-2.06-.94 2.06-2.06.94z\"/><path d=\"M17.41 7.96l-1.37-1.37c-.4-.4-.92-.59-1.43-.59-.52 0-1.04.2-1.43.59L10.3 9.45l-7.72 7.72c-.78.78-.78 2.05 0 2.83L4 21.41c.39.39.9.59 1.41.59.51 0 1.02-.2 1.41-.59l7.78-7.78 2.81-2.81c.8-.78.8-2.07 0-2.86zM5.41 20L4 18.59l7.72-7.72 1.47 1.35L5.41 20z\"/>\n",
              "  </svg>\n",
              "      </button>\n",
              "      \n",
              "  <style>\n",
              "    .colab-df-container {\n",
              "      display:flex;\n",
              "      flex-wrap:wrap;\n",
              "      gap: 12px;\n",
              "    }\n",
              "\n",
              "    .colab-df-convert {\n",
              "      background-color: #E8F0FE;\n",
              "      border: none;\n",
              "      border-radius: 50%;\n",
              "      cursor: pointer;\n",
              "      display: none;\n",
              "      fill: #1967D2;\n",
              "      height: 32px;\n",
              "      padding: 0 0 0 0;\n",
              "      width: 32px;\n",
              "    }\n",
              "\n",
              "    .colab-df-convert:hover {\n",
              "      background-color: #E2EBFA;\n",
              "      box-shadow: 0px 1px 2px rgba(60, 64, 67, 0.3), 0px 1px 3px 1px rgba(60, 64, 67, 0.15);\n",
              "      fill: #174EA6;\n",
              "    }\n",
              "\n",
              "    [theme=dark] .colab-df-convert {\n",
              "      background-color: #3B4455;\n",
              "      fill: #D2E3FC;\n",
              "    }\n",
              "\n",
              "    [theme=dark] .colab-df-convert:hover {\n",
              "      background-color: #434B5C;\n",
              "      box-shadow: 0px 1px 3px 1px rgba(0, 0, 0, 0.15);\n",
              "      filter: drop-shadow(0px 1px 2px rgba(0, 0, 0, 0.3));\n",
              "      fill: #FFFFFF;\n",
              "    }\n",
              "  </style>\n",
              "\n",
              "      <script>\n",
              "        const buttonEl =\n",
              "          document.querySelector('#df-03b3d9fd-281f-4239-8fd0-6a4cce5216fc button.colab-df-convert');\n",
              "        buttonEl.style.display =\n",
              "          google.colab.kernel.accessAllowed ? 'block' : 'none';\n",
              "\n",
              "        async function convertToInteractive(key) {\n",
              "          const element = document.querySelector('#df-03b3d9fd-281f-4239-8fd0-6a4cce5216fc');\n",
              "          const dataTable =\n",
              "            await google.colab.kernel.invokeFunction('convertToInteractive',\n",
              "                                                     [key], {});\n",
              "          if (!dataTable) return;\n",
              "\n",
              "          const docLinkHtml = 'Like what you see? Visit the ' +\n",
              "            '<a target=\"_blank\" href=https://colab.research.google.com/notebooks/data_table.ipynb>data table notebook</a>'\n",
              "            + ' to learn more about interactive tables.';\n",
              "          element.innerHTML = '';\n",
              "          dataTable['output_type'] = 'display_data';\n",
              "          await google.colab.output.renderOutput(dataTable, element);\n",
              "          const docLink = document.createElement('div');\n",
              "          docLink.innerHTML = docLinkHtml;\n",
              "          element.appendChild(docLink);\n",
              "        }\n",
              "      </script>\n",
              "    </div>\n",
              "  </div>\n",
              "  "
            ],
            "text/plain": [
              "     model_name        confusion_matrix  accuracy    recall  f1_score  \\\n",
              "0  xgboost_clf0    [16995, 73, 21, 101]  0.994532  0.827869  0.682432   \n",
              "1  xgboost_clf1  [14793, 2275, 22, 100]  0.866376  0.819672  0.080096   \n",
              "2  xgboost_clf2   [16719, 349, 20, 102]  0.978534  0.836066  0.356021   \n",
              "\n",
              "   roc_auc_score  \n",
              "0       0.911796  \n",
              "1       0.843191  \n",
              "2       0.907809  "
            ]
          },
          "metadata": {},
          "output_type": "display_data"
        }
      ],
      "source": [
        "display(models_eval)"
      ]
    },
    {
      "cell_type": "code",
      "execution_count": null,
      "metadata": {
        "colab": {
          "base_uri": "https://localhost:8080/"
        },
        "id": "34tKXnXcuJ-w",
        "outputId": "42e4ace3-c72f-45c6-9e80-1cfbf839501a"
      },
      "outputs": [
        {
          "output_type": "stream",
          "name": "stdout",
          "text": [
            "Fitting 3 folds for each of 50 candidates, totalling 150 fits\n",
            "[CV 1/3] END learning_rate=0.25, max_depth=15, min_child_weight=5, n_estimators=100;, score=0.997 total time= 1.0min\n",
            "[CV 2/3] END learning_rate=0.25, max_depth=15, min_child_weight=5, n_estimators=100;, score=0.997 total time=  58.5s\n",
            "[CV 3/3] END learning_rate=0.25, max_depth=15, min_child_weight=5, n_estimators=100;, score=0.997 total time=  57.6s\n",
            "[CV 1/3] END learning_rate=0.3, max_depth=5, min_child_weight=7, n_estimators=100;, score=0.960 total time=  20.5s\n",
            "[CV 2/3] END learning_rate=0.3, max_depth=5, min_child_weight=7, n_estimators=100;, score=0.963 total time=  18.8s\n",
            "[CV 3/3] END learning_rate=0.3, max_depth=5, min_child_weight=7, n_estimators=100;, score=0.964 total time=  21.8s\n",
            "[CV 1/3] END learning_rate=0.2, max_depth=10, min_child_weight=5, n_estimators=100;, score=0.995 total time=  40.0s\n",
            "[CV 2/3] END learning_rate=0.2, max_depth=10, min_child_weight=5, n_estimators=100;, score=0.993 total time=  39.4s\n",
            "[CV 3/3] END learning_rate=0.2, max_depth=10, min_child_weight=5, n_estimators=100;, score=0.995 total time=  41.1s\n",
            "[CV 1/3] END learning_rate=0.1, max_depth=1, min_child_weight=3, n_estimators=500;, score=0.836 total time=  23.6s\n",
            "[CV 2/3] END learning_rate=0.1, max_depth=1, min_child_weight=3, n_estimators=500;, score=0.837 total time=  20.9s\n",
            "[CV 3/3] END learning_rate=0.1, max_depth=1, min_child_weight=3, n_estimators=500;, score=0.844 total time=  23.6s\n",
            "[CV 1/3] END learning_rate=0.5, max_depth=5, min_child_weight=5, n_estimators=750;, score=0.996 total time= 2.4min\n",
            "[CV 2/3] END learning_rate=0.5, max_depth=5, min_child_weight=5, n_estimators=750;, score=0.996 total time= 2.4min\n",
            "[CV 3/3] END learning_rate=0.5, max_depth=5, min_child_weight=5, n_estimators=750;, score=0.996 total time= 2.4min\n",
            "[CV 1/3] END learning_rate=0.01, max_depth=3, min_child_weight=5, n_estimators=1000;, score=0.879 total time= 2.0min\n",
            "[CV 2/3] END learning_rate=0.01, max_depth=3, min_child_weight=5, n_estimators=1000;, score=0.878 total time= 2.0min\n",
            "[CV 3/3] END learning_rate=0.01, max_depth=3, min_child_weight=5, n_estimators=1000;, score=0.880 total time= 2.0min\n",
            "[CV 1/3] END learning_rate=0.1, max_depth=15, min_child_weight=3, n_estimators=500;, score=0.998 total time= 4.8min\n",
            "[CV 2/3] END learning_rate=0.1, max_depth=15, min_child_weight=3, n_estimators=500;, score=0.997 total time= 4.8min\n",
            "[CV 3/3] END learning_rate=0.1, max_depth=15, min_child_weight=3, n_estimators=500;, score=0.998 total time= 4.8min\n",
            "[CV 1/3] END learning_rate=0.01, max_depth=10, min_child_weight=1, n_estimators=100;, score=0.952 total time=  45.2s\n",
            "[CV 2/3] END learning_rate=0.01, max_depth=10, min_child_weight=1, n_estimators=100;, score=0.956 total time=  45.1s\n",
            "[CV 3/3] END learning_rate=0.01, max_depth=10, min_child_weight=1, n_estimators=100;, score=0.956 total time=  45.0s\n",
            "[CV 1/3] END learning_rate=0.5, max_depth=8, min_child_weight=1, n_estimators=100;, score=0.996 total time=  35.8s\n",
            "[CV 2/3] END learning_rate=0.5, max_depth=8, min_child_weight=1, n_estimators=100;, score=0.996 total time=  32.6s\n",
            "[CV 3/3] END learning_rate=0.5, max_depth=8, min_child_weight=1, n_estimators=100;, score=0.996 total time=  32.6s\n",
            "[CV 1/3] END learning_rate=0.2, max_depth=15, min_child_weight=5, n_estimators=1000;, score=0.998 total time= 8.9min\n",
            "[CV 2/3] END learning_rate=0.2, max_depth=15, min_child_weight=5, n_estimators=1000;, score=0.998 total time= 8.8min\n",
            "[CV 3/3] END learning_rate=0.2, max_depth=15, min_child_weight=5, n_estimators=1000;, score=0.998 total time= 8.8min\n",
            "[CV 1/3] END learning_rate=0.25, max_depth=1, min_child_weight=1, n_estimators=750;, score=0.867 total time=  32.8s\n",
            "[CV 2/3] END learning_rate=0.25, max_depth=1, min_child_weight=1, n_estimators=750;, score=0.866 total time=  35.0s\n",
            "[CV 3/3] END learning_rate=0.25, max_depth=1, min_child_weight=1, n_estimators=750;, score=0.869 total time=  33.4s\n",
            "[CV 1/3] END learning_rate=0.25, max_depth=10, min_child_weight=5, n_estimators=1000;, score=0.998 total time= 6.1min\n",
            "[CV 2/3] END learning_rate=0.25, max_depth=10, min_child_weight=5, n_estimators=1000;, score=0.998 total time= 6.1min\n",
            "[CV 3/3] END learning_rate=0.25, max_depth=10, min_child_weight=5, n_estimators=1000;, score=0.998 total time= 6.1min\n",
            "[CV 1/3] END learning_rate=0.01, max_depth=5, min_child_weight=5, n_estimators=1000;, score=0.922 total time= 3.3min\n",
            "[CV 2/3] END learning_rate=0.01, max_depth=5, min_child_weight=5, n_estimators=1000;, score=0.918 total time= 3.4min\n",
            "[CV 3/3] END learning_rate=0.01, max_depth=5, min_child_weight=5, n_estimators=1000;, score=0.920 total time= 3.4min\n",
            "[CV 1/3] END learning_rate=0.05, max_depth=10, min_child_weight=1, n_estimators=500;, score=0.996 total time= 3.4min\n",
            "[CV 2/3] END learning_rate=0.05, max_depth=10, min_child_weight=1, n_estimators=500;, score=0.996 total time= 3.4min\n",
            "[CV 3/3] END learning_rate=0.05, max_depth=10, min_child_weight=1, n_estimators=500;, score=0.996 total time= 3.5min\n",
            "[CV 1/3] END learning_rate=0.2, max_depth=3, min_child_weight=1, n_estimators=100;, score=0.903 total time=  10.7s\n",
            "[CV 2/3] END learning_rate=0.2, max_depth=3, min_child_weight=1, n_estimators=100;, score=0.899 total time=  11.4s\n",
            "[CV 3/3] END learning_rate=0.2, max_depth=3, min_child_weight=1, n_estimators=100;, score=0.903 total time=  12.6s\n",
            "[CV 1/3] END learning_rate=0.3, max_depth=15, min_child_weight=3, n_estimators=100;, score=0.997 total time=  58.5s\n",
            "[CV 2/3] END learning_rate=0.3, max_depth=15, min_child_weight=3, n_estimators=100;, score=0.997 total time=  58.7s\n",
            "[CV 3/3] END learning_rate=0.3, max_depth=15, min_child_weight=3, n_estimators=100;, score=0.997 total time=  58.6s\n",
            "[CV 1/3] END learning_rate=0.25, max_depth=10, min_child_weight=3, n_estimators=500;, score=0.998 total time= 3.2min\n",
            "[CV 2/3] END learning_rate=0.25, max_depth=10, min_child_weight=3, n_estimators=500;, score=0.998 total time= 3.2min\n",
            "[CV 3/3] END learning_rate=0.25, max_depth=10, min_child_weight=3, n_estimators=500;, score=0.998 total time= 3.2min\n",
            "[CV 1/3] END learning_rate=0.1, max_depth=15, min_child_weight=1, n_estimators=500;, score=0.998 total time= 4.9min\n",
            "[CV 2/3] END learning_rate=0.1, max_depth=15, min_child_weight=1, n_estimators=500;, score=0.997 total time= 4.9min\n",
            "[CV 3/3] END learning_rate=0.1, max_depth=15, min_child_weight=1, n_estimators=500;, score=0.998 total time= 4.9min\n",
            "[CV 1/3] END learning_rate=0.15, max_depth=1, min_child_weight=7, n_estimators=750;, score=0.857 total time=  35.6s\n",
            "[CV 2/3] END learning_rate=0.15, max_depth=1, min_child_weight=7, n_estimators=750;, score=0.857 total time=  32.7s\n",
            "[CV 3/3] END learning_rate=0.15, max_depth=1, min_child_weight=7, n_estimators=750;, score=0.860 total time=  32.7s\n",
            "[CV 1/3] END learning_rate=0.01, max_depth=5, min_child_weight=7, n_estimators=500;, score=0.903 total time= 1.7min\n",
            "[CV 2/3] END learning_rate=0.01, max_depth=5, min_child_weight=7, n_estimators=500;, score=0.902 total time= 1.7min\n",
            "[CV 3/3] END learning_rate=0.01, max_depth=5, min_child_weight=7, n_estimators=500;, score=0.905 total time= 1.7min\n",
            "[CV 1/3] END learning_rate=0.2, max_depth=1, min_child_weight=1, n_estimators=750;, score=0.869 total time=  35.3s\n",
            "[CV 2/3] END learning_rate=0.2, max_depth=1, min_child_weight=1, n_estimators=750;, score=0.866 total time=  32.4s\n",
            "[CV 3/3] END learning_rate=0.2, max_depth=1, min_child_weight=1, n_estimators=750;, score=0.869 total time=  32.5s\n",
            "[CV 1/3] END learning_rate=0.05, max_depth=15, min_child_weight=7, n_estimators=1000;, score=0.997 total time= 9.3min\n",
            "[CV 2/3] END learning_rate=0.05, max_depth=15, min_child_weight=7, n_estimators=1000;, score=0.997 total time= 9.3min\n",
            "[CV 3/3] END learning_rate=0.05, max_depth=15, min_child_weight=7, n_estimators=1000;, score=0.998 total time= 9.3min\n",
            "[CV 1/3] END learning_rate=0.5, max_depth=1, min_child_weight=1, n_estimators=750;, score=0.874 total time=  35.0s\n",
            "[CV 2/3] END learning_rate=0.5, max_depth=1, min_child_weight=1, n_estimators=750;, score=0.873 total time=  32.6s\n",
            "[CV 3/3] END learning_rate=0.5, max_depth=1, min_child_weight=1, n_estimators=750;, score=0.875 total time=  32.9s\n",
            "[CV 1/3] END learning_rate=0.1, max_depth=8, min_child_weight=7, n_estimators=750;, score=0.996 total time= 3.9min\n",
            "[CV 2/3] END learning_rate=0.1, max_depth=8, min_child_weight=7, n_estimators=750;, score=0.996 total time= 3.9min\n",
            "[CV 3/3] END learning_rate=0.1, max_depth=8, min_child_weight=7, n_estimators=750;, score=0.997 total time= 3.9min\n",
            "[CV 1/3] END learning_rate=0.25, max_depth=5, min_child_weight=3, n_estimators=750;, score=0.994 total time= 2.4min\n",
            "[CV 2/3] END learning_rate=0.25, max_depth=5, min_child_weight=3, n_estimators=750;, score=0.994 total time= 2.4min\n",
            "[CV 3/3] END learning_rate=0.25, max_depth=5, min_child_weight=3, n_estimators=750;, score=0.995 total time= 2.4min\n",
            "[CV 1/3] END learning_rate=0.1, max_depth=1, min_child_weight=1, n_estimators=1000;, score=0.856 total time=  44.2s\n",
            "[CV 2/3] END learning_rate=0.1, max_depth=1, min_child_weight=1, n_estimators=1000;, score=0.854 total time=  44.2s\n",
            "[CV 3/3] END learning_rate=0.1, max_depth=1, min_child_weight=1, n_estimators=1000;, score=0.856 total time=  44.2s\n",
            "[CV 1/3] END learning_rate=0.01, max_depth=15, min_child_weight=7, n_estimators=100;, score=0.978 total time= 1.1min\n",
            "[CV 2/3] END learning_rate=0.01, max_depth=15, min_child_weight=7, n_estimators=100;, score=0.975 total time= 1.0min\n",
            "[CV 3/3] END learning_rate=0.01, max_depth=15, min_child_weight=7, n_estimators=100;, score=0.978 total time= 1.1min\n",
            "[CV 1/3] END learning_rate=0.15, max_depth=8, min_child_weight=7, n_estimators=500;, score=0.996 total time= 2.6min\n",
            "[CV 2/3] END learning_rate=0.15, max_depth=8, min_child_weight=7, n_estimators=500;, score=0.996 total time= 2.6min\n",
            "[CV 3/3] END learning_rate=0.15, max_depth=8, min_child_weight=7, n_estimators=500;, score=0.996 total time= 2.6min\n",
            "[CV 1/3] END learning_rate=0.2, max_depth=8, min_child_weight=1, n_estimators=1000;, score=0.998 total time= 5.3min\n",
            "[CV 2/3] END learning_rate=0.2, max_depth=8, min_child_weight=1, n_estimators=1000;, score=0.997 total time= 5.2min\n",
            "[CV 3/3] END learning_rate=0.2, max_depth=8, min_child_weight=1, n_estimators=1000;, score=0.998 total time= 5.2min\n",
            "[CV 1/3] END learning_rate=0.5, max_depth=10, min_child_weight=7, n_estimators=100;, score=0.996 total time=  39.2s\n",
            "[CV 2/3] END learning_rate=0.5, max_depth=10, min_child_weight=7, n_estimators=100;, score=0.996 total time=  40.6s\n",
            "[CV 3/3] END learning_rate=0.5, max_depth=10, min_child_weight=7, n_estimators=100;, score=0.997 total time=  40.1s\n",
            "[CV 1/3] END learning_rate=0.25, max_depth=3, min_child_weight=5, n_estimators=1000;, score=0.974 total time= 2.0min\n",
            "[CV 2/3] END learning_rate=0.25, max_depth=3, min_child_weight=5, n_estimators=1000;, score=0.973 total time= 2.0min\n",
            "[CV 3/3] END learning_rate=0.25, max_depth=3, min_child_weight=5, n_estimators=1000;, score=0.975 total time= 2.0min\n",
            "[CV 1/3] END learning_rate=0.05, max_depth=15, min_child_weight=3, n_estimators=1000;, score=0.998 total time= 9.6min\n",
            "[CV 2/3] END learning_rate=0.05, max_depth=15, min_child_weight=3, n_estimators=1000;, score=0.997 total time= 9.4min\n",
            "[CV 3/3] END learning_rate=0.05, max_depth=15, min_child_weight=3, n_estimators=1000;, score=0.998 total time= 9.4min\n",
            "[CV 1/3] END learning_rate=0.05, max_depth=15, min_child_weight=7, n_estimators=750;, score=0.997 total time= 7.0min\n",
            "[CV 2/3] END learning_rate=0.05, max_depth=15, min_child_weight=7, n_estimators=750;, score=0.997 total time= 7.0min\n",
            "[CV 3/3] END learning_rate=0.05, max_depth=15, min_child_weight=7, n_estimators=750;, score=0.997 total time= 7.0min\n",
            "[CV 1/3] END learning_rate=0.15, max_depth=10, min_child_weight=1, n_estimators=750;, score=0.998 total time= 4.9min\n",
            "[CV 2/3] END learning_rate=0.15, max_depth=10, min_child_weight=1, n_estimators=750;, score=0.998 total time= 4.9min\n",
            "[CV 3/3] END learning_rate=0.15, max_depth=10, min_child_weight=1, n_estimators=750;, score=0.998 total time= 4.9min\n",
            "[CV 1/3] END learning_rate=0.25, max_depth=1, min_child_weight=3, n_estimators=500;, score=0.861 total time=  23.4s\n",
            "[CV 2/3] END learning_rate=0.25, max_depth=1, min_child_weight=3, n_estimators=500;, score=0.860 total time=  20.7s\n",
            "[CV 3/3] END learning_rate=0.25, max_depth=1, min_child_weight=3, n_estimators=500;, score=0.863 total time=  23.5s\n",
            "[CV 1/3] END learning_rate=0.2, max_depth=1, min_child_weight=1, n_estimators=100;, score=0.774 total time=   3.7s\n",
            "[CV 2/3] END learning_rate=0.2, max_depth=1, min_child_weight=1, n_estimators=100;, score=0.786 total time=   3.9s\n",
            "[CV 3/3] END learning_rate=0.2, max_depth=1, min_child_weight=1, n_estimators=100;, score=0.779 total time=   6.5s\n",
            "[CV 1/3] END learning_rate=0.3, max_depth=1, min_child_weight=1, n_estimators=500;, score=0.869 total time=  20.6s\n",
            "[CV 2/3] END learning_rate=0.3, max_depth=1, min_child_weight=1, n_estimators=500;, score=0.865 total time=  23.5s\n",
            "[CV 3/3] END learning_rate=0.3, max_depth=1, min_child_weight=1, n_estimators=500;, score=0.870 total time=  20.6s\n",
            "[CV 1/3] END learning_rate=0.05, max_depth=3, min_child_weight=5, n_estimators=500;, score=0.906 total time=  58.0s\n",
            "[CV 2/3] END learning_rate=0.05, max_depth=3, min_child_weight=5, n_estimators=500;, score=0.902 total time=  58.1s\n",
            "[CV 3/3] END learning_rate=0.05, max_depth=3, min_child_weight=5, n_estimators=500;, score=0.906 total time=  58.2s\n",
            "[CV 1/3] END learning_rate=0.15, max_depth=5, min_child_weight=7, n_estimators=1000;, score=0.993 total time= 3.2min\n",
            "[CV 2/3] END learning_rate=0.15, max_depth=5, min_child_weight=7, n_estimators=1000;, score=0.991 total time= 3.2min\n",
            "[CV 3/3] END learning_rate=0.15, max_depth=5, min_child_weight=7, n_estimators=1000;, score=0.992 total time= 3.2min\n",
            "[CV 1/3] END learning_rate=0.1, max_depth=8, min_child_weight=1, n_estimators=100;, score=0.973 total time=  34.5s\n",
            "[CV 2/3] END learning_rate=0.1, max_depth=8, min_child_weight=1, n_estimators=100;, score=0.972 total time=  32.4s\n",
            "[CV 3/3] END learning_rate=0.1, max_depth=8, min_child_weight=1, n_estimators=100;, score=0.972 total time=  32.4s\n",
            "[CV 1/3] END learning_rate=0.5, max_depth=3, min_child_weight=7, n_estimators=500;, score=0.975 total time=  58.2s\n",
            "[CV 2/3] END learning_rate=0.5, max_depth=3, min_child_weight=7, n_estimators=500;, score=0.973 total time=  58.2s\n",
            "[CV 3/3] END learning_rate=0.5, max_depth=3, min_child_weight=7, n_estimators=500;, score=0.974 total time=  58.1s\n",
            "[CV 1/3] END learning_rate=0.1, max_depth=8, min_child_weight=1, n_estimators=750;, score=0.997 total time= 4.0min\n",
            "[CV 2/3] END learning_rate=0.1, max_depth=8, min_child_weight=1, n_estimators=750;, score=0.997 total time= 4.0min\n",
            "[CV 3/3] END learning_rate=0.1, max_depth=8, min_child_weight=1, n_estimators=750;, score=0.997 total time= 4.0min\n",
            "[CV 1/3] END learning_rate=0.15, max_depth=1, min_child_weight=7, n_estimators=1000;, score=0.869 total time=  44.0s\n",
            "[CV 2/3] END learning_rate=0.15, max_depth=1, min_child_weight=7, n_estimators=1000;, score=0.866 total time=  44.0s\n",
            "[CV 3/3] END learning_rate=0.15, max_depth=1, min_child_weight=7, n_estimators=1000;, score=0.868 total time=  44.0s\n",
            "[CV 1/3] END learning_rate=0.15, max_depth=1, min_child_weight=5, n_estimators=1000;, score=0.869 total time=  44.0s\n",
            "[CV 2/3] END learning_rate=0.15, max_depth=1, min_child_weight=5, n_estimators=1000;, score=0.866 total time=  44.0s\n",
            "[CV 3/3] END learning_rate=0.15, max_depth=1, min_child_weight=5, n_estimators=1000;, score=0.868 total time=  43.9s\n",
            "[CV 1/3] END learning_rate=0.25, max_depth=8, min_child_weight=5, n_estimators=1000;, score=0.998 total time= 5.0min\n",
            "[CV 2/3] END learning_rate=0.25, max_depth=8, min_child_weight=5, n_estimators=1000;, score=0.998 total time= 5.0min\n",
            "[CV 3/3] END learning_rate=0.25, max_depth=8, min_child_weight=5, n_estimators=1000;, score=0.998 total time= 5.0min\n",
            "[CV 1/3] END learning_rate=0.3, max_depth=3, min_child_weight=3, n_estimators=100;, score=0.909 total time=  12.5s\n",
            "[CV 2/3] END learning_rate=0.3, max_depth=3, min_child_weight=3, n_estimators=100;, score=0.914 total time=  12.5s\n",
            "[CV 3/3] END learning_rate=0.3, max_depth=3, min_child_weight=3, n_estimators=100;, score=0.917 total time=  12.5s\n",
            "[CV 1/3] END learning_rate=0.25, max_depth=5, min_child_weight=3, n_estimators=500;, score=0.991 total time= 1.6min\n",
            "[CV 2/3] END learning_rate=0.25, max_depth=5, min_child_weight=3, n_estimators=500;, score=0.990 total time= 1.6min\n",
            "[CV 3/3] END learning_rate=0.25, max_depth=5, min_child_weight=3, n_estimators=500;, score=0.992 total time= 1.7min\n",
            "[CV 1/3] END learning_rate=0.3, max_depth=8, min_child_weight=1, n_estimators=750;, score=0.998 total time= 3.9min\n",
            "[CV 2/3] END learning_rate=0.3, max_depth=8, min_child_weight=1, n_estimators=750;, score=0.997 total time= 4.0min\n",
            "[CV 3/3] END learning_rate=0.3, max_depth=8, min_child_weight=1, n_estimators=750;, score=0.998 total time= 3.9min\n",
            "[CV 1/3] END learning_rate=0.05, max_depth=10, min_child_weight=5, n_estimators=1000;, score=0.997 total time= 6.6min\n",
            "[CV 2/3] END learning_rate=0.05, max_depth=10, min_child_weight=5, n_estimators=1000;, score=0.997 total time= 6.6min\n",
            "[CV 3/3] END learning_rate=0.05, max_depth=10, min_child_weight=5, n_estimators=1000;, score=0.997 total time= 6.5min\n",
            "[CV 1/3] END learning_rate=0.05, max_depth=10, min_child_weight=3, n_estimators=1000;, score=0.997 total time= 6.6min\n",
            "[CV 2/3] END learning_rate=0.05, max_depth=10, min_child_weight=3, n_estimators=1000;, score=0.997 total time= 6.7min\n",
            "[CV 3/3] END learning_rate=0.05, max_depth=10, min_child_weight=3, n_estimators=1000;, score=0.997 total time= 6.6min\n"
          ]
        },
        {
          "output_type": "execute_result",
          "data": {
            "text/plain": [
              "{'n_estimators': 1000,\n",
              " 'min_child_weight': 5,\n",
              " 'max_depth': 10,\n",
              " 'learning_rate': 0.25}"
            ]
          },
          "metadata": {},
          "execution_count": 17
        }
      ],
      "source": [
        "# RandomizedSearchCV\n",
        "\n",
        "random_grid = {\n",
        "              \"n_estimators\": [100, 500, 750, 1000],\n",
        "              \"learning_rate\": [0.01, 0.05, 0.10, 0.15, 0.20, 0.25, 0.30, 0.50],\n",
        "              \"max_depth\": [1, 3, 5, 8, 10, 15],\n",
        "              \"min_child_weight\" : [1, 3, 5, 7]\n",
        "              }\n",
        "\n",
        "xgboost_random = RandomizedSearchCV(estimator = xgboost_clf, \n",
        "                                 param_distributions = random_grid, \n",
        "                                 n_iter = 50, \n",
        "                                 cv = 3, \n",
        "                                 verbose = 3, \n",
        "                                 scoring = 'recall',\n",
        "                                 random_state = 10)\n",
        "\n",
        "xgboost_random.fit(X_train, y_train)\n",
        "xgboost_random.best_params_"
      ]
    },
    {
      "cell_type": "code",
      "execution_count": null,
      "metadata": {
        "id": "_HpIdVxB9jsX",
        "colab": {
          "base_uri": "https://localhost:8080/"
        },
        "outputId": "ade38531-34ec-4c64-a45b-2cef992da47c"
      },
      "outputs": [
        {
          "data": {
            "text/plain": [
              "{'n_estimators': 1000,\n",
              " 'min_child_weight': 5,\n",
              " 'max_depth': 10,\n",
              " 'learning_rate': 0.25}"
            ]
          },
          "execution_count": 18,
          "metadata": {},
          "output_type": "execute_result"
        }
      ],
      "source": [
        "xgboost_random.best_params_"
      ]
    },
    {
      "cell_type": "code",
      "execution_count": null,
      "metadata": {
        "id": "QFjaYQXV9lUw",
        "colab": {
          "base_uri": "https://localhost:8080/"
        },
        "outputId": "c0ce8e90-ee8d-4419-c2be-0787f836a807"
      },
      "outputs": [
        {
          "data": {
            "text/plain": [
              "0.99783751431683"
            ]
          },
          "execution_count": 19,
          "metadata": {},
          "output_type": "execute_result"
        }
      ],
      "source": [
        "xgboost_random.best_score_"
      ]
    },
    {
      "cell_type": "markdown",
      "metadata": {
        "id": "p3iAdzksueOk"
      },
      "source": [
        "## LightGBM\n",
        "\n",
        "- Library: lightbgm"
      ]
    },
    {
      "cell_type": "code",
      "execution_count": null,
      "metadata": {
        "id": "R7yclluCuNDK"
      },
      "outputs": [],
      "source": [
        "# Training\n",
        "\n",
        "name = 'lightgbm_clf'\n",
        "\n",
        "train = pd.DataFrame(columns = ['n_estimators', 'learning_rate', 'max_depth', 'random_state'])\n",
        "train = train.append({'n_estimators': 1000, 'learning_rate':0.1, 'max_depth':3, 'random_state':10}, ignore_index=True)\n",
        "train = train.append({'n_estimators': 500, 'learning_rate':0.5, 'max_depth':1, 'random_state':10}, ignore_index=True)\n",
        "train = train.append({'n_estimators': 750, 'learning_rate':0.01, 'max_depth':10, 'random_state':10}, ignore_index=True)\n",
        "\n",
        "train = train.reset_index()\n",
        "for index, row in train.iterrows():\n",
        "    model_name = name + str(index)\n",
        "    lightgbm_clf = LGBMClassifier(n_estimators=int(row['n_estimators']), learning_rate=row['learning_rate'],\n",
        "                                max_depth=int(row['max_depth']), random_state=int(row['random_state']))\n",
        "    lightgbm_clf.fit(X_train, y_train)\n",
        "    \n",
        "    y_true = y_val\n",
        "    y_pred = lightgbm_clf.predict(X_val)\n",
        "    evaluation_results = evaluation_metrics(y_true, y_pred)   \n",
        "\n",
        "    models = models.append({'model_name': model_name, \n",
        "                            'model': lightgbm_clf, \n",
        "                            'parameters': lightgbm_clf.get_params()}, \n",
        "                            ignore_index=True)\n",
        "    \n",
        "    models_eval = models_eval.append({'model_name': model_name, \n",
        "                                      'confusion_matrix' : evaluation_results[0], \n",
        "                                      'accuracy': evaluation_results[1], \n",
        "                                      'recall' : evaluation_results[2], \n",
        "                                      'f1_score': evaluation_results[3], \n",
        "                                      'roc_auc_score': evaluation_results[4]}, \n",
        "                                      ignore_index=True)"
      ]
    },
    {
      "cell_type": "code",
      "execution_count": null,
      "metadata": {
        "id": "WnonpZxJuOM0",
        "colab": {
          "base_uri": "https://localhost:8080/",
          "height": 237
        },
        "outputId": "881d63e2-69eb-4189-c628-966c1d785f10"
      },
      "outputs": [
        {
          "data": {
            "text/html": [
              "\n",
              "  <div id=\"df-e4de315d-b2cd-440a-85b0-0c2adfb89dc0\">\n",
              "    <div class=\"colab-df-container\">\n",
              "      <div>\n",
              "<style scoped>\n",
              "    .dataframe tbody tr th:only-of-type {\n",
              "        vertical-align: middle;\n",
              "    }\n",
              "\n",
              "    .dataframe tbody tr th {\n",
              "        vertical-align: top;\n",
              "    }\n",
              "\n",
              "    .dataframe thead th {\n",
              "        text-align: right;\n",
              "    }\n",
              "</style>\n",
              "<table border=\"1\" class=\"dataframe\">\n",
              "  <thead>\n",
              "    <tr style=\"text-align: right;\">\n",
              "      <th></th>\n",
              "      <th>model_name</th>\n",
              "      <th>confusion_matrix</th>\n",
              "      <th>accuracy</th>\n",
              "      <th>recall</th>\n",
              "      <th>f1_score</th>\n",
              "      <th>roc_auc_score</th>\n",
              "    </tr>\n",
              "  </thead>\n",
              "  <tbody>\n",
              "    <tr>\n",
              "      <th>0</th>\n",
              "      <td>xgboost_clf0</td>\n",
              "      <td>[16995, 73, 21, 101]</td>\n",
              "      <td>0.994532</td>\n",
              "      <td>0.827869</td>\n",
              "      <td>0.682432</td>\n",
              "      <td>0.911796</td>\n",
              "    </tr>\n",
              "    <tr>\n",
              "      <th>1</th>\n",
              "      <td>xgboost_clf1</td>\n",
              "      <td>[14793, 2275, 22, 100]</td>\n",
              "      <td>0.866376</td>\n",
              "      <td>0.819672</td>\n",
              "      <td>0.080096</td>\n",
              "      <td>0.843191</td>\n",
              "    </tr>\n",
              "    <tr>\n",
              "      <th>2</th>\n",
              "      <td>xgboost_clf2</td>\n",
              "      <td>[16719, 349, 20, 102]</td>\n",
              "      <td>0.978534</td>\n",
              "      <td>0.836066</td>\n",
              "      <td>0.356021</td>\n",
              "      <td>0.907809</td>\n",
              "    </tr>\n",
              "    <tr>\n",
              "      <th>3</th>\n",
              "      <td>lightgbm_clf0</td>\n",
              "      <td>[16174, 894, 20, 102]</td>\n",
              "      <td>0.946830</td>\n",
              "      <td>0.836066</td>\n",
              "      <td>0.182469</td>\n",
              "      <td>0.891843</td>\n",
              "    </tr>\n",
              "    <tr>\n",
              "      <th>4</th>\n",
              "      <td>lightgbm_clf1</td>\n",
              "      <td>[14730, 2338, 22, 100]</td>\n",
              "      <td>0.862711</td>\n",
              "      <td>0.819672</td>\n",
              "      <td>0.078125</td>\n",
              "      <td>0.841345</td>\n",
              "    </tr>\n",
              "    <tr>\n",
              "      <th>5</th>\n",
              "      <td>lightgbm_clf2</td>\n",
              "      <td>[16026, 1042, 20, 102]</td>\n",
              "      <td>0.938220</td>\n",
              "      <td>0.836066</td>\n",
              "      <td>0.161137</td>\n",
              "      <td>0.887508</td>\n",
              "    </tr>\n",
              "  </tbody>\n",
              "</table>\n",
              "</div>\n",
              "      <button class=\"colab-df-convert\" onclick=\"convertToInteractive('df-e4de315d-b2cd-440a-85b0-0c2adfb89dc0')\"\n",
              "              title=\"Convert this dataframe to an interactive table.\"\n",
              "              style=\"display:none;\">\n",
              "        \n",
              "  <svg xmlns=\"http://www.w3.org/2000/svg\" height=\"24px\"viewBox=\"0 0 24 24\"\n",
              "       width=\"24px\">\n",
              "    <path d=\"M0 0h24v24H0V0z\" fill=\"none\"/>\n",
              "    <path d=\"M18.56 5.44l.94 2.06.94-2.06 2.06-.94-2.06-.94-.94-2.06-.94 2.06-2.06.94zm-11 1L8.5 8.5l.94-2.06 2.06-.94-2.06-.94L8.5 2.5l-.94 2.06-2.06.94zm10 10l.94 2.06.94-2.06 2.06-.94-2.06-.94-.94-2.06-.94 2.06-2.06.94z\"/><path d=\"M17.41 7.96l-1.37-1.37c-.4-.4-.92-.59-1.43-.59-.52 0-1.04.2-1.43.59L10.3 9.45l-7.72 7.72c-.78.78-.78 2.05 0 2.83L4 21.41c.39.39.9.59 1.41.59.51 0 1.02-.2 1.41-.59l7.78-7.78 2.81-2.81c.8-.78.8-2.07 0-2.86zM5.41 20L4 18.59l7.72-7.72 1.47 1.35L5.41 20z\"/>\n",
              "  </svg>\n",
              "      </button>\n",
              "      \n",
              "  <style>\n",
              "    .colab-df-container {\n",
              "      display:flex;\n",
              "      flex-wrap:wrap;\n",
              "      gap: 12px;\n",
              "    }\n",
              "\n",
              "    .colab-df-convert {\n",
              "      background-color: #E8F0FE;\n",
              "      border: none;\n",
              "      border-radius: 50%;\n",
              "      cursor: pointer;\n",
              "      display: none;\n",
              "      fill: #1967D2;\n",
              "      height: 32px;\n",
              "      padding: 0 0 0 0;\n",
              "      width: 32px;\n",
              "    }\n",
              "\n",
              "    .colab-df-convert:hover {\n",
              "      background-color: #E2EBFA;\n",
              "      box-shadow: 0px 1px 2px rgba(60, 64, 67, 0.3), 0px 1px 3px 1px rgba(60, 64, 67, 0.15);\n",
              "      fill: #174EA6;\n",
              "    }\n",
              "\n",
              "    [theme=dark] .colab-df-convert {\n",
              "      background-color: #3B4455;\n",
              "      fill: #D2E3FC;\n",
              "    }\n",
              "\n",
              "    [theme=dark] .colab-df-convert:hover {\n",
              "      background-color: #434B5C;\n",
              "      box-shadow: 0px 1px 3px 1px rgba(0, 0, 0, 0.15);\n",
              "      filter: drop-shadow(0px 1px 2px rgba(0, 0, 0, 0.3));\n",
              "      fill: #FFFFFF;\n",
              "    }\n",
              "  </style>\n",
              "\n",
              "      <script>\n",
              "        const buttonEl =\n",
              "          document.querySelector('#df-e4de315d-b2cd-440a-85b0-0c2adfb89dc0 button.colab-df-convert');\n",
              "        buttonEl.style.display =\n",
              "          google.colab.kernel.accessAllowed ? 'block' : 'none';\n",
              "\n",
              "        async function convertToInteractive(key) {\n",
              "          const element = document.querySelector('#df-e4de315d-b2cd-440a-85b0-0c2adfb89dc0');\n",
              "          const dataTable =\n",
              "            await google.colab.kernel.invokeFunction('convertToInteractive',\n",
              "                                                     [key], {});\n",
              "          if (!dataTable) return;\n",
              "\n",
              "          const docLinkHtml = 'Like what you see? Visit the ' +\n",
              "            '<a target=\"_blank\" href=https://colab.research.google.com/notebooks/data_table.ipynb>data table notebook</a>'\n",
              "            + ' to learn more about interactive tables.';\n",
              "          element.innerHTML = '';\n",
              "          dataTable['output_type'] = 'display_data';\n",
              "          await google.colab.output.renderOutput(dataTable, element);\n",
              "          const docLink = document.createElement('div');\n",
              "          docLink.innerHTML = docLinkHtml;\n",
              "          element.appendChild(docLink);\n",
              "        }\n",
              "      </script>\n",
              "    </div>\n",
              "  </div>\n",
              "  "
            ],
            "text/plain": [
              "      model_name        confusion_matrix  accuracy    recall  f1_score  \\\n",
              "0   xgboost_clf0    [16995, 73, 21, 101]  0.994532  0.827869  0.682432   \n",
              "1   xgboost_clf1  [14793, 2275, 22, 100]  0.866376  0.819672  0.080096   \n",
              "2   xgboost_clf2   [16719, 349, 20, 102]  0.978534  0.836066  0.356021   \n",
              "3  lightgbm_clf0   [16174, 894, 20, 102]  0.946830  0.836066  0.182469   \n",
              "4  lightgbm_clf1  [14730, 2338, 22, 100]  0.862711  0.819672  0.078125   \n",
              "5  lightgbm_clf2  [16026, 1042, 20, 102]  0.938220  0.836066  0.161137   \n",
              "\n",
              "   roc_auc_score  \n",
              "0       0.911796  \n",
              "1       0.843191  \n",
              "2       0.907809  \n",
              "3       0.891843  \n",
              "4       0.841345  \n",
              "5       0.887508  "
            ]
          },
          "metadata": {},
          "output_type": "display_data"
        }
      ],
      "source": [
        "display(models_eval)"
      ]
    },
    {
      "cell_type": "code",
      "execution_count": null,
      "metadata": {
        "colab": {
          "base_uri": "https://localhost:8080/"
        },
        "id": "YbBdcURkuPRT",
        "outputId": "dd07e14f-b128-4e97-81ec-28a0b119bc72"
      },
      "outputs": [
        {
          "output_type": "stream",
          "name": "stdout",
          "text": [
            "Fitting 5 folds for each of 50 candidates, totalling 250 fits\n",
            "[CV 1/5] END learning_rate=0.05, max_depth=8, min_data_in_leaf=50, n_estimators=750, num_leaves=500;, score=0.997 total time=  26.9s\n",
            "[CV 2/5] END learning_rate=0.05, max_depth=8, min_data_in_leaf=50, n_estimators=750, num_leaves=500;, score=0.996 total time=  26.8s\n",
            "[CV 3/5] END learning_rate=0.05, max_depth=8, min_data_in_leaf=50, n_estimators=750, num_leaves=500;, score=0.996 total time=  25.9s\n",
            "[CV 4/5] END learning_rate=0.05, max_depth=8, min_data_in_leaf=50, n_estimators=750, num_leaves=500;, score=0.995 total time=  25.3s\n",
            "[CV 5/5] END learning_rate=0.05, max_depth=8, min_data_in_leaf=50, n_estimators=750, num_leaves=500;, score=0.997 total time=  24.5s\n",
            "[CV 1/5] END learning_rate=0.25, max_depth=8, min_data_in_leaf=25, n_estimators=750, num_leaves=100;, score=0.998 total time=  25.4s\n",
            "[CV 2/5] END learning_rate=0.25, max_depth=8, min_data_in_leaf=25, n_estimators=750, num_leaves=100;, score=0.998 total time=  25.3s\n",
            "[CV 3/5] END learning_rate=0.25, max_depth=8, min_data_in_leaf=25, n_estimators=750, num_leaves=100;, score=0.749 total time=  22.0s\n",
            "[CV 4/5] END learning_rate=0.25, max_depth=8, min_data_in_leaf=25, n_estimators=750, num_leaves=100;, score=0.996 total time=  23.1s\n",
            "[CV 5/5] END learning_rate=0.25, max_depth=8, min_data_in_leaf=25, n_estimators=750, num_leaves=100;, score=0.997 total time=  24.1s\n",
            "[CV 1/5] END learning_rate=0.05, max_depth=10, min_data_in_leaf=20, n_estimators=100, num_leaves=10;, score=0.876 total time=   1.7s\n",
            "[CV 2/5] END learning_rate=0.05, max_depth=10, min_data_in_leaf=20, n_estimators=100, num_leaves=10;, score=0.872 total time=   1.7s\n",
            "[CV 3/5] END learning_rate=0.05, max_depth=10, min_data_in_leaf=20, n_estimators=100, num_leaves=10;, score=0.874 total time=   1.7s\n",
            "[CV 4/5] END learning_rate=0.05, max_depth=10, min_data_in_leaf=20, n_estimators=100, num_leaves=10;, score=0.874 total time=   1.7s\n",
            "[CV 5/5] END learning_rate=0.05, max_depth=10, min_data_in_leaf=20, n_estimators=100, num_leaves=10;, score=0.873 total time=   5.1s\n",
            "[CV 1/5] END learning_rate=0.2, max_depth=1, min_data_in_leaf=50, n_estimators=500, num_leaves=100;, score=0.848 total time=   4.1s\n",
            "[CV 2/5] END learning_rate=0.2, max_depth=1, min_data_in_leaf=50, n_estimators=500, num_leaves=100;, score=0.848 total time=   4.0s\n",
            "[CV 3/5] END learning_rate=0.2, max_depth=1, min_data_in_leaf=50, n_estimators=500, num_leaves=100;, score=0.850 total time=   7.4s\n",
            "[CV 4/5] END learning_rate=0.2, max_depth=1, min_data_in_leaf=50, n_estimators=500, num_leaves=100;, score=0.840 total time=   4.0s\n",
            "[CV 5/5] END learning_rate=0.2, max_depth=1, min_data_in_leaf=50, n_estimators=500, num_leaves=100;, score=0.856 total time=   4.1s\n",
            "[CV 1/5] END learning_rate=0.05, max_depth=5, min_data_in_leaf=100, n_estimators=100, num_leaves=200;, score=0.903 total time=   5.2s\n",
            "[CV 2/5] END learning_rate=0.05, max_depth=5, min_data_in_leaf=100, n_estimators=100, num_leaves=200;, score=0.901 total time=   1.9s\n",
            "[CV 3/5] END learning_rate=0.05, max_depth=5, min_data_in_leaf=100, n_estimators=100, num_leaves=200;, score=0.898 total time=   1.9s\n",
            "[CV 4/5] END learning_rate=0.05, max_depth=5, min_data_in_leaf=100, n_estimators=100, num_leaves=200;, score=0.900 total time=   1.9s\n",
            "[CV 5/5] END learning_rate=0.05, max_depth=5, min_data_in_leaf=100, n_estimators=100, num_leaves=200;, score=0.898 total time=   1.9s\n",
            "[CV 1/5] END learning_rate=0.1, max_depth=5, min_data_in_leaf=50, n_estimators=750, num_leaves=500;, score=0.985 total time=  15.7s\n",
            "[CV 2/5] END learning_rate=0.1, max_depth=5, min_data_in_leaf=50, n_estimators=750, num_leaves=500;, score=0.985 total time=  16.0s\n",
            "[CV 3/5] END learning_rate=0.1, max_depth=5, min_data_in_leaf=50, n_estimators=750, num_leaves=500;, score=0.985 total time=  14.9s\n",
            "[CV 4/5] END learning_rate=0.1, max_depth=5, min_data_in_leaf=50, n_estimators=750, num_leaves=500;, score=0.985 total time=  14.9s\n",
            "[CV 5/5] END learning_rate=0.1, max_depth=5, min_data_in_leaf=50, n_estimators=750, num_leaves=500;, score=0.988 total time=  15.3s\n",
            "[CV 1/5] END learning_rate=0.25, max_depth=15, min_data_in_leaf=20, n_estimators=100, num_leaves=500;, score=0.998 total time=   6.6s\n",
            "[CV 2/5] END learning_rate=0.25, max_depth=15, min_data_in_leaf=20, n_estimators=100, num_leaves=500;, score=0.998 total time=   5.1s\n",
            "[CV 3/5] END learning_rate=0.25, max_depth=15, min_data_in_leaf=20, n_estimators=100, num_leaves=500;, score=0.997 total time=   8.5s\n",
            "[CV 4/5] END learning_rate=0.25, max_depth=15, min_data_in_leaf=20, n_estimators=100, num_leaves=500;, score=0.997 total time=   5.0s\n",
            "[CV 5/5] END learning_rate=0.25, max_depth=15, min_data_in_leaf=20, n_estimators=100, num_leaves=500;, score=0.997 total time=   8.5s\n",
            "[CV 1/5] END learning_rate=0.05, max_depth=15, min_data_in_leaf=50, n_estimators=500, num_leaves=50;, score=0.988 total time=  12.7s\n",
            "[CV 2/5] END learning_rate=0.05, max_depth=15, min_data_in_leaf=50, n_estimators=500, num_leaves=50;, score=0.989 total time=  13.0s\n",
            "[CV 3/5] END learning_rate=0.05, max_depth=15, min_data_in_leaf=50, n_estimators=500, num_leaves=50;, score=0.987 total time=  11.0s\n",
            "[CV 4/5] END learning_rate=0.05, max_depth=15, min_data_in_leaf=50, n_estimators=500, num_leaves=50;, score=0.989 total time=  10.6s\n",
            "[CV 5/5] END learning_rate=0.05, max_depth=15, min_data_in_leaf=50, n_estimators=500, num_leaves=50;, score=0.991 total time=  12.7s\n",
            "[CV 1/5] END learning_rate=0.1, max_depth=5, min_data_in_leaf=20, n_estimators=100, num_leaves=500;, score=0.922 total time=   1.8s\n",
            "[CV 2/5] END learning_rate=0.1, max_depth=5, min_data_in_leaf=20, n_estimators=100, num_leaves=500;, score=0.926 total time=   5.2s\n",
            "[CV 3/5] END learning_rate=0.1, max_depth=5, min_data_in_leaf=20, n_estimators=100, num_leaves=500;, score=0.925 total time=   1.8s\n",
            "[CV 4/5] END learning_rate=0.1, max_depth=5, min_data_in_leaf=20, n_estimators=100, num_leaves=500;, score=0.924 total time=   1.8s\n",
            "[CV 5/5] END learning_rate=0.1, max_depth=5, min_data_in_leaf=20, n_estimators=100, num_leaves=500;, score=0.925 total time=   1.8s\n",
            "[CV 1/5] END learning_rate=0.1, max_depth=8, min_data_in_leaf=10, n_estimators=100, num_leaves=50;, score=0.957 total time=   2.3s\n",
            "[CV 2/5] END learning_rate=0.1, max_depth=8, min_data_in_leaf=10, n_estimators=100, num_leaves=50;, score=0.960 total time=   5.7s\n",
            "[CV 3/5] END learning_rate=0.1, max_depth=8, min_data_in_leaf=10, n_estimators=100, num_leaves=50;, score=0.956 total time=   2.3s\n",
            "[CV 4/5] END learning_rate=0.1, max_depth=8, min_data_in_leaf=10, n_estimators=100, num_leaves=50;, score=0.960 total time=   2.3s\n",
            "[CV 5/5] END learning_rate=0.1, max_depth=8, min_data_in_leaf=10, n_estimators=100, num_leaves=50;, score=0.961 total time=   2.3s\n",
            "[CV 1/5] END learning_rate=0.05, max_depth=3, min_data_in_leaf=50, n_estimators=100, num_leaves=10;, score=0.840 total time=   1.5s\n",
            "[CV 2/5] END learning_rate=0.05, max_depth=3, min_data_in_leaf=50, n_estimators=100, num_leaves=10;, score=0.833 total time=   4.8s\n",
            "[CV 3/5] END learning_rate=0.05, max_depth=3, min_data_in_leaf=50, n_estimators=100, num_leaves=10;, score=0.842 total time=   1.5s\n",
            "[CV 4/5] END learning_rate=0.05, max_depth=3, min_data_in_leaf=50, n_estimators=100, num_leaves=10;, score=0.837 total time=   1.5s\n",
            "[CV 5/5] END learning_rate=0.05, max_depth=3, min_data_in_leaf=50, n_estimators=100, num_leaves=10;, score=0.848 total time=   1.5s\n",
            "[CV 1/5] END learning_rate=0.05, max_depth=5, min_data_in_leaf=10, n_estimators=750, num_leaves=500;, score=0.964 total time=  15.5s\n",
            "[CV 2/5] END learning_rate=0.05, max_depth=5, min_data_in_leaf=10, n_estimators=750, num_leaves=500;, score=0.968 total time=  15.3s\n",
            "[CV 3/5] END learning_rate=0.05, max_depth=5, min_data_in_leaf=10, n_estimators=750, num_leaves=500;, score=0.967 total time=  15.5s\n",
            "[CV 4/5] END learning_rate=0.05, max_depth=5, min_data_in_leaf=10, n_estimators=750, num_leaves=500;, score=0.969 total time=  16.3s\n",
            "[CV 5/5] END learning_rate=0.05, max_depth=5, min_data_in_leaf=10, n_estimators=750, num_leaves=500;, score=0.969 total time=  15.4s\n",
            "[CV 1/5] END learning_rate=0.5, max_depth=10, min_data_in_leaf=20, n_estimators=750, num_leaves=200;, score=0.831 total time=  14.4s\n",
            "[CV 2/5] END learning_rate=0.5, max_depth=10, min_data_in_leaf=20, n_estimators=750, num_leaves=200;, score=0.839 total time=  14.9s\n",
            "[CV 3/5] END learning_rate=0.5, max_depth=10, min_data_in_leaf=20, n_estimators=750, num_leaves=200;, score=0.846 total time=  14.1s\n",
            "[CV 4/5] END learning_rate=0.5, max_depth=10, min_data_in_leaf=20, n_estimators=750, num_leaves=200;, score=0.655 total time=  14.5s\n",
            "[CV 5/5] END learning_rate=0.5, max_depth=10, min_data_in_leaf=20, n_estimators=750, num_leaves=200;, score=0.950 total time=  14.9s\n",
            "[CV 1/5] END learning_rate=0.5, max_depth=20, min_data_in_leaf=20, n_estimators=500, num_leaves=200;, score=0.777 total time=  12.9s\n",
            "[CV 2/5] END learning_rate=0.5, max_depth=20, min_data_in_leaf=20, n_estimators=500, num_leaves=200;, score=0.480 total time=  13.0s\n",
            "[CV 3/5] END learning_rate=0.5, max_depth=20, min_data_in_leaf=20, n_estimators=500, num_leaves=200;, score=0.780 total time=  12.6s\n",
            "[CV 4/5] END learning_rate=0.5, max_depth=20, min_data_in_leaf=20, n_estimators=500, num_leaves=200;, score=0.652 total time=  13.3s\n",
            "[CV 5/5] END learning_rate=0.5, max_depth=20, min_data_in_leaf=20, n_estimators=500, num_leaves=200;, score=0.742 total time=  13.6s\n",
            "[CV 1/5] END learning_rate=0.2, max_depth=20, min_data_in_leaf=25, n_estimators=500, num_leaves=50;, score=0.998 total time=  11.2s\n",
            "[CV 2/5] END learning_rate=0.2, max_depth=20, min_data_in_leaf=25, n_estimators=500, num_leaves=50;, score=0.997 total time=  11.1s\n",
            "[CV 3/5] END learning_rate=0.2, max_depth=20, min_data_in_leaf=25, n_estimators=500, num_leaves=50;, score=0.998 total time=   7.9s\n",
            "[CV 4/5] END learning_rate=0.2, max_depth=20, min_data_in_leaf=25, n_estimators=500, num_leaves=50;, score=0.997 total time=  11.3s\n",
            "[CV 5/5] END learning_rate=0.2, max_depth=20, min_data_in_leaf=25, n_estimators=500, num_leaves=50;, score=0.997 total time=  11.2s\n",
            "[CV 1/5] END learning_rate=0.15, max_depth=1, min_data_in_leaf=20, n_estimators=500, num_leaves=10;, score=0.839 total time=   4.0s\n",
            "[CV 2/5] END learning_rate=0.15, max_depth=1, min_data_in_leaf=20, n_estimators=500, num_leaves=10;, score=0.841 total time=   7.3s\n",
            "[CV 3/5] END learning_rate=0.15, max_depth=1, min_data_in_leaf=20, n_estimators=500, num_leaves=10;, score=0.838 total time=   4.1s\n",
            "[CV 4/5] END learning_rate=0.15, max_depth=1, min_data_in_leaf=20, n_estimators=500, num_leaves=10;, score=0.837 total time=   4.0s\n",
            "[CV 5/5] END learning_rate=0.15, max_depth=1, min_data_in_leaf=20, n_estimators=500, num_leaves=10;, score=0.840 total time=   7.3s\n",
            "[CV 1/5] END learning_rate=0.5, max_depth=15, min_data_in_leaf=20, n_estimators=500, num_leaves=500;, score=0.559 total time=  12.7s\n",
            "[CV 2/5] END learning_rate=0.5, max_depth=15, min_data_in_leaf=20, n_estimators=500, num_leaves=500;, score=0.769 total time=   9.7s\n",
            "[CV 3/5] END learning_rate=0.5, max_depth=15, min_data_in_leaf=20, n_estimators=500, num_leaves=500;, score=0.997 total time=  25.1s\n",
            "[CV 4/5] END learning_rate=0.5, max_depth=15, min_data_in_leaf=20, n_estimators=500, num_leaves=500;, score=0.997 total time=  24.3s\n",
            "[CV 5/5] END learning_rate=0.5, max_depth=15, min_data_in_leaf=20, n_estimators=500, num_leaves=500;, score=0.997 total time=  23.6s\n",
            "[CV 1/5] END learning_rate=0.3, max_depth=15, min_data_in_leaf=10, n_estimators=500, num_leaves=50;, score=0.954 total time=   9.0s\n",
            "[CV 2/5] END learning_rate=0.3, max_depth=15, min_data_in_leaf=10, n_estimators=500, num_leaves=50;, score=0.970 total time=  11.5s\n",
            "[CV 3/5] END learning_rate=0.3, max_depth=15, min_data_in_leaf=10, n_estimators=500, num_leaves=50;, score=0.979 total time=  11.3s\n",
            "[CV 4/5] END learning_rate=0.3, max_depth=15, min_data_in_leaf=10, n_estimators=500, num_leaves=50;, score=0.997 total time=   7.7s\n",
            "[CV 5/5] END learning_rate=0.3, max_depth=15, min_data_in_leaf=10, n_estimators=500, num_leaves=50;, score=0.982 total time=  11.4s\n",
            "[CV 1/5] END learning_rate=0.25, max_depth=5, min_data_in_leaf=10, n_estimators=750, num_leaves=10;, score=0.986 total time=  11.6s\n",
            "[CV 2/5] END learning_rate=0.25, max_depth=5, min_data_in_leaf=10, n_estimators=750, num_leaves=10;, score=0.988 total time=  11.6s\n",
            "[CV 3/5] END learning_rate=0.25, max_depth=5, min_data_in_leaf=10, n_estimators=750, num_leaves=10;, score=0.988 total time=   8.7s\n",
            "[CV 4/5] END learning_rate=0.25, max_depth=5, min_data_in_leaf=10, n_estimators=750, num_leaves=10;, score=0.988 total time=  10.6s\n",
            "[CV 5/5] END learning_rate=0.25, max_depth=5, min_data_in_leaf=10, n_estimators=750, num_leaves=10;, score=0.988 total time=  11.5s\n",
            "[CV 1/5] END learning_rate=0.01, max_depth=3, min_data_in_leaf=100, n_estimators=1000, num_leaves=500;, score=0.877 total time=  15.2s\n",
            "[CV 2/5] END learning_rate=0.01, max_depth=3, min_data_in_leaf=100, n_estimators=1000, num_leaves=500;, score=0.877 total time=  15.3s\n",
            "[CV 3/5] END learning_rate=0.01, max_depth=3, min_data_in_leaf=100, n_estimators=1000, num_leaves=500;, score=0.877 total time=  15.2s\n",
            "[CV 4/5] END learning_rate=0.01, max_depth=3, min_data_in_leaf=100, n_estimators=1000, num_leaves=500;, score=0.879 total time=  15.2s\n",
            "[CV 5/5] END learning_rate=0.01, max_depth=3, min_data_in_leaf=100, n_estimators=1000, num_leaves=500;, score=0.880 total time=  15.4s\n",
            "[CV 1/5] END learning_rate=0.1, max_depth=20, min_data_in_leaf=20, n_estimators=1000, num_leaves=31;, score=0.997 total time=  20.9s\n",
            "[CV 2/5] END learning_rate=0.1, max_depth=20, min_data_in_leaf=20, n_estimators=1000, num_leaves=31;, score=0.997 total time=  17.8s\n",
            "[CV 3/5] END learning_rate=0.1, max_depth=20, min_data_in_leaf=20, n_estimators=1000, num_leaves=31;, score=0.996 total time=  19.0s\n",
            "[CV 4/5] END learning_rate=0.1, max_depth=20, min_data_in_leaf=20, n_estimators=1000, num_leaves=31;, score=0.997 total time=  19.9s\n",
            "[CV 5/5] END learning_rate=0.1, max_depth=20, min_data_in_leaf=20, n_estimators=1000, num_leaves=31;, score=0.997 total time=  17.9s\n",
            "[CV 1/5] END learning_rate=0.1, max_depth=8, min_data_in_leaf=25, n_estimators=750, num_leaves=50;, score=0.997 total time=  17.7s\n",
            "[CV 2/5] END learning_rate=0.1, max_depth=8, min_data_in_leaf=25, n_estimators=750, num_leaves=50;, score=0.997 total time=  18.9s\n",
            "[CV 3/5] END learning_rate=0.1, max_depth=8, min_data_in_leaf=25, n_estimators=750, num_leaves=50;, score=0.997 total time=  17.1s\n",
            "[CV 4/5] END learning_rate=0.1, max_depth=8, min_data_in_leaf=25, n_estimators=750, num_leaves=50;, score=0.996 total time=  17.2s\n",
            "[CV 5/5] END learning_rate=0.1, max_depth=8, min_data_in_leaf=25, n_estimators=750, num_leaves=50;, score=0.997 total time=  17.1s\n",
            "[CV 1/5] END learning_rate=0.2, max_depth=1, min_data_in_leaf=25, n_estimators=500, num_leaves=50;, score=0.848 total time=   7.3s\n",
            "[CV 2/5] END learning_rate=0.2, max_depth=1, min_data_in_leaf=25, n_estimators=500, num_leaves=50;, score=0.848 total time=   4.0s\n",
            "[CV 3/5] END learning_rate=0.2, max_depth=1, min_data_in_leaf=25, n_estimators=500, num_leaves=50;, score=0.850 total time=   4.2s\n",
            "[CV 4/5] END learning_rate=0.2, max_depth=1, min_data_in_leaf=25, n_estimators=500, num_leaves=50;, score=0.840 total time=   6.9s\n",
            "[CV 5/5] END learning_rate=0.2, max_depth=1, min_data_in_leaf=25, n_estimators=500, num_leaves=50;, score=0.856 total time=   4.0s\n",
            "[CV 1/5] END learning_rate=0.2, max_depth=1, min_data_in_leaf=50, n_estimators=100, num_leaves=100;, score=0.787 total time=   1.0s\n",
            "[CV 2/5] END learning_rate=0.2, max_depth=1, min_data_in_leaf=50, n_estimators=100, num_leaves=100;, score=0.779 total time=   1.0s\n",
            "[CV 3/5] END learning_rate=0.2, max_depth=1, min_data_in_leaf=50, n_estimators=100, num_leaves=100;, score=0.775 total time=   1.2s\n",
            "[CV 4/5] END learning_rate=0.2, max_depth=1, min_data_in_leaf=50, n_estimators=100, num_leaves=100;, score=0.787 total time=   4.0s\n",
            "[CV 5/5] END learning_rate=0.2, max_depth=1, min_data_in_leaf=50, n_estimators=100, num_leaves=100;, score=0.778 total time=   1.0s\n",
            "[CV 1/5] END learning_rate=0.01, max_depth=10, min_data_in_leaf=50, n_estimators=1000, num_leaves=200;, score=0.984 total time=  41.9s\n",
            "[CV 2/5] END learning_rate=0.01, max_depth=10, min_data_in_leaf=50, n_estimators=1000, num_leaves=200;, score=0.988 total time=  41.3s\n",
            "[CV 3/5] END learning_rate=0.01, max_depth=10, min_data_in_leaf=50, n_estimators=1000, num_leaves=200;, score=0.984 total time=  41.9s\n",
            "[CV 4/5] END learning_rate=0.01, max_depth=10, min_data_in_leaf=50, n_estimators=1000, num_leaves=200;, score=0.987 total time=  42.6s\n",
            "[CV 5/5] END learning_rate=0.01, max_depth=10, min_data_in_leaf=50, n_estimators=1000, num_leaves=200;, score=0.989 total time=  41.3s\n",
            "[CV 1/5] END learning_rate=0.3, max_depth=5, min_data_in_leaf=20, n_estimators=750, num_leaves=200;, score=0.997 total time=  15.4s\n",
            "[CV 2/5] END learning_rate=0.3, max_depth=5, min_data_in_leaf=20, n_estimators=750, num_leaves=200;, score=0.997 total time=  14.7s\n",
            "[CV 3/5] END learning_rate=0.3, max_depth=5, min_data_in_leaf=20, n_estimators=750, num_leaves=200;, score=0.997 total time=  15.1s\n",
            "[CV 4/5] END learning_rate=0.3, max_depth=5, min_data_in_leaf=20, n_estimators=750, num_leaves=200;, score=0.996 total time=  15.0s\n",
            "[CV 5/5] END learning_rate=0.3, max_depth=5, min_data_in_leaf=20, n_estimators=750, num_leaves=200;, score=0.997 total time=  14.9s\n",
            "[CV 1/5] END learning_rate=0.05, max_depth=3, min_data_in_leaf=10, n_estimators=750, num_leaves=50;, score=0.917 total time=   9.7s\n",
            "[CV 2/5] END learning_rate=0.05, max_depth=3, min_data_in_leaf=10, n_estimators=750, num_leaves=50;, score=0.920 total time=  11.8s\n",
            "[CV 3/5] END learning_rate=0.05, max_depth=3, min_data_in_leaf=10, n_estimators=750, num_leaves=50;, score=0.917 total time=  11.8s\n",
            "[CV 4/5] END learning_rate=0.05, max_depth=3, min_data_in_leaf=10, n_estimators=750, num_leaves=50;, score=0.921 total time=  11.7s\n",
            "[CV 5/5] END learning_rate=0.05, max_depth=3, min_data_in_leaf=10, n_estimators=750, num_leaves=50;, score=0.921 total time=   8.4s\n",
            "[CV 1/5] END learning_rate=0.3, max_depth=20, min_data_in_leaf=25, n_estimators=100, num_leaves=31;, score=0.983 total time=   5.1s\n",
            "[CV 2/5] END learning_rate=0.3, max_depth=20, min_data_in_leaf=25, n_estimators=100, num_leaves=31;, score=0.982 total time=   1.8s\n",
            "[CV 3/5] END learning_rate=0.3, max_depth=20, min_data_in_leaf=25, n_estimators=100, num_leaves=31;, score=0.981 total time=   1.8s\n",
            "[CV 4/5] END learning_rate=0.3, max_depth=20, min_data_in_leaf=25, n_estimators=100, num_leaves=31;, score=0.982 total time=   1.7s\n",
            "[CV 5/5] END learning_rate=0.3, max_depth=20, min_data_in_leaf=25, n_estimators=100, num_leaves=31;, score=0.981 total time=   1.8s\n",
            "[CV 1/5] END learning_rate=0.15, max_depth=15, min_data_in_leaf=10, n_estimators=500, num_leaves=10;, score=0.968 total time=   9.0s\n",
            "[CV 2/5] END learning_rate=0.15, max_depth=15, min_data_in_leaf=10, n_estimators=500, num_leaves=10;, score=0.968 total time=   5.7s\n",
            "[CV 3/5] END learning_rate=0.15, max_depth=15, min_data_in_leaf=10, n_estimators=500, num_leaves=10;, score=0.967 total time=   9.0s\n",
            "[CV 4/5] END learning_rate=0.15, max_depth=15, min_data_in_leaf=10, n_estimators=500, num_leaves=10;, score=0.969 total time=   5.7s\n",
            "[CV 5/5] END learning_rate=0.15, max_depth=15, min_data_in_leaf=10, n_estimators=500, num_leaves=10;, score=0.969 total time=   8.9s\n",
            "[CV 1/5] END learning_rate=0.2, max_depth=20, min_data_in_leaf=50, n_estimators=1000, num_leaves=100;, score=0.998 total time=  27.2s\n",
            "[CV 2/5] END learning_rate=0.2, max_depth=20, min_data_in_leaf=50, n_estimators=1000, num_leaves=100;, score=0.998 total time=  27.1s\n",
            "[CV 3/5] END learning_rate=0.2, max_depth=20, min_data_in_leaf=50, n_estimators=1000, num_leaves=100;, score=0.997 total time=  25.0s\n",
            "[CV 4/5] END learning_rate=0.2, max_depth=20, min_data_in_leaf=50, n_estimators=1000, num_leaves=100;, score=0.997 total time=  27.1s\n",
            "[CV 5/5] END learning_rate=0.2, max_depth=20, min_data_in_leaf=50, n_estimators=1000, num_leaves=100;, score=0.997 total time=  27.7s\n",
            "[CV 1/5] END learning_rate=0.2, max_depth=20, min_data_in_leaf=20, n_estimators=100, num_leaves=500;, score=0.998 total time=   8.6s\n",
            "[CV 2/5] END learning_rate=0.2, max_depth=20, min_data_in_leaf=20, n_estimators=100, num_leaves=500;, score=0.998 total time=   5.5s\n",
            "[CV 3/5] END learning_rate=0.2, max_depth=20, min_data_in_leaf=20, n_estimators=100, num_leaves=500;, score=0.998 total time=   8.6s\n",
            "[CV 4/5] END learning_rate=0.2, max_depth=20, min_data_in_leaf=20, n_estimators=100, num_leaves=500;, score=0.997 total time=   5.5s\n",
            "[CV 5/5] END learning_rate=0.2, max_depth=20, min_data_in_leaf=20, n_estimators=100, num_leaves=500;, score=0.997 total time=   8.5s\n",
            "[CV 1/5] END learning_rate=0.01, max_depth=8, min_data_in_leaf=25, n_estimators=100, num_leaves=31;, score=0.862 total time=   2.2s\n",
            "[CV 2/5] END learning_rate=0.01, max_depth=8, min_data_in_leaf=25, n_estimators=100, num_leaves=31;, score=0.858 total time=   2.2s\n",
            "[CV 3/5] END learning_rate=0.01, max_depth=8, min_data_in_leaf=25, n_estimators=100, num_leaves=31;, score=0.863 total time=   5.5s\n",
            "[CV 4/5] END learning_rate=0.01, max_depth=8, min_data_in_leaf=25, n_estimators=100, num_leaves=31;, score=0.864 total time=   2.2s\n",
            "[CV 5/5] END learning_rate=0.01, max_depth=8, min_data_in_leaf=25, n_estimators=100, num_leaves=31;, score=0.864 total time=   2.2s\n",
            "[CV 1/5] END learning_rate=0.05, max_depth=10, min_data_in_leaf=50, n_estimators=750, num_leaves=50;, score=0.995 total time=  17.5s\n",
            "[CV 2/5] END learning_rate=0.05, max_depth=10, min_data_in_leaf=50, n_estimators=750, num_leaves=50;, score=0.993 total time=  19.3s\n",
            "[CV 3/5] END learning_rate=0.05, max_depth=10, min_data_in_leaf=50, n_estimators=750, num_leaves=50;, score=0.993 total time=  18.6s\n",
            "[CV 4/5] END learning_rate=0.05, max_depth=10, min_data_in_leaf=50, n_estimators=750, num_leaves=50;, score=0.994 total time=  17.5s\n",
            "[CV 5/5] END learning_rate=0.05, max_depth=10, min_data_in_leaf=50, n_estimators=750, num_leaves=50;, score=0.995 total time=  17.9s\n",
            "[CV 1/5] END learning_rate=0.01, max_depth=15, min_data_in_leaf=25, n_estimators=100, num_leaves=500;, score=0.975 total time=   8.0s\n",
            "[CV 2/5] END learning_rate=0.01, max_depth=15, min_data_in_leaf=25, n_estimators=100, num_leaves=500;, score=0.979 total time=   5.3s\n",
            "[CV 3/5] END learning_rate=0.01, max_depth=15, min_data_in_leaf=25, n_estimators=100, num_leaves=500;, score=0.975 total time=   8.6s\n",
            "[CV 4/5] END learning_rate=0.01, max_depth=15, min_data_in_leaf=25, n_estimators=100, num_leaves=500;, score=0.979 total time=   5.4s\n",
            "[CV 5/5] END learning_rate=0.01, max_depth=15, min_data_in_leaf=25, n_estimators=100, num_leaves=500;, score=0.978 total time=   8.6s\n",
            "[CV 1/5] END learning_rate=0.2, max_depth=10, min_data_in_leaf=50, n_estimators=1000, num_leaves=50;, score=0.998 total time=  20.8s\n",
            "[CV 2/5] END learning_rate=0.2, max_depth=10, min_data_in_leaf=50, n_estimators=1000, num_leaves=50;, score=0.998 total time=  23.0s\n",
            "[CV 3/5] END learning_rate=0.2, max_depth=10, min_data_in_leaf=50, n_estimators=1000, num_leaves=50;, score=0.997 total time=  22.2s\n",
            "[CV 4/5] END learning_rate=0.2, max_depth=10, min_data_in_leaf=50, n_estimators=1000, num_leaves=50;, score=0.997 total time=  20.8s\n",
            "[CV 5/5] END learning_rate=0.2, max_depth=10, min_data_in_leaf=50, n_estimators=1000, num_leaves=50;, score=0.997 total time=  21.7s\n",
            "[CV 1/5] END learning_rate=0.05, max_depth=10, min_data_in_leaf=20, n_estimators=1000, num_leaves=200;, score=0.998 total time=  42.1s\n",
            "[CV 2/5] END learning_rate=0.05, max_depth=10, min_data_in_leaf=20, n_estimators=1000, num_leaves=200;, score=0.998 total time=  42.8s\n",
            "[CV 3/5] END learning_rate=0.05, max_depth=10, min_data_in_leaf=20, n_estimators=1000, num_leaves=200;, score=0.998 total time=  42.0s\n",
            "[CV 4/5] END learning_rate=0.05, max_depth=10, min_data_in_leaf=20, n_estimators=1000, num_leaves=200;, score=0.997 total time=  43.4s\n",
            "[CV 5/5] END learning_rate=0.05, max_depth=10, min_data_in_leaf=20, n_estimators=1000, num_leaves=200;, score=0.997 total time=  42.0s\n",
            "[CV 1/5] END learning_rate=0.2, max_depth=10, min_data_in_leaf=20, n_estimators=500, num_leaves=10;, score=0.976 total time=   7.2s\n",
            "[CV 2/5] END learning_rate=0.2, max_depth=10, min_data_in_leaf=20, n_estimators=500, num_leaves=10;, score=0.976 total time=   6.1s\n",
            "[CV 3/5] END learning_rate=0.2, max_depth=10, min_data_in_leaf=20, n_estimators=500, num_leaves=10;, score=0.975 total time=   8.0s\n",
            "[CV 4/5] END learning_rate=0.2, max_depth=10, min_data_in_leaf=20, n_estimators=500, num_leaves=10;, score=0.978 total time=   6.1s\n",
            "[CV 5/5] END learning_rate=0.2, max_depth=10, min_data_in_leaf=20, n_estimators=500, num_leaves=10;, score=0.977 total time=   8.1s\n",
            "[CV 1/5] END learning_rate=0.01, max_depth=1, min_data_in_leaf=50, n_estimators=750, num_leaves=500;, score=0.758 total time=   7.1s\n",
            "[CV 2/5] END learning_rate=0.01, max_depth=1, min_data_in_leaf=50, n_estimators=750, num_leaves=500;, score=0.756 total time=   7.7s\n",
            "[CV 3/5] END learning_rate=0.01, max_depth=1, min_data_in_leaf=50, n_estimators=750, num_leaves=500;, score=0.759 total time=   9.2s\n",
            "[CV 4/5] END learning_rate=0.01, max_depth=1, min_data_in_leaf=50, n_estimators=750, num_leaves=500;, score=0.758 total time=   5.9s\n",
            "[CV 5/5] END learning_rate=0.01, max_depth=1, min_data_in_leaf=50, n_estimators=750, num_leaves=500;, score=0.759 total time=   9.2s\n",
            "[CV 1/5] END learning_rate=0.15, max_depth=3, min_data_in_leaf=25, n_estimators=750, num_leaves=10;, score=0.954 total time=   8.7s\n",
            "[CV 2/5] END learning_rate=0.15, max_depth=3, min_data_in_leaf=25, n_estimators=750, num_leaves=10;, score=0.956 total time=  11.6s\n",
            "[CV 3/5] END learning_rate=0.15, max_depth=3, min_data_in_leaf=25, n_estimators=750, num_leaves=10;, score=0.953 total time=  11.9s\n",
            "[CV 4/5] END learning_rate=0.15, max_depth=3, min_data_in_leaf=25, n_estimators=750, num_leaves=10;, score=0.956 total time=  11.9s\n",
            "[CV 5/5] END learning_rate=0.15, max_depth=3, min_data_in_leaf=25, n_estimators=750, num_leaves=10;, score=0.958 total time=  11.9s\n",
            "[CV 1/5] END learning_rate=0.5, max_depth=20, min_data_in_leaf=50, n_estimators=750, num_leaves=100;, score=0.858 total time=  15.3s\n",
            "[CV 2/5] END learning_rate=0.5, max_depth=20, min_data_in_leaf=50, n_estimators=750, num_leaves=100;, score=0.795 total time=  16.4s\n",
            "[CV 3/5] END learning_rate=0.5, max_depth=20, min_data_in_leaf=50, n_estimators=750, num_leaves=100;, score=0.997 total time=  24.2s\n",
            "[CV 4/5] END learning_rate=0.5, max_depth=20, min_data_in_leaf=50, n_estimators=750, num_leaves=100;, score=0.733 total time=  15.8s\n",
            "[CV 5/5] END learning_rate=0.5, max_depth=20, min_data_in_leaf=50, n_estimators=750, num_leaves=100;, score=0.666 total time=  14.6s\n",
            "[CV 1/5] END learning_rate=0.1, max_depth=3, min_data_in_leaf=20, n_estimators=100, num_leaves=200;, score=0.885 total time=   1.4s\n",
            "[CV 2/5] END learning_rate=0.1, max_depth=3, min_data_in_leaf=20, n_estimators=100, num_leaves=200;, score=0.876 total time=   1.4s\n",
            "[CV 3/5] END learning_rate=0.1, max_depth=3, min_data_in_leaf=20, n_estimators=100, num_leaves=200;, score=0.880 total time=   1.4s\n",
            "[CV 4/5] END learning_rate=0.1, max_depth=3, min_data_in_leaf=20, n_estimators=100, num_leaves=200;, score=0.883 total time=   1.4s\n",
            "[CV 5/5] END learning_rate=0.1, max_depth=3, min_data_in_leaf=20, n_estimators=100, num_leaves=200;, score=0.882 total time=   1.8s\n",
            "[CV 1/5] END learning_rate=0.01, max_depth=5, min_data_in_leaf=20, n_estimators=1000, num_leaves=31;, score=0.919 total time=  23.0s\n",
            "[CV 2/5] END learning_rate=0.01, max_depth=5, min_data_in_leaf=20, n_estimators=1000, num_leaves=31;, score=0.922 total time=  21.3s\n",
            "[CV 3/5] END learning_rate=0.01, max_depth=5, min_data_in_leaf=20, n_estimators=1000, num_leaves=31;, score=0.920 total time=  21.6s\n",
            "[CV 4/5] END learning_rate=0.01, max_depth=5, min_data_in_leaf=20, n_estimators=1000, num_leaves=31;, score=0.920 total time=  21.4s\n",
            "[CV 5/5] END learning_rate=0.01, max_depth=5, min_data_in_leaf=20, n_estimators=1000, num_leaves=31;, score=0.924 total time=  21.4s\n",
            "[CV 1/5] END learning_rate=0.2, max_depth=5, min_data_in_leaf=10, n_estimators=100, num_leaves=50;, score=0.949 total time=   1.8s\n",
            "[CV 2/5] END learning_rate=0.2, max_depth=5, min_data_in_leaf=10, n_estimators=100, num_leaves=50;, score=0.952 total time=   1.8s\n",
            "[CV 3/5] END learning_rate=0.2, max_depth=5, min_data_in_leaf=10, n_estimators=100, num_leaves=50;, score=0.950 total time=   5.1s\n",
            "[CV 4/5] END learning_rate=0.2, max_depth=5, min_data_in_leaf=10, n_estimators=100, num_leaves=50;, score=0.949 total time=   1.8s\n",
            "[CV 5/5] END learning_rate=0.2, max_depth=5, min_data_in_leaf=10, n_estimators=100, num_leaves=50;, score=0.953 total time=   1.8s\n",
            "[CV 1/5] END learning_rate=0.01, max_depth=1, min_data_in_leaf=50, n_estimators=1000, num_leaves=100;, score=0.768 total time=  11.1s\n",
            "[CV 2/5] END learning_rate=0.01, max_depth=1, min_data_in_leaf=50, n_estimators=1000, num_leaves=100;, score=0.765 total time=   7.8s\n",
            "[CV 3/5] END learning_rate=0.01, max_depth=1, min_data_in_leaf=50, n_estimators=1000, num_leaves=100;, score=0.768 total time=  11.1s\n",
            "[CV 4/5] END learning_rate=0.01, max_depth=1, min_data_in_leaf=50, n_estimators=1000, num_leaves=100;, score=0.768 total time=  11.1s\n",
            "[CV 5/5] END learning_rate=0.01, max_depth=1, min_data_in_leaf=50, n_estimators=1000, num_leaves=100;, score=0.771 total time=   8.1s\n",
            "[CV 1/5] END learning_rate=0.1, max_depth=20, min_data_in_leaf=25, n_estimators=500, num_leaves=10;, score=0.953 total time=   8.8s\n",
            "[CV 2/5] END learning_rate=0.1, max_depth=20, min_data_in_leaf=25, n_estimators=500, num_leaves=10;, score=0.958 total time=   7.7s\n",
            "[CV 3/5] END learning_rate=0.1, max_depth=20, min_data_in_leaf=25, n_estimators=500, num_leaves=10;, score=0.954 total time=   7.0s\n",
            "[CV 4/5] END learning_rate=0.1, max_depth=20, min_data_in_leaf=25, n_estimators=500, num_leaves=10;, score=0.956 total time=   7.0s\n",
            "[CV 5/5] END learning_rate=0.1, max_depth=20, min_data_in_leaf=25, n_estimators=500, num_leaves=10;, score=0.957 total time=   7.8s\n",
            "[CV 1/5] END learning_rate=0.15, max_depth=3, min_data_in_leaf=10, n_estimators=750, num_leaves=50;, score=0.955 total time=  12.0s\n",
            "[CV 2/5] END learning_rate=0.15, max_depth=3, min_data_in_leaf=10, n_estimators=750, num_leaves=50;, score=0.957 total time=  11.7s\n",
            "[CV 3/5] END learning_rate=0.15, max_depth=3, min_data_in_leaf=10, n_estimators=750, num_leaves=50;, score=0.953 total time=   8.5s\n",
            "[CV 4/5] END learning_rate=0.15, max_depth=3, min_data_in_leaf=10, n_estimators=750, num_leaves=50;, score=0.956 total time=  11.9s\n",
            "[CV 5/5] END learning_rate=0.15, max_depth=3, min_data_in_leaf=10, n_estimators=750, num_leaves=50;, score=0.957 total time=  11.9s\n",
            "[CV 1/5] END learning_rate=0.15, max_depth=5, min_data_in_leaf=25, n_estimators=100, num_leaves=10;, score=0.907 total time=   1.5s\n",
            "[CV 2/5] END learning_rate=0.15, max_depth=5, min_data_in_leaf=25, n_estimators=100, num_leaves=10;, score=0.903 total time=   1.5s\n",
            "[CV 3/5] END learning_rate=0.15, max_depth=5, min_data_in_leaf=25, n_estimators=100, num_leaves=10;, score=0.908 total time=   1.5s\n",
            "[CV 4/5] END learning_rate=0.15, max_depth=5, min_data_in_leaf=25, n_estimators=100, num_leaves=10;, score=0.903 total time=   3.5s\n",
            "[CV 5/5] END learning_rate=0.15, max_depth=5, min_data_in_leaf=25, n_estimators=100, num_leaves=10;, score=0.911 total time=   2.7s\n",
            "[CV 1/5] END learning_rate=0.25, max_depth=5, min_data_in_leaf=25, n_estimators=100, num_leaves=100;, score=0.959 total time=   1.8s\n",
            "[CV 2/5] END learning_rate=0.25, max_depth=5, min_data_in_leaf=25, n_estimators=100, num_leaves=100;, score=0.960 total time=   1.7s\n",
            "[CV 3/5] END learning_rate=0.25, max_depth=5, min_data_in_leaf=25, n_estimators=100, num_leaves=100;, score=0.956 total time=   1.8s\n",
            "[CV 4/5] END learning_rate=0.25, max_depth=5, min_data_in_leaf=25, n_estimators=100, num_leaves=100;, score=0.959 total time=   1.8s\n",
            "[CV 5/5] END learning_rate=0.25, max_depth=5, min_data_in_leaf=25, n_estimators=100, num_leaves=100;, score=0.961 total time=   1.8s\n",
            "[CV 1/5] END learning_rate=0.3, max_depth=20, min_data_in_leaf=20, n_estimators=100, num_leaves=200;, score=0.996 total time=   6.5s\n",
            "[CV 2/5] END learning_rate=0.3, max_depth=20, min_data_in_leaf=20, n_estimators=100, num_leaves=200;, score=0.995 total time=   3.2s\n",
            "[CV 3/5] END learning_rate=0.3, max_depth=20, min_data_in_leaf=20, n_estimators=100, num_leaves=200;, score=0.998 total time=   3.2s\n",
            "[CV 4/5] END learning_rate=0.3, max_depth=20, min_data_in_leaf=20, n_estimators=100, num_leaves=200;, score=0.997 total time=   6.6s\n",
            "[CV 5/5] END learning_rate=0.3, max_depth=20, min_data_in_leaf=20, n_estimators=100, num_leaves=200;, score=0.997 total time=   3.2s\n",
            "[CV 1/5] END learning_rate=0.3, max_depth=5, min_data_in_leaf=25, n_estimators=500, num_leaves=50;, score=0.996 total time=  11.1s\n",
            "[CV 2/5] END learning_rate=0.3, max_depth=5, min_data_in_leaf=25, n_estimators=500, num_leaves=50;, score=0.995 total time=   7.8s\n",
            "[CV 3/5] END learning_rate=0.3, max_depth=5, min_data_in_leaf=25, n_estimators=500, num_leaves=50;, score=0.995 total time=  11.0s\n",
            "[CV 4/5] END learning_rate=0.3, max_depth=5, min_data_in_leaf=25, n_estimators=500, num_leaves=50;, score=0.995 total time=  11.1s\n",
            "[CV 5/5] END learning_rate=0.3, max_depth=5, min_data_in_leaf=25, n_estimators=500, num_leaves=50;, score=0.996 total time=  11.2s\n"
          ]
        },
        {
          "output_type": "execute_result",
          "data": {
            "text/plain": [
              "{'num_leaves': 200,\n",
              " 'n_estimators': 1000,\n",
              " 'min_data_in_leaf': 20,\n",
              " 'max_depth': 10,\n",
              " 'learning_rate': 0.05}"
            ]
          },
          "metadata": {},
          "execution_count": 22
        }
      ],
      "source": [
        "# RandomizedSearchCV\n",
        "\n",
        "random_grid = {\n",
        "              \"n_estimators\": [100, 500, 750, 1000],\n",
        "              \"learning_rate\": [0.01, 0.05, 0.10, 0.15, 0.20, 0.25, 0.30, 0.50],\n",
        "              \"max_depth\": [1, 3, 5, 8, 10, 15, 20],\n",
        "              \"num_leaves\": [10, 31, 50, 100, 200, 500],\n",
        "              \"min_data_in_leaf\": [10, 20, 25, 50, 100]\n",
        "              }\n",
        "\n",
        "lightgbm_random = RandomizedSearchCV(estimator = lightgbm_clf, \n",
        "                                 param_distributions = random_grid, \n",
        "                                 n_iter = 50, \n",
        "                                 cv = 5, \n",
        "                                 verbose = 3, \n",
        "                                 scoring = 'recall',\n",
        "                                 random_state = 10)\n",
        "\n",
        "lightgbm_random.fit(X_train, y_train)\n",
        "lightgbm_random.best_params_"
      ]
    },
    {
      "cell_type": "code",
      "execution_count": null,
      "metadata": {
        "colab": {
          "base_uri": "https://localhost:8080/"
        },
        "id": "3Buvk-1HuQgN",
        "outputId": "ce45c3b0-cf85-4cb9-cea1-d9d848086f04"
      },
      "outputs": [
        {
          "data": {
            "text/plain": [
              "{'num_leaves': 200,\n",
              " 'n_estimators': 1000,\n",
              " 'min_data_in_leaf': 20,\n",
              " 'max_depth': 10,\n",
              " 'learning_rate': 0.05}"
            ]
          },
          "execution_count": 23,
          "metadata": {},
          "output_type": "execute_result"
        }
      ],
      "source": [
        "lightgbm_random.best_params_"
      ]
    },
    {
      "cell_type": "code",
      "execution_count": null,
      "metadata": {
        "colab": {
          "base_uri": "https://localhost:8080/"
        },
        "id": "IwXt3LshuRtA",
        "outputId": "4b441ecc-d2a4-4850-a32f-ad7d2617236c"
      },
      "outputs": [
        {
          "data": {
            "text/plain": [
              "0.9975956107551734"
            ]
          },
          "execution_count": 24,
          "metadata": {},
          "output_type": "execute_result"
        }
      ],
      "source": [
        "lightgbm_random.best_score_"
      ]
    },
    {
      "cell_type": "markdown",
      "metadata": {
        "id": "QpthCMRHuhWe"
      },
      "source": [
        "## Artificial Neural Network\n",
        "\n",
        "- Library: Keras, Tensorflow"
      ]
    },
    {
      "cell_type": "code",
      "source": [
        "tf.random.set_seed(10)\n",
        "\n",
        "print(tf.__version__)\n",
        "print(keras.__version__)"
      ],
      "metadata": {
        "id": "DkGOrGxZU1al"
      },
      "execution_count": null,
      "outputs": []
    },
    {
      "cell_type": "markdown",
      "metadata": {
        "id": "vivojhGnfeEz"
      },
      "source": [
        "#### Experiment 1: Base Model"
      ]
    },
    {
      "cell_type": "code",
      "execution_count": null,
      "metadata": {
        "id": "XO7_fl_pfaEP",
        "colab": {
          "base_uri": "https://localhost:8080/"
        },
        "outputId": "5cacfc46-8e6b-401d-98c3-00e8934080bd"
      },
      "outputs": [
        {
          "output_type": "stream",
          "name": "stdout",
          "text": [
            "<class 'pandas.core.frame.DataFrame'>\n",
            "Int64Index: 272834 entries, 32349 to 236669\n",
            "Data columns (total 6 columns):\n",
            " #   Column      Non-Null Count   Dtype  \n",
            "---  ------      --------------   -----  \n",
            " 0   LATITUDE    272834 non-null  float64\n",
            " 1   LONGITUDE   272834 non-null  float64\n",
            " 2   CO_MOL/M2   272834 non-null  float64\n",
            " 3   SO2_MOL/M2  272834 non-null  float64\n",
            " 4   NO2_MOL/M2  272834 non-null  float64\n",
            " 5   O3_MOL/M2   272834 non-null  float64\n",
            "dtypes: float64(6)\n",
            "memory usage: 14.6 MB\n"
          ]
        }
      ],
      "source": [
        "X_train.info()"
      ]
    },
    {
      "cell_type": "code",
      "execution_count": null,
      "metadata": {
        "id": "OVpParvzfhtl",
        "colab": {
          "base_uri": "https://localhost:8080/"
        },
        "outputId": "83fc3791-b409-49a3-b94f-7e6bc6d64554"
      },
      "outputs": [
        {
          "output_type": "stream",
          "name": "stdout",
          "text": [
            "Model: \"sequential\"\n",
            "_________________________________________________________________\n",
            " Layer (type)                Output Shape              Param #   \n",
            "=================================================================\n",
            " dense (Dense)               (None, 15)                105       \n",
            "                                                                 \n",
            " dense_1 (Dense)             (None, 10)                160       \n",
            "                                                                 \n",
            " dense_2 (Dense)             (None, 1)                 11        \n",
            "                                                                 \n",
            "=================================================================\n",
            "Total params: 276\n",
            "Trainable params: 276\n",
            "Non-trainable params: 0\n",
            "_________________________________________________________________\n"
          ]
        }
      ],
      "source": [
        "ann_clf = keras.models.Sequential([\n",
        "    keras.layers.Dense(15, input_shape=(X_train.shape[1],), activation='relu'), # No bias term\n",
        "    # keras.layers.Dense(10, activation='relu'), \n",
        "    keras.layers.Dense(10, activation='relu'), \n",
        "    keras.layers.Dense(1, activation='sigmoid')\n",
        "])\n",
        "\n",
        "ann_clf.summary()"
      ]
    },
    {
      "cell_type": "code",
      "execution_count": null,
      "metadata": {
        "id": "zfmrnfPOhhPr",
        "colab": {
          "base_uri": "https://localhost:8080/",
          "height": 72
        },
        "outputId": "fcc7ba0f-6e1e-4ba0-da3c-443d5dc232c7"
      },
      "outputs": [
        {
          "output_type": "display_data",
          "data": {
            "text/plain": [
              "0    136417\n",
              "1    136417\n",
              "Name: FIRE_OCCURRED, dtype: int64"
            ]
          },
          "metadata": {}
        }
      ],
      "source": [
        "display(y_train.value_counts())"
      ]
    },
    {
      "cell_type": "code",
      "execution_count": null,
      "metadata": {
        "id": "ZN18brcTbRwx",
        "colab": {
          "base_uri": "https://localhost:8080/",
          "height": 72
        },
        "outputId": "4e2175ca-e1ed-4423-b201-22448e5dffc9"
      },
      "outputs": [
        {
          "output_type": "display_data",
          "data": {
            "text/plain": [
              "0    17068\n",
              "1      122\n",
              "Name: FIRE_OCCURRED, dtype: int64"
            ]
          },
          "metadata": {}
        }
      ],
      "source": [
        "display(y_val.value_counts())"
      ]
    },
    {
      "cell_type": "code",
      "source": [
        "ann_clf.compile(optimizer = 'adam',\n",
        "                metrics=['accuracy'],\n",
        "                loss = 'binary_crossentropy')\n",
        "\n",
        "# ann_clf.compile(optimizer = 'adam', \n",
        "#                 loss ='binary_crossentropy',\n",
        "#                 metrics=[tf.keras.metrics.Accuracy(), tf.keras.metrics.Recall()])\n",
        "\n",
        "record = ann_clf.fit(\n",
        "            X_train, \n",
        "            y_train, \n",
        "            validation_data = (X_val, y_val), \n",
        "            batch_size = 10, \n",
        "            epochs = 50)"
      ],
      "metadata": {
        "id": "YM56ZbXjgrrE"
      },
      "execution_count": null,
      "outputs": []
    },
    {
      "cell_type": "code",
      "execution_count": null,
      "metadata": {
        "id": "ChuhGr3Ufmgq"
      },
      "outputs": [],
      "source": [
        "keras.utils.plot_model(ann_clf, show_shapes=True, rankdir=\"LR\")"
      ]
    },
    {
      "cell_type": "code",
      "execution_count": null,
      "metadata": {
        "id": "rsSZTcIlfnQa"
      },
      "outputs": [],
      "source": [
        "_, train_acc = ann_clf.evaluate(X_train, y_train, verbose=0)\n",
        "_, val_acc = ann_clf.evaluate(X_val, y_val, verbose=0)\n",
        "_, test_acc = ann_clf.evaluate(X_test, y_test, verbose=0)\n",
        "print('Train: %.3f, Validation: %.3f, Test: %.3f' % (train_acc, val_acc, test_acc))"
      ]
    },
    {
      "cell_type": "code",
      "execution_count": null,
      "metadata": {
        "id": "Jvmnf03BfoDj"
      },
      "outputs": [],
      "source": [
        "plt.plot(record.history['accuracy'], label='Training')\n",
        "plt.plot(record.history['val_accuracy'], label='Validation')\n",
        "plt.legend()\n",
        "plt.xlabel('Epochs', fontsize=16)\n",
        "plt.ylabel('Accuracy', fontsize=16)\n",
        "plt.title('Accuracy Curves', fontsize=16)\n",
        "plt.show()"
      ]
    },
    {
      "cell_type": "code",
      "execution_count": null,
      "metadata": {
        "id": "Bk9KBNCCfpw5"
      },
      "outputs": [],
      "source": [
        "# plot training history\n",
        "plt.plot(record.history['loss'], label='Training')\n",
        "plt.plot(record.history['val_loss'], label='Validation')\n",
        "plt.legend()\n",
        "plt.xlabel('Epochs', fontsize=14)\n",
        "plt.ylabel('Loss', fontsize=14)\n",
        "plt.title('Loss Curves', fontsize=16)\n",
        "plt.show()"
      ]
    },
    {
      "cell_type": "markdown",
      "metadata": {
        "id": "hy1WHdJSfrl1"
      },
      "source": [
        "#### Experiment 2: Different Batch Sizes"
      ]
    },
    {
      "cell_type": "code",
      "execution_count": null,
      "metadata": {
        "id": "EbpRvs_nfsV4"
      },
      "outputs": [],
      "source": [
        "# Fit a Model and Plot Learning Curve\n",
        "\n",
        "def fit_model_1(X_train, y_train, X_val, y_val, n_batch):\n",
        "  \n",
        "  # Define Model\n",
        "  ann_clf = keras.models.Sequential([\n",
        "      keras.layers.Dense(15, input_shape=(X_train.shape[1],), activation='relu'), # No bias term\n",
        "      # keras.layers.Dense(10, activation='relu'), \n",
        "      keras.layers.Dense(10, activation='relu'), \n",
        "      keras.layers.Dense(1, activation='sigmoid')\n",
        "  ])\n",
        "\n",
        "  # Compile Model\n",
        "  ann_clf.compile(optimizer = 'adam',\n",
        "                  metrics=['accuracy'],\n",
        "                  loss = 'binary_crossentropy')\n",
        "\n",
        "  \n",
        "  # Fit Model\n",
        "  history = ann_clf.fit(X_train,\n",
        "                      y_train,\n",
        "                      validation_data=(X_val, y_val),\n",
        "                      epochs=100,\n",
        "                      verbose=0,\n",
        "                      batch_size=n_batch)\n",
        "\n",
        "  # Plot Learning Curves\n",
        "  plt.plot(history.history['accuracy'], label='train') \n",
        "  plt.plot(history.history['val_accuracy'], label='test') \n",
        "  plt.title('batch='+str(n_batch)) \n",
        "  plt.legend()"
      ]
    },
    {
      "cell_type": "code",
      "execution_count": null,
      "metadata": {
        "id": "govzlyT3fwI0"
      },
      "outputs": [],
      "source": [
        "# Create Learning Curves for Different Batch Sizes\n",
        "\n",
        "# batch_sizes = [4, 6, 10, 16, 32, 64, 128, 260]\n",
        "batch_sizes = [5, 10, 15, 20, 25, 30]\n",
        "\n",
        "plt.figure(figsize=(10,15))\n",
        "for i in range(len(batch_sizes)):\n",
        "\n",
        "  # Determine the Plot Number\n",
        "  plot_no = 420 + (i+1)\n",
        "  plt.subplot(plot_no)\n",
        "\n",
        "  # Fit Model and Plot Learning Curves for a Batch Size\n",
        "  fit_model_1(X_train, y_train, X_val, y_val, batch_sizes[i])\n",
        "\n",
        "plt.show()"
      ]
    },
    {
      "cell_type": "markdown",
      "metadata": {
        "id": "ijreZVeVs9OP"
      },
      "source": [
        "Based on the accuracy graph above, the model that is good enough to show stability is the model with batch size 15"
      ]
    },
    {
      "cell_type": "markdown",
      "metadata": {
        "id": "jDdPwZjcfxsF"
      },
      "source": [
        "#### Experiment 3: Different EPOCHs"
      ]
    },
    {
      "cell_type": "code",
      "execution_count": null,
      "metadata": {
        "id": "gjSGc9u6fxTv"
      },
      "outputs": [],
      "source": [
        "# Fit a Model and Plot Learning Curve\n",
        "\n",
        "def fit_model_2(X_train, y_train, X_val, y_val, n_epoch):\n",
        "\n",
        "  # Define Model\n",
        "  ann_clf = keras.models.Sequential([\n",
        "      keras.layers.Dense(15, input_shape=(X_train.shape[1],), activation='relu'), # No bias term\n",
        "      # keras.layers.Dense(10, activation='relu'), \n",
        "      keras.layers.Dense(10, activation='relu'), \n",
        "      keras.layers.Dense(1, activation='sigmoid')\n",
        "  ])\n",
        "\n",
        "  # Compile Model\n",
        "  ann_clf.compile(optimizer = 'adam',\n",
        "                  metrics=['accuracy'],\n",
        "                  loss = 'binary_crossentropy')\n",
        "\n",
        "    \n",
        "  # Fit Model\n",
        "  history = ann_clf.fit(X_train,\n",
        "                      y_train,\n",
        "                      validation_data=(X_val, y_val),\n",
        "                      epochs=n_epoch,\n",
        "                      verbose=0,\n",
        "                      batch_size=15)\n",
        "    \n",
        "  # Plot Learning Curves\n",
        "  plt.plot(history.history['accuracy'], label='train')\n",
        "  plt.plot(history.history['val_accuracy'], label='test')\n",
        "  plt.title('epoch='+str(n_epoch))\n",
        "  plt.legend()"
      ]
    },
    {
      "cell_type": "code",
      "execution_count": null,
      "metadata": {
        "id": "SP2zm_ySfznt"
      },
      "outputs": [],
      "source": [
        "# Create Learning Curves for Different EPOCHs\n",
        "\n",
        "epochs = [20, 50, 80, 100]\n",
        "\n",
        "plt.figure(figsize=(10,15))\n",
        "for i in range(len(epochs)):\n",
        "\n",
        "  # Determine the Plot Number\n",
        "  plot_no = 420 + (i+1)\n",
        "  plt.subplot(plot_no)\n",
        "\n",
        "  # Fit Model and Plot Learning Curves for an EPOCH\n",
        "  fit_model_2(X_train, y_train, X_val, y_val, epochs[i])\n",
        "\n",
        "plt.show()"
      ]
    },
    {
      "cell_type": "markdown",
      "metadata": {
        "id": "FgOswfIGtCEp"
      },
      "source": [
        "Based on the accuracy graph above, the model that is good enough to show stability is the model with EPCOH 50"
      ]
    },
    {
      "cell_type": "markdown",
      "metadata": {
        "id": "3_QvFWOmf0JZ"
      },
      "source": [
        "#### Experiment 4: Early Stopping"
      ]
    },
    {
      "cell_type": "code",
      "execution_count": null,
      "metadata": {
        "id": "3AUOp_Qwf2_U"
      },
      "outputs": [],
      "source": [
        "from keras.callbacks import EarlyStopping\n",
        "from keras.callbacks import ModelCheckpoint"
      ]
    },
    {
      "cell_type": "code",
      "execution_count": null,
      "metadata": {
        "id": "-dBPUNAngRj7"
      },
      "outputs": [],
      "source": [
        "def fit_model_3():\n",
        "\n",
        "  # Define Model\n",
        "  ann_clf = keras.models.Sequential([\n",
        "      keras.layers.Dense(15, input_shape=(X_train.shape[1],), activation='relu'), # No bias term\n",
        "      # keras.layers.Dense(10, activation='relu'), \n",
        "      keras.layers.Dense(10, activation='relu'), \n",
        "      keras.layers.Dropout(0.2),\n",
        "      keras.layers.Dense(1, activation='sigmoid')\n",
        "  ])\n",
        "\n",
        "  # Compile Model\n",
        "  ann_clf.compile(optimizer = 'adam',\n",
        "                  metrics=['accuracy'],\n",
        "                  loss = 'binary_crossentropy')\n",
        "\n",
        "  return ann_clf\n",
        "\n",
        "ann_clf = fit_model_3()\n",
        "\n",
        "es = EarlyStopping(monitor='val_loss',\n",
        "                   mode='min',\n",
        "                   verbose=1,\n",
        "                   patience=150)\n",
        "\n",
        "mc = ModelCheckpoint('best_model.h5',\n",
        "                     monitor='val_accuracy',\n",
        "                     mode='max',\n",
        "                     verbose=1,\n",
        "                     save_best_only=True)\n",
        "\n",
        "history = ann_clf.fit(X_train,\n",
        "                    y_train,\n",
        "                    validation_data=(X_val, y_val),\n",
        "                    epochs=50,\n",
        "                    verbose=0,\n",
        "                    batch_size=15,\n",
        "                    callbacks=[es, mc])"
      ]
    },
    {
      "cell_type": "code",
      "execution_count": null,
      "metadata": {
        "id": "C5BRoQZKs2xD"
      },
      "outputs": [],
      "source": [
        "# plot training history\n",
        "plt.plot(history.history['loss'], label='Training')\n",
        "plt.plot(history.history['val_loss'], label='Validation')\n",
        "plt.legend()\n",
        "plt.xlabel('Epochs', fontsize=14)\n",
        "plt.ylabel('Loss', fontsize=14)\n",
        "plt.title('Loss Curves', fontsize=16)\n",
        "plt.show()"
      ]
    },
    {
      "cell_type": "code",
      "execution_count": null,
      "metadata": {
        "id": "ctyV4qGXs32m"
      },
      "outputs": [],
      "source": [
        "plt.figure(figsize=[8,5])\n",
        "plt.plot(history.history['accuracy'], label='Training')\n",
        "plt.plot(history.history['val_accuracy'], label='Validation')\n",
        "plt.legend()\n",
        "plt.xlabel('Epochs', fontsize=16)\n",
        "plt.ylabel('Accuracy', fontsize=16)\n",
        "plt.title('Accuracy Curves', fontsize=16)\n",
        "\n",
        "plt.show()"
      ]
    },
    {
      "cell_type": "code",
      "execution_count": null,
      "metadata": {
        "id": "U2gkZNesMiMV"
      },
      "outputs": [],
      "source": [
        "_, train_acc = ann_clf.evaluate(X_train, y_train, verbose=0)\n",
        "_, val_acc = ann_clf.evaluate(X_val, y_val, verbose=0)\n",
        "_, test_acc = ann_clf.evaluate(X_test, y_test, verbose=0)\n",
        "print('Train: %.3f, Validation: %.3f, Test: %.3f' % (train_acc, val_acc, test_acc))"
      ]
    },
    {
      "cell_type": "markdown",
      "metadata": {
        "id": "ScrqamwvMuWL"
      },
      "source": [
        "Accuracy result for no early stopping  - Train: 0.964, Validation: 0.946, Test: 0.945\n",
        "\n",
        "Accuracy result for early stopping - Train: 0.961, Validation: 0.935, Test: 0.931\n",
        "\n",
        "Early stopping is not beneficial"
      ]
    },
    {
      "cell_type": "markdown",
      "metadata": {
        "id": "4rBdGe3Gukv6"
      },
      "source": [
        "## Voting Classifier\n",
        "\n",
        "- Library: Scikit-learn, Keras, Tensorflow\n",
        "- Shuffling does not affect the model building. No random_state.\n",
        "- No need for RandomizedSearchCV since there is only 1 important hyperparameter: voting"
      ]
    },
    {
      "cell_type": "code",
      "execution_count": null,
      "metadata": {
        "id": "YIe8XVe4gBMX"
      },
      "outputs": [],
      "source": [
        "# Re-train top 3 models using their best hyperparameters\n",
        "\n",
        "model_1 = LGBMClassifier(n_estimators=1000, learning_rate=0.1, max_depth=3, random_state=10)\n",
        "model_2 = XGBClassifier(n_estimators=1000, min_child_weight=5, max_depth=10, learning_rate=0.25)\n",
        "model_3 = KNeighborsClassifier(n_neighbors=7, algorithm='ball_tree')\n",
        "\n",
        "name = 'ensem_clf'\n",
        "\n",
        "train = pd.DataFrame(columns = ['voting', 'n_jobs'])\n",
        "train = train.append({'voting': 'hard', 'n_jobs': -1}, ignore_index=True)\n",
        "train = train.append({'voting': 'soft', 'n_jobs': -1}, ignore_index=True)\n",
        "train = train.reset_index()\n",
        "\n",
        "for index, row in train.iterrows():\n",
        "    model_name = name + str(index)\n",
        "    ens_clf = VotingClassifier(estimators=[('m1', model_1), ('m2', model_2), ('m3', model_3)],\n",
        "                               voting = row['voting'],\n",
        "                               n_jobs = int(row['n_jobs']))\n",
        "    ens_clf.fit(X_train, y_train)\n",
        "    y_true = y_val\n",
        "    y_pred = ens_clf.predict(X_val)\n",
        "    evaluation_results = evaluation_metrics(y_true, y_pred)\n",
        "\n",
        "    models = models.append({'model_name': model_name, \n",
        "                            'model': ens_clf, \n",
        "                            'parameters': ens_clf.get_params()}, \n",
        "                            ignore_index=True)\n",
        "    \n",
        "    models_eval = models_eval.append({'model_name': model_name, \n",
        "                                      'confusion_matrix' : evaluation_results[0], \n",
        "                                      'accuracy': evaluation_results[1], \n",
        "                                      'recall' : evaluation_results[2], \n",
        "                                      'f1_score': evaluation_results[3], \n",
        "                                      'roc_auc_score': evaluation_results[4]}, \n",
        "                                      ignore_index=True)"
      ]
    },
    {
      "cell_type": "code",
      "execution_count": null,
      "metadata": {
        "id": "4QSXpubgkL5b",
        "colab": {
          "base_uri": "https://localhost:8080/",
          "height": 300
        },
        "outputId": "dbb877cf-9dbd-4405-b16c-66bc0af2129c"
      },
      "outputs": [
        {
          "output_type": "display_data",
          "data": {
            "text/plain": [
              "      model_name        confusion_matrix  accuracy    recall  f1_score  \\\n",
              "0   xgboost_clf0    [16995, 73, 21, 101]  0.994532  0.827869  0.682432   \n",
              "1   xgboost_clf1  [14793, 2275, 22, 100]  0.866376  0.819672  0.080096   \n",
              "2   xgboost_clf2   [16719, 349, 20, 102]  0.978534  0.836066  0.356021   \n",
              "3  lightgbm_clf0   [16174, 894, 20, 102]  0.946830  0.836066  0.182469   \n",
              "4  lightgbm_clf1  [14730, 2338, 22, 100]  0.862711  0.819672  0.078125   \n",
              "5  lightgbm_clf2  [16026, 1042, 20, 102]  0.938220  0.836066  0.161137   \n",
              "6     ensem_clf0   [16791, 277, 20, 102]  0.982723  0.836066  0.407186   \n",
              "7     ensem_clf1   [16840, 228, 21, 101]  0.985515  0.827869  0.447894   \n",
              "\n",
              "   roc_auc_score  \n",
              "0       0.911796  \n",
              "1       0.843191  \n",
              "2       0.907809  \n",
              "3       0.891843  \n",
              "4       0.841345  \n",
              "5       0.887508  \n",
              "6       0.909918  \n",
              "7       0.907255  "
            ],
            "text/html": [
              "\n",
              "  <div id=\"df-6243655b-d050-45e0-be3d-ed511345f7ba\">\n",
              "    <div class=\"colab-df-container\">\n",
              "      <div>\n",
              "<style scoped>\n",
              "    .dataframe tbody tr th:only-of-type {\n",
              "        vertical-align: middle;\n",
              "    }\n",
              "\n",
              "    .dataframe tbody tr th {\n",
              "        vertical-align: top;\n",
              "    }\n",
              "\n",
              "    .dataframe thead th {\n",
              "        text-align: right;\n",
              "    }\n",
              "</style>\n",
              "<table border=\"1\" class=\"dataframe\">\n",
              "  <thead>\n",
              "    <tr style=\"text-align: right;\">\n",
              "      <th></th>\n",
              "      <th>model_name</th>\n",
              "      <th>confusion_matrix</th>\n",
              "      <th>accuracy</th>\n",
              "      <th>recall</th>\n",
              "      <th>f1_score</th>\n",
              "      <th>roc_auc_score</th>\n",
              "    </tr>\n",
              "  </thead>\n",
              "  <tbody>\n",
              "    <tr>\n",
              "      <th>0</th>\n",
              "      <td>xgboost_clf0</td>\n",
              "      <td>[16995, 73, 21, 101]</td>\n",
              "      <td>0.994532</td>\n",
              "      <td>0.827869</td>\n",
              "      <td>0.682432</td>\n",
              "      <td>0.911796</td>\n",
              "    </tr>\n",
              "    <tr>\n",
              "      <th>1</th>\n",
              "      <td>xgboost_clf1</td>\n",
              "      <td>[14793, 2275, 22, 100]</td>\n",
              "      <td>0.866376</td>\n",
              "      <td>0.819672</td>\n",
              "      <td>0.080096</td>\n",
              "      <td>0.843191</td>\n",
              "    </tr>\n",
              "    <tr>\n",
              "      <th>2</th>\n",
              "      <td>xgboost_clf2</td>\n",
              "      <td>[16719, 349, 20, 102]</td>\n",
              "      <td>0.978534</td>\n",
              "      <td>0.836066</td>\n",
              "      <td>0.356021</td>\n",
              "      <td>0.907809</td>\n",
              "    </tr>\n",
              "    <tr>\n",
              "      <th>3</th>\n",
              "      <td>lightgbm_clf0</td>\n",
              "      <td>[16174, 894, 20, 102]</td>\n",
              "      <td>0.946830</td>\n",
              "      <td>0.836066</td>\n",
              "      <td>0.182469</td>\n",
              "      <td>0.891843</td>\n",
              "    </tr>\n",
              "    <tr>\n",
              "      <th>4</th>\n",
              "      <td>lightgbm_clf1</td>\n",
              "      <td>[14730, 2338, 22, 100]</td>\n",
              "      <td>0.862711</td>\n",
              "      <td>0.819672</td>\n",
              "      <td>0.078125</td>\n",
              "      <td>0.841345</td>\n",
              "    </tr>\n",
              "    <tr>\n",
              "      <th>5</th>\n",
              "      <td>lightgbm_clf2</td>\n",
              "      <td>[16026, 1042, 20, 102]</td>\n",
              "      <td>0.938220</td>\n",
              "      <td>0.836066</td>\n",
              "      <td>0.161137</td>\n",
              "      <td>0.887508</td>\n",
              "    </tr>\n",
              "    <tr>\n",
              "      <th>6</th>\n",
              "      <td>ensem_clf0</td>\n",
              "      <td>[16791, 277, 20, 102]</td>\n",
              "      <td>0.982723</td>\n",
              "      <td>0.836066</td>\n",
              "      <td>0.407186</td>\n",
              "      <td>0.909918</td>\n",
              "    </tr>\n",
              "    <tr>\n",
              "      <th>7</th>\n",
              "      <td>ensem_clf1</td>\n",
              "      <td>[16840, 228, 21, 101]</td>\n",
              "      <td>0.985515</td>\n",
              "      <td>0.827869</td>\n",
              "      <td>0.447894</td>\n",
              "      <td>0.907255</td>\n",
              "    </tr>\n",
              "  </tbody>\n",
              "</table>\n",
              "</div>\n",
              "      <button class=\"colab-df-convert\" onclick=\"convertToInteractive('df-6243655b-d050-45e0-be3d-ed511345f7ba')\"\n",
              "              title=\"Convert this dataframe to an interactive table.\"\n",
              "              style=\"display:none;\">\n",
              "        \n",
              "  <svg xmlns=\"http://www.w3.org/2000/svg\" height=\"24px\"viewBox=\"0 0 24 24\"\n",
              "       width=\"24px\">\n",
              "    <path d=\"M0 0h24v24H0V0z\" fill=\"none\"/>\n",
              "    <path d=\"M18.56 5.44l.94 2.06.94-2.06 2.06-.94-2.06-.94-.94-2.06-.94 2.06-2.06.94zm-11 1L8.5 8.5l.94-2.06 2.06-.94-2.06-.94L8.5 2.5l-.94 2.06-2.06.94zm10 10l.94 2.06.94-2.06 2.06-.94-2.06-.94-.94-2.06-.94 2.06-2.06.94z\"/><path d=\"M17.41 7.96l-1.37-1.37c-.4-.4-.92-.59-1.43-.59-.52 0-1.04.2-1.43.59L10.3 9.45l-7.72 7.72c-.78.78-.78 2.05 0 2.83L4 21.41c.39.39.9.59 1.41.59.51 0 1.02-.2 1.41-.59l7.78-7.78 2.81-2.81c.8-.78.8-2.07 0-2.86zM5.41 20L4 18.59l7.72-7.72 1.47 1.35L5.41 20z\"/>\n",
              "  </svg>\n",
              "      </button>\n",
              "      \n",
              "  <style>\n",
              "    .colab-df-container {\n",
              "      display:flex;\n",
              "      flex-wrap:wrap;\n",
              "      gap: 12px;\n",
              "    }\n",
              "\n",
              "    .colab-df-convert {\n",
              "      background-color: #E8F0FE;\n",
              "      border: none;\n",
              "      border-radius: 50%;\n",
              "      cursor: pointer;\n",
              "      display: none;\n",
              "      fill: #1967D2;\n",
              "      height: 32px;\n",
              "      padding: 0 0 0 0;\n",
              "      width: 32px;\n",
              "    }\n",
              "\n",
              "    .colab-df-convert:hover {\n",
              "      background-color: #E2EBFA;\n",
              "      box-shadow: 0px 1px 2px rgba(60, 64, 67, 0.3), 0px 1px 3px 1px rgba(60, 64, 67, 0.15);\n",
              "      fill: #174EA6;\n",
              "    }\n",
              "\n",
              "    [theme=dark] .colab-df-convert {\n",
              "      background-color: #3B4455;\n",
              "      fill: #D2E3FC;\n",
              "    }\n",
              "\n",
              "    [theme=dark] .colab-df-convert:hover {\n",
              "      background-color: #434B5C;\n",
              "      box-shadow: 0px 1px 3px 1px rgba(0, 0, 0, 0.15);\n",
              "      filter: drop-shadow(0px 1px 2px rgba(0, 0, 0, 0.3));\n",
              "      fill: #FFFFFF;\n",
              "    }\n",
              "  </style>\n",
              "\n",
              "      <script>\n",
              "        const buttonEl =\n",
              "          document.querySelector('#df-6243655b-d050-45e0-be3d-ed511345f7ba button.colab-df-convert');\n",
              "        buttonEl.style.display =\n",
              "          google.colab.kernel.accessAllowed ? 'block' : 'none';\n",
              "\n",
              "        async function convertToInteractive(key) {\n",
              "          const element = document.querySelector('#df-6243655b-d050-45e0-be3d-ed511345f7ba');\n",
              "          const dataTable =\n",
              "            await google.colab.kernel.invokeFunction('convertToInteractive',\n",
              "                                                     [key], {});\n",
              "          if (!dataTable) return;\n",
              "\n",
              "          const docLinkHtml = 'Like what you see? Visit the ' +\n",
              "            '<a target=\"_blank\" href=https://colab.research.google.com/notebooks/data_table.ipynb>data table notebook</a>'\n",
              "            + ' to learn more about interactive tables.';\n",
              "          element.innerHTML = '';\n",
              "          dataTable['output_type'] = 'display_data';\n",
              "          await google.colab.output.renderOutput(dataTable, element);\n",
              "          const docLink = document.createElement('div');\n",
              "          docLink.innerHTML = docLinkHtml;\n",
              "          element.appendChild(docLink);\n",
              "        }\n",
              "      </script>\n",
              "    </div>\n",
              "  </div>\n",
              "  "
            ]
          },
          "metadata": {}
        }
      ],
      "source": [
        "display(models_eval)"
      ]
    },
    {
      "cell_type": "markdown",
      "metadata": {
        "id": "aH_ZSwaoefvB"
      },
      "source": [
        "Best Parameters: \n",
        "\n",
        "{'voting': 'soft'}"
      ]
    }
  ],
  "metadata": {
    "accelerator": "TPU",
    "colab": {
      "toc_visible": true,
      "provenance": []
    },
    "gpuClass": "standard",
    "kernelspec": {
      "display_name": "Python 3",
      "name": "python3"
    },
    "language_info": {
      "name": "python"
    }
  },
  "nbformat": 4,
  "nbformat_minor": 0
}