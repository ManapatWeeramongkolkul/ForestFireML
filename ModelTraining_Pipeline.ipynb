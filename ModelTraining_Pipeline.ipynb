{
  "cells": [
    {
      "cell_type": "markdown",
      "metadata": {
        "id": "COF7WWOtCQRP"
      },
      "source": [
        "# Model Training & Evaluation Pipeline"
      ]
    },
    {
      "cell_type": "code",
      "execution_count": 1,
      "metadata": {
        "colab": {
          "base_uri": "https://localhost:8080/"
        },
        "id": "qK_KRJw0rpA9",
        "outputId": "45770b32-27f3-4650-e7dd-e2e62f5c069c"
      },
      "outputs": [
        {
          "output_type": "stream",
          "name": "stdout",
          "text": [
            "Drive already mounted at /content/drive; to attempt to forcibly remount, call drive.mount(\"/content/drive\", force_remount=True).\n"
          ]
        }
      ],
      "source": [
        "# Basic Libraries\n",
        "\n",
        "import numpy as np\n",
        "import pandas as pd\n",
        "import seaborn as sb\n",
        "import matplotlib.pyplot as plt\n",
        "from datetime import datetime\n",
        "\n",
        "from google.colab import drive\n",
        "drive.mount('/content/drive')"
      ]
    },
    {
      "cell_type": "code",
      "execution_count": 2,
      "metadata": {
        "colab": {
          "base_uri": "https://localhost:8080/",
          "height": 206
        },
        "id": "POKubnyWRVvQ",
        "outputId": "bd5c3f29-14a4-4b3d-acff-e7b2208c2309"
      },
      "outputs": [
        {
          "output_type": "execute_result",
          "data": {
            "text/plain": [
              "   CO_MOL/M2  SO2_MOL/M2  NO2_MOL/M2  O3_MOL/M2  FIRE_OCCURRED\n",
              "0   0.252793    0.175102    0.048868   0.390066              0\n",
              "1   0.267145    0.175102    0.048868   0.390066              0\n",
              "2   0.252793    0.175102    0.041340   0.390066              0\n",
              "3   0.267145    0.175102    0.041340   0.390066              0\n",
              "4   0.154547    0.210118    0.045284   0.550787              0"
            ],
            "text/html": [
              "\n",
              "  <div id=\"df-b70924e5-b50d-4b40-96fc-85b5cbfe37e3\">\n",
              "    <div class=\"colab-df-container\">\n",
              "      <div>\n",
              "<style scoped>\n",
              "    .dataframe tbody tr th:only-of-type {\n",
              "        vertical-align: middle;\n",
              "    }\n",
              "\n",
              "    .dataframe tbody tr th {\n",
              "        vertical-align: top;\n",
              "    }\n",
              "\n",
              "    .dataframe thead th {\n",
              "        text-align: right;\n",
              "    }\n",
              "</style>\n",
              "<table border=\"1\" class=\"dataframe\">\n",
              "  <thead>\n",
              "    <tr style=\"text-align: right;\">\n",
              "      <th></th>\n",
              "      <th>CO_MOL/M2</th>\n",
              "      <th>SO2_MOL/M2</th>\n",
              "      <th>NO2_MOL/M2</th>\n",
              "      <th>O3_MOL/M2</th>\n",
              "      <th>FIRE_OCCURRED</th>\n",
              "    </tr>\n",
              "  </thead>\n",
              "  <tbody>\n",
              "    <tr>\n",
              "      <th>0</th>\n",
              "      <td>0.252793</td>\n",
              "      <td>0.175102</td>\n",
              "      <td>0.048868</td>\n",
              "      <td>0.390066</td>\n",
              "      <td>0</td>\n",
              "    </tr>\n",
              "    <tr>\n",
              "      <th>1</th>\n",
              "      <td>0.267145</td>\n",
              "      <td>0.175102</td>\n",
              "      <td>0.048868</td>\n",
              "      <td>0.390066</td>\n",
              "      <td>0</td>\n",
              "    </tr>\n",
              "    <tr>\n",
              "      <th>2</th>\n",
              "      <td>0.252793</td>\n",
              "      <td>0.175102</td>\n",
              "      <td>0.041340</td>\n",
              "      <td>0.390066</td>\n",
              "      <td>0</td>\n",
              "    </tr>\n",
              "    <tr>\n",
              "      <th>3</th>\n",
              "      <td>0.267145</td>\n",
              "      <td>0.175102</td>\n",
              "      <td>0.041340</td>\n",
              "      <td>0.390066</td>\n",
              "      <td>0</td>\n",
              "    </tr>\n",
              "    <tr>\n",
              "      <th>4</th>\n",
              "      <td>0.154547</td>\n",
              "      <td>0.210118</td>\n",
              "      <td>0.045284</td>\n",
              "      <td>0.550787</td>\n",
              "      <td>0</td>\n",
              "    </tr>\n",
              "  </tbody>\n",
              "</table>\n",
              "</div>\n",
              "      <button class=\"colab-df-convert\" onclick=\"convertToInteractive('df-b70924e5-b50d-4b40-96fc-85b5cbfe37e3')\"\n",
              "              title=\"Convert this dataframe to an interactive table.\"\n",
              "              style=\"display:none;\">\n",
              "        \n",
              "  <svg xmlns=\"http://www.w3.org/2000/svg\" height=\"24px\"viewBox=\"0 0 24 24\"\n",
              "       width=\"24px\">\n",
              "    <path d=\"M0 0h24v24H0V0z\" fill=\"none\"/>\n",
              "    <path d=\"M18.56 5.44l.94 2.06.94-2.06 2.06-.94-2.06-.94-.94-2.06-.94 2.06-2.06.94zm-11 1L8.5 8.5l.94-2.06 2.06-.94-2.06-.94L8.5 2.5l-.94 2.06-2.06.94zm10 10l.94 2.06.94-2.06 2.06-.94-2.06-.94-.94-2.06-.94 2.06-2.06.94z\"/><path d=\"M17.41 7.96l-1.37-1.37c-.4-.4-.92-.59-1.43-.59-.52 0-1.04.2-1.43.59L10.3 9.45l-7.72 7.72c-.78.78-.78 2.05 0 2.83L4 21.41c.39.39.9.59 1.41.59.51 0 1.02-.2 1.41-.59l7.78-7.78 2.81-2.81c.8-.78.8-2.07 0-2.86zM5.41 20L4 18.59l7.72-7.72 1.47 1.35L5.41 20z\"/>\n",
              "  </svg>\n",
              "      </button>\n",
              "      \n",
              "  <style>\n",
              "    .colab-df-container {\n",
              "      display:flex;\n",
              "      flex-wrap:wrap;\n",
              "      gap: 12px;\n",
              "    }\n",
              "\n",
              "    .colab-df-convert {\n",
              "      background-color: #E8F0FE;\n",
              "      border: none;\n",
              "      border-radius: 50%;\n",
              "      cursor: pointer;\n",
              "      display: none;\n",
              "      fill: #1967D2;\n",
              "      height: 32px;\n",
              "      padding: 0 0 0 0;\n",
              "      width: 32px;\n",
              "    }\n",
              "\n",
              "    .colab-df-convert:hover {\n",
              "      background-color: #E2EBFA;\n",
              "      box-shadow: 0px 1px 2px rgba(60, 64, 67, 0.3), 0px 1px 3px 1px rgba(60, 64, 67, 0.15);\n",
              "      fill: #174EA6;\n",
              "    }\n",
              "\n",
              "    [theme=dark] .colab-df-convert {\n",
              "      background-color: #3B4455;\n",
              "      fill: #D2E3FC;\n",
              "    }\n",
              "\n",
              "    [theme=dark] .colab-df-convert:hover {\n",
              "      background-color: #434B5C;\n",
              "      box-shadow: 0px 1px 3px 1px rgba(0, 0, 0, 0.15);\n",
              "      filter: drop-shadow(0px 1px 2px rgba(0, 0, 0, 0.3));\n",
              "      fill: #FFFFFF;\n",
              "    }\n",
              "  </style>\n",
              "\n",
              "      <script>\n",
              "        const buttonEl =\n",
              "          document.querySelector('#df-b70924e5-b50d-4b40-96fc-85b5cbfe37e3 button.colab-df-convert');\n",
              "        buttonEl.style.display =\n",
              "          google.colab.kernel.accessAllowed ? 'block' : 'none';\n",
              "\n",
              "        async function convertToInteractive(key) {\n",
              "          const element = document.querySelector('#df-b70924e5-b50d-4b40-96fc-85b5cbfe37e3');\n",
              "          const dataTable =\n",
              "            await google.colab.kernel.invokeFunction('convertToInteractive',\n",
              "                                                     [key], {});\n",
              "          if (!dataTable) return;\n",
              "\n",
              "          const docLinkHtml = 'Like what you see? Visit the ' +\n",
              "            '<a target=\"_blank\" href=https://colab.research.google.com/notebooks/data_table.ipynb>data table notebook</a>'\n",
              "            + ' to learn more about interactive tables.';\n",
              "          element.innerHTML = '';\n",
              "          dataTable['output_type'] = 'display_data';\n",
              "          await google.colab.output.renderOutput(dataTable, element);\n",
              "          const docLink = document.createElement('div');\n",
              "          docLink.innerHTML = docLinkHtml;\n",
              "          element.appendChild(docLink);\n",
              "        }\n",
              "      </script>\n",
              "    </div>\n",
              "  </div>\n",
              "  "
            ]
          },
          "metadata": {},
          "execution_count": 2
        }
      ],
      "source": [
        "# Data Source\n",
        "\n",
        "df = pd.read_csv(\"/content/drive/MyDrive/cleaned_gee_data_v3.csv\")\n",
        "df = df.drop(columns = ['LATITUDE', 'LONGITUDE'], axis=1)\n",
        "df = df.drop(columns = ['Unnamed: 0'], axis=1) # Drop index\n",
        "df.head() "
      ]
    },
    {
      "cell_type": "code",
      "execution_count": 3,
      "metadata": {
        "colab": {
          "base_uri": "https://localhost:8080/"
        },
        "id": "vigF6PJAfy9R",
        "outputId": "6ed33e45-b37e-444d-a344-6a1a9801c24f"
      },
      "outputs": [
        {
          "output_type": "stream",
          "name": "stdout",
          "text": [
            "<class 'pandas.core.frame.DataFrame'>\n",
            "RangeIndex: 171893 entries, 0 to 171892\n",
            "Data columns (total 5 columns):\n",
            " #   Column         Non-Null Count   Dtype  \n",
            "---  ------         --------------   -----  \n",
            " 0   CO_MOL/M2      171893 non-null  float64\n",
            " 1   SO2_MOL/M2     171893 non-null  float64\n",
            " 2   NO2_MOL/M2     171893 non-null  float64\n",
            " 3   O3_MOL/M2      171893 non-null  float64\n",
            " 4   FIRE_OCCURRED  171893 non-null  int64  \n",
            "dtypes: float64(4), int64(1)\n",
            "memory usage: 6.6 MB\n"
          ]
        }
      ],
      "source": [
        "df.info()"
      ]
    },
    {
      "cell_type": "code",
      "execution_count": 4,
      "metadata": {
        "colab": {
          "base_uri": "https://localhost:8080/",
          "height": 69
        },
        "id": "2z3siI-MvbQs",
        "outputId": "51557be4-440b-4004-f921-64e6951293c5"
      },
      "outputs": [
        {
          "output_type": "display_data",
          "data": {
            "text/plain": [
              "0    170544\n",
              "1      1349\n",
              "Name: FIRE_OCCURRED, dtype: int64"
            ]
          },
          "metadata": {}
        }
      ],
      "source": [
        "display(df['FIRE_OCCURRED'].value_counts())"
      ]
    },
    {
      "cell_type": "code",
      "source": [
        "import seaborn as sb\n",
        "import matplotlib.pyplot as plt\n",
        "\n",
        "ax = sb.countplot(x=df[\"FIRE_OCCURRED\"])\n",
        "plt.title(\"Fire Occurrence Count\")\n",
        "plt.xlabel(\"Fire Occurred (0 = No, 1 = Yes)\")\n",
        "plt.ylabel(\"Count\")\n",
        "\n",
        "# add count labels to the bars\n",
        "for p in ax.patches:\n",
        "    ax.annotate(format(p.get_height(), '.0f'), (p.get_x() + p.get_width() / 2., p.get_height()),\n",
        "                ha = 'center', va = 'center', xytext = (0, 5), textcoords = 'offset points')\n",
        "\n",
        "plt.show()\n"
      ],
      "metadata": {
        "colab": {
          "base_uri": "https://localhost:8080/",
          "height": 472
        },
        "id": "wt5945HjVZt9",
        "outputId": "9078d01c-973a-43cf-efc9-480f0102cfea"
      },
      "execution_count": 12,
      "outputs": [
        {
          "output_type": "display_data",
          "data": {
            "text/plain": [
              "<Figure size 640x480 with 1 Axes>"
            ],
            "image/png": "[encoded data removed]"
          },
          "metadata": {}
        }
      ]
    },
    {
      "cell_type": "code",
      "source": [
        "sb.countplot(x=df[\"FIRE_OCCURRED\"])"
      ],
      "metadata": {
        "colab": {
          "base_uri": "https://localhost:8080/",
          "height": 466
        },
        "id": "laSCr83NVFLL",
        "outputId": "985059b7-1edb-4d20-a8ea-9fed70ddd718"
      },
      "execution_count": 9,
      "outputs": [
        {
          "output_type": "execute_result",
          "data": {
            "text/plain": [
              "<Axes: xlabel='FIRE_OCCURRED', ylabel='count'>"
            ]
          },
          "metadata": {},
          "execution_count": 9
        },
        {
          "output_type": "display_data",
          "data": {
            "text/plain": [
              "<Figure size 640x480 with 1 Axes>"
            ],
            "image/png": "[encoded data removed]"
          },
          "metadata": {}
        }
      ]
    },
    {
      "cell_type": "markdown",
      "metadata": {
        "id": "bmVgX-C_pJrz"
      },
      "source": [
        "0.785% of FIRE_OCCURRED = 1"
      ]
    },
    {
      "cell_type": "code",
      "execution_count": null,
      "metadata": {
        "id": "GEBLWi5ooiTO"
      },
      "outputs": [],
      "source": [
        "X = df.drop('FIRE_OCCURRED', axis=1)\n",
        "y = df['FIRE_OCCURRED']"
      ]
    },
    {
      "cell_type": "code",
      "execution_count": null,
      "metadata": {
        "id": "96m0rNH7vhDg"
      },
      "outputs": [],
      "source": [
        "# Training, Validation, Testing Split\n",
        "\n",
        "from sklearn.model_selection import train_test_split\n",
        "\n",
        "# 80:10:10\n",
        "\n",
        "X_train, X_test, y_train, y_test = train_test_split(X, y, test_size=0.10, random_state=10, shuffle=True)\n",
        "X_train, X_val, y_train, y_val = train_test_split(X_train, y_train, test_size=1/9, random_state=10, shuffle=True)\n",
        "\n",
        "Original = [X_train, X_val, X_test, y_train, y_val, y_test] # For reference"
      ]
    },
    {
      "cell_type": "code",
      "execution_count": null,
      "metadata": {
        "colab": {
          "base_uri": "https://localhost:8080/"
        },
        "id": "oihO76nhvifX",
        "outputId": "73c62c57-b698-4b63-8c38-648ce0435b03"
      },
      "outputs": [
        {
          "name": "stdout",
          "output_type": "stream",
          "text": [
            "X and y data length matching\n",
            "\n",
            "No. of training data = 137513\n",
            "No. of validation data = 17190\n",
            "No. of testing data = 17190\n"
          ]
        }
      ],
      "source": [
        "if len(X_train)==len(y_train) and len(X_test) == len(y_test) and len(X_val) == len(y_val):\n",
        "  print(\"X and y data length matching\")\n",
        "else:\n",
        "  print(\"Error in data preparation pipeline\")\n",
        "print()\n",
        "print(\"No. of training data = %d\" % len(X_train))\n",
        "print(\"No. of validation data = %d\" % len(X_val))\n",
        "print(\"No. of testing data = %d\" % len(X_test))"
      ]
    },
    {
      "cell_type": "code",
      "execution_count": null,
      "metadata": {
        "colab": {
          "base_uri": "https://localhost:8080/",
          "height": 72
        },
        "id": "MVofMah3XWOo",
        "outputId": "8454d795-a57b-4fe4-d33e-11609735e56e"
      },
      "outputs": [
        {
          "data": {
            "text/plain": [
              "0    17068\n",
              "1      122\n",
              "Name: FIRE_OCCURRED, dtype: int64"
            ]
          },
          "metadata": {},
          "output_type": "display_data"
        }
      ],
      "source": [
        "display(y_val.value_counts())"
      ]
    },
    {
      "cell_type": "code",
      "execution_count": null,
      "metadata": {
        "colab": {
          "base_uri": "https://localhost:8080/",
          "height": 72
        },
        "id": "1ZcyP7nRvlYp",
        "outputId": "0dec4dfd-b90a-4ea2-b6a2-db1ab69c3fb7"
      },
      "outputs": [
        {
          "data": {
            "text/plain": [
              "0    17059\n",
              "1      131\n",
              "Name: FIRE_OCCURRED, dtype: int64"
            ]
          },
          "metadata": {},
          "output_type": "display_data"
        }
      ],
      "source": [
        "display(y_test.value_counts())"
      ]
    },
    {
      "cell_type": "code",
      "execution_count": null,
      "metadata": {
        "colab": {
          "base_uri": "https://localhost:8080/"
        },
        "id": "T8MI03z-vmdA",
        "outputId": "ef9a3e17-265b-483e-b570-be7750483940"
      },
      "outputs": [
        {
          "name": "stdout",
          "output_type": "stream",
          "text": [
            "Original dataset shape Counter({0: 136417, 1: 1096})\n",
            "Resampled dataset shape Counter({0: 136417, 1: 136417})\n"
          ]
        }
      ],
      "source": [
        "# SMOTE\n",
        "\n",
        "from collections import Counter\n",
        "from imblearn.over_sampling import SMOTE \n",
        "\n",
        "print('Original dataset shape %s' % Counter(y_train))\n",
        "sm = SMOTE(random_state=10)\n",
        "X_train, y_train = sm.fit_resample(X_train, y_train)\n",
        "print('Resampled dataset shape %s' % Counter(y_train))"
      ]
    },
    {
      "cell_type": "code",
      "execution_count": null,
      "metadata": {
        "id": "Ts3u8k7ZoTmA"
      },
      "outputs": [],
      "source": [
        "# Shuffle Data since SMOTE appended many 1s at the end\n",
        "# Required for some algorithms such as ANN\n",
        "\n",
        "from sklearn.utils import shuffle\n",
        "\n",
        "X_train, y_train = shuffle(X_train, y_train, random_state = 10)"
      ]
    },
    {
      "cell_type": "code",
      "execution_count": null,
      "metadata": {
        "id": "5pMqZtYUvo3T"
      },
      "outputs": [],
      "source": [
        "# Evaluation Metrics\n",
        "\n",
        "from sklearn.metrics import confusion_matrix, recall_score, f1_score, roc_auc_score, accuracy_score\n",
        "\n",
        "def evaluation_metrics(y_true, y_pred):\n",
        "  cfm = confusion_matrix(y_true, y_pred).ravel()\n",
        "  acc = accuracy_score(y_true, y_pred)\n",
        "  recs = recall_score(y_true, y_pred, average='binary')\n",
        "  f1s = f1_score(y_true, y_pred, average='binary')\n",
        "  rocs = roc_auc_score(y_true, y_pred, average='macro')\n",
        "  return [cfm, acc, recs, f1s, rocs]"
      ]
    },
    {
      "cell_type": "markdown",
      "metadata": {
        "id": "bDAw6kBSvqrd"
      },
      "source": [
        "Confusion matrix format : [ tn , fp , fn , tp ]"
      ]
    },
    {
      "cell_type": "code",
      "execution_count": null,
      "metadata": {
        "id": "2m4kHhLmvnxj"
      },
      "outputs": [],
      "source": [
        "# Store Model Parameters and Eval\n",
        "\n",
        "models = pd.DataFrame(columns = ['model_name', 'model', 'parameters'])\n",
        "models_eval = pd.DataFrame(columns = ['model_name', 'confusion_matrix', 'accuracy', 'recall', 'f1_score', 'roc_auc_score'])"
      ]
    },
    {
      "cell_type": "code",
      "execution_count": null,
      "metadata": {
        "id": "fFvGo3IYwC3h"
      },
      "outputs": [],
      "source": [
        "# Import ML Algorithms\n",
        "\n",
        "from sklearn.linear_model import LogisticRegression\n",
        "from sklearn.svm import SVC\n",
        "from sklearn.naive_bayes import GaussianNB\n",
        "from sklearn.neighbors import KNeighborsClassifier\n",
        "from sklearn.ensemble import RandomForestClassifier\n",
        "from sklearn.tree import DecisionTreeClassifier\n",
        "from sklearn.ensemble import GradientBoostingClassifier\n",
        "import xgboost\n",
        "from xgboost import XGBClassifier\n",
        "import lightgbm\n",
        "from lightgbm import LGBMClassifier\n",
        "import tensorflow as tf\n",
        "from tensorflow import keras\n",
        "from sklearn.ensemble import VotingClassifier\n",
        "\n",
        "# RandomizedSearchCV\n",
        "\n",
        "from sklearn.model_selection import RandomizedSearchCV"
      ]
    },
    {
      "cell_type": "markdown",
      "metadata": {
        "id": "ez3z3utYt1Y4"
      },
      "source": [
        "## Logistic Regression\n",
        "\n",
        "- Library: Scikit-learn"
      ]
    },
    {
      "cell_type": "code",
      "execution_count": null,
      "metadata": {
        "colab": {
          "base_uri": "https://localhost:8080/"
        },
        "id": "fiXiFiYsZSB6",
        "outputId": "3adec92e-c6d1-43b6-8d5b-a8b1040592f7"
      },
      "outputs": [
        {
          "name": "stderr",
          "output_type": "stream",
          "text": [
            "/usr/local/lib/python3.9/dist-packages/sklearn/linear_model/_logistic.py:1173: FutureWarning: `penalty='none'`has been deprecated in 1.2 and will be removed in 1.4. To keep the past behaviour, set `penalty=None`.\n",
            "  warnings.warn(\n"
          ]
        }
      ],
      "source": [
        "# Training\n",
        "\n",
        "name = 'log_clf'\n",
        "\n",
        "train = pd.DataFrame(columns = ['penalty', 'warm_start', 'solver', 'max_iter', 'dual', 'n_jobs','random_state'])\n",
        "train = train.append({'penalty' : 'none', 'warm_start': False, 'solver': 'newton-cg',  'max_iter': 247,  'dual': False, 'n_jobs': -1, 'random_state': 10}, ignore_index=True)\n",
        "train = train.append({'penalty' : 'l2', 'warm_start': False, 'solver': 'newton-cg',  'max_iter': 100,  'dual': False, 'n_jobs': -1, 'random_state': 10}, ignore_index=True)\n",
        "\n",
        "train = train.reset_index()\n",
        "for index, row in train.iterrows():\n",
        "    model_name = name + str(index)\n",
        "    log_clf = LogisticRegression(penalty = row['penalty'], n_jobs = int(row['n_jobs']), random_state = int(row['random_state']))\n",
        "    log_clf.fit(X_train, y_train)\n",
        "   \n",
        "    y_true = y_val\n",
        "    y_pred = log_clf.predict(X_val)\n",
        "    evaluation_results = evaluation_metrics(y_true, y_pred)\n",
        "\n",
        "    models = models.append({'model_name': model_name, \n",
        "                            'model': log_clf, \n",
        "                            'parameters': log_clf.get_params()}, \n",
        "                            ignore_index=True)\n",
        "   \n",
        "    models_eval = models_eval.append({'model_name': model_name, \n",
        "                                      'confusion_matrix' : evaluation_results[0], \n",
        "                                      'accuracy': evaluation_results[1], \n",
        "                                      'recall' : evaluation_results[2], \n",
        "                                      'f1_score': evaluation_results[3], \n",
        "                                      'roc_auc_score': evaluation_results[4]}, \n",
        "                                      ignore_index=True)"
      ]
    },
    {
      "cell_type": "code",
      "execution_count": null,
      "metadata": {
        "colab": {
          "base_uri": "https://localhost:8080/",
          "height": 112
        },
        "id": "w5hD6F2kX9ih",
        "outputId": "6292e402-16d1-4026-b36a-d0dfa2fdc24f"
      },
      "outputs": [
        {
          "data": {
            "text/html": [
              "\n",
              "  <div id=\"df-48bf3dcb-747c-4477-82eb-461a38f5771e\">\n",
              "    <div class=\"colab-df-container\">\n",
              "      <div>\n",
              "<style scoped>\n",
              "    .dataframe tbody tr th:only-of-type {\n",
              "        vertical-align: middle;\n",
              "    }\n",
              "\n",
              "    .dataframe tbody tr th {\n",
              "        vertical-align: top;\n",
              "    }\n",
              "\n",
              "    .dataframe thead th {\n",
              "        text-align: right;\n",
              "    }\n",
              "</style>\n",
              "<table border=\"1\" class=\"dataframe\">\n",
              "  <thead>\n",
              "    <tr style=\"text-align: right;\">\n",
              "      <th></th>\n",
              "      <th>model_name</th>\n",
              "      <th>confusion_matrix</th>\n",
              "      <th>accuracy</th>\n",
              "      <th>recall</th>\n",
              "      <th>f1_score</th>\n",
              "      <th>roc_auc_score</th>\n",
              "    </tr>\n",
              "  </thead>\n",
              "  <tbody>\n",
              "    <tr>\n",
              "      <th>0</th>\n",
              "      <td>log_clf0</td>\n",
              "      <td>[10970, 6098, 55, 67]</td>\n",
              "      <td>0.642059</td>\n",
              "      <td>0.549180</td>\n",
              "      <td>0.021314</td>\n",
              "      <td>0.595952</td>\n",
              "    </tr>\n",
              "    <tr>\n",
              "      <th>1</th>\n",
              "      <td>log_clf1</td>\n",
              "      <td>[10973, 6095, 56, 66]</td>\n",
              "      <td>0.642176</td>\n",
              "      <td>0.540984</td>\n",
              "      <td>0.021009</td>\n",
              "      <td>0.591941</td>\n",
              "    </tr>\n",
              "  </tbody>\n",
              "</table>\n",
              "</div>\n",
              "      <button class=\"colab-df-convert\" onclick=\"convertToInteractive('df-48bf3dcb-747c-4477-82eb-461a38f5771e')\"\n",
              "              title=\"Convert this dataframe to an interactive table.\"\n",
              "              style=\"display:none;\">\n",
              "        \n",
              "  <svg xmlns=\"http://www.w3.org/2000/svg\" height=\"24px\"viewBox=\"0 0 24 24\"\n",
              "       width=\"24px\">\n",
              "    <path d=\"M0 0h24v24H0V0z\" fill=\"none\"/>\n",
              "    <path d=\"M18.56 5.44l.94 2.06.94-2.06 2.06-.94-2.06-.94-.94-2.06-.94 2.06-2.06.94zm-11 1L8.5 8.5l.94-2.06 2.06-.94-2.06-.94L8.5 2.5l-.94 2.06-2.06.94zm10 10l.94 2.06.94-2.06 2.06-.94-2.06-.94-.94-2.06-.94 2.06-2.06.94z\"/><path d=\"M17.41 7.96l-1.37-1.37c-.4-.4-.92-.59-1.43-.59-.52 0-1.04.2-1.43.59L10.3 9.45l-7.72 7.72c-.78.78-.78 2.05 0 2.83L4 21.41c.39.39.9.59 1.41.59.51 0 1.02-.2 1.41-.59l7.78-7.78 2.81-2.81c.8-.78.8-2.07 0-2.86zM5.41 20L4 18.59l7.72-7.72 1.47 1.35L5.41 20z\"/>\n",
              "  </svg>\n",
              "      </button>\n",
              "      \n",
              "  <style>\n",
              "    .colab-df-container {\n",
              "      display:flex;\n",
              "      flex-wrap:wrap;\n",
              "      gap: 12px;\n",
              "    }\n",
              "\n",
              "    .colab-df-convert {\n",
              "      background-color: #E8F0FE;\n",
              "      border: none;\n",
              "      border-radius: 50%;\n",
              "      cursor: pointer;\n",
              "      display: none;\n",
              "      fill: #1967D2;\n",
              "      height: 32px;\n",
              "      padding: 0 0 0 0;\n",
              "      width: 32px;\n",
              "    }\n",
              "\n",
              "    .colab-df-convert:hover {\n",
              "      background-color: #E2EBFA;\n",
              "      box-shadow: 0px 1px 2px rgba(60, 64, 67, 0.3), 0px 1px 3px 1px rgba(60, 64, 67, 0.15);\n",
              "      fill: #174EA6;\n",
              "    }\n",
              "\n",
              "    [theme=dark] .colab-df-convert {\n",
              "      background-color: #3B4455;\n",
              "      fill: #D2E3FC;\n",
              "    }\n",
              "\n",
              "    [theme=dark] .colab-df-convert:hover {\n",
              "      background-color: #434B5C;\n",
              "      box-shadow: 0px 1px 3px 1px rgba(0, 0, 0, 0.15);\n",
              "      filter: drop-shadow(0px 1px 2px rgba(0, 0, 0, 0.3));\n",
              "      fill: #FFFFFF;\n",
              "    }\n",
              "  </style>\n",
              "\n",
              "      <script>\n",
              "        const buttonEl =\n",
              "          document.querySelector('#df-48bf3dcb-747c-4477-82eb-461a38f5771e button.colab-df-convert');\n",
              "        buttonEl.style.display =\n",
              "          google.colab.kernel.accessAllowed ? 'block' : 'none';\n",
              "\n",
              "        async function convertToInteractive(key) {\n",
              "          const element = document.querySelector('#df-48bf3dcb-747c-4477-82eb-461a38f5771e');\n",
              "          const dataTable =\n",
              "            await google.colab.kernel.invokeFunction('convertToInteractive',\n",
              "                                                     [key], {});\n",
              "          if (!dataTable) return;\n",
              "\n",
              "          const docLinkHtml = 'Like what you see? Visit the ' +\n",
              "            '<a target=\"_blank\" href=https://colab.research.google.com/notebooks/data_table.ipynb>data table notebook</a>'\n",
              "            + ' to learn more about interactive tables.';\n",
              "          element.innerHTML = '';\n",
              "          dataTable['output_type'] = 'display_data';\n",
              "          await google.colab.output.renderOutput(dataTable, element);\n",
              "          const docLink = document.createElement('div');\n",
              "          docLink.innerHTML = docLinkHtml;\n",
              "          element.appendChild(docLink);\n",
              "        }\n",
              "      </script>\n",
              "    </div>\n",
              "  </div>\n",
              "  "
            ],
            "text/plain": [
              "  model_name       confusion_matrix  accuracy    recall  f1_score  \\\n",
              "0   log_clf0  [10970, 6098, 55, 67]  0.642059  0.549180  0.021314   \n",
              "1   log_clf1  [10973, 6095, 56, 66]  0.642176  0.540984  0.021009   \n",
              "\n",
              "   roc_auc_score  \n",
              "0       0.595952  \n",
              "1       0.591941  "
            ]
          },
          "metadata": {},
          "output_type": "display_data"
        }
      ],
      "source": [
        "display(models_eval)"
      ]
    },
    {
      "cell_type": "code",
      "execution_count": null,
      "metadata": {
        "colab": {
          "base_uri": "https://localhost:8080/"
        },
        "id": "efHl6tpGCRSI",
        "outputId": "b30949aa-85b3-403d-df20-47ac7b837e93"
      },
      "outputs": [
        {
          "data": {
            "text/plain": [
              "[array([0. , 0.1, 0.2, 0.3, 0.4, 0.5, 0.6, 0.7, 0.8, 0.9, 1. ])]"
            ]
          },
          "execution_count": 31,
          "metadata": {},
          "output_type": "execute_result"
        }
      ],
      "source": [
        "[np.arange(0, 1.1, 0.1)]"
      ]
    },
    {
      "cell_type": "code",
      "execution_count": null,
      "metadata": {
        "colab": {
          "base_uri": "https://localhost:8080/"
        },
        "id": "09I9B42LX8mb",
        "outputId": "8f108f68-8f58-45c3-a8a2-0548f5d41a7e"
      },
      "outputs": [
        {
          "name": "stdout",
          "output_type": "stream",
          "text": [
            "Fitting 3 folds for each of 70 candidates, totalling 210 fits\n",
            "[CV 1/3] END C=0.2, max_iter=100, penalty=l1, solver=newton-cg, warm_start=False;, score=nan total time=   0.0s\n",
            "[CV 2/3] END C=0.2, max_iter=100, penalty=l1, solver=newton-cg, warm_start=False;, score=nan total time=   0.1s\n",
            "[CV 3/3] END C=0.2, max_iter=100, penalty=l1, solver=newton-cg, warm_start=False;, score=nan total time=   0.0s\n"
          ]
        },
        {
          "name": "stderr",
          "output_type": "stream",
          "text": [
            "/usr/local/lib/python3.9/dist-packages/sklearn/linear_model/_logistic.py:1211: UserWarning: 'n_jobs' > 1 does not have any effect when 'solver' is set to 'liblinear'. Got 'n_jobs' = 2.\n",
            "  warnings.warn(\n"
          ]
        },
        {
          "name": "stdout",
          "output_type": "stream",
          "text": [
            "[CV 1/3] END C=0.8, max_iter=400, penalty=l1, solver=liblinear, warm_start=True;, score=0.592 total time=   3.0s\n"
          ]
        },
        {
          "name": "stderr",
          "output_type": "stream",
          "text": [
            "/usr/local/lib/python3.9/dist-packages/sklearn/linear_model/_logistic.py:1211: UserWarning: 'n_jobs' > 1 does not have any effect when 'solver' is set to 'liblinear'. Got 'n_jobs' = 2.\n",
            "  warnings.warn(\n"
          ]
        },
        {
          "name": "stdout",
          "output_type": "stream",
          "text": [
            "[CV 2/3] END C=0.8, max_iter=400, penalty=l1, solver=liblinear, warm_start=True;, score=0.587 total time=   2.7s\n"
          ]
        },
        {
          "name": "stderr",
          "output_type": "stream",
          "text": [
            "/usr/local/lib/python3.9/dist-packages/sklearn/linear_model/_logistic.py:1211: UserWarning: 'n_jobs' > 1 does not have any effect when 'solver' is set to 'liblinear'. Got 'n_jobs' = 2.\n",
            "  warnings.warn(\n"
          ]
        },
        {
          "name": "stdout",
          "output_type": "stream",
          "text": [
            "[CV 3/3] END C=0.8, max_iter=400, penalty=l1, solver=liblinear, warm_start=True;, score=0.585 total time=   2.5s\n",
            "[CV 1/3] END C=0.8, max_iter=400, penalty=l1, solver=newton-cg, warm_start=True;, score=nan total time=   0.0s\n",
            "[CV 2/3] END C=0.8, max_iter=400, penalty=l1, solver=newton-cg, warm_start=True;, score=nan total time=   0.0s\n",
            "[CV 3/3] END C=0.8, max_iter=400, penalty=l1, solver=newton-cg, warm_start=True;, score=nan total time=   0.0s\n"
          ]
        },
        {
          "name": "stderr",
          "output_type": "stream",
          "text": [
            "/usr/local/lib/python3.9/dist-packages/sklearn/linear_model/_logistic.py:1173: FutureWarning: `penalty='none'`has been deprecated in 1.2 and will be removed in 1.4. To keep the past behaviour, set `penalty=None`.\n",
            "  warnings.warn(\n",
            "/usr/local/lib/python3.9/dist-packages/sklearn/linear_model/_logistic.py:1181: UserWarning: Setting penalty=None will ignore the C and l1_ratio parameters\n",
            "  warnings.warn(\n"
          ]
        },
        {
          "name": "stdout",
          "output_type": "stream",
          "text": [
            "[CV 1/3] END C=0.4, max_iter=300, penalty=none, solver=lbfgs, warm_start=True;, score=0.592 total time=   1.4s\n"
          ]
        },
        {
          "name": "stderr",
          "output_type": "stream",
          "text": [
            "/usr/local/lib/python3.9/dist-packages/sklearn/linear_model/_logistic.py:1173: FutureWarning: `penalty='none'`has been deprecated in 1.2 and will be removed in 1.4. To keep the past behaviour, set `penalty=None`.\n",
            "  warnings.warn(\n",
            "/usr/local/lib/python3.9/dist-packages/sklearn/linear_model/_logistic.py:1181: UserWarning: Setting penalty=None will ignore the C and l1_ratio parameters\n",
            "  warnings.warn(\n"
          ]
        },
        {
          "name": "stdout",
          "output_type": "stream",
          "text": [
            "[CV 2/3] END C=0.4, max_iter=300, penalty=none, solver=lbfgs, warm_start=True;, score=0.588 total time=   1.4s\n"
          ]
        },
        {
          "name": "stderr",
          "output_type": "stream",
          "text": [
            "/usr/local/lib/python3.9/dist-packages/sklearn/linear_model/_logistic.py:1173: FutureWarning: `penalty='none'`has been deprecated in 1.2 and will be removed in 1.4. To keep the past behaviour, set `penalty=None`.\n",
            "  warnings.warn(\n",
            "/usr/local/lib/python3.9/dist-packages/sklearn/linear_model/_logistic.py:1181: UserWarning: Setting penalty=None will ignore the C and l1_ratio parameters\n",
            "  warnings.warn(\n"
          ]
        },
        {
          "name": "stdout",
          "output_type": "stream",
          "text": [
            "[CV 3/3] END C=0.4, max_iter=300, penalty=none, solver=lbfgs, warm_start=True;, score=0.585 total time=   1.6s\n",
            "[CV 1/3] END C=0.7, max_iter=100, penalty=l2, solver=lbfgs, warm_start=True;, score=0.590 total time=   1.5s\n",
            "[CV 2/3] END C=0.7, max_iter=100, penalty=l2, solver=lbfgs, warm_start=True;, score=0.587 total time=   1.5s\n",
            "[CV 3/3] END C=0.7, max_iter=100, penalty=l2, solver=lbfgs, warm_start=True;, score=0.584 total time=   1.5s\n"
          ]
        },
        {
          "name": "stderr",
          "output_type": "stream",
          "text": [
            "/usr/local/lib/python3.9/dist-packages/sklearn/linear_model/_logistic.py:1211: UserWarning: 'n_jobs' > 1 does not have any effect when 'solver' is set to 'liblinear'. Got 'n_jobs' = 2.\n",
            "  warnings.warn(\n"
          ]
        },
        {
          "name": "stdout",
          "output_type": "stream",
          "text": [
            "[CV 1/3] END C=0.5, max_iter=200, penalty=l1, solver=liblinear, warm_start=True;, score=0.591 total time=   2.4s\n"
          ]
        },
        {
          "name": "stderr",
          "output_type": "stream",
          "text": [
            "/usr/local/lib/python3.9/dist-packages/sklearn/linear_model/_logistic.py:1211: UserWarning: 'n_jobs' > 1 does not have any effect when 'solver' is set to 'liblinear'. Got 'n_jobs' = 2.\n",
            "  warnings.warn(\n"
          ]
        },
        {
          "name": "stdout",
          "output_type": "stream",
          "text": [
            "[CV 2/3] END C=0.5, max_iter=200, penalty=l1, solver=liblinear, warm_start=True;, score=0.587 total time=   2.5s\n"
          ]
        },
        {
          "name": "stderr",
          "output_type": "stream",
          "text": [
            "/usr/local/lib/python3.9/dist-packages/sklearn/linear_model/_logistic.py:1211: UserWarning: 'n_jobs' > 1 does not have any effect when 'solver' is set to 'liblinear'. Got 'n_jobs' = 2.\n",
            "  warnings.warn(\n"
          ]
        },
        {
          "name": "stdout",
          "output_type": "stream",
          "text": [
            "[CV 3/3] END C=0.5, max_iter=200, penalty=l1, solver=liblinear, warm_start=True;, score=0.585 total time=   2.5s\n",
            "[CV 1/3] END C=0.5, max_iter=100, penalty=l1, solver=newton-cg, warm_start=False;, score=nan total time=   0.0s\n",
            "[CV 2/3] END C=0.5, max_iter=100, penalty=l1, solver=newton-cg, warm_start=False;, score=nan total time=   0.0s\n",
            "[CV 3/3] END C=0.5, max_iter=100, penalty=l1, solver=newton-cg, warm_start=False;, score=nan total time=   0.0s\n"
          ]
        },
        {
          "name": "stderr",
          "output_type": "stream",
          "text": [
            "/usr/local/lib/python3.9/dist-packages/sklearn/linear_model/_logistic.py:1173: FutureWarning: `penalty='none'`has been deprecated in 1.2 and will be removed in 1.4. To keep the past behaviour, set `penalty=None`.\n",
            "  warnings.warn(\n",
            "/usr/local/lib/python3.9/dist-packages/sklearn/linear_model/_logistic.py:1181: UserWarning: Setting penalty=None will ignore the C and l1_ratio parameters\n",
            "  warnings.warn(\n"
          ]
        },
        {
          "name": "stdout",
          "output_type": "stream",
          "text": [
            "[CV 1/3] END C=0.1, max_iter=300, penalty=none, solver=lbfgs, warm_start=False;, score=0.592 total time=   1.4s\n"
          ]
        },
        {
          "name": "stderr",
          "output_type": "stream",
          "text": [
            "/usr/local/lib/python3.9/dist-packages/sklearn/linear_model/_logistic.py:1173: FutureWarning: `penalty='none'`has been deprecated in 1.2 and will be removed in 1.4. To keep the past behaviour, set `penalty=None`.\n",
            "  warnings.warn(\n",
            "/usr/local/lib/python3.9/dist-packages/sklearn/linear_model/_logistic.py:1181: UserWarning: Setting penalty=None will ignore the C and l1_ratio parameters\n",
            "  warnings.warn(\n"
          ]
        },
        {
          "name": "stdout",
          "output_type": "stream",
          "text": [
            "[CV 2/3] END C=0.1, max_iter=300, penalty=none, solver=lbfgs, warm_start=False;, score=0.588 total time=   1.6s\n"
          ]
        },
        {
          "name": "stderr",
          "output_type": "stream",
          "text": [
            "/usr/local/lib/python3.9/dist-packages/sklearn/linear_model/_logistic.py:1173: FutureWarning: `penalty='none'`has been deprecated in 1.2 and will be removed in 1.4. To keep the past behaviour, set `penalty=None`.\n",
            "  warnings.warn(\n",
            "/usr/local/lib/python3.9/dist-packages/sklearn/linear_model/_logistic.py:1181: UserWarning: Setting penalty=None will ignore the C and l1_ratio parameters\n",
            "  warnings.warn(\n"
          ]
        },
        {
          "name": "stdout",
          "output_type": "stream",
          "text": [
            "[CV 3/3] END C=0.1, max_iter=300, penalty=none, solver=lbfgs, warm_start=False;, score=0.585 total time=   1.6s\n",
            "[CV 1/3] END C=0.5, max_iter=500, penalty=none, solver=liblinear, warm_start=True;, score=nan total time=   0.0s\n",
            "[CV 2/3] END C=0.5, max_iter=500, penalty=none, solver=liblinear, warm_start=True;, score=nan total time=   0.0s\n",
            "[CV 3/3] END C=0.5, max_iter=500, penalty=none, solver=liblinear, warm_start=True;, score=nan total time=   0.0s\n",
            "[CV 1/3] END C=0.8, max_iter=100, penalty=l1, solver=lbfgs, warm_start=True;, score=nan total time=   0.0s\n",
            "[CV 2/3] END C=0.8, max_iter=100, penalty=l1, solver=lbfgs, warm_start=True;, score=nan total time=   0.0s\n",
            "[CV 3/3] END C=0.8, max_iter=100, penalty=l1, solver=lbfgs, warm_start=True;, score=nan total time=   0.0s\n",
            "[CV 1/3] END C=0.1, max_iter=400, penalty=elasticnet, solver=newton-cg, warm_start=False;, score=nan total time=   0.0s\n",
            "[CV 2/3] END C=0.1, max_iter=400, penalty=elasticnet, solver=newton-cg, warm_start=False;, score=nan total time=   0.0s\n",
            "[CV 3/3] END C=0.1, max_iter=400, penalty=elasticnet, solver=newton-cg, warm_start=False;, score=nan total time=   0.0s\n"
          ]
        },
        {
          "name": "stderr",
          "output_type": "stream",
          "text": [
            "/usr/local/lib/python3.9/dist-packages/sklearn/linear_model/_logistic.py:1211: UserWarning: 'n_jobs' > 1 does not have any effect when 'solver' is set to 'liblinear'. Got 'n_jobs' = 2.\n",
            "  warnings.warn(\n"
          ]
        },
        {
          "name": "stdout",
          "output_type": "stream",
          "text": [
            "[CV 1/3] END C=0.8, max_iter=500, penalty=l1, solver=liblinear, warm_start=False;, score=0.592 total time=   2.7s\n"
          ]
        },
        {
          "name": "stderr",
          "output_type": "stream",
          "text": [
            "/usr/local/lib/python3.9/dist-packages/sklearn/linear_model/_logistic.py:1211: UserWarning: 'n_jobs' > 1 does not have any effect when 'solver' is set to 'liblinear'. Got 'n_jobs' = 2.\n",
            "  warnings.warn(\n"
          ]
        },
        {
          "name": "stdout",
          "output_type": "stream",
          "text": [
            "[CV 2/3] END C=0.8, max_iter=500, penalty=l1, solver=liblinear, warm_start=False;, score=0.587 total time=   2.4s\n"
          ]
        },
        {
          "name": "stderr",
          "output_type": "stream",
          "text": [
            "/usr/local/lib/python3.9/dist-packages/sklearn/linear_model/_logistic.py:1211: UserWarning: 'n_jobs' > 1 does not have any effect when 'solver' is set to 'liblinear'. Got 'n_jobs' = 2.\n",
            "  warnings.warn(\n"
          ]
        },
        {
          "name": "stdout",
          "output_type": "stream",
          "text": [
            "[CV 3/3] END C=0.8, max_iter=500, penalty=l1, solver=liblinear, warm_start=False;, score=0.585 total time=   2.3s\n",
            "[CV 1/3] END C=0.2, max_iter=300, penalty=none, solver=liblinear, warm_start=True;, score=nan total time=   0.0s\n",
            "[CV 2/3] END C=0.2, max_iter=300, penalty=none, solver=liblinear, warm_start=True;, score=nan total time=   0.0s\n",
            "[CV 3/3] END C=0.2, max_iter=300, penalty=none, solver=liblinear, warm_start=True;, score=nan total time=   0.0s\n"
          ]
        },
        {
          "name": "stderr",
          "output_type": "stream",
          "text": [
            "/usr/local/lib/python3.9/dist-packages/sklearn/linear_model/_logistic.py:1173: FutureWarning: `penalty='none'`has been deprecated in 1.2 and will be removed in 1.4. To keep the past behaviour, set `penalty=None`.\n",
            "  warnings.warn(\n",
            "/usr/local/lib/python3.9/dist-packages/sklearn/linear_model/_logistic.py:1181: UserWarning: Setting penalty=None will ignore the C and l1_ratio parameters\n",
            "  warnings.warn(\n"
          ]
        },
        {
          "name": "stdout",
          "output_type": "stream",
          "text": [
            "[CV 1/3] END C=0.8, max_iter=100, penalty=none, solver=lbfgs, warm_start=True;, score=0.592 total time=   1.4s\n"
          ]
        },
        {
          "name": "stderr",
          "output_type": "stream",
          "text": [
            "/usr/local/lib/python3.9/dist-packages/sklearn/linear_model/_logistic.py:1173: FutureWarning: `penalty='none'`has been deprecated in 1.2 and will be removed in 1.4. To keep the past behaviour, set `penalty=None`.\n",
            "  warnings.warn(\n",
            "/usr/local/lib/python3.9/dist-packages/sklearn/linear_model/_logistic.py:1181: UserWarning: Setting penalty=None will ignore the C and l1_ratio parameters\n",
            "  warnings.warn(\n"
          ]
        },
        {
          "name": "stdout",
          "output_type": "stream",
          "text": [
            "[CV 2/3] END C=0.8, max_iter=100, penalty=none, solver=lbfgs, warm_start=True;, score=0.588 total time=   1.4s\n"
          ]
        },
        {
          "name": "stderr",
          "output_type": "stream",
          "text": [
            "/usr/local/lib/python3.9/dist-packages/sklearn/linear_model/_logistic.py:1173: FutureWarning: `penalty='none'`has been deprecated in 1.2 and will be removed in 1.4. To keep the past behaviour, set `penalty=None`.\n",
            "  warnings.warn(\n",
            "/usr/local/lib/python3.9/dist-packages/sklearn/linear_model/_logistic.py:1181: UserWarning: Setting penalty=None will ignore the C and l1_ratio parameters\n",
            "  warnings.warn(\n"
          ]
        },
        {
          "name": "stdout",
          "output_type": "stream",
          "text": [
            "[CV 3/3] END C=0.8, max_iter=100, penalty=none, solver=lbfgs, warm_start=True;, score=0.585 total time=   1.4s\n",
            "[CV 1/3] END C=1.0, max_iter=300, penalty=l2, solver=newton-cg, warm_start=True;, score=0.590 total time=   0.8s\n",
            "[CV 2/3] END C=1.0, max_iter=300, penalty=l2, solver=newton-cg, warm_start=True;, score=0.587 total time=   0.7s\n",
            "[CV 3/3] END C=1.0, max_iter=300, penalty=l2, solver=newton-cg, warm_start=True;, score=0.584 total time=   0.8s\n",
            "[CV 1/3] END C=0.8, max_iter=300, penalty=l2, solver=lbfgs, warm_start=True;, score=0.590 total time=   2.0s\n",
            "[CV 2/3] END C=0.8, max_iter=300, penalty=l2, solver=lbfgs, warm_start=True;, score=0.587 total time=   1.5s\n",
            "[CV 3/3] END C=0.8, max_iter=300, penalty=l2, solver=lbfgs, warm_start=True;, score=0.584 total time=   1.3s\n",
            "[CV 1/3] END C=0.4, max_iter=100, penalty=l1, solver=newton-cg, warm_start=False;, score=nan total time=   0.0s\n",
            "[CV 2/3] END C=0.4, max_iter=100, penalty=l1, solver=newton-cg, warm_start=False;, score=nan total time=   0.0s\n",
            "[CV 3/3] END C=0.4, max_iter=100, penalty=l1, solver=newton-cg, warm_start=False;, score=nan total time=   0.0s\n",
            "[CV 1/3] END C=0.2, max_iter=500, penalty=elasticnet, solver=lbfgs, warm_start=True;, score=nan total time=   0.0s\n",
            "[CV 2/3] END C=0.2, max_iter=500, penalty=elasticnet, solver=lbfgs, warm_start=True;, score=nan total time=   0.0s\n",
            "[CV 3/3] END C=0.2, max_iter=500, penalty=elasticnet, solver=lbfgs, warm_start=True;, score=nan total time=   0.0s\n",
            "[CV 1/3] END C=0.1, max_iter=400, penalty=l1, solver=newton-cg, warm_start=True;, score=nan total time=   0.0s\n",
            "[CV 2/3] END C=0.1, max_iter=400, penalty=l1, solver=newton-cg, warm_start=True;, score=nan total time=   0.0s\n",
            "[CV 3/3] END C=0.1, max_iter=400, penalty=l1, solver=newton-cg, warm_start=True;, score=nan total time=   0.0s\n",
            "[CV 1/3] END C=0.2, max_iter=100, penalty=none, solver=liblinear, warm_start=True;, score=nan total time=   0.0s\n",
            "[CV 2/3] END C=0.2, max_iter=100, penalty=none, solver=liblinear, warm_start=True;, score=nan total time=   0.0s\n",
            "[CV 3/3] END C=0.2, max_iter=100, penalty=none, solver=liblinear, warm_start=True;, score=nan total time=   0.0s\n",
            "[CV 1/3] END C=0.1, max_iter=200, penalty=l2, solver=lbfgs, warm_start=False;, score=0.592 total time=   1.3s\n",
            "[CV 2/3] END C=0.1, max_iter=200, penalty=l2, solver=lbfgs, warm_start=False;, score=0.589 total time=   1.3s\n",
            "[CV 3/3] END C=0.1, max_iter=200, penalty=l2, solver=lbfgs, warm_start=False;, score=0.586 total time=   1.3s\n",
            "[CV 1/3] END C=0.5, max_iter=500, penalty=l2, solver=newton-cg, warm_start=False;, score=0.590 total time=   0.6s\n",
            "[CV 2/3] END C=0.5, max_iter=500, penalty=l2, solver=newton-cg, warm_start=False;, score=0.587 total time=   0.6s\n",
            "[CV 3/3] END C=0.5, max_iter=500, penalty=l2, solver=newton-cg, warm_start=False;, score=0.584 total time=   0.6s\n"
          ]
        },
        {
          "name": "stderr",
          "output_type": "stream",
          "text": [
            "/usr/local/lib/python3.9/dist-packages/sklearn/linear_model/_logistic.py:1211: UserWarning: 'n_jobs' > 1 does not have any effect when 'solver' is set to 'liblinear'. Got 'n_jobs' = 2.\n",
            "  warnings.warn(\n"
          ]
        },
        {
          "name": "stdout",
          "output_type": "stream",
          "text": [
            "[CV 1/3] END C=0.4, max_iter=300, penalty=l1, solver=liblinear, warm_start=False;, score=0.591 total time=   2.7s\n"
          ]
        },
        {
          "name": "stderr",
          "output_type": "stream",
          "text": [
            "/usr/local/lib/python3.9/dist-packages/sklearn/linear_model/_logistic.py:1211: UserWarning: 'n_jobs' > 1 does not have any effect when 'solver' is set to 'liblinear'. Got 'n_jobs' = 2.\n",
            "  warnings.warn(\n"
          ]
        },
        {
          "name": "stdout",
          "output_type": "stream",
          "text": [
            "[CV 2/3] END C=0.4, max_iter=300, penalty=l1, solver=liblinear, warm_start=False;, score=0.587 total time=   3.5s\n"
          ]
        },
        {
          "name": "stderr",
          "output_type": "stream",
          "text": [
            "/usr/local/lib/python3.9/dist-packages/sklearn/linear_model/_logistic.py:1211: UserWarning: 'n_jobs' > 1 does not have any effect when 'solver' is set to 'liblinear'. Got 'n_jobs' = 2.\n",
            "  warnings.warn(\n"
          ]
        },
        {
          "name": "stdout",
          "output_type": "stream",
          "text": [
            "[CV 3/3] END C=0.4, max_iter=300, penalty=l1, solver=liblinear, warm_start=False;, score=0.585 total time=   3.4s\n",
            "[CV 1/3] END C=1.0, max_iter=500, penalty=none, solver=liblinear, warm_start=False;, score=nan total time=   0.0s\n",
            "[CV 2/3] END C=1.0, max_iter=500, penalty=none, solver=liblinear, warm_start=False;, score=nan total time=   0.0s\n",
            "[CV 3/3] END C=1.0, max_iter=500, penalty=none, solver=liblinear, warm_start=False;, score=nan total time=   0.0s\n",
            "[CV 1/3] END C=0.8, max_iter=300, penalty=l2, solver=lbfgs, warm_start=False;, score=0.590 total time=   1.3s\n",
            "[CV 2/3] END C=0.8, max_iter=300, penalty=l2, solver=lbfgs, warm_start=False;, score=0.587 total time=   1.4s\n",
            "[CV 3/3] END C=0.8, max_iter=300, penalty=l2, solver=lbfgs, warm_start=False;, score=0.584 total time=   1.3s\n"
          ]
        },
        {
          "name": "stderr",
          "output_type": "stream",
          "text": [
            "/usr/local/lib/python3.9/dist-packages/sklearn/linear_model/_logistic.py:1211: UserWarning: 'n_jobs' > 1 does not have any effect when 'solver' is set to 'liblinear'. Got 'n_jobs' = 2.\n",
            "  warnings.warn(\n"
          ]
        },
        {
          "name": "stdout",
          "output_type": "stream",
          "text": [
            "[CV 1/3] END C=0.4, max_iter=400, penalty=l2, solver=liblinear, warm_start=False;, score=0.590 total time=   0.3s\n"
          ]
        },
        {
          "name": "stderr",
          "output_type": "stream",
          "text": [
            "/usr/local/lib/python3.9/dist-packages/sklearn/linear_model/_logistic.py:1211: UserWarning: 'n_jobs' > 1 does not have any effect when 'solver' is set to 'liblinear'. Got 'n_jobs' = 2.\n",
            "  warnings.warn(\n"
          ]
        },
        {
          "name": "stdout",
          "output_type": "stream",
          "text": [
            "[CV 2/3] END C=0.4, max_iter=400, penalty=l2, solver=liblinear, warm_start=False;, score=0.587 total time=   0.4s\n"
          ]
        },
        {
          "name": "stderr",
          "output_type": "stream",
          "text": [
            "/usr/local/lib/python3.9/dist-packages/sklearn/linear_model/_logistic.py:1211: UserWarning: 'n_jobs' > 1 does not have any effect when 'solver' is set to 'liblinear'. Got 'n_jobs' = 2.\n",
            "  warnings.warn(\n"
          ]
        },
        {
          "name": "stdout",
          "output_type": "stream",
          "text": [
            "[CV 3/3] END C=0.4, max_iter=400, penalty=l2, solver=liblinear, warm_start=False;, score=0.584 total time=   0.3s\n",
            "[CV 1/3] END C=1.0, max_iter=400, penalty=elasticnet, solver=liblinear, warm_start=True;, score=nan total time=   0.0s\n",
            "[CV 2/3] END C=1.0, max_iter=400, penalty=elasticnet, solver=liblinear, warm_start=True;, score=nan total time=   0.0s\n",
            "[CV 3/3] END C=1.0, max_iter=400, penalty=elasticnet, solver=liblinear, warm_start=True;, score=nan total time=   0.0s\n"
          ]
        },
        {
          "name": "stderr",
          "output_type": "stream",
          "text": [
            "/usr/local/lib/python3.9/dist-packages/sklearn/linear_model/_logistic.py:1173: FutureWarning: `penalty='none'`has been deprecated in 1.2 and will be removed in 1.4. To keep the past behaviour, set `penalty=None`.\n",
            "  warnings.warn(\n",
            "/usr/local/lib/python3.9/dist-packages/sklearn/linear_model/_logistic.py:1181: UserWarning: Setting penalty=None will ignore the C and l1_ratio parameters\n",
            "  warnings.warn(\n"
          ]
        },
        {
          "name": "stdout",
          "output_type": "stream",
          "text": [
            "[CV 1/3] END C=0.3, max_iter=100, penalty=none, solver=newton-cg, warm_start=False;, score=0.592 total time=   0.5s\n"
          ]
        },
        {
          "name": "stderr",
          "output_type": "stream",
          "text": [
            "/usr/local/lib/python3.9/dist-packages/sklearn/linear_model/_logistic.py:1173: FutureWarning: `penalty='none'`has been deprecated in 1.2 and will be removed in 1.4. To keep the past behaviour, set `penalty=None`.\n",
            "  warnings.warn(\n",
            "/usr/local/lib/python3.9/dist-packages/sklearn/linear_model/_logistic.py:1181: UserWarning: Setting penalty=None will ignore the C and l1_ratio parameters\n",
            "  warnings.warn(\n"
          ]
        },
        {
          "name": "stdout",
          "output_type": "stream",
          "text": [
            "[CV 2/3] END C=0.3, max_iter=100, penalty=none, solver=newton-cg, warm_start=False;, score=0.588 total time=   0.6s\n"
          ]
        },
        {
          "name": "stderr",
          "output_type": "stream",
          "text": [
            "/usr/local/lib/python3.9/dist-packages/sklearn/linear_model/_logistic.py:1173: FutureWarning: `penalty='none'`has been deprecated in 1.2 and will be removed in 1.4. To keep the past behaviour, set `penalty=None`.\n",
            "  warnings.warn(\n",
            "/usr/local/lib/python3.9/dist-packages/sklearn/linear_model/_logistic.py:1181: UserWarning: Setting penalty=None will ignore the C and l1_ratio parameters\n",
            "  warnings.warn(\n"
          ]
        },
        {
          "name": "stdout",
          "output_type": "stream",
          "text": [
            "[CV 3/3] END C=0.3, max_iter=100, penalty=none, solver=newton-cg, warm_start=False;, score=0.585 total time=   0.6s\n"
          ]
        },
        {
          "name": "stderr",
          "output_type": "stream",
          "text": [
            "/usr/local/lib/python3.9/dist-packages/sklearn/linear_model/_logistic.py:1211: UserWarning: 'n_jobs' > 1 does not have any effect when 'solver' is set to 'liblinear'. Got 'n_jobs' = 2.\n",
            "  warnings.warn(\n"
          ]
        },
        {
          "name": "stdout",
          "output_type": "stream",
          "text": [
            "[CV 1/3] END C=0.2, max_iter=100, penalty=l2, solver=liblinear, warm_start=False;, score=0.590 total time=   0.3s\n"
          ]
        },
        {
          "name": "stderr",
          "output_type": "stream",
          "text": [
            "/usr/local/lib/python3.9/dist-packages/sklearn/linear_model/_logistic.py:1211: UserWarning: 'n_jobs' > 1 does not have any effect when 'solver' is set to 'liblinear'. Got 'n_jobs' = 2.\n",
            "  warnings.warn(\n"
          ]
        },
        {
          "name": "stdout",
          "output_type": "stream",
          "text": [
            "[CV 2/3] END C=0.2, max_iter=100, penalty=l2, solver=liblinear, warm_start=False;, score=0.587 total time=   0.3s\n"
          ]
        },
        {
          "name": "stderr",
          "output_type": "stream",
          "text": [
            "/usr/local/lib/python3.9/dist-packages/sklearn/linear_model/_logistic.py:1211: UserWarning: 'n_jobs' > 1 does not have any effect when 'solver' is set to 'liblinear'. Got 'n_jobs' = 2.\n",
            "  warnings.warn(\n"
          ]
        },
        {
          "name": "stdout",
          "output_type": "stream",
          "text": [
            "[CV 3/3] END C=0.2, max_iter=100, penalty=l2, solver=liblinear, warm_start=False;, score=0.584 total time=   0.4s\n",
            "[CV 1/3] END C=0.8, max_iter=100, penalty=none, solver=liblinear, warm_start=True;, score=nan total time=   0.0s\n",
            "[CV 2/3] END C=0.8, max_iter=100, penalty=none, solver=liblinear, warm_start=True;, score=nan total time=   0.0s\n",
            "[CV 3/3] END C=0.8, max_iter=100, penalty=none, solver=liblinear, warm_start=True;, score=nan total time=   0.0s\n",
            "[CV 1/3] END C=0.2, max_iter=500, penalty=elasticnet, solver=newton-cg, warm_start=True;, score=nan total time=   0.0s\n",
            "[CV 2/3] END C=0.2, max_iter=500, penalty=elasticnet, solver=newton-cg, warm_start=True;, score=nan total time=   0.0s\n",
            "[CV 3/3] END C=0.2, max_iter=500, penalty=elasticnet, solver=newton-cg, warm_start=True;, score=nan total time=   0.0s\n",
            "[CV 1/3] END C=0.4, max_iter=100, penalty=l2, solver=lbfgs, warm_start=True;, score=0.590 total time=   1.3s\n",
            "[CV 2/3] END C=0.4, max_iter=100, penalty=l2, solver=lbfgs, warm_start=True;, score=0.587 total time=   1.4s\n",
            "[CV 3/3] END C=0.4, max_iter=100, penalty=l2, solver=lbfgs, warm_start=True;, score=0.584 total time=   1.5s\n",
            "[CV 1/3] END C=0.3, max_iter=500, penalty=elasticnet, solver=lbfgs, warm_start=False;, score=nan total time=   0.0s\n",
            "[CV 2/3] END C=0.3, max_iter=500, penalty=elasticnet, solver=lbfgs, warm_start=False;, score=nan total time=   0.0s\n",
            "[CV 3/3] END C=0.3, max_iter=500, penalty=elasticnet, solver=lbfgs, warm_start=False;, score=nan total time=   0.0s\n",
            "[CV 1/3] END C=0.6, max_iter=300, penalty=l2, solver=newton-cg, warm_start=False;, score=0.590 total time=   0.8s\n",
            "[CV 2/3] END C=0.6, max_iter=300, penalty=l2, solver=newton-cg, warm_start=False;, score=0.587 total time=   0.7s\n",
            "[CV 3/3] END C=0.6, max_iter=300, penalty=l2, solver=newton-cg, warm_start=False;, score=0.584 total time=   0.7s\n",
            "[CV 1/3] END C=0.7, max_iter=500, penalty=none, solver=liblinear, warm_start=False;, score=nan total time=   0.0s\n",
            "[CV 2/3] END C=0.7, max_iter=500, penalty=none, solver=liblinear, warm_start=False;, score=nan total time=   0.0s\n",
            "[CV 3/3] END C=0.7, max_iter=500, penalty=none, solver=liblinear, warm_start=False;, score=nan total time=   0.0s\n"
          ]
        },
        {
          "name": "stderr",
          "output_type": "stream",
          "text": [
            "/usr/local/lib/python3.9/dist-packages/sklearn/linear_model/_logistic.py:1173: FutureWarning: `penalty='none'`has been deprecated in 1.2 and will be removed in 1.4. To keep the past behaviour, set `penalty=None`.\n",
            "  warnings.warn(\n",
            "/usr/local/lib/python3.9/dist-packages/sklearn/linear_model/_logistic.py:1181: UserWarning: Setting penalty=None will ignore the C and l1_ratio parameters\n",
            "  warnings.warn(\n"
          ]
        },
        {
          "name": "stdout",
          "output_type": "stream",
          "text": [
            "[CV 1/3] END C=0.4, max_iter=100, penalty=none, solver=newton-cg, warm_start=False;, score=0.592 total time=   0.7s\n"
          ]
        },
        {
          "name": "stderr",
          "output_type": "stream",
          "text": [
            "/usr/local/lib/python3.9/dist-packages/sklearn/linear_model/_logistic.py:1173: FutureWarning: `penalty='none'`has been deprecated in 1.2 and will be removed in 1.4. To keep the past behaviour, set `penalty=None`.\n",
            "  warnings.warn(\n",
            "/usr/local/lib/python3.9/dist-packages/sklearn/linear_model/_logistic.py:1181: UserWarning: Setting penalty=None will ignore the C and l1_ratio parameters\n",
            "  warnings.warn(\n"
          ]
        },
        {
          "name": "stdout",
          "output_type": "stream",
          "text": [
            "[CV 2/3] END C=0.4, max_iter=100, penalty=none, solver=newton-cg, warm_start=False;, score=0.588 total time=   0.5s\n"
          ]
        },
        {
          "name": "stderr",
          "output_type": "stream",
          "text": [
            "/usr/local/lib/python3.9/dist-packages/sklearn/linear_model/_logistic.py:1173: FutureWarning: `penalty='none'`has been deprecated in 1.2 and will be removed in 1.4. To keep the past behaviour, set `penalty=None`.\n",
            "  warnings.warn(\n",
            "/usr/local/lib/python3.9/dist-packages/sklearn/linear_model/_logistic.py:1181: UserWarning: Setting penalty=None will ignore the C and l1_ratio parameters\n",
            "  warnings.warn(\n"
          ]
        },
        {
          "name": "stdout",
          "output_type": "stream",
          "text": [
            "[CV 3/3] END C=0.4, max_iter=100, penalty=none, solver=newton-cg, warm_start=False;, score=0.585 total time=   0.6s\n",
            "[CV 1/3] END C=0.8, max_iter=100, penalty=l2, solver=lbfgs, warm_start=True;, score=0.590 total time=   1.3s\n",
            "[CV 2/3] END C=0.8, max_iter=100, penalty=l2, solver=lbfgs, warm_start=True;, score=0.587 total time=   1.3s\n",
            "[CV 3/3] END C=0.8, max_iter=100, penalty=l2, solver=lbfgs, warm_start=True;, score=0.584 total time=   1.4s\n",
            "[CV 1/3] END C=0.2, max_iter=500, penalty=l1, solver=lbfgs, warm_start=False;, score=nan total time=   0.0s\n",
            "[CV 2/3] END C=0.2, max_iter=500, penalty=l1, solver=lbfgs, warm_start=False;, score=nan total time=   0.0s\n",
            "[CV 3/3] END C=0.2, max_iter=500, penalty=l1, solver=lbfgs, warm_start=False;, score=nan total time=   0.0s\n"
          ]
        },
        {
          "name": "stderr",
          "output_type": "stream",
          "text": [
            "/usr/local/lib/python3.9/dist-packages/sklearn/linear_model/_logistic.py:1173: FutureWarning: `penalty='none'`has been deprecated in 1.2 and will be removed in 1.4. To keep the past behaviour, set `penalty=None`.\n",
            "  warnings.warn(\n",
            "/usr/local/lib/python3.9/dist-packages/sklearn/linear_model/_logistic.py:1181: UserWarning: Setting penalty=None will ignore the C and l1_ratio parameters\n",
            "  warnings.warn(\n"
          ]
        },
        {
          "name": "stdout",
          "output_type": "stream",
          "text": [
            "[CV 1/3] END C=0.7, max_iter=400, penalty=none, solver=lbfgs, warm_start=True;, score=0.592 total time=   1.3s\n"
          ]
        },
        {
          "name": "stderr",
          "output_type": "stream",
          "text": [
            "/usr/local/lib/python3.9/dist-packages/sklearn/linear_model/_logistic.py:1173: FutureWarning: `penalty='none'`has been deprecated in 1.2 and will be removed in 1.4. To keep the past behaviour, set `penalty=None`.\n",
            "  warnings.warn(\n",
            "/usr/local/lib/python3.9/dist-packages/sklearn/linear_model/_logistic.py:1181: UserWarning: Setting penalty=None will ignore the C and l1_ratio parameters\n",
            "  warnings.warn(\n"
          ]
        },
        {
          "name": "stdout",
          "output_type": "stream",
          "text": [
            "[CV 2/3] END C=0.7, max_iter=400, penalty=none, solver=lbfgs, warm_start=True;, score=0.588 total time=   1.4s\n"
          ]
        },
        {
          "name": "stderr",
          "output_type": "stream",
          "text": [
            "/usr/local/lib/python3.9/dist-packages/sklearn/linear_model/_logistic.py:1173: FutureWarning: `penalty='none'`has been deprecated in 1.2 and will be removed in 1.4. To keep the past behaviour, set `penalty=None`.\n",
            "  warnings.warn(\n",
            "/usr/local/lib/python3.9/dist-packages/sklearn/linear_model/_logistic.py:1181: UserWarning: Setting penalty=None will ignore the C and l1_ratio parameters\n",
            "  warnings.warn(\n"
          ]
        },
        {
          "name": "stdout",
          "output_type": "stream",
          "text": [
            "[CV 3/3] END C=0.7, max_iter=400, penalty=none, solver=lbfgs, warm_start=True;, score=0.585 total time=   1.3s\n",
            "[CV 1/3] END C=1.0, max_iter=200, penalty=none, solver=liblinear, warm_start=False;, score=nan total time=   0.0s\n",
            "[CV 2/3] END C=1.0, max_iter=200, penalty=none, solver=liblinear, warm_start=False;, score=nan total time=   0.0s\n",
            "[CV 3/3] END C=1.0, max_iter=200, penalty=none, solver=liblinear, warm_start=False;, score=nan total time=   0.0s\n"
          ]
        },
        {
          "name": "stderr",
          "output_type": "stream",
          "text": [
            "/usr/local/lib/python3.9/dist-packages/sklearn/linear_model/_logistic.py:1211: UserWarning: 'n_jobs' > 1 does not have any effect when 'solver' is set to 'liblinear'. Got 'n_jobs' = 2.\n",
            "  warnings.warn(\n"
          ]
        },
        {
          "name": "stdout",
          "output_type": "stream",
          "text": [
            "[CV 1/3] END C=0.3, max_iter=200, penalty=l2, solver=liblinear, warm_start=True;, score=0.590 total time=   0.3s\n"
          ]
        },
        {
          "name": "stderr",
          "output_type": "stream",
          "text": [
            "/usr/local/lib/python3.9/dist-packages/sklearn/linear_model/_logistic.py:1211: UserWarning: 'n_jobs' > 1 does not have any effect when 'solver' is set to 'liblinear'. Got 'n_jobs' = 2.\n",
            "  warnings.warn(\n"
          ]
        },
        {
          "name": "stdout",
          "output_type": "stream",
          "text": [
            "[CV 2/3] END C=0.3, max_iter=200, penalty=l2, solver=liblinear, warm_start=True;, score=0.586 total time=   0.5s\n"
          ]
        },
        {
          "name": "stderr",
          "output_type": "stream",
          "text": [
            "/usr/local/lib/python3.9/dist-packages/sklearn/linear_model/_logistic.py:1211: UserWarning: 'n_jobs' > 1 does not have any effect when 'solver' is set to 'liblinear'. Got 'n_jobs' = 2.\n",
            "  warnings.warn(\n"
          ]
        },
        {
          "name": "stdout",
          "output_type": "stream",
          "text": [
            "[CV 3/3] END C=0.3, max_iter=200, penalty=l2, solver=liblinear, warm_start=True;, score=0.584 total time=   0.5s\n",
            "[CV 1/3] END C=0.7, max_iter=200, penalty=elasticnet, solver=newton-cg, warm_start=True;, score=nan total time=   0.0s\n",
            "[CV 2/3] END C=0.7, max_iter=200, penalty=elasticnet, solver=newton-cg, warm_start=True;, score=nan total time=   0.0s\n",
            "[CV 3/3] END C=0.7, max_iter=200, penalty=elasticnet, solver=newton-cg, warm_start=True;, score=nan total time=   0.0s\n",
            "[CV 1/3] END C=0.1, max_iter=100, penalty=l2, solver=lbfgs, warm_start=False;, score=0.592 total time=   1.7s\n",
            "[CV 2/3] END C=0.1, max_iter=100, penalty=l2, solver=lbfgs, warm_start=False;, score=0.589 total time=   1.7s\n",
            "[CV 3/3] END C=0.1, max_iter=100, penalty=l2, solver=lbfgs, warm_start=False;, score=0.586 total time=   1.5s\n"
          ]
        },
        {
          "name": "stderr",
          "output_type": "stream",
          "text": [
            "/usr/local/lib/python3.9/dist-packages/sklearn/linear_model/_logistic.py:1173: FutureWarning: `penalty='none'`has been deprecated in 1.2 and will be removed in 1.4. To keep the past behaviour, set `penalty=None`.\n",
            "  warnings.warn(\n",
            "/usr/local/lib/python3.9/dist-packages/sklearn/linear_model/_logistic.py:1181: UserWarning: Setting penalty=None will ignore the C and l1_ratio parameters\n",
            "  warnings.warn(\n"
          ]
        },
        {
          "name": "stdout",
          "output_type": "stream",
          "text": [
            "[CV 1/3] END C=0.1, max_iter=300, penalty=none, solver=newton-cg, warm_start=False;, score=0.592 total time=   0.6s\n"
          ]
        },
        {
          "name": "stderr",
          "output_type": "stream",
          "text": [
            "/usr/local/lib/python3.9/dist-packages/sklearn/linear_model/_logistic.py:1173: FutureWarning: `penalty='none'`has been deprecated in 1.2 and will be removed in 1.4. To keep the past behaviour, set `penalty=None`.\n",
            "  warnings.warn(\n",
            "/usr/local/lib/python3.9/dist-packages/sklearn/linear_model/_logistic.py:1181: UserWarning: Setting penalty=None will ignore the C and l1_ratio parameters\n",
            "  warnings.warn(\n"
          ]
        },
        {
          "name": "stdout",
          "output_type": "stream",
          "text": [
            "[CV 2/3] END C=0.1, max_iter=300, penalty=none, solver=newton-cg, warm_start=False;, score=0.588 total time=   0.6s\n"
          ]
        },
        {
          "name": "stderr",
          "output_type": "stream",
          "text": [
            "/usr/local/lib/python3.9/dist-packages/sklearn/linear_model/_logistic.py:1173: FutureWarning: `penalty='none'`has been deprecated in 1.2 and will be removed in 1.4. To keep the past behaviour, set `penalty=None`.\n",
            "  warnings.warn(\n",
            "/usr/local/lib/python3.9/dist-packages/sklearn/linear_model/_logistic.py:1181: UserWarning: Setting penalty=None will ignore the C and l1_ratio parameters\n",
            "  warnings.warn(\n"
          ]
        },
        {
          "name": "stdout",
          "output_type": "stream",
          "text": [
            "[CV 3/3] END C=0.1, max_iter=300, penalty=none, solver=newton-cg, warm_start=False;, score=0.585 total time=   0.6s\n",
            "[CV 1/3] END C=0.3, max_iter=500, penalty=l2, solver=newton-cg, warm_start=False;, score=0.588 total time=   0.6s\n",
            "[CV 2/3] END C=0.3, max_iter=500, penalty=l2, solver=newton-cg, warm_start=False;, score=0.585 total time=   0.6s\n",
            "[CV 3/3] END C=0.3, max_iter=500, penalty=l2, solver=newton-cg, warm_start=False;, score=0.584 total time=   0.6s\n",
            "[CV 1/3] END C=0.3, max_iter=500, penalty=none, solver=liblinear, warm_start=True;, score=nan total time=   0.0s\n",
            "[CV 2/3] END C=0.3, max_iter=500, penalty=none, solver=liblinear, warm_start=True;, score=nan total time=   0.0s\n",
            "[CV 3/3] END C=0.3, max_iter=500, penalty=none, solver=liblinear, warm_start=True;, score=nan total time=   0.0s\n",
            "[CV 1/3] END C=0.4, max_iter=100, penalty=elasticnet, solver=lbfgs, warm_start=False;, score=nan total time=   0.0s\n",
            "[CV 2/3] END C=0.4, max_iter=100, penalty=elasticnet, solver=lbfgs, warm_start=False;, score=nan total time=   0.0s\n",
            "[CV 3/3] END C=0.4, max_iter=100, penalty=elasticnet, solver=lbfgs, warm_start=False;, score=nan total time=   0.0s\n",
            "[CV 1/3] END C=0.7, max_iter=400, penalty=l2, solver=newton-cg, warm_start=True;, score=0.590 total time=   0.5s\n",
            "[CV 2/3] END C=0.7, max_iter=400, penalty=l2, solver=newton-cg, warm_start=True;, score=0.587 total time=   0.5s\n",
            "[CV 3/3] END C=0.7, max_iter=400, penalty=l2, solver=newton-cg, warm_start=True;, score=0.584 total time=   0.6s\n"
          ]
        },
        {
          "name": "stderr",
          "output_type": "stream",
          "text": [
            "/usr/local/lib/python3.9/dist-packages/sklearn/linear_model/_logistic.py:1173: FutureWarning: `penalty='none'`has been deprecated in 1.2 and will be removed in 1.4. To keep the past behaviour, set `penalty=None`.\n",
            "  warnings.warn(\n",
            "/usr/local/lib/python3.9/dist-packages/sklearn/linear_model/_logistic.py:1181: UserWarning: Setting penalty=None will ignore the C and l1_ratio parameters\n",
            "  warnings.warn(\n"
          ]
        },
        {
          "name": "stdout",
          "output_type": "stream",
          "text": [
            "[CV 1/3] END C=0.6, max_iter=400, penalty=none, solver=newton-cg, warm_start=False;, score=0.592 total time=   0.6s\n"
          ]
        },
        {
          "name": "stderr",
          "output_type": "stream",
          "text": [
            "/usr/local/lib/python3.9/dist-packages/sklearn/linear_model/_logistic.py:1173: FutureWarning: `penalty='none'`has been deprecated in 1.2 and will be removed in 1.4. To keep the past behaviour, set `penalty=None`.\n",
            "  warnings.warn(\n",
            "/usr/local/lib/python3.9/dist-packages/sklearn/linear_model/_logistic.py:1181: UserWarning: Setting penalty=None will ignore the C and l1_ratio parameters\n",
            "  warnings.warn(\n"
          ]
        },
        {
          "name": "stdout",
          "output_type": "stream",
          "text": [
            "[CV 2/3] END C=0.6, max_iter=400, penalty=none, solver=newton-cg, warm_start=False;, score=0.588 total time=   0.6s\n"
          ]
        },
        {
          "name": "stderr",
          "output_type": "stream",
          "text": [
            "/usr/local/lib/python3.9/dist-packages/sklearn/linear_model/_logistic.py:1173: FutureWarning: `penalty='none'`has been deprecated in 1.2 and will be removed in 1.4. To keep the past behaviour, set `penalty=None`.\n",
            "  warnings.warn(\n",
            "/usr/local/lib/python3.9/dist-packages/sklearn/linear_model/_logistic.py:1181: UserWarning: Setting penalty=None will ignore the C and l1_ratio parameters\n",
            "  warnings.warn(\n"
          ]
        },
        {
          "name": "stdout",
          "output_type": "stream",
          "text": [
            "[CV 3/3] END C=0.6, max_iter=400, penalty=none, solver=newton-cg, warm_start=False;, score=0.585 total time=   0.6s\n"
          ]
        },
        {
          "name": "stderr",
          "output_type": "stream",
          "text": [
            "/usr/local/lib/python3.9/dist-packages/sklearn/linear_model/_logistic.py:1211: UserWarning: 'n_jobs' > 1 does not have any effect when 'solver' is set to 'liblinear'. Got 'n_jobs' = 2.\n",
            "  warnings.warn(\n"
          ]
        },
        {
          "name": "stdout",
          "output_type": "stream",
          "text": [
            "[CV 1/3] END C=1.0, max_iter=300, penalty=l1, solver=liblinear, warm_start=True;, score=0.592 total time=   2.6s\n"
          ]
        },
        {
          "name": "stderr",
          "output_type": "stream",
          "text": [
            "/usr/local/lib/python3.9/dist-packages/sklearn/linear_model/_logistic.py:1211: UserWarning: 'n_jobs' > 1 does not have any effect when 'solver' is set to 'liblinear'. Got 'n_jobs' = 2.\n",
            "  warnings.warn(\n"
          ]
        },
        {
          "name": "stdout",
          "output_type": "stream",
          "text": [
            "[CV 2/3] END C=1.0, max_iter=300, penalty=l1, solver=liblinear, warm_start=True;, score=0.588 total time=   3.0s\n"
          ]
        },
        {
          "name": "stderr",
          "output_type": "stream",
          "text": [
            "/usr/local/lib/python3.9/dist-packages/sklearn/linear_model/_logistic.py:1211: UserWarning: 'n_jobs' > 1 does not have any effect when 'solver' is set to 'liblinear'. Got 'n_jobs' = 2.\n",
            "  warnings.warn(\n"
          ]
        },
        {
          "name": "stdout",
          "output_type": "stream",
          "text": [
            "[CV 3/3] END C=1.0, max_iter=300, penalty=l1, solver=liblinear, warm_start=True;, score=0.585 total time=   3.1s\n"
          ]
        },
        {
          "name": "stderr",
          "output_type": "stream",
          "text": [
            "/usr/local/lib/python3.9/dist-packages/sklearn/linear_model/_logistic.py:1173: FutureWarning: `penalty='none'`has been deprecated in 1.2 and will be removed in 1.4. To keep the past behaviour, set `penalty=None`.\n",
            "  warnings.warn(\n"
          ]
        },
        {
          "name": "stdout",
          "output_type": "stream",
          "text": [
            "[CV 1/3] END C=1.0, max_iter=200, penalty=none, solver=newton-cg, warm_start=False;, score=0.592 total time=   0.8s\n"
          ]
        },
        {
          "name": "stderr",
          "output_type": "stream",
          "text": [
            "/usr/local/lib/python3.9/dist-packages/sklearn/linear_model/_logistic.py:1173: FutureWarning: `penalty='none'`has been deprecated in 1.2 and will be removed in 1.4. To keep the past behaviour, set `penalty=None`.\n",
            "  warnings.warn(\n"
          ]
        },
        {
          "name": "stdout",
          "output_type": "stream",
          "text": [
            "[CV 2/3] END C=1.0, max_iter=200, penalty=none, solver=newton-cg, warm_start=False;, score=0.588 total time=   0.6s\n"
          ]
        },
        {
          "name": "stderr",
          "output_type": "stream",
          "text": [
            "/usr/local/lib/python3.9/dist-packages/sklearn/linear_model/_logistic.py:1173: FutureWarning: `penalty='none'`has been deprecated in 1.2 and will be removed in 1.4. To keep the past behaviour, set `penalty=None`.\n",
            "  warnings.warn(\n"
          ]
        },
        {
          "name": "stdout",
          "output_type": "stream",
          "text": [
            "[CV 3/3] END C=1.0, max_iter=200, penalty=none, solver=newton-cg, warm_start=False;, score=0.585 total time=   0.5s\n",
            "[CV 1/3] END C=0.2, max_iter=500, penalty=l1, solver=newton-cg, warm_start=True;, score=nan total time=   0.0s\n",
            "[CV 2/3] END C=0.2, max_iter=500, penalty=l1, solver=newton-cg, warm_start=True;, score=nan total time=   0.0s\n",
            "[CV 3/3] END C=0.2, max_iter=500, penalty=l1, solver=newton-cg, warm_start=True;, score=nan total time=   0.0s\n",
            "[CV 1/3] END C=0.4, max_iter=300, penalty=l2, solver=newton-cg, warm_start=True;, score=0.590 total time=   0.5s\n",
            "[CV 2/3] END C=0.4, max_iter=300, penalty=l2, solver=newton-cg, warm_start=True;, score=0.587 total time=   0.6s\n",
            "[CV 3/3] END C=0.4, max_iter=300, penalty=l2, solver=newton-cg, warm_start=True;, score=0.584 total time=   0.5s\n"
          ]
        },
        {
          "name": "stderr",
          "output_type": "stream",
          "text": [
            "/usr/local/lib/python3.9/dist-packages/sklearn/linear_model/_logistic.py:1173: FutureWarning: `penalty='none'`has been deprecated in 1.2 and will be removed in 1.4. To keep the past behaviour, set `penalty=None`.\n",
            "  warnings.warn(\n",
            "/usr/local/lib/python3.9/dist-packages/sklearn/linear_model/_logistic.py:1181: UserWarning: Setting penalty=None will ignore the C and l1_ratio parameters\n",
            "  warnings.warn(\n"
          ]
        },
        {
          "name": "stdout",
          "output_type": "stream",
          "text": [
            "[CV 1/3] END C=0.2, max_iter=400, penalty=none, solver=lbfgs, warm_start=False;, score=0.592 total time=   1.3s\n"
          ]
        },
        {
          "name": "stderr",
          "output_type": "stream",
          "text": [
            "/usr/local/lib/python3.9/dist-packages/sklearn/linear_model/_logistic.py:1173: FutureWarning: `penalty='none'`has been deprecated in 1.2 and will be removed in 1.4. To keep the past behaviour, set `penalty=None`.\n",
            "  warnings.warn(\n",
            "/usr/local/lib/python3.9/dist-packages/sklearn/linear_model/_logistic.py:1181: UserWarning: Setting penalty=None will ignore the C and l1_ratio parameters\n",
            "  warnings.warn(\n"
          ]
        },
        {
          "name": "stdout",
          "output_type": "stream",
          "text": [
            "[CV 2/3] END C=0.2, max_iter=400, penalty=none, solver=lbfgs, warm_start=False;, score=0.588 total time=   1.4s\n"
          ]
        },
        {
          "name": "stderr",
          "output_type": "stream",
          "text": [
            "/usr/local/lib/python3.9/dist-packages/sklearn/linear_model/_logistic.py:1173: FutureWarning: `penalty='none'`has been deprecated in 1.2 and will be removed in 1.4. To keep the past behaviour, set `penalty=None`.\n",
            "  warnings.warn(\n",
            "/usr/local/lib/python3.9/dist-packages/sklearn/linear_model/_logistic.py:1181: UserWarning: Setting penalty=None will ignore the C and l1_ratio parameters\n",
            "  warnings.warn(\n"
          ]
        },
        {
          "name": "stdout",
          "output_type": "stream",
          "text": [
            "[CV 3/3] END C=0.2, max_iter=400, penalty=none, solver=lbfgs, warm_start=False;, score=0.585 total time=   1.3s\n"
          ]
        },
        {
          "name": "stderr",
          "output_type": "stream",
          "text": [
            "/usr/local/lib/python3.9/dist-packages/sklearn/linear_model/_logistic.py:1173: FutureWarning: `penalty='none'`has been deprecated in 1.2 and will be removed in 1.4. To keep the past behaviour, set `penalty=None`.\n",
            "  warnings.warn(\n",
            "/usr/local/lib/python3.9/dist-packages/sklearn/linear_model/_logistic.py:1181: UserWarning: Setting penalty=None will ignore the C and l1_ratio parameters\n",
            "  warnings.warn(\n"
          ]
        },
        {
          "name": "stdout",
          "output_type": "stream",
          "text": [
            "[CV 1/3] END C=0.8, max_iter=100, penalty=none, solver=newton-cg, warm_start=False;, score=0.592 total time=   0.6s\n"
          ]
        },
        {
          "name": "stderr",
          "output_type": "stream",
          "text": [
            "/usr/local/lib/python3.9/dist-packages/sklearn/linear_model/_logistic.py:1173: FutureWarning: `penalty='none'`has been deprecated in 1.2 and will be removed in 1.4. To keep the past behaviour, set `penalty=None`.\n",
            "  warnings.warn(\n",
            "/usr/local/lib/python3.9/dist-packages/sklearn/linear_model/_logistic.py:1181: UserWarning: Setting penalty=None will ignore the C and l1_ratio parameters\n",
            "  warnings.warn(\n"
          ]
        },
        {
          "name": "stdout",
          "output_type": "stream",
          "text": [
            "[CV 2/3] END C=0.8, max_iter=100, penalty=none, solver=newton-cg, warm_start=False;, score=0.588 total time=   0.5s\n"
          ]
        },
        {
          "name": "stderr",
          "output_type": "stream",
          "text": [
            "/usr/local/lib/python3.9/dist-packages/sklearn/linear_model/_logistic.py:1173: FutureWarning: `penalty='none'`has been deprecated in 1.2 and will be removed in 1.4. To keep the past behaviour, set `penalty=None`.\n",
            "  warnings.warn(\n",
            "/usr/local/lib/python3.9/dist-packages/sklearn/linear_model/_logistic.py:1181: UserWarning: Setting penalty=None will ignore the C and l1_ratio parameters\n",
            "  warnings.warn(\n"
          ]
        },
        {
          "name": "stdout",
          "output_type": "stream",
          "text": [
            "[CV 3/3] END C=0.8, max_iter=100, penalty=none, solver=newton-cg, warm_start=False;, score=0.585 total time=   0.6s\n"
          ]
        },
        {
          "name": "stderr",
          "output_type": "stream",
          "text": [
            "/usr/local/lib/python3.9/dist-packages/sklearn/linear_model/_logistic.py:1173: FutureWarning: `penalty='none'`has been deprecated in 1.2 and will be removed in 1.4. To keep the past behaviour, set `penalty=None`.\n",
            "  warnings.warn(\n",
            "/usr/local/lib/python3.9/dist-packages/sklearn/linear_model/_logistic.py:1181: UserWarning: Setting penalty=None will ignore the C and l1_ratio parameters\n",
            "  warnings.warn(\n"
          ]
        },
        {
          "name": "stdout",
          "output_type": "stream",
          "text": [
            "[CV 1/3] END C=0.2, max_iter=100, penalty=none, solver=lbfgs, warm_start=False;, score=0.592 total time=   1.3s\n"
          ]
        },
        {
          "name": "stderr",
          "output_type": "stream",
          "text": [
            "/usr/local/lib/python3.9/dist-packages/sklearn/linear_model/_logistic.py:1173: FutureWarning: `penalty='none'`has been deprecated in 1.2 and will be removed in 1.4. To keep the past behaviour, set `penalty=None`.\n",
            "  warnings.warn(\n",
            "/usr/local/lib/python3.9/dist-packages/sklearn/linear_model/_logistic.py:1181: UserWarning: Setting penalty=None will ignore the C and l1_ratio parameters\n",
            "  warnings.warn(\n"
          ]
        },
        {
          "name": "stdout",
          "output_type": "stream",
          "text": [
            "[CV 2/3] END C=0.2, max_iter=100, penalty=none, solver=lbfgs, warm_start=False;, score=0.588 total time=   1.4s\n"
          ]
        },
        {
          "name": "stderr",
          "output_type": "stream",
          "text": [
            "/usr/local/lib/python3.9/dist-packages/sklearn/linear_model/_logistic.py:1173: FutureWarning: `penalty='none'`has been deprecated in 1.2 and will be removed in 1.4. To keep the past behaviour, set `penalty=None`.\n",
            "  warnings.warn(\n",
            "/usr/local/lib/python3.9/dist-packages/sklearn/linear_model/_logistic.py:1181: UserWarning: Setting penalty=None will ignore the C and l1_ratio parameters\n",
            "  warnings.warn(\n"
          ]
        },
        {
          "name": "stdout",
          "output_type": "stream",
          "text": [
            "[CV 3/3] END C=0.2, max_iter=100, penalty=none, solver=lbfgs, warm_start=False;, score=0.585 total time=   1.5s\n",
            "[CV 1/3] END C=0.8, max_iter=200, penalty=none, solver=liblinear, warm_start=False;, score=nan total time=   0.0s\n",
            "[CV 2/3] END C=0.8, max_iter=200, penalty=none, solver=liblinear, warm_start=False;, score=nan total time=   0.0s\n",
            "[CV 3/3] END C=0.8, max_iter=200, penalty=none, solver=liblinear, warm_start=False;, score=nan total time=   0.0s\n"
          ]
        },
        {
          "name": "stderr",
          "output_type": "stream",
          "text": [
            "/usr/local/lib/python3.9/dist-packages/sklearn/linear_model/_logistic.py:1211: UserWarning: 'n_jobs' > 1 does not have any effect when 'solver' is set to 'liblinear'. Got 'n_jobs' = 2.\n",
            "  warnings.warn(\n"
          ]
        },
        {
          "name": "stdout",
          "output_type": "stream",
          "text": [
            "[CV 1/3] END C=0.7, max_iter=300, penalty=l2, solver=liblinear, warm_start=True;, score=0.590 total time=   0.5s\n"
          ]
        },
        {
          "name": "stderr",
          "output_type": "stream",
          "text": [
            "/usr/local/lib/python3.9/dist-packages/sklearn/linear_model/_logistic.py:1211: UserWarning: 'n_jobs' > 1 does not have any effect when 'solver' is set to 'liblinear'. Got 'n_jobs' = 2.\n",
            "  warnings.warn(\n"
          ]
        },
        {
          "name": "stdout",
          "output_type": "stream",
          "text": [
            "[CV 2/3] END C=0.7, max_iter=300, penalty=l2, solver=liblinear, warm_start=True;, score=0.587 total time=   0.5s\n"
          ]
        },
        {
          "name": "stderr",
          "output_type": "stream",
          "text": [
            "/usr/local/lib/python3.9/dist-packages/sklearn/linear_model/_logistic.py:1211: UserWarning: 'n_jobs' > 1 does not have any effect when 'solver' is set to 'liblinear'. Got 'n_jobs' = 2.\n",
            "  warnings.warn(\n"
          ]
        },
        {
          "name": "stdout",
          "output_type": "stream",
          "text": [
            "[CV 3/3] END C=0.7, max_iter=300, penalty=l2, solver=liblinear, warm_start=True;, score=0.584 total time=   0.5s\n"
          ]
        },
        {
          "name": "stderr",
          "output_type": "stream",
          "text": [
            "/usr/local/lib/python3.9/dist-packages/sklearn/linear_model/_logistic.py:1211: UserWarning: 'n_jobs' > 1 does not have any effect when 'solver' is set to 'liblinear'. Got 'n_jobs' = 2.\n",
            "  warnings.warn(\n"
          ]
        },
        {
          "name": "stdout",
          "output_type": "stream",
          "text": [
            "[CV 1/3] END C=0.4, max_iter=500, penalty=l1, solver=liblinear, warm_start=False;, score=0.591 total time=   2.7s\n"
          ]
        },
        {
          "name": "stderr",
          "output_type": "stream",
          "text": [
            "/usr/local/lib/python3.9/dist-packages/sklearn/linear_model/_logistic.py:1211: UserWarning: 'n_jobs' > 1 does not have any effect when 'solver' is set to 'liblinear'. Got 'n_jobs' = 2.\n",
            "  warnings.warn(\n"
          ]
        },
        {
          "name": "stdout",
          "output_type": "stream",
          "text": [
            "[CV 2/3] END C=0.4, max_iter=500, penalty=l1, solver=liblinear, warm_start=False;, score=0.587 total time=   2.4s\n"
          ]
        },
        {
          "name": "stderr",
          "output_type": "stream",
          "text": [
            "/usr/local/lib/python3.9/dist-packages/sklearn/linear_model/_logistic.py:1211: UserWarning: 'n_jobs' > 1 does not have any effect when 'solver' is set to 'liblinear'. Got 'n_jobs' = 2.\n",
            "  warnings.warn(\n"
          ]
        },
        {
          "name": "stdout",
          "output_type": "stream",
          "text": [
            "[CV 3/3] END C=0.4, max_iter=500, penalty=l1, solver=liblinear, warm_start=False;, score=0.585 total time=   2.5s\n"
          ]
        },
        {
          "name": "stderr",
          "output_type": "stream",
          "text": [
            "/usr/local/lib/python3.9/dist-packages/sklearn/linear_model/_logistic.py:1173: FutureWarning: `penalty='none'`has been deprecated in 1.2 and will be removed in 1.4. To keep the past behaviour, set `penalty=None`.\n",
            "  warnings.warn(\n",
            "/usr/local/lib/python3.9/dist-packages/sklearn/linear_model/_logistic.py:1181: UserWarning: Setting penalty=None will ignore the C and l1_ratio parameters\n",
            "  warnings.warn(\n"
          ]
        },
        {
          "name": "stdout",
          "output_type": "stream",
          "text": [
            "[CV 1/3] END C=0.7, max_iter=100, penalty=none, solver=newton-cg, warm_start=True;, score=0.592 total time=   0.5s\n"
          ]
        },
        {
          "name": "stderr",
          "output_type": "stream",
          "text": [
            "/usr/local/lib/python3.9/dist-packages/sklearn/linear_model/_logistic.py:1173: FutureWarning: `penalty='none'`has been deprecated in 1.2 and will be removed in 1.4. To keep the past behaviour, set `penalty=None`.\n",
            "  warnings.warn(\n",
            "/usr/local/lib/python3.9/dist-packages/sklearn/linear_model/_logistic.py:1181: UserWarning: Setting penalty=None will ignore the C and l1_ratio parameters\n",
            "  warnings.warn(\n"
          ]
        },
        {
          "name": "stdout",
          "output_type": "stream",
          "text": [
            "[CV 2/3] END C=0.7, max_iter=100, penalty=none, solver=newton-cg, warm_start=True;, score=0.588 total time=   0.4s\n"
          ]
        },
        {
          "name": "stderr",
          "output_type": "stream",
          "text": [
            "/usr/local/lib/python3.9/dist-packages/sklearn/linear_model/_logistic.py:1173: FutureWarning: `penalty='none'`has been deprecated in 1.2 and will be removed in 1.4. To keep the past behaviour, set `penalty=None`.\n",
            "  warnings.warn(\n",
            "/usr/local/lib/python3.9/dist-packages/sklearn/linear_model/_logistic.py:1181: UserWarning: Setting penalty=None will ignore the C and l1_ratio parameters\n",
            "  warnings.warn(\n"
          ]
        },
        {
          "name": "stdout",
          "output_type": "stream",
          "text": [
            "[CV 3/3] END C=0.7, max_iter=100, penalty=none, solver=newton-cg, warm_start=True;, score=0.585 total time=   0.5s\n",
            "[CV 1/3] END C=0.8, max_iter=400, penalty=l2, solver=newton-cg, warm_start=True;, score=0.590 total time=   0.5s\n",
            "[CV 2/3] END C=0.8, max_iter=400, penalty=l2, solver=newton-cg, warm_start=True;, score=0.587 total time=   0.5s\n",
            "[CV 3/3] END C=0.8, max_iter=400, penalty=l2, solver=newton-cg, warm_start=True;, score=0.584 total time=   0.5s\n"
          ]
        },
        {
          "name": "stderr",
          "output_type": "stream",
          "text": [
            "/usr/local/lib/python3.9/dist-packages/sklearn/linear_model/_logistic.py:1211: UserWarning: 'n_jobs' > 1 does not have any effect when 'solver' is set to 'liblinear'. Got 'n_jobs' = 2.\n",
            "  warnings.warn(\n"
          ]
        },
        {
          "name": "stdout",
          "output_type": "stream",
          "text": [
            "[CV 1/3] END C=0.1, max_iter=200, penalty=l2, solver=liblinear, warm_start=False;, score=0.593 total time=   0.4s\n"
          ]
        },
        {
          "name": "stderr",
          "output_type": "stream",
          "text": [
            "/usr/local/lib/python3.9/dist-packages/sklearn/linear_model/_logistic.py:1211: UserWarning: 'n_jobs' > 1 does not have any effect when 'solver' is set to 'liblinear'. Got 'n_jobs' = 2.\n",
            "  warnings.warn(\n"
          ]
        },
        {
          "name": "stdout",
          "output_type": "stream",
          "text": [
            "[CV 2/3] END C=0.1, max_iter=200, penalty=l2, solver=liblinear, warm_start=False;, score=0.590 total time=   0.4s\n"
          ]
        },
        {
          "name": "stderr",
          "output_type": "stream",
          "text": [
            "/usr/local/lib/python3.9/dist-packages/sklearn/linear_model/_logistic.py:1211: UserWarning: 'n_jobs' > 1 does not have any effect when 'solver' is set to 'liblinear'. Got 'n_jobs' = 2.\n",
            "  warnings.warn(\n"
          ]
        },
        {
          "name": "stdout",
          "output_type": "stream",
          "text": [
            "[CV 3/3] END C=0.1, max_iter=200, penalty=l2, solver=liblinear, warm_start=False;, score=0.586 total time=   0.4s\n",
            "[CV 1/3] END C=0.4, max_iter=400, penalty=none, solver=liblinear, warm_start=True;, score=nan total time=   0.0s\n",
            "[CV 2/3] END C=0.4, max_iter=400, penalty=none, solver=liblinear, warm_start=True;, score=nan total time=   0.0s\n",
            "[CV 3/3] END C=0.4, max_iter=400, penalty=none, solver=liblinear, warm_start=True;, score=nan total time=   0.0s\n",
            "[CV 1/3] END C=0.8, max_iter=200, penalty=elasticnet, solver=liblinear, warm_start=True;, score=nan total time=   0.0s\n",
            "[CV 2/3] END C=0.8, max_iter=200, penalty=elasticnet, solver=liblinear, warm_start=True;, score=nan total time=   0.0s\n",
            "[CV 3/3] END C=0.8, max_iter=200, penalty=elasticnet, solver=liblinear, warm_start=True;, score=nan total time=   0.0s\n",
            "[CV 1/3] END C=0.5, max_iter=500, penalty=elasticnet, solver=lbfgs, warm_start=False;, score=nan total time=   0.0s\n",
            "[CV 2/3] END C=0.5, max_iter=500, penalty=elasticnet, solver=lbfgs, warm_start=False;, score=nan total time=   0.0s\n",
            "[CV 3/3] END C=0.5, max_iter=500, penalty=elasticnet, solver=lbfgs, warm_start=False;, score=nan total time=   0.0s\n"
          ]
        },
        {
          "name": "stderr",
          "output_type": "stream",
          "text": [
            "/usr/local/lib/python3.9/dist-packages/sklearn/linear_model/_logistic.py:1211: UserWarning: 'n_jobs' > 1 does not have any effect when 'solver' is set to 'liblinear'. Got 'n_jobs' = 2.\n",
            "  warnings.warn(\n"
          ]
        },
        {
          "name": "stdout",
          "output_type": "stream",
          "text": [
            "[CV 1/3] END C=0.1, max_iter=100, penalty=l2, solver=liblinear, warm_start=False;, score=0.593 total time=   0.4s\n"
          ]
        },
        {
          "name": "stderr",
          "output_type": "stream",
          "text": [
            "/usr/local/lib/python3.9/dist-packages/sklearn/linear_model/_logistic.py:1211: UserWarning: 'n_jobs' > 1 does not have any effect when 'solver' is set to 'liblinear'. Got 'n_jobs' = 2.\n",
            "  warnings.warn(\n"
          ]
        },
        {
          "name": "stdout",
          "output_type": "stream",
          "text": [
            "[CV 2/3] END C=0.1, max_iter=100, penalty=l2, solver=liblinear, warm_start=False;, score=0.590 total time=   0.5s\n"
          ]
        },
        {
          "name": "stderr",
          "output_type": "stream",
          "text": [
            "/usr/local/lib/python3.9/dist-packages/sklearn/linear_model/_logistic.py:1211: UserWarning: 'n_jobs' > 1 does not have any effect when 'solver' is set to 'liblinear'. Got 'n_jobs' = 2.\n",
            "  warnings.warn(\n"
          ]
        },
        {
          "name": "stdout",
          "output_type": "stream",
          "text": [
            "[CV 3/3] END C=0.1, max_iter=100, penalty=l2, solver=liblinear, warm_start=False;, score=0.586 total time=   0.5s\n"
          ]
        },
        {
          "name": "stderr",
          "output_type": "stream",
          "text": [
            "/usr/local/lib/python3.9/dist-packages/sklearn/linear_model/_logistic.py:1173: FutureWarning: `penalty='none'`has been deprecated in 1.2 and will be removed in 1.4. To keep the past behaviour, set `penalty=None`.\n",
            "  warnings.warn(\n",
            "/usr/local/lib/python3.9/dist-packages/sklearn/linear_model/_logistic.py:1181: UserWarning: Setting penalty=None will ignore the C and l1_ratio parameters\n",
            "  warnings.warn(\n"
          ]
        },
        {
          "name": "stdout",
          "output_type": "stream",
          "text": [
            "[CV 1/3] END C=0.1, max_iter=200, penalty=none, solver=lbfgs, warm_start=False;, score=0.592 total time=   1.5s\n"
          ]
        },
        {
          "name": "stderr",
          "output_type": "stream",
          "text": [
            "/usr/local/lib/python3.9/dist-packages/sklearn/linear_model/_logistic.py:1173: FutureWarning: `penalty='none'`has been deprecated in 1.2 and will be removed in 1.4. To keep the past behaviour, set `penalty=None`.\n",
            "  warnings.warn(\n",
            "/usr/local/lib/python3.9/dist-packages/sklearn/linear_model/_logistic.py:1181: UserWarning: Setting penalty=None will ignore the C and l1_ratio parameters\n",
            "  warnings.warn(\n"
          ]
        },
        {
          "name": "stdout",
          "output_type": "stream",
          "text": [
            "[CV 2/3] END C=0.1, max_iter=200, penalty=none, solver=lbfgs, warm_start=False;, score=0.588 total time=   1.5s\n"
          ]
        },
        {
          "name": "stderr",
          "output_type": "stream",
          "text": [
            "/usr/local/lib/python3.9/dist-packages/sklearn/linear_model/_logistic.py:1173: FutureWarning: `penalty='none'`has been deprecated in 1.2 and will be removed in 1.4. To keep the past behaviour, set `penalty=None`.\n",
            "  warnings.warn(\n",
            "/usr/local/lib/python3.9/dist-packages/sklearn/linear_model/_logistic.py:1181: UserWarning: Setting penalty=None will ignore the C and l1_ratio parameters\n",
            "  warnings.warn(\n"
          ]
        },
        {
          "name": "stdout",
          "output_type": "stream",
          "text": [
            "[CV 3/3] END C=0.1, max_iter=200, penalty=none, solver=lbfgs, warm_start=False;, score=0.585 total time=   1.3s\n",
            "[CV 1/3] END C=0.3, max_iter=400, penalty=none, solver=liblinear, warm_start=True;, score=nan total time=   0.0s\n",
            "[CV 2/3] END C=0.3, max_iter=400, penalty=none, solver=liblinear, warm_start=True;, score=nan total time=   0.0s\n",
            "[CV 3/3] END C=0.3, max_iter=400, penalty=none, solver=liblinear, warm_start=True;, score=nan total time=   0.0s\n",
            "[CV 1/3] END C=0.5, max_iter=300, penalty=l1, solver=lbfgs, warm_start=False;, score=nan total time=   0.0s\n",
            "[CV 2/3] END C=0.5, max_iter=300, penalty=l1, solver=lbfgs, warm_start=False;, score=nan total time=   0.0s\n",
            "[CV 3/3] END C=0.5, max_iter=300, penalty=l1, solver=lbfgs, warm_start=False;, score=nan total time=   0.0s\n",
            "[CV 1/3] END C=0.3, max_iter=200, penalty=l2, solver=newton-cg, warm_start=False;, score=0.588 total time=   0.5s\n",
            "[CV 2/3] END C=0.3, max_iter=200, penalty=l2, solver=newton-cg, warm_start=False;, score=0.585 total time=   0.5s\n",
            "[CV 3/3] END C=0.3, max_iter=200, penalty=l2, solver=newton-cg, warm_start=False;, score=0.584 total time=   0.5s\n"
          ]
        },
        {
          "name": "stderr",
          "output_type": "stream",
          "text": [
            "/usr/local/lib/python3.9/dist-packages/sklearn/model_selection/_validation.py:378: FitFailedWarning: \n",
            "87 fits failed out of a total of 210.\n",
            "The score on these train-test partitions for these parameters will be set to nan.\n",
            "If these failures are not expected, you can try to debug them by setting error_score='raise'.\n",
            "\n",
            "Below are more details about the failures:\n",
            "--------------------------------------------------------------------------------\n",
            "18 fits failed with the following error:\n",
            "Traceback (most recent call last):\n",
            "  File \"/usr/local/lib/python3.9/dist-packages/sklearn/model_selection/_validation.py\", line 686, in _fit_and_score\n",
            "    estimator.fit(X_train, y_train, **fit_params)\n",
            "  File \"/usr/local/lib/python3.9/dist-packages/sklearn/linear_model/_logistic.py\", line 1162, in fit\n",
            "    solver = _check_solver(self.solver, self.penalty, self.dual)\n",
            "  File \"/usr/local/lib/python3.9/dist-packages/sklearn/linear_model/_logistic.py\", line 54, in _check_solver\n",
            "    raise ValueError(\n",
            "ValueError: Solver newton-cg supports only 'l2' or 'none' penalties, got l1 penalty.\n",
            "\n",
            "--------------------------------------------------------------------------------\n",
            "33 fits failed with the following error:\n",
            "Traceback (most recent call last):\n",
            "  File \"/usr/local/lib/python3.9/dist-packages/sklearn/model_selection/_validation.py\", line 686, in _fit_and_score\n",
            "    estimator.fit(X_train, y_train, **fit_params)\n",
            "  File \"/usr/local/lib/python3.9/dist-packages/sklearn/linear_model/_logistic.py\", line 1162, in fit\n",
            "    solver = _check_solver(self.solver, self.penalty, self.dual)\n",
            "  File \"/usr/local/lib/python3.9/dist-packages/sklearn/linear_model/_logistic.py\", line 71, in _check_solver\n",
            "    raise ValueError(\"penalty='none' is not supported for the liblinear solver\")\n",
            "ValueError: penalty='none' is not supported for the liblinear solver\n",
            "\n",
            "--------------------------------------------------------------------------------\n",
            "9 fits failed with the following error:\n",
            "Traceback (most recent call last):\n",
            "  File \"/usr/local/lib/python3.9/dist-packages/sklearn/model_selection/_validation.py\", line 686, in _fit_and_score\n",
            "    estimator.fit(X_train, y_train, **fit_params)\n",
            "  File \"/usr/local/lib/python3.9/dist-packages/sklearn/linear_model/_logistic.py\", line 1162, in fit\n",
            "    solver = _check_solver(self.solver, self.penalty, self.dual)\n",
            "  File \"/usr/local/lib/python3.9/dist-packages/sklearn/linear_model/_logistic.py\", line 54, in _check_solver\n",
            "    raise ValueError(\n",
            "ValueError: Solver lbfgs supports only 'l2' or 'none' penalties, got l1 penalty.\n",
            "\n",
            "--------------------------------------------------------------------------------\n",
            "9 fits failed with the following error:\n",
            "Traceback (most recent call last):\n",
            "  File \"/usr/local/lib/python3.9/dist-packages/sklearn/model_selection/_validation.py\", line 686, in _fit_and_score\n",
            "    estimator.fit(X_train, y_train, **fit_params)\n",
            "  File \"/usr/local/lib/python3.9/dist-packages/sklearn/linear_model/_logistic.py\", line 1162, in fit\n",
            "    solver = _check_solver(self.solver, self.penalty, self.dual)\n",
            "  File \"/usr/local/lib/python3.9/dist-packages/sklearn/linear_model/_logistic.py\", line 54, in _check_solver\n",
            "    raise ValueError(\n",
            "ValueError: Solver newton-cg supports only 'l2' or 'none' penalties, got elasticnet penalty.\n",
            "\n",
            "--------------------------------------------------------------------------------\n",
            "12 fits failed with the following error:\n",
            "Traceback (most recent call last):\n",
            "  File \"/usr/local/lib/python3.9/dist-packages/sklearn/model_selection/_validation.py\", line 686, in _fit_and_score\n",
            "    estimator.fit(X_train, y_train, **fit_params)\n",
            "  File \"/usr/local/lib/python3.9/dist-packages/sklearn/linear_model/_logistic.py\", line 1162, in fit\n",
            "    solver = _check_solver(self.solver, self.penalty, self.dual)\n",
            "  File \"/usr/local/lib/python3.9/dist-packages/sklearn/linear_model/_logistic.py\", line 54, in _check_solver\n",
            "    raise ValueError(\n",
            "ValueError: Solver lbfgs supports only 'l2' or 'none' penalties, got elasticnet penalty.\n",
            "\n",
            "--------------------------------------------------------------------------------\n",
            "6 fits failed with the following error:\n",
            "Traceback (most recent call last):\n",
            "  File \"/usr/local/lib/python3.9/dist-packages/sklearn/model_selection/_validation.py\", line 686, in _fit_and_score\n",
            "    estimator.fit(X_train, y_train, **fit_params)\n",
            "  File \"/usr/local/lib/python3.9/dist-packages/sklearn/linear_model/_logistic.py\", line 1162, in fit\n",
            "    solver = _check_solver(self.solver, self.penalty, self.dual)\n",
            "  File \"/usr/local/lib/python3.9/dist-packages/sklearn/linear_model/_logistic.py\", line 64, in _check_solver\n",
            "    raise ValueError(\n",
            "ValueError: Only 'saga' solver supports elasticnet penalty, got solver=liblinear.\n",
            "\n",
            "  warnings.warn(some_fits_failed_message, FitFailedWarning)\n",
            "/usr/local/lib/python3.9/dist-packages/sklearn/model_selection/_search.py:952: UserWarning: One or more of the test scores are non-finite: [       nan 0.5881012         nan 0.58847504 0.5868037  0.58773467\n",
            "        nan 0.58847504        nan        nan        nan 0.5881012\n",
            "        nan 0.58847504 0.58685501 0.5868037         nan        nan\n",
            "        nan        nan 0.58888555 0.58675238 0.58765404        nan\n",
            " 0.5868037  0.58676705        nan 0.58845305 0.58729484        nan\n",
            "        nan 0.58672306        nan 0.58679637        nan 0.58845305\n",
            " 0.5868037         nan 0.58847504        nan 0.58666442        nan\n",
            " 0.58888555 0.58845305 0.5857921         nan        nan 0.58681103\n",
            " 0.58845305 0.58829178 0.58845305        nan 0.58672306 0.58847504\n",
            " 0.58845305 0.58847504        nan 0.58686967 0.58765404 0.58845305\n",
            " 0.5868037  0.58962592        nan        nan        nan 0.58962592\n",
            " 0.58847504        nan        nan 0.5857921 ]\n",
            "  warnings.warn(\n",
            "/usr/local/lib/python3.9/dist-packages/sklearn/linear_model/_logistic.py:1211: UserWarning: 'n_jobs' > 1 does not have any effect when 'solver' is set to 'liblinear'. Got 'n_jobs' = 2.\n",
            "  warnings.warn(\n"
          ]
        },
        {
          "data": {
            "text/plain": [
              "{'warm_start': False,\n",
              " 'solver': 'liblinear',\n",
              " 'penalty': 'l2',\n",
              " 'max_iter': 200,\n",
              " 'C': 0.1}"
            ]
          },
          "execution_count": 32,
          "metadata": {},
          "output_type": "execute_result"
        }
      ],
      "source": [
        "# RandomizedSearchCV\n",
        "\n",
        "random_grid = {\n",
        "                \"penalty\": ['l1', 'l2', 'elasticnet', 'none'],\n",
        "                \"max_iter\" :[100, 200, 300, 400, 500],\n",
        "                \"warm_start\" : [True, False],\n",
        "                \"solver\" : ['lbfgs', 'newton-cg', 'liblinear'],\n",
        "                \"C\" : [0.1, 0.2, 0.3, 0.4, 0.5, 0.6, 0.7, 0.8, 0.8, 1.0]\n",
        "              }\n",
        "\n",
        "log_random = RandomizedSearchCV(estimator = log_clf, \n",
        "                                param_distributions = random_grid, \n",
        "                                n_iter = 70, \n",
        "                                cv = 3, \n",
        "                                verbose = 3, \n",
        "                                scoring = 'recall',\n",
        "                                random_state = 10)\n",
        "\n",
        "log_random.fit(X_train, y_train)\n",
        "log_random.best_params_"
      ]
    },
    {
      "cell_type": "markdown",
      "metadata": {
        "id": "K6pDMCgDBqPd"
      },
      "source": [
        "Errors expected because there are different supported penalties for different solvers. Increase RandomizedSearchCV iterations to compensate.\n",
        "\n",
        "* ‘lbfgs’ - [‘l2’, None]\n",
        "* ‘liblinear’ - [‘l1’, ‘l2’]\n",
        "* ‘newton-cg’ - [‘l2’, None]\n",
        "\n"
      ]
    },
    {
      "cell_type": "code",
      "execution_count": null,
      "metadata": {
        "colab": {
          "base_uri": "https://localhost:8080/"
        },
        "id": "GQf2Kg82OkuJ",
        "outputId": "6eb4795b-e064-4b4b-dc8b-e63788e00e53"
      },
      "outputs": [
        {
          "data": {
            "text/plain": [
              "{'warm_start': False,\n",
              " 'solver': 'liblinear',\n",
              " 'penalty': 'l2',\n",
              " 'max_iter': 200,\n",
              " 'C': 0.1}"
            ]
          },
          "execution_count": 33,
          "metadata": {},
          "output_type": "execute_result"
        }
      ],
      "source": [
        "log_random.best_params_"
      ]
    },
    {
      "cell_type": "code",
      "execution_count": null,
      "metadata": {
        "colab": {
          "base_uri": "https://localhost:8080/"
        },
        "id": "rSyim973PLda",
        "outputId": "3ed28202-9bc3-47b0-a7c1-6c185054d978"
      },
      "outputs": [
        {
          "data": {
            "text/plain": [
              "0.5896259244626344"
            ]
          },
          "execution_count": 34,
          "metadata": {},
          "output_type": "execute_result"
        }
      ],
      "source": [
        "log_random.best_score_"
      ]
    },
    {
      "cell_type": "markdown",
      "metadata": {
        "id": "oBBQ_iust1eb"
      },
      "source": [
        "## Support Vector Machine (SVM)\n",
        "\n",
        "- Library: Scikit-learn"
      ]
    },
    {
      "cell_type": "markdown",
      "metadata": {
        "id": "-DJDztBnUV6b"
      },
      "source": [
        "Approach 1: Undersampling to lower number of training samples and reduce learning time"
      ]
    },
    {
      "cell_type": "code",
      "execution_count": null,
      "metadata": {
        "id": "tsq0c55qZSVE"
      },
      "outputs": [],
      "source": [
        "X_train_SVM = Original[0]\n",
        "X_val_SVM = Original[1]\n",
        "y_train_SVM = Original[3]\n",
        "y_val_SVM = Original[4]"
      ]
    },
    {
      "cell_type": "code",
      "execution_count": null,
      "metadata": {
        "colab": {
          "base_uri": "https://localhost:8080/",
          "height": 72
        },
        "id": "OlCn_HS1dItl",
        "outputId": "4b452b37-8c5e-4503-b488-720a6ac25cb2"
      },
      "outputs": [
        {
          "data": {
            "text/plain": [
              "0    136417\n",
              "1      1096\n",
              "Name: FIRE_OCCURRED, dtype: int64"
            ]
          },
          "metadata": {},
          "output_type": "display_data"
        }
      ],
      "source": [
        "display(y_train_SVM.value_counts())"
      ]
    },
    {
      "cell_type": "code",
      "execution_count": null,
      "metadata": {
        "id": "wPwHlXKMdiO9"
      },
      "outputs": [],
      "source": [
        "# Undersampling & Shuffle\n",
        "\n",
        "from imblearn.under_sampling import RandomUnderSampler\n",
        "\n",
        "rus = RandomUnderSampler(random_state=10)\n",
        "X_train_SVM, y_train_SVM = rus.fit_resample(X_train_SVM, y_train_SVM)\n",
        "X_train_SVM, y_train_SVM = shuffle(X_train_SVM, y_train_SVM, random_state = 10)"
      ]
    },
    {
      "cell_type": "code",
      "execution_count": null,
      "metadata": {
        "colab": {
          "base_uri": "https://localhost:8080/",
          "height": 72
        },
        "id": "9by4YC8tdj47",
        "outputId": "8df35102-8233-4e2e-a9e5-3b0fcddfe6b1"
      },
      "outputs": [
        {
          "data": {
            "text/plain": [
              "0    1096\n",
              "1    1096\n",
              "Name: FIRE_OCCURRED, dtype: int64"
            ]
          },
          "metadata": {},
          "output_type": "display_data"
        }
      ],
      "source": [
        "display(y_train_SVM.value_counts())"
      ]
    },
    {
      "cell_type": "code",
      "execution_count": null,
      "metadata": {
        "colab": {
          "base_uri": "https://localhost:8080/"
        },
        "id": "XsSKT8gmdoVT",
        "outputId": "3fd87268-34a9-4133-b14e-34caf1077543"
      },
      "outputs": [
        {
          "name": "stdout",
          "output_type": "stream",
          "text": [
            "Currently at : svc_clf0\n",
            "Currently at : svc_clf1\n",
            "Currently at : svc_clf2\n"
          ]
        }
      ],
      "source": [
        "# Training\n",
        "\n",
        "name = 'svc_clf'\n",
        "\n",
        "train = pd.DataFrame(columns = ['kernel', 'random_state'])\n",
        "train = train.append({'kernel' : 'rbf', 'random_state': 10}, ignore_index=True)\n",
        "train = train.append({'kernel' : 'poly', 'random_state': 10}, ignore_index=True)\n",
        "train = train.append({'kernel' : 'sigmoid', 'random_state': 10}, ignore_index=True)\n",
        "\n",
        "train = train.reset_index()\n",
        "for index, row in train.iterrows():\n",
        "    model_name = name + str(index)\n",
        "    print(\"Currently at :\" , model_name)\n",
        "    svc_clf = SVC(kernel=row[\"kernel\"], random_state = int(row[\"random_state\"]))\n",
        "    svc_clf.fit(X_train_SVM, y_train_SVM)\n",
        "    \n",
        "    y_true = y_val_SVM\n",
        "    y_pred = svc_clf.predict(X_val_SVM)\n",
        "    evaluation_results = evaluation_metrics(y_true, y_pred)\n",
        "\n",
        "    models = models.append({'model_name': model_name, \n",
        "                            'model': svc_clf, \n",
        "                            'parameters': svc_clf.get_params()}, \n",
        "                            ignore_index=True)\n",
        "    \n",
        "    models_eval = models_eval.append({'model_name': model_name, \n",
        "                                      'confusion_matrix' : evaluation_results[0], \n",
        "                                      'accuracy': evaluation_results[1], \n",
        "                                      'recall' : evaluation_results[2], \n",
        "                                      'f1_score': evaluation_results[3], \n",
        "                                      'roc_auc_score': evaluation_results[4]}, \n",
        "                                      ignore_index=True)"
      ]
    },
    {
      "cell_type": "code",
      "execution_count": null,
      "metadata": {
        "colab": {
          "base_uri": "https://localhost:8080/",
          "height": 206
        },
        "id": "Wb-YSYc9VwpI",
        "outputId": "a8a9951f-411b-4fb7-9bfb-1bb57f2534e4"
      },
      "outputs": [
        {
          "data": {
            "text/html": [
              "\n",
              "  <div id=\"df-9d89a818-345a-4e70-9518-00a9fe7fac50\">\n",
              "    <div class=\"colab-df-container\">\n",
              "      <div>\n",
              "<style scoped>\n",
              "    .dataframe tbody tr th:only-of-type {\n",
              "        vertical-align: middle;\n",
              "    }\n",
              "\n",
              "    .dataframe tbody tr th {\n",
              "        vertical-align: top;\n",
              "    }\n",
              "\n",
              "    .dataframe thead th {\n",
              "        text-align: right;\n",
              "    }\n",
              "</style>\n",
              "<table border=\"1\" class=\"dataframe\">\n",
              "  <thead>\n",
              "    <tr style=\"text-align: right;\">\n",
              "      <th></th>\n",
              "      <th>model_name</th>\n",
              "      <th>confusion_matrix</th>\n",
              "      <th>accuracy</th>\n",
              "      <th>recall</th>\n",
              "      <th>f1_score</th>\n",
              "      <th>roc_auc_score</th>\n",
              "    </tr>\n",
              "  </thead>\n",
              "  <tbody>\n",
              "    <tr>\n",
              "      <th>0</th>\n",
              "      <td>log_clf0</td>\n",
              "      <td>[10970, 6098, 55, 67]</td>\n",
              "      <td>0.642059</td>\n",
              "      <td>0.549180</td>\n",
              "      <td>0.021314</td>\n",
              "      <td>0.595952</td>\n",
              "    </tr>\n",
              "    <tr>\n",
              "      <th>1</th>\n",
              "      <td>log_clf1</td>\n",
              "      <td>[10973, 6095, 56, 66]</td>\n",
              "      <td>0.642176</td>\n",
              "      <td>0.540984</td>\n",
              "      <td>0.021009</td>\n",
              "      <td>0.591941</td>\n",
              "    </tr>\n",
              "    <tr>\n",
              "      <th>2</th>\n",
              "      <td>svc_clf0</td>\n",
              "      <td>[9580, 7488, 27, 95]</td>\n",
              "      <td>0.562827</td>\n",
              "      <td>0.778689</td>\n",
              "      <td>0.024659</td>\n",
              "      <td>0.669986</td>\n",
              "    </tr>\n",
              "    <tr>\n",
              "      <th>3</th>\n",
              "      <td>svc_clf1</td>\n",
              "      <td>[9314, 7754, 33, 89]</td>\n",
              "      <td>0.547004</td>\n",
              "      <td>0.729508</td>\n",
              "      <td>0.022348</td>\n",
              "      <td>0.637604</td>\n",
              "    </tr>\n",
              "    <tr>\n",
              "      <th>4</th>\n",
              "      <td>svc_clf2</td>\n",
              "      <td>[9839, 7229, 39, 83]</td>\n",
              "      <td>0.577196</td>\n",
              "      <td>0.680328</td>\n",
              "      <td>0.022330</td>\n",
              "      <td>0.628393</td>\n",
              "    </tr>\n",
              "  </tbody>\n",
              "</table>\n",
              "</div>\n",
              "      <button class=\"colab-df-convert\" onclick=\"convertToInteractive('df-9d89a818-345a-4e70-9518-00a9fe7fac50')\"\n",
              "              title=\"Convert this dataframe to an interactive table.\"\n",
              "              style=\"display:none;\">\n",
              "        \n",
              "  <svg xmlns=\"http://www.w3.org/2000/svg\" height=\"24px\"viewBox=\"0 0 24 24\"\n",
              "       width=\"24px\">\n",
              "    <path d=\"M0 0h24v24H0V0z\" fill=\"none\"/>\n",
              "    <path d=\"M18.56 5.44l.94 2.06.94-2.06 2.06-.94-2.06-.94-.94-2.06-.94 2.06-2.06.94zm-11 1L8.5 8.5l.94-2.06 2.06-.94-2.06-.94L8.5 2.5l-.94 2.06-2.06.94zm10 10l.94 2.06.94-2.06 2.06-.94-2.06-.94-.94-2.06-.94 2.06-2.06.94z\"/><path d=\"M17.41 7.96l-1.37-1.37c-.4-.4-.92-.59-1.43-.59-.52 0-1.04.2-1.43.59L10.3 9.45l-7.72 7.72c-.78.78-.78 2.05 0 2.83L4 21.41c.39.39.9.59 1.41.59.51 0 1.02-.2 1.41-.59l7.78-7.78 2.81-2.81c.8-.78.8-2.07 0-2.86zM5.41 20L4 18.59l7.72-7.72 1.47 1.35L5.41 20z\"/>\n",
              "  </svg>\n",
              "      </button>\n",
              "      \n",
              "  <style>\n",
              "    .colab-df-container {\n",
              "      display:flex;\n",
              "      flex-wrap:wrap;\n",
              "      gap: 12px;\n",
              "    }\n",
              "\n",
              "    .colab-df-convert {\n",
              "      background-color: #E8F0FE;\n",
              "      border: none;\n",
              "      border-radius: 50%;\n",
              "      cursor: pointer;\n",
              "      display: none;\n",
              "      fill: #1967D2;\n",
              "      height: 32px;\n",
              "      padding: 0 0 0 0;\n",
              "      width: 32px;\n",
              "    }\n",
              "\n",
              "    .colab-df-convert:hover {\n",
              "      background-color: #E2EBFA;\n",
              "      box-shadow: 0px 1px 2px rgba(60, 64, 67, 0.3), 0px 1px 3px 1px rgba(60, 64, 67, 0.15);\n",
              "      fill: #174EA6;\n",
              "    }\n",
              "\n",
              "    [theme=dark] .colab-df-convert {\n",
              "      background-color: #3B4455;\n",
              "      fill: #D2E3FC;\n",
              "    }\n",
              "\n",
              "    [theme=dark] .colab-df-convert:hover {\n",
              "      background-color: #434B5C;\n",
              "      box-shadow: 0px 1px 3px 1px rgba(0, 0, 0, 0.15);\n",
              "      filter: drop-shadow(0px 1px 2px rgba(0, 0, 0, 0.3));\n",
              "      fill: #FFFFFF;\n",
              "    }\n",
              "  </style>\n",
              "\n",
              "      <script>\n",
              "        const buttonEl =\n",
              "          document.querySelector('#df-9d89a818-345a-4e70-9518-00a9fe7fac50 button.colab-df-convert');\n",
              "        buttonEl.style.display =\n",
              "          google.colab.kernel.accessAllowed ? 'block' : 'none';\n",
              "\n",
              "        async function convertToInteractive(key) {\n",
              "          const element = document.querySelector('#df-9d89a818-345a-4e70-9518-00a9fe7fac50');\n",
              "          const dataTable =\n",
              "            await google.colab.kernel.invokeFunction('convertToInteractive',\n",
              "                                                     [key], {});\n",
              "          if (!dataTable) return;\n",
              "\n",
              "          const docLinkHtml = 'Like what you see? Visit the ' +\n",
              "            '<a target=\"_blank\" href=https://colab.research.google.com/notebooks/data_table.ipynb>data table notebook</a>'\n",
              "            + ' to learn more about interactive tables.';\n",
              "          element.innerHTML = '';\n",
              "          dataTable['output_type'] = 'display_data';\n",
              "          await google.colab.output.renderOutput(dataTable, element);\n",
              "          const docLink = document.createElement('div');\n",
              "          docLink.innerHTML = docLinkHtml;\n",
              "          element.appendChild(docLink);\n",
              "        }\n",
              "      </script>\n",
              "    </div>\n",
              "  </div>\n",
              "  "
            ],
            "text/plain": [
              "  model_name       confusion_matrix  accuracy    recall  f1_score  \\\n",
              "0   log_clf0  [10970, 6098, 55, 67]  0.642059  0.549180  0.021314   \n",
              "1   log_clf1  [10973, 6095, 56, 66]  0.642176  0.540984  0.021009   \n",
              "2   svc_clf0   [9580, 7488, 27, 95]  0.562827  0.778689  0.024659   \n",
              "3   svc_clf1   [9314, 7754, 33, 89]  0.547004  0.729508  0.022348   \n",
              "4   svc_clf2   [9839, 7229, 39, 83]  0.577196  0.680328  0.022330   \n",
              "\n",
              "   roc_auc_score  \n",
              "0       0.595952  \n",
              "1       0.591941  \n",
              "2       0.669986  \n",
              "3       0.637604  \n",
              "4       0.628393  "
            ]
          },
          "metadata": {},
          "output_type": "display_data"
        }
      ],
      "source": [
        "display(models_eval)"
      ]
    },
    {
      "cell_type": "markdown",
      "metadata": {
        "id": "qrWtVscoHjwp"
      },
      "source": [
        "The best kernel is rbf for recall score. All kernel gives poor F1-score"
      ]
    },
    {
      "cell_type": "markdown",
      "metadata": {
        "id": "dMGtSxvfUekT"
      },
      "source": [
        "Approach 2: Class-weighted SVM with original amount of data (before SMOTE)"
      ]
    },
    {
      "cell_type": "code",
      "execution_count": null,
      "metadata": {
        "id": "ySImEnhqGWbH"
      },
      "outputs": [],
      "source": [
        "X_train_SVM = Original[0]\n",
        "X_val_SVM = Original[1]\n",
        "y_train_SVM = Original[3]\n",
        "y_val_SVM = Original[4]"
      ]
    },
    {
      "cell_type": "code",
      "execution_count": null,
      "metadata": {
        "id": "ugeOje0B-dZ1"
      },
      "outputs": [],
      "source": [
        "# Shuffle\n",
        "\n",
        "X_train_SVM, y_train_SVM = shuffle(X_train_SVM, y_train_SVM, random_state = 10)"
      ]
    },
    {
      "cell_type": "code",
      "execution_count": null,
      "metadata": {
        "colab": {
          "base_uri": "https://localhost:8080/",
          "height": 72
        },
        "id": "A88D9hpjGYf-",
        "outputId": "f5e5e2fa-e2d0-49fb-d91f-f11b5d8f274b"
      },
      "outputs": [
        {
          "data": {
            "text/plain": [
              "0    136417\n",
              "1      1096\n",
              "Name: FIRE_OCCURRED, dtype: int64"
            ]
          },
          "metadata": {},
          "output_type": "display_data"
        }
      ],
      "source": [
        "display(y_train_SVM.value_counts())"
      ]
    },
    {
      "cell_type": "code",
      "execution_count": null,
      "metadata": {
        "colab": {
          "background_save": true,
          "base_uri": "https://localhost:8080/"
        },
        "id": "QGpzJBu7VRov",
        "outputId": "ec39c4ae-df9d-4830-811e-d14d04772c49"
      },
      "outputs": [
        {
          "name": "stdout",
          "output_type": "stream",
          "text": [
            "Current at  svc_clf3\n",
            "Current at  svc_clf4\n",
            "Current at  svc_clf5\n",
            "Current at  svc_clf6\n"
          ]
        }
      ],
      "source": [
        "# Training\n",
        "\n",
        "name = 'svc_clf'\n",
        "\n",
        "train = pd.DataFrame(columns = ['kernel', 'random_state'])\n",
        "train = train.append({'kernel' : 'rbf', 'C': 1, 'random_state': 10}, ignore_index=True)\n",
        "train = train.append({'kernel' : 'rbf', 'C': 2, 'random_state': 10}, ignore_index=True)\n",
        "train = train.append({'kernel' : 'rbf', 'C': 4, 'random_state': 10}, ignore_index=True)\n",
        "train = train.append({'kernel' : 'rbf', 'C': 8, 'random_state': 10}, ignore_index=True)\n",
        "\n",
        "train = train.reset_index()\n",
        "for index, row in train.iterrows():\n",
        "    index = index + 3\n",
        "    model_name = name + str(index)\n",
        "    print(\"Current at \", model_name)\n",
        "    svc_clf = SVC(kernel = row[\"kernel\"], class_weight='balanced', C = int(row[\"C\"]), random_state = int(row[\"random_state\"]))\n",
        "    svc_clf.fit(X_train_SVM, y_train_SVM)\n",
        "    \n",
        "    y_true = y_val_SVM\n",
        "    y_pred = svc_clf.predict(X_val_SVM)\n",
        "    evaluation_results = evaluation_metrics(y_true, y_pred)\n",
        "\n",
        "    models = models.append({'model_name': model_name, \n",
        "                            'model': svc_clf, \n",
        "                            'parameters': svc_clf.get_params()}, \n",
        "                            ignore_index=True)\n",
        "    \n",
        "    models_eval = models_eval.append({'model_name': model_name, \n",
        "                                      'confusion_matrix' : evaluation_results[0], \n",
        "                                      'accuracy': evaluation_results[1], \n",
        "                                      'recall' : evaluation_results[2], \n",
        "                                      'f1_score': evaluation_results[3], \n",
        "                                      'roc_auc_score': evaluation_results[4]}, \n",
        "                                      ignore_index=True)"
      ]
    },
    {
      "cell_type": "code",
      "execution_count": null,
      "metadata": {
        "colab": {
          "background_save": true
        },
        "id": "_18Aktz2aTn5",
        "outputId": "93760b21-3519-475b-d8ad-d8c8cf07a560"
      },
      "outputs": [
        {
          "data": {
            "text/html": [
              "\n",
              "  <div id=\"df-5a753bff-2de1-499f-a554-b032add7d772\">\n",
              "    <div class=\"colab-df-container\">\n",
              "      <div>\n",
              "<style scoped>\n",
              "    .dataframe tbody tr th:only-of-type {\n",
              "        vertical-align: middle;\n",
              "    }\n",
              "\n",
              "    .dataframe tbody tr th {\n",
              "        vertical-align: top;\n",
              "    }\n",
              "\n",
              "    .dataframe thead th {\n",
              "        text-align: right;\n",
              "    }\n",
              "</style>\n",
              "<table border=\"1\" class=\"dataframe\">\n",
              "  <thead>\n",
              "    <tr style=\"text-align: right;\">\n",
              "      <th></th>\n",
              "      <th>model_name</th>\n",
              "      <th>model</th>\n",
              "      <th>parameters</th>\n",
              "    </tr>\n",
              "  </thead>\n",
              "  <tbody>\n",
              "    <tr>\n",
              "      <th>0</th>\n",
              "      <td>log_clf0</td>\n",
              "      <td>LogisticRegression(n_jobs=-1, penalty='none', ...</td>\n",
              "      <td>{'C': 1.0, 'class_weight': None, 'dual': False...</td>\n",
              "    </tr>\n",
              "    <tr>\n",
              "      <th>1</th>\n",
              "      <td>log_clf1</td>\n",
              "      <td>LogisticRegression(n_jobs=-1, random_state=10)</td>\n",
              "      <td>{'C': 1.0, 'class_weight': None, 'dual': False...</td>\n",
              "    </tr>\n",
              "    <tr>\n",
              "      <th>2</th>\n",
              "      <td>svc_clf0</td>\n",
              "      <td>SVC(random_state=10)</td>\n",
              "      <td>{'C': 1.0, 'break_ties': False, 'cache_size': ...</td>\n",
              "    </tr>\n",
              "    <tr>\n",
              "      <th>3</th>\n",
              "      <td>svc_clf1</td>\n",
              "      <td>SVC(kernel='poly', random_state=10)</td>\n",
              "      <td>{'C': 1.0, 'break_ties': False, 'cache_size': ...</td>\n",
              "    </tr>\n",
              "    <tr>\n",
              "      <th>4</th>\n",
              "      <td>svc_clf2</td>\n",
              "      <td>SVC(kernel='sigmoid', random_state=10)</td>\n",
              "      <td>{'C': 1.0, 'break_ties': False, 'cache_size': ...</td>\n",
              "    </tr>\n",
              "    <tr>\n",
              "      <th>5</th>\n",
              "      <td>svc_clf3</td>\n",
              "      <td>SVC(C=1, class_weight='balanced', random_state...</td>\n",
              "      <td>{'C': 1, 'break_ties': False, 'cache_size': 20...</td>\n",
              "    </tr>\n",
              "    <tr>\n",
              "      <th>6</th>\n",
              "      <td>svc_clf4</td>\n",
              "      <td>SVC(C=2, class_weight='balanced', random_state...</td>\n",
              "      <td>{'C': 2, 'break_ties': False, 'cache_size': 20...</td>\n",
              "    </tr>\n",
              "    <tr>\n",
              "      <th>7</th>\n",
              "      <td>svc_clf5</td>\n",
              "      <td>SVC(C=4, class_weight='balanced', random_state...</td>\n",
              "      <td>{'C': 4, 'break_ties': False, 'cache_size': 20...</td>\n",
              "    </tr>\n",
              "    <tr>\n",
              "      <th>8</th>\n",
              "      <td>svc_clf6</td>\n",
              "      <td>SVC(C=8, class_weight='balanced', random_state...</td>\n",
              "      <td>{'C': 8, 'break_ties': False, 'cache_size': 20...</td>\n",
              "    </tr>\n",
              "  </tbody>\n",
              "</table>\n",
              "</div>\n",
              "      <button class=\"colab-df-convert\" onclick=\"convertToInteractive('df-5a753bff-2de1-499f-a554-b032add7d772')\"\n",
              "              title=\"Convert this dataframe to an interactive table.\"\n",
              "              style=\"display:none;\">\n",
              "        \n",
              "  <svg xmlns=\"http://www.w3.org/2000/svg\" height=\"24px\"viewBox=\"0 0 24 24\"\n",
              "       width=\"24px\">\n",
              "    <path d=\"M0 0h24v24H0V0z\" fill=\"none\"/>\n",
              "    <path d=\"M18.56 5.44l.94 2.06.94-2.06 2.06-.94-2.06-.94-.94-2.06-.94 2.06-2.06.94zm-11 1L8.5 8.5l.94-2.06 2.06-.94-2.06-.94L8.5 2.5l-.94 2.06-2.06.94zm10 10l.94 2.06.94-2.06 2.06-.94-2.06-.94-.94-2.06-.94 2.06-2.06.94z\"/><path d=\"M17.41 7.96l-1.37-1.37c-.4-.4-.92-.59-1.43-.59-.52 0-1.04.2-1.43.59L10.3 9.45l-7.72 7.72c-.78.78-.78 2.05 0 2.83L4 21.41c.39.39.9.59 1.41.59.51 0 1.02-.2 1.41-.59l7.78-7.78 2.81-2.81c.8-.78.8-2.07 0-2.86zM5.41 20L4 18.59l7.72-7.72 1.47 1.35L5.41 20z\"/>\n",
              "  </svg>\n",
              "      </button>\n",
              "      \n",
              "  <style>\n",
              "    .colab-df-container {\n",
              "      display:flex;\n",
              "      flex-wrap:wrap;\n",
              "      gap: 12px;\n",
              "    }\n",
              "\n",
              "    .colab-df-convert {\n",
              "      background-color: #E8F0FE;\n",
              "      border: none;\n",
              "      border-radius: 50%;\n",
              "      cursor: pointer;\n",
              "      display: none;\n",
              "      fill: #1967D2;\n",
              "      height: 32px;\n",
              "      padding: 0 0 0 0;\n",
              "      width: 32px;\n",
              "    }\n",
              "\n",
              "    .colab-df-convert:hover {\n",
              "      background-color: #E2EBFA;\n",
              "      box-shadow: 0px 1px 2px rgba(60, 64, 67, 0.3), 0px 1px 3px 1px rgba(60, 64, 67, 0.15);\n",
              "      fill: #174EA6;\n",
              "    }\n",
              "\n",
              "    [theme=dark] .colab-df-convert {\n",
              "      background-color: #3B4455;\n",
              "      fill: #D2E3FC;\n",
              "    }\n",
              "\n",
              "    [theme=dark] .colab-df-convert:hover {\n",
              "      background-color: #434B5C;\n",
              "      box-shadow: 0px 1px 3px 1px rgba(0, 0, 0, 0.15);\n",
              "      filter: drop-shadow(0px 1px 2px rgba(0, 0, 0, 0.3));\n",
              "      fill: #FFFFFF;\n",
              "    }\n",
              "  </style>\n",
              "\n",
              "      <script>\n",
              "        const buttonEl =\n",
              "          document.querySelector('#df-5a753bff-2de1-499f-a554-b032add7d772 button.colab-df-convert');\n",
              "        buttonEl.style.display =\n",
              "          google.colab.kernel.accessAllowed ? 'block' : 'none';\n",
              "\n",
              "        async function convertToInteractive(key) {\n",
              "          const element = document.querySelector('#df-5a753bff-2de1-499f-a554-b032add7d772');\n",
              "          const dataTable =\n",
              "            await google.colab.kernel.invokeFunction('convertToInteractive',\n",
              "                                                     [key], {});\n",
              "          if (!dataTable) return;\n",
              "\n",
              "          const docLinkHtml = 'Like what you see? Visit the ' +\n",
              "            '<a target=\"_blank\" href=https://colab.research.google.com/notebooks/data_table.ipynb>data table notebook</a>'\n",
              "            + ' to learn more about interactive tables.';\n",
              "          element.innerHTML = '';\n",
              "          dataTable['output_type'] = 'display_data';\n",
              "          await google.colab.output.renderOutput(dataTable, element);\n",
              "          const docLink = document.createElement('div');\n",
              "          docLink.innerHTML = docLinkHtml;\n",
              "          element.appendChild(docLink);\n",
              "        }\n",
              "      </script>\n",
              "    </div>\n",
              "  </div>\n",
              "  "
            ],
            "text/plain": [
              "  model_name                                              model  \\\n",
              "0   log_clf0  LogisticRegression(n_jobs=-1, penalty='none', ...   \n",
              "1   log_clf1     LogisticRegression(n_jobs=-1, random_state=10)   \n",
              "2   svc_clf0                               SVC(random_state=10)   \n",
              "3   svc_clf1                SVC(kernel='poly', random_state=10)   \n",
              "4   svc_clf2             SVC(kernel='sigmoid', random_state=10)   \n",
              "5   svc_clf3  SVC(C=1, class_weight='balanced', random_state...   \n",
              "6   svc_clf4  SVC(C=2, class_weight='balanced', random_state...   \n",
              "7   svc_clf5  SVC(C=4, class_weight='balanced', random_state...   \n",
              "8   svc_clf6  SVC(C=8, class_weight='balanced', random_state...   \n",
              "\n",
              "                                          parameters  \n",
              "0  {'C': 1.0, 'class_weight': None, 'dual': False...  \n",
              "1  {'C': 1.0, 'class_weight': None, 'dual': False...  \n",
              "2  {'C': 1.0, 'break_ties': False, 'cache_size': ...  \n",
              "3  {'C': 1.0, 'break_ties': False, 'cache_size': ...  \n",
              "4  {'C': 1.0, 'break_ties': False, 'cache_size': ...  \n",
              "5  {'C': 1, 'break_ties': False, 'cache_size': 20...  \n",
              "6  {'C': 2, 'break_ties': False, 'cache_size': 20...  \n",
              "7  {'C': 4, 'break_ties': False, 'cache_size': 20...  \n",
              "8  {'C': 8, 'break_ties': False, 'cache_size': 20...  "
            ]
          },
          "metadata": {},
          "output_type": "display_data"
        }
      ],
      "source": [
        "display(models)"
      ]
    },
    {
      "cell_type": "code",
      "execution_count": null,
      "metadata": {
        "colab": {
          "background_save": true
        },
        "id": "FOc0QQ_FaUTL",
        "outputId": "555220d0-4b46-41c6-fc28-095b88cec65c"
      },
      "outputs": [
        {
          "data": {
            "text/html": [
              "\n",
              "  <div id=\"df-1eb98cd5-6506-476b-b4a6-0838c1a90520\">\n",
              "    <div class=\"colab-df-container\">\n",
              "      <div>\n",
              "<style scoped>\n",
              "    .dataframe tbody tr th:only-of-type {\n",
              "        vertical-align: middle;\n",
              "    }\n",
              "\n",
              "    .dataframe tbody tr th {\n",
              "        vertical-align: top;\n",
              "    }\n",
              "\n",
              "    .dataframe thead th {\n",
              "        text-align: right;\n",
              "    }\n",
              "</style>\n",
              "<table border=\"1\" class=\"dataframe\">\n",
              "  <thead>\n",
              "    <tr style=\"text-align: right;\">\n",
              "      <th></th>\n",
              "      <th>model_name</th>\n",
              "      <th>confusion_matrix</th>\n",
              "      <th>accuracy</th>\n",
              "      <th>recall</th>\n",
              "      <th>f1_score</th>\n",
              "      <th>roc_auc_score</th>\n",
              "    </tr>\n",
              "  </thead>\n",
              "  <tbody>\n",
              "    <tr>\n",
              "      <th>0</th>\n",
              "      <td>log_clf0</td>\n",
              "      <td>[10970, 6098, 55, 67]</td>\n",
              "      <td>0.642059</td>\n",
              "      <td>0.549180</td>\n",
              "      <td>0.021314</td>\n",
              "      <td>0.595952</td>\n",
              "    </tr>\n",
              "    <tr>\n",
              "      <th>1</th>\n",
              "      <td>log_clf1</td>\n",
              "      <td>[10973, 6095, 56, 66]</td>\n",
              "      <td>0.642176</td>\n",
              "      <td>0.540984</td>\n",
              "      <td>0.021009</td>\n",
              "      <td>0.591941</td>\n",
              "    </tr>\n",
              "    <tr>\n",
              "      <th>2</th>\n",
              "      <td>svc_clf0</td>\n",
              "      <td>[9580, 7488, 27, 95]</td>\n",
              "      <td>0.562827</td>\n",
              "      <td>0.778689</td>\n",
              "      <td>0.024659</td>\n",
              "      <td>0.669986</td>\n",
              "    </tr>\n",
              "    <tr>\n",
              "      <th>3</th>\n",
              "      <td>svc_clf1</td>\n",
              "      <td>[9314, 7754, 33, 89]</td>\n",
              "      <td>0.547004</td>\n",
              "      <td>0.729508</td>\n",
              "      <td>0.022348</td>\n",
              "      <td>0.637604</td>\n",
              "    </tr>\n",
              "    <tr>\n",
              "      <th>4</th>\n",
              "      <td>svc_clf2</td>\n",
              "      <td>[9839, 7229, 39, 83]</td>\n",
              "      <td>0.577196</td>\n",
              "      <td>0.680328</td>\n",
              "      <td>0.022330</td>\n",
              "      <td>0.628393</td>\n",
              "    </tr>\n",
              "    <tr>\n",
              "      <th>5</th>\n",
              "      <td>svc_clf3</td>\n",
              "      <td>[10510, 6558, 26, 96]</td>\n",
              "      <td>0.616987</td>\n",
              "      <td>0.786885</td>\n",
              "      <td>0.028335</td>\n",
              "      <td>0.701329</td>\n",
              "    </tr>\n",
              "    <tr>\n",
              "      <th>6</th>\n",
              "      <td>svc_clf4</td>\n",
              "      <td>[10605, 6463, 26, 96]</td>\n",
              "      <td>0.622513</td>\n",
              "      <td>0.786885</td>\n",
              "      <td>0.028738</td>\n",
              "      <td>0.704112</td>\n",
              "    </tr>\n",
              "    <tr>\n",
              "      <th>7</th>\n",
              "      <td>svc_clf5</td>\n",
              "      <td>[10669, 6399, 25, 97]</td>\n",
              "      <td>0.626294</td>\n",
              "      <td>0.795082</td>\n",
              "      <td>0.029314</td>\n",
              "      <td>0.710085</td>\n",
              "    </tr>\n",
              "    <tr>\n",
              "      <th>8</th>\n",
              "      <td>svc_clf6</td>\n",
              "      <td>[10772, 6296, 26, 96]</td>\n",
              "      <td>0.632228</td>\n",
              "      <td>0.786885</td>\n",
              "      <td>0.029475</td>\n",
              "      <td>0.709004</td>\n",
              "    </tr>\n",
              "  </tbody>\n",
              "</table>\n",
              "</div>\n",
              "      <button class=\"colab-df-convert\" onclick=\"convertToInteractive('df-1eb98cd5-6506-476b-b4a6-0838c1a90520')\"\n",
              "              title=\"Convert this dataframe to an interactive table.\"\n",
              "              style=\"display:none;\">\n",
              "        \n",
              "  <svg xmlns=\"http://www.w3.org/2000/svg\" height=\"24px\"viewBox=\"0 0 24 24\"\n",
              "       width=\"24px\">\n",
              "    <path d=\"M0 0h24v24H0V0z\" fill=\"none\"/>\n",
              "    <path d=\"M18.56 5.44l.94 2.06.94-2.06 2.06-.94-2.06-.94-.94-2.06-.94 2.06-2.06.94zm-11 1L8.5 8.5l.94-2.06 2.06-.94-2.06-.94L8.5 2.5l-.94 2.06-2.06.94zm10 10l.94 2.06.94-2.06 2.06-.94-2.06-.94-.94-2.06-.94 2.06-2.06.94z\"/><path d=\"M17.41 7.96l-1.37-1.37c-.4-.4-.92-.59-1.43-.59-.52 0-1.04.2-1.43.59L10.3 9.45l-7.72 7.72c-.78.78-.78 2.05 0 2.83L4 21.41c.39.39.9.59 1.41.59.51 0 1.02-.2 1.41-.59l7.78-7.78 2.81-2.81c.8-.78.8-2.07 0-2.86zM5.41 20L4 18.59l7.72-7.72 1.47 1.35L5.41 20z\"/>\n",
              "  </svg>\n",
              "      </button>\n",
              "      \n",
              "  <style>\n",
              "    .colab-df-container {\n",
              "      display:flex;\n",
              "      flex-wrap:wrap;\n",
              "      gap: 12px;\n",
              "    }\n",
              "\n",
              "    .colab-df-convert {\n",
              "      background-color: #E8F0FE;\n",
              "      border: none;\n",
              "      border-radius: 50%;\n",
              "      cursor: pointer;\n",
              "      display: none;\n",
              "      fill: #1967D2;\n",
              "      height: 32px;\n",
              "      padding: 0 0 0 0;\n",
              "      width: 32px;\n",
              "    }\n",
              "\n",
              "    .colab-df-convert:hover {\n",
              "      background-color: #E2EBFA;\n",
              "      box-shadow: 0px 1px 2px rgba(60, 64, 67, 0.3), 0px 1px 3px 1px rgba(60, 64, 67, 0.15);\n",
              "      fill: #174EA6;\n",
              "    }\n",
              "\n",
              "    [theme=dark] .colab-df-convert {\n",
              "      background-color: #3B4455;\n",
              "      fill: #D2E3FC;\n",
              "    }\n",
              "\n",
              "    [theme=dark] .colab-df-convert:hover {\n",
              "      background-color: #434B5C;\n",
              "      box-shadow: 0px 1px 3px 1px rgba(0, 0, 0, 0.15);\n",
              "      filter: drop-shadow(0px 1px 2px rgba(0, 0, 0, 0.3));\n",
              "      fill: #FFFFFF;\n",
              "    }\n",
              "  </style>\n",
              "\n",
              "      <script>\n",
              "        const buttonEl =\n",
              "          document.querySelector('#df-1eb98cd5-6506-476b-b4a6-0838c1a90520 button.colab-df-convert');\n",
              "        buttonEl.style.display =\n",
              "          google.colab.kernel.accessAllowed ? 'block' : 'none';\n",
              "\n",
              "        async function convertToInteractive(key) {\n",
              "          const element = document.querySelector('#df-1eb98cd5-6506-476b-b4a6-0838c1a90520');\n",
              "          const dataTable =\n",
              "            await google.colab.kernel.invokeFunction('convertToInteractive',\n",
              "                                                     [key], {});\n",
              "          if (!dataTable) return;\n",
              "\n",
              "          const docLinkHtml = 'Like what you see? Visit the ' +\n",
              "            '<a target=\"_blank\" href=https://colab.research.google.com/notebooks/data_table.ipynb>data table notebook</a>'\n",
              "            + ' to learn more about interactive tables.';\n",
              "          element.innerHTML = '';\n",
              "          dataTable['output_type'] = 'display_data';\n",
              "          await google.colab.output.renderOutput(dataTable, element);\n",
              "          const docLink = document.createElement('div');\n",
              "          docLink.innerHTML = docLinkHtml;\n",
              "          element.appendChild(docLink);\n",
              "        }\n",
              "      </script>\n",
              "    </div>\n",
              "  </div>\n",
              "  "
            ],
            "text/plain": [
              "  model_name       confusion_matrix  accuracy    recall  f1_score  \\\n",
              "0   log_clf0  [10970, 6098, 55, 67]  0.642059  0.549180  0.021314   \n",
              "1   log_clf1  [10973, 6095, 56, 66]  0.642176  0.540984  0.021009   \n",
              "2   svc_clf0   [9580, 7488, 27, 95]  0.562827  0.778689  0.024659   \n",
              "3   svc_clf1   [9314, 7754, 33, 89]  0.547004  0.729508  0.022348   \n",
              "4   svc_clf2   [9839, 7229, 39, 83]  0.577196  0.680328  0.022330   \n",
              "5   svc_clf3  [10510, 6558, 26, 96]  0.616987  0.786885  0.028335   \n",
              "6   svc_clf4  [10605, 6463, 26, 96]  0.622513  0.786885  0.028738   \n",
              "7   svc_clf5  [10669, 6399, 25, 97]  0.626294  0.795082  0.029314   \n",
              "8   svc_clf6  [10772, 6296, 26, 96]  0.632228  0.786885  0.029475   \n",
              "\n",
              "   roc_auc_score  \n",
              "0       0.595952  \n",
              "1       0.591941  \n",
              "2       0.669986  \n",
              "3       0.637604  \n",
              "4       0.628393  \n",
              "5       0.701329  \n",
              "6       0.704112  \n",
              "7       0.710085  \n",
              "8       0.709004  "
            ]
          },
          "metadata": {},
          "output_type": "display_data"
        }
      ],
      "source": [
        "display(models_eval)"
      ]
    },
    {
      "cell_type": "markdown",
      "metadata": {
        "id": "v35KdCcEGL7J"
      },
      "source": [
        "Best Parameters: \n",
        "\n",
        "{'kernel': 'rbf', 'C' : '8', 'class_weight'='balanced'}"
      ]
    },
    {
      "cell_type": "markdown",
      "metadata": {
        "id": "Tzx0wl2ht1R1"
      },
      "source": [
        "## Naive Bayes\n",
        "\n",
        "- Library: Scikit-learn"
      ]
    },
    {
      "cell_type": "code",
      "execution_count": null,
      "metadata": {
        "colab": {
          "background_save": true
        },
        "id": "xDhLdEgHaVwR"
      },
      "outputs": [],
      "source": [
        "# Training\n",
        "\n",
        "name = 'bayes_clf'\n",
        "\n",
        "train = pd.DataFrame(columns = ['var_smoothing'])\n",
        "train = train.append({'var_smoothing': 1e-0}, ignore_index=True)\n",
        "train = train.append({'var_smoothing': 1e-1}, ignore_index=True)\n",
        "train = train.append({'var_smoothing': 1e-3}, ignore_index=True)\n",
        "train = train.append({'var_smoothing': 1e-5}, ignore_index=True)\n",
        "train = train.append({'var_smoothing': 1e-9}, ignore_index=True)\n",
        "train = train.append({'var_smoothing': 1e-10}, ignore_index=True)\n",
        "train = train.append({'var_smoothing': 1e-20}, ignore_index=True)\n",
        "\n",
        "train = train.reset_index()\n",
        "for index, row in train.iterrows():\n",
        "    model_name = name + str(index)\n",
        "    bayes_clf = GaussianNB(var_smoothing = row['var_smoothing'])\n",
        "    bayes_clf.fit(X_train, y_train)\n",
        "    \n",
        "    y_true = y_val\n",
        "    y_pred = bayes_clf.predict(X_val)\n",
        "    evaluation_results = evaluation_metrics(y_true, y_pred)\n",
        "\n",
        "    models = models.append({'model_name': model_name, \n",
        "                            'model': bayes_clf, \n",
        "                            'parameters': bayes_clf.get_params()}, \n",
        "                            ignore_index=True)\n",
        "    \n",
        "    models_eval = models_eval.append({'model_name': model_name, \n",
        "                                      'confusion_matrix' : evaluation_results[0], \n",
        "                                      'accuracy': evaluation_results[1], \n",
        "                                      'recall' : evaluation_results[2], \n",
        "                                      'f1_score': evaluation_results[3], \n",
        "                                      'roc_auc_score': evaluation_results[4]}, \n",
        "                                      ignore_index=True)"
      ]
    },
    {
      "cell_type": "code",
      "execution_count": null,
      "metadata": {
        "colab": {
          "background_save": true
        },
        "id": "n7Ad5Gr5eH_U",
        "outputId": "e2edf108-19e0-403a-de64-5680159a3d72"
      },
      "outputs": [
        {
          "data": {
            "text/html": [
              "\n",
              "  <div id=\"df-2c7bd5cc-747b-4bc4-9d04-561cedce24f2\">\n",
              "    <div class=\"colab-df-container\">\n",
              "      <div>\n",
              "<style scoped>\n",
              "    .dataframe tbody tr th:only-of-type {\n",
              "        vertical-align: middle;\n",
              "    }\n",
              "\n",
              "    .dataframe tbody tr th {\n",
              "        vertical-align: top;\n",
              "    }\n",
              "\n",
              "    .dataframe thead th {\n",
              "        text-align: right;\n",
              "    }\n",
              "</style>\n",
              "<table border=\"1\" class=\"dataframe\">\n",
              "  <thead>\n",
              "    <tr style=\"text-align: right;\">\n",
              "      <th></th>\n",
              "      <th>model_name</th>\n",
              "      <th>confusion_matrix</th>\n",
              "      <th>accuracy</th>\n",
              "      <th>recall</th>\n",
              "      <th>f1_score</th>\n",
              "      <th>roc_auc_score</th>\n",
              "    </tr>\n",
              "  </thead>\n",
              "  <tbody>\n",
              "    <tr>\n",
              "      <th>0</th>\n",
              "      <td>log_clf0</td>\n",
              "      <td>[10970, 6098, 55, 67]</td>\n",
              "      <td>0.642059</td>\n",
              "      <td>0.549180</td>\n",
              "      <td>0.021314</td>\n",
              "      <td>0.595952</td>\n",
              "    </tr>\n",
              "    <tr>\n",
              "      <th>1</th>\n",
              "      <td>log_clf1</td>\n",
              "      <td>[10973, 6095, 56, 66]</td>\n",
              "      <td>0.642176</td>\n",
              "      <td>0.540984</td>\n",
              "      <td>0.021009</td>\n",
              "      <td>0.591941</td>\n",
              "    </tr>\n",
              "    <tr>\n",
              "      <th>2</th>\n",
              "      <td>svc_clf0</td>\n",
              "      <td>[9580, 7488, 27, 95]</td>\n",
              "      <td>0.562827</td>\n",
              "      <td>0.778689</td>\n",
              "      <td>0.024659</td>\n",
              "      <td>0.669986</td>\n",
              "    </tr>\n",
              "    <tr>\n",
              "      <th>3</th>\n",
              "      <td>svc_clf1</td>\n",
              "      <td>[9314, 7754, 33, 89]</td>\n",
              "      <td>0.547004</td>\n",
              "      <td>0.729508</td>\n",
              "      <td>0.022348</td>\n",
              "      <td>0.637604</td>\n",
              "    </tr>\n",
              "    <tr>\n",
              "      <th>4</th>\n",
              "      <td>svc_clf2</td>\n",
              "      <td>[9839, 7229, 39, 83]</td>\n",
              "      <td>0.577196</td>\n",
              "      <td>0.680328</td>\n",
              "      <td>0.022330</td>\n",
              "      <td>0.628393</td>\n",
              "    </tr>\n",
              "    <tr>\n",
              "      <th>5</th>\n",
              "      <td>svc_clf3</td>\n",
              "      <td>[10510, 6558, 26, 96]</td>\n",
              "      <td>0.616987</td>\n",
              "      <td>0.786885</td>\n",
              "      <td>0.028335</td>\n",
              "      <td>0.701329</td>\n",
              "    </tr>\n",
              "    <tr>\n",
              "      <th>6</th>\n",
              "      <td>svc_clf4</td>\n",
              "      <td>[10605, 6463, 26, 96]</td>\n",
              "      <td>0.622513</td>\n",
              "      <td>0.786885</td>\n",
              "      <td>0.028738</td>\n",
              "      <td>0.704112</td>\n",
              "    </tr>\n",
              "    <tr>\n",
              "      <th>7</th>\n",
              "      <td>svc_clf5</td>\n",
              "      <td>[10669, 6399, 25, 97]</td>\n",
              "      <td>0.626294</td>\n",
              "      <td>0.795082</td>\n",
              "      <td>0.029314</td>\n",
              "      <td>0.710085</td>\n",
              "    </tr>\n",
              "    <tr>\n",
              "      <th>8</th>\n",
              "      <td>svc_clf6</td>\n",
              "      <td>[10772, 6296, 26, 96]</td>\n",
              "      <td>0.632228</td>\n",
              "      <td>0.786885</td>\n",
              "      <td>0.029475</td>\n",
              "      <td>0.709004</td>\n",
              "    </tr>\n",
              "    <tr>\n",
              "      <th>9</th>\n",
              "      <td>bayes_clf0</td>\n",
              "      <td>[4988, 12080, 15, 107]</td>\n",
              "      <td>0.296393</td>\n",
              "      <td>0.877049</td>\n",
              "      <td>0.017386</td>\n",
              "      <td>0.584646</td>\n",
              "    </tr>\n",
              "    <tr>\n",
              "      <th>10</th>\n",
              "      <td>bayes_clf1</td>\n",
              "      <td>[7233, 9835, 22, 100]</td>\n",
              "      <td>0.426585</td>\n",
              "      <td>0.819672</td>\n",
              "      <td>0.019887</td>\n",
              "      <td>0.621724</td>\n",
              "    </tr>\n",
              "    <tr>\n",
              "      <th>11</th>\n",
              "      <td>bayes_clf2</td>\n",
              "      <td>[8598, 8470, 31, 91]</td>\n",
              "      <td>0.505468</td>\n",
              "      <td>0.745902</td>\n",
              "      <td>0.020960</td>\n",
              "      <td>0.624826</td>\n",
              "    </tr>\n",
              "    <tr>\n",
              "      <th>12</th>\n",
              "      <td>bayes_clf3</td>\n",
              "      <td>[8630, 8438, 31, 91]</td>\n",
              "      <td>0.507330</td>\n",
              "      <td>0.745902</td>\n",
              "      <td>0.021038</td>\n",
              "      <td>0.625763</td>\n",
              "    </tr>\n",
              "    <tr>\n",
              "      <th>13</th>\n",
              "      <td>bayes_clf4</td>\n",
              "      <td>[8631, 8437, 31, 91]</td>\n",
              "      <td>0.507388</td>\n",
              "      <td>0.745902</td>\n",
              "      <td>0.021040</td>\n",
              "      <td>0.625792</td>\n",
              "    </tr>\n",
              "    <tr>\n",
              "      <th>14</th>\n",
              "      <td>bayes_clf5</td>\n",
              "      <td>[8631, 8437, 31, 91]</td>\n",
              "      <td>0.507388</td>\n",
              "      <td>0.745902</td>\n",
              "      <td>0.021040</td>\n",
              "      <td>0.625792</td>\n",
              "    </tr>\n",
              "    <tr>\n",
              "      <th>15</th>\n",
              "      <td>bayes_clf6</td>\n",
              "      <td>[8631, 8437, 31, 91]</td>\n",
              "      <td>0.507388</td>\n",
              "      <td>0.745902</td>\n",
              "      <td>0.021040</td>\n",
              "      <td>0.625792</td>\n",
              "    </tr>\n",
              "  </tbody>\n",
              "</table>\n",
              "</div>\n",
              "      <button class=\"colab-df-convert\" onclick=\"convertToInteractive('df-2c7bd5cc-747b-4bc4-9d04-561cedce24f2')\"\n",
              "              title=\"Convert this dataframe to an interactive table.\"\n",
              "              style=\"display:none;\">\n",
              "        \n",
              "  <svg xmlns=\"http://www.w3.org/2000/svg\" height=\"24px\"viewBox=\"0 0 24 24\"\n",
              "       width=\"24px\">\n",
              "    <path d=\"M0 0h24v24H0V0z\" fill=\"none\"/>\n",
              "    <path d=\"M18.56 5.44l.94 2.06.94-2.06 2.06-.94-2.06-.94-.94-2.06-.94 2.06-2.06.94zm-11 1L8.5 8.5l.94-2.06 2.06-.94-2.06-.94L8.5 2.5l-.94 2.06-2.06.94zm10 10l.94 2.06.94-2.06 2.06-.94-2.06-.94-.94-2.06-.94 2.06-2.06.94z\"/><path d=\"M17.41 7.96l-1.37-1.37c-.4-.4-.92-.59-1.43-.59-.52 0-1.04.2-1.43.59L10.3 9.45l-7.72 7.72c-.78.78-.78 2.05 0 2.83L4 21.41c.39.39.9.59 1.41.59.51 0 1.02-.2 1.41-.59l7.78-7.78 2.81-2.81c.8-.78.8-2.07 0-2.86zM5.41 20L4 18.59l7.72-7.72 1.47 1.35L5.41 20z\"/>\n",
              "  </svg>\n",
              "      </button>\n",
              "      \n",
              "  <style>\n",
              "    .colab-df-container {\n",
              "      display:flex;\n",
              "      flex-wrap:wrap;\n",
              "      gap: 12px;\n",
              "    }\n",
              "\n",
              "    .colab-df-convert {\n",
              "      background-color: #E8F0FE;\n",
              "      border: none;\n",
              "      border-radius: 50%;\n",
              "      cursor: pointer;\n",
              "      display: none;\n",
              "      fill: #1967D2;\n",
              "      height: 32px;\n",
              "      padding: 0 0 0 0;\n",
              "      width: 32px;\n",
              "    }\n",
              "\n",
              "    .colab-df-convert:hover {\n",
              "      background-color: #E2EBFA;\n",
              "      box-shadow: 0px 1px 2px rgba(60, 64, 67, 0.3), 0px 1px 3px 1px rgba(60, 64, 67, 0.15);\n",
              "      fill: #174EA6;\n",
              "    }\n",
              "\n",
              "    [theme=dark] .colab-df-convert {\n",
              "      background-color: #3B4455;\n",
              "      fill: #D2E3FC;\n",
              "    }\n",
              "\n",
              "    [theme=dark] .colab-df-convert:hover {\n",
              "      background-color: #434B5C;\n",
              "      box-shadow: 0px 1px 3px 1px rgba(0, 0, 0, 0.15);\n",
              "      filter: drop-shadow(0px 1px 2px rgba(0, 0, 0, 0.3));\n",
              "      fill: #FFFFFF;\n",
              "    }\n",
              "  </style>\n",
              "\n",
              "      <script>\n",
              "        const buttonEl =\n",
              "          document.querySelector('#df-2c7bd5cc-747b-4bc4-9d04-561cedce24f2 button.colab-df-convert');\n",
              "        buttonEl.style.display =\n",
              "          google.colab.kernel.accessAllowed ? 'block' : 'none';\n",
              "\n",
              "        async function convertToInteractive(key) {\n",
              "          const element = document.querySelector('#df-2c7bd5cc-747b-4bc4-9d04-561cedce24f2');\n",
              "          const dataTable =\n",
              "            await google.colab.kernel.invokeFunction('convertToInteractive',\n",
              "                                                     [key], {});\n",
              "          if (!dataTable) return;\n",
              "\n",
              "          const docLinkHtml = 'Like what you see? Visit the ' +\n",
              "            '<a target=\"_blank\" href=https://colab.research.google.com/notebooks/data_table.ipynb>data table notebook</a>'\n",
              "            + ' to learn more about interactive tables.';\n",
              "          element.innerHTML = '';\n",
              "          dataTable['output_type'] = 'display_data';\n",
              "          await google.colab.output.renderOutput(dataTable, element);\n",
              "          const docLink = document.createElement('div');\n",
              "          docLink.innerHTML = docLinkHtml;\n",
              "          element.appendChild(docLink);\n",
              "        }\n",
              "      </script>\n",
              "    </div>\n",
              "  </div>\n",
              "  "
            ],
            "text/plain": [
              "    model_name        confusion_matrix  accuracy    recall  f1_score  \\\n",
              "0     log_clf0   [10970, 6098, 55, 67]  0.642059  0.549180  0.021314   \n",
              "1     log_clf1   [10973, 6095, 56, 66]  0.642176  0.540984  0.021009   \n",
              "2     svc_clf0    [9580, 7488, 27, 95]  0.562827  0.778689  0.024659   \n",
              "3     svc_clf1    [9314, 7754, 33, 89]  0.547004  0.729508  0.022348   \n",
              "4     svc_clf2    [9839, 7229, 39, 83]  0.577196  0.680328  0.022330   \n",
              "5     svc_clf3   [10510, 6558, 26, 96]  0.616987  0.786885  0.028335   \n",
              "6     svc_clf4   [10605, 6463, 26, 96]  0.622513  0.786885  0.028738   \n",
              "7     svc_clf5   [10669, 6399, 25, 97]  0.626294  0.795082  0.029314   \n",
              "8     svc_clf6   [10772, 6296, 26, 96]  0.632228  0.786885  0.029475   \n",
              "9   bayes_clf0  [4988, 12080, 15, 107]  0.296393  0.877049  0.017386   \n",
              "10  bayes_clf1   [7233, 9835, 22, 100]  0.426585  0.819672  0.019887   \n",
              "11  bayes_clf2    [8598, 8470, 31, 91]  0.505468  0.745902  0.020960   \n",
              "12  bayes_clf3    [8630, 8438, 31, 91]  0.507330  0.745902  0.021038   \n",
              "13  bayes_clf4    [8631, 8437, 31, 91]  0.507388  0.745902  0.021040   \n",
              "14  bayes_clf5    [8631, 8437, 31, 91]  0.507388  0.745902  0.021040   \n",
              "15  bayes_clf6    [8631, 8437, 31, 91]  0.507388  0.745902  0.021040   \n",
              "\n",
              "    roc_auc_score  \n",
              "0        0.595952  \n",
              "1        0.591941  \n",
              "2        0.669986  \n",
              "3        0.637604  \n",
              "4        0.628393  \n",
              "5        0.701329  \n",
              "6        0.704112  \n",
              "7        0.710085  \n",
              "8        0.709004  \n",
              "9        0.584646  \n",
              "10       0.621724  \n",
              "11       0.624826  \n",
              "12       0.625763  \n",
              "13       0.625792  \n",
              "14       0.625792  \n",
              "15       0.625792  "
            ]
          },
          "metadata": {},
          "output_type": "display_data"
        }
      ],
      "source": [
        "display(models_eval)"
      ]
    },
    {
      "cell_type": "markdown",
      "metadata": {
        "id": "xbdXqp_Rq353"
      },
      "source": [
        "Best Parameters: \n",
        "\n",
        "{'var_smoothing': '1e-3'}"
      ]
    },
    {
      "cell_type": "markdown",
      "metadata": {
        "id": "M_gEyKKnt00q"
      },
      "source": [
        "## K-Nearest Neighbor\n",
        "\n",
        "- Library: Scikit-learn\n",
        "- Shuffling does not affect the model building. No random_state."
      ]
    },
    {
      "cell_type": "code",
      "execution_count": null,
      "metadata": {
        "colab": {
          "background_save": true
        },
        "id": "Vw5TiOkaZTHW"
      },
      "outputs": [],
      "source": [
        "# Training\n",
        "\n",
        "name = 'neigh_clf'\n",
        "\n",
        "train = pd.DataFrame(columns = ['n_neighbors', 'algorithm', 'n_jobs'])\n",
        "train = train.append({'n_neighbors': 5, 'algorithm':'auto', 'n_jobs':-1}, ignore_index=True)\n",
        "train = train.append({'n_neighbors': 1, 'algorithm':'auto', 'n_jobs':-1}, ignore_index=True)\n",
        "train = train.append({'n_neighbors': 20, 'algorithm':'kd_tree', 'n_jobs':-1}, ignore_index=True)\n",
        "\n",
        "train = train.reset_index()\n",
        "for index, row in train.iterrows():\n",
        "    model_name = name + str(index)\n",
        "    neigh_clf = KNeighborsClassifier(n_neighbors=int(row['n_neighbors']), algorithm = row['algorithm'], n_jobs = int(row['n_jobs']))\n",
        "    neigh_clf.fit(X_train, y_train)\n",
        "    \n",
        "    y_true = y_val\n",
        "    y_pred = neigh_clf.predict(X_val)\n",
        "    evaluation_results = evaluation_metrics(y_true, y_pred)\n",
        "\n",
        "    models = models.append({'model_name': model_name, \n",
        "                            'model': neigh_clf, \n",
        "                            'parameters': neigh_clf.get_params()}, \n",
        "                            ignore_index=True)\n",
        "    \n",
        "    models_eval = models_eval.append({'model_name': model_name, \n",
        "                                      'confusion_matrix' : evaluation_results[0], \n",
        "                                      'accuracy': evaluation_results[1], \n",
        "                                      'recall' : evaluation_results[2], \n",
        "                                      'f1_score': evaluation_results[3], \n",
        "                                      'roc_auc_score': evaluation_results[4]}, \n",
        "                                      ignore_index=True)"
      ]
    },
    {
      "cell_type": "code",
      "execution_count": null,
      "metadata": {
        "colab": {
          "background_save": true
        },
        "id": "EvI_e6r-exRk",
        "outputId": "03ca0718-5ec9-444f-8217-1361bd943bf2"
      },
      "outputs": [
        {
          "data": {
            "text/html": [
              "\n",
              "  <div id=\"df-ac3ca3a7-cb69-440f-a17c-c766dde60a7c\">\n",
              "    <div class=\"colab-df-container\">\n",
              "      <div>\n",
              "<style scoped>\n",
              "    .dataframe tbody tr th:only-of-type {\n",
              "        vertical-align: middle;\n",
              "    }\n",
              "\n",
              "    .dataframe tbody tr th {\n",
              "        vertical-align: top;\n",
              "    }\n",
              "\n",
              "    .dataframe thead th {\n",
              "        text-align: right;\n",
              "    }\n",
              "</style>\n",
              "<table border=\"1\" class=\"dataframe\">\n",
              "  <thead>\n",
              "    <tr style=\"text-align: right;\">\n",
              "      <th></th>\n",
              "      <th>model_name</th>\n",
              "      <th>confusion_matrix</th>\n",
              "      <th>accuracy</th>\n",
              "      <th>recall</th>\n",
              "      <th>f1_score</th>\n",
              "      <th>roc_auc_score</th>\n",
              "    </tr>\n",
              "  </thead>\n",
              "  <tbody>\n",
              "    <tr>\n",
              "      <th>0</th>\n",
              "      <td>log_clf0</td>\n",
              "      <td>[10970, 6098, 55, 67]</td>\n",
              "      <td>0.642059</td>\n",
              "      <td>0.549180</td>\n",
              "      <td>0.021314</td>\n",
              "      <td>0.595952</td>\n",
              "    </tr>\n",
              "    <tr>\n",
              "      <th>1</th>\n",
              "      <td>log_clf1</td>\n",
              "      <td>[10973, 6095, 56, 66]</td>\n",
              "      <td>0.642176</td>\n",
              "      <td>0.540984</td>\n",
              "      <td>0.021009</td>\n",
              "      <td>0.591941</td>\n",
              "    </tr>\n",
              "    <tr>\n",
              "      <th>2</th>\n",
              "      <td>svc_clf0</td>\n",
              "      <td>[9580, 7488, 27, 95]</td>\n",
              "      <td>0.562827</td>\n",
              "      <td>0.778689</td>\n",
              "      <td>0.024659</td>\n",
              "      <td>0.669986</td>\n",
              "    </tr>\n",
              "    <tr>\n",
              "      <th>3</th>\n",
              "      <td>svc_clf1</td>\n",
              "      <td>[9314, 7754, 33, 89]</td>\n",
              "      <td>0.547004</td>\n",
              "      <td>0.729508</td>\n",
              "      <td>0.022348</td>\n",
              "      <td>0.637604</td>\n",
              "    </tr>\n",
              "    <tr>\n",
              "      <th>4</th>\n",
              "      <td>svc_clf2</td>\n",
              "      <td>[9839, 7229, 39, 83]</td>\n",
              "      <td>0.577196</td>\n",
              "      <td>0.680328</td>\n",
              "      <td>0.022330</td>\n",
              "      <td>0.628393</td>\n",
              "    </tr>\n",
              "    <tr>\n",
              "      <th>5</th>\n",
              "      <td>svc_clf3</td>\n",
              "      <td>[10510, 6558, 26, 96]</td>\n",
              "      <td>0.616987</td>\n",
              "      <td>0.786885</td>\n",
              "      <td>0.028335</td>\n",
              "      <td>0.701329</td>\n",
              "    </tr>\n",
              "    <tr>\n",
              "      <th>6</th>\n",
              "      <td>svc_clf4</td>\n",
              "      <td>[10605, 6463, 26, 96]</td>\n",
              "      <td>0.622513</td>\n",
              "      <td>0.786885</td>\n",
              "      <td>0.028738</td>\n",
              "      <td>0.704112</td>\n",
              "    </tr>\n",
              "    <tr>\n",
              "      <th>7</th>\n",
              "      <td>svc_clf5</td>\n",
              "      <td>[10669, 6399, 25, 97]</td>\n",
              "      <td>0.626294</td>\n",
              "      <td>0.795082</td>\n",
              "      <td>0.029314</td>\n",
              "      <td>0.710085</td>\n",
              "    </tr>\n",
              "    <tr>\n",
              "      <th>8</th>\n",
              "      <td>svc_clf6</td>\n",
              "      <td>[10772, 6296, 26, 96]</td>\n",
              "      <td>0.632228</td>\n",
              "      <td>0.786885</td>\n",
              "      <td>0.029475</td>\n",
              "      <td>0.709004</td>\n",
              "    </tr>\n",
              "    <tr>\n",
              "      <th>9</th>\n",
              "      <td>bayes_clf0</td>\n",
              "      <td>[4988, 12080, 15, 107]</td>\n",
              "      <td>0.296393</td>\n",
              "      <td>0.877049</td>\n",
              "      <td>0.017386</td>\n",
              "      <td>0.584646</td>\n",
              "    </tr>\n",
              "    <tr>\n",
              "      <th>10</th>\n",
              "      <td>bayes_clf1</td>\n",
              "      <td>[7233, 9835, 22, 100]</td>\n",
              "      <td>0.426585</td>\n",
              "      <td>0.819672</td>\n",
              "      <td>0.019887</td>\n",
              "      <td>0.621724</td>\n",
              "    </tr>\n",
              "    <tr>\n",
              "      <th>11</th>\n",
              "      <td>bayes_clf2</td>\n",
              "      <td>[8598, 8470, 31, 91]</td>\n",
              "      <td>0.505468</td>\n",
              "      <td>0.745902</td>\n",
              "      <td>0.020960</td>\n",
              "      <td>0.624826</td>\n",
              "    </tr>\n",
              "    <tr>\n",
              "      <th>12</th>\n",
              "      <td>bayes_clf3</td>\n",
              "      <td>[8630, 8438, 31, 91]</td>\n",
              "      <td>0.507330</td>\n",
              "      <td>0.745902</td>\n",
              "      <td>0.021038</td>\n",
              "      <td>0.625763</td>\n",
              "    </tr>\n",
              "    <tr>\n",
              "      <th>13</th>\n",
              "      <td>bayes_clf4</td>\n",
              "      <td>[8631, 8437, 31, 91]</td>\n",
              "      <td>0.507388</td>\n",
              "      <td>0.745902</td>\n",
              "      <td>0.021040</td>\n",
              "      <td>0.625792</td>\n",
              "    </tr>\n",
              "    <tr>\n",
              "      <th>14</th>\n",
              "      <td>bayes_clf5</td>\n",
              "      <td>[8631, 8437, 31, 91]</td>\n",
              "      <td>0.507388</td>\n",
              "      <td>0.745902</td>\n",
              "      <td>0.021040</td>\n",
              "      <td>0.625792</td>\n",
              "    </tr>\n",
              "    <tr>\n",
              "      <th>15</th>\n",
              "      <td>bayes_clf6</td>\n",
              "      <td>[8631, 8437, 31, 91]</td>\n",
              "      <td>0.507388</td>\n",
              "      <td>0.745902</td>\n",
              "      <td>0.021040</td>\n",
              "      <td>0.625792</td>\n",
              "    </tr>\n",
              "    <tr>\n",
              "      <th>16</th>\n",
              "      <td>neigh_clf0</td>\n",
              "      <td>[16453, 615, 51, 71]</td>\n",
              "      <td>0.961257</td>\n",
              "      <td>0.581967</td>\n",
              "      <td>0.175743</td>\n",
              "      <td>0.772967</td>\n",
              "    </tr>\n",
              "    <tr>\n",
              "      <th>17</th>\n",
              "      <td>neigh_clf1</td>\n",
              "      <td>[16658, 410, 62, 60]</td>\n",
              "      <td>0.972542</td>\n",
              "      <td>0.491803</td>\n",
              "      <td>0.202703</td>\n",
              "      <td>0.733891</td>\n",
              "    </tr>\n",
              "    <tr>\n",
              "      <th>18</th>\n",
              "      <td>neigh_clf2</td>\n",
              "      <td>[16023, 1045, 36, 86]</td>\n",
              "      <td>0.937115</td>\n",
              "      <td>0.704918</td>\n",
              "      <td>0.137271</td>\n",
              "      <td>0.821846</td>\n",
              "    </tr>\n",
              "  </tbody>\n",
              "</table>\n",
              "</div>\n",
              "      <button class=\"colab-df-convert\" onclick=\"convertToInteractive('df-ac3ca3a7-cb69-440f-a17c-c766dde60a7c')\"\n",
              "              title=\"Convert this dataframe to an interactive table.\"\n",
              "              style=\"display:none;\">\n",
              "        \n",
              "  <svg xmlns=\"http://www.w3.org/2000/svg\" height=\"24px\"viewBox=\"0 0 24 24\"\n",
              "       width=\"24px\">\n",
              "    <path d=\"M0 0h24v24H0V0z\" fill=\"none\"/>\n",
              "    <path d=\"M18.56 5.44l.94 2.06.94-2.06 2.06-.94-2.06-.94-.94-2.06-.94 2.06-2.06.94zm-11 1L8.5 8.5l.94-2.06 2.06-.94-2.06-.94L8.5 2.5l-.94 2.06-2.06.94zm10 10l.94 2.06.94-2.06 2.06-.94-2.06-.94-.94-2.06-.94 2.06-2.06.94z\"/><path d=\"M17.41 7.96l-1.37-1.37c-.4-.4-.92-.59-1.43-.59-.52 0-1.04.2-1.43.59L10.3 9.45l-7.72 7.72c-.78.78-.78 2.05 0 2.83L4 21.41c.39.39.9.59 1.41.59.51 0 1.02-.2 1.41-.59l7.78-7.78 2.81-2.81c.8-.78.8-2.07 0-2.86zM5.41 20L4 18.59l7.72-7.72 1.47 1.35L5.41 20z\"/>\n",
              "  </svg>\n",
              "      </button>\n",
              "      \n",
              "  <style>\n",
              "    .colab-df-container {\n",
              "      display:flex;\n",
              "      flex-wrap:wrap;\n",
              "      gap: 12px;\n",
              "    }\n",
              "\n",
              "    .colab-df-convert {\n",
              "      background-color: #E8F0FE;\n",
              "      border: none;\n",
              "      border-radius: 50%;\n",
              "      cursor: pointer;\n",
              "      display: none;\n",
              "      fill: #1967D2;\n",
              "      height: 32px;\n",
              "      padding: 0 0 0 0;\n",
              "      width: 32px;\n",
              "    }\n",
              "\n",
              "    .colab-df-convert:hover {\n",
              "      background-color: #E2EBFA;\n",
              "      box-shadow: 0px 1px 2px rgba(60, 64, 67, 0.3), 0px 1px 3px 1px rgba(60, 64, 67, 0.15);\n",
              "      fill: #174EA6;\n",
              "    }\n",
              "\n",
              "    [theme=dark] .colab-df-convert {\n",
              "      background-color: #3B4455;\n",
              "      fill: #D2E3FC;\n",
              "    }\n",
              "\n",
              "    [theme=dark] .colab-df-convert:hover {\n",
              "      background-color: #434B5C;\n",
              "      box-shadow: 0px 1px 3px 1px rgba(0, 0, 0, 0.15);\n",
              "      filter: drop-shadow(0px 1px 2px rgba(0, 0, 0, 0.3));\n",
              "      fill: #FFFFFF;\n",
              "    }\n",
              "  </style>\n",
              "\n",
              "      <script>\n",
              "        const buttonEl =\n",
              "          document.querySelector('#df-ac3ca3a7-cb69-440f-a17c-c766dde60a7c button.colab-df-convert');\n",
              "        buttonEl.style.display =\n",
              "          google.colab.kernel.accessAllowed ? 'block' : 'none';\n",
              "\n",
              "        async function convertToInteractive(key) {\n",
              "          const element = document.querySelector('#df-ac3ca3a7-cb69-440f-a17c-c766dde60a7c');\n",
              "          const dataTable =\n",
              "            await google.colab.kernel.invokeFunction('convertToInteractive',\n",
              "                                                     [key], {});\n",
              "          if (!dataTable) return;\n",
              "\n",
              "          const docLinkHtml = 'Like what you see? Visit the ' +\n",
              "            '<a target=\"_blank\" href=https://colab.research.google.com/notebooks/data_table.ipynb>data table notebook</a>'\n",
              "            + ' to learn more about interactive tables.';\n",
              "          element.innerHTML = '';\n",
              "          dataTable['output_type'] = 'display_data';\n",
              "          await google.colab.output.renderOutput(dataTable, element);\n",
              "          const docLink = document.createElement('div');\n",
              "          docLink.innerHTML = docLinkHtml;\n",
              "          element.appendChild(docLink);\n",
              "        }\n",
              "      </script>\n",
              "    </div>\n",
              "  </div>\n",
              "  "
            ],
            "text/plain": [
              "    model_name        confusion_matrix  accuracy    recall  f1_score  \\\n",
              "0     log_clf0   [10970, 6098, 55, 67]  0.642059  0.549180  0.021314   \n",
              "1     log_clf1   [10973, 6095, 56, 66]  0.642176  0.540984  0.021009   \n",
              "2     svc_clf0    [9580, 7488, 27, 95]  0.562827  0.778689  0.024659   \n",
              "3     svc_clf1    [9314, 7754, 33, 89]  0.547004  0.729508  0.022348   \n",
              "4     svc_clf2    [9839, 7229, 39, 83]  0.577196  0.680328  0.022330   \n",
              "5     svc_clf3   [10510, 6558, 26, 96]  0.616987  0.786885  0.028335   \n",
              "6     svc_clf4   [10605, 6463, 26, 96]  0.622513  0.786885  0.028738   \n",
              "7     svc_clf5   [10669, 6399, 25, 97]  0.626294  0.795082  0.029314   \n",
              "8     svc_clf6   [10772, 6296, 26, 96]  0.632228  0.786885  0.029475   \n",
              "9   bayes_clf0  [4988, 12080, 15, 107]  0.296393  0.877049  0.017386   \n",
              "10  bayes_clf1   [7233, 9835, 22, 100]  0.426585  0.819672  0.019887   \n",
              "11  bayes_clf2    [8598, 8470, 31, 91]  0.505468  0.745902  0.020960   \n",
              "12  bayes_clf3    [8630, 8438, 31, 91]  0.507330  0.745902  0.021038   \n",
              "13  bayes_clf4    [8631, 8437, 31, 91]  0.507388  0.745902  0.021040   \n",
              "14  bayes_clf5    [8631, 8437, 31, 91]  0.507388  0.745902  0.021040   \n",
              "15  bayes_clf6    [8631, 8437, 31, 91]  0.507388  0.745902  0.021040   \n",
              "16  neigh_clf0    [16453, 615, 51, 71]  0.961257  0.581967  0.175743   \n",
              "17  neigh_clf1    [16658, 410, 62, 60]  0.972542  0.491803  0.202703   \n",
              "18  neigh_clf2   [16023, 1045, 36, 86]  0.937115  0.704918  0.137271   \n",
              "\n",
              "    roc_auc_score  \n",
              "0        0.595952  \n",
              "1        0.591941  \n",
              "2        0.669986  \n",
              "3        0.637604  \n",
              "4        0.628393  \n",
              "5        0.701329  \n",
              "6        0.704112  \n",
              "7        0.710085  \n",
              "8        0.709004  \n",
              "9        0.584646  \n",
              "10       0.621724  \n",
              "11       0.624826  \n",
              "12       0.625763  \n",
              "13       0.625792  \n",
              "14       0.625792  \n",
              "15       0.625792  \n",
              "16       0.772967  \n",
              "17       0.733891  \n",
              "18       0.821846  "
            ]
          },
          "metadata": {},
          "output_type": "display_data"
        }
      ],
      "source": [
        "display(models_eval)"
      ]
    },
    {
      "cell_type": "code",
      "execution_count": null,
      "metadata": {
        "colab": {
          "background_save": true
        },
        "id": "SlJiuLzfen_x",
        "outputId": "10ebca5e-2ed0-43ea-8e14-7341d4f3e2fe"
      },
      "outputs": [
        {
          "name": "stdout",
          "output_type": "stream",
          "text": [
            "Fitting 3 folds for each of 50 candidates, totalling 150 fits\n",
            "[CV 1/3] END .algorithm=kd_tree, n_neighbors=12;, score=0.987 total time=   7.8s\n",
            "[CV 2/3] END .algorithm=kd_tree, n_neighbors=12;, score=0.986 total time=   4.6s\n",
            "[CV 3/3] END .algorithm=kd_tree, n_neighbors=12;, score=0.987 total time=   4.1s\n",
            "[CV 1/3] END .....algorithm=auto, n_neighbors=4;, score=0.980 total time=   4.4s\n",
            "[CV 2/3] END .....algorithm=auto, n_neighbors=4;, score=0.975 total time=   5.3s\n",
            "[CV 3/3] END .....algorithm=auto, n_neighbors=4;, score=0.978 total time=   3.6s\n",
            "[CV 1/3] END .algorithm=kd_tree, n_neighbors=19;, score=0.988 total time=   4.8s\n",
            "[CV 2/3] END .algorithm=kd_tree, n_neighbors=19;, score=0.989 total time=   7.0s\n",
            "[CV 3/3] END .algorithm=kd_tree, n_neighbors=19;, score=0.989 total time=   4.7s\n",
            "[CV 1/3] END ..algorithm=kd_tree, n_neighbors=8;, score=0.987 total time=   4.4s\n",
            "[CV 2/3] END ..algorithm=kd_tree, n_neighbors=8;, score=0.982 total time=   5.8s\n",
            "[CV 3/3] END ..algorithm=kd_tree, n_neighbors=8;, score=0.983 total time=   3.8s\n",
            "[CV 1/3] END ..algorithm=kd_tree, n_neighbors=2;, score=0.952 total time=   3.3s\n",
            "[CV 2/3] END ..algorithm=kd_tree, n_neighbors=2;, score=0.965 total time=   5.4s\n",
            "[CV 3/3] END ..algorithm=kd_tree, n_neighbors=2;, score=0.962 total time=   3.7s\n",
            "[CV 1/3] END ....algorithm=auto, n_neighbors=18;, score=0.987 total time=   4.6s\n",
            "[CV 2/3] END ....algorithm=auto, n_neighbors=18;, score=0.986 total time=   6.1s\n",
            "[CV 3/3] END ....algorithm=auto, n_neighbors=18;, score=0.988 total time=   5.7s\n",
            "[CV 1/3] END algorithm=ball_tree, n_neighbors=7;, score=0.991 total time=  30.5s\n",
            "[CV 2/3] END algorithm=ball_tree, n_neighbors=7;, score=0.986 total time=  31.0s\n",
            "[CV 3/3] END algorithm=ball_tree, n_neighbors=7;, score=0.989 total time=  23.8s\n",
            "[CV 1/3] END .....algorithm=auto, n_neighbors=3;, score=0.986 total time=   4.8s\n",
            "[CV 2/3] END .....algorithm=auto, n_neighbors=3;, score=0.985 total time=   3.4s\n",
            "[CV 3/3] END .....algorithm=auto, n_neighbors=3;, score=0.985 total time=   3.4s\n",
            "[CV 1/3] END ..algorithm=kd_tree, n_neighbors=4;, score=0.980 total time=   5.2s\n",
            "[CV 2/3] END ..algorithm=kd_tree, n_neighbors=4;, score=0.975 total time=   4.2s\n",
            "[CV 3/3] END ..algorithm=kd_tree, n_neighbors=4;, score=0.978 total time=   3.7s\n",
            "[CV 1/3] END ..algorithm=kd_tree, n_neighbors=7;, score=0.991 total time=   4.1s\n",
            "[CV 2/3] END ..algorithm=kd_tree, n_neighbors=7;, score=0.986 total time=   6.0s\n",
            "[CV 3/3] END ..algorithm=kd_tree, n_neighbors=7;, score=0.989 total time=   3.8s\n",
            "[CV 1/3] END .algorithm=kd_tree, n_neighbors=16;, score=0.987 total time=   4.3s\n",
            "[CV 2/3] END .algorithm=kd_tree, n_neighbors=16;, score=0.986 total time=   6.8s\n",
            "[CV 3/3] END .algorithm=kd_tree, n_neighbors=16;, score=0.987 total time=   4.4s\n",
            "[CV 1/3] END .algorithm=kd_tree, n_neighbors=20;, score=0.987 total time=   4.7s\n",
            "[CV 2/3] END .algorithm=kd_tree, n_neighbors=20;, score=0.988 total time=   7.3s\n",
            "[CV 3/3] END .algorithm=kd_tree, n_neighbors=20;, score=0.987 total time=   4.8s\n",
            "[CV 1/3] END ..algorithm=kd_tree, n_neighbors=1;, score=0.976 total time=   3.1s\n",
            "[CV 2/3] END ..algorithm=kd_tree, n_neighbors=1;, score=0.981 total time=   5.4s\n",
            "[CV 3/3] END ..algorithm=kd_tree, n_neighbors=1;, score=0.983 total time=   3.2s\n",
            "[CV 1/3] END .algorithm=kd_tree, n_neighbors=18;, score=0.987 total time=   4.7s\n",
            "[CV 2/3] END .algorithm=kd_tree, n_neighbors=18;, score=0.986 total time=   6.8s\n",
            "[CV 3/3] END .algorithm=kd_tree, n_neighbors=18;, score=0.988 total time=   4.9s\n",
            "[CV 1/3] END .....algorithm=auto, n_neighbors=8;, score=0.987 total time=   3.9s\n",
            "[CV 2/3] END .....algorithm=auto, n_neighbors=8;, score=0.982 total time=   5.3s\n",
            "[CV 3/3] END .....algorithm=auto, n_neighbors=8;, score=0.983 total time=   4.9s\n",
            "[CV 1/3] END .....algorithm=auto, n_neighbors=7;, score=0.991 total time=   3.7s\n",
            "[CV 2/3] END .....algorithm=auto, n_neighbors=7;, score=0.986 total time=   4.0s\n",
            "[CV 3/3] END .....algorithm=auto, n_neighbors=7;, score=0.989 total time=   5.9s\n",
            "[CV 1/3] END algorithm=ball_tree, n_neighbors=6;, score=0.986 total time=  28.3s\n",
            "[CV 2/3] END algorithm=ball_tree, n_neighbors=6;, score=0.978 total time=  29.5s\n",
            "[CV 3/3] END algorithm=ball_tree, n_neighbors=6;, score=0.981 total time=  23.1s\n",
            "[CV 1/3] END algorithm=ball_tree, n_neighbors=18;, score=0.987 total time=  33.2s\n",
            "[CV 2/3] END algorithm=ball_tree, n_neighbors=18;, score=0.986 total time=  35.1s\n",
            "[CV 3/3] END algorithm=ball_tree, n_neighbors=18;, score=0.987 total time=  26.7s\n",
            "[CV 1/3] END algorithm=ball_tree, n_neighbors=8;, score=0.987 total time=  31.0s\n",
            "[CV 2/3] END algorithm=ball_tree, n_neighbors=8;, score=0.982 total time=  31.3s\n",
            "[CV 3/3] END algorithm=ball_tree, n_neighbors=8;, score=0.983 total time=  26.0s\n",
            "[CV 1/3] END ....algorithm=auto, n_neighbors=11;, score=0.990 total time=   4.0s\n",
            "[CV 2/3] END ....algorithm=auto, n_neighbors=11;, score=0.989 total time=   6.3s\n",
            "[CV 3/3] END ....algorithm=auto, n_neighbors=11;, score=0.989 total time=   4.0s\n",
            "[CV 1/3] END algorithm=ball_tree, n_neighbors=5;, score=0.991 total time=  29.2s\n",
            "[CV 2/3] END algorithm=ball_tree, n_neighbors=5;, score=0.984 total time=  30.6s\n",
            "[CV 3/3] END algorithm=ball_tree, n_neighbors=5;, score=0.987 total time=  22.3s\n",
            "[CV 1/3] END algorithm=ball_tree, n_neighbors=11;, score=0.990 total time=  31.7s\n",
            "[CV 2/3] END algorithm=ball_tree, n_neighbors=11;, score=0.989 total time=  33.0s\n",
            "[CV 3/3] END algorithm=ball_tree, n_neighbors=11;, score=0.989 total time=  25.4s\n",
            "[CV 1/3] END ....algorithm=auto, n_neighbors=19;, score=0.988 total time=   5.9s\n",
            "[CV 2/3] END ....algorithm=auto, n_neighbors=19;, score=0.989 total time=   6.0s\n",
            "[CV 3/3] END ....algorithm=auto, n_neighbors=19;, score=0.989 total time=   4.6s\n",
            "[CV 1/3] END .....algorithm=auto, n_neighbors=5;, score=0.991 total time=   5.0s\n",
            "[CV 2/3] END .....algorithm=auto, n_neighbors=5;, score=0.984 total time=   4.7s\n",
            "[CV 3/3] END .....algorithm=auto, n_neighbors=5;, score=0.987 total time=   3.6s\n",
            "[CV 1/3] END .....algorithm=auto, n_neighbors=2;, score=0.952 total time=   3.3s\n",
            "[CV 2/3] END .....algorithm=auto, n_neighbors=2;, score=0.965 total time=   5.4s\n",
            "[CV 3/3] END .....algorithm=auto, n_neighbors=2;, score=0.962 total time=   3.4s\n",
            "[CV 1/3] END ....algorithm=auto, n_neighbors=13;, score=0.990 total time=   4.3s\n",
            "[CV 2/3] END ....algorithm=auto, n_neighbors=13;, score=0.988 total time=   5.3s\n",
            "[CV 3/3] END ....algorithm=auto, n_neighbors=13;, score=0.989 total time=   5.7s\n",
            "[CV 1/3] END .algorithm=kd_tree, n_neighbors=11;, score=0.990 total time=   4.2s\n",
            "[CV 2/3] END .algorithm=kd_tree, n_neighbors=11;, score=0.989 total time=   5.3s\n",
            "[CV 3/3] END .algorithm=kd_tree, n_neighbors=11;, score=0.989 total time=   5.5s\n",
            "[CV 1/3] END ..algorithm=kd_tree, n_neighbors=3;, score=0.986 total time=   3.5s\n",
            "[CV 2/3] END ..algorithm=kd_tree, n_neighbors=3;, score=0.985 total time=   3.5s\n",
            "[CV 3/3] END ..algorithm=kd_tree, n_neighbors=3;, score=0.985 total time=   5.7s\n",
            "[CV 1/3] END algorithm=ball_tree, n_neighbors=15;, score=0.989 total time=  32.8s\n",
            "[CV 2/3] END algorithm=ball_tree, n_neighbors=15;, score=0.988 total time=  34.3s\n",
            "[CV 3/3] END algorithm=ball_tree, n_neighbors=15;, score=0.989 total time=  27.4s\n",
            "[CV 1/3] END .algorithm=kd_tree, n_neighbors=13;, score=0.990 total time=   4.1s\n",
            "[CV 2/3] END .algorithm=kd_tree, n_neighbors=13;, score=0.988 total time=   5.5s\n",
            "[CV 3/3] END .algorithm=kd_tree, n_neighbors=13;, score=0.989 total time=   5.7s\n",
            "[CV 1/3] END algorithm=ball_tree, n_neighbors=14;, score=0.988 total time=  31.3s\n",
            "[CV 2/3] END algorithm=ball_tree, n_neighbors=14;, score=0.985 total time=  34.7s\n",
            "[CV 3/3] END algorithm=ball_tree, n_neighbors=14;, score=0.987 total time=  27.5s\n",
            "[CV 1/3] END ....algorithm=auto, n_neighbors=20;, score=0.987 total time=   4.7s\n",
            "[CV 2/3] END ....algorithm=auto, n_neighbors=20;, score=0.988 total time=   7.5s\n",
            "[CV 3/3] END ....algorithm=auto, n_neighbors=20;, score=0.987 total time=   4.6s\n",
            "[CV 1/3] END .algorithm=kd_tree, n_neighbors=15;, score=0.989 total time=   4.9s\n",
            "[CV 2/3] END .algorithm=kd_tree, n_neighbors=15;, score=0.988 total time=   6.6s\n",
            "[CV 3/3] END .algorithm=kd_tree, n_neighbors=15;, score=0.989 total time=   4.4s\n",
            "[CV 1/3] END .....algorithm=auto, n_neighbors=6;, score=0.985 total time=   4.3s\n",
            "[CV 2/3] END .....algorithm=auto, n_neighbors=6;, score=0.978 total time=   5.7s\n",
            "[CV 3/3] END .....algorithm=auto, n_neighbors=6;, score=0.981 total time=   3.7s\n",
            "[CV 1/3] END ....algorithm=auto, n_neighbors=14;, score=0.987 total time=   4.3s\n",
            "[CV 2/3] END ....algorithm=auto, n_neighbors=14;, score=0.985 total time=   6.8s\n",
            "[CV 3/3] END ....algorithm=auto, n_neighbors=14;, score=0.987 total time=   4.4s\n",
            "[CV 1/3] END ....algorithm=auto, n_neighbors=15;, score=0.989 total time=   4.3s\n",
            "[CV 2/3] END ....algorithm=auto, n_neighbors=15;, score=0.988 total time=   6.9s\n",
            "[CV 3/3] END ....algorithm=auto, n_neighbors=15;, score=0.989 total time=   4.4s\n",
            "[CV 1/3] END algorithm=ball_tree, n_neighbors=2;, score=0.952 total time=  27.6s\n",
            "[CV 2/3] END algorithm=ball_tree, n_neighbors=2;, score=0.965 total time=  28.2s\n",
            "[CV 3/3] END algorithm=ball_tree, n_neighbors=2;, score=0.962 total time=  20.5s\n",
            "[CV 1/3] END algorithm=ball_tree, n_neighbors=12;, score=0.987 total time=  30.6s\n",
            "[CV 2/3] END algorithm=ball_tree, n_neighbors=12;, score=0.986 total time=  33.6s\n",
            "[CV 3/3] END algorithm=ball_tree, n_neighbors=12;, score=0.987 total time=  27.3s\n",
            "[CV 1/3] END .algorithm=kd_tree, n_neighbors=14;, score=0.987 total time=   4.4s\n",
            "[CV 2/3] END .algorithm=kd_tree, n_neighbors=14;, score=0.985 total time=   6.7s\n",
            "[CV 3/3] END .algorithm=kd_tree, n_neighbors=14;, score=0.987 total time=   4.2s\n",
            "[CV 1/3] END ..algorithm=kd_tree, n_neighbors=5;, score=0.991 total time=   3.6s\n",
            "[CV 2/3] END ..algorithm=kd_tree, n_neighbors=5;, score=0.984 total time=   5.9s\n",
            "[CV 3/3] END ..algorithm=kd_tree, n_neighbors=5;, score=0.987 total time=   3.6s\n",
            "[CV 1/3] END ....algorithm=auto, n_neighbors=12;, score=0.987 total time=   4.3s\n",
            "[CV 2/3] END ....algorithm=auto, n_neighbors=12;, score=0.986 total time=   5.6s\n",
            "[CV 3/3] END ....algorithm=auto, n_neighbors=12;, score=0.987 total time=   5.1s\n",
            "[CV 1/3] END algorithm=ball_tree, n_neighbors=4;, score=0.980 total time=  27.7s\n",
            "[CV 2/3] END algorithm=ball_tree, n_neighbors=4;, score=0.975 total time=  29.6s\n",
            "[CV 3/3] END algorithm=ball_tree, n_neighbors=4;, score=0.978 total time=  21.8s\n",
            "[CV 1/3] END ....algorithm=auto, n_neighbors=17;, score=0.989 total time=   5.0s\n",
            "[CV 2/3] END ....algorithm=auto, n_neighbors=17;, score=0.988 total time=   6.7s\n",
            "[CV 3/3] END ....algorithm=auto, n_neighbors=17;, score=0.989 total time=   4.4s\n",
            "[CV 1/3] END algorithm=ball_tree, n_neighbors=19;, score=0.988 total time=  33.8s\n",
            "[CV 2/3] END algorithm=ball_tree, n_neighbors=19;, score=0.989 total time=  37.5s\n",
            "[CV 3/3] END algorithm=ball_tree, n_neighbors=19;, score=0.988 total time=  26.7s\n",
            "[CV 1/3] END algorithm=ball_tree, n_neighbors=1;, score=0.976 total time=  24.8s\n",
            "[CV 2/3] END algorithm=ball_tree, n_neighbors=1;, score=0.981 total time=  27.9s\n",
            "[CV 3/3] END algorithm=ball_tree, n_neighbors=1;, score=0.982 total time=  20.6s\n",
            "[CV 1/3] END algorithm=ball_tree, n_neighbors=3;, score=0.986 total time=  28.4s\n",
            "[CV 2/3] END algorithm=ball_tree, n_neighbors=3;, score=0.985 total time=  29.5s\n",
            "[CV 3/3] END algorithm=ball_tree, n_neighbors=3;, score=0.985 total time=  24.6s\n",
            "[CV 1/3] END algorithm=ball_tree, n_neighbors=17;, score=0.989 total time=  35.0s\n",
            "[CV 2/3] END algorithm=ball_tree, n_neighbors=17;, score=0.988 total time=  35.3s\n",
            "[CV 3/3] END algorithm=ball_tree, n_neighbors=17;, score=0.989 total time=  27.4s\n",
            "[CV 1/3] END algorithm=ball_tree, n_neighbors=20;, score=0.987 total time=  33.6s\n",
            "[CV 2/3] END algorithm=ball_tree, n_neighbors=20;, score=0.988 total time=  37.3s\n",
            "[CV 3/3] END algorithm=ball_tree, n_neighbors=20;, score=0.987 total time=  27.4s\n",
            "[CV 1/3] END .....algorithm=auto, n_neighbors=9;, score=0.990 total time=   4.7s\n",
            "[CV 2/3] END .....algorithm=auto, n_neighbors=9;, score=0.989 total time=   3.9s\n",
            "[CV 3/3] END .....algorithm=auto, n_neighbors=9;, score=0.989 total time=   4.8s\n",
            "[CV 1/3] END algorithm=ball_tree, n_neighbors=16;, score=0.987 total time=  35.7s\n",
            "[CV 2/3] END algorithm=ball_tree, n_neighbors=16;, score=0.986 total time=  34.7s\n",
            "[CV 3/3] END algorithm=ball_tree, n_neighbors=16;, score=0.987 total time=  28.8s\n"
          ]
        },
        {
          "data": {
            "text/plain": [
              "{'n_neighbors': 9, 'algorithm': 'auto'}"
            ]
          },
          "execution_count": 51,
          "metadata": {},
          "output_type": "execute_result"
        }
      ],
      "source": [
        "# RandomizedSearchCV\n",
        "\n",
        "random_grid = {\n",
        "                \"n_neighbors\": [int(x) for x in np.linspace(1, 20, num = 20)],\n",
        "                \"algorithm\": ['auto', 'kd_tree','ball_tree']\n",
        "              }\n",
        "\n",
        "neigh_random = RandomizedSearchCV(estimator = neigh_clf, \n",
        "                                  param_distributions = random_grid, \n",
        "                                  n_iter = 50, \n",
        "                                  cv = 3, \n",
        "                                  verbose = 3, \n",
        "                                  scoring = 'recall',\n",
        "                                  random_state = 10)\n",
        "\n",
        "neigh_random.fit(X_train, y_train)\n",
        "neigh_random.best_params_"
      ]
    },
    {
      "cell_type": "code",
      "execution_count": null,
      "metadata": {
        "colab": {
          "background_save": true
        },
        "id": "2G3z6f8vP21Z",
        "outputId": "93e2afda-d7dc-40e8-a654-4b53e984152a"
      },
      "outputs": [
        {
          "data": {
            "text/plain": [
              "{'n_neighbors': 9, 'algorithm': 'auto'}"
            ]
          },
          "execution_count": 52,
          "metadata": {},
          "output_type": "execute_result"
        }
      ],
      "source": [
        "neigh_random.best_params_"
      ]
    },
    {
      "cell_type": "code",
      "execution_count": null,
      "metadata": {
        "colab": {
          "background_save": true
        },
        "id": "kTB3Zxm-PUu4",
        "outputId": "5901474f-dc51-459b-fcba-9901edcf9865"
      },
      "outputs": [
        {
          "data": {
            "text/plain": [
              "0.989561419801773"
            ]
          },
          "execution_count": 53,
          "metadata": {},
          "output_type": "execute_result"
        }
      ],
      "source": [
        "neigh_random.best_score_"
      ]
    },
    {
      "cell_type": "markdown",
      "metadata": {
        "id": "brtgIH7pt1jO"
      },
      "source": [
        "## Decision Tree\n",
        "\n",
        "- Library: Scikit-learn"
      ]
    },
    {
      "cell_type": "code",
      "execution_count": null,
      "metadata": {
        "colab": {
          "background_save": true
        },
        "id": "sgwicO4LbXRt"
      },
      "outputs": [],
      "source": [
        "# Training\n",
        "\n",
        "name = 'tree_clf'\n",
        "\n",
        "train = pd.DataFrame(columns = ['criterion', 'splitter', 'min_samples_leaf', 'max_features', 'max_depth', 'n_jobs', 'random_state'])\n",
        "train = train.append({'criterion' : 'gini', 'splitter': 'best', 'min_samples_leaf': 1, 'max_features': 9, 'max_depth': None, 'random_state': 10}, ignore_index=True)\n",
        "train = train.append({'criterion' : 'entropy', 'splitter': 'best', 'min_samples_leaf': 1, 'max_features': 9, 'max_depth': None, 'random_state': 10}, ignore_index=True)\n",
        "train = train.append({'criterion' : 'gini', 'splitter': 'random', 'min_samples_leaf': 1, 'max_features': \"auto\", 'max_depth': None, 'random_state': 10}, ignore_index=True)\n",
        "train = train.append({'criterion' : 'entropy', 'splitter': 'random', 'min_samples_leaf': 1, 'max_features': \"auto\", 'max_depth': None, 'random_state': 10}, ignore_index=True)\n",
        "\n",
        "train = train.reset_index()\n",
        "for index, row in train.iterrows():\n",
        "    model_name = name + str(index)\n",
        "    tree_clf = DecisionTreeClassifier(criterion = row['criterion'], splitter = row['splitter'], max_depth = None, random_state = row['random_state'])\n",
        "    tree_clf.fit(X_train, y_train)\n",
        "    \n",
        "    y_true = y_val\n",
        "    y_pred = tree_clf.predict(X_val)\n",
        "    evaluation_results = evaluation_metrics(y_true, y_pred)\n",
        "\n",
        "    models = models.append({'model_name': model_name, \n",
        "                            'model': tree_clf, \n",
        "                            'parameters': tree_clf.get_params()}, \n",
        "                            ignore_index=True)\n",
        "    \n",
        "    models_eval = models_eval.append({'model_name': model_name, \n",
        "                                      'confusion_matrix' : evaluation_results[0], \n",
        "                                      'accuracy': evaluation_results[1], \n",
        "                                      'recall' : evaluation_results[2], \n",
        "                                      'f1_score': evaluation_results[3], \n",
        "                                      'roc_auc_score': evaluation_results[4]}, \n",
        "                                      ignore_index=True)"
      ]
    },
    {
      "cell_type": "code",
      "execution_count": null,
      "metadata": {
        "colab": {
          "background_save": true
        },
        "id": "YC01I-OZbZQU",
        "outputId": "fbbf7828-5a6b-4e8c-9131-a32c9bc00abd"
      },
      "outputs": [
        {
          "data": {
            "text/html": [
              "\n",
              "  <div id=\"df-cf6bf5c6-6c46-45ef-aa53-8463eaba1326\">\n",
              "    <div class=\"colab-df-container\">\n",
              "      <div>\n",
              "<style scoped>\n",
              "    .dataframe tbody tr th:only-of-type {\n",
              "        vertical-align: middle;\n",
              "    }\n",
              "\n",
              "    .dataframe tbody tr th {\n",
              "        vertical-align: top;\n",
              "    }\n",
              "\n",
              "    .dataframe thead th {\n",
              "        text-align: right;\n",
              "    }\n",
              "</style>\n",
              "<table border=\"1\" class=\"dataframe\">\n",
              "  <thead>\n",
              "    <tr style=\"text-align: right;\">\n",
              "      <th></th>\n",
              "      <th>model_name</th>\n",
              "      <th>confusion_matrix</th>\n",
              "      <th>accuracy</th>\n",
              "      <th>recall</th>\n",
              "      <th>f1_score</th>\n",
              "      <th>roc_auc_score</th>\n",
              "    </tr>\n",
              "  </thead>\n",
              "  <tbody>\n",
              "    <tr>\n",
              "      <th>0</th>\n",
              "      <td>log_clf0</td>\n",
              "      <td>[10970, 6098, 55, 67]</td>\n",
              "      <td>0.642059</td>\n",
              "      <td>0.549180</td>\n",
              "      <td>0.021314</td>\n",
              "      <td>0.595952</td>\n",
              "    </tr>\n",
              "    <tr>\n",
              "      <th>1</th>\n",
              "      <td>log_clf1</td>\n",
              "      <td>[10973, 6095, 56, 66]</td>\n",
              "      <td>0.642176</td>\n",
              "      <td>0.540984</td>\n",
              "      <td>0.021009</td>\n",
              "      <td>0.591941</td>\n",
              "    </tr>\n",
              "    <tr>\n",
              "      <th>2</th>\n",
              "      <td>svc_clf0</td>\n",
              "      <td>[9580, 7488, 27, 95]</td>\n",
              "      <td>0.562827</td>\n",
              "      <td>0.778689</td>\n",
              "      <td>0.024659</td>\n",
              "      <td>0.669986</td>\n",
              "    </tr>\n",
              "    <tr>\n",
              "      <th>3</th>\n",
              "      <td>svc_clf1</td>\n",
              "      <td>[9314, 7754, 33, 89]</td>\n",
              "      <td>0.547004</td>\n",
              "      <td>0.729508</td>\n",
              "      <td>0.022348</td>\n",
              "      <td>0.637604</td>\n",
              "    </tr>\n",
              "    <tr>\n",
              "      <th>4</th>\n",
              "      <td>svc_clf2</td>\n",
              "      <td>[9839, 7229, 39, 83]</td>\n",
              "      <td>0.577196</td>\n",
              "      <td>0.680328</td>\n",
              "      <td>0.022330</td>\n",
              "      <td>0.628393</td>\n",
              "    </tr>\n",
              "    <tr>\n",
              "      <th>5</th>\n",
              "      <td>svc_clf3</td>\n",
              "      <td>[10510, 6558, 26, 96]</td>\n",
              "      <td>0.616987</td>\n",
              "      <td>0.786885</td>\n",
              "      <td>0.028335</td>\n",
              "      <td>0.701329</td>\n",
              "    </tr>\n",
              "    <tr>\n",
              "      <th>6</th>\n",
              "      <td>svc_clf4</td>\n",
              "      <td>[10605, 6463, 26, 96]</td>\n",
              "      <td>0.622513</td>\n",
              "      <td>0.786885</td>\n",
              "      <td>0.028738</td>\n",
              "      <td>0.704112</td>\n",
              "    </tr>\n",
              "    <tr>\n",
              "      <th>7</th>\n",
              "      <td>svc_clf5</td>\n",
              "      <td>[10669, 6399, 25, 97]</td>\n",
              "      <td>0.626294</td>\n",
              "      <td>0.795082</td>\n",
              "      <td>0.029314</td>\n",
              "      <td>0.710085</td>\n",
              "    </tr>\n",
              "    <tr>\n",
              "      <th>8</th>\n",
              "      <td>svc_clf6</td>\n",
              "      <td>[10772, 6296, 26, 96]</td>\n",
              "      <td>0.632228</td>\n",
              "      <td>0.786885</td>\n",
              "      <td>0.029475</td>\n",
              "      <td>0.709004</td>\n",
              "    </tr>\n",
              "    <tr>\n",
              "      <th>9</th>\n",
              "      <td>bayes_clf0</td>\n",
              "      <td>[4988, 12080, 15, 107]</td>\n",
              "      <td>0.296393</td>\n",
              "      <td>0.877049</td>\n",
              "      <td>0.017386</td>\n",
              "      <td>0.584646</td>\n",
              "    </tr>\n",
              "    <tr>\n",
              "      <th>10</th>\n",
              "      <td>bayes_clf1</td>\n",
              "      <td>[7233, 9835, 22, 100]</td>\n",
              "      <td>0.426585</td>\n",
              "      <td>0.819672</td>\n",
              "      <td>0.019887</td>\n",
              "      <td>0.621724</td>\n",
              "    </tr>\n",
              "    <tr>\n",
              "      <th>11</th>\n",
              "      <td>bayes_clf2</td>\n",
              "      <td>[8598, 8470, 31, 91]</td>\n",
              "      <td>0.505468</td>\n",
              "      <td>0.745902</td>\n",
              "      <td>0.020960</td>\n",
              "      <td>0.624826</td>\n",
              "    </tr>\n",
              "    <tr>\n",
              "      <th>12</th>\n",
              "      <td>bayes_clf3</td>\n",
              "      <td>[8630, 8438, 31, 91]</td>\n",
              "      <td>0.507330</td>\n",
              "      <td>0.745902</td>\n",
              "      <td>0.021038</td>\n",
              "      <td>0.625763</td>\n",
              "    </tr>\n",
              "    <tr>\n",
              "      <th>13</th>\n",
              "      <td>bayes_clf4</td>\n",
              "      <td>[8631, 8437, 31, 91]</td>\n",
              "      <td>0.507388</td>\n",
              "      <td>0.745902</td>\n",
              "      <td>0.021040</td>\n",
              "      <td>0.625792</td>\n",
              "    </tr>\n",
              "    <tr>\n",
              "      <th>14</th>\n",
              "      <td>bayes_clf5</td>\n",
              "      <td>[8631, 8437, 31, 91]</td>\n",
              "      <td>0.507388</td>\n",
              "      <td>0.745902</td>\n",
              "      <td>0.021040</td>\n",
              "      <td>0.625792</td>\n",
              "    </tr>\n",
              "    <tr>\n",
              "      <th>15</th>\n",
              "      <td>bayes_clf6</td>\n",
              "      <td>[8631, 8437, 31, 91]</td>\n",
              "      <td>0.507388</td>\n",
              "      <td>0.745902</td>\n",
              "      <td>0.021040</td>\n",
              "      <td>0.625792</td>\n",
              "    </tr>\n",
              "    <tr>\n",
              "      <th>16</th>\n",
              "      <td>neigh_clf0</td>\n",
              "      <td>[16453, 615, 51, 71]</td>\n",
              "      <td>0.961257</td>\n",
              "      <td>0.581967</td>\n",
              "      <td>0.175743</td>\n",
              "      <td>0.772967</td>\n",
              "    </tr>\n",
              "    <tr>\n",
              "      <th>17</th>\n",
              "      <td>neigh_clf1</td>\n",
              "      <td>[16658, 410, 62, 60]</td>\n",
              "      <td>0.972542</td>\n",
              "      <td>0.491803</td>\n",
              "      <td>0.202703</td>\n",
              "      <td>0.733891</td>\n",
              "    </tr>\n",
              "    <tr>\n",
              "      <th>18</th>\n",
              "      <td>neigh_clf2</td>\n",
              "      <td>[16023, 1045, 36, 86]</td>\n",
              "      <td>0.937115</td>\n",
              "      <td>0.704918</td>\n",
              "      <td>0.137271</td>\n",
              "      <td>0.821846</td>\n",
              "    </tr>\n",
              "    <tr>\n",
              "      <th>19</th>\n",
              "      <td>tree_clf0</td>\n",
              "      <td>[16616, 452, 56, 66]</td>\n",
              "      <td>0.970448</td>\n",
              "      <td>0.540984</td>\n",
              "      <td>0.206250</td>\n",
              "      <td>0.757251</td>\n",
              "    </tr>\n",
              "    <tr>\n",
              "      <th>20</th>\n",
              "      <td>tree_clf1</td>\n",
              "      <td>[16623, 445, 56, 66]</td>\n",
              "      <td>0.970855</td>\n",
              "      <td>0.540984</td>\n",
              "      <td>0.208531</td>\n",
              "      <td>0.757456</td>\n",
              "    </tr>\n",
              "    <tr>\n",
              "      <th>21</th>\n",
              "      <td>tree_clf2</td>\n",
              "      <td>[16538, 530, 57, 65]</td>\n",
              "      <td>0.965852</td>\n",
              "      <td>0.532787</td>\n",
              "      <td>0.181311</td>\n",
              "      <td>0.750867</td>\n",
              "    </tr>\n",
              "    <tr>\n",
              "      <th>22</th>\n",
              "      <td>tree_clf3</td>\n",
              "      <td>[16567, 501, 56, 66]</td>\n",
              "      <td>0.967597</td>\n",
              "      <td>0.540984</td>\n",
              "      <td>0.191582</td>\n",
              "      <td>0.755815</td>\n",
              "    </tr>\n",
              "  </tbody>\n",
              "</table>\n",
              "</div>\n",
              "      <button class=\"colab-df-convert\" onclick=\"convertToInteractive('df-cf6bf5c6-6c46-45ef-aa53-8463eaba1326')\"\n",
              "              title=\"Convert this dataframe to an interactive table.\"\n",
              "              style=\"display:none;\">\n",
              "        \n",
              "  <svg xmlns=\"http://www.w3.org/2000/svg\" height=\"24px\"viewBox=\"0 0 24 24\"\n",
              "       width=\"24px\">\n",
              "    <path d=\"M0 0h24v24H0V0z\" fill=\"none\"/>\n",
              "    <path d=\"M18.56 5.44l.94 2.06.94-2.06 2.06-.94-2.06-.94-.94-2.06-.94 2.06-2.06.94zm-11 1L8.5 8.5l.94-2.06 2.06-.94-2.06-.94L8.5 2.5l-.94 2.06-2.06.94zm10 10l.94 2.06.94-2.06 2.06-.94-2.06-.94-.94-2.06-.94 2.06-2.06.94z\"/><path d=\"M17.41 7.96l-1.37-1.37c-.4-.4-.92-.59-1.43-.59-.52 0-1.04.2-1.43.59L10.3 9.45l-7.72 7.72c-.78.78-.78 2.05 0 2.83L4 21.41c.39.39.9.59 1.41.59.51 0 1.02-.2 1.41-.59l7.78-7.78 2.81-2.81c.8-.78.8-2.07 0-2.86zM5.41 20L4 18.59l7.72-7.72 1.47 1.35L5.41 20z\"/>\n",
              "  </svg>\n",
              "      </button>\n",
              "      \n",
              "  <style>\n",
              "    .colab-df-container {\n",
              "      display:flex;\n",
              "      flex-wrap:wrap;\n",
              "      gap: 12px;\n",
              "    }\n",
              "\n",
              "    .colab-df-convert {\n",
              "      background-color: #E8F0FE;\n",
              "      border: none;\n",
              "      border-radius: 50%;\n",
              "      cursor: pointer;\n",
              "      display: none;\n",
              "      fill: #1967D2;\n",
              "      height: 32px;\n",
              "      padding: 0 0 0 0;\n",
              "      width: 32px;\n",
              "    }\n",
              "\n",
              "    .colab-df-convert:hover {\n",
              "      background-color: #E2EBFA;\n",
              "      box-shadow: 0px 1px 2px rgba(60, 64, 67, 0.3), 0px 1px 3px 1px rgba(60, 64, 67, 0.15);\n",
              "      fill: #174EA6;\n",
              "    }\n",
              "\n",
              "    [theme=dark] .colab-df-convert {\n",
              "      background-color: #3B4455;\n",
              "      fill: #D2E3FC;\n",
              "    }\n",
              "\n",
              "    [theme=dark] .colab-df-convert:hover {\n",
              "      background-color: #434B5C;\n",
              "      box-shadow: 0px 1px 3px 1px rgba(0, 0, 0, 0.15);\n",
              "      filter: drop-shadow(0px 1px 2px rgba(0, 0, 0, 0.3));\n",
              "      fill: #FFFFFF;\n",
              "    }\n",
              "  </style>\n",
              "\n",
              "      <script>\n",
              "        const buttonEl =\n",
              "          document.querySelector('#df-cf6bf5c6-6c46-45ef-aa53-8463eaba1326 button.colab-df-convert');\n",
              "        buttonEl.style.display =\n",
              "          google.colab.kernel.accessAllowed ? 'block' : 'none';\n",
              "\n",
              "        async function convertToInteractive(key) {\n",
              "          const element = document.querySelector('#df-cf6bf5c6-6c46-45ef-aa53-8463eaba1326');\n",
              "          const dataTable =\n",
              "            await google.colab.kernel.invokeFunction('convertToInteractive',\n",
              "                                                     [key], {});\n",
              "          if (!dataTable) return;\n",
              "\n",
              "          const docLinkHtml = 'Like what you see? Visit the ' +\n",
              "            '<a target=\"_blank\" href=https://colab.research.google.com/notebooks/data_table.ipynb>data table notebook</a>'\n",
              "            + ' to learn more about interactive tables.';\n",
              "          element.innerHTML = '';\n",
              "          dataTable['output_type'] = 'display_data';\n",
              "          await google.colab.output.renderOutput(dataTable, element);\n",
              "          const docLink = document.createElement('div');\n",
              "          docLink.innerHTML = docLinkHtml;\n",
              "          element.appendChild(docLink);\n",
              "        }\n",
              "      </script>\n",
              "    </div>\n",
              "  </div>\n",
              "  "
            ],
            "text/plain": [
              "    model_name        confusion_matrix  accuracy    recall  f1_score  \\\n",
              "0     log_clf0   [10970, 6098, 55, 67]  0.642059  0.549180  0.021314   \n",
              "1     log_clf1   [10973, 6095, 56, 66]  0.642176  0.540984  0.021009   \n",
              "2     svc_clf0    [9580, 7488, 27, 95]  0.562827  0.778689  0.024659   \n",
              "3     svc_clf1    [9314, 7754, 33, 89]  0.547004  0.729508  0.022348   \n",
              "4     svc_clf2    [9839, 7229, 39, 83]  0.577196  0.680328  0.022330   \n",
              "5     svc_clf3   [10510, 6558, 26, 96]  0.616987  0.786885  0.028335   \n",
              "6     svc_clf4   [10605, 6463, 26, 96]  0.622513  0.786885  0.028738   \n",
              "7     svc_clf5   [10669, 6399, 25, 97]  0.626294  0.795082  0.029314   \n",
              "8     svc_clf6   [10772, 6296, 26, 96]  0.632228  0.786885  0.029475   \n",
              "9   bayes_clf0  [4988, 12080, 15, 107]  0.296393  0.877049  0.017386   \n",
              "10  bayes_clf1   [7233, 9835, 22, 100]  0.426585  0.819672  0.019887   \n",
              "11  bayes_clf2    [8598, 8470, 31, 91]  0.505468  0.745902  0.020960   \n",
              "12  bayes_clf3    [8630, 8438, 31, 91]  0.507330  0.745902  0.021038   \n",
              "13  bayes_clf4    [8631, 8437, 31, 91]  0.507388  0.745902  0.021040   \n",
              "14  bayes_clf5    [8631, 8437, 31, 91]  0.507388  0.745902  0.021040   \n",
              "15  bayes_clf6    [8631, 8437, 31, 91]  0.507388  0.745902  0.021040   \n",
              "16  neigh_clf0    [16453, 615, 51, 71]  0.961257  0.581967  0.175743   \n",
              "17  neigh_clf1    [16658, 410, 62, 60]  0.972542  0.491803  0.202703   \n",
              "18  neigh_clf2   [16023, 1045, 36, 86]  0.937115  0.704918  0.137271   \n",
              "19   tree_clf0    [16616, 452, 56, 66]  0.970448  0.540984  0.206250   \n",
              "20   tree_clf1    [16623, 445, 56, 66]  0.970855  0.540984  0.208531   \n",
              "21   tree_clf2    [16538, 530, 57, 65]  0.965852  0.532787  0.181311   \n",
              "22   tree_clf3    [16567, 501, 56, 66]  0.967597  0.540984  0.191582   \n",
              "\n",
              "    roc_auc_score  \n",
              "0        0.595952  \n",
              "1        0.591941  \n",
              "2        0.669986  \n",
              "3        0.637604  \n",
              "4        0.628393  \n",
              "5        0.701329  \n",
              "6        0.704112  \n",
              "7        0.710085  \n",
              "8        0.709004  \n",
              "9        0.584646  \n",
              "10       0.621724  \n",
              "11       0.624826  \n",
              "12       0.625763  \n",
              "13       0.625792  \n",
              "14       0.625792  \n",
              "15       0.625792  \n",
              "16       0.772967  \n",
              "17       0.733891  \n",
              "18       0.821846  \n",
              "19       0.757251  \n",
              "20       0.757456  \n",
              "21       0.750867  \n",
              "22       0.755815  "
            ]
          },
          "metadata": {},
          "output_type": "display_data"
        }
      ],
      "source": [
        "display(models_eval)"
      ]
    },
    {
      "cell_type": "code",
      "execution_count": null,
      "metadata": {
        "colab": {
          "background_save": true
        },
        "id": "HuK06hK8bZ_r",
        "outputId": "fc246159-ba11-435e-be6c-00200d618533"
      },
      "outputs": [
        {
          "name": "stdout",
          "output_type": "stream",
          "text": [
            "Fitting 3 folds for each of 100 candidates, totalling 300 fits\n",
            "[CV 1/3] END criterion=entropy, max_depth=3, max_features=1, min_samples_leaf=1, splitter=best;, score=0.729 total time=   0.2s\n",
            "[CV 2/3] END criterion=entropy, max_depth=3, max_features=1, min_samples_leaf=1, splitter=best;, score=0.738 total time=   0.2s\n",
            "[CV 3/3] END criterion=entropy, max_depth=3, max_features=1, min_samples_leaf=1, splitter=best;, score=0.742 total time=   0.2s\n",
            "[CV 1/3] END criterion=log_loss, max_depth=5, max_features=2, min_samples_leaf=3, splitter=random;, score=0.696 total time=   0.1s\n",
            "[CV 2/3] END criterion=log_loss, max_depth=5, max_features=2, min_samples_leaf=3, splitter=random;, score=0.683 total time=   0.1s\n",
            "[CV 3/3] END criterion=log_loss, max_depth=5, max_features=2, min_samples_leaf=3, splitter=random;, score=0.586 total time=   0.1s\n",
            "[CV 1/3] END criterion=log_loss, max_depth=5, max_features=2, min_samples_leaf=1, splitter=random;, score=0.696 total time=   0.1s\n",
            "[CV 2/3] END criterion=log_loss, max_depth=5, max_features=2, min_samples_leaf=1, splitter=random;, score=0.683 total time=   0.1s\n",
            "[CV 3/3] END criterion=log_loss, max_depth=5, max_features=2, min_samples_leaf=1, splitter=random;, score=0.586 total time=   0.1s\n",
            "[CV 1/3] END criterion=gini, max_depth=15, max_features=3, min_samples_leaf=4, splitter=best;, score=0.978 total time=   1.1s\n",
            "[CV 2/3] END criterion=gini, max_depth=15, max_features=3, min_samples_leaf=4, splitter=best;, score=0.968 total time=   1.3s\n",
            "[CV 3/3] END criterion=gini, max_depth=15, max_features=3, min_samples_leaf=4, splitter=best;, score=0.951 total time=   1.3s\n",
            "[CV 1/3] END criterion=entropy, max_depth=3, max_features=2, min_samples_leaf=4, splitter=best;, score=0.837 total time=   0.4s\n",
            "[CV 2/3] END criterion=entropy, max_depth=3, max_features=2, min_samples_leaf=4, splitter=best;, score=0.836 total time=   0.4s\n",
            "[CV 3/3] END criterion=entropy, max_depth=3, max_features=2, min_samples_leaf=4, splitter=best;, score=0.838 total time=   0.4s\n",
            "[CV 1/3] END criterion=log_loss, max_depth=3, max_features=3, min_samples_leaf=2, splitter=best;, score=0.726 total time=   0.6s\n",
            "[CV 2/3] END criterion=log_loss, max_depth=3, max_features=3, min_samples_leaf=2, splitter=best;, score=0.728 total time=   0.4s\n",
            "[CV 3/3] END criterion=log_loss, max_depth=3, max_features=3, min_samples_leaf=2, splitter=best;, score=0.727 total time=   0.3s\n",
            "[CV 1/3] END criterion=log_loss, max_depth=10, max_features=2, min_samples_leaf=3, splitter=random;, score=0.758 total time=   0.1s\n",
            "[CV 2/3] END criterion=log_loss, max_depth=10, max_features=2, min_samples_leaf=3, splitter=random;, score=0.804 total time=   0.1s\n",
            "[CV 3/3] END criterion=log_loss, max_depth=10, max_features=2, min_samples_leaf=3, splitter=random;, score=0.706 total time=   0.1s\n",
            "[CV 1/3] END criterion=gini, max_depth=3, max_features=2, min_samples_leaf=2, splitter=best;, score=0.837 total time=   0.2s\n",
            "[CV 2/3] END criterion=gini, max_depth=3, max_features=2, min_samples_leaf=2, splitter=best;, score=0.836 total time=   0.2s\n",
            "[CV 3/3] END criterion=gini, max_depth=3, max_features=2, min_samples_leaf=2, splitter=best;, score=0.838 total time=   0.2s\n",
            "[CV 1/3] END criterion=gini, max_depth=10, max_features=4, min_samples_leaf=3, splitter=best;, score=0.881 total time=   0.9s\n",
            "[CV 2/3] END criterion=gini, max_depth=10, max_features=4, min_samples_leaf=3, splitter=best;, score=0.893 total time=   0.9s\n",
            "[CV 3/3] END criterion=gini, max_depth=10, max_features=4, min_samples_leaf=3, splitter=best;, score=0.881 total time=   0.9s\n",
            "[CV 1/3] END criterion=gini, max_depth=1, max_features=4, min_samples_leaf=2, splitter=best;, score=0.918 total time=   0.2s\n",
            "[CV 2/3] END criterion=gini, max_depth=1, max_features=4, min_samples_leaf=2, splitter=best;, score=0.916 total time=   0.2s\n",
            "[CV 3/3] END criterion=gini, max_depth=1, max_features=4, min_samples_leaf=2, splitter=best;, score=0.919 total time=   0.2s\n",
            "[CV 1/3] END criterion=entropy, max_depth=8, max_features=3, min_samples_leaf=4, splitter=best;, score=0.807 total time=   0.7s\n",
            "[CV 2/3] END criterion=entropy, max_depth=8, max_features=3, min_samples_leaf=4, splitter=best;, score=0.879 total time=   0.7s\n",
            "[CV 3/3] END criterion=entropy, max_depth=8, max_features=3, min_samples_leaf=4, splitter=best;, score=0.912 total time=   0.7s\n",
            "[CV 1/3] END criterion=entropy, max_depth=3, max_features=4, min_samples_leaf=3, splitter=best;, score=0.726 total time=   0.4s\n",
            "[CV 2/3] END criterion=entropy, max_depth=3, max_features=4, min_samples_leaf=3, splitter=best;, score=0.728 total time=   0.4s\n",
            "[CV 3/3] END criterion=entropy, max_depth=3, max_features=4, min_samples_leaf=3, splitter=best;, score=0.727 total time=   0.4s\n",
            "[CV 1/3] END criterion=gini, max_depth=15, max_features=3, min_samples_leaf=1, splitter=random;, score=0.861 total time=   0.2s\n",
            "[CV 2/3] END criterion=gini, max_depth=15, max_features=3, min_samples_leaf=1, splitter=random;, score=0.861 total time=   0.2s\n",
            "[CV 3/3] END criterion=gini, max_depth=15, max_features=3, min_samples_leaf=1, splitter=random;, score=0.850 total time=   0.2s\n",
            "[CV 1/3] END criterion=entropy, max_depth=5, max_features=3, min_samples_leaf=4, splitter=best;, score=0.855 total time=   0.5s\n",
            "[CV 2/3] END criterion=entropy, max_depth=5, max_features=3, min_samples_leaf=4, splitter=best;, score=0.681 total time=   0.5s\n",
            "[CV 3/3] END criterion=entropy, max_depth=5, max_features=3, min_samples_leaf=4, splitter=best;, score=0.854 total time=   0.8s\n",
            "[CV 1/3] END criterion=gini, max_depth=15, max_features=4, min_samples_leaf=4, splitter=random;, score=0.878 total time=   0.4s\n",
            "[CV 2/3] END criterion=gini, max_depth=15, max_features=4, min_samples_leaf=4, splitter=random;, score=0.861 total time=   0.4s\n",
            "[CV 3/3] END criterion=gini, max_depth=15, max_features=4, min_samples_leaf=4, splitter=random;, score=0.874 total time=   0.4s\n",
            "[CV 1/3] END criterion=log_loss, max_depth=1, max_features=1, min_samples_leaf=1, splitter=best;, score=0.583 total time=   0.2s\n",
            "[CV 2/3] END criterion=log_loss, max_depth=1, max_features=1, min_samples_leaf=1, splitter=best;, score=0.607 total time=   0.1s\n",
            "[CV 3/3] END criterion=log_loss, max_depth=1, max_features=1, min_samples_leaf=1, splitter=best;, score=0.611 total time=   0.2s\n",
            "[CV 1/3] END criterion=log_loss, max_depth=10, max_features=1, min_samples_leaf=1, splitter=random;, score=0.659 total time=   0.2s\n",
            "[CV 2/3] END criterion=log_loss, max_depth=10, max_features=1, min_samples_leaf=1, splitter=random;, score=0.666 total time=   0.2s\n",
            "[CV 3/3] END criterion=log_loss, max_depth=10, max_features=1, min_samples_leaf=1, splitter=random;, score=0.567 total time=   0.1s\n",
            "[CV 1/3] END criterion=entropy, max_depth=1, max_features=1, min_samples_leaf=3, splitter=random;, score=0.823 total time=   0.1s\n",
            "[CV 2/3] END criterion=entropy, max_depth=1, max_features=1, min_samples_leaf=3, splitter=random;, score=0.846 total time=   0.1s\n",
            "[CV 3/3] END criterion=entropy, max_depth=1, max_features=1, min_samples_leaf=3, splitter=random;, score=0.842 total time=   0.1s\n",
            "[CV 1/3] END criterion=entropy, max_depth=None, max_features=2, min_samples_leaf=2, splitter=random;, score=0.973 total time=   0.4s\n",
            "[CV 2/3] END criterion=entropy, max_depth=None, max_features=2, min_samples_leaf=2, splitter=random;, score=0.973 total time=   0.4s\n",
            "[CV 3/3] END criterion=entropy, max_depth=None, max_features=2, min_samples_leaf=2, splitter=random;, score=0.974 total time=   0.3s\n",
            "[CV 1/3] END criterion=log_loss, max_depth=5, max_features=3, min_samples_leaf=2, splitter=best;, score=0.855 total time=   0.8s\n",
            "[CV 2/3] END criterion=log_loss, max_depth=5, max_features=3, min_samples_leaf=2, splitter=best;, score=0.681 total time=   0.5s\n",
            "[CV 3/3] END criterion=log_loss, max_depth=5, max_features=3, min_samples_leaf=2, splitter=best;, score=0.854 total time=   0.5s\n",
            "[CV 1/3] END criterion=entropy, max_depth=1, max_features=4, min_samples_leaf=4, splitter=random;, score=0.340 total time=   0.1s\n",
            "[CV 2/3] END criterion=entropy, max_depth=1, max_features=4, min_samples_leaf=4, splitter=random;, score=0.154 total time=   0.1s\n",
            "[CV 3/3] END criterion=entropy, max_depth=1, max_features=4, min_samples_leaf=4, splitter=random;, score=0.329 total time=   0.1s\n",
            "[CV 1/3] END criterion=gini, max_depth=None, max_features=4, min_samples_leaf=2, splitter=random;, score=0.970 total time=   0.3s\n",
            "[CV 2/3] END criterion=gini, max_depth=None, max_features=4, min_samples_leaf=2, splitter=random;, score=0.974 total time=   0.3s\n",
            "[CV 3/3] END criterion=gini, max_depth=None, max_features=4, min_samples_leaf=2, splitter=random;, score=0.976 total time=   0.3s\n",
            "[CV 1/3] END criterion=log_loss, max_depth=None, max_features=1, min_samples_leaf=4, splitter=best;, score=0.971 total time=   0.5s\n",
            "[CV 2/3] END criterion=log_loss, max_depth=None, max_features=1, min_samples_leaf=4, splitter=best;, score=0.970 total time=   0.5s\n",
            "[CV 3/3] END criterion=log_loss, max_depth=None, max_features=1, min_samples_leaf=4, splitter=best;, score=0.969 total time=   0.5s\n",
            "[CV 1/3] END criterion=gini, max_depth=3, max_features=2, min_samples_leaf=3, splitter=best;, score=0.837 total time=   0.2s\n",
            "[CV 2/3] END criterion=gini, max_depth=3, max_features=2, min_samples_leaf=3, splitter=best;, score=0.836 total time=   0.2s\n",
            "[CV 3/3] END criterion=gini, max_depth=3, max_features=2, min_samples_leaf=3, splitter=best;, score=0.838 total time=   0.2s\n",
            "[CV 1/3] END criterion=entropy, max_depth=1, max_features=2, min_samples_leaf=2, splitter=best;, score=0.919 total time=   0.1s\n",
            "[CV 2/3] END criterion=entropy, max_depth=1, max_features=2, min_samples_leaf=2, splitter=best;, score=0.918 total time=   0.1s\n",
            "[CV 3/3] END criterion=entropy, max_depth=1, max_features=2, min_samples_leaf=2, splitter=best;, score=0.920 total time=   0.1s\n",
            "[CV 1/3] END criterion=log_loss, max_depth=5, max_features=1, min_samples_leaf=1, splitter=best;, score=0.708 total time=   0.3s\n",
            "[CV 2/3] END criterion=log_loss, max_depth=5, max_features=1, min_samples_leaf=1, splitter=best;, score=0.737 total time=   0.2s\n",
            "[CV 3/3] END criterion=log_loss, max_depth=5, max_features=1, min_samples_leaf=1, splitter=best;, score=0.880 total time=   0.2s\n",
            "[CV 1/3] END criterion=entropy, max_depth=5, max_features=1, min_samples_leaf=4, splitter=best;, score=0.708 total time=   0.2s\n",
            "[CV 2/3] END criterion=entropy, max_depth=5, max_features=1, min_samples_leaf=4, splitter=best;, score=0.737 total time=   0.2s\n",
            "[CV 3/3] END criterion=entropy, max_depth=5, max_features=1, min_samples_leaf=4, splitter=best;, score=0.880 total time=   0.2s\n",
            "[CV 1/3] END criterion=gini, max_depth=10, max_features=4, min_samples_leaf=1, splitter=random;, score=0.745 total time=   0.2s\n",
            "[CV 2/3] END criterion=gini, max_depth=10, max_features=4, min_samples_leaf=1, splitter=random;, score=0.764 total time=   0.2s\n",
            "[CV 3/3] END criterion=gini, max_depth=10, max_features=4, min_samples_leaf=1, splitter=random;, score=0.792 total time=   0.2s\n",
            "[CV 1/3] END criterion=gini, max_depth=15, max_features=2, min_samples_leaf=2, splitter=best;, score=0.960 total time=   0.6s\n",
            "[CV 2/3] END criterion=gini, max_depth=15, max_features=2, min_samples_leaf=2, splitter=best;, score=0.954 total time=   0.6s\n",
            "[CV 3/3] END criterion=gini, max_depth=15, max_features=2, min_samples_leaf=2, splitter=best;, score=0.936 total time=   0.6s\n",
            "[CV 1/3] END criterion=gini, max_depth=3, max_features=1, min_samples_leaf=2, splitter=best;, score=0.729 total time=   0.2s\n",
            "[CV 2/3] END criterion=gini, max_depth=3, max_features=1, min_samples_leaf=2, splitter=best;, score=0.738 total time=   0.2s\n",
            "[CV 3/3] END criterion=gini, max_depth=3, max_features=1, min_samples_leaf=2, splitter=best;, score=0.742 total time=   0.2s\n",
            "[CV 1/3] END criterion=entropy, max_depth=3, max_features=3, min_samples_leaf=3, splitter=random;, score=0.823 total time=   0.1s\n",
            "[CV 2/3] END criterion=entropy, max_depth=3, max_features=3, min_samples_leaf=3, splitter=random;, score=0.679 total time=   0.1s\n",
            "[CV 3/3] END criterion=entropy, max_depth=3, max_features=3, min_samples_leaf=3, splitter=random;, score=0.684 total time=   0.1s\n",
            "[CV 1/3] END criterion=gini, max_depth=1, max_features=2, min_samples_leaf=3, splitter=random;, score=0.823 total time=   0.1s\n",
            "[CV 2/3] END criterion=gini, max_depth=1, max_features=2, min_samples_leaf=3, splitter=random;, score=0.846 total time=   0.1s\n",
            "[CV 3/3] END criterion=gini, max_depth=1, max_features=2, min_samples_leaf=3, splitter=random;, score=0.842 total time=   0.1s\n",
            "[CV 1/3] END criterion=entropy, max_depth=3, max_features=1, min_samples_leaf=3, splitter=best;, score=0.729 total time=   0.2s\n",
            "[CV 2/3] END criterion=entropy, max_depth=3, max_features=1, min_samples_leaf=3, splitter=best;, score=0.738 total time=   0.2s\n",
            "[CV 3/3] END criterion=entropy, max_depth=3, max_features=1, min_samples_leaf=3, splitter=best;, score=0.742 total time=   0.2s\n",
            "[CV 1/3] END criterion=entropy, max_depth=3, max_features=1, min_samples_leaf=4, splitter=random;, score=0.786 total time=   0.1s\n",
            "[CV 2/3] END criterion=entropy, max_depth=3, max_features=1, min_samples_leaf=4, splitter=random;, score=0.846 total time=   0.1s\n",
            "[CV 3/3] END criterion=entropy, max_depth=3, max_features=1, min_samples_leaf=4, splitter=random;, score=0.842 total time=   0.1s\n",
            "[CV 1/3] END criterion=gini, max_depth=5, max_features=4, min_samples_leaf=3, splitter=random;, score=0.807 total time=   0.2s\n",
            "[CV 2/3] END criterion=gini, max_depth=5, max_features=4, min_samples_leaf=3, splitter=random;, score=0.652 total time=   0.2s\n",
            "[CV 3/3] END criterion=gini, max_depth=5, max_features=4, min_samples_leaf=3, splitter=random;, score=0.759 total time=   0.2s\n",
            "[CV 1/3] END criterion=gini, max_depth=None, max_features=1, min_samples_leaf=3, splitter=best;, score=0.974 total time=   0.7s\n",
            "[CV 2/3] END criterion=gini, max_depth=None, max_features=1, min_samples_leaf=3, splitter=best;, score=0.971 total time=   0.7s\n",
            "[CV 3/3] END criterion=gini, max_depth=None, max_features=1, min_samples_leaf=3, splitter=best;, score=0.973 total time=   0.6s\n",
            "[CV 1/3] END criterion=log_loss, max_depth=1, max_features=4, min_samples_leaf=3, splitter=best;, score=0.918 total time=   0.3s\n",
            "[CV 2/3] END criterion=log_loss, max_depth=1, max_features=4, min_samples_leaf=3, splitter=best;, score=0.916 total time=   0.3s\n",
            "[CV 3/3] END criterion=log_loss, max_depth=1, max_features=4, min_samples_leaf=3, splitter=best;, score=0.919 total time=   0.3s\n",
            "[CV 1/3] END criterion=gini, max_depth=10, max_features=1, min_samples_leaf=2, splitter=best;, score=0.872 total time=   0.5s\n",
            "[CV 2/3] END criterion=gini, max_depth=10, max_features=1, min_samples_leaf=2, splitter=best;, score=0.837 total time=   0.5s\n",
            "[CV 3/3] END criterion=gini, max_depth=10, max_features=1, min_samples_leaf=2, splitter=best;, score=0.839 total time=   0.6s\n",
            "[CV 1/3] END criterion=gini, max_depth=5, max_features=1, min_samples_leaf=1, splitter=random;, score=0.788 total time=   0.1s\n",
            "[CV 2/3] END criterion=gini, max_depth=5, max_features=1, min_samples_leaf=1, splitter=random;, score=0.872 total time=   0.1s\n",
            "[CV 3/3] END criterion=gini, max_depth=5, max_features=1, min_samples_leaf=1, splitter=random;, score=0.917 total time=   0.1s\n",
            "[CV 1/3] END criterion=entropy, max_depth=5, max_features=2, min_samples_leaf=2, splitter=best;, score=0.652 total time=   0.3s\n",
            "[CV 2/3] END criterion=entropy, max_depth=5, max_features=2, min_samples_leaf=2, splitter=best;, score=0.655 total time=   0.4s\n",
            "[CV 3/3] END criterion=entropy, max_depth=5, max_features=2, min_samples_leaf=2, splitter=best;, score=0.874 total time=   0.4s\n",
            "[CV 1/3] END criterion=gini, max_depth=15, max_features=4, min_samples_leaf=4, splitter=best;, score=0.974 total time=   1.0s\n",
            "[CV 2/3] END criterion=gini, max_depth=15, max_features=4, min_samples_leaf=4, splitter=best;, score=0.963 total time=   1.0s\n",
            "[CV 3/3] END criterion=gini, max_depth=15, max_features=4, min_samples_leaf=4, splitter=best;, score=0.976 total time=   1.0s\n",
            "[CV 1/3] END criterion=entropy, max_depth=10, max_features=4, min_samples_leaf=1, splitter=best;, score=0.849 total time=   1.0s\n",
            "[CV 2/3] END criterion=entropy, max_depth=10, max_features=4, min_samples_leaf=1, splitter=best;, score=0.864 total time=   1.0s\n",
            "[CV 3/3] END criterion=entropy, max_depth=10, max_features=4, min_samples_leaf=1, splitter=best;, score=0.867 total time=   1.0s\n",
            "[CV 1/3] END criterion=log_loss, max_depth=10, max_features=1, min_samples_leaf=2, splitter=random;, score=0.659 total time=   0.1s\n",
            "[CV 2/3] END criterion=log_loss, max_depth=10, max_features=1, min_samples_leaf=2, splitter=random;, score=0.848 total time=   0.1s\n",
            "[CV 3/3] END criterion=log_loss, max_depth=10, max_features=1, min_samples_leaf=2, splitter=random;, score=0.844 total time=   0.1s\n",
            "[CV 1/3] END criterion=gini, max_depth=15, max_features=1, min_samples_leaf=1, splitter=best;, score=0.940 total time=   0.4s\n",
            "[CV 2/3] END criterion=gini, max_depth=15, max_features=1, min_samples_leaf=1, splitter=best;, score=0.939 total time=   0.4s\n",
            "[CV 3/3] END criterion=gini, max_depth=15, max_features=1, min_samples_leaf=1, splitter=best;, score=0.916 total time=   0.4s\n",
            "[CV 1/3] END criterion=entropy, max_depth=1, max_features=2, min_samples_leaf=3, splitter=best;, score=0.919 total time=   0.1s\n",
            "[CV 2/3] END criterion=entropy, max_depth=1, max_features=2, min_samples_leaf=3, splitter=best;, score=0.918 total time=   0.1s\n",
            "[CV 3/3] END criterion=entropy, max_depth=1, max_features=2, min_samples_leaf=3, splitter=best;, score=0.920 total time=   0.1s\n",
            "[CV 1/3] END criterion=log_loss, max_depth=8, max_features=3, min_samples_leaf=1, splitter=random;, score=0.747 total time=   0.1s\n",
            "[CV 2/3] END criterion=log_loss, max_depth=8, max_features=3, min_samples_leaf=1, splitter=random;, score=0.701 total time=   0.1s\n",
            "[CV 3/3] END criterion=log_loss, max_depth=8, max_features=3, min_samples_leaf=1, splitter=random;, score=0.667 total time=   0.1s\n",
            "[CV 1/3] END criterion=entropy, max_depth=5, max_features=2, min_samples_leaf=4, splitter=best;, score=0.652 total time=   0.3s\n",
            "[CV 2/3] END criterion=entropy, max_depth=5, max_features=2, min_samples_leaf=4, splitter=best;, score=0.655 total time=   0.4s\n",
            "[CV 3/3] END criterion=entropy, max_depth=5, max_features=2, min_samples_leaf=4, splitter=best;, score=0.874 total time=   0.6s\n",
            "[CV 1/3] END criterion=gini, max_depth=3, max_features=4, min_samples_leaf=1, splitter=best;, score=0.726 total time=   0.5s\n",
            "[CV 2/3] END criterion=gini, max_depth=3, max_features=4, min_samples_leaf=1, splitter=best;, score=0.728 total time=   0.5s\n",
            "[CV 3/3] END criterion=gini, max_depth=3, max_features=4, min_samples_leaf=1, splitter=best;, score=0.727 total time=   0.5s\n",
            "[CV 1/3] END criterion=entropy, max_depth=1, max_features=3, min_samples_leaf=1, splitter=random;, score=0.823 total time=   0.1s\n",
            "[CV 2/3] END criterion=entropy, max_depth=1, max_features=3, min_samples_leaf=1, splitter=random;, score=0.154 total time=   0.1s\n",
            "[CV 3/3] END criterion=entropy, max_depth=1, max_features=3, min_samples_leaf=1, splitter=random;, score=0.151 total time=   0.1s\n",
            "[CV 1/3] END criterion=entropy, max_depth=15, max_features=4, min_samples_leaf=2, splitter=random;, score=0.853 total time=   0.3s\n",
            "[CV 2/3] END criterion=entropy, max_depth=15, max_features=4, min_samples_leaf=2, splitter=random;, score=0.878 total time=   0.4s\n",
            "[CV 3/3] END criterion=entropy, max_depth=15, max_features=4, min_samples_leaf=2, splitter=random;, score=0.891 total time=   0.3s\n",
            "[CV 1/3] END criterion=entropy, max_depth=10, max_features=3, min_samples_leaf=3, splitter=random;, score=0.767 total time=   0.2s\n",
            "[CV 2/3] END criterion=entropy, max_depth=10, max_features=3, min_samples_leaf=3, splitter=random;, score=0.715 total time=   0.3s\n",
            "[CV 3/3] END criterion=entropy, max_depth=10, max_features=3, min_samples_leaf=3, splitter=random;, score=0.744 total time=   0.2s\n",
            "[CV 1/3] END criterion=entropy, max_depth=None, max_features=3, min_samples_leaf=2, splitter=best;, score=0.982 total time=   1.3s\n",
            "[CV 2/3] END criterion=entropy, max_depth=None, max_features=3, min_samples_leaf=2, splitter=best;, score=0.981 total time=   1.0s\n",
            "[CV 3/3] END criterion=entropy, max_depth=None, max_features=3, min_samples_leaf=2, splitter=best;, score=0.982 total time=   1.0s\n",
            "[CV 1/3] END criterion=entropy, max_depth=3, max_features=3, min_samples_leaf=1, splitter=random;, score=0.823 total time=   0.1s\n",
            "[CV 2/3] END criterion=entropy, max_depth=3, max_features=3, min_samples_leaf=1, splitter=random;, score=0.679 total time=   0.1s\n",
            "[CV 3/3] END criterion=entropy, max_depth=3, max_features=3, min_samples_leaf=1, splitter=random;, score=0.684 total time=   0.1s\n",
            "[CV 1/3] END criterion=log_loss, max_depth=3, max_features=2, min_samples_leaf=3, splitter=random;, score=0.259 total time=   0.1s\n",
            "[CV 2/3] END criterion=log_loss, max_depth=3, max_features=2, min_samples_leaf=3, splitter=random;, score=0.844 total time=   0.1s\n",
            "[CV 3/3] END criterion=log_loss, max_depth=3, max_features=2, min_samples_leaf=3, splitter=random;, score=0.840 total time=   0.1s\n",
            "[CV 1/3] END criterion=entropy, max_depth=1, max_features=1, min_samples_leaf=3, splitter=best;, score=0.583 total time=   0.1s\n",
            "[CV 2/3] END criterion=entropy, max_depth=1, max_features=1, min_samples_leaf=3, splitter=best;, score=0.607 total time=   0.1s\n",
            "[CV 3/3] END criterion=entropy, max_depth=1, max_features=1, min_samples_leaf=3, splitter=best;, score=0.611 total time=   0.1s\n",
            "[CV 1/3] END criterion=gini, max_depth=3, max_features=3, min_samples_leaf=3, splitter=random;, score=0.823 total time=   0.1s\n",
            "[CV 2/3] END criterion=gini, max_depth=3, max_features=3, min_samples_leaf=3, splitter=random;, score=0.679 total time=   0.1s\n",
            "[CV 3/3] END criterion=gini, max_depth=3, max_features=3, min_samples_leaf=3, splitter=random;, score=0.684 total time=   0.1s\n",
            "[CV 1/3] END criterion=gini, max_depth=15, max_features=1, min_samples_leaf=2, splitter=best;, score=0.952 total time=   0.4s\n",
            "[CV 2/3] END criterion=gini, max_depth=15, max_features=1, min_samples_leaf=2, splitter=best;, score=0.947 total time=   0.4s\n",
            "[CV 3/3] END criterion=gini, max_depth=15, max_features=1, min_samples_leaf=2, splitter=best;, score=0.931 total time=   0.4s\n",
            "[CV 1/3] END criterion=gini, max_depth=None, max_features=4, min_samples_leaf=4, splitter=best;, score=0.979 total time=   1.1s\n",
            "[CV 2/3] END criterion=gini, max_depth=None, max_features=4, min_samples_leaf=4, splitter=best;, score=0.979 total time=   1.1s\n",
            "[CV 3/3] END criterion=gini, max_depth=None, max_features=4, min_samples_leaf=4, splitter=best;, score=0.979 total time=   1.1s\n",
            "[CV 1/3] END criterion=gini, max_depth=1, max_features=1, min_samples_leaf=4, splitter=best;, score=0.583 total time=   0.1s\n",
            "[CV 2/3] END criterion=gini, max_depth=1, max_features=1, min_samples_leaf=4, splitter=best;, score=0.607 total time=   0.1s\n",
            "[CV 3/3] END criterion=gini, max_depth=1, max_features=1, min_samples_leaf=4, splitter=best;, score=0.611 total time=   0.1s\n",
            "[CV 1/3] END criterion=log_loss, max_depth=1, max_features=2, min_samples_leaf=3, splitter=random;, score=0.823 total time=   0.1s\n",
            "[CV 2/3] END criterion=log_loss, max_depth=1, max_features=2, min_samples_leaf=3, splitter=random;, score=0.846 total time=   0.1s\n",
            "[CV 3/3] END criterion=log_loss, max_depth=1, max_features=2, min_samples_leaf=3, splitter=random;, score=0.842 total time=   0.1s\n",
            "[CV 1/3] END criterion=entropy, max_depth=8, max_features=2, min_samples_leaf=3, splitter=best;, score=0.792 total time=   0.5s\n",
            "[CV 2/3] END criterion=entropy, max_depth=8, max_features=2, min_samples_leaf=3, splitter=best;, score=0.733 total time=   0.5s\n",
            "[CV 3/3] END criterion=entropy, max_depth=8, max_features=2, min_samples_leaf=3, splitter=best;, score=0.819 total time=   0.5s\n",
            "[CV 1/3] END criterion=log_loss, max_depth=5, max_features=1, min_samples_leaf=4, splitter=random;, score=0.788 total time=   0.1s\n",
            "[CV 2/3] END criterion=log_loss, max_depth=5, max_features=1, min_samples_leaf=4, splitter=random;, score=0.846 total time=   0.1s\n",
            "[CV 3/3] END criterion=log_loss, max_depth=5, max_features=1, min_samples_leaf=4, splitter=random;, score=0.842 total time=   0.1s\n",
            "[CV 1/3] END criterion=gini, max_depth=15, max_features=2, min_samples_leaf=3, splitter=best;, score=0.922 total time=   0.9s\n",
            "[CV 2/3] END criterion=gini, max_depth=15, max_features=2, min_samples_leaf=3, splitter=best;, score=0.963 total time=   0.9s\n",
            "[CV 3/3] END criterion=gini, max_depth=15, max_features=2, min_samples_leaf=3, splitter=best;, score=0.917 total time=   1.0s\n",
            "[CV 1/3] END criterion=log_loss, max_depth=3, max_features=3, min_samples_leaf=3, splitter=best;, score=0.726 total time=   0.5s\n",
            "[CV 2/3] END criterion=log_loss, max_depth=3, max_features=3, min_samples_leaf=3, splitter=best;, score=0.728 total time=   0.5s\n",
            "[CV 3/3] END criterion=log_loss, max_depth=3, max_features=3, min_samples_leaf=3, splitter=best;, score=0.727 total time=   0.6s\n",
            "[CV 1/3] END criterion=gini, max_depth=15, max_features=2, min_samples_leaf=4, splitter=best;, score=0.947 total time=   0.6s\n",
            "[CV 2/3] END criterion=gini, max_depth=15, max_features=2, min_samples_leaf=4, splitter=best;, score=0.948 total time=   0.6s\n",
            "[CV 3/3] END criterion=gini, max_depth=15, max_features=2, min_samples_leaf=4, splitter=best;, score=0.934 total time=   0.6s\n",
            "[CV 1/3] END criterion=gini, max_depth=10, max_features=2, min_samples_leaf=4, splitter=random;, score=0.780 total time=   0.1s\n",
            "[CV 2/3] END criterion=gini, max_depth=10, max_features=2, min_samples_leaf=4, splitter=random;, score=0.821 total time=   0.1s\n",
            "[CV 3/3] END criterion=gini, max_depth=10, max_features=2, min_samples_leaf=4, splitter=random;, score=0.706 total time=   0.1s\n",
            "[CV 1/3] END criterion=gini, max_depth=None, max_features=1, min_samples_leaf=1, splitter=best;, score=0.981 total time=   0.4s\n",
            "[CV 2/3] END criterion=gini, max_depth=None, max_features=1, min_samples_leaf=1, splitter=best;, score=0.979 total time=   0.4s\n",
            "[CV 3/3] END criterion=gini, max_depth=None, max_features=1, min_samples_leaf=1, splitter=best;, score=0.982 total time=   0.4s\n",
            "[CV 1/3] END criterion=log_loss, max_depth=15, max_features=4, min_samples_leaf=4, splitter=random;, score=0.890 total time=   0.2s\n",
            "[CV 2/3] END criterion=log_loss, max_depth=15, max_features=4, min_samples_leaf=4, splitter=random;, score=0.873 total time=   0.2s\n",
            "[CV 3/3] END criterion=log_loss, max_depth=15, max_features=4, min_samples_leaf=4, splitter=random;, score=0.902 total time=   0.2s\n",
            "[CV 1/3] END criterion=log_loss, max_depth=None, max_features=3, min_samples_leaf=1, splitter=random;, score=0.985 total time=   0.2s\n",
            "[CV 2/3] END criterion=log_loss, max_depth=None, max_features=3, min_samples_leaf=1, splitter=random;, score=0.985 total time=   0.3s\n",
            "[CV 3/3] END criterion=log_loss, max_depth=None, max_features=3, min_samples_leaf=1, splitter=random;, score=0.985 total time=   0.3s\n",
            "[CV 1/3] END criterion=entropy, max_depth=None, max_features=1, min_samples_leaf=2, splitter=random;, score=0.738 total time=   0.1s\n",
            "[CV 2/3] END criterion=entropy, max_depth=None, max_features=1, min_samples_leaf=2, splitter=random;, score=0.849 total time=   0.1s\n",
            "[CV 3/3] END criterion=entropy, max_depth=None, max_features=1, min_samples_leaf=2, splitter=random;, score=0.845 total time=   0.1s\n",
            "[CV 1/3] END criterion=gini, max_depth=5, max_features=2, min_samples_leaf=4, splitter=random;, score=0.725 total time=   0.1s\n",
            "[CV 2/3] END criterion=gini, max_depth=5, max_features=2, min_samples_leaf=4, splitter=random;, score=0.590 total time=   0.1s\n",
            "[CV 3/3] END criterion=gini, max_depth=5, max_features=2, min_samples_leaf=4, splitter=random;, score=0.586 total time=   0.1s\n",
            "[CV 1/3] END criterion=log_loss, max_depth=15, max_features=4, min_samples_leaf=3, splitter=random;, score=0.898 total time=   0.2s\n",
            "[CV 2/3] END criterion=log_loss, max_depth=15, max_features=4, min_samples_leaf=3, splitter=random;, score=0.860 total time=   0.2s\n",
            "[CV 3/3] END criterion=log_loss, max_depth=15, max_features=4, min_samples_leaf=3, splitter=random;, score=0.897 total time=   0.2s\n",
            "[CV 1/3] END criterion=gini, max_depth=15, max_features=3, min_samples_leaf=3, splitter=best;, score=0.972 total time=   0.8s\n",
            "[CV 2/3] END criterion=gini, max_depth=15, max_features=3, min_samples_leaf=3, splitter=best;, score=0.946 total time=   0.8s\n",
            "[CV 3/3] END criterion=gini, max_depth=15, max_features=3, min_samples_leaf=3, splitter=best;, score=0.969 total time=   0.8s\n",
            "[CV 1/3] END criterion=log_loss, max_depth=1, max_features=4, min_samples_leaf=4, splitter=best;, score=0.918 total time=   0.2s\n",
            "[CV 2/3] END criterion=log_loss, max_depth=1, max_features=4, min_samples_leaf=4, splitter=best;, score=0.916 total time=   0.2s\n",
            "[CV 3/3] END criterion=log_loss, max_depth=1, max_features=4, min_samples_leaf=4, splitter=best;, score=0.919 total time=   0.2s\n",
            "[CV 1/3] END criterion=gini, max_depth=3, max_features=1, min_samples_leaf=1, splitter=best;, score=0.729 total time=   0.2s\n",
            "[CV 2/3] END criterion=gini, max_depth=3, max_features=1, min_samples_leaf=1, splitter=best;, score=0.738 total time=   0.2s\n",
            "[CV 3/3] END criterion=gini, max_depth=3, max_features=1, min_samples_leaf=1, splitter=best;, score=0.742 total time=   0.2s\n",
            "[CV 1/3] END criterion=log_loss, max_depth=1, max_features=1, min_samples_leaf=2, splitter=best;, score=0.583 total time=   0.1s\n",
            "[CV 2/3] END criterion=log_loss, max_depth=1, max_features=1, min_samples_leaf=2, splitter=best;, score=0.607 total time=   0.1s\n",
            "[CV 3/3] END criterion=log_loss, max_depth=1, max_features=1, min_samples_leaf=2, splitter=best;, score=0.611 total time=   0.1s\n",
            "[CV 1/3] END criterion=entropy, max_depth=8, max_features=1, min_samples_leaf=2, splitter=best;, score=0.821 total time=   0.5s\n",
            "[CV 2/3] END criterion=entropy, max_depth=8, max_features=1, min_samples_leaf=2, splitter=best;, score=0.832 total time=   0.5s\n",
            "[CV 3/3] END criterion=entropy, max_depth=8, max_features=1, min_samples_leaf=2, splitter=best;, score=0.827 total time=   0.5s\n",
            "[CV 1/3] END criterion=log_loss, max_depth=5, max_features=4, min_samples_leaf=2, splitter=random;, score=0.807 total time=   0.2s\n",
            "[CV 2/3] END criterion=log_loss, max_depth=5, max_features=4, min_samples_leaf=2, splitter=random;, score=0.652 total time=   0.2s\n",
            "[CV 3/3] END criterion=log_loss, max_depth=5, max_features=4, min_samples_leaf=2, splitter=random;, score=0.759 total time=   0.2s\n",
            "[CV 1/3] END criterion=log_loss, max_depth=3, max_features=1, min_samples_leaf=4, splitter=best;, score=0.729 total time=   0.3s\n",
            "[CV 2/3] END criterion=log_loss, max_depth=3, max_features=1, min_samples_leaf=4, splitter=best;, score=0.738 total time=   0.3s\n",
            "[CV 3/3] END criterion=log_loss, max_depth=3, max_features=1, min_samples_leaf=4, splitter=best;, score=0.742 total time=   0.2s\n",
            "[CV 1/3] END criterion=log_loss, max_depth=10, max_features=1, min_samples_leaf=4, splitter=best;, score=0.865 total time=   0.6s\n",
            "[CV 2/3] END criterion=log_loss, max_depth=10, max_features=1, min_samples_leaf=4, splitter=best;, score=0.810 total time=   0.6s\n",
            "[CV 3/3] END criterion=log_loss, max_depth=10, max_features=1, min_samples_leaf=4, splitter=best;, score=0.759 total time=   0.6s\n",
            "[CV 1/3] END criterion=log_loss, max_depth=1, max_features=2, min_samples_leaf=2, splitter=random;, score=0.823 total time=   0.1s\n",
            "[CV 2/3] END criterion=log_loss, max_depth=1, max_features=2, min_samples_leaf=2, splitter=random;, score=0.846 total time=   0.1s\n",
            "[CV 3/3] END criterion=log_loss, max_depth=1, max_features=2, min_samples_leaf=2, splitter=random;, score=0.842 total time=   0.1s\n",
            "[CV 1/3] END criterion=gini, max_depth=None, max_features=1, min_samples_leaf=1, splitter=random;, score=0.979 total time=   0.2s\n",
            "[CV 2/3] END criterion=gini, max_depth=None, max_features=1, min_samples_leaf=1, splitter=random;, score=0.979 total time=   0.2s\n",
            "[CV 3/3] END criterion=gini, max_depth=None, max_features=1, min_samples_leaf=1, splitter=random;, score=0.981 total time=   0.2s\n",
            "[CV 1/3] END criterion=log_loss, max_depth=1, max_features=4, min_samples_leaf=1, splitter=best;, score=0.918 total time=   0.2s\n",
            "[CV 2/3] END criterion=log_loss, max_depth=1, max_features=4, min_samples_leaf=1, splitter=best;, score=0.916 total time=   0.2s\n",
            "[CV 3/3] END criterion=log_loss, max_depth=1, max_features=4, min_samples_leaf=1, splitter=best;, score=0.919 total time=   0.2s\n",
            "[CV 1/3] END criterion=entropy, max_depth=15, max_features=2, min_samples_leaf=1, splitter=random;, score=0.907 total time=   0.2s\n",
            "[CV 2/3] END criterion=entropy, max_depth=15, max_features=2, min_samples_leaf=1, splitter=random;, score=0.791 total time=   0.1s\n",
            "[CV 3/3] END criterion=entropy, max_depth=15, max_features=2, min_samples_leaf=1, splitter=random;, score=0.816 total time=   0.2s\n",
            "[CV 1/3] END criterion=log_loss, max_depth=15, max_features=2, min_samples_leaf=2, splitter=random;, score=0.889 total time=   0.2s\n",
            "[CV 2/3] END criterion=log_loss, max_depth=15, max_features=2, min_samples_leaf=2, splitter=random;, score=0.813 total time=   0.2s\n",
            "[CV 3/3] END criterion=log_loss, max_depth=15, max_features=2, min_samples_leaf=2, splitter=random;, score=0.793 total time=   0.2s\n",
            "[CV 1/3] END criterion=log_loss, max_depth=3, max_features=1, min_samples_leaf=3, splitter=random;, score=0.786 total time=   0.1s\n",
            "[CV 2/3] END criterion=log_loss, max_depth=3, max_features=1, min_samples_leaf=3, splitter=random;, score=0.846 total time=   0.1s\n",
            "[CV 3/3] END criterion=log_loss, max_depth=3, max_features=1, min_samples_leaf=3, splitter=random;, score=0.842 total time=   0.1s\n",
            "[CV 1/3] END criterion=entropy, max_depth=None, max_features=4, min_samples_leaf=1, splitter=random;, score=0.987 total time=   0.3s\n",
            "[CV 2/3] END criterion=entropy, max_depth=None, max_features=4, min_samples_leaf=1, splitter=random;, score=0.985 total time=   0.3s\n",
            "[CV 3/3] END criterion=entropy, max_depth=None, max_features=4, min_samples_leaf=1, splitter=random;, score=0.984 total time=   0.3s\n",
            "[CV 1/3] END criterion=log_loss, max_depth=3, max_features=2, min_samples_leaf=1, splitter=random;, score=0.259 total time=   0.1s\n",
            "[CV 2/3] END criterion=log_loss, max_depth=3, max_features=2, min_samples_leaf=1, splitter=random;, score=0.844 total time=   0.1s\n",
            "[CV 3/3] END criterion=log_loss, max_depth=3, max_features=2, min_samples_leaf=1, splitter=random;, score=0.840 total time=   0.1s\n",
            "[CV 1/3] END criterion=log_loss, max_depth=None, max_features=2, min_samples_leaf=3, splitter=best;, score=0.981 total time=   0.8s\n",
            "[CV 2/3] END criterion=log_loss, max_depth=None, max_features=2, min_samples_leaf=3, splitter=best;, score=0.981 total time=   0.8s\n",
            "[CV 3/3] END criterion=log_loss, max_depth=None, max_features=2, min_samples_leaf=3, splitter=best;, score=0.980 total time=   0.8s\n",
            "[CV 1/3] END criterion=entropy, max_depth=15, max_features=2, min_samples_leaf=4, splitter=best;, score=0.950 total time=   0.7s\n",
            "[CV 2/3] END criterion=entropy, max_depth=15, max_features=2, min_samples_leaf=4, splitter=best;, score=0.932 total time=   0.7s\n",
            "[CV 3/3] END criterion=entropy, max_depth=15, max_features=2, min_samples_leaf=4, splitter=best;, score=0.907 total time=   0.7s\n",
            "[CV 1/3] END criterion=log_loss, max_depth=10, max_features=3, min_samples_leaf=2, splitter=random;, score=0.772 total time=   0.1s\n",
            "[CV 2/3] END criterion=log_loss, max_depth=10, max_features=3, min_samples_leaf=2, splitter=random;, score=0.715 total time=   0.1s\n",
            "[CV 3/3] END criterion=log_loss, max_depth=10, max_features=3, min_samples_leaf=2, splitter=random;, score=0.745 total time=   0.1s\n",
            "[CV 1/3] END criterion=entropy, max_depth=None, max_features=2, min_samples_leaf=3, splitter=random;, score=0.942 total time=   0.2s\n",
            "[CV 2/3] END criterion=entropy, max_depth=None, max_features=2, min_samples_leaf=3, splitter=random;, score=0.969 total time=   0.2s\n",
            "[CV 3/3] END criterion=entropy, max_depth=None, max_features=2, min_samples_leaf=3, splitter=random;, score=0.968 total time=   0.2s\n",
            "[CV 1/3] END criterion=gini, max_depth=8, max_features=1, min_samples_leaf=4, splitter=random;, score=0.882 total time=   0.1s\n",
            "[CV 2/3] END criterion=gini, max_depth=8, max_features=1, min_samples_leaf=4, splitter=random;, score=0.847 total time=   0.1s\n",
            "[CV 3/3] END criterion=gini, max_depth=8, max_features=1, min_samples_leaf=4, splitter=random;, score=0.843 total time=   0.1s\n",
            "[CV 1/3] END criterion=entropy, max_depth=10, max_features=2, min_samples_leaf=4, splitter=best;, score=0.812 total time=   0.6s\n",
            "[CV 2/3] END criterion=entropy, max_depth=10, max_features=2, min_samples_leaf=4, splitter=best;, score=0.819 total time=   0.6s\n",
            "[CV 3/3] END criterion=entropy, max_depth=10, max_features=2, min_samples_leaf=4, splitter=best;, score=0.831 total time=   1.0s\n",
            "[CV 1/3] END criterion=entropy, max_depth=3, max_features=3, min_samples_leaf=2, splitter=random;, score=0.823 total time=   0.1s\n",
            "[CV 2/3] END criterion=entropy, max_depth=3, max_features=3, min_samples_leaf=2, splitter=random;, score=0.679 total time=   0.1s\n",
            "[CV 3/3] END criterion=entropy, max_depth=3, max_features=3, min_samples_leaf=2, splitter=random;, score=0.684 total time=   0.1s\n",
            "[CV 1/3] END criterion=gini, max_depth=1, max_features=4, min_samples_leaf=4, splitter=best;, score=0.918 total time=   0.3s\n",
            "[CV 2/3] END criterion=gini, max_depth=1, max_features=4, min_samples_leaf=4, splitter=best;, score=0.916 total time=   0.3s\n",
            "[CV 3/3] END criterion=gini, max_depth=1, max_features=4, min_samples_leaf=4, splitter=best;, score=0.919 total time=   0.2s\n",
            "[CV 1/3] END criterion=entropy, max_depth=None, max_features=4, min_samples_leaf=4, splitter=best;, score=0.980 total time=   2.1s\n",
            "[CV 2/3] END criterion=entropy, max_depth=None, max_features=4, min_samples_leaf=4, splitter=best;, score=0.979 total time=   1.6s\n",
            "[CV 3/3] END criterion=entropy, max_depth=None, max_features=4, min_samples_leaf=4, splitter=best;, score=0.980 total time=   1.2s\n",
            "[CV 1/3] END criterion=gini, max_depth=1, max_features=3, min_samples_leaf=4, splitter=random;, score=0.823 total time=   0.1s\n",
            "[CV 2/3] END criterion=gini, max_depth=1, max_features=3, min_samples_leaf=4, splitter=random;, score=0.154 total time=   0.1s\n",
            "[CV 3/3] END criterion=gini, max_depth=1, max_features=3, min_samples_leaf=4, splitter=random;, score=0.151 total time=   0.1s\n",
            "[CV 1/3] END criterion=log_loss, max_depth=10, max_features=4, min_samples_leaf=1, splitter=best;, score=0.849 total time=   1.0s\n",
            "[CV 2/3] END criterion=log_loss, max_depth=10, max_features=4, min_samples_leaf=1, splitter=best;, score=0.864 total time=   1.0s\n",
            "[CV 3/3] END criterion=log_loss, max_depth=10, max_features=4, min_samples_leaf=1, splitter=best;, score=0.867 total time=   1.0s\n",
            "[CV 1/3] END criterion=log_loss, max_depth=None, max_features=4, min_samples_leaf=3, splitter=best;, score=0.984 total time=   1.3s\n",
            "[CV 2/3] END criterion=log_loss, max_depth=None, max_features=4, min_samples_leaf=3, splitter=best;, score=0.983 total time=   1.3s\n",
            "[CV 3/3] END criterion=log_loss, max_depth=None, max_features=4, min_samples_leaf=3, splitter=best;, score=0.984 total time=   1.3s\n"
          ]
        },
        {
          "data": {
            "text/plain": [
              "{'splitter': 'random',\n",
              " 'min_samples_leaf': 1,\n",
              " 'max_features': 4,\n",
              " 'max_depth': None,\n",
              " 'criterion': 'entropy'}"
            ]
          },
          "execution_count": 56,
          "metadata": {},
          "output_type": "execute_result"
        }
      ],
      "source": [
        "# RandomizedSearchCV\n",
        "\n",
        "max_depth = [1, 3, 5, 8, 10, 15]\n",
        "max_depth.append(None)\n",
        "\n",
        "random_grid = {\n",
        "              \"max_depth\": max_depth,\n",
        "              \"max_features\": [int(x) for x in np.linspace(1, len(X_train.columns), num = len(X_train.columns))],\n",
        "              \"min_samples_leaf\": [int(x) for x in np.linspace(1, len(X_train.columns), num = len(X_train.columns))],\n",
        "              \"criterion\": [\"gini\", \"entropy\", \"log_loss\"],\n",
        "              \"splitter\": [\"random\", \"best\"]\n",
        "              }\n",
        "\n",
        "tree_random = RandomizedSearchCV(estimator = tree_clf, \n",
        "                                 param_distributions = random_grid, \n",
        "                                 n_iter = 100, \n",
        "                                 cv = 3, \n",
        "                                 verbose = 3, \n",
        "                                 scoring = 'recall',\n",
        "                                 random_state = 10)\n",
        "\n",
        "tree_random.fit(X_train, y_train)\n",
        "tree_random.best_params_"
      ]
    },
    {
      "cell_type": "code",
      "execution_count": null,
      "metadata": {
        "colab": {
          "background_save": true
        },
        "id": "2vMPck5n8EAi",
        "outputId": "c487477a-0ce8-4a95-fd53-ff608b06f5ac"
      },
      "outputs": [
        {
          "data": {
            "text/plain": [
              "{'splitter': 'random',\n",
              " 'min_samples_leaf': 1,\n",
              " 'max_features': 4,\n",
              " 'max_depth': None,\n",
              " 'criterion': 'entropy'}"
            ]
          },
          "execution_count": 57,
          "metadata": {},
          "output_type": "execute_result"
        }
      ],
      "source": [
        "tree_random.best_params_"
      ]
    },
    {
      "cell_type": "code",
      "execution_count": null,
      "metadata": {
        "colab": {
          "background_save": true
        },
        "id": "7XhQr9Cc8EuF",
        "outputId": "e23c2a5c-715e-452e-b4f8-ced9d2390e26"
      },
      "outputs": [
        {
          "data": {
            "text/plain": [
              "0.9853757247387728"
            ]
          },
          "execution_count": 58,
          "metadata": {},
          "output_type": "execute_result"
        }
      ],
      "source": [
        "tree_random.best_score_"
      ]
    },
    {
      "cell_type": "markdown",
      "metadata": {
        "id": "e5dbRikwt1ov"
      },
      "source": [
        "## Random Forest Classifier\n",
        "\n",
        "- Library: Scikit-learn"
      ]
    },
    {
      "cell_type": "code",
      "execution_count": null,
      "metadata": {
        "colab": {
          "background_save": true
        },
        "id": "GuRwiYIX8Giw"
      },
      "outputs": [],
      "source": [
        "# Training\n",
        "\n",
        "name = 'rnd_clf'\n",
        "\n",
        "train = pd.DataFrame(columns = ['n_estimators', 'min_samples_split', 'min_samples_leaf', 'max_features','max_depth', 'n_jobs', 'random_state'])\n",
        "train = train.append({'n_estimators' : 100, 'min_samples_split': 5, 'min_samples_leaf': 1, 'max_features': 'auto', 'max_depth' : None, 'n_jobs': -1, 'random_state': 10}, ignore_index=True)\n",
        "train = train.append({'n_estimators' : 300, 'min_samples_split': 2, 'min_samples_leaf': 1, 'max_features': 'auto', 'max_depth' : 31, 'n_jobs': -1, 'random_state': 10}, ignore_index=True)\n",
        "train = train.append({'n_estimators' : 300, 'min_samples_split': 3, 'min_samples_leaf': 1, 'max_features': 'auto', 'max_depth' : None, 'n_jobs': -1, 'random_state': 10}, ignore_index=True)\n",
        "\n",
        "train = train.reset_index()\n",
        "for index, row in train.iterrows():\n",
        "    model_name = name + str(index)\n",
        "    rnd_clf = RandomForestClassifier(n_estimators = int(row['n_estimators']), max_depth = None, \n",
        "                                    n_jobs = int(row['n_jobs']), random_state = int(row['random_state']))\n",
        "    rnd_clf.fit(X_train, y_train)\n",
        "    \n",
        "    y_true = y_val\n",
        "    y_pred = rnd_clf.predict(X_val)\n",
        "    evaluation_results = evaluation_metrics(y_true, y_pred)\n",
        "\n",
        "    models = models.append({'model_name': model_name, \n",
        "                            'model': rnd_clf, \n",
        "                            'parameters': rnd_clf.get_params()}, \n",
        "                            ignore_index=True)\n",
        "    \n",
        "    models_eval = models_eval.append({'model_name': model_name, \n",
        "                                      'confusion_matrix' : evaluation_results[0], \n",
        "                                      'accuracy': evaluation_results[1], \n",
        "                                      'recall' : evaluation_results[2], \n",
        "                                      'f1_score': evaluation_results[3], \n",
        "                                      'roc_auc_score': evaluation_results[4]}, \n",
        "                                      ignore_index=True)"
      ]
    },
    {
      "cell_type": "code",
      "execution_count": null,
      "metadata": {
        "colab": {
          "background_save": true
        },
        "id": "8-QVWDIU8Hhy",
        "outputId": "4b33ae5a-3f90-49d2-853e-aa31c45faa49"
      },
      "outputs": [
        {
          "data": {
            "text/html": [
              "\n",
              "  <div id=\"df-caf34258-889f-467d-8412-1cdb67261037\">\n",
              "    <div class=\"colab-df-container\">\n",
              "      <div>\n",
              "<style scoped>\n",
              "    .dataframe tbody tr th:only-of-type {\n",
              "        vertical-align: middle;\n",
              "    }\n",
              "\n",
              "    .dataframe tbody tr th {\n",
              "        vertical-align: top;\n",
              "    }\n",
              "\n",
              "    .dataframe thead th {\n",
              "        text-align: right;\n",
              "    }\n",
              "</style>\n",
              "<table border=\"1\" class=\"dataframe\">\n",
              "  <thead>\n",
              "    <tr style=\"text-align: right;\">\n",
              "      <th></th>\n",
              "      <th>model_name</th>\n",
              "      <th>confusion_matrix</th>\n",
              "      <th>accuracy</th>\n",
              "      <th>recall</th>\n",
              "      <th>f1_score</th>\n",
              "      <th>roc_auc_score</th>\n",
              "    </tr>\n",
              "  </thead>\n",
              "  <tbody>\n",
              "    <tr>\n",
              "      <th>0</th>\n",
              "      <td>log_clf0</td>\n",
              "      <td>[10970, 6098, 55, 67]</td>\n",
              "      <td>0.642059</td>\n",
              "      <td>0.549180</td>\n",
              "      <td>0.021314</td>\n",
              "      <td>0.595952</td>\n",
              "    </tr>\n",
              "    <tr>\n",
              "      <th>1</th>\n",
              "      <td>log_clf1</td>\n",
              "      <td>[10973, 6095, 56, 66]</td>\n",
              "      <td>0.642176</td>\n",
              "      <td>0.540984</td>\n",
              "      <td>0.021009</td>\n",
              "      <td>0.591941</td>\n",
              "    </tr>\n",
              "    <tr>\n",
              "      <th>2</th>\n",
              "      <td>svc_clf0</td>\n",
              "      <td>[9580, 7488, 27, 95]</td>\n",
              "      <td>0.562827</td>\n",
              "      <td>0.778689</td>\n",
              "      <td>0.024659</td>\n",
              "      <td>0.669986</td>\n",
              "    </tr>\n",
              "    <tr>\n",
              "      <th>3</th>\n",
              "      <td>svc_clf1</td>\n",
              "      <td>[9314, 7754, 33, 89]</td>\n",
              "      <td>0.547004</td>\n",
              "      <td>0.729508</td>\n",
              "      <td>0.022348</td>\n",
              "      <td>0.637604</td>\n",
              "    </tr>\n",
              "    <tr>\n",
              "      <th>4</th>\n",
              "      <td>svc_clf2</td>\n",
              "      <td>[9839, 7229, 39, 83]</td>\n",
              "      <td>0.577196</td>\n",
              "      <td>0.680328</td>\n",
              "      <td>0.022330</td>\n",
              "      <td>0.628393</td>\n",
              "    </tr>\n",
              "    <tr>\n",
              "      <th>5</th>\n",
              "      <td>svc_clf3</td>\n",
              "      <td>[10510, 6558, 26, 96]</td>\n",
              "      <td>0.616987</td>\n",
              "      <td>0.786885</td>\n",
              "      <td>0.028335</td>\n",
              "      <td>0.701329</td>\n",
              "    </tr>\n",
              "    <tr>\n",
              "      <th>6</th>\n",
              "      <td>svc_clf4</td>\n",
              "      <td>[10605, 6463, 26, 96]</td>\n",
              "      <td>0.622513</td>\n",
              "      <td>0.786885</td>\n",
              "      <td>0.028738</td>\n",
              "      <td>0.704112</td>\n",
              "    </tr>\n",
              "    <tr>\n",
              "      <th>7</th>\n",
              "      <td>svc_clf5</td>\n",
              "      <td>[10669, 6399, 25, 97]</td>\n",
              "      <td>0.626294</td>\n",
              "      <td>0.795082</td>\n",
              "      <td>0.029314</td>\n",
              "      <td>0.710085</td>\n",
              "    </tr>\n",
              "    <tr>\n",
              "      <th>8</th>\n",
              "      <td>svc_clf6</td>\n",
              "      <td>[10772, 6296, 26, 96]</td>\n",
              "      <td>0.632228</td>\n",
              "      <td>0.786885</td>\n",
              "      <td>0.029475</td>\n",
              "      <td>0.709004</td>\n",
              "    </tr>\n",
              "    <tr>\n",
              "      <th>9</th>\n",
              "      <td>bayes_clf0</td>\n",
              "      <td>[4988, 12080, 15, 107]</td>\n",
              "      <td>0.296393</td>\n",
              "      <td>0.877049</td>\n",
              "      <td>0.017386</td>\n",
              "      <td>0.584646</td>\n",
              "    </tr>\n",
              "    <tr>\n",
              "      <th>10</th>\n",
              "      <td>bayes_clf1</td>\n",
              "      <td>[7233, 9835, 22, 100]</td>\n",
              "      <td>0.426585</td>\n",
              "      <td>0.819672</td>\n",
              "      <td>0.019887</td>\n",
              "      <td>0.621724</td>\n",
              "    </tr>\n",
              "    <tr>\n",
              "      <th>11</th>\n",
              "      <td>bayes_clf2</td>\n",
              "      <td>[8598, 8470, 31, 91]</td>\n",
              "      <td>0.505468</td>\n",
              "      <td>0.745902</td>\n",
              "      <td>0.020960</td>\n",
              "      <td>0.624826</td>\n",
              "    </tr>\n",
              "    <tr>\n",
              "      <th>12</th>\n",
              "      <td>bayes_clf3</td>\n",
              "      <td>[8630, 8438, 31, 91]</td>\n",
              "      <td>0.507330</td>\n",
              "      <td>0.745902</td>\n",
              "      <td>0.021038</td>\n",
              "      <td>0.625763</td>\n",
              "    </tr>\n",
              "    <tr>\n",
              "      <th>13</th>\n",
              "      <td>bayes_clf4</td>\n",
              "      <td>[8631, 8437, 31, 91]</td>\n",
              "      <td>0.507388</td>\n",
              "      <td>0.745902</td>\n",
              "      <td>0.021040</td>\n",
              "      <td>0.625792</td>\n",
              "    </tr>\n",
              "    <tr>\n",
              "      <th>14</th>\n",
              "      <td>bayes_clf5</td>\n",
              "      <td>[8631, 8437, 31, 91]</td>\n",
              "      <td>0.507388</td>\n",
              "      <td>0.745902</td>\n",
              "      <td>0.021040</td>\n",
              "      <td>0.625792</td>\n",
              "    </tr>\n",
              "    <tr>\n",
              "      <th>15</th>\n",
              "      <td>bayes_clf6</td>\n",
              "      <td>[8631, 8437, 31, 91]</td>\n",
              "      <td>0.507388</td>\n",
              "      <td>0.745902</td>\n",
              "      <td>0.021040</td>\n",
              "      <td>0.625792</td>\n",
              "    </tr>\n",
              "    <tr>\n",
              "      <th>16</th>\n",
              "      <td>neigh_clf0</td>\n",
              "      <td>[16453, 615, 51, 71]</td>\n",
              "      <td>0.961257</td>\n",
              "      <td>0.581967</td>\n",
              "      <td>0.175743</td>\n",
              "      <td>0.772967</td>\n",
              "    </tr>\n",
              "    <tr>\n",
              "      <th>17</th>\n",
              "      <td>neigh_clf1</td>\n",
              "      <td>[16658, 410, 62, 60]</td>\n",
              "      <td>0.972542</td>\n",
              "      <td>0.491803</td>\n",
              "      <td>0.202703</td>\n",
              "      <td>0.733891</td>\n",
              "    </tr>\n",
              "    <tr>\n",
              "      <th>18</th>\n",
              "      <td>neigh_clf2</td>\n",
              "      <td>[16023, 1045, 36, 86]</td>\n",
              "      <td>0.937115</td>\n",
              "      <td>0.704918</td>\n",
              "      <td>0.137271</td>\n",
              "      <td>0.821846</td>\n",
              "    </tr>\n",
              "    <tr>\n",
              "      <th>19</th>\n",
              "      <td>tree_clf0</td>\n",
              "      <td>[16616, 452, 56, 66]</td>\n",
              "      <td>0.970448</td>\n",
              "      <td>0.540984</td>\n",
              "      <td>0.206250</td>\n",
              "      <td>0.757251</td>\n",
              "    </tr>\n",
              "    <tr>\n",
              "      <th>20</th>\n",
              "      <td>tree_clf1</td>\n",
              "      <td>[16623, 445, 56, 66]</td>\n",
              "      <td>0.970855</td>\n",
              "      <td>0.540984</td>\n",
              "      <td>0.208531</td>\n",
              "      <td>0.757456</td>\n",
              "    </tr>\n",
              "    <tr>\n",
              "      <th>21</th>\n",
              "      <td>tree_clf2</td>\n",
              "      <td>[16538, 530, 57, 65]</td>\n",
              "      <td>0.965852</td>\n",
              "      <td>0.532787</td>\n",
              "      <td>0.181311</td>\n",
              "      <td>0.750867</td>\n",
              "    </tr>\n",
              "    <tr>\n",
              "      <th>22</th>\n",
              "      <td>tree_clf3</td>\n",
              "      <td>[16567, 501, 56, 66]</td>\n",
              "      <td>0.967597</td>\n",
              "      <td>0.540984</td>\n",
              "      <td>0.191582</td>\n",
              "      <td>0.755815</td>\n",
              "    </tr>\n",
              "    <tr>\n",
              "      <th>23</th>\n",
              "      <td>rnd_clf0</td>\n",
              "      <td>[16671, 397, 53, 69]</td>\n",
              "      <td>0.973822</td>\n",
              "      <td>0.565574</td>\n",
              "      <td>0.234694</td>\n",
              "      <td>0.771157</td>\n",
              "    </tr>\n",
              "    <tr>\n",
              "      <th>24</th>\n",
              "      <td>rnd_clf1</td>\n",
              "      <td>[16672, 396, 53, 69]</td>\n",
              "      <td>0.973880</td>\n",
              "      <td>0.565574</td>\n",
              "      <td>0.235094</td>\n",
              "      <td>0.771186</td>\n",
              "    </tr>\n",
              "    <tr>\n",
              "      <th>25</th>\n",
              "      <td>rnd_clf2</td>\n",
              "      <td>[16672, 396, 53, 69]</td>\n",
              "      <td>0.973880</td>\n",
              "      <td>0.565574</td>\n",
              "      <td>0.235094</td>\n",
              "      <td>0.771186</td>\n",
              "    </tr>\n",
              "  </tbody>\n",
              "</table>\n",
              "</div>\n",
              "      <button class=\"colab-df-convert\" onclick=\"convertToInteractive('df-caf34258-889f-467d-8412-1cdb67261037')\"\n",
              "              title=\"Convert this dataframe to an interactive table.\"\n",
              "              style=\"display:none;\">\n",
              "        \n",
              "  <svg xmlns=\"http://www.w3.org/2000/svg\" height=\"24px\"viewBox=\"0 0 24 24\"\n",
              "       width=\"24px\">\n",
              "    <path d=\"M0 0h24v24H0V0z\" fill=\"none\"/>\n",
              "    <path d=\"M18.56 5.44l.94 2.06.94-2.06 2.06-.94-2.06-.94-.94-2.06-.94 2.06-2.06.94zm-11 1L8.5 8.5l.94-2.06 2.06-.94-2.06-.94L8.5 2.5l-.94 2.06-2.06.94zm10 10l.94 2.06.94-2.06 2.06-.94-2.06-.94-.94-2.06-.94 2.06-2.06.94z\"/><path d=\"M17.41 7.96l-1.37-1.37c-.4-.4-.92-.59-1.43-.59-.52 0-1.04.2-1.43.59L10.3 9.45l-7.72 7.72c-.78.78-.78 2.05 0 2.83L4 21.41c.39.39.9.59 1.41.59.51 0 1.02-.2 1.41-.59l7.78-7.78 2.81-2.81c.8-.78.8-2.07 0-2.86zM5.41 20L4 18.59l7.72-7.72 1.47 1.35L5.41 20z\"/>\n",
              "  </svg>\n",
              "      </button>\n",
              "      \n",
              "  <style>\n",
              "    .colab-df-container {\n",
              "      display:flex;\n",
              "      flex-wrap:wrap;\n",
              "      gap: 12px;\n",
              "    }\n",
              "\n",
              "    .colab-df-convert {\n",
              "      background-color: #E8F0FE;\n",
              "      border: none;\n",
              "      border-radius: 50%;\n",
              "      cursor: pointer;\n",
              "      display: none;\n",
              "      fill: #1967D2;\n",
              "      height: 32px;\n",
              "      padding: 0 0 0 0;\n",
              "      width: 32px;\n",
              "    }\n",
              "\n",
              "    .colab-df-convert:hover {\n",
              "      background-color: #E2EBFA;\n",
              "      box-shadow: 0px 1px 2px rgba(60, 64, 67, 0.3), 0px 1px 3px 1px rgba(60, 64, 67, 0.15);\n",
              "      fill: #174EA6;\n",
              "    }\n",
              "\n",
              "    [theme=dark] .colab-df-convert {\n",
              "      background-color: #3B4455;\n",
              "      fill: #D2E3FC;\n",
              "    }\n",
              "\n",
              "    [theme=dark] .colab-df-convert:hover {\n",
              "      background-color: #434B5C;\n",
              "      box-shadow: 0px 1px 3px 1px rgba(0, 0, 0, 0.15);\n",
              "      filter: drop-shadow(0px 1px 2px rgba(0, 0, 0, 0.3));\n",
              "      fill: #FFFFFF;\n",
              "    }\n",
              "  </style>\n",
              "\n",
              "      <script>\n",
              "        const buttonEl =\n",
              "          document.querySelector('#df-caf34258-889f-467d-8412-1cdb67261037 button.colab-df-convert');\n",
              "        buttonEl.style.display =\n",
              "          google.colab.kernel.accessAllowed ? 'block' : 'none';\n",
              "\n",
              "        async function convertToInteractive(key) {\n",
              "          const element = document.querySelector('#df-caf34258-889f-467d-8412-1cdb67261037');\n",
              "          const dataTable =\n",
              "            await google.colab.kernel.invokeFunction('convertToInteractive',\n",
              "                                                     [key], {});\n",
              "          if (!dataTable) return;\n",
              "\n",
              "          const docLinkHtml = 'Like what you see? Visit the ' +\n",
              "            '<a target=\"_blank\" href=https://colab.research.google.com/notebooks/data_table.ipynb>data table notebook</a>'\n",
              "            + ' to learn more about interactive tables.';\n",
              "          element.innerHTML = '';\n",
              "          dataTable['output_type'] = 'display_data';\n",
              "          await google.colab.output.renderOutput(dataTable, element);\n",
              "          const docLink = document.createElement('div');\n",
              "          docLink.innerHTML = docLinkHtml;\n",
              "          element.appendChild(docLink);\n",
              "        }\n",
              "      </script>\n",
              "    </div>\n",
              "  </div>\n",
              "  "
            ],
            "text/plain": [
              "    model_name        confusion_matrix  accuracy    recall  f1_score  \\\n",
              "0     log_clf0   [10970, 6098, 55, 67]  0.642059  0.549180  0.021314   \n",
              "1     log_clf1   [10973, 6095, 56, 66]  0.642176  0.540984  0.021009   \n",
              "2     svc_clf0    [9580, 7488, 27, 95]  0.562827  0.778689  0.024659   \n",
              "3     svc_clf1    [9314, 7754, 33, 89]  0.547004  0.729508  0.022348   \n",
              "4     svc_clf2    [9839, 7229, 39, 83]  0.577196  0.680328  0.022330   \n",
              "5     svc_clf3   [10510, 6558, 26, 96]  0.616987  0.786885  0.028335   \n",
              "6     svc_clf4   [10605, 6463, 26, 96]  0.622513  0.786885  0.028738   \n",
              "7     svc_clf5   [10669, 6399, 25, 97]  0.626294  0.795082  0.029314   \n",
              "8     svc_clf6   [10772, 6296, 26, 96]  0.632228  0.786885  0.029475   \n",
              "9   bayes_clf0  [4988, 12080, 15, 107]  0.296393  0.877049  0.017386   \n",
              "10  bayes_clf1   [7233, 9835, 22, 100]  0.426585  0.819672  0.019887   \n",
              "11  bayes_clf2    [8598, 8470, 31, 91]  0.505468  0.745902  0.020960   \n",
              "12  bayes_clf3    [8630, 8438, 31, 91]  0.507330  0.745902  0.021038   \n",
              "13  bayes_clf4    [8631, 8437, 31, 91]  0.507388  0.745902  0.021040   \n",
              "14  bayes_clf5    [8631, 8437, 31, 91]  0.507388  0.745902  0.021040   \n",
              "15  bayes_clf6    [8631, 8437, 31, 91]  0.507388  0.745902  0.021040   \n",
              "16  neigh_clf0    [16453, 615, 51, 71]  0.961257  0.581967  0.175743   \n",
              "17  neigh_clf1    [16658, 410, 62, 60]  0.972542  0.491803  0.202703   \n",
              "18  neigh_clf2   [16023, 1045, 36, 86]  0.937115  0.704918  0.137271   \n",
              "19   tree_clf0    [16616, 452, 56, 66]  0.970448  0.540984  0.206250   \n",
              "20   tree_clf1    [16623, 445, 56, 66]  0.970855  0.540984  0.208531   \n",
              "21   tree_clf2    [16538, 530, 57, 65]  0.965852  0.532787  0.181311   \n",
              "22   tree_clf3    [16567, 501, 56, 66]  0.967597  0.540984  0.191582   \n",
              "23    rnd_clf0    [16671, 397, 53, 69]  0.973822  0.565574  0.234694   \n",
              "24    rnd_clf1    [16672, 396, 53, 69]  0.973880  0.565574  0.235094   \n",
              "25    rnd_clf2    [16672, 396, 53, 69]  0.973880  0.565574  0.235094   \n",
              "\n",
              "    roc_auc_score  \n",
              "0        0.595952  \n",
              "1        0.591941  \n",
              "2        0.669986  \n",
              "3        0.637604  \n",
              "4        0.628393  \n",
              "5        0.701329  \n",
              "6        0.704112  \n",
              "7        0.710085  \n",
              "8        0.709004  \n",
              "9        0.584646  \n",
              "10       0.621724  \n",
              "11       0.624826  \n",
              "12       0.625763  \n",
              "13       0.625792  \n",
              "14       0.625792  \n",
              "15       0.625792  \n",
              "16       0.772967  \n",
              "17       0.733891  \n",
              "18       0.821846  \n",
              "19       0.757251  \n",
              "20       0.757456  \n",
              "21       0.750867  \n",
              "22       0.755815  \n",
              "23       0.771157  \n",
              "24       0.771186  \n",
              "25       0.771186  "
            ]
          },
          "metadata": {},
          "output_type": "display_data"
        }
      ],
      "source": [
        "display(models_eval)"
      ]
    },
    {
      "cell_type": "code",
      "execution_count": null,
      "metadata": {
        "colab": {
          "background_save": true
        },
        "id": "IhoNEKJN8JSz",
        "outputId": "0d2e2cb8-ab33-4924-cbc4-6f8d17e77540"
      },
      "outputs": [
        {
          "name": "stdout",
          "output_type": "stream",
          "text": [
            "Fitting 3 folds for each of 50 candidates, totalling 150 fits\n",
            "[CV 1/3] END max_depth=1, max_features=3, min_samples_leaf=1, min_samples_split=2, n_estimators=400;, score=0.866 total time=  34.2s\n",
            "[CV 2/3] END max_depth=1, max_features=3, min_samples_leaf=1, min_samples_split=2, n_estimators=400;, score=0.864 total time=  32.1s\n",
            "[CV 3/3] END max_depth=1, max_features=3, min_samples_leaf=1, min_samples_split=2, n_estimators=400;, score=0.867 total time=  31.5s\n",
            "[CV 1/3] END max_depth=None, max_features=3, min_samples_leaf=1, min_samples_split=2, n_estimators=500;, score=0.992 total time= 4.5min\n",
            "[CV 2/3] END max_depth=None, max_features=3, min_samples_leaf=1, min_samples_split=2, n_estimators=500;, score=0.991 total time= 4.5min\n",
            "[CV 3/3] END max_depth=None, max_features=3, min_samples_leaf=1, min_samples_split=2, n_estimators=500;, score=0.992 total time= 4.7min\n",
            "[CV 1/3] END max_depth=10, max_features=1, min_samples_leaf=4, min_samples_split=10, n_estimators=300;, score=0.900 total time= 1.0min\n",
            "[CV 2/3] END max_depth=10, max_features=1, min_samples_leaf=4, min_samples_split=10, n_estimators=300;, score=0.900 total time= 1.0min\n",
            "[CV 3/3] END max_depth=10, max_features=1, min_samples_leaf=4, min_samples_split=10, n_estimators=300;, score=0.895 total time= 1.0min\n",
            "[CV 1/3] END max_depth=5, max_features=4, min_samples_leaf=4, min_samples_split=10, n_estimators=500;, score=0.682 total time= 2.8min\n",
            "[CV 2/3] END max_depth=5, max_features=4, min_samples_leaf=4, min_samples_split=10, n_estimators=500;, score=0.669 total time= 2.7min\n",
            "[CV 3/3] END max_depth=5, max_features=4, min_samples_leaf=4, min_samples_split=10, n_estimators=500;, score=0.660 total time= 2.6min\n",
            "[CV 1/3] END max_depth=15, max_features=3, min_samples_leaf=2, min_samples_split=6, n_estimators=500;, score=0.981 total time= 4.1min\n",
            "[CV 2/3] END max_depth=15, max_features=3, min_samples_leaf=2, min_samples_split=6, n_estimators=500;, score=0.979 total time= 4.1min\n",
            "[CV 3/3] END max_depth=15, max_features=3, min_samples_leaf=2, min_samples_split=6, n_estimators=500;, score=0.983 total time= 4.2min\n",
            "[CV 1/3] END max_depth=5, max_features=4, min_samples_leaf=2, min_samples_split=5, n_estimators=400;, score=0.683 total time= 2.2min\n",
            "[CV 2/3] END max_depth=5, max_features=4, min_samples_leaf=2, min_samples_split=5, n_estimators=400;, score=0.679 total time= 2.1min\n",
            "[CV 3/3] END max_depth=5, max_features=4, min_samples_leaf=2, min_samples_split=5, n_estimators=400;, score=0.660 total time= 2.2min\n",
            "[CV 1/3] END max_depth=8, max_features=1, min_samples_leaf=2, min_samples_split=3, n_estimators=100;, score=0.878 total time=  17.6s\n",
            "[CV 2/3] END max_depth=8, max_features=1, min_samples_leaf=2, min_samples_split=3, n_estimators=100;, score=0.861 total time=  17.3s\n",
            "[CV 3/3] END max_depth=8, max_features=1, min_samples_leaf=2, min_samples_split=3, n_estimators=100;, score=0.868 total time=  17.4s\n",
            "[CV 1/3] END max_depth=1, max_features=3, min_samples_leaf=2, min_samples_split=6, n_estimators=200;, score=0.866 total time=  15.7s\n",
            "[CV 2/3] END max_depth=1, max_features=3, min_samples_leaf=2, min_samples_split=6, n_estimators=200;, score=0.864 total time=  15.7s\n",
            "[CV 3/3] END max_depth=1, max_features=3, min_samples_leaf=2, min_samples_split=6, n_estimators=200;, score=0.867 total time=  15.9s\n",
            "[CV 1/3] END max_depth=8, max_features=4, min_samples_leaf=1, min_samples_split=6, n_estimators=500;, score=0.851 total time= 3.8min\n",
            "[CV 2/3] END max_depth=8, max_features=4, min_samples_leaf=1, min_samples_split=6, n_estimators=500;, score=0.867 total time= 3.7min\n",
            "[CV 3/3] END max_depth=8, max_features=4, min_samples_leaf=1, min_samples_split=6, n_estimators=500;, score=0.868 total time= 3.8min\n",
            "[CV 1/3] END max_depth=5, max_features=2, min_samples_leaf=2, min_samples_split=2, n_estimators=400;, score=0.879 total time= 1.3min\n",
            "[CV 2/3] END max_depth=5, max_features=2, min_samples_leaf=2, min_samples_split=2, n_estimators=400;, score=0.881 total time= 1.3min\n",
            "[CV 3/3] END max_depth=5, max_features=2, min_samples_leaf=2, min_samples_split=2, n_estimators=400;, score=0.881 total time= 1.3min\n",
            "[CV 1/3] END max_depth=5, max_features=4, min_samples_leaf=2, min_samples_split=10, n_estimators=100;, score=0.683 total time=  33.4s\n",
            "[CV 2/3] END max_depth=5, max_features=4, min_samples_leaf=2, min_samples_split=10, n_estimators=100;, score=0.670 total time=  34.3s\n",
            "[CV 3/3] END max_depth=5, max_features=4, min_samples_leaf=2, min_samples_split=10, n_estimators=100;, score=0.660 total time=  32.7s\n",
            "[CV 1/3] END max_depth=15, max_features=2, min_samples_leaf=4, min_samples_split=2, n_estimators=200;, score=0.977 total time= 1.2min\n",
            "[CV 2/3] END max_depth=15, max_features=2, min_samples_leaf=4, min_samples_split=2, n_estimators=200;, score=0.978 total time= 1.2min\n",
            "[CV 3/3] END max_depth=15, max_features=2, min_samples_leaf=4, min_samples_split=2, n_estimators=200;, score=0.981 total time= 1.2min\n",
            "[CV 1/3] END max_depth=1, max_features=2, min_samples_leaf=4, min_samples_split=3, n_estimators=500;, score=0.866 total time=  31.0s\n",
            "[CV 2/3] END max_depth=1, max_features=2, min_samples_leaf=4, min_samples_split=3, n_estimators=500;, score=0.864 total time=  31.5s\n",
            "[CV 3/3] END max_depth=1, max_features=2, min_samples_leaf=4, min_samples_split=3, n_estimators=500;, score=0.867 total time=  30.9s\n",
            "[CV 1/3] END max_depth=5, max_features=3, min_samples_leaf=1, min_samples_split=10, n_estimators=400;, score=0.879 total time= 1.8min\n",
            "[CV 2/3] END max_depth=5, max_features=3, min_samples_leaf=1, min_samples_split=10, n_estimators=400;, score=0.881 total time= 1.8min\n",
            "[CV 3/3] END max_depth=5, max_features=3, min_samples_leaf=1, min_samples_split=10, n_estimators=400;, score=0.891 total time= 1.7min\n",
            "[CV 1/3] END max_depth=15, max_features=3, min_samples_leaf=4, min_samples_split=10, n_estimators=100;, score=0.979 total time=  50.9s\n",
            "[CV 2/3] END max_depth=15, max_features=3, min_samples_leaf=4, min_samples_split=10, n_estimators=100;, score=0.977 total time=  51.2s\n",
            "[CV 3/3] END max_depth=15, max_features=3, min_samples_leaf=4, min_samples_split=10, n_estimators=100;, score=0.981 total time=  50.1s\n",
            "[CV 1/3] END max_depth=1, max_features=2, min_samples_leaf=2, min_samples_split=6, n_estimators=100;, score=0.866 total time=   8.0s\n",
            "[CV 2/3] END max_depth=1, max_features=2, min_samples_leaf=2, min_samples_split=6, n_estimators=100;, score=0.864 total time=   5.4s\n",
            "[CV 3/3] END max_depth=1, max_features=2, min_samples_leaf=2, min_samples_split=6, n_estimators=100;, score=0.867 total time=   5.8s\n",
            "[CV 1/3] END max_depth=15, max_features=3, min_samples_leaf=1, min_samples_split=2, n_estimators=300;, score=0.982 total time= 2.5min\n",
            "[CV 2/3] END max_depth=15, max_features=3, min_samples_leaf=1, min_samples_split=2, n_estimators=300;, score=0.980 total time= 2.6min\n",
            "[CV 3/3] END max_depth=15, max_features=3, min_samples_leaf=1, min_samples_split=2, n_estimators=300;, score=0.984 total time= 2.6min\n",
            "[CV 1/3] END max_depth=1, max_features=3, min_samples_leaf=2, min_samples_split=10, n_estimators=500;, score=0.866 total time=  38.8s\n",
            "[CV 2/3] END max_depth=1, max_features=3, min_samples_leaf=2, min_samples_split=10, n_estimators=500;, score=0.864 total time=  39.1s\n",
            "[CV 3/3] END max_depth=1, max_features=3, min_samples_leaf=2, min_samples_split=10, n_estimators=500;, score=0.867 total time=  39.8s\n",
            "[CV 1/3] END max_depth=1, max_features=2, min_samples_leaf=1, min_samples_split=6, n_estimators=500;, score=0.866 total time=  31.4s\n",
            "[CV 2/3] END max_depth=1, max_features=2, min_samples_leaf=1, min_samples_split=6, n_estimators=500;, score=0.864 total time=  31.1s\n",
            "[CV 3/3] END max_depth=1, max_features=2, min_samples_leaf=1, min_samples_split=6, n_estimators=500;, score=0.867 total time=  32.0s\n",
            "[CV 1/3] END max_depth=8, max_features=4, min_samples_leaf=2, min_samples_split=3, n_estimators=300;, score=0.851 total time= 2.3min\n",
            "[CV 2/3] END max_depth=8, max_features=4, min_samples_leaf=2, min_samples_split=3, n_estimators=300;, score=0.868 total time= 2.3min\n",
            "[CV 3/3] END max_depth=8, max_features=4, min_samples_leaf=2, min_samples_split=3, n_estimators=300;, score=0.868 total time= 2.4min\n",
            "[CV 1/3] END max_depth=3, max_features=4, min_samples_leaf=2, min_samples_split=5, n_estimators=400;, score=0.726 total time= 1.4min\n",
            "[CV 2/3] END max_depth=3, max_features=4, min_samples_leaf=2, min_samples_split=5, n_estimators=400;, score=0.728 total time= 1.5min\n",
            "[CV 3/3] END max_depth=3, max_features=4, min_samples_leaf=2, min_samples_split=5, n_estimators=400;, score=0.727 total time= 1.4min\n",
            "[CV 1/3] END max_depth=None, max_features=3, min_samples_leaf=4, min_samples_split=2, n_estimators=400;, score=0.990 total time= 3.7min\n",
            "[CV 2/3] END max_depth=None, max_features=3, min_samples_leaf=4, min_samples_split=2, n_estimators=400;, score=0.990 total time= 3.7min\n",
            "[CV 3/3] END max_depth=None, max_features=3, min_samples_leaf=4, min_samples_split=2, n_estimators=400;, score=0.991 total time= 3.7min\n",
            "[CV 1/3] END max_depth=15, max_features=3, min_samples_leaf=4, min_samples_split=6, n_estimators=100;, score=0.979 total time=  53.8s\n",
            "[CV 2/3] END max_depth=15, max_features=3, min_samples_leaf=4, min_samples_split=6, n_estimators=100;, score=0.976 total time=  54.4s\n",
            "[CV 3/3] END max_depth=15, max_features=3, min_samples_leaf=4, min_samples_split=6, n_estimators=100;, score=0.981 total time=  51.3s\n",
            "[CV 1/3] END max_depth=5, max_features=1, min_samples_leaf=1, min_samples_split=2, n_estimators=500;, score=0.831 total time= 1.1min\n",
            "[CV 2/3] END max_depth=5, max_features=1, min_samples_leaf=1, min_samples_split=2, n_estimators=500;, score=0.833 total time= 1.1min\n",
            "[CV 3/3] END max_depth=5, max_features=1, min_samples_leaf=1, min_samples_split=2, n_estimators=500;, score=0.836 total time= 1.1min\n",
            "[CV 1/3] END max_depth=5, max_features=2, min_samples_leaf=1, min_samples_split=10, n_estimators=300;, score=0.880 total time=  59.7s\n",
            "[CV 2/3] END max_depth=5, max_features=2, min_samples_leaf=1, min_samples_split=10, n_estimators=300;, score=0.880 total time= 1.0min\n",
            "[CV 3/3] END max_depth=5, max_features=2, min_samples_leaf=1, min_samples_split=10, n_estimators=300;, score=0.882 total time=  58.3s\n",
            "[CV 1/3] END max_depth=10, max_features=3, min_samples_leaf=2, min_samples_split=2, n_estimators=500;, score=0.917 total time= 3.6min\n",
            "[CV 2/3] END max_depth=10, max_features=3, min_samples_leaf=2, min_samples_split=2, n_estimators=500;, score=0.916 total time= 3.6min\n",
            "[CV 3/3] END max_depth=10, max_features=3, min_samples_leaf=2, min_samples_split=2, n_estimators=500;, score=0.921 total time= 3.6min\n",
            "[CV 1/3] END max_depth=5, max_features=2, min_samples_leaf=1, min_samples_split=6, n_estimators=300;, score=0.880 total time=  59.9s\n",
            "[CV 2/3] END max_depth=5, max_features=2, min_samples_leaf=1, min_samples_split=6, n_estimators=300;, score=0.880 total time= 1.0min\n",
            "[CV 3/3] END max_depth=5, max_features=2, min_samples_leaf=1, min_samples_split=6, n_estimators=300;, score=0.882 total time= 1.0min\n",
            "[CV 1/3] END max_depth=1, max_features=3, min_samples_leaf=1, min_samples_split=5, n_estimators=400;, score=0.866 total time=  32.6s\n",
            "[CV 2/3] END max_depth=1, max_features=3, min_samples_leaf=1, min_samples_split=5, n_estimators=400;, score=0.864 total time=  31.7s\n",
            "[CV 3/3] END max_depth=1, max_features=3, min_samples_leaf=1, min_samples_split=5, n_estimators=400;, score=0.867 total time=  32.2s\n",
            "[CV 1/3] END max_depth=None, max_features=2, min_samples_leaf=2, min_samples_split=5, n_estimators=500;, score=0.991 total time= 3.5min\n",
            "[CV 2/3] END max_depth=None, max_features=2, min_samples_leaf=2, min_samples_split=5, n_estimators=500;, score=0.991 total time= 3.5min\n",
            "[CV 3/3] END max_depth=None, max_features=2, min_samples_leaf=2, min_samples_split=5, n_estimators=500;, score=0.992 total time= 3.5min\n",
            "[CV 1/3] END max_depth=None, max_features=1, min_samples_leaf=4, min_samples_split=5, n_estimators=300;, score=0.987 total time= 1.4min\n",
            "[CV 2/3] END max_depth=None, max_features=1, min_samples_leaf=4, min_samples_split=5, n_estimators=300;, score=0.987 total time= 1.4min\n",
            "[CV 3/3] END max_depth=None, max_features=1, min_samples_leaf=4, min_samples_split=5, n_estimators=300;, score=0.987 total time= 1.4min\n",
            "[CV 1/3] END max_depth=5, max_features=3, min_samples_leaf=4, min_samples_split=10, n_estimators=400;, score=0.879 total time= 1.8min\n",
            "[CV 2/3] END max_depth=5, max_features=3, min_samples_leaf=4, min_samples_split=10, n_estimators=400;, score=0.881 total time= 1.8min\n",
            "[CV 3/3] END max_depth=5, max_features=3, min_samples_leaf=4, min_samples_split=10, n_estimators=400;, score=0.891 total time= 1.8min\n",
            "[CV 1/3] END max_depth=8, max_features=3, min_samples_leaf=2, min_samples_split=6, n_estimators=500;, score=0.897 total time= 3.2min\n",
            "[CV 2/3] END max_depth=8, max_features=3, min_samples_leaf=2, min_samples_split=6, n_estimators=500;, score=0.904 total time= 3.2min\n",
            "[CV 3/3] END max_depth=8, max_features=3, min_samples_leaf=2, min_samples_split=6, n_estimators=500;, score=0.886 total time= 3.2min\n",
            "[CV 1/3] END max_depth=5, max_features=4, min_samples_leaf=1, min_samples_split=2, n_estimators=400;, score=0.683 total time= 2.3min\n",
            "[CV 2/3] END max_depth=5, max_features=4, min_samples_leaf=1, min_samples_split=2, n_estimators=400;, score=0.679 total time= 2.3min\n",
            "[CV 3/3] END max_depth=5, max_features=4, min_samples_leaf=1, min_samples_split=2, n_estimators=400;, score=0.660 total time= 2.3min\n",
            "[CV 1/3] END max_depth=None, max_features=3, min_samples_leaf=4, min_samples_split=3, n_estimators=200;, score=0.990 total time= 1.9min\n",
            "[CV 2/3] END max_depth=None, max_features=3, min_samples_leaf=4, min_samples_split=3, n_estimators=200;, score=0.990 total time= 1.9min\n",
            "[CV 3/3] END max_depth=None, max_features=3, min_samples_leaf=4, min_samples_split=3, n_estimators=200;, score=0.991 total time= 1.9min\n",
            "[CV 1/3] END max_depth=10, max_features=2, min_samples_leaf=1, min_samples_split=2, n_estimators=300;, score=0.915 total time= 1.6min\n",
            "[CV 2/3] END max_depth=10, max_features=2, min_samples_leaf=1, min_samples_split=2, n_estimators=300;, score=0.918 total time= 1.6min\n",
            "[CV 3/3] END max_depth=10, max_features=2, min_samples_leaf=1, min_samples_split=2, n_estimators=300;, score=0.916 total time= 1.7min\n",
            "[CV 1/3] END max_depth=5, max_features=4, min_samples_leaf=1, min_samples_split=6, n_estimators=500;, score=0.682 total time= 2.9min\n",
            "[CV 2/3] END max_depth=5, max_features=4, min_samples_leaf=1, min_samples_split=6, n_estimators=500;, score=0.669 total time= 3.0min\n",
            "[CV 3/3] END max_depth=5, max_features=4, min_samples_leaf=1, min_samples_split=6, n_estimators=500;, score=0.660 total time= 2.9min\n",
            "[CV 1/3] END max_depth=15, max_features=1, min_samples_leaf=1, min_samples_split=3, n_estimators=200;, score=0.974 total time=  50.8s\n",
            "[CV 2/3] END max_depth=15, max_features=1, min_samples_leaf=1, min_samples_split=3, n_estimators=200;, score=0.974 total time=  53.4s\n",
            "[CV 3/3] END max_depth=15, max_features=1, min_samples_leaf=1, min_samples_split=3, n_estimators=200;, score=0.977 total time=  54.3s\n",
            "[CV 1/3] END max_depth=1, max_features=2, min_samples_leaf=4, min_samples_split=3, n_estimators=100;, score=0.866 total time=   6.0s\n",
            "[CV 2/3] END max_depth=1, max_features=2, min_samples_leaf=4, min_samples_split=3, n_estimators=100;, score=0.864 total time=   7.1s\n",
            "[CV 3/3] END max_depth=1, max_features=2, min_samples_leaf=4, min_samples_split=3, n_estimators=100;, score=0.867 total time=   6.7s\n",
            "[CV 1/3] END max_depth=10, max_features=3, min_samples_leaf=2, min_samples_split=10, n_estimators=400;, score=0.915 total time= 3.0min\n",
            "[CV 2/3] END max_depth=10, max_features=3, min_samples_leaf=2, min_samples_split=10, n_estimators=400;, score=0.916 total time= 3.0min\n",
            "[CV 3/3] END max_depth=10, max_features=3, min_samples_leaf=2, min_samples_split=10, n_estimators=400;, score=0.919 total time= 3.0min\n",
            "[CV 1/3] END max_depth=5, max_features=2, min_samples_leaf=1, min_samples_split=10, n_estimators=100;, score=0.871 total time=  20.6s\n",
            "[CV 2/3] END max_depth=5, max_features=2, min_samples_leaf=1, min_samples_split=10, n_estimators=100;, score=0.879 total time=  21.5s\n",
            "[CV 3/3] END max_depth=5, max_features=2, min_samples_leaf=1, min_samples_split=10, n_estimators=100;, score=0.878 total time=  22.1s\n",
            "[CV 1/3] END max_depth=1, max_features=2, min_samples_leaf=1, min_samples_split=10, n_estimators=200;, score=0.866 total time=  13.5s\n",
            "[CV 2/3] END max_depth=1, max_features=2, min_samples_leaf=1, min_samples_split=10, n_estimators=200;, score=0.864 total time=  12.6s\n",
            "[CV 3/3] END max_depth=1, max_features=2, min_samples_leaf=1, min_samples_split=10, n_estimators=200;, score=0.867 total time=  12.4s\n",
            "[CV 1/3] END max_depth=5, max_features=2, min_samples_leaf=4, min_samples_split=2, n_estimators=500;, score=0.882 total time= 1.8min\n",
            "[CV 2/3] END max_depth=5, max_features=2, min_samples_leaf=4, min_samples_split=2, n_estimators=500;, score=0.880 total time= 1.7min\n",
            "[CV 3/3] END max_depth=5, max_features=2, min_samples_leaf=4, min_samples_split=2, n_estimators=500;, score=0.881 total time= 1.7min\n",
            "[CV 1/3] END max_depth=1, max_features=3, min_samples_leaf=4, min_samples_split=5, n_estimators=300;, score=0.866 total time=  26.1s\n",
            "[CV 2/3] END max_depth=1, max_features=3, min_samples_leaf=4, min_samples_split=5, n_estimators=300;, score=0.864 total time=  23.5s\n",
            "[CV 3/3] END max_depth=1, max_features=3, min_samples_leaf=4, min_samples_split=5, n_estimators=300;, score=0.867 total time=  26.3s\n",
            "[CV 1/3] END max_depth=1, max_features=3, min_samples_leaf=1, min_samples_split=10, n_estimators=500;, score=0.866 total time=  40.6s\n",
            "[CV 2/3] END max_depth=1, max_features=3, min_samples_leaf=1, min_samples_split=10, n_estimators=500;, score=0.864 total time=  43.2s\n",
            "[CV 3/3] END max_depth=1, max_features=3, min_samples_leaf=1, min_samples_split=10, n_estimators=500;, score=0.867 total time=  42.7s\n",
            "[CV 1/3] END max_depth=5, max_features=2, min_samples_leaf=1, min_samples_split=5, n_estimators=100;, score=0.871 total time=  19.8s\n",
            "[CV 2/3] END max_depth=5, max_features=2, min_samples_leaf=1, min_samples_split=5, n_estimators=100;, score=0.879 total time=  21.1s\n",
            "[CV 3/3] END max_depth=5, max_features=2, min_samples_leaf=1, min_samples_split=5, n_estimators=100;, score=0.878 total time=  22.7s\n",
            "[CV 1/3] END max_depth=3, max_features=2, min_samples_leaf=4, min_samples_split=2, n_estimators=400;, score=0.831 total time=  55.5s\n",
            "[CV 2/3] END max_depth=3, max_features=2, min_samples_leaf=4, min_samples_split=2, n_estimators=400;, score=0.831 total time=  59.1s\n",
            "[CV 3/3] END max_depth=3, max_features=2, min_samples_leaf=4, min_samples_split=2, n_estimators=400;, score=0.833 total time=  56.5s\n",
            "[CV 1/3] END max_depth=5, max_features=1, min_samples_leaf=1, min_samples_split=3, n_estimators=500;, score=0.831 total time= 1.2min\n",
            "[CV 2/3] END max_depth=5, max_features=1, min_samples_leaf=1, min_samples_split=3, n_estimators=500;, score=0.833 total time= 1.2min\n",
            "[CV 3/3] END max_depth=5, max_features=1, min_samples_leaf=1, min_samples_split=3, n_estimators=500;, score=0.836 total time= 1.2min\n",
            "[CV 1/3] END max_depth=10, max_features=2, min_samples_leaf=1, min_samples_split=10, n_estimators=400;, score=0.914 total time= 2.3min\n",
            "[CV 2/3] END max_depth=10, max_features=2, min_samples_leaf=1, min_samples_split=10, n_estimators=400;, score=0.916 total time= 2.2min\n",
            "[CV 3/3] END max_depth=10, max_features=2, min_samples_leaf=1, min_samples_split=10, n_estimators=400;, score=0.916 total time= 2.2min\n",
            "[CV 1/3] END max_depth=5, max_features=1, min_samples_leaf=4, min_samples_split=5, n_estimators=200;, score=0.838 total time=  28.9s\n",
            "[CV 2/3] END max_depth=5, max_features=1, min_samples_leaf=4, min_samples_split=5, n_estimators=200;, score=0.835 total time=  28.8s\n",
            "[CV 3/3] END max_depth=5, max_features=1, min_samples_leaf=4, min_samples_split=5, n_estimators=200;, score=0.845 total time=  29.7s\n",
            "[CV 1/3] END max_depth=8, max_features=3, min_samples_leaf=1, min_samples_split=10, n_estimators=500;, score=0.896 total time= 3.2min\n",
            "[CV 2/3] END max_depth=8, max_features=3, min_samples_leaf=1, min_samples_split=10, n_estimators=500;, score=0.903 total time= 3.2min\n",
            "[CV 3/3] END max_depth=8, max_features=3, min_samples_leaf=1, min_samples_split=10, n_estimators=500;, score=0.887 total time= 3.3min\n"
          ]
        },
        {
          "data": {
            "text/plain": [
              "{'n_estimators': 500,\n",
              " 'min_samples_split': 2,\n",
              " 'min_samples_leaf': 1,\n",
              " 'max_features': 3,\n",
              " 'max_depth': None}"
            ]
          },
          "execution_count": 61,
          "metadata": {},
          "output_type": "execute_result"
        }
      ],
      "source": [
        "# RandomizedSearchCV\n",
        "\n",
        "# Number of trees in random forest\n",
        "n_estimators = [100, 200, 300, 400, 500]\n",
        "# Number of features to consider at every split\n",
        "max_features = [int(x) for x in np.linspace(1, len(X_train.columns), num = len(X_train.columns))]\n",
        "# Maximum number of levels in tree\n",
        "max_depth = [1, 3, 5, 8, 10, 15]\n",
        "max_depth.append(None)\n",
        "# Minimum number of samples required to split a node\n",
        "min_samples_split = [2, 3, 5, 6, 10]\n",
        "# Minimum number of samples required at each leaf node\n",
        "min_samples_leaf = [1, 2, 4]\n",
        "\n",
        "# Create the random grid\n",
        "random_grid = {\n",
        "               'n_estimators': n_estimators,\n",
        "               'max_features': max_features,\n",
        "               'max_depth': max_depth,\n",
        "               'min_samples_split': min_samples_split,\n",
        "               'min_samples_leaf': min_samples_leaf,\n",
        "              }\n",
        "\n",
        "rnd_random = RandomizedSearchCV(estimator = rnd_clf, \n",
        "                                param_distributions = random_grid, \n",
        "                                n_iter = 50, \n",
        "                                cv = 3, \n",
        "                                verbose = 3, \n",
        "                                scoring = 'recall',\n",
        "                                random_state = 10)\n",
        "\n",
        "rnd_random.fit(X_train, y_train)\n",
        "rnd_random.best_params_"
      ]
    },
    {
      "cell_type": "code",
      "execution_count": null,
      "metadata": {
        "colab": {
          "background_save": true
        },
        "id": "9JdZxZ03KdPs",
        "outputId": "11e54e13-2fe8-4e15-e741-3fdae78ad404"
      },
      "outputs": [
        {
          "data": {
            "text/plain": [
              "{'n_estimators': 500,\n",
              " 'min_samples_split': 2,\n",
              " 'min_samples_leaf': 1,\n",
              " 'max_features': 3,\n",
              " 'max_depth': None}"
            ]
          },
          "execution_count": 62,
          "metadata": {},
          "output_type": "execute_result"
        }
      ],
      "source": [
        "rnd_random.best_params_"
      ]
    },
    {
      "cell_type": "code",
      "execution_count": null,
      "metadata": {
        "colab": {
          "background_save": true
        },
        "id": "ZAW2m9t_KeN3",
        "outputId": "27c4b95e-66ac-4974-fc19-e538dcbf658b"
      },
      "outputs": [
        {
          "data": {
            "text/plain": [
              "0.9918265353220382"
            ]
          },
          "execution_count": 63,
          "metadata": {},
          "output_type": "execute_result"
        }
      ],
      "source": [
        "rnd_random.best_score_"
      ]
    },
    {
      "cell_type": "markdown",
      "metadata": {
        "id": "-0VzXIIcuTah"
      },
      "source": [
        "## Gradient Boosting Classifier\n",
        "\n",
        "- Library: Scikit-learn"
      ]
    },
    {
      "cell_type": "code",
      "execution_count": null,
      "metadata": {
        "colab": {
          "background_save": true
        },
        "id": "LLnnnelYKl_I"
      },
      "outputs": [],
      "source": [
        "# Training\n",
        "\n",
        "name = 'gboost_clf'\n",
        "\n",
        "train = pd.DataFrame(columns = ['n_estimators', 'learning_rate', 'max_depth', 'random_state'])\n",
        "train = train.append({'n_estimators': 100, 'learning_rate':0.1, 'max_depth':3, 'random_state':10}, ignore_index=True)\n",
        "train = train.append({'n_estimators': 500, 'learning_rate':0.5, 'max_depth':1, 'random_state':10}, ignore_index=True)\n",
        "train = train.append({'n_estimators': 50, 'learning_rate':0.01, 'max_depth':10, 'random_state':10}, ignore_index=True)\n",
        "\n",
        "train = train.reset_index()\n",
        "for index, row in train.iterrows():\n",
        "    model_name = name + str(index)\n",
        "    gboost_clf = GradientBoostingClassifier(n_estimators=int(row['n_estimators']), learning_rate=row['learning_rate'],\n",
        "                                            max_depth=int(row['max_depth']), random_state=int(row['random_state']))\n",
        "    gboost_clf.fit(X_train, y_train)\n",
        "   \n",
        "    y_true = y_val\n",
        "    y_pred = gboost_clf.predict(X_val)\n",
        "    evaluation_results = evaluation_metrics(y_true, y_pred)\n",
        "\n",
        "    models = models.append({'model_name': model_name, \n",
        "                            'model': gboost_clf, \n",
        "                            'parameters': gboost_clf.get_params()}, \n",
        "                            ignore_index=True)\n",
        "   \n",
        "    models_eval = models_eval.append({'model_name': model_name, \n",
        "                                      'confusion_matrix' : evaluation_results[0], \n",
        "                                      'accuracy': evaluation_results[1], \n",
        "                                      'recall' : evaluation_results[2], \n",
        "                                      'f1_score': evaluation_results[3], \n",
        "                                      'roc_auc_score': evaluation_results[4]}, \n",
        "                                      ignore_index=True)"
      ]
    },
    {
      "cell_type": "code",
      "execution_count": null,
      "metadata": {
        "colab": {
          "background_save": true
        },
        "id": "FdHGO8xUKm_P",
        "outputId": "e36224d5-04d8-4473-80ab-0e6ff8ec3981"
      },
      "outputs": [
        {
          "data": {
            "text/html": [
              "\n",
              "  <div id=\"df-3dabc069-5a20-498e-aa88-42b67d5d94f9\">\n",
              "    <div class=\"colab-df-container\">\n",
              "      <div>\n",
              "<style scoped>\n",
              "    .dataframe tbody tr th:only-of-type {\n",
              "        vertical-align: middle;\n",
              "    }\n",
              "\n",
              "    .dataframe tbody tr th {\n",
              "        vertical-align: top;\n",
              "    }\n",
              "\n",
              "    .dataframe thead th {\n",
              "        text-align: right;\n",
              "    }\n",
              "</style>\n",
              "<table border=\"1\" class=\"dataframe\">\n",
              "  <thead>\n",
              "    <tr style=\"text-align: right;\">\n",
              "      <th></th>\n",
              "      <th>model_name</th>\n",
              "      <th>confusion_matrix</th>\n",
              "      <th>accuracy</th>\n",
              "      <th>recall</th>\n",
              "      <th>f1_score</th>\n",
              "      <th>roc_auc_score</th>\n",
              "    </tr>\n",
              "  </thead>\n",
              "  <tbody>\n",
              "    <tr>\n",
              "      <th>0</th>\n",
              "      <td>log_clf0</td>\n",
              "      <td>[10970, 6098, 55, 67]</td>\n",
              "      <td>0.642059</td>\n",
              "      <td>0.549180</td>\n",
              "      <td>0.021314</td>\n",
              "      <td>0.595952</td>\n",
              "    </tr>\n",
              "    <tr>\n",
              "      <th>1</th>\n",
              "      <td>log_clf1</td>\n",
              "      <td>[10973, 6095, 56, 66]</td>\n",
              "      <td>0.642176</td>\n",
              "      <td>0.540984</td>\n",
              "      <td>0.021009</td>\n",
              "      <td>0.591941</td>\n",
              "    </tr>\n",
              "    <tr>\n",
              "      <th>2</th>\n",
              "      <td>svc_clf0</td>\n",
              "      <td>[9580, 7488, 27, 95]</td>\n",
              "      <td>0.562827</td>\n",
              "      <td>0.778689</td>\n",
              "      <td>0.024659</td>\n",
              "      <td>0.669986</td>\n",
              "    </tr>\n",
              "    <tr>\n",
              "      <th>3</th>\n",
              "      <td>svc_clf1</td>\n",
              "      <td>[9314, 7754, 33, 89]</td>\n",
              "      <td>0.547004</td>\n",
              "      <td>0.729508</td>\n",
              "      <td>0.022348</td>\n",
              "      <td>0.637604</td>\n",
              "    </tr>\n",
              "    <tr>\n",
              "      <th>4</th>\n",
              "      <td>svc_clf2</td>\n",
              "      <td>[9839, 7229, 39, 83]</td>\n",
              "      <td>0.577196</td>\n",
              "      <td>0.680328</td>\n",
              "      <td>0.022330</td>\n",
              "      <td>0.628393</td>\n",
              "    </tr>\n",
              "    <tr>\n",
              "      <th>5</th>\n",
              "      <td>svc_clf3</td>\n",
              "      <td>[10510, 6558, 26, 96]</td>\n",
              "      <td>0.616987</td>\n",
              "      <td>0.786885</td>\n",
              "      <td>0.028335</td>\n",
              "      <td>0.701329</td>\n",
              "    </tr>\n",
              "    <tr>\n",
              "      <th>6</th>\n",
              "      <td>svc_clf4</td>\n",
              "      <td>[10605, 6463, 26, 96]</td>\n",
              "      <td>0.622513</td>\n",
              "      <td>0.786885</td>\n",
              "      <td>0.028738</td>\n",
              "      <td>0.704112</td>\n",
              "    </tr>\n",
              "    <tr>\n",
              "      <th>7</th>\n",
              "      <td>svc_clf5</td>\n",
              "      <td>[10669, 6399, 25, 97]</td>\n",
              "      <td>0.626294</td>\n",
              "      <td>0.795082</td>\n",
              "      <td>0.029314</td>\n",
              "      <td>0.710085</td>\n",
              "    </tr>\n",
              "    <tr>\n",
              "      <th>8</th>\n",
              "      <td>svc_clf6</td>\n",
              "      <td>[10772, 6296, 26, 96]</td>\n",
              "      <td>0.632228</td>\n",
              "      <td>0.786885</td>\n",
              "      <td>0.029475</td>\n",
              "      <td>0.709004</td>\n",
              "    </tr>\n",
              "    <tr>\n",
              "      <th>9</th>\n",
              "      <td>bayes_clf0</td>\n",
              "      <td>[4988, 12080, 15, 107]</td>\n",
              "      <td>0.296393</td>\n",
              "      <td>0.877049</td>\n",
              "      <td>0.017386</td>\n",
              "      <td>0.584646</td>\n",
              "    </tr>\n",
              "    <tr>\n",
              "      <th>10</th>\n",
              "      <td>bayes_clf1</td>\n",
              "      <td>[7233, 9835, 22, 100]</td>\n",
              "      <td>0.426585</td>\n",
              "      <td>0.819672</td>\n",
              "      <td>0.019887</td>\n",
              "      <td>0.621724</td>\n",
              "    </tr>\n",
              "    <tr>\n",
              "      <th>11</th>\n",
              "      <td>bayes_clf2</td>\n",
              "      <td>[8598, 8470, 31, 91]</td>\n",
              "      <td>0.505468</td>\n",
              "      <td>0.745902</td>\n",
              "      <td>0.020960</td>\n",
              "      <td>0.624826</td>\n",
              "    </tr>\n",
              "    <tr>\n",
              "      <th>12</th>\n",
              "      <td>bayes_clf3</td>\n",
              "      <td>[8630, 8438, 31, 91]</td>\n",
              "      <td>0.507330</td>\n",
              "      <td>0.745902</td>\n",
              "      <td>0.021038</td>\n",
              "      <td>0.625763</td>\n",
              "    </tr>\n",
              "    <tr>\n",
              "      <th>13</th>\n",
              "      <td>bayes_clf4</td>\n",
              "      <td>[8631, 8437, 31, 91]</td>\n",
              "      <td>0.507388</td>\n",
              "      <td>0.745902</td>\n",
              "      <td>0.021040</td>\n",
              "      <td>0.625792</td>\n",
              "    </tr>\n",
              "    <tr>\n",
              "      <th>14</th>\n",
              "      <td>bayes_clf5</td>\n",
              "      <td>[8631, 8437, 31, 91]</td>\n",
              "      <td>0.507388</td>\n",
              "      <td>0.745902</td>\n",
              "      <td>0.021040</td>\n",
              "      <td>0.625792</td>\n",
              "    </tr>\n",
              "    <tr>\n",
              "      <th>15</th>\n",
              "      <td>bayes_clf6</td>\n",
              "      <td>[8631, 8437, 31, 91]</td>\n",
              "      <td>0.507388</td>\n",
              "      <td>0.745902</td>\n",
              "      <td>0.021040</td>\n",
              "      <td>0.625792</td>\n",
              "    </tr>\n",
              "    <tr>\n",
              "      <th>16</th>\n",
              "      <td>neigh_clf0</td>\n",
              "      <td>[16453, 615, 51, 71]</td>\n",
              "      <td>0.961257</td>\n",
              "      <td>0.581967</td>\n",
              "      <td>0.175743</td>\n",
              "      <td>0.772967</td>\n",
              "    </tr>\n",
              "    <tr>\n",
              "      <th>17</th>\n",
              "      <td>neigh_clf1</td>\n",
              "      <td>[16658, 410, 62, 60]</td>\n",
              "      <td>0.972542</td>\n",
              "      <td>0.491803</td>\n",
              "      <td>0.202703</td>\n",
              "      <td>0.733891</td>\n",
              "    </tr>\n",
              "    <tr>\n",
              "      <th>18</th>\n",
              "      <td>neigh_clf2</td>\n",
              "      <td>[16023, 1045, 36, 86]</td>\n",
              "      <td>0.937115</td>\n",
              "      <td>0.704918</td>\n",
              "      <td>0.137271</td>\n",
              "      <td>0.821846</td>\n",
              "    </tr>\n",
              "    <tr>\n",
              "      <th>19</th>\n",
              "      <td>tree_clf0</td>\n",
              "      <td>[16616, 452, 56, 66]</td>\n",
              "      <td>0.970448</td>\n",
              "      <td>0.540984</td>\n",
              "      <td>0.206250</td>\n",
              "      <td>0.757251</td>\n",
              "    </tr>\n",
              "    <tr>\n",
              "      <th>20</th>\n",
              "      <td>tree_clf1</td>\n",
              "      <td>[16623, 445, 56, 66]</td>\n",
              "      <td>0.970855</td>\n",
              "      <td>0.540984</td>\n",
              "      <td>0.208531</td>\n",
              "      <td>0.757456</td>\n",
              "    </tr>\n",
              "    <tr>\n",
              "      <th>21</th>\n",
              "      <td>tree_clf2</td>\n",
              "      <td>[16538, 530, 57, 65]</td>\n",
              "      <td>0.965852</td>\n",
              "      <td>0.532787</td>\n",
              "      <td>0.181311</td>\n",
              "      <td>0.750867</td>\n",
              "    </tr>\n",
              "    <tr>\n",
              "      <th>22</th>\n",
              "      <td>tree_clf3</td>\n",
              "      <td>[16567, 501, 56, 66]</td>\n",
              "      <td>0.967597</td>\n",
              "      <td>0.540984</td>\n",
              "      <td>0.191582</td>\n",
              "      <td>0.755815</td>\n",
              "    </tr>\n",
              "    <tr>\n",
              "      <th>23</th>\n",
              "      <td>rnd_clf0</td>\n",
              "      <td>[16671, 397, 53, 69]</td>\n",
              "      <td>0.973822</td>\n",
              "      <td>0.565574</td>\n",
              "      <td>0.234694</td>\n",
              "      <td>0.771157</td>\n",
              "    </tr>\n",
              "    <tr>\n",
              "      <th>24</th>\n",
              "      <td>rnd_clf1</td>\n",
              "      <td>[16672, 396, 53, 69]</td>\n",
              "      <td>0.973880</td>\n",
              "      <td>0.565574</td>\n",
              "      <td>0.235094</td>\n",
              "      <td>0.771186</td>\n",
              "    </tr>\n",
              "    <tr>\n",
              "      <th>25</th>\n",
              "      <td>rnd_clf2</td>\n",
              "      <td>[16672, 396, 53, 69]</td>\n",
              "      <td>0.973880</td>\n",
              "      <td>0.565574</td>\n",
              "      <td>0.235094</td>\n",
              "      <td>0.771186</td>\n",
              "    </tr>\n",
              "    <tr>\n",
              "      <th>26</th>\n",
              "      <td>gboost_clf0</td>\n",
              "      <td>[14212, 2856, 27, 95]</td>\n",
              "      <td>0.832286</td>\n",
              "      <td>0.778689</td>\n",
              "      <td>0.061829</td>\n",
              "      <td>0.805679</td>\n",
              "    </tr>\n",
              "    <tr>\n",
              "      <th>27</th>\n",
              "      <td>gboost_clf1</td>\n",
              "      <td>[13761, 3307, 28, 94]</td>\n",
              "      <td>0.805992</td>\n",
              "      <td>0.770492</td>\n",
              "      <td>0.053364</td>\n",
              "      <td>0.788369</td>\n",
              "    </tr>\n",
              "    <tr>\n",
              "      <th>28</th>\n",
              "      <td>gboost_clf2</td>\n",
              "      <td>[15315, 1753, 24, 98]</td>\n",
              "      <td>0.896626</td>\n",
              "      <td>0.803279</td>\n",
              "      <td>0.099341</td>\n",
              "      <td>0.850286</td>\n",
              "    </tr>\n",
              "  </tbody>\n",
              "</table>\n",
              "</div>\n",
              "      <button class=\"colab-df-convert\" onclick=\"convertToInteractive('df-3dabc069-5a20-498e-aa88-42b67d5d94f9')\"\n",
              "              title=\"Convert this dataframe to an interactive table.\"\n",
              "              style=\"display:none;\">\n",
              "        \n",
              "  <svg xmlns=\"http://www.w3.org/2000/svg\" height=\"24px\"viewBox=\"0 0 24 24\"\n",
              "       width=\"24px\">\n",
              "    <path d=\"M0 0h24v24H0V0z\" fill=\"none\"/>\n",
              "    <path d=\"M18.56 5.44l.94 2.06.94-2.06 2.06-.94-2.06-.94-.94-2.06-.94 2.06-2.06.94zm-11 1L8.5 8.5l.94-2.06 2.06-.94-2.06-.94L8.5 2.5l-.94 2.06-2.06.94zm10 10l.94 2.06.94-2.06 2.06-.94-2.06-.94-.94-2.06-.94 2.06-2.06.94z\"/><path d=\"M17.41 7.96l-1.37-1.37c-.4-.4-.92-.59-1.43-.59-.52 0-1.04.2-1.43.59L10.3 9.45l-7.72 7.72c-.78.78-.78 2.05 0 2.83L4 21.41c.39.39.9.59 1.41.59.51 0 1.02-.2 1.41-.59l7.78-7.78 2.81-2.81c.8-.78.8-2.07 0-2.86zM5.41 20L4 18.59l7.72-7.72 1.47 1.35L5.41 20z\"/>\n",
              "  </svg>\n",
              "      </button>\n",
              "      \n",
              "  <style>\n",
              "    .colab-df-container {\n",
              "      display:flex;\n",
              "      flex-wrap:wrap;\n",
              "      gap: 12px;\n",
              "    }\n",
              "\n",
              "    .colab-df-convert {\n",
              "      background-color: #E8F0FE;\n",
              "      border: none;\n",
              "      border-radius: 50%;\n",
              "      cursor: pointer;\n",
              "      display: none;\n",
              "      fill: #1967D2;\n",
              "      height: 32px;\n",
              "      padding: 0 0 0 0;\n",
              "      width: 32px;\n",
              "    }\n",
              "\n",
              "    .colab-df-convert:hover {\n",
              "      background-color: #E2EBFA;\n",
              "      box-shadow: 0px 1px 2px rgba(60, 64, 67, 0.3), 0px 1px 3px 1px rgba(60, 64, 67, 0.15);\n",
              "      fill: #174EA6;\n",
              "    }\n",
              "\n",
              "    [theme=dark] .colab-df-convert {\n",
              "      background-color: #3B4455;\n",
              "      fill: #D2E3FC;\n",
              "    }\n",
              "\n",
              "    [theme=dark] .colab-df-convert:hover {\n",
              "      background-color: #434B5C;\n",
              "      box-shadow: 0px 1px 3px 1px rgba(0, 0, 0, 0.15);\n",
              "      filter: drop-shadow(0px 1px 2px rgba(0, 0, 0, 0.3));\n",
              "      fill: #FFFFFF;\n",
              "    }\n",
              "  </style>\n",
              "\n",
              "      <script>\n",
              "        const buttonEl =\n",
              "          document.querySelector('#df-3dabc069-5a20-498e-aa88-42b67d5d94f9 button.colab-df-convert');\n",
              "        buttonEl.style.display =\n",
              "          google.colab.kernel.accessAllowed ? 'block' : 'none';\n",
              "\n",
              "        async function convertToInteractive(key) {\n",
              "          const element = document.querySelector('#df-3dabc069-5a20-498e-aa88-42b67d5d94f9');\n",
              "          const dataTable =\n",
              "            await google.colab.kernel.invokeFunction('convertToInteractive',\n",
              "                                                     [key], {});\n",
              "          if (!dataTable) return;\n",
              "\n",
              "          const docLinkHtml = 'Like what you see? Visit the ' +\n",
              "            '<a target=\"_blank\" href=https://colab.research.google.com/notebooks/data_table.ipynb>data table notebook</a>'\n",
              "            + ' to learn more about interactive tables.';\n",
              "          element.innerHTML = '';\n",
              "          dataTable['output_type'] = 'display_data';\n",
              "          await google.colab.output.renderOutput(dataTable, element);\n",
              "          const docLink = document.createElement('div');\n",
              "          docLink.innerHTML = docLinkHtml;\n",
              "          element.appendChild(docLink);\n",
              "        }\n",
              "      </script>\n",
              "    </div>\n",
              "  </div>\n",
              "  "
            ],
            "text/plain": [
              "     model_name        confusion_matrix  accuracy    recall  f1_score  \\\n",
              "0      log_clf0   [10970, 6098, 55, 67]  0.642059  0.549180  0.021314   \n",
              "1      log_clf1   [10973, 6095, 56, 66]  0.642176  0.540984  0.021009   \n",
              "2      svc_clf0    [9580, 7488, 27, 95]  0.562827  0.778689  0.024659   \n",
              "3      svc_clf1    [9314, 7754, 33, 89]  0.547004  0.729508  0.022348   \n",
              "4      svc_clf2    [9839, 7229, 39, 83]  0.577196  0.680328  0.022330   \n",
              "5      svc_clf3   [10510, 6558, 26, 96]  0.616987  0.786885  0.028335   \n",
              "6      svc_clf4   [10605, 6463, 26, 96]  0.622513  0.786885  0.028738   \n",
              "7      svc_clf5   [10669, 6399, 25, 97]  0.626294  0.795082  0.029314   \n",
              "8      svc_clf6   [10772, 6296, 26, 96]  0.632228  0.786885  0.029475   \n",
              "9    bayes_clf0  [4988, 12080, 15, 107]  0.296393  0.877049  0.017386   \n",
              "10   bayes_clf1   [7233, 9835, 22, 100]  0.426585  0.819672  0.019887   \n",
              "11   bayes_clf2    [8598, 8470, 31, 91]  0.505468  0.745902  0.020960   \n",
              "12   bayes_clf3    [8630, 8438, 31, 91]  0.507330  0.745902  0.021038   \n",
              "13   bayes_clf4    [8631, 8437, 31, 91]  0.507388  0.745902  0.021040   \n",
              "14   bayes_clf5    [8631, 8437, 31, 91]  0.507388  0.745902  0.021040   \n",
              "15   bayes_clf6    [8631, 8437, 31, 91]  0.507388  0.745902  0.021040   \n",
              "16   neigh_clf0    [16453, 615, 51, 71]  0.961257  0.581967  0.175743   \n",
              "17   neigh_clf1    [16658, 410, 62, 60]  0.972542  0.491803  0.202703   \n",
              "18   neigh_clf2   [16023, 1045, 36, 86]  0.937115  0.704918  0.137271   \n",
              "19    tree_clf0    [16616, 452, 56, 66]  0.970448  0.540984  0.206250   \n",
              "20    tree_clf1    [16623, 445, 56, 66]  0.970855  0.540984  0.208531   \n",
              "21    tree_clf2    [16538, 530, 57, 65]  0.965852  0.532787  0.181311   \n",
              "22    tree_clf3    [16567, 501, 56, 66]  0.967597  0.540984  0.191582   \n",
              "23     rnd_clf0    [16671, 397, 53, 69]  0.973822  0.565574  0.234694   \n",
              "24     rnd_clf1    [16672, 396, 53, 69]  0.973880  0.565574  0.235094   \n",
              "25     rnd_clf2    [16672, 396, 53, 69]  0.973880  0.565574  0.235094   \n",
              "26  gboost_clf0   [14212, 2856, 27, 95]  0.832286  0.778689  0.061829   \n",
              "27  gboost_clf1   [13761, 3307, 28, 94]  0.805992  0.770492  0.053364   \n",
              "28  gboost_clf2   [15315, 1753, 24, 98]  0.896626  0.803279  0.099341   \n",
              "\n",
              "    roc_auc_score  \n",
              "0        0.595952  \n",
              "1        0.591941  \n",
              "2        0.669986  \n",
              "3        0.637604  \n",
              "4        0.628393  \n",
              "5        0.701329  \n",
              "6        0.704112  \n",
              "7        0.710085  \n",
              "8        0.709004  \n",
              "9        0.584646  \n",
              "10       0.621724  \n",
              "11       0.624826  \n",
              "12       0.625763  \n",
              "13       0.625792  \n",
              "14       0.625792  \n",
              "15       0.625792  \n",
              "16       0.772967  \n",
              "17       0.733891  \n",
              "18       0.821846  \n",
              "19       0.757251  \n",
              "20       0.757456  \n",
              "21       0.750867  \n",
              "22       0.755815  \n",
              "23       0.771157  \n",
              "24       0.771186  \n",
              "25       0.771186  \n",
              "26       0.805679  \n",
              "27       0.788369  \n",
              "28       0.850286  "
            ]
          },
          "metadata": {},
          "output_type": "display_data"
        }
      ],
      "source": [
        "display(models_eval)"
      ]
    },
    {
      "cell_type": "code",
      "execution_count": null,
      "metadata": {
        "colab": {
          "background_save": true
        },
        "id": "Esowp65835v8",
        "outputId": "8096a027-fca1-4712-88eb-5fc170d6b7d0"
      },
      "outputs": [
        {
          "name": "stdout",
          "output_type": "stream",
          "text": [
            "Fitting 3 folds for each of 15 candidates, totalling 45 fits\n",
            "[CV 1/3] END learning_rate=0.15, max_depth=15, n_estimators=1000;, score=0.994 total time=32.6min\n",
            "[CV 2/3] END learning_rate=0.15, max_depth=15, n_estimators=1000;, score=0.993 total time=31.5min\n",
            "[CV 3/3] END learning_rate=0.15, max_depth=15, n_estimators=1000;, score=0.994 total time=32.9min\n",
            "[CV 1/3] END learning_rate=0.01, max_depth=5, n_estimators=750;, score=0.878 total time= 7.9min\n",
            "[CV 2/3] END learning_rate=0.01, max_depth=5, n_estimators=750;, score=0.878 total time= 7.9min\n",
            "[CV 3/3] END learning_rate=0.01, max_depth=5, n_estimators=750;, score=0.882 total time= 8.5min\n",
            "[CV 1/3] END learning_rate=0.01, max_depth=3, n_estimators=500;, score=0.807 total time= 3.5min\n",
            "[CV 2/3] END learning_rate=0.01, max_depth=3, n_estimators=500;, score=0.807 total time= 3.3min\n",
            "[CV 3/3] END learning_rate=0.01, max_depth=3, n_estimators=500;, score=0.805 total time= 3.4min\n",
            "[CV 1/3] END learning_rate=0.1, max_depth=5, n_estimators=1000;, score=0.967 total time=10.6min\n",
            "[CV 2/3] END learning_rate=0.1, max_depth=5, n_estimators=1000;, score=0.967 total time=10.7min\n",
            "[CV 3/3] END learning_rate=0.1, max_depth=5, n_estimators=1000;, score=0.969 total time=10.4min\n",
            "[CV 1/3] END learning_rate=0.2, max_depth=15, n_estimators=100;, score=0.991 total time= 3.5min\n",
            "[CV 2/3] END learning_rate=0.2, max_depth=15, n_estimators=100;, score=0.991 total time= 3.4min\n",
            "[CV 3/3] END learning_rate=0.2, max_depth=15, n_estimators=100;, score=0.992 total time= 3.4min\n",
            "[CV 1/3] END learning_rate=0.01, max_depth=10, n_estimators=1000;, score=0.978 total time=20.9min\n",
            "[CV 2/3] END learning_rate=0.01, max_depth=10, n_estimators=1000;, score=0.980 total time=20.8min\n",
            "[CV 3/3] END learning_rate=0.01, max_depth=10, n_estimators=1000;, score=0.982 total time=20.5min\n",
            "[CV 1/3] END learning_rate=0.15, max_depth=10, n_estimators=750;, score=0.991 total time=15.6min\n",
            "[CV 2/3] END learning_rate=0.15, max_depth=10, n_estimators=750;, score=0.991 total time=15.5min\n",
            "[CV 3/3] END learning_rate=0.15, max_depth=10, n_estimators=750;, score=0.992 total time=15.5min\n",
            "[CV 1/3] END learning_rate=0.05, max_depth=15, n_estimators=1000;, score=0.992 total time=34.7min\n",
            "[CV 2/3] END learning_rate=0.05, max_depth=15, n_estimators=1000;, score=0.992 total time=33.6min\n",
            "[CV 3/3] END learning_rate=0.05, max_depth=15, n_estimators=1000;, score=0.993 total time=33.3min\n",
            "[CV 1/3] END learning_rate=0.01, max_depth=1, n_estimators=750;, score=0.817 total time= 1.8min\n",
            "[CV 2/3] END learning_rate=0.01, max_depth=1, n_estimators=750;, score=0.828 total time= 1.8min\n",
            "[CV 3/3] END learning_rate=0.01, max_depth=1, n_estimators=750;, score=0.791 total time= 1.7min\n",
            "[CV 1/3] END learning_rate=0.3, max_depth=1, n_estimators=500;, score=0.795 total time= 1.2min\n",
            "[CV 2/3] END learning_rate=0.3, max_depth=1, n_estimators=500;, score=0.792 total time= 1.2min\n",
            "[CV 3/3] END learning_rate=0.3, max_depth=1, n_estimators=500;, score=0.795 total time= 1.2min\n",
            "[CV 1/3] END learning_rate=0.3, max_depth=5, n_estimators=1000;, score=0.978 total time= 9.8min\n",
            "[CV 2/3] END learning_rate=0.3, max_depth=5, n_estimators=1000;, score=0.979 total time=10.0min\n",
            "[CV 3/3] END learning_rate=0.3, max_depth=5, n_estimators=1000;, score=0.979 total time=10.1min\n",
            "[CV 1/3] END learning_rate=0.05, max_depth=5, n_estimators=1000;, score=0.950 total time=10.1min\n",
            "[CV 2/3] END learning_rate=0.05, max_depth=5, n_estimators=1000;, score=0.948 total time=10.0min\n",
            "[CV 3/3] END learning_rate=0.05, max_depth=5, n_estimators=1000;, score=0.949 total time= 9.9min\n",
            "[CV 1/3] END learning_rate=0.2, max_depth=15, n_estimators=1000;, score=0.993 total time=29.8min\n",
            "[CV 2/3] END learning_rate=0.2, max_depth=15, n_estimators=1000;, score=0.993 total time=29.6min\n",
            "[CV 3/3] END learning_rate=0.2, max_depth=15, n_estimators=1000;, score=0.994 total time=29.8min\n",
            "[CV 1/3] END learning_rate=0.25, max_depth=1, n_estimators=100;, score=0.770 total time=  14.2s\n",
            "[CV 2/3] END learning_rate=0.25, max_depth=1, n_estimators=100;, score=0.760 total time=  14.1s\n",
            "[CV 3/3] END learning_rate=0.25, max_depth=1, n_estimators=100;, score=0.762 total time=  13.8s\n",
            "[CV 1/3] END learning_rate=0.5, max_depth=1, n_estimators=750;, score=0.814 total time= 1.8min\n",
            "[CV 2/3] END learning_rate=0.5, max_depth=1, n_estimators=750;, score=0.812 total time= 1.8min\n",
            "[CV 3/3] END learning_rate=0.5, max_depth=1, n_estimators=750;, score=0.813 total time= 1.7min\n"
          ]
        },
        {
          "data": {
            "text/plain": [
              "{'n_estimators': 1000, 'max_depth': 15, 'learning_rate': 0.15}"
            ]
          },
          "execution_count": 66,
          "metadata": {},
          "output_type": "execute_result"
        }
      ],
      "source": [
        "# RandomizedSearchCV\n",
        "\n",
        "random_grid = {\n",
        "              \"n_estimators\": [100, 500, 750, 1000],\n",
        "              \"learning_rate\": [0.01, 0.05, 0.10, 0.15, 0.20, 0.25, 0.30, 0.50],\n",
        "              \"max_depth\": [1, 3, 5, 8, 10, 15]\n",
        "              }\n",
        "\n",
        "gboost_random = RandomizedSearchCV(estimator = gboost_clf, \n",
        "                                 param_distributions = random_grid, \n",
        "                                 n_iter = 15, \n",
        "                                 cv = 3, \n",
        "                                 verbose = 3, \n",
        "                                 scoring = 'recall',\n",
        "                                 random_state = 10)\n",
        "\n",
        "gboost_random.fit(X_train, y_train)\n",
        "gboost_random.best_params_"
      ]
    },
    {
      "cell_type": "code",
      "execution_count": null,
      "metadata": {
        "colab": {
          "background_save": true
        },
        "id": "f6-C1PnUKo9b",
        "outputId": "b655bb24-a3a0-46dc-c365-d23bf0488169"
      },
      "outputs": [
        {
          "data": {
            "text/plain": [
              "{'n_estimators': 1000, 'max_depth': 15, 'learning_rate': 0.15}"
            ]
          },
          "execution_count": 67,
          "metadata": {},
          "output_type": "execute_result"
        }
      ],
      "source": [
        "gboost_random.best_params_"
      ]
    },
    {
      "cell_type": "code",
      "execution_count": null,
      "metadata": {
        "colab": {
          "background_save": true
        },
        "id": "8MoALn6aKpy4",
        "outputId": "25d8e194-b01d-46ac-cf40-5a617cc01a8b"
      },
      "outputs": [
        {
          "data": {
            "text/plain": [
              "0.9934905491383635"
            ]
          },
          "execution_count": 68,
          "metadata": {},
          "output_type": "execute_result"
        }
      ],
      "source": [
        "gboost_random.best_score_"
      ]
    },
    {
      "cell_type": "markdown",
      "metadata": {
        "id": "J3M3ob9buTHm"
      },
      "source": [
        "## XGBoost\n",
        "\n",
        "- Library: xgboost"
      ]
    },
    {
      "cell_type": "code",
      "execution_count": null,
      "metadata": {
        "id": "gsrIlNccx2Ve"
      },
      "outputs": [],
      "source": [
        "# Training\n",
        "\n",
        "name = 'xgboost_clf'\n",
        "\n",
        "train = pd.DataFrame(columns = ['n_estimators', 'learning_rate', 'max_depth', 'random_state'])\n",
        "train = train.append({'n_estimators': 1000, 'learning_rate':0.1, 'max_depth':8, 'random_state':10}, ignore_index=True)\n",
        "train = train.append({'n_estimators': 500, 'learning_rate':0.5, 'max_depth':1, 'random_state':10}, ignore_index=True)\n",
        "train = train.append({'n_estimators': 750, 'learning_rate':0.01, 'max_depth':10, 'random_state':10}, ignore_index=True)\n",
        "\n",
        "train = train.reset_index()\n",
        "for index, row in train.iterrows():\n",
        "    model_name = name + str(index)\n",
        "    xgboost_clf = XGBClassifier(n_estimators=int(row['n_estimators']), learning_rate=row['learning_rate'],\n",
        "                                max_depth=int(row['max_depth']), random_state=int(row['random_state']))\n",
        "    xgboost_clf.fit(X_train, y_train)\n",
        "    \n",
        "    y_true = y_val\n",
        "    y_pred = xgboost_clf.predict(X_val)\n",
        "    evaluation_results = evaluation_metrics(y_true, y_pred)\n",
        "\n",
        "    models = models.append({'model_name': model_name, \n",
        "                            'model': xgboost_clf, \n",
        "                            'parameters': xgboost_clf.get_params()}, \n",
        "                            ignore_index=True)\n",
        "    \n",
        "    models_eval = models_eval.append({'model_name': model_name, \n",
        "                                      'confusion_matrix' : evaluation_results[0], \n",
        "                                      'accuracy': evaluation_results[1], \n",
        "                                      'recall' : evaluation_results[2], \n",
        "                                      'f1_score': evaluation_results[3], \n",
        "                                      'roc_auc_score': evaluation_results[4]}, \n",
        "                                      ignore_index=True)"
      ]
    },
    {
      "cell_type": "code",
      "execution_count": null,
      "metadata": {
        "id": "blvSjmCQx4Jn"
      },
      "outputs": [],
      "source": [
        "display(models_eval)"
      ]
    },
    {
      "cell_type": "code",
      "execution_count": null,
      "metadata": {
        "id": "Gsxz-zlSx4rX"
      },
      "outputs": [],
      "source": [
        "# RandomizedSearchCV\n",
        "\n",
        "random_grid = {\n",
        "              \"n_estimators\": [100, 500, 750, 1000],\n",
        "              \"learning_rate\": [0.01, 0.05, 0.10, 0.15, 0.20, 0.25, 0.30, 0.50],\n",
        "              \"max_depth\": [1, 3, 5, 8, 10, 15],\n",
        "              \"min_child_weight\" : [1, 3, 5, 7]\n",
        "              }\n",
        "\n",
        "xgboost_random = RandomizedSearchCV(estimator = xgboost_clf, \n",
        "                                 param_distributions = random_grid, \n",
        "                                 n_iter = 50, \n",
        "                                 cv = 3, \n",
        "                                 verbose = 3, \n",
        "                                 scoring = 'recall',\n",
        "                                 random_state = 10)\n",
        "\n",
        "xgboost_random.fit(X_train, y_train)\n",
        "xgboost_random.best_params_"
      ]
    },
    {
      "cell_type": "code",
      "execution_count": null,
      "metadata": {
        "id": "iyoU-_v-x7yk"
      },
      "outputs": [],
      "source": [
        "xgboost_random.best_params_"
      ]
    },
    {
      "cell_type": "code",
      "execution_count": null,
      "metadata": {
        "id": "XVWwrCr-x7BR"
      },
      "outputs": [],
      "source": [
        "xgboost_random.best_score_"
      ]
    },
    {
      "cell_type": "markdown",
      "metadata": {
        "id": "p3iAdzksueOk"
      },
      "source": [
        "## LightGBM\n",
        "\n",
        "- Library: lightbgm"
      ]
    },
    {
      "cell_type": "code",
      "execution_count": null,
      "metadata": {
        "id": "Uos6QrfPx-Sx"
      },
      "outputs": [],
      "source": [
        "# Training\n",
        "\n",
        "name = 'lightgbm_clf'\n",
        "\n",
        "train = pd.DataFrame(columns = ['n_estimators', 'learning_rate', 'max_depth', 'random_state'])\n",
        "train = train.append({'n_estimators': 1000, 'learning_rate':0.1, 'max_depth':3, 'random_state':10}, ignore_index=True)\n",
        "train = train.append({'n_estimators': 500, 'learning_rate':0.5, 'max_depth':1, 'random_state':10}, ignore_index=True)\n",
        "train = train.append({'n_estimators': 750, 'learning_rate':0.01, 'max_depth':10, 'random_state':10}, ignore_index=True)\n",
        "\n",
        "train = train.reset_index()\n",
        "for index, row in train.iterrows():\n",
        "    model_name = name + str(index)\n",
        "    lightgbm_clf = LGBMClassifier(n_estimators=int(row['n_estimators']), learning_rate=row['learning_rate'],\n",
        "                                max_depth=int(row['max_depth']), random_state=int(row['random_state']))\n",
        "    lightgbm_clf.fit(X_train, y_train)\n",
        "    \n",
        "    y_true = y_val\n",
        "    y_pred = lightgbm_clf.predict(X_val)\n",
        "    evaluation_results = evaluation_metrics(y_true, y_pred)   \n",
        "\n",
        "    models = models.append({'model_name': model_name, \n",
        "                            'model': lightgbm_clf, \n",
        "                            'parameters': lightgbm_clf.get_params()}, \n",
        "                            ignore_index=True)\n",
        "    \n",
        "    models_eval = models_eval.append({'model_name': model_name, \n",
        "                                      'confusion_matrix' : evaluation_results[0], \n",
        "                                      'accuracy': evaluation_results[1], \n",
        "                                      'recall' : evaluation_results[2], \n",
        "                                      'f1_score': evaluation_results[3], \n",
        "                                      'roc_auc_score': evaluation_results[4]}, \n",
        "                                      ignore_index=True)"
      ]
    },
    {
      "cell_type": "code",
      "execution_count": null,
      "metadata": {
        "id": "pb9U9uW9x_Hr"
      },
      "outputs": [],
      "source": [
        "display(models_eval)"
      ]
    },
    {
      "cell_type": "code",
      "execution_count": null,
      "metadata": {
        "id": "eQMX7UAuyAGt"
      },
      "outputs": [],
      "source": [
        "# RandomizedSearchCV\n",
        "\n",
        "random_grid = {\n",
        "              \"n_estimators\": [100, 500, 750, 1000],\n",
        "              \"learning_rate\": [0.01, 0.05, 0.10, 0.15, 0.20, 0.25, 0.30, 0.50],\n",
        "              \"max_depth\": [1, 3, 5, 8, 10, 15, 20],\n",
        "              \"num_leaves\": [10, 31, 50, 100, 200, 500],\n",
        "              \"min_data_in_leaf\": [10, 20, 25, 50, 100]\n",
        "              }\n",
        "\n",
        "lightgbm_random = RandomizedSearchCV(estimator = lightgbm_clf, \n",
        "                                 param_distributions = random_grid, \n",
        "                                 n_iter = 50, \n",
        "                                 cv = 5, \n",
        "                                 verbose = 3, \n",
        "                                 scoring = 'recall',\n",
        "                                 random_state = 10)\n",
        "\n",
        "lightgbm_random.fit(X_train, y_train)\n",
        "lightgbm_random.best_params_"
      ]
    },
    {
      "cell_type": "code",
      "execution_count": null,
      "metadata": {
        "id": "pN10sCa7yBLN"
      },
      "outputs": [],
      "source": [
        "lightgbm_random.best_params_"
      ]
    },
    {
      "cell_type": "code",
      "execution_count": null,
      "metadata": {
        "id": "Nl0bjtkGyB4v"
      },
      "outputs": [],
      "source": [
        "lightgbm_random.best_score_"
      ]
    },
    {
      "cell_type": "markdown",
      "metadata": {
        "id": "QpthCMRHuhWe"
      },
      "source": [
        "## Artificial Neural Network\n",
        "\n",
        "- Library: Keras, Tensorflow"
      ]
    },
    {
      "cell_type": "code",
      "execution_count": null,
      "metadata": {
        "colab": {
          "base_uri": "https://localhost:8080/"
        },
        "id": "fJ6kS48GZVH3",
        "outputId": "3868595b-8371-43fe-9fb1-b950f73cbca2"
      },
      "outputs": [
        {
          "name": "stdout",
          "output_type": "stream",
          "text": [
            "2.11.0\n",
            "2.11.0\n"
          ]
        }
      ],
      "source": [
        "tf.random.set_seed(10)\n",
        "\n",
        "print(tf.__version__)\n",
        "print(keras.__version__)"
      ]
    },
    {
      "cell_type": "markdown",
      "metadata": {
        "id": "vivojhGnfeEz"
      },
      "source": [
        "#### Experiment 1: Base Model"
      ]
    },
    {
      "cell_type": "code",
      "execution_count": null,
      "metadata": {
        "colab": {
          "base_uri": "https://localhost:8080/"
        },
        "id": "XO7_fl_pfaEP",
        "outputId": "05ec6d25-b836-4081-aac9-92cf00805366"
      },
      "outputs": [
        {
          "name": "stdout",
          "output_type": "stream",
          "text": [
            "<class 'pandas.core.frame.DataFrame'>\n",
            "Int64Index: 272834 entries, 32349 to 236669\n",
            "Data columns (total 6 columns):\n",
            " #   Column      Non-Null Count   Dtype  \n",
            "---  ------      --------------   -----  \n",
            " 0   LATITUDE    272834 non-null  float64\n",
            " 1   LONGITUDE   272834 non-null  float64\n",
            " 2   CO_MOL/M2   272834 non-null  float64\n",
            " 3   SO2_MOL/M2  272834 non-null  float64\n",
            " 4   NO2_MOL/M2  272834 non-null  float64\n",
            " 5   O3_MOL/M2   272834 non-null  float64\n",
            "dtypes: float64(6)\n",
            "memory usage: 14.6 MB\n"
          ]
        }
      ],
      "source": [
        "X_train.info()"
      ]
    },
    {
      "cell_type": "code",
      "execution_count": null,
      "metadata": {
        "colab": {
          "base_uri": "https://localhost:8080/"
        },
        "id": "OVpParvzfhtl",
        "outputId": "c5f72ee8-805f-4aa3-e475-801889d56cc9"
      },
      "outputs": [
        {
          "name": "stdout",
          "output_type": "stream",
          "text": [
            "Model: \"sequential_1\"\n",
            "_________________________________________________________________\n",
            " Layer (type)                Output Shape              Param #   \n",
            "=================================================================\n",
            " dense_3 (Dense)             (None, 15)                105       \n",
            "                                                                 \n",
            " dense_4 (Dense)             (None, 10)                160       \n",
            "                                                                 \n",
            " dense_5 (Dense)             (None, 1)                 11        \n",
            "                                                                 \n",
            "=================================================================\n",
            "Total params: 276\n",
            "Trainable params: 276\n",
            "Non-trainable params: 0\n",
            "_________________________________________________________________\n"
          ]
        }
      ],
      "source": [
        "ann_clf = keras.models.Sequential([\n",
        "    keras.layers.Dense(15, input_shape=(X_train.shape[1],), activation='relu'), # No bias term\n",
        "    # keras.layers.Dense(10, activation='relu'), \n",
        "    keras.layers.Dense(10, activation='relu'), \n",
        "    keras.layers.Dense(1, activation='sigmoid')\n",
        "])\n",
        "\n",
        "ann_clf.summary()"
      ]
    },
    {
      "cell_type": "code",
      "execution_count": null,
      "metadata": {
        "colab": {
          "base_uri": "https://localhost:8080/",
          "height": 72
        },
        "id": "zfmrnfPOhhPr",
        "outputId": "1609f72f-08ed-45fa-a741-23232b2c59c8"
      },
      "outputs": [
        {
          "data": {
            "text/plain": [
              "0    136417\n",
              "1    136417\n",
              "Name: FIRE_OCCURRED, dtype: int64"
            ]
          },
          "metadata": {},
          "output_type": "display_data"
        }
      ],
      "source": [
        "display(y_train.value_counts())"
      ]
    },
    {
      "cell_type": "code",
      "execution_count": null,
      "metadata": {
        "colab": {
          "base_uri": "https://localhost:8080/",
          "height": 72
        },
        "id": "ZN18brcTbRwx",
        "outputId": "f0fb5017-5729-4c42-f45b-4d1916dca8f8"
      },
      "outputs": [
        {
          "data": {
            "text/plain": [
              "0    17068\n",
              "1      122\n",
              "Name: FIRE_OCCURRED, dtype: int64"
            ]
          },
          "metadata": {},
          "output_type": "display_data"
        }
      ],
      "source": [
        "display(y_val.value_counts())"
      ]
    },
    {
      "cell_type": "code",
      "execution_count": null,
      "metadata": {
        "colab": {
          "base_uri": "https://localhost:8080/"
        },
        "id": "bK1SXteMfln5",
        "outputId": "ce574400-6ccb-45e1-fdb2-a4852feb4db6"
      },
      "outputs": [
        {
          "name": "stdout",
          "output_type": "stream",
          "text": [
            "Epoch 1/50\n",
            "27284/27284 [==============================] - 123s 4ms/step - loss: 0.5026 - accuracy: 0.7534 - val_loss: 0.4742 - val_accuracy: 0.7434\n",
            "Epoch 2/50\n",
            "27284/27284 [==============================] - 83s 3ms/step - loss: 0.4420 - accuracy: 0.7886 - val_loss: 0.3624 - val_accuracy: 0.8160\n",
            "Epoch 3/50\n",
            "27284/27284 [==============================] - 88s 3ms/step - loss: 0.4193 - accuracy: 0.7986 - val_loss: 0.4366 - val_accuracy: 0.7666\n",
            "Epoch 4/50\n",
            "27284/27284 [==============================] - 86s 3ms/step - loss: 0.3991 - accuracy: 0.8121 - val_loss: 0.4489 - val_accuracy: 0.7510\n",
            "Epoch 5/50\n",
            "27284/27284 [==============================] - 83s 3ms/step - loss: 0.3882 - accuracy: 0.8213 - val_loss: 0.3748 - val_accuracy: 0.8284\n",
            "Epoch 6/50\n",
            "27284/27284 [==============================] - 82s 3ms/step - loss: 0.3801 - accuracy: 0.8271 - val_loss: 0.2327 - val_accuracy: 0.9081\n",
            "Epoch 7/50\n",
            "27284/27284 [==============================] - 81s 3ms/step - loss: 0.3748 - accuracy: 0.8306 - val_loss: 0.3514 - val_accuracy: 0.8454\n",
            "Epoch 8/50\n",
            "27284/27284 [==============================] - 82s 3ms/step - loss: 0.3707 - accuracy: 0.8333 - val_loss: 0.3255 - val_accuracy: 0.8649\n",
            "Epoch 9/50\n",
            "27284/27284 [==============================] - 83s 3ms/step - loss: 0.3662 - accuracy: 0.8368 - val_loss: 0.4253 - val_accuracy: 0.8045\n",
            "Epoch 10/50\n",
            "27284/27284 [==============================] - 84s 3ms/step - loss: 0.3627 - accuracy: 0.8395 - val_loss: 0.3707 - val_accuracy: 0.8432\n",
            "Epoch 11/50\n",
            "27284/27284 [==============================] - 82s 3ms/step - loss: 0.3591 - accuracy: 0.8414 - val_loss: 0.2934 - val_accuracy: 0.8693\n",
            "Epoch 12/50\n",
            "27284/27284 [==============================] - 81s 3ms/step - loss: 0.3550 - accuracy: 0.8436 - val_loss: 0.3778 - val_accuracy: 0.8376\n",
            "Epoch 13/50\n",
            "27284/27284 [==============================] - 83s 3ms/step - loss: 0.3523 - accuracy: 0.8461 - val_loss: 0.3505 - val_accuracy: 0.8538\n",
            "Epoch 14/50\n",
            "27284/27284 [==============================] - 83s 3ms/step - loss: 0.3496 - accuracy: 0.8474 - val_loss: 0.3433 - val_accuracy: 0.8599\n",
            "Epoch 15/50\n",
            "27284/27284 [==============================] - 80s 3ms/step - loss: 0.3480 - accuracy: 0.8490 - val_loss: 0.3705 - val_accuracy: 0.8428\n",
            "Epoch 16/50\n",
            "27284/27284 [==============================] - 80s 3ms/step - loss: 0.3467 - accuracy: 0.8492 - val_loss: 0.3312 - val_accuracy: 0.8673\n",
            "Epoch 17/50\n",
            "27284/27284 [==============================] - 82s 3ms/step - loss: 0.3448 - accuracy: 0.8497 - val_loss: 0.2920 - val_accuracy: 0.8828\n",
            "Epoch 18/50\n",
            "27284/27284 [==============================] - 82s 3ms/step - loss: 0.3439 - accuracy: 0.8508 - val_loss: 0.3360 - val_accuracy: 0.8539\n",
            "Epoch 19/50\n",
            "27284/27284 [==============================] - 81s 3ms/step - loss: 0.3426 - accuracy: 0.8517 - val_loss: 0.3580 - val_accuracy: 0.8501\n",
            "Epoch 20/50\n",
            "27284/27284 [==============================] - 81s 3ms/step - loss: 0.3419 - accuracy: 0.8526 - val_loss: 0.3043 - val_accuracy: 0.8768\n",
            "Epoch 21/50\n",
            "27284/27284 [==============================] - 80s 3ms/step - loss: 0.3412 - accuracy: 0.8530 - val_loss: 0.3301 - val_accuracy: 0.8614\n",
            "Epoch 22/50\n",
            "27284/27284 [==============================] - 80s 3ms/step - loss: 0.3404 - accuracy: 0.8532 - val_loss: 0.4550 - val_accuracy: 0.7943\n",
            "Epoch 23/50\n",
            "27284/27284 [==============================] - 83s 3ms/step - loss: 0.3390 - accuracy: 0.8537 - val_loss: 0.3409 - val_accuracy: 0.8505\n",
            "Epoch 24/50\n",
            "27284/27284 [==============================] - 81s 3ms/step - loss: 0.3378 - accuracy: 0.8544 - val_loss: 0.4233 - val_accuracy: 0.8166\n",
            "Epoch 25/50\n",
            "27284/27284 [==============================] - 83s 3ms/step - loss: 0.3369 - accuracy: 0.8550 - val_loss: 0.3403 - val_accuracy: 0.8563\n",
            "Epoch 26/50\n",
            "27284/27284 [==============================] - 84s 3ms/step - loss: 0.3365 - accuracy: 0.8550 - val_loss: 0.4077 - val_accuracy: 0.8179\n",
            "Epoch 27/50\n",
            "27284/27284 [==============================] - 84s 3ms/step - loss: 0.3358 - accuracy: 0.8549 - val_loss: 0.2655 - val_accuracy: 0.8927\n",
            "Epoch 28/50\n",
            "27284/27284 [==============================] - 83s 3ms/step - loss: 0.3350 - accuracy: 0.8554 - val_loss: 0.4484 - val_accuracy: 0.8004\n",
            "Epoch 29/50\n",
            "27284/27284 [==============================] - 83s 3ms/step - loss: 0.3346 - accuracy: 0.8556 - val_loss: 0.3429 - val_accuracy: 0.8554\n",
            "Epoch 30/50\n",
            "27284/27284 [==============================] - 82s 3ms/step - loss: 0.3344 - accuracy: 0.8559 - val_loss: 0.2614 - val_accuracy: 0.9007\n",
            "Epoch 31/50\n",
            "27284/27284 [==============================] - 85s 3ms/step - loss: 0.3335 - accuracy: 0.8561 - val_loss: 0.2513 - val_accuracy: 0.8998\n",
            "Epoch 32/50\n",
            "27284/27284 [==============================] - 82s 3ms/step - loss: 0.3334 - accuracy: 0.8564 - val_loss: 0.3179 - val_accuracy: 0.8736\n",
            "Epoch 33/50\n",
            "27284/27284 [==============================] - 82s 3ms/step - loss: 0.3334 - accuracy: 0.8560 - val_loss: 0.3732 - val_accuracy: 0.8398\n",
            "Epoch 34/50\n",
            "27284/27284 [==============================] - 82s 3ms/step - loss: 0.3326 - accuracy: 0.8562 - val_loss: 0.3405 - val_accuracy: 0.8508\n",
            "Epoch 35/50\n",
            "27284/27284 [==============================] - 82s 3ms/step - loss: 0.3325 - accuracy: 0.8568 - val_loss: 0.3351 - val_accuracy: 0.8543\n",
            "Epoch 36/50\n",
            "27284/27284 [==============================] - 82s 3ms/step - loss: 0.3318 - accuracy: 0.8569 - val_loss: 0.3387 - val_accuracy: 0.8568\n",
            "Epoch 37/50\n",
            "27284/27284 [==============================] - 85s 3ms/step - loss: 0.3313 - accuracy: 0.8580 - val_loss: 0.2970 - val_accuracy: 0.8741\n",
            "Epoch 38/50\n",
            "27284/27284 [==============================] - 83s 3ms/step - loss: 0.3312 - accuracy: 0.8574 - val_loss: 0.3193 - val_accuracy: 0.8609\n",
            "Epoch 39/50\n",
            "27284/27284 [==============================] - 83s 3ms/step - loss: 0.3308 - accuracy: 0.8574 - val_loss: 0.3649 - val_accuracy: 0.8388\n",
            "Epoch 40/50\n",
            "27284/27284 [==============================] - 83s 3ms/step - loss: 0.3310 - accuracy: 0.8579 - val_loss: 0.3713 - val_accuracy: 0.8261\n",
            "Epoch 41/50\n",
            "27284/27284 [==============================] - 85s 3ms/step - loss: 0.3301 - accuracy: 0.8578 - val_loss: 0.2447 - val_accuracy: 0.9090\n",
            "Epoch 42/50\n",
            "27284/27284 [==============================] - 84s 3ms/step - loss: 0.3301 - accuracy: 0.8581 - val_loss: 0.2632 - val_accuracy: 0.8899\n",
            "Epoch 43/50\n",
            "27284/27284 [==============================] - 86s 3ms/step - loss: 0.3298 - accuracy: 0.8578 - val_loss: 0.2914 - val_accuracy: 0.8911\n",
            "Epoch 44/50\n",
            "27284/27284 [==============================] - 86s 3ms/step - loss: 0.3299 - accuracy: 0.8586 - val_loss: 0.3550 - val_accuracy: 0.8405\n",
            "Epoch 45/50\n",
            "27284/27284 [==============================] - 85s 3ms/step - loss: 0.3290 - accuracy: 0.8589 - val_loss: 0.3052 - val_accuracy: 0.8757\n",
            "Epoch 46/50\n",
            "27284/27284 [==============================] - 84s 3ms/step - loss: 0.3292 - accuracy: 0.8583 - val_loss: 0.3149 - val_accuracy: 0.8676\n",
            "Epoch 47/50\n",
            "27284/27284 [==============================] - 83s 3ms/step - loss: 0.3294 - accuracy: 0.8588 - val_loss: 0.3507 - val_accuracy: 0.8513\n",
            "Epoch 48/50\n",
            "27284/27284 [==============================] - 85s 3ms/step - loss: 0.3292 - accuracy: 0.8585 - val_loss: 0.3246 - val_accuracy: 0.8627\n",
            "Epoch 49/50\n",
            "27284/27284 [==============================] - 86s 3ms/step - loss: 0.3292 - accuracy: 0.8591 - val_loss: 0.3427 - val_accuracy: 0.8624\n",
            "Epoch 50/50\n",
            "27284/27284 [==============================] - 86s 3ms/step - loss: 0.3286 - accuracy: 0.8589 - val_loss: 0.3210 - val_accuracy: 0.8676\n"
          ]
        }
      ],
      "source": [
        "ann_clf.compile(optimizer = 'adam',\n",
        "                metrics=['accuracy'],\n",
        "                loss = 'binary_crossentropy')\n",
        "\n",
        "# ann_clf.compile(optimizer = 'adam', \n",
        "#                 loss ='binary_crossentropy',\n",
        "#                 metrics=[tf.keras.metrics.Accuracy(), tf.keras.metrics.Recall()])\n",
        "\n",
        "record = ann_clf.fit(\n",
        "            X_train, \n",
        "            y_train, \n",
        "            validation_data = (X_val, y_val), \n",
        "            batch_size = 10, \n",
        "            epochs = 50)"
      ]
    },
    {
      "cell_type": "code",
      "execution_count": null,
      "metadata": {
        "colab": {
          "base_uri": "https://localhost:8080/",
          "height": 121
        },
        "id": "ChuhGr3Ufmgq",
        "outputId": "0f41c803-9640-4c0c-9399-598e0334b32a"
      },
      "outputs": [
        {
          "data": {
            "image/png": "[encoded data removed]",
            "text/plain": [
              "<IPython.core.display.Image object>"
            ]
          },
          "execution_count": 25,
          "metadata": {},
          "output_type": "execute_result"
        }
      ],
      "source": [
        "keras.utils.plot_model(ann_clf, show_shapes=True, rankdir=\"LR\")"
      ]
    },
    {
      "cell_type": "code",
      "execution_count": null,
      "metadata": {
        "colab": {
          "base_uri": "https://localhost:8080/"
        },
        "id": "rsSZTcIlfnQa",
        "outputId": "a6668eda-396a-4933-a486-27fbe8e4614a"
      },
      "outputs": [
        {
          "name": "stdout",
          "output_type": "stream",
          "text": [
            "Train: 0.860, Validation: 0.868, Test: 0.865\n"
          ]
        }
      ],
      "source": [
        "_, train_acc = ann_clf.evaluate(X_train, y_train, verbose=0)\n",
        "_, val_acc = ann_clf.evaluate(X_val, y_val, verbose=0)\n",
        "_, test_acc = ann_clf.evaluate(X_test, y_test, verbose=0)\n",
        "print('Train: %.3f, Validation: %.3f, Test: %.3f' % (train_acc, val_acc, test_acc))"
      ]
    },
    {
      "cell_type": "code",
      "execution_count": null,
      "metadata": {
        "colab": {
          "base_uri": "https://localhost:8080/",
          "height": 302
        },
        "id": "Jvmnf03BfoDj",
        "outputId": "e7dadba7-8164-489f-cee7-704cd23bd358"
      },
      "outputs": [
        {
          "data": {
            "image/png": "[encoded data removed]",
            "text/plain": [
              "<Figure size 432x288 with 1 Axes>"
            ]
          },
          "metadata": {},
          "output_type": "display_data"
        }
      ],
      "source": [
        "plt.plot(record.history['accuracy'], label='Training')\n",
        "plt.plot(record.history['val_accuracy'], label='Validation')\n",
        "plt.legend()\n",
        "plt.xlabel('Epochs', fontsize=16)\n",
        "plt.ylabel('Accuracy', fontsize=16)\n",
        "plt.title('Accuracy Curves', fontsize=16)\n",
        "plt.show()"
      ]
    },
    {
      "cell_type": "code",
      "execution_count": null,
      "metadata": {
        "colab": {
          "base_uri": "https://localhost:8080/",
          "height": 301
        },
        "id": "Bk9KBNCCfpw5",
        "outputId": "96dacb5e-65af-43d3-cbf4-80d3590a5f12"
      },
      "outputs": [
        {
          "data": {
            "image/png": "[encoded data removed]",
            "text/plain": [
              "<Figure size 432x288 with 1 Axes>"
            ]
          },
          "metadata": {},
          "output_type": "display_data"
        }
      ],
      "source": [
        "# plot training history\n",
        "plt.plot(record.history['loss'], label='Training')\n",
        "plt.plot(record.history['val_loss'], label='Validation')\n",
        "plt.legend()\n",
        "plt.xlabel('Epochs', fontsize=14)\n",
        "plt.ylabel('Loss', fontsize=14)\n",
        "plt.title('Loss Curves', fontsize=16)\n",
        "plt.show()"
      ]
    },
    {
      "cell_type": "markdown",
      "metadata": {
        "id": "hy1WHdJSfrl1"
      },
      "source": [
        "#### Experiment 2: Different Batch Sizes"
      ]
    },
    {
      "cell_type": "code",
      "execution_count": null,
      "metadata": {
        "id": "EbpRvs_nfsV4"
      },
      "outputs": [],
      "source": [
        "# Fit a Model and Plot Learning Curve\n",
        "\n",
        "def fit_model_1(X_train, y_train, X_val, y_val, n_batch):\n",
        "  \n",
        "  # Define Model\n",
        "  ann_clf = keras.models.Sequential([\n",
        "      keras.layers.Dense(15, input_shape=(X_train.shape[1],), activation='relu'), # No bias term\n",
        "      # keras.layers.Dense(10, activation='relu'), \n",
        "      keras.layers.Dense(10, activation='relu'), \n",
        "      keras.layers.Dense(1, activation='sigmoid')\n",
        "  ])\n",
        "\n",
        "  # Compile Model\n",
        "  ann_clf.compile(optimizer = 'adam',\n",
        "                  metrics=['accuracy'],\n",
        "                  loss = 'binary_crossentropy')\n",
        "\n",
        "  \n",
        "  # Fit Model\n",
        "  history = ann_clf.fit(X_train,\n",
        "                      y_train,\n",
        "                      validation_data=(X_val, y_val),\n",
        "                      epochs=100,\n",
        "                      verbose=0,\n",
        "                      batch_size=n_batch)\n",
        "\n",
        "  # Plot Learning Curves\n",
        "  plt.plot(history.history['accuracy'], label='train') \n",
        "  plt.plot(history.history['val_accuracy'], label='test') \n",
        "  plt.title('batch='+str(n_batch)) \n",
        "  plt.legend()"
      ]
    },
    {
      "cell_type": "code",
      "execution_count": null,
      "metadata": {
        "colab": {
          "background_save": true
        },
        "id": "govzlyT3fwI0",
        "outputId": "9c53712f-38c7-44c1-d1ef-9ce1f6402d82"
      },
      "outputs": [
        {
          "data": {
            "image/png": "[encoded data removed]",
            "text/plain": [
              "<Figure size 720x1080 with 6 Axes>"
            ]
          },
          "metadata": {},
          "output_type": "display_data"
        }
      ],
      "source": [
        "# Create Learning Curves for Different Batch Sizes\n",
        "\n",
        "# batch_sizes = [4, 6, 10, 16, 32, 64, 128, 260]\n",
        "batch_sizes = [5, 10, 15, 20, 25, 30]\n",
        "\n",
        "plt.figure(figsize=(10,15))\n",
        "for i in range(len(batch_sizes)):\n",
        "\n",
        "  # Determine the Plot Number\n",
        "  plot_no = 420 + (i+1)\n",
        "  plt.subplot(plot_no)\n",
        "\n",
        "  # Fit Model and Plot Learning Curves for a Batch Size\n",
        "  fit_model_1(X_train, y_train, X_val, y_val, batch_sizes[i])\n",
        "\n",
        "plt.show()"
      ]
    },
    {
      "cell_type": "markdown",
      "metadata": {
        "id": "ijreZVeVs9OP"
      },
      "source": [
        "Based on the accuracy graph above, the model that is good enough to show stability is the model with batch size 5"
      ]
    },
    {
      "cell_type": "markdown",
      "metadata": {
        "id": "jDdPwZjcfxsF"
      },
      "source": [
        "#### Experiment 3: Different EPOCHs"
      ]
    },
    {
      "cell_type": "code",
      "execution_count": null,
      "metadata": {
        "colab": {
          "background_save": true
        },
        "id": "gjSGc9u6fxTv"
      },
      "outputs": [],
      "source": [
        "# Fit a Model and Plot Learning Curve\n",
        "\n",
        "def fit_model_2(X_train, y_train, X_val, y_val, n_epoch):\n",
        "\n",
        "  # Define Model\n",
        "  ann_clf = keras.models.Sequential([\n",
        "      keras.layers.Dense(15, input_shape=(X_train.shape[1],), activation='relu'), # No bias term\n",
        "      # keras.layers.Dense(10, activation='relu'), \n",
        "      keras.layers.Dense(10, activation='relu'), \n",
        "      keras.layers.Dense(1, activation='sigmoid')\n",
        "  ])\n",
        "\n",
        "  # Compile Model\n",
        "  ann_clf.compile(optimizer = 'adam',\n",
        "                  metrics=['accuracy'],\n",
        "                  loss = 'binary_crossentropy')\n",
        "\n",
        "    \n",
        "  # Fit Model\n",
        "  history = ann_clf.fit(X_train,\n",
        "                      y_train,\n",
        "                      validation_data=(X_val, y_val),\n",
        "                      epochs=n_epoch,\n",
        "                      verbose=0,\n",
        "                      batch_size=15)\n",
        "    \n",
        "  # Plot Learning Curves\n",
        "  plt.plot(history.history['accuracy'], label='train')\n",
        "  plt.plot(history.history['val_accuracy'], label='test')\n",
        "  plt.title('epoch='+str(n_epoch))\n",
        "  plt.legend()"
      ]
    },
    {
      "cell_type": "code",
      "execution_count": null,
      "metadata": {
        "colab": {
          "background_save": true
        },
        "id": "SP2zm_ySfznt",
        "outputId": "ed970c3f-169c-44ab-e884-865e8fed68b3"
      },
      "outputs": [
        {
          "data": {
            "image/png": "[encoded data removed]",
            "text/plain": [
              "<Figure size 720x1080 with 4 Axes>"
            ]
          },
          "metadata": {},
          "output_type": "display_data"
        }
      ],
      "source": [
        "# Create Learning Curves for Different EPOCHs\n",
        "\n",
        "epochs = [20, 50, 80, 100]\n",
        "\n",
        "plt.figure(figsize=(10,15))\n",
        "for i in range(len(epochs)):\n",
        "\n",
        "  # Determine the Plot Number\n",
        "  plot_no = 420 + (i+1)\n",
        "  plt.subplot(plot_no)\n",
        "\n",
        "  # Fit Model and Plot Learning Curves for an EPOCH\n",
        "  fit_model_2(X_train, y_train, X_val, y_val, epochs[i])\n",
        "\n",
        "plt.show()"
      ]
    },
    {
      "cell_type": "markdown",
      "metadata": {
        "id": "FgOswfIGtCEp"
      },
      "source": [
        "Based on the accuracy graph above, the model that is good enough to show stability is the model with EPCOH 80"
      ]
    },
    {
      "cell_type": "markdown",
      "metadata": {
        "id": "3_QvFWOmf0JZ"
      },
      "source": [
        "#### Experiment 4: Early Stopping"
      ]
    },
    {
      "cell_type": "code",
      "execution_count": null,
      "metadata": {
        "colab": {
          "background_save": true
        },
        "id": "3AUOp_Qwf2_U"
      },
      "outputs": [],
      "source": [
        "from keras.callbacks import EarlyStopping\n",
        "from keras.callbacks import ModelCheckpoint"
      ]
    },
    {
      "cell_type": "code",
      "execution_count": null,
      "metadata": {
        "colab": {
          "background_save": true
        },
        "id": "-dBPUNAngRj7",
        "outputId": "aaf907c6-81a2-4627-e7cd-2ec8aff3be9c"
      },
      "outputs": [
        {
          "name": "stdout",
          "output_type": "stream",
          "text": [
            "\n",
            "Epoch 1: val_accuracy improved from -inf to 0.69250, saving model to best_model.h5\n",
            "\n",
            "Epoch 2: val_accuracy improved from 0.69250 to 0.79953, saving model to best_model.h5\n",
            "\n",
            "Epoch 3: val_accuracy did not improve from 0.79953\n",
            "\n",
            "Epoch 4: val_accuracy did not improve from 0.79953\n",
            "\n",
            "Epoch 5: val_accuracy did not improve from 0.79953\n",
            "\n",
            "Epoch 6: val_accuracy did not improve from 0.79953\n",
            "\n",
            "Epoch 7: val_accuracy improved from 0.79953 to 0.81210, saving model to best_model.h5\n",
            "\n",
            "Epoch 8: val_accuracy improved from 0.81210 to 0.84101, saving model to best_model.h5\n",
            "\n",
            "Epoch 9: val_accuracy improved from 0.84101 to 0.84311, saving model to best_model.h5\n",
            "\n",
            "Epoch 10: val_accuracy did not improve from 0.84311\n",
            "\n",
            "Epoch 11: val_accuracy did not improve from 0.84311\n",
            "\n",
            "Epoch 12: val_accuracy did not improve from 0.84311\n",
            "\n",
            "Epoch 13: val_accuracy did not improve from 0.84311\n",
            "\n",
            "Epoch 14: val_accuracy did not improve from 0.84311\n",
            "\n",
            "Epoch 15: val_accuracy did not improve from 0.84311\n",
            "\n",
            "Epoch 16: val_accuracy improved from 0.84311 to 0.85055, saving model to best_model.h5\n",
            "\n",
            "Epoch 17: val_accuracy did not improve from 0.85055\n",
            "\n",
            "Epoch 18: val_accuracy did not improve from 0.85055\n",
            "\n",
            "Epoch 19: val_accuracy did not improve from 0.85055\n",
            "\n",
            "Epoch 20: val_accuracy did not improve from 0.85055\n",
            "\n",
            "Epoch 21: val_accuracy did not improve from 0.85055\n",
            "\n",
            "Epoch 22: val_accuracy did not improve from 0.85055\n",
            "\n",
            "Epoch 23: val_accuracy did not improve from 0.85055\n",
            "\n",
            "Epoch 24: val_accuracy did not improve from 0.85055\n",
            "\n",
            "Epoch 25: val_accuracy did not improve from 0.85055\n",
            "\n",
            "Epoch 26: val_accuracy did not improve from 0.85055\n",
            "\n",
            "Epoch 27: val_accuracy did not improve from 0.85055\n",
            "\n",
            "Epoch 28: val_accuracy did not improve from 0.85055\n",
            "\n",
            "Epoch 29: val_accuracy improved from 0.85055 to 0.86027, saving model to best_model.h5\n",
            "\n",
            "Epoch 30: val_accuracy did not improve from 0.86027\n",
            "\n",
            "Epoch 31: val_accuracy did not improve from 0.86027\n",
            "\n",
            "Epoch 32: val_accuracy did not improve from 0.86027\n",
            "\n",
            "Epoch 33: val_accuracy did not improve from 0.86027\n",
            "\n",
            "Epoch 34: val_accuracy did not improve from 0.86027\n",
            "\n",
            "Epoch 35: val_accuracy did not improve from 0.86027\n",
            "\n",
            "Epoch 36: val_accuracy did not improve from 0.86027\n",
            "\n",
            "Epoch 37: val_accuracy did not improve from 0.86027\n",
            "\n",
            "Epoch 38: val_accuracy did not improve from 0.86027\n",
            "\n",
            "Epoch 39: val_accuracy did not improve from 0.86027\n",
            "\n",
            "Epoch 40: val_accuracy did not improve from 0.86027\n",
            "\n",
            "Epoch 41: val_accuracy did not improve from 0.86027\n",
            "\n",
            "Epoch 42: val_accuracy did not improve from 0.86027\n",
            "\n",
            "Epoch 43: val_accuracy did not improve from 0.86027\n",
            "\n",
            "Epoch 44: val_accuracy improved from 0.86027 to 0.87679, saving model to best_model.h5\n",
            "\n",
            "Epoch 45: val_accuracy did not improve from 0.87679\n",
            "\n",
            "Epoch 46: val_accuracy did not improve from 0.87679\n",
            "\n",
            "Epoch 47: val_accuracy did not improve from 0.87679\n",
            "\n",
            "Epoch 48: val_accuracy did not improve from 0.87679\n",
            "\n",
            "Epoch 49: val_accuracy did not improve from 0.87679\n",
            "\n",
            "Epoch 50: val_accuracy did not improve from 0.87679\n"
          ]
        }
      ],
      "source": [
        "def fit_model_3():\n",
        "\n",
        "  # Define Model\n",
        "  ann_clf = keras.models.Sequential([\n",
        "      keras.layers.Dense(15, input_shape=(X_train.shape[1],), activation='relu'), # No bias term\n",
        "      # keras.layers.Dense(10, activation='relu'), \n",
        "      keras.layers.Dense(10, activation='relu'), \n",
        "      keras.layers.Dropout(0.2),\n",
        "      keras.layers.Dense(1, activation='sigmoid')\n",
        "  ])\n",
        "\n",
        "  # Compile Model\n",
        "  ann_clf.compile(optimizer = 'adam',\n",
        "                  metrics=['accuracy'],\n",
        "                  loss = 'binary_crossentropy')\n",
        "\n",
        "  return ann_clf\n",
        "\n",
        "ann_clf = fit_model_3()\n",
        "\n",
        "es = EarlyStopping(monitor='val_loss',\n",
        "                   mode='min',\n",
        "                   verbose=1,\n",
        "                   patience=150)\n",
        "\n",
        "mc = ModelCheckpoint('best_model.h5',\n",
        "                     monitor='val_accuracy',\n",
        "                     mode='max',\n",
        "                     verbose=1,\n",
        "                     save_best_only=True)\n",
        "\n",
        "history = ann_clf.fit(X_train,\n",
        "                    y_train,\n",
        "                    validation_data=(X_val, y_val),\n",
        "                    epochs=50,\n",
        "                    verbose=0,\n",
        "                    batch_size=15,\n",
        "                    callbacks=[es, mc])"
      ]
    },
    {
      "cell_type": "code",
      "execution_count": null,
      "metadata": {
        "colab": {
          "background_save": true
        },
        "id": "C5BRoQZKs2xD",
        "outputId": "402349ae-3466-434e-c7cc-ed8d2be1f45c"
      },
      "outputs": [
        {
          "data": {
            "image/png": "[encoded data removed]",
            "text/plain": [
              "<Figure size 432x288 with 1 Axes>"
            ]
          },
          "metadata": {},
          "output_type": "display_data"
        }
      ],
      "source": [
        "# plot training history\n",
        "plt.plot(history.history['loss'], label='Training')\n",
        "plt.plot(history.history['val_loss'], label='Validation')\n",
        "plt.legend()\n",
        "plt.xlabel('Epochs', fontsize=14)\n",
        "plt.ylabel('Loss', fontsize=14)\n",
        "plt.title('Loss Curves', fontsize=16)\n",
        "plt.show()"
      ]
    },
    {
      "cell_type": "code",
      "execution_count": null,
      "metadata": {
        "colab": {
          "background_save": true
        },
        "id": "ctyV4qGXs32m",
        "outputId": "95b12684-29f9-4558-d694-244e319faf18"
      },
      "outputs": [
        {
          "data": {
            "image/png": "[encoded data removed]",
            "text/plain": [
              "<Figure size 576x360 with 1 Axes>"
            ]
          },
          "metadata": {},
          "output_type": "display_data"
        }
      ],
      "source": [
        "plt.figure(figsize=[8,5])\n",
        "plt.plot(history.history['accuracy'], label='Training')\n",
        "plt.plot(history.history['val_accuracy'], label='Validation')\n",
        "plt.legend()\n",
        "plt.xlabel('Epochs', fontsize=16)\n",
        "plt.ylabel('Accuracy', fontsize=16)\n",
        "plt.title('Accuracy Curves', fontsize=16)\n",
        "\n",
        "plt.show()"
      ]
    },
    {
      "cell_type": "code",
      "execution_count": null,
      "metadata": {
        "colab": {
          "background_save": true
        },
        "id": "U2gkZNesMiMV",
        "outputId": "eb032cf8-e818-4655-ea04-e81161f9431d"
      },
      "outputs": [
        {
          "name": "stdout",
          "output_type": "stream",
          "text": [
            "Train: 0.872, Validation: 0.841, Test: 0.842\n"
          ]
        }
      ],
      "source": [
        "_, train_acc = ann_clf.evaluate(X_train, y_train, verbose=0)\n",
        "_, val_acc = ann_clf.evaluate(X_val, y_val, verbose=0)\n",
        "_, test_acc = ann_clf.evaluate(X_test, y_test, verbose=0)\n",
        "print('Train: %.3f, Validation: %.3f, Test: %.3f' % (train_acc, val_acc, test_acc))"
      ]
    },
    {
      "cell_type": "markdown",
      "metadata": {
        "id": "ScrqamwvMuWL"
      },
      "source": [
        "Accuracy result for no early stopping  - Train: 0.964, Validation: 0.946, Test: 0.945\n",
        "\n",
        "Accuracy result for early stopping - Train: 0.961, Validation: 0.935, Test: 0.931\n",
        "\n",
        "Early stopping is not beneficial"
      ]
    },
    {
      "cell_type": "markdown",
      "metadata": {
        "id": "4rBdGe3Gukv6"
      },
      "source": [
        "## Voting Classifier\n",
        "\n",
        "- Library: Scikit-learn, Keras, Tensorflow\n",
        "- Shuffling does not affect the model building. No random_state.\n",
        "- No need for RandomizedSearchCV since there is only 1 important hyperparameter: voting"
      ]
    },
    {
      "cell_type": "code",
      "execution_count": null,
      "metadata": {
        "id": "g96PV4i57y_2"
      },
      "outputs": [],
      "source": [
        "# Re-train top 3 models using their best hyperparameters\n",
        "\n",
        "model_1 = LGBMClassifier(n_estimators=1000, learning_rate=0.1, max_depth=3, random_state=10)\n",
        "model_2 = GradientBoostingClassifier(n_estimators=500, learning_rate=0.5, max_depth=1, random_state=10)\n",
        "model_3 = RandomForestClassifier(n_estimators=1000, max_depth = None, n_jobs =-1, random_state=10)\n",
        "\n",
        "name = 'ensem_clf'\n",
        "\n",
        "train = pd.DataFrame(columns = ['voting', 'n_jobs'])\n",
        "train = train.append({'voting': 'hard', 'n_jobs': -1}, ignore_index=True)\n",
        "train = train.append({'voting': 'soft', 'n_jobs': -1}, ignore_index=True)\n",
        "train = train.reset_index()\n",
        "\n",
        "for index, row in train.iterrows():\n",
        "    model_name = name + str(index)\n",
        "    ens_clf = VotingClassifier(estimators=[('m1', model_1), ('m2', model_2), ('m3', model_3)],\n",
        "                               voting = row['voting'],\n",
        "                               n_jobs = int(row['n_jobs']))\n",
        "    ens_clf.fit(X_train, y_train)\n",
        "    y_true = y_val\n",
        "    y_pred = ens_clf.predict(X_val)\n",
        "    evaluation_results = evaluation_metrics(y_true, y_pred)\n",
        "\n",
        "    models = models.append({'model_name': model_name, \n",
        "                            'model': ens_clf, \n",
        "                            'parameters': ens_clf.get_params()}, \n",
        "                            ignore_index=True)\n",
        "    \n",
        "    models_eval = models_eval.append({'model_name': model_name, \n",
        "                                      'confusion_matrix' : evaluation_results[0], \n",
        "                                      'accuracy': evaluation_results[1], \n",
        "                                      'recall' : evaluation_results[2], \n",
        "                                      'f1_score': evaluation_results[3], \n",
        "                                      'roc_auc_score': evaluation_results[4]}, \n",
        "                                      ignore_index=True)"
      ]
    },
    {
      "cell_type": "markdown",
      "metadata": {
        "id": "aH_ZSwaoefvB"
      },
      "source": [
        "Best Parameters: \n",
        "\n",
        "{'voting': 'hard'}"
      ]
    },
    {
      "cell_type": "markdown",
      "metadata": {
        "id": "VSpOrrm2gNXL"
      },
      "source": [
        "# Model Training & Validation Results"
      ]
    },
    {
      "cell_type": "markdown",
      "metadata": {
        "id": "VznMSI5Zv4zN"
      },
      "source": [
        "## Best hyperparameters for each model:\n",
        "\n",
        "**log_clf:**\n",
        "\n",
        "{'warm_start': True,\n",
        " 'solver': 'lbfgs',\n",
        " 'penalty': 'none',\n",
        " 'max_iter': 331,\n",
        " 'dual': False,\n",
        " 'C': 0}\n",
        "\n",
        "**svm_clf:**\n",
        "\n",
        "{'kernel': 'rbf','C' : '8','class_weight'='balanced'}\n",
        "\n",
        "**bayes_clf:**\n",
        "\n",
        "{'var_smoothing': '1e-3'}\n",
        "\n",
        "**knn_clf:**\n",
        "\n",
        "{'n_neighbors': 19, 'algorithm': 'kd_tree'}\n",
        "\n",
        "**tree_clf:**\n",
        "\n",
        "{'splitter': 'random',\n",
        " 'min_samples_leaf': 2,\n",
        " 'max_features': 11,\n",
        " 'max_depth': None,\n",
        " 'criterion': 'entropy'}\n",
        "\n",
        "**rnd_clf:**\n",
        "\n",
        "{'n_estimators': 415,\n",
        " 'min_samples_split': 6,\n",
        " 'min_samples_leaf': 1,\n",
        " 'max_features': 4,\n",
        " 'max_depth': 18}\n",
        "\n",
        "**gboost_clf:**\n",
        "\n",
        "{'n_estimators': 1000, 'max_depth': 8, 'learning_rate': 0.1}\n",
        "\n",
        "**xgboost_clf:**\n",
        "\n",
        "{'n_estimators': 1000,\n",
        " 'min_child_weight': 7,\n",
        " 'max_depth': 8,\n",
        " 'learning_rate': 0.1}\n",
        "\n",
        "**lightgbm_clf:**\n",
        "\n",
        "{'num_leaves': 50,\n",
        " 'n_estimators': 1000,\n",
        " 'min_data_in_leaf': 10,\n",
        " 'max_depth': 8,\n",
        " 'learning_rate': 0.05}\n",
        "\n",
        "**ann_clf:**\n",
        "- Batch size 15\n",
        "- EPOCH 50\n",
        "\n",
        "**ens_clf:**\n",
        "\n",
        "{'voting':'hard'}\n",
        "\n"
      ]
    }
  ],
  "metadata": {
    "accelerator": "TPU",
    "colab": {
      "provenance": []
    },
    "gpuClass": "standard",
    "kernelspec": {
      "display_name": "Python 3",
      "name": "python3"
    },
    "language_info": {
      "name": "python"
    }
  },
  "nbformat": 4,
  "nbformat_minor": 0
}
