{
  "cells": [
    {
      "cell_type": "markdown",
      "metadata": {
        "id": "COF7WWOtCQRP"
      },
      "source": [
        "# Model Training & Evaluation Pipeline"
      ]
    },
    {
      "cell_type": "markdown",
      "metadata": {
        "id": "kNbJ7WYUXWks"
      },
      "source": [
        "Details: [Model Training Specifications](https://docs.google.com/document/d/1UiDi8nyTcfMeMNIAz3KntlVZBlYrpoMAURuDccTt-wk/edit?usp=sharing)\n",
        "\n",
        "Model Evaluation: Identify best parameters for each model"
      ]
    },
    {
      "cell_type": "code",
      "execution_count": null,
      "metadata": {
        "colab": {
          "base_uri": "https://localhost:8080/"
        },
        "id": "qK_KRJw0rpA9",
        "outputId": "db5d0cf1-0e1f-4bcf-a894-75bfd420d5f4"
      },
      "outputs": [
        {
          "output_type": "stream",
          "name": "stdout",
          "text": [
            "Mounted at /content/drive\n"
          ]
        }
      ],
      "source": [
        "# Basic Libraries\n",
        "\n",
        "import numpy as np\n",
        "import pandas as pd\n",
        "import seaborn as sb\n",
        "import matplotlib.pyplot as plt\n",
        "from datetime import datetime\n",
        "\n",
        "from google.colab import drive\n",
        "drive.mount('/content/drive')"
      ]
    },
    {
      "cell_type": "code",
      "execution_count": null,
      "metadata": {
        "colab": {
          "base_uri": "https://localhost:8080/",
          "height": 206
        },
        "id": "BTKpuPDqvTli",
        "outputId": "f47f8b8c-fe96-461c-ea0f-a76816033fb8"
      },
      "outputs": [
        {
          "output_type": "execute_result",
          "data": {
            "text/plain": [
              "   LATITUDE  LONGITUDE  CO_MOL/M2  SO2_MOL/M2  NO2_MOL/M2  O3_MOL/M2  \\\n",
              "0  0.079561   0.356387   0.252793    0.175102    0.048868   0.390066   \n",
              "1  0.079561   0.356387   0.267145    0.175102    0.048868   0.390066   \n",
              "2  0.079561   0.356387   0.252793    0.175102    0.041340   0.390066   \n",
              "3  0.079561   0.356387   0.267145    0.175102    0.041340   0.390066   \n",
              "4  0.083532   0.351189   0.154547    0.210118    0.045284   0.550787   \n",
              "\n",
              "   LOCATION  INSTRUMENT  DRY_SEASON  ACQ_TIME_07:00:00  ACQ_TIME_others  \\\n",
              "0   0.19186         0.0         1.0                1.0              0.0   \n",
              "1   0.19186         0.0         1.0                1.0              0.0   \n",
              "2   0.19186         0.0         1.0                1.0              0.0   \n",
              "3   0.19186         0.0         1.0                1.0              0.0   \n",
              "4   0.19186         0.0         1.0                1.0              0.0   \n",
              "\n",
              "   FIRE_OCCURRED  \n",
              "0              0  \n",
              "1              0  \n",
              "2              0  \n",
              "3              0  \n",
              "4              0  "
            ],
            "text/html": [
              "\n",
              "  <div id=\"df-e6b78a8a-2d88-4cdb-a90e-b4501a79b974\">\n",
              "    <div class=\"colab-df-container\">\n",
              "      <div>\n",
              "<style scoped>\n",
              "    .dataframe tbody tr th:only-of-type {\n",
              "        vertical-align: middle;\n",
              "    }\n",
              "\n",
              "    .dataframe tbody tr th {\n",
              "        vertical-align: top;\n",
              "    }\n",
              "\n",
              "    .dataframe thead th {\n",
              "        text-align: right;\n",
              "    }\n",
              "</style>\n",
              "<table border=\"1\" class=\"dataframe\">\n",
              "  <thead>\n",
              "    <tr style=\"text-align: right;\">\n",
              "      <th></th>\n",
              "      <th>LATITUDE</th>\n",
              "      <th>LONGITUDE</th>\n",
              "      <th>CO_MOL/M2</th>\n",
              "      <th>SO2_MOL/M2</th>\n",
              "      <th>NO2_MOL/M2</th>\n",
              "      <th>O3_MOL/M2</th>\n",
              "      <th>LOCATION</th>\n",
              "      <th>INSTRUMENT</th>\n",
              "      <th>DRY_SEASON</th>\n",
              "      <th>ACQ_TIME_07:00:00</th>\n",
              "      <th>ACQ_TIME_others</th>\n",
              "      <th>FIRE_OCCURRED</th>\n",
              "    </tr>\n",
              "  </thead>\n",
              "  <tbody>\n",
              "    <tr>\n",
              "      <th>0</th>\n",
              "      <td>0.079561</td>\n",
              "      <td>0.356387</td>\n",
              "      <td>0.252793</td>\n",
              "      <td>0.175102</td>\n",
              "      <td>0.048868</td>\n",
              "      <td>0.390066</td>\n",
              "      <td>0.19186</td>\n",
              "      <td>0.0</td>\n",
              "      <td>1.0</td>\n",
              "      <td>1.0</td>\n",
              "      <td>0.0</td>\n",
              "      <td>0</td>\n",
              "    </tr>\n",
              "    <tr>\n",
              "      <th>1</th>\n",
              "      <td>0.079561</td>\n",
              "      <td>0.356387</td>\n",
              "      <td>0.267145</td>\n",
              "      <td>0.175102</td>\n",
              "      <td>0.048868</td>\n",
              "      <td>0.390066</td>\n",
              "      <td>0.19186</td>\n",
              "      <td>0.0</td>\n",
              "      <td>1.0</td>\n",
              "      <td>1.0</td>\n",
              "      <td>0.0</td>\n",
              "      <td>0</td>\n",
              "    </tr>\n",
              "    <tr>\n",
              "      <th>2</th>\n",
              "      <td>0.079561</td>\n",
              "      <td>0.356387</td>\n",
              "      <td>0.252793</td>\n",
              "      <td>0.175102</td>\n",
              "      <td>0.041340</td>\n",
              "      <td>0.390066</td>\n",
              "      <td>0.19186</td>\n",
              "      <td>0.0</td>\n",
              "      <td>1.0</td>\n",
              "      <td>1.0</td>\n",
              "      <td>0.0</td>\n",
              "      <td>0</td>\n",
              "    </tr>\n",
              "    <tr>\n",
              "      <th>3</th>\n",
              "      <td>0.079561</td>\n",
              "      <td>0.356387</td>\n",
              "      <td>0.267145</td>\n",
              "      <td>0.175102</td>\n",
              "      <td>0.041340</td>\n",
              "      <td>0.390066</td>\n",
              "      <td>0.19186</td>\n",
              "      <td>0.0</td>\n",
              "      <td>1.0</td>\n",
              "      <td>1.0</td>\n",
              "      <td>0.0</td>\n",
              "      <td>0</td>\n",
              "    </tr>\n",
              "    <tr>\n",
              "      <th>4</th>\n",
              "      <td>0.083532</td>\n",
              "      <td>0.351189</td>\n",
              "      <td>0.154547</td>\n",
              "      <td>0.210118</td>\n",
              "      <td>0.045284</td>\n",
              "      <td>0.550787</td>\n",
              "      <td>0.19186</td>\n",
              "      <td>0.0</td>\n",
              "      <td>1.0</td>\n",
              "      <td>1.0</td>\n",
              "      <td>0.0</td>\n",
              "      <td>0</td>\n",
              "    </tr>\n",
              "  </tbody>\n",
              "</table>\n",
              "</div>\n",
              "      <button class=\"colab-df-convert\" onclick=\"convertToInteractive('df-e6b78a8a-2d88-4cdb-a90e-b4501a79b974')\"\n",
              "              title=\"Convert this dataframe to an interactive table.\"\n",
              "              style=\"display:none;\">\n",
              "        \n",
              "  <svg xmlns=\"http://www.w3.org/2000/svg\" height=\"24px\"viewBox=\"0 0 24 24\"\n",
              "       width=\"24px\">\n",
              "    <path d=\"M0 0h24v24H0V0z\" fill=\"none\"/>\n",
              "    <path d=\"M18.56 5.44l.94 2.06.94-2.06 2.06-.94-2.06-.94-.94-2.06-.94 2.06-2.06.94zm-11 1L8.5 8.5l.94-2.06 2.06-.94-2.06-.94L8.5 2.5l-.94 2.06-2.06.94zm10 10l.94 2.06.94-2.06 2.06-.94-2.06-.94-.94-2.06-.94 2.06-2.06.94z\"/><path d=\"M17.41 7.96l-1.37-1.37c-.4-.4-.92-.59-1.43-.59-.52 0-1.04.2-1.43.59L10.3 9.45l-7.72 7.72c-.78.78-.78 2.05 0 2.83L4 21.41c.39.39.9.59 1.41.59.51 0 1.02-.2 1.41-.59l7.78-7.78 2.81-2.81c.8-.78.8-2.07 0-2.86zM5.41 20L4 18.59l7.72-7.72 1.47 1.35L5.41 20z\"/>\n",
              "  </svg>\n",
              "      </button>\n",
              "      \n",
              "  <style>\n",
              "    .colab-df-container {\n",
              "      display:flex;\n",
              "      flex-wrap:wrap;\n",
              "      gap: 12px;\n",
              "    }\n",
              "\n",
              "    .colab-df-convert {\n",
              "      background-color: #E8F0FE;\n",
              "      border: none;\n",
              "      border-radius: 50%;\n",
              "      cursor: pointer;\n",
              "      display: none;\n",
              "      fill: #1967D2;\n",
              "      height: 32px;\n",
              "      padding: 0 0 0 0;\n",
              "      width: 32px;\n",
              "    }\n",
              "\n",
              "    .colab-df-convert:hover {\n",
              "      background-color: #E2EBFA;\n",
              "      box-shadow: 0px 1px 2px rgba(60, 64, 67, 0.3), 0px 1px 3px 1px rgba(60, 64, 67, 0.15);\n",
              "      fill: #174EA6;\n",
              "    }\n",
              "\n",
              "    [theme=dark] .colab-df-convert {\n",
              "      background-color: #3B4455;\n",
              "      fill: #D2E3FC;\n",
              "    }\n",
              "\n",
              "    [theme=dark] .colab-df-convert:hover {\n",
              "      background-color: #434B5C;\n",
              "      box-shadow: 0px 1px 3px 1px rgba(0, 0, 0, 0.15);\n",
              "      filter: drop-shadow(0px 1px 2px rgba(0, 0, 0, 0.3));\n",
              "      fill: #FFFFFF;\n",
              "    }\n",
              "  </style>\n",
              "\n",
              "      <script>\n",
              "        const buttonEl =\n",
              "          document.querySelector('#df-e6b78a8a-2d88-4cdb-a90e-b4501a79b974 button.colab-df-convert');\n",
              "        buttonEl.style.display =\n",
              "          google.colab.kernel.accessAllowed ? 'block' : 'none';\n",
              "\n",
              "        async function convertToInteractive(key) {\n",
              "          const element = document.querySelector('#df-e6b78a8a-2d88-4cdb-a90e-b4501a79b974');\n",
              "          const dataTable =\n",
              "            await google.colab.kernel.invokeFunction('convertToInteractive',\n",
              "                                                     [key], {});\n",
              "          if (!dataTable) return;\n",
              "\n",
              "          const docLinkHtml = 'Like what you see? Visit the ' +\n",
              "            '<a target=\"_blank\" href=https://colab.research.google.com/notebooks/data_table.ipynb>data table notebook</a>'\n",
              "            + ' to learn more about interactive tables.';\n",
              "          element.innerHTML = '';\n",
              "          dataTable['output_type'] = 'display_data';\n",
              "          await google.colab.output.renderOutput(dataTable, element);\n",
              "          const docLink = document.createElement('div');\n",
              "          docLink.innerHTML = docLinkHtml;\n",
              "          element.appendChild(docLink);\n",
              "        }\n",
              "      </script>\n",
              "    </div>\n",
              "  </div>\n",
              "  "
            ]
          },
          "metadata": {},
          "execution_count": 3
        }
      ],
      "source": [
        "# Data Source\n",
        "\n",
        "df = pd.read_csv(\"/content/drive/MyDrive/cleaned_gee_data_v2.csv\")\n",
        "df = df.drop(columns = ['Unnamed: 0'], axis=1) # Drop index\n",
        "df.head() "
      ]
    },
    {
      "cell_type": "code",
      "execution_count": null,
      "metadata": {
        "colab": {
          "base_uri": "https://localhost:8080/"
        },
        "id": "vigF6PJAfy9R",
        "outputId": "224aef29-c0be-45bb-dba8-0b79a95dbfc1"
      },
      "outputs": [
        {
          "output_type": "stream",
          "name": "stdout",
          "text": [
            "<class 'pandas.core.frame.DataFrame'>\n",
            "RangeIndex: 171893 entries, 0 to 171892\n",
            "Data columns (total 12 columns):\n",
            " #   Column             Non-Null Count   Dtype  \n",
            "---  ------             --------------   -----  \n",
            " 0   LATITUDE           171893 non-null  float64\n",
            " 1   LONGITUDE          171893 non-null  float64\n",
            " 2   CO_MOL/M2          171893 non-null  float64\n",
            " 3   SO2_MOL/M2         171893 non-null  float64\n",
            " 4   NO2_MOL/M2         171893 non-null  float64\n",
            " 5   O3_MOL/M2          171893 non-null  float64\n",
            " 6   LOCATION           171893 non-null  float64\n",
            " 7   INSTRUMENT         171893 non-null  float64\n",
            " 8   DRY_SEASON         171893 non-null  float64\n",
            " 9   ACQ_TIME_07:00:00  171893 non-null  float64\n",
            " 10  ACQ_TIME_others    171893 non-null  float64\n",
            " 11  FIRE_OCCURRED      171893 non-null  int64  \n",
            "dtypes: float64(11), int64(1)\n",
            "memory usage: 15.7 MB\n"
          ]
        }
      ],
      "source": [
        "df.info()"
      ]
    },
    {
      "cell_type": "code",
      "execution_count": null,
      "metadata": {
        "colab": {
          "base_uri": "https://localhost:8080/",
          "height": 69
        },
        "id": "2z3siI-MvbQs",
        "outputId": "03e9ec84-9178-41f4-b8a6-0481003ee8b6"
      },
      "outputs": [
        {
          "output_type": "display_data",
          "data": {
            "text/plain": [
              "0    170544\n",
              "1      1349\n",
              "Name: FIRE_OCCURRED, dtype: int64"
            ]
          },
          "metadata": {}
        }
      ],
      "source": [
        "display(df['FIRE_OCCURRED'].value_counts())"
      ]
    },
    {
      "cell_type": "markdown",
      "metadata": {
        "id": "bmVgX-C_pJrz"
      },
      "source": [
        "0.785% of FIRE_OCCURRED = 1"
      ]
    },
    {
      "cell_type": "code",
      "execution_count": null,
      "metadata": {
        "id": "GEBLWi5ooiTO"
      },
      "outputs": [],
      "source": [
        "X = df.drop('FIRE_OCCURRED', axis=1)\n",
        "y = df['FIRE_OCCURRED']"
      ]
    },
    {
      "cell_type": "code",
      "execution_count": null,
      "metadata": {
        "id": "96m0rNH7vhDg"
      },
      "outputs": [],
      "source": [
        "# Training, Validation, Testing Split\n",
        "\n",
        "from sklearn.model_selection import train_test_split\n",
        "\n",
        "# 80:10:10\n",
        "\n",
        "X_train, X_test, y_train, y_test = train_test_split(X, y, test_size=0.10, random_state=10, shuffle=True)\n",
        "X_train, X_val, y_train, y_val = train_test_split(X_train, y_train, test_size=1/9, random_state=10, shuffle=True)\n",
        "\n",
        "Original = [X_train, X_val, X_test, y_train, y_val, y_test] # For reference"
      ]
    },
    {
      "cell_type": "code",
      "execution_count": null,
      "metadata": {
        "colab": {
          "base_uri": "https://localhost:8080/"
        },
        "id": "oihO76nhvifX",
        "outputId": "167399e7-1167-437f-ff1d-cd0713ecbc20"
      },
      "outputs": [
        {
          "output_type": "stream",
          "name": "stdout",
          "text": [
            "X and y data length matching\n",
            "\n",
            "No. of training data = 137513\n",
            "No. of validation data = 17190\n",
            "No. of testing data = 17190\n"
          ]
        }
      ],
      "source": [
        "if len(X_train)==len(y_train) and len(X_test) == len(y_test) and len(X_val) == len(y_val):\n",
        "  print(\"X and y data length matching\")\n",
        "else:\n",
        "  print(\"Error in data preparation pipeline\")\n",
        "print()\n",
        "print(\"No. of training data = %d\" % len(X_train))\n",
        "print(\"No. of validation data = %d\" % len(X_val))\n",
        "print(\"No. of testing data = %d\" % len(X_test))"
      ]
    },
    {
      "cell_type": "code",
      "execution_count": null,
      "metadata": {
        "colab": {
          "base_uri": "https://localhost:8080/",
          "height": 69
        },
        "id": "MVofMah3XWOo",
        "outputId": "e58ffb15-f8c3-4fb4-b660-dbc5925ad72d"
      },
      "outputs": [
        {
          "output_type": "display_data",
          "data": {
            "text/plain": [
              "0    17068\n",
              "1      122\n",
              "Name: FIRE_OCCURRED, dtype: int64"
            ]
          },
          "metadata": {}
        }
      ],
      "source": [
        "display(y_val.value_counts())"
      ]
    },
    {
      "cell_type": "code",
      "execution_count": null,
      "metadata": {
        "colab": {
          "base_uri": "https://localhost:8080/",
          "height": 69
        },
        "id": "1ZcyP7nRvlYp",
        "outputId": "cebe1275-6783-4b32-9791-679530a69e31"
      },
      "outputs": [
        {
          "output_type": "display_data",
          "data": {
            "text/plain": [
              "0    17059\n",
              "1      131\n",
              "Name: FIRE_OCCURRED, dtype: int64"
            ]
          },
          "metadata": {}
        }
      ],
      "source": [
        "display(y_test.value_counts())"
      ]
    },
    {
      "cell_type": "code",
      "execution_count": null,
      "metadata": {
        "colab": {
          "base_uri": "https://localhost:8080/"
        },
        "id": "T8MI03z-vmdA",
        "outputId": "8c8ee096-93a7-4a40-ffc7-c2be7912313a"
      },
      "outputs": [
        {
          "output_type": "stream",
          "name": "stdout",
          "text": [
            "Original dataset shape Counter({0: 136417, 1: 1096})\n",
            "Resampled dataset shape Counter({0: 136417, 1: 136417})\n"
          ]
        }
      ],
      "source": [
        "# SMOTE\n",
        "\n",
        "from collections import Counter\n",
        "from imblearn.over_sampling import SMOTE \n",
        "\n",
        "print('Original dataset shape %s' % Counter(y_train))\n",
        "sm = SMOTE(random_state=10)\n",
        "X_train, y_train = sm.fit_resample(X_train, y_train)\n",
        "print('Resampled dataset shape %s' % Counter(y_train))"
      ]
    },
    {
      "cell_type": "code",
      "execution_count": null,
      "metadata": {
        "id": "Ts3u8k7ZoTmA"
      },
      "outputs": [],
      "source": [
        "# Shuffle Data since SMOTE appended many 1s at the end\n",
        "# Required for some algorithms such as ANN\n",
        "\n",
        "from sklearn.utils import shuffle\n",
        "\n",
        "X_train, y_train = shuffle(X_train, y_train, random_state = 10)"
      ]
    },
    {
      "cell_type": "code",
      "execution_count": null,
      "metadata": {
        "id": "5pMqZtYUvo3T"
      },
      "outputs": [],
      "source": [
        "# Evaluation Metrics\n",
        "\n",
        "from sklearn.metrics import confusion_matrix, recall_score, f1_score, roc_auc_score, accuracy_score\n",
        "\n",
        "def evaluation_metrics(y_true, y_pred):\n",
        "  cfm = confusion_matrix(y_true, y_pred).ravel()\n",
        "  acc = accuracy_score(y_true, y_pred)\n",
        "  recs = recall_score(y_true, y_pred, average='binary')\n",
        "  f1s = f1_score(y_true, y_pred, average='binary')\n",
        "  rocs = roc_auc_score(y_true, y_pred, average='macro')\n",
        "  return [cfm, acc, recs, f1s, rocs]"
      ]
    },
    {
      "cell_type": "markdown",
      "metadata": {
        "id": "bDAw6kBSvqrd"
      },
      "source": [
        "Confusion matrix format : [ tn , fp , fn , tp ]"
      ]
    },
    {
      "cell_type": "code",
      "execution_count": null,
      "metadata": {
        "id": "2m4kHhLmvnxj"
      },
      "outputs": [],
      "source": [
        "# Store Model Parameters and Eval\n",
        "\n",
        "models = pd.DataFrame(columns = ['model_name', 'model', 'parameters'])\n",
        "models_eval = pd.DataFrame(columns = ['model_name', 'confusion_matrix', 'accuracy', 'recall', 'f1_score', 'roc_auc_score'])"
      ]
    },
    {
      "cell_type": "code",
      "execution_count": null,
      "metadata": {
        "id": "fFvGo3IYwC3h"
      },
      "outputs": [],
      "source": [
        "# Import ML Algorithms\n",
        "\n",
        "from sklearn.linear_model import LogisticRegression\n",
        "from sklearn.svm import SVC\n",
        "from sklearn.naive_bayes import GaussianNB\n",
        "from sklearn.neighbors import KNeighborsClassifier\n",
        "from sklearn.ensemble import RandomForestClassifier\n",
        "from sklearn.tree import DecisionTreeClassifier\n",
        "from sklearn.ensemble import GradientBoostingClassifier\n",
        "import xgboost\n",
        "from xgboost import XGBClassifier\n",
        "import lightgbm\n",
        "from lightgbm import LGBMClassifier\n",
        "import tensorflow as tf\n",
        "from tensorflow import keras\n",
        "from sklearn.ensemble import VotingClassifier\n",
        "\n",
        "# RandomizedSearchCV\n",
        "\n",
        "from sklearn.model_selection import RandomizedSearchCV"
      ]
    },
    {
      "cell_type": "markdown",
      "metadata": {
        "id": "ez3z3utYt1Y4"
      },
      "source": [
        "## Logistic Regression\n",
        "\n",
        "- Library: Scikit-learn"
      ]
    },
    {
      "cell_type": "code",
      "execution_count": null,
      "metadata": {
        "id": "fiXiFiYsZSB6"
      },
      "outputs": [],
      "source": [
        "# Training\n",
        "\n",
        "name = 'log_clf'\n",
        "\n",
        "train = pd.DataFrame(columns = ['penalty', 'warm_start', 'solver', 'max_iter', 'dual', 'n_jobs','random_state'])\n",
        "train = train.append({'penalty' : 'none', 'warm_start': False, 'solver': 'newton-cg',  'max_iter': 247,  'dual': False, 'n_jobs': -1, 'random_state': 10}, ignore_index=True)\n",
        "train = train.append({'penalty' : 'l2', 'warm_start': False, 'solver': 'newton-cg',  'max_iter': 100,  'dual': False, 'n_jobs': -1, 'random_state': 10}, ignore_index=True)\n",
        "\n",
        "train = train.reset_index()\n",
        "for index, row in train.iterrows():\n",
        "    model_name = name + str(index)\n",
        "    log_clf = LogisticRegression(penalty = row['penalty'], n_jobs = int(row['n_jobs']), random_state = int(row['random_state']))\n",
        "    log_clf.fit(X_train, y_train)\n",
        "   \n",
        "    y_true = y_val\n",
        "    y_pred = log_clf.predict(X_val)\n",
        "    evaluation_results = evaluation_metrics(y_true, y_pred)\n",
        "\n",
        "    models = models.append({'model_name': model_name, \n",
        "                            'model': log_clf, \n",
        "                            'parameters': log_clf.get_params()}, \n",
        "                            ignore_index=True)\n",
        "   \n",
        "    models_eval = models_eval.append({'model_name': model_name, \n",
        "                                      'confusion_matrix' : evaluation_results[0], \n",
        "                                      'accuracy': evaluation_results[1], \n",
        "                                      'recall' : evaluation_results[2], \n",
        "                                      'f1_score': evaluation_results[3], \n",
        "                                      'roc_auc_score': evaluation_results[4]}, \n",
        "                                      ignore_index=True)"
      ]
    },
    {
      "cell_type": "code",
      "execution_count": null,
      "metadata": {
        "colab": {
          "base_uri": "https://localhost:8080/",
          "height": 112
        },
        "id": "w5hD6F2kX9ih",
        "outputId": "07247539-eab0-49b7-aad7-96c8372850e7"
      },
      "outputs": [
        {
          "data": {
            "text/html": [
              "\n",
              "  <div id=\"df-6a7373f4-4a4f-4bd5-8510-68c3af7d74dc\">\n",
              "    <div class=\"colab-df-container\">\n",
              "      <div>\n",
              "<style scoped>\n",
              "    .dataframe tbody tr th:only-of-type {\n",
              "        vertical-align: middle;\n",
              "    }\n",
              "\n",
              "    .dataframe tbody tr th {\n",
              "        vertical-align: top;\n",
              "    }\n",
              "\n",
              "    .dataframe thead th {\n",
              "        text-align: right;\n",
              "    }\n",
              "</style>\n",
              "<table border=\"1\" class=\"dataframe\">\n",
              "  <thead>\n",
              "    <tr style=\"text-align: right;\">\n",
              "      <th></th>\n",
              "      <th>model_name</th>\n",
              "      <th>confusion_matrix</th>\n",
              "      <th>accuracy</th>\n",
              "      <th>recall</th>\n",
              "      <th>f1_score</th>\n",
              "      <th>roc_auc_score</th>\n",
              "    </tr>\n",
              "  </thead>\n",
              "  <tbody>\n",
              "    <tr>\n",
              "      <th>0</th>\n",
              "      <td>log_clf0</td>\n",
              "      <td>[14046, 3022, 42, 80]</td>\n",
              "      <td>0.821757</td>\n",
              "      <td>0.655738</td>\n",
              "      <td>0.049628</td>\n",
              "      <td>0.739341</td>\n",
              "    </tr>\n",
              "    <tr>\n",
              "      <th>1</th>\n",
              "      <td>log_clf1</td>\n",
              "      <td>[14044, 3024, 42, 80]</td>\n",
              "      <td>0.821640</td>\n",
              "      <td>0.655738</td>\n",
              "      <td>0.049597</td>\n",
              "      <td>0.739282</td>\n",
              "    </tr>\n",
              "  </tbody>\n",
              "</table>\n",
              "</div>\n",
              "      <button class=\"colab-df-convert\" onclick=\"convertToInteractive('df-6a7373f4-4a4f-4bd5-8510-68c3af7d74dc')\"\n",
              "              title=\"Convert this dataframe to an interactive table.\"\n",
              "              style=\"display:none;\">\n",
              "        \n",
              "  <svg xmlns=\"http://www.w3.org/2000/svg\" height=\"24px\"viewBox=\"0 0 24 24\"\n",
              "       width=\"24px\">\n",
              "    <path d=\"M0 0h24v24H0V0z\" fill=\"none\"/>\n",
              "    <path d=\"M18.56 5.44l.94 2.06.94-2.06 2.06-.94-2.06-.94-.94-2.06-.94 2.06-2.06.94zm-11 1L8.5 8.5l.94-2.06 2.06-.94-2.06-.94L8.5 2.5l-.94 2.06-2.06.94zm10 10l.94 2.06.94-2.06 2.06-.94-2.06-.94-.94-2.06-.94 2.06-2.06.94z\"/><path d=\"M17.41 7.96l-1.37-1.37c-.4-.4-.92-.59-1.43-.59-.52 0-1.04.2-1.43.59L10.3 9.45l-7.72 7.72c-.78.78-.78 2.05 0 2.83L4 21.41c.39.39.9.59 1.41.59.51 0 1.02-.2 1.41-.59l7.78-7.78 2.81-2.81c.8-.78.8-2.07 0-2.86zM5.41 20L4 18.59l7.72-7.72 1.47 1.35L5.41 20z\"/>\n",
              "  </svg>\n",
              "      </button>\n",
              "      \n",
              "  <style>\n",
              "    .colab-df-container {\n",
              "      display:flex;\n",
              "      flex-wrap:wrap;\n",
              "      gap: 12px;\n",
              "    }\n",
              "\n",
              "    .colab-df-convert {\n",
              "      background-color: #E8F0FE;\n",
              "      border: none;\n",
              "      border-radius: 50%;\n",
              "      cursor: pointer;\n",
              "      display: none;\n",
              "      fill: #1967D2;\n",
              "      height: 32px;\n",
              "      padding: 0 0 0 0;\n",
              "      width: 32px;\n",
              "    }\n",
              "\n",
              "    .colab-df-convert:hover {\n",
              "      background-color: #E2EBFA;\n",
              "      box-shadow: 0px 1px 2px rgba(60, 64, 67, 0.3), 0px 1px 3px 1px rgba(60, 64, 67, 0.15);\n",
              "      fill: #174EA6;\n",
              "    }\n",
              "\n",
              "    [theme=dark] .colab-df-convert {\n",
              "      background-color: #3B4455;\n",
              "      fill: #D2E3FC;\n",
              "    }\n",
              "\n",
              "    [theme=dark] .colab-df-convert:hover {\n",
              "      background-color: #434B5C;\n",
              "      box-shadow: 0px 1px 3px 1px rgba(0, 0, 0, 0.15);\n",
              "      filter: drop-shadow(0px 1px 2px rgba(0, 0, 0, 0.3));\n",
              "      fill: #FFFFFF;\n",
              "    }\n",
              "  </style>\n",
              "\n",
              "      <script>\n",
              "        const buttonEl =\n",
              "          document.querySelector('#df-6a7373f4-4a4f-4bd5-8510-68c3af7d74dc button.colab-df-convert');\n",
              "        buttonEl.style.display =\n",
              "          google.colab.kernel.accessAllowed ? 'block' : 'none';\n",
              "\n",
              "        async function convertToInteractive(key) {\n",
              "          const element = document.querySelector('#df-6a7373f4-4a4f-4bd5-8510-68c3af7d74dc');\n",
              "          const dataTable =\n",
              "            await google.colab.kernel.invokeFunction('convertToInteractive',\n",
              "                                                     [key], {});\n",
              "          if (!dataTable) return;\n",
              "\n",
              "          const docLinkHtml = 'Like what you see? Visit the ' +\n",
              "            '<a target=\"_blank\" href=https://colab.research.google.com/notebooks/data_table.ipynb>data table notebook</a>'\n",
              "            + ' to learn more about interactive tables.';\n",
              "          element.innerHTML = '';\n",
              "          dataTable['output_type'] = 'display_data';\n",
              "          await google.colab.output.renderOutput(dataTable, element);\n",
              "          const docLink = document.createElement('div');\n",
              "          docLink.innerHTML = docLinkHtml;\n",
              "          element.appendChild(docLink);\n",
              "        }\n",
              "      </script>\n",
              "    </div>\n",
              "  </div>\n",
              "  "
            ],
            "text/plain": [
              "  model_name       confusion_matrix  accuracy    recall  f1_score  \\\n",
              "0   log_clf0  [14046, 3022, 42, 80]  0.821757  0.655738  0.049628   \n",
              "1   log_clf1  [14044, 3024, 42, 80]  0.821640  0.655738  0.049597   \n",
              "\n",
              "   roc_auc_score  \n",
              "0       0.739341  \n",
              "1       0.739282  "
            ]
          },
          "metadata": {},
          "output_type": "display_data"
        }
      ],
      "source": [
        "display(models_eval)"
      ]
    },
    {
      "cell_type": "code",
      "execution_count": null,
      "metadata": {
        "colab": {
          "base_uri": "https://localhost:8080/"
        },
        "id": "09I9B42LX8mb",
        "outputId": "09090166-6f93-4c7e-e1a2-cb019690a3b3"
      },
      "outputs": [
        {
          "name": "stdout",
          "output_type": "stream",
          "text": [
            "Fitting 3 folds for each of 70 candidates, totalling 210 fits\n",
            "[CV] END C=0, dual=True, max_iter=436, penalty=l2, solver=newton-cg, warm_start=False; total time=   0.0s\n",
            "[CV] END C=0, dual=True, max_iter=436, penalty=l2, solver=newton-cg, warm_start=False; total time=   0.0s\n",
            "[CV] END C=0, dual=True, max_iter=436, penalty=l2, solver=newton-cg, warm_start=False; total time=   0.0s\n"
          ]
        },
        {
          "name": "stderr",
          "output_type": "stream",
          "text": [
            "/usr/local/lib/python3.8/dist-packages/sklearn/linear_model/_logistic.py:1523: UserWarning: 'n_jobs' > 1 does not have any effect when 'solver' is set to 'liblinear'. Got 'n_jobs' = 2.\n",
            "  warnings.warn(\n",
            "/usr/local/lib/python3.8/dist-packages/sklearn/linear_model/_logistic.py:1523: UserWarning: 'n_jobs' > 1 does not have any effect when 'solver' is set to 'liblinear'. Got 'n_jobs' = 2.\n",
            "  warnings.warn(\n"
          ]
        },
        {
          "name": "stdout",
          "output_type": "stream",
          "text": [
            "[CV] END C=0, dual=False, max_iter=289, penalty=l1, solver=liblinear, warm_start=False; total time=   0.1s\n",
            "[CV] END C=0, dual=False, max_iter=289, penalty=l1, solver=liblinear, warm_start=False; total time=   0.1s\n",
            "[CV] END C=0, dual=False, max_iter=289, penalty=l1, solver=liblinear, warm_start=False; total time=   0.1s\n",
            "[CV] END C=0, dual=True, max_iter=436, penalty=elasticnet, solver=newton-cg, warm_start=False; total time=   0.0s\n"
          ]
        },
        {
          "name": "stderr",
          "output_type": "stream",
          "text": [
            "/usr/local/lib/python3.8/dist-packages/sklearn/linear_model/_logistic.py:1523: UserWarning: 'n_jobs' > 1 does not have any effect when 'solver' is set to 'liblinear'. Got 'n_jobs' = 2.\n",
            "  warnings.warn(\n"
          ]
        },
        {
          "name": "stdout",
          "output_type": "stream",
          "text": [
            "[CV] END C=0, dual=True, max_iter=436, penalty=elasticnet, solver=newton-cg, warm_start=False; total time=   0.0s\n",
            "[CV] END C=0, dual=True, max_iter=436, penalty=elasticnet, solver=newton-cg, warm_start=False; total time=   0.0s\n",
            "[CV] END C=0, dual=True, max_iter=247, penalty=l2, solver=newton-cg, warm_start=False; total time=   0.0s\n",
            "[CV] END C=0, dual=True, max_iter=247, penalty=l2, solver=newton-cg, warm_start=False; total time=   0.0s\n",
            "[CV] END C=0, dual=True, max_iter=247, penalty=l2, solver=newton-cg, warm_start=False; total time=   0.0s\n",
            "[CV] END C=0, dual=False, max_iter=289, penalty=l1, solver=newton-cg, warm_start=False; total time=   0.0s\n",
            "[CV] END C=0, dual=False, max_iter=289, penalty=l1, solver=newton-cg, warm_start=False; total time=   0.0s\n",
            "[CV] END C=0, dual=False, max_iter=289, penalty=l1, solver=newton-cg, warm_start=False; total time=   0.0s\n",
            "[CV] END C=0, dual=False, max_iter=310, penalty=elasticnet, solver=lbfgs, warm_start=True; total time=   0.0s\n",
            "[CV] END C=0, dual=False, max_iter=310, penalty=elasticnet, solver=lbfgs, warm_start=True; total time=   0.0s\n",
            "[CV] END C=0, dual=False, max_iter=310, penalty=elasticnet, solver=lbfgs, warm_start=True; total time=   0.0s\n",
            "[CV] END C=0, dual=False, max_iter=205, penalty=l1, solver=lbfgs, warm_start=False; total time=   0.0s\n",
            "[CV] END C=0, dual=False, max_iter=205, penalty=l1, solver=lbfgs, warm_start=False; total time=   0.0s\n",
            "[CV] END C=0, dual=False, max_iter=205, penalty=l1, solver=lbfgs, warm_start=False; total time=   0.0s\n",
            "[CV] END C=0, dual=True, max_iter=226, penalty=elasticnet, solver=lbfgs, warm_start=False; total time=   0.0s\n",
            "[CV] END C=0, dual=True, max_iter=226, penalty=elasticnet, solver=lbfgs, warm_start=False; total time=   0.0s\n",
            "[CV] END C=0, dual=True, max_iter=226, penalty=elasticnet, solver=lbfgs, warm_start=False; total time=   0.0s\n",
            "[CV] END C=0, dual=False, max_iter=226, penalty=l1, solver=lbfgs, warm_start=True; total time=   0.0s\n",
            "[CV] END C=0, dual=False, max_iter=226, penalty=l1, solver=lbfgs, warm_start=True; total time=   0.0s\n",
            "[CV] END C=0, dual=False, max_iter=226, penalty=l1, solver=lbfgs, warm_start=True; total time=   0.0s\n"
          ]
        },
        {
          "name": "stderr",
          "output_type": "stream",
          "text": [
            "/usr/local/lib/python3.8/dist-packages/sklearn/linear_model/_logistic.py:1483: UserWarning: Setting penalty='none' will ignore the C and l1_ratio parameters\n",
            "  warnings.warn(\n"
          ]
        },
        {
          "name": "stdout",
          "output_type": "stream",
          "text": [
            "[CV] END C=0, dual=False, max_iter=247, penalty=none, solver=newton-cg, warm_start=False; total time=   5.2s\n"
          ]
        },
        {
          "name": "stderr",
          "output_type": "stream",
          "text": [
            "/usr/local/lib/python3.8/dist-packages/sklearn/linear_model/_logistic.py:1483: UserWarning: Setting penalty='none' will ignore the C and l1_ratio parameters\n",
            "  warnings.warn(\n"
          ]
        },
        {
          "name": "stdout",
          "output_type": "stream",
          "text": [
            "[CV] END C=0, dual=False, max_iter=247, penalty=none, solver=newton-cg, warm_start=False; total time=   5.6s\n"
          ]
        },
        {
          "name": "stderr",
          "output_type": "stream",
          "text": [
            "/usr/local/lib/python3.8/dist-packages/sklearn/linear_model/_logistic.py:1483: UserWarning: Setting penalty='none' will ignore the C and l1_ratio parameters\n",
            "  warnings.warn(\n"
          ]
        },
        {
          "name": "stdout",
          "output_type": "stream",
          "text": [
            "[CV] END C=0, dual=False, max_iter=247, penalty=none, solver=newton-cg, warm_start=False; total time=   8.6s\n",
            "[CV] END C=0, dual=False, max_iter=436, penalty=elasticnet, solver=liblinear, warm_start=False; total time=   0.0s\n",
            "[CV] END C=0, dual=False, max_iter=436, penalty=elasticnet, solver=liblinear, warm_start=False; total time=   0.0s\n",
            "[CV] END C=0, dual=False, max_iter=436, penalty=elasticnet, solver=liblinear, warm_start=False; total time=   0.0s\n"
          ]
        },
        {
          "name": "stderr",
          "output_type": "stream",
          "text": [
            "/usr/local/lib/python3.8/dist-packages/sklearn/linear_model/_logistic.py:1483: UserWarning: Setting penalty='none' will ignore the C and l1_ratio parameters\n",
            "  warnings.warn(\n"
          ]
        },
        {
          "name": "stdout",
          "output_type": "stream",
          "text": [
            "[CV] END C=0, dual=False, max_iter=331, penalty=none, solver=lbfgs, warm_start=True; total time=   2.3s\n"
          ]
        },
        {
          "name": "stderr",
          "output_type": "stream",
          "text": [
            "/usr/local/lib/python3.8/dist-packages/sklearn/linear_model/_logistic.py:1483: UserWarning: Setting penalty='none' will ignore the C and l1_ratio parameters\n",
            "  warnings.warn(\n"
          ]
        },
        {
          "name": "stdout",
          "output_type": "stream",
          "text": [
            "[CV] END C=0, dual=False, max_iter=331, penalty=none, solver=lbfgs, warm_start=True; total time=   2.3s\n"
          ]
        },
        {
          "name": "stderr",
          "output_type": "stream",
          "text": [
            "/usr/local/lib/python3.8/dist-packages/sklearn/linear_model/_logistic.py:1483: UserWarning: Setting penalty='none' will ignore the C and l1_ratio parameters\n",
            "  warnings.warn(\n"
          ]
        },
        {
          "name": "stdout",
          "output_type": "stream",
          "text": [
            "[CV] END C=0, dual=False, max_iter=331, penalty=none, solver=lbfgs, warm_start=True; total time=   2.4s\n",
            "[CV] END C=0, dual=False, max_iter=184, penalty=l2, solver=newton-cg, warm_start=True; total time=   0.1s\n",
            "[CV] END C=0, dual=False, max_iter=184, penalty=l2, solver=newton-cg, warm_start=True; total time=   0.8s\n",
            "[CV] END C=0, dual=False, max_iter=184, penalty=l2, solver=newton-cg, warm_start=True; total time=   0.8s\n",
            "[CV] END C=0, dual=False, max_iter=247, penalty=l1, solver=lbfgs, warm_start=False; total time=   0.0s\n",
            "[CV] END C=0, dual=False, max_iter=247, penalty=l1, solver=lbfgs, warm_start=False; total time=   0.0s\n",
            "[CV] END C=0, dual=False, max_iter=247, penalty=l1, solver=lbfgs, warm_start=False; total time=   0.0s\n",
            "[CV] END C=0, dual=False, max_iter=100, penalty=l2, solver=liblinear, warm_start=True; total time=   0.1s\n"
          ]
        },
        {
          "name": "stderr",
          "output_type": "stream",
          "text": [
            "/usr/local/lib/python3.8/dist-packages/sklearn/linear_model/_logistic.py:1523: UserWarning: 'n_jobs' > 1 does not have any effect when 'solver' is set to 'liblinear'. Got 'n_jobs' = 2.\n",
            "  warnings.warn(\n",
            "/usr/local/lib/python3.8/dist-packages/sklearn/linear_model/_logistic.py:1523: UserWarning: 'n_jobs' > 1 does not have any effect when 'solver' is set to 'liblinear'. Got 'n_jobs' = 2.\n",
            "  warnings.warn(\n",
            "/usr/local/lib/python3.8/dist-packages/sklearn/linear_model/_logistic.py:1523: UserWarning: 'n_jobs' > 1 does not have any effect when 'solver' is set to 'liblinear'. Got 'n_jobs' = 2.\n",
            "  warnings.warn(\n"
          ]
        },
        {
          "name": "stdout",
          "output_type": "stream",
          "text": [
            "[CV] END C=0, dual=False, max_iter=100, penalty=l2, solver=liblinear, warm_start=True; total time=   0.1s\n",
            "[CV] END C=0, dual=False, max_iter=100, penalty=l2, solver=liblinear, warm_start=True; total time=   0.1s\n",
            "[CV] END C=0, dual=False, max_iter=436, penalty=l2, solver=newton-cg, warm_start=True; total time=   0.8s\n",
            "[CV] END C=0, dual=False, max_iter=436, penalty=l2, solver=newton-cg, warm_start=True; total time=   0.8s\n",
            "[CV] END C=0, dual=False, max_iter=436, penalty=l2, solver=newton-cg, warm_start=True; total time=   0.8s\n",
            "[CV] END C=0, dual=True, max_iter=247, penalty=elasticnet, solver=newton-cg, warm_start=True; total time=   0.0s\n",
            "[CV] END C=0, dual=True, max_iter=247, penalty=elasticnet, solver=newton-cg, warm_start=True; total time=   0.0s\n",
            "[CV] END C=0, dual=True, max_iter=247, penalty=elasticnet, solver=newton-cg, warm_start=True; total time=   0.0s\n",
            "[CV] END C=1, dual=True, max_iter=478, penalty=l1, solver=newton-cg, warm_start=False; total time=   0.0s\n",
            "[CV] END C=1, dual=True, max_iter=478, penalty=l1, solver=newton-cg, warm_start=False; total time=   0.0s\n",
            "[CV] END C=1, dual=True, max_iter=478, penalty=l1, solver=newton-cg, warm_start=False; total time=   0.0s\n",
            "[CV] END C=0, dual=True, max_iter=100, penalty=elasticnet, solver=liblinear, warm_start=True; total time=   0.0s\n",
            "[CV] END C=0, dual=True, max_iter=100, penalty=elasticnet, solver=liblinear, warm_start=True; total time=   0.0s\n",
            "[CV] END C=0, dual=True, max_iter=100, penalty=elasticnet, solver=liblinear, warm_start=True; total time=   0.0s\n",
            "[CV] END C=0, dual=True, max_iter=247, penalty=elasticnet, solver=newton-cg, warm_start=True; total time=   0.0s\n",
            "[CV] END C=0, dual=True, max_iter=247, penalty=elasticnet, solver=newton-cg, warm_start=True; total time=   0.0s\n",
            "[CV] END C=0, dual=True, max_iter=247, penalty=elasticnet, solver=newton-cg, warm_start=True; total time=   0.0s\n",
            "[CV] END C=0, dual=False, max_iter=247, penalty=elasticnet, solver=liblinear, warm_start=True; total time=   0.0s\n",
            "[CV] END C=0, dual=False, max_iter=247, penalty=elasticnet, solver=liblinear, warm_start=True; total time=   0.0s\n",
            "[CV] END C=0, dual=False, max_iter=247, penalty=elasticnet, solver=liblinear, warm_start=True; total time=   0.0s\n"
          ]
        },
        {
          "name": "stderr",
          "output_type": "stream",
          "text": [
            "/usr/local/lib/python3.8/dist-packages/sklearn/linear_model/_logistic.py:1483: UserWarning: Setting penalty='none' will ignore the C and l1_ratio parameters\n",
            "  warnings.warn(\n"
          ]
        },
        {
          "name": "stdout",
          "output_type": "stream",
          "text": [
            "[CV] END C=0, dual=False, max_iter=163, penalty=none, solver=lbfgs, warm_start=True; total time=   2.1s\n"
          ]
        },
        {
          "name": "stderr",
          "output_type": "stream",
          "text": [
            "/usr/local/lib/python3.8/dist-packages/sklearn/linear_model/_logistic.py:1483: UserWarning: Setting penalty='none' will ignore the C and l1_ratio parameters\n",
            "  warnings.warn(\n"
          ]
        },
        {
          "name": "stdout",
          "output_type": "stream",
          "text": [
            "[CV] END C=0, dual=False, max_iter=163, penalty=none, solver=lbfgs, warm_start=True; total time=   1.7s\n"
          ]
        },
        {
          "name": "stderr",
          "output_type": "stream",
          "text": [
            "/usr/local/lib/python3.8/dist-packages/sklearn/linear_model/_logistic.py:1483: UserWarning: Setting penalty='none' will ignore the C and l1_ratio parameters\n",
            "  warnings.warn(\n"
          ]
        },
        {
          "name": "stdout",
          "output_type": "stream",
          "text": [
            "[CV] END C=0, dual=False, max_iter=163, penalty=none, solver=lbfgs, warm_start=True; total time=   2.2s\n",
            "[CV] END C=0, dual=False, max_iter=289, penalty=l2, solver=lbfgs, warm_start=True; total time=   0.1s\n",
            "[CV] END C=0, dual=False, max_iter=289, penalty=l2, solver=lbfgs, warm_start=True; total time=   0.8s\n",
            "[CV] END C=0, dual=False, max_iter=289, penalty=l2, solver=lbfgs, warm_start=True; total time=   0.8s\n",
            "[CV] END C=0, dual=False, max_iter=205, penalty=l2, solver=newton-cg, warm_start=False; total time=   0.8s\n",
            "[CV] END C=0, dual=False, max_iter=205, penalty=l2, solver=newton-cg, warm_start=False; total time=   0.8s\n",
            "[CV] END C=0, dual=False, max_iter=205, penalty=l2, solver=newton-cg, warm_start=False; total time=   0.8s\n",
            "[CV] END C=0, dual=True, max_iter=457, penalty=elasticnet, solver=lbfgs, warm_start=True; total time=   0.0s\n",
            "[CV] END C=0, dual=True, max_iter=457, penalty=elasticnet, solver=lbfgs, warm_start=True; total time=   0.0s\n",
            "[CV] END C=0, dual=True, max_iter=457, penalty=elasticnet, solver=lbfgs, warm_start=True; total time=   0.0s\n",
            "[CV] END C=0, dual=False, max_iter=184, penalty=elasticnet, solver=newton-cg, warm_start=True; total time=   0.0s\n",
            "[CV] END C=0, dual=False, max_iter=184, penalty=elasticnet, solver=newton-cg, warm_start=True; total time=   0.0s\n",
            "[CV] END C=0, dual=False, max_iter=184, penalty=elasticnet, solver=newton-cg, warm_start=True; total time=   0.0s\n",
            "[CV] END C=0, dual=False, max_iter=163, penalty=l2, solver=newton-cg, warm_start=False; total time=   0.8s\n",
            "[CV] END C=0, dual=False, max_iter=163, penalty=l2, solver=newton-cg, warm_start=False; total time=   0.8s\n",
            "[CV] END C=0, dual=False, max_iter=163, penalty=l2, solver=newton-cg, warm_start=False; total time=   0.8s\n"
          ]
        },
        {
          "name": "stderr",
          "output_type": "stream",
          "text": [
            "/usr/local/lib/python3.8/dist-packages/sklearn/linear_model/_logistic.py:1483: UserWarning: Setting penalty='none' will ignore the C and l1_ratio parameters\n",
            "  warnings.warn(\n"
          ]
        },
        {
          "name": "stdout",
          "output_type": "stream",
          "text": [
            "[CV] END C=0, dual=False, max_iter=268, penalty=none, solver=lbfgs, warm_start=False; total time=   2.1s\n"
          ]
        },
        {
          "name": "stderr",
          "output_type": "stream",
          "text": [
            "/usr/local/lib/python3.8/dist-packages/sklearn/linear_model/_logistic.py:1483: UserWarning: Setting penalty='none' will ignore the C and l1_ratio parameters\n",
            "  warnings.warn(\n"
          ]
        },
        {
          "name": "stdout",
          "output_type": "stream",
          "text": [
            "[CV] END C=0, dual=False, max_iter=268, penalty=none, solver=lbfgs, warm_start=False; total time=   1.8s\n"
          ]
        },
        {
          "name": "stderr",
          "output_type": "stream",
          "text": [
            "/usr/local/lib/python3.8/dist-packages/sklearn/linear_model/_logistic.py:1483: UserWarning: Setting penalty='none' will ignore the C and l1_ratio parameters\n",
            "  warnings.warn(\n"
          ]
        },
        {
          "name": "stdout",
          "output_type": "stream",
          "text": [
            "[CV] END C=0, dual=False, max_iter=268, penalty=none, solver=lbfgs, warm_start=False; total time=   2.3s\n",
            "[CV] END C=0, dual=False, max_iter=331, penalty=elasticnet, solver=newton-cg, warm_start=True; total time=   0.0s\n",
            "[CV] END C=0, dual=False, max_iter=331, penalty=elasticnet, solver=newton-cg, warm_start=True; total time=   0.0s\n",
            "[CV] END C=0, dual=False, max_iter=331, penalty=elasticnet, solver=newton-cg, warm_start=True; total time=   0.0s\n"
          ]
        },
        {
          "name": "stderr",
          "output_type": "stream",
          "text": [
            "/usr/local/lib/python3.8/dist-packages/sklearn/linear_model/_logistic.py:1483: UserWarning: Setting penalty='none' will ignore the C and l1_ratio parameters\n",
            "  warnings.warn(\n"
          ]
        },
        {
          "name": "stdout",
          "output_type": "stream",
          "text": [
            "[CV] END C=0, dual=False, max_iter=457, penalty=none, solver=newton-cg, warm_start=False; total time=   6.2s\n"
          ]
        },
        {
          "name": "stderr",
          "output_type": "stream",
          "text": [
            "/usr/local/lib/python3.8/dist-packages/sklearn/linear_model/_logistic.py:1483: UserWarning: Setting penalty='none' will ignore the C and l1_ratio parameters\n",
            "  warnings.warn(\n"
          ]
        },
        {
          "name": "stdout",
          "output_type": "stream",
          "text": [
            "[CV] END C=0, dual=False, max_iter=457, penalty=none, solver=newton-cg, warm_start=False; total time=   6.5s\n"
          ]
        },
        {
          "name": "stderr",
          "output_type": "stream",
          "text": [
            "/usr/local/lib/python3.8/dist-packages/sklearn/linear_model/_logistic.py:1483: UserWarning: Setting penalty='none' will ignore the C and l1_ratio parameters\n",
            "  warnings.warn(\n"
          ]
        },
        {
          "name": "stdout",
          "output_type": "stream",
          "text": [
            "[CV] END C=0, dual=False, max_iter=457, penalty=none, solver=newton-cg, warm_start=False; total time=   6.6s\n",
            "[CV] END C=0, dual=True, max_iter=478, penalty=none, solver=newton-cg, warm_start=False; total time=   0.0s\n",
            "[CV] END C=0, dual=True, max_iter=478, penalty=none, solver=newton-cg, warm_start=False; total time=   0.0s\n",
            "[CV] END C=0, dual=True, max_iter=478, penalty=none, solver=newton-cg, warm_start=False; total time=   0.0s\n",
            "[CV] END C=0, dual=False, max_iter=352, penalty=elasticnet, solver=lbfgs, warm_start=False; total time=   0.0s\n",
            "[CV] END C=0, dual=False, max_iter=352, penalty=elasticnet, solver=lbfgs, warm_start=False; total time=   0.0s\n",
            "[CV] END C=0, dual=False, max_iter=352, penalty=elasticnet, solver=lbfgs, warm_start=False; total time=   0.0s\n"
          ]
        },
        {
          "name": "stderr",
          "output_type": "stream",
          "text": [
            "/usr/local/lib/python3.8/dist-packages/sklearn/linear_model/_logistic.py:1523: UserWarning: 'n_jobs' > 1 does not have any effect when 'solver' is set to 'liblinear'. Got 'n_jobs' = 2.\n",
            "  warnings.warn(\n",
            "/usr/local/lib/python3.8/dist-packages/sklearn/linear_model/_logistic.py:1523: UserWarning: 'n_jobs' > 1 does not have any effect when 'solver' is set to 'liblinear'. Got 'n_jobs' = 2.\n",
            "  warnings.warn(\n",
            "/usr/local/lib/python3.8/dist-packages/sklearn/linear_model/_logistic.py:1523: UserWarning: 'n_jobs' > 1 does not have any effect when 'solver' is set to 'liblinear'. Got 'n_jobs' = 2.\n",
            "  warnings.warn(\n"
          ]
        },
        {
          "name": "stdout",
          "output_type": "stream",
          "text": [
            "[CV] END C=0, dual=True, max_iter=247, penalty=l2, solver=liblinear, warm_start=False; total time=   0.1s\n",
            "[CV] END C=0, dual=True, max_iter=247, penalty=l2, solver=liblinear, warm_start=False; total time=   0.1s\n",
            "[CV] END C=0, dual=True, max_iter=247, penalty=l2, solver=liblinear, warm_start=False; total time=   0.1s\n",
            "[CV] END C=0, dual=True, max_iter=500, penalty=elasticnet, solver=liblinear, warm_start=False; total time=   0.0s\n",
            "[CV] END C=0, dual=True, max_iter=500, penalty=elasticnet, solver=liblinear, warm_start=False; total time=   0.0s\n",
            "[CV] END C=0, dual=True, max_iter=500, penalty=elasticnet, solver=liblinear, warm_start=False; total time=   0.0s\n"
          ]
        },
        {
          "name": "stderr",
          "output_type": "stream",
          "text": [
            "/usr/local/lib/python3.8/dist-packages/sklearn/linear_model/_logistic.py:1483: UserWarning: Setting penalty='none' will ignore the C and l1_ratio parameters\n",
            "  warnings.warn(\n"
          ]
        },
        {
          "name": "stdout",
          "output_type": "stream",
          "text": [
            "[CV] END C=0, dual=False, max_iter=289, penalty=none, solver=newton-cg, warm_start=False; total time=   6.9s\n"
          ]
        },
        {
          "name": "stderr",
          "output_type": "stream",
          "text": [
            "/usr/local/lib/python3.8/dist-packages/sklearn/linear_model/_logistic.py:1483: UserWarning: Setting penalty='none' will ignore the C and l1_ratio parameters\n",
            "  warnings.warn(\n"
          ]
        },
        {
          "name": "stdout",
          "output_type": "stream",
          "text": [
            "[CV] END C=0, dual=False, max_iter=289, penalty=none, solver=newton-cg, warm_start=False; total time=   6.4s\n"
          ]
        },
        {
          "name": "stderr",
          "output_type": "stream",
          "text": [
            "/usr/local/lib/python3.8/dist-packages/sklearn/linear_model/_logistic.py:1483: UserWarning: Setting penalty='none' will ignore the C and l1_ratio parameters\n",
            "  warnings.warn(\n"
          ]
        },
        {
          "name": "stdout",
          "output_type": "stream",
          "text": [
            "[CV] END C=0, dual=False, max_iter=289, penalty=none, solver=newton-cg, warm_start=False; total time=   6.6s\n",
            "[CV] END C=0, dual=True, max_iter=289, penalty=l1, solver=liblinear, warm_start=True; total time=   0.1s\n",
            "[CV] END C=0, dual=True, max_iter=289, penalty=l1, solver=liblinear, warm_start=True; total time=   0.1s\n"
          ]
        },
        {
          "name": "stderr",
          "output_type": "stream",
          "text": [
            "/usr/local/lib/python3.8/dist-packages/sklearn/linear_model/_logistic.py:1523: UserWarning: 'n_jobs' > 1 does not have any effect when 'solver' is set to 'liblinear'. Got 'n_jobs' = 2.\n",
            "  warnings.warn(\n",
            "/usr/local/lib/python3.8/dist-packages/sklearn/linear_model/_logistic.py:1523: UserWarning: 'n_jobs' > 1 does not have any effect when 'solver' is set to 'liblinear'. Got 'n_jobs' = 2.\n",
            "  warnings.warn(\n",
            "/usr/local/lib/python3.8/dist-packages/sklearn/linear_model/_logistic.py:1523: UserWarning: 'n_jobs' > 1 does not have any effect when 'solver' is set to 'liblinear'. Got 'n_jobs' = 2.\n",
            "  warnings.warn(\n"
          ]
        },
        {
          "name": "stdout",
          "output_type": "stream",
          "text": [
            "[CV] END C=0, dual=True, max_iter=289, penalty=l1, solver=liblinear, warm_start=True; total time=   0.1s\n",
            "[CV] END C=0, dual=True, max_iter=436, penalty=none, solver=liblinear, warm_start=True; total time=   0.0s\n",
            "[CV] END C=0, dual=True, max_iter=436, penalty=none, solver=liblinear, warm_start=True; total time=   0.0s\n",
            "[CV] END C=0, dual=True, max_iter=436, penalty=none, solver=liblinear, warm_start=True; total time=   0.0s\n",
            "[CV] END C=0, dual=False, max_iter=205, penalty=l1, solver=lbfgs, warm_start=False; total time=   0.0s\n",
            "[CV] END C=0, dual=False, max_iter=205, penalty=l1, solver=lbfgs, warm_start=False; total time=   0.0s\n",
            "[CV] END C=0, dual=False, max_iter=205, penalty=l1, solver=lbfgs, warm_start=False; total time=   0.0s\n"
          ]
        },
        {
          "name": "stderr",
          "output_type": "stream",
          "text": [
            "/usr/local/lib/python3.8/dist-packages/sklearn/linear_model/_logistic.py:1483: UserWarning: Setting penalty='none' will ignore the C and l1_ratio parameters\n",
            "  warnings.warn(\n"
          ]
        },
        {
          "name": "stdout",
          "output_type": "stream",
          "text": [
            "[CV] END C=0, dual=False, max_iter=457, penalty=none, solver=newton-cg, warm_start=True; total time=   6.0s\n"
          ]
        },
        {
          "name": "stderr",
          "output_type": "stream",
          "text": [
            "/usr/local/lib/python3.8/dist-packages/sklearn/linear_model/_logistic.py:1483: UserWarning: Setting penalty='none' will ignore the C and l1_ratio parameters\n",
            "  warnings.warn(\n"
          ]
        },
        {
          "name": "stdout",
          "output_type": "stream",
          "text": [
            "[CV] END C=0, dual=False, max_iter=457, penalty=none, solver=newton-cg, warm_start=True; total time=   6.2s\n"
          ]
        },
        {
          "name": "stderr",
          "output_type": "stream",
          "text": [
            "/usr/local/lib/python3.8/dist-packages/sklearn/linear_model/_logistic.py:1483: UserWarning: Setting penalty='none' will ignore the C and l1_ratio parameters\n",
            "  warnings.warn(\n"
          ]
        },
        {
          "name": "stdout",
          "output_type": "stream",
          "text": [
            "[CV] END C=0, dual=False, max_iter=457, penalty=none, solver=newton-cg, warm_start=True; total time=   6.5s\n",
            "[CV] END C=0, dual=False, max_iter=457, penalty=l2, solver=newton-cg, warm_start=False; total time=   0.1s\n",
            "[CV] END C=0, dual=False, max_iter=457, penalty=l2, solver=newton-cg, warm_start=False; total time=   0.8s\n",
            "[CV] END C=0, dual=False, max_iter=457, penalty=l2, solver=newton-cg, warm_start=False; total time=   0.8s\n",
            "[CV] END C=0, dual=False, max_iter=394, penalty=l2, solver=newton-cg, warm_start=False; total time=   0.8s\n",
            "[CV] END C=0, dual=False, max_iter=394, penalty=l2, solver=newton-cg, warm_start=False; total time=   0.8s\n",
            "[CV] END C=0, dual=False, max_iter=394, penalty=l2, solver=newton-cg, warm_start=False; total time=   0.8s\n",
            "[CV] END C=0, dual=False, max_iter=436, penalty=l1, solver=liblinear, warm_start=True; total time=   0.1s\n",
            "[CV] END C=0, dual=False, max_iter=436, penalty=l1, solver=liblinear, warm_start=True; total time=   0.1s\n"
          ]
        },
        {
          "name": "stderr",
          "output_type": "stream",
          "text": [
            "/usr/local/lib/python3.8/dist-packages/sklearn/linear_model/_logistic.py:1523: UserWarning: 'n_jobs' > 1 does not have any effect when 'solver' is set to 'liblinear'. Got 'n_jobs' = 2.\n",
            "  warnings.warn(\n",
            "/usr/local/lib/python3.8/dist-packages/sklearn/linear_model/_logistic.py:1523: UserWarning: 'n_jobs' > 1 does not have any effect when 'solver' is set to 'liblinear'. Got 'n_jobs' = 2.\n",
            "  warnings.warn(\n",
            "/usr/local/lib/python3.8/dist-packages/sklearn/linear_model/_logistic.py:1523: UserWarning: 'n_jobs' > 1 does not have any effect when 'solver' is set to 'liblinear'. Got 'n_jobs' = 2.\n",
            "  warnings.warn(\n"
          ]
        },
        {
          "name": "stdout",
          "output_type": "stream",
          "text": [
            "[CV] END C=0, dual=False, max_iter=436, penalty=l1, solver=liblinear, warm_start=True; total time=   0.1s\n",
            "[CV] END C=0, dual=True, max_iter=394, penalty=l1, solver=newton-cg, warm_start=True; total time=   0.0s\n",
            "[CV] END C=0, dual=True, max_iter=394, penalty=l1, solver=newton-cg, warm_start=True; total time=   0.0s\n",
            "[CV] END C=0, dual=True, max_iter=394, penalty=l1, solver=newton-cg, warm_start=True; total time=   0.0s\n",
            "[CV] END C=0, dual=False, max_iter=205, penalty=l1, solver=liblinear, warm_start=False; total time=   0.1s\n"
          ]
        },
        {
          "name": "stderr",
          "output_type": "stream",
          "text": [
            "/usr/local/lib/python3.8/dist-packages/sklearn/linear_model/_logistic.py:1523: UserWarning: 'n_jobs' > 1 does not have any effect when 'solver' is set to 'liblinear'. Got 'n_jobs' = 2.\n",
            "  warnings.warn(\n",
            "/usr/local/lib/python3.8/dist-packages/sklearn/linear_model/_logistic.py:1523: UserWarning: 'n_jobs' > 1 does not have any effect when 'solver' is set to 'liblinear'. Got 'n_jobs' = 2.\n",
            "  warnings.warn(\n",
            "/usr/local/lib/python3.8/dist-packages/sklearn/linear_model/_logistic.py:1523: UserWarning: 'n_jobs' > 1 does not have any effect when 'solver' is set to 'liblinear'. Got 'n_jobs' = 2.\n",
            "  warnings.warn(\n"
          ]
        },
        {
          "name": "stdout",
          "output_type": "stream",
          "text": [
            "[CV] END C=0, dual=False, max_iter=205, penalty=l1, solver=liblinear, warm_start=False; total time=   0.1s\n",
            "[CV] END C=0, dual=False, max_iter=205, penalty=l1, solver=liblinear, warm_start=False; total time=   0.1s\n",
            "[CV] END C=0, dual=True, max_iter=100, penalty=elasticnet, solver=lbfgs, warm_start=False; total time=   0.0s\n",
            "[CV] END C=0, dual=True, max_iter=100, penalty=elasticnet, solver=lbfgs, warm_start=False; total time=   0.0s\n",
            "[CV] END C=0, dual=True, max_iter=100, penalty=elasticnet, solver=lbfgs, warm_start=False; total time=   0.0s\n",
            "[CV] END C=0, dual=True, max_iter=394, penalty=l2, solver=lbfgs, warm_start=False; total time=   0.0s\n",
            "[CV] END C=0, dual=True, max_iter=394, penalty=l2, solver=lbfgs, warm_start=False; total time=   0.0s\n",
            "[CV] END C=0, dual=True, max_iter=394, penalty=l2, solver=lbfgs, warm_start=False; total time=   0.0s\n",
            "[CV] END C=0, dual=False, max_iter=415, penalty=none, solver=liblinear, warm_start=True; total time=   0.0s\n",
            "[CV] END C=0, dual=False, max_iter=415, penalty=none, solver=liblinear, warm_start=True; total time=   0.0s\n",
            "[CV] END C=0, dual=False, max_iter=415, penalty=none, solver=liblinear, warm_start=True; total time=   0.0s\n",
            "[CV] END C=0, dual=False, max_iter=163, penalty=elasticnet, solver=liblinear, warm_start=True; total time=   0.0s\n",
            "[CV] END C=0, dual=False, max_iter=163, penalty=elasticnet, solver=liblinear, warm_start=True; total time=   0.0s\n",
            "[CV] END C=0, dual=False, max_iter=163, penalty=elasticnet, solver=liblinear, warm_start=True; total time=   0.0s\n"
          ]
        },
        {
          "name": "stderr",
          "output_type": "stream",
          "text": [
            "/usr/local/lib/python3.8/dist-packages/sklearn/linear_model/_logistic.py:1483: UserWarning: Setting penalty='none' will ignore the C and l1_ratio parameters\n",
            "  warnings.warn(\n"
          ]
        },
        {
          "name": "stdout",
          "output_type": "stream",
          "text": [
            "[CV] END C=0, dual=False, max_iter=289, penalty=none, solver=lbfgs, warm_start=False; total time=   2.1s\n"
          ]
        },
        {
          "name": "stderr",
          "output_type": "stream",
          "text": [
            "/usr/local/lib/python3.8/dist-packages/sklearn/linear_model/_logistic.py:1483: UserWarning: Setting penalty='none' will ignore the C and l1_ratio parameters\n",
            "  warnings.warn(\n"
          ]
        },
        {
          "name": "stdout",
          "output_type": "stream",
          "text": [
            "[CV] END C=0, dual=False, max_iter=289, penalty=none, solver=lbfgs, warm_start=False; total time=   1.8s\n"
          ]
        },
        {
          "name": "stderr",
          "output_type": "stream",
          "text": [
            "/usr/local/lib/python3.8/dist-packages/sklearn/linear_model/_logistic.py:1483: UserWarning: Setting penalty='none' will ignore the C and l1_ratio parameters\n",
            "  warnings.warn(\n"
          ]
        },
        {
          "name": "stdout",
          "output_type": "stream",
          "text": [
            "[CV] END C=0, dual=False, max_iter=289, penalty=none, solver=lbfgs, warm_start=False; total time=   2.3s\n",
            "[CV] END C=0, dual=False, max_iter=142, penalty=elasticnet, solver=lbfgs, warm_start=True; total time=   0.0s\n",
            "[CV] END C=0, dual=False, max_iter=142, penalty=elasticnet, solver=lbfgs, warm_start=True; total time=   0.0s\n",
            "[CV] END C=0, dual=False, max_iter=142, penalty=elasticnet, solver=lbfgs, warm_start=True; total time=   0.0s\n",
            "[CV] END C=0, dual=True, max_iter=163, penalty=l1, solver=newton-cg, warm_start=True; total time=   0.0s\n",
            "[CV] END C=0, dual=True, max_iter=163, penalty=l1, solver=newton-cg, warm_start=True; total time=   0.0s\n",
            "[CV] END C=0, dual=True, max_iter=163, penalty=l1, solver=newton-cg, warm_start=True; total time=   0.0s\n",
            "[CV] END C=0, dual=True, max_iter=226, penalty=l2, solver=newton-cg, warm_start=True; total time=   0.0s\n",
            "[CV] END C=0, dual=True, max_iter=226, penalty=l2, solver=newton-cg, warm_start=True; total time=   0.0s\n",
            "[CV] END C=0, dual=True, max_iter=226, penalty=l2, solver=newton-cg, warm_start=True; total time=   0.0s\n",
            "[CV] END C=0, dual=False, max_iter=415, penalty=l1, solver=lbfgs, warm_start=False; total time=   0.0s\n",
            "[CV] END C=0, dual=False, max_iter=415, penalty=l1, solver=lbfgs, warm_start=False; total time=   0.0s\n",
            "[CV] END C=0, dual=False, max_iter=415, penalty=l1, solver=lbfgs, warm_start=False; total time=   0.0s\n",
            "[CV] END C=0, dual=True, max_iter=500, penalty=l2, solver=lbfgs, warm_start=False; total time=   0.0s\n",
            "[CV] END C=0, dual=True, max_iter=500, penalty=l2, solver=lbfgs, warm_start=False; total time=   0.0s\n",
            "[CV] END C=0, dual=True, max_iter=500, penalty=l2, solver=lbfgs, warm_start=False; total time=   0.0s\n"
          ]
        },
        {
          "name": "stderr",
          "output_type": "stream",
          "text": [
            "/usr/local/lib/python3.8/dist-packages/sklearn/linear_model/_logistic.py:1483: UserWarning: Setting penalty='none' will ignore the C and l1_ratio parameters\n",
            "  warnings.warn(\n"
          ]
        },
        {
          "name": "stdout",
          "output_type": "stream",
          "text": [
            "[CV] END C=0, dual=False, max_iter=352, penalty=none, solver=lbfgs, warm_start=True; total time=   2.4s\n"
          ]
        },
        {
          "name": "stderr",
          "output_type": "stream",
          "text": [
            "/usr/local/lib/python3.8/dist-packages/sklearn/linear_model/_logistic.py:1483: UserWarning: Setting penalty='none' will ignore the C and l1_ratio parameters\n",
            "  warnings.warn(\n"
          ]
        },
        {
          "name": "stdout",
          "output_type": "stream",
          "text": [
            "[CV] END C=0, dual=False, max_iter=352, penalty=none, solver=lbfgs, warm_start=True; total time=   2.3s\n"
          ]
        },
        {
          "name": "stderr",
          "output_type": "stream",
          "text": [
            "/usr/local/lib/python3.8/dist-packages/sklearn/linear_model/_logistic.py:1483: UserWarning: Setting penalty='none' will ignore the C and l1_ratio parameters\n",
            "  warnings.warn(\n"
          ]
        },
        {
          "name": "stdout",
          "output_type": "stream",
          "text": [
            "[CV] END C=0, dual=False, max_iter=352, penalty=none, solver=lbfgs, warm_start=True; total time=   2.3s\n",
            "[CV] END C=0, dual=True, max_iter=394, penalty=l1, solver=lbfgs, warm_start=True; total time=   0.0s\n",
            "[CV] END C=0, dual=True, max_iter=394, penalty=l1, solver=lbfgs, warm_start=True; total time=   0.0s\n",
            "[CV] END C=0, dual=True, max_iter=394, penalty=l1, solver=lbfgs, warm_start=True; total time=   0.0s\n",
            "[CV] END C=0, dual=False, max_iter=268, penalty=none, solver=liblinear, warm_start=True; total time=   0.0s\n",
            "[CV] END C=0, dual=False, max_iter=268, penalty=none, solver=liblinear, warm_start=True; total time=   0.0s\n",
            "[CV] END C=0, dual=False, max_iter=268, penalty=none, solver=liblinear, warm_start=True; total time=   0.0s\n",
            "[CV] END C=0, dual=True, max_iter=436, penalty=l2, solver=lbfgs, warm_start=False; total time=   0.0s\n",
            "[CV] END C=0, dual=True, max_iter=436, penalty=l2, solver=lbfgs, warm_start=False; total time=   0.0s\n",
            "[CV] END C=0, dual=True, max_iter=436, penalty=l2, solver=lbfgs, warm_start=False; total time=   0.0s\n",
            "[CV] END C=0, dual=True, max_iter=373, penalty=none, solver=lbfgs, warm_start=False; total time=   0.0s\n",
            "[CV] END C=0, dual=True, max_iter=373, penalty=none, solver=lbfgs, warm_start=False; total time=   0.0s\n",
            "[CV] END C=0, dual=True, max_iter=373, penalty=none, solver=lbfgs, warm_start=False; total time=   0.0s\n",
            "[CV] END C=0, dual=False, max_iter=310, penalty=l1, solver=lbfgs, warm_start=False; total time=   0.0s\n",
            "[CV] END C=0, dual=False, max_iter=310, penalty=l1, solver=lbfgs, warm_start=False; total time=   0.0s\n",
            "[CV] END C=0, dual=False, max_iter=310, penalty=l1, solver=lbfgs, warm_start=False; total time=   0.0s\n",
            "[CV] END C=0, dual=True, max_iter=184, penalty=elasticnet, solver=newton-cg, warm_start=True; total time=   0.0s\n",
            "[CV] END C=0, dual=True, max_iter=184, penalty=elasticnet, solver=newton-cg, warm_start=True; total time=   0.0s\n",
            "[CV] END C=0, dual=True, max_iter=184, penalty=elasticnet, solver=newton-cg, warm_start=True; total time=   0.0s\n",
            "[CV] END C=0, dual=True, max_iter=268, penalty=l2, solver=lbfgs, warm_start=False; total time=   0.0s\n",
            "[CV] END C=0, dual=True, max_iter=268, penalty=l2, solver=lbfgs, warm_start=False; total time=   0.0s\n",
            "[CV] END C=0, dual=True, max_iter=268, penalty=l2, solver=lbfgs, warm_start=False; total time=   0.0s\n"
          ]
        },
        {
          "name": "stderr",
          "output_type": "stream",
          "text": [
            "/usr/local/lib/python3.8/dist-packages/sklearn/linear_model/_logistic.py:1523: UserWarning: 'n_jobs' > 1 does not have any effect when 'solver' is set to 'liblinear'. Got 'n_jobs' = 2.\n",
            "  warnings.warn(\n",
            "/usr/local/lib/python3.8/dist-packages/sklearn/linear_model/_logistic.py:1523: UserWarning: 'n_jobs' > 1 does not have any effect when 'solver' is set to 'liblinear'. Got 'n_jobs' = 2.\n",
            "  warnings.warn(\n",
            "/usr/local/lib/python3.8/dist-packages/sklearn/linear_model/_logistic.py:1523: UserWarning: 'n_jobs' > 1 does not have any effect when 'solver' is set to 'liblinear'. Got 'n_jobs' = 2.\n",
            "  warnings.warn(\n"
          ]
        },
        {
          "name": "stdout",
          "output_type": "stream",
          "text": [
            "[CV] END C=0, dual=True, max_iter=268, penalty=l2, solver=liblinear, warm_start=False; total time=   0.1s\n",
            "[CV] END C=0, dual=True, max_iter=268, penalty=l2, solver=liblinear, warm_start=False; total time=   0.1s\n",
            "[CV] END C=0, dual=True, max_iter=268, penalty=l2, solver=liblinear, warm_start=False; total time=   0.1s\n"
          ]
        },
        {
          "name": "stderr",
          "output_type": "stream",
          "text": [
            "/usr/local/lib/python3.8/dist-packages/sklearn/linear_model/_logistic.py:1523: UserWarning: 'n_jobs' > 1 does not have any effect when 'solver' is set to 'liblinear'. Got 'n_jobs' = 2.\n",
            "  warnings.warn(\n",
            "/usr/local/lib/python3.8/dist-packages/sklearn/linear_model/_logistic.py:1523: UserWarning: 'n_jobs' > 1 does not have any effect when 'solver' is set to 'liblinear'. Got 'n_jobs' = 2.\n",
            "  warnings.warn(\n",
            "/usr/local/lib/python3.8/dist-packages/sklearn/linear_model/_logistic.py:1523: UserWarning: 'n_jobs' > 1 does not have any effect when 'solver' is set to 'liblinear'. Got 'n_jobs' = 2.\n",
            "  warnings.warn(\n"
          ]
        },
        {
          "name": "stdout",
          "output_type": "stream",
          "text": [
            "[CV] END C=0, dual=True, max_iter=457, penalty=l1, solver=liblinear, warm_start=True; total time=   0.1s\n",
            "[CV] END C=0, dual=True, max_iter=457, penalty=l1, solver=liblinear, warm_start=True; total time=   0.1s\n",
            "[CV] END C=0, dual=True, max_iter=457, penalty=l1, solver=liblinear, warm_start=True; total time=   0.1s\n",
            "[CV] END C=0, dual=True, max_iter=394, penalty=elasticnet, solver=liblinear, warm_start=False; total time=   0.0s\n",
            "[CV] END C=0, dual=True, max_iter=394, penalty=elasticnet, solver=liblinear, warm_start=False; total time=   0.0s\n",
            "[CV] END C=0, dual=True, max_iter=394, penalty=elasticnet, solver=liblinear, warm_start=False; total time=   0.0s\n",
            "[CV] END C=0, dual=False, max_iter=436, penalty=l1, solver=lbfgs, warm_start=True; total time=   0.0s\n",
            "[CV] END C=0, dual=False, max_iter=436, penalty=l1, solver=lbfgs, warm_start=True; total time=   0.0s\n",
            "[CV] END C=0, dual=False, max_iter=436, penalty=l1, solver=lbfgs, warm_start=True; total time=   0.0s\n",
            "[CV] END C=0, dual=True, max_iter=457, penalty=l1, solver=lbfgs, warm_start=True; total time=   0.0s\n",
            "[CV] END C=0, dual=True, max_iter=457, penalty=l1, solver=lbfgs, warm_start=True; total time=   0.0s\n",
            "[CV] END C=0, dual=True, max_iter=457, penalty=l1, solver=lbfgs, warm_start=True; total time=   0.0s\n",
            "[CV] END C=0, dual=True, max_iter=184, penalty=elasticnet, solver=lbfgs, warm_start=True; total time=   0.0s\n",
            "[CV] END C=0, dual=True, max_iter=184, penalty=elasticnet, solver=lbfgs, warm_start=True; total time=   0.0s\n",
            "[CV] END C=0, dual=True, max_iter=184, penalty=elasticnet, solver=lbfgs, warm_start=True; total time=   0.0s\n",
            "[CV] END C=0, dual=False, max_iter=457, penalty=elasticnet, solver=lbfgs, warm_start=False; total time=   0.0s\n",
            "[CV] END C=0, dual=False, max_iter=457, penalty=elasticnet, solver=lbfgs, warm_start=False; total time=   0.0s\n",
            "[CV] END C=0, dual=False, max_iter=457, penalty=elasticnet, solver=lbfgs, warm_start=False; total time=   0.0s\n"
          ]
        },
        {
          "name": "stderr",
          "output_type": "stream",
          "text": [
            "/usr/local/lib/python3.8/dist-packages/sklearn/linear_model/_logistic.py:1523: UserWarning: 'n_jobs' > 1 does not have any effect when 'solver' is set to 'liblinear'. Got 'n_jobs' = 2.\n",
            "  warnings.warn(\n",
            "/usr/local/lib/python3.8/dist-packages/sklearn/linear_model/_logistic.py:1523: UserWarning: 'n_jobs' > 1 does not have any effect when 'solver' is set to 'liblinear'. Got 'n_jobs' = 2.\n",
            "  warnings.warn(\n",
            "/usr/local/lib/python3.8/dist-packages/sklearn/linear_model/_logistic.py:1523: UserWarning: 'n_jobs' > 1 does not have any effect when 'solver' is set to 'liblinear'. Got 'n_jobs' = 2.\n",
            "  warnings.warn(\n",
            "/usr/local/lib/python3.8/dist-packages/sklearn/model_selection/_validation.py:372: FitFailedWarning: \n",
            "183 fits failed out of a total of 210.\n",
            "The score on these train-test partitions for these parameters will be set to nan.\n",
            "If these failures are not expected, you can try to debug them by setting error_score='raise'.\n",
            "\n",
            "Below are more details about the failures:\n",
            "--------------------------------------------------------------------------------\n",
            "12 fits failed with the following error:\n",
            "Traceback (most recent call last):\n",
            "  File \"/usr/local/lib/python3.8/dist-packages/sklearn/model_selection/_validation.py\", line 680, in _fit_and_score\n",
            "    estimator.fit(X_train, y_train, **fit_params)\n",
            "  File \"/usr/local/lib/python3.8/dist-packages/sklearn/linear_model/_logistic.py\", line 1461, in fit\n",
            "    solver = _check_solver(self.solver, self.penalty, self.dual)\n",
            "  File \"/usr/local/lib/python3.8/dist-packages/sklearn/linear_model/_logistic.py\", line 452, in _check_solver\n",
            "    raise ValueError(\n",
            "ValueError: Solver newton-cg supports only dual=False, got dual=True\n",
            "\n",
            "--------------------------------------------------------------------------------\n",
            "18 fits failed with the following error:\n",
            "Traceback (most recent call last):\n",
            "  File \"/usr/local/lib/python3.8/dist-packages/sklearn/model_selection/_validation.py\", line 680, in _fit_and_score\n",
            "    estimator.fit(X_train, y_train, **fit_params)\n",
            "  File \"/usr/local/lib/python3.8/dist-packages/sklearn/linear_model/_logistic.py\", line 1528, in fit\n",
            "    self.coef_, self.intercept_, n_iter_ = _fit_liblinear(\n",
            "  File \"/usr/local/lib/python3.8/dist-packages/sklearn/svm/_base.py\", line 1186, in _fit_liblinear\n",
            "    raw_coef_, n_iter_ = liblinear.train_wrap(\n",
            "  File \"sklearn/svm/_liblinear.pyx\", line 52, in sklearn.svm._liblinear.train_wrap\n",
            "ValueError: b'C <= 0'\n",
            "\n",
            "--------------------------------------------------------------------------------\n",
            "18 fits failed with the following error:\n",
            "Traceback (most recent call last):\n",
            "  File \"/usr/local/lib/python3.8/dist-packages/sklearn/model_selection/_validation.py\", line 680, in _fit_and_score\n",
            "    estimator.fit(X_train, y_train, **fit_params)\n",
            "  File \"/usr/local/lib/python3.8/dist-packages/sklearn/linear_model/_logistic.py\", line 1461, in fit\n",
            "    solver = _check_solver(self.solver, self.penalty, self.dual)\n",
            "  File \"/usr/local/lib/python3.8/dist-packages/sklearn/linear_model/_logistic.py\", line 447, in _check_solver\n",
            "    raise ValueError(\n",
            "ValueError: Solver newton-cg supports only 'l2' or 'none' penalties, got elasticnet penalty.\n",
            "\n",
            "--------------------------------------------------------------------------------\n",
            "12 fits failed with the following error:\n",
            "Traceback (most recent call last):\n",
            "  File \"/usr/local/lib/python3.8/dist-packages/sklearn/model_selection/_validation.py\", line 680, in _fit_and_score\n",
            "    estimator.fit(X_train, y_train, **fit_params)\n",
            "  File \"/usr/local/lib/python3.8/dist-packages/sklearn/linear_model/_logistic.py\", line 1461, in fit\n",
            "    solver = _check_solver(self.solver, self.penalty, self.dual)\n",
            "  File \"/usr/local/lib/python3.8/dist-packages/sklearn/linear_model/_logistic.py\", line 447, in _check_solver\n",
            "    raise ValueError(\n",
            "ValueError: Solver newton-cg supports only 'l2' or 'none' penalties, got l1 penalty.\n",
            "\n",
            "--------------------------------------------------------------------------------\n",
            "24 fits failed with the following error:\n",
            "Traceback (most recent call last):\n",
            "  File \"/usr/local/lib/python3.8/dist-packages/sklearn/model_selection/_validation.py\", line 680, in _fit_and_score\n",
            "    estimator.fit(X_train, y_train, **fit_params)\n",
            "  File \"/usr/local/lib/python3.8/dist-packages/sklearn/linear_model/_logistic.py\", line 1461, in fit\n",
            "    solver = _check_solver(self.solver, self.penalty, self.dual)\n",
            "  File \"/usr/local/lib/python3.8/dist-packages/sklearn/linear_model/_logistic.py\", line 447, in _check_solver\n",
            "    raise ValueError(\n",
            "ValueError: Solver lbfgs supports only 'l2' or 'none' penalties, got elasticnet penalty.\n",
            "\n",
            "--------------------------------------------------------------------------------\n",
            "27 fits failed with the following error:\n",
            "Traceback (most recent call last):\n",
            "  File \"/usr/local/lib/python3.8/dist-packages/sklearn/model_selection/_validation.py\", line 680, in _fit_and_score\n",
            "    estimator.fit(X_train, y_train, **fit_params)\n",
            "  File \"/usr/local/lib/python3.8/dist-packages/sklearn/linear_model/_logistic.py\", line 1461, in fit\n",
            "    solver = _check_solver(self.solver, self.penalty, self.dual)\n",
            "  File \"/usr/local/lib/python3.8/dist-packages/sklearn/linear_model/_logistic.py\", line 447, in _check_solver\n",
            "    raise ValueError(\n",
            "ValueError: Solver lbfgs supports only 'l2' or 'none' penalties, got l1 penalty.\n",
            "\n",
            "--------------------------------------------------------------------------------\n",
            "18 fits failed with the following error:\n",
            "Traceback (most recent call last):\n",
            "  File \"/usr/local/lib/python3.8/dist-packages/sklearn/model_selection/_validation.py\", line 680, in _fit_and_score\n",
            "    estimator.fit(X_train, y_train, **fit_params)\n",
            "  File \"/usr/local/lib/python3.8/dist-packages/sklearn/linear_model/_logistic.py\", line 1461, in fit\n",
            "    solver = _check_solver(self.solver, self.penalty, self.dual)\n",
            "  File \"/usr/local/lib/python3.8/dist-packages/sklearn/linear_model/_logistic.py\", line 457, in _check_solver\n",
            "    raise ValueError(\n",
            "ValueError: Only 'saga' solver supports elasticnet penalty, got solver=liblinear.\n",
            "\n",
            "--------------------------------------------------------------------------------\n",
            "18 fits failed with the following error:\n",
            "joblib.externals.loky.process_executor._RemoteTraceback: \n",
            "\"\"\"\n",
            "Traceback (most recent call last):\n",
            "  File \"/usr/local/lib/python3.8/dist-packages/joblib/externals/loky/process_executor.py\", line 428, in _process_worker\n",
            "    r = call_item()\n",
            "  File \"/usr/local/lib/python3.8/dist-packages/joblib/externals/loky/process_executor.py\", line 275, in __call__\n",
            "    return self.fn(*self.args, **self.kwargs)\n",
            "  File \"/usr/local/lib/python3.8/dist-packages/joblib/_parallel_backends.py\", line 620, in __call__\n",
            "    return self.func(*args, **kwargs)\n",
            "  File \"/usr/local/lib/python3.8/dist-packages/joblib/parallel.py\", line 288, in __call__\n",
            "    return [func(*args, **kwargs)\n",
            "  File \"/usr/local/lib/python3.8/dist-packages/joblib/parallel.py\", line 288, in <listcomp>\n",
            "    return [func(*args, **kwargs)\n",
            "  File \"/usr/local/lib/python3.8/dist-packages/sklearn/utils/fixes.py\", line 216, in __call__\n",
            "    return self.function(*args, **kwargs)\n",
            "  File \"/usr/local/lib/python3.8/dist-packages/sklearn/linear_model/_logistic.py\", line 822, in _logistic_regression_path\n",
            "    args = (X, target, 1.0 / C, sample_weight)\n",
            "ZeroDivisionError: float division by zero\n",
            "\"\"\"\n",
            "\n",
            "The above exception was the direct cause of the following exception:\n",
            "\n",
            "Traceback (most recent call last):\n",
            "  File \"/usr/local/lib/python3.8/dist-packages/sklearn/model_selection/_validation.py\", line 680, in _fit_and_score\n",
            "    estimator.fit(X_train, y_train, **fit_params)\n",
            "  File \"/usr/local/lib/python3.8/dist-packages/sklearn/linear_model/_logistic.py\", line 1589, in fit\n",
            "    fold_coefs_ = Parallel(\n",
            "  File \"/usr/local/lib/python3.8/dist-packages/joblib/parallel.py\", line 1098, in __call__\n",
            "    self.retrieve()\n",
            "  File \"/usr/local/lib/python3.8/dist-packages/joblib/parallel.py\", line 975, in retrieve\n",
            "    self._output.extend(job.get(timeout=self.timeout))\n",
            "  File \"/usr/local/lib/python3.8/dist-packages/joblib/_parallel_backends.py\", line 567, in wrap_future_result\n",
            "    return future.result(timeout=timeout)\n",
            "  File \"/usr/lib/python3.8/concurrent/futures/_base.py\", line 444, in result\n",
            "    return self.__get_result()\n",
            "  File \"/usr/lib/python3.8/concurrent/futures/_base.py\", line 389, in __get_result\n",
            "    raise self._exception\n",
            "ZeroDivisionError: float division by zero\n",
            "\n",
            "--------------------------------------------------------------------------------\n",
            "3 fits failed with the following error:\n",
            "joblib.externals.loky.process_executor._RemoteTraceback: \n",
            "\"\"\"\n",
            "Traceback (most recent call last):\n",
            "  File \"/usr/local/lib/python3.8/dist-packages/joblib/externals/loky/process_executor.py\", line 428, in _process_worker\n",
            "    r = call_item()\n",
            "  File \"/usr/local/lib/python3.8/dist-packages/joblib/externals/loky/process_executor.py\", line 275, in __call__\n",
            "    return self.fn(*self.args, **self.kwargs)\n",
            "  File \"/usr/local/lib/python3.8/dist-packages/joblib/_parallel_backends.py\", line 620, in __call__\n",
            "    return self.func(*args, **kwargs)\n",
            "  File \"/usr/local/lib/python3.8/dist-packages/joblib/parallel.py\", line 288, in __call__\n",
            "    return [func(*args, **kwargs)\n",
            "  File \"/usr/local/lib/python3.8/dist-packages/joblib/parallel.py\", line 288, in <listcomp>\n",
            "    return [func(*args, **kwargs)\n",
            "  File \"/usr/local/lib/python3.8/dist-packages/sklearn/utils/fixes.py\", line 216, in __call__\n",
            "    return self.function(*args, **kwargs)\n",
            "  File \"/usr/local/lib/python3.8/dist-packages/sklearn/linear_model/_logistic.py\", line 811, in _logistic_regression_path\n",
            "    args=(X, target, 1.0 / C, sample_weight),\n",
            "ZeroDivisionError: float division by zero\n",
            "\"\"\"\n",
            "\n",
            "The above exception was the direct cause of the following exception:\n",
            "\n",
            "Traceback (most recent call last):\n",
            "  File \"/usr/local/lib/python3.8/dist-packages/sklearn/model_selection/_validation.py\", line 680, in _fit_and_score\n",
            "    estimator.fit(X_train, y_train, **fit_params)\n",
            "  File \"/usr/local/lib/python3.8/dist-packages/sklearn/linear_model/_logistic.py\", line 1589, in fit\n",
            "    fold_coefs_ = Parallel(\n",
            "  File \"/usr/local/lib/python3.8/dist-packages/joblib/parallel.py\", line 1098, in __call__\n",
            "    self.retrieve()\n",
            "  File \"/usr/local/lib/python3.8/dist-packages/joblib/parallel.py\", line 975, in retrieve\n",
            "    self._output.extend(job.get(timeout=self.timeout))\n",
            "  File \"/usr/local/lib/python3.8/dist-packages/joblib/_parallel_backends.py\", line 567, in wrap_future_result\n",
            "    return future.result(timeout=timeout)\n",
            "  File \"/usr/lib/python3.8/concurrent/futures/_base.py\", line 444, in result\n",
            "    return self.__get_result()\n",
            "  File \"/usr/lib/python3.8/concurrent/futures/_base.py\", line 389, in __get_result\n",
            "    raise self._exception\n",
            "ZeroDivisionError: float division by zero\n",
            "\n",
            "--------------------------------------------------------------------------------\n",
            "9 fits failed with the following error:\n",
            "Traceback (most recent call last):\n",
            "  File \"/usr/local/lib/python3.8/dist-packages/sklearn/model_selection/_validation.py\", line 680, in _fit_and_score\n",
            "    estimator.fit(X_train, y_train, **fit_params)\n",
            "  File \"/usr/local/lib/python3.8/dist-packages/sklearn/linear_model/_logistic.py\", line 1528, in fit\n",
            "    self.coef_, self.intercept_, n_iter_ = _fit_liblinear(\n",
            "  File \"/usr/local/lib/python3.8/dist-packages/sklearn/svm/_base.py\", line 1185, in _fit_liblinear\n",
            "    solver_type = _get_liblinear_solver_type(multi_class, penalty, loss, dual)\n",
            "  File \"/usr/local/lib/python3.8/dist-packages/sklearn/svm/_base.py\", line 1024, in _get_liblinear_solver_type\n",
            "    raise ValueError(\n",
            "ValueError: Unsupported set of arguments: The combination of penalty='l1' and loss='logistic_regression' are not supported when dual=True, Parameters: penalty='l1', loss='logistic_regression', dual=True\n",
            "\n",
            "--------------------------------------------------------------------------------\n",
            "9 fits failed with the following error:\n",
            "Traceback (most recent call last):\n",
            "  File \"/usr/local/lib/python3.8/dist-packages/sklearn/model_selection/_validation.py\", line 680, in _fit_and_score\n",
            "    estimator.fit(X_train, y_train, **fit_params)\n",
            "  File \"/usr/local/lib/python3.8/dist-packages/sklearn/linear_model/_logistic.py\", line 1461, in fit\n",
            "    solver = _check_solver(self.solver, self.penalty, self.dual)\n",
            "  File \"/usr/local/lib/python3.8/dist-packages/sklearn/linear_model/_logistic.py\", line 464, in _check_solver\n",
            "    raise ValueError(\"penalty='none' is not supported for the liblinear solver\")\n",
            "ValueError: penalty='none' is not supported for the liblinear solver\n",
            "\n",
            "--------------------------------------------------------------------------------\n",
            "15 fits failed with the following error:\n",
            "Traceback (most recent call last):\n",
            "  File \"/usr/local/lib/python3.8/dist-packages/sklearn/model_selection/_validation.py\", line 680, in _fit_and_score\n",
            "    estimator.fit(X_train, y_train, **fit_params)\n",
            "  File \"/usr/local/lib/python3.8/dist-packages/sklearn/linear_model/_logistic.py\", line 1461, in fit\n",
            "    solver = _check_solver(self.solver, self.penalty, self.dual)\n",
            "  File \"/usr/local/lib/python3.8/dist-packages/sklearn/linear_model/_logistic.py\", line 452, in _check_solver\n",
            "    raise ValueError(\n",
            "ValueError: Solver lbfgs supports only dual=False, got dual=True\n",
            "\n",
            "  warnings.warn(some_fits_failed_message, FitFailedWarning)\n",
            "/usr/local/lib/python3.8/dist-packages/sklearn/model_selection/_search.py:969: UserWarning: One or more of the test scores are non-finite: [       nan        nan        nan        nan        nan        nan\n",
            "        nan        nan        nan 0.74981125        nan 0.74981858\n",
            "        nan        nan        nan        nan        nan        nan\n",
            "        nan        nan        nan 0.74981858        nan        nan\n",
            "        nan        nan        nan 0.74981858        nan 0.74981125\n",
            "        nan        nan        nan        nan 0.74981125        nan\n",
            "        nan        nan 0.74981125        nan        nan        nan\n",
            "        nan        nan        nan        nan        nan        nan\n",
            " 0.74981858        nan        nan        nan        nan        nan\n",
            " 0.74981858        nan        nan        nan        nan        nan\n",
            "        nan        nan        nan        nan        nan        nan\n",
            "        nan        nan        nan        nan]\n",
            "  warnings.warn(\n",
            "/usr/local/lib/python3.8/dist-packages/sklearn/linear_model/_logistic.py:1483: UserWarning: Setting penalty='none' will ignore the C and l1_ratio parameters\n",
            "  warnings.warn(\n"
          ]
        },
        {
          "name": "stdout",
          "output_type": "stream",
          "text": [
            "[CV] END C=0, dual=True, max_iter=268, penalty=l1, solver=liblinear, warm_start=True; total time=   0.1s\n",
            "[CV] END C=0, dual=True, max_iter=268, penalty=l1, solver=liblinear, warm_start=True; total time=   0.1s\n",
            "[CV] END C=0, dual=True, max_iter=268, penalty=l1, solver=liblinear, warm_start=True; total time=   0.1s\n"
          ]
        },
        {
          "data": {
            "text/plain": [
              "{'warm_start': True,\n",
              " 'solver': 'lbfgs',\n",
              " 'penalty': 'none',\n",
              " 'max_iter': 331,\n",
              " 'dual': False,\n",
              " 'C': 0}"
            ]
          },
          "execution_count": 18,
          "metadata": {},
          "output_type": "execute_result"
        }
      ],
      "source": [
        "# RandomizedSearchCV\n",
        "\n",
        "random_grid = {\n",
        "                \"penalty\": ['l1', 'l2', 'elasticnet', 'none'],\n",
        "                \"dual\": [True, False],\n",
        "                \"max_iter\" : [int(x) for x in np.linspace(100, 500, num = 20)],\n",
        "                \"warm_start\" : [True, False],\n",
        "                \"solver\" : ['lbfgs', 'newton-cg', 'liblinear'],\n",
        "                \"C\" : [int(x) for x in np.linspace(0, 1, num = 50)]\n",
        "              }\n",
        "\n",
        "log_random = RandomizedSearchCV(estimator = log_clf, \n",
        "                                param_distributions = random_grid, \n",
        "                                n_iter = 70, \n",
        "                                cv = 3, \n",
        "                                verbose = 2, \n",
        "                                scoring = 'recall',\n",
        "                                random_state = 10)\n",
        "\n",
        "log_random.fit(X_train, y_train)\n",
        "log_random.best_params_"
      ]
    },
    {
      "cell_type": "markdown",
      "metadata": {
        "id": "K6pDMCgDBqPd"
      },
      "source": [
        "Errors expected because there are different supported penalties for different solvers. Increase RandomizedSearchCV iterations to compensate.\n",
        "\n",
        "* ‘lbfgs’ - [‘l2’, None]\n",
        "* ‘liblinear’ - [‘l1’, ‘l2’]\n",
        "* ‘newton-cg’ - [‘l2’, None]\n",
        "\n"
      ]
    },
    {
      "cell_type": "code",
      "execution_count": null,
      "metadata": {
        "colab": {
          "base_uri": "https://localhost:8080/"
        },
        "id": "GQf2Kg82OkuJ",
        "outputId": "7a2037e9-dbb1-4f14-c766-2bf050ba4fe5"
      },
      "outputs": [
        {
          "data": {
            "text/plain": [
              "{'warm_start': True,\n",
              " 'solver': 'lbfgs',\n",
              " 'penalty': 'none',\n",
              " 'max_iter': 331,\n",
              " 'dual': False,\n",
              " 'C': 0}"
            ]
          },
          "execution_count": 19,
          "metadata": {},
          "output_type": "execute_result"
        }
      ],
      "source": [
        "log_random.best_params_"
      ]
    },
    {
      "cell_type": "code",
      "execution_count": null,
      "metadata": {
        "colab": {
          "base_uri": "https://localhost:8080/"
        },
        "id": "rSyim973PLda",
        "outputId": "6fa0e8a6-1aed-4949-98bc-a9259a122f71"
      },
      "outputs": [
        {
          "data": {
            "text/plain": [
              "0.7498185842986874"
            ]
          },
          "execution_count": 20,
          "metadata": {},
          "output_type": "execute_result"
        }
      ],
      "source": [
        "log_random.best_score_"
      ]
    },
    {
      "cell_type": "markdown",
      "metadata": {
        "id": "oBBQ_iust1eb"
      },
      "source": [
        "## Support Vector Machine (SVM)\n",
        "\n",
        "- Library: Scikit-learn"
      ]
    },
    {
      "cell_type": "markdown",
      "metadata": {
        "id": "-DJDztBnUV6b"
      },
      "source": [
        "Approach 1: Undersampling to lower number of training samples and reduce learning time"
      ]
    },
    {
      "cell_type": "code",
      "execution_count": null,
      "metadata": {
        "id": "tsq0c55qZSVE"
      },
      "outputs": [],
      "source": [
        "X_train_SVM = Original[0]\n",
        "X_val_SVM = Original[1]\n",
        "y_train_SVM = Original[3]\n",
        "y_val_SVM = Original[4]"
      ]
    },
    {
      "cell_type": "code",
      "execution_count": null,
      "metadata": {
        "colab": {
          "base_uri": "https://localhost:8080/",
          "height": 69
        },
        "id": "OlCn_HS1dItl",
        "outputId": "4af71392-2b80-4c70-df14-5b88f1e6736e"
      },
      "outputs": [
        {
          "data": {
            "text/plain": [
              "0    136417\n",
              "1      1096\n",
              "Name: FIRE_OCCURRED, dtype: int64"
            ]
          },
          "metadata": {},
          "output_type": "display_data"
        }
      ],
      "source": [
        "display(y_train_SVM.value_counts())"
      ]
    },
    {
      "cell_type": "code",
      "execution_count": null,
      "metadata": {
        "id": "wPwHlXKMdiO9"
      },
      "outputs": [],
      "source": [
        "# Undersampling & Shuffle\n",
        "\n",
        "from imblearn.under_sampling import RandomUnderSampler\n",
        "\n",
        "rus = RandomUnderSampler(random_state=10)\n",
        "X_train_SVM, y_train_SVM = rus.fit_resample(X_train_SVM, y_train_SVM)\n",
        "X_train_SVM, y_train_SVM = shuffle(X_train_SVM, y_train_SVM, random_state = 10)"
      ]
    },
    {
      "cell_type": "code",
      "execution_count": null,
      "metadata": {
        "colab": {
          "base_uri": "https://localhost:8080/",
          "height": 69
        },
        "id": "9by4YC8tdj47",
        "outputId": "e93979b7-3a87-4dec-fcc6-42222238ea10"
      },
      "outputs": [
        {
          "data": {
            "text/plain": [
              "0    1096\n",
              "1    1096\n",
              "Name: FIRE_OCCURRED, dtype: int64"
            ]
          },
          "metadata": {},
          "output_type": "display_data"
        }
      ],
      "source": [
        "display(y_train_SVM.value_counts())"
      ]
    },
    {
      "cell_type": "code",
      "execution_count": null,
      "metadata": {
        "colab": {
          "base_uri": "https://localhost:8080/"
        },
        "id": "XsSKT8gmdoVT",
        "outputId": "db3d1407-71b2-4e16-ce86-d3f9108917ac"
      },
      "outputs": [
        {
          "name": "stdout",
          "output_type": "stream",
          "text": [
            "Currently at : svc_clf0\n",
            "Currently at : svc_clf1\n",
            "Currently at : svc_clf2\n"
          ]
        }
      ],
      "source": [
        "# Training\n",
        "\n",
        "name = 'svc_clf'\n",
        "\n",
        "train = pd.DataFrame(columns = ['kernel', 'random_state'])\n",
        "train = train.append({'kernel' : 'rbf', 'random_state': 10}, ignore_index=True)\n",
        "train = train.append({'kernel' : 'poly', 'random_state': 10}, ignore_index=True)\n",
        "train = train.append({'kernel' : 'sigmoid', 'random_state': 10}, ignore_index=True)\n",
        "\n",
        "train = train.reset_index()\n",
        "for index, row in train.iterrows():\n",
        "    model_name = name + str(index)\n",
        "    print(\"Currently at :\" , model_name)\n",
        "    svc_clf = SVC(kernel=row[\"kernel\"], random_state = int(row[\"random_state\"]))\n",
        "    svc_clf.fit(X_train_SVM, y_train_SVM)\n",
        "    \n",
        "    y_true = y_val_SVM\n",
        "    y_pred = svc_clf.predict(X_val_SVM)\n",
        "    evaluation_results = evaluation_metrics(y_true, y_pred)\n",
        "\n",
        "    models = models.append({'model_name': model_name, \n",
        "                            'model': svc_clf, \n",
        "                            'parameters': svc_clf.get_params()}, \n",
        "                            ignore_index=True)\n",
        "    \n",
        "    models_eval = models_eval.append({'model_name': model_name, \n",
        "                                      'confusion_matrix' : evaluation_results[0], \n",
        "                                      'accuracy': evaluation_results[1], \n",
        "                                      'recall' : evaluation_results[2], \n",
        "                                      'f1_score': evaluation_results[3], \n",
        "                                      'roc_auc_score': evaluation_results[4]}, \n",
        "                                      ignore_index=True)"
      ]
    },
    {
      "cell_type": "code",
      "execution_count": null,
      "metadata": {
        "colab": {
          "base_uri": "https://localhost:8080/",
          "height": 206
        },
        "id": "Wb-YSYc9VwpI",
        "outputId": "da59b3ed-2b3a-4875-cd3e-25befb18eb64"
      },
      "outputs": [
        {
          "data": {
            "text/html": [
              "\n",
              "  <div id=\"df-c9850ac6-9433-48b8-84e6-e2bb10f268db\">\n",
              "    <div class=\"colab-df-container\">\n",
              "      <div>\n",
              "<style scoped>\n",
              "    .dataframe tbody tr th:only-of-type {\n",
              "        vertical-align: middle;\n",
              "    }\n",
              "\n",
              "    .dataframe tbody tr th {\n",
              "        vertical-align: top;\n",
              "    }\n",
              "\n",
              "    .dataframe thead th {\n",
              "        text-align: right;\n",
              "    }\n",
              "</style>\n",
              "<table border=\"1\" class=\"dataframe\">\n",
              "  <thead>\n",
              "    <tr style=\"text-align: right;\">\n",
              "      <th></th>\n",
              "      <th>model_name</th>\n",
              "      <th>confusion_matrix</th>\n",
              "      <th>accuracy</th>\n",
              "      <th>recall</th>\n",
              "      <th>f1_score</th>\n",
              "      <th>roc_auc_score</th>\n",
              "    </tr>\n",
              "  </thead>\n",
              "  <tbody>\n",
              "    <tr>\n",
              "      <th>0</th>\n",
              "      <td>log_clf0</td>\n",
              "      <td>[14046, 3022, 42, 80]</td>\n",
              "      <td>0.821757</td>\n",
              "      <td>0.655738</td>\n",
              "      <td>0.049628</td>\n",
              "      <td>0.739341</td>\n",
              "    </tr>\n",
              "    <tr>\n",
              "      <th>1</th>\n",
              "      <td>log_clf1</td>\n",
              "      <td>[14044, 3024, 42, 80]</td>\n",
              "      <td>0.821640</td>\n",
              "      <td>0.655738</td>\n",
              "      <td>0.049597</td>\n",
              "      <td>0.739282</td>\n",
              "    </tr>\n",
              "    <tr>\n",
              "      <th>2</th>\n",
              "      <td>svc_clf0</td>\n",
              "      <td>[14575, 2493, 8, 114]</td>\n",
              "      <td>0.854508</td>\n",
              "      <td>0.934426</td>\n",
              "      <td>0.083547</td>\n",
              "      <td>0.894182</td>\n",
              "    </tr>\n",
              "    <tr>\n",
              "      <th>3</th>\n",
              "      <td>svc_clf1</td>\n",
              "      <td>[14928, 2140, 10, 112]</td>\n",
              "      <td>0.874927</td>\n",
              "      <td>0.918033</td>\n",
              "      <td>0.094356</td>\n",
              "      <td>0.896326</td>\n",
              "    </tr>\n",
              "    <tr>\n",
              "      <th>4</th>\n",
              "      <td>svc_clf2</td>\n",
              "      <td>[11329, 5739, 54, 68]</td>\n",
              "      <td>0.663002</td>\n",
              "      <td>0.557377</td>\n",
              "      <td>0.022938</td>\n",
              "      <td>0.610567</td>\n",
              "    </tr>\n",
              "  </tbody>\n",
              "</table>\n",
              "</div>\n",
              "      <button class=\"colab-df-convert\" onclick=\"convertToInteractive('df-c9850ac6-9433-48b8-84e6-e2bb10f268db')\"\n",
              "              title=\"Convert this dataframe to an interactive table.\"\n",
              "              style=\"display:none;\">\n",
              "        \n",
              "  <svg xmlns=\"http://www.w3.org/2000/svg\" height=\"24px\"viewBox=\"0 0 24 24\"\n",
              "       width=\"24px\">\n",
              "    <path d=\"M0 0h24v24H0V0z\" fill=\"none\"/>\n",
              "    <path d=\"M18.56 5.44l.94 2.06.94-2.06 2.06-.94-2.06-.94-.94-2.06-.94 2.06-2.06.94zm-11 1L8.5 8.5l.94-2.06 2.06-.94-2.06-.94L8.5 2.5l-.94 2.06-2.06.94zm10 10l.94 2.06.94-2.06 2.06-.94-2.06-.94-.94-2.06-.94 2.06-2.06.94z\"/><path d=\"M17.41 7.96l-1.37-1.37c-.4-.4-.92-.59-1.43-.59-.52 0-1.04.2-1.43.59L10.3 9.45l-7.72 7.72c-.78.78-.78 2.05 0 2.83L4 21.41c.39.39.9.59 1.41.59.51 0 1.02-.2 1.41-.59l7.78-7.78 2.81-2.81c.8-.78.8-2.07 0-2.86zM5.41 20L4 18.59l7.72-7.72 1.47 1.35L5.41 20z\"/>\n",
              "  </svg>\n",
              "      </button>\n",
              "      \n",
              "  <style>\n",
              "    .colab-df-container {\n",
              "      display:flex;\n",
              "      flex-wrap:wrap;\n",
              "      gap: 12px;\n",
              "    }\n",
              "\n",
              "    .colab-df-convert {\n",
              "      background-color: #E8F0FE;\n",
              "      border: none;\n",
              "      border-radius: 50%;\n",
              "      cursor: pointer;\n",
              "      display: none;\n",
              "      fill: #1967D2;\n",
              "      height: 32px;\n",
              "      padding: 0 0 0 0;\n",
              "      width: 32px;\n",
              "    }\n",
              "\n",
              "    .colab-df-convert:hover {\n",
              "      background-color: #E2EBFA;\n",
              "      box-shadow: 0px 1px 2px rgba(60, 64, 67, 0.3), 0px 1px 3px 1px rgba(60, 64, 67, 0.15);\n",
              "      fill: #174EA6;\n",
              "    }\n",
              "\n",
              "    [theme=dark] .colab-df-convert {\n",
              "      background-color: #3B4455;\n",
              "      fill: #D2E3FC;\n",
              "    }\n",
              "\n",
              "    [theme=dark] .colab-df-convert:hover {\n",
              "      background-color: #434B5C;\n",
              "      box-shadow: 0px 1px 3px 1px rgba(0, 0, 0, 0.15);\n",
              "      filter: drop-shadow(0px 1px 2px rgba(0, 0, 0, 0.3));\n",
              "      fill: #FFFFFF;\n",
              "    }\n",
              "  </style>\n",
              "\n",
              "      <script>\n",
              "        const buttonEl =\n",
              "          document.querySelector('#df-c9850ac6-9433-48b8-84e6-e2bb10f268db button.colab-df-convert');\n",
              "        buttonEl.style.display =\n",
              "          google.colab.kernel.accessAllowed ? 'block' : 'none';\n",
              "\n",
              "        async function convertToInteractive(key) {\n",
              "          const element = document.querySelector('#df-c9850ac6-9433-48b8-84e6-e2bb10f268db');\n",
              "          const dataTable =\n",
              "            await google.colab.kernel.invokeFunction('convertToInteractive',\n",
              "                                                     [key], {});\n",
              "          if (!dataTable) return;\n",
              "\n",
              "          const docLinkHtml = 'Like what you see? Visit the ' +\n",
              "            '<a target=\"_blank\" href=https://colab.research.google.com/notebooks/data_table.ipynb>data table notebook</a>'\n",
              "            + ' to learn more about interactive tables.';\n",
              "          element.innerHTML = '';\n",
              "          dataTable['output_type'] = 'display_data';\n",
              "          await google.colab.output.renderOutput(dataTable, element);\n",
              "          const docLink = document.createElement('div');\n",
              "          docLink.innerHTML = docLinkHtml;\n",
              "          element.appendChild(docLink);\n",
              "        }\n",
              "      </script>\n",
              "    </div>\n",
              "  </div>\n",
              "  "
            ],
            "text/plain": [
              "  model_name        confusion_matrix  accuracy    recall  f1_score  \\\n",
              "0   log_clf0   [14046, 3022, 42, 80]  0.821757  0.655738  0.049628   \n",
              "1   log_clf1   [14044, 3024, 42, 80]  0.821640  0.655738  0.049597   \n",
              "2   svc_clf0   [14575, 2493, 8, 114]  0.854508  0.934426  0.083547   \n",
              "3   svc_clf1  [14928, 2140, 10, 112]  0.874927  0.918033  0.094356   \n",
              "4   svc_clf2   [11329, 5739, 54, 68]  0.663002  0.557377  0.022938   \n",
              "\n",
              "   roc_auc_score  \n",
              "0       0.739341  \n",
              "1       0.739282  \n",
              "2       0.894182  \n",
              "3       0.896326  \n",
              "4       0.610567  "
            ]
          },
          "metadata": {},
          "output_type": "display_data"
        }
      ],
      "source": [
        "display(models_eval)"
      ]
    },
    {
      "cell_type": "markdown",
      "metadata": {
        "id": "qrWtVscoHjwp"
      },
      "source": [
        "The best kernel is rbf for recall score. All kernel gives poor F1-score"
      ]
    },
    {
      "cell_type": "markdown",
      "metadata": {
        "id": "dMGtSxvfUekT"
      },
      "source": [
        "Approach 2: Class-weighted SVM with original amount of data (before SMOTE)"
      ]
    },
    {
      "cell_type": "code",
      "execution_count": null,
      "metadata": {
        "id": "ySImEnhqGWbH"
      },
      "outputs": [],
      "source": [
        "X_train_SVM = Original[0]\n",
        "X_val_SVM = Original[1]\n",
        "y_train_SVM = Original[3]\n",
        "y_val_SVM = Original[4]"
      ]
    },
    {
      "cell_type": "code",
      "execution_count": null,
      "metadata": {
        "id": "ugeOje0B-dZ1"
      },
      "outputs": [],
      "source": [
        "# Shuffle\n",
        "\n",
        "X_train_SVM, y_train_SVM = shuffle(X_train_SVM, y_train_SVM, random_state = 10)"
      ]
    },
    {
      "cell_type": "code",
      "execution_count": null,
      "metadata": {
        "colab": {
          "base_uri": "https://localhost:8080/",
          "height": 69
        },
        "id": "A88D9hpjGYf-",
        "outputId": "ad53fdf3-a234-484e-d1f0-8ae51584a2b4"
      },
      "outputs": [
        {
          "data": {
            "text/plain": [
              "0    136417\n",
              "1      1096\n",
              "Name: FIRE_OCCURRED, dtype: int64"
            ]
          },
          "metadata": {},
          "output_type": "display_data"
        }
      ],
      "source": [
        "display(y_train_SVM.value_counts())"
      ]
    },
    {
      "cell_type": "code",
      "execution_count": null,
      "metadata": {
        "colab": {
          "background_save": true
        },
        "id": "QGpzJBu7VRov"
      },
      "outputs": [],
      "source": [
        "# Training\n",
        "\n",
        "name = 'svc_clf'\n",
        "\n",
        "train = pd.DataFrame(columns = ['kernel', 'random_state'])\n",
        "train = train.append({'kernel' : 'rbf', 'C': 1, 'random_state': 10}, ignore_index=True)\n",
        "train = train.append({'kernel' : 'rbf', 'C': 2, 'random_state': 10}, ignore_index=True)\n",
        "train = train.append({'kernel' : 'rbf', 'C': 4, 'random_state': 10}, ignore_index=True)\n",
        "train = train.append({'kernel' : 'rbf', 'C': 8, 'random_state': 10}, ignore_index=True)\n",
        "\n",
        "train = train.reset_index()\n",
        "for index, row in train.iterrows():\n",
        "    index = index + 3\n",
        "    model_name = name + str(index)\n",
        "    print(\"Current at \", model_name)\n",
        "    svc_clf = SVC(kernel = row[\"kernel\"], class_weight='balanced', C = int(row[\"C\"]), random_state = int(row[\"random_state\"]))\n",
        "    svc_clf.fit(X_train_SVM, y_train_SVM)\n",
        "    \n",
        "    y_true = y_val_SVM\n",
        "    y_pred = svc_clf.predict(X_val_SVM)\n",
        "    evaluation_results = evaluation_metrics(y_true, y_pred)\n",
        "\n",
        "    models = models.append({'model_name': model_name, \n",
        "                            'model': svc_clf, \n",
        "                            'parameters': svc_clf.get_params()}, \n",
        "                            ignore_index=True)\n",
        "    \n",
        "    models_eval = models_eval.append({'model_name': model_name, \n",
        "                                      'confusion_matrix' : evaluation_results[0], \n",
        "                                      'accuracy': evaluation_results[1], \n",
        "                                      'recall' : evaluation_results[2], \n",
        "                                      'f1_score': evaluation_results[3], \n",
        "                                      'roc_auc_score': evaluation_results[4]}, \n",
        "                                      ignore_index=True)"
      ]
    },
    {
      "cell_type": "code",
      "execution_count": null,
      "metadata": {
        "colab": {
          "base_uri": "https://localhost:8080/",
          "height": 331
        },
        "id": "_18Aktz2aTn5",
        "outputId": "ad4bdc4b-f1cc-4508-d865-68e780c5df7a"
      },
      "outputs": [
        {
          "data": {
            "text/html": [
              "\n",
              "  <div id=\"df-f7a8f26b-ea85-47ee-9256-58db370cb34d\">\n",
              "    <div class=\"colab-df-container\">\n",
              "      <div>\n",
              "<style scoped>\n",
              "    .dataframe tbody tr th:only-of-type {\n",
              "        vertical-align: middle;\n",
              "    }\n",
              "\n",
              "    .dataframe tbody tr th {\n",
              "        vertical-align: top;\n",
              "    }\n",
              "\n",
              "    .dataframe thead th {\n",
              "        text-align: right;\n",
              "    }\n",
              "</style>\n",
              "<table border=\"1\" class=\"dataframe\">\n",
              "  <thead>\n",
              "    <tr style=\"text-align: right;\">\n",
              "      <th></th>\n",
              "      <th>model_name</th>\n",
              "      <th>model</th>\n",
              "      <th>parameters</th>\n",
              "    </tr>\n",
              "  </thead>\n",
              "  <tbody>\n",
              "    <tr>\n",
              "      <th>0</th>\n",
              "      <td>log_clf0</td>\n",
              "      <td>LogisticRegression(n_jobs=-1, penalty='none', ...</td>\n",
              "      <td>{'C': 1.0, 'class_weight': None, 'dual': False...</td>\n",
              "    </tr>\n",
              "    <tr>\n",
              "      <th>1</th>\n",
              "      <td>log_clf1</td>\n",
              "      <td>LogisticRegression(n_jobs=-1, random_state=10)</td>\n",
              "      <td>{'C': 1.0, 'class_weight': None, 'dual': False...</td>\n",
              "    </tr>\n",
              "    <tr>\n",
              "      <th>2</th>\n",
              "      <td>svc_clf0</td>\n",
              "      <td>SVC(random_state=10)</td>\n",
              "      <td>{'C': 1.0, 'break_ties': False, 'cache_size': ...</td>\n",
              "    </tr>\n",
              "    <tr>\n",
              "      <th>3</th>\n",
              "      <td>svc_clf1</td>\n",
              "      <td>SVC(kernel='poly', random_state=10)</td>\n",
              "      <td>{'C': 1.0, 'break_ties': False, 'cache_size': ...</td>\n",
              "    </tr>\n",
              "    <tr>\n",
              "      <th>4</th>\n",
              "      <td>svc_clf2</td>\n",
              "      <td>SVC(kernel='sigmoid', random_state=10)</td>\n",
              "      <td>{'C': 1.0, 'break_ties': False, 'cache_size': ...</td>\n",
              "    </tr>\n",
              "    <tr>\n",
              "      <th>5</th>\n",
              "      <td>svc_clf3</td>\n",
              "      <td>SVC(C=1, class_weight='balanced', random_state...</td>\n",
              "      <td>{'C': 1, 'break_ties': False, 'cache_size': 20...</td>\n",
              "    </tr>\n",
              "    <tr>\n",
              "      <th>6</th>\n",
              "      <td>svc_clf4</td>\n",
              "      <td>SVC(C=2, class_weight='balanced', random_state...</td>\n",
              "      <td>{'C': 2, 'break_ties': False, 'cache_size': 20...</td>\n",
              "    </tr>\n",
              "    <tr>\n",
              "      <th>7</th>\n",
              "      <td>svc_clf5</td>\n",
              "      <td>SVC(C=4, class_weight='balanced', random_state...</td>\n",
              "      <td>{'C': 4, 'break_ties': False, 'cache_size': 20...</td>\n",
              "    </tr>\n",
              "    <tr>\n",
              "      <th>8</th>\n",
              "      <td>svc_clf6</td>\n",
              "      <td>SVC(C=8, class_weight='balanced', random_state...</td>\n",
              "      <td>{'C': 8, 'break_ties': False, 'cache_size': 20...</td>\n",
              "    </tr>\n",
              "  </tbody>\n",
              "</table>\n",
              "</div>\n",
              "      <button class=\"colab-df-convert\" onclick=\"convertToInteractive('df-f7a8f26b-ea85-47ee-9256-58db370cb34d')\"\n",
              "              title=\"Convert this dataframe to an interactive table.\"\n",
              "              style=\"display:none;\">\n",
              "        \n",
              "  <svg xmlns=\"http://www.w3.org/2000/svg\" height=\"24px\"viewBox=\"0 0 24 24\"\n",
              "       width=\"24px\">\n",
              "    <path d=\"M0 0h24v24H0V0z\" fill=\"none\"/>\n",
              "    <path d=\"M18.56 5.44l.94 2.06.94-2.06 2.06-.94-2.06-.94-.94-2.06-.94 2.06-2.06.94zm-11 1L8.5 8.5l.94-2.06 2.06-.94-2.06-.94L8.5 2.5l-.94 2.06-2.06.94zm10 10l.94 2.06.94-2.06 2.06-.94-2.06-.94-.94-2.06-.94 2.06-2.06.94z\"/><path d=\"M17.41 7.96l-1.37-1.37c-.4-.4-.92-.59-1.43-.59-.52 0-1.04.2-1.43.59L10.3 9.45l-7.72 7.72c-.78.78-.78 2.05 0 2.83L4 21.41c.39.39.9.59 1.41.59.51 0 1.02-.2 1.41-.59l7.78-7.78 2.81-2.81c.8-.78.8-2.07 0-2.86zM5.41 20L4 18.59l7.72-7.72 1.47 1.35L5.41 20z\"/>\n",
              "  </svg>\n",
              "      </button>\n",
              "      \n",
              "  <style>\n",
              "    .colab-df-container {\n",
              "      display:flex;\n",
              "      flex-wrap:wrap;\n",
              "      gap: 12px;\n",
              "    }\n",
              "\n",
              "    .colab-df-convert {\n",
              "      background-color: #E8F0FE;\n",
              "      border: none;\n",
              "      border-radius: 50%;\n",
              "      cursor: pointer;\n",
              "      display: none;\n",
              "      fill: #1967D2;\n",
              "      height: 32px;\n",
              "      padding: 0 0 0 0;\n",
              "      width: 32px;\n",
              "    }\n",
              "\n",
              "    .colab-df-convert:hover {\n",
              "      background-color: #E2EBFA;\n",
              "      box-shadow: 0px 1px 2px rgba(60, 64, 67, 0.3), 0px 1px 3px 1px rgba(60, 64, 67, 0.15);\n",
              "      fill: #174EA6;\n",
              "    }\n",
              "\n",
              "    [theme=dark] .colab-df-convert {\n",
              "      background-color: #3B4455;\n",
              "      fill: #D2E3FC;\n",
              "    }\n",
              "\n",
              "    [theme=dark] .colab-df-convert:hover {\n",
              "      background-color: #434B5C;\n",
              "      box-shadow: 0px 1px 3px 1px rgba(0, 0, 0, 0.15);\n",
              "      filter: drop-shadow(0px 1px 2px rgba(0, 0, 0, 0.3));\n",
              "      fill: #FFFFFF;\n",
              "    }\n",
              "  </style>\n",
              "\n",
              "      <script>\n",
              "        const buttonEl =\n",
              "          document.querySelector('#df-f7a8f26b-ea85-47ee-9256-58db370cb34d button.colab-df-convert');\n",
              "        buttonEl.style.display =\n",
              "          google.colab.kernel.accessAllowed ? 'block' : 'none';\n",
              "\n",
              "        async function convertToInteractive(key) {\n",
              "          const element = document.querySelector('#df-f7a8f26b-ea85-47ee-9256-58db370cb34d');\n",
              "          const dataTable =\n",
              "            await google.colab.kernel.invokeFunction('convertToInteractive',\n",
              "                                                     [key], {});\n",
              "          if (!dataTable) return;\n",
              "\n",
              "          const docLinkHtml = 'Like what you see? Visit the ' +\n",
              "            '<a target=\"_blank\" href=https://colab.research.google.com/notebooks/data_table.ipynb>data table notebook</a>'\n",
              "            + ' to learn more about interactive tables.';\n",
              "          element.innerHTML = '';\n",
              "          dataTable['output_type'] = 'display_data';\n",
              "          await google.colab.output.renderOutput(dataTable, element);\n",
              "          const docLink = document.createElement('div');\n",
              "          docLink.innerHTML = docLinkHtml;\n",
              "          element.appendChild(docLink);\n",
              "        }\n",
              "      </script>\n",
              "    </div>\n",
              "  </div>\n",
              "  "
            ],
            "text/plain": [
              "  model_name                                              model  \\\n",
              "0   log_clf0  LogisticRegression(n_jobs=-1, penalty='none', ...   \n",
              "1   log_clf1     LogisticRegression(n_jobs=-1, random_state=10)   \n",
              "2   svc_clf0                               SVC(random_state=10)   \n",
              "3   svc_clf1                SVC(kernel='poly', random_state=10)   \n",
              "4   svc_clf2             SVC(kernel='sigmoid', random_state=10)   \n",
              "5   svc_clf3  SVC(C=1, class_weight='balanced', random_state...   \n",
              "6   svc_clf4  SVC(C=2, class_weight='balanced', random_state...   \n",
              "7   svc_clf5  SVC(C=4, class_weight='balanced', random_state...   \n",
              "8   svc_clf6  SVC(C=8, class_weight='balanced', random_state...   \n",
              "\n",
              "                                          parameters  \n",
              "0  {'C': 1.0, 'class_weight': None, 'dual': False...  \n",
              "1  {'C': 1.0, 'class_weight': None, 'dual': False...  \n",
              "2  {'C': 1.0, 'break_ties': False, 'cache_size': ...  \n",
              "3  {'C': 1.0, 'break_ties': False, 'cache_size': ...  \n",
              "4  {'C': 1.0, 'break_ties': False, 'cache_size': ...  \n",
              "5  {'C': 1, 'break_ties': False, 'cache_size': 20...  \n",
              "6  {'C': 2, 'break_ties': False, 'cache_size': 20...  \n",
              "7  {'C': 4, 'break_ties': False, 'cache_size': 20...  \n",
              "8  {'C': 8, 'break_ties': False, 'cache_size': 20...  "
            ]
          },
          "metadata": {},
          "output_type": "display_data"
        }
      ],
      "source": [
        "display(models)"
      ]
    },
    {
      "cell_type": "code",
      "execution_count": null,
      "metadata": {
        "colab": {
          "base_uri": "https://localhost:8080/",
          "height": 331
        },
        "id": "FOc0QQ_FaUTL",
        "outputId": "4b1de247-c11c-4f39-eccb-560078cfee12"
      },
      "outputs": [
        {
          "data": {
            "text/html": [
              "\n",
              "  <div id=\"df-daa23a62-020b-4443-b56f-701ae32e4794\">\n",
              "    <div class=\"colab-df-container\">\n",
              "      <div>\n",
              "<style scoped>\n",
              "    .dataframe tbody tr th:only-of-type {\n",
              "        vertical-align: middle;\n",
              "    }\n",
              "\n",
              "    .dataframe tbody tr th {\n",
              "        vertical-align: top;\n",
              "    }\n",
              "\n",
              "    .dataframe thead th {\n",
              "        text-align: right;\n",
              "    }\n",
              "</style>\n",
              "<table border=\"1\" class=\"dataframe\">\n",
              "  <thead>\n",
              "    <tr style=\"text-align: right;\">\n",
              "      <th></th>\n",
              "      <th>model_name</th>\n",
              "      <th>confusion_matrix</th>\n",
              "      <th>accuracy</th>\n",
              "      <th>recall</th>\n",
              "      <th>f1_score</th>\n",
              "      <th>roc_auc_score</th>\n",
              "    </tr>\n",
              "  </thead>\n",
              "  <tbody>\n",
              "    <tr>\n",
              "      <th>0</th>\n",
              "      <td>log_clf0</td>\n",
              "      <td>[14046, 3022, 42, 80]</td>\n",
              "      <td>0.821757</td>\n",
              "      <td>0.655738</td>\n",
              "      <td>0.049628</td>\n",
              "      <td>0.739341</td>\n",
              "    </tr>\n",
              "    <tr>\n",
              "      <th>1</th>\n",
              "      <td>log_clf1</td>\n",
              "      <td>[14044, 3024, 42, 80]</td>\n",
              "      <td>0.821640</td>\n",
              "      <td>0.655738</td>\n",
              "      <td>0.049597</td>\n",
              "      <td>0.739282</td>\n",
              "    </tr>\n",
              "    <tr>\n",
              "      <th>2</th>\n",
              "      <td>svc_clf0</td>\n",
              "      <td>[14575, 2493, 8, 114]</td>\n",
              "      <td>0.854508</td>\n",
              "      <td>0.934426</td>\n",
              "      <td>0.083547</td>\n",
              "      <td>0.894182</td>\n",
              "    </tr>\n",
              "    <tr>\n",
              "      <th>3</th>\n",
              "      <td>svc_clf1</td>\n",
              "      <td>[14928, 2140, 10, 112]</td>\n",
              "      <td>0.874927</td>\n",
              "      <td>0.918033</td>\n",
              "      <td>0.094356</td>\n",
              "      <td>0.896326</td>\n",
              "    </tr>\n",
              "    <tr>\n",
              "      <th>4</th>\n",
              "      <td>svc_clf2</td>\n",
              "      <td>[11329, 5739, 54, 68]</td>\n",
              "      <td>0.663002</td>\n",
              "      <td>0.557377</td>\n",
              "      <td>0.022938</td>\n",
              "      <td>0.610567</td>\n",
              "    </tr>\n",
              "    <tr>\n",
              "      <th>5</th>\n",
              "      <td>svc_clf3</td>\n",
              "      <td>[15961, 1107, 13, 109]</td>\n",
              "      <td>0.934846</td>\n",
              "      <td>0.893443</td>\n",
              "      <td>0.162930</td>\n",
              "      <td>0.914292</td>\n",
              "    </tr>\n",
              "    <tr>\n",
              "      <th>6</th>\n",
              "      <td>svc_clf4</td>\n",
              "      <td>[16122, 946, 13, 109]</td>\n",
              "      <td>0.944212</td>\n",
              "      <td>0.893443</td>\n",
              "      <td>0.185217</td>\n",
              "      <td>0.919009</td>\n",
              "    </tr>\n",
              "    <tr>\n",
              "      <th>7</th>\n",
              "      <td>svc_clf5</td>\n",
              "      <td>[16241, 827, 13, 109]</td>\n",
              "      <td>0.951134</td>\n",
              "      <td>0.893443</td>\n",
              "      <td>0.206049</td>\n",
              "      <td>0.922495</td>\n",
              "    </tr>\n",
              "    <tr>\n",
              "      <th>8</th>\n",
              "      <td>svc_clf6</td>\n",
              "      <td>[16317, 751, 14, 108]</td>\n",
              "      <td>0.955497</td>\n",
              "      <td>0.885246</td>\n",
              "      <td>0.220183</td>\n",
              "      <td>0.920623</td>\n",
              "    </tr>\n",
              "  </tbody>\n",
              "</table>\n",
              "</div>\n",
              "      <button class=\"colab-df-convert\" onclick=\"convertToInteractive('df-daa23a62-020b-4443-b56f-701ae32e4794')\"\n",
              "              title=\"Convert this dataframe to an interactive table.\"\n",
              "              style=\"display:none;\">\n",
              "        \n",
              "  <svg xmlns=\"http://www.w3.org/2000/svg\" height=\"24px\"viewBox=\"0 0 24 24\"\n",
              "       width=\"24px\">\n",
              "    <path d=\"M0 0h24v24H0V0z\" fill=\"none\"/>\n",
              "    <path d=\"M18.56 5.44l.94 2.06.94-2.06 2.06-.94-2.06-.94-.94-2.06-.94 2.06-2.06.94zm-11 1L8.5 8.5l.94-2.06 2.06-.94-2.06-.94L8.5 2.5l-.94 2.06-2.06.94zm10 10l.94 2.06.94-2.06 2.06-.94-2.06-.94-.94-2.06-.94 2.06-2.06.94z\"/><path d=\"M17.41 7.96l-1.37-1.37c-.4-.4-.92-.59-1.43-.59-.52 0-1.04.2-1.43.59L10.3 9.45l-7.72 7.72c-.78.78-.78 2.05 0 2.83L4 21.41c.39.39.9.59 1.41.59.51 0 1.02-.2 1.41-.59l7.78-7.78 2.81-2.81c.8-.78.8-2.07 0-2.86zM5.41 20L4 18.59l7.72-7.72 1.47 1.35L5.41 20z\"/>\n",
              "  </svg>\n",
              "      </button>\n",
              "      \n",
              "  <style>\n",
              "    .colab-df-container {\n",
              "      display:flex;\n",
              "      flex-wrap:wrap;\n",
              "      gap: 12px;\n",
              "    }\n",
              "\n",
              "    .colab-df-convert {\n",
              "      background-color: #E8F0FE;\n",
              "      border: none;\n",
              "      border-radius: 50%;\n",
              "      cursor: pointer;\n",
              "      display: none;\n",
              "      fill: #1967D2;\n",
              "      height: 32px;\n",
              "      padding: 0 0 0 0;\n",
              "      width: 32px;\n",
              "    }\n",
              "\n",
              "    .colab-df-convert:hover {\n",
              "      background-color: #E2EBFA;\n",
              "      box-shadow: 0px 1px 2px rgba(60, 64, 67, 0.3), 0px 1px 3px 1px rgba(60, 64, 67, 0.15);\n",
              "      fill: #174EA6;\n",
              "    }\n",
              "\n",
              "    [theme=dark] .colab-df-convert {\n",
              "      background-color: #3B4455;\n",
              "      fill: #D2E3FC;\n",
              "    }\n",
              "\n",
              "    [theme=dark] .colab-df-convert:hover {\n",
              "      background-color: #434B5C;\n",
              "      box-shadow: 0px 1px 3px 1px rgba(0, 0, 0, 0.15);\n",
              "      filter: drop-shadow(0px 1px 2px rgba(0, 0, 0, 0.3));\n",
              "      fill: #FFFFFF;\n",
              "    }\n",
              "  </style>\n",
              "\n",
              "      <script>\n",
              "        const buttonEl =\n",
              "          document.querySelector('#df-daa23a62-020b-4443-b56f-701ae32e4794 button.colab-df-convert');\n",
              "        buttonEl.style.display =\n",
              "          google.colab.kernel.accessAllowed ? 'block' : 'none';\n",
              "\n",
              "        async function convertToInteractive(key) {\n",
              "          const element = document.querySelector('#df-daa23a62-020b-4443-b56f-701ae32e4794');\n",
              "          const dataTable =\n",
              "            await google.colab.kernel.invokeFunction('convertToInteractive',\n",
              "                                                     [key], {});\n",
              "          if (!dataTable) return;\n",
              "\n",
              "          const docLinkHtml = 'Like what you see? Visit the ' +\n",
              "            '<a target=\"_blank\" href=https://colab.research.google.com/notebooks/data_table.ipynb>data table notebook</a>'\n",
              "            + ' to learn more about interactive tables.';\n",
              "          element.innerHTML = '';\n",
              "          dataTable['output_type'] = 'display_data';\n",
              "          await google.colab.output.renderOutput(dataTable, element);\n",
              "          const docLink = document.createElement('div');\n",
              "          docLink.innerHTML = docLinkHtml;\n",
              "          element.appendChild(docLink);\n",
              "        }\n",
              "      </script>\n",
              "    </div>\n",
              "  </div>\n",
              "  "
            ],
            "text/plain": [
              "  model_name        confusion_matrix  accuracy    recall  f1_score  \\\n",
              "0   log_clf0   [14046, 3022, 42, 80]  0.821757  0.655738  0.049628   \n",
              "1   log_clf1   [14044, 3024, 42, 80]  0.821640  0.655738  0.049597   \n",
              "2   svc_clf0   [14575, 2493, 8, 114]  0.854508  0.934426  0.083547   \n",
              "3   svc_clf1  [14928, 2140, 10, 112]  0.874927  0.918033  0.094356   \n",
              "4   svc_clf2   [11329, 5739, 54, 68]  0.663002  0.557377  0.022938   \n",
              "5   svc_clf3  [15961, 1107, 13, 109]  0.934846  0.893443  0.162930   \n",
              "6   svc_clf4   [16122, 946, 13, 109]  0.944212  0.893443  0.185217   \n",
              "7   svc_clf5   [16241, 827, 13, 109]  0.951134  0.893443  0.206049   \n",
              "8   svc_clf6   [16317, 751, 14, 108]  0.955497  0.885246  0.220183   \n",
              "\n",
              "   roc_auc_score  \n",
              "0       0.739341  \n",
              "1       0.739282  \n",
              "2       0.894182  \n",
              "3       0.896326  \n",
              "4       0.610567  \n",
              "5       0.914292  \n",
              "6       0.919009  \n",
              "7       0.922495  \n",
              "8       0.920623  "
            ]
          },
          "metadata": {},
          "output_type": "display_data"
        }
      ],
      "source": [
        "display(models_eval)"
      ]
    },
    {
      "cell_type": "markdown",
      "metadata": {
        "id": "v35KdCcEGL7J"
      },
      "source": [
        "Best Parameters: \n",
        "\n",
        "{'kernel': 'rbf', 'C' : '8', 'class_weight'='balanced'}"
      ]
    },
    {
      "cell_type": "markdown",
      "metadata": {
        "id": "Tzx0wl2ht1R1"
      },
      "source": [
        "## Naive Bayes\n",
        "\n",
        "- Library: Scikit-learn"
      ]
    },
    {
      "cell_type": "code",
      "execution_count": null,
      "metadata": {
        "id": "xDhLdEgHaVwR"
      },
      "outputs": [],
      "source": [
        "# Training\n",
        "\n",
        "name = 'bayes_clf'\n",
        "\n",
        "train = pd.DataFrame(columns = ['var_smoothing'])\n",
        "train = train.append({'var_smoothing': 1e-0}, ignore_index=True)\n",
        "train = train.append({'var_smoothing': 1e-1}, ignore_index=True)\n",
        "train = train.append({'var_smoothing': 1e-3}, ignore_index=True)\n",
        "train = train.append({'var_smoothing': 1e-5}, ignore_index=True)\n",
        "train = train.append({'var_smoothing': 1e-9}, ignore_index=True)\n",
        "train = train.append({'var_smoothing': 1e-10}, ignore_index=True)\n",
        "train = train.append({'var_smoothing': 1e-20}, ignore_index=True)\n",
        "\n",
        "train = train.reset_index()\n",
        "for index, row in train.iterrows():\n",
        "    model_name = name + str(index)\n",
        "    bayes_clf = GaussianNB(var_smoothing = row['var_smoothing'])\n",
        "    bayes_clf.fit(X_train, y_train)\n",
        "    \n",
        "    y_true = y_val\n",
        "    y_pred = bayes_clf.predict(X_val)\n",
        "    evaluation_results = evaluation_metrics(y_true, y_pred)\n",
        "\n",
        "    models = models.append({'model_name': model_name, \n",
        "                            'model': bayes_clf, \n",
        "                            'parameters': bayes_clf.get_params()}, \n",
        "                            ignore_index=True)\n",
        "    \n",
        "    models_eval = models_eval.append({'model_name': model_name, \n",
        "                                      'confusion_matrix' : evaluation_results[0], \n",
        "                                      'accuracy': evaluation_results[1], \n",
        "                                      'recall' : evaluation_results[2], \n",
        "                                      'f1_score': evaluation_results[3], \n",
        "                                      'roc_auc_score': evaluation_results[4]}, \n",
        "                                      ignore_index=True)"
      ]
    },
    {
      "cell_type": "code",
      "execution_count": null,
      "metadata": {
        "colab": {
          "base_uri": "https://localhost:8080/",
          "height": 551
        },
        "id": "n7Ad5Gr5eH_U",
        "outputId": "907c7a5b-cf38-4351-cdcd-b3566931b3f1"
      },
      "outputs": [
        {
          "data": {
            "text/html": [
              "\n",
              "  <div id=\"df-3c28bb05-b7cb-4666-b1cc-d488cde05f64\">\n",
              "    <div class=\"colab-df-container\">\n",
              "      <div>\n",
              "<style scoped>\n",
              "    .dataframe tbody tr th:only-of-type {\n",
              "        vertical-align: middle;\n",
              "    }\n",
              "\n",
              "    .dataframe tbody tr th {\n",
              "        vertical-align: top;\n",
              "    }\n",
              "\n",
              "    .dataframe thead th {\n",
              "        text-align: right;\n",
              "    }\n",
              "</style>\n",
              "<table border=\"1\" class=\"dataframe\">\n",
              "  <thead>\n",
              "    <tr style=\"text-align: right;\">\n",
              "      <th></th>\n",
              "      <th>model_name</th>\n",
              "      <th>confusion_matrix</th>\n",
              "      <th>accuracy</th>\n",
              "      <th>recall</th>\n",
              "      <th>f1_score</th>\n",
              "      <th>roc_auc_score</th>\n",
              "    </tr>\n",
              "  </thead>\n",
              "  <tbody>\n",
              "    <tr>\n",
              "      <th>0</th>\n",
              "      <td>log_clf0</td>\n",
              "      <td>[14046, 3022, 42, 80]</td>\n",
              "      <td>0.821757</td>\n",
              "      <td>0.655738</td>\n",
              "      <td>0.049628</td>\n",
              "      <td>0.739341</td>\n",
              "    </tr>\n",
              "    <tr>\n",
              "      <th>1</th>\n",
              "      <td>log_clf1</td>\n",
              "      <td>[14044, 3024, 42, 80]</td>\n",
              "      <td>0.821640</td>\n",
              "      <td>0.655738</td>\n",
              "      <td>0.049597</td>\n",
              "      <td>0.739282</td>\n",
              "    </tr>\n",
              "    <tr>\n",
              "      <th>2</th>\n",
              "      <td>svc_clf0</td>\n",
              "      <td>[14575, 2493, 8, 114]</td>\n",
              "      <td>0.854508</td>\n",
              "      <td>0.934426</td>\n",
              "      <td>0.083547</td>\n",
              "      <td>0.894182</td>\n",
              "    </tr>\n",
              "    <tr>\n",
              "      <th>3</th>\n",
              "      <td>svc_clf1</td>\n",
              "      <td>[14928, 2140, 10, 112]</td>\n",
              "      <td>0.874927</td>\n",
              "      <td>0.918033</td>\n",
              "      <td>0.094356</td>\n",
              "      <td>0.896326</td>\n",
              "    </tr>\n",
              "    <tr>\n",
              "      <th>4</th>\n",
              "      <td>svc_clf2</td>\n",
              "      <td>[11329, 5739, 54, 68]</td>\n",
              "      <td>0.663002</td>\n",
              "      <td>0.557377</td>\n",
              "      <td>0.022938</td>\n",
              "      <td>0.610567</td>\n",
              "    </tr>\n",
              "    <tr>\n",
              "      <th>5</th>\n",
              "      <td>svc_clf3</td>\n",
              "      <td>[15961, 1107, 13, 109]</td>\n",
              "      <td>0.934846</td>\n",
              "      <td>0.893443</td>\n",
              "      <td>0.162930</td>\n",
              "      <td>0.914292</td>\n",
              "    </tr>\n",
              "    <tr>\n",
              "      <th>6</th>\n",
              "      <td>svc_clf4</td>\n",
              "      <td>[16122, 946, 13, 109]</td>\n",
              "      <td>0.944212</td>\n",
              "      <td>0.893443</td>\n",
              "      <td>0.185217</td>\n",
              "      <td>0.919009</td>\n",
              "    </tr>\n",
              "    <tr>\n",
              "      <th>7</th>\n",
              "      <td>svc_clf5</td>\n",
              "      <td>[16241, 827, 13, 109]</td>\n",
              "      <td>0.951134</td>\n",
              "      <td>0.893443</td>\n",
              "      <td>0.206049</td>\n",
              "      <td>0.922495</td>\n",
              "    </tr>\n",
              "    <tr>\n",
              "      <th>8</th>\n",
              "      <td>svc_clf6</td>\n",
              "      <td>[16317, 751, 14, 108]</td>\n",
              "      <td>0.955497</td>\n",
              "      <td>0.885246</td>\n",
              "      <td>0.220183</td>\n",
              "      <td>0.920623</td>\n",
              "    </tr>\n",
              "    <tr>\n",
              "      <th>9</th>\n",
              "      <td>bayes_clf0</td>\n",
              "      <td>[11653, 5415, 27, 95]</td>\n",
              "      <td>0.683421</td>\n",
              "      <td>0.778689</td>\n",
              "      <td>0.033736</td>\n",
              "      <td>0.730714</td>\n",
              "    </tr>\n",
              "    <tr>\n",
              "      <th>10</th>\n",
              "      <td>bayes_clf1</td>\n",
              "      <td>[13328, 3740, 34, 88]</td>\n",
              "      <td>0.780454</td>\n",
              "      <td>0.721311</td>\n",
              "      <td>0.044557</td>\n",
              "      <td>0.751094</td>\n",
              "    </tr>\n",
              "    <tr>\n",
              "      <th>11</th>\n",
              "      <td>bayes_clf2</td>\n",
              "      <td>[11475, 5593, 18, 104]</td>\n",
              "      <td>0.673589</td>\n",
              "      <td>0.852459</td>\n",
              "      <td>0.035745</td>\n",
              "      <td>0.762385</td>\n",
              "    </tr>\n",
              "    <tr>\n",
              "      <th>12</th>\n",
              "      <td>bayes_clf3</td>\n",
              "      <td>[5486, 11582, 0, 122]</td>\n",
              "      <td>0.326236</td>\n",
              "      <td>1.000000</td>\n",
              "      <td>0.020633</td>\n",
              "      <td>0.660710</td>\n",
              "    </tr>\n",
              "    <tr>\n",
              "      <th>13</th>\n",
              "      <td>bayes_clf4</td>\n",
              "      <td>[1115, 15953, 0, 122]</td>\n",
              "      <td>0.071960</td>\n",
              "      <td>1.000000</td>\n",
              "      <td>0.015065</td>\n",
              "      <td>0.532663</td>\n",
              "    </tr>\n",
              "    <tr>\n",
              "      <th>14</th>\n",
              "      <td>bayes_clf5</td>\n",
              "      <td>[986, 16082, 0, 122]</td>\n",
              "      <td>0.064456</td>\n",
              "      <td>1.000000</td>\n",
              "      <td>0.014945</td>\n",
              "      <td>0.528884</td>\n",
              "    </tr>\n",
              "    <tr>\n",
              "      <th>15</th>\n",
              "      <td>bayes_clf6</td>\n",
              "      <td>[574, 16494, 0, 122]</td>\n",
              "      <td>0.040489</td>\n",
              "      <td>1.000000</td>\n",
              "      <td>0.014578</td>\n",
              "      <td>0.516815</td>\n",
              "    </tr>\n",
              "  </tbody>\n",
              "</table>\n",
              "</div>\n",
              "      <button class=\"colab-df-convert\" onclick=\"convertToInteractive('df-3c28bb05-b7cb-4666-b1cc-d488cde05f64')\"\n",
              "              title=\"Convert this dataframe to an interactive table.\"\n",
              "              style=\"display:none;\">\n",
              "        \n",
              "  <svg xmlns=\"http://www.w3.org/2000/svg\" height=\"24px\"viewBox=\"0 0 24 24\"\n",
              "       width=\"24px\">\n",
              "    <path d=\"M0 0h24v24H0V0z\" fill=\"none\"/>\n",
              "    <path d=\"M18.56 5.44l.94 2.06.94-2.06 2.06-.94-2.06-.94-.94-2.06-.94 2.06-2.06.94zm-11 1L8.5 8.5l.94-2.06 2.06-.94-2.06-.94L8.5 2.5l-.94 2.06-2.06.94zm10 10l.94 2.06.94-2.06 2.06-.94-2.06-.94-.94-2.06-.94 2.06-2.06.94z\"/><path d=\"M17.41 7.96l-1.37-1.37c-.4-.4-.92-.59-1.43-.59-.52 0-1.04.2-1.43.59L10.3 9.45l-7.72 7.72c-.78.78-.78 2.05 0 2.83L4 21.41c.39.39.9.59 1.41.59.51 0 1.02-.2 1.41-.59l7.78-7.78 2.81-2.81c.8-.78.8-2.07 0-2.86zM5.41 20L4 18.59l7.72-7.72 1.47 1.35L5.41 20z\"/>\n",
              "  </svg>\n",
              "      </button>\n",
              "      \n",
              "  <style>\n",
              "    .colab-df-container {\n",
              "      display:flex;\n",
              "      flex-wrap:wrap;\n",
              "      gap: 12px;\n",
              "    }\n",
              "\n",
              "    .colab-df-convert {\n",
              "      background-color: #E8F0FE;\n",
              "      border: none;\n",
              "      border-radius: 50%;\n",
              "      cursor: pointer;\n",
              "      display: none;\n",
              "      fill: #1967D2;\n",
              "      height: 32px;\n",
              "      padding: 0 0 0 0;\n",
              "      width: 32px;\n",
              "    }\n",
              "\n",
              "    .colab-df-convert:hover {\n",
              "      background-color: #E2EBFA;\n",
              "      box-shadow: 0px 1px 2px rgba(60, 64, 67, 0.3), 0px 1px 3px 1px rgba(60, 64, 67, 0.15);\n",
              "      fill: #174EA6;\n",
              "    }\n",
              "\n",
              "    [theme=dark] .colab-df-convert {\n",
              "      background-color: #3B4455;\n",
              "      fill: #D2E3FC;\n",
              "    }\n",
              "\n",
              "    [theme=dark] .colab-df-convert:hover {\n",
              "      background-color: #434B5C;\n",
              "      box-shadow: 0px 1px 3px 1px rgba(0, 0, 0, 0.15);\n",
              "      filter: drop-shadow(0px 1px 2px rgba(0, 0, 0, 0.3));\n",
              "      fill: #FFFFFF;\n",
              "    }\n",
              "  </style>\n",
              "\n",
              "      <script>\n",
              "        const buttonEl =\n",
              "          document.querySelector('#df-3c28bb05-b7cb-4666-b1cc-d488cde05f64 button.colab-df-convert');\n",
              "        buttonEl.style.display =\n",
              "          google.colab.kernel.accessAllowed ? 'block' : 'none';\n",
              "\n",
              "        async function convertToInteractive(key) {\n",
              "          const element = document.querySelector('#df-3c28bb05-b7cb-4666-b1cc-d488cde05f64');\n",
              "          const dataTable =\n",
              "            await google.colab.kernel.invokeFunction('convertToInteractive',\n",
              "                                                     [key], {});\n",
              "          if (!dataTable) return;\n",
              "\n",
              "          const docLinkHtml = 'Like what you see? Visit the ' +\n",
              "            '<a target=\"_blank\" href=https://colab.research.google.com/notebooks/data_table.ipynb>data table notebook</a>'\n",
              "            + ' to learn more about interactive tables.';\n",
              "          element.innerHTML = '';\n",
              "          dataTable['output_type'] = 'display_data';\n",
              "          await google.colab.output.renderOutput(dataTable, element);\n",
              "          const docLink = document.createElement('div');\n",
              "          docLink.innerHTML = docLinkHtml;\n",
              "          element.appendChild(docLink);\n",
              "        }\n",
              "      </script>\n",
              "    </div>\n",
              "  </div>\n",
              "  "
            ],
            "text/plain": [
              "    model_name        confusion_matrix  accuracy    recall  f1_score  \\\n",
              "0     log_clf0   [14046, 3022, 42, 80]  0.821757  0.655738  0.049628   \n",
              "1     log_clf1   [14044, 3024, 42, 80]  0.821640  0.655738  0.049597   \n",
              "2     svc_clf0   [14575, 2493, 8, 114]  0.854508  0.934426  0.083547   \n",
              "3     svc_clf1  [14928, 2140, 10, 112]  0.874927  0.918033  0.094356   \n",
              "4     svc_clf2   [11329, 5739, 54, 68]  0.663002  0.557377  0.022938   \n",
              "5     svc_clf3  [15961, 1107, 13, 109]  0.934846  0.893443  0.162930   \n",
              "6     svc_clf4   [16122, 946, 13, 109]  0.944212  0.893443  0.185217   \n",
              "7     svc_clf5   [16241, 827, 13, 109]  0.951134  0.893443  0.206049   \n",
              "8     svc_clf6   [16317, 751, 14, 108]  0.955497  0.885246  0.220183   \n",
              "9   bayes_clf0   [11653, 5415, 27, 95]  0.683421  0.778689  0.033736   \n",
              "10  bayes_clf1   [13328, 3740, 34, 88]  0.780454  0.721311  0.044557   \n",
              "11  bayes_clf2  [11475, 5593, 18, 104]  0.673589  0.852459  0.035745   \n",
              "12  bayes_clf3   [5486, 11582, 0, 122]  0.326236  1.000000  0.020633   \n",
              "13  bayes_clf4   [1115, 15953, 0, 122]  0.071960  1.000000  0.015065   \n",
              "14  bayes_clf5    [986, 16082, 0, 122]  0.064456  1.000000  0.014945   \n",
              "15  bayes_clf6    [574, 16494, 0, 122]  0.040489  1.000000  0.014578   \n",
              "\n",
              "    roc_auc_score  \n",
              "0        0.739341  \n",
              "1        0.739282  \n",
              "2        0.894182  \n",
              "3        0.896326  \n",
              "4        0.610567  \n",
              "5        0.914292  \n",
              "6        0.919009  \n",
              "7        0.922495  \n",
              "8        0.920623  \n",
              "9        0.730714  \n",
              "10       0.751094  \n",
              "11       0.762385  \n",
              "12       0.660710  \n",
              "13       0.532663  \n",
              "14       0.528884  \n",
              "15       0.516815  "
            ]
          },
          "metadata": {},
          "output_type": "display_data"
        }
      ],
      "source": [
        "display(models_eval)"
      ]
    },
    {
      "cell_type": "markdown",
      "metadata": {
        "id": "xbdXqp_Rq353"
      },
      "source": [
        "Best Parameters: \n",
        "\n",
        "{'var_smoothing': '1e-3'}"
      ]
    },
    {
      "cell_type": "markdown",
      "metadata": {
        "id": "M_gEyKKnt00q"
      },
      "source": [
        "## K-Nearest Neighbor\n",
        "\n",
        "- Library: Scikit-learn\n",
        "- Shuffling does not affect the model building. No random_state."
      ]
    },
    {
      "cell_type": "code",
      "execution_count": null,
      "metadata": {
        "id": "Vw5TiOkaZTHW"
      },
      "outputs": [],
      "source": [
        "# Training\n",
        "\n",
        "name = 'neigh_clf'\n",
        "\n",
        "train = pd.DataFrame(columns = ['n_neighbors', 'algorithm', 'n_jobs'])\n",
        "train = train.append({'n_neighbors': 5, 'algorithm':'auto', 'n_jobs':-1}, ignore_index=True)\n",
        "train = train.append({'n_neighbors': 1, 'algorithm':'auto', 'n_jobs':-1}, ignore_index=True)\n",
        "train = train.append({'n_neighbors': 20, 'algorithm':'kd_tree', 'n_jobs':-1}, ignore_index=True)\n",
        "\n",
        "train = train.reset_index()\n",
        "for index, row in train.iterrows():\n",
        "    model_name = name + str(index)\n",
        "    neigh_clf = KNeighborsClassifier(n_neighbors=int(row['n_neighbors']), algorithm = row['algorithm'], n_jobs = int(row['n_jobs']))\n",
        "    neigh_clf.fit(X_train, y_train)\n",
        "    \n",
        "    y_true = y_val\n",
        "    y_pred = neigh_clf.predict(X_val)\n",
        "    evaluation_results = evaluation_metrics(y_true, y_pred)\n",
        "\n",
        "    models = models.append({'model_name': model_name, \n",
        "                            'model': neigh_clf, \n",
        "                            'parameters': neigh_clf.get_params()}, \n",
        "                            ignore_index=True)\n",
        "    \n",
        "    models_eval = models_eval.append({'model_name': model_name, \n",
        "                                      'confusion_matrix' : evaluation_results[0], \n",
        "                                      'accuracy': evaluation_results[1], \n",
        "                                      'recall' : evaluation_results[2], \n",
        "                                      'f1_score': evaluation_results[3], \n",
        "                                      'roc_auc_score': evaluation_results[4]}, \n",
        "                                      ignore_index=True)"
      ]
    },
    {
      "cell_type": "code",
      "execution_count": null,
      "metadata": {
        "colab": {
          "base_uri": "https://localhost:8080/",
          "height": 645
        },
        "id": "EvI_e6r-exRk",
        "outputId": "0b6d71d7-3f8a-410d-b090-ece549e03849"
      },
      "outputs": [
        {
          "data": {
            "text/html": [
              "\n",
              "  <div id=\"df-d9e9b796-de7f-4303-bbfa-43fa4f1788b9\">\n",
              "    <div class=\"colab-df-container\">\n",
              "      <div>\n",
              "<style scoped>\n",
              "    .dataframe tbody tr th:only-of-type {\n",
              "        vertical-align: middle;\n",
              "    }\n",
              "\n",
              "    .dataframe tbody tr th {\n",
              "        vertical-align: top;\n",
              "    }\n",
              "\n",
              "    .dataframe thead th {\n",
              "        text-align: right;\n",
              "    }\n",
              "</style>\n",
              "<table border=\"1\" class=\"dataframe\">\n",
              "  <thead>\n",
              "    <tr style=\"text-align: right;\">\n",
              "      <th></th>\n",
              "      <th>model_name</th>\n",
              "      <th>confusion_matrix</th>\n",
              "      <th>accuracy</th>\n",
              "      <th>recall</th>\n",
              "      <th>f1_score</th>\n",
              "      <th>roc_auc_score</th>\n",
              "    </tr>\n",
              "  </thead>\n",
              "  <tbody>\n",
              "    <tr>\n",
              "      <th>0</th>\n",
              "      <td>log_clf0</td>\n",
              "      <td>[14046, 3022, 42, 80]</td>\n",
              "      <td>0.821757</td>\n",
              "      <td>0.655738</td>\n",
              "      <td>0.049628</td>\n",
              "      <td>0.739341</td>\n",
              "    </tr>\n",
              "    <tr>\n",
              "      <th>1</th>\n",
              "      <td>log_clf1</td>\n",
              "      <td>[14044, 3024, 42, 80]</td>\n",
              "      <td>0.821640</td>\n",
              "      <td>0.655738</td>\n",
              "      <td>0.049597</td>\n",
              "      <td>0.739282</td>\n",
              "    </tr>\n",
              "    <tr>\n",
              "      <th>2</th>\n",
              "      <td>svc_clf0</td>\n",
              "      <td>[14575, 2493, 8, 114]</td>\n",
              "      <td>0.854508</td>\n",
              "      <td>0.934426</td>\n",
              "      <td>0.083547</td>\n",
              "      <td>0.894182</td>\n",
              "    </tr>\n",
              "    <tr>\n",
              "      <th>3</th>\n",
              "      <td>svc_clf1</td>\n",
              "      <td>[14928, 2140, 10, 112]</td>\n",
              "      <td>0.874927</td>\n",
              "      <td>0.918033</td>\n",
              "      <td>0.094356</td>\n",
              "      <td>0.896326</td>\n",
              "    </tr>\n",
              "    <tr>\n",
              "      <th>4</th>\n",
              "      <td>svc_clf2</td>\n",
              "      <td>[11329, 5739, 54, 68]</td>\n",
              "      <td>0.663002</td>\n",
              "      <td>0.557377</td>\n",
              "      <td>0.022938</td>\n",
              "      <td>0.610567</td>\n",
              "    </tr>\n",
              "    <tr>\n",
              "      <th>5</th>\n",
              "      <td>svc_clf3</td>\n",
              "      <td>[15961, 1107, 13, 109]</td>\n",
              "      <td>0.934846</td>\n",
              "      <td>0.893443</td>\n",
              "      <td>0.162930</td>\n",
              "      <td>0.914292</td>\n",
              "    </tr>\n",
              "    <tr>\n",
              "      <th>6</th>\n",
              "      <td>svc_clf4</td>\n",
              "      <td>[16122, 946, 13, 109]</td>\n",
              "      <td>0.944212</td>\n",
              "      <td>0.893443</td>\n",
              "      <td>0.185217</td>\n",
              "      <td>0.919009</td>\n",
              "    </tr>\n",
              "    <tr>\n",
              "      <th>7</th>\n",
              "      <td>svc_clf5</td>\n",
              "      <td>[16241, 827, 13, 109]</td>\n",
              "      <td>0.951134</td>\n",
              "      <td>0.893443</td>\n",
              "      <td>0.206049</td>\n",
              "      <td>0.922495</td>\n",
              "    </tr>\n",
              "    <tr>\n",
              "      <th>8</th>\n",
              "      <td>svc_clf6</td>\n",
              "      <td>[16317, 751, 14, 108]</td>\n",
              "      <td>0.955497</td>\n",
              "      <td>0.885246</td>\n",
              "      <td>0.220183</td>\n",
              "      <td>0.920623</td>\n",
              "    </tr>\n",
              "    <tr>\n",
              "      <th>9</th>\n",
              "      <td>bayes_clf0</td>\n",
              "      <td>[11653, 5415, 27, 95]</td>\n",
              "      <td>0.683421</td>\n",
              "      <td>0.778689</td>\n",
              "      <td>0.033736</td>\n",
              "      <td>0.730714</td>\n",
              "    </tr>\n",
              "    <tr>\n",
              "      <th>10</th>\n",
              "      <td>bayes_clf1</td>\n",
              "      <td>[13328, 3740, 34, 88]</td>\n",
              "      <td>0.780454</td>\n",
              "      <td>0.721311</td>\n",
              "      <td>0.044557</td>\n",
              "      <td>0.751094</td>\n",
              "    </tr>\n",
              "    <tr>\n",
              "      <th>11</th>\n",
              "      <td>bayes_clf2</td>\n",
              "      <td>[11475, 5593, 18, 104]</td>\n",
              "      <td>0.673589</td>\n",
              "      <td>0.852459</td>\n",
              "      <td>0.035745</td>\n",
              "      <td>0.762385</td>\n",
              "    </tr>\n",
              "    <tr>\n",
              "      <th>12</th>\n",
              "      <td>bayes_clf3</td>\n",
              "      <td>[5486, 11582, 0, 122]</td>\n",
              "      <td>0.326236</td>\n",
              "      <td>1.000000</td>\n",
              "      <td>0.020633</td>\n",
              "      <td>0.660710</td>\n",
              "    </tr>\n",
              "    <tr>\n",
              "      <th>13</th>\n",
              "      <td>bayes_clf4</td>\n",
              "      <td>[1115, 15953, 0, 122]</td>\n",
              "      <td>0.071960</td>\n",
              "      <td>1.000000</td>\n",
              "      <td>0.015065</td>\n",
              "      <td>0.532663</td>\n",
              "    </tr>\n",
              "    <tr>\n",
              "      <th>14</th>\n",
              "      <td>bayes_clf5</td>\n",
              "      <td>[986, 16082, 0, 122]</td>\n",
              "      <td>0.064456</td>\n",
              "      <td>1.000000</td>\n",
              "      <td>0.014945</td>\n",
              "      <td>0.528884</td>\n",
              "    </tr>\n",
              "    <tr>\n",
              "      <th>15</th>\n",
              "      <td>bayes_clf6</td>\n",
              "      <td>[574, 16494, 0, 122]</td>\n",
              "      <td>0.040489</td>\n",
              "      <td>1.000000</td>\n",
              "      <td>0.014578</td>\n",
              "      <td>0.516815</td>\n",
              "    </tr>\n",
              "    <tr>\n",
              "      <th>16</th>\n",
              "      <td>neigh_clf0</td>\n",
              "      <td>[16824, 244, 26, 96]</td>\n",
              "      <td>0.984293</td>\n",
              "      <td>0.786885</td>\n",
              "      <td>0.415584</td>\n",
              "      <td>0.886295</td>\n",
              "    </tr>\n",
              "    <tr>\n",
              "      <th>17</th>\n",
              "      <td>neigh_clf1</td>\n",
              "      <td>[16953, 115, 41, 81]</td>\n",
              "      <td>0.990925</td>\n",
              "      <td>0.663934</td>\n",
              "      <td>0.509434</td>\n",
              "      <td>0.828598</td>\n",
              "    </tr>\n",
              "    <tr>\n",
              "      <th>18</th>\n",
              "      <td>neigh_clf2</td>\n",
              "      <td>[16565, 503, 16, 106]</td>\n",
              "      <td>0.969808</td>\n",
              "      <td>0.868852</td>\n",
              "      <td>0.290014</td>\n",
              "      <td>0.919691</td>\n",
              "    </tr>\n",
              "  </tbody>\n",
              "</table>\n",
              "</div>\n",
              "      <button class=\"colab-df-convert\" onclick=\"convertToInteractive('df-d9e9b796-de7f-4303-bbfa-43fa4f1788b9')\"\n",
              "              title=\"Convert this dataframe to an interactive table.\"\n",
              "              style=\"display:none;\">\n",
              "        \n",
              "  <svg xmlns=\"http://www.w3.org/2000/svg\" height=\"24px\"viewBox=\"0 0 24 24\"\n",
              "       width=\"24px\">\n",
              "    <path d=\"M0 0h24v24H0V0z\" fill=\"none\"/>\n",
              "    <path d=\"M18.56 5.44l.94 2.06.94-2.06 2.06-.94-2.06-.94-.94-2.06-.94 2.06-2.06.94zm-11 1L8.5 8.5l.94-2.06 2.06-.94-2.06-.94L8.5 2.5l-.94 2.06-2.06.94zm10 10l.94 2.06.94-2.06 2.06-.94-2.06-.94-.94-2.06-.94 2.06-2.06.94z\"/><path d=\"M17.41 7.96l-1.37-1.37c-.4-.4-.92-.59-1.43-.59-.52 0-1.04.2-1.43.59L10.3 9.45l-7.72 7.72c-.78.78-.78 2.05 0 2.83L4 21.41c.39.39.9.59 1.41.59.51 0 1.02-.2 1.41-.59l7.78-7.78 2.81-2.81c.8-.78.8-2.07 0-2.86zM5.41 20L4 18.59l7.72-7.72 1.47 1.35L5.41 20z\"/>\n",
              "  </svg>\n",
              "      </button>\n",
              "      \n",
              "  <style>\n",
              "    .colab-df-container {\n",
              "      display:flex;\n",
              "      flex-wrap:wrap;\n",
              "      gap: 12px;\n",
              "    }\n",
              "\n",
              "    .colab-df-convert {\n",
              "      background-color: #E8F0FE;\n",
              "      border: none;\n",
              "      border-radius: 50%;\n",
              "      cursor: pointer;\n",
              "      display: none;\n",
              "      fill: #1967D2;\n",
              "      height: 32px;\n",
              "      padding: 0 0 0 0;\n",
              "      width: 32px;\n",
              "    }\n",
              "\n",
              "    .colab-df-convert:hover {\n",
              "      background-color: #E2EBFA;\n",
              "      box-shadow: 0px 1px 2px rgba(60, 64, 67, 0.3), 0px 1px 3px 1px rgba(60, 64, 67, 0.15);\n",
              "      fill: #174EA6;\n",
              "    }\n",
              "\n",
              "    [theme=dark] .colab-df-convert {\n",
              "      background-color: #3B4455;\n",
              "      fill: #D2E3FC;\n",
              "    }\n",
              "\n",
              "    [theme=dark] .colab-df-convert:hover {\n",
              "      background-color: #434B5C;\n",
              "      box-shadow: 0px 1px 3px 1px rgba(0, 0, 0, 0.15);\n",
              "      filter: drop-shadow(0px 1px 2px rgba(0, 0, 0, 0.3));\n",
              "      fill: #FFFFFF;\n",
              "    }\n",
              "  </style>\n",
              "\n",
              "      <script>\n",
              "        const buttonEl =\n",
              "          document.querySelector('#df-d9e9b796-de7f-4303-bbfa-43fa4f1788b9 button.colab-df-convert');\n",
              "        buttonEl.style.display =\n",
              "          google.colab.kernel.accessAllowed ? 'block' : 'none';\n",
              "\n",
              "        async function convertToInteractive(key) {\n",
              "          const element = document.querySelector('#df-d9e9b796-de7f-4303-bbfa-43fa4f1788b9');\n",
              "          const dataTable =\n",
              "            await google.colab.kernel.invokeFunction('convertToInteractive',\n",
              "                                                     [key], {});\n",
              "          if (!dataTable) return;\n",
              "\n",
              "          const docLinkHtml = 'Like what you see? Visit the ' +\n",
              "            '<a target=\"_blank\" href=https://colab.research.google.com/notebooks/data_table.ipynb>data table notebook</a>'\n",
              "            + ' to learn more about interactive tables.';\n",
              "          element.innerHTML = '';\n",
              "          dataTable['output_type'] = 'display_data';\n",
              "          await google.colab.output.renderOutput(dataTable, element);\n",
              "          const docLink = document.createElement('div');\n",
              "          docLink.innerHTML = docLinkHtml;\n",
              "          element.appendChild(docLink);\n",
              "        }\n",
              "      </script>\n",
              "    </div>\n",
              "  </div>\n",
              "  "
            ],
            "text/plain": [
              "    model_name        confusion_matrix  accuracy    recall  f1_score  \\\n",
              "0     log_clf0   [14046, 3022, 42, 80]  0.821757  0.655738  0.049628   \n",
              "1     log_clf1   [14044, 3024, 42, 80]  0.821640  0.655738  0.049597   \n",
              "2     svc_clf0   [14575, 2493, 8, 114]  0.854508  0.934426  0.083547   \n",
              "3     svc_clf1  [14928, 2140, 10, 112]  0.874927  0.918033  0.094356   \n",
              "4     svc_clf2   [11329, 5739, 54, 68]  0.663002  0.557377  0.022938   \n",
              "5     svc_clf3  [15961, 1107, 13, 109]  0.934846  0.893443  0.162930   \n",
              "6     svc_clf4   [16122, 946, 13, 109]  0.944212  0.893443  0.185217   \n",
              "7     svc_clf5   [16241, 827, 13, 109]  0.951134  0.893443  0.206049   \n",
              "8     svc_clf6   [16317, 751, 14, 108]  0.955497  0.885246  0.220183   \n",
              "9   bayes_clf0   [11653, 5415, 27, 95]  0.683421  0.778689  0.033736   \n",
              "10  bayes_clf1   [13328, 3740, 34, 88]  0.780454  0.721311  0.044557   \n",
              "11  bayes_clf2  [11475, 5593, 18, 104]  0.673589  0.852459  0.035745   \n",
              "12  bayes_clf3   [5486, 11582, 0, 122]  0.326236  1.000000  0.020633   \n",
              "13  bayes_clf4   [1115, 15953, 0, 122]  0.071960  1.000000  0.015065   \n",
              "14  bayes_clf5    [986, 16082, 0, 122]  0.064456  1.000000  0.014945   \n",
              "15  bayes_clf6    [574, 16494, 0, 122]  0.040489  1.000000  0.014578   \n",
              "16  neigh_clf0    [16824, 244, 26, 96]  0.984293  0.786885  0.415584   \n",
              "17  neigh_clf1    [16953, 115, 41, 81]  0.990925  0.663934  0.509434   \n",
              "18  neigh_clf2   [16565, 503, 16, 106]  0.969808  0.868852  0.290014   \n",
              "\n",
              "    roc_auc_score  \n",
              "0        0.739341  \n",
              "1        0.739282  \n",
              "2        0.894182  \n",
              "3        0.896326  \n",
              "4        0.610567  \n",
              "5        0.914292  \n",
              "6        0.919009  \n",
              "7        0.922495  \n",
              "8        0.920623  \n",
              "9        0.730714  \n",
              "10       0.751094  \n",
              "11       0.762385  \n",
              "12       0.660710  \n",
              "13       0.532663  \n",
              "14       0.528884  \n",
              "15       0.516815  \n",
              "16       0.886295  \n",
              "17       0.828598  \n",
              "18       0.919691  "
            ]
          },
          "metadata": {},
          "output_type": "display_data"
        }
      ],
      "source": [
        "display(models_eval)"
      ]
    },
    {
      "cell_type": "code",
      "execution_count": null,
      "metadata": {
        "colab": {
          "base_uri": "https://localhost:8080/"
        },
        "id": "SlJiuLzfen_x",
        "outputId": "638b9712-b86c-4b86-eb5d-d962628be147"
      },
      "outputs": [
        {
          "name": "stdout",
          "output_type": "stream",
          "text": [
            "Fitting 3 folds for each of 50 candidates, totalling 150 fits\n",
            "[CV] END ..................algorithm=kd_tree, n_neighbors=12; total time=  40.4s\n",
            "[CV] END ..................algorithm=kd_tree, n_neighbors=12; total time=  23.9s\n",
            "[CV] END ..................algorithm=kd_tree, n_neighbors=12; total time=  23.5s\n",
            "[CV] END ......................algorithm=auto, n_neighbors=4; total time=  14.1s\n",
            "[CV] END ......................algorithm=auto, n_neighbors=4; total time=  14.7s\n",
            "[CV] END ......................algorithm=auto, n_neighbors=4; total time=  14.5s\n",
            "[CV] END ..................algorithm=kd_tree, n_neighbors=19; total time=  31.5s\n",
            "[CV] END ..................algorithm=kd_tree, n_neighbors=19; total time=  30.1s\n",
            "[CV] END ..................algorithm=kd_tree, n_neighbors=19; total time=  29.7s\n",
            "[CV] END ...................algorithm=kd_tree, n_neighbors=8; total time=  20.3s\n",
            "[CV] END ...................algorithm=kd_tree, n_neighbors=8; total time=  21.6s\n",
            "[CV] END ...................algorithm=kd_tree, n_neighbors=8; total time=  20.7s\n",
            "[CV] END ...................algorithm=kd_tree, n_neighbors=2; total time=  11.0s\n",
            "[CV] END ...................algorithm=kd_tree, n_neighbors=2; total time=  11.2s\n",
            "[CV] END ...................algorithm=kd_tree, n_neighbors=2; total time=  11.1s\n",
            "[CV] END .....................algorithm=auto, n_neighbors=18; total time=  30.8s\n",
            "[CV] END .....................algorithm=auto, n_neighbors=18; total time=  29.7s\n",
            "[CV] END .....................algorithm=auto, n_neighbors=18; total time=  28.8s\n",
            "[CV] END .................algorithm=ball_tree, n_neighbors=7; total time= 5.1min\n",
            "[CV] END .................algorithm=ball_tree, n_neighbors=7; total time= 5.7min\n",
            "[CV] END .................algorithm=ball_tree, n_neighbors=7; total time= 5.9min\n",
            "[CV] END ......................algorithm=auto, n_neighbors=3; total time=  14.8s\n",
            "[CV] END ......................algorithm=auto, n_neighbors=3; total time=  14.8s\n",
            "[CV] END ......................algorithm=auto, n_neighbors=3; total time=  13.9s\n",
            "[CV] END ...................algorithm=kd_tree, n_neighbors=4; total time=  15.6s\n",
            "[CV] END ...................algorithm=kd_tree, n_neighbors=4; total time=  15.8s\n",
            "[CV] END ...................algorithm=kd_tree, n_neighbors=4; total time=  15.8s\n",
            "[CV] END ...................algorithm=kd_tree, n_neighbors=7; total time=  20.2s\n",
            "[CV] END ...................algorithm=kd_tree, n_neighbors=7; total time=  20.1s\n",
            "[CV] END ...................algorithm=kd_tree, n_neighbors=7; total time=  20.6s\n",
            "[CV] END ..................algorithm=kd_tree, n_neighbors=16; total time=  30.1s\n",
            "[CV] END ..................algorithm=kd_tree, n_neighbors=16; total time=  30.0s\n",
            "[CV] END ..................algorithm=kd_tree, n_neighbors=16; total time=  29.4s\n",
            "[CV] END ..................algorithm=kd_tree, n_neighbors=20; total time=  32.9s\n",
            "[CV] END ..................algorithm=kd_tree, n_neighbors=20; total time=  33.4s\n",
            "[CV] END ..................algorithm=kd_tree, n_neighbors=20; total time=  36.0s\n",
            "[CV] END ...................algorithm=kd_tree, n_neighbors=1; total time=   8.9s\n",
            "[CV] END ...................algorithm=kd_tree, n_neighbors=1; total time=   8.7s\n",
            "[CV] END ...................algorithm=kd_tree, n_neighbors=1; total time=   8.7s\n",
            "[CV] END ..................algorithm=kd_tree, n_neighbors=18; total time=  31.4s\n",
            "[CV] END ..................algorithm=kd_tree, n_neighbors=18; total time=  31.5s\n",
            "[CV] END ..................algorithm=kd_tree, n_neighbors=18; total time=  31.2s\n",
            "[CV] END ......................algorithm=auto, n_neighbors=8; total time=  21.3s\n",
            "[CV] END ......................algorithm=auto, n_neighbors=8; total time=  21.4s\n",
            "[CV] END ......................algorithm=auto, n_neighbors=8; total time=  21.0s\n",
            "[CV] END ......................algorithm=auto, n_neighbors=7; total time=  19.9s\n",
            "[CV] END ......................algorithm=auto, n_neighbors=7; total time=  20.4s\n",
            "[CV] END ......................algorithm=auto, n_neighbors=7; total time=  19.8s\n",
            "[CV] END .................algorithm=ball_tree, n_neighbors=6; total time= 5.6min\n",
            "[CV] END .................algorithm=ball_tree, n_neighbors=6; total time= 6.2min\n",
            "[CV] END .................algorithm=ball_tree, n_neighbors=6; total time= 5.8min\n",
            "[CV] END ................algorithm=ball_tree, n_neighbors=18; total time= 6.4min\n",
            "[CV] END ................algorithm=ball_tree, n_neighbors=18; total time= 6.4min\n",
            "[CV] END ................algorithm=ball_tree, n_neighbors=18; total time= 6.7min\n",
            "[CV] END .................algorithm=ball_tree, n_neighbors=8; total time= 5.9min\n",
            "[CV] END .................algorithm=ball_tree, n_neighbors=8; total time= 6.0min\n",
            "[CV] END .................algorithm=ball_tree, n_neighbors=8; total time= 6.3min\n",
            "[CV] END .....................algorithm=auto, n_neighbors=11; total time=  24.8s\n",
            "[CV] END .....................algorithm=auto, n_neighbors=11; total time=  25.1s\n",
            "[CV] END .....................algorithm=auto, n_neighbors=11; total time=  24.1s\n",
            "[CV] END .................algorithm=ball_tree, n_neighbors=5; total time= 5.4min\n",
            "[CV] END .................algorithm=ball_tree, n_neighbors=5; total time= 5.6min\n",
            "[CV] END .................algorithm=ball_tree, n_neighbors=5; total time= 5.7min\n",
            "[CV] END ................algorithm=ball_tree, n_neighbors=11; total time= 6.0min\n",
            "[CV] END ................algorithm=ball_tree, n_neighbors=11; total time= 6.5min\n",
            "[CV] END ................algorithm=ball_tree, n_neighbors=11; total time= 6.3min\n",
            "[CV] END .....................algorithm=auto, n_neighbors=19; total time=  33.0s\n",
            "[CV] END .....................algorithm=auto, n_neighbors=19; total time=  34.1s\n",
            "[CV] END .....................algorithm=auto, n_neighbors=19; total time=  31.7s\n",
            "[CV] END ......................algorithm=auto, n_neighbors=5; total time=  18.2s\n",
            "[CV] END ......................algorithm=auto, n_neighbors=5; total time=  18.1s\n",
            "[CV] END ......................algorithm=auto, n_neighbors=5; total time=  17.5s\n",
            "[CV] END ......................algorithm=auto, n_neighbors=2; total time=  11.8s\n",
            "[CV] END ......................algorithm=auto, n_neighbors=2; total time=  12.0s\n",
            "[CV] END ......................algorithm=auto, n_neighbors=2; total time=  12.2s\n",
            "[CV] END .....................algorithm=auto, n_neighbors=13; total time=  28.5s\n",
            "[CV] END .....................algorithm=auto, n_neighbors=13; total time=  28.2s\n",
            "[CV] END .....................algorithm=auto, n_neighbors=13; total time=  26.7s\n",
            "[CV] END ..................algorithm=kd_tree, n_neighbors=11; total time=  25.0s\n",
            "[CV] END ..................algorithm=kd_tree, n_neighbors=11; total time=  25.2s\n",
            "[CV] END ..................algorithm=kd_tree, n_neighbors=11; total time=  24.5s\n",
            "[CV] END ...................algorithm=kd_tree, n_neighbors=3; total time=  13.8s\n",
            "[CV] END ...................algorithm=kd_tree, n_neighbors=3; total time=  13.7s\n",
            "[CV] END ...................algorithm=kd_tree, n_neighbors=3; total time=  13.6s\n",
            "[CV] END ................algorithm=ball_tree, n_neighbors=15; total time= 6.2min\n",
            "[CV] END ................algorithm=ball_tree, n_neighbors=15; total time= 6.5min\n",
            "[CV] END ................algorithm=ball_tree, n_neighbors=15; total time= 6.1min\n",
            "[CV] END ..................algorithm=kd_tree, n_neighbors=13; total time=  26.8s\n",
            "[CV] END ..................algorithm=kd_tree, n_neighbors=13; total time=  26.9s\n",
            "[CV] END ..................algorithm=kd_tree, n_neighbors=13; total time=  26.6s\n",
            "[CV] END ................algorithm=ball_tree, n_neighbors=14; total time= 6.2min\n",
            "[CV] END ................algorithm=ball_tree, n_neighbors=14; total time= 6.6min\n",
            "[CV] END ................algorithm=ball_tree, n_neighbors=14; total time= 6.4min\n",
            "[CV] END .....................algorithm=auto, n_neighbors=20; total time=  33.7s\n",
            "[CV] END .....................algorithm=auto, n_neighbors=20; total time=  34.5s\n",
            "[CV] END .....................algorithm=auto, n_neighbors=20; total time=  34.4s\n",
            "[CV] END ..................algorithm=kd_tree, n_neighbors=15; total time=  30.0s\n",
            "[CV] END ..................algorithm=kd_tree, n_neighbors=15; total time=  29.6s\n",
            "[CV] END ..................algorithm=kd_tree, n_neighbors=15; total time=  29.9s\n",
            "[CV] END ......................algorithm=auto, n_neighbors=6; total time=  18.6s\n",
            "[CV] END ......................algorithm=auto, n_neighbors=6; total time=  18.8s\n",
            "[CV] END ......................algorithm=auto, n_neighbors=6; total time=  19.0s\n",
            "[CV] END .....................algorithm=auto, n_neighbors=14; total time=  28.6s\n",
            "[CV] END .....................algorithm=auto, n_neighbors=14; total time=  28.6s\n",
            "[CV] END .....................algorithm=auto, n_neighbors=14; total time=  27.9s\n",
            "[CV] END .....................algorithm=auto, n_neighbors=15; total time=  29.5s\n",
            "[CV] END .....................algorithm=auto, n_neighbors=15; total time=  29.1s\n",
            "[CV] END .....................algorithm=auto, n_neighbors=15; total time=  29.1s\n",
            "[CV] END .................algorithm=ball_tree, n_neighbors=2; total time= 5.0min\n",
            "[CV] END .................algorithm=ball_tree, n_neighbors=2; total time= 5.6min\n",
            "[CV] END .................algorithm=ball_tree, n_neighbors=2; total time= 5.6min\n",
            "[CV] END ................algorithm=ball_tree, n_neighbors=12; total time= 6.7min\n",
            "[CV] END ................algorithm=ball_tree, n_neighbors=12; total time= 6.6min\n",
            "[CV] END ................algorithm=ball_tree, n_neighbors=12; total time= 6.5min\n",
            "[CV] END ..................algorithm=kd_tree, n_neighbors=14; total time=  28.0s\n",
            "[CV] END ..................algorithm=kd_tree, n_neighbors=14; total time=  27.8s\n",
            "[CV] END ..................algorithm=kd_tree, n_neighbors=14; total time=  28.6s\n",
            "[CV] END ...................algorithm=kd_tree, n_neighbors=5; total time=  17.5s\n",
            "[CV] END ...................algorithm=kd_tree, n_neighbors=5; total time=  17.2s\n",
            "[CV] END ...................algorithm=kd_tree, n_neighbors=5; total time=  17.2s\n",
            "[CV] END .....................algorithm=auto, n_neighbors=12; total time=  27.0s\n",
            "[CV] END .....................algorithm=auto, n_neighbors=12; total time=  26.6s\n",
            "[CV] END .....................algorithm=auto, n_neighbors=12; total time=  25.9s\n",
            "[CV] END .................algorithm=ball_tree, n_neighbors=4; total time= 5.5min\n",
            "[CV] END .................algorithm=ball_tree, n_neighbors=4; total time= 5.9min\n",
            "[CV] END .................algorithm=ball_tree, n_neighbors=4; total time= 6.0min\n",
            "[CV] END .....................algorithm=auto, n_neighbors=17; total time=  33.9s\n",
            "[CV] END .....................algorithm=auto, n_neighbors=17; total time=  31.1s\n",
            "[CV] END .....................algorithm=auto, n_neighbors=17; total time=  31.2s\n",
            "[CV] END ................algorithm=ball_tree, n_neighbors=19; total time= 6.5min\n",
            "[CV] END ................algorithm=ball_tree, n_neighbors=19; total time= 6.8min\n",
            "[CV] END ................algorithm=ball_tree, n_neighbors=19; total time= 6.8min\n",
            "[CV] END .................algorithm=ball_tree, n_neighbors=1; total time= 4.7min\n",
            "[CV] END .................algorithm=ball_tree, n_neighbors=1; total time= 5.2min\n",
            "[CV] END .................algorithm=ball_tree, n_neighbors=1; total time= 5.1min\n",
            "[CV] END .................algorithm=ball_tree, n_neighbors=3; total time= 5.2min\n",
            "[CV] END .................algorithm=ball_tree, n_neighbors=3; total time= 5.7min\n",
            "[CV] END .................algorithm=ball_tree, n_neighbors=3; total time= 5.7min\n",
            "[CV] END ................algorithm=ball_tree, n_neighbors=17; total time= 7.0min\n",
            "[CV] END ................algorithm=ball_tree, n_neighbors=17; total time= 7.3min\n",
            "[CV] END ................algorithm=ball_tree, n_neighbors=17; total time= 7.4min\n",
            "[CV] END ................algorithm=ball_tree, n_neighbors=20; total time= 6.9min\n",
            "[CV] END ................algorithm=ball_tree, n_neighbors=20; total time= 7.1min\n",
            "[CV] END ................algorithm=ball_tree, n_neighbors=20; total time= 7.0min\n",
            "[CV] END ......................algorithm=auto, n_neighbors=9; total time=  24.8s\n",
            "[CV] END ......................algorithm=auto, n_neighbors=9; total time=  24.9s\n",
            "[CV] END ......................algorithm=auto, n_neighbors=9; total time=  24.1s\n",
            "[CV] END ................algorithm=ball_tree, n_neighbors=16; total time= 6.7min\n",
            "[CV] END ................algorithm=ball_tree, n_neighbors=16; total time= 7.0min\n",
            "[CV] END ................algorithm=ball_tree, n_neighbors=16; total time= 7.1min\n"
          ]
        },
        {
          "data": {
            "text/plain": [
              "{'n_neighbors': 19, 'algorithm': 'kd_tree'}"
            ]
          },
          "execution_count": 56,
          "metadata": {},
          "output_type": "execute_result"
        }
      ],
      "source": [
        "# RandomizedSearchCV\n",
        "\n",
        "random_grid = {\n",
        "                \"n_neighbors\": [int(x) for x in np.linspace(1, 20, num = 20)],\n",
        "                \"algorithm\": ['auto', 'kd_tree','ball_tree']\n",
        "              }\n",
        "\n",
        "neigh_random = RandomizedSearchCV(estimator = neigh_clf, \n",
        "                                  param_distributions = random_grid, \n",
        "                                  n_iter = 50, \n",
        "                                  cv = 3, \n",
        "                                  verbose = 2, \n",
        "                                  scoring = 'recall',\n",
        "                                  random_state = 10)\n",
        "\n",
        "neigh_random.fit(X_train, y_train)\n",
        "neigh_random.best_params_"
      ]
    },
    {
      "cell_type": "code",
      "execution_count": null,
      "metadata": {
        "colab": {
          "base_uri": "https://localhost:8080/"
        },
        "id": "2G3z6f8vP21Z",
        "outputId": "adcb9a92-df3b-42fe-9330-6dd97398aa7e"
      },
      "outputs": [
        {
          "data": {
            "text/plain": [
              "{'n_neighbors': 19, 'algorithm': 'kd_tree'}"
            ]
          },
          "execution_count": 57,
          "metadata": {},
          "output_type": "execute_result"
        }
      ],
      "source": [
        "neigh_random.best_params_"
      ]
    },
    {
      "cell_type": "code",
      "execution_count": null,
      "metadata": {
        "colab": {
          "base_uri": "https://localhost:8080/"
        },
        "id": "kTB3Zxm-PUu4",
        "outputId": "e39f2fd0-7630-4942-95e8-86a8fa34395e"
      },
      "outputs": [
        {
          "data": {
            "text/plain": [
              "0.9991203437549089"
            ]
          },
          "execution_count": 58,
          "metadata": {},
          "output_type": "execute_result"
        }
      ],
      "source": [
        "neigh_random.best_score_"
      ]
    },
    {
      "cell_type": "markdown",
      "metadata": {
        "id": "brtgIH7pt1jO"
      },
      "source": [
        "## Decision Tree\n",
        "\n",
        "- Library: Scikit-learn"
      ]
    },
    {
      "cell_type": "code",
      "execution_count": null,
      "metadata": {
        "id": "sgwicO4LbXRt"
      },
      "outputs": [],
      "source": [
        "# Training\n",
        "\n",
        "name = 'tree_clf'\n",
        "\n",
        "train = pd.DataFrame(columns = ['criterion', 'splitter', 'min_samples_leaf', 'max_features', 'max_depth', 'n_jobs', 'random_state'])\n",
        "train = train.append({'criterion' : 'gini', 'splitter': 'best', 'min_samples_leaf': 1, 'max_features': 9, 'max_depth': None, 'random_state': 10}, ignore_index=True)\n",
        "train = train.append({'criterion' : 'entropy', 'splitter': 'best', 'min_samples_leaf': 1, 'max_features': 9, 'max_depth': None, 'random_state': 10}, ignore_index=True)\n",
        "train = train.append({'criterion' : 'gini', 'splitter': 'random', 'min_samples_leaf': 1, 'max_features': \"auto\", 'max_depth': None, 'random_state': 10}, ignore_index=True)\n",
        "train = train.append({'criterion' : 'entropy', 'splitter': 'random', 'min_samples_leaf': 1, 'max_features': \"auto\", 'max_depth': None, 'random_state': 10}, ignore_index=True)\n",
        "\n",
        "train = train.reset_index()\n",
        "for index, row in train.iterrows():\n",
        "    model_name = name + str(index)\n",
        "    tree_clf = DecisionTreeClassifier(criterion = row['criterion'], splitter = row['splitter'], max_depth = None, random_state = row['random_state'])\n",
        "    tree_clf.fit(X_train, y_train)\n",
        "    \n",
        "    y_true = y_val\n",
        "    y_pred = tree_clf.predict(X_val)\n",
        "    evaluation_results = evaluation_metrics(y_true, y_pred)\n",
        "\n",
        "    models = models.append({'model_name': model_name, \n",
        "                            'model': tree_clf, \n",
        "                            'parameters': tree_clf.get_params()}, \n",
        "                            ignore_index=True)\n",
        "    \n",
        "    models_eval = models_eval.append({'model_name': model_name, \n",
        "                                      'confusion_matrix' : evaluation_results[0], \n",
        "                                      'accuracy': evaluation_results[1], \n",
        "                                      'recall' : evaluation_results[2], \n",
        "                                      'f1_score': evaluation_results[3], \n",
        "                                      'roc_auc_score': evaluation_results[4]}, \n",
        "                                      ignore_index=True)"
      ]
    },
    {
      "cell_type": "code",
      "execution_count": null,
      "metadata": {
        "colab": {
          "base_uri": "https://localhost:8080/",
          "height": 174
        },
        "id": "YC01I-OZbZQU",
        "outputId": "7a37a08d-756d-4664-bbda-9973da6dbca6"
      },
      "outputs": [
        {
          "data": {
            "text/html": [
              "\n",
              "  <div id=\"df-2803a689-0c93-4b8b-a29c-e48477f21173\">\n",
              "    <div class=\"colab-df-container\">\n",
              "      <div>\n",
              "<style scoped>\n",
              "    .dataframe tbody tr th:only-of-type {\n",
              "        vertical-align: middle;\n",
              "    }\n",
              "\n",
              "    .dataframe tbody tr th {\n",
              "        vertical-align: top;\n",
              "    }\n",
              "\n",
              "    .dataframe thead th {\n",
              "        text-align: right;\n",
              "    }\n",
              "</style>\n",
              "<table border=\"1\" class=\"dataframe\">\n",
              "  <thead>\n",
              "    <tr style=\"text-align: right;\">\n",
              "      <th></th>\n",
              "      <th>model_name</th>\n",
              "      <th>confusion_matrix</th>\n",
              "      <th>accuracy</th>\n",
              "      <th>recall</th>\n",
              "      <th>f1_score</th>\n",
              "      <th>roc_auc_score</th>\n",
              "    </tr>\n",
              "  </thead>\n",
              "  <tbody>\n",
              "    <tr>\n",
              "      <th>0</th>\n",
              "      <td>tree_clf0</td>\n",
              "      <td>[16959, 109, 20, 102]</td>\n",
              "      <td>0.992496</td>\n",
              "      <td>0.836066</td>\n",
              "      <td>0.612613</td>\n",
              "      <td>0.914840</td>\n",
              "    </tr>\n",
              "    <tr>\n",
              "      <th>1</th>\n",
              "      <td>tree_clf1</td>\n",
              "      <td>[16972, 96, 21, 101]</td>\n",
              "      <td>0.993194</td>\n",
              "      <td>0.827869</td>\n",
              "      <td>0.633229</td>\n",
              "      <td>0.911122</td>\n",
              "    </tr>\n",
              "    <tr>\n",
              "      <th>2</th>\n",
              "      <td>tree_clf2</td>\n",
              "      <td>[16992, 76, 24, 98]</td>\n",
              "      <td>0.994183</td>\n",
              "      <td>0.803279</td>\n",
              "      <td>0.662162</td>\n",
              "      <td>0.899413</td>\n",
              "    </tr>\n",
              "    <tr>\n",
              "      <th>3</th>\n",
              "      <td>tree_clf3</td>\n",
              "      <td>[16966, 102, 25, 97]</td>\n",
              "      <td>0.992612</td>\n",
              "      <td>0.795082</td>\n",
              "      <td>0.604361</td>\n",
              "      <td>0.894553</td>\n",
              "    </tr>\n",
              "  </tbody>\n",
              "</table>\n",
              "</div>\n",
              "      <button class=\"colab-df-convert\" onclick=\"convertToInteractive('df-2803a689-0c93-4b8b-a29c-e48477f21173')\"\n",
              "              title=\"Convert this dataframe to an interactive table.\"\n",
              "              style=\"display:none;\">\n",
              "        \n",
              "  <svg xmlns=\"http://www.w3.org/2000/svg\" height=\"24px\"viewBox=\"0 0 24 24\"\n",
              "       width=\"24px\">\n",
              "    <path d=\"M0 0h24v24H0V0z\" fill=\"none\"/>\n",
              "    <path d=\"M18.56 5.44l.94 2.06.94-2.06 2.06-.94-2.06-.94-.94-2.06-.94 2.06-2.06.94zm-11 1L8.5 8.5l.94-2.06 2.06-.94-2.06-.94L8.5 2.5l-.94 2.06-2.06.94zm10 10l.94 2.06.94-2.06 2.06-.94-2.06-.94-.94-2.06-.94 2.06-2.06.94z\"/><path d=\"M17.41 7.96l-1.37-1.37c-.4-.4-.92-.59-1.43-.59-.52 0-1.04.2-1.43.59L10.3 9.45l-7.72 7.72c-.78.78-.78 2.05 0 2.83L4 21.41c.39.39.9.59 1.41.59.51 0 1.02-.2 1.41-.59l7.78-7.78 2.81-2.81c.8-.78.8-2.07 0-2.86zM5.41 20L4 18.59l7.72-7.72 1.47 1.35L5.41 20z\"/>\n",
              "  </svg>\n",
              "      </button>\n",
              "      \n",
              "  <style>\n",
              "    .colab-df-container {\n",
              "      display:flex;\n",
              "      flex-wrap:wrap;\n",
              "      gap: 12px;\n",
              "    }\n",
              "\n",
              "    .colab-df-convert {\n",
              "      background-color: #E8F0FE;\n",
              "      border: none;\n",
              "      border-radius: 50%;\n",
              "      cursor: pointer;\n",
              "      display: none;\n",
              "      fill: #1967D2;\n",
              "      height: 32px;\n",
              "      padding: 0 0 0 0;\n",
              "      width: 32px;\n",
              "    }\n",
              "\n",
              "    .colab-df-convert:hover {\n",
              "      background-color: #E2EBFA;\n",
              "      box-shadow: 0px 1px 2px rgba(60, 64, 67, 0.3), 0px 1px 3px 1px rgba(60, 64, 67, 0.15);\n",
              "      fill: #174EA6;\n",
              "    }\n",
              "\n",
              "    [theme=dark] .colab-df-convert {\n",
              "      background-color: #3B4455;\n",
              "      fill: #D2E3FC;\n",
              "    }\n",
              "\n",
              "    [theme=dark] .colab-df-convert:hover {\n",
              "      background-color: #434B5C;\n",
              "      box-shadow: 0px 1px 3px 1px rgba(0, 0, 0, 0.15);\n",
              "      filter: drop-shadow(0px 1px 2px rgba(0, 0, 0, 0.3));\n",
              "      fill: #FFFFFF;\n",
              "    }\n",
              "  </style>\n",
              "\n",
              "      <script>\n",
              "        const buttonEl =\n",
              "          document.querySelector('#df-2803a689-0c93-4b8b-a29c-e48477f21173 button.colab-df-convert');\n",
              "        buttonEl.style.display =\n",
              "          google.colab.kernel.accessAllowed ? 'block' : 'none';\n",
              "\n",
              "        async function convertToInteractive(key) {\n",
              "          const element = document.querySelector('#df-2803a689-0c93-4b8b-a29c-e48477f21173');\n",
              "          const dataTable =\n",
              "            await google.colab.kernel.invokeFunction('convertToInteractive',\n",
              "                                                     [key], {});\n",
              "          if (!dataTable) return;\n",
              "\n",
              "          const docLinkHtml = 'Like what you see? Visit the ' +\n",
              "            '<a target=\"_blank\" href=https://colab.research.google.com/notebooks/data_table.ipynb>data table notebook</a>'\n",
              "            + ' to learn more about interactive tables.';\n",
              "          element.innerHTML = '';\n",
              "          dataTable['output_type'] = 'display_data';\n",
              "          await google.colab.output.renderOutput(dataTable, element);\n",
              "          const docLink = document.createElement('div');\n",
              "          docLink.innerHTML = docLinkHtml;\n",
              "          element.appendChild(docLink);\n",
              "        }\n",
              "      </script>\n",
              "    </div>\n",
              "  </div>\n",
              "  "
            ],
            "text/plain": [
              "  model_name       confusion_matrix  accuracy    recall  f1_score  \\\n",
              "0  tree_clf0  [16959, 109, 20, 102]  0.992496  0.836066  0.612613   \n",
              "1  tree_clf1   [16972, 96, 21, 101]  0.993194  0.827869  0.633229   \n",
              "2  tree_clf2    [16992, 76, 24, 98]  0.994183  0.803279  0.662162   \n",
              "3  tree_clf3   [16966, 102, 25, 97]  0.992612  0.795082  0.604361   \n",
              "\n",
              "   roc_auc_score  \n",
              "0       0.914840  \n",
              "1       0.911122  \n",
              "2       0.899413  \n",
              "3       0.894553  "
            ]
          },
          "metadata": {},
          "output_type": "display_data"
        }
      ],
      "source": [
        "display(models_eval)"
      ]
    },
    {
      "cell_type": "code",
      "execution_count": null,
      "metadata": {
        "colab": {
          "base_uri": "https://localhost:8080/"
        },
        "id": "HuK06hK8bZ_r",
        "outputId": "dad64a37-7cd8-4827-d13b-accceea2138d"
      },
      "outputs": [
        {
          "name": "stdout",
          "output_type": "stream",
          "text": [
            "Fitting 3 folds for each of 100 candidates, totalling 300 fits\n",
            "[CV] END criterion=log_loss, max_depth=5, max_features=9, min_samples_leaf=13, splitter=random; total time=   0.0s\n",
            "[CV] END criterion=log_loss, max_depth=5, max_features=9, min_samples_leaf=13, splitter=random; total time=   0.0s\n",
            "[CV] END criterion=log_loss, max_depth=5, max_features=9, min_samples_leaf=13, splitter=random; total time=   0.0s\n",
            "[CV] END criterion=entropy, max_depth=5, max_features=12, min_samples_leaf=4, splitter=random; total time=   0.2s\n",
            "[CV] END criterion=entropy, max_depth=5, max_features=12, min_samples_leaf=4, splitter=random; total time=   0.2s\n",
            "[CV] END criterion=entropy, max_depth=5, max_features=12, min_samples_leaf=4, splitter=random; total time=   0.2s\n",
            "[CV] END criterion=gini, max_depth=None, max_features=11, min_samples_leaf=6, splitter=random; total time=   0.4s\n",
            "[CV] END criterion=gini, max_depth=None, max_features=11, min_samples_leaf=6, splitter=random; total time=   0.4s\n",
            "[CV] END criterion=gini, max_depth=None, max_features=11, min_samples_leaf=6, splitter=random; total time=   0.3s\n",
            "[CV] END criterion=log_loss, max_depth=2, max_features=10, min_samples_leaf=11, splitter=best; total time=   0.0s\n",
            "[CV] END criterion=log_loss, max_depth=2, max_features=10, min_samples_leaf=11, splitter=best; total time=   0.0s\n",
            "[CV] END criterion=log_loss, max_depth=2, max_features=10, min_samples_leaf=11, splitter=best; total time=   0.0s\n",
            "[CV] END criterion=entropy, max_depth=5, max_features=4, min_samples_leaf=9, splitter=best; total time=   0.5s\n",
            "[CV] END criterion=entropy, max_depth=5, max_features=4, min_samples_leaf=9, splitter=best; total time=   0.5s\n",
            "[CV] END criterion=entropy, max_depth=5, max_features=4, min_samples_leaf=9, splitter=best; total time=   0.5s\n",
            "[CV] END criterion=log_loss, max_depth=6, max_features=7, min_samples_leaf=11, splitter=best; total time=   0.0s\n",
            "[CV] END criterion=log_loss, max_depth=6, max_features=7, min_samples_leaf=11, splitter=best; total time=   0.0s\n",
            "[CV] END criterion=log_loss, max_depth=6, max_features=7, min_samples_leaf=11, splitter=best; total time=   0.0s\n",
            "[CV] END criterion=gini, max_depth=4, max_features=9, min_samples_leaf=10, splitter=random; total time=   0.2s\n",
            "[CV] END criterion=gini, max_depth=4, max_features=9, min_samples_leaf=10, splitter=random; total time=   0.2s\n",
            "[CV] END criterion=gini, max_depth=4, max_features=9, min_samples_leaf=10, splitter=random; total time=   0.1s\n",
            "[CV] END criterion=log_loss, max_depth=5, max_features=1, min_samples_leaf=9, splitter=best; total time=   0.0s\n",
            "[CV] END criterion=log_loss, max_depth=5, max_features=1, min_samples_leaf=9, splitter=best; total time=   0.0s\n",
            "[CV] END criterion=log_loss, max_depth=5, max_features=1, min_samples_leaf=9, splitter=best; total time=   0.0s\n",
            "[CV] END criterion=log_loss, max_depth=None, max_features=1, min_samples_leaf=2, splitter=best; total time=   0.0s\n",
            "[CV] END criterion=log_loss, max_depth=None, max_features=1, min_samples_leaf=2, splitter=best; total time=   0.0s\n",
            "[CV] END criterion=log_loss, max_depth=None, max_features=1, min_samples_leaf=2, splitter=best; total time=   0.0s\n",
            "[CV] END criterion=entropy, max_depth=4, max_features=5, min_samples_leaf=8, splitter=random; total time=   0.1s\n",
            "[CV] END criterion=entropy, max_depth=4, max_features=5, min_samples_leaf=8, splitter=random; total time=   0.1s\n",
            "[CV] END criterion=entropy, max_depth=4, max_features=5, min_samples_leaf=8, splitter=random; total time=   0.1s\n",
            "[CV] END criterion=entropy, max_depth=6, max_features=13, min_samples_leaf=11, splitter=random; total time=   0.2s\n",
            "[CV] END criterion=entropy, max_depth=6, max_features=13, min_samples_leaf=11, splitter=random; total time=   0.2s\n",
            "[CV] END criterion=entropy, max_depth=6, max_features=13, min_samples_leaf=11, splitter=random; total time=   0.2s\n",
            "[CV] END criterion=gini, max_depth=6, max_features=8, min_samples_leaf=7, splitter=random; total time=   0.2s\n",
            "[CV] END criterion=gini, max_depth=6, max_features=8, min_samples_leaf=7, splitter=random; total time=   0.2s\n",
            "[CV] END criterion=gini, max_depth=6, max_features=8, min_samples_leaf=7, splitter=random; total time=   0.2s\n",
            "[CV] END criterion=gini, max_depth=None, max_features=2, min_samples_leaf=2, splitter=random; total time=   0.2s\n",
            "[CV] END criterion=gini, max_depth=None, max_features=2, min_samples_leaf=2, splitter=random; total time=   0.2s\n",
            "[CV] END criterion=gini, max_depth=None, max_features=2, min_samples_leaf=2, splitter=random; total time=   0.2s\n",
            "[CV] END criterion=entropy, max_depth=6, max_features=4, min_samples_leaf=7, splitter=random; total time=   0.1s\n",
            "[CV] END criterion=entropy, max_depth=6, max_features=4, min_samples_leaf=7, splitter=random; total time=   0.1s\n",
            "[CV] END criterion=entropy, max_depth=6, max_features=4, min_samples_leaf=7, splitter=random; total time=   0.1s\n",
            "[CV] END criterion=log_loss, max_depth=3, max_features=5, min_samples_leaf=7, splitter=random; total time=   0.0s\n",
            "[CV] END criterion=log_loss, max_depth=3, max_features=5, min_samples_leaf=7, splitter=random; total time=   0.0s\n",
            "[CV] END criterion=log_loss, max_depth=3, max_features=5, min_samples_leaf=7, splitter=random; total time=   0.0s\n",
            "[CV] END criterion=log_loss, max_depth=2, max_features=7, min_samples_leaf=3, splitter=best; total time=   0.0s\n",
            "[CV] END criterion=log_loss, max_depth=2, max_features=7, min_samples_leaf=3, splitter=best; total time=   0.0s\n",
            "[CV] END criterion=log_loss, max_depth=2, max_features=7, min_samples_leaf=3, splitter=best; total time=   0.0s\n",
            "[CV] END criterion=gini, max_depth=None, max_features=3, min_samples_leaf=4, splitter=random; total time=   0.2s\n",
            "[CV] END criterion=gini, max_depth=None, max_features=3, min_samples_leaf=4, splitter=random; total time=   0.2s\n",
            "[CV] END criterion=gini, max_depth=None, max_features=3, min_samples_leaf=4, splitter=random; total time=   0.2s\n",
            "[CV] END criterion=log_loss, max_depth=6, max_features=9, min_samples_leaf=4, splitter=best; total time=   0.0s\n",
            "[CV] END criterion=log_loss, max_depth=6, max_features=9, min_samples_leaf=4, splitter=best; total time=   0.0s\n",
            "[CV] END criterion=log_loss, max_depth=6, max_features=9, min_samples_leaf=4, splitter=best; total time=   0.0s\n",
            "[CV] END criterion=log_loss, max_depth=None, max_features=12, min_samples_leaf=12, splitter=best; total time=   0.0s\n",
            "[CV] END criterion=log_loss, max_depth=None, max_features=12, min_samples_leaf=12, splitter=best; total time=   0.0s\n",
            "[CV] END criterion=log_loss, max_depth=None, max_features=12, min_samples_leaf=12, splitter=best; total time=   0.0s\n",
            "[CV] END criterion=log_loss, max_depth=None, max_features=3, min_samples_leaf=4, splitter=best; total time=   0.0s\n",
            "[CV] END criterion=log_loss, max_depth=None, max_features=3, min_samples_leaf=4, splitter=best; total time=   0.0s\n",
            "[CV] END criterion=log_loss, max_depth=None, max_features=3, min_samples_leaf=4, splitter=best; total time=   0.0s\n",
            "[CV] END criterion=gini, max_depth=None, max_features=6, min_samples_leaf=10, splitter=random; total time=   0.2s\n",
            "[CV] END criterion=gini, max_depth=None, max_features=6, min_samples_leaf=10, splitter=random; total time=   0.3s\n",
            "[CV] END criterion=gini, max_depth=None, max_features=6, min_samples_leaf=10, splitter=random; total time=   0.3s\n",
            "[CV] END criterion=gini, max_depth=5, max_features=2, min_samples_leaf=2, splitter=best; total time=   0.3s\n",
            "[CV] END criterion=gini, max_depth=5, max_features=2, min_samples_leaf=2, splitter=best; total time=   0.3s\n",
            "[CV] END criterion=gini, max_depth=5, max_features=2, min_samples_leaf=2, splitter=best; total time=   0.3s\n",
            "[CV] END criterion=entropy, max_depth=2, max_features=14, min_samples_leaf=10, splitter=random; total time=   0.0s\n",
            "[CV] END criterion=entropy, max_depth=2, max_features=14, min_samples_leaf=10, splitter=random; total time=   0.0s\n",
            "[CV] END criterion=entropy, max_depth=2, max_features=14, min_samples_leaf=10, splitter=random; total time=   0.0s\n",
            "[CV] END criterion=entropy, max_depth=2, max_features=7, min_samples_leaf=7, splitter=random; total time=   0.1s\n",
            "[CV] END criterion=entropy, max_depth=2, max_features=7, min_samples_leaf=7, splitter=random; total time=   0.1s\n",
            "[CV] END criterion=entropy, max_depth=2, max_features=7, min_samples_leaf=7, splitter=random; total time=   0.1s\n",
            "[CV] END criterion=log_loss, max_depth=4, max_features=14, min_samples_leaf=14, splitter=best; total time=   0.0s\n",
            "[CV] END criterion=log_loss, max_depth=4, max_features=14, min_samples_leaf=14, splitter=best; total time=   0.0s\n",
            "[CV] END criterion=log_loss, max_depth=4, max_features=14, min_samples_leaf=14, splitter=best; total time=   0.0s\n",
            "[CV] END criterion=gini, max_depth=4, max_features=10, min_samples_leaf=9, splitter=best; total time=   0.7s\n",
            "[CV] END criterion=gini, max_depth=4, max_features=10, min_samples_leaf=9, splitter=best; total time=   0.7s\n",
            "[CV] END criterion=gini, max_depth=4, max_features=10, min_samples_leaf=9, splitter=best; total time=   0.6s\n",
            "[CV] END criterion=log_loss, max_depth=3, max_features=3, min_samples_leaf=7, splitter=random; total time=   0.0s\n",
            "[CV] END criterion=log_loss, max_depth=3, max_features=3, min_samples_leaf=7, splitter=random; total time=   0.0s\n",
            "[CV] END criterion=log_loss, max_depth=3, max_features=3, min_samples_leaf=7, splitter=random; total time=   0.0s\n",
            "[CV] END criterion=entropy, max_depth=5, max_features=3, min_samples_leaf=4, splitter=random; total time=   0.1s\n",
            "[CV] END criterion=entropy, max_depth=5, max_features=3, min_samples_leaf=4, splitter=random; total time=   0.1s\n",
            "[CV] END criterion=entropy, max_depth=5, max_features=3, min_samples_leaf=4, splitter=random; total time=   0.1s\n",
            "[CV] END criterion=gini, max_depth=2, max_features=12, min_samples_leaf=6, splitter=random; total time=   0.1s\n",
            "[CV] END criterion=gini, max_depth=2, max_features=12, min_samples_leaf=6, splitter=random; total time=   0.1s\n",
            "[CV] END criterion=gini, max_depth=2, max_features=12, min_samples_leaf=6, splitter=random; total time=   0.1s\n",
            "[CV] END criterion=entropy, max_depth=2, max_features=13, min_samples_leaf=14, splitter=random; total time=   0.1s\n",
            "[CV] END criterion=entropy, max_depth=2, max_features=13, min_samples_leaf=14, splitter=random; total time=   0.1s\n",
            "[CV] END criterion=entropy, max_depth=2, max_features=13, min_samples_leaf=14, splitter=random; total time=   0.1s\n",
            "[CV] END criterion=gini, max_depth=5, max_features=1, min_samples_leaf=8, splitter=random; total time=   0.1s\n",
            "[CV] END criterion=gini, max_depth=5, max_features=1, min_samples_leaf=8, splitter=random; total time=   0.1s\n",
            "[CV] END criterion=gini, max_depth=5, max_features=1, min_samples_leaf=8, splitter=random; total time=   0.1s\n",
            "[CV] END criterion=entropy, max_depth=5, max_features=10, min_samples_leaf=8, splitter=random; total time=   0.2s\n",
            "[CV] END criterion=entropy, max_depth=5, max_features=10, min_samples_leaf=8, splitter=random; total time=   0.2s\n",
            "[CV] END criterion=entropy, max_depth=5, max_features=10, min_samples_leaf=8, splitter=random; total time=   0.2s\n",
            "[CV] END criterion=log_loss, max_depth=2, max_features=9, min_samples_leaf=14, splitter=random; total time=   0.1s\n",
            "[CV] END criterion=log_loss, max_depth=2, max_features=9, min_samples_leaf=14, splitter=random; total time=   0.0s\n",
            "[CV] END criterion=log_loss, max_depth=2, max_features=9, min_samples_leaf=14, splitter=random; total time=   0.0s\n",
            "[CV] END criterion=log_loss, max_depth=None, max_features=14, min_samples_leaf=5, splitter=random; total time=   0.0s\n",
            "[CV] END criterion=log_loss, max_depth=None, max_features=14, min_samples_leaf=5, splitter=random; total time=   0.0s\n",
            "[CV] END criterion=log_loss, max_depth=None, max_features=14, min_samples_leaf=5, splitter=random; total time=   0.0s\n",
            "[CV] END criterion=entropy, max_depth=6, max_features=5, min_samples_leaf=7, splitter=best; total time=   0.7s\n",
            "[CV] END criterion=entropy, max_depth=6, max_features=5, min_samples_leaf=7, splitter=best; total time=   0.7s\n",
            "[CV] END criterion=entropy, max_depth=6, max_features=5, min_samples_leaf=7, splitter=best; total time=   0.6s\n",
            "[CV] END criterion=gini, max_depth=5, max_features=5, min_samples_leaf=6, splitter=random; total time=   0.1s\n",
            "[CV] END criterion=gini, max_depth=5, max_features=5, min_samples_leaf=6, splitter=random; total time=   0.1s\n",
            "[CV] END criterion=gini, max_depth=5, max_features=5, min_samples_leaf=6, splitter=random; total time=   0.1s\n",
            "[CV] END criterion=entropy, max_depth=4, max_features=3, min_samples_leaf=5, splitter=random; total time=   0.1s\n",
            "[CV] END criterion=entropy, max_depth=4, max_features=3, min_samples_leaf=5, splitter=random; total time=   0.1s\n",
            "[CV] END criterion=entropy, max_depth=4, max_features=3, min_samples_leaf=5, splitter=random; total time=   0.1s\n",
            "[CV] END criterion=entropy, max_depth=5, max_features=2, min_samples_leaf=14, splitter=random; total time=   0.1s\n",
            "[CV] END criterion=entropy, max_depth=5, max_features=2, min_samples_leaf=14, splitter=random; total time=   0.1s\n",
            "[CV] END criterion=entropy, max_depth=5, max_features=2, min_samples_leaf=14, splitter=random; total time=   0.1s\n",
            "[CV] END criterion=entropy, max_depth=4, max_features=12, min_samples_leaf=8, splitter=best; total time=   0.9s\n",
            "[CV] END criterion=entropy, max_depth=4, max_features=12, min_samples_leaf=8, splitter=best; total time=   0.9s\n",
            "[CV] END criterion=entropy, max_depth=4, max_features=12, min_samples_leaf=8, splitter=best; total time=   0.9s\n",
            "[CV] END criterion=entropy, max_depth=None, max_features=14, min_samples_leaf=3, splitter=best; total time=   0.0s\n",
            "[CV] END criterion=entropy, max_depth=None, max_features=14, min_samples_leaf=3, splitter=best; total time=   0.0s\n",
            "[CV] END criterion=entropy, max_depth=None, max_features=14, min_samples_leaf=3, splitter=best; total time=   0.0s\n",
            "[CV] END criterion=entropy, max_depth=2, max_features=8, min_samples_leaf=13, splitter=best; total time=   0.4s\n",
            "[CV] END criterion=entropy, max_depth=2, max_features=8, min_samples_leaf=13, splitter=best; total time=   0.4s\n",
            "[CV] END criterion=entropy, max_depth=2, max_features=8, min_samples_leaf=13, splitter=best; total time=   0.4s\n",
            "[CV] END criterion=log_loss, max_depth=2, max_features=12, min_samples_leaf=5, splitter=random; total time=   0.0s\n",
            "[CV] END criterion=log_loss, max_depth=2, max_features=12, min_samples_leaf=5, splitter=random; total time=   0.0s\n",
            "[CV] END criterion=log_loss, max_depth=2, max_features=12, min_samples_leaf=5, splitter=random; total time=   0.0s\n",
            "[CV] END criterion=entropy, max_depth=None, max_features=1, min_samples_leaf=13, splitter=best; total time=   0.3s\n",
            "[CV] END criterion=entropy, max_depth=None, max_features=1, min_samples_leaf=13, splitter=best; total time=   0.3s\n",
            "[CV] END criterion=entropy, max_depth=None, max_features=1, min_samples_leaf=13, splitter=best; total time=   0.3s\n",
            "[CV] END criterion=gini, max_depth=6, max_features=3, min_samples_leaf=14, splitter=best; total time=   0.4s\n",
            "[CV] END criterion=gini, max_depth=6, max_features=3, min_samples_leaf=14, splitter=best; total time=   0.4s\n",
            "[CV] END criterion=gini, max_depth=6, max_features=3, min_samples_leaf=14, splitter=best; total time=   0.3s\n",
            "[CV] END criterion=gini, max_depth=3, max_features=14, min_samples_leaf=3, splitter=random; total time=   0.0s\n",
            "[CV] END criterion=gini, max_depth=3, max_features=14, min_samples_leaf=3, splitter=random; total time=   0.0s\n",
            "[CV] END criterion=gini, max_depth=3, max_features=14, min_samples_leaf=3, splitter=random; total time=   0.0s\n",
            "[CV] END criterion=entropy, max_depth=5, max_features=1, min_samples_leaf=14, splitter=best; total time=   0.2s\n",
            "[CV] END criterion=entropy, max_depth=5, max_features=1, min_samples_leaf=14, splitter=best; total time=   0.2s\n",
            "[CV] END criterion=entropy, max_depth=5, max_features=1, min_samples_leaf=14, splitter=best; total time=   0.2s\n",
            "[CV] END criterion=log_loss, max_depth=2, max_features=1, min_samples_leaf=12, splitter=best; total time=   0.1s\n",
            "[CV] END criterion=log_loss, max_depth=2, max_features=1, min_samples_leaf=12, splitter=best; total time=   0.0s\n",
            "[CV] END criterion=log_loss, max_depth=2, max_features=1, min_samples_leaf=12, splitter=best; total time=   0.0s\n",
            "[CV] END criterion=entropy, max_depth=6, max_features=4, min_samples_leaf=5, splitter=best; total time=   0.5s\n",
            "[CV] END criterion=entropy, max_depth=6, max_features=4, min_samples_leaf=5, splitter=best; total time=   0.5s\n",
            "[CV] END criterion=entropy, max_depth=6, max_features=4, min_samples_leaf=5, splitter=best; total time=   0.5s\n",
            "[CV] END criterion=gini, max_depth=6, max_features=12, min_samples_leaf=10, splitter=random; total time=   0.2s\n",
            "[CV] END criterion=gini, max_depth=6, max_features=12, min_samples_leaf=10, splitter=random; total time=   0.2s\n",
            "[CV] END criterion=gini, max_depth=6, max_features=12, min_samples_leaf=10, splitter=random; total time=   0.2s\n",
            "[CV] END criterion=entropy, max_depth=4, max_features=10, min_samples_leaf=10, splitter=random; total time=   0.1s\n",
            "[CV] END criterion=entropy, max_depth=4, max_features=10, min_samples_leaf=10, splitter=random; total time=   0.2s\n",
            "[CV] END criterion=entropy, max_depth=4, max_features=10, min_samples_leaf=10, splitter=random; total time=   0.2s\n",
            "[CV] END criterion=log_loss, max_depth=6, max_features=6, min_samples_leaf=5, splitter=best; total time=   0.0s\n",
            "[CV] END criterion=log_loss, max_depth=6, max_features=6, min_samples_leaf=5, splitter=best; total time=   0.0s\n",
            "[CV] END criterion=log_loss, max_depth=6, max_features=6, min_samples_leaf=5, splitter=best; total time=   0.0s\n",
            "[CV] END criterion=gini, max_depth=4, max_features=3, min_samples_leaf=14, splitter=best; total time=   0.3s\n",
            "[CV] END criterion=gini, max_depth=4, max_features=3, min_samples_leaf=14, splitter=best; total time=   0.3s\n",
            "[CV] END criterion=gini, max_depth=4, max_features=3, min_samples_leaf=14, splitter=best; total time=   0.3s\n",
            "[CV] END criterion=entropy, max_depth=2, max_features=5, min_samples_leaf=5, splitter=random; total time=   0.1s\n",
            "[CV] END criterion=entropy, max_depth=2, max_features=5, min_samples_leaf=5, splitter=random; total time=   0.1s\n",
            "[CV] END criterion=entropy, max_depth=2, max_features=5, min_samples_leaf=5, splitter=random; total time=   0.1s\n",
            "[CV] END criterion=log_loss, max_depth=3, max_features=6, min_samples_leaf=11, splitter=best; total time=   0.1s\n",
            "[CV] END criterion=log_loss, max_depth=3, max_features=6, min_samples_leaf=11, splitter=best; total time=   0.0s\n",
            "[CV] END criterion=log_loss, max_depth=3, max_features=6, min_samples_leaf=11, splitter=best; total time=   0.0s\n",
            "[CV] END criterion=gini, max_depth=6, max_features=14, min_samples_leaf=9, splitter=random; total time=   0.0s\n",
            "[CV] END criterion=gini, max_depth=6, max_features=14, min_samples_leaf=9, splitter=random; total time=   0.0s\n",
            "[CV] END criterion=gini, max_depth=6, max_features=14, min_samples_leaf=9, splitter=random; total time=   0.0s\n",
            "[CV] END criterion=log_loss, max_depth=6, max_features=14, min_samples_leaf=3, splitter=best; total time=   0.0s\n",
            "[CV] END criterion=log_loss, max_depth=6, max_features=14, min_samples_leaf=3, splitter=best; total time=   0.0s\n",
            "[CV] END criterion=log_loss, max_depth=6, max_features=14, min_samples_leaf=3, splitter=best; total time=   0.0s\n",
            "[CV] END criterion=log_loss, max_depth=4, max_features=3, min_samples_leaf=4, splitter=random; total time=   0.0s\n",
            "[CV] END criterion=log_loss, max_depth=4, max_features=3, min_samples_leaf=4, splitter=random; total time=   0.0s\n",
            "[CV] END criterion=log_loss, max_depth=4, max_features=3, min_samples_leaf=4, splitter=random; total time=   0.0s\n",
            "[CV] END criterion=entropy, max_depth=5, max_features=14, min_samples_leaf=2, splitter=random; total time=   0.0s\n",
            "[CV] END criterion=entropy, max_depth=5, max_features=14, min_samples_leaf=2, splitter=random; total time=   0.0s\n",
            "[CV] END criterion=entropy, max_depth=5, max_features=14, min_samples_leaf=2, splitter=random; total time=   0.0s\n",
            "[CV] END criterion=gini, max_depth=4, max_features=5, min_samples_leaf=2, splitter=random; total time=   0.1s\n",
            "[CV] END criterion=gini, max_depth=4, max_features=5, min_samples_leaf=2, splitter=random; total time=   0.1s\n",
            "[CV] END criterion=gini, max_depth=4, max_features=5, min_samples_leaf=2, splitter=random; total time=   0.1s\n",
            "[CV] END criterion=gini, max_depth=None, max_features=1, min_samples_leaf=13, splitter=best; total time=   0.3s\n",
            "[CV] END criterion=gini, max_depth=None, max_features=1, min_samples_leaf=13, splitter=best; total time=   0.3s\n",
            "[CV] END criterion=gini, max_depth=None, max_features=1, min_samples_leaf=13, splitter=best; total time=   0.3s\n",
            "[CV] END criterion=gini, max_depth=5, max_features=4, min_samples_leaf=3, splitter=best; total time=   0.4s\n",
            "[CV] END criterion=gini, max_depth=5, max_features=4, min_samples_leaf=3, splitter=best; total time=   0.4s\n",
            "[CV] END criterion=gini, max_depth=5, max_features=4, min_samples_leaf=3, splitter=best; total time=   0.4s\n",
            "[CV] END criterion=gini, max_depth=6, max_features=10, min_samples_leaf=11, splitter=best; total time=   0.9s\n",
            "[CV] END criterion=gini, max_depth=6, max_features=10, min_samples_leaf=11, splitter=best; total time=   0.9s\n",
            "[CV] END criterion=gini, max_depth=6, max_features=10, min_samples_leaf=11, splitter=best; total time=   0.9s\n",
            "[CV] END criterion=gini, max_depth=5, max_features=5, min_samples_leaf=8, splitter=random; total time=   0.1s\n",
            "[CV] END criterion=gini, max_depth=5, max_features=5, min_samples_leaf=8, splitter=random; total time=   0.1s\n",
            "[CV] END criterion=gini, max_depth=5, max_features=5, min_samples_leaf=8, splitter=random; total time=   0.1s\n",
            "[CV] END criterion=gini, max_depth=2, max_features=3, min_samples_leaf=6, splitter=random; total time=   0.1s\n",
            "[CV] END criterion=gini, max_depth=2, max_features=3, min_samples_leaf=6, splitter=random; total time=   0.1s\n",
            "[CV] END criterion=gini, max_depth=2, max_features=3, min_samples_leaf=6, splitter=random; total time=   0.1s\n",
            "[CV] END criterion=gini, max_depth=None, max_features=13, min_samples_leaf=12, splitter=random; total time=   0.3s\n",
            "[CV] END criterion=gini, max_depth=None, max_features=13, min_samples_leaf=12, splitter=random; total time=   0.4s\n",
            "[CV] END criterion=gini, max_depth=None, max_features=13, min_samples_leaf=12, splitter=random; total time=   0.3s\n",
            "[CV] END criterion=gini, max_depth=4, max_features=2, min_samples_leaf=14, splitter=random; total time=   0.1s\n",
            "[CV] END criterion=gini, max_depth=4, max_features=2, min_samples_leaf=14, splitter=random; total time=   0.1s\n",
            "[CV] END criterion=gini, max_depth=4, max_features=2, min_samples_leaf=14, splitter=random; total time=   0.1s\n",
            "[CV] END criterion=entropy, max_depth=3, max_features=12, min_samples_leaf=6, splitter=best; total time=   0.7s\n",
            "[CV] END criterion=entropy, max_depth=3, max_features=12, min_samples_leaf=6, splitter=best; total time=   0.7s\n",
            "[CV] END criterion=entropy, max_depth=3, max_features=12, min_samples_leaf=6, splitter=best; total time=   0.7s\n",
            "[CV] END criterion=entropy, max_depth=6, max_features=9, min_samples_leaf=9, splitter=best; total time=   1.0s\n",
            "[CV] END criterion=entropy, max_depth=6, max_features=9, min_samples_leaf=9, splitter=best; total time=   1.1s\n",
            "[CV] END criterion=entropy, max_depth=6, max_features=9, min_samples_leaf=9, splitter=best; total time=   1.0s\n",
            "[CV] END criterion=gini, max_depth=4, max_features=7, min_samples_leaf=5, splitter=random; total time=   0.1s\n",
            "[CV] END criterion=gini, max_depth=4, max_features=7, min_samples_leaf=5, splitter=random; total time=   0.1s\n",
            "[CV] END criterion=gini, max_depth=4, max_features=7, min_samples_leaf=5, splitter=random; total time=   0.1s\n",
            "[CV] END criterion=entropy, max_depth=3, max_features=9, min_samples_leaf=10, splitter=random; total time=   0.1s\n",
            "[CV] END criterion=entropy, max_depth=3, max_features=9, min_samples_leaf=10, splitter=random; total time=   0.1s\n",
            "[CV] END criterion=entropy, max_depth=3, max_features=9, min_samples_leaf=10, splitter=random; total time=   0.1s\n",
            "[CV] END criterion=log_loss, max_depth=2, max_features=6, min_samples_leaf=2, splitter=best; total time=   0.0s\n",
            "[CV] END criterion=log_loss, max_depth=2, max_features=6, min_samples_leaf=2, splitter=best; total time=   0.0s\n",
            "[CV] END criterion=log_loss, max_depth=2, max_features=6, min_samples_leaf=2, splitter=best; total time=   0.0s\n",
            "[CV] END criterion=gini, max_depth=None, max_features=14, min_samples_leaf=9, splitter=best; total time=   0.0s\n",
            "[CV] END criterion=gini, max_depth=None, max_features=14, min_samples_leaf=9, splitter=best; total time=   0.0s\n",
            "[CV] END criterion=gini, max_depth=None, max_features=14, min_samples_leaf=9, splitter=best; total time=   0.0s\n",
            "[CV] END criterion=log_loss, max_depth=4, max_features=4, min_samples_leaf=7, splitter=best; total time=   0.0s\n",
            "[CV] END criterion=log_loss, max_depth=4, max_features=4, min_samples_leaf=7, splitter=best; total time=   0.0s\n",
            "[CV] END criterion=log_loss, max_depth=4, max_features=4, min_samples_leaf=7, splitter=best; total time=   0.0s\n",
            "[CV] END criterion=gini, max_depth=2, max_features=13, min_samples_leaf=3, splitter=best; total time=   0.4s\n",
            "[CV] END criterion=gini, max_depth=2, max_features=13, min_samples_leaf=3, splitter=best; total time=   0.4s\n",
            "[CV] END criterion=gini, max_depth=2, max_features=13, min_samples_leaf=3, splitter=best; total time=   0.5s\n",
            "[CV] END criterion=entropy, max_depth=None, max_features=11, min_samples_leaf=2, splitter=random; total time=   0.4s\n",
            "[CV] END criterion=entropy, max_depth=None, max_features=11, min_samples_leaf=2, splitter=random; total time=   0.3s\n",
            "[CV] END criterion=entropy, max_depth=None, max_features=11, min_samples_leaf=2, splitter=random; total time=   0.3s\n",
            "[CV] END criterion=gini, max_depth=None, max_features=6, min_samples_leaf=7, splitter=random; total time=   0.2s\n",
            "[CV] END criterion=gini, max_depth=None, max_features=6, min_samples_leaf=7, splitter=random; total time=   0.2s\n",
            "[CV] END criterion=gini, max_depth=None, max_features=6, min_samples_leaf=7, splitter=random; total time=   0.3s\n",
            "[CV] END criterion=entropy, max_depth=5, max_features=6, min_samples_leaf=3, splitter=best; total time=   0.6s\n",
            "[CV] END criterion=entropy, max_depth=5, max_features=6, min_samples_leaf=3, splitter=best; total time=   0.6s\n",
            "[CV] END criterion=entropy, max_depth=5, max_features=6, min_samples_leaf=3, splitter=best; total time=   0.6s\n",
            "[CV] END criterion=log_loss, max_depth=2, max_features=4, min_samples_leaf=3, splitter=random; total time=   0.0s\n",
            "[CV] END criterion=log_loss, max_depth=2, max_features=4, min_samples_leaf=3, splitter=random; total time=   0.0s\n",
            "[CV] END criterion=log_loss, max_depth=2, max_features=4, min_samples_leaf=3, splitter=random; total time=   0.0s\n",
            "[CV] END criterion=log_loss, max_depth=5, max_features=11, min_samples_leaf=1, splitter=random; total time=   0.0s\n",
            "[CV] END criterion=log_loss, max_depth=5, max_features=11, min_samples_leaf=1, splitter=random; total time=   0.0s\n",
            "[CV] END criterion=log_loss, max_depth=5, max_features=11, min_samples_leaf=1, splitter=random; total time=   0.0s\n",
            "[CV] END criterion=gini, max_depth=3, max_features=4, min_samples_leaf=14, splitter=random; total time=   0.1s\n",
            "[CV] END criterion=gini, max_depth=3, max_features=4, min_samples_leaf=14, splitter=random; total time=   0.1s\n",
            "[CV] END criterion=gini, max_depth=3, max_features=4, min_samples_leaf=14, splitter=random; total time=   0.1s\n",
            "[CV] END criterion=gini, max_depth=6, max_features=11, min_samples_leaf=7, splitter=random; total time=   0.2s\n",
            "[CV] END criterion=gini, max_depth=6, max_features=11, min_samples_leaf=7, splitter=random; total time=   0.2s\n",
            "[CV] END criterion=gini, max_depth=6, max_features=11, min_samples_leaf=7, splitter=random; total time=   0.2s\n",
            "[CV] END criterion=gini, max_depth=6, max_features=8, min_samples_leaf=2, splitter=best; total time=   0.7s\n",
            "[CV] END criterion=gini, max_depth=6, max_features=8, min_samples_leaf=2, splitter=best; total time=   0.7s\n",
            "[CV] END criterion=gini, max_depth=6, max_features=8, min_samples_leaf=2, splitter=best; total time=   0.8s\n",
            "[CV] END criterion=gini, max_depth=2, max_features=7, min_samples_leaf=2, splitter=random; total time=   0.1s\n",
            "[CV] END criterion=gini, max_depth=2, max_features=7, min_samples_leaf=2, splitter=random; total time=   0.1s\n",
            "[CV] END criterion=gini, max_depth=2, max_features=7, min_samples_leaf=2, splitter=random; total time=   0.1s\n",
            "[CV] END criterion=entropy, max_depth=5, max_features=9, min_samples_leaf=6, splitter=random; total time=   0.2s\n",
            "[CV] END criterion=entropy, max_depth=5, max_features=9, min_samples_leaf=6, splitter=random; total time=   0.2s\n",
            "[CV] END criterion=entropy, max_depth=5, max_features=9, min_samples_leaf=6, splitter=random; total time=   0.2s\n",
            "[CV] END criterion=entropy, max_depth=2, max_features=9, min_samples_leaf=5, splitter=random; total time=   0.1s\n",
            "[CV] END criterion=entropy, max_depth=2, max_features=9, min_samples_leaf=5, splitter=random; total time=   0.1s\n",
            "[CV] END criterion=entropy, max_depth=2, max_features=9, min_samples_leaf=5, splitter=random; total time=   0.1s\n",
            "[CV] END criterion=entropy, max_depth=2, max_features=14, min_samples_leaf=13, splitter=random; total time=   0.0s\n",
            "[CV] END criterion=entropy, max_depth=2, max_features=14, min_samples_leaf=13, splitter=random; total time=   0.0s\n",
            "[CV] END criterion=entropy, max_depth=2, max_features=14, min_samples_leaf=13, splitter=random; total time=   0.0s\n",
            "[CV] END criterion=entropy, max_depth=3, max_features=14, min_samples_leaf=5, splitter=random; total time=   0.0s\n",
            "[CV] END criterion=entropy, max_depth=3, max_features=14, min_samples_leaf=5, splitter=random; total time=   0.0s\n",
            "[CV] END criterion=entropy, max_depth=3, max_features=14, min_samples_leaf=5, splitter=random; total time=   0.0s\n",
            "[CV] END criterion=gini, max_depth=4, max_features=7, min_samples_leaf=1, splitter=best; total time=   0.5s\n",
            "[CV] END criterion=gini, max_depth=4, max_features=7, min_samples_leaf=1, splitter=best; total time=   0.5s\n",
            "[CV] END criterion=gini, max_depth=4, max_features=7, min_samples_leaf=1, splitter=best; total time=   0.5s\n",
            "[CV] END criterion=gini, max_depth=3, max_features=8, min_samples_leaf=12, splitter=random; total time=   0.1s\n",
            "[CV] END criterion=gini, max_depth=3, max_features=8, min_samples_leaf=12, splitter=random; total time=   0.1s\n",
            "[CV] END criterion=gini, max_depth=3, max_features=8, min_samples_leaf=12, splitter=random; total time=   0.1s\n",
            "[CV] END criterion=gini, max_depth=4, max_features=7, min_samples_leaf=3, splitter=best; total time=   0.5s\n",
            "[CV] END criterion=gini, max_depth=4, max_features=7, min_samples_leaf=3, splitter=best; total time=   0.5s\n",
            "[CV] END criterion=gini, max_depth=4, max_features=7, min_samples_leaf=3, splitter=best; total time=   0.5s\n",
            "[CV] END criterion=gini, max_depth=4, max_features=11, min_samples_leaf=7, splitter=best; total time=   0.7s\n",
            "[CV] END criterion=gini, max_depth=4, max_features=11, min_samples_leaf=7, splitter=best; total time=   0.7s\n",
            "[CV] END criterion=gini, max_depth=4, max_features=11, min_samples_leaf=7, splitter=best; total time=   0.6s\n",
            "[CV] END criterion=gini, max_depth=6, max_features=6, min_samples_leaf=8, splitter=best; total time=   0.5s\n",
            "[CV] END criterion=gini, max_depth=6, max_features=6, min_samples_leaf=8, splitter=best; total time=   0.5s\n",
            "[CV] END criterion=gini, max_depth=6, max_features=6, min_samples_leaf=8, splitter=best; total time=   0.6s\n",
            "[CV] END criterion=log_loss, max_depth=5, max_features=11, min_samples_leaf=6, splitter=best; total time=   0.0s\n",
            "[CV] END criterion=log_loss, max_depth=5, max_features=11, min_samples_leaf=6, splitter=best; total time=   0.0s\n",
            "[CV] END criterion=log_loss, max_depth=5, max_features=11, min_samples_leaf=6, splitter=best; total time=   0.0s\n",
            "[CV] END criterion=gini, max_depth=3, max_features=12, min_samples_leaf=4, splitter=best; total time=   0.5s\n",
            "[CV] END criterion=gini, max_depth=3, max_features=12, min_samples_leaf=4, splitter=best; total time=   0.6s\n",
            "[CV] END criterion=gini, max_depth=3, max_features=12, min_samples_leaf=4, splitter=best; total time=   0.6s\n",
            "[CV] END criterion=entropy, max_depth=3, max_features=11, min_samples_leaf=11, splitter=best; total time=   0.7s\n",
            "[CV] END criterion=entropy, max_depth=3, max_features=11, min_samples_leaf=11, splitter=best; total time=   0.7s\n",
            "[CV] END criterion=entropy, max_depth=3, max_features=11, min_samples_leaf=11, splitter=best; total time=   0.7s\n",
            "[CV] END criterion=gini, max_depth=4, max_features=14, min_samples_leaf=4, splitter=random; total time=   0.0s\n",
            "[CV] END criterion=gini, max_depth=4, max_features=14, min_samples_leaf=4, splitter=random; total time=   0.0s\n",
            "[CV] END criterion=gini, max_depth=4, max_features=14, min_samples_leaf=4, splitter=random; total time=   0.0s\n",
            "[CV] END criterion=log_loss, max_depth=4, max_features=5, min_samples_leaf=4, splitter=random; total time=   0.0s\n",
            "[CV] END criterion=log_loss, max_depth=4, max_features=5, min_samples_leaf=4, splitter=random; total time=   0.0s\n",
            "[CV] END criterion=log_loss, max_depth=4, max_features=5, min_samples_leaf=4, splitter=random; total time=   0.0s\n",
            "[CV] END criterion=entropy, max_depth=6, max_features=5, min_samples_leaf=1, splitter=random; total time=   0.2s\n",
            "[CV] END criterion=entropy, max_depth=6, max_features=5, min_samples_leaf=1, splitter=random; total time=   0.1s\n",
            "[CV] END criterion=entropy, max_depth=6, max_features=5, min_samples_leaf=1, splitter=random; total time=   0.1s\n",
            "[CV] END criterion=log_loss, max_depth=3, max_features=7, min_samples_leaf=7, splitter=random; total time=   0.0s\n",
            "[CV] END criterion=log_loss, max_depth=3, max_features=7, min_samples_leaf=7, splitter=random; total time=   0.0s\n",
            "[CV] END criterion=log_loss, max_depth=3, max_features=7, min_samples_leaf=7, splitter=random; total time=   0.0s\n",
            "[CV] END criterion=entropy, max_depth=2, max_features=11, min_samples_leaf=10, splitter=best; total time=   0.5s\n",
            "[CV] END criterion=entropy, max_depth=2, max_features=11, min_samples_leaf=10, splitter=best; total time=   0.5s\n",
            "[CV] END criterion=entropy, max_depth=2, max_features=11, min_samples_leaf=10, splitter=best; total time=   0.5s\n"
          ]
        },
        {
          "name": "stderr",
          "output_type": "stream",
          "text": [
            "/usr/local/lib/python3.8/dist-packages/sklearn/model_selection/_validation.py:372: FitFailedWarning: \n",
            "108 fits failed out of a total of 300.\n",
            "The score on these train-test partitions for these parameters will be set to nan.\n",
            "If these failures are not expected, you can try to debug them by setting error_score='raise'.\n",
            "\n",
            "Below are more details about the failures:\n",
            "--------------------------------------------------------------------------------\n",
            "72 fits failed with the following error:\n",
            "Traceback (most recent call last):\n",
            "  File \"/usr/local/lib/python3.8/dist-packages/sklearn/model_selection/_validation.py\", line 680, in _fit_and_score\n",
            "    estimator.fit(X_train, y_train, **fit_params)\n",
            "  File \"/usr/local/lib/python3.8/dist-packages/sklearn/tree/_classes.py\", line 937, in fit\n",
            "    super().fit(\n",
            "  File \"/usr/local/lib/python3.8/dist-packages/sklearn/tree/_classes.py\", line 352, in fit\n",
            "    criterion = CRITERIA_CLF[self.criterion](\n",
            "KeyError: 'log_loss'\n",
            "\n",
            "--------------------------------------------------------------------------------\n",
            "36 fits failed with the following error:\n",
            "Traceback (most recent call last):\n",
            "  File \"/usr/local/lib/python3.8/dist-packages/sklearn/model_selection/_validation.py\", line 680, in _fit_and_score\n",
            "    estimator.fit(X_train, y_train, **fit_params)\n",
            "  File \"/usr/local/lib/python3.8/dist-packages/sklearn/tree/_classes.py\", line 937, in fit\n",
            "    super().fit(\n",
            "  File \"/usr/local/lib/python3.8/dist-packages/sklearn/tree/_classes.py\", line 308, in fit\n",
            "    raise ValueError(\"max_features must be in (0, n_features]\")\n",
            "ValueError: max_features must be in (0, n_features]\n",
            "\n",
            "  warnings.warn(some_fits_failed_message, FitFailedWarning)\n",
            "/usr/local/lib/python3.8/dist-packages/sklearn/model_selection/_search.py:969: UserWarning: One or more of the test scores are non-finite: [       nan 0.93538942 0.98949544        nan 0.88671479        nan\n",
            " 0.79795778        nan        nan 0.59054955 0.87395959 0.94696408\n",
            " 0.97438733 0.89010139        nan        nan 0.98047893        nan\n",
            "        nan        nan 0.98238488 0.86199651        nan 0.47435438\n",
            "        nan 0.95212473        nan 0.84405905 0.76844529 0.76844529\n",
            " 0.77916973 0.92414391        nan        nan 0.94853275 0.79825096\n",
            " 0.86650489 0.75569027 0.96604528        nan 0.76844529        nan\n",
            " 0.84372827 0.89858321        nan 0.86890198        nan 0.93996353\n",
            " 0.95512317 0.82110001        nan 0.75093281 0.51833717        nan\n",
            "        nan        nan        nan        nan 0.59054955 0.96417598\n",
            " 0.91961413 0.96696172 0.79825096 0.4829457  0.98568359 0.45757493\n",
            " 0.88783656 0.95370803 0.84636079 0.51030298        nan        nan\n",
            "        nan 0.8961713  0.99225903 0.98633602 0.93658416        nan\n",
            "        nan 0.81390148 0.91044345 0.96181575 0.47435438 0.84310606\n",
            " 0.48425783        nan        nan 0.88333566 0.76844529 0.88333566\n",
            " 0.95537946 0.93761774        nan 0.88700823 0.88863558        nan\n",
            "        nan 0.80019323        nan 0.8961713 ]\n",
            "  warnings.warn(\n"
          ]
        },
        {
          "data": {
            "text/plain": [
              "{'splitter': 'random',\n",
              " 'min_samples_leaf': 2,\n",
              " 'max_features': 11,\n",
              " 'max_depth': None,\n",
              " 'criterion': 'entropy'}"
            ]
          },
          "execution_count": 17,
          "metadata": {},
          "output_type": "execute_result"
        }
      ],
      "source": [
        "# RandomizedSearchCV\n",
        "\n",
        "max_depth = list([int(x) for x in np.linspace(2, 6, num = 5)])\n",
        "max_depth.append(None)\n",
        "\n",
        "random_grid = {\n",
        "              \"max_depth\": max_depth,\n",
        "              \"max_features\": [int(x) for x in np.linspace(1, len(X_train.columns), num = len(X_train.columns))],\n",
        "              \"min_samples_leaf\": [int(x) for x in np.linspace(1, len(X_train.columns), num = len(X_train.columns))],\n",
        "              \"criterion\": [\"gini\", \"entropy\", \"log_loss\"],\n",
        "              \"splitter\": [\"random\", \"best\"]\n",
        "              }\n",
        "\n",
        "tree_random = RandomizedSearchCV(estimator = tree_clf, \n",
        "                                 param_distributions = random_grid, \n",
        "                                 n_iter = 100, \n",
        "                                 cv = 3, \n",
        "                                 verbose = 2, \n",
        "                                 scoring = 'recall',\n",
        "                                 random_state = 10)\n",
        "\n",
        "tree_random.fit(X_train, y_train)\n",
        "tree_random.best_params_"
      ]
    },
    {
      "cell_type": "code",
      "execution_count": null,
      "metadata": {
        "colab": {
          "base_uri": "https://localhost:8080/"
        },
        "id": "2vMPck5n8EAi",
        "outputId": "5fa2f282-5b5d-48b4-c834-b626d64b6273"
      },
      "outputs": [
        {
          "data": {
            "text/plain": [
              "{'splitter': 'random',\n",
              " 'min_samples_leaf': 2,\n",
              " 'max_features': 11,\n",
              " 'max_depth': None,\n",
              " 'criterion': 'entropy'}"
            ]
          },
          "execution_count": 19,
          "metadata": {},
          "output_type": "execute_result"
        }
      ],
      "source": [
        "tree_random.best_params_"
      ]
    },
    {
      "cell_type": "code",
      "execution_count": null,
      "metadata": {
        "colab": {
          "base_uri": "https://localhost:8080/"
        },
        "id": "7XhQr9Cc8EuF",
        "outputId": "d66c94b8-1ed2-460a-c705-2885e4dfcf18"
      },
      "outputs": [
        {
          "data": {
            "text/plain": [
              "0.9922590331679784"
            ]
          },
          "execution_count": 20,
          "metadata": {},
          "output_type": "execute_result"
        }
      ],
      "source": [
        "tree_random.best_score_"
      ]
    },
    {
      "cell_type": "markdown",
      "metadata": {
        "id": "e5dbRikwt1ov"
      },
      "source": [
        "## Random Forest Classifier\n",
        "\n",
        "- Library: Scikit-learn"
      ]
    },
    {
      "cell_type": "code",
      "execution_count": null,
      "metadata": {
        "id": "GuRwiYIX8Giw"
      },
      "outputs": [],
      "source": [
        "# Training\n",
        "\n",
        "name = 'rnd_clf'\n",
        "\n",
        "train = pd.DataFrame(columns = ['n_estimators', 'min_samples_split', 'min_samples_leaf', 'max_features','max_depth', 'n_jobs', 'random_state'])\n",
        "train = train.append({'n_estimators' : 100, 'min_samples_split': 5, 'min_samples_leaf': 1, 'max_features': 'auto', 'max_depth' : None, 'n_jobs': -1, 'random_state': 10}, ignore_index=True)\n",
        "train = train.append({'n_estimators' : 300, 'min_samples_split': 2, 'min_samples_leaf': 1, 'max_features': 'auto', 'max_depth' : 31, 'n_jobs': -1, 'random_state': 10}, ignore_index=True)\n",
        "train = train.append({'n_estimators' : 300, 'min_samples_split': 2, 'min_samples_leaf': 1, 'max_features': 'auto', 'max_depth' : None, 'n_jobs': -1, 'random_state': 10}, ignore_index=True)\n",
        "\n",
        "train = train.reset_index()\n",
        "for index, row in train.iterrows():\n",
        "    model_name = name + str(index)\n",
        "    rnd_clf = RandomForestClassifier(n_estimators = int(row['n_estimators']), max_depth = None, \n",
        "                                    n_jobs = int(row['n_jobs']), random_state = int(row['random_state']))\n",
        "    rnd_clf.fit(X_train, y_train)\n",
        "    \n",
        "    y_true = y_val\n",
        "    y_pred = rnd_clf.predict(X_val)\n",
        "    evaluation_results = evaluation_metrics(y_true, y_pred)\n",
        "\n",
        "    models = models.append({'model_name': model_name, \n",
        "                            'model': rnd_clf, \n",
        "                            'parameters': rnd_clf.get_params()}, \n",
        "                            ignore_index=True)\n",
        "    \n",
        "    models_eval = models_eval.append({'model_name': model_name, \n",
        "                                      'confusion_matrix' : evaluation_results[0], \n",
        "                                      'accuracy': evaluation_results[1], \n",
        "                                      'recall' : evaluation_results[2], \n",
        "                                      'f1_score': evaluation_results[3], \n",
        "                                      'roc_auc_score': evaluation_results[4]}, \n",
        "                                      ignore_index=True)"
      ]
    },
    {
      "cell_type": "code",
      "execution_count": null,
      "metadata": {
        "colab": {
          "base_uri": "https://localhost:8080/",
          "height": 269
        },
        "id": "8-QVWDIU8Hhy",
        "outputId": "659f7114-35f4-47ab-cae4-7bcc00eaa464"
      },
      "outputs": [
        {
          "data": {
            "text/html": [
              "\n",
              "  <div id=\"df-f7269e23-ad04-4c3e-a528-fcb96bf1a6ba\">\n",
              "    <div class=\"colab-df-container\">\n",
              "      <div>\n",
              "<style scoped>\n",
              "    .dataframe tbody tr th:only-of-type {\n",
              "        vertical-align: middle;\n",
              "    }\n",
              "\n",
              "    .dataframe tbody tr th {\n",
              "        vertical-align: top;\n",
              "    }\n",
              "\n",
              "    .dataframe thead th {\n",
              "        text-align: right;\n",
              "    }\n",
              "</style>\n",
              "<table border=\"1\" class=\"dataframe\">\n",
              "  <thead>\n",
              "    <tr style=\"text-align: right;\">\n",
              "      <th></th>\n",
              "      <th>model_name</th>\n",
              "      <th>confusion_matrix</th>\n",
              "      <th>accuracy</th>\n",
              "      <th>recall</th>\n",
              "      <th>f1_score</th>\n",
              "      <th>roc_auc_score</th>\n",
              "    </tr>\n",
              "  </thead>\n",
              "  <tbody>\n",
              "    <tr>\n",
              "      <th>0</th>\n",
              "      <td>tree_clf0</td>\n",
              "      <td>[16959, 109, 20, 102]</td>\n",
              "      <td>0.992496</td>\n",
              "      <td>0.836066</td>\n",
              "      <td>0.612613</td>\n",
              "      <td>0.914840</td>\n",
              "    </tr>\n",
              "    <tr>\n",
              "      <th>1</th>\n",
              "      <td>tree_clf1</td>\n",
              "      <td>[16972, 96, 21, 101]</td>\n",
              "      <td>0.993194</td>\n",
              "      <td>0.827869</td>\n",
              "      <td>0.633229</td>\n",
              "      <td>0.911122</td>\n",
              "    </tr>\n",
              "    <tr>\n",
              "      <th>2</th>\n",
              "      <td>tree_clf2</td>\n",
              "      <td>[16992, 76, 24, 98]</td>\n",
              "      <td>0.994183</td>\n",
              "      <td>0.803279</td>\n",
              "      <td>0.662162</td>\n",
              "      <td>0.899413</td>\n",
              "    </tr>\n",
              "    <tr>\n",
              "      <th>3</th>\n",
              "      <td>tree_clf3</td>\n",
              "      <td>[16966, 102, 25, 97]</td>\n",
              "      <td>0.992612</td>\n",
              "      <td>0.795082</td>\n",
              "      <td>0.604361</td>\n",
              "      <td>0.894553</td>\n",
              "    </tr>\n",
              "    <tr>\n",
              "      <th>4</th>\n",
              "      <td>rnd_clf0</td>\n",
              "      <td>[17025, 43, 21, 101]</td>\n",
              "      <td>0.996277</td>\n",
              "      <td>0.827869</td>\n",
              "      <td>0.759398</td>\n",
              "      <td>0.912675</td>\n",
              "    </tr>\n",
              "    <tr>\n",
              "      <th>5</th>\n",
              "      <td>rnd_clf1</td>\n",
              "      <td>[17026, 42, 21, 101]</td>\n",
              "      <td>0.996335</td>\n",
              "      <td>0.827869</td>\n",
              "      <td>0.762264</td>\n",
              "      <td>0.912704</td>\n",
              "    </tr>\n",
              "    <tr>\n",
              "      <th>6</th>\n",
              "      <td>rnd_clf2</td>\n",
              "      <td>[17026, 42, 21, 101]</td>\n",
              "      <td>0.996335</td>\n",
              "      <td>0.827869</td>\n",
              "      <td>0.762264</td>\n",
              "      <td>0.912704</td>\n",
              "    </tr>\n",
              "  </tbody>\n",
              "</table>\n",
              "</div>\n",
              "      <button class=\"colab-df-convert\" onclick=\"convertToInteractive('df-f7269e23-ad04-4c3e-a528-fcb96bf1a6ba')\"\n",
              "              title=\"Convert this dataframe to an interactive table.\"\n",
              "              style=\"display:none;\">\n",
              "        \n",
              "  <svg xmlns=\"http://www.w3.org/2000/svg\" height=\"24px\"viewBox=\"0 0 24 24\"\n",
              "       width=\"24px\">\n",
              "    <path d=\"M0 0h24v24H0V0z\" fill=\"none\"/>\n",
              "    <path d=\"M18.56 5.44l.94 2.06.94-2.06 2.06-.94-2.06-.94-.94-2.06-.94 2.06-2.06.94zm-11 1L8.5 8.5l.94-2.06 2.06-.94-2.06-.94L8.5 2.5l-.94 2.06-2.06.94zm10 10l.94 2.06.94-2.06 2.06-.94-2.06-.94-.94-2.06-.94 2.06-2.06.94z\"/><path d=\"M17.41 7.96l-1.37-1.37c-.4-.4-.92-.59-1.43-.59-.52 0-1.04.2-1.43.59L10.3 9.45l-7.72 7.72c-.78.78-.78 2.05 0 2.83L4 21.41c.39.39.9.59 1.41.59.51 0 1.02-.2 1.41-.59l7.78-7.78 2.81-2.81c.8-.78.8-2.07 0-2.86zM5.41 20L4 18.59l7.72-7.72 1.47 1.35L5.41 20z\"/>\n",
              "  </svg>\n",
              "      </button>\n",
              "      \n",
              "  <style>\n",
              "    .colab-df-container {\n",
              "      display:flex;\n",
              "      flex-wrap:wrap;\n",
              "      gap: 12px;\n",
              "    }\n",
              "\n",
              "    .colab-df-convert {\n",
              "      background-color: #E8F0FE;\n",
              "      border: none;\n",
              "      border-radius: 50%;\n",
              "      cursor: pointer;\n",
              "      display: none;\n",
              "      fill: #1967D2;\n",
              "      height: 32px;\n",
              "      padding: 0 0 0 0;\n",
              "      width: 32px;\n",
              "    }\n",
              "\n",
              "    .colab-df-convert:hover {\n",
              "      background-color: #E2EBFA;\n",
              "      box-shadow: 0px 1px 2px rgba(60, 64, 67, 0.3), 0px 1px 3px 1px rgba(60, 64, 67, 0.15);\n",
              "      fill: #174EA6;\n",
              "    }\n",
              "\n",
              "    [theme=dark] .colab-df-convert {\n",
              "      background-color: #3B4455;\n",
              "      fill: #D2E3FC;\n",
              "    }\n",
              "\n",
              "    [theme=dark] .colab-df-convert:hover {\n",
              "      background-color: #434B5C;\n",
              "      box-shadow: 0px 1px 3px 1px rgba(0, 0, 0, 0.15);\n",
              "      filter: drop-shadow(0px 1px 2px rgba(0, 0, 0, 0.3));\n",
              "      fill: #FFFFFF;\n",
              "    }\n",
              "  </style>\n",
              "\n",
              "      <script>\n",
              "        const buttonEl =\n",
              "          document.querySelector('#df-f7269e23-ad04-4c3e-a528-fcb96bf1a6ba button.colab-df-convert');\n",
              "        buttonEl.style.display =\n",
              "          google.colab.kernel.accessAllowed ? 'block' : 'none';\n",
              "\n",
              "        async function convertToInteractive(key) {\n",
              "          const element = document.querySelector('#df-f7269e23-ad04-4c3e-a528-fcb96bf1a6ba');\n",
              "          const dataTable =\n",
              "            await google.colab.kernel.invokeFunction('convertToInteractive',\n",
              "                                                     [key], {});\n",
              "          if (!dataTable) return;\n",
              "\n",
              "          const docLinkHtml = 'Like what you see? Visit the ' +\n",
              "            '<a target=\"_blank\" href=https://colab.research.google.com/notebooks/data_table.ipynb>data table notebook</a>'\n",
              "            + ' to learn more about interactive tables.';\n",
              "          element.innerHTML = '';\n",
              "          dataTable['output_type'] = 'display_data';\n",
              "          await google.colab.output.renderOutput(dataTable, element);\n",
              "          const docLink = document.createElement('div');\n",
              "          docLink.innerHTML = docLinkHtml;\n",
              "          element.appendChild(docLink);\n",
              "        }\n",
              "      </script>\n",
              "    </div>\n",
              "  </div>\n",
              "  "
            ],
            "text/plain": [
              "  model_name       confusion_matrix  accuracy    recall  f1_score  \\\n",
              "0  tree_clf0  [16959, 109, 20, 102]  0.992496  0.836066  0.612613   \n",
              "1  tree_clf1   [16972, 96, 21, 101]  0.993194  0.827869  0.633229   \n",
              "2  tree_clf2    [16992, 76, 24, 98]  0.994183  0.803279  0.662162   \n",
              "3  tree_clf3   [16966, 102, 25, 97]  0.992612  0.795082  0.604361   \n",
              "4   rnd_clf0   [17025, 43, 21, 101]  0.996277  0.827869  0.759398   \n",
              "5   rnd_clf1   [17026, 42, 21, 101]  0.996335  0.827869  0.762264   \n",
              "6   rnd_clf2   [17026, 42, 21, 101]  0.996335  0.827869  0.762264   \n",
              "\n",
              "   roc_auc_score  \n",
              "0       0.914840  \n",
              "1       0.911122  \n",
              "2       0.899413  \n",
              "3       0.894553  \n",
              "4       0.912675  \n",
              "5       0.912704  \n",
              "6       0.912704  "
            ]
          },
          "metadata": {},
          "output_type": "display_data"
        }
      ],
      "source": [
        "display(models_eval)"
      ]
    },
    {
      "cell_type": "code",
      "execution_count": null,
      "metadata": {
        "colab": {
          "background_save": true,
          "base_uri": "https://localhost:8080/"
        },
        "id": "IhoNEKJN8JSz",
        "outputId": "761a45e0-a49b-4741-bed4-eeb0c420eccc"
      },
      "outputs": [
        {
          "name": "stdout",
          "output_type": "stream",
          "text": [
            "Fitting 3 folds for each of 50 candidates, totalling 150 fits\n",
            "[CV] END max_depth=28, max_features=3, min_samples_leaf=4, min_samples_split=5, n_estimators=436; total time= 2.1min\n",
            "[CV] END max_depth=28, max_features=3, min_samples_leaf=4, min_samples_split=5, n_estimators=436; total time= 2.2min\n",
            "[CV] END max_depth=28, max_features=3, min_samples_leaf=4, min_samples_split=5, n_estimators=436; total time= 2.1min\n",
            "[CV] END max_depth=35, max_features=14, min_samples_leaf=1, min_samples_split=6, n_estimators=500; total time=   0.3s\n",
            "[CV] END max_depth=35, max_features=14, min_samples_leaf=1, min_samples_split=6, n_estimators=500; total time=   1.3s\n",
            "[CV] END max_depth=35, max_features=14, min_samples_leaf=1, min_samples_split=6, n_estimators=500; total time=   1.3s\n",
            "[CV] END max_depth=35, max_features=10, min_samples_leaf=2, min_samples_split=2, n_estimators=478; total time= 7.7min\n",
            "[CV] END max_depth=35, max_features=10, min_samples_leaf=2, min_samples_split=2, n_estimators=478; total time= 7.1min\n",
            "[CV] END max_depth=35, max_features=10, min_samples_leaf=2, min_samples_split=2, n_estimators=478; total time= 6.8min\n",
            "[CV] END max_depth=21, max_features=4, min_samples_leaf=1, min_samples_split=5, n_estimators=426; total time= 2.5min\n",
            "[CV] END max_depth=21, max_features=4, min_samples_leaf=1, min_samples_split=5, n_estimators=426; total time= 2.4min\n",
            "[CV] END max_depth=21, max_features=4, min_samples_leaf=1, min_samples_split=5, n_estimators=426; total time= 2.4min\n",
            "[CV] END max_depth=21, max_features=7, min_samples_leaf=1, min_samples_split=2, n_estimators=310; total time= 2.9min\n",
            "[CV] END max_depth=21, max_features=7, min_samples_leaf=1, min_samples_split=2, n_estimators=310; total time= 2.9min\n",
            "[CV] END max_depth=21, max_features=7, min_samples_leaf=1, min_samples_split=2, n_estimators=310; total time= 2.9min\n",
            "[CV] END max_depth=28, max_features=4, min_samples_leaf=4, min_samples_split=2, n_estimators=342; total time= 2.0min\n",
            "[CV] END max_depth=28, max_features=4, min_samples_leaf=4, min_samples_split=2, n_estimators=342; total time= 1.9min\n",
            "[CV] END max_depth=28, max_features=4, min_samples_leaf=4, min_samples_split=2, n_estimators=342; total time= 2.0min\n",
            "[CV] END max_depth=25, max_features=13, min_samples_leaf=1, min_samples_split=4, n_estimators=310; total time= 5.5min\n",
            "[CV] END max_depth=25, max_features=13, min_samples_leaf=1, min_samples_split=4, n_estimators=310; total time= 5.5min\n",
            "[CV] END max_depth=25, max_features=13, min_samples_leaf=1, min_samples_split=4, n_estimators=310; total time= 5.7min\n",
            "[CV] END max_depth=21, max_features=3, min_samples_leaf=4, min_samples_split=3, n_estimators=342; total time= 1.6min\n",
            "[CV] END max_depth=21, max_features=3, min_samples_leaf=4, min_samples_split=3, n_estimators=342; total time= 1.5min\n",
            "[CV] END max_depth=21, max_features=3, min_samples_leaf=4, min_samples_split=3, n_estimators=342; total time= 1.5min\n",
            "[CV] END max_depth=21, max_features=3, min_samples_leaf=4, min_samples_split=6, n_estimators=394; total time= 1.7min\n",
            "[CV] END max_depth=21, max_features=3, min_samples_leaf=4, min_samples_split=6, n_estimators=394; total time= 1.7min\n",
            "[CV] END max_depth=21, max_features=3, min_samples_leaf=4, min_samples_split=6, n_estimators=394; total time= 1.7min\n",
            "[CV] END max_depth=None, max_features=7, min_samples_leaf=1, min_samples_split=2, n_estimators=405; total time= 4.1min\n",
            "[CV] END max_depth=None, max_features=7, min_samples_leaf=1, min_samples_split=2, n_estimators=405; total time= 4.0min\n",
            "[CV] END max_depth=None, max_features=7, min_samples_leaf=1, min_samples_split=2, n_estimators=405; total time= 4.2min\n",
            "[CV] END max_depth=35, max_features=12, min_samples_leaf=4, min_samples_split=2, n_estimators=426; total time= 7.5min\n",
            "[CV] END max_depth=35, max_features=12, min_samples_leaf=4, min_samples_split=2, n_estimators=426; total time= 7.2min\n",
            "[CV] END max_depth=35, max_features=12, min_samples_leaf=4, min_samples_split=2, n_estimators=426; total time= 7.4min\n",
            "[CV] END max_depth=21, max_features=8, min_samples_leaf=4, min_samples_split=4, n_estimators=321; total time= 3.5min\n",
            "[CV] END max_depth=21, max_features=8, min_samples_leaf=4, min_samples_split=4, n_estimators=321; total time= 3.4min\n",
            "[CV] END max_depth=21, max_features=8, min_samples_leaf=4, min_samples_split=4, n_estimators=321; total time= 3.4min\n",
            "[CV] END max_depth=15, max_features=8, min_samples_leaf=1, min_samples_split=2, n_estimators=321; total time= 3.2min\n",
            "[CV] END max_depth=15, max_features=8, min_samples_leaf=1, min_samples_split=2, n_estimators=321; total time= 3.2min\n",
            "[CV] END max_depth=15, max_features=8, min_samples_leaf=1, min_samples_split=2, n_estimators=321; total time= 3.2min\n",
            "[CV] END max_depth=18, max_features=11, min_samples_leaf=1, min_samples_split=6, n_estimators=405; total time= 5.8min\n",
            "[CV] END max_depth=18, max_features=11, min_samples_leaf=1, min_samples_split=6, n_estimators=405; total time= 5.8min\n",
            "[CV] END max_depth=18, max_features=11, min_samples_leaf=1, min_samples_split=6, n_estimators=405; total time= 5.8min\n",
            "[CV] END max_depth=None, max_features=14, min_samples_leaf=1, min_samples_split=4, n_estimators=321; total time=   0.2s\n",
            "[CV] END max_depth=None, max_features=14, min_samples_leaf=1, min_samples_split=4, n_estimators=321; total time=   1.5s\n",
            "[CV] END max_depth=None, max_features=14, min_samples_leaf=1, min_samples_split=4, n_estimators=321; total time=   1.2s\n",
            "[CV] END max_depth=None, max_features=10, min_samples_leaf=2, min_samples_split=6, n_estimators=394; total time= 6.0min\n",
            "[CV] END max_depth=None, max_features=10, min_samples_leaf=2, min_samples_split=6, n_estimators=394; total time= 5.8min\n",
            "[CV] END max_depth=None, max_features=10, min_samples_leaf=2, min_samples_split=6, n_estimators=394; total time= 5.9min\n",
            "[CV] END max_depth=31, max_features=12, min_samples_leaf=2, min_samples_split=3, n_estimators=300; total time= 5.2min\n",
            "[CV] END max_depth=31, max_features=12, min_samples_leaf=2, min_samples_split=3, n_estimators=300; total time= 5.1min\n",
            "[CV] END max_depth=31, max_features=12, min_samples_leaf=2, min_samples_split=3, n_estimators=300; total time= 5.3min\n",
            "[CV] END max_depth=35, max_features=2, min_samples_leaf=1, min_samples_split=4, n_estimators=405; total time= 1.5min\n",
            "[CV] END max_depth=35, max_features=2, min_samples_leaf=1, min_samples_split=4, n_estimators=405; total time= 1.5min\n",
            "[CV] END max_depth=35, max_features=2, min_samples_leaf=1, min_samples_split=4, n_estimators=405; total time= 1.5min\n",
            "[CV] END max_depth=25, max_features=5, min_samples_leaf=4, min_samples_split=2, n_estimators=310; total time= 2.2min\n",
            "[CV] END max_depth=25, max_features=5, min_samples_leaf=4, min_samples_split=2, n_estimators=310; total time= 2.2min\n",
            "[CV] END max_depth=25, max_features=5, min_samples_leaf=4, min_samples_split=2, n_estimators=310; total time= 2.2min\n",
            "[CV] END max_depth=25, max_features=12, min_samples_leaf=2, min_samples_split=4, n_estimators=415; total time= 7.0min\n",
            "[CV] END max_depth=25, max_features=12, min_samples_leaf=2, min_samples_split=4, n_estimators=415; total time= 7.0min\n",
            "[CV] END max_depth=25, max_features=12, min_samples_leaf=2, min_samples_split=4, n_estimators=415; total time= 7.1min\n",
            "[CV] END max_depth=21, max_features=10, min_samples_leaf=4, min_samples_split=2, n_estimators=489; total time= 6.6min\n",
            "[CV] END max_depth=21, max_features=10, min_samples_leaf=4, min_samples_split=2, n_estimators=489; total time= 6.6min\n",
            "[CV] END max_depth=21, max_features=10, min_samples_leaf=4, min_samples_split=2, n_estimators=489; total time= 6.6min\n",
            "[CV] END max_depth=35, max_features=12, min_samples_leaf=4, min_samples_split=4, n_estimators=394; total time= 6.7min\n",
            "[CV] END max_depth=35, max_features=12, min_samples_leaf=4, min_samples_split=4, n_estimators=394; total time= 6.7min\n",
            "[CV] END max_depth=35, max_features=12, min_samples_leaf=4, min_samples_split=4, n_estimators=394; total time= 6.9min\n",
            "[CV] END max_depth=25, max_features=11, min_samples_leaf=4, min_samples_split=2, n_estimators=436; total time= 6.7min\n",
            "[CV] END max_depth=25, max_features=11, min_samples_leaf=4, min_samples_split=2, n_estimators=436; total time= 6.6min\n",
            "[CV] END max_depth=25, max_features=11, min_samples_leaf=4, min_samples_split=2, n_estimators=436; total time= 6.8min\n",
            "[CV] END max_depth=21, max_features=14, min_samples_leaf=1, min_samples_split=2, n_estimators=310; total time=   0.2s\n",
            "[CV] END max_depth=21, max_features=14, min_samples_leaf=1, min_samples_split=2, n_estimators=310; total time=   1.4s\n",
            "[CV] END max_depth=21, max_features=14, min_samples_leaf=1, min_samples_split=2, n_estimators=310; total time=   1.2s\n",
            "[CV] END max_depth=18, max_features=9, min_samples_leaf=4, min_samples_split=6, n_estimators=500; total time= 5.9min\n",
            "[CV] END max_depth=18, max_features=9, min_samples_leaf=4, min_samples_split=6, n_estimators=500; total time= 5.9min\n",
            "[CV] END max_depth=18, max_features=9, min_samples_leaf=4, min_samples_split=6, n_estimators=500; total time= 6.0min\n",
            "[CV] END max_depth=25, max_features=14, min_samples_leaf=4, min_samples_split=6, n_estimators=436; total time=   0.3s\n",
            "[CV] END max_depth=25, max_features=14, min_samples_leaf=4, min_samples_split=6, n_estimators=436; total time=   1.2s\n",
            "[CV] END max_depth=25, max_features=14, min_samples_leaf=4, min_samples_split=6, n_estimators=436; total time=   1.2s\n",
            "[CV] END max_depth=28, max_features=1, min_samples_leaf=4, min_samples_split=3, n_estimators=478; total time= 1.2min\n",
            "[CV] END max_depth=28, max_features=1, min_samples_leaf=4, min_samples_split=3, n_estimators=478; total time= 1.2min\n",
            "[CV] END max_depth=28, max_features=1, min_samples_leaf=4, min_samples_split=3, n_estimators=478; total time= 1.2min\n",
            "[CV] END max_depth=15, max_features=5, min_samples_leaf=2, min_samples_split=5, n_estimators=363; total time= 2.3min\n",
            "[CV] END max_depth=15, max_features=5, min_samples_leaf=2, min_samples_split=5, n_estimators=363; total time= 2.3min\n",
            "[CV] END max_depth=15, max_features=5, min_samples_leaf=2, min_samples_split=5, n_estimators=363; total time= 2.3min\n",
            "[CV] END max_depth=18, max_features=14, min_samples_leaf=2, min_samples_split=6, n_estimators=310; total time=   0.2s\n",
            "[CV] END max_depth=18, max_features=14, min_samples_leaf=2, min_samples_split=6, n_estimators=310; total time=   1.2s\n",
            "[CV] END max_depth=18, max_features=14, min_samples_leaf=2, min_samples_split=6, n_estimators=310; total time=   1.2s\n",
            "[CV] END max_depth=None, max_features=8, min_samples_leaf=1, min_samples_split=4, n_estimators=352; total time= 4.2min\n",
            "[CV] END max_depth=None, max_features=8, min_samples_leaf=1, min_samples_split=4, n_estimators=352; total time= 4.0min\n",
            "[CV] END max_depth=None, max_features=8, min_samples_leaf=1, min_samples_split=4, n_estimators=352; total time= 4.1min\n",
            "[CV] END max_depth=15, max_features=7, min_samples_leaf=1, min_samples_split=3, n_estimators=384; total time= 3.3min\n",
            "[CV] END max_depth=15, max_features=7, min_samples_leaf=1, min_samples_split=3, n_estimators=384; total time= 3.3min\n",
            "[CV] END max_depth=15, max_features=7, min_samples_leaf=1, min_samples_split=3, n_estimators=384; total time= 3.2min\n",
            "[CV] END max_depth=35, max_features=10, min_samples_leaf=4, min_samples_split=5, n_estimators=489; total time= 6.8min\n",
            "[CV] END max_depth=35, max_features=10, min_samples_leaf=4, min_samples_split=5, n_estimators=489; total time= 6.7min\n",
            "[CV] END max_depth=35, max_features=10, min_samples_leaf=4, min_samples_split=5, n_estimators=489; total time= 6.8min\n",
            "[CV] END max_depth=18, max_features=14, min_samples_leaf=2, min_samples_split=6, n_estimators=352; total time=   0.2s\n",
            "[CV] END max_depth=18, max_features=14, min_samples_leaf=2, min_samples_split=6, n_estimators=352; total time=   1.2s\n",
            "[CV] END max_depth=18, max_features=14, min_samples_leaf=2, min_samples_split=6, n_estimators=352; total time=   1.2s\n",
            "[CV] END max_depth=18, max_features=10, min_samples_leaf=2, min_samples_split=5, n_estimators=331; total time= 4.3min\n",
            "[CV] END max_depth=18, max_features=10, min_samples_leaf=2, min_samples_split=5, n_estimators=331; total time= 4.3min\n",
            "[CV] END max_depth=18, max_features=10, min_samples_leaf=2, min_samples_split=5, n_estimators=331; total time= 4.2min\n",
            "[CV] END max_depth=28, max_features=14, min_samples_leaf=2, min_samples_split=5, n_estimators=457; total time=   0.3s\n",
            "[CV] END max_depth=28, max_features=14, min_samples_leaf=2, min_samples_split=5, n_estimators=457; total time=   1.2s\n",
            "[CV] END max_depth=28, max_features=14, min_samples_leaf=2, min_samples_split=5, n_estimators=457; total time=   1.2s\n",
            "[CV] END max_depth=25, max_features=5, min_samples_leaf=2, min_samples_split=6, n_estimators=300; total time= 2.1min\n",
            "[CV] END max_depth=25, max_features=5, min_samples_leaf=2, min_samples_split=6, n_estimators=300; total time= 2.1min\n",
            "[CV] END max_depth=25, max_features=5, min_samples_leaf=2, min_samples_split=6, n_estimators=300; total time= 2.2min\n",
            "[CV] END max_depth=25, max_features=10, min_samples_leaf=2, min_samples_split=3, n_estimators=447; total time= 6.4min\n",
            "[CV] END max_depth=25, max_features=10, min_samples_leaf=2, min_samples_split=3, n_estimators=447; total time= 6.3min\n",
            "[CV] END max_depth=25, max_features=10, min_samples_leaf=2, min_samples_split=3, n_estimators=447; total time= 6.3min\n",
            "[CV] END max_depth=None, max_features=2, min_samples_leaf=4, min_samples_split=2, n_estimators=426; total time= 1.5min\n",
            "[CV] END max_depth=None, max_features=2, min_samples_leaf=4, min_samples_split=2, n_estimators=426; total time= 1.5min\n",
            "[CV] END max_depth=None, max_features=2, min_samples_leaf=4, min_samples_split=2, n_estimators=426; total time= 1.5min\n",
            "[CV] END max_depth=18, max_features=12, min_samples_leaf=1, min_samples_split=5, n_estimators=310; total time= 4.9min\n",
            "[CV] END max_depth=18, max_features=12, min_samples_leaf=1, min_samples_split=5, n_estimators=310; total time= 4.9min\n",
            "[CV] END max_depth=18, max_features=12, min_samples_leaf=1, min_samples_split=5, n_estimators=310; total time= 5.2min\n",
            "[CV] END max_depth=31, max_features=6, min_samples_leaf=1, min_samples_split=4, n_estimators=331; total time= 2.9min\n",
            "[CV] END max_depth=31, max_features=6, min_samples_leaf=1, min_samples_split=4, n_estimators=331; total time= 2.9min\n",
            "[CV] END max_depth=31, max_features=6, min_samples_leaf=1, min_samples_split=4, n_estimators=331; total time= 3.1min\n",
            "[CV] END max_depth=28, max_features=11, min_samples_leaf=2, min_samples_split=6, n_estimators=363; total time= 5.8min\n",
            "[CV] END max_depth=28, max_features=11, min_samples_leaf=2, min_samples_split=6, n_estimators=363; total time= 5.6min\n",
            "[CV] END max_depth=28, max_features=11, min_samples_leaf=2, min_samples_split=6, n_estimators=363; total time= 5.7min\n",
            "[CV] END max_depth=28, max_features=1, min_samples_leaf=4, min_samples_split=2, n_estimators=447; total time= 1.1min\n",
            "[CV] END max_depth=28, max_features=1, min_samples_leaf=4, min_samples_split=2, n_estimators=447; total time= 1.1min\n",
            "[CV] END max_depth=28, max_features=1, min_samples_leaf=4, min_samples_split=2, n_estimators=447; total time= 1.1min\n",
            "[CV] END max_depth=18, max_features=4, min_samples_leaf=1, min_samples_split=6, n_estimators=415; total time= 2.3min\n",
            "[CV] END max_depth=18, max_features=4, min_samples_leaf=1, min_samples_split=6, n_estimators=415; total time= 2.4min\n",
            "[CV] END max_depth=18, max_features=4, min_samples_leaf=1, min_samples_split=6, n_estimators=415; total time= 2.3min\n",
            "[CV] END max_depth=None, max_features=3, min_samples_leaf=1, min_samples_split=6, n_estimators=415; total time= 2.0min\n",
            "[CV] END max_depth=None, max_features=3, min_samples_leaf=1, min_samples_split=6, n_estimators=415; total time= 2.2min\n",
            "[CV] END max_depth=None, max_features=3, min_samples_leaf=1, min_samples_split=6, n_estimators=415; total time= 2.2min\n",
            "[CV] END max_depth=15, max_features=6, min_samples_leaf=2, min_samples_split=6, n_estimators=310; total time= 2.5min\n",
            "[CV] END max_depth=15, max_features=6, min_samples_leaf=2, min_samples_split=6, n_estimators=310; total time= 2.5min\n",
            "[CV] END max_depth=15, max_features=6, min_samples_leaf=2, min_samples_split=6, n_estimators=310; total time= 2.5min\n",
            "[CV] END max_depth=35, max_features=3, min_samples_leaf=4, min_samples_split=3, n_estimators=405; total time= 2.0min\n",
            "[CV] END max_depth=35, max_features=3, min_samples_leaf=4, min_samples_split=3, n_estimators=405; total time= 1.9min\n",
            "[CV] END max_depth=35, max_features=3, min_samples_leaf=4, min_samples_split=3, n_estimators=405; total time= 1.9min\n",
            "[CV] END max_depth=15, max_features=4, min_samples_leaf=4, min_samples_split=4, n_estimators=500; total time= 2.6min\n",
            "[CV] END max_depth=15, max_features=4, min_samples_leaf=4, min_samples_split=4, n_estimators=500; total time= 2.6min\n",
            "[CV] END max_depth=15, max_features=4, min_samples_leaf=4, min_samples_split=4, n_estimators=500; total time= 2.7min\n",
            "[CV] END max_depth=31, max_features=8, min_samples_leaf=2, min_samples_split=4, n_estimators=331; total time= 3.8min\n",
            "[CV] END max_depth=31, max_features=8, min_samples_leaf=2, min_samples_split=4, n_estimators=331; total time= 3.7min\n",
            "[CV] END max_depth=31, max_features=8, min_samples_leaf=2, min_samples_split=4, n_estimators=331; total time= 3.8min\n",
            "[CV] END max_depth=35, max_features=1, min_samples_leaf=2, min_samples_split=5, n_estimators=426; total time= 1.1min\n",
            "[CV] END max_depth=35, max_features=1, min_samples_leaf=2, min_samples_split=5, n_estimators=426; total time= 1.1min\n",
            "[CV] END max_depth=35, max_features=1, min_samples_leaf=2, min_samples_split=5, n_estimators=426; total time= 1.1min\n",
            "[CV] END max_depth=25, max_features=13, min_samples_leaf=1, min_samples_split=3, n_estimators=342; total time= 6.3min\n",
            "[CV] END max_depth=25, max_features=13, min_samples_leaf=1, min_samples_split=3, n_estimators=342; total time= 6.2min\n",
            "[CV] END max_depth=25, max_features=13, min_samples_leaf=1, min_samples_split=3, n_estimators=342; total time= 6.4min\n"
          ]
        },
        {
          "name": "stderr",
          "output_type": "stream",
          "text": [
            "/usr/local/lib/python3.8/dist-packages/sklearn/model_selection/_validation.py:372: FitFailedWarning: \n",
            "21 fits failed out of a total of 150.\n",
            "The score on these train-test partitions for these parameters will be set to nan.\n",
            "If these failures are not expected, you can try to debug them by setting error_score='raise'.\n",
            "\n",
            "Below are more details about the failures:\n",
            "--------------------------------------------------------------------------------\n",
            "21 fits failed with the following error:\n",
            "joblib.externals.loky.process_executor._RemoteTraceback: \n",
            "\"\"\"\n",
            "Traceback (most recent call last):\n",
            "  File \"/usr/local/lib/python3.8/dist-packages/joblib/externals/loky/process_executor.py\", line 428, in _process_worker\n",
            "    r = call_item()\n",
            "  File \"/usr/local/lib/python3.8/dist-packages/joblib/externals/loky/process_executor.py\", line 275, in __call__\n",
            "    return self.fn(*self.args, **self.kwargs)\n",
            "  File \"/usr/local/lib/python3.8/dist-packages/joblib/_parallel_backends.py\", line 620, in __call__\n",
            "    return self.func(*args, **kwargs)\n",
            "  File \"/usr/local/lib/python3.8/dist-packages/joblib/parallel.py\", line 288, in __call__\n",
            "    return [func(*args, **kwargs)\n",
            "  File \"/usr/local/lib/python3.8/dist-packages/joblib/parallel.py\", line 288, in <listcomp>\n",
            "    return [func(*args, **kwargs)\n",
            "  File \"/usr/local/lib/python3.8/dist-packages/sklearn/utils/fixes.py\", line 216, in __call__\n",
            "    return self.function(*args, **kwargs)\n",
            "  File \"/usr/local/lib/python3.8/dist-packages/sklearn/ensemble/_forest.py\", line 185, in _parallel_build_trees\n",
            "    tree.fit(X, y, sample_weight=curr_sample_weight, check_input=False)\n",
            "  File \"/usr/local/lib/python3.8/dist-packages/sklearn/tree/_classes.py\", line 937, in fit\n",
            "    super().fit(\n",
            "  File \"/usr/local/lib/python3.8/dist-packages/sklearn/tree/_classes.py\", line 308, in fit\n",
            "    raise ValueError(\"max_features must be in (0, n_features]\")\n",
            "ValueError: max_features must be in (0, n_features]\n",
            "\"\"\"\n",
            "\n",
            "The above exception was the direct cause of the following exception:\n",
            "\n",
            "Traceback (most recent call last):\n",
            "  File \"/usr/local/lib/python3.8/dist-packages/sklearn/model_selection/_validation.py\", line 680, in _fit_and_score\n",
            "    estimator.fit(X_train, y_train, **fit_params)\n",
            "  File \"/usr/local/lib/python3.8/dist-packages/sklearn/ensemble/_forest.py\", line 450, in fit\n",
            "    trees = Parallel(\n",
            "  File \"/usr/local/lib/python3.8/dist-packages/joblib/parallel.py\", line 1098, in __call__\n",
            "    self.retrieve()\n",
            "  File \"/usr/local/lib/python3.8/dist-packages/joblib/parallel.py\", line 975, in retrieve\n",
            "    self._output.extend(job.get(timeout=self.timeout))\n",
            "  File \"/usr/local/lib/python3.8/dist-packages/joblib/_parallel_backends.py\", line 567, in wrap_future_result\n",
            "    return future.result(timeout=timeout)\n",
            "  File \"/usr/lib/python3.8/concurrent/futures/_base.py\", line 444, in result\n",
            "    return self.__get_result()\n",
            "  File \"/usr/lib/python3.8/concurrent/futures/_base.py\", line 389, in __get_result\n",
            "    raise self._exception\n",
            "ValueError: max_features must be in (0, n_features]\n",
            "\n",
            "  warnings.warn(some_fits_failed_message, FitFailedWarning)\n",
            "/usr/local/lib/python3.8/dist-packages/sklearn/model_selection/_search.py:969: UserWarning: One or more of the test scores are non-finite: [0.9987245         nan 0.99848992 0.99903238 0.99894441 0.99879047\n",
            " 0.99794747 0.99890043 0.99887111 0.99864386 0.99789616 0.99873916\n",
            " 0.99865852 0.99857789        nan 0.99848259 0.99816738 0.99869518\n",
            " 0.99886378 0.99829933 0.99848259 0.99788883 0.99821137        nan\n",
            " 0.99870984        nan 0.99848259 0.99892242        nan 0.99859255\n",
            " 0.99868785 0.99830666        nan 0.99874649        nan 0.99892975\n",
            " 0.99865119 0.99863653 0.99842395 0.99870984 0.99835064 0.99847526\n",
            " 0.99909835 0.99873916 0.99876848 0.99874649 0.99878314 0.99865119\n",
            " 0.99857789 0.9980501 ]\n",
            "  warnings.warn(\n"
          ]
        },
        {
          "data": {
            "text/plain": [
              "{'n_estimators': 415,\n",
              " 'min_samples_split': 6,\n",
              " 'min_samples_leaf': 1,\n",
              " 'max_features': 4,\n",
              " 'max_depth': 18}"
            ]
          },
          "execution_count": 23,
          "metadata": {},
          "output_type": "execute_result"
        }
      ],
      "source": [
        "# RandomizedSearchCV\n",
        "\n",
        "# Number of trees in random forest\n",
        "n_estimators = [int(x) for x in np.linspace(start = 300, stop = 500, num = 20)]\n",
        "# Number of features to consider at every split\n",
        "max_features = [int(x) for x in np.linspace(1, len(X_train.columns), num = len(X_train.columns))]\n",
        "# Maximum number of levels in tree\n",
        "max_depth = [int(x) for x in np.linspace(15, 35, num = 7)]\n",
        "max_depth.append(None)\n",
        "# Minimum number of samples required to split a node\n",
        "min_samples_split = [2, 3, 4, 5, 6]\n",
        "# Minimum number of samples required at each leaf node\n",
        "min_samples_leaf = [1, 2, 4]\n",
        "\n",
        "# Create the random grid\n",
        "random_grid = {\n",
        "               'n_estimators': n_estimators,\n",
        "               'max_features': max_features,\n",
        "               'max_depth': max_depth,\n",
        "               'min_samples_split': min_samples_split,\n",
        "               'min_samples_leaf': min_samples_leaf,\n",
        "              }\n",
        "\n",
        "rnd_random = RandomizedSearchCV(estimator = rnd_clf, \n",
        "                                param_distributions = random_grid, \n",
        "                                n_iter = 50, \n",
        "                                cv = 3, \n",
        "                                verbose = 2, \n",
        "                                scoring = 'recall',\n",
        "                                random_state = 10)\n",
        "\n",
        "rnd_random.fit(X_train, y_train)\n",
        "rnd_random.best_params_"
      ]
    },
    {
      "cell_type": "code",
      "execution_count": null,
      "metadata": {
        "colab": {
          "background_save": true
        },
        "id": "9JdZxZ03KdPs",
        "outputId": "005dd957-1df3-4045-8f36-684baa9429b3"
      },
      "outputs": [
        {
          "data": {
            "text/plain": [
              "{'n_estimators': 415,\n",
              " 'min_samples_split': 6,\n",
              " 'min_samples_leaf': 1,\n",
              " 'max_features': 4,\n",
              " 'max_depth': 18}"
            ]
          },
          "execution_count": 26,
          "metadata": {},
          "output_type": "execute_result"
        }
      ],
      "source": [
        "rnd_random.best_params_"
      ]
    },
    {
      "cell_type": "code",
      "execution_count": null,
      "metadata": {
        "colab": {
          "background_save": true
        },
        "id": "ZAW2m9t_KeN3",
        "outputId": "c100455d-f91b-4c91-c2e0-9cfe21783dda"
      },
      "outputs": [
        {
          "data": {
            "text/plain": [
              "0.999098352683284"
            ]
          },
          "execution_count": 27,
          "metadata": {},
          "output_type": "execute_result"
        }
      ],
      "source": [
        "rnd_random.best_score_"
      ]
    },
    {
      "cell_type": "markdown",
      "metadata": {
        "id": "-0VzXIIcuTah"
      },
      "source": [
        "## Gradient Boosting Classifier\n",
        "\n",
        "- Library: Scikit-learn"
      ]
    },
    {
      "cell_type": "code",
      "execution_count": null,
      "metadata": {
        "colab": {
          "background_save": true
        },
        "id": "LLnnnelYKl_I"
      },
      "outputs": [],
      "source": [
        "# Training\n",
        "\n",
        "name = 'gboost_clf'\n",
        "\n",
        "train = pd.DataFrame(columns = ['n_estimators', 'learning_rate', 'max_depth', 'random_state'])\n",
        "train = train.append({'n_estimators': 100, 'learning_rate':0.1, 'max_depth':3, 'random_state':10}, ignore_index=True)\n",
        "train = train.append({'n_estimators': 500, 'learning_rate':0.5, 'max_depth':1, 'random_state':10}, ignore_index=True)\n",
        "train = train.append({'n_estimators': 50, 'learning_rate':0.01, 'max_depth':10, 'random_state':10}, ignore_index=True)\n",
        "\n",
        "train = train.reset_index()\n",
        "for index, row in train.iterrows():\n",
        "    model_name = name + str(index)\n",
        "    gboost_clf = GradientBoostingClassifier(n_estimators=int(row['n_estimators']), learning_rate=row['learning_rate'],\n",
        "                                            max_depth=int(row['max_depth']), random_state=int(row['random_state']))\n",
        "    gboost_clf.fit(X_train, y_train)\n",
        "   \n",
        "    y_true = y_val\n",
        "    y_pred = gboost_clf.predict(X_val)\n",
        "    evaluation_results = evaluation_metrics(y_true, y_pred)\n",
        "\n",
        "    models = models.append({'model_name': model_name, \n",
        "                            'model': gboost_clf, \n",
        "                            'parameters': gboost_clf.get_params()}, \n",
        "                            ignore_index=True)\n",
        "   \n",
        "    models_eval = models_eval.append({'model_name': model_name, \n",
        "                                      'confusion_matrix' : evaluation_results[0], \n",
        "                                      'accuracy': evaluation_results[1], \n",
        "                                      'recall' : evaluation_results[2], \n",
        "                                      'f1_score': evaluation_results[3], \n",
        "                                      'roc_auc_score': evaluation_results[4]}, \n",
        "                                      ignore_index=True)"
      ]
    },
    {
      "cell_type": "code",
      "execution_count": null,
      "metadata": {
        "colab": {
          "background_save": true
        },
        "id": "FdHGO8xUKm_P",
        "outputId": "47c6d727-f2b6-4de8-8255-b4b40826c28c"
      },
      "outputs": [
        {
          "data": {
            "text/html": [
              "\n",
              "  <div id=\"df-100c7f4d-244e-4844-b474-d5358188fff9\">\n",
              "    <div class=\"colab-df-container\">\n",
              "      <div>\n",
              "<style scoped>\n",
              "    .dataframe tbody tr th:only-of-type {\n",
              "        vertical-align: middle;\n",
              "    }\n",
              "\n",
              "    .dataframe tbody tr th {\n",
              "        vertical-align: top;\n",
              "    }\n",
              "\n",
              "    .dataframe thead th {\n",
              "        text-align: right;\n",
              "    }\n",
              "</style>\n",
              "<table border=\"1\" class=\"dataframe\">\n",
              "  <thead>\n",
              "    <tr style=\"text-align: right;\">\n",
              "      <th></th>\n",
              "      <th>model_name</th>\n",
              "      <th>confusion_matrix</th>\n",
              "      <th>accuracy</th>\n",
              "      <th>recall</th>\n",
              "      <th>f1_score</th>\n",
              "      <th>roc_auc_score</th>\n",
              "    </tr>\n",
              "  </thead>\n",
              "  <tbody>\n",
              "    <tr>\n",
              "      <th>0</th>\n",
              "      <td>gboost_clf0</td>\n",
              "      <td>[15583, 1485, 15, 107]</td>\n",
              "      <td>0.912740</td>\n",
              "      <td>0.877049</td>\n",
              "      <td>0.124854</td>\n",
              "      <td>0.895022</td>\n",
              "    </tr>\n",
              "    <tr>\n",
              "      <th>1</th>\n",
              "      <td>gboost_clf1</td>\n",
              "      <td>[15582, 1486, 20, 102]</td>\n",
              "      <td>0.912391</td>\n",
              "      <td>0.836066</td>\n",
              "      <td>0.119298</td>\n",
              "      <td>0.874501</td>\n",
              "    </tr>\n",
              "    <tr>\n",
              "      <th>2</th>\n",
              "      <td>gboost_clf2</td>\n",
              "      <td>[16087, 981, 12, 110]</td>\n",
              "      <td>0.942234</td>\n",
              "      <td>0.901639</td>\n",
              "      <td>0.181369</td>\n",
              "      <td>0.922082</td>\n",
              "    </tr>\n",
              "  </tbody>\n",
              "</table>\n",
              "</div>\n",
              "      <button class=\"colab-df-convert\" onclick=\"convertToInteractive('df-100c7f4d-244e-4844-b474-d5358188fff9')\"\n",
              "              title=\"Convert this dataframe to an interactive table.\"\n",
              "              style=\"display:none;\">\n",
              "        \n",
              "  <svg xmlns=\"http://www.w3.org/2000/svg\" height=\"24px\"viewBox=\"0 0 24 24\"\n",
              "       width=\"24px\">\n",
              "    <path d=\"M0 0h24v24H0V0z\" fill=\"none\"/>\n",
              "    <path d=\"M18.56 5.44l.94 2.06.94-2.06 2.06-.94-2.06-.94-.94-2.06-.94 2.06-2.06.94zm-11 1L8.5 8.5l.94-2.06 2.06-.94-2.06-.94L8.5 2.5l-.94 2.06-2.06.94zm10 10l.94 2.06.94-2.06 2.06-.94-2.06-.94-.94-2.06-.94 2.06-2.06.94z\"/><path d=\"M17.41 7.96l-1.37-1.37c-.4-.4-.92-.59-1.43-.59-.52 0-1.04.2-1.43.59L10.3 9.45l-7.72 7.72c-.78.78-.78 2.05 0 2.83L4 21.41c.39.39.9.59 1.41.59.51 0 1.02-.2 1.41-.59l7.78-7.78 2.81-2.81c.8-.78.8-2.07 0-2.86zM5.41 20L4 18.59l7.72-7.72 1.47 1.35L5.41 20z\"/>\n",
              "  </svg>\n",
              "      </button>\n",
              "      \n",
              "  <style>\n",
              "    .colab-df-container {\n",
              "      display:flex;\n",
              "      flex-wrap:wrap;\n",
              "      gap: 12px;\n",
              "    }\n",
              "\n",
              "    .colab-df-convert {\n",
              "      background-color: #E8F0FE;\n",
              "      border: none;\n",
              "      border-radius: 50%;\n",
              "      cursor: pointer;\n",
              "      display: none;\n",
              "      fill: #1967D2;\n",
              "      height: 32px;\n",
              "      padding: 0 0 0 0;\n",
              "      width: 32px;\n",
              "    }\n",
              "\n",
              "    .colab-df-convert:hover {\n",
              "      background-color: #E2EBFA;\n",
              "      box-shadow: 0px 1px 2px rgba(60, 64, 67, 0.3), 0px 1px 3px 1px rgba(60, 64, 67, 0.15);\n",
              "      fill: #174EA6;\n",
              "    }\n",
              "\n",
              "    [theme=dark] .colab-df-convert {\n",
              "      background-color: #3B4455;\n",
              "      fill: #D2E3FC;\n",
              "    }\n",
              "\n",
              "    [theme=dark] .colab-df-convert:hover {\n",
              "      background-color: #434B5C;\n",
              "      box-shadow: 0px 1px 3px 1px rgba(0, 0, 0, 0.15);\n",
              "      filter: drop-shadow(0px 1px 2px rgba(0, 0, 0, 0.3));\n",
              "      fill: #FFFFFF;\n",
              "    }\n",
              "  </style>\n",
              "\n",
              "      <script>\n",
              "        const buttonEl =\n",
              "          document.querySelector('#df-100c7f4d-244e-4844-b474-d5358188fff9 button.colab-df-convert');\n",
              "        buttonEl.style.display =\n",
              "          google.colab.kernel.accessAllowed ? 'block' : 'none';\n",
              "\n",
              "        async function convertToInteractive(key) {\n",
              "          const element = document.querySelector('#df-100c7f4d-244e-4844-b474-d5358188fff9');\n",
              "          const dataTable =\n",
              "            await google.colab.kernel.invokeFunction('convertToInteractive',\n",
              "                                                     [key], {});\n",
              "          if (!dataTable) return;\n",
              "\n",
              "          const docLinkHtml = 'Like what you see? Visit the ' +\n",
              "            '<a target=\"_blank\" href=https://colab.research.google.com/notebooks/data_table.ipynb>data table notebook</a>'\n",
              "            + ' to learn more about interactive tables.';\n",
              "          element.innerHTML = '';\n",
              "          dataTable['output_type'] = 'display_data';\n",
              "          await google.colab.output.renderOutput(dataTable, element);\n",
              "          const docLink = document.createElement('div');\n",
              "          docLink.innerHTML = docLinkHtml;\n",
              "          element.appendChild(docLink);\n",
              "        }\n",
              "      </script>\n",
              "    </div>\n",
              "  </div>\n",
              "  "
            ],
            "text/plain": [
              "    model_name        confusion_matrix  accuracy    recall  f1_score  \\\n",
              "0  gboost_clf0  [15583, 1485, 15, 107]  0.912740  0.877049  0.124854   \n",
              "1  gboost_clf1  [15582, 1486, 20, 102]  0.912391  0.836066  0.119298   \n",
              "2  gboost_clf2   [16087, 981, 12, 110]  0.942234  0.901639  0.181369   \n",
              "\n",
              "   roc_auc_score  \n",
              "0       0.895022  \n",
              "1       0.874501  \n",
              "2       0.922082  "
            ]
          },
          "metadata": {},
          "output_type": "display_data"
        }
      ],
      "source": [
        "display(models_eval)"
      ]
    },
    {
      "cell_type": "code",
      "execution_count": null,
      "metadata": {
        "colab": {
          "background_save": true,
          "base_uri": "https://localhost:8080/"
        },
        "id": "Esowp65835v8",
        "outputId": "d3074ac7-4dea-456f-ca94-0e6921169a66"
      },
      "outputs": [
        {
          "name": "stdout",
          "output_type": "stream",
          "text": [
            "Fitting 2 folds for each of 25 candidates, totalling 50 fits\n",
            "[CV 1/2] END learning_rate=0.3, max_depth=1, n_estimators=2000;, score=0.957 total time= 5.7min\n",
            "[CV 2/2] END learning_rate=0.3, max_depth=1, n_estimators=2000;, score=0.957 total time= 5.1min\n",
            "[CV 1/2] END learning_rate=0.15, max_depth=3, n_estimators=1000;, score=0.993 total time= 7.1min\n",
            "[CV 2/2] END learning_rate=0.15, max_depth=3, n_estimators=1000;, score=0.993 total time= 7.4min\n",
            "[CV 1/2] END learning_rate=0.2, max_depth=3, n_estimators=2000;, score=0.997 total time=13.9min\n",
            "[CV 2/2] END learning_rate=0.2, max_depth=3, n_estimators=2000;, score=0.997 total time=14.3min\n",
            "[CV 1/2] END learning_rate=0.25, max_depth=3, n_estimators=2000;, score=0.997 total time=14.7min\n",
            "[CV 2/2] END learning_rate=0.25, max_depth=3, n_estimators=2000;, score=0.997 total time=14.6min\n",
            "[CV 1/2] END learning_rate=0.01, max_depth=15, n_estimators=500;, score=0.998 total time=15.3min\n",
            "[CV 2/2] END learning_rate=0.01, max_depth=15, n_estimators=500;, score=0.998 total time=14.8min\n",
            "[CV 1/2] END learning_rate=0.15, max_depth=10, n_estimators=500;, score=0.998 total time=11.2min\n",
            "[CV 2/2] END learning_rate=0.15, max_depth=10, n_estimators=500;, score=0.998 total time=10.7min\n",
            "[CV 1/2] END learning_rate=0.05, max_depth=3, n_estimators=100;, score=0.954 total time=  41.4s\n",
            "[CV 2/2] END learning_rate=0.05, max_depth=3, n_estimators=100;, score=0.958 total time=  40.8s\n",
            "[CV 1/2] END learning_rate=0.05, max_depth=8, n_estimators=750;, score=0.998 total time=13.2min\n",
            "[CV 2/2] END learning_rate=0.05, max_depth=8, n_estimators=750;, score=0.998 total time=12.9min\n",
            "[CV 1/2] END learning_rate=0.5, max_depth=15, n_estimators=750;, score=0.998 total time= 4.1min\n",
            "[CV 2/2] END learning_rate=0.5, max_depth=15, n_estimators=750;, score=0.998 total time= 4.1min\n",
            "[CV 1/2] END learning_rate=0.15, max_depth=15, n_estimators=750;, score=0.999 total time=13.7min\n",
            "[CV 2/2] END learning_rate=0.15, max_depth=15, n_estimators=750;, score=0.998 total time=13.0min\n",
            "[CV 1/2] END learning_rate=0.25, max_depth=8, n_estimators=1000;, score=0.998 total time=17.2min\n",
            "[CV 2/2] END learning_rate=0.25, max_depth=8, n_estimators=1000;, score=0.998 total time=17.0min\n",
            "[CV 1/2] END learning_rate=0.3, max_depth=1, n_estimators=750;, score=0.954 total time= 1.9min\n",
            "[CV 2/2] END learning_rate=0.3, max_depth=1, n_estimators=750;, score=0.953 total time= 1.9min\n",
            "[CV 1/2] END learning_rate=0.05, max_depth=15, n_estimators=1000;, score=0.999 total time=32.5min\n",
            "[CV 2/2] END learning_rate=0.05, max_depth=15, n_estimators=1000;, score=0.998 total time=31.5min\n",
            "[CV 1/2] END learning_rate=0.5, max_depth=5, n_estimators=750;, score=0.998 total time= 8.4min\n",
            "[CV 2/2] END learning_rate=0.5, max_depth=5, n_estimators=750;, score=0.998 total time= 8.5min\n",
            "[CV 1/2] END learning_rate=0.3, max_depth=8, n_estimators=500;, score=0.998 total time= 8.6min\n",
            "[CV 2/2] END learning_rate=0.3, max_depth=8, n_estimators=500;, score=0.998 total time= 8.6min\n",
            "[CV 1/2] END learning_rate=0.1, max_depth=10, n_estimators=1000;, score=0.999 total time=21.8min\n",
            "[CV 2/2] END learning_rate=0.1, max_depth=10, n_estimators=1000;, score=0.998 total time=21.3min\n",
            "[CV 1/2] END learning_rate=0.2, max_depth=8, n_estimators=500;, score=0.998 total time= 8.6min\n",
            "[CV 2/2] END learning_rate=0.2, max_depth=8, n_estimators=500;, score=0.998 total time= 8.5min\n",
            "[CV 1/2] END learning_rate=0.25, max_depth=8, n_estimators=750;, score=0.999 total time=12.8min\n",
            "[CV 2/2] END learning_rate=0.25, max_depth=8, n_estimators=750;, score=0.998 total time=13.0min\n",
            "[CV 1/2] END learning_rate=0.5, max_depth=3, n_estimators=100;, score=0.981 total time=  41.2s\n",
            "[CV 2/2] END learning_rate=0.5, max_depth=3, n_estimators=100;, score=0.981 total time=  41.0s\n",
            "[CV 1/2] END learning_rate=0.1, max_depth=8, n_estimators=1000;, score=0.999 total time=17.7min\n",
            "[CV 2/2] END learning_rate=0.1, max_depth=8, n_estimators=1000;, score=0.999 total time=17.1min\n",
            "[CV 1/2] END learning_rate=0.25, max_depth=3, n_estimators=100;, score=0.976 total time=  39.9s\n",
            "[CV 2/2] END learning_rate=0.25, max_depth=3, n_estimators=100;, score=0.976 total time=  40.0s\n",
            "[CV 1/2] END learning_rate=0.3, max_depth=1, n_estimators=500;, score=0.949 total time= 1.2min\n",
            "[CV 2/2] END learning_rate=0.3, max_depth=1, n_estimators=500;, score=0.949 total time= 1.2min\n",
            "[CV 1/2] END learning_rate=0.3, max_depth=15, n_estimators=750;, score=0.998 total time= 6.7min\n",
            "[CV 2/2] END learning_rate=0.3, max_depth=15, n_estimators=750;, score=0.998 total time= 6.5min\n",
            "[CV 1/2] END learning_rate=0.1, max_depth=1, n_estimators=1000;, score=0.940 total time= 2.5min\n",
            "[CV 2/2] END learning_rate=0.1, max_depth=1, n_estimators=1000;, score=0.938 total time= 2.5min\n",
            "[CV 1/2] END learning_rate=0.1, max_depth=1, n_estimators=100;, score=0.943 total time=  15.5s\n",
            "[CV 2/2] END learning_rate=0.1, max_depth=1, n_estimators=100;, score=0.942 total time=  15.3s\n"
          ]
        },
        {
          "data": {
            "text/plain": [
              "{'n_estimators': 1000, 'max_depth': 8, 'learning_rate': 0.1}"
            ]
          },
          "execution_count": 19,
          "metadata": {},
          "output_type": "execute_result"
        }
      ],
      "source": [
        "# RandomizedSearchCV\n",
        "\n",
        "random_grid = {\n",
        "              \"n_estimators\": [100, 500, 750, 1000, 2000],\n",
        "              \"learning_rate\": [0.01, 0.05, 0.10, 0.15, 0.20, 0.25, 0.30, 0.50],\n",
        "              \"max_depth\": [1, 3, 5, 8, 10, 15]\n",
        "              }\n",
        "\n",
        "gboost_random = RandomizedSearchCV(estimator = gboost_clf, \n",
        "                                 param_distributions = random_grid, \n",
        "                                 n_iter = 25, \n",
        "                                 cv = 2, \n",
        "                                 verbose = 3, \n",
        "                                 scoring = 'recall',\n",
        "                                 random_state = 10)\n",
        "\n",
        "gboost_random.fit(X_train, y_train)\n",
        "gboost_random.best_params_"
      ]
    },
    {
      "cell_type": "code",
      "execution_count": null,
      "metadata": {
        "colab": {
          "background_save": true
        },
        "id": "f6-C1PnUKo9b",
        "outputId": "e5577745-9efe-43f7-cf28-56ebcd7f2d13"
      },
      "outputs": [
        {
          "data": {
            "text/plain": [
              "{'n_estimators': 1000, 'max_depth': 8, 'learning_rate': 0.1}"
            ]
          },
          "execution_count": 20,
          "metadata": {},
          "output_type": "execute_result"
        }
      ],
      "source": [
        "gboost_random.best_params_"
      ]
    },
    {
      "cell_type": "code",
      "execution_count": null,
      "metadata": {
        "colab": {
          "background_save": true
        },
        "id": "8MoALn6aKpy4",
        "outputId": "664b01d4-9a31-4b09-f574-f336d41a6863"
      },
      "outputs": [
        {
          "data": {
            "text/plain": [
              "0.9985632290304756"
            ]
          },
          "execution_count": 21,
          "metadata": {},
          "output_type": "execute_result"
        }
      ],
      "source": [
        "gboost_random.best_score_"
      ]
    },
    {
      "cell_type": "markdown",
      "metadata": {
        "id": "J3M3ob9buTHm"
      },
      "source": [
        "## XGBoost\n",
        "\n",
        "- Library: xgboost"
      ]
    },
    {
      "cell_type": "code",
      "execution_count": null,
      "metadata": {
        "id": "de182uAYuIE4"
      },
      "outputs": [],
      "source": [
        "# Training\n",
        "\n",
        "name = 'xgboost_clf'\n",
        "\n",
        "train = pd.DataFrame(columns = ['n_estimators', 'learning_rate', 'max_depth', 'random_state'])\n",
        "train = train.append({'n_estimators': 1000, 'learning_rate':0.1, 'max_depth':8, 'random_state':10}, ignore_index=True)\n",
        "train = train.append({'n_estimators': 500, 'learning_rate':0.5, 'max_depth':1, 'random_state':10}, ignore_index=True)\n",
        "train = train.append({'n_estimators': 750, 'learning_rate':0.01, 'max_depth':10, 'random_state':10}, ignore_index=True)\n",
        "\n",
        "train = train.reset_index()\n",
        "for index, row in train.iterrows():\n",
        "    model_name = name + str(index)\n",
        "    xgboost_clf = XGBClassifier(n_estimators=int(row['n_estimators']), learning_rate=row['learning_rate'],\n",
        "                                max_depth=int(row['max_depth']), random_state=int(row['random_state']))\n",
        "    xgboost_clf.fit(X_train, y_train)\n",
        "    \n",
        "    y_true = y_val\n",
        "    y_pred = xgboost_clf.predict(X_val)\n",
        "    evaluation_results = evaluation_metrics(y_true, y_pred)\n",
        "\n",
        "    models = models.append({'model_name': model_name, \n",
        "                            'model': xgboost_clf, \n",
        "                            'parameters': xgboost_clf.get_params()}, \n",
        "                            ignore_index=True)\n",
        "    \n",
        "    models_eval = models_eval.append({'model_name': model_name, \n",
        "                                      'confusion_matrix' : evaluation_results[0], \n",
        "                                      'accuracy': evaluation_results[1], \n",
        "                                      'recall' : evaluation_results[2], \n",
        "                                      'f1_score': evaluation_results[3], \n",
        "                                      'roc_auc_score': evaluation_results[4]}, \n",
        "                                      ignore_index=True)"
      ]
    },
    {
      "cell_type": "code",
      "execution_count": null,
      "metadata": {
        "colab": {
          "base_uri": "https://localhost:8080/",
          "height": 143
        },
        "id": "qrB_NNF_uJSv",
        "outputId": "843b7ae5-39f1-4bf7-95b6-6612f9493a7d"
      },
      "outputs": [
        {
          "output_type": "display_data",
          "data": {
            "text/plain": [
              "     model_name        confusion_matrix  accuracy    recall  f1_score  \\\n",
              "0  xgboost_clf0    [17005, 63, 20, 102]  0.995172  0.836066  0.710801   \n",
              "1  xgboost_clf1  [15494, 1574, 17, 105]  0.907446  0.860656  0.116602   \n",
              "2  xgboost_clf2   [16744, 324, 20, 102]  0.979988  0.836066  0.372263   \n",
              "\n",
              "   roc_auc_score  \n",
              "0       0.916187  \n",
              "1       0.884218  \n",
              "2       0.908541  "
            ],
            "text/html": [
              "\n",
              "  <div id=\"df-4156886f-d7ad-46b6-93cf-47bfe2cfc896\">\n",
              "    <div class=\"colab-df-container\">\n",
              "      <div>\n",
              "<style scoped>\n",
              "    .dataframe tbody tr th:only-of-type {\n",
              "        vertical-align: middle;\n",
              "    }\n",
              "\n",
              "    .dataframe tbody tr th {\n",
              "        vertical-align: top;\n",
              "    }\n",
              "\n",
              "    .dataframe thead th {\n",
              "        text-align: right;\n",
              "    }\n",
              "</style>\n",
              "<table border=\"1\" class=\"dataframe\">\n",
              "  <thead>\n",
              "    <tr style=\"text-align: right;\">\n",
              "      <th></th>\n",
              "      <th>model_name</th>\n",
              "      <th>confusion_matrix</th>\n",
              "      <th>accuracy</th>\n",
              "      <th>recall</th>\n",
              "      <th>f1_score</th>\n",
              "      <th>roc_auc_score</th>\n",
              "    </tr>\n",
              "  </thead>\n",
              "  <tbody>\n",
              "    <tr>\n",
              "      <th>0</th>\n",
              "      <td>xgboost_clf0</td>\n",
              "      <td>[17005, 63, 20, 102]</td>\n",
              "      <td>0.995172</td>\n",
              "      <td>0.836066</td>\n",
              "      <td>0.710801</td>\n",
              "      <td>0.916187</td>\n",
              "    </tr>\n",
              "    <tr>\n",
              "      <th>1</th>\n",
              "      <td>xgboost_clf1</td>\n",
              "      <td>[15494, 1574, 17, 105]</td>\n",
              "      <td>0.907446</td>\n",
              "      <td>0.860656</td>\n",
              "      <td>0.116602</td>\n",
              "      <td>0.884218</td>\n",
              "    </tr>\n",
              "    <tr>\n",
              "      <th>2</th>\n",
              "      <td>xgboost_clf2</td>\n",
              "      <td>[16744, 324, 20, 102]</td>\n",
              "      <td>0.979988</td>\n",
              "      <td>0.836066</td>\n",
              "      <td>0.372263</td>\n",
              "      <td>0.908541</td>\n",
              "    </tr>\n",
              "  </tbody>\n",
              "</table>\n",
              "</div>\n",
              "      <button class=\"colab-df-convert\" onclick=\"convertToInteractive('df-4156886f-d7ad-46b6-93cf-47bfe2cfc896')\"\n",
              "              title=\"Convert this dataframe to an interactive table.\"\n",
              "              style=\"display:none;\">\n",
              "        \n",
              "  <svg xmlns=\"http://www.w3.org/2000/svg\" height=\"24px\"viewBox=\"0 0 24 24\"\n",
              "       width=\"24px\">\n",
              "    <path d=\"M0 0h24v24H0V0z\" fill=\"none\"/>\n",
              "    <path d=\"M18.56 5.44l.94 2.06.94-2.06 2.06-.94-2.06-.94-.94-2.06-.94 2.06-2.06.94zm-11 1L8.5 8.5l.94-2.06 2.06-.94-2.06-.94L8.5 2.5l-.94 2.06-2.06.94zm10 10l.94 2.06.94-2.06 2.06-.94-2.06-.94-.94-2.06-.94 2.06-2.06.94z\"/><path d=\"M17.41 7.96l-1.37-1.37c-.4-.4-.92-.59-1.43-.59-.52 0-1.04.2-1.43.59L10.3 9.45l-7.72 7.72c-.78.78-.78 2.05 0 2.83L4 21.41c.39.39.9.59 1.41.59.51 0 1.02-.2 1.41-.59l7.78-7.78 2.81-2.81c.8-.78.8-2.07 0-2.86zM5.41 20L4 18.59l7.72-7.72 1.47 1.35L5.41 20z\"/>\n",
              "  </svg>\n",
              "      </button>\n",
              "      \n",
              "  <style>\n",
              "    .colab-df-container {\n",
              "      display:flex;\n",
              "      flex-wrap:wrap;\n",
              "      gap: 12px;\n",
              "    }\n",
              "\n",
              "    .colab-df-convert {\n",
              "      background-color: #E8F0FE;\n",
              "      border: none;\n",
              "      border-radius: 50%;\n",
              "      cursor: pointer;\n",
              "      display: none;\n",
              "      fill: #1967D2;\n",
              "      height: 32px;\n",
              "      padding: 0 0 0 0;\n",
              "      width: 32px;\n",
              "    }\n",
              "\n",
              "    .colab-df-convert:hover {\n",
              "      background-color: #E2EBFA;\n",
              "      box-shadow: 0px 1px 2px rgba(60, 64, 67, 0.3), 0px 1px 3px 1px rgba(60, 64, 67, 0.15);\n",
              "      fill: #174EA6;\n",
              "    }\n",
              "\n",
              "    [theme=dark] .colab-df-convert {\n",
              "      background-color: #3B4455;\n",
              "      fill: #D2E3FC;\n",
              "    }\n",
              "\n",
              "    [theme=dark] .colab-df-convert:hover {\n",
              "      background-color: #434B5C;\n",
              "      box-shadow: 0px 1px 3px 1px rgba(0, 0, 0, 0.15);\n",
              "      filter: drop-shadow(0px 1px 2px rgba(0, 0, 0, 0.3));\n",
              "      fill: #FFFFFF;\n",
              "    }\n",
              "  </style>\n",
              "\n",
              "      <script>\n",
              "        const buttonEl =\n",
              "          document.querySelector('#df-4156886f-d7ad-46b6-93cf-47bfe2cfc896 button.colab-df-convert');\n",
              "        buttonEl.style.display =\n",
              "          google.colab.kernel.accessAllowed ? 'block' : 'none';\n",
              "\n",
              "        async function convertToInteractive(key) {\n",
              "          const element = document.querySelector('#df-4156886f-d7ad-46b6-93cf-47bfe2cfc896');\n",
              "          const dataTable =\n",
              "            await google.colab.kernel.invokeFunction('convertToInteractive',\n",
              "                                                     [key], {});\n",
              "          if (!dataTable) return;\n",
              "\n",
              "          const docLinkHtml = 'Like what you see? Visit the ' +\n",
              "            '<a target=\"_blank\" href=https://colab.research.google.com/notebooks/data_table.ipynb>data table notebook</a>'\n",
              "            + ' to learn more about interactive tables.';\n",
              "          element.innerHTML = '';\n",
              "          dataTable['output_type'] = 'display_data';\n",
              "          await google.colab.output.renderOutput(dataTable, element);\n",
              "          const docLink = document.createElement('div');\n",
              "          docLink.innerHTML = docLinkHtml;\n",
              "          element.appendChild(docLink);\n",
              "        }\n",
              "      </script>\n",
              "    </div>\n",
              "  </div>\n",
              "  "
            ]
          },
          "metadata": {}
        }
      ],
      "source": [
        "display(models_eval)"
      ]
    },
    {
      "cell_type": "code",
      "execution_count": null,
      "metadata": {
        "colab": {
          "base_uri": "https://localhost:8080/"
        },
        "id": "34tKXnXcuJ-w",
        "outputId": "7733cfda-380d-423d-f529-73bd435d3e28"
      },
      "outputs": [
        {
          "metadata": {
            "tags": null
          },
          "name": "stdout",
          "output_type": "stream",
          "text": [
            "Fitting 2 folds for each of 50 candidates, totalling 100 fits\n",
            "[CV 1/2] END learning_rate=0.01, max_depth=3, min_child_weight=3, n_estimators=750;, score=0.960 total time= 1.4min\n",
            "[CV 2/2] END learning_rate=0.01, max_depth=3, min_child_weight=3, n_estimators=750;, score=0.954 total time= 1.4min\n",
            "[CV 1/2] END learning_rate=0.2, max_depth=3, min_child_weight=5, n_estimators=1000;, score=0.990 total time= 1.8min\n",
            "[CV 2/2] END learning_rate=0.2, max_depth=3, min_child_weight=5, n_estimators=1000;, score=0.990 total time= 1.8min\n",
            "[CV 1/2] END learning_rate=0.25, max_depth=3, min_child_weight=3, n_estimators=2000;, score=0.996 total time= 3.6min\n",
            "[CV 2/2] END learning_rate=0.25, max_depth=3, min_child_weight=3, n_estimators=2000;, score=0.996 total time= 3.6min\n",
            "[CV 1/2] END learning_rate=0.15, max_depth=5, min_child_weight=7, n_estimators=2000;, score=0.998 total time= 5.6min\n",
            "[CV 2/2] END learning_rate=0.15, max_depth=5, min_child_weight=7, n_estimators=2000;, score=0.998 total time= 5.6min\n",
            "[CV 1/2] END learning_rate=0.05, max_depth=8, min_child_weight=5, n_estimators=2000;, score=0.998 total time= 8.8min\n",
            "[CV 2/2] END learning_rate=0.05, max_depth=8, min_child_weight=5, n_estimators=2000;, score=0.998 total time= 8.8min\n",
            "[CV 1/2] END learning_rate=0.2, max_depth=3, min_child_weight=7, n_estimators=1000;, score=0.990 total time= 1.8min\n",
            "[CV 2/2] END learning_rate=0.2, max_depth=3, min_child_weight=7, n_estimators=1000;, score=0.990 total time= 1.8min\n",
            "[CV 1/2] END learning_rate=0.05, max_depth=8, min_child_weight=7, n_estimators=100;, score=0.984 total time=  30.8s\n",
            "[CV 2/2] END learning_rate=0.05, max_depth=8, min_child_weight=7, n_estimators=100;, score=0.984 total time=  30.3s\n",
            "[CV 1/2] END learning_rate=0.25, max_depth=1, min_child_weight=7, n_estimators=1000;, score=0.945 total time=  49.8s\n",
            "[CV 2/2] END learning_rate=0.25, max_depth=1, min_child_weight=7, n_estimators=1000;, score=0.941 total time=  50.7s\n",
            "[CV 1/2] END learning_rate=0.2, max_depth=1, min_child_weight=5, n_estimators=500;, score=0.938 total time=  25.7s\n",
            "[CV 2/2] END learning_rate=0.2, max_depth=1, min_child_weight=5, n_estimators=500;, score=0.937 total time=  25.9s\n",
            "[CV 1/2] END learning_rate=0.15, max_depth=1, min_child_weight=7, n_estimators=1000;, score=0.942 total time=  51.2s\n",
            "[CV 2/2] END learning_rate=0.15, max_depth=1, min_child_weight=7, n_estimators=1000;, score=0.941 total time=  50.6s\n",
            "[CV 1/2] END learning_rate=0.3, max_depth=8, min_child_weight=5, n_estimators=2000;, score=0.998 total time= 8.3min\n",
            "[CV 2/2] END learning_rate=0.3, max_depth=8, min_child_weight=5, n_estimators=2000;, score=0.998 total time= 8.4min\n",
            "[CV 1/2] END learning_rate=0.2, max_depth=1, min_child_weight=3, n_estimators=100;, score=0.932 total time=   5.3s\n",
            "[CV 2/2] END learning_rate=0.2, max_depth=1, min_child_weight=3, n_estimators=100;, score=0.934 total time=   5.3s\n",
            "[CV 1/2] END learning_rate=0.3, max_depth=8, min_child_weight=1, n_estimators=500;, score=0.999 total time= 2.3min\n",
            "[CV 2/2] END learning_rate=0.3, max_depth=8, min_child_weight=1, n_estimators=500;, score=0.998 total time= 2.2min\n",
            "[CV 1/2] END learning_rate=0.1, max_depth=3, min_child_weight=5, n_estimators=2000;, score=0.990 total time= 3.6min\n",
            "[CV 2/2] END learning_rate=0.1, max_depth=3, min_child_weight=5, n_estimators=2000;, score=0.989 total time= 3.6min\n",
            "[CV 1/2] END learning_rate=0.15, max_depth=8, min_child_weight=3, n_estimators=100;, score=0.992 total time=  28.9s\n",
            "[CV 2/2] END learning_rate=0.15, max_depth=8, min_child_weight=3, n_estimators=100;, score=0.993 total time=  29.5s\n",
            "[CV 1/2] END learning_rate=0.1, max_depth=5, min_child_weight=1, n_estimators=2000;, score=0.998 total time= 5.7min\n",
            "[CV 2/2] END learning_rate=0.1, max_depth=5, min_child_weight=1, n_estimators=2000;, score=0.998 total time= 5.8min\n",
            "[CV 1/2] END learning_rate=0.3, max_depth=10, min_child_weight=5, n_estimators=750;, score=0.999 total time= 4.0min\n",
            "[CV 2/2] END learning_rate=0.3, max_depth=10, min_child_weight=5, n_estimators=750;, score=0.998 total time= 3.9min\n",
            "[CV 1/2] END learning_rate=0.5, max_depth=1, min_child_weight=1, n_estimators=1000;, score=0.945 total time=  50.7s\n",
            "[CV 2/2] END learning_rate=0.5, max_depth=1, min_child_weight=1, n_estimators=1000;, score=0.944 total time=  52.3s\n",
            "[CV 1/2] END learning_rate=0.15, max_depth=10, min_child_weight=3, n_estimators=100;, score=0.997 total time=  35.8s\n",
            "[CV 2/2] END learning_rate=0.15, max_depth=10, min_child_weight=3, n_estimators=100;, score=0.996 total time=  36.2s\n",
            "[CV 1/2] END learning_rate=0.5, max_depth=3, min_child_weight=3, n_estimators=500;, score=0.992 total time=  54.0s\n",
            "[CV 2/2] END learning_rate=0.5, max_depth=3, min_child_weight=3, n_estimators=500;, score=0.991 total time=  54.3s\n",
            "[CV 1/2] END learning_rate=0.25, max_depth=3, min_child_weight=3, n_estimators=100;, score=0.964 total time=  11.1s\n",
            "[CV 2/2] END learning_rate=0.25, max_depth=3, min_child_weight=3, n_estimators=100;, score=0.967 total time=  11.0s\n",
            "[CV 1/2] END learning_rate=0.3, max_depth=5, min_child_weight=7, n_estimators=100;, score=0.987 total time=  17.6s\n",
            "[CV 2/2] END learning_rate=0.3, max_depth=5, min_child_weight=7, n_estimators=100;, score=0.984 total time=  17.4s\n",
            "[CV 1/2] END learning_rate=0.2, max_depth=15, min_child_weight=5, n_estimators=100;, score=0.998 total time=  52.2s\n",
            "[CV 2/2] END learning_rate=0.2, max_depth=15, min_child_weight=5, n_estimators=100;, score=0.998 total time=  53.0s\n",
            "[CV 1/2] END learning_rate=0.01, max_depth=1, min_child_weight=5, n_estimators=500;, score=0.872 total time=  26.1s\n",
            "[CV 2/2] END learning_rate=0.01, max_depth=1, min_child_weight=5, n_estimators=500;, score=0.870 total time=  25.7s\n",
            "[CV 1/2] END learning_rate=0.1, max_depth=10, min_child_weight=3, n_estimators=100;, score=0.995 total time=  36.8s\n",
            "[CV 2/2] END learning_rate=0.1, max_depth=10, min_child_weight=3, n_estimators=100;, score=0.995 total time=  37.3s\n",
            "[CV 1/2] END learning_rate=0.15, max_depth=15, min_child_weight=3, n_estimators=750;, score=0.999 total time= 5.8min\n",
            "[CV 2/2] END learning_rate=0.15, max_depth=15, min_child_weight=3, n_estimators=750;, score=0.998 total time= 5.7min\n",
            "[CV 1/2] END learning_rate=0.05, max_depth=10, min_child_weight=7, n_estimators=750;, score=0.998 total time= 4.3min\n",
            "[CV 2/2] END learning_rate=0.05, max_depth=10, min_child_weight=7, n_estimators=750;, score=0.998 total time= 4.2min\n",
            "[CV 1/2] END learning_rate=0.15, max_depth=3, min_child_weight=1, n_estimators=500;, score=0.979 total time=  55.5s\n",
            "[CV 2/2] END learning_rate=0.15, max_depth=3, min_child_weight=1, n_estimators=500;, score=0.978 total time=  53.9s\n",
            "[CV 1/2] END learning_rate=0.1, max_depth=5, min_child_weight=5, n_estimators=2000;, score=0.998 total time= 5.7min\n",
            "[CV 2/2] END learning_rate=0.1, max_depth=5, min_child_weight=5, n_estimators=2000;, score=0.998 total time= 5.7min\n",
            "[CV 1/2] END learning_rate=0.1, max_depth=8, min_child_weight=7, n_estimators=100;, score=0.989 total time=  28.7s\n",
            "[CV 2/2] END learning_rate=0.1, max_depth=8, min_child_weight=7, n_estimators=100;, score=0.988 total time=  28.5s\n",
            "[CV 1/2] END learning_rate=0.5, max_depth=3, min_child_weight=3, n_estimators=750;, score=0.995 total time= 1.4min\n",
            "[CV 2/2] END learning_rate=0.5, max_depth=3, min_child_weight=3, n_estimators=750;, score=0.994 total time= 1.4min\n",
            "[CV 1/2] END learning_rate=0.2, max_depth=15, min_child_weight=1, n_estimators=100;, score=0.998 total time=  55.1s\n",
            "[CV 2/2] END learning_rate=0.2, max_depth=15, min_child_weight=1, n_estimators=100;, score=0.998 total time=  54.3s\n",
            "[CV 1/2] END learning_rate=0.1, max_depth=10, min_child_weight=1, n_estimators=750;, score=0.999 total time= 4.3min\n",
            "[CV 2/2] END learning_rate=0.1, max_depth=10, min_child_weight=1, n_estimators=750;, score=0.998 total time= 4.4min\n",
            "[CV 1/2] END learning_rate=0.15, max_depth=1, min_child_weight=5, n_estimators=100;, score=0.937 total time=   5.4s\n",
            "[CV 2/2] END learning_rate=0.15, max_depth=1, min_child_weight=5, n_estimators=100;, score=0.936 total time=   5.3s\n",
            "[CV 1/2] END learning_rate=0.25, max_depth=15, min_child_weight=5, n_estimators=750;, score=0.999 total time= 5.4min\n",
            "[CV 2/2] END learning_rate=0.25, max_depth=15, min_child_weight=5, n_estimators=750;, score=0.998 total time= 5.4min\n",
            "[CV 1/2] END learning_rate=0.3, max_depth=10, min_child_weight=7, n_estimators=500;, score=0.998 total time= 2.7min\n",
            "[CV 2/2] END learning_rate=0.3, max_depth=10, min_child_weight=7, n_estimators=500;, score=0.998 total time= 2.6min\n",
            "[CV 1/2] END learning_rate=0.5, max_depth=15, min_child_weight=1, n_estimators=2000;, score=0.999 total time= 9.4min\n",
            "[CV 2/2] END learning_rate=0.5, max_depth=15, min_child_weight=1, n_estimators=2000;, score=0.998 total time= 9.6min\n",
            "[CV 1/2] END learning_rate=0.1, max_depth=8, min_child_weight=7, n_estimators=1000;, score=0.998 total time= 4.5min\n",
            "[CV 2/2] END learning_rate=0.1, max_depth=8, min_child_weight=7, n_estimators=1000;, score=0.998 total time= 4.4min\n",
            "[CV 1/2] END learning_rate=0.1, max_depth=3, min_child_weight=1, n_estimators=500;, score=0.974 total time=  54.3s\n",
            "[CV 2/2] END learning_rate=0.1, max_depth=3, min_child_weight=1, n_estimators=500;, score=0.973 total time=  54.3s\n",
            "[CV 1/2] END learning_rate=0.05, max_depth=8, min_child_weight=5, n_estimators=1000;, score=0.998 total time= 4.6min\n",
            "[CV 2/2] END learning_rate=0.05, max_depth=8, min_child_weight=5, n_estimators=1000;, score=0.997 total time= 4.5min\n",
            "[CV 1/2] END learning_rate=0.2, max_depth=3, min_child_weight=1, n_estimators=100;, score=0.965 total time=  11.3s\n",
            "[CV 2/2] END learning_rate=0.2, max_depth=3, min_child_weight=1, n_estimators=100;, score=0.965 total time=  11.4s\n",
            "[CV 1/2] END learning_rate=0.05, max_depth=10, min_child_weight=5, n_estimators=500;, score=0.998 total time= 2.9min\n",
            "[CV 2/2] END learning_rate=0.05, max_depth=10, min_child_weight=5, n_estimators=500;, score=0.998 total time= 2.9min\n",
            "[CV 1/2] END learning_rate=0.25, max_depth=5, min_child_weight=1, n_estimators=1000;, score=0.998 total time= 2.9min\n",
            "[CV 2/2] END learning_rate=0.25, max_depth=5, min_child_weight=1, n_estimators=1000;, score=0.998 total time= 2.9min\n",
            "[CV 1/2] END learning_rate=0.01, max_depth=8, min_child_weight=7, n_estimators=100;, score=0.976 total time=  31.6s\n",
            "[CV 2/2] END learning_rate=0.01, max_depth=8, min_child_weight=7, n_estimators=100;, score=0.977 total time=  31.9s\n",
            "[CV 1/2] END learning_rate=0.05, max_depth=1, min_child_weight=1, n_estimators=100;, score=0.871 total time=   5.4s\n",
            "[CV 2/2] END learning_rate=0.05, max_depth=1, min_child_weight=1, n_estimators=100;, score=0.868 total time=   5.5s\n",
            "[CV 1/2] END learning_rate=0.1, max_depth=1, min_child_weight=5, n_estimators=100;, score=0.860 total time=   5.8s\n",
            "[CV 2/2] END learning_rate=0.1, max_depth=1, min_child_weight=5, n_estimators=100;, score=0.859 total time=   5.4s\n",
            "[CV 1/2] END learning_rate=0.5, max_depth=8, min_child_weight=5, n_estimators=750;, score=0.998 total time= 3.2min\n",
            "[CV 2/2] END learning_rate=0.5, max_depth=8, min_child_weight=5, n_estimators=750;, score=0.998 total time= 3.2min\n",
            "[CV 1/2] END learning_rate=0.05, max_depth=3, min_child_weight=5, n_estimators=1000;, score=0.973 total time= 1.8min\n",
            "[CV 2/2] END learning_rate=0.05, max_depth=3, min_child_weight=5, n_estimators=1000;, score=0.973 total time= 1.8min\n",
            "[CV 1/2] END learning_rate=0.15, max_depth=15, min_child_weight=3, n_estimators=500;, score=0.999 total time= 4.0min\n",
            "[CV 2/2] END learning_rate=0.15, max_depth=15, min_child_weight=3, n_estimators=500;, score=0.998 total time= 4.0min\n",
            "[CV 1/2] END learning_rate=0.05, max_depth=8, min_child_weight=5, n_estimators=750;, score=0.997 total time= 3.4min\n",
            "[CV 2/2] END learning_rate=0.05, max_depth=8, min_child_weight=5, n_estimators=750;, score=0.996 total time= 3.5min\n"
          ]
        },
        {
          "output_type": "execute_result",
          "data": {
            "text/plain": [
              "{'n_estimators': 750,\n",
              " 'min_child_weight': 1,\n",
              " 'max_depth': 10,\n",
              " 'learning_rate': 0.1}"
            ]
          },
          "metadata": {},
          "execution_count": 18
        }
      ],
      "source": [
        "# RandomizedSearchCV\n",
        "\n",
        "random_grid = {\n",
        "              \"n_estimators\": [100, 500, 750, 1000, 2000],\n",
        "              \"learning_rate\": [0.01, 0.05, 0.10, 0.15, 0.20, 0.25, 0.30, 0.50],\n",
        "              \"max_depth\": [1, 3, 5, 8, 10, 15],\n",
        "              \"min_child_weight\" : [1, 3, 5, 7]\n",
        "              }\n",
        "\n",
        "xgboost_random = RandomizedSearchCV(estimator = xgboost_clf, \n",
        "                                 param_distributions = random_grid, \n",
        "                                 n_iter = 50, \n",
        "                                 cv = 2, \n",
        "                                 verbose = 3, \n",
        "                                 scoring = 'recall',\n",
        "                                 random_state = 10)\n",
        "\n",
        "xgboost_random.fit(X_train, y_train)\n",
        "xgboost_random.best_params_"
      ]
    },
    {
      "cell_type": "code",
      "execution_count": null,
      "metadata": {
        "colab": {
          "base_uri": "https://localhost:8080/"
        },
        "id": "_HpIdVxB9jsX",
        "outputId": "a9cc78e6-f8ed-4eef-ad34-49d90f499ecb"
      },
      "outputs": [
        {
          "data": {
            "text/plain": [
              "{'n_estimators': 750,\n",
              " 'min_child_weight': 1,\n",
              " 'max_depth': 10,\n",
              " 'learning_rate': 0.1}"
            ]
          },
          "execution_count": 19,
          "metadata": {},
          "output_type": "execute_result"
        }
      ],
      "source": [
        "xgboost_random.best_params_"
      ]
    },
    {
      "cell_type": "code",
      "execution_count": null,
      "metadata": {
        "colab": {
          "base_uri": "https://localhost:8080/"
        },
        "id": "QFjaYQXV9lUw",
        "outputId": "ca80956f-cf12-41b3-99dd-6022b2f5d4cb"
      },
      "outputs": [
        {
          "output_type": "execute_result",
          "data": {
            "text/plain": [
              "0.9985852211230756"
            ]
          },
          "metadata": {},
          "execution_count": 20
        }
      ],
      "source": [
        "xgboost_random.best_score_"
      ]
    },
    {
      "cell_type": "markdown",
      "metadata": {
        "id": "p3iAdzksueOk"
      },
      "source": [
        "## LightGBM\n",
        "\n",
        "- Library: lightbgm"
      ]
    },
    {
      "cell_type": "code",
      "execution_count": null,
      "metadata": {
        "id": "R7yclluCuNDK"
      },
      "outputs": [],
      "source": [
        "# Training\n",
        "\n",
        "name = 'lightgbm_clf'\n",
        "\n",
        "train = pd.DataFrame(columns = ['n_estimators', 'learning_rate', 'max_depth', 'random_state'])\n",
        "train = train.append({'n_estimators': 1000, 'learning_rate':0.1, 'max_depth':3, 'random_state':10}, ignore_index=True)\n",
        "train = train.append({'n_estimators': 500, 'learning_rate':0.5, 'max_depth':1, 'random_state':10}, ignore_index=True)\n",
        "train = train.append({'n_estimators': 750, 'learning_rate':0.01, 'max_depth':10, 'random_state':10}, ignore_index=True)\n",
        "\n",
        "train = train.reset_index()\n",
        "for index, row in train.iterrows():\n",
        "    model_name = name + str(index)\n",
        "    lightgbm_clf = LGBMClassifier(n_estimators=int(row['n_estimators']), learning_rate=row['learning_rate'],\n",
        "                                max_depth=int(row['max_depth']), random_state=int(row['random_state']))\n",
        "    lightgbm_clf.fit(X_train, y_train)\n",
        "    \n",
        "    y_true = y_val\n",
        "    y_pred = lightgbm_clf.predict(X_val)\n",
        "    evaluation_results = evaluation_metrics(y_true, y_pred)   \n",
        "\n",
        "    models = models.append({'model_name': model_name, \n",
        "                            'model': lightgbm_clf, \n",
        "                            'parameters': lightgbm_clf.get_params()}, \n",
        "                            ignore_index=True)\n",
        "    \n",
        "    models_eval = models_eval.append({'model_name': model_name, \n",
        "                                      'confusion_matrix' : evaluation_results[0], \n",
        "                                      'accuracy': evaluation_results[1], \n",
        "                                      'recall' : evaluation_results[2], \n",
        "                                      'f1_score': evaluation_results[3], \n",
        "                                      'roc_auc_score': evaluation_results[4]}, \n",
        "                                      ignore_index=True)"
      ]
    },
    {
      "cell_type": "code",
      "execution_count": null,
      "metadata": {
        "colab": {
          "base_uri": "https://localhost:8080/",
          "height": 143
        },
        "id": "WnonpZxJuOM0",
        "outputId": "c42051ef-402d-4ab1-d9e5-01d37788d861"
      },
      "outputs": [
        {
          "data": {
            "text/html": [
              "\n",
              "  <div id=\"df-3c544f45-907f-43be-96bc-9aa920596ab9\">\n",
              "    <div class=\"colab-df-container\">\n",
              "      <div>\n",
              "<style scoped>\n",
              "    .dataframe tbody tr th:only-of-type {\n",
              "        vertical-align: middle;\n",
              "    }\n",
              "\n",
              "    .dataframe tbody tr th {\n",
              "        vertical-align: top;\n",
              "    }\n",
              "\n",
              "    .dataframe thead th {\n",
              "        text-align: right;\n",
              "    }\n",
              "</style>\n",
              "<table border=\"1\" class=\"dataframe\">\n",
              "  <thead>\n",
              "    <tr style=\"text-align: right;\">\n",
              "      <th></th>\n",
              "      <th>model_name</th>\n",
              "      <th>confusion_matrix</th>\n",
              "      <th>accuracy</th>\n",
              "      <th>recall</th>\n",
              "      <th>f1_score</th>\n",
              "      <th>roc_auc_score</th>\n",
              "    </tr>\n",
              "  </thead>\n",
              "  <tbody>\n",
              "    <tr>\n",
              "      <th>0</th>\n",
              "      <td>lightgbm_clf0</td>\n",
              "      <td>[16611, 457, 18, 104]</td>\n",
              "      <td>0.972368</td>\n",
              "      <td>0.852459</td>\n",
              "      <td>0.304539</td>\n",
              "      <td>0.912842</td>\n",
              "    </tr>\n",
              "    <tr>\n",
              "      <th>1</th>\n",
              "      <td>lightgbm_clf1</td>\n",
              "      <td>[15519, 1549, 17, 105]</td>\n",
              "      <td>0.908901</td>\n",
              "      <td>0.860656</td>\n",
              "      <td>0.118243</td>\n",
              "      <td>0.884951</td>\n",
              "    </tr>\n",
              "    <tr>\n",
              "      <th>2</th>\n",
              "      <td>lightgbm_clf2</td>\n",
              "      <td>[16345, 723, 15, 107]</td>\n",
              "      <td>0.957068</td>\n",
              "      <td>0.877049</td>\n",
              "      <td>0.224790</td>\n",
              "      <td>0.917345</td>\n",
              "    </tr>\n",
              "  </tbody>\n",
              "</table>\n",
              "</div>\n",
              "      <button class=\"colab-df-convert\" onclick=\"convertToInteractive('df-3c544f45-907f-43be-96bc-9aa920596ab9')\"\n",
              "              title=\"Convert this dataframe to an interactive table.\"\n",
              "              style=\"display:none;\">\n",
              "        \n",
              "  <svg xmlns=\"http://www.w3.org/2000/svg\" height=\"24px\"viewBox=\"0 0 24 24\"\n",
              "       width=\"24px\">\n",
              "    <path d=\"M0 0h24v24H0V0z\" fill=\"none\"/>\n",
              "    <path d=\"M18.56 5.44l.94 2.06.94-2.06 2.06-.94-2.06-.94-.94-2.06-.94 2.06-2.06.94zm-11 1L8.5 8.5l.94-2.06 2.06-.94-2.06-.94L8.5 2.5l-.94 2.06-2.06.94zm10 10l.94 2.06.94-2.06 2.06-.94-2.06-.94-.94-2.06-.94 2.06-2.06.94z\"/><path d=\"M17.41 7.96l-1.37-1.37c-.4-.4-.92-.59-1.43-.59-.52 0-1.04.2-1.43.59L10.3 9.45l-7.72 7.72c-.78.78-.78 2.05 0 2.83L4 21.41c.39.39.9.59 1.41.59.51 0 1.02-.2 1.41-.59l7.78-7.78 2.81-2.81c.8-.78.8-2.07 0-2.86zM5.41 20L4 18.59l7.72-7.72 1.47 1.35L5.41 20z\"/>\n",
              "  </svg>\n",
              "      </button>\n",
              "      \n",
              "  <style>\n",
              "    .colab-df-container {\n",
              "      display:flex;\n",
              "      flex-wrap:wrap;\n",
              "      gap: 12px;\n",
              "    }\n",
              "\n",
              "    .colab-df-convert {\n",
              "      background-color: #E8F0FE;\n",
              "      border: none;\n",
              "      border-radius: 50%;\n",
              "      cursor: pointer;\n",
              "      display: none;\n",
              "      fill: #1967D2;\n",
              "      height: 32px;\n",
              "      padding: 0 0 0 0;\n",
              "      width: 32px;\n",
              "    }\n",
              "\n",
              "    .colab-df-convert:hover {\n",
              "      background-color: #E2EBFA;\n",
              "      box-shadow: 0px 1px 2px rgba(60, 64, 67, 0.3), 0px 1px 3px 1px rgba(60, 64, 67, 0.15);\n",
              "      fill: #174EA6;\n",
              "    }\n",
              "\n",
              "    [theme=dark] .colab-df-convert {\n",
              "      background-color: #3B4455;\n",
              "      fill: #D2E3FC;\n",
              "    }\n",
              "\n",
              "    [theme=dark] .colab-df-convert:hover {\n",
              "      background-color: #434B5C;\n",
              "      box-shadow: 0px 1px 3px 1px rgba(0, 0, 0, 0.15);\n",
              "      filter: drop-shadow(0px 1px 2px rgba(0, 0, 0, 0.3));\n",
              "      fill: #FFFFFF;\n",
              "    }\n",
              "  </style>\n",
              "\n",
              "      <script>\n",
              "        const buttonEl =\n",
              "          document.querySelector('#df-3c544f45-907f-43be-96bc-9aa920596ab9 button.colab-df-convert');\n",
              "        buttonEl.style.display =\n",
              "          google.colab.kernel.accessAllowed ? 'block' : 'none';\n",
              "\n",
              "        async function convertToInteractive(key) {\n",
              "          const element = document.querySelector('#df-3c544f45-907f-43be-96bc-9aa920596ab9');\n",
              "          const dataTable =\n",
              "            await google.colab.kernel.invokeFunction('convertToInteractive',\n",
              "                                                     [key], {});\n",
              "          if (!dataTable) return;\n",
              "\n",
              "          const docLinkHtml = 'Like what you see? Visit the ' +\n",
              "            '<a target=\"_blank\" href=https://colab.research.google.com/notebooks/data_table.ipynb>data table notebook</a>'\n",
              "            + ' to learn more about interactive tables.';\n",
              "          element.innerHTML = '';\n",
              "          dataTable['output_type'] = 'display_data';\n",
              "          await google.colab.output.renderOutput(dataTable, element);\n",
              "          const docLink = document.createElement('div');\n",
              "          docLink.innerHTML = docLinkHtml;\n",
              "          element.appendChild(docLink);\n",
              "        }\n",
              "      </script>\n",
              "    </div>\n",
              "  </div>\n",
              "  "
            ],
            "text/plain": [
              "      model_name        confusion_matrix  accuracy    recall  f1_score  \\\n",
              "0  lightgbm_clf0   [16611, 457, 18, 104]  0.972368  0.852459  0.304539   \n",
              "1  lightgbm_clf1  [15519, 1549, 17, 105]  0.908901  0.860656  0.118243   \n",
              "2  lightgbm_clf2   [16345, 723, 15, 107]  0.957068  0.877049  0.224790   \n",
              "\n",
              "   roc_auc_score  \n",
              "0       0.912842  \n",
              "1       0.884951  \n",
              "2       0.917345  "
            ]
          },
          "metadata": {},
          "output_type": "display_data"
        }
      ],
      "source": [
        "display(models_eval)"
      ]
    },
    {
      "cell_type": "code",
      "execution_count": null,
      "metadata": {
        "colab": {
          "background_save": true,
          "base_uri": "https://localhost:8080/"
        },
        "id": "YbBdcURkuPRT",
        "outputId": "1488e2a1-678a-43bf-e6a1-9043d958a71e"
      },
      "outputs": [
        {
          "name": "stdout",
          "output_type": "stream",
          "text": [
            "Fitting 3 folds for each of 50 candidates, totalling 150 fits\n",
            "[CV 1/3] END learning_rate=0.05, max_depth=3, min_data_in_leaf=25, n_estimators=2000, num_leaves=500;, score=0.992 total time= 1.2min\n",
            "[CV 2/3] END learning_rate=0.05, max_depth=3, min_data_in_leaf=25, n_estimators=2000, num_leaves=500;, score=0.992 total time=  37.8s\n",
            "[CV 3/3] END learning_rate=0.05, max_depth=3, min_data_in_leaf=25, n_estimators=2000, num_leaves=500;, score=0.992 total time= 1.0min\n",
            "[CV 1/3] END learning_rate=0.3, max_depth=20, min_data_in_leaf=50, n_estimators=100, num_leaves=100;, score=0.999 total time=   5.5s\n",
            "[CV 2/3] END learning_rate=0.3, max_depth=20, min_data_in_leaf=50, n_estimators=100, num_leaves=100;, score=0.999 total time=   8.6s\n",
            "[CV 3/3] END learning_rate=0.3, max_depth=20, min_data_in_leaf=50, n_estimators=100, num_leaves=100;, score=0.999 total time=   4.0s\n",
            "[CV 1/3] END learning_rate=0.05, max_depth=3, min_data_in_leaf=100, n_estimators=2000, num_leaves=10;, score=0.992 total time=  42.8s\n",
            "[CV 2/3] END learning_rate=0.05, max_depth=3, min_data_in_leaf=100, n_estimators=2000, num_leaves=10;, score=0.992 total time=  50.0s\n",
            "[CV 3/3] END learning_rate=0.05, max_depth=3, min_data_in_leaf=100, n_estimators=2000, num_leaves=10;, score=0.992 total time=  41.7s\n",
            "[CV 1/3] END learning_rate=0.3, max_depth=20, min_data_in_leaf=50, n_estimators=100, num_leaves=31;, score=0.998 total time=   2.7s\n",
            "[CV 2/3] END learning_rate=0.3, max_depth=20, min_data_in_leaf=50, n_estimators=100, num_leaves=31;, score=0.998 total time=   2.8s\n",
            "[CV 3/3] END learning_rate=0.3, max_depth=20, min_data_in_leaf=50, n_estimators=100, num_leaves=31;, score=0.998 total time=   2.8s\n",
            "[CV 1/3] END learning_rate=0.2, max_depth=10, min_data_in_leaf=10, n_estimators=2000, num_leaves=500;, score=0.999 total time= 1.4min\n",
            "[CV 2/3] END learning_rate=0.2, max_depth=10, min_data_in_leaf=10, n_estimators=2000, num_leaves=500;, score=0.999 total time= 1.2min\n",
            "[CV 3/3] END learning_rate=0.2, max_depth=10, min_data_in_leaf=10, n_estimators=2000, num_leaves=500;, score=0.999 total time= 1.3min\n",
            "[CV 1/3] END learning_rate=0.05, max_depth=8, min_data_in_leaf=10, n_estimators=1000, num_leaves=50;, score=0.999 total time=  33.2s\n",
            "[CV 2/3] END learning_rate=0.05, max_depth=8, min_data_in_leaf=10, n_estimators=1000, num_leaves=50;, score=0.999 total time=  29.9s\n",
            "[CV 3/3] END learning_rate=0.05, max_depth=8, min_data_in_leaf=10, n_estimators=1000, num_leaves=50;, score=0.999 total time=  29.2s\n",
            "[CV 1/3] END learning_rate=0.3, max_depth=1, min_data_in_leaf=50, n_estimators=500, num_leaves=200;, score=0.945 total time=   6.1s\n",
            "[CV 2/3] END learning_rate=0.3, max_depth=1, min_data_in_leaf=50, n_estimators=500, num_leaves=200;, score=0.943 total time=   6.0s\n",
            "[CV 3/3] END learning_rate=0.3, max_depth=1, min_data_in_leaf=50, n_estimators=500, num_leaves=200;, score=0.941 total time=   6.1s\n",
            "[CV 1/3] END learning_rate=0.25, max_depth=5, min_data_in_leaf=50, n_estimators=500, num_leaves=50;, score=0.999 total time=  11.0s\n",
            "[CV 2/3] END learning_rate=0.25, max_depth=5, min_data_in_leaf=50, n_estimators=500, num_leaves=50;, score=0.999 total time=  11.0s\n",
            "[CV 3/3] END learning_rate=0.25, max_depth=5, min_data_in_leaf=50, n_estimators=500, num_leaves=50;, score=0.999 total time=  11.2s\n",
            "[CV 1/3] END learning_rate=0.2, max_depth=3, min_data_in_leaf=50, n_estimators=750, num_leaves=10;, score=0.995 total time=  12.3s\n",
            "[CV 2/3] END learning_rate=0.2, max_depth=3, min_data_in_leaf=50, n_estimators=750, num_leaves=10;, score=0.995 total time=  12.3s\n",
            "[CV 3/3] END learning_rate=0.2, max_depth=3, min_data_in_leaf=50, n_estimators=750, num_leaves=10;, score=0.995 total time=  14.6s\n",
            "[CV 1/3] END learning_rate=0.01, max_depth=3, min_data_in_leaf=25, n_estimators=2000, num_leaves=500;, score=0.975 total time=  45.6s\n",
            "[CV 2/3] END learning_rate=0.01, max_depth=3, min_data_in_leaf=25, n_estimators=2000, num_leaves=500;, score=0.975 total time= 1.0min\n",
            "[CV 3/3] END learning_rate=0.01, max_depth=3, min_data_in_leaf=25, n_estimators=2000, num_leaves=500;, score=0.973 total time=  39.1s\n",
            "[CV 1/3] END learning_rate=0.1, max_depth=5, min_data_in_leaf=20, n_estimators=750, num_leaves=31;, score=0.999 total time=  16.9s\n",
            "[CV 2/3] END learning_rate=0.1, max_depth=5, min_data_in_leaf=20, n_estimators=750, num_leaves=31;, score=0.998 total time=  16.8s\n",
            "[CV 3/3] END learning_rate=0.1, max_depth=5, min_data_in_leaf=20, n_estimators=750, num_leaves=31;, score=0.998 total time=  16.9s\n",
            "[CV 1/3] END learning_rate=0.1, max_depth=1, min_data_in_leaf=10, n_estimators=100, num_leaves=50;, score=0.941 total time=   1.6s\n",
            "[CV 2/3] END learning_rate=0.1, max_depth=1, min_data_in_leaf=10, n_estimators=100, num_leaves=50;, score=0.943 total time=   1.6s\n",
            "[CV 3/3] END learning_rate=0.1, max_depth=1, min_data_in_leaf=10, n_estimators=100, num_leaves=50;, score=0.940 total time=   1.6s\n",
            "[CV 1/3] END learning_rate=0.15, max_depth=3, min_data_in_leaf=50, n_estimators=2000, num_leaves=50;, score=0.997 total time=  34.7s\n",
            "[CV 2/3] END learning_rate=0.15, max_depth=3, min_data_in_leaf=50, n_estimators=2000, num_leaves=50;, score=0.998 total time=  53.9s\n",
            "[CV 3/3] END learning_rate=0.15, max_depth=3, min_data_in_leaf=50, n_estimators=2000, num_leaves=50;, score=0.998 total time=  39.0s\n",
            "[CV 1/3] END learning_rate=0.3, max_depth=20, min_data_in_leaf=50, n_estimators=100, num_leaves=10;, score=0.990 total time=   2.2s\n",
            "[CV 2/3] END learning_rate=0.3, max_depth=20, min_data_in_leaf=50, n_estimators=100, num_leaves=10;, score=0.990 total time=   2.2s\n",
            "[CV 3/3] END learning_rate=0.3, max_depth=20, min_data_in_leaf=50, n_estimators=100, num_leaves=10;, score=0.990 total time=   2.3s\n",
            "[CV 1/3] END learning_rate=0.01, max_depth=8, min_data_in_leaf=100, n_estimators=100, num_leaves=200;, score=0.985 total time=   4.2s\n",
            "[CV 2/3] END learning_rate=0.01, max_depth=8, min_data_in_leaf=100, n_estimators=100, num_leaves=200;, score=0.983 total time=   4.1s\n",
            "[CV 3/3] END learning_rate=0.01, max_depth=8, min_data_in_leaf=100, n_estimators=100, num_leaves=200;, score=0.985 total time=   4.1s\n",
            "[CV 1/3] END learning_rate=0.5, max_depth=10, min_data_in_leaf=25, n_estimators=2000, num_leaves=50;, score=0.724 total time=  27.0s\n",
            "[CV 2/3] END learning_rate=0.5, max_depth=10, min_data_in_leaf=25, n_estimators=2000, num_leaves=50;, score=0.474 total time=  26.1s\n",
            "[CV 3/3] END learning_rate=0.5, max_depth=10, min_data_in_leaf=25, n_estimators=2000, num_leaves=50;, score=0.841 total time=  25.5s\n",
            "[CV 1/3] END learning_rate=0.3, max_depth=8, min_data_in_leaf=100, n_estimators=2000, num_leaves=500;, score=0.999 total time= 1.0min\n",
            "[CV 2/3] END learning_rate=0.3, max_depth=8, min_data_in_leaf=100, n_estimators=2000, num_leaves=500;, score=0.999 total time= 1.0min\n",
            "[CV 3/3] END learning_rate=0.3, max_depth=8, min_data_in_leaf=100, n_estimators=2000, num_leaves=500;, score=0.999 total time=  58.2s\n",
            "[CV 1/3] END learning_rate=0.01, max_depth=5, min_data_in_leaf=50, n_estimators=1000, num_leaves=31;, score=0.984 total time=  23.5s\n",
            "[CV 2/3] END learning_rate=0.01, max_depth=5, min_data_in_leaf=50, n_estimators=1000, num_leaves=31;, score=0.982 total time=  23.4s\n",
            "[CV 3/3] END learning_rate=0.01, max_depth=5, min_data_in_leaf=50, n_estimators=1000, num_leaves=31;, score=0.984 total time=  23.6s\n",
            "[CV 1/3] END learning_rate=0.05, max_depth=5, min_data_in_leaf=20, n_estimators=2000, num_leaves=50;, score=0.999 total time=  49.6s\n",
            "[CV 2/3] END learning_rate=0.05, max_depth=5, min_data_in_leaf=20, n_estimators=2000, num_leaves=50;, score=0.999 total time=  51.5s\n",
            "[CV 3/3] END learning_rate=0.05, max_depth=5, min_data_in_leaf=20, n_estimators=2000, num_leaves=50;, score=0.999 total time=  48.8s\n",
            "[CV 1/3] END learning_rate=0.01, max_depth=10, min_data_in_leaf=20, n_estimators=1000, num_leaves=500;, score=0.999 total time= 1.0min\n",
            "[CV 2/3] END learning_rate=0.01, max_depth=10, min_data_in_leaf=20, n_estimators=1000, num_leaves=500;, score=0.998 total time= 1.0min\n",
            "[CV 3/3] END learning_rate=0.01, max_depth=10, min_data_in_leaf=20, n_estimators=1000, num_leaves=500;, score=0.999 total time=  58.9s\n",
            "[CV 1/3] END learning_rate=0.15, max_depth=15, min_data_in_leaf=20, n_estimators=100, num_leaves=50;, score=0.998 total time=   3.4s\n",
            "[CV 2/3] END learning_rate=0.15, max_depth=15, min_data_in_leaf=20, n_estimators=100, num_leaves=50;, score=0.998 total time=   3.3s\n",
            "[CV 3/3] END learning_rate=0.15, max_depth=15, min_data_in_leaf=20, n_estimators=100, num_leaves=50;, score=0.998 total time=   3.3s\n",
            "[CV 1/3] END learning_rate=0.05, max_depth=5, min_data_in_leaf=10, n_estimators=750, num_leaves=200;, score=0.995 total time=  17.0s\n",
            "[CV 2/3] END learning_rate=0.05, max_depth=5, min_data_in_leaf=10, n_estimators=750, num_leaves=200;, score=0.996 total time=  17.2s\n",
            "[CV 3/3] END learning_rate=0.05, max_depth=5, min_data_in_leaf=10, n_estimators=750, num_leaves=200;, score=0.996 total time=  17.1s\n",
            "[CV 1/3] END learning_rate=0.5, max_depth=20, min_data_in_leaf=20, n_estimators=100, num_leaves=31;, score=0.995 total time=   2.7s\n",
            "[CV 2/3] END learning_rate=0.5, max_depth=20, min_data_in_leaf=20, n_estimators=100, num_leaves=31;, score=0.994 total time=   2.6s\n",
            "[CV 3/3] END learning_rate=0.5, max_depth=20, min_data_in_leaf=20, n_estimators=100, num_leaves=31;, score=0.995 total time=   2.6s\n",
            "[CV 1/3] END learning_rate=0.1, max_depth=10, min_data_in_leaf=10, n_estimators=100, num_leaves=10;, score=0.980 total time=   2.4s\n",
            "[CV 2/3] END learning_rate=0.1, max_depth=10, min_data_in_leaf=10, n_estimators=100, num_leaves=10;, score=0.977 total time=   2.4s\n",
            "[CV 3/3] END learning_rate=0.1, max_depth=10, min_data_in_leaf=10, n_estimators=100, num_leaves=10;, score=0.977 total time=   2.4s\n",
            "[CV 1/3] END learning_rate=0.5, max_depth=1, min_data_in_leaf=100, n_estimators=1000, num_leaves=31;, score=0.956 total time=  11.4s\n",
            "[CV 2/3] END learning_rate=0.5, max_depth=1, min_data_in_leaf=100, n_estimators=1000, num_leaves=31;, score=0.955 total time=  11.5s\n",
            "[CV 3/3] END learning_rate=0.5, max_depth=1, min_data_in_leaf=100, n_estimators=1000, num_leaves=31;, score=0.954 total time=  11.5s\n",
            "[CV 1/3] END learning_rate=0.05, max_depth=15, min_data_in_leaf=10, n_estimators=2000, num_leaves=200;, score=0.999 total time= 1.8min\n",
            "[CV 2/3] END learning_rate=0.05, max_depth=15, min_data_in_leaf=10, n_estimators=2000, num_leaves=200;, score=0.999 total time= 1.7min\n",
            "[CV 3/3] END learning_rate=0.05, max_depth=15, min_data_in_leaf=10, n_estimators=2000, num_leaves=200;, score=0.998 total time= 1.7min\n",
            "[CV 1/3] END learning_rate=0.01, max_depth=3, min_data_in_leaf=100, n_estimators=750, num_leaves=31;, score=0.956 total time=  13.1s\n",
            "[CV 2/3] END learning_rate=0.01, max_depth=3, min_data_in_leaf=100, n_estimators=750, num_leaves=31;, score=0.951 total time=  13.1s\n",
            "[CV 3/3] END learning_rate=0.01, max_depth=3, min_data_in_leaf=100, n_estimators=750, num_leaves=31;, score=0.950 total time=  13.2s\n",
            "[CV 1/3] END learning_rate=0.5, max_depth=20, min_data_in_leaf=20, n_estimators=100, num_leaves=500;, score=0.999 total time=   6.7s\n",
            "[CV 2/3] END learning_rate=0.5, max_depth=20, min_data_in_leaf=20, n_estimators=100, num_leaves=500;, score=0.999 total time=   6.7s\n",
            "[CV 3/3] END learning_rate=0.5, max_depth=20, min_data_in_leaf=20, n_estimators=100, num_leaves=500;, score=0.999 total time=   6.7s\n",
            "[CV 1/3] END learning_rate=0.3, max_depth=15, min_data_in_leaf=10, n_estimators=750, num_leaves=31;, score=0.954 total time=  16.6s\n",
            "[CV 2/3] END learning_rate=0.3, max_depth=15, min_data_in_leaf=10, n_estimators=750, num_leaves=31;, score=0.936 total time=  17.0s\n",
            "[CV 3/3] END learning_rate=0.3, max_depth=15, min_data_in_leaf=10, n_estimators=750, num_leaves=31;, score=0.943 total time=  16.4s\n",
            "[CV 1/3] END learning_rate=0.1, max_depth=8, min_data_in_leaf=50, n_estimators=750, num_leaves=50;, score=0.999 total time=  21.6s\n",
            "[CV 2/3] END learning_rate=0.1, max_depth=8, min_data_in_leaf=50, n_estimators=750, num_leaves=50;, score=0.999 total time=  21.9s\n",
            "[CV 3/3] END learning_rate=0.1, max_depth=8, min_data_in_leaf=50, n_estimators=750, num_leaves=50;, score=0.999 total time=  21.7s\n",
            "[CV 1/3] END learning_rate=0.2, max_depth=3, min_data_in_leaf=100, n_estimators=1000, num_leaves=100;, score=0.996 total time=  16.7s\n",
            "[CV 2/3] END learning_rate=0.2, max_depth=3, min_data_in_leaf=100, n_estimators=1000, num_leaves=100;, score=0.997 total time=  16.6s\n",
            "[CV 3/3] END learning_rate=0.2, max_depth=3, min_data_in_leaf=100, n_estimators=1000, num_leaves=100;, score=0.997 total time=  16.5s\n",
            "[CV 1/3] END learning_rate=0.5, max_depth=3, min_data_in_leaf=25, n_estimators=100, num_leaves=31;, score=0.985 total time=   2.1s\n",
            "[CV 2/3] END learning_rate=0.5, max_depth=3, min_data_in_leaf=25, n_estimators=100, num_leaves=31;, score=0.986 total time=   2.1s\n",
            "[CV 3/3] END learning_rate=0.5, max_depth=3, min_data_in_leaf=25, n_estimators=100, num_leaves=31;, score=0.984 total time=   2.1s\n",
            "[CV 1/3] END learning_rate=0.25, max_depth=20, min_data_in_leaf=10, n_estimators=500, num_leaves=100;, score=0.814 total time=  16.7s\n",
            "[CV 2/3] END learning_rate=0.25, max_depth=20, min_data_in_leaf=10, n_estimators=500, num_leaves=100;, score=0.375 total time=  15.4s\n",
            "[CV 3/3] END learning_rate=0.25, max_depth=20, min_data_in_leaf=10, n_estimators=500, num_leaves=100;, score=0.805 total time=  16.9s\n",
            "[CV 1/3] END learning_rate=0.15, max_depth=8, min_data_in_leaf=10, n_estimators=100, num_leaves=50;, score=0.996 total time=   3.3s\n",
            "[CV 2/3] END learning_rate=0.15, max_depth=8, min_data_in_leaf=10, n_estimators=100, num_leaves=50;, score=0.997 total time=   3.3s\n",
            "[CV 3/3] END learning_rate=0.15, max_depth=8, min_data_in_leaf=10, n_estimators=100, num_leaves=50;, score=0.996 total time=   3.3s\n",
            "[CV 1/3] END learning_rate=0.01, max_depth=10, min_data_in_leaf=20, n_estimators=100, num_leaves=10;, score=0.958 total time=   2.5s\n",
            "[CV 2/3] END learning_rate=0.01, max_depth=10, min_data_in_leaf=20, n_estimators=100, num_leaves=10;, score=0.959 total time=   2.5s\n",
            "[CV 3/3] END learning_rate=0.01, max_depth=10, min_data_in_leaf=20, n_estimators=100, num_leaves=10;, score=0.958 total time=   2.5s\n",
            "[CV 1/3] END learning_rate=0.2, max_depth=20, min_data_in_leaf=50, n_estimators=100, num_leaves=31;, score=0.997 total time=   2.9s\n",
            "[CV 2/3] END learning_rate=0.2, max_depth=20, min_data_in_leaf=50, n_estimators=100, num_leaves=31;, score=0.997 total time=   2.9s\n",
            "[CV 3/3] END learning_rate=0.2, max_depth=20, min_data_in_leaf=50, n_estimators=100, num_leaves=31;, score=0.997 total time=   2.8s\n",
            "[CV 1/3] END learning_rate=0.05, max_depth=10, min_data_in_leaf=20, n_estimators=100, num_leaves=31;, score=0.985 total time=   3.2s\n",
            "[CV 2/3] END learning_rate=0.05, max_depth=10, min_data_in_leaf=20, n_estimators=100, num_leaves=31;, score=0.983 total time=   3.2s\n",
            "[CV 3/3] END learning_rate=0.05, max_depth=10, min_data_in_leaf=20, n_estimators=100, num_leaves=31;, score=0.983 total time=   3.2s\n",
            "[CV 1/3] END learning_rate=0.05, max_depth=1, min_data_in_leaf=50, n_estimators=1000, num_leaves=31;, score=0.933 total time=  11.8s\n",
            "[CV 2/3] END learning_rate=0.05, max_depth=1, min_data_in_leaf=50, n_estimators=1000, num_leaves=31;, score=0.934 total time=  11.7s\n",
            "[CV 3/3] END learning_rate=0.05, max_depth=1, min_data_in_leaf=50, n_estimators=1000, num_leaves=31;, score=0.935 total time=  11.9s\n",
            "[CV 1/3] END learning_rate=0.3, max_depth=8, min_data_in_leaf=50, n_estimators=1000, num_leaves=31;, score=0.698 total time=  21.1s\n",
            "[CV 2/3] END learning_rate=0.3, max_depth=8, min_data_in_leaf=50, n_estimators=1000, num_leaves=31;, score=0.999 total time=  23.4s\n",
            "[CV 3/3] END learning_rate=0.3, max_depth=8, min_data_in_leaf=50, n_estimators=1000, num_leaves=31;, score=0.999 total time=  23.1s\n",
            "[CV 1/3] END learning_rate=0.3, max_depth=10, min_data_in_leaf=20, n_estimators=750, num_leaves=100;, score=0.999 total time=  27.6s\n",
            "[CV 2/3] END learning_rate=0.3, max_depth=10, min_data_in_leaf=20, n_estimators=750, num_leaves=100;, score=0.999 total time=  26.6s\n",
            "[CV 3/3] END learning_rate=0.3, max_depth=10, min_data_in_leaf=20, n_estimators=750, num_leaves=100;, score=0.814 total time=  16.4s\n",
            "[CV 1/3] END learning_rate=0.1, max_depth=10, min_data_in_leaf=50, n_estimators=1000, num_leaves=50;, score=0.999 total time=  28.8s\n",
            "[CV 2/3] END learning_rate=0.1, max_depth=10, min_data_in_leaf=50, n_estimators=1000, num_leaves=50;, score=0.999 total time=  29.1s\n",
            "[CV 3/3] END learning_rate=0.1, max_depth=10, min_data_in_leaf=50, n_estimators=1000, num_leaves=50;, score=0.999 total time=  28.5s\n",
            "[CV 1/3] END learning_rate=0.01, max_depth=1, min_data_in_leaf=20, n_estimators=750, num_leaves=50;, score=0.861 total time=   8.8s\n",
            "[CV 2/3] END learning_rate=0.01, max_depth=1, min_data_in_leaf=20, n_estimators=750, num_leaves=50;, score=0.865 total time=   8.8s\n",
            "[CV 3/3] END learning_rate=0.01, max_depth=1, min_data_in_leaf=20, n_estimators=750, num_leaves=50;, score=0.869 total time=   8.8s\n",
            "[CV 1/3] END learning_rate=0.1, max_depth=8, min_data_in_leaf=100, n_estimators=1000, num_leaves=500;, score=0.999 total time=  35.4s\n",
            "[CV 2/3] END learning_rate=0.1, max_depth=8, min_data_in_leaf=100, n_estimators=1000, num_leaves=500;, score=0.999 total time=  35.6s\n",
            "[CV 3/3] END learning_rate=0.1, max_depth=8, min_data_in_leaf=100, n_estimators=1000, num_leaves=500;, score=0.999 total time=  35.3s\n",
            "[CV 1/3] END learning_rate=0.05, max_depth=20, min_data_in_leaf=50, n_estimators=750, num_leaves=10;, score=0.992 total time=  13.5s\n",
            "[CV 2/3] END learning_rate=0.05, max_depth=20, min_data_in_leaf=50, n_estimators=750, num_leaves=10;, score=0.992 total time=  13.5s\n",
            "[CV 3/3] END learning_rate=0.05, max_depth=20, min_data_in_leaf=50, n_estimators=750, num_leaves=10;, score=0.992 total time=  13.7s\n",
            "[CV 1/3] END learning_rate=0.5, max_depth=3, min_data_in_leaf=10, n_estimators=750, num_leaves=10;, score=0.877 total time=  12.0s\n",
            "[CV 2/3] END learning_rate=0.5, max_depth=3, min_data_in_leaf=10, n_estimators=750, num_leaves=10;, score=0.994 total time=  12.2s\n",
            "[CV 3/3] END learning_rate=0.5, max_depth=3, min_data_in_leaf=10, n_estimators=750, num_leaves=10;, score=0.959 total time=  12.0s\n",
            "[CV 1/3] END learning_rate=0.25, max_depth=10, min_data_in_leaf=100, n_estimators=500, num_leaves=10;, score=0.999 total time=   8.5s\n",
            "[CV 2/3] END learning_rate=0.25, max_depth=10, min_data_in_leaf=100, n_estimators=500, num_leaves=10;, score=0.998 total time=   8.7s\n",
            "[CV 3/3] END learning_rate=0.25, max_depth=10, min_data_in_leaf=100, n_estimators=500, num_leaves=10;, score=0.998 total time=   8.6s\n",
            "[CV 1/3] END learning_rate=0.5, max_depth=1, min_data_in_leaf=10, n_estimators=100, num_leaves=10;, score=0.934 total time=   1.5s\n",
            "[CV 2/3] END learning_rate=0.5, max_depth=1, min_data_in_leaf=10, n_estimators=100, num_leaves=10;, score=0.934 total time=   1.5s\n",
            "[CV 3/3] END learning_rate=0.5, max_depth=1, min_data_in_leaf=10, n_estimators=100, num_leaves=10;, score=0.932 total time=   1.5s\n",
            "[CV 1/3] END learning_rate=0.01, max_depth=5, min_data_in_leaf=25, n_estimators=100, num_leaves=10;, score=0.958 total time=   2.5s\n",
            "[CV 2/3] END learning_rate=0.01, max_depth=5, min_data_in_leaf=25, n_estimators=100, num_leaves=10;, score=0.959 total time=   2.5s\n",
            "[CV 3/3] END learning_rate=0.01, max_depth=5, min_data_in_leaf=25, n_estimators=100, num_leaves=10;, score=0.958 total time=   2.5s\n",
            "[CV 1/3] END learning_rate=0.1, max_depth=10, min_data_in_leaf=10, n_estimators=100, num_leaves=100;, score=0.998 total time=   3.9s\n",
            "[CV 2/3] END learning_rate=0.1, max_depth=10, min_data_in_leaf=10, n_estimators=100, num_leaves=100;, score=0.998 total time=   4.1s\n",
            "[CV 3/3] END learning_rate=0.1, max_depth=10, min_data_in_leaf=10, n_estimators=100, num_leaves=100;, score=0.998 total time=   3.9s\n",
            "[CV 1/3] END learning_rate=0.1, max_depth=20, min_data_in_leaf=25, n_estimators=500, num_leaves=100;, score=0.999 total time=  18.0s\n",
            "[CV 2/3] END learning_rate=0.1, max_depth=20, min_data_in_leaf=25, n_estimators=500, num_leaves=100;, score=0.999 total time=  18.6s\n",
            "[CV 3/3] END learning_rate=0.1, max_depth=20, min_data_in_leaf=25, n_estimators=500, num_leaves=100;, score=0.999 total time=  18.5s\n"
          ]
        },
        {
          "data": {
            "text/plain": [
              "{'num_leaves': 50,\n",
              " 'n_estimators': 1000,\n",
              " 'min_data_in_leaf': 10,\n",
              " 'max_depth': 8,\n",
              " 'learning_rate': 0.05}"
            ]
          },
          "execution_count": 17,
          "metadata": {},
          "output_type": "execute_result"
        }
      ],
      "source": [
        "# RandomizedSearchCV\n",
        "\n",
        "random_grid = {\n",
        "              \"n_estimators\": [100, 500, 750, 1000, 2000],\n",
        "              \"learning_rate\": [0.01, 0.05, 0.10, 0.15, 0.20, 0.25, 0.30, 0.50],\n",
        "              \"max_depth\": [1, 3, 5, 8, 10, 15, 20],\n",
        "              \"num_leaves\": [10, 31, 50, 100, 200, 500],\n",
        "              \"min_data_in_leaf\": [10, 20, 25, 50, 100]\n",
        "              }\n",
        "\n",
        "lightgbm_random = RandomizedSearchCV(estimator = lightgbm_clf, \n",
        "                                 param_distributions = random_grid, \n",
        "                                 n_iter = 50, \n",
        "                                 cv = 3, \n",
        "                                 verbose = 3, \n",
        "                                 scoring = 'recall',\n",
        "                                 random_state = 10)\n",
        "\n",
        "lightgbm_random.fit(X_train, y_train)\n",
        "lightgbm_random.best_params_"
      ]
    },
    {
      "cell_type": "code",
      "execution_count": null,
      "metadata": {
        "colab": {
          "background_save": true
        },
        "id": "3Buvk-1HuQgN",
        "outputId": "ddff6185-135f-4679-e6cf-37c9216ee054"
      },
      "outputs": [
        {
          "data": {
            "text/plain": [
              "{'num_leaves': 50,\n",
              " 'n_estimators': 1000,\n",
              " 'min_data_in_leaf': 10,\n",
              " 'max_depth': 8,\n",
              " 'learning_rate': 0.05}"
            ]
          },
          "execution_count": 18,
          "metadata": {},
          "output_type": "execute_result"
        }
      ],
      "source": [
        "lightgbm_random.best_params_"
      ]
    },
    {
      "cell_type": "code",
      "execution_count": null,
      "metadata": {
        "colab": {
          "background_save": true
        },
        "id": "IwXt3LshuRtA",
        "outputId": "8f6717f9-0ad4-45be-e519-12c87557b057"
      },
      "outputs": [
        {
          "data": {
            "text/plain": [
              "0.9988491168304646"
            ]
          },
          "execution_count": 19,
          "metadata": {},
          "output_type": "execute_result"
        }
      ],
      "source": [
        "lightgbm_random.best_score_"
      ]
    },
    {
      "cell_type": "markdown",
      "metadata": {
        "id": "QpthCMRHuhWe"
      },
      "source": [
        "## Artificial Neural Network\n",
        "\n",
        "- Library: Keras, Tensorflow"
      ]
    },
    {
      "cell_type": "code",
      "execution_count": null,
      "metadata": {
        "colab": {
          "base_uri": "https://localhost:8080/"
        },
        "id": "fJ6kS48GZVH3",
        "outputId": "d7d3457d-8a9f-43fb-849e-938cb32fc63f"
      },
      "outputs": [
        {
          "name": "stdout",
          "output_type": "stream",
          "text": [
            "2.9.2\n",
            "2.9.0\n"
          ]
        }
      ],
      "source": [
        "tf.random.set_seed(10)\n",
        "\n",
        "print(tf.__version__)\n",
        "print(keras.__version__)"
      ]
    },
    {
      "cell_type": "markdown",
      "metadata": {
        "id": "vivojhGnfeEz"
      },
      "source": [
        "#### Experiment 1: Base Model"
      ]
    },
    {
      "cell_type": "code",
      "execution_count": null,
      "metadata": {
        "colab": {
          "base_uri": "https://localhost:8080/"
        },
        "id": "XO7_fl_pfaEP",
        "outputId": "cc13c99f-a450-474b-82fb-a84750df7580"
      },
      "outputs": [
        {
          "name": "stdout",
          "output_type": "stream",
          "text": [
            "<class 'pandas.core.frame.DataFrame'>\n",
            "Int64Index: 272834 entries, 32349 to 236669\n",
            "Data columns (total 13 columns):\n",
            " #   Column      Non-Null Count   Dtype  \n",
            "---  ------      --------------   -----  \n",
            " 0   LATITUDE    272834 non-null  float64\n",
            " 1   LONGITUDE   272834 non-null  float64\n",
            " 2   ACQ_DATE    272834 non-null  float64\n",
            " 3   ACQ_TIME    272834 non-null  float64\n",
            " 4   OPEN_TIME   272834 non-null  float64\n",
            " 5   CLOSE_TIME  272834 non-null  float64\n",
            " 6   CO_MOL/M2   272834 non-null  float64\n",
            " 7   SO2_MOL/M2  272834 non-null  float64\n",
            " 8   NO2_MOL/M2  272834 non-null  float64\n",
            " 9   O3_MOL/M2   272834 non-null  float64\n",
            " 10  LOCATION    272834 non-null  float64\n",
            " 11  INSTRUMENT  272834 non-null  int64  \n",
            " 12  DRY_SEASON  272834 non-null  int64  \n",
            "dtypes: float64(11), int64(2)\n",
            "memory usage: 29.1 MB\n"
          ]
        }
      ],
      "source": [
        "X_train.info()"
      ]
    },
    {
      "cell_type": "code",
      "execution_count": null,
      "metadata": {
        "colab": {
          "base_uri": "https://localhost:8080/"
        },
        "id": "OVpParvzfhtl",
        "outputId": "8b96eb1c-05a3-466b-8315-9724d2d03187"
      },
      "outputs": [
        {
          "name": "stdout",
          "output_type": "stream",
          "text": [
            "Model: \"sequential_1\"\n",
            "_________________________________________________________________\n",
            " Layer (type)                Output Shape              Param #   \n",
            "=================================================================\n",
            " dense_4 (Dense)             (None, 15)                210       \n",
            "                                                                 \n",
            " dense_5 (Dense)             (None, 10)                160       \n",
            "                                                                 \n",
            " dense_6 (Dense)             (None, 1)                 11        \n",
            "                                                                 \n",
            "=================================================================\n",
            "Total params: 381\n",
            "Trainable params: 381\n",
            "Non-trainable params: 0\n",
            "_________________________________________________________________\n"
          ]
        }
      ],
      "source": [
        "ann_clf = keras.models.Sequential([\n",
        "    keras.layers.Dense(15, input_shape=(X_train.shape[1],), activation='relu'), # No bias term\n",
        "    # keras.layers.Dense(10, activation='relu'), \n",
        "    keras.layers.Dense(10, activation='relu'), \n",
        "    keras.layers.Dense(1, activation='sigmoid')\n",
        "])\n",
        "\n",
        "ann_clf.summary()"
      ]
    },
    {
      "cell_type": "code",
      "execution_count": null,
      "metadata": {
        "colab": {
          "base_uri": "https://localhost:8080/",
          "height": 69
        },
        "id": "zfmrnfPOhhPr",
        "outputId": "d8cec5f1-71a1-4a11-9377-6934f04f1b34"
      },
      "outputs": [
        {
          "data": {
            "text/plain": [
              "0    136417\n",
              "1    136417\n",
              "Name: FIRE_OCCURRED, dtype: int64"
            ]
          },
          "metadata": {},
          "output_type": "display_data"
        }
      ],
      "source": [
        "display(y_train.value_counts())"
      ]
    },
    {
      "cell_type": "code",
      "execution_count": null,
      "metadata": {
        "colab": {
          "base_uri": "https://localhost:8080/",
          "height": 69
        },
        "id": "ZN18brcTbRwx",
        "outputId": "7fb8219b-0fe1-402d-cf2a-16974e13a1e8"
      },
      "outputs": [
        {
          "data": {
            "text/plain": [
              "0    17068\n",
              "1      122\n",
              "Name: FIRE_OCCURRED, dtype: int64"
            ]
          },
          "metadata": {},
          "output_type": "display_data"
        }
      ],
      "source": [
        "display(y_val.value_counts())"
      ]
    },
    {
      "cell_type": "code",
      "execution_count": null,
      "metadata": {
        "colab": {
          "base_uri": "https://localhost:8080/"
        },
        "id": "bK1SXteMfln5",
        "outputId": "87205c9f-489d-4b7d-ca0d-890b4f9f3152"
      },
      "outputs": [
        {
          "name": "stdout",
          "output_type": "stream",
          "text": [
            "Epoch 1/50\n",
            "27284/27284 [==============================] - 65s 2ms/step - loss: 0.2181 - accuracy: 0.9165 - val_loss: 0.2238 - val_accuracy: 0.9022\n",
            "Epoch 2/50\n",
            "27284/27284 [==============================] - 62s 2ms/step - loss: 0.1662 - accuracy: 0.9384 - val_loss: 0.1575 - val_accuracy: 0.9315\n",
            "Epoch 3/50\n",
            "27284/27284 [==============================] - 63s 2ms/step - loss: 0.1510 - accuracy: 0.9461 - val_loss: 0.1867 - val_accuracy: 0.9255\n",
            "Epoch 4/50\n",
            "27284/27284 [==============================] - 63s 2ms/step - loss: 0.1432 - accuracy: 0.9501 - val_loss: 0.1677 - val_accuracy: 0.9340\n",
            "Epoch 5/50\n",
            "27284/27284 [==============================] - 61s 2ms/step - loss: 0.1384 - accuracy: 0.9528 - val_loss: 0.1722 - val_accuracy: 0.9329\n",
            "Epoch 6/50\n",
            "27284/27284 [==============================] - 61s 2ms/step - loss: 0.1354 - accuracy: 0.9540 - val_loss: 0.1603 - val_accuracy: 0.9375\n",
            "Epoch 7/50\n",
            "27284/27284 [==============================] - 64s 2ms/step - loss: 0.1329 - accuracy: 0.9551 - val_loss: 0.1606 - val_accuracy: 0.9382\n",
            "Epoch 8/50\n",
            "27284/27284 [==============================] - 63s 2ms/step - loss: 0.1306 - accuracy: 0.9557 - val_loss: 0.1643 - val_accuracy: 0.9343\n",
            "Epoch 9/50\n",
            "27284/27284 [==============================] - 61s 2ms/step - loss: 0.1292 - accuracy: 0.9563 - val_loss: 0.1495 - val_accuracy: 0.9426\n",
            "Epoch 10/50\n",
            "27284/27284 [==============================] - 61s 2ms/step - loss: 0.1279 - accuracy: 0.9567 - val_loss: 0.1551 - val_accuracy: 0.9396\n",
            "Epoch 11/50\n",
            "27284/27284 [==============================] - 61s 2ms/step - loss: 0.1272 - accuracy: 0.9573 - val_loss: 0.1595 - val_accuracy: 0.9387\n",
            "Epoch 12/50\n",
            "27284/27284 [==============================] - 61s 2ms/step - loss: 0.1264 - accuracy: 0.9575 - val_loss: 0.1379 - val_accuracy: 0.9450\n",
            "Epoch 13/50\n",
            "27284/27284 [==============================] - 62s 2ms/step - loss: 0.1257 - accuracy: 0.9579 - val_loss: 0.1600 - val_accuracy: 0.9385\n",
            "Epoch 14/50\n",
            "27284/27284 [==============================] - 64s 2ms/step - loss: 0.1252 - accuracy: 0.9578 - val_loss: 0.1657 - val_accuracy: 0.9365\n",
            "Epoch 15/50\n",
            "27284/27284 [==============================] - 70s 3ms/step - loss: 0.1244 - accuracy: 0.9582 - val_loss: 0.1673 - val_accuracy: 0.9360\n",
            "Epoch 16/50\n",
            "27284/27284 [==============================] - 64s 2ms/step - loss: 0.1233 - accuracy: 0.9587 - val_loss: 0.1311 - val_accuracy: 0.9485\n",
            "Epoch 17/50\n",
            "27284/27284 [==============================] - 61s 2ms/step - loss: 0.1224 - accuracy: 0.9591 - val_loss: 0.1459 - val_accuracy: 0.9441\n",
            "Epoch 18/50\n",
            "27284/27284 [==============================] - 62s 2ms/step - loss: 0.1212 - accuracy: 0.9598 - val_loss: 0.1620 - val_accuracy: 0.9401\n",
            "Epoch 19/50\n",
            "27284/27284 [==============================] - 62s 2ms/step - loss: 0.1207 - accuracy: 0.9598 - val_loss: 0.1684 - val_accuracy: 0.9369\n",
            "Epoch 20/50\n",
            "27284/27284 [==============================] - 70s 3ms/step - loss: 0.1199 - accuracy: 0.9604 - val_loss: 0.1333 - val_accuracy: 0.9468\n",
            "Epoch 21/50\n",
            "27284/27284 [==============================] - 61s 2ms/step - loss: 0.1197 - accuracy: 0.9600 - val_loss: 0.1511 - val_accuracy: 0.9425\n",
            "Epoch 22/50\n",
            "27284/27284 [==============================] - 62s 2ms/step - loss: 0.1185 - accuracy: 0.9606 - val_loss: 0.1440 - val_accuracy: 0.9458\n",
            "Epoch 23/50\n",
            "27284/27284 [==============================] - 62s 2ms/step - loss: 0.1181 - accuracy: 0.9608 - val_loss: 0.1374 - val_accuracy: 0.9457\n",
            "Epoch 24/50\n",
            "27284/27284 [==============================] - 62s 2ms/step - loss: 0.1176 - accuracy: 0.9610 - val_loss: 0.1654 - val_accuracy: 0.9367\n",
            "Epoch 25/50\n",
            "27284/27284 [==============================] - 74s 3ms/step - loss: 0.1170 - accuracy: 0.9614 - val_loss: 0.1669 - val_accuracy: 0.9367\n",
            "Epoch 26/50\n",
            "27284/27284 [==============================] - 60s 2ms/step - loss: 0.1172 - accuracy: 0.9613 - val_loss: 0.1508 - val_accuracy: 0.9429\n",
            "Epoch 27/50\n",
            "27284/27284 [==============================] - 66s 2ms/step - loss: 0.1164 - accuracy: 0.9614 - val_loss: 0.1458 - val_accuracy: 0.9439\n",
            "Epoch 28/50\n",
            "27284/27284 [==============================] - 59s 2ms/step - loss: 0.1160 - accuracy: 0.9616 - val_loss: 0.1483 - val_accuracy: 0.9432\n",
            "Epoch 29/50\n",
            "27284/27284 [==============================] - 59s 2ms/step - loss: 0.1154 - accuracy: 0.9619 - val_loss: 0.1712 - val_accuracy: 0.9380\n",
            "Epoch 30/50\n",
            "27284/27284 [==============================] - 59s 2ms/step - loss: 0.1150 - accuracy: 0.9621 - val_loss: 0.1657 - val_accuracy: 0.9403\n",
            "Epoch 31/50\n",
            "27284/27284 [==============================] - 58s 2ms/step - loss: 0.1146 - accuracy: 0.9621 - val_loss: 0.1413 - val_accuracy: 0.9465\n",
            "Epoch 32/50\n",
            "27284/27284 [==============================] - 58s 2ms/step - loss: 0.1140 - accuracy: 0.9625 - val_loss: 0.1615 - val_accuracy: 0.9387\n",
            "Epoch 33/50\n",
            "27284/27284 [==============================] - 59s 2ms/step - loss: 0.1133 - accuracy: 0.9628 - val_loss: 0.1409 - val_accuracy: 0.9451\n",
            "Epoch 34/50\n",
            "27284/27284 [==============================] - 61s 2ms/step - loss: 0.1127 - accuracy: 0.9630 - val_loss: 0.1742 - val_accuracy: 0.9364\n",
            "Epoch 35/50\n",
            "27284/27284 [==============================] - 64s 2ms/step - loss: 0.1122 - accuracy: 0.9634 - val_loss: 0.1676 - val_accuracy: 0.9392\n",
            "Epoch 36/50\n",
            "27284/27284 [==============================] - 65s 2ms/step - loss: 0.1120 - accuracy: 0.9634 - val_loss: 0.1420 - val_accuracy: 0.9462\n",
            "Epoch 37/50\n",
            "27284/27284 [==============================] - 64s 2ms/step - loss: 0.1113 - accuracy: 0.9635 - val_loss: 0.1596 - val_accuracy: 0.9418\n",
            "Epoch 38/50\n",
            "27284/27284 [==============================] - 72s 3ms/step - loss: 0.1113 - accuracy: 0.9634 - val_loss: 0.1484 - val_accuracy: 0.9451\n",
            "Epoch 39/50\n",
            "27284/27284 [==============================] - 64s 2ms/step - loss: 0.1108 - accuracy: 0.9639 - val_loss: 0.1408 - val_accuracy: 0.9467\n",
            "Epoch 40/50\n",
            "27284/27284 [==============================] - 60s 2ms/step - loss: 0.1107 - accuracy: 0.9641 - val_loss: 0.1627 - val_accuracy: 0.9413\n",
            "Epoch 41/50\n",
            "27284/27284 [==============================] - 61s 2ms/step - loss: 0.1102 - accuracy: 0.9638 - val_loss: 0.1548 - val_accuracy: 0.9453\n",
            "Epoch 42/50\n",
            "27284/27284 [==============================] - 64s 2ms/step - loss: 0.1105 - accuracy: 0.9639 - val_loss: 0.1490 - val_accuracy: 0.9460\n",
            "Epoch 43/50\n",
            "27284/27284 [==============================] - 61s 2ms/step - loss: 0.1102 - accuracy: 0.9641 - val_loss: 0.1418 - val_accuracy: 0.9479\n",
            "Epoch 44/50\n",
            "27284/27284 [==============================] - 61s 2ms/step - loss: 0.1103 - accuracy: 0.9639 - val_loss: 0.1473 - val_accuracy: 0.9428\n",
            "Epoch 45/50\n",
            "27284/27284 [==============================] - 60s 2ms/step - loss: 0.1098 - accuracy: 0.9642 - val_loss: 0.1651 - val_accuracy: 0.9419\n",
            "Epoch 46/50\n",
            "27284/27284 [==============================] - 61s 2ms/step - loss: 0.1101 - accuracy: 0.9641 - val_loss: 0.1520 - val_accuracy: 0.9437\n",
            "Epoch 47/50\n",
            "27284/27284 [==============================] - 58s 2ms/step - loss: 0.1098 - accuracy: 0.9639 - val_loss: 0.1416 - val_accuracy: 0.9456\n",
            "Epoch 48/50\n",
            "27284/27284 [==============================] - 58s 2ms/step - loss: 0.1095 - accuracy: 0.9643 - val_loss: 0.1463 - val_accuracy: 0.9454\n",
            "Epoch 49/50\n",
            "27284/27284 [==============================] - 70s 3ms/step - loss: 0.1097 - accuracy: 0.9644 - val_loss: 0.1589 - val_accuracy: 0.9408\n",
            "Epoch 50/50\n",
            "27284/27284 [==============================] - 64s 2ms/step - loss: 0.1095 - accuracy: 0.9643 - val_loss: 0.1447 - val_accuracy: 0.9462\n"
          ]
        }
      ],
      "source": [
        "ann_clf.compile(optimizer = 'adam',\n",
        "                metrics=['accuracy'],\n",
        "                loss = 'binary_crossentropy')\n",
        "\n",
        "# ann_clf.compile(optimizer = 'adam', \n",
        "#                 loss ='binary_crossentropy',\n",
        "#                 metrics=[tf.keras.metrics.Accuracy(), tf.keras.metrics.Recall()])\n",
        "\n",
        "record = ann_clf.fit(\n",
        "            X_train, \n",
        "            y_train, \n",
        "            validation_data = (X_val, y_val), \n",
        "            batch_size = 10, \n",
        "            epochs = 50)"
      ]
    },
    {
      "cell_type": "code",
      "execution_count": null,
      "metadata": {
        "colab": {
          "base_uri": "https://localhost:8080/",
          "height": 110
        },
        "id": "ChuhGr3Ufmgq",
        "outputId": "2e87822e-9050-4b5d-a9d6-d197f7e923df"
      },
      "outputs": [
        {
          "data": {
            "image/png": "[encoded data removed]",
            "text/plain": [
              "<IPython.core.display.Image object>"
            ]
          },
          "execution_count": 47,
          "metadata": {},
          "output_type": "execute_result"
        }
      ],
      "source": [
        "keras.utils.plot_model(ann_clf, show_shapes=True, rankdir=\"LR\")"
      ]
    },
    {
      "cell_type": "code",
      "execution_count": null,
      "metadata": {
        "colab": {
          "base_uri": "https://localhost:8080/"
        },
        "id": "rsSZTcIlfnQa",
        "outputId": "63db9cdc-b365-42d3-9d42-d1826126dc56"
      },
      "outputs": [
        {
          "name": "stdout",
          "output_type": "stream",
          "text": [
            "Train: 0.964, Validation: 0.946, Test: 0.945\n"
          ]
        }
      ],
      "source": [
        "_, train_acc = ann_clf.evaluate(X_train, y_train, verbose=0)\n",
        "_, val_acc = ann_clf.evaluate(X_val, y_val, verbose=0)\n",
        "_, test_acc = ann_clf.evaluate(X_test, y_test, verbose=0)\n",
        "print('Train: %.3f, Validation: %.3f, Test: %.3f' % (train_acc, val_acc, test_acc))"
      ]
    },
    {
      "cell_type": "code",
      "execution_count": null,
      "metadata": {
        "colab": {
          "base_uri": "https://localhost:8080/",
          "height": 302
        },
        "id": "Jvmnf03BfoDj",
        "outputId": "123dc60a-abe5-441b-b2b9-fd4965d009d1"
      },
      "outputs": [
        {
          "data": {
            "image/png": "[encoded data removed]",
            "text/plain": [
              "<Figure size 432x288 with 1 Axes>"
            ]
          },
          "metadata": {},
          "output_type": "display_data"
        }
      ],
      "source": [
        "plt.plot(record.history['accuracy'], label='Training')\n",
        "plt.plot(record.history['val_accuracy'], label='Validation')\n",
        "plt.legend()\n",
        "plt.xlabel('Epochs', fontsize=16)\n",
        "plt.ylabel('Accuracy', fontsize=16)\n",
        "plt.title('Accuracy Curves', fontsize=16)\n",
        "plt.show()"
      ]
    },
    {
      "cell_type": "code",
      "execution_count": null,
      "metadata": {
        "colab": {
          "base_uri": "https://localhost:8080/",
          "height": 301
        },
        "id": "Bk9KBNCCfpw5",
        "outputId": "9061a193-1fd0-4f96-aec7-3e2401a8e7d2"
      },
      "outputs": [
        {
          "data": {
            "image/png": "[encoded data removed]",
            "text/plain": [
              "<Figure size 432x288 with 1 Axes>"
            ]
          },
          "metadata": {},
          "output_type": "display_data"
        }
      ],
      "source": [
        "# plot training history\n",
        "plt.plot(record.history['loss'], label='Training')\n",
        "plt.plot(record.history['val_loss'], label='Validation')\n",
        "plt.legend()\n",
        "plt.xlabel('Epochs', fontsize=14)\n",
        "plt.ylabel('Loss', fontsize=14)\n",
        "plt.title('Loss Curves', fontsize=16)\n",
        "plt.show()"
      ]
    },
    {
      "cell_type": "markdown",
      "metadata": {
        "id": "hy1WHdJSfrl1"
      },
      "source": [
        "#### Experiment 2: Different Batch Sizes"
      ]
    },
    {
      "cell_type": "code",
      "execution_count": null,
      "metadata": {
        "id": "EbpRvs_nfsV4"
      },
      "outputs": [],
      "source": [
        "# Fit a Model and Plot Learning Curve\n",
        "\n",
        "def fit_model_1(X_train, y_train, X_val, y_val, n_batch):\n",
        "  \n",
        "  # Define Model\n",
        "  ann_clf = keras.models.Sequential([\n",
        "      keras.layers.Dense(15, input_shape=(X_train.shape[1],), activation='relu'), # No bias term\n",
        "      # keras.layers.Dense(10, activation='relu'), \n",
        "      keras.layers.Dense(10, activation='relu'), \n",
        "      keras.layers.Dense(1, activation='sigmoid')\n",
        "  ])\n",
        "\n",
        "  # Compile Model\n",
        "  ann_clf.compile(optimizer = 'adam',\n",
        "                  metrics=['accuracy'],\n",
        "                  loss = 'binary_crossentropy')\n",
        "\n",
        "  \n",
        "  # Fit Model\n",
        "  history = ann_clf.fit(X_train,\n",
        "                      y_train,\n",
        "                      validation_data=(X_val, y_val),\n",
        "                      epochs=100,\n",
        "                      verbose=0,\n",
        "                      batch_size=n_batch)\n",
        "\n",
        "  # Plot Learning Curves\n",
        "  plt.plot(history.history['accuracy'], label='train') \n",
        "  plt.plot(history.history['val_accuracy'], label='test') \n",
        "  plt.title('batch='+str(n_batch)) \n",
        "  plt.legend()"
      ]
    },
    {
      "cell_type": "code",
      "execution_count": null,
      "metadata": {
        "colab": {
          "background_save": true
        },
        "id": "govzlyT3fwI0",
        "outputId": "c8a3a85a-0be1-46dc-9f81-05d07e122312"
      },
      "outputs": [
        {
          "data": {
            "image/png": "[encoded data removed]",
            "text/plain": [
              "<Figure size 720x1080 with 6 Axes>"
            ]
          },
          "metadata": {},
          "output_type": "display_data"
        }
      ],
      "source": [
        "# Create Learning Curves for Different Batch Sizes\n",
        "\n",
        "# batch_sizes = [4, 6, 10, 16, 32, 64, 128, 260]\n",
        "batch_sizes = [5, 10, 15, 20, 25, 30]\n",
        "\n",
        "plt.figure(figsize=(10,15))\n",
        "for i in range(len(batch_sizes)):\n",
        "\n",
        "  # Determine the Plot Number\n",
        "  plot_no = 420 + (i+1)\n",
        "  plt.subplot(plot_no)\n",
        "\n",
        "  # Fit Model and Plot Learning Curves for a Batch Size\n",
        "  fit_model_1(X_train, y_train, X_val, y_val, batch_sizes[i])\n",
        "\n",
        "plt.show()"
      ]
    },
    {
      "cell_type": "markdown",
      "metadata": {
        "id": "ijreZVeVs9OP"
      },
      "source": [
        "Based on the accuracy graph above, the model that is good enough to show stability is the model with batch size 15"
      ]
    },
    {
      "cell_type": "markdown",
      "metadata": {
        "id": "jDdPwZjcfxsF"
      },
      "source": [
        "#### Experiment 3: Different EPOCHs"
      ]
    },
    {
      "cell_type": "code",
      "execution_count": null,
      "metadata": {
        "id": "gjSGc9u6fxTv"
      },
      "outputs": [],
      "source": [
        "# Fit a Model and Plot Learning Curve\n",
        "\n",
        "def fit_model_2(X_train, y_train, X_val, y_val, n_epoch):\n",
        "\n",
        "  # Define Model\n",
        "  ann_clf = keras.models.Sequential([\n",
        "      keras.layers.Dense(15, input_shape=(X_train.shape[1],), activation='relu'), # No bias term\n",
        "      # keras.layers.Dense(10, activation='relu'), \n",
        "      keras.layers.Dense(10, activation='relu'), \n",
        "      keras.layers.Dense(1, activation='sigmoid')\n",
        "  ])\n",
        "\n",
        "  # Compile Model\n",
        "  ann_clf.compile(optimizer = 'adam',\n",
        "                  metrics=['accuracy'],\n",
        "                  loss = 'binary_crossentropy')\n",
        "\n",
        "    \n",
        "  # Fit Model\n",
        "  history = ann_clf.fit(X_train,\n",
        "                      y_train,\n",
        "                      validation_data=(X_val, y_val),\n",
        "                      epochs=n_epoch,\n",
        "                      verbose=0,\n",
        "                      batch_size=15)\n",
        "    \n",
        "  # Plot Learning Curves\n",
        "  plt.plot(history.history['accuracy'], label='train')\n",
        "  plt.plot(history.history['val_accuracy'], label='test')\n",
        "  plt.title('epoch='+str(n_epoch))\n",
        "  plt.legend()"
      ]
    },
    {
      "cell_type": "code",
      "execution_count": null,
      "metadata": {
        "colab": {
          "background_save": true
        },
        "id": "SP2zm_ySfznt",
        "outputId": "1da58053-0688-4b59-c0fd-f65704d320f8"
      },
      "outputs": [
        {
          "data": {
            "image/png": "[encoded data removed]",
            "text/plain": [
              "<Figure size 720x1080 with 4 Axes>"
            ]
          },
          "metadata": {},
          "output_type": "display_data"
        }
      ],
      "source": [
        "# Create Learning Curves for Different EPOCHs\n",
        "\n",
        "epochs = [20, 50, 80, 100]\n",
        "\n",
        "plt.figure(figsize=(10,15))\n",
        "for i in range(len(epochs)):\n",
        "\n",
        "  # Determine the Plot Number\n",
        "  plot_no = 420 + (i+1)\n",
        "  plt.subplot(plot_no)\n",
        "\n",
        "  # Fit Model and Plot Learning Curves for an EPOCH\n",
        "  fit_model_2(X_train, y_train, X_val, y_val, epochs[i])\n",
        "\n",
        "plt.show()"
      ]
    },
    {
      "cell_type": "markdown",
      "metadata": {
        "id": "FgOswfIGtCEp"
      },
      "source": [
        "Based on the accuracy graph above, the model that is good enough to show stability is the model with EPCOH 50"
      ]
    },
    {
      "cell_type": "markdown",
      "metadata": {
        "id": "3_QvFWOmf0JZ"
      },
      "source": [
        "#### Experiment 4: Early Stopping"
      ]
    },
    {
      "cell_type": "code",
      "execution_count": null,
      "metadata": {
        "colab": {
          "background_save": true
        },
        "id": "3AUOp_Qwf2_U"
      },
      "outputs": [],
      "source": [
        "from keras.callbacks import EarlyStopping\n",
        "from keras.callbacks import ModelCheckpoint"
      ]
    },
    {
      "cell_type": "code",
      "execution_count": null,
      "metadata": {
        "id": "-dBPUNAngRj7",
        "colab": {
          "base_uri": "https://localhost:8080/"
        },
        "outputId": "c643a0f3-4628-4596-aef1-d9f473822a63"
      },
      "outputs": [
        {
          "output_type": "stream",
          "name": "stdout",
          "text": [
            "\n",
            "Epoch 1: val_accuracy improved from -inf to 0.89855, saving model to best_model.h5\n",
            "\n",
            "Epoch 2: val_accuracy improved from 0.89855 to 0.90035, saving model to best_model.h5\n",
            "\n",
            "Epoch 3: val_accuracy improved from 0.90035 to 0.91553, saving model to best_model.h5\n",
            "\n",
            "Epoch 4: val_accuracy improved from 0.91553 to 0.92205, saving model to best_model.h5\n",
            "\n",
            "Epoch 5: val_accuracy did not improve from 0.92205\n",
            "\n",
            "Epoch 6: val_accuracy did not improve from 0.92205\n",
            "\n",
            "Epoch 7: val_accuracy did not improve from 0.92205\n",
            "\n",
            "Epoch 8: val_accuracy did not improve from 0.92205\n",
            "\n",
            "Epoch 9: val_accuracy improved from 0.92205 to 0.92292, saving model to best_model.h5\n",
            "\n",
            "Epoch 10: val_accuracy improved from 0.92292 to 0.92577, saving model to best_model.h5\n",
            "\n",
            "Epoch 11: val_accuracy did not improve from 0.92577\n",
            "\n",
            "Epoch 12: val_accuracy improved from 0.92577 to 0.93124, saving model to best_model.h5\n",
            "\n",
            "Epoch 13: val_accuracy did not improve from 0.93124\n",
            "\n",
            "Epoch 14: val_accuracy improved from 0.93124 to 0.93194, saving model to best_model.h5\n",
            "\n",
            "Epoch 15: val_accuracy did not improve from 0.93194\n",
            "\n",
            "Epoch 16: val_accuracy did not improve from 0.93194\n",
            "\n",
            "Epoch 17: val_accuracy did not improve from 0.93194\n",
            "\n",
            "Epoch 18: val_accuracy did not improve from 0.93194\n",
            "\n",
            "Epoch 19: val_accuracy did not improve from 0.93194\n",
            "\n",
            "Epoch 20: val_accuracy did not improve from 0.93194\n",
            "\n",
            "Epoch 21: val_accuracy did not improve from 0.93194\n",
            "\n",
            "Epoch 22: val_accuracy did not improve from 0.93194\n",
            "\n",
            "Epoch 23: val_accuracy did not improve from 0.93194\n",
            "\n",
            "Epoch 24: val_accuracy did not improve from 0.93194\n",
            "\n",
            "Epoch 25: val_accuracy did not improve from 0.93194\n",
            "\n",
            "Epoch 26: val_accuracy did not improve from 0.93194\n",
            "\n",
            "Epoch 27: val_accuracy improved from 0.93194 to 0.93392, saving model to best_model.h5\n",
            "\n",
            "Epoch 28: val_accuracy did not improve from 0.93392\n",
            "\n",
            "Epoch 29: val_accuracy did not improve from 0.93392\n",
            "\n",
            "Epoch 30: val_accuracy did not improve from 0.93392\n",
            "\n",
            "Epoch 31: val_accuracy did not improve from 0.93392\n",
            "\n",
            "Epoch 32: val_accuracy did not improve from 0.93392\n",
            "\n",
            "Epoch 33: val_accuracy did not improve from 0.93392\n",
            "\n",
            "Epoch 34: val_accuracy did not improve from 0.93392\n",
            "\n",
            "Epoch 35: val_accuracy did not improve from 0.93392\n",
            "\n",
            "Epoch 36: val_accuracy did not improve from 0.93392\n",
            "\n",
            "Epoch 37: val_accuracy did not improve from 0.93392\n",
            "\n",
            "Epoch 38: val_accuracy did not improve from 0.93392\n",
            "\n",
            "Epoch 39: val_accuracy did not improve from 0.93392\n",
            "\n",
            "Epoch 40: val_accuracy did not improve from 0.93392\n",
            "\n",
            "Epoch 41: val_accuracy did not improve from 0.93392\n",
            "\n",
            "Epoch 42: val_accuracy did not improve from 0.93392\n",
            "\n",
            "Epoch 43: val_accuracy did not improve from 0.93392\n",
            "\n",
            "Epoch 44: val_accuracy did not improve from 0.93392\n",
            "\n",
            "Epoch 45: val_accuracy did not improve from 0.93392\n",
            "\n",
            "Epoch 46: val_accuracy improved from 0.93392 to 0.93688, saving model to best_model.h5\n",
            "\n",
            "Epoch 47: val_accuracy did not improve from 0.93688\n",
            "\n",
            "Epoch 48: val_accuracy did not improve from 0.93688\n",
            "\n",
            "Epoch 49: val_accuracy did not improve from 0.93688\n",
            "\n",
            "Epoch 50: val_accuracy did not improve from 0.93688\n"
          ]
        }
      ],
      "source": [
        "def fit_model_3():\n",
        "\n",
        "  # Define Model\n",
        "  ann_clf = keras.models.Sequential([\n",
        "      keras.layers.Dense(15, input_shape=(X_train.shape[1],), activation='relu'), # No bias term\n",
        "      # keras.layers.Dense(10, activation='relu'), \n",
        "      keras.layers.Dense(10, activation='relu'), \n",
        "      keras.layers.Dropout(0.2),\n",
        "      keras.layers.Dense(1, activation='sigmoid')\n",
        "  ])\n",
        "\n",
        "  # Compile Model\n",
        "  ann_clf.compile(optimizer = 'adam',\n",
        "                  metrics=['accuracy'],\n",
        "                  loss = 'binary_crossentropy')\n",
        "\n",
        "  return ann_clf\n",
        "\n",
        "ann_clf = fit_model_3()\n",
        "\n",
        "es = EarlyStopping(monitor='val_loss',\n",
        "                   mode='min',\n",
        "                   verbose=1,\n",
        "                   patience=150)\n",
        "\n",
        "mc = ModelCheckpoint('best_model.h5',\n",
        "                     monitor='val_accuracy',\n",
        "                     mode='max',\n",
        "                     verbose=1,\n",
        "                     save_best_only=True)\n",
        "\n",
        "history = ann_clf.fit(X_train,\n",
        "                    y_train,\n",
        "                    validation_data=(X_val, y_val),\n",
        "                    epochs=50,\n",
        "                    verbose=0,\n",
        "                    batch_size=15,\n",
        "                    callbacks=[es, mc])"
      ]
    },
    {
      "cell_type": "code",
      "execution_count": null,
      "metadata": {
        "id": "C5BRoQZKs2xD",
        "colab": {
          "base_uri": "https://localhost:8080/",
          "height": 301
        },
        "outputId": "c80cf257-cebc-492c-9c9b-ffb8ee691f93"
      },
      "outputs": [
        {
          "output_type": "display_data",
          "data": {
            "text/plain": [
              "<Figure size 432x288 with 1 Axes>"
            ],
            "image/png": "[encoded data removed]"
          },
          "metadata": {
            "needs_background": "light"
          }
        }
      ],
      "source": [
        "# plot training history\n",
        "plt.plot(history.history['loss'], label='Training')\n",
        "plt.plot(history.history['val_loss'], label='Validation')\n",
        "plt.legend()\n",
        "plt.xlabel('Epochs', fontsize=14)\n",
        "plt.ylabel('Loss', fontsize=14)\n",
        "plt.title('Loss Curves', fontsize=16)\n",
        "plt.show()"
      ]
    },
    {
      "cell_type": "code",
      "execution_count": null,
      "metadata": {
        "id": "ctyV4qGXs32m",
        "colab": {
          "base_uri": "https://localhost:8080/",
          "height": 357
        },
        "outputId": "400bbbb4-d0dd-47f8-fe59-cb5f554ff03f"
      },
      "outputs": [
        {
          "output_type": "display_data",
          "data": {
            "text/plain": [
              "<Figure size 576x360 with 1 Axes>"
            ],
            "image/png": "[encoded data removed]"
          },
          "metadata": {
            "needs_background": "light"
          }
        }
      ],
      "source": [
        "plt.figure(figsize=[8,5])\n",
        "plt.plot(history.history['accuracy'], label='Training')\n",
        "plt.plot(history.history['val_accuracy'], label='Validation')\n",
        "plt.legend()\n",
        "plt.xlabel('Epochs', fontsize=16)\n",
        "plt.ylabel('Accuracy', fontsize=16)\n",
        "plt.title('Accuracy Curves', fontsize=16)\n",
        "\n",
        "plt.show()"
      ]
    },
    {
      "cell_type": "code",
      "source": [
        "_, train_acc = ann_clf.evaluate(X_train, y_train, verbose=0)\n",
        "_, val_acc = ann_clf.evaluate(X_val, y_val, verbose=0)\n",
        "_, test_acc = ann_clf.evaluate(X_test, y_test, verbose=0)\n",
        "print('Train: %.3f, Validation: %.3f, Test: %.3f' % (train_acc, val_acc, test_acc))"
      ],
      "metadata": {
        "colab": {
          "base_uri": "https://localhost:8080/"
        },
        "id": "U2gkZNesMiMV",
        "outputId": "b7f6c8a9-d510-48ed-90a9-b76c0f2b63f3"
      },
      "execution_count": null,
      "outputs": [
        {
          "output_type": "stream",
          "name": "stdout",
          "text": [
            "Train: 0.961, Validation: 0.935, Test: 0.931\n"
          ]
        }
      ]
    },
    {
      "cell_type": "markdown",
      "source": [
        "Accuracy result for no early stopping  - Train: 0.964, Validation: 0.946, Test: 0.945\n",
        "\n",
        "Accuracy result for early stopping - Train: 0.961, Validation: 0.935, Test: 0.931\n",
        "\n",
        "Early stopping is not beneficial"
      ],
      "metadata": {
        "id": "ScrqamwvMuWL"
      }
    },
    {
      "cell_type": "markdown",
      "metadata": {
        "id": "4rBdGe3Gukv6"
      },
      "source": [
        "## Voting Classifier\n",
        "\n",
        "- Library: Scikit-learn, Keras, Tensorflow\n",
        "- Shuffling does not affect the model building. No random_state.\n",
        "- No need for RandomizedSearchCV since there is only 1 important hyperparameter: voting"
      ]
    },
    {
      "cell_type": "code",
      "execution_count": null,
      "metadata": {
        "id": "YIe8XVe4gBMX"
      },
      "outputs": [],
      "source": [
        "# Re-train top 3 models using their best hyperparameters\n",
        "\n",
        "model_1 = LGBMClassifier(n_estimators=1000, learning_rate=0.1, max_depth=3, random_state=10)\n",
        "model_2 = GradientBoostingClassifier(n_estimators=500, learning_rate=0.5, max_depth=1, random_state=10)\n",
        "model_3 = RandomForestClassifier(n_estimators=1000, max_depth = None, n_jobs =-1, random_state=10)\n",
        "\n",
        "name = 'ensem_clf'\n",
        "\n",
        "train = pd.DataFrame(columns = ['voting', 'n_jobs'])\n",
        "train = train.append({'voting': 'hard', 'n_jobs': -1}, ignore_index=True)\n",
        "train = train.append({'voting': 'soft', 'n_jobs': -1}, ignore_index=True)\n",
        "train = train.reset_index()\n",
        "\n",
        "for index, row in train.iterrows():\n",
        "    model_name = name + str(index)\n",
        "    ens_clf = VotingClassifier(estimators=[('m1', model_1), ('m2', model_2), ('m3', model_3)],\n",
        "                               voting = row['voting'],\n",
        "                               n_jobs = int(row['n_jobs']))\n",
        "    ens_clf.fit(X_train, y_train)\n",
        "    y_true = y_val\n",
        "    y_pred = ens_clf.predict(X_val)\n",
        "    evaluation_results = evaluation_metrics(y_true, y_pred)\n",
        "\n",
        "    models = models.append({'model_name': model_name, \n",
        "                            'model': ens_clf, \n",
        "                            'parameters': ens_clf.get_params()}, \n",
        "                            ignore_index=True)\n",
        "    \n",
        "    models_eval = models_eval.append({'model_name': model_name, \n",
        "                                      'confusion_matrix' : evaluation_results[0], \n",
        "                                      'accuracy': evaluation_results[1], \n",
        "                                      'recall' : evaluation_results[2], \n",
        "                                      'f1_score': evaluation_results[3], \n",
        "                                      'roc_auc_score': evaluation_results[4]}, \n",
        "                                      ignore_index=True)"
      ]
    },
    {
      "cell_type": "markdown",
      "source": [
        "Best Parameters: \n",
        "\n",
        "{'voting': 'hard'}"
      ],
      "metadata": {
        "id": "aH_ZSwaoefvB"
      }
    },
    {
      "cell_type": "markdown",
      "metadata": {
        "id": "VSpOrrm2gNXL"
      },
      "source": [
        "# Model Training & Validation Results"
      ]
    },
    {
      "cell_type": "markdown",
      "metadata": {
        "id": "VznMSI5Zv4zN"
      },
      "source": [
        "## Best hyperparameters for each model:\n",
        "\n",
        "**log_clf:**\n",
        "\n",
        "{'warm_start': True,\n",
        " 'solver': 'lbfgs',\n",
        " 'penalty': 'none',\n",
        " 'max_iter': 331,\n",
        " 'dual': False,\n",
        " 'C': 0}\n",
        "\n",
        "**svm_clf:**\n",
        "\n",
        "{'kernel': 'rbf','C' : '8','class_weight'='balanced'}\n",
        "\n",
        "**bayes_clf:**\n",
        "\n",
        "{'var_smoothing': '1e-3'}\n",
        "\n",
        "**knn_clf:**\n",
        "\n",
        "{'n_neighbors': 19, 'algorithm': 'kd_tree'}\n",
        "\n",
        "**tree_clf:**\n",
        "\n",
        "{'splitter': 'random',\n",
        " 'min_samples_leaf': 2,\n",
        " 'max_features': 11,\n",
        " 'max_depth': None,\n",
        " 'criterion': 'entropy'}\n",
        "\n",
        "**rnd_clf:**\n",
        "\n",
        "{'n_estimators': 415,\n",
        " 'min_samples_split': 6,\n",
        " 'min_samples_leaf': 1,\n",
        " 'max_features': 4,\n",
        " 'max_depth': 18}\n",
        "\n",
        "**gboost_clf:**\n",
        "\n",
        "{'n_estimators': 1000, 'max_depth': 8, 'learning_rate': 0.1}\n",
        "\n",
        "**xgboost_clf:**\n",
        "\n",
        "{'n_estimators': 1000,\n",
        " 'min_child_weight': 7,\n",
        " 'max_depth': 8,\n",
        " 'learning_rate': 0.1}\n",
        "\n",
        "**lightgbm_clf:**\n",
        "\n",
        "{'num_leaves': 50,\n",
        " 'n_estimators': 1000,\n",
        " 'min_data_in_leaf': 10,\n",
        " 'max_depth': 8,\n",
        " 'learning_rate': 0.05}\n",
        "\n",
        "**ann_clf:**\n",
        "- Batch size 15\n",
        "- EPOCH 50\n",
        "\n",
        "**ens_clf:**\n",
        "\n",
        "{'voting':'hard'}\n",
        "\n"
      ]
    }
  ],
  "metadata": {
    "accelerator": "TPU",
    "colab": {
      "toc_visible": true,
      "provenance": []
    },
    "gpuClass": "standard",
    "kernelspec": {
      "display_name": "Python 3",
      "name": "python3"
    },
    "language_info": {
      "name": "python"
    }
  },
  "nbformat": 4,
  "nbformat_minor": 0
}