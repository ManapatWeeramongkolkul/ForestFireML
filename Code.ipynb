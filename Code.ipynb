{
  "nbformat": 4,
  "nbformat_minor": 0,
  "metadata": {
    "colab": {
      "provenance": [],
      "collapsed_sections": []
    },
    "kernelspec": {
      "name": "python3",
      "display_name": "Python 3"
    },
    "language_info": {
      "name": "python"
    }
  },
  "cells": [
    {
      "cell_type": "markdown",
      "source": [
        "# Forest Fire XD Senior Project\n",
        "By: Manapat Weeramongkolkul\n",
        "\n",
        "Supanida Suwankesawong\n"
      ],
      "metadata": {
        "id": "Ce2pAT0pwzT5"
      }
    },
    {
      "cell_type": "markdown",
      "source": [
        "## Data Exploration"
      ],
      "metadata": {
        "id": "BXIPCato_1lt"
      }
    },
    {
      "cell_type": "markdown",
      "source": [
        "### Library"
      ],
      "metadata": {
        "id": "7ArJFHFfdjB9"
      }
    },
    {
      "cell_type": "code",
      "source": [
        "# Importing relevant libraries\n",
        "\n",
        "import pandas as pd\n",
        "import numpy as np\n",
        "from datetime import datetime\n",
        "!pip install pyjanitor\n",
        "import janitor\n",
        "from functools import reduce"
      ],
      "metadata": {
        "id": "wy_LrWp0_nvJ",
        "colab": {
          "base_uri": "https://localhost:8080/"
        },
        "outputId": "3594bf40-6c71-4805-b666-826f32e441bb"
      },
      "execution_count": null,
      "outputs": [
        {
          "output_type": "stream",
          "name": "stdout",
          "text": [
            "Looking in indexes: https://pypi.org/simple, https://us-python.pkg.dev/colab-wheels/public/simple/\n",
            "Collecting pyjanitor\n",
            "  Downloading pyjanitor-0.23.1-py3-none-any.whl (147 kB)\n",
            "\u001b[K     |████████████████████████████████| 147 kB 6.7 MB/s \n",
            "\u001b[?25hRequirement already satisfied: natsort in /usr/local/lib/python3.7/dist-packages (from pyjanitor) (5.5.0)\n",
            "Collecting pandas-flavor\n",
            "  Downloading pandas_flavor-0.3.0-py3-none-any.whl (6.3 kB)\n",
            "Requirement already satisfied: scipy in /usr/local/lib/python3.7/dist-packages (from pyjanitor) (1.7.3)\n",
            "Requirement already satisfied: multipledispatch in /usr/local/lib/python3.7/dist-packages (from pyjanitor) (0.6.0)\n",
            "Requirement already satisfied: six in /usr/local/lib/python3.7/dist-packages (from multipledispatch->pyjanitor) (1.15.0)\n",
            "  Downloading pandas_flavor-0.2.0-py2.py3-none-any.whl (6.6 kB)\n",
            "Requirement already satisfied: xarray in /usr/local/lib/python3.7/dist-packages (from pandas-flavor->pyjanitor) (0.20.2)\n",
            "Requirement already satisfied: pandas in /usr/local/lib/python3.7/dist-packages (from pandas-flavor->pyjanitor) (1.3.5)\n",
            "Requirement already satisfied: pytz>=2017.3 in /usr/local/lib/python3.7/dist-packages (from pandas->pandas-flavor->pyjanitor) (2022.6)\n",
            "Requirement already satisfied: python-dateutil>=2.7.3 in /usr/local/lib/python3.7/dist-packages (from pandas->pandas-flavor->pyjanitor) (2.8.2)\n",
            "Requirement already satisfied: numpy>=1.17.3 in /usr/local/lib/python3.7/dist-packages (from pandas->pandas-flavor->pyjanitor) (1.21.6)\n",
            "Requirement already satisfied: typing-extensions>=3.7 in /usr/local/lib/python3.7/dist-packages (from xarray->pandas-flavor->pyjanitor) (4.1.1)\n",
            "Requirement already satisfied: importlib-metadata in /usr/local/lib/python3.7/dist-packages (from xarray->pandas-flavor->pyjanitor) (4.13.0)\n",
            "Requirement already satisfied: zipp>=0.5 in /usr/local/lib/python3.7/dist-packages (from importlib-metadata->xarray->pandas-flavor->pyjanitor) (3.10.0)\n",
            "Installing collected packages: pandas-flavor, pyjanitor\n",
            "Successfully installed pandas-flavor-0.2.0 pyjanitor-0.23.1\n"
          ]
        }
      ]
    },
    {
      "cell_type": "code",
      "source": [
        "# Connect colab and drive\n",
        "\n",
        "from google.colab import drive\n",
        "drive.mount('/content/drive')"
      ],
      "metadata": {
        "id": "pFWkym5NA0jI",
        "colab": {
          "base_uri": "https://localhost:8080/"
        },
        "outputId": "a02e6e54-d830-4c64-e4e1-74cb65cff4cf"
      },
      "execution_count": null,
      "outputs": [
        {
          "output_type": "stream",
          "name": "stdout",
          "text": [
            "Mounted at /content/drive\n"
          ]
        }
      ]
    },
    {
      "cell_type": "markdown",
      "source": [
        "### From sensor device\n",
        "\n"
      ],
      "metadata": {
        "id": "piXLp0BIZTYs"
      }
    },
    {
      "cell_type": "code",
      "source": [
        "df1 = pd.read_excel(\"/content/drive/MyDrive/Senior Project/Datasets/Results from 2020-2-4 till 2020-7-28 (Only Northern provinces).xlsx\")\n",
        "df1.head()"
      ],
      "metadata": {
        "id": "uqFfxnAH3TB7",
        "colab": {
          "base_uri": "https://localhost:8080/",
          "height": 444
        },
        "outputId": "1c0166f2-52fa-4586-997f-076c11246210"
      },
      "execution_count": null,
      "outputs": [
        {
          "output_type": "execute_result",
          "data": {
            "text/plain": [
              "      id stationID                         nameTH  \\\n",
              "0  67972       o25   ที่ว่าการอำเภอเมืองกำแพงเพชร   \n",
              "1  68096       o25   ที่ว่าการอำเภอเมืองกำแพงเพชร   \n",
              "2  68220       o25   ที่ว่าการอำเภอเมืองกำแพงเพชร   \n",
              "3  68344       o25   ที่ว่าการอำเภอเมืองกำแพงเพชร   \n",
              "4  68469       o25   ที่ว่าการอำเภอเมืองกำแพงเพชร   \n",
              "\n",
              "                          nameEN stationType       lat       long    date_aq  \\\n",
              "0                            NaN      MOBILE  16.48515  99.524454 2020-02-27   \n",
              "1                            NaN      MOBILE  16.48515  99.524454 2020-02-27   \n",
              "2                            NaN      MOBILE  16.48515  99.524454 2020-02-27   \n",
              "3  District Hall, Kamphaeng Phet      MOBILE  16.48515  99.524454 2020-02-27   \n",
              "4  District Hall, Kamphaeng Phet      MOBILE  16.48515  99.524454 2020-02-27   \n",
              "\n",
              "    time_aq  PM25  PM10  NO2  SO2  CO  O3  AQI                         areaTH  \\\n",
              "0  07:00:00  72.0   NaN  NaN  NaN NaN NaN    4             อ.เมือง ,กำแพงเพชร   \n",
              "1  08:00:00  74.0   NaN  NaN  NaN NaN NaN    4             อ.เมือง ,กำแพงเพชร   \n",
              "2  09:00:00  77.0   NaN  NaN  NaN NaN NaN    4             อ.เมือง ,กำแพงเพชร   \n",
              "3  10:00:00  79.0   NaN  NaN  NaN NaN NaN    4            ต.ในเมือง, อ.เมือง    \n",
              "4  11:00:00  80.0   NaN  NaN  NaN NaN NaN    4   ต.ในเมือง, อ.เมือง,กำแพงเพชร   \n",
              "\n",
              "                   areaEN         datetime_aq  \n",
              "0                     NaN 2020-02-27 07:00:00  \n",
              "1                     NaN 2020-02-27 08:00:00  \n",
              "2                     NaN 2020-02-27 09:00:00  \n",
              "3  Mueang, Kamphaeng Phet 2020-02-27 10:00:00  \n",
              "4  Mueang, Kamphaeng Phet 2020-02-27 11:00:00  "
            ],
            "text/html": [
              "\n",
              "  <div id=\"df-74a752e7-4a76-4ed0-8b59-9877e9296ee9\">\n",
              "    <div class=\"colab-df-container\">\n",
              "      <div>\n",
              "<style scoped>\n",
              "    .dataframe tbody tr th:only-of-type {\n",
              "        vertical-align: middle;\n",
              "    }\n",
              "\n",
              "    .dataframe tbody tr th {\n",
              "        vertical-align: top;\n",
              "    }\n",
              "\n",
              "    .dataframe thead th {\n",
              "        text-align: right;\n",
              "    }\n",
              "</style>\n",
              "<table border=\"1\" class=\"dataframe\">\n",
              "  <thead>\n",
              "    <tr style=\"text-align: right;\">\n",
              "      <th></th>\n",
              "      <th>id</th>\n",
              "      <th>stationID</th>\n",
              "      <th>nameTH</th>\n",
              "      <th>nameEN</th>\n",
              "      <th>stationType</th>\n",
              "      <th>lat</th>\n",
              "      <th>long</th>\n",
              "      <th>date_aq</th>\n",
              "      <th>time_aq</th>\n",
              "      <th>PM25</th>\n",
              "      <th>PM10</th>\n",
              "      <th>NO2</th>\n",
              "      <th>SO2</th>\n",
              "      <th>CO</th>\n",
              "      <th>O3</th>\n",
              "      <th>AQI</th>\n",
              "      <th>areaTH</th>\n",
              "      <th>areaEN</th>\n",
              "      <th>datetime_aq</th>\n",
              "    </tr>\n",
              "  </thead>\n",
              "  <tbody>\n",
              "    <tr>\n",
              "      <th>0</th>\n",
              "      <td>67972</td>\n",
              "      <td>o25</td>\n",
              "      <td>ที่ว่าการอำเภอเมืองกำแพงเพชร</td>\n",
              "      <td>NaN</td>\n",
              "      <td>MOBILE</td>\n",
              "      <td>16.48515</td>\n",
              "      <td>99.524454</td>\n",
              "      <td>2020-02-27</td>\n",
              "      <td>07:00:00</td>\n",
              "      <td>72.0</td>\n",
              "      <td>NaN</td>\n",
              "      <td>NaN</td>\n",
              "      <td>NaN</td>\n",
              "      <td>NaN</td>\n",
              "      <td>NaN</td>\n",
              "      <td>4</td>\n",
              "      <td>อ.เมือง ,กำแพงเพชร</td>\n",
              "      <td>NaN</td>\n",
              "      <td>2020-02-27 07:00:00</td>\n",
              "    </tr>\n",
              "    <tr>\n",
              "      <th>1</th>\n",
              "      <td>68096</td>\n",
              "      <td>o25</td>\n",
              "      <td>ที่ว่าการอำเภอเมืองกำแพงเพชร</td>\n",
              "      <td>NaN</td>\n",
              "      <td>MOBILE</td>\n",
              "      <td>16.48515</td>\n",
              "      <td>99.524454</td>\n",
              "      <td>2020-02-27</td>\n",
              "      <td>08:00:00</td>\n",
              "      <td>74.0</td>\n",
              "      <td>NaN</td>\n",
              "      <td>NaN</td>\n",
              "      <td>NaN</td>\n",
              "      <td>NaN</td>\n",
              "      <td>NaN</td>\n",
              "      <td>4</td>\n",
              "      <td>อ.เมือง ,กำแพงเพชร</td>\n",
              "      <td>NaN</td>\n",
              "      <td>2020-02-27 08:00:00</td>\n",
              "    </tr>\n",
              "    <tr>\n",
              "      <th>2</th>\n",
              "      <td>68220</td>\n",
              "      <td>o25</td>\n",
              "      <td>ที่ว่าการอำเภอเมืองกำแพงเพชร</td>\n",
              "      <td>NaN</td>\n",
              "      <td>MOBILE</td>\n",
              "      <td>16.48515</td>\n",
              "      <td>99.524454</td>\n",
              "      <td>2020-02-27</td>\n",
              "      <td>09:00:00</td>\n",
              "      <td>77.0</td>\n",
              "      <td>NaN</td>\n",
              "      <td>NaN</td>\n",
              "      <td>NaN</td>\n",
              "      <td>NaN</td>\n",
              "      <td>NaN</td>\n",
              "      <td>4</td>\n",
              "      <td>อ.เมือง ,กำแพงเพชร</td>\n",
              "      <td>NaN</td>\n",
              "      <td>2020-02-27 09:00:00</td>\n",
              "    </tr>\n",
              "    <tr>\n",
              "      <th>3</th>\n",
              "      <td>68344</td>\n",
              "      <td>o25</td>\n",
              "      <td>ที่ว่าการอำเภอเมืองกำแพงเพชร</td>\n",
              "      <td>District Hall, Kamphaeng Phet</td>\n",
              "      <td>MOBILE</td>\n",
              "      <td>16.48515</td>\n",
              "      <td>99.524454</td>\n",
              "      <td>2020-02-27</td>\n",
              "      <td>10:00:00</td>\n",
              "      <td>79.0</td>\n",
              "      <td>NaN</td>\n",
              "      <td>NaN</td>\n",
              "      <td>NaN</td>\n",
              "      <td>NaN</td>\n",
              "      <td>NaN</td>\n",
              "      <td>4</td>\n",
              "      <td>ต.ในเมือง, อ.เมือง</td>\n",
              "      <td>Mueang, Kamphaeng Phet</td>\n",
              "      <td>2020-02-27 10:00:00</td>\n",
              "    </tr>\n",
              "    <tr>\n",
              "      <th>4</th>\n",
              "      <td>68469</td>\n",
              "      <td>o25</td>\n",
              "      <td>ที่ว่าการอำเภอเมืองกำแพงเพชร</td>\n",
              "      <td>District Hall, Kamphaeng Phet</td>\n",
              "      <td>MOBILE</td>\n",
              "      <td>16.48515</td>\n",
              "      <td>99.524454</td>\n",
              "      <td>2020-02-27</td>\n",
              "      <td>11:00:00</td>\n",
              "      <td>80.0</td>\n",
              "      <td>NaN</td>\n",
              "      <td>NaN</td>\n",
              "      <td>NaN</td>\n",
              "      <td>NaN</td>\n",
              "      <td>NaN</td>\n",
              "      <td>4</td>\n",
              "      <td>ต.ในเมือง, อ.เมือง,กำแพงเพชร</td>\n",
              "      <td>Mueang, Kamphaeng Phet</td>\n",
              "      <td>2020-02-27 11:00:00</td>\n",
              "    </tr>\n",
              "  </tbody>\n",
              "</table>\n",
              "</div>\n",
              "      <button class=\"colab-df-convert\" onclick=\"convertToInteractive('df-74a752e7-4a76-4ed0-8b59-9877e9296ee9')\"\n",
              "              title=\"Convert this dataframe to an interactive table.\"\n",
              "              style=\"display:none;\">\n",
              "        \n",
              "  <svg xmlns=\"http://www.w3.org/2000/svg\" height=\"24px\"viewBox=\"0 0 24 24\"\n",
              "       width=\"24px\">\n",
              "    <path d=\"M0 0h24v24H0V0z\" fill=\"none\"/>\n",
              "    <path d=\"M18.56 5.44l.94 2.06.94-2.06 2.06-.94-2.06-.94-.94-2.06-.94 2.06-2.06.94zm-11 1L8.5 8.5l.94-2.06 2.06-.94-2.06-.94L8.5 2.5l-.94 2.06-2.06.94zm10 10l.94 2.06.94-2.06 2.06-.94-2.06-.94-.94-2.06-.94 2.06-2.06.94z\"/><path d=\"M17.41 7.96l-1.37-1.37c-.4-.4-.92-.59-1.43-.59-.52 0-1.04.2-1.43.59L10.3 9.45l-7.72 7.72c-.78.78-.78 2.05 0 2.83L4 21.41c.39.39.9.59 1.41.59.51 0 1.02-.2 1.41-.59l7.78-7.78 2.81-2.81c.8-.78.8-2.07 0-2.86zM5.41 20L4 18.59l7.72-7.72 1.47 1.35L5.41 20z\"/>\n",
              "  </svg>\n",
              "      </button>\n",
              "      \n",
              "  <style>\n",
              "    .colab-df-container {\n",
              "      display:flex;\n",
              "      flex-wrap:wrap;\n",
              "      gap: 12px;\n",
              "    }\n",
              "\n",
              "    .colab-df-convert {\n",
              "      background-color: #E8F0FE;\n",
              "      border: none;\n",
              "      border-radius: 50%;\n",
              "      cursor: pointer;\n",
              "      display: none;\n",
              "      fill: #1967D2;\n",
              "      height: 32px;\n",
              "      padding: 0 0 0 0;\n",
              "      width: 32px;\n",
              "    }\n",
              "\n",
              "    .colab-df-convert:hover {\n",
              "      background-color: #E2EBFA;\n",
              "      box-shadow: 0px 1px 2px rgba(60, 64, 67, 0.3), 0px 1px 3px 1px rgba(60, 64, 67, 0.15);\n",
              "      fill: #174EA6;\n",
              "    }\n",
              "\n",
              "    [theme=dark] .colab-df-convert {\n",
              "      background-color: #3B4455;\n",
              "      fill: #D2E3FC;\n",
              "    }\n",
              "\n",
              "    [theme=dark] .colab-df-convert:hover {\n",
              "      background-color: #434B5C;\n",
              "      box-shadow: 0px 1px 3px 1px rgba(0, 0, 0, 0.15);\n",
              "      filter: drop-shadow(0px 1px 2px rgba(0, 0, 0, 0.3));\n",
              "      fill: #FFFFFF;\n",
              "    }\n",
              "  </style>\n",
              "\n",
              "      <script>\n",
              "        const buttonEl =\n",
              "          document.querySelector('#df-74a752e7-4a76-4ed0-8b59-9877e9296ee9 button.colab-df-convert');\n",
              "        buttonEl.style.display =\n",
              "          google.colab.kernel.accessAllowed ? 'block' : 'none';\n",
              "\n",
              "        async function convertToInteractive(key) {\n",
              "          const element = document.querySelector('#df-74a752e7-4a76-4ed0-8b59-9877e9296ee9');\n",
              "          const dataTable =\n",
              "            await google.colab.kernel.invokeFunction('convertToInteractive',\n",
              "                                                     [key], {});\n",
              "          if (!dataTable) return;\n",
              "\n",
              "          const docLinkHtml = 'Like what you see? Visit the ' +\n",
              "            '<a target=\"_blank\" href=https://colab.research.google.com/notebooks/data_table.ipynb>data table notebook</a>'\n",
              "            + ' to learn more about interactive tables.';\n",
              "          element.innerHTML = '';\n",
              "          dataTable['output_type'] = 'display_data';\n",
              "          await google.colab.output.renderOutput(dataTable, element);\n",
              "          const docLink = document.createElement('div');\n",
              "          docLink.innerHTML = docLinkHtml;\n",
              "          element.appendChild(docLink);\n",
              "        }\n",
              "      </script>\n",
              "    </div>\n",
              "  </div>\n",
              "  "
            ]
          },
          "metadata": {},
          "execution_count": 3
        }
      ]
    },
    {
      "cell_type": "code",
      "source": [
        "df2 = pd.read_excel(\"/content/drive/MyDrive/Senior Project/Datasets/Results from 2020-7-20 till 2021-10-18 (Only Northern provinces).xlsx\")\n",
        "df2.head()"
      ],
      "metadata": {
        "id": "kVf2G1De5uoS",
        "colab": {
          "base_uri": "https://localhost:8080/",
          "height": 444
        },
        "outputId": "07d88fa6-f0f9-46ab-d926-176df1487192"
      },
      "execution_count": null,
      "outputs": [
        {
          "output_type": "execute_result",
          "data": {
            "text/plain": [
              "       id stationID                         nameTH  \\\n",
              "0  912168       o21   ที่ว่าการอำเภอเมืองกำแพงเพชร   \n",
              "1  912302       o21   ที่ว่าการอำเภอเมืองกำแพงเพชร   \n",
              "2  912436       o21   ที่ว่าการอำเภอเมืองกำแพงเพชร   \n",
              "3  912570       o21   ที่ว่าการอำเภอเมืองกำแพงเพชร   \n",
              "4  912704       o21   ที่ว่าการอำเภอเมืองกำแพงเพชร   \n",
              "\n",
              "                          nameEN stationType       lat       long    date_aq  \\\n",
              "0  District Hall, Kamphaeng Phet      MOBILE  16.48515  99.524454 2020-11-29   \n",
              "1  District Hall, Kamphaeng Phet      MOBILE  16.48515  99.524454 2020-11-29   \n",
              "2  District Hall, Kamphaeng Phet      MOBILE  16.48515  99.524454 2020-11-29   \n",
              "3  District Hall, Kamphaeng Phet      MOBILE  16.48515  99.524454 2020-11-29   \n",
              "4  District Hall, Kamphaeng Phet      MOBILE  16.48515  99.524454 2020-11-29   \n",
              "\n",
              "    time_aq  PM25  PM10  NO2  SO2  CO  O3  AQI                        areaTH  \\\n",
              "0  14:00:00  22.0   NaN  NaN  NaN NaN NaN    1  ต.ในเมือง อ.เมือง, กำแพงเพชร   \n",
              "1  15:00:00  22.0   NaN  NaN  NaN NaN NaN    1  ต.ในเมือง อ.เมือง, กำแพงเพชร   \n",
              "2  16:00:00  22.0   NaN  NaN  NaN NaN NaN    1  ต.ในเมือง อ.เมือง, กำแพงเพชร   \n",
              "3  17:00:00  22.0   NaN  NaN  NaN NaN NaN    1  ต.ในเมือง อ.เมือง, กำแพงเพชร   \n",
              "4  18:00:00  22.0   NaN  NaN  NaN NaN NaN    1  ต.ในเมือง อ.เมือง, กำแพงเพชร   \n",
              "\n",
              "                   areaEN         datetime_aq  \n",
              "0  Mueang, Kamphaeng Phet 2020-11-29 14:00:00  \n",
              "1  Mueang, Kamphaeng Phet 2020-11-29 15:00:00  \n",
              "2  Mueang, Kamphaeng Phet 2020-11-29 16:00:00  \n",
              "3  Mueang, Kamphaeng Phet 2020-11-29 17:00:00  \n",
              "4  Mueang, Kamphaeng Phet 2020-11-29 18:00:00  "
            ],
            "text/html": [
              "\n",
              "  <div id=\"df-8a91e7ad-82b7-4e74-9751-2ae435b3bd71\">\n",
              "    <div class=\"colab-df-container\">\n",
              "      <div>\n",
              "<style scoped>\n",
              "    .dataframe tbody tr th:only-of-type {\n",
              "        vertical-align: middle;\n",
              "    }\n",
              "\n",
              "    .dataframe tbody tr th {\n",
              "        vertical-align: top;\n",
              "    }\n",
              "\n",
              "    .dataframe thead th {\n",
              "        text-align: right;\n",
              "    }\n",
              "</style>\n",
              "<table border=\"1\" class=\"dataframe\">\n",
              "  <thead>\n",
              "    <tr style=\"text-align: right;\">\n",
              "      <th></th>\n",
              "      <th>id</th>\n",
              "      <th>stationID</th>\n",
              "      <th>nameTH</th>\n",
              "      <th>nameEN</th>\n",
              "      <th>stationType</th>\n",
              "      <th>lat</th>\n",
              "      <th>long</th>\n",
              "      <th>date_aq</th>\n",
              "      <th>time_aq</th>\n",
              "      <th>PM25</th>\n",
              "      <th>PM10</th>\n",
              "      <th>NO2</th>\n",
              "      <th>SO2</th>\n",
              "      <th>CO</th>\n",
              "      <th>O3</th>\n",
              "      <th>AQI</th>\n",
              "      <th>areaTH</th>\n",
              "      <th>areaEN</th>\n",
              "      <th>datetime_aq</th>\n",
              "    </tr>\n",
              "  </thead>\n",
              "  <tbody>\n",
              "    <tr>\n",
              "      <th>0</th>\n",
              "      <td>912168</td>\n",
              "      <td>o21</td>\n",
              "      <td>ที่ว่าการอำเภอเมืองกำแพงเพชร</td>\n",
              "      <td>District Hall, Kamphaeng Phet</td>\n",
              "      <td>MOBILE</td>\n",
              "      <td>16.48515</td>\n",
              "      <td>99.524454</td>\n",
              "      <td>2020-11-29</td>\n",
              "      <td>14:00:00</td>\n",
              "      <td>22.0</td>\n",
              "      <td>NaN</td>\n",
              "      <td>NaN</td>\n",
              "      <td>NaN</td>\n",
              "      <td>NaN</td>\n",
              "      <td>NaN</td>\n",
              "      <td>1</td>\n",
              "      <td>ต.ในเมือง อ.เมือง, กำแพงเพชร</td>\n",
              "      <td>Mueang, Kamphaeng Phet</td>\n",
              "      <td>2020-11-29 14:00:00</td>\n",
              "    </tr>\n",
              "    <tr>\n",
              "      <th>1</th>\n",
              "      <td>912302</td>\n",
              "      <td>o21</td>\n",
              "      <td>ที่ว่าการอำเภอเมืองกำแพงเพชร</td>\n",
              "      <td>District Hall, Kamphaeng Phet</td>\n",
              "      <td>MOBILE</td>\n",
              "      <td>16.48515</td>\n",
              "      <td>99.524454</td>\n",
              "      <td>2020-11-29</td>\n",
              "      <td>15:00:00</td>\n",
              "      <td>22.0</td>\n",
              "      <td>NaN</td>\n",
              "      <td>NaN</td>\n",
              "      <td>NaN</td>\n",
              "      <td>NaN</td>\n",
              "      <td>NaN</td>\n",
              "      <td>1</td>\n",
              "      <td>ต.ในเมือง อ.เมือง, กำแพงเพชร</td>\n",
              "      <td>Mueang, Kamphaeng Phet</td>\n",
              "      <td>2020-11-29 15:00:00</td>\n",
              "    </tr>\n",
              "    <tr>\n",
              "      <th>2</th>\n",
              "      <td>912436</td>\n",
              "      <td>o21</td>\n",
              "      <td>ที่ว่าการอำเภอเมืองกำแพงเพชร</td>\n",
              "      <td>District Hall, Kamphaeng Phet</td>\n",
              "      <td>MOBILE</td>\n",
              "      <td>16.48515</td>\n",
              "      <td>99.524454</td>\n",
              "      <td>2020-11-29</td>\n",
              "      <td>16:00:00</td>\n",
              "      <td>22.0</td>\n",
              "      <td>NaN</td>\n",
              "      <td>NaN</td>\n",
              "      <td>NaN</td>\n",
              "      <td>NaN</td>\n",
              "      <td>NaN</td>\n",
              "      <td>1</td>\n",
              "      <td>ต.ในเมือง อ.เมือง, กำแพงเพชร</td>\n",
              "      <td>Mueang, Kamphaeng Phet</td>\n",
              "      <td>2020-11-29 16:00:00</td>\n",
              "    </tr>\n",
              "    <tr>\n",
              "      <th>3</th>\n",
              "      <td>912570</td>\n",
              "      <td>o21</td>\n",
              "      <td>ที่ว่าการอำเภอเมืองกำแพงเพชร</td>\n",
              "      <td>District Hall, Kamphaeng Phet</td>\n",
              "      <td>MOBILE</td>\n",
              "      <td>16.48515</td>\n",
              "      <td>99.524454</td>\n",
              "      <td>2020-11-29</td>\n",
              "      <td>17:00:00</td>\n",
              "      <td>22.0</td>\n",
              "      <td>NaN</td>\n",
              "      <td>NaN</td>\n",
              "      <td>NaN</td>\n",
              "      <td>NaN</td>\n",
              "      <td>NaN</td>\n",
              "      <td>1</td>\n",
              "      <td>ต.ในเมือง อ.เมือง, กำแพงเพชร</td>\n",
              "      <td>Mueang, Kamphaeng Phet</td>\n",
              "      <td>2020-11-29 17:00:00</td>\n",
              "    </tr>\n",
              "    <tr>\n",
              "      <th>4</th>\n",
              "      <td>912704</td>\n",
              "      <td>o21</td>\n",
              "      <td>ที่ว่าการอำเภอเมืองกำแพงเพชร</td>\n",
              "      <td>District Hall, Kamphaeng Phet</td>\n",
              "      <td>MOBILE</td>\n",
              "      <td>16.48515</td>\n",
              "      <td>99.524454</td>\n",
              "      <td>2020-11-29</td>\n",
              "      <td>18:00:00</td>\n",
              "      <td>22.0</td>\n",
              "      <td>NaN</td>\n",
              "      <td>NaN</td>\n",
              "      <td>NaN</td>\n",
              "      <td>NaN</td>\n",
              "      <td>NaN</td>\n",
              "      <td>1</td>\n",
              "      <td>ต.ในเมือง อ.เมือง, กำแพงเพชร</td>\n",
              "      <td>Mueang, Kamphaeng Phet</td>\n",
              "      <td>2020-11-29 18:00:00</td>\n",
              "    </tr>\n",
              "  </tbody>\n",
              "</table>\n",
              "</div>\n",
              "      <button class=\"colab-df-convert\" onclick=\"convertToInteractive('df-8a91e7ad-82b7-4e74-9751-2ae435b3bd71')\"\n",
              "              title=\"Convert this dataframe to an interactive table.\"\n",
              "              style=\"display:none;\">\n",
              "        \n",
              "  <svg xmlns=\"http://www.w3.org/2000/svg\" height=\"24px\"viewBox=\"0 0 24 24\"\n",
              "       width=\"24px\">\n",
              "    <path d=\"M0 0h24v24H0V0z\" fill=\"none\"/>\n",
              "    <path d=\"M18.56 5.44l.94 2.06.94-2.06 2.06-.94-2.06-.94-.94-2.06-.94 2.06-2.06.94zm-11 1L8.5 8.5l.94-2.06 2.06-.94-2.06-.94L8.5 2.5l-.94 2.06-2.06.94zm10 10l.94 2.06.94-2.06 2.06-.94-2.06-.94-.94-2.06-.94 2.06-2.06.94z\"/><path d=\"M17.41 7.96l-1.37-1.37c-.4-.4-.92-.59-1.43-.59-.52 0-1.04.2-1.43.59L10.3 9.45l-7.72 7.72c-.78.78-.78 2.05 0 2.83L4 21.41c.39.39.9.59 1.41.59.51 0 1.02-.2 1.41-.59l7.78-7.78 2.81-2.81c.8-.78.8-2.07 0-2.86zM5.41 20L4 18.59l7.72-7.72 1.47 1.35L5.41 20z\"/>\n",
              "  </svg>\n",
              "      </button>\n",
              "      \n",
              "  <style>\n",
              "    .colab-df-container {\n",
              "      display:flex;\n",
              "      flex-wrap:wrap;\n",
              "      gap: 12px;\n",
              "    }\n",
              "\n",
              "    .colab-df-convert {\n",
              "      background-color: #E8F0FE;\n",
              "      border: none;\n",
              "      border-radius: 50%;\n",
              "      cursor: pointer;\n",
              "      display: none;\n",
              "      fill: #1967D2;\n",
              "      height: 32px;\n",
              "      padding: 0 0 0 0;\n",
              "      width: 32px;\n",
              "    }\n",
              "\n",
              "    .colab-df-convert:hover {\n",
              "      background-color: #E2EBFA;\n",
              "      box-shadow: 0px 1px 2px rgba(60, 64, 67, 0.3), 0px 1px 3px 1px rgba(60, 64, 67, 0.15);\n",
              "      fill: #174EA6;\n",
              "    }\n",
              "\n",
              "    [theme=dark] .colab-df-convert {\n",
              "      background-color: #3B4455;\n",
              "      fill: #D2E3FC;\n",
              "    }\n",
              "\n",
              "    [theme=dark] .colab-df-convert:hover {\n",
              "      background-color: #434B5C;\n",
              "      box-shadow: 0px 1px 3px 1px rgba(0, 0, 0, 0.15);\n",
              "      filter: drop-shadow(0px 1px 2px rgba(0, 0, 0, 0.3));\n",
              "      fill: #FFFFFF;\n",
              "    }\n",
              "  </style>\n",
              "\n",
              "      <script>\n",
              "        const buttonEl =\n",
              "          document.querySelector('#df-8a91e7ad-82b7-4e74-9751-2ae435b3bd71 button.colab-df-convert');\n",
              "        buttonEl.style.display =\n",
              "          google.colab.kernel.accessAllowed ? 'block' : 'none';\n",
              "\n",
              "        async function convertToInteractive(key) {\n",
              "          const element = document.querySelector('#df-8a91e7ad-82b7-4e74-9751-2ae435b3bd71');\n",
              "          const dataTable =\n",
              "            await google.colab.kernel.invokeFunction('convertToInteractive',\n",
              "                                                     [key], {});\n",
              "          if (!dataTable) return;\n",
              "\n",
              "          const docLinkHtml = 'Like what you see? Visit the ' +\n",
              "            '<a target=\"_blank\" href=https://colab.research.google.com/notebooks/data_table.ipynb>data table notebook</a>'\n",
              "            + ' to learn more about interactive tables.';\n",
              "          element.innerHTML = '';\n",
              "          dataTable['output_type'] = 'display_data';\n",
              "          await google.colab.output.renderOutput(dataTable, element);\n",
              "          const docLink = document.createElement('div');\n",
              "          docLink.innerHTML = docLinkHtml;\n",
              "          element.appendChild(docLink);\n",
              "        }\n",
              "      </script>\n",
              "    </div>\n",
              "  </div>\n",
              "  "
            ]
          },
          "metadata": {},
          "execution_count": 4
        }
      ]
    },
    {
      "cell_type": "code",
      "source": [
        "ds1 =  pd.concat([df1.reset_index(drop=True), \n",
        "                  df2.reset_index(drop=True)], axis=0).reset_index(drop=True)"
      ],
      "metadata": {
        "id": "jQHr_3VsrLU6"
      },
      "execution_count": null,
      "outputs": []
    },
    {
      "cell_type": "markdown",
      "source": [
        "### FRP"
      ],
      "metadata": {
        "id": "LdiIMR9-rFJN"
      }
    },
    {
      "cell_type": "code",
      "source": [
        "df3 = pd.read_csv(\"/content/drive/MyDrive/Senior Project/Datasets/MODIS 1_1_2020 -  31_7_2020.csv\")\n",
        "#df3['ACQ_DATE'] = pd.to_datetime(df3['ACQ_DATE'],format='%m/%d/%Y')\n",
        "df3['ACQ_DATE'] = pd.to_datetime(df3['ACQ_DATE'],format='%Y/%m/%d')\n",
        "df3['ACQ_DATE'] = df3['ACQ_DATE'].dt.strftime('%m/%d/%Y').astype(str)\n",
        "#df3['ACQ_DATE'] = df3['ACQ_DATE'].dt.strftime('%02m/%02d/%Y').astype(str)"
      ],
      "metadata": {
        "id": "T9-Pzlh1NMW7"
      },
      "execution_count": null,
      "outputs": []
    },
    {
      "cell_type": "code",
      "source": [
        "df4 = pd.read_csv(\"/content/drive/MyDrive/Senior Project/Datasets/MODIS 20_7_2020 - 31_12_2020.csv\")\n",
        "df4['ACQ_DATE'] = pd.to_datetime(df4['ACQ_DATE'],format='%Y/%m/%d')\n",
        "df4['ACQ_DATE'] = df4['ACQ_DATE'].dt.strftime('%m/%d/%Y').astype(str)"
      ],
      "metadata": {
        "id": "09-_dpluNhLC"
      },
      "execution_count": null,
      "outputs": []
    },
    {
      "cell_type": "code",
      "source": [
        "df5 = pd.read_csv(\"/content/drive/MyDrive/Senior Project/Datasets/MODIS 1_1_2021 - 30_9_2021.csv\")\n",
        "df5['ACQ_DATE'] = pd.to_datetime(df5['ACQ_DATE'],format='%Y/%m/%d')\n",
        "df5['ACQ_DATE'] = df5['ACQ_DATE'].dt.strftime('%m/%d/%Y').astype(str)"
      ],
      "metadata": {
        "id": "c5YuMm9DNUsT"
      },
      "execution_count": null,
      "outputs": []
    },
    {
      "cell_type": "code",
      "source": [
        "df6 = pd.read_csv(\"/content/drive/MyDrive/Senior Project/Datasets/VIIRS 1_1_2020 - 31_7_2020.csv\")\n",
        "df6['ACQ_DATE'] = pd.to_datetime(df6['ACQ_DATE'],format='%Y/%m/%d')\n",
        "df6['ACQ_DATE'] = df6['ACQ_DATE'].dt.strftime('%m/%d/%Y').astype(str)"
      ],
      "metadata": {
        "id": "0uxKsZGVNhIU"
      },
      "execution_count": null,
      "outputs": []
    },
    {
      "cell_type": "code",
      "source": [
        "df7 = pd.read_csv(\"/content/drive/MyDrive/Senior Project/Datasets/VIIRS 20_7_2020 - 31_12_2020.csv\")\n",
        "df7['ACQ_DATE'] = pd.to_datetime(df7['ACQ_DATE'],format='%Y/%m/%d')\n",
        "df7['ACQ_DATE'] = df7['ACQ_DATE'].dt.strftime('%m/%d/%Y').astype(str)"
      ],
      "metadata": {
        "id": "eSX6P1fyNg5k"
      },
      "execution_count": null,
      "outputs": []
    },
    {
      "cell_type": "code",
      "source": [
        "df8 = pd.read_csv(\"/content/drive/MyDrive/Senior Project/Datasets/VIIRS 1_1_2021 - 30_9_2021.csv\")\n",
        "df8['ACQ_DATE'] = pd.to_datetime(df8['ACQ_DATE'],format='%Y/%m/%d')\n",
        "df8['ACQ_DATE'] = df8['ACQ_DATE'].dt.strftime('%m/%d/%Y').astype(str)"
      ],
      "metadata": {
        "id": "sFIyP5ZTNhD2"
      },
      "execution_count": null,
      "outputs": []
    },
    {
      "cell_type": "code",
      "source": [
        "#merge dataframes\n",
        "ds2 = pd.concat([df3.reset_index(drop=True),\n",
        "                 df4.reset_index(drop=True),\n",
        "                 df5.reset_index(drop=True),\n",
        "                 df6.reset_index(drop=True),\n",
        "                 df7.reset_index(drop=True),\n",
        "                 df8.reset_index(drop=True)],axis=0).reset_index(drop=True)"
      ],
      "metadata": {
        "id": "d4kRaeBYfhs5"
      },
      "execution_count": null,
      "outputs": []
    },
    {
      "cell_type": "markdown",
      "source": [
        "### From GEE"
      ],
      "metadata": {
        "id": "fRyKq7OEZsNt"
      }
    },
    {
      "cell_type": "code",
      "source": [
        "dfCO = pd.read_csv(\"/content/drive/MyDrive/Senior Project/Datasets/CO.csv\")\n",
        "dfNO2 = pd.read_csv(\"/content/drive/MyDrive/Senior Project/Datasets/NO2.csv\")\n",
        "dfSO2 = pd.read_csv(\"/content/drive/MyDrive/Senior Project/Datasets/SO2.csv\")\n",
        "dfO3 = pd.read_csv(\"/content/drive/MyDrive/Senior Project/Datasets/O3.csv\")"
      ],
      "metadata": {
        "id": "rkyJtGWRMvWJ"
      },
      "execution_count": null,
      "outputs": []
    },
    {
      "cell_type": "code",
      "source": [
        "dfCO1TH = pd.read_csv(\"/content/drive/MyDrive/Senior Project/Datasets/CO-TH-2020.csv\")\n",
        "dfCO2TH = pd.read_csv(\"/content/drive/MyDrive/Senior Project/Datasets/CO-TH-2021.csv\")\n",
        "dfCO3TH = pd.read_csv(\"/content/drive/MyDrive/Senior Project/Datasets/CO-TH-2022.csv\")\n",
        "dfNO21TH = pd.read_csv(\"/content/drive/MyDrive/Senior Project/Datasets/NO2-TH-2020.csv\")\n",
        "dfNO22TH = pd.read_csv(\"/content/drive/MyDrive/Senior Project/Datasets/NO2-TH-2021.csv\")\n",
        "dfNO23TH = pd.read_csv(\"/content/drive/MyDrive/Senior Project/Datasets/NO2-TH-2022.csv\")\n",
        "dfSO21TH = pd.read_csv(\"/content/drive/MyDrive/Senior Project/Datasets/SO2-TH-2020.csv\")\n",
        "dfSO22TH = pd.read_csv(\"/content/drive/MyDrive/Senior Project/Datasets/SO2-TH-2021.csv\")\n",
        "dfSO23TH = pd.read_csv(\"/content/drive/MyDrive/Senior Project/Datasets/SO2-TH-2022.csv\")\n",
        "dfO31TH = pd.read_csv(\"/content/drive/MyDrive/Senior Project/Datasets/O3-TH-2020.csv\")\n",
        "dfO32TH = pd.read_csv(\"/content/drive/MyDrive/Senior Project/Datasets/O3-TH-2021.csv\")\n",
        "dfO33TH = pd.read_csv(\"/content/drive/MyDrive/Senior Project/Datasets/O3-TH-2022.csv\")\n"
      ],
      "metadata": {
        "id": "S5DQKSzdzHJA"
      },
      "execution_count": null,
      "outputs": []
    },
    {
      "cell_type": "code",
      "source": [
        "#merge dataframes\n",
        "dfCO = pd.concat([dfCO1TH.reset_index(drop=True),\n",
        "                 dfCO2TH.reset_index(drop=True),\n",
        "                 dfCO3TH.reset_index(drop=True)],axis=0).reset_index(drop=True)\n",
        "dfNO2 = pd.concat([dfNO21TH.reset_index(drop=True),\n",
        "                 dfNO22TH.reset_index(drop=True),\n",
        "                 dfNO23TH.reset_index(drop=True)],axis=0).reset_index(drop=True)\n",
        "dfSO2 = pd.concat([dfSO21TH.reset_index(drop=True),\n",
        "                 dfSO22TH.reset_index(drop=True),\n",
        "                 dfSO23TH.reset_index(drop=True)],axis=0).reset_index(drop=True)\n",
        "dfO3 = pd.concat([dfO31TH.reset_index(drop=True),\n",
        "                 dfO32TH.reset_index(drop=True),\n",
        "                 dfO33TH.reset_index(drop=True)],axis=0).reset_index(drop=True)"
      ],
      "metadata": {
        "id": "hXeuUI7D0ElE"
      },
      "execution_count": null,
      "outputs": []
    },
    {
      "cell_type": "code",
      "source": [
        "dfCO['T_NAME_E'].value_counts()"
      ],
      "metadata": {
        "colab": {
          "base_uri": "https://localhost:8080/"
        },
        "id": "q32VtH-2ylke",
        "outputId": "263e39c4-3b21-4d99-d3da-77bc28fbeb51"
      },
      "execution_count": null,
      "outputs": [
        {
          "output_type": "execute_result",
          "data": {
            "text/plain": [
              "SAN SAI       3\n",
              "NAM PHRAE     2\n",
              "WIANG         2\n",
              "BAN LUANG     2\n",
              "SAN KLANG     2\n",
              "             ..\n",
              "CHOMPHU       1\n",
              "SARAPHI       1\n",
              "NONG FAEK     1\n",
              "YANG NOENG    1\n",
              "ON KLANG      1\n",
              "Name: T_NAME_E, Length: 192, dtype: int64"
            ]
          },
          "metadata": {},
          "execution_count": 118
        }
      ]
    },
    {
      "cell_type": "code",
      "source": [
        "dfCO_loc = dfCO.iloc[:,[-2]]\n",
        "dfCO_data = dfCO.iloc[:,1:-2]\n",
        "df_CO_1 = pd.DataFrame()\n",
        "for i in range(len(dfCO_data.columns)):\n",
        "  df_dummy = pd.concat([dfCO_data.iloc[:,i],dfCO_loc],axis=1)\n",
        "  df_dummy[\"date_time\"] = df_dummy.columns.values[0][0:31]\n",
        "  df_dummy.rename(columns={list(df_dummy)[0]:'CO_mol/m2'}, inplace=True)\n",
        "  df_CO_1 = pd.concat([df_CO_1,df_dummy],axis=0).reset_index(drop=True)"
      ],
      "metadata": {
        "id": "7-UZ0NCFRGZH"
      },
      "execution_count": null,
      "outputs": []
    },
    {
      "cell_type": "code",
      "source": [
        "dfCO.iloc[:,1:-1]"
      ],
      "metadata": {
        "colab": {
          "base_uri": "https://localhost:8080/",
          "height": 487
        },
        "id": "xYXbFIty1Y0i",
        "outputId": "2529589e-fc86-43f7-f41d-7018f4bcdeab"
      },
      "execution_count": null,
      "outputs": [
        {
          "output_type": "execute_result",
          "data": {
            "text/plain": [
              "      20200101T051608_20200101T054859_CO_column_number_density  \\\n",
              "0                                                   NaN          \n",
              "1                                                   NaN          \n",
              "2                                                   NaN          \n",
              "3                                                   NaN          \n",
              "4                                                   NaN          \n",
              "...                                                 ...          \n",
              "2743                                                NaN          \n",
              "2744                                                NaN          \n",
              "2745                                                NaN          \n",
              "2746                                                NaN          \n",
              "2747                                                NaN          \n",
              "\n",
              "      20200101T065108_20200101T072730_CO_column_number_density  \\\n",
              "0                                                   NaN          \n",
              "1                                              0.036468          \n",
              "2                                                   NaN          \n",
              "3                                                   NaN          \n",
              "4                                                   NaN          \n",
              "...                                                 ...          \n",
              "2743                                                NaN          \n",
              "2744                                                NaN          \n",
              "2745                                                NaN          \n",
              "2746                                                NaN          \n",
              "2747                                                NaN          \n",
              "\n",
              "      20200101T065608_20200101T072910_CO_column_number_density  \\\n",
              "0                                              0.034941          \n",
              "1                                              0.034833          \n",
              "2                                              0.034839          \n",
              "3                                                   NaN          \n",
              "4                                                   NaN          \n",
              "...                                                 ...          \n",
              "2743                                                NaN          \n",
              "2744                                                NaN          \n",
              "2745                                                NaN          \n",
              "2746                                                NaN          \n",
              "2747                                                NaN          \n",
              "\n",
              "      20200101T070108_20200101T072850_CO_column_number_density  \\\n",
              "0                                                   NaN          \n",
              "1                                                   NaN          \n",
              "2                                                   NaN          \n",
              "3                                                   NaN          \n",
              "4                                                   NaN          \n",
              "...                                                 ...          \n",
              "2743                                                NaN          \n",
              "2744                                                NaN          \n",
              "2745                                                NaN          \n",
              "2746                                                NaN          \n",
              "2747                                                NaN          \n",
              "\n",
              "      20200102T063608_20200102T071051_CO_column_number_density  \\\n",
              "0                                              0.033647          \n",
              "1                                              0.033284          \n",
              "2                                              0.034137          \n",
              "3                                              0.045346          \n",
              "4                                              0.044584          \n",
              "...                                                 ...          \n",
              "2743                                                NaN          \n",
              "2744                                                NaN          \n",
              "2745                                                NaN          \n",
              "2746                                                NaN          \n",
              "2747                                                NaN          \n",
              "\n",
              "      20200102T064108_20200102T071022_CO_column_number_density  \\\n",
              "0                                                   NaN          \n",
              "1                                                   NaN          \n",
              "2                                                   NaN          \n",
              "3                                                   NaN          \n",
              "4                                                   NaN          \n",
              "...                                                 ...          \n",
              "2743                                                NaN          \n",
              "2744                                                NaN          \n",
              "2745                                                NaN          \n",
              "2746                                                NaN          \n",
              "2747                                                NaN          \n",
              "\n",
              "      20200103T061608_20200103T065103_CO_column_number_density  \\\n",
              "0                                              0.030090          \n",
              "1                                              0.033350          \n",
              "2                                              0.032121          \n",
              "3                                              0.046356          \n",
              "4                                              0.045655          \n",
              "...                                                 ...          \n",
              "2743                                                NaN          \n",
              "2744                                                NaN          \n",
              "2745                                                NaN          \n",
              "2746                                                NaN          \n",
              "2747                                                NaN          \n",
              "\n",
              "      20200103T062108_20200103T065146_CO_column_number_density  \\\n",
              "0                                                   NaN          \n",
              "1                                                   NaN          \n",
              "2                                                   NaN          \n",
              "3                                                   NaN          \n",
              "4                                                   NaN          \n",
              "...                                                 ...          \n",
              "2743                                                NaN          \n",
              "2744                                                NaN          \n",
              "2745                                                NaN          \n",
              "2746                                                NaN          \n",
              "2747                                                NaN          \n",
              "\n",
              "      20200104T055608_20200104T063234_CO_column_number_density  \\\n",
              "0                                                   NaN          \n",
              "1                                                   NaN          \n",
              "2                                                   NaN          \n",
              "3                                                   NaN          \n",
              "4                                                   NaN          \n",
              "...                                                 ...          \n",
              "2743                                                NaN          \n",
              "2744                                                NaN          \n",
              "2745                                                NaN          \n",
              "2746                                                NaN          \n",
              "2747                                                NaN          \n",
              "\n",
              "      20200104T060108_20200104T063205_CO_column_number_density  ...  \\\n",
              "0                                                   NaN         ...   \n",
              "1                                                   NaN         ...   \n",
              "2                                                   NaN         ...   \n",
              "3                                              0.043915         ...   \n",
              "4                                              0.044174         ...   \n",
              "...                                                 ...         ...   \n",
              "2743                                                NaN         ...   \n",
              "2744                                                NaN         ...   \n",
              "2745                                                NaN         ...   \n",
              "2746                                                NaN         ...   \n",
              "2747                                                NaN         ...   \n",
              "\n",
              "      20221006T063408_20221006T071331_CO_column_number_density  \\\n",
              "0                                                   NaN          \n",
              "1                                                   NaN          \n",
              "2                                                   NaN          \n",
              "3                                                   NaN          \n",
              "4                                                   NaN          \n",
              "...                                                 ...          \n",
              "2743                                           0.026606          \n",
              "2744                                           0.024582          \n",
              "2745                                           0.027138          \n",
              "2746                                           0.026725          \n",
              "2747                                           0.026333          \n",
              "\n",
              "      20221006T063908_20221006T071405_CO_column_number_density  \\\n",
              "0                                                   NaN          \n",
              "1                                                   NaN          \n",
              "2                                                   NaN          \n",
              "3                                                   NaN          \n",
              "4                                                   NaN          \n",
              "...                                                 ...          \n",
              "2743                                                NaN          \n",
              "2744                                                NaN          \n",
              "2745                                           0.024883          \n",
              "2746                                                NaN          \n",
              "2747                                                NaN          \n",
              "\n",
              "      20221007T061408_20221007T065412_CO_column_number_density  \\\n",
              "0                                                   NaN          \n",
              "1                                                   NaN          \n",
              "2                                                   NaN          \n",
              "3                                                   NaN          \n",
              "4                                                   NaN          \n",
              "...                                                 ...          \n",
              "2743                                                NaN          \n",
              "2744                                                NaN          \n",
              "2745                                                NaN          \n",
              "2746                                                NaN          \n",
              "2747                                                NaN          \n",
              "\n",
              "      20221007T061908_20221007T065449_CO_column_number_density  \\\n",
              "0                                                   NaN          \n",
              "1                                                   NaN          \n",
              "2                                                   NaN          \n",
              "3                                                   NaN          \n",
              "4                                                   NaN          \n",
              "...                                                 ...          \n",
              "2743                                           0.026117          \n",
              "2744                                           0.024940          \n",
              "2745                                                NaN          \n",
              "2746                                                NaN          \n",
              "2747                                           0.026117          \n",
              "\n",
              "      20221008T055408_20221008T063434_CO_column_number_density  \\\n",
              "0                                                   NaN          \n",
              "1                                                   NaN          \n",
              "2                                                   NaN          \n",
              "3                                                   NaN          \n",
              "4                                                   NaN          \n",
              "...                                                 ...          \n",
              "2743                                                NaN          \n",
              "2744                                                NaN          \n",
              "2745                                                NaN          \n",
              "2746                                                NaN          \n",
              "2747                                                NaN          \n",
              "\n",
              "      20221008T055908_20221008T063546_CO_column_number_density  \\\n",
              "0                                                   NaN          \n",
              "1                                                   NaN          \n",
              "2                                                   NaN          \n",
              "3                                                   NaN          \n",
              "4                                                   NaN          \n",
              "...                                                 ...          \n",
              "2743                                           0.024799          \n",
              "2744                                           0.025191          \n",
              "2745                                           0.024587          \n",
              "2746                                           0.024759          \n",
              "2747                                           0.024859          \n",
              "\n",
              "      20221008T073908_20221008T081704_CO_column_number_density  \\\n",
              "0                                                   NaN          \n",
              "1                                                   NaN          \n",
              "2                                                   NaN          \n",
              "3                                                   NaN          \n",
              "4                                                   NaN          \n",
              "...                                                 ...          \n",
              "2743                                                NaN          \n",
              "2744                                                NaN          \n",
              "2745                                                NaN          \n",
              "2746                                                NaN          \n",
              "2747                                                NaN          \n",
              "\n",
              "      20221009T053908_20221009T061704_CO_column_number_density  \\\n",
              "0                                                   NaN          \n",
              "1                                                   NaN          \n",
              "2                                                   NaN          \n",
              "3                                                   NaN          \n",
              "4                                                   NaN          \n",
              "...                                                 ...          \n",
              "2743                                                NaN          \n",
              "2744                                                NaN          \n",
              "2745                                                NaN          \n",
              "2746                                                NaN          \n",
              "2747                                                NaN          \n",
              "\n",
              "      20221009T054408_20221009T061749_CO_column_number_density  \\\n",
              "0                                                   NaN          \n",
              "1                                                   NaN          \n",
              "2                                                   NaN          \n",
              "3                                                   NaN          \n",
              "4                                                   NaN          \n",
              "...                                                 ...          \n",
              "2743                                                NaN          \n",
              "2744                                                NaN          \n",
              "2745                                                NaN          \n",
              "2746                                                NaN          \n",
              "2747                                                NaN          \n",
              "\n",
              "      20221009T071908_20221009T075609_CO_column_number_density  \n",
              "0                                                   NaN         \n",
              "1                                                   NaN         \n",
              "2                                                   NaN         \n",
              "3                                                   NaN         \n",
              "4                                                   NaN         \n",
              "...                                                 ...         \n",
              "2743                                                NaN         \n",
              "2744                                                NaN         \n",
              "2745                                           0.025687         \n",
              "2746                                                NaN         \n",
              "2747                                                NaN         \n",
              "\n",
              "[2748 rows x 3114 columns]"
            ],
            "text/html": [
              "\n",
              "  <div id=\"df-917daa83-0c14-4b10-98f6-630b38235620\">\n",
              "    <div class=\"colab-df-container\">\n",
              "      <div>\n",
              "<style scoped>\n",
              "    .dataframe tbody tr th:only-of-type {\n",
              "        vertical-align: middle;\n",
              "    }\n",
              "\n",
              "    .dataframe tbody tr th {\n",
              "        vertical-align: top;\n",
              "    }\n",
              "\n",
              "    .dataframe thead th {\n",
              "        text-align: right;\n",
              "    }\n",
              "</style>\n",
              "<table border=\"1\" class=\"dataframe\">\n",
              "  <thead>\n",
              "    <tr style=\"text-align: right;\">\n",
              "      <th></th>\n",
              "      <th>20200101T051608_20200101T054859_CO_column_number_density</th>\n",
              "      <th>20200101T065108_20200101T072730_CO_column_number_density</th>\n",
              "      <th>20200101T065608_20200101T072910_CO_column_number_density</th>\n",
              "      <th>20200101T070108_20200101T072850_CO_column_number_density</th>\n",
              "      <th>20200102T063608_20200102T071051_CO_column_number_density</th>\n",
              "      <th>20200102T064108_20200102T071022_CO_column_number_density</th>\n",
              "      <th>20200103T061608_20200103T065103_CO_column_number_density</th>\n",
              "      <th>20200103T062108_20200103T065146_CO_column_number_density</th>\n",
              "      <th>20200104T055608_20200104T063234_CO_column_number_density</th>\n",
              "      <th>20200104T060108_20200104T063205_CO_column_number_density</th>\n",
              "      <th>...</th>\n",
              "      <th>20221006T063408_20221006T071331_CO_column_number_density</th>\n",
              "      <th>20221006T063908_20221006T071405_CO_column_number_density</th>\n",
              "      <th>20221007T061408_20221007T065412_CO_column_number_density</th>\n",
              "      <th>20221007T061908_20221007T065449_CO_column_number_density</th>\n",
              "      <th>20221008T055408_20221008T063434_CO_column_number_density</th>\n",
              "      <th>20221008T055908_20221008T063546_CO_column_number_density</th>\n",
              "      <th>20221008T073908_20221008T081704_CO_column_number_density</th>\n",
              "      <th>20221009T053908_20221009T061704_CO_column_number_density</th>\n",
              "      <th>20221009T054408_20221009T061749_CO_column_number_density</th>\n",
              "      <th>20221009T071908_20221009T075609_CO_column_number_density</th>\n",
              "    </tr>\n",
              "  </thead>\n",
              "  <tbody>\n",
              "    <tr>\n",
              "      <th>0</th>\n",
              "      <td>NaN</td>\n",
              "      <td>NaN</td>\n",
              "      <td>0.034941</td>\n",
              "      <td>NaN</td>\n",
              "      <td>0.033647</td>\n",
              "      <td>NaN</td>\n",
              "      <td>0.030090</td>\n",
              "      <td>NaN</td>\n",
              "      <td>NaN</td>\n",
              "      <td>NaN</td>\n",
              "      <td>...</td>\n",
              "      <td>NaN</td>\n",
              "      <td>NaN</td>\n",
              "      <td>NaN</td>\n",
              "      <td>NaN</td>\n",
              "      <td>NaN</td>\n",
              "      <td>NaN</td>\n",
              "      <td>NaN</td>\n",
              "      <td>NaN</td>\n",
              "      <td>NaN</td>\n",
              "      <td>NaN</td>\n",
              "    </tr>\n",
              "    <tr>\n",
              "      <th>1</th>\n",
              "      <td>NaN</td>\n",
              "      <td>0.036468</td>\n",
              "      <td>0.034833</td>\n",
              "      <td>NaN</td>\n",
              "      <td>0.033284</td>\n",
              "      <td>NaN</td>\n",
              "      <td>0.033350</td>\n",
              "      <td>NaN</td>\n",
              "      <td>NaN</td>\n",
              "      <td>NaN</td>\n",
              "      <td>...</td>\n",
              "      <td>NaN</td>\n",
              "      <td>NaN</td>\n",
              "      <td>NaN</td>\n",
              "      <td>NaN</td>\n",
              "      <td>NaN</td>\n",
              "      <td>NaN</td>\n",
              "      <td>NaN</td>\n",
              "      <td>NaN</td>\n",
              "      <td>NaN</td>\n",
              "      <td>NaN</td>\n",
              "    </tr>\n",
              "    <tr>\n",
              "      <th>2</th>\n",
              "      <td>NaN</td>\n",
              "      <td>NaN</td>\n",
              "      <td>0.034839</td>\n",
              "      <td>NaN</td>\n",
              "      <td>0.034137</td>\n",
              "      <td>NaN</td>\n",
              "      <td>0.032121</td>\n",
              "      <td>NaN</td>\n",
              "      <td>NaN</td>\n",
              "      <td>NaN</td>\n",
              "      <td>...</td>\n",
              "      <td>NaN</td>\n",
              "      <td>NaN</td>\n",
              "      <td>NaN</td>\n",
              "      <td>NaN</td>\n",
              "      <td>NaN</td>\n",
              "      <td>NaN</td>\n",
              "      <td>NaN</td>\n",
              "      <td>NaN</td>\n",
              "      <td>NaN</td>\n",
              "      <td>NaN</td>\n",
              "    </tr>\n",
              "    <tr>\n",
              "      <th>3</th>\n",
              "      <td>NaN</td>\n",
              "      <td>NaN</td>\n",
              "      <td>NaN</td>\n",
              "      <td>NaN</td>\n",
              "      <td>0.045346</td>\n",
              "      <td>NaN</td>\n",
              "      <td>0.046356</td>\n",
              "      <td>NaN</td>\n",
              "      <td>NaN</td>\n",
              "      <td>0.043915</td>\n",
              "      <td>...</td>\n",
              "      <td>NaN</td>\n",
              "      <td>NaN</td>\n",
              "      <td>NaN</td>\n",
              "      <td>NaN</td>\n",
              "      <td>NaN</td>\n",
              "      <td>NaN</td>\n",
              "      <td>NaN</td>\n",
              "      <td>NaN</td>\n",
              "      <td>NaN</td>\n",
              "      <td>NaN</td>\n",
              "    </tr>\n",
              "    <tr>\n",
              "      <th>4</th>\n",
              "      <td>NaN</td>\n",
              "      <td>NaN</td>\n",
              "      <td>NaN</td>\n",
              "      <td>NaN</td>\n",
              "      <td>0.044584</td>\n",
              "      <td>NaN</td>\n",
              "      <td>0.045655</td>\n",
              "      <td>NaN</td>\n",
              "      <td>NaN</td>\n",
              "      <td>0.044174</td>\n",
              "      <td>...</td>\n",
              "      <td>NaN</td>\n",
              "      <td>NaN</td>\n",
              "      <td>NaN</td>\n",
              "      <td>NaN</td>\n",
              "      <td>NaN</td>\n",
              "      <td>NaN</td>\n",
              "      <td>NaN</td>\n",
              "      <td>NaN</td>\n",
              "      <td>NaN</td>\n",
              "      <td>NaN</td>\n",
              "    </tr>\n",
              "    <tr>\n",
              "      <th>...</th>\n",
              "      <td>...</td>\n",
              "      <td>...</td>\n",
              "      <td>...</td>\n",
              "      <td>...</td>\n",
              "      <td>...</td>\n",
              "      <td>...</td>\n",
              "      <td>...</td>\n",
              "      <td>...</td>\n",
              "      <td>...</td>\n",
              "      <td>...</td>\n",
              "      <td>...</td>\n",
              "      <td>...</td>\n",
              "      <td>...</td>\n",
              "      <td>...</td>\n",
              "      <td>...</td>\n",
              "      <td>...</td>\n",
              "      <td>...</td>\n",
              "      <td>...</td>\n",
              "      <td>...</td>\n",
              "      <td>...</td>\n",
              "      <td>...</td>\n",
              "    </tr>\n",
              "    <tr>\n",
              "      <th>2743</th>\n",
              "      <td>NaN</td>\n",
              "      <td>NaN</td>\n",
              "      <td>NaN</td>\n",
              "      <td>NaN</td>\n",
              "      <td>NaN</td>\n",
              "      <td>NaN</td>\n",
              "      <td>NaN</td>\n",
              "      <td>NaN</td>\n",
              "      <td>NaN</td>\n",
              "      <td>NaN</td>\n",
              "      <td>...</td>\n",
              "      <td>0.026606</td>\n",
              "      <td>NaN</td>\n",
              "      <td>NaN</td>\n",
              "      <td>0.026117</td>\n",
              "      <td>NaN</td>\n",
              "      <td>0.024799</td>\n",
              "      <td>NaN</td>\n",
              "      <td>NaN</td>\n",
              "      <td>NaN</td>\n",
              "      <td>NaN</td>\n",
              "    </tr>\n",
              "    <tr>\n",
              "      <th>2744</th>\n",
              "      <td>NaN</td>\n",
              "      <td>NaN</td>\n",
              "      <td>NaN</td>\n",
              "      <td>NaN</td>\n",
              "      <td>NaN</td>\n",
              "      <td>NaN</td>\n",
              "      <td>NaN</td>\n",
              "      <td>NaN</td>\n",
              "      <td>NaN</td>\n",
              "      <td>NaN</td>\n",
              "      <td>...</td>\n",
              "      <td>0.024582</td>\n",
              "      <td>NaN</td>\n",
              "      <td>NaN</td>\n",
              "      <td>0.024940</td>\n",
              "      <td>NaN</td>\n",
              "      <td>0.025191</td>\n",
              "      <td>NaN</td>\n",
              "      <td>NaN</td>\n",
              "      <td>NaN</td>\n",
              "      <td>NaN</td>\n",
              "    </tr>\n",
              "    <tr>\n",
              "      <th>2745</th>\n",
              "      <td>NaN</td>\n",
              "      <td>NaN</td>\n",
              "      <td>NaN</td>\n",
              "      <td>NaN</td>\n",
              "      <td>NaN</td>\n",
              "      <td>NaN</td>\n",
              "      <td>NaN</td>\n",
              "      <td>NaN</td>\n",
              "      <td>NaN</td>\n",
              "      <td>NaN</td>\n",
              "      <td>...</td>\n",
              "      <td>0.027138</td>\n",
              "      <td>0.024883</td>\n",
              "      <td>NaN</td>\n",
              "      <td>NaN</td>\n",
              "      <td>NaN</td>\n",
              "      <td>0.024587</td>\n",
              "      <td>NaN</td>\n",
              "      <td>NaN</td>\n",
              "      <td>NaN</td>\n",
              "      <td>0.025687</td>\n",
              "    </tr>\n",
              "    <tr>\n",
              "      <th>2746</th>\n",
              "      <td>NaN</td>\n",
              "      <td>NaN</td>\n",
              "      <td>NaN</td>\n",
              "      <td>NaN</td>\n",
              "      <td>NaN</td>\n",
              "      <td>NaN</td>\n",
              "      <td>NaN</td>\n",
              "      <td>NaN</td>\n",
              "      <td>NaN</td>\n",
              "      <td>NaN</td>\n",
              "      <td>...</td>\n",
              "      <td>0.026725</td>\n",
              "      <td>NaN</td>\n",
              "      <td>NaN</td>\n",
              "      <td>NaN</td>\n",
              "      <td>NaN</td>\n",
              "      <td>0.024759</td>\n",
              "      <td>NaN</td>\n",
              "      <td>NaN</td>\n",
              "      <td>NaN</td>\n",
              "      <td>NaN</td>\n",
              "    </tr>\n",
              "    <tr>\n",
              "      <th>2747</th>\n",
              "      <td>NaN</td>\n",
              "      <td>NaN</td>\n",
              "      <td>NaN</td>\n",
              "      <td>NaN</td>\n",
              "      <td>NaN</td>\n",
              "      <td>NaN</td>\n",
              "      <td>NaN</td>\n",
              "      <td>NaN</td>\n",
              "      <td>NaN</td>\n",
              "      <td>NaN</td>\n",
              "      <td>...</td>\n",
              "      <td>0.026333</td>\n",
              "      <td>NaN</td>\n",
              "      <td>NaN</td>\n",
              "      <td>0.026117</td>\n",
              "      <td>NaN</td>\n",
              "      <td>0.024859</td>\n",
              "      <td>NaN</td>\n",
              "      <td>NaN</td>\n",
              "      <td>NaN</td>\n",
              "      <td>NaN</td>\n",
              "    </tr>\n",
              "  </tbody>\n",
              "</table>\n",
              "<p>2748 rows × 3114 columns</p>\n",
              "</div>\n",
              "      <button class=\"colab-df-convert\" onclick=\"convertToInteractive('df-917daa83-0c14-4b10-98f6-630b38235620')\"\n",
              "              title=\"Convert this dataframe to an interactive table.\"\n",
              "              style=\"display:none;\">\n",
              "        \n",
              "  <svg xmlns=\"http://www.w3.org/2000/svg\" height=\"24px\"viewBox=\"0 0 24 24\"\n",
              "       width=\"24px\">\n",
              "    <path d=\"M0 0h24v24H0V0z\" fill=\"none\"/>\n",
              "    <path d=\"M18.56 5.44l.94 2.06.94-2.06 2.06-.94-2.06-.94-.94-2.06-.94 2.06-2.06.94zm-11 1L8.5 8.5l.94-2.06 2.06-.94-2.06-.94L8.5 2.5l-.94 2.06-2.06.94zm10 10l.94 2.06.94-2.06 2.06-.94-2.06-.94-.94-2.06-.94 2.06-2.06.94z\"/><path d=\"M17.41 7.96l-1.37-1.37c-.4-.4-.92-.59-1.43-.59-.52 0-1.04.2-1.43.59L10.3 9.45l-7.72 7.72c-.78.78-.78 2.05 0 2.83L4 21.41c.39.39.9.59 1.41.59.51 0 1.02-.2 1.41-.59l7.78-7.78 2.81-2.81c.8-.78.8-2.07 0-2.86zM5.41 20L4 18.59l7.72-7.72 1.47 1.35L5.41 20z\"/>\n",
              "  </svg>\n",
              "      </button>\n",
              "      \n",
              "  <style>\n",
              "    .colab-df-container {\n",
              "      display:flex;\n",
              "      flex-wrap:wrap;\n",
              "      gap: 12px;\n",
              "    }\n",
              "\n",
              "    .colab-df-convert {\n",
              "      background-color: #E8F0FE;\n",
              "      border: none;\n",
              "      border-radius: 50%;\n",
              "      cursor: pointer;\n",
              "      display: none;\n",
              "      fill: #1967D2;\n",
              "      height: 32px;\n",
              "      padding: 0 0 0 0;\n",
              "      width: 32px;\n",
              "    }\n",
              "\n",
              "    .colab-df-convert:hover {\n",
              "      background-color: #E2EBFA;\n",
              "      box-shadow: 0px 1px 2px rgba(60, 64, 67, 0.3), 0px 1px 3px 1px rgba(60, 64, 67, 0.15);\n",
              "      fill: #174EA6;\n",
              "    }\n",
              "\n",
              "    [theme=dark] .colab-df-convert {\n",
              "      background-color: #3B4455;\n",
              "      fill: #D2E3FC;\n",
              "    }\n",
              "\n",
              "    [theme=dark] .colab-df-convert:hover {\n",
              "      background-color: #434B5C;\n",
              "      box-shadow: 0px 1px 3px 1px rgba(0, 0, 0, 0.15);\n",
              "      filter: drop-shadow(0px 1px 2px rgba(0, 0, 0, 0.3));\n",
              "      fill: #FFFFFF;\n",
              "    }\n",
              "  </style>\n",
              "\n",
              "      <script>\n",
              "        const buttonEl =\n",
              "          document.querySelector('#df-917daa83-0c14-4b10-98f6-630b38235620 button.colab-df-convert');\n",
              "        buttonEl.style.display =\n",
              "          google.colab.kernel.accessAllowed ? 'block' : 'none';\n",
              "\n",
              "        async function convertToInteractive(key) {\n",
              "          const element = document.querySelector('#df-917daa83-0c14-4b10-98f6-630b38235620');\n",
              "          const dataTable =\n",
              "            await google.colab.kernel.invokeFunction('convertToInteractive',\n",
              "                                                     [key], {});\n",
              "          if (!dataTable) return;\n",
              "\n",
              "          const docLinkHtml = 'Like what you see? Visit the ' +\n",
              "            '<a target=\"_blank\" href=https://colab.research.google.com/notebooks/data_table.ipynb>data table notebook</a>'\n",
              "            + ' to learn more about interactive tables.';\n",
              "          element.innerHTML = '';\n",
              "          dataTable['output_type'] = 'display_data';\n",
              "          await google.colab.output.renderOutput(dataTable, element);\n",
              "          const docLink = document.createElement('div');\n",
              "          docLink.innerHTML = docLinkHtml;\n",
              "          element.appendChild(docLink);\n",
              "        }\n",
              "      </script>\n",
              "    </div>\n",
              "  </div>\n",
              "  "
            ]
          },
          "metadata": {},
          "execution_count": 36
        }
      ]
    },
    {
      "cell_type": "code",
      "source": [
        "dfSO2_loc = dfSO2.iloc[:,[-2]]\n",
        "dfSO2_data = dfSO2.iloc[:,1:-2]\n",
        "df_SO2_1 = pd.DataFrame()\n",
        "for i in range(len(dfSO2_data.columns)):\n",
        "  df_dummy = pd.concat([dfSO2_data.iloc[:,i],dfSO2_loc],axis=1)\n",
        "  df_dummy[\"date_time\"] = df_dummy.columns.values[0][0:31]\n",
        "  df_dummy.rename(columns={list(df_dummy)[0]:'SO2_mol/m2'}, inplace=True)\n",
        "  df_SO2_1 = pd.concat([df_SO2_1,df_dummy],axis=0).reset_index(drop=True)"
      ],
      "metadata": {
        "id": "RwCMu_K00APM"
      },
      "execution_count": null,
      "outputs": []
    },
    {
      "cell_type": "code",
      "source": [
        "dfNO2_loc = dfNO2.iloc[:,[-2]]\n",
        "dfNO2_data = dfNO2.iloc[:,1:-2]\n",
        "df_NO2_1 = pd.DataFrame()\n",
        "for i in range(len(dfNO2_data.columns)):\n",
        "  df_dummy = pd.concat([dfNO2_data.iloc[:,i],dfNO2_loc],axis=1)\n",
        "  df_dummy[\"date_time\"] = df_dummy.columns.values[0][0:31]\n",
        "  df_dummy.rename(columns={list(df_dummy)[0]:'NO2_mol/m2'}, inplace=True)\n",
        "  df_NO2_1 = pd.concat([df_NO2_1,df_dummy],axis=0).reset_index(drop=True)"
      ],
      "metadata": {
        "id": "ifhoCAEs6ZRM"
      },
      "execution_count": null,
      "outputs": []
    },
    {
      "cell_type": "code",
      "source": [
        "dfO3_loc = dfO3.iloc[:,[-2]]\n",
        "dfO3_data = dfO3.iloc[:,1:-2]\n",
        "df_O3_1 = pd.DataFrame()\n",
        "for i in range(len(dfO3_data.columns)):\n",
        "  df_dummy = pd.concat([dfO3_data.iloc[:,i],dfO3_loc],axis=1)\n",
        "  df_dummy[\"date_time\"] = df_dummy.columns.values[0][0:31]\n",
        "  df_dummy.rename(columns={list(df_dummy)[0]:'O3_mol/m2'}, inplace=True)\n",
        "  df_O3_1 = pd.concat([df_O3_1,df_dummy],axis=0).reset_index(drop=True)"
      ],
      "metadata": {
        "id": "awQL5p226Yz0"
      },
      "execution_count": null,
      "outputs": []
    },
    {
      "cell_type": "code",
      "source": [
        "def specific_date(date_time):\n",
        "  date = date_time[4:6] + \"/\" + date_time[6:8] + \"/\" + date_time[:4]\n",
        "  return date\n",
        "\n",
        "def specific_time(date_time):\n",
        "  open = date_time[9:15]\n",
        "  close = date_time[25:31]\n",
        "  time = close[0:2] + \":00:00\"\n",
        "  return time"
      ],
      "metadata": {
        "id": "sRNFjOM_aP5I"
      },
      "execution_count": null,
      "outputs": []
    },
    {
      "cell_type": "code",
      "source": [
        "df_CO_1['date'] = df_CO_1['date_time'].apply(specific_date)\n",
        "df_CO_1['time'] = df_CO_1['date_time'].apply(specific_time)\n",
        "df_SO2_1['date'] = df_SO2_1['date_time'].apply(specific_date)\n",
        "df_SO2_1['time'] = df_SO2_1['date_time'].apply(specific_time)\n",
        "df_O3_1['date'] = df_O3_1['date_time'].apply(specific_date)\n",
        "df_O3_1['time'] = df_O3_1['date_time'].apply(specific_time)\n",
        "df_NO2_1['date'] = df_NO2_1['date_time'].apply(specific_date)\n",
        "df_NO2_1['time'] = df_NO2_1['date_time'].apply(specific_time)"
      ],
      "metadata": {
        "id": "2Q8B4tvseGe4"
      },
      "execution_count": null,
      "outputs": []
    },
    {
      "cell_type": "code",
      "source": [
        "df_CO_1 = df_CO_1.drop(['date_time'], axis = 1)\n",
        "df_SO2_1 = df_SO2_1.drop(['date_time'], axis = 1)\n",
        "df_O3_1 = df_O3_1.drop(['date_time'], axis = 1)\n",
        "df_NO2_1 = df_NO2_1.drop(['date_time'], axis = 1)\n",
        "df_CO_1 = df_CO_1.dropna()\n",
        "df_SO2_1 = df_SO2_1.dropna()\n",
        "df_O3_1 = df_O3_1.dropna()\n",
        "df_NO2_1 = df_NO2_1.dropna()"
      ],
      "metadata": {
        "id": "b_ZjrEVw84K6"
      },
      "execution_count": null,
      "outputs": []
    },
    {
      "cell_type": "code",
      "source": [
        "df_GEE_1 = [df_O3_1,df_NO2_1,df_CO_1,df_SO2_1]\n",
        "df_GEE = reduce(lambda  left,right: pd.merge(left,right,on=['date','time','T_NAME_E'],how='inner'), df_GEE_1)\n",
        "df_GEE = df_GEE.drop_duplicates()\n",
        "df_GEE = df_GEE.reindex(columns=['T_NAME_E','date','time','CO_mol/m2','SO2_mol/m2','NO2_mol/m2','O3_mol/m2'])"
      ],
      "metadata": {
        "id": "zUF2dW7JIi7Q"
      },
      "execution_count": null,
      "outputs": []
    },
    {
      "cell_type": "code",
      "source": [
        " df_GEE.to_csv(\"gee.csv\")"
      ],
      "metadata": {
        "id": "vBWytFTEgdLr"
      },
      "execution_count": null,
      "outputs": []
    },
    {
      "cell_type": "markdown",
      "source": [
        "### Latitude and Longtitude of district in Chiang Mai"
      ],
      "metadata": {
        "id": "F2nw2E2HdOnv"
      }
    },
    {
      "cell_type": "code",
      "source": [
        "df_district = pd.read_excel(\"/content/drive/MyDrive/Senior Project/Datasets/tambon.xlsx\")\n",
        "df_district_CM = df_district[df_district[\"CHANGWAT_E\"].str.contains(\"Chiang Mai\") == True].reset_index(drop=True)\n",
        "df_district_CM['TAMBON_E'] = df_district_CM['TAMBON_E'].str.upper()\n",
        "df_district_loc = df_district_CM[['TAMBON_E','LAT','LONG',]]"
      ],
      "metadata": {
        "id": "bC3QQ58NdL8O"
      },
      "execution_count": null,
      "outputs": []
    },
    {
      "cell_type": "code",
      "source": [
        "df_GEE_loc = pd.merge(df_GEE, df_district_loc, left_on='T_NAME_E', right_on='TAMBON_E')"
      ],
      "metadata": {
        "id": "2ALFqxuLlvig"
      },
      "execution_count": null,
      "outputs": []
    },
    {
      "cell_type": "code",
      "source": [
        "df_GEE_loc"
      ],
      "metadata": {
        "colab": {
          "base_uri": "https://localhost:8080/"
        },
        "id": "cIKR2SmymApe",
        "outputId": "22875a04-4c50-4bf6-c3ed-d3a594a878a3"
      },
      "execution_count": null,
      "outputs": [
        {
          "output_type": "execute_result",
          "data": {
            "text/plain": [
              "        T_NAME_E        date      time  CO_mol/m2  SO2_mol/m2  NO2_mol/m2  \\\n",
              "0            HOT  01/01/2020  07:00:00   0.036608    0.000178    0.000039   \n",
              "1            HOT  01/02/2020  07:00:00   0.037975    0.000123    0.000047   \n",
              "2            HOT  01/06/2020  07:00:00   0.041067    0.000171    0.000044   \n",
              "3            HOT  01/07/2020  07:00:00   0.034905   -0.000170    0.000046   \n",
              "4            HOT  01/09/2020  06:00:00   0.044490   -0.000114    0.000058   \n",
              "...          ...         ...       ...        ...         ...         ...   \n",
              "236629  ON KLANG  09/11/2021  07:00:00   0.025059   -0.000072    0.000054   \n",
              "236630  ON KLANG  09/11/2021  07:00:00   0.025059   -0.000072    0.000067   \n",
              "236631  ON KLANG  09/12/2021  07:00:00   0.025205    0.000028    0.000055   \n",
              "236632  ON KLANG  09/21/2021  07:00:00   0.025739   -0.000149    0.000053   \n",
              "236633  ON KLANG  09/22/2021  07:00:00   0.026103   -0.000156    0.000056   \n",
              "\n",
              "        O3_mol/m2  TAMBON_E     LAT    LONG  \n",
              "0        0.108920       HOT  18.103  98.583  \n",
              "1        0.107653       HOT  18.103  98.583  \n",
              "2        0.109251       HOT  18.103  98.583  \n",
              "3        0.109101       HOT  18.103  98.583  \n",
              "4        0.103906       HOT  18.103  98.583  \n",
              "...           ...       ...     ...     ...  \n",
              "236629   0.122490  ON KLANG  18.758  99.263  \n",
              "236630   0.122490  ON KLANG  18.758  99.263  \n",
              "236631   0.121675  ON KLANG  18.758  99.263  \n",
              "236632   0.123804  ON KLANG  18.758  99.263  \n",
              "236633   0.126081  ON KLANG  18.758  99.263  \n",
              "\n",
              "[236634 rows x 10 columns]"
            ],
            "text/html": [
              "\n",
              "  <div id=\"df-421fb120-69d9-44d5-97dc-f7edadedcf33\">\n",
              "    <div class=\"colab-df-container\">\n",
              "      <div>\n",
              "<style scoped>\n",
              "    .dataframe tbody tr th:only-of-type {\n",
              "        vertical-align: middle;\n",
              "    }\n",
              "\n",
              "    .dataframe tbody tr th {\n",
              "        vertical-align: top;\n",
              "    }\n",
              "\n",
              "    .dataframe thead th {\n",
              "        text-align: right;\n",
              "    }\n",
              "</style>\n",
              "<table border=\"1\" class=\"dataframe\">\n",
              "  <thead>\n",
              "    <tr style=\"text-align: right;\">\n",
              "      <th></th>\n",
              "      <th>T_NAME_E</th>\n",
              "      <th>date</th>\n",
              "      <th>time</th>\n",
              "      <th>CO_mol/m2</th>\n",
              "      <th>SO2_mol/m2</th>\n",
              "      <th>NO2_mol/m2</th>\n",
              "      <th>O3_mol/m2</th>\n",
              "      <th>TAMBON_E</th>\n",
              "      <th>LAT</th>\n",
              "      <th>LONG</th>\n",
              "    </tr>\n",
              "  </thead>\n",
              "  <tbody>\n",
              "    <tr>\n",
              "      <th>0</th>\n",
              "      <td>HOT</td>\n",
              "      <td>01/01/2020</td>\n",
              "      <td>07:00:00</td>\n",
              "      <td>0.036608</td>\n",
              "      <td>0.000178</td>\n",
              "      <td>0.000039</td>\n",
              "      <td>0.108920</td>\n",
              "      <td>HOT</td>\n",
              "      <td>18.103</td>\n",
              "      <td>98.583</td>\n",
              "    </tr>\n",
              "    <tr>\n",
              "      <th>1</th>\n",
              "      <td>HOT</td>\n",
              "      <td>01/02/2020</td>\n",
              "      <td>07:00:00</td>\n",
              "      <td>0.037975</td>\n",
              "      <td>0.000123</td>\n",
              "      <td>0.000047</td>\n",
              "      <td>0.107653</td>\n",
              "      <td>HOT</td>\n",
              "      <td>18.103</td>\n",
              "      <td>98.583</td>\n",
              "    </tr>\n",
              "    <tr>\n",
              "      <th>2</th>\n",
              "      <td>HOT</td>\n",
              "      <td>01/06/2020</td>\n",
              "      <td>07:00:00</td>\n",
              "      <td>0.041067</td>\n",
              "      <td>0.000171</td>\n",
              "      <td>0.000044</td>\n",
              "      <td>0.109251</td>\n",
              "      <td>HOT</td>\n",
              "      <td>18.103</td>\n",
              "      <td>98.583</td>\n",
              "    </tr>\n",
              "    <tr>\n",
              "      <th>3</th>\n",
              "      <td>HOT</td>\n",
              "      <td>01/07/2020</td>\n",
              "      <td>07:00:00</td>\n",
              "      <td>0.034905</td>\n",
              "      <td>-0.000170</td>\n",
              "      <td>0.000046</td>\n",
              "      <td>0.109101</td>\n",
              "      <td>HOT</td>\n",
              "      <td>18.103</td>\n",
              "      <td>98.583</td>\n",
              "    </tr>\n",
              "    <tr>\n",
              "      <th>4</th>\n",
              "      <td>HOT</td>\n",
              "      <td>01/09/2020</td>\n",
              "      <td>06:00:00</td>\n",
              "      <td>0.044490</td>\n",
              "      <td>-0.000114</td>\n",
              "      <td>0.000058</td>\n",
              "      <td>0.103906</td>\n",
              "      <td>HOT</td>\n",
              "      <td>18.103</td>\n",
              "      <td>98.583</td>\n",
              "    </tr>\n",
              "    <tr>\n",
              "      <th>...</th>\n",
              "      <td>...</td>\n",
              "      <td>...</td>\n",
              "      <td>...</td>\n",
              "      <td>...</td>\n",
              "      <td>...</td>\n",
              "      <td>...</td>\n",
              "      <td>...</td>\n",
              "      <td>...</td>\n",
              "      <td>...</td>\n",
              "      <td>...</td>\n",
              "    </tr>\n",
              "    <tr>\n",
              "      <th>236629</th>\n",
              "      <td>ON KLANG</td>\n",
              "      <td>09/11/2021</td>\n",
              "      <td>07:00:00</td>\n",
              "      <td>0.025059</td>\n",
              "      <td>-0.000072</td>\n",
              "      <td>0.000054</td>\n",
              "      <td>0.122490</td>\n",
              "      <td>ON KLANG</td>\n",
              "      <td>18.758</td>\n",
              "      <td>99.263</td>\n",
              "    </tr>\n",
              "    <tr>\n",
              "      <th>236630</th>\n",
              "      <td>ON KLANG</td>\n",
              "      <td>09/11/2021</td>\n",
              "      <td>07:00:00</td>\n",
              "      <td>0.025059</td>\n",
              "      <td>-0.000072</td>\n",
              "      <td>0.000067</td>\n",
              "      <td>0.122490</td>\n",
              "      <td>ON KLANG</td>\n",
              "      <td>18.758</td>\n",
              "      <td>99.263</td>\n",
              "    </tr>\n",
              "    <tr>\n",
              "      <th>236631</th>\n",
              "      <td>ON KLANG</td>\n",
              "      <td>09/12/2021</td>\n",
              "      <td>07:00:00</td>\n",
              "      <td>0.025205</td>\n",
              "      <td>0.000028</td>\n",
              "      <td>0.000055</td>\n",
              "      <td>0.121675</td>\n",
              "      <td>ON KLANG</td>\n",
              "      <td>18.758</td>\n",
              "      <td>99.263</td>\n",
              "    </tr>\n",
              "    <tr>\n",
              "      <th>236632</th>\n",
              "      <td>ON KLANG</td>\n",
              "      <td>09/21/2021</td>\n",
              "      <td>07:00:00</td>\n",
              "      <td>0.025739</td>\n",
              "      <td>-0.000149</td>\n",
              "      <td>0.000053</td>\n",
              "      <td>0.123804</td>\n",
              "      <td>ON KLANG</td>\n",
              "      <td>18.758</td>\n",
              "      <td>99.263</td>\n",
              "    </tr>\n",
              "    <tr>\n",
              "      <th>236633</th>\n",
              "      <td>ON KLANG</td>\n",
              "      <td>09/22/2021</td>\n",
              "      <td>07:00:00</td>\n",
              "      <td>0.026103</td>\n",
              "      <td>-0.000156</td>\n",
              "      <td>0.000056</td>\n",
              "      <td>0.126081</td>\n",
              "      <td>ON KLANG</td>\n",
              "      <td>18.758</td>\n",
              "      <td>99.263</td>\n",
              "    </tr>\n",
              "  </tbody>\n",
              "</table>\n",
              "<p>236634 rows × 10 columns</p>\n",
              "</div>\n",
              "      <button class=\"colab-df-convert\" onclick=\"convertToInteractive('df-421fb120-69d9-44d5-97dc-f7edadedcf33')\"\n",
              "              title=\"Convert this dataframe to an interactive table.\"\n",
              "              style=\"display:none;\">\n",
              "        \n",
              "  <svg xmlns=\"http://www.w3.org/2000/svg\" height=\"24px\"viewBox=\"0 0 24 24\"\n",
              "       width=\"24px\">\n",
              "    <path d=\"M0 0h24v24H0V0z\" fill=\"none\"/>\n",
              "    <path d=\"M18.56 5.44l.94 2.06.94-2.06 2.06-.94-2.06-.94-.94-2.06-.94 2.06-2.06.94zm-11 1L8.5 8.5l.94-2.06 2.06-.94-2.06-.94L8.5 2.5l-.94 2.06-2.06.94zm10 10l.94 2.06.94-2.06 2.06-.94-2.06-.94-.94-2.06-.94 2.06-2.06.94z\"/><path d=\"M17.41 7.96l-1.37-1.37c-.4-.4-.92-.59-1.43-.59-.52 0-1.04.2-1.43.59L10.3 9.45l-7.72 7.72c-.78.78-.78 2.05 0 2.83L4 21.41c.39.39.9.59 1.41.59.51 0 1.02-.2 1.41-.59l7.78-7.78 2.81-2.81c.8-.78.8-2.07 0-2.86zM5.41 20L4 18.59l7.72-7.72 1.47 1.35L5.41 20z\"/>\n",
              "  </svg>\n",
              "      </button>\n",
              "      \n",
              "  <style>\n",
              "    .colab-df-container {\n",
              "      display:flex;\n",
              "      flex-wrap:wrap;\n",
              "      gap: 12px;\n",
              "    }\n",
              "\n",
              "    .colab-df-convert {\n",
              "      background-color: #E8F0FE;\n",
              "      border: none;\n",
              "      border-radius: 50%;\n",
              "      cursor: pointer;\n",
              "      display: none;\n",
              "      fill: #1967D2;\n",
              "      height: 32px;\n",
              "      padding: 0 0 0 0;\n",
              "      width: 32px;\n",
              "    }\n",
              "\n",
              "    .colab-df-convert:hover {\n",
              "      background-color: #E2EBFA;\n",
              "      box-shadow: 0px 1px 2px rgba(60, 64, 67, 0.3), 0px 1px 3px 1px rgba(60, 64, 67, 0.15);\n",
              "      fill: #174EA6;\n",
              "    }\n",
              "\n",
              "    [theme=dark] .colab-df-convert {\n",
              "      background-color: #3B4455;\n",
              "      fill: #D2E3FC;\n",
              "    }\n",
              "\n",
              "    [theme=dark] .colab-df-convert:hover {\n",
              "      background-color: #434B5C;\n",
              "      box-shadow: 0px 1px 3px 1px rgba(0, 0, 0, 0.15);\n",
              "      filter: drop-shadow(0px 1px 2px rgba(0, 0, 0, 0.3));\n",
              "      fill: #FFFFFF;\n",
              "    }\n",
              "  </style>\n",
              "\n",
              "      <script>\n",
              "        const buttonEl =\n",
              "          document.querySelector('#df-421fb120-69d9-44d5-97dc-f7edadedcf33 button.colab-df-convert');\n",
              "        buttonEl.style.display =\n",
              "          google.colab.kernel.accessAllowed ? 'block' : 'none';\n",
              "\n",
              "        async function convertToInteractive(key) {\n",
              "          const element = document.querySelector('#df-421fb120-69d9-44d5-97dc-f7edadedcf33');\n",
              "          const dataTable =\n",
              "            await google.colab.kernel.invokeFunction('convertToInteractive',\n",
              "                                                     [key], {});\n",
              "          if (!dataTable) return;\n",
              "\n",
              "          const docLinkHtml = 'Like what you see? Visit the ' +\n",
              "            '<a target=\"_blank\" href=https://colab.research.google.com/notebooks/data_table.ipynb>data table notebook</a>'\n",
              "            + ' to learn more about interactive tables.';\n",
              "          element.innerHTML = '';\n",
              "          dataTable['output_type'] = 'display_data';\n",
              "          await google.colab.output.renderOutput(dataTable, element);\n",
              "          const docLink = document.createElement('div');\n",
              "          docLink.innerHTML = docLinkHtml;\n",
              "          element.appendChild(docLink);\n",
              "        }\n",
              "      </script>\n",
              "    </div>\n",
              "  </div>\n",
              "  "
            ]
          },
          "metadata": {},
          "execution_count": 130
        }
      ]
    },
    {
      "cell_type": "markdown",
      "source": [
        "## Data Labeling Pipeline"
      ],
      "metadata": {
        "id": "gav3mdZBwpfv"
      }
    },
    {
      "cell_type": "code",
      "source": [
        "# Convert FRP data to {0,1}\n",
        "ds2[\"FireOccurred\"]=(ds2['FRP'] > 100).astype(int)\n",
        "ds2.head()"
      ],
      "metadata": {
        "id": "9rqECrRuPHK3",
        "colab": {
          "base_uri": "https://localhost:8080/"
        },
        "outputId": "89195418-ae29-447c-a314-ad58457e52fd"
      },
      "execution_count": null,
      "outputs": [
        {
          "output_type": "execute_result",
          "data": {
            "text/plain": [
              "   LATITUDE  LONGITUDE  BRIGHTNESS  SCAN  TRACK    ACQ_DATE ACQ_TIME  \\\n",
              "0   18.4522   103.4546       313.0   1.3    1.1  01/01/2020    03:59   \n",
              "1   17.8460   103.2679       320.8   1.3    1.1  01/01/2020    03:59   \n",
              "2   17.8479   103.2563       320.7   1.3    1.1  01/01/2020    03:59   \n",
              "3   17.8578   103.2580       319.2   1.3    1.1  01/01/2020    03:59   \n",
              "4   16.7559   102.1498       324.3   1.1    1.1  01/01/2020    04:00   \n",
              "\n",
              "  SATELLITE INSTRUMENT CONFIDENCE VERSION  BRIGHT_T31   FRP DAYNIGHT  TYPE  \\\n",
              "0     Terra      MODIS         44    6.03       299.5   7.2        D   0.0   \n",
              "1     Terra      MODIS         68    6.03       300.1  11.8        D   0.0   \n",
              "2     Terra      MODIS         68    6.03       299.6  11.6        D   0.0   \n",
              "3     Terra      MODIS         29    6.03       300.2   9.5        D   0.0   \n",
              "4     Terra      MODIS         77    6.03       294.3  17.9        D   0.0   \n",
              "\n",
              "   FireOccurred  \n",
              "0             0  \n",
              "1             0  \n",
              "2             0  \n",
              "3             0  \n",
              "4             0  "
            ],
            "text/html": [
              "\n",
              "  <div id=\"df-8966e910-35c8-45a2-b18f-643855e89065\">\n",
              "    <div class=\"colab-df-container\">\n",
              "      <div>\n",
              "<style scoped>\n",
              "    .dataframe tbody tr th:only-of-type {\n",
              "        vertical-align: middle;\n",
              "    }\n",
              "\n",
              "    .dataframe tbody tr th {\n",
              "        vertical-align: top;\n",
              "    }\n",
              "\n",
              "    .dataframe thead th {\n",
              "        text-align: right;\n",
              "    }\n",
              "</style>\n",
              "<table border=\"1\" class=\"dataframe\">\n",
              "  <thead>\n",
              "    <tr style=\"text-align: right;\">\n",
              "      <th></th>\n",
              "      <th>LATITUDE</th>\n",
              "      <th>LONGITUDE</th>\n",
              "      <th>BRIGHTNESS</th>\n",
              "      <th>SCAN</th>\n",
              "      <th>TRACK</th>\n",
              "      <th>ACQ_DATE</th>\n",
              "      <th>ACQ_TIME</th>\n",
              "      <th>SATELLITE</th>\n",
              "      <th>INSTRUMENT</th>\n",
              "      <th>CONFIDENCE</th>\n",
              "      <th>VERSION</th>\n",
              "      <th>BRIGHT_T31</th>\n",
              "      <th>FRP</th>\n",
              "      <th>DAYNIGHT</th>\n",
              "      <th>TYPE</th>\n",
              "      <th>FireOccurred</th>\n",
              "    </tr>\n",
              "  </thead>\n",
              "  <tbody>\n",
              "    <tr>\n",
              "      <th>0</th>\n",
              "      <td>18.4522</td>\n",
              "      <td>103.4546</td>\n",
              "      <td>313.0</td>\n",
              "      <td>1.3</td>\n",
              "      <td>1.1</td>\n",
              "      <td>01/01/2020</td>\n",
              "      <td>03:59</td>\n",
              "      <td>Terra</td>\n",
              "      <td>MODIS</td>\n",
              "      <td>44</td>\n",
              "      <td>6.03</td>\n",
              "      <td>299.5</td>\n",
              "      <td>7.2</td>\n",
              "      <td>D</td>\n",
              "      <td>0.0</td>\n",
              "      <td>0</td>\n",
              "    </tr>\n",
              "    <tr>\n",
              "      <th>1</th>\n",
              "      <td>17.8460</td>\n",
              "      <td>103.2679</td>\n",
              "      <td>320.8</td>\n",
              "      <td>1.3</td>\n",
              "      <td>1.1</td>\n",
              "      <td>01/01/2020</td>\n",
              "      <td>03:59</td>\n",
              "      <td>Terra</td>\n",
              "      <td>MODIS</td>\n",
              "      <td>68</td>\n",
              "      <td>6.03</td>\n",
              "      <td>300.1</td>\n",
              "      <td>11.8</td>\n",
              "      <td>D</td>\n",
              "      <td>0.0</td>\n",
              "      <td>0</td>\n",
              "    </tr>\n",
              "    <tr>\n",
              "      <th>2</th>\n",
              "      <td>17.8479</td>\n",
              "      <td>103.2563</td>\n",
              "      <td>320.7</td>\n",
              "      <td>1.3</td>\n",
              "      <td>1.1</td>\n",
              "      <td>01/01/2020</td>\n",
              "      <td>03:59</td>\n",
              "      <td>Terra</td>\n",
              "      <td>MODIS</td>\n",
              "      <td>68</td>\n",
              "      <td>6.03</td>\n",
              "      <td>299.6</td>\n",
              "      <td>11.6</td>\n",
              "      <td>D</td>\n",
              "      <td>0.0</td>\n",
              "      <td>0</td>\n",
              "    </tr>\n",
              "    <tr>\n",
              "      <th>3</th>\n",
              "      <td>17.8578</td>\n",
              "      <td>103.2580</td>\n",
              "      <td>319.2</td>\n",
              "      <td>1.3</td>\n",
              "      <td>1.1</td>\n",
              "      <td>01/01/2020</td>\n",
              "      <td>03:59</td>\n",
              "      <td>Terra</td>\n",
              "      <td>MODIS</td>\n",
              "      <td>29</td>\n",
              "      <td>6.03</td>\n",
              "      <td>300.2</td>\n",
              "      <td>9.5</td>\n",
              "      <td>D</td>\n",
              "      <td>0.0</td>\n",
              "      <td>0</td>\n",
              "    </tr>\n",
              "    <tr>\n",
              "      <th>4</th>\n",
              "      <td>16.7559</td>\n",
              "      <td>102.1498</td>\n",
              "      <td>324.3</td>\n",
              "      <td>1.1</td>\n",
              "      <td>1.1</td>\n",
              "      <td>01/01/2020</td>\n",
              "      <td>04:00</td>\n",
              "      <td>Terra</td>\n",
              "      <td>MODIS</td>\n",
              "      <td>77</td>\n",
              "      <td>6.03</td>\n",
              "      <td>294.3</td>\n",
              "      <td>17.9</td>\n",
              "      <td>D</td>\n",
              "      <td>0.0</td>\n",
              "      <td>0</td>\n",
              "    </tr>\n",
              "  </tbody>\n",
              "</table>\n",
              "</div>\n",
              "      <button class=\"colab-df-convert\" onclick=\"convertToInteractive('df-8966e910-35c8-45a2-b18f-643855e89065')\"\n",
              "              title=\"Convert this dataframe to an interactive table.\"\n",
              "              style=\"display:none;\">\n",
              "        \n",
              "  <svg xmlns=\"http://www.w3.org/2000/svg\" height=\"24px\"viewBox=\"0 0 24 24\"\n",
              "       width=\"24px\">\n",
              "    <path d=\"M0 0h24v24H0V0z\" fill=\"none\"/>\n",
              "    <path d=\"M18.56 5.44l.94 2.06.94-2.06 2.06-.94-2.06-.94-.94-2.06-.94 2.06-2.06.94zm-11 1L8.5 8.5l.94-2.06 2.06-.94-2.06-.94L8.5 2.5l-.94 2.06-2.06.94zm10 10l.94 2.06.94-2.06 2.06-.94-2.06-.94-.94-2.06-.94 2.06-2.06.94z\"/><path d=\"M17.41 7.96l-1.37-1.37c-.4-.4-.92-.59-1.43-.59-.52 0-1.04.2-1.43.59L10.3 9.45l-7.72 7.72c-.78.78-.78 2.05 0 2.83L4 21.41c.39.39.9.59 1.41.59.51 0 1.02-.2 1.41-.59l7.78-7.78 2.81-2.81c.8-.78.8-2.07 0-2.86zM5.41 20L4 18.59l7.72-7.72 1.47 1.35L5.41 20z\"/>\n",
              "  </svg>\n",
              "      </button>\n",
              "      \n",
              "  <style>\n",
              "    .colab-df-container {\n",
              "      display:flex;\n",
              "      flex-wrap:wrap;\n",
              "      gap: 12px;\n",
              "    }\n",
              "\n",
              "    .colab-df-convert {\n",
              "      background-color: #E8F0FE;\n",
              "      border: none;\n",
              "      border-radius: 50%;\n",
              "      cursor: pointer;\n",
              "      display: none;\n",
              "      fill: #1967D2;\n",
              "      height: 32px;\n",
              "      padding: 0 0 0 0;\n",
              "      width: 32px;\n",
              "    }\n",
              "\n",
              "    .colab-df-convert:hover {\n",
              "      background-color: #E2EBFA;\n",
              "      box-shadow: 0px 1px 2px rgba(60, 64, 67, 0.3), 0px 1px 3px 1px rgba(60, 64, 67, 0.15);\n",
              "      fill: #174EA6;\n",
              "    }\n",
              "\n",
              "    [theme=dark] .colab-df-convert {\n",
              "      background-color: #3B4455;\n",
              "      fill: #D2E3FC;\n",
              "    }\n",
              "\n",
              "    [theme=dark] .colab-df-convert:hover {\n",
              "      background-color: #434B5C;\n",
              "      box-shadow: 0px 1px 3px 1px rgba(0, 0, 0, 0.15);\n",
              "      filter: drop-shadow(0px 1px 2px rgba(0, 0, 0, 0.3));\n",
              "      fill: #FFFFFF;\n",
              "    }\n",
              "  </style>\n",
              "\n",
              "      <script>\n",
              "        const buttonEl =\n",
              "          document.querySelector('#df-8966e910-35c8-45a2-b18f-643855e89065 button.colab-df-convert');\n",
              "        buttonEl.style.display =\n",
              "          google.colab.kernel.accessAllowed ? 'block' : 'none';\n",
              "\n",
              "        async function convertToInteractive(key) {\n",
              "          const element = document.querySelector('#df-8966e910-35c8-45a2-b18f-643855e89065');\n",
              "          const dataTable =\n",
              "            await google.colab.kernel.invokeFunction('convertToInteractive',\n",
              "                                                     [key], {});\n",
              "          if (!dataTable) return;\n",
              "\n",
              "          const docLinkHtml = 'Like what you see? Visit the ' +\n",
              "            '<a target=\"_blank\" href=https://colab.research.google.com/notebooks/data_table.ipynb>data table notebook</a>'\n",
              "            + ' to learn more about interactive tables.';\n",
              "          element.innerHTML = '';\n",
              "          dataTable['output_type'] = 'display_data';\n",
              "          await google.colab.output.renderOutput(dataTable, element);\n",
              "          const docLink = document.createElement('div');\n",
              "          docLink.innerHTML = docLinkHtml;\n",
              "          element.appendChild(docLink);\n",
              "        }\n",
              "      </script>\n",
              "    </div>\n",
              "  </div>\n",
              "  "
            ]
          },
          "metadata": {},
          "execution_count": 52
        }
      ]
    },
    {
      "cell_type": "markdown",
      "source": [
        "## Data Cleaning Pipeline"
      ],
      "metadata": {
        "id": "R5v8t7AuwwFG"
      }
    },
    {
      "cell_type": "markdown",
      "source": [
        "### From sensor device"
      ],
      "metadata": {
        "id": "QsXbo7MAaRJG"
      }
    },
    {
      "cell_type": "code",
      "source": [
        "ds1['date_aq'] = pd.to_datetime(ds1['date_aq'],format='%m/%d/%Y')\n",
        "ds1['date_aq'] = ds1['date_aq'].dt.strftime('%m/%d/%Y').astype(str)"
      ],
      "metadata": {
        "id": "THjf6du7vHtv"
      },
      "execution_count": null,
      "outputs": []
    },
    {
      "cell_type": "code",
      "source": [
        "ds1 = ds1.drop_duplicates()\n",
        "ds2 = ds2.drop_duplicates()\n",
        "ds2.head()"
      ],
      "metadata": {
        "id": "5hUeb_cO_uy9",
        "colab": {
          "base_uri": "https://localhost:8080/",
          "height": 270
        },
        "outputId": "7dd087d2-3adc-4c37-cb1d-70e849e8a4bf"
      },
      "execution_count": null,
      "outputs": [
        {
          "output_type": "execute_result",
          "data": {
            "text/plain": [
              "   LATITUDE  LONGITUDE  BRIGHTNESS  SCAN  TRACK    ACQ_DATE  ACQ_TIME  \\\n",
              "0   18.4522   103.4546       313.0   1.3    1.1  01/01/2020       359   \n",
              "1   17.8460   103.2679       320.8   1.3    1.1  01/01/2020       359   \n",
              "2   17.8479   103.2563       320.7   1.3    1.1  01/01/2020       359   \n",
              "3   17.8578   103.2580       319.2   1.3    1.1  01/01/2020       359   \n",
              "4   16.7559   102.1498       324.3   1.1    1.1  01/01/2020       400   \n",
              "\n",
              "  SATELLITE INSTRUMENT CONFIDENCE VERSION  BRIGHT_T31   FRP DAYNIGHT  TYPE  \n",
              "0     Terra      MODIS         44    6.03       299.5   7.2        D   0.0  \n",
              "1     Terra      MODIS         68    6.03       300.1  11.8        D   0.0  \n",
              "2     Terra      MODIS         68    6.03       299.6  11.6        D   0.0  \n",
              "3     Terra      MODIS         29    6.03       300.2   9.5        D   0.0  \n",
              "4     Terra      MODIS         77    6.03       294.3  17.9        D   0.0  "
            ],
            "text/html": [
              "\n",
              "  <div id=\"df-054131e0-ba98-4534-a630-b96815ed0f36\">\n",
              "    <div class=\"colab-df-container\">\n",
              "      <div>\n",
              "<style scoped>\n",
              "    .dataframe tbody tr th:only-of-type {\n",
              "        vertical-align: middle;\n",
              "    }\n",
              "\n",
              "    .dataframe tbody tr th {\n",
              "        vertical-align: top;\n",
              "    }\n",
              "\n",
              "    .dataframe thead th {\n",
              "        text-align: right;\n",
              "    }\n",
              "</style>\n",
              "<table border=\"1\" class=\"dataframe\">\n",
              "  <thead>\n",
              "    <tr style=\"text-align: right;\">\n",
              "      <th></th>\n",
              "      <th>LATITUDE</th>\n",
              "      <th>LONGITUDE</th>\n",
              "      <th>BRIGHTNESS</th>\n",
              "      <th>SCAN</th>\n",
              "      <th>TRACK</th>\n",
              "      <th>ACQ_DATE</th>\n",
              "      <th>ACQ_TIME</th>\n",
              "      <th>SATELLITE</th>\n",
              "      <th>INSTRUMENT</th>\n",
              "      <th>CONFIDENCE</th>\n",
              "      <th>VERSION</th>\n",
              "      <th>BRIGHT_T31</th>\n",
              "      <th>FRP</th>\n",
              "      <th>DAYNIGHT</th>\n",
              "      <th>TYPE</th>\n",
              "    </tr>\n",
              "  </thead>\n",
              "  <tbody>\n",
              "    <tr>\n",
              "      <th>0</th>\n",
              "      <td>18.4522</td>\n",
              "      <td>103.4546</td>\n",
              "      <td>313.0</td>\n",
              "      <td>1.3</td>\n",
              "      <td>1.1</td>\n",
              "      <td>01/01/2020</td>\n",
              "      <td>359</td>\n",
              "      <td>Terra</td>\n",
              "      <td>MODIS</td>\n",
              "      <td>44</td>\n",
              "      <td>6.03</td>\n",
              "      <td>299.5</td>\n",
              "      <td>7.2</td>\n",
              "      <td>D</td>\n",
              "      <td>0.0</td>\n",
              "    </tr>\n",
              "    <tr>\n",
              "      <th>1</th>\n",
              "      <td>17.8460</td>\n",
              "      <td>103.2679</td>\n",
              "      <td>320.8</td>\n",
              "      <td>1.3</td>\n",
              "      <td>1.1</td>\n",
              "      <td>01/01/2020</td>\n",
              "      <td>359</td>\n",
              "      <td>Terra</td>\n",
              "      <td>MODIS</td>\n",
              "      <td>68</td>\n",
              "      <td>6.03</td>\n",
              "      <td>300.1</td>\n",
              "      <td>11.8</td>\n",
              "      <td>D</td>\n",
              "      <td>0.0</td>\n",
              "    </tr>\n",
              "    <tr>\n",
              "      <th>2</th>\n",
              "      <td>17.8479</td>\n",
              "      <td>103.2563</td>\n",
              "      <td>320.7</td>\n",
              "      <td>1.3</td>\n",
              "      <td>1.1</td>\n",
              "      <td>01/01/2020</td>\n",
              "      <td>359</td>\n",
              "      <td>Terra</td>\n",
              "      <td>MODIS</td>\n",
              "      <td>68</td>\n",
              "      <td>6.03</td>\n",
              "      <td>299.6</td>\n",
              "      <td>11.6</td>\n",
              "      <td>D</td>\n",
              "      <td>0.0</td>\n",
              "    </tr>\n",
              "    <tr>\n",
              "      <th>3</th>\n",
              "      <td>17.8578</td>\n",
              "      <td>103.2580</td>\n",
              "      <td>319.2</td>\n",
              "      <td>1.3</td>\n",
              "      <td>1.1</td>\n",
              "      <td>01/01/2020</td>\n",
              "      <td>359</td>\n",
              "      <td>Terra</td>\n",
              "      <td>MODIS</td>\n",
              "      <td>29</td>\n",
              "      <td>6.03</td>\n",
              "      <td>300.2</td>\n",
              "      <td>9.5</td>\n",
              "      <td>D</td>\n",
              "      <td>0.0</td>\n",
              "    </tr>\n",
              "    <tr>\n",
              "      <th>4</th>\n",
              "      <td>16.7559</td>\n",
              "      <td>102.1498</td>\n",
              "      <td>324.3</td>\n",
              "      <td>1.1</td>\n",
              "      <td>1.1</td>\n",
              "      <td>01/01/2020</td>\n",
              "      <td>400</td>\n",
              "      <td>Terra</td>\n",
              "      <td>MODIS</td>\n",
              "      <td>77</td>\n",
              "      <td>6.03</td>\n",
              "      <td>294.3</td>\n",
              "      <td>17.9</td>\n",
              "      <td>D</td>\n",
              "      <td>0.0</td>\n",
              "    </tr>\n",
              "  </tbody>\n",
              "</table>\n",
              "</div>\n",
              "      <button class=\"colab-df-convert\" onclick=\"convertToInteractive('df-054131e0-ba98-4534-a630-b96815ed0f36')\"\n",
              "              title=\"Convert this dataframe to an interactive table.\"\n",
              "              style=\"display:none;\">\n",
              "        \n",
              "  <svg xmlns=\"http://www.w3.org/2000/svg\" height=\"24px\"viewBox=\"0 0 24 24\"\n",
              "       width=\"24px\">\n",
              "    <path d=\"M0 0h24v24H0V0z\" fill=\"none\"/>\n",
              "    <path d=\"M18.56 5.44l.94 2.06.94-2.06 2.06-.94-2.06-.94-.94-2.06-.94 2.06-2.06.94zm-11 1L8.5 8.5l.94-2.06 2.06-.94-2.06-.94L8.5 2.5l-.94 2.06-2.06.94zm10 10l.94 2.06.94-2.06 2.06-.94-2.06-.94-.94-2.06-.94 2.06-2.06.94z\"/><path d=\"M17.41 7.96l-1.37-1.37c-.4-.4-.92-.59-1.43-.59-.52 0-1.04.2-1.43.59L10.3 9.45l-7.72 7.72c-.78.78-.78 2.05 0 2.83L4 21.41c.39.39.9.59 1.41.59.51 0 1.02-.2 1.41-.59l7.78-7.78 2.81-2.81c.8-.78.8-2.07 0-2.86zM5.41 20L4 18.59l7.72-7.72 1.47 1.35L5.41 20z\"/>\n",
              "  </svg>\n",
              "      </button>\n",
              "      \n",
              "  <style>\n",
              "    .colab-df-container {\n",
              "      display:flex;\n",
              "      flex-wrap:wrap;\n",
              "      gap: 12px;\n",
              "    }\n",
              "\n",
              "    .colab-df-convert {\n",
              "      background-color: #E8F0FE;\n",
              "      border: none;\n",
              "      border-radius: 50%;\n",
              "      cursor: pointer;\n",
              "      display: none;\n",
              "      fill: #1967D2;\n",
              "      height: 32px;\n",
              "      padding: 0 0 0 0;\n",
              "      width: 32px;\n",
              "    }\n",
              "\n",
              "    .colab-df-convert:hover {\n",
              "      background-color: #E2EBFA;\n",
              "      box-shadow: 0px 1px 2px rgba(60, 64, 67, 0.3), 0px 1px 3px 1px rgba(60, 64, 67, 0.15);\n",
              "      fill: #174EA6;\n",
              "    }\n",
              "\n",
              "    [theme=dark] .colab-df-convert {\n",
              "      background-color: #3B4455;\n",
              "      fill: #D2E3FC;\n",
              "    }\n",
              "\n",
              "    [theme=dark] .colab-df-convert:hover {\n",
              "      background-color: #434B5C;\n",
              "      box-shadow: 0px 1px 3px 1px rgba(0, 0, 0, 0.15);\n",
              "      filter: drop-shadow(0px 1px 2px rgba(0, 0, 0, 0.3));\n",
              "      fill: #FFFFFF;\n",
              "    }\n",
              "  </style>\n",
              "\n",
              "      <script>\n",
              "        const buttonEl =\n",
              "          document.querySelector('#df-054131e0-ba98-4534-a630-b96815ed0f36 button.colab-df-convert');\n",
              "        buttonEl.style.display =\n",
              "          google.colab.kernel.accessAllowed ? 'block' : 'none';\n",
              "\n",
              "        async function convertToInteractive(key) {\n",
              "          const element = document.querySelector('#df-054131e0-ba98-4534-a630-b96815ed0f36');\n",
              "          const dataTable =\n",
              "            await google.colab.kernel.invokeFunction('convertToInteractive',\n",
              "                                                     [key], {});\n",
              "          if (!dataTable) return;\n",
              "\n",
              "          const docLinkHtml = 'Like what you see? Visit the ' +\n",
              "            '<a target=\"_blank\" href=https://colab.research.google.com/notebooks/data_table.ipynb>data table notebook</a>'\n",
              "            + ' to learn more about interactive tables.';\n",
              "          element.innerHTML = '';\n",
              "          dataTable['output_type'] = 'display_data';\n",
              "          await google.colab.output.renderOutput(dataTable, element);\n",
              "          const docLink = document.createElement('div');\n",
              "          docLink.innerHTML = docLinkHtml;\n",
              "          element.appendChild(docLink);\n",
              "        }\n",
              "      </script>\n",
              "    </div>\n",
              "  </div>\n",
              "  "
            ]
          },
          "metadata": {},
          "execution_count": 44
        }
      ]
    },
    {
      "cell_type": "code",
      "source": [
        "ds1['nameTH'].unique()"
      ],
      "metadata": {
        "colab": {
          "base_uri": "https://localhost:8080/"
        },
        "id": "_CSs5gHR_5nk",
        "outputId": "806ea3d0-9e89-4035-9a51-8df03a4e05bb"
      },
      "execution_count": null,
      "outputs": [
        {
          "output_type": "execute_result",
          "data": {
            "text/plain": [
              "array([' ที่ว่าการอำเภอเมืองกำแพงเพชร', 'โครงการชลประทานนครสวรรค์',\n",
              "       'โรงเรียนยุพราชวิทยาลัย ', 'โรงพยาบาลเฉลิมพระเกียรติ ',\n",
              "       'โรงพยาบาลส่งเสริมสุขภาพตำบลท่าสี ',\n",
              "       'โรงพยาบาลส่งเสริมสุขภาพตำบลบ้านสบป้าด ',\n",
              "       'การประปาส่วนภูมิภาคแม่เมาะ', 'ศาลากลางจ.อุทัยธานี',\n",
              "       'ศูนย์การศึกษานอกโรงเรียน', 'ศูนย์ราชการจังหวัดเชียงใหม่ ',\n",
              "       'สถานีอุตุนิยมวิทยาลำปาง', 'สนามกีฬาจังหวัดพะเยา',\n",
              "       'สำนักงานเทศบาลเมืองน่าน', 'สำนักงานเทศบาลเมืองสุโขทัยธานี',\n",
              "       'สำนักงานเทศบาลเมืองอุตรดิตถ์',\n",
              "       'สำนักงานทรัพยากรธรรมชาติและสิ่งแวดล้อมจังหวัดเชียงราย',\n",
              "       'สำนักงานทรัพยากรธรรมชาติและสิ่งแวดล้อมจังหวัดแม่ฮ่องสอน',\n",
              "       'สำนักงานทรัพยากรธรรมชาติและสิ่งแวดล้อมจังหวัดปัตตานี',\n",
              "       'สำนักงานสาธารณสุขแม่สาย', 'สำนักทรัพยากรน้ำบาดาลเขต 6 ตรัง',\n",
              "       'อุตุนิยมวิทยาจังหวัดแพร่', 'อุตุนิยมวิทยาลำพูน',\n",
              "       'สวนชมน่านเฉลิมพระเกียรต (รถโมบาย)', 'สวนชมน่านเฉลิมพระเกียรติ',\n",
              "       'สวนมหามงคลเฉลิมพระชนมพรรษา 6 รอบ 5 ธันวาคม 2552 อุตรดิตถ์'],\n",
              "      dtype=object)"
            ]
          },
          "metadata": {},
          "execution_count": 45
        }
      ]
    },
    {
      "cell_type": "code",
      "source": [
        "ds1_sensor.apply(lambda col: pd.factorize(col, sort=True)[0]).value_counts()"
      ],
      "metadata": {
        "colab": {
          "base_uri": "https://localhost:8080/"
        },
        "id": "Fu-UjUF0FO4m",
        "outputId": "7f905e7f-0d8b-4c3b-dfbe-78ba5afc0cad"
      },
      "execution_count": null,
      "outputs": [
        {
          "output_type": "execute_result",
          "data": {
            "text/plain": [
              "sensor_NO\n",
              "14           14600\n",
              "18           14575\n",
              "6            14553\n",
              "19           14515\n",
              "3            14495\n",
              "20           14483\n",
              "4            14477\n",
              "5            14443\n",
              "11           14441\n",
              "13           14439\n",
              "22           14436\n",
              "12           14382\n",
              "21           14350\n",
              "24           14350\n",
              "1            14078\n",
              "23           13900\n",
              "2            11037\n",
              "0             6977\n",
              "8             6598\n",
              "15            5939\n",
              "9             2740\n",
              "16            2523\n",
              "10            2491\n",
              "17            2274\n",
              "7                4\n",
              "dtype: int64"
            ]
          },
          "metadata": {},
          "execution_count": 149
        }
      ]
    },
    {
      "cell_type": "code",
      "source": [
        "ds1['nameEN'].value_counts()"
      ],
      "metadata": {
        "colab": {
          "base_uri": "https://localhost:8080/"
        },
        "id": "Gvk4HvpkFYY1",
        "outputId": "e8af7839-ff76-459f-fc5f-d74d96a7cb11"
      },
      "execution_count": null,
      "outputs": [
        {
          "output_type": "execute_result",
          "data": {
            "text/plain": [
              "Municipality Office, Nan                                 14600\n",
              "Meteorology Center, Phrae                                14575\n",
              "Phayao Provincial, Phayao                                14553\n",
              "Meteorological Staions, Lamphun                          14515\n",
              "Non-Formal Education Centre, Mea Sot                     14495\n",
              "Nakhonsawan Irrigation Project                           14483\n",
              "City Hall, Chiangmai                                     14477\n",
              "Meteorological stations, Lampang                         14443\n",
              "Natural Resources and Environment Office, Chiangrai      14441\n",
              "Maesai Health Office                                     14439\n",
              "Health Promotion Hospital Sob Pad, Lampang               14436\n",
              "Natural Resources and Environment Office, Mae Hongson    14382\n",
              "Health Promotion Hospital                                14350\n",
              "Yupparaj Wittayalai School                               14350\n",
              "Provincial Waterworks Authority Mae Moh                  14078\n",
              "Chalermprakiet Hospital                                  13900\n",
              "Uthai Thani Provincial Hall                              11037\n",
              "District Hall, Kamphaeng Phet                             6974\n",
              "Chom Nan Chaloem Phrakiat Public Park                     6598\n",
              "Municipality Office, Sukhothai                            5939\n",
              "72nd Anniversary King Bhumibol Public Park, Uttaradit     2740\n",
              "Municipality Office, Uttaradit                            2520\n",
              "Provincial Natural Resources and Environmental Office     2491\n",
              "Groundwater Resources Officer Area 6                      2274\n",
              "Chom Nan Chaloem Phrakiat Public Park, Phitsanulok           4\n",
              "Name: nameEN, dtype: int64"
            ]
          },
          "metadata": {},
          "execution_count": 151
        }
      ]
    },
    {
      "cell_type": "code",
      "source": [
        "ds1_sensor = pd.DataFrame(ds1['nameTH'].copy())\n",
        "ds1_sensor.rename(columns={'nameTH':'sensor_NO'}, inplace = True)\n",
        "ds1_sensor = ds1_sensor.apply(lambda col: pd.factorize(col, sort=True)[0])\n",
        "ds1 = pd.concat([ds1,ds1_sensor], axis = 1)"
      ],
      "metadata": {
        "id": "DGtlfqX9vF_b"
      },
      "execution_count": null,
      "outputs": []
    },
    {
      "cell_type": "code",
      "source": [
        "ds1"
      ],
      "metadata": {
        "colab": {
          "base_uri": "https://localhost:8080/",
          "height": 835
        },
        "id": "7jMM1DGr-o88",
        "outputId": "346a25ff-ee60-4487-9166-545886f05ae3"
      },
      "execution_count": null,
      "outputs": [
        {
          "output_type": "execute_result",
          "data": {
            "text/plain": [
              "             id stationID                         nameTH  \\\n",
              "0         67972       o25   ที่ว่าการอำเภอเมืองกำแพงเพชร   \n",
              "1         68096       o25   ที่ว่าการอำเภอเมืองกำแพงเพชร   \n",
              "2         68220       o25   ที่ว่าการอำเภอเมืองกำแพงเพชร   \n",
              "3         68344       o25   ที่ว่าการอำเภอเมืองกำแพงเพชร   \n",
              "4         68469       o25   ที่ว่าการอำเภอเมืองกำแพงเพชร   \n",
              "...         ...       ...                            ...   \n",
              "277118  1953674       68t             อุตุนิยมวิทยาลำพูน   \n",
              "277119  1953806       68t             อุตุนิยมวิทยาลำพูน   \n",
              "277120  1953938       68t             อุตุนิยมวิทยาลำพูน   \n",
              "277121  1954070       68t             อุตุนิยมวิทยาลำพูน   \n",
              "277122  1954202       68t             อุตุนิยมวิทยาลำพูน   \n",
              "\n",
              "                                 nameEN stationType        lat       long  \\\n",
              "0                                   NaN      MOBILE  16.485150  99.524454   \n",
              "1                                   NaN      MOBILE  16.485150  99.524454   \n",
              "2                                   NaN      MOBILE  16.485150  99.524454   \n",
              "3         District Hall, Kamphaeng Phet      MOBILE  16.485150  99.524454   \n",
              "4         District Hall, Kamphaeng Phet      MOBILE  16.485150  99.524454   \n",
              "...                                 ...         ...        ...        ...   \n",
              "277118  Meteorological Staions, Lamphun      GROUND  18.567179  99.038560   \n",
              "277119  Meteorological Staions, Lamphun      GROUND  18.567179  99.038560   \n",
              "277120  Meteorological Staions, Lamphun      GROUND  18.567179  99.038560   \n",
              "277121  Meteorological Staions, Lamphun      GROUND  18.567179  99.038560   \n",
              "277122  Meteorological Staions, Lamphun      GROUND  18.567179  99.038560   \n",
              "\n",
              "           date_aq   time_aq  PM25  PM10   NO2  SO2    CO  O3  AQI  \\\n",
              "0       02/27/2020  07:00:00  72.0   NaN   NaN  NaN   NaN NaN    4   \n",
              "1       02/27/2020  08:00:00  74.0   NaN   NaN  NaN   NaN NaN    4   \n",
              "2       02/27/2020  09:00:00  77.0   NaN   NaN  NaN   NaN NaN    4   \n",
              "3       02/27/2020  10:00:00  79.0   NaN   NaN  NaN   NaN NaN    4   \n",
              "4       02/27/2020  11:00:00  80.0   NaN   NaN  NaN   NaN NaN    4   \n",
              "...            ...       ...   ...   ...   ...  ...   ...  ..  ...   \n",
              "277118  10/18/2021  16:00:00   9.0  20.0   5.0  2.0  0.48 NaN    1   \n",
              "277119  10/18/2021  17:00:00   9.0  21.0   5.0  2.0  0.48 NaN    1   \n",
              "277120  10/18/2021  18:00:00   9.0  20.0   6.0  1.0  0.48 NaN    1   \n",
              "277121  10/18/2021  19:00:00   9.0  20.0  10.0  1.0  0.51 NaN    1   \n",
              "277122  10/18/2021  21:00:00  11.0  23.0   8.0  2.0  0.54 NaN    1   \n",
              "\n",
              "                               areaTH                       areaEN  \\\n",
              "0                  อ.เมือง ,กำแพงเพชร                          NaN   \n",
              "1                  อ.เมือง ,กำแพงเพชร                          NaN   \n",
              "2                  อ.เมือง ,กำแพงเพชร                          NaN   \n",
              "3                 ต.ในเมือง, อ.เมือง        Mueang, Kamphaeng Phet   \n",
              "4        ต.ในเมือง, อ.เมือง,กำแพงเพชร       Mueang, Kamphaeng Phet   \n",
              "...                               ...                          ...   \n",
              "277118      ต.บ้านกลาง อ.เมือง, ลำพูน  ฺBan Klang, Mueang, Lamphun   \n",
              "277119      ต.บ้านกลาง อ.เมือง, ลำพูน  ฺBan Klang, Mueang, Lamphun   \n",
              "277120      ต.บ้านกลาง อ.เมือง, ลำพูน  ฺBan Klang, Mueang, Lamphun   \n",
              "277121      ต.บ้านกลาง อ.เมือง, ลำพูน  ฺBan Klang, Mueang, Lamphun   \n",
              "277122      ต.บ้านกลาง อ.เมือง, ลำพูน  ฺBan Klang, Mueang, Lamphun   \n",
              "\n",
              "               datetime_aq  sensor_NO  \n",
              "0      2020-02-27 07:00:00          0  \n",
              "1      2020-02-27 08:00:00          0  \n",
              "2      2020-02-27 09:00:00          0  \n",
              "3      2020-02-27 10:00:00          0  \n",
              "4      2020-02-27 11:00:00          0  \n",
              "...                    ...        ...  \n",
              "277118 2021-10-18 16:00:00         19  \n",
              "277119 2021-10-18 17:00:00         19  \n",
              "277120 2021-10-18 18:00:00         19  \n",
              "277121 2021-10-18 19:00:00         19  \n",
              "277122 2021-10-18 21:00:00         19  \n",
              "\n",
              "[271100 rows x 20 columns]"
            ],
            "text/html": [
              "\n",
              "  <div id=\"df-732e9d47-dee6-496e-a05f-350501107abe\">\n",
              "    <div class=\"colab-df-container\">\n",
              "      <div>\n",
              "<style scoped>\n",
              "    .dataframe tbody tr th:only-of-type {\n",
              "        vertical-align: middle;\n",
              "    }\n",
              "\n",
              "    .dataframe tbody tr th {\n",
              "        vertical-align: top;\n",
              "    }\n",
              "\n",
              "    .dataframe thead th {\n",
              "        text-align: right;\n",
              "    }\n",
              "</style>\n",
              "<table border=\"1\" class=\"dataframe\">\n",
              "  <thead>\n",
              "    <tr style=\"text-align: right;\">\n",
              "      <th></th>\n",
              "      <th>id</th>\n",
              "      <th>stationID</th>\n",
              "      <th>nameTH</th>\n",
              "      <th>nameEN</th>\n",
              "      <th>stationType</th>\n",
              "      <th>lat</th>\n",
              "      <th>long</th>\n",
              "      <th>date_aq</th>\n",
              "      <th>time_aq</th>\n",
              "      <th>PM25</th>\n",
              "      <th>PM10</th>\n",
              "      <th>NO2</th>\n",
              "      <th>SO2</th>\n",
              "      <th>CO</th>\n",
              "      <th>O3</th>\n",
              "      <th>AQI</th>\n",
              "      <th>areaTH</th>\n",
              "      <th>areaEN</th>\n",
              "      <th>datetime_aq</th>\n",
              "      <th>sensor_NO</th>\n",
              "    </tr>\n",
              "  </thead>\n",
              "  <tbody>\n",
              "    <tr>\n",
              "      <th>0</th>\n",
              "      <td>67972</td>\n",
              "      <td>o25</td>\n",
              "      <td>ที่ว่าการอำเภอเมืองกำแพงเพชร</td>\n",
              "      <td>NaN</td>\n",
              "      <td>MOBILE</td>\n",
              "      <td>16.485150</td>\n",
              "      <td>99.524454</td>\n",
              "      <td>02/27/2020</td>\n",
              "      <td>07:00:00</td>\n",
              "      <td>72.0</td>\n",
              "      <td>NaN</td>\n",
              "      <td>NaN</td>\n",
              "      <td>NaN</td>\n",
              "      <td>NaN</td>\n",
              "      <td>NaN</td>\n",
              "      <td>4</td>\n",
              "      <td>อ.เมือง ,กำแพงเพชร</td>\n",
              "      <td>NaN</td>\n",
              "      <td>2020-02-27 07:00:00</td>\n",
              "      <td>0</td>\n",
              "    </tr>\n",
              "    <tr>\n",
              "      <th>1</th>\n",
              "      <td>68096</td>\n",
              "      <td>o25</td>\n",
              "      <td>ที่ว่าการอำเภอเมืองกำแพงเพชร</td>\n",
              "      <td>NaN</td>\n",
              "      <td>MOBILE</td>\n",
              "      <td>16.485150</td>\n",
              "      <td>99.524454</td>\n",
              "      <td>02/27/2020</td>\n",
              "      <td>08:00:00</td>\n",
              "      <td>74.0</td>\n",
              "      <td>NaN</td>\n",
              "      <td>NaN</td>\n",
              "      <td>NaN</td>\n",
              "      <td>NaN</td>\n",
              "      <td>NaN</td>\n",
              "      <td>4</td>\n",
              "      <td>อ.เมือง ,กำแพงเพชร</td>\n",
              "      <td>NaN</td>\n",
              "      <td>2020-02-27 08:00:00</td>\n",
              "      <td>0</td>\n",
              "    </tr>\n",
              "    <tr>\n",
              "      <th>2</th>\n",
              "      <td>68220</td>\n",
              "      <td>o25</td>\n",
              "      <td>ที่ว่าการอำเภอเมืองกำแพงเพชร</td>\n",
              "      <td>NaN</td>\n",
              "      <td>MOBILE</td>\n",
              "      <td>16.485150</td>\n",
              "      <td>99.524454</td>\n",
              "      <td>02/27/2020</td>\n",
              "      <td>09:00:00</td>\n",
              "      <td>77.0</td>\n",
              "      <td>NaN</td>\n",
              "      <td>NaN</td>\n",
              "      <td>NaN</td>\n",
              "      <td>NaN</td>\n",
              "      <td>NaN</td>\n",
              "      <td>4</td>\n",
              "      <td>อ.เมือง ,กำแพงเพชร</td>\n",
              "      <td>NaN</td>\n",
              "      <td>2020-02-27 09:00:00</td>\n",
              "      <td>0</td>\n",
              "    </tr>\n",
              "    <tr>\n",
              "      <th>3</th>\n",
              "      <td>68344</td>\n",
              "      <td>o25</td>\n",
              "      <td>ที่ว่าการอำเภอเมืองกำแพงเพชร</td>\n",
              "      <td>District Hall, Kamphaeng Phet</td>\n",
              "      <td>MOBILE</td>\n",
              "      <td>16.485150</td>\n",
              "      <td>99.524454</td>\n",
              "      <td>02/27/2020</td>\n",
              "      <td>10:00:00</td>\n",
              "      <td>79.0</td>\n",
              "      <td>NaN</td>\n",
              "      <td>NaN</td>\n",
              "      <td>NaN</td>\n",
              "      <td>NaN</td>\n",
              "      <td>NaN</td>\n",
              "      <td>4</td>\n",
              "      <td>ต.ในเมือง, อ.เมือง</td>\n",
              "      <td>Mueang, Kamphaeng Phet</td>\n",
              "      <td>2020-02-27 10:00:00</td>\n",
              "      <td>0</td>\n",
              "    </tr>\n",
              "    <tr>\n",
              "      <th>4</th>\n",
              "      <td>68469</td>\n",
              "      <td>o25</td>\n",
              "      <td>ที่ว่าการอำเภอเมืองกำแพงเพชร</td>\n",
              "      <td>District Hall, Kamphaeng Phet</td>\n",
              "      <td>MOBILE</td>\n",
              "      <td>16.485150</td>\n",
              "      <td>99.524454</td>\n",
              "      <td>02/27/2020</td>\n",
              "      <td>11:00:00</td>\n",
              "      <td>80.0</td>\n",
              "      <td>NaN</td>\n",
              "      <td>NaN</td>\n",
              "      <td>NaN</td>\n",
              "      <td>NaN</td>\n",
              "      <td>NaN</td>\n",
              "      <td>4</td>\n",
              "      <td>ต.ในเมือง, อ.เมือง,กำแพงเพชร</td>\n",
              "      <td>Mueang, Kamphaeng Phet</td>\n",
              "      <td>2020-02-27 11:00:00</td>\n",
              "      <td>0</td>\n",
              "    </tr>\n",
              "    <tr>\n",
              "      <th>...</th>\n",
              "      <td>...</td>\n",
              "      <td>...</td>\n",
              "      <td>...</td>\n",
              "      <td>...</td>\n",
              "      <td>...</td>\n",
              "      <td>...</td>\n",
              "      <td>...</td>\n",
              "      <td>...</td>\n",
              "      <td>...</td>\n",
              "      <td>...</td>\n",
              "      <td>...</td>\n",
              "      <td>...</td>\n",
              "      <td>...</td>\n",
              "      <td>...</td>\n",
              "      <td>...</td>\n",
              "      <td>...</td>\n",
              "      <td>...</td>\n",
              "      <td>...</td>\n",
              "      <td>...</td>\n",
              "      <td>...</td>\n",
              "    </tr>\n",
              "    <tr>\n",
              "      <th>277118</th>\n",
              "      <td>1953674</td>\n",
              "      <td>68t</td>\n",
              "      <td>อุตุนิยมวิทยาลำพูน</td>\n",
              "      <td>Meteorological Staions, Lamphun</td>\n",
              "      <td>GROUND</td>\n",
              "      <td>18.567179</td>\n",
              "      <td>99.038560</td>\n",
              "      <td>10/18/2021</td>\n",
              "      <td>16:00:00</td>\n",
              "      <td>9.0</td>\n",
              "      <td>20.0</td>\n",
              "      <td>5.0</td>\n",
              "      <td>2.0</td>\n",
              "      <td>0.48</td>\n",
              "      <td>NaN</td>\n",
              "      <td>1</td>\n",
              "      <td>ต.บ้านกลาง อ.เมือง, ลำพูน</td>\n",
              "      <td>ฺBan Klang, Mueang, Lamphun</td>\n",
              "      <td>2021-10-18 16:00:00</td>\n",
              "      <td>19</td>\n",
              "    </tr>\n",
              "    <tr>\n",
              "      <th>277119</th>\n",
              "      <td>1953806</td>\n",
              "      <td>68t</td>\n",
              "      <td>อุตุนิยมวิทยาลำพูน</td>\n",
              "      <td>Meteorological Staions, Lamphun</td>\n",
              "      <td>GROUND</td>\n",
              "      <td>18.567179</td>\n",
              "      <td>99.038560</td>\n",
              "      <td>10/18/2021</td>\n",
              "      <td>17:00:00</td>\n",
              "      <td>9.0</td>\n",
              "      <td>21.0</td>\n",
              "      <td>5.0</td>\n",
              "      <td>2.0</td>\n",
              "      <td>0.48</td>\n",
              "      <td>NaN</td>\n",
              "      <td>1</td>\n",
              "      <td>ต.บ้านกลาง อ.เมือง, ลำพูน</td>\n",
              "      <td>ฺBan Klang, Mueang, Lamphun</td>\n",
              "      <td>2021-10-18 17:00:00</td>\n",
              "      <td>19</td>\n",
              "    </tr>\n",
              "    <tr>\n",
              "      <th>277120</th>\n",
              "      <td>1953938</td>\n",
              "      <td>68t</td>\n",
              "      <td>อุตุนิยมวิทยาลำพูน</td>\n",
              "      <td>Meteorological Staions, Lamphun</td>\n",
              "      <td>GROUND</td>\n",
              "      <td>18.567179</td>\n",
              "      <td>99.038560</td>\n",
              "      <td>10/18/2021</td>\n",
              "      <td>18:00:00</td>\n",
              "      <td>9.0</td>\n",
              "      <td>20.0</td>\n",
              "      <td>6.0</td>\n",
              "      <td>1.0</td>\n",
              "      <td>0.48</td>\n",
              "      <td>NaN</td>\n",
              "      <td>1</td>\n",
              "      <td>ต.บ้านกลาง อ.เมือง, ลำพูน</td>\n",
              "      <td>ฺBan Klang, Mueang, Lamphun</td>\n",
              "      <td>2021-10-18 18:00:00</td>\n",
              "      <td>19</td>\n",
              "    </tr>\n",
              "    <tr>\n",
              "      <th>277121</th>\n",
              "      <td>1954070</td>\n",
              "      <td>68t</td>\n",
              "      <td>อุตุนิยมวิทยาลำพูน</td>\n",
              "      <td>Meteorological Staions, Lamphun</td>\n",
              "      <td>GROUND</td>\n",
              "      <td>18.567179</td>\n",
              "      <td>99.038560</td>\n",
              "      <td>10/18/2021</td>\n",
              "      <td>19:00:00</td>\n",
              "      <td>9.0</td>\n",
              "      <td>20.0</td>\n",
              "      <td>10.0</td>\n",
              "      <td>1.0</td>\n",
              "      <td>0.51</td>\n",
              "      <td>NaN</td>\n",
              "      <td>1</td>\n",
              "      <td>ต.บ้านกลาง อ.เมือง, ลำพูน</td>\n",
              "      <td>ฺBan Klang, Mueang, Lamphun</td>\n",
              "      <td>2021-10-18 19:00:00</td>\n",
              "      <td>19</td>\n",
              "    </tr>\n",
              "    <tr>\n",
              "      <th>277122</th>\n",
              "      <td>1954202</td>\n",
              "      <td>68t</td>\n",
              "      <td>อุตุนิยมวิทยาลำพูน</td>\n",
              "      <td>Meteorological Staions, Lamphun</td>\n",
              "      <td>GROUND</td>\n",
              "      <td>18.567179</td>\n",
              "      <td>99.038560</td>\n",
              "      <td>10/18/2021</td>\n",
              "      <td>21:00:00</td>\n",
              "      <td>11.0</td>\n",
              "      <td>23.0</td>\n",
              "      <td>8.0</td>\n",
              "      <td>2.0</td>\n",
              "      <td>0.54</td>\n",
              "      <td>NaN</td>\n",
              "      <td>1</td>\n",
              "      <td>ต.บ้านกลาง อ.เมือง, ลำพูน</td>\n",
              "      <td>ฺBan Klang, Mueang, Lamphun</td>\n",
              "      <td>2021-10-18 21:00:00</td>\n",
              "      <td>19</td>\n",
              "    </tr>\n",
              "  </tbody>\n",
              "</table>\n",
              "<p>271100 rows × 20 columns</p>\n",
              "</div>\n",
              "      <button class=\"colab-df-convert\" onclick=\"convertToInteractive('df-732e9d47-dee6-496e-a05f-350501107abe')\"\n",
              "              title=\"Convert this dataframe to an interactive table.\"\n",
              "              style=\"display:none;\">\n",
              "        \n",
              "  <svg xmlns=\"http://www.w3.org/2000/svg\" height=\"24px\"viewBox=\"0 0 24 24\"\n",
              "       width=\"24px\">\n",
              "    <path d=\"M0 0h24v24H0V0z\" fill=\"none\"/>\n",
              "    <path d=\"M18.56 5.44l.94 2.06.94-2.06 2.06-.94-2.06-.94-.94-2.06-.94 2.06-2.06.94zm-11 1L8.5 8.5l.94-2.06 2.06-.94-2.06-.94L8.5 2.5l-.94 2.06-2.06.94zm10 10l.94 2.06.94-2.06 2.06-.94-2.06-.94-.94-2.06-.94 2.06-2.06.94z\"/><path d=\"M17.41 7.96l-1.37-1.37c-.4-.4-.92-.59-1.43-.59-.52 0-1.04.2-1.43.59L10.3 9.45l-7.72 7.72c-.78.78-.78 2.05 0 2.83L4 21.41c.39.39.9.59 1.41.59.51 0 1.02-.2 1.41-.59l7.78-7.78 2.81-2.81c.8-.78.8-2.07 0-2.86zM5.41 20L4 18.59l7.72-7.72 1.47 1.35L5.41 20z\"/>\n",
              "  </svg>\n",
              "      </button>\n",
              "      \n",
              "  <style>\n",
              "    .colab-df-container {\n",
              "      display:flex;\n",
              "      flex-wrap:wrap;\n",
              "      gap: 12px;\n",
              "    }\n",
              "\n",
              "    .colab-df-convert {\n",
              "      background-color: #E8F0FE;\n",
              "      border: none;\n",
              "      border-radius: 50%;\n",
              "      cursor: pointer;\n",
              "      display: none;\n",
              "      fill: #1967D2;\n",
              "      height: 32px;\n",
              "      padding: 0 0 0 0;\n",
              "      width: 32px;\n",
              "    }\n",
              "\n",
              "    .colab-df-convert:hover {\n",
              "      background-color: #E2EBFA;\n",
              "      box-shadow: 0px 1px 2px rgba(60, 64, 67, 0.3), 0px 1px 3px 1px rgba(60, 64, 67, 0.15);\n",
              "      fill: #174EA6;\n",
              "    }\n",
              "\n",
              "    [theme=dark] .colab-df-convert {\n",
              "      background-color: #3B4455;\n",
              "      fill: #D2E3FC;\n",
              "    }\n",
              "\n",
              "    [theme=dark] .colab-df-convert:hover {\n",
              "      background-color: #434B5C;\n",
              "      box-shadow: 0px 1px 3px 1px rgba(0, 0, 0, 0.15);\n",
              "      filter: drop-shadow(0px 1px 2px rgba(0, 0, 0, 0.3));\n",
              "      fill: #FFFFFF;\n",
              "    }\n",
              "  </style>\n",
              "\n",
              "      <script>\n",
              "        const buttonEl =\n",
              "          document.querySelector('#df-732e9d47-dee6-496e-a05f-350501107abe button.colab-df-convert');\n",
              "        buttonEl.style.display =\n",
              "          google.colab.kernel.accessAllowed ? 'block' : 'none';\n",
              "\n",
              "        async function convertToInteractive(key) {\n",
              "          const element = document.querySelector('#df-732e9d47-dee6-496e-a05f-350501107abe');\n",
              "          const dataTable =\n",
              "            await google.colab.kernel.invokeFunction('convertToInteractive',\n",
              "                                                     [key], {});\n",
              "          if (!dataTable) return;\n",
              "\n",
              "          const docLinkHtml = 'Like what you see? Visit the ' +\n",
              "            '<a target=\"_blank\" href=https://colab.research.google.com/notebooks/data_table.ipynb>data table notebook</a>'\n",
              "            + ' to learn more about interactive tables.';\n",
              "          element.innerHTML = '';\n",
              "          dataTable['output_type'] = 'display_data';\n",
              "          await google.colab.output.renderOutput(dataTable, element);\n",
              "          const docLink = document.createElement('div');\n",
              "          docLink.innerHTML = docLinkHtml;\n",
              "          element.appendChild(docLink);\n",
              "        }\n",
              "      </script>\n",
              "    </div>\n",
              "  </div>\n",
              "  "
            ]
          },
          "metadata": {},
          "execution_count": 47
        }
      ]
    },
    {
      "cell_type": "code",
      "source": [
        "def getTime(t):\n",
        "  if len(str(t))==3 :\n",
        "    return '0'+str(t)[0] + ':' + str(t)[1:]\n",
        "  elif len(str(t))==4 :\n",
        "    return str(t)[:2] + ':' + str(t)[2:]"
      ],
      "metadata": {
        "id": "-ikVacx_HCoU"
      },
      "execution_count": null,
      "outputs": []
    },
    {
      "cell_type": "code",
      "source": [
        "ds2['ACQ_TIME'] = ds2['ACQ_TIME'].apply(getTime)"
      ],
      "metadata": {
        "id": "PbB7S4fAJrly"
      },
      "execution_count": null,
      "outputs": []
    },
    {
      "cell_type": "code",
      "source": [
        "ds2.shape"
      ],
      "metadata": {
        "id": "a98DNpKTTieR",
        "colab": {
          "base_uri": "https://localhost:8080/"
        },
        "outputId": "3998d4ab-c2cb-4918-d7d9-1672a6baed7a"
      },
      "execution_count": null,
      "outputs": [
        {
          "output_type": "execute_result",
          "data": {
            "text/plain": [
              "(420525, 15)"
            ]
          },
          "metadata": {},
          "execution_count": 50
        }
      ]
    },
    {
      "cell_type": "code",
      "source": [
        "ds2[\"FireOccurred\"].sum()"
      ],
      "metadata": {
        "id": "4XmloDUNTMZD",
        "colab": {
          "base_uri": "https://localhost:8080/"
        },
        "outputId": "a9d11f5f-224a-408f-ba44-d4da20d67bf0"
      },
      "execution_count": null,
      "outputs": [
        {
          "output_type": "execute_result",
          "data": {
            "text/plain": [
              "1465"
            ]
          },
          "metadata": {},
          "execution_count": 53
        }
      ]
    },
    {
      "cell_type": "code",
      "source": [
        "ds1_CNX=ds1[ds1[\"areaTH\"].str.contains(\"เชียงใหม่\") == True].reset_index(drop=True)\n",
        "ds1_CNX.loc[0]"
      ],
      "metadata": {
        "id": "dH00uQ4wTloa"
      },
      "execution_count": null,
      "outputs": []
    },
    {
      "cell_type": "code",
      "source": [
        "ds1_CNX['nameEN'].unique()"
      ],
      "metadata": {
        "id": "6d0DS8qC-TCp"
      },
      "execution_count": null,
      "outputs": []
    },
    {
      "cell_type": "code",
      "source": [
        "def ApproxTime(t):\n",
        "  if t[-2:] >= \"30\" :\n",
        "    if int(t[:2]) < 10 :\n",
        "      s = '0'+str(int(t[:2])+1) + ':00:00' \n",
        "    else :\n",
        "      s = str(int(t[:2])+1) + ':00:00' \n",
        "  elif t[-2:] < \"30\" :\n",
        "    if int(t[:2]) < 10 :\n",
        "      s = t[:2] + ':00:00' \n",
        "    else :\n",
        "      s = t[:2] + ':00:00' \n",
        "  return s\n",
        "  #return datetime.strptime(s,'%H:%M:%S').time()"
      ],
      "metadata": {
        "id": "VSGqPZn5YU8f"
      },
      "execution_count": null,
      "outputs": []
    },
    {
      "cell_type": "code",
      "source": [
        "ds2_1 = ds2.copy()\n",
        "ds1_1 = ds1.copy()\n",
        "#ds1_1 = ds1_CNX.copy()\n",
        "# 1 degree = 111 km\n",
        "ds2_1[\"lat_high\"] = ds2_1[\"LATITUDE\"] + 5/111\n",
        "ds2_1[\"lat_low\"] = ds2_1[\"LATITUDE\"] - 5/111\n",
        "ds2_1[\"long_high\"] = ds2_1[\"LONGITUDE\"] + 5/111\n",
        "ds2_1[\"long_low\"] = ds2_1[\"LONGITUDE\"] - 5/111\n",
        "ds2_1[\"time_acq\"] = ds2_1['ACQ_TIME'].apply(ApproxTime)\n",
        "ds1_1[\"time_aq\"] = ds1_1[\"time_aq\"].astype(str)\n",
        "ds2_1.head()"
      ],
      "metadata": {
        "id": "fdRKygm4HbS_",
        "colab": {
          "base_uri": "https://localhost:8080/",
          "height": 299
        },
        "outputId": "a8c1f840-ffaa-49ba-f310-0f92f5311130"
      },
      "execution_count": null,
      "outputs": [
        {
          "output_type": "execute_result",
          "data": {
            "text/plain": [
              "   LATITUDE  LONGITUDE  BRIGHTNESS  SCAN  TRACK    ACQ_DATE ACQ_TIME  \\\n",
              "0   18.4522   103.4546       313.0   1.3    1.1  01/01/2020    03:59   \n",
              "1   17.8460   103.2679       320.8   1.3    1.1  01/01/2020    03:59   \n",
              "2   17.8479   103.2563       320.7   1.3    1.1  01/01/2020    03:59   \n",
              "3   17.8578   103.2580       319.2   1.3    1.1  01/01/2020    03:59   \n",
              "4   16.7559   102.1498       324.3   1.1    1.1  01/01/2020    04:00   \n",
              "\n",
              "  SATELLITE INSTRUMENT CONFIDENCE  ... BRIGHT_T31   FRP  DAYNIGHT TYPE  \\\n",
              "0     Terra      MODIS         44  ...      299.5   7.2         D  0.0   \n",
              "1     Terra      MODIS         68  ...      300.1  11.8         D  0.0   \n",
              "2     Terra      MODIS         68  ...      299.6  11.6         D  0.0   \n",
              "3     Terra      MODIS         29  ...      300.2   9.5         D  0.0   \n",
              "4     Terra      MODIS         77  ...      294.3  17.9         D  0.0   \n",
              "\n",
              "   FireOccurred   lat_high    lat_low   long_high    long_low  time_acq  \n",
              "0             0  18.497245  18.407155  103.499645  103.409555  04:00:00  \n",
              "1             0  17.891045  17.800955  103.312945  103.222855  04:00:00  \n",
              "2             0  17.892945  17.802855  103.301345  103.211255  04:00:00  \n",
              "3             0  17.902845  17.812755  103.303045  103.212955  04:00:00  \n",
              "4             0  16.800945  16.710855  102.194845  102.104755  04:00:00  \n",
              "\n",
              "[5 rows x 21 columns]"
            ],
            "text/html": [
              "\n",
              "  <div id=\"df-03e6a91f-de90-45f9-aaa8-ed6ab2525a95\">\n",
              "    <div class=\"colab-df-container\">\n",
              "      <div>\n",
              "<style scoped>\n",
              "    .dataframe tbody tr th:only-of-type {\n",
              "        vertical-align: middle;\n",
              "    }\n",
              "\n",
              "    .dataframe tbody tr th {\n",
              "        vertical-align: top;\n",
              "    }\n",
              "\n",
              "    .dataframe thead th {\n",
              "        text-align: right;\n",
              "    }\n",
              "</style>\n",
              "<table border=\"1\" class=\"dataframe\">\n",
              "  <thead>\n",
              "    <tr style=\"text-align: right;\">\n",
              "      <th></th>\n",
              "      <th>LATITUDE</th>\n",
              "      <th>LONGITUDE</th>\n",
              "      <th>BRIGHTNESS</th>\n",
              "      <th>SCAN</th>\n",
              "      <th>TRACK</th>\n",
              "      <th>ACQ_DATE</th>\n",
              "      <th>ACQ_TIME</th>\n",
              "      <th>SATELLITE</th>\n",
              "      <th>INSTRUMENT</th>\n",
              "      <th>CONFIDENCE</th>\n",
              "      <th>...</th>\n",
              "      <th>BRIGHT_T31</th>\n",
              "      <th>FRP</th>\n",
              "      <th>DAYNIGHT</th>\n",
              "      <th>TYPE</th>\n",
              "      <th>FireOccurred</th>\n",
              "      <th>lat_high</th>\n",
              "      <th>lat_low</th>\n",
              "      <th>long_high</th>\n",
              "      <th>long_low</th>\n",
              "      <th>time_acq</th>\n",
              "    </tr>\n",
              "  </thead>\n",
              "  <tbody>\n",
              "    <tr>\n",
              "      <th>0</th>\n",
              "      <td>18.4522</td>\n",
              "      <td>103.4546</td>\n",
              "      <td>313.0</td>\n",
              "      <td>1.3</td>\n",
              "      <td>1.1</td>\n",
              "      <td>01/01/2020</td>\n",
              "      <td>03:59</td>\n",
              "      <td>Terra</td>\n",
              "      <td>MODIS</td>\n",
              "      <td>44</td>\n",
              "      <td>...</td>\n",
              "      <td>299.5</td>\n",
              "      <td>7.2</td>\n",
              "      <td>D</td>\n",
              "      <td>0.0</td>\n",
              "      <td>0</td>\n",
              "      <td>18.497245</td>\n",
              "      <td>18.407155</td>\n",
              "      <td>103.499645</td>\n",
              "      <td>103.409555</td>\n",
              "      <td>04:00:00</td>\n",
              "    </tr>\n",
              "    <tr>\n",
              "      <th>1</th>\n",
              "      <td>17.8460</td>\n",
              "      <td>103.2679</td>\n",
              "      <td>320.8</td>\n",
              "      <td>1.3</td>\n",
              "      <td>1.1</td>\n",
              "      <td>01/01/2020</td>\n",
              "      <td>03:59</td>\n",
              "      <td>Terra</td>\n",
              "      <td>MODIS</td>\n",
              "      <td>68</td>\n",
              "      <td>...</td>\n",
              "      <td>300.1</td>\n",
              "      <td>11.8</td>\n",
              "      <td>D</td>\n",
              "      <td>0.0</td>\n",
              "      <td>0</td>\n",
              "      <td>17.891045</td>\n",
              "      <td>17.800955</td>\n",
              "      <td>103.312945</td>\n",
              "      <td>103.222855</td>\n",
              "      <td>04:00:00</td>\n",
              "    </tr>\n",
              "    <tr>\n",
              "      <th>2</th>\n",
              "      <td>17.8479</td>\n",
              "      <td>103.2563</td>\n",
              "      <td>320.7</td>\n",
              "      <td>1.3</td>\n",
              "      <td>1.1</td>\n",
              "      <td>01/01/2020</td>\n",
              "      <td>03:59</td>\n",
              "      <td>Terra</td>\n",
              "      <td>MODIS</td>\n",
              "      <td>68</td>\n",
              "      <td>...</td>\n",
              "      <td>299.6</td>\n",
              "      <td>11.6</td>\n",
              "      <td>D</td>\n",
              "      <td>0.0</td>\n",
              "      <td>0</td>\n",
              "      <td>17.892945</td>\n",
              "      <td>17.802855</td>\n",
              "      <td>103.301345</td>\n",
              "      <td>103.211255</td>\n",
              "      <td>04:00:00</td>\n",
              "    </tr>\n",
              "    <tr>\n",
              "      <th>3</th>\n",
              "      <td>17.8578</td>\n",
              "      <td>103.2580</td>\n",
              "      <td>319.2</td>\n",
              "      <td>1.3</td>\n",
              "      <td>1.1</td>\n",
              "      <td>01/01/2020</td>\n",
              "      <td>03:59</td>\n",
              "      <td>Terra</td>\n",
              "      <td>MODIS</td>\n",
              "      <td>29</td>\n",
              "      <td>...</td>\n",
              "      <td>300.2</td>\n",
              "      <td>9.5</td>\n",
              "      <td>D</td>\n",
              "      <td>0.0</td>\n",
              "      <td>0</td>\n",
              "      <td>17.902845</td>\n",
              "      <td>17.812755</td>\n",
              "      <td>103.303045</td>\n",
              "      <td>103.212955</td>\n",
              "      <td>04:00:00</td>\n",
              "    </tr>\n",
              "    <tr>\n",
              "      <th>4</th>\n",
              "      <td>16.7559</td>\n",
              "      <td>102.1498</td>\n",
              "      <td>324.3</td>\n",
              "      <td>1.1</td>\n",
              "      <td>1.1</td>\n",
              "      <td>01/01/2020</td>\n",
              "      <td>04:00</td>\n",
              "      <td>Terra</td>\n",
              "      <td>MODIS</td>\n",
              "      <td>77</td>\n",
              "      <td>...</td>\n",
              "      <td>294.3</td>\n",
              "      <td>17.9</td>\n",
              "      <td>D</td>\n",
              "      <td>0.0</td>\n",
              "      <td>0</td>\n",
              "      <td>16.800945</td>\n",
              "      <td>16.710855</td>\n",
              "      <td>102.194845</td>\n",
              "      <td>102.104755</td>\n",
              "      <td>04:00:00</td>\n",
              "    </tr>\n",
              "  </tbody>\n",
              "</table>\n",
              "<p>5 rows × 21 columns</p>\n",
              "</div>\n",
              "      <button class=\"colab-df-convert\" onclick=\"convertToInteractive('df-03e6a91f-de90-45f9-aaa8-ed6ab2525a95')\"\n",
              "              title=\"Convert this dataframe to an interactive table.\"\n",
              "              style=\"display:none;\">\n",
              "        \n",
              "  <svg xmlns=\"http://www.w3.org/2000/svg\" height=\"24px\"viewBox=\"0 0 24 24\"\n",
              "       width=\"24px\">\n",
              "    <path d=\"M0 0h24v24H0V0z\" fill=\"none\"/>\n",
              "    <path d=\"M18.56 5.44l.94 2.06.94-2.06 2.06-.94-2.06-.94-.94-2.06-.94 2.06-2.06.94zm-11 1L8.5 8.5l.94-2.06 2.06-.94-2.06-.94L8.5 2.5l-.94 2.06-2.06.94zm10 10l.94 2.06.94-2.06 2.06-.94-2.06-.94-.94-2.06-.94 2.06-2.06.94z\"/><path d=\"M17.41 7.96l-1.37-1.37c-.4-.4-.92-.59-1.43-.59-.52 0-1.04.2-1.43.59L10.3 9.45l-7.72 7.72c-.78.78-.78 2.05 0 2.83L4 21.41c.39.39.9.59 1.41.59.51 0 1.02-.2 1.41-.59l7.78-7.78 2.81-2.81c.8-.78.8-2.07 0-2.86zM5.41 20L4 18.59l7.72-7.72 1.47 1.35L5.41 20z\"/>\n",
              "  </svg>\n",
              "      </button>\n",
              "      \n",
              "  <style>\n",
              "    .colab-df-container {\n",
              "      display:flex;\n",
              "      flex-wrap:wrap;\n",
              "      gap: 12px;\n",
              "    }\n",
              "\n",
              "    .colab-df-convert {\n",
              "      background-color: #E8F0FE;\n",
              "      border: none;\n",
              "      border-radius: 50%;\n",
              "      cursor: pointer;\n",
              "      display: none;\n",
              "      fill: #1967D2;\n",
              "      height: 32px;\n",
              "      padding: 0 0 0 0;\n",
              "      width: 32px;\n",
              "    }\n",
              "\n",
              "    .colab-df-convert:hover {\n",
              "      background-color: #E2EBFA;\n",
              "      box-shadow: 0px 1px 2px rgba(60, 64, 67, 0.3), 0px 1px 3px 1px rgba(60, 64, 67, 0.15);\n",
              "      fill: #174EA6;\n",
              "    }\n",
              "\n",
              "    [theme=dark] .colab-df-convert {\n",
              "      background-color: #3B4455;\n",
              "      fill: #D2E3FC;\n",
              "    }\n",
              "\n",
              "    [theme=dark] .colab-df-convert:hover {\n",
              "      background-color: #434B5C;\n",
              "      box-shadow: 0px 1px 3px 1px rgba(0, 0, 0, 0.15);\n",
              "      filter: drop-shadow(0px 1px 2px rgba(0, 0, 0, 0.3));\n",
              "      fill: #FFFFFF;\n",
              "    }\n",
              "  </style>\n",
              "\n",
              "      <script>\n",
              "        const buttonEl =\n",
              "          document.querySelector('#df-03e6a91f-de90-45f9-aaa8-ed6ab2525a95 button.colab-df-convert');\n",
              "        buttonEl.style.display =\n",
              "          google.colab.kernel.accessAllowed ? 'block' : 'none';\n",
              "\n",
              "        async function convertToInteractive(key) {\n",
              "          const element = document.querySelector('#df-03e6a91f-de90-45f9-aaa8-ed6ab2525a95');\n",
              "          const dataTable =\n",
              "            await google.colab.kernel.invokeFunction('convertToInteractive',\n",
              "                                                     [key], {});\n",
              "          if (!dataTable) return;\n",
              "\n",
              "          const docLinkHtml = 'Like what you see? Visit the ' +\n",
              "            '<a target=\"_blank\" href=https://colab.research.google.com/notebooks/data_table.ipynb>data table notebook</a>'\n",
              "            + ' to learn more about interactive tables.';\n",
              "          element.innerHTML = '';\n",
              "          dataTable['output_type'] = 'display_data';\n",
              "          await google.colab.output.renderOutput(dataTable, element);\n",
              "          const docLink = document.createElement('div');\n",
              "          docLink.innerHTML = docLinkHtml;\n",
              "          element.appendChild(docLink);\n",
              "        }\n",
              "      </script>\n",
              "    </div>\n",
              "  </div>\n",
              "  "
            ]
          },
          "metadata": {},
          "execution_count": 55
        }
      ]
    },
    {
      "cell_type": "code",
      "source": [
        "ds_merge1 = ds1_1.conditional_join(ds2_1, (\"lat\",\"lat_high\", \"<=\"), (\"lat\",\"lat_low\", \">=\"), (\"long\",\"long_high\", \"<=\"), (\"long\",\"long_low\", \">=\"), (\"date_aq\",\"ACQ_DATE\", \"==\"), (\"time_aq\",\"time_acq\", \"==\"))\n",
        "ds_merge1.loc[:,['FRP','lat','long','LATITUDE','LONGITUDE','time_acq','date_aq','ACQ_DATE','time_aq']].shape"
      ],
      "metadata": {
        "id": "ijrxbFpRTpKs",
        "colab": {
          "base_uri": "https://localhost:8080/"
        },
        "outputId": "991e41b4-6646-4745-ad17-8bd0cac9bc1c"
      },
      "execution_count": null,
      "outputs": [
        {
          "output_type": "execute_result",
          "data": {
            "text/plain": [
              "(994, 9)"
            ]
          },
          "metadata": {},
          "execution_count": 56
        }
      ]
    },
    {
      "cell_type": "code",
      "source": [
        "ds1_1['nameEN'].nunique()\n",
        "ds_merge1.loc[:,['FRP','lat','long','LATITUDE','LONGITUDE','time_acq','date_aq','ACQ_DATE','time_aq']]"
      ],
      "metadata": {
        "colab": {
          "base_uri": "https://localhost:8080/",
          "height": 424
        },
        "id": "SLOmfCWwRwJK",
        "outputId": "84bc6096-2eac-4c13-d267-f226dc245c8c"
      },
      "execution_count": null,
      "outputs": [
        {
          "output_type": "execute_result",
          "data": {
            "text/plain": [
              "      FRP        lat        long  LATITUDE  LONGITUDE  time_acq     date_aq  \\\n",
              "0     1.6  15.686254  100.110542  15.72530  100.14859  07:00:00  02/27/2020   \n",
              "1     1.8  18.282664   99.659873  18.24696   99.62376  19:00:00  02/27/2020   \n",
              "2     1.8  18.282664   99.659873  18.25106   99.62046  19:00:00  02/27/2020   \n",
              "3     1.4  19.304686   97.970999  19.34131   97.98842  19:00:00  02/27/2020   \n",
              "4     0.6  19.304686   97.970999  19.34558   98.00413  19:00:00  02/27/2020   \n",
              "..    ...        ...         ...       ...        ...       ...         ...   \n",
              "989   9.5  19.304686   97.970999  19.30290   97.96940  04:00:00  09/21/2021   \n",
              "990  10.7  18.567179   99.038560  18.58580   99.05530  04:00:00  09/21/2021   \n",
              "991  12.9  19.909242   99.823357  19.89590   99.82590  04:00:00  09/09/2020   \n",
              "992   4.9  18.278251   99.506447  18.29160   99.50830  07:00:00  09/04/2021   \n",
              "993   9.7  19.909242   99.823357  19.88910   99.83830  07:00:00  09/04/2021   \n",
              "\n",
              "       ACQ_DATE   time_aq  \n",
              "0    02/27/2020  07:00:00  \n",
              "1    02/27/2020  19:00:00  \n",
              "2    02/27/2020  19:00:00  \n",
              "3    02/27/2020  19:00:00  \n",
              "4    02/27/2020  19:00:00  \n",
              "..          ...       ...  \n",
              "989  09/21/2021  04:00:00  \n",
              "990  09/21/2021  04:00:00  \n",
              "991  09/09/2020  04:00:00  \n",
              "992  09/04/2021  07:00:00  \n",
              "993  09/04/2021  07:00:00  \n",
              "\n",
              "[994 rows x 9 columns]"
            ],
            "text/html": [
              "\n",
              "  <div id=\"df-9340f94c-fd32-4527-8393-0ae317cf3dad\">\n",
              "    <div class=\"colab-df-container\">\n",
              "      <div>\n",
              "<style scoped>\n",
              "    .dataframe tbody tr th:only-of-type {\n",
              "        vertical-align: middle;\n",
              "    }\n",
              "\n",
              "    .dataframe tbody tr th {\n",
              "        vertical-align: top;\n",
              "    }\n",
              "\n",
              "    .dataframe thead th {\n",
              "        text-align: right;\n",
              "    }\n",
              "</style>\n",
              "<table border=\"1\" class=\"dataframe\">\n",
              "  <thead>\n",
              "    <tr style=\"text-align: right;\">\n",
              "      <th></th>\n",
              "      <th>FRP</th>\n",
              "      <th>lat</th>\n",
              "      <th>long</th>\n",
              "      <th>LATITUDE</th>\n",
              "      <th>LONGITUDE</th>\n",
              "      <th>time_acq</th>\n",
              "      <th>date_aq</th>\n",
              "      <th>ACQ_DATE</th>\n",
              "      <th>time_aq</th>\n",
              "    </tr>\n",
              "  </thead>\n",
              "  <tbody>\n",
              "    <tr>\n",
              "      <th>0</th>\n",
              "      <td>1.6</td>\n",
              "      <td>15.686254</td>\n",
              "      <td>100.110542</td>\n",
              "      <td>15.72530</td>\n",
              "      <td>100.14859</td>\n",
              "      <td>07:00:00</td>\n",
              "      <td>02/27/2020</td>\n",
              "      <td>02/27/2020</td>\n",
              "      <td>07:00:00</td>\n",
              "    </tr>\n",
              "    <tr>\n",
              "      <th>1</th>\n",
              "      <td>1.8</td>\n",
              "      <td>18.282664</td>\n",
              "      <td>99.659873</td>\n",
              "      <td>18.24696</td>\n",
              "      <td>99.62376</td>\n",
              "      <td>19:00:00</td>\n",
              "      <td>02/27/2020</td>\n",
              "      <td>02/27/2020</td>\n",
              "      <td>19:00:00</td>\n",
              "    </tr>\n",
              "    <tr>\n",
              "      <th>2</th>\n",
              "      <td>1.8</td>\n",
              "      <td>18.282664</td>\n",
              "      <td>99.659873</td>\n",
              "      <td>18.25106</td>\n",
              "      <td>99.62046</td>\n",
              "      <td>19:00:00</td>\n",
              "      <td>02/27/2020</td>\n",
              "      <td>02/27/2020</td>\n",
              "      <td>19:00:00</td>\n",
              "    </tr>\n",
              "    <tr>\n",
              "      <th>3</th>\n",
              "      <td>1.4</td>\n",
              "      <td>19.304686</td>\n",
              "      <td>97.970999</td>\n",
              "      <td>19.34131</td>\n",
              "      <td>97.98842</td>\n",
              "      <td>19:00:00</td>\n",
              "      <td>02/27/2020</td>\n",
              "      <td>02/27/2020</td>\n",
              "      <td>19:00:00</td>\n",
              "    </tr>\n",
              "    <tr>\n",
              "      <th>4</th>\n",
              "      <td>0.6</td>\n",
              "      <td>19.304686</td>\n",
              "      <td>97.970999</td>\n",
              "      <td>19.34558</td>\n",
              "      <td>98.00413</td>\n",
              "      <td>19:00:00</td>\n",
              "      <td>02/27/2020</td>\n",
              "      <td>02/27/2020</td>\n",
              "      <td>19:00:00</td>\n",
              "    </tr>\n",
              "    <tr>\n",
              "      <th>...</th>\n",
              "      <td>...</td>\n",
              "      <td>...</td>\n",
              "      <td>...</td>\n",
              "      <td>...</td>\n",
              "      <td>...</td>\n",
              "      <td>...</td>\n",
              "      <td>...</td>\n",
              "      <td>...</td>\n",
              "      <td>...</td>\n",
              "    </tr>\n",
              "    <tr>\n",
              "      <th>989</th>\n",
              "      <td>9.5</td>\n",
              "      <td>19.304686</td>\n",
              "      <td>97.970999</td>\n",
              "      <td>19.30290</td>\n",
              "      <td>97.96940</td>\n",
              "      <td>04:00:00</td>\n",
              "      <td>09/21/2021</td>\n",
              "      <td>09/21/2021</td>\n",
              "      <td>04:00:00</td>\n",
              "    </tr>\n",
              "    <tr>\n",
              "      <th>990</th>\n",
              "      <td>10.7</td>\n",
              "      <td>18.567179</td>\n",
              "      <td>99.038560</td>\n",
              "      <td>18.58580</td>\n",
              "      <td>99.05530</td>\n",
              "      <td>04:00:00</td>\n",
              "      <td>09/21/2021</td>\n",
              "      <td>09/21/2021</td>\n",
              "      <td>04:00:00</td>\n",
              "    </tr>\n",
              "    <tr>\n",
              "      <th>991</th>\n",
              "      <td>12.9</td>\n",
              "      <td>19.909242</td>\n",
              "      <td>99.823357</td>\n",
              "      <td>19.89590</td>\n",
              "      <td>99.82590</td>\n",
              "      <td>04:00:00</td>\n",
              "      <td>09/09/2020</td>\n",
              "      <td>09/09/2020</td>\n",
              "      <td>04:00:00</td>\n",
              "    </tr>\n",
              "    <tr>\n",
              "      <th>992</th>\n",
              "      <td>4.9</td>\n",
              "      <td>18.278251</td>\n",
              "      <td>99.506447</td>\n",
              "      <td>18.29160</td>\n",
              "      <td>99.50830</td>\n",
              "      <td>07:00:00</td>\n",
              "      <td>09/04/2021</td>\n",
              "      <td>09/04/2021</td>\n",
              "      <td>07:00:00</td>\n",
              "    </tr>\n",
              "    <tr>\n",
              "      <th>993</th>\n",
              "      <td>9.7</td>\n",
              "      <td>19.909242</td>\n",
              "      <td>99.823357</td>\n",
              "      <td>19.88910</td>\n",
              "      <td>99.83830</td>\n",
              "      <td>07:00:00</td>\n",
              "      <td>09/04/2021</td>\n",
              "      <td>09/04/2021</td>\n",
              "      <td>07:00:00</td>\n",
              "    </tr>\n",
              "  </tbody>\n",
              "</table>\n",
              "<p>994 rows × 9 columns</p>\n",
              "</div>\n",
              "      <button class=\"colab-df-convert\" onclick=\"convertToInteractive('df-9340f94c-fd32-4527-8393-0ae317cf3dad')\"\n",
              "              title=\"Convert this dataframe to an interactive table.\"\n",
              "              style=\"display:none;\">\n",
              "        \n",
              "  <svg xmlns=\"http://www.w3.org/2000/svg\" height=\"24px\"viewBox=\"0 0 24 24\"\n",
              "       width=\"24px\">\n",
              "    <path d=\"M0 0h24v24H0V0z\" fill=\"none\"/>\n",
              "    <path d=\"M18.56 5.44l.94 2.06.94-2.06 2.06-.94-2.06-.94-.94-2.06-.94 2.06-2.06.94zm-11 1L8.5 8.5l.94-2.06 2.06-.94-2.06-.94L8.5 2.5l-.94 2.06-2.06.94zm10 10l.94 2.06.94-2.06 2.06-.94-2.06-.94-.94-2.06-.94 2.06-2.06.94z\"/><path d=\"M17.41 7.96l-1.37-1.37c-.4-.4-.92-.59-1.43-.59-.52 0-1.04.2-1.43.59L10.3 9.45l-7.72 7.72c-.78.78-.78 2.05 0 2.83L4 21.41c.39.39.9.59 1.41.59.51 0 1.02-.2 1.41-.59l7.78-7.78 2.81-2.81c.8-.78.8-2.07 0-2.86zM5.41 20L4 18.59l7.72-7.72 1.47 1.35L5.41 20z\"/>\n",
              "  </svg>\n",
              "      </button>\n",
              "      \n",
              "  <style>\n",
              "    .colab-df-container {\n",
              "      display:flex;\n",
              "      flex-wrap:wrap;\n",
              "      gap: 12px;\n",
              "    }\n",
              "\n",
              "    .colab-df-convert {\n",
              "      background-color: #E8F0FE;\n",
              "      border: none;\n",
              "      border-radius: 50%;\n",
              "      cursor: pointer;\n",
              "      display: none;\n",
              "      fill: #1967D2;\n",
              "      height: 32px;\n",
              "      padding: 0 0 0 0;\n",
              "      width: 32px;\n",
              "    }\n",
              "\n",
              "    .colab-df-convert:hover {\n",
              "      background-color: #E2EBFA;\n",
              "      box-shadow: 0px 1px 2px rgba(60, 64, 67, 0.3), 0px 1px 3px 1px rgba(60, 64, 67, 0.15);\n",
              "      fill: #174EA6;\n",
              "    }\n",
              "\n",
              "    [theme=dark] .colab-df-convert {\n",
              "      background-color: #3B4455;\n",
              "      fill: #D2E3FC;\n",
              "    }\n",
              "\n",
              "    [theme=dark] .colab-df-convert:hover {\n",
              "      background-color: #434B5C;\n",
              "      box-shadow: 0px 1px 3px 1px rgba(0, 0, 0, 0.15);\n",
              "      filter: drop-shadow(0px 1px 2px rgba(0, 0, 0, 0.3));\n",
              "      fill: #FFFFFF;\n",
              "    }\n",
              "  </style>\n",
              "\n",
              "      <script>\n",
              "        const buttonEl =\n",
              "          document.querySelector('#df-9340f94c-fd32-4527-8393-0ae317cf3dad button.colab-df-convert');\n",
              "        buttonEl.style.display =\n",
              "          google.colab.kernel.accessAllowed ? 'block' : 'none';\n",
              "\n",
              "        async function convertToInteractive(key) {\n",
              "          const element = document.querySelector('#df-9340f94c-fd32-4527-8393-0ae317cf3dad');\n",
              "          const dataTable =\n",
              "            await google.colab.kernel.invokeFunction('convertToInteractive',\n",
              "                                                     [key], {});\n",
              "          if (!dataTable) return;\n",
              "\n",
              "          const docLinkHtml = 'Like what you see? Visit the ' +\n",
              "            '<a target=\"_blank\" href=https://colab.research.google.com/notebooks/data_table.ipynb>data table notebook</a>'\n",
              "            + ' to learn more about interactive tables.';\n",
              "          element.innerHTML = '';\n",
              "          dataTable['output_type'] = 'display_data';\n",
              "          await google.colab.output.renderOutput(dataTable, element);\n",
              "          const docLink = document.createElement('div');\n",
              "          docLink.innerHTML = docLinkHtml;\n",
              "          element.appendChild(docLink);\n",
              "        }\n",
              "      </script>\n",
              "    </div>\n",
              "  </div>\n",
              "  "
            ]
          },
          "metadata": {},
          "execution_count": 135
        }
      ]
    },
    {
      "cell_type": "code",
      "source": [
        "ds_merge1.loc[ds_merge1[\"FireOccurred\"]==1, ['FRP','lat','long','LATITUDE','LONGITUDE','time_acq','date_aq','ACQ_DATE','time_aq']].shape"
      ],
      "metadata": {
        "id": "w4gWSLbELM63",
        "colab": {
          "base_uri": "https://localhost:8080/"
        },
        "outputId": "f9803859-077a-4f38-e97c-3ac73db65939"
      },
      "execution_count": null,
      "outputs": [
        {
          "output_type": "execute_result",
          "data": {
            "text/plain": [
              "(13, 9)"
            ]
          },
          "metadata": {},
          "execution_count": 136
        }
      ]
    },
    {
      "cell_type": "code",
      "source": [
        "ds_m = ds_merge1[['sensor_NO','lat','long','lat_low','LATITUDE','lat_high','long_low','LONGITUDE','long_high',\"PM25\",\"PM10\",\"NO2\",\"SO2\",\"CO\",\"O3\",'FireOccurred','BRIGHTNESS','DAYNIGHT','BRIGHT_T31','time_acq','ACQ_DATE','INSTRUMENT',]].sort_values(by=['ACQ_DATE'])\n",
        "ds_m = ds_m.reset_index(drop=True)"
      ],
      "metadata": {
        "id": "mAZwt1mr5rGj"
      },
      "execution_count": null,
      "outputs": []
    },
    {
      "cell_type": "code",
      "source": [
        "ds2_1.loc[ds2_1['FireOccurred']==1].to_csv(\"fire.csv\",index=False)\n",
        "ds1_1.to_csv(\"cnx.csv\",index=False)"
      ],
      "metadata": {
        "id": "U02yWq3WPQM9"
      },
      "execution_count": null,
      "outputs": []
    },
    {
      "cell_type": "code",
      "source": [
        "ds_m['LONGITUDE'].nunique()"
      ],
      "metadata": {
        "colab": {
          "base_uri": "https://localhost:8080/"
        },
        "id": "gCLsbf8o_dYN",
        "outputId": "ebd77750-f76c-4d38-9c2a-0be918f274b5"
      },
      "execution_count": null,
      "outputs": [
        {
          "output_type": "execute_result",
          "data": {
            "text/plain": [
              "914"
            ]
          },
          "metadata": {},
          "execution_count": 139
        }
      ]
    },
    {
      "cell_type": "code",
      "source": [
        "ds_m.to_csv(\"merge.csv\")"
      ],
      "metadata": {
        "id": "xX9guGik45bw"
      },
      "execution_count": null,
      "outputs": []
    },
    {
      "cell_type": "code",
      "source": [
        "ds_m1 = ds_m.copy().dropna()\n",
        "ds_m1['ACQ_DATE'] = pd.to_datetime(ds_m1['ACQ_DATE'])\n",
        "ds_m1['ACQ_DATE'] = ds_m1['ACQ_DATE'].dt.strftime('%d/%m/%Y')\n",
        "ds_m1 = ds_m1.sort_values('ACQ_DATE').reset_index(drop=True)\n",
        "\n",
        "ds_m1.to_csv(\"test.csv\")"
      ],
      "metadata": {
        "id": "LEVnULrnS1I0"
      },
      "execution_count": null,
      "outputs": []
    },
    {
      "cell_type": "code",
      "source": [
        "ds_m1[\"FireOccurred\"].sum()"
      ],
      "metadata": {
        "id": "tCnW6MMLTNdK"
      },
      "execution_count": null,
      "outputs": []
    },
    {
      "cell_type": "code",
      "source": [
        "ds_m1['sensor_NO'].value_counts()"
      ],
      "metadata": {
        "colab": {
          "base_uri": "https://localhost:8080/"
        },
        "id": "i7ZRQKPbUJ2Q",
        "outputId": "ad2e7f27-7276-4045-e951-cdd9cf318832"
      },
      "execution_count": null,
      "outputs": [
        {
          "output_type": "execute_result",
          "data": {
            "text/plain": [
              "23    45\n",
              "19    38\n",
              "14    22\n",
              "20    20\n",
              "22    16\n",
              "5      2\n",
              "8      1\n",
              "Name: sensor_NO, dtype: int64"
            ]
          },
          "metadata": {},
          "execution_count": 145
        }
      ]
    },
    {
      "cell_type": "code",
      "source": [
        "ds_m1[\"FireOccurred\"].sum()/ds_m1.shape[0]"
      ],
      "metadata": {
        "id": "hmp5F8xRK_jd"
      },
      "execution_count": null,
      "outputs": []
    },
    {
      "cell_type": "code",
      "source": [
        "ds_m[\"Next_datetime_aq\"] = ds_m[\"datetime_aq\"].tolist()[1:] + ds_m[\"datetime_aq\"].tolist()[:1]\n",
        "ds_m.tail()\n",
        "# last row use data from first row"
      ],
      "metadata": {
        "id": "4l0odaY73U4W"
      },
      "execution_count": null,
      "outputs": []
    },
    {
      "cell_type": "code",
      "source": [
        "  ds_m[\"TimeDelta\"] = ds_m[\"Next_datetime_aq\"]-ds_m[\"datetime_aq\"]\n",
        "  ds_m.head()"
      ],
      "metadata": {
        "id": "f_Czi8Md1nAq"
      },
      "execution_count": null,
      "outputs": []
    },
    {
      "cell_type": "code",
      "source": [
        "#it doesn't work\n",
        "f = df1.copy()\n",
        "f['NO2'] = np.where((f['TimeDelta'] <= pd.to_timedelta(\"0 days 02:00:00\")) & (f[\"NO2\"].isna()), f['NO2'].interpolate(method='nearest',limit=2), f['NO2'])\n",
        "f[7550:7600]"
      ],
      "metadata": {
        "id": "1RyOLwbJ7i0q"
      },
      "execution_count": null,
      "outputs": []
    },
    {
      "cell_type": "code",
      "source": [
        "ds_m = pd.concat((ds_m,pd.get_dummies(ds_m[\"DAYNIGHT\"])), axis = 1)"
      ],
      "metadata": {
        "id": "wb1H1sfiTE6h"
      },
      "execution_count": null,
      "outputs": []
    },
    {
      "cell_type": "code",
      "source": [
        "ds_m = ds_m.drop([\"DAYNIGHT\"], axis = 1)\n",
        "ds_m = ds_m.drop([\"N\"], axis = 1)"
      ],
      "metadata": {
        "id": "VbcrhgDuT8kF"
      },
      "execution_count": null,
      "outputs": []
    },
    {
      "cell_type": "code",
      "source": [
        "ds_m = ds_m.rename(columns = {\"D\":\"DAYNIGHT\"})"
      ],
      "metadata": {
        "id": "oSVb4hqbUcK-"
      },
      "execution_count": null,
      "outputs": []
    },
    {
      "cell_type": "markdown",
      "source": [
        "### From GEE"
      ],
      "metadata": {
        "id": "L0c-I1sfpjqJ"
      }
    },
    {
      "cell_type": "code",
      "source": [
        "df_GEE_merge1 = df_GEE_loc.conditional_join(ds2_1, (\"LAT\",\"lat_high\", \"<=\"), (\"LAT\",\"lat_low\", \">=\"), (\"LONG\",\"long_high\", \"<=\"), (\"LONG\",\"long_low\", \">=\"), (\"date\",\"ACQ_DATE\", \"==\"), (\"time\",\"time_acq\", \"==\"))\n",
        "df_GEE_merge1.loc[:,[\"time\",\"time_acq\",'date','ACQ_DATE']]"
      ],
      "metadata": {
        "colab": {
          "base_uri": "https://localhost:8080/",
          "height": 424
        },
        "id": "cpFJWfLbphYz",
        "outputId": "c15127c1-d395-455d-8874-fa176f8638c6"
      },
      "execution_count": null,
      "outputs": [
        {
          "output_type": "execute_result",
          "data": {
            "text/plain": [
              "          time  time_acq        date    ACQ_DATE\n",
              "0     07:00:00  07:00:00  01/02/2020  01/02/2020\n",
              "1     07:00:00  07:00:00  01/02/2020  01/02/2020\n",
              "2     07:00:00  07:00:00  01/02/2020  01/02/2020\n",
              "3     07:00:00  07:00:00  01/02/2020  01/02/2020\n",
              "4     07:00:00  07:00:00  01/02/2020  01/02/2020\n",
              "...        ...       ...         ...         ...\n",
              "2411  07:00:00  07:00:00  05/23/2021  05/23/2021\n",
              "2412  07:00:00  07:00:00  05/23/2021  05/23/2021\n",
              "2413  07:00:00  07:00:00  05/20/2020  05/20/2020\n",
              "2414  07:00:00  07:00:00  05/20/2020  05/20/2020\n",
              "2415  07:00:00  07:00:00  05/20/2020  05/20/2020\n",
              "\n",
              "[2416 rows x 4 columns]"
            ],
            "text/html": [
              "\n",
              "  <div id=\"df-f2eaa12e-3ecd-467c-b853-7694154db7e4\">\n",
              "    <div class=\"colab-df-container\">\n",
              "      <div>\n",
              "<style scoped>\n",
              "    .dataframe tbody tr th:only-of-type {\n",
              "        vertical-align: middle;\n",
              "    }\n",
              "\n",
              "    .dataframe tbody tr th {\n",
              "        vertical-align: top;\n",
              "    }\n",
              "\n",
              "    .dataframe thead th {\n",
              "        text-align: right;\n",
              "    }\n",
              "</style>\n",
              "<table border=\"1\" class=\"dataframe\">\n",
              "  <thead>\n",
              "    <tr style=\"text-align: right;\">\n",
              "      <th></th>\n",
              "      <th>time</th>\n",
              "      <th>time_acq</th>\n",
              "      <th>date</th>\n",
              "      <th>ACQ_DATE</th>\n",
              "    </tr>\n",
              "  </thead>\n",
              "  <tbody>\n",
              "    <tr>\n",
              "      <th>0</th>\n",
              "      <td>07:00:00</td>\n",
              "      <td>07:00:00</td>\n",
              "      <td>01/02/2020</td>\n",
              "      <td>01/02/2020</td>\n",
              "    </tr>\n",
              "    <tr>\n",
              "      <th>1</th>\n",
              "      <td>07:00:00</td>\n",
              "      <td>07:00:00</td>\n",
              "      <td>01/02/2020</td>\n",
              "      <td>01/02/2020</td>\n",
              "    </tr>\n",
              "    <tr>\n",
              "      <th>2</th>\n",
              "      <td>07:00:00</td>\n",
              "      <td>07:00:00</td>\n",
              "      <td>01/02/2020</td>\n",
              "      <td>01/02/2020</td>\n",
              "    </tr>\n",
              "    <tr>\n",
              "      <th>3</th>\n",
              "      <td>07:00:00</td>\n",
              "      <td>07:00:00</td>\n",
              "      <td>01/02/2020</td>\n",
              "      <td>01/02/2020</td>\n",
              "    </tr>\n",
              "    <tr>\n",
              "      <th>4</th>\n",
              "      <td>07:00:00</td>\n",
              "      <td>07:00:00</td>\n",
              "      <td>01/02/2020</td>\n",
              "      <td>01/02/2020</td>\n",
              "    </tr>\n",
              "    <tr>\n",
              "      <th>...</th>\n",
              "      <td>...</td>\n",
              "      <td>...</td>\n",
              "      <td>...</td>\n",
              "      <td>...</td>\n",
              "    </tr>\n",
              "    <tr>\n",
              "      <th>2411</th>\n",
              "      <td>07:00:00</td>\n",
              "      <td>07:00:00</td>\n",
              "      <td>05/23/2021</td>\n",
              "      <td>05/23/2021</td>\n",
              "    </tr>\n",
              "    <tr>\n",
              "      <th>2412</th>\n",
              "      <td>07:00:00</td>\n",
              "      <td>07:00:00</td>\n",
              "      <td>05/23/2021</td>\n",
              "      <td>05/23/2021</td>\n",
              "    </tr>\n",
              "    <tr>\n",
              "      <th>2413</th>\n",
              "      <td>07:00:00</td>\n",
              "      <td>07:00:00</td>\n",
              "      <td>05/20/2020</td>\n",
              "      <td>05/20/2020</td>\n",
              "    </tr>\n",
              "    <tr>\n",
              "      <th>2414</th>\n",
              "      <td>07:00:00</td>\n",
              "      <td>07:00:00</td>\n",
              "      <td>05/20/2020</td>\n",
              "      <td>05/20/2020</td>\n",
              "    </tr>\n",
              "    <tr>\n",
              "      <th>2415</th>\n",
              "      <td>07:00:00</td>\n",
              "      <td>07:00:00</td>\n",
              "      <td>05/20/2020</td>\n",
              "      <td>05/20/2020</td>\n",
              "    </tr>\n",
              "  </tbody>\n",
              "</table>\n",
              "<p>2416 rows × 4 columns</p>\n",
              "</div>\n",
              "      <button class=\"colab-df-convert\" onclick=\"convertToInteractive('df-f2eaa12e-3ecd-467c-b853-7694154db7e4')\"\n",
              "              title=\"Convert this dataframe to an interactive table.\"\n",
              "              style=\"display:none;\">\n",
              "        \n",
              "  <svg xmlns=\"http://www.w3.org/2000/svg\" height=\"24px\"viewBox=\"0 0 24 24\"\n",
              "       width=\"24px\">\n",
              "    <path d=\"M0 0h24v24H0V0z\" fill=\"none\"/>\n",
              "    <path d=\"M18.56 5.44l.94 2.06.94-2.06 2.06-.94-2.06-.94-.94-2.06-.94 2.06-2.06.94zm-11 1L8.5 8.5l.94-2.06 2.06-.94-2.06-.94L8.5 2.5l-.94 2.06-2.06.94zm10 10l.94 2.06.94-2.06 2.06-.94-2.06-.94-.94-2.06-.94 2.06-2.06.94z\"/><path d=\"M17.41 7.96l-1.37-1.37c-.4-.4-.92-.59-1.43-.59-.52 0-1.04.2-1.43.59L10.3 9.45l-7.72 7.72c-.78.78-.78 2.05 0 2.83L4 21.41c.39.39.9.59 1.41.59.51 0 1.02-.2 1.41-.59l7.78-7.78 2.81-2.81c.8-.78.8-2.07 0-2.86zM5.41 20L4 18.59l7.72-7.72 1.47 1.35L5.41 20z\"/>\n",
              "  </svg>\n",
              "      </button>\n",
              "      \n",
              "  <style>\n",
              "    .colab-df-container {\n",
              "      display:flex;\n",
              "      flex-wrap:wrap;\n",
              "      gap: 12px;\n",
              "    }\n",
              "\n",
              "    .colab-df-convert {\n",
              "      background-color: #E8F0FE;\n",
              "      border: none;\n",
              "      border-radius: 50%;\n",
              "      cursor: pointer;\n",
              "      display: none;\n",
              "      fill: #1967D2;\n",
              "      height: 32px;\n",
              "      padding: 0 0 0 0;\n",
              "      width: 32px;\n",
              "    }\n",
              "\n",
              "    .colab-df-convert:hover {\n",
              "      background-color: #E2EBFA;\n",
              "      box-shadow: 0px 1px 2px rgba(60, 64, 67, 0.3), 0px 1px 3px 1px rgba(60, 64, 67, 0.15);\n",
              "      fill: #174EA6;\n",
              "    }\n",
              "\n",
              "    [theme=dark] .colab-df-convert {\n",
              "      background-color: #3B4455;\n",
              "      fill: #D2E3FC;\n",
              "    }\n",
              "\n",
              "    [theme=dark] .colab-df-convert:hover {\n",
              "      background-color: #434B5C;\n",
              "      box-shadow: 0px 1px 3px 1px rgba(0, 0, 0, 0.15);\n",
              "      filter: drop-shadow(0px 1px 2px rgba(0, 0, 0, 0.3));\n",
              "      fill: #FFFFFF;\n",
              "    }\n",
              "  </style>\n",
              "\n",
              "      <script>\n",
              "        const buttonEl =\n",
              "          document.querySelector('#df-f2eaa12e-3ecd-467c-b853-7694154db7e4 button.colab-df-convert');\n",
              "        buttonEl.style.display =\n",
              "          google.colab.kernel.accessAllowed ? 'block' : 'none';\n",
              "\n",
              "        async function convertToInteractive(key) {\n",
              "          const element = document.querySelector('#df-f2eaa12e-3ecd-467c-b853-7694154db7e4');\n",
              "          const dataTable =\n",
              "            await google.colab.kernel.invokeFunction('convertToInteractive',\n",
              "                                                     [key], {});\n",
              "          if (!dataTable) return;\n",
              "\n",
              "          const docLinkHtml = 'Like what you see? Visit the ' +\n",
              "            '<a target=\"_blank\" href=https://colab.research.google.com/notebooks/data_table.ipynb>data table notebook</a>'\n",
              "            + ' to learn more about interactive tables.';\n",
              "          element.innerHTML = '';\n",
              "          dataTable['output_type'] = 'display_data';\n",
              "          await google.colab.output.renderOutput(dataTable, element);\n",
              "          const docLink = document.createElement('div');\n",
              "          docLink.innerHTML = docLinkHtml;\n",
              "          element.appendChild(docLink);\n",
              "        }\n",
              "      </script>\n",
              "    </div>\n",
              "  </div>\n",
              "  "
            ]
          },
          "metadata": {},
          "execution_count": 131
        }
      ]
    },
    {
      "cell_type": "code",
      "source": [
        "df_GEE_merge1[\"FireOccurred\"].sum()/df_GEE_merge1.shape[0]"
      ],
      "metadata": {
        "colab": {
          "base_uri": "https://localhost:8080/"
        },
        "id": "y0DssWC476JV",
        "outputId": "d91349c1-8852-4086-d2fa-502ec0666528"
      },
      "execution_count": null,
      "outputs": [
        {
          "output_type": "execute_result",
          "data": {
            "text/plain": [
              "0.0012417218543046358"
            ]
          },
          "metadata": {},
          "execution_count": 132
        }
      ]
    },
    {
      "cell_type": "code",
      "source": [
        "df_GEE_merge1.loc[df_GEE_merge1[\"FireOccurred\"]==1, [\"FireOccurred\",'LAT','LONG','LATITUDE','LONGITUDE','time_acq','date','ACQ_DATE','time']].shape"
      ],
      "metadata": {
        "colab": {
          "base_uri": "https://localhost:8080/"
        },
        "id": "E4TiCSjp76Z8",
        "outputId": "eaf0e3f1-4fbd-4d3b-ba43-56ab30121990"
      },
      "execution_count": null,
      "outputs": [
        {
          "output_type": "execute_result",
          "data": {
            "text/plain": [
              "(3, 9)"
            ]
          },
          "metadata": {},
          "execution_count": 133
        }
      ]
    },
    {
      "cell_type": "markdown",
      "source": [
        "## Data Detection Pipeline\n",
        "\n",
        "For when new data is loaded into the Google Drive"
      ],
      "metadata": {
        "id": "tnB3CDowxeiN"
      }
    },
    {
      "cell_type": "code",
      "source": [],
      "metadata": {
        "id": "bf5UubvpxjoA"
      },
      "execution_count": null,
      "outputs": []
    },
    {
      "cell_type": "markdown",
      "source": [
        "{Fill in dataset(s) format here}\n",
        "<br>Attributes & datatype"
      ],
      "metadata": {
        "id": "vOq-KGDKryeC"
      }
    },
    {
      "cell_type": "markdown",
      "source": [
        "## Model Training & Model Evaluation\n",
        "\n",
        "Model training specifications: https://docs.google.com/document/d/1UiDi8nyTcfMeMNIAz3KntlVZBlYrpoMAURuDccTt-wk/edit?usp=sharing\n",
        "\n",
        "Model Evaluation: Identifying the best parameters for each model"
      ],
      "metadata": {
        "id": "V-aSDFfuAEHW"
      }
    },
    {
      "cell_type": "code",
      "source": [
        "import numpy as np\n",
        "import pandas as pd\n",
        "import seaborn as sb\n",
        "import matplotlib.pyplot as plt\n",
        "from sklearn.metrics import confusion_matrix, recall_score, f1_score, roc_auc_score, accuracy_score"
      ],
      "metadata": {
        "id": "fZLP8-gBALDo"
      },
      "execution_count": 1,
      "outputs": []
    },
    {
      "cell_type": "code",
      "source": [
        "from google.colab import drive\n",
        "drive.mount('/content/drive')"
      ],
      "metadata": {
        "colab": {
          "base_uri": "https://localhost:8080/"
        },
        "id": "szqUSeibXrTZ",
        "outputId": "1fd4559b-b811-485f-8d17-13a60510b893"
      },
      "execution_count": 2,
      "outputs": [
        {
          "output_type": "stream",
          "name": "stdout",
          "text": [
            "Mounted at /content/drive\n"
          ]
        }
      ]
    },
    {
      "cell_type": "code",
      "source": [
        "df1 = pd.read_csv(\"/content/drive/MyDrive/Senior Project/Datasets/test.csv\")\n",
        "df1.head()"
      ],
      "metadata": {
        "colab": {
          "base_uri": "https://localhost:8080/",
          "height": 317
        },
        "id": "asN8RhFUXpQv",
        "outputId": "c37dab5a-33b2-40ff-f443-a8a989ca7e08"
      },
      "execution_count": 3,
      "outputs": [
        {
          "output_type": "execute_result",
          "data": {
            "text/plain": [
              "   Unnamed: 0  sensor_NO        lat        long    lat_low  LATITUDE  \\\n",
              "0           0         20  15.686254  100.110542  15.682425  15.72747   \n",
              "1           1         23  19.322380  101.025365  19.285595  19.33064   \n",
              "2           2         23  19.322380  101.025365  19.245805  19.29085   \n",
              "3           3         23  19.322380  101.025365  19.241655  19.28670   \n",
              "4           4         23  19.322380  101.025365  19.241055  19.28610   \n",
              "\n",
              "    lat_high    long_low  LONGITUDE   long_high  ...  SO2    CO    O3  \\\n",
              "0  15.772515  100.035455  100.08050  100.125545  ...  1.0  0.56  27.0   \n",
              "1  19.375685  101.003925  101.04897  101.094015  ...  3.0  0.44  86.0   \n",
              "2  19.335895  100.976825  101.02187  101.066915  ...  3.0  0.44  86.0   \n",
              "3  19.331745  100.975635  101.02068  101.065725  ...  3.0  0.44  86.0   \n",
              "4  19.331145  100.980465  101.02551  101.070555  ...  3.0  0.44  86.0   \n",
              "\n",
              "   FireOccurred  BRIGHTNESS  DAYNIGHT  BRIGHT_T31  time_acq    ACQ_DATE  \\\n",
              "0             0       338.3         D       294.3  07:00:00  01/03/2020   \n",
              "1             0       307.3         N       294.2  18:00:00  01/04/2020   \n",
              "2             0       312.2         N       295.1  18:00:00  01/04/2020   \n",
              "3             0       338.4         N       295.3  18:00:00  01/04/2020   \n",
              "4             0       337.3         N       296.8  18:00:00  01/04/2020   \n",
              "\n",
              "   INSTRUMENT  \n",
              "0       VIIRS  \n",
              "1       VIIRS  \n",
              "2       VIIRS  \n",
              "3       VIIRS  \n",
              "4       VIIRS  \n",
              "\n",
              "[5 rows x 23 columns]"
            ],
            "text/html": [
              "\n",
              "  <div id=\"df-fd4f91cc-f959-4c09-ab75-16a59a1ce92e\">\n",
              "    <div class=\"colab-df-container\">\n",
              "      <div>\n",
              "<style scoped>\n",
              "    .dataframe tbody tr th:only-of-type {\n",
              "        vertical-align: middle;\n",
              "    }\n",
              "\n",
              "    .dataframe tbody tr th {\n",
              "        vertical-align: top;\n",
              "    }\n",
              "\n",
              "    .dataframe thead th {\n",
              "        text-align: right;\n",
              "    }\n",
              "</style>\n",
              "<table border=\"1\" class=\"dataframe\">\n",
              "  <thead>\n",
              "    <tr style=\"text-align: right;\">\n",
              "      <th></th>\n",
              "      <th>Unnamed: 0</th>\n",
              "      <th>sensor_NO</th>\n",
              "      <th>lat</th>\n",
              "      <th>long</th>\n",
              "      <th>lat_low</th>\n",
              "      <th>LATITUDE</th>\n",
              "      <th>lat_high</th>\n",
              "      <th>long_low</th>\n",
              "      <th>LONGITUDE</th>\n",
              "      <th>long_high</th>\n",
              "      <th>...</th>\n",
              "      <th>SO2</th>\n",
              "      <th>CO</th>\n",
              "      <th>O3</th>\n",
              "      <th>FireOccurred</th>\n",
              "      <th>BRIGHTNESS</th>\n",
              "      <th>DAYNIGHT</th>\n",
              "      <th>BRIGHT_T31</th>\n",
              "      <th>time_acq</th>\n",
              "      <th>ACQ_DATE</th>\n",
              "      <th>INSTRUMENT</th>\n",
              "    </tr>\n",
              "  </thead>\n",
              "  <tbody>\n",
              "    <tr>\n",
              "      <th>0</th>\n",
              "      <td>0</td>\n",
              "      <td>20</td>\n",
              "      <td>15.686254</td>\n",
              "      <td>100.110542</td>\n",
              "      <td>15.682425</td>\n",
              "      <td>15.72747</td>\n",
              "      <td>15.772515</td>\n",
              "      <td>100.035455</td>\n",
              "      <td>100.08050</td>\n",
              "      <td>100.125545</td>\n",
              "      <td>...</td>\n",
              "      <td>1.0</td>\n",
              "      <td>0.56</td>\n",
              "      <td>27.0</td>\n",
              "      <td>0</td>\n",
              "      <td>338.3</td>\n",
              "      <td>D</td>\n",
              "      <td>294.3</td>\n",
              "      <td>07:00:00</td>\n",
              "      <td>01/03/2020</td>\n",
              "      <td>VIIRS</td>\n",
              "    </tr>\n",
              "    <tr>\n",
              "      <th>1</th>\n",
              "      <td>1</td>\n",
              "      <td>23</td>\n",
              "      <td>19.322380</td>\n",
              "      <td>101.025365</td>\n",
              "      <td>19.285595</td>\n",
              "      <td>19.33064</td>\n",
              "      <td>19.375685</td>\n",
              "      <td>101.003925</td>\n",
              "      <td>101.04897</td>\n",
              "      <td>101.094015</td>\n",
              "      <td>...</td>\n",
              "      <td>3.0</td>\n",
              "      <td>0.44</td>\n",
              "      <td>86.0</td>\n",
              "      <td>0</td>\n",
              "      <td>307.3</td>\n",
              "      <td>N</td>\n",
              "      <td>294.2</td>\n",
              "      <td>18:00:00</td>\n",
              "      <td>01/04/2020</td>\n",
              "      <td>VIIRS</td>\n",
              "    </tr>\n",
              "    <tr>\n",
              "      <th>2</th>\n",
              "      <td>2</td>\n",
              "      <td>23</td>\n",
              "      <td>19.322380</td>\n",
              "      <td>101.025365</td>\n",
              "      <td>19.245805</td>\n",
              "      <td>19.29085</td>\n",
              "      <td>19.335895</td>\n",
              "      <td>100.976825</td>\n",
              "      <td>101.02187</td>\n",
              "      <td>101.066915</td>\n",
              "      <td>...</td>\n",
              "      <td>3.0</td>\n",
              "      <td>0.44</td>\n",
              "      <td>86.0</td>\n",
              "      <td>0</td>\n",
              "      <td>312.2</td>\n",
              "      <td>N</td>\n",
              "      <td>295.1</td>\n",
              "      <td>18:00:00</td>\n",
              "      <td>01/04/2020</td>\n",
              "      <td>VIIRS</td>\n",
              "    </tr>\n",
              "    <tr>\n",
              "      <th>3</th>\n",
              "      <td>3</td>\n",
              "      <td>23</td>\n",
              "      <td>19.322380</td>\n",
              "      <td>101.025365</td>\n",
              "      <td>19.241655</td>\n",
              "      <td>19.28670</td>\n",
              "      <td>19.331745</td>\n",
              "      <td>100.975635</td>\n",
              "      <td>101.02068</td>\n",
              "      <td>101.065725</td>\n",
              "      <td>...</td>\n",
              "      <td>3.0</td>\n",
              "      <td>0.44</td>\n",
              "      <td>86.0</td>\n",
              "      <td>0</td>\n",
              "      <td>338.4</td>\n",
              "      <td>N</td>\n",
              "      <td>295.3</td>\n",
              "      <td>18:00:00</td>\n",
              "      <td>01/04/2020</td>\n",
              "      <td>VIIRS</td>\n",
              "    </tr>\n",
              "    <tr>\n",
              "      <th>4</th>\n",
              "      <td>4</td>\n",
              "      <td>23</td>\n",
              "      <td>19.322380</td>\n",
              "      <td>101.025365</td>\n",
              "      <td>19.241055</td>\n",
              "      <td>19.28610</td>\n",
              "      <td>19.331145</td>\n",
              "      <td>100.980465</td>\n",
              "      <td>101.02551</td>\n",
              "      <td>101.070555</td>\n",
              "      <td>...</td>\n",
              "      <td>3.0</td>\n",
              "      <td>0.44</td>\n",
              "      <td>86.0</td>\n",
              "      <td>0</td>\n",
              "      <td>337.3</td>\n",
              "      <td>N</td>\n",
              "      <td>296.8</td>\n",
              "      <td>18:00:00</td>\n",
              "      <td>01/04/2020</td>\n",
              "      <td>VIIRS</td>\n",
              "    </tr>\n",
              "  </tbody>\n",
              "</table>\n",
              "<p>5 rows × 23 columns</p>\n",
              "</div>\n",
              "      <button class=\"colab-df-convert\" onclick=\"convertToInteractive('df-fd4f91cc-f959-4c09-ab75-16a59a1ce92e')\"\n",
              "              title=\"Convert this dataframe to an interactive table.\"\n",
              "              style=\"display:none;\">\n",
              "        \n",
              "  <svg xmlns=\"http://www.w3.org/2000/svg\" height=\"24px\"viewBox=\"0 0 24 24\"\n",
              "       width=\"24px\">\n",
              "    <path d=\"M0 0h24v24H0V0z\" fill=\"none\"/>\n",
              "    <path d=\"M18.56 5.44l.94 2.06.94-2.06 2.06-.94-2.06-.94-.94-2.06-.94 2.06-2.06.94zm-11 1L8.5 8.5l.94-2.06 2.06-.94-2.06-.94L8.5 2.5l-.94 2.06-2.06.94zm10 10l.94 2.06.94-2.06 2.06-.94-2.06-.94-.94-2.06-.94 2.06-2.06.94z\"/><path d=\"M17.41 7.96l-1.37-1.37c-.4-.4-.92-.59-1.43-.59-.52 0-1.04.2-1.43.59L10.3 9.45l-7.72 7.72c-.78.78-.78 2.05 0 2.83L4 21.41c.39.39.9.59 1.41.59.51 0 1.02-.2 1.41-.59l7.78-7.78 2.81-2.81c.8-.78.8-2.07 0-2.86zM5.41 20L4 18.59l7.72-7.72 1.47 1.35L5.41 20z\"/>\n",
              "  </svg>\n",
              "      </button>\n",
              "      \n",
              "  <style>\n",
              "    .colab-df-container {\n",
              "      display:flex;\n",
              "      flex-wrap:wrap;\n",
              "      gap: 12px;\n",
              "    }\n",
              "\n",
              "    .colab-df-convert {\n",
              "      background-color: #E8F0FE;\n",
              "      border: none;\n",
              "      border-radius: 50%;\n",
              "      cursor: pointer;\n",
              "      display: none;\n",
              "      fill: #1967D2;\n",
              "      height: 32px;\n",
              "      padding: 0 0 0 0;\n",
              "      width: 32px;\n",
              "    }\n",
              "\n",
              "    .colab-df-convert:hover {\n",
              "      background-color: #E2EBFA;\n",
              "      box-shadow: 0px 1px 2px rgba(60, 64, 67, 0.3), 0px 1px 3px 1px rgba(60, 64, 67, 0.15);\n",
              "      fill: #174EA6;\n",
              "    }\n",
              "\n",
              "    [theme=dark] .colab-df-convert {\n",
              "      background-color: #3B4455;\n",
              "      fill: #D2E3FC;\n",
              "    }\n",
              "\n",
              "    [theme=dark] .colab-df-convert:hover {\n",
              "      background-color: #434B5C;\n",
              "      box-shadow: 0px 1px 3px 1px rgba(0, 0, 0, 0.15);\n",
              "      filter: drop-shadow(0px 1px 2px rgba(0, 0, 0, 0.3));\n",
              "      fill: #FFFFFF;\n",
              "    }\n",
              "  </style>\n",
              "\n",
              "      <script>\n",
              "        const buttonEl =\n",
              "          document.querySelector('#df-fd4f91cc-f959-4c09-ab75-16a59a1ce92e button.colab-df-convert');\n",
              "        buttonEl.style.display =\n",
              "          google.colab.kernel.accessAllowed ? 'block' : 'none';\n",
              "\n",
              "        async function convertToInteractive(key) {\n",
              "          const element = document.querySelector('#df-fd4f91cc-f959-4c09-ab75-16a59a1ce92e');\n",
              "          const dataTable =\n",
              "            await google.colab.kernel.invokeFunction('convertToInteractive',\n",
              "                                                     [key], {});\n",
              "          if (!dataTable) return;\n",
              "\n",
              "          const docLinkHtml = 'Like what you see? Visit the ' +\n",
              "            '<a target=\"_blank\" href=https://colab.research.google.com/notebooks/data_table.ipynb>data table notebook</a>'\n",
              "            + ' to learn more about interactive tables.';\n",
              "          element.innerHTML = '';\n",
              "          dataTable['output_type'] = 'display_data';\n",
              "          await google.colab.output.renderOutput(dataTable, element);\n",
              "          const docLink = document.createElement('div');\n",
              "          docLink.innerHTML = docLinkHtml;\n",
              "          element.appendChild(docLink);\n",
              "        }\n",
              "      </script>\n",
              "    </div>\n",
              "  </div>\n",
              "  "
            ]
          },
          "metadata": {},
          "execution_count": 3
        }
      ]
    },
    {
      "cell_type": "code",
      "source": [
        "df1['FireOccurred'].value_counts()"
      ],
      "metadata": {
        "colab": {
          "base_uri": "https://localhost:8080/"
        },
        "id": "JUspMwhnY9B1",
        "outputId": "d9e6174c-3489-48e1-f94c-2a7d0a801462"
      },
      "execution_count": 4,
      "outputs": [
        {
          "output_type": "execute_result",
          "data": {
            "text/plain": [
              "0    134\n",
              "1     10\n",
              "Name: FireOccurred, dtype: int64"
            ]
          },
          "metadata": {},
          "execution_count": 4
        }
      ]
    },
    {
      "cell_type": "code",
      "source": [
        "# Dummy data (delete later)\n",
        "\n",
        "from sklearn import datasets\n",
        "\n",
        "breast_cancer = datasets.load_breast_cancer()\n",
        "X_loaded = breast_cancer.data\n",
        "y_loaded = breast_cancer.target\n",
        "\n",
        "X = pd.DataFrame(X_loaded)\n",
        "y = pd.DataFrame(y_loaded)\n",
        "display(y.value_counts())"
      ],
      "metadata": {
        "id": "F_wmf9P1sOuQ",
        "colab": {
          "base_uri": "https://localhost:8080/",
          "height": 71
        },
        "outputId": "207627ce-7f43-4bb0-e6a2-69b103bf538b"
      },
      "execution_count": 5,
      "outputs": [
        {
          "output_type": "display_data",
          "data": {
            "text/plain": [
              "1    357\n",
              "0    212\n",
              "dtype: int64"
            ]
          },
          "metadata": {}
        }
      ]
    },
    {
      "cell_type": "code",
      "source": [
        "from sklearn.model_selection import train_test_split\n",
        "\n",
        "# 80:10:10\n",
        "\n",
        "X_train, X_test, y_train, y_test = train_test_split(X, y, test_size=0.10, random_state=1, shuffle=True)\n",
        "X_train, X_val, y_train, y_val = train_test_split(X_train, y_train, test_size=1/9, random_state=1, shuffle=True)"
      ],
      "metadata": {
        "id": "VZFm_c0Sz7RV"
      },
      "execution_count": 6,
      "outputs": []
    },
    {
      "cell_type": "code",
      "source": [
        "if len(X_train)==len(y_train) and len(X_test) == len(y_test) and len(X_val) == len(y_val):\n",
        "  print(\"X and y data length matching\")\n",
        "else:\n",
        "  print(\"Error in data pipeline\")\n",
        "print()\n",
        "print(\"No. of training data = %d\" % len(X_train))\n",
        "print(\"No. of validation data = %d\" % len(X_val))\n",
        "print(\"No. of testing data = %d\" % len(X_test))"
      ],
      "metadata": {
        "colab": {
          "base_uri": "https://localhost:8080/"
        },
        "id": "T5u18lRhDj8_",
        "outputId": "dab081e2-d4f3-448b-97cc-8c4b58258f20"
      },
      "execution_count": 7,
      "outputs": [
        {
          "output_type": "stream",
          "name": "stdout",
          "text": [
            "X and y data length matching\n",
            "\n",
            "No. of training data = 455\n",
            "No. of validation data = 57\n",
            "No. of testing data = 57\n"
          ]
        }
      ]
    },
    {
      "cell_type": "code",
      "source": [
        "models = pd.DataFrame(columns = ['model_name', 'model', 'parameters'])\n",
        "models_eval = pd.DataFrame(columns = ['model_name', 'confusion_matrix', 'accuracy', 'recall', 'f1_score', 'roc_auc_score'])"
      ],
      "metadata": {
        "id": "CcqbO5oaP9pD"
      },
      "execution_count": 8,
      "outputs": []
    },
    {
      "cell_type": "markdown",
      "source": [
        "### Random Forest Classifier\n",
        "\n",
        "Library: Scikit-learn"
      ],
      "metadata": {
        "id": "reh3qT1Bsanc"
      }
    },
    {
      "cell_type": "code",
      "source": [
        "from sklearn.ensemble import RandomForestClassifier\n",
        "\n",
        "name = 'rnd_clf'\n",
        "\n",
        "train = pd.DataFrame(columns = ['n_estimators', 'max_depth', 'n_jobs', 'random_state'])\n",
        "train = train.append({'n_estimators' : 10, 'max_depth' : None, 'n_jobs': -1, 'random_state': 10}, ignore_index=True)\n",
        "train = train.append({'n_estimators' : 500, 'max_depth' : None, 'n_jobs': -1, 'random_state': 10}, ignore_index=True)\n",
        "train = train.append({'n_estimators' : 1000, 'max_depth' : None, 'n_jobs': -1, 'random_state': 10}, ignore_index=True)\n",
        "\n",
        "train = train.reset_index()\n",
        "for index, row in train.iterrows():\n",
        "    model_name = name + str(index)\n",
        "    rnd_clf = RandomForestClassifier(n_estimators = int(row['n_estimators']), max_depth = None, \n",
        "                                    n_jobs = int(row['n_jobs']), random_state = int(row['random_state']))\n",
        "    rnd_clf.fit(X_train, y_train)\n",
        "    y_true = y_val\n",
        "    y_pred = rnd_clf.predict(X_val)\n",
        "    cfm = confusion_matrix(y_true, y_pred).ravel()\n",
        "    acc = accuracy_score(y_true, y_pred)\n",
        "    recs = recall_score(y_true, y_pred, average='binary')\n",
        "    f1s = f1_score(y_true, y_pred, average='binary')\n",
        "    rocs = roc_auc_score(y_true, y_pred, average='macro')\n",
        "\n",
        "    models = models.append({'model_name': model_name, \n",
        "                            'model': rnd_clf, \n",
        "                            'parameters': rnd_clf.get_params()}, \n",
        "                           ignore_index=True)\n",
        "    models_eval = models_eval.append({'model_name': model_name, \n",
        "                                      'confusion_matrix' : cfm, \n",
        "                                      'accuracy': acc, \n",
        "                                      'recall' : recs, \n",
        "                                      'f1_score': f1s, \n",
        "                                      'roc_auc_score': rocs}, \n",
        "                                     ignore_index=True)"
      ],
      "metadata": {
        "colab": {
          "base_uri": "https://localhost:8080/"
        },
        "id": "6NqCa2LO0CjO",
        "outputId": "30099bc9-b2d1-4461-b658-ab619b496b5d"
      },
      "execution_count": 9,
      "outputs": [
        {
          "output_type": "stream",
          "name": "stderr",
          "text": [
            "/usr/local/lib/python3.7/dist-packages/ipykernel_launcher.py:15: DataConversionWarning: A column-vector y was passed when a 1d array was expected. Please change the shape of y to (n_samples,), for example using ravel().\n",
            "  from ipykernel import kernelapp as app\n",
            "/usr/local/lib/python3.7/dist-packages/ipykernel_launcher.py:15: DataConversionWarning: A column-vector y was passed when a 1d array was expected. Please change the shape of y to (n_samples,), for example using ravel().\n",
            "  from ipykernel import kernelapp as app\n",
            "/usr/local/lib/python3.7/dist-packages/ipykernel_launcher.py:15: DataConversionWarning: A column-vector y was passed when a 1d array was expected. Please change the shape of y to (n_samples,), for example using ravel().\n",
            "  from ipykernel import kernelapp as app\n"
          ]
        }
      ]
    },
    {
      "cell_type": "code",
      "source": [
        "display(models['model'][0])\n",
        "display(models['model_name'][0])\n",
        "display(models['parameters'][0])"
      ],
      "metadata": {
        "colab": {
          "base_uri": "https://localhost:8080/",
          "height": 375
        },
        "id": "gtc-ilS8ePOu",
        "outputId": "8f74ad1c-5708-4e08-c2d4-3ab72f08f331"
      },
      "execution_count": 10,
      "outputs": [
        {
          "output_type": "display_data",
          "data": {
            "text/plain": [
              "RandomForestClassifier(n_estimators=10, n_jobs=-1, random_state=10)"
            ]
          },
          "metadata": {}
        },
        {
          "output_type": "display_data",
          "data": {
            "text/plain": [
              "'rnd_clf0'"
            ],
            "application/vnd.google.colaboratory.intrinsic+json": {
              "type": "string"
            }
          },
          "metadata": {}
        },
        {
          "output_type": "display_data",
          "data": {
            "text/plain": [
              "{'bootstrap': True,\n",
              " 'ccp_alpha': 0.0,\n",
              " 'class_weight': None,\n",
              " 'criterion': 'gini',\n",
              " 'max_depth': None,\n",
              " 'max_features': 'auto',\n",
              " 'max_leaf_nodes': None,\n",
              " 'max_samples': None,\n",
              " 'min_impurity_decrease': 0.0,\n",
              " 'min_samples_leaf': 1,\n",
              " 'min_samples_split': 2,\n",
              " 'min_weight_fraction_leaf': 0.0,\n",
              " 'n_estimators': 10,\n",
              " 'n_jobs': -1,\n",
              " 'oob_score': False,\n",
              " 'random_state': 10,\n",
              " 'verbose': 0,\n",
              " 'warm_start': False}"
            ]
          },
          "metadata": {}
        }
      ]
    },
    {
      "cell_type": "code",
      "source": [
        "# Plot Classifier"
      ],
      "metadata": {
        "id": "uNxY5Fz3Pt_u"
      },
      "execution_count": 11,
      "outputs": []
    },
    {
      "cell_type": "markdown",
      "source": [
        "### Decision Tree\n",
        "\n",
        "Library: Scikit-learn"
      ],
      "metadata": {
        "id": "0-_T_i4rsgy7"
      }
    },
    {
      "cell_type": "code",
      "source": [
        "from sklearn.tree import DecisionTreeClassifier\n",
        "\n",
        "name = 'tree_clf'\n",
        "\n",
        "train = pd.DataFrame(columns = ['criterion', 'splitter', 'n_jobs', 'random_state'])\n",
        "train = train.append({'criterion' : 'gini','splitter': 'best', 'random_state': 10}, ignore_index=True)\n",
        "train = train.append({'criterion' : 'entropy','splitter': 'best', 'random_state': 10}, ignore_index=True)\n",
        "train = train.append({'criterion' : 'gini','splitter': 'random', 'random_state': 10}, ignore_index=True)\n",
        "\n",
        "train = train.reset_index()\n",
        "for index, row in train.iterrows():\n",
        "    model_name = name + str(index)\n",
        "    tree_clf = DecisionTreeClassifier(criterion = row['criterion'], splitter = row['splitter'], max_depth = None, random_state = row['random_state'])\n",
        "    tree_clf.fit(X_train, y_train)\n",
        "    y_true = y_val\n",
        "    y_pred = tree_clf.predict(X_val)\n",
        "    cfm = confusion_matrix(y_true, y_pred).ravel()\n",
        "    acc = accuracy_score(y_true, y_pred)\n",
        "    recs = recall_score(y_true, y_pred, average='binary')\n",
        "    f1s = f1_score(y_true, y_pred, average='binary')\n",
        "    rocs = roc_auc_score(y_true, y_pred, average='macro')\n",
        "\n",
        "    models = models.append({'model_name': model_name, \n",
        "                            'model': tree_clf, \n",
        "                            'parameters': tree_clf.get_params()}, \n",
        "                           ignore_index=True)\n",
        "    models_eval = models_eval.append({'model_name': model_name, \n",
        "                                      'confusion_matrix' : cfm, \n",
        "                                      'accuracy': acc, \n",
        "                                      'recall' : recs, \n",
        "                                      'f1_score': f1s, \n",
        "                                      'roc_auc_score': rocs}, \n",
        "                                     ignore_index=True)"
      ],
      "metadata": {
        "id": "MSHkzMZ7G8hb"
      },
      "execution_count": 12,
      "outputs": []
    },
    {
      "cell_type": "code",
      "source": [
        "# Plot Classifier\n",
        "\n",
        "import os\n",
        "from sklearn.tree import export_graphviz\n",
        "\n",
        "export_graphviz(tree_clf,\n",
        "                filled=True,\n",
        "                rounded=True)\n",
        "\n",
        "os.system('dot -Tpng tree.dot -o tree.png')"
      ],
      "metadata": {
        "colab": {
          "base_uri": "https://localhost:8080/"
        },
        "id": "5FNrrZ43OkNo",
        "outputId": "e2d71747-33b2-4383-df67-804c8c8bdb0c"
      },
      "execution_count": 13,
      "outputs": [
        {
          "output_type": "execute_result",
          "data": {
            "text/plain": [
              "512"
            ]
          },
          "metadata": {},
          "execution_count": 13
        }
      ]
    },
    {
      "cell_type": "markdown",
      "source": [
        "### Support Vector Machine (SVM)\n",
        "\n",
        "Library: Scikit-learn"
      ],
      "metadata": {
        "id": "XJeua7O8t0TU"
      }
    },
    {
      "cell_type": "code",
      "source": [
        "from sklearn.svm import SVC\n",
        "\n",
        "name = 'svc_clf'\n",
        "\n",
        "train = pd.DataFrame(columns = ['kernel', 'random_state'])\n",
        "train = train.append({'kernel' : 'rbf', 'random_state': 10}, ignore_index=True)\n",
        "train = train.append({'kernel' : 'sigmoid', 'random_state': 10}, ignore_index=True)\n",
        "train = train.append({'kernel' : 'linear', 'random_state': 10}, ignore_index=True)\n",
        "\n",
        "train = train.reset_index()\n",
        "for index, row in train.iterrows():\n",
        "    model_name = name + str(index)\n",
        "    svc_clf = SVC(kernel=row[\"kernel\"], random_state = int(row[\"random_state\"]))\n",
        "    svc_clf.fit(X_train, y_train)\n",
        "    y_true = y_val\n",
        "    y_pred = svc_clf.predict(X_val)\n",
        "    cfm = confusion_matrix(y_true, y_pred).ravel()\n",
        "    acc = accuracy_score(y_true, y_pred)\n",
        "    recs = recall_score(y_true, y_pred, average='binary')\n",
        "    f1s = f1_score(y_true, y_pred, average='binary')\n",
        "    rocs = roc_auc_score(y_true, y_pred, average='macro')\n",
        "\n",
        "    models = models.append({'model_name': model_name, \n",
        "                            'model': svc_clf, \n",
        "                            'parameters': svc_clf.get_params()}, \n",
        "                           ignore_index=True)\n",
        "    models_eval = models_eval.append({'model_name': model_name, \n",
        "                                      'confusion_matrix' : cfm, \n",
        "                                      'accuracy': acc, \n",
        "                                      'recall' : recs, \n",
        "                                      'f1_score': f1s, \n",
        "                                      'roc_auc_score': rocs}, \n",
        "                                     ignore_index=True)"
      ],
      "metadata": {
        "colab": {
          "base_uri": "https://localhost:8080/"
        },
        "id": "LkArYr14Gyy2",
        "outputId": "e855853e-8fc4-4fb1-fab3-9c60430152f9"
      },
      "execution_count": 14,
      "outputs": [
        {
          "output_type": "stream",
          "name": "stderr",
          "text": [
            "/usr/local/lib/python3.7/dist-packages/sklearn/utils/validation.py:993: DataConversionWarning: A column-vector y was passed when a 1d array was expected. Please change the shape of y to (n_samples, ), for example using ravel().\n",
            "  y = column_or_1d(y, warn=True)\n",
            "/usr/local/lib/python3.7/dist-packages/sklearn/utils/validation.py:993: DataConversionWarning: A column-vector y was passed when a 1d array was expected. Please change the shape of y to (n_samples, ), for example using ravel().\n",
            "  y = column_or_1d(y, warn=True)\n",
            "/usr/local/lib/python3.7/dist-packages/sklearn/utils/validation.py:993: DataConversionWarning: A column-vector y was passed when a 1d array was expected. Please change the shape of y to (n_samples, ), for example using ravel().\n",
            "  y = column_or_1d(y, warn=True)\n"
          ]
        }
      ]
    },
    {
      "cell_type": "markdown",
      "source": [
        "### Logistic Regression\n",
        "\n",
        "Library: Scikit-learn"
      ],
      "metadata": {
        "id": "6f8inZbat2_Y"
      }
    },
    {
      "cell_type": "code",
      "source": [
        "from sklearn.linear_model import LogisticRegression\n",
        "\n",
        "name = 'log_clf'\n",
        "\n",
        "train = pd.DataFrame(columns = ['penalty', 'n_jobs','random_state'])\n",
        "train = train.append({'penalty' : 'l2', 'n_jobs': -1, 'random_state': 10}, ignore_index=True)\n",
        "train = train.append({'penalty' : 'l2', 'n_jobs': -1, 'random_state': 2}, ignore_index=True)\n",
        "train = train.append({'penalty' : 'none', 'n_jobs': -1, 'random_state': 2}, ignore_index=True)\n",
        "\n",
        "train = train.reset_index()\n",
        "for index, row in train.iterrows():\n",
        "    model_name = name + str(index)\n",
        "    log_clf = LogisticRegression(penalty = row['penalty'], n_jobs = int(row['n_jobs']), random_state = int(row['random_state']))\n",
        "    log_clf.fit(X_train, y_train)\n",
        "    y_true = y_val\n",
        "    y_pred = log_clf.predict(X_val)\n",
        "    cfm = confusion_matrix(y_true, y_pred).ravel()\n",
        "    acc = accuracy_score(y_true, y_pred)\n",
        "    recs = recall_score(y_true, y_pred, average='binary')\n",
        "    f1s = f1_score(y_true, y_pred, average='binary')\n",
        "    rocs = roc_auc_score(y_true, y_pred, average='macro')\n",
        "\n",
        "    models = models.append({'model_name': model_name, \n",
        "                            'model': log_clf, \n",
        "                            'parameters': log_clf.get_params()}, \n",
        "                           ignore_index=True)\n",
        "    models_eval = models_eval.append({'model_name': model_name, \n",
        "                                      'confusion_matrix' : cfm, \n",
        "                                      'accuracy': acc, \n",
        "                                      'recall' : recs, \n",
        "                                      'f1_score': f1s, \n",
        "                                      'roc_auc_score': rocs}, \n",
        "                                     ignore_index=True)"
      ],
      "metadata": {
        "colab": {
          "base_uri": "https://localhost:8080/"
        },
        "id": "zTqPctofGweh",
        "outputId": "9cf7c610-1ae1-4da9-bdb0-38d12da6208f"
      },
      "execution_count": 15,
      "outputs": [
        {
          "output_type": "stream",
          "name": "stderr",
          "text": [
            "/usr/local/lib/python3.7/dist-packages/sklearn/utils/validation.py:993: DataConversionWarning: A column-vector y was passed when a 1d array was expected. Please change the shape of y to (n_samples, ), for example using ravel().\n",
            "  y = column_or_1d(y, warn=True)\n",
            "/usr/local/lib/python3.7/dist-packages/sklearn/utils/validation.py:993: DataConversionWarning: A column-vector y was passed when a 1d array was expected. Please change the shape of y to (n_samples, ), for example using ravel().\n",
            "  y = column_or_1d(y, warn=True)\n",
            "/usr/local/lib/python3.7/dist-packages/sklearn/utils/validation.py:993: DataConversionWarning: A column-vector y was passed when a 1d array was expected. Please change the shape of y to (n_samples, ), for example using ravel().\n",
            "  y = column_or_1d(y, warn=True)\n"
          ]
        }
      ]
    },
    {
      "cell_type": "markdown",
      "source": [
        "### Naive Bayes\n",
        "\n",
        "Library: Scikit-learn"
      ],
      "metadata": {
        "id": "d9_lkmRBt7XH"
      }
    },
    {
      "cell_type": "code",
      "source": [
        "from sklearn.naive_bayes import GaussianNB\n",
        "\n",
        "name = 'bayes_clf'\n",
        "\n",
        "train = pd.DataFrame(columns = ['var_smoothing'])\n",
        "train = train.append({'var_smoothing': 1e-10}, ignore_index=True)\n",
        "train = train.append({'var_smoothing': 1e-20}, ignore_index=True)\n",
        "train = train.append({'var_smoothing': 1e-5}, ignore_index=True)\n",
        "\n",
        "train = train.reset_index()\n",
        "for index, row in train.iterrows():\n",
        "    model_name = name + str(index)\n",
        "    bayes_clf = GaussianNB(var_smoothing = row['var_smoothing'])\n",
        "    bayes_clf.fit(X_train, y_train)\n",
        "    y_true = y_val\n",
        "    y_pred = bayes_clf.predict(X_val)\n",
        "    cfm = confusion_matrix(y_true, y_pred).ravel()\n",
        "    acc = accuracy_score(y_true, y_pred)\n",
        "    recs = recall_score(y_true, y_pred, average='binary')\n",
        "    f1s = f1_score(y_true, y_pred, average='binary')\n",
        "    rocs = roc_auc_score(y_true, y_pred, average='macro')\n",
        "\n",
        "    models = models.append({'model_name': model_name, \n",
        "                            'model': bayes_clf, \n",
        "                            'parameters': bayes_clf.get_params()}, \n",
        "                           ignore_index=True)\n",
        "    models_eval = models_eval.append({'model_name': model_name, \n",
        "                                      'confusion_matrix' : cfm, \n",
        "                                      'accuracy': acc, \n",
        "                                      'recall' : recs, \n",
        "                                      'f1_score': f1s, \n",
        "                                      'roc_auc_score': rocs}, \n",
        "                                     ignore_index=True)"
      ],
      "metadata": {
        "colab": {
          "base_uri": "https://localhost:8080/"
        },
        "id": "m_AMZPBsG75x",
        "outputId": "b933e7a5-4e9d-4aca-fdeb-0e9852867d0c"
      },
      "execution_count": 16,
      "outputs": [
        {
          "output_type": "stream",
          "name": "stderr",
          "text": [
            "/usr/local/lib/python3.7/dist-packages/sklearn/utils/validation.py:993: DataConversionWarning: A column-vector y was passed when a 1d array was expected. Please change the shape of y to (n_samples, ), for example using ravel().\n",
            "  y = column_or_1d(y, warn=True)\n",
            "/usr/local/lib/python3.7/dist-packages/sklearn/utils/validation.py:993: DataConversionWarning: A column-vector y was passed when a 1d array was expected. Please change the shape of y to (n_samples, ), for example using ravel().\n",
            "  y = column_or_1d(y, warn=True)\n",
            "/usr/local/lib/python3.7/dist-packages/sklearn/utils/validation.py:993: DataConversionWarning: A column-vector y was passed when a 1d array was expected. Please change the shape of y to (n_samples, ), for example using ravel().\n",
            "  y = column_or_1d(y, warn=True)\n"
          ]
        }
      ]
    },
    {
      "cell_type": "markdown",
      "source": [
        "### K-Nearest Neighbor\n",
        "\n",
        "Library: Scikit-learn"
      ],
      "metadata": {
        "id": "Wa5UhZfCuAlN"
      }
    },
    {
      "cell_type": "code",
      "source": [
        "from sklearn.neighbors import KNeighborsClassifier\n",
        "\n",
        "name = 'neigh_clf'\n",
        "\n",
        "train = pd.DataFrame(columns = ['n_neighbors', 'algorithm', 'n_jobs'])\n",
        "train = train.append({'n_neighbors': 5, 'algorithm':'auto', 'n_jobs':-1}, ignore_index=True)\n",
        "train = train.append({'n_neighbors': 1, 'algorithm':'auto', 'n_jobs':-1}, ignore_index=True)\n",
        "train = train.append({'n_neighbors': 20, 'algorithm':'kd_tree', 'n_jobs':-1}, ignore_index=True)\n",
        "\n",
        "train = train.reset_index()\n",
        "for index, row in train.iterrows():\n",
        "    model_name = name + str(index)\n",
        "    neigh_clf = KNeighborsClassifier(n_neighbors=int(row['n_neighbors']), algorithm = row['algorithm'], n_jobs = int(row['n_jobs']))\n",
        "    neigh_clf.fit(X_train, y_train)\n",
        "    y_true = y_val\n",
        "    y_pred = neigh_clf.predict(X_val)\n",
        "    cfm = confusion_matrix(y_true, y_pred).ravel()\n",
        "    acc = accuracy_score(y_true, y_pred)\n",
        "    recs = recall_score(y_true, y_pred, average='binary')\n",
        "    f1s = f1_score(y_true, y_pred, average='binary')\n",
        "    rocs = roc_auc_score(y_true, y_pred, average='macro')\n",
        "\n",
        "    models = models.append({'model_name': model_name, \n",
        "                            'model': neigh_clf, \n",
        "                            'parameters': neigh_clf.get_params()}, \n",
        "                           ignore_index=True)\n",
        "    models_eval = models_eval.append({'model_name': model_name, \n",
        "                                      'confusion_matrix' : cfm, \n",
        "                                      'accuracy': acc, \n",
        "                                      'recall' : recs, \n",
        "                                      'f1_score': f1s, \n",
        "                                      'roc_auc_score': rocs}, \n",
        "                                     ignore_index=True)"
      ],
      "metadata": {
        "colab": {
          "base_uri": "https://localhost:8080/"
        },
        "id": "KR1OUBrFG7cK",
        "outputId": "0652f46b-2d12-4254-d09a-8d409df3fda8"
      },
      "execution_count": 17,
      "outputs": [
        {
          "output_type": "stream",
          "name": "stderr",
          "text": [
            "/usr/local/lib/python3.7/dist-packages/sklearn/neighbors/_classification.py:198: DataConversionWarning: A column-vector y was passed when a 1d array was expected. Please change the shape of y to (n_samples,), for example using ravel().\n",
            "  return self._fit(X, y)\n",
            "/usr/local/lib/python3.7/dist-packages/sklearn/neighbors/_classification.py:198: DataConversionWarning: A column-vector y was passed when a 1d array was expected. Please change the shape of y to (n_samples,), for example using ravel().\n",
            "  return self._fit(X, y)\n",
            "/usr/local/lib/python3.7/dist-packages/sklearn/neighbors/_classification.py:198: DataConversionWarning: A column-vector y was passed when a 1d array was expected. Please change the shape of y to (n_samples,), for example using ravel().\n",
            "  return self._fit(X, y)\n"
          ]
        }
      ]
    },
    {
      "cell_type": "markdown",
      "source": [
        "### Gradient Boosting Classifier\n",
        "\n",
        "Library: Scikit-learn"
      ],
      "metadata": {
        "id": "mUqLO4xSuDou"
      }
    },
    {
      "cell_type": "code",
      "source": [
        "from sklearn.ensemble import GradientBoostingClassifier\n",
        "\n",
        "name = 'gboost_clf'\n",
        "\n",
        "train = pd.DataFrame(columns = ['n_estimators', 'learning_rate', 'max_depth', 'random_state'])\n",
        "train = train.append({'n_estimators': 100, 'learning_rate':0.1, 'max_depth':3, 'random_state':10}, ignore_index=True)\n",
        "train = train.append({'n_estimators': 500, 'learning_rate':0.5, 'max_depth':1, 'random_state':10}, ignore_index=True)\n",
        "train = train.append({'n_estimators': 50, 'learning_rate':0.01, 'max_depth':10, 'random_state':10}, ignore_index=True)\n",
        "\n",
        "train = train.reset_index()\n",
        "for index, row in train.iterrows():\n",
        "    model_name = name + str(index)\n",
        "    gboost_clf = GradientBoostingClassifier(n_estimators=int(row['n_estimators']), learning_rate=row['learning_rate'],\n",
        "                                            max_depth=int(row['max_depth']), random_state=int(row['random_state']))\n",
        "    gboost_clf.fit(X_train, y_train)\n",
        "    y_true = y_val\n",
        "    y_pred = gboost_clf.predict(X_val)\n",
        "    cfm = confusion_matrix(y_true, y_pred).ravel()\n",
        "    acc = accuracy_score(y_true, y_pred)\n",
        "    recs = recall_score(y_true, y_pred, average='binary')\n",
        "    f1s = f1_score(y_true, y_pred, average='binary')\n",
        "    rocs = roc_auc_score(y_true, y_pred, average='macro')\n",
        "\n",
        "    models = models.append({'model_name': model_name, \n",
        "                            'model': gboost_clf, \n",
        "                            'parameters': gboost_clf.get_params()}, \n",
        "                           ignore_index=True)\n",
        "    models_eval = models_eval.append({'model_name': model_name, \n",
        "                                      'confusion_matrix' : cfm, \n",
        "                                      'accuracy': acc, \n",
        "                                      'recall' : recs, \n",
        "                                      'f1_score': f1s, \n",
        "                                      'roc_auc_score': rocs}, \n",
        "                                     ignore_index=True)"
      ],
      "metadata": {
        "colab": {
          "base_uri": "https://localhost:8080/"
        },
        "id": "O7FKV-TNG7Li",
        "outputId": "08e5d2c2-211e-4822-833d-b8f062477976"
      },
      "execution_count": 18,
      "outputs": [
        {
          "output_type": "stream",
          "name": "stderr",
          "text": [
            "/usr/local/lib/python3.7/dist-packages/sklearn/ensemble/_gb.py:494: DataConversionWarning: A column-vector y was passed when a 1d array was expected. Please change the shape of y to (n_samples, ), for example using ravel().\n",
            "  y = column_or_1d(y, warn=True)\n",
            "/usr/local/lib/python3.7/dist-packages/sklearn/ensemble/_gb.py:494: DataConversionWarning: A column-vector y was passed when a 1d array was expected. Please change the shape of y to (n_samples, ), for example using ravel().\n",
            "  y = column_or_1d(y, warn=True)\n",
            "/usr/local/lib/python3.7/dist-packages/sklearn/ensemble/_gb.py:494: DataConversionWarning: A column-vector y was passed when a 1d array was expected. Please change the shape of y to (n_samples, ), for example using ravel().\n",
            "  y = column_or_1d(y, warn=True)\n"
          ]
        }
      ]
    },
    {
      "cell_type": "markdown",
      "source": [
        "\n",
        "### XGBoost\n",
        "\n",
        "\n",
        "Library: xgboost"
      ],
      "metadata": {
        "id": "dEOmd6FrK4_n"
      }
    },
    {
      "cell_type": "code",
      "source": [
        "import xgboost\n",
        "from xgboost import XGBClassifier\n",
        "\n",
        "name = 'xgboost_clf'\n",
        "\n",
        "train = pd.DataFrame(columns = ['n_estimators', 'learning_rate', 'max_depth', 'random_state'])\n",
        "train = train.append({'n_estimators': 1000, 'learning_rate':0.0001, 'max_depth':3, 'random_state':10}, ignore_index=True)\n",
        "train = train.append({'n_estimators': 500, 'learning_rate':0.5, 'max_depth':1, 'random_state':10}, ignore_index=True)\n",
        "train = train.append({'n_estimators': 750, 'learning_rate':0.01, 'max_depth':10, 'random_state':10}, ignore_index=True)\n",
        "\n",
        "train = train.reset_index()\n",
        "for index, row in train.iterrows():\n",
        "    model_name = name + str(index)\n",
        "    xgboost_clf = XGBClassifier(n_estimators=int(row['n_estimators']), learning_rate=row['learning_rate'],\n",
        "                                max_depth=int(row['max_depth']), random_state=int(row['random_state']))\n",
        "    xgboost_clf.fit(X_train, y_train)\n",
        "    y_true = y_val\n",
        "    y_pred = xgboost_clf.predict(X_val)\n",
        "    cfm = confusion_matrix(y_true, y_pred).ravel()\n",
        "    acc = accuracy_score(y_true, y_pred)\n",
        "    recs = recall_score(y_true, y_pred, average='binary')\n",
        "    f1s = f1_score(y_true, y_pred, average='binary')\n",
        "    rocs = roc_auc_score(y_true, y_pred, average='macro')\n",
        "\n",
        "    models = models.append({'model_name': model_name, \n",
        "                            'model': xgboost_clf, \n",
        "                            'parameters': xgboost_clf.get_params()}, \n",
        "                           ignore_index=True)\n",
        "    models_eval = models_eval.append({'model_name': model_name, \n",
        "                                      'confusion_matrix' : cfm, \n",
        "                                      'accuracy': acc, \n",
        "                                      'recall' : recs, \n",
        "                                      'f1_score': f1s, \n",
        "                                      'roc_auc_score': rocs}, \n",
        "                                     ignore_index=True)"
      ],
      "metadata": {
        "colab": {
          "base_uri": "https://localhost:8080/"
        },
        "id": "RkdWxdHPNDjr",
        "outputId": "3fe8e016-da39-4d1c-b082-b2be0d51822c"
      },
      "execution_count": null,
      "outputs": [
        {
          "output_type": "stream",
          "name": "stderr",
          "text": [
            "/usr/local/lib/python3.7/dist-packages/sklearn/preprocessing/_label.py:98: DataConversionWarning: A column-vector y was passed when a 1d array was expected. Please change the shape of y to (n_samples, ), for example using ravel().\n",
            "  y = column_or_1d(y, warn=True)\n",
            "/usr/local/lib/python3.7/dist-packages/sklearn/preprocessing/_label.py:133: DataConversionWarning: A column-vector y was passed when a 1d array was expected. Please change the shape of y to (n_samples, ), for example using ravel().\n",
            "  y = column_or_1d(y, warn=True)\n",
            "/usr/local/lib/python3.7/dist-packages/sklearn/preprocessing/_label.py:98: DataConversionWarning: A column-vector y was passed when a 1d array was expected. Please change the shape of y to (n_samples, ), for example using ravel().\n",
            "  y = column_or_1d(y, warn=True)\n",
            "/usr/local/lib/python3.7/dist-packages/sklearn/preprocessing/_label.py:133: DataConversionWarning: A column-vector y was passed when a 1d array was expected. Please change the shape of y to (n_samples, ), for example using ravel().\n",
            "  y = column_or_1d(y, warn=True)\n"
          ]
        }
      ]
    },
    {
      "cell_type": "markdown",
      "source": [
        "### LightGBM\n",
        "\n",
        "Library: lightbgm"
      ],
      "metadata": {
        "id": "cjq-m5bDK5jB"
      }
    },
    {
      "cell_type": "code",
      "source": [
        "import lightgbm\n",
        "from lightgbm import LGBMClassifier\n",
        "\n",
        "name = 'lightgbm_clf'\n",
        "\n",
        "train = pd.DataFrame(columns = ['n_estimators', 'learning_rate', 'max_depth', 'random_state'])\n",
        "train = train.append({'n_estimators': 1000, 'learning_rate':0.1, 'max_depth':3, 'random_state':10}, ignore_index=True)\n",
        "train = train.append({'n_estimators': 500, 'learning_rate':0.5, 'max_depth':1, 'random_state':10}, ignore_index=True)\n",
        "train = train.append({'n_estimators': 750, 'learning_rate':0.01, 'max_depth':10, 'random_state':10}, ignore_index=True)\n",
        "\n",
        "train = train.reset_index()\n",
        "for index, row in train.iterrows():\n",
        "    model_name = name + str(index)\n",
        "    lightgbm_clf = LGBMClassifier(n_estimators=int(row['n_estimators']), learning_rate=row['learning_rate'],\n",
        "                                max_depth=int(row['max_depth']), random_state=int(row['random_state']))\n",
        "    lightgbm_clf.fit(X_train, y_train)\n",
        "    y_true = y_val\n",
        "    y_pred = lightgbm_clf.predict(X_val)\n",
        "    cfm = confusion_matrix(y_true, y_pred).ravel()\n",
        "    acc = accuracy_score(y_true, y_pred)\n",
        "    recs = recall_score(y_true, y_pred, average='binary')\n",
        "    f1s = f1_score(y_true, y_pred, average='binary')\n",
        "    rocs = roc_auc_score(y_true, y_pred, average='macro')\n",
        "\n",
        "    models = models.append({'model_name': model_name, \n",
        "                            'model': lightgbm_clf, \n",
        "                            'parameters': lightgbm_clf.get_params()}, \n",
        "                           ignore_index=True)\n",
        "    models_eval = models_eval.append({'model_name': model_name, \n",
        "                                      'confusion_matrix' : cfm, \n",
        "                                      'accuracy': acc, \n",
        "                                      'recall' : recs, \n",
        "                                      'f1_score': f1s, \n",
        "                                      'roc_auc_score': rocs}, \n",
        "                                     ignore_index=True)"
      ],
      "metadata": {
        "id": "LSLMdw3tLC3H"
      },
      "execution_count": null,
      "outputs": []
    },
    {
      "cell_type": "markdown",
      "source": [
        "### Artificial Neural Network\n",
        "\n",
        "Library: Keras, Tensorflow"
      ],
      "metadata": {
        "id": "xa1upTFtuJYt"
      }
    },
    {
      "cell_type": "code",
      "source": [
        "import tensorflow as tf\n",
        "from tensorflow import keras\n",
        "\n",
        "print(tf.__version__)\n",
        "print(keras.__version__)\n",
        "\n",
        "tf.random.set_seed(12)"
      ],
      "metadata": {
        "id": "XZHzNn9DG7AH"
      },
      "execution_count": null,
      "outputs": []
    },
    {
      "cell_type": "markdown",
      "source": [
        "#### Experiment 1: Base model"
      ],
      "metadata": {
        "id": "04QyNqCK6_U_"
      }
    },
    {
      "cell_type": "code",
      "source": [
        "ann_clf = keras.models.Sequential([\n",
        "    keras.layers.Dense(6, input_shape=(X_train.shape[1],), activation='sigmoid'),\n",
        "    keras.layers.Dense(6, activation='sigmoid'),\n",
        "    keras.layers.Dense(6, activation='sigmoid'), \n",
        "    # keras.layers.Dropout(0.2),\n",
        "    keras.layers.Dense(1, activation = 'sigmoid')\n",
        "])\n",
        "\n",
        "ann_clf.summary()"
      ],
      "metadata": {
        "id": "9opHQwWTV6r2"
      },
      "execution_count": null,
      "outputs": []
    },
    {
      "cell_type": "code",
      "source": [
        "ann_clf.layers"
      ],
      "metadata": {
        "id": "9VT-xEvhV6mT"
      },
      "execution_count": null,
      "outputs": []
    },
    {
      "cell_type": "code",
      "source": [
        "ann_clf.compile(optimizer = 'adam', \n",
        "                metrics=['accuracy'], \n",
        "                loss ='binary_crossentropy')\n",
        "\n",
        "record = ann_clf.fit(\n",
        "            X_train, \n",
        "            y_train, \n",
        "            validation_data = (X_val, y_val), \n",
        "            batch_size = 10, \n",
        "            epochs = 200)"
      ],
      "metadata": {
        "id": "0Wc0UnxMX6ih"
      },
      "execution_count": null,
      "outputs": []
    },
    {
      "cell_type": "code",
      "source": [
        "keras.utils.plot_model(ann_clf, show_shapes=True, rankdir=\"LR\")"
      ],
      "metadata": {
        "id": "sUCYUYN3cg2P"
      },
      "execution_count": null,
      "outputs": []
    },
    {
      "cell_type": "code",
      "source": [
        "_, train_acc = ann_clf.evaluate(X_train, y_train, verbose=0)\n",
        "_, val_acc = ann_clf.evaluate(X_val, y_val, verbose=0)\n",
        "_, test_acc = ann_clf.evaluate(X_test, y_test, verbose=0)\n",
        "print('Train: %.3f, Validation: %.3f, Test: %.3f' % (train_acc, val_acc, test_acc))"
      ],
      "metadata": {
        "id": "Bfj1lHGzcOo7"
      },
      "execution_count": null,
      "outputs": []
    },
    {
      "cell_type": "code",
      "source": [
        "plt.figure(figsize=[8,5])\n",
        "plt.plot(record.history['accuracy'], label='Train')\n",
        "plt.plot(record.history['val_accuracy'], label='Valid')\n",
        "plt.legend()\n",
        "plt.xlabel('Epochs', fontsize=16)\n",
        "plt.ylabel('Accuracy', fontsize=16)\n",
        "plt.title('Accuracy Curves', fontsize=16)\n",
        "plt.show()"
      ],
      "metadata": {
        "id": "VxEcep0dZGaB"
      },
      "execution_count": null,
      "outputs": []
    },
    {
      "cell_type": "markdown",
      "source": [
        "#### Experiment 2: Different batch sizes"
      ],
      "metadata": {
        "id": "uVUydHm87HoJ"
      }
    },
    {
      "cell_type": "code",
      "source": [
        "# Fit a model and plot learning curve\n",
        "def fit_model_1(X_train, y_train, X_test, y_test, n_batch):\n",
        "  # Define Model\n",
        "  ann_clf = keras.models.Sequential([\n",
        "      keras.layers.Dense(6, input_shape=(X_train.shape[1],), activation='sigmoid'),\n",
        "      keras.layers.Dense(6, activation='sigmoid'),\n",
        "      keras.layers.Dense(6, activation='sigmoid'), \n",
        "      # keras.layers.Dropout(0.2),\n",
        "      keras.layers.Dense(1, activation = 'sigmoid')\n",
        "  ])\n",
        "\n",
        "  # Compile Model\n",
        "  ann_clf.compile(optimizer = 'adam',\n",
        "                metrics=['accuracy'],\n",
        "                loss = 'binary_crossentropy')\n",
        "  \n",
        "  # Fit Model\n",
        "  history = ann_clf.fit(X_train,\n",
        "                      y_train,\n",
        "                      validation_data=(X_test, y_test),\n",
        "                      epochs=100,\n",
        "                      verbose=0,\n",
        "                      batch_size=n_batch)\n",
        "\n",
        "  # Plot Learning Curves\n",
        "  plt.plot(history.history['accuracy'], label='train') \n",
        "  plt.plot(history.history['val_accuracy'], label='test') \n",
        "  plt.title('batch='+str(n_batch)) \n",
        "  plt.legend()"
      ],
      "metadata": {
        "id": "iQCDBvc1b9EV"
      },
      "execution_count": null,
      "outputs": []
    },
    {
      "cell_type": "code",
      "source": [
        "# Create learning curves for different batch sizes\n",
        "batch_sizes = [4, 6, 10, 16, 32, 64, 128, 260]\n",
        "\n",
        "plt.figure(figsize=(10,15))\n",
        "for i in range(len(batch_sizes)):\n",
        "\n",
        "  # Determine the Plot Number\n",
        "  plot_no = 420 + (i+1)\n",
        "  plt.subplot(plot_no)\n",
        "\n",
        "  # Fit model and plot learning curves for a batch size\n",
        "  fit_model_1(X_train, y_train, X_test, y_test, batch_sizes[i])\n",
        "\n",
        "# Show learning curves\n",
        "plt.show()"
      ],
      "metadata": {
        "id": "uKYLX7hL4jsg"
      },
      "execution_count": null,
      "outputs": []
    },
    {
      "cell_type": "markdown",
      "source": [
        "#### Experiment 3: Different EPOCHs"
      ],
      "metadata": {
        "id": "PitTdgsB7Mwl"
      }
    },
    {
      "cell_type": "code",
      "source": [
        "# Fit a model and plot learning curve\n",
        "def fit_model_2(trainX, trainy, validX, validy, n_epoch):\n",
        "  # Define Model\n",
        "  ann_clf = keras.models.Sequential([\n",
        "      keras.layers.Dense(6, input_shape=(X_train.shape[1],), activation='sigmoid'),\n",
        "      keras.layers.Dense(6, activation='sigmoid'),\n",
        "      keras.layers.Dense(6, activation='sigmoid'), \n",
        "      # keras.layers.Dropout(0.2),\n",
        "      keras.layers.Dense(1, activation = 'sigmoid')\n",
        "  ])\n",
        "\n",
        "  # Compile Model\n",
        "  ann_clf.compile(optimizer = 'adam',\n",
        "                metrics=['accuracy'],\n",
        "                loss = 'binary_crossentropy')\n",
        "    \n",
        "  # fit model\n",
        "  history = ann_clf.fit(X_train,\n",
        "                      y_train,\n",
        "                      validation_data=(X_test, y_test),\n",
        "                      epochs=n_epoch,\n",
        "                      verbose=0,\n",
        "                      batch_size=6)\n",
        "    \n",
        "  # plot learning curves\n",
        "  plt.plot(history.history['accuracy'], label='train')\n",
        "  plt.plot(history.history['val_accuracy'], label='test')\n",
        "  plt.title('epoch='+str(n_epoch))\n",
        "  plt.legend()"
      ],
      "metadata": {
        "id": "jJJUEMb2cA8O"
      },
      "execution_count": null,
      "outputs": []
    },
    {
      "cell_type": "code",
      "source": [
        "# Create learning curves for different batch sizes\n",
        "epochs = [20, 50, 100, 120, 150, 200, 300, 400]\n",
        "\n",
        "plt.figure(figsize=(10,15))\n",
        "for i in range(len(batch_sizes)):\n",
        "\n",
        "  # Determine the Plot Number\n",
        "  plot_no = 420 + (i+1)\n",
        "  plt.subplot(plot_no)\n",
        "\n",
        "  # Fit model and plot learning curves for a batch size\n",
        "  fit_model_2(X_train, y_train, X_test, y_test, epochs[i])\n",
        "\n",
        "# Show learning curves\n",
        "plt.show()"
      ],
      "metadata": {
        "id": "8rSgiZBL5oph"
      },
      "execution_count": null,
      "outputs": []
    },
    {
      "cell_type": "markdown",
      "source": [
        "#### Experiment 4: Early stopping"
      ],
      "metadata": {
        "id": "MZ94FhrF7Tl0"
      }
    },
    {
      "cell_type": "code",
      "source": [
        "from keras.callbacks import EarlyStopping\n",
        "from keras.callbacks import ModelCheckpoint"
      ],
      "metadata": {
        "id": "5deUpBhQ9Ruh"
      },
      "execution_count": null,
      "outputs": []
    },
    {
      "cell_type": "code",
      "source": [
        "def init_model():\n",
        "  # Define Model\n",
        "  ann_clf = keras.models.Sequential([\n",
        "      keras.layers.Dense(6, input_shape=(X_train.shape[1],), activation='sigmoid'),\n",
        "      keras.layers.Dense(6, activation='sigmoid'),\n",
        "      keras.layers.Dense(6, activation='sigmoid'), \n",
        "      # keras.layers.Dropout(0.2),\n",
        "      keras.layers.Dense(1, activation = 'sigmoid')\n",
        "  ])\n",
        "\n",
        "  # Compile Model\n",
        "  ann_clf.compile(optimizer = 'adam',\n",
        "                metrics=['accuracy'],\n",
        "                loss = 'binary_crossentropy')\n",
        "  return ann_clf\n",
        "\n",
        "# init model\n",
        "ann_clf = init_model()\n",
        "# simple early stopping\n",
        "es = EarlyStopping(monitor='val_loss',\n",
        "                   mode='min',\n",
        "                   verbose=1,\n",
        "                   patience=150)\n",
        "mc = ModelCheckpoint('best_model.h5',\n",
        "                     monitor='val_accuracy',\n",
        "                     mode='max',\n",
        "                     verbose=1,\n",
        "                     save_best_only=True)\n",
        "history = ann_clf.fit(X_train,\n",
        "                    y_train,\n",
        "                    validation_data=(X_test, y_test),\n",
        "                    epochs=250,\n",
        "                    verbose=0,\n",
        "                    batch_size=6,\n",
        "                    callbacks=[es, mc])"
      ],
      "metadata": {
        "id": "7JMZOO2wcC1m"
      },
      "execution_count": null,
      "outputs": []
    },
    {
      "cell_type": "code",
      "source": [
        "# plot training history\n",
        "plt.plot(history.history['loss'], label='train')\n",
        "plt.plot(history.history['val_loss'], label='valid')\n",
        "plt.legend()\n",
        "plt.xlabel('Epochs', fontsize=14)\n",
        "plt.ylabel('Loss', fontsize=14)\n",
        "plt.title('Loss Curves', fontsize=16)\n",
        "plt.show()"
      ],
      "metadata": {
        "id": "bLw_rrOS8uRl"
      },
      "execution_count": null,
      "outputs": []
    },
    {
      "cell_type": "code",
      "source": [
        "plt.figure(figsize=[8,5])\n",
        "plt.plot(history.history['accuracy'], label='Train')\n",
        "plt.plot(history.history['val_accuracy'], label='Valid')\n",
        "plt.legend()\n",
        "plt.xlabel('Epochs', fontsize=16)\n",
        "plt.ylabel('Accuracy', fontsize=16)\n",
        "plt.title('Accuracy Curves', fontsize=16)\n",
        "\n",
        "plt.show()"
      ],
      "metadata": {
        "id": "XXDYV4Io8vsW"
      },
      "execution_count": null,
      "outputs": []
    },
    {
      "cell_type": "markdown",
      "source": [
        "### Ensemble Learning\n",
        "\n",
        "Library: Scikit-learn, Keras, Tensorflow"
      ],
      "metadata": {
        "id": "P3Ad2FUxuTzX"
      }
    },
    {
      "cell_type": "code",
      "source": [
        "display(models_eval)"
      ],
      "metadata": {
        "id": "NJgKuqjkoLgU"
      },
      "execution_count": null,
      "outputs": []
    },
    {
      "cell_type": "code",
      "source": [
        "from sklearn.ensemble import VotingClassifier\n",
        "\n",
        "# Retrain top 3 models using their parameters specifically\n",
        "model_1 = LGBMClassifier(n_estimators=1000, learning_rate=0.1, max_depth=3, random_state=10)\n",
        "model_2 = GradientBoostingClassifier(n_estimators=500, learning_rate=0.5, max_depth=1, random_state=10)\n",
        "model_3 = RandomForestClassifier(n_estimators=1000, max_depth = None, n_jobs =-1, random_state=10)\n",
        "\n",
        "name = 'ensem_clf'\n",
        "\n",
        "train = pd.DataFrame(columns = ['voting', 'n_jobs'])\n",
        "train = train.append({'voting': 'hard', 'n_jobs': -1}, ignore_index=True)\n",
        "train = train.append({'voting': 'soft', 'n_jobs': -1}, ignore_index=True)\n",
        "train = train.reset_index()\n",
        "\n",
        "for index, row in train.iterrows():\n",
        "    model_name = name + str(index)\n",
        "    ens_clf = VotingClassifier(estimators=[('m1', model_1), ('m2', model_2), ('m3', model_3)],\n",
        "                               voting = row['voting'],\n",
        "                               n_jobs = int(row['n_jobs']))\n",
        "    ens_clf.fit(X_train, y_train)\n",
        "    y_true = y_val\n",
        "    y_pred = ens_clf.predict(X_val)\n",
        "    cfm = confusion_matrix(y_true, y_pred).ravel()\n",
        "    acc = accuracy_score(y_true, y_pred)\n",
        "    recs = recall_score(y_true, y_pred, average='binary')\n",
        "    f1s = f1_score(y_true, y_pred, average='binary')\n",
        "    rocs = roc_auc_score(y_true, y_pred, average='macro')\n",
        "\n",
        "    models = models.append({'model_name': model_name, \n",
        "                            'model': ens_clf, \n",
        "                            'parameters': ens_clf.get_params()}, \n",
        "                           ignore_index=True)\n",
        "    models_eval = models_eval.append({'model_name': model_name, \n",
        "                                      'confusion_matrix' : cfm, \n",
        "                                      'accuracy': acc, \n",
        "                                      'recall' : recs, \n",
        "                                      'f1_score': f1s, \n",
        "                                      'roc_auc_score': rocs}, \n",
        "                                     ignore_index=True)\n",
        "\n",
        "ens_clf.fit(X_train, y_train)"
      ],
      "metadata": {
        "id": "TweMDNQhG6tk"
      },
      "execution_count": null,
      "outputs": []
    },
    {
      "cell_type": "code",
      "source": [
        "display(models)"
      ],
      "metadata": {
        "id": "pAiaFwJfa5N1"
      },
      "execution_count": null,
      "outputs": []
    },
    {
      "cell_type": "code",
      "source": [
        "display(models_eval)"
      ],
      "metadata": {
        "id": "-z7AK7dtbTT8"
      },
      "execution_count": null,
      "outputs": []
    },
    {
      "cell_type": "markdown",
      "source": [
        "## Model Testing\n",
        "\n",
        "Identifying the best model (when considering their best parameters)\n",
        "\n",
        "1.   Re-train models using both training and validation data\n",
        "2.   Evaluate models using testing data\n",
        "\n"
      ],
      "metadata": {
        "id": "EytD83GHvRaB"
      }
    },
    {
      "cell_type": "code",
      "source": [
        "_ = X_train.append(X_val, ignore_index=True)\n",
        "_ = y_train.append(y_val, ignore_index=True)"
      ],
      "metadata": {
        "id": "sQX3kseSAkXr"
      },
      "execution_count": null,
      "outputs": []
    },
    {
      "cell_type": "code",
      "source": [
        "if len(X_train)==len(y_train) and len(X_test) == len(y_test):\n",
        "  print(\"X and y data length matching\")\n",
        "else:\n",
        "  print(\"Error in data pipeline\")\n",
        "print()\n",
        "print(\"No. of training data = %d\" % len(X_train))\n",
        "print(\"No. of testing data = %d\" % len(X_test))"
      ],
      "metadata": {
        "id": "iA8VA1cxmnwh"
      },
      "execution_count": null,
      "outputs": []
    },
    {
      "cell_type": "code",
      "source": [
        "# unique, counts = np.unique(y_train, return_counts=True)\n",
        "# dict(zip(unique, counts))\n",
        "\n",
        "y_train.value_counts()"
      ],
      "metadata": {
        "id": "mnyTRc8yi-nW"
      },
      "execution_count": null,
      "outputs": []
    },
    {
      "cell_type": "code",
      "source": [
        "models_final = pd.DataFrame(columns = ['model_name', 'model', 'parameters'])\n",
        "models_test = pd.DataFrame(columns = ['model_name', 'confusion_matrix', 'accuracy', 'recall', 'f1_score', 'roc_auc_score'])"
      ],
      "metadata": {
        "id": "e_NwLkCaeB5u"
      },
      "execution_count": null,
      "outputs": []
    },
    {
      "cell_type": "markdown",
      "source": [
        "### Random Forest Classifier"
      ],
      "metadata": {
        "id": "ShQoI_wyCJvA"
      }
    },
    {
      "cell_type": "code",
      "source": [
        "name = 'rnd_clf'\n",
        "\n",
        "rnd_clf = RandomForestClassifier(n_estimators = 500, \n",
        "                                  max_depth = None, \n",
        "                                  n_jobs = -1, \n",
        "                                  random_state = 10\n",
        "                                  ).fit(X_train,y_train)\n",
        "y_true = y_val\n",
        "y_pred = rnd_clf.predict(X_val)\n",
        "cfm = confusion_matrix(y_true, y_pred).ravel()\n",
        "acc = accuracy_score(y_true, y_pred)\n",
        "recs = recall_score(y_true, y_pred, average='binary')\n",
        "f1s = f1_score(y_true, y_pred, average='binary')\n",
        "rocs = roc_auc_score(y_true, y_pred, average='macro')\n",
        "\n",
        "models_final = models_final.append({'model_name': name, \n",
        "                        'model': rnd_clf, \n",
        "                        'parameters': rnd_clf.get_params()}, \n",
        "                       ignore_index=True)\n",
        "models_test = models_test.append({'model_name': name, \n",
        "                                  'confusion_matrix' : cfm, \n",
        "                                  'accuracy': acc, \n",
        "                                  'recall' : recs, \n",
        "                                  'f1_score': f1s,\n",
        "                                  'roc_auc_score': rocs}, \n",
        "                                 ignore_index=True)"
      ],
      "metadata": {
        "id": "SVn0SnHkd8Xo"
      },
      "execution_count": null,
      "outputs": []
    },
    {
      "cell_type": "markdown",
      "source": [
        "### Decision Tree\n"
      ],
      "metadata": {
        "id": "zVzV1sHeCQ7u"
      }
    },
    {
      "cell_type": "code",
      "source": [
        "name = 'tree_clf'\n",
        "\n",
        "tree_clf = DecisionTreeClassifier(criterion = 'gini', \n",
        "                                  splitter = 'best', \n",
        "                                  random_state = 10\n",
        "                                  ).fit(X_train,y_train)\n",
        "y_true = y_val\n",
        "y_pred = tree_clf.predict(X_val)\n",
        "cfm = confusion_matrix(y_true, y_pred).ravel()\n",
        "acc = accuracy_score(y_true, y_pred)\n",
        "recs = recall_score(y_true, y_pred, average='binary')\n",
        "f1s = f1_score(y_true, y_pred, average='binary')\n",
        "rocs = roc_auc_score(y_true, y_pred, average='macro')\n",
        "\n",
        "models_final = models_final.append({'model_name': name, \n",
        "                        'model': tree_clf, \n",
        "                        'parameters': tree_clf.get_params()}, \n",
        "                       ignore_index=True)\n",
        "models_test = models_test.append({'model_name': name, \n",
        "                                  'confusion_matrix' : cfm, \n",
        "                                  'accuracy': acc, \n",
        "                                  'recall' : recs, \n",
        "                                  'f1_score': f1s,\n",
        "                                  'roc_auc_score': rocs}, \n",
        "                                 ignore_index=True)"
      ],
      "metadata": {
        "id": "0gYfWct7lMSg"
      },
      "execution_count": null,
      "outputs": []
    },
    {
      "cell_type": "markdown",
      "source": [
        "### Support Vector Machine (SVM)"
      ],
      "metadata": {
        "id": "hl3pSaYgCS1G"
      }
    },
    {
      "cell_type": "code",
      "source": [
        "name = 'svc_clf'\n",
        "\n",
        "svc_clf = SVC(kernel = 'rbf', \n",
        "              random_state = 10\n",
        "              ).fit(X_train,y_train)\n",
        "y_true = y_val\n",
        "y_pred = svc_clf.predict(X_val)\n",
        "cfm = confusion_matrix(y_true, y_pred).ravel()\n",
        "acc = accuracy_score(y_true, y_pred)\n",
        "recs = recall_score(y_true, y_pred, average='binary')\n",
        "f1s = f1_score(y_true, y_pred, average='binary')\n",
        "rocs = roc_auc_score(y_true, y_pred, average='macro')\n",
        "\n",
        "models_final = models_final.append({'model_name': name, \n",
        "                        'model': svc_clf, \n",
        "                        'parameters': svc_clf.get_params()}, \n",
        "                       ignore_index=True)\n",
        "models_test = models_test.append({'model_name': name, \n",
        "                                  'confusion_matrix' : cfm, \n",
        "                                  'accuracy': acc, \n",
        "                                  'recall' : recs, \n",
        "                                  'f1_score': f1s,\n",
        "                                  'roc_auc_score': rocs}, \n",
        "                                 ignore_index=True)"
      ],
      "metadata": {
        "id": "eVSHaBNvlM64"
      },
      "execution_count": null,
      "outputs": []
    },
    {
      "cell_type": "markdown",
      "source": [
        "### Logistic Regression"
      ],
      "metadata": {
        "id": "aDUDwOunCnnm"
      }
    },
    {
      "cell_type": "code",
      "source": [
        "name = 'log_clf'\n",
        "\n",
        "log_clf = LogisticRegression(penalty = 'l2', \n",
        "                             n_jobs = -1, \n",
        "                             random_state = 10\n",
        "                             ).fit(X_train,y_train)\n",
        "y_true = y_val\n",
        "y_pred = log_clf.predict(X_val)\n",
        "cfm = confusion_matrix(y_true, y_pred).ravel()\n",
        "acc = accuracy_score(y_true, y_pred)\n",
        "recs = recall_score(y_true, y_pred, average='binary')\n",
        "f1s = f1_score(y_true, y_pred, average='binary')\n",
        "rocs = roc_auc_score(y_true, y_pred, average='macro')\n",
        "\n",
        "models_final = models_final.append({'model_name': name, \n",
        "                        'model': log_clf, \n",
        "                        'parameters': log_clf.get_params()}, \n",
        "                       ignore_index=True)\n",
        "models_test = models_test.append({'model_name': name, \n",
        "                                  'confusion_matrix' : cfm, \n",
        "                                  'accuracy': acc, \n",
        "                                  'recall' : recs, \n",
        "                                  'f1_score': f1s,\n",
        "                                  'roc_auc_score': rocs}, \n",
        "                                 ignore_index=True)"
      ],
      "metadata": {
        "id": "eetR6T4OlNnZ"
      },
      "execution_count": null,
      "outputs": []
    },
    {
      "cell_type": "markdown",
      "source": [
        "### Naive Bayes"
      ],
      "metadata": {
        "id": "hjvjqGJACp8j"
      }
    },
    {
      "cell_type": "code",
      "source": [
        "name = 'bayes_clf'\n",
        "\n",
        "bayes_clf = GaussianNB(var_smoothing = 1e-20\n",
        "                       ).fit(X_train,y_train)\n",
        "y_true = y_val\n",
        "y_pred = bayes_clf.predict(X_val)\n",
        "cfm = confusion_matrix(y_true, y_pred).ravel()\n",
        "acc = accuracy_score(y_true, y_pred)\n",
        "recs = recall_score(y_true, y_pred, average='binary')\n",
        "f1s = f1_score(y_true, y_pred, average='binary')\n",
        "rocs = roc_auc_score(y_true, y_pred, average='macro')\n",
        "\n",
        "models_final = models_final.append({'model_name': name, \n",
        "                        'model': bayes_clf, \n",
        "                        'parameters': bayes_clf.get_params()}, \n",
        "                       ignore_index=True)\n",
        "models_test = models_test.append({'model_name': name, \n",
        "                                  'confusion_matrix' : cfm, \n",
        "                                  'accuracy': acc, \n",
        "                                  'recall' : recs, \n",
        "                                  'f1_score': f1s,\n",
        "                                  'roc_auc_score': rocs}, \n",
        "                                 ignore_index=True)"
      ],
      "metadata": {
        "id": "_4TBz-WAlN9z"
      },
      "execution_count": null,
      "outputs": []
    },
    {
      "cell_type": "markdown",
      "source": [
        "### K-Nearest Neighbor"
      ],
      "metadata": {
        "id": "M582sDKnCsB0"
      }
    },
    {
      "cell_type": "code",
      "source": [
        "name = 'neigh_clf'\n",
        "\n",
        "neigh_clf = KNeighborsClassifier(n_neighbors = 5, \n",
        "                                 algorithm = 'auto', \n",
        "                                 n_jobs = -1, \n",
        "                                 ).fit(X_train,y_train)\n",
        "y_true = y_val\n",
        "y_pred = neigh_clf.predict(X_val)\n",
        "cfm = confusion_matrix(y_true, y_pred).ravel()\n",
        "acc = accuracy_score(y_true, y_pred)\n",
        "recs = recall_score(y_true, y_pred, average='binary')\n",
        "f1s = f1_score(y_true, y_pred, average='binary')\n",
        "rocs = roc_auc_score(y_true, y_pred, average='macro')\n",
        "\n",
        "models_final = models_final.append({'model_name': name, \n",
        "                        'model': neigh_clf, \n",
        "                        'parameters': neigh_clf.get_params()}, \n",
        "                       ignore_index=True)\n",
        "models_test = models_test.append({'model_name': name, \n",
        "                                  'confusion_matrix' : cfm, \n",
        "                                  'accuracy': acc, \n",
        "                                  'recall' : recs, \n",
        "                                  'f1_score': f1s,\n",
        "                                  'roc_auc_score': rocs}, \n",
        "                                 ignore_index=True)"
      ],
      "metadata": {
        "id": "6ipUnKx7lOcR"
      },
      "execution_count": null,
      "outputs": []
    },
    {
      "cell_type": "markdown",
      "source": [
        "### Gradient Boosting Classifier"
      ],
      "metadata": {
        "id": "UGPEWY9GCv6l"
      }
    },
    {
      "cell_type": "code",
      "source": [
        "name = 'gboost_clf'\n",
        "\n",
        "gboost_clf = GradientBoostingClassifier(n_estimators = 500, \n",
        "                                        learning_rate = 0.1, \n",
        "                                        max_depth = 3,\n",
        "                                        random_state = 10\n",
        "                                        ).fit(X_train,y_train)\n",
        "y_true = y_val\n",
        "y_pred = gboost_clf.predict(X_val)\n",
        "cfm = confusion_matrix(y_true, y_pred).ravel()\n",
        "acc = accuracy_score(y_true, y_pred)\n",
        "recs = recall_score(y_true, y_pred, average='binary')\n",
        "f1s = f1_score(y_true, y_pred, average='binary')\n",
        "rocs = roc_auc_score(y_true, y_pred, average='macro')\n",
        "\n",
        "models_final = models_final.append({'model_name': name, \n",
        "                        'model': gboost_clf, \n",
        "                        'parameters': gboost_clf.get_params()}, \n",
        "                       ignore_index=True)\n",
        "models_test = models_test.append({'model_name': name, \n",
        "                                  'confusion_matrix' : cfm, \n",
        "                                  'accuracy': acc, \n",
        "                                  'recall' : recs, \n",
        "                                  'f1_score': f1s,\n",
        "                                  'roc_auc_score': rocs}, \n",
        "                                 ignore_index=True)"
      ],
      "metadata": {
        "id": "RC93uBQClPCz"
      },
      "execution_count": null,
      "outputs": []
    },
    {
      "cell_type": "markdown",
      "source": [
        "### XGBoost"
      ],
      "metadata": {
        "id": "8z_N7gYVdP7S"
      }
    },
    {
      "cell_type": "code",
      "source": [
        "name = 'xgboost_clf'\n",
        "\n",
        "xgboost_clf = XGBClassifier(n_estimators = 500, \n",
        "                            learning_rate = 0.1,\n",
        "                            max_depth = 3, \n",
        "                            random_state = 10\n",
        "                            ).fit(X_train,y_train)\n",
        "y_true = y_val\n",
        "y_pred = xgboost_clf.predict(X_val)\n",
        "cfm = confusion_matrix(y_true, y_pred).ravel()\n",
        "acc = accuracy_score(y_true, y_pred)\n",
        "recs = recall_score(y_true, y_pred, average='binary')\n",
        "f1s = f1_score(y_true, y_pred, average='binary')\n",
        "rocs = roc_auc_score(y_true, y_pred, average='macro')\n",
        "\n",
        "models_final = models_final.append({'model_name': name, \n",
        "                        'model': xgboost_clf, \n",
        "                        'parameters': xgboost_clf.get_params()}, \n",
        "                       ignore_index=True)\n",
        "models_test = models_test.append({'model_name': name, \n",
        "                                  'confusion_matrix' : cfm, \n",
        "                                  'accuracy': acc, \n",
        "                                  'recall' : recs, \n",
        "                                  'f1_score': f1s,\n",
        "                                  'roc_auc_score': rocs}, \n",
        "                                 ignore_index=True)"
      ],
      "metadata": {
        "id": "-Dn85u9BlPmO"
      },
      "execution_count": null,
      "outputs": []
    },
    {
      "cell_type": "markdown",
      "source": [
        "### LightGBM"
      ],
      "metadata": {
        "id": "W3GwSSZ1dTK0"
      }
    },
    {
      "cell_type": "code",
      "source": [
        "name = 'lightgbm_clf'\n",
        "\n",
        "lightgbm_clf = LGBMClassifier(n_estimators = 500, \n",
        "                              learning_rate = 0.1, \n",
        "                              max_depth = 3,\n",
        "                              random_state = 10\n",
        "                              ).fit(X_train,y_train)\n",
        "y_true = y_val\n",
        "y_pred = lightgbm_clf.predict(X_val)\n",
        "cfm = confusion_matrix(y_true, y_pred).ravel()\n",
        "acc = accuracy_score(y_true, y_pred)\n",
        "recs = recall_score(y_true, y_pred, average='binary')\n",
        "f1s = f1_score(y_true, y_pred, average='binary')\n",
        "rocs = roc_auc_score(y_true, y_pred, average='macro')\n",
        "\n",
        "models_final = models_final.append({'model_name': name, \n",
        "                        'model': lightgbm_clf, \n",
        "                        'parameters': lightgbm_clf.get_params()}, \n",
        "                       ignore_index=True)\n",
        "models_test = models_test.append({'model_name': name, \n",
        "                                  'confusion_matrix' : cfm, \n",
        "                                  'accuracy': acc, \n",
        "                                  'recall' : recs, \n",
        "                                  'f1_score': f1s,\n",
        "                                  'roc_auc_score': rocs}, \n",
        "                                 ignore_index=True)"
      ],
      "metadata": {
        "id": "SKOz24WqlRib"
      },
      "execution_count": null,
      "outputs": []
    },
    {
      "cell_type": "markdown",
      "source": [
        "### Artificial Neural Network"
      ],
      "metadata": {
        "id": "D8jiVoE5Cylc"
      }
    },
    {
      "cell_type": "code",
      "source": [],
      "metadata": {
        "id": "rPK5XbMJlRQL"
      },
      "execution_count": null,
      "outputs": []
    },
    {
      "cell_type": "markdown",
      "source": [
        "### Ensemble Learning"
      ],
      "metadata": {
        "id": "zX4Psi4fC0XP"
      }
    },
    {
      "cell_type": "code",
      "source": [
        "display(models_test)"
      ],
      "metadata": {
        "id": "0g77K79wq-RX"
      },
      "execution_count": null,
      "outputs": []
    },
    {
      "cell_type": "code",
      "source": [
        "name = 'ensem_clf'\n",
        "\n",
        "ensem_clf = VotingClassifier(estimators=[('m1', rnd_clf), ('m2', xgboost_clf), ('m3', lightgbm_clf)],\n",
        "                             voting = 'hard',\n",
        "                             n_jobs = -1, \n",
        "                             ).fit(X_train,y_train)\n",
        "y_true = y_val\n",
        "y_pred = ensem_clf.predict(X_val)\n",
        "cfm = confusion_matrix(y_true, y_pred).ravel()\n",
        "acc = accuracy_score(y_true, y_pred)\n",
        "recs = recall_score(y_true, y_pred, average='binary')\n",
        "f1s = f1_score(y_true, y_pred, average='binary')\n",
        "rocs = roc_auc_score(y_true, y_pred, average='macro')\n",
        "\n",
        "models_final = models_final.append({'model_name': name, \n",
        "                        'model': ensem_clf, \n",
        "                        'parameters': ensem_clf.get_params()}, \n",
        "                       ignore_index=True)\n",
        "models_test = models_test.append({'model_name': name, \n",
        "                                  'confusion_matrix' : cfm, \n",
        "                                  'accuracy': acc, \n",
        "                                  'recall' : recs, \n",
        "                                  'f1_score': f1s,\n",
        "                                  'roc_auc_score': rocs}, \n",
        "                                 ignore_index=True)"
      ],
      "metadata": {
        "id": "VntYAiqDlQ4Q"
      },
      "execution_count": null,
      "outputs": []
    },
    {
      "cell_type": "markdown",
      "source": [
        "## Discussion & Conclusion"
      ],
      "metadata": {
        "id": "vZo494q1m9qN"
      }
    },
    {
      "cell_type": "code",
      "source": [
        "display(models_final)"
      ],
      "metadata": {
        "id": "UM1XgjqGhMrJ"
      },
      "execution_count": null,
      "outputs": []
    },
    {
      "cell_type": "code",
      "source": [
        "display(models_test)"
      ],
      "metadata": {
        "id": "SWxLtNnChO9P"
      },
      "execution_count": null,
      "outputs": []
    },
    {
      "cell_type": "markdown",
      "source": [
        "After model testing, the best model identified is ..."
      ],
      "metadata": {
        "id": "MlFa0SBknDUZ"
      }
    }
  ]
}