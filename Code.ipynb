{
  "nbformat": 4,
  "nbformat_minor": 0,
  "metadata": {
    "colab": {
      "provenance": [],
      "collapsed_sections": []
    },
    "kernelspec": {
      "name": "python3",
      "display_name": "Python 3"
    },
    "language_info": {
      "name": "python"
    }
  },
  "cells": [
    {
      "cell_type": "markdown",
      "source": [
        "# Forest Fire XD Senior Project\n",
        "By: Manapat Weeramongkolkul\n",
        "\n",
        "Supanida Suwankesawong\n"
      ],
      "metadata": {
        "id": "Ce2pAT0pwzT5"
      }
    },
    {
      "cell_type": "markdown",
      "source": [
        "## Data Exploration"
      ],
      "metadata": {
        "id": "BXIPCato_1lt"
      }
    },
    {
      "cell_type": "code",
      "source": [
        "# Importing relevant libraries\n",
        "\n",
        "import pandas as pd\n",
        "import numpy as np\n",
        "from datetime import datetime\n",
        "!pip install pyjanitor\n",
        "import janitor"
      ],
      "metadata": {
        "id": "wy_LrWp0_nvJ",
        "colab": {
          "base_uri": "https://localhost:8080/"
        },
        "outputId": "8592c859-ae99-4b8e-d536-b2f9d6331709"
      },
      "execution_count": null,
      "outputs": [
        {
          "output_type": "stream",
          "name": "stdout",
          "text": [
            "Looking in indexes: https://pypi.org/simple, https://us-python.pkg.dev/colab-wheels/public/simple/\n",
            "Requirement already satisfied: pyjanitor in /usr/local/lib/python3.7/dist-packages (0.23.1)\n",
            "Requirement already satisfied: multipledispatch in /usr/local/lib/python3.7/dist-packages (from pyjanitor) (0.6.0)\n",
            "Requirement already satisfied: scipy in /usr/local/lib/python3.7/dist-packages (from pyjanitor) (1.7.3)\n",
            "Requirement already satisfied: pandas-flavor in /usr/local/lib/python3.7/dist-packages (from pyjanitor) (0.2.0)\n",
            "Requirement already satisfied: natsort in /usr/local/lib/python3.7/dist-packages (from pyjanitor) (5.5.0)\n",
            "Requirement already satisfied: six in /usr/local/lib/python3.7/dist-packages (from multipledispatch->pyjanitor) (1.15.0)\n",
            "Requirement already satisfied: xarray in /usr/local/lib/python3.7/dist-packages (from pandas-flavor->pyjanitor) (0.20.2)\n",
            "Requirement already satisfied: pandas in /usr/local/lib/python3.7/dist-packages (from pandas-flavor->pyjanitor) (1.3.5)\n",
            "Requirement already satisfied: pytz>=2017.3 in /usr/local/lib/python3.7/dist-packages (from pandas->pandas-flavor->pyjanitor) (2022.4)\n",
            "Requirement already satisfied: python-dateutil>=2.7.3 in /usr/local/lib/python3.7/dist-packages (from pandas->pandas-flavor->pyjanitor) (2.8.2)\n",
            "Requirement already satisfied: numpy>=1.17.3 in /usr/local/lib/python3.7/dist-packages (from pandas->pandas-flavor->pyjanitor) (1.21.6)\n",
            "Requirement already satisfied: importlib-metadata in /usr/local/lib/python3.7/dist-packages (from xarray->pandas-flavor->pyjanitor) (5.0.0)\n",
            "Requirement already satisfied: typing-extensions>=3.7 in /usr/local/lib/python3.7/dist-packages (from xarray->pandas-flavor->pyjanitor) (4.1.1)\n",
            "Requirement already satisfied: zipp>=0.5 in /usr/local/lib/python3.7/dist-packages (from importlib-metadata->xarray->pandas-flavor->pyjanitor) (3.8.1)\n"
          ]
        }
      ]
    },
    {
      "cell_type": "code",
      "source": [
        "# Connect colab and drive\n",
        "\n",
        "from google.colab import drive\n",
        "drive.mount('/content/drive')"
      ],
      "metadata": {
        "id": "pFWkym5NA0jI",
        "colab": {
          "base_uri": "https://localhost:8080/"
        },
        "outputId": "ff7f098c-4da8-4953-d823-123aa950145f"
      },
      "execution_count": null,
      "outputs": [
        {
          "output_type": "stream",
          "name": "stdout",
          "text": [
            "Drive already mounted at /content/drive; to attempt to forcibly remount, call drive.mount(\"/content/drive\", force_remount=True).\n"
          ]
        }
      ]
    },
    {
      "cell_type": "code",
      "source": [
        "df1 = pd.read_excel(\"/content/drive/MyDrive/Senior Project/Datasets/Results from 2020-2-4 till 2020-7-28 (Only Northern provinces).xlsx\")\n",
        "df1.head()"
      ],
      "metadata": {
        "id": "uqFfxnAH3TB7",
        "colab": {
          "base_uri": "https://localhost:8080/",
          "height": 444
        },
        "outputId": "819fe07b-04a4-4790-fec8-53ccc3854142"
      },
      "execution_count": null,
      "outputs": [
        {
          "output_type": "execute_result",
          "data": {
            "text/plain": [
              "      id stationID                         nameTH  \\\n",
              "0  67972       o25   ที่ว่าการอำเภอเมืองกำแพงเพชร   \n",
              "1  68096       o25   ที่ว่าการอำเภอเมืองกำแพงเพชร   \n",
              "2  68220       o25   ที่ว่าการอำเภอเมืองกำแพงเพชร   \n",
              "3  68344       o25   ที่ว่าการอำเภอเมืองกำแพงเพชร   \n",
              "4  68469       o25   ที่ว่าการอำเภอเมืองกำแพงเพชร   \n",
              "\n",
              "                          nameEN stationType       lat       long    date_aq  \\\n",
              "0                            NaN      MOBILE  16.48515  99.524454 2020-02-27   \n",
              "1                            NaN      MOBILE  16.48515  99.524454 2020-02-27   \n",
              "2                            NaN      MOBILE  16.48515  99.524454 2020-02-27   \n",
              "3  District Hall, Kamphaeng Phet      MOBILE  16.48515  99.524454 2020-02-27   \n",
              "4  District Hall, Kamphaeng Phet      MOBILE  16.48515  99.524454 2020-02-27   \n",
              "\n",
              "    time_aq  PM25  PM10  NO2  SO2  CO  O3  AQI                         areaTH  \\\n",
              "0  07:00:00  72.0   NaN  NaN  NaN NaN NaN    4             อ.เมือง ,กำแพงเพชร   \n",
              "1  08:00:00  74.0   NaN  NaN  NaN NaN NaN    4             อ.เมือง ,กำแพงเพชร   \n",
              "2  09:00:00  77.0   NaN  NaN  NaN NaN NaN    4             อ.เมือง ,กำแพงเพชร   \n",
              "3  10:00:00  79.0   NaN  NaN  NaN NaN NaN    4            ต.ในเมือง, อ.เมือง    \n",
              "4  11:00:00  80.0   NaN  NaN  NaN NaN NaN    4   ต.ในเมือง, อ.เมือง,กำแพงเพชร   \n",
              "\n",
              "                   areaEN         datetime_aq  \n",
              "0                     NaN 2020-02-27 07:00:00  \n",
              "1                     NaN 2020-02-27 08:00:00  \n",
              "2                     NaN 2020-02-27 09:00:00  \n",
              "3  Mueang, Kamphaeng Phet 2020-02-27 10:00:00  \n",
              "4  Mueang, Kamphaeng Phet 2020-02-27 11:00:00  "
            ],
            "text/html": [
              "\n",
              "  <div id=\"df-87bb915b-9282-4ade-92ef-2cceba48b43c\">\n",
              "    <div class=\"colab-df-container\">\n",
              "      <div>\n",
              "<style scoped>\n",
              "    .dataframe tbody tr th:only-of-type {\n",
              "        vertical-align: middle;\n",
              "    }\n",
              "\n",
              "    .dataframe tbody tr th {\n",
              "        vertical-align: top;\n",
              "    }\n",
              "\n",
              "    .dataframe thead th {\n",
              "        text-align: right;\n",
              "    }\n",
              "</style>\n",
              "<table border=\"1\" class=\"dataframe\">\n",
              "  <thead>\n",
              "    <tr style=\"text-align: right;\">\n",
              "      <th></th>\n",
              "      <th>id</th>\n",
              "      <th>stationID</th>\n",
              "      <th>nameTH</th>\n",
              "      <th>nameEN</th>\n",
              "      <th>stationType</th>\n",
              "      <th>lat</th>\n",
              "      <th>long</th>\n",
              "      <th>date_aq</th>\n",
              "      <th>time_aq</th>\n",
              "      <th>PM25</th>\n",
              "      <th>PM10</th>\n",
              "      <th>NO2</th>\n",
              "      <th>SO2</th>\n",
              "      <th>CO</th>\n",
              "      <th>O3</th>\n",
              "      <th>AQI</th>\n",
              "      <th>areaTH</th>\n",
              "      <th>areaEN</th>\n",
              "      <th>datetime_aq</th>\n",
              "    </tr>\n",
              "  </thead>\n",
              "  <tbody>\n",
              "    <tr>\n",
              "      <th>0</th>\n",
              "      <td>67972</td>\n",
              "      <td>o25</td>\n",
              "      <td>ที่ว่าการอำเภอเมืองกำแพงเพชร</td>\n",
              "      <td>NaN</td>\n",
              "      <td>MOBILE</td>\n",
              "      <td>16.48515</td>\n",
              "      <td>99.524454</td>\n",
              "      <td>2020-02-27</td>\n",
              "      <td>07:00:00</td>\n",
              "      <td>72.0</td>\n",
              "      <td>NaN</td>\n",
              "      <td>NaN</td>\n",
              "      <td>NaN</td>\n",
              "      <td>NaN</td>\n",
              "      <td>NaN</td>\n",
              "      <td>4</td>\n",
              "      <td>อ.เมือง ,กำแพงเพชร</td>\n",
              "      <td>NaN</td>\n",
              "      <td>2020-02-27 07:00:00</td>\n",
              "    </tr>\n",
              "    <tr>\n",
              "      <th>1</th>\n",
              "      <td>68096</td>\n",
              "      <td>o25</td>\n",
              "      <td>ที่ว่าการอำเภอเมืองกำแพงเพชร</td>\n",
              "      <td>NaN</td>\n",
              "      <td>MOBILE</td>\n",
              "      <td>16.48515</td>\n",
              "      <td>99.524454</td>\n",
              "      <td>2020-02-27</td>\n",
              "      <td>08:00:00</td>\n",
              "      <td>74.0</td>\n",
              "      <td>NaN</td>\n",
              "      <td>NaN</td>\n",
              "      <td>NaN</td>\n",
              "      <td>NaN</td>\n",
              "      <td>NaN</td>\n",
              "      <td>4</td>\n",
              "      <td>อ.เมือง ,กำแพงเพชร</td>\n",
              "      <td>NaN</td>\n",
              "      <td>2020-02-27 08:00:00</td>\n",
              "    </tr>\n",
              "    <tr>\n",
              "      <th>2</th>\n",
              "      <td>68220</td>\n",
              "      <td>o25</td>\n",
              "      <td>ที่ว่าการอำเภอเมืองกำแพงเพชร</td>\n",
              "      <td>NaN</td>\n",
              "      <td>MOBILE</td>\n",
              "      <td>16.48515</td>\n",
              "      <td>99.524454</td>\n",
              "      <td>2020-02-27</td>\n",
              "      <td>09:00:00</td>\n",
              "      <td>77.0</td>\n",
              "      <td>NaN</td>\n",
              "      <td>NaN</td>\n",
              "      <td>NaN</td>\n",
              "      <td>NaN</td>\n",
              "      <td>NaN</td>\n",
              "      <td>4</td>\n",
              "      <td>อ.เมือง ,กำแพงเพชร</td>\n",
              "      <td>NaN</td>\n",
              "      <td>2020-02-27 09:00:00</td>\n",
              "    </tr>\n",
              "    <tr>\n",
              "      <th>3</th>\n",
              "      <td>68344</td>\n",
              "      <td>o25</td>\n",
              "      <td>ที่ว่าการอำเภอเมืองกำแพงเพชร</td>\n",
              "      <td>District Hall, Kamphaeng Phet</td>\n",
              "      <td>MOBILE</td>\n",
              "      <td>16.48515</td>\n",
              "      <td>99.524454</td>\n",
              "      <td>2020-02-27</td>\n",
              "      <td>10:00:00</td>\n",
              "      <td>79.0</td>\n",
              "      <td>NaN</td>\n",
              "      <td>NaN</td>\n",
              "      <td>NaN</td>\n",
              "      <td>NaN</td>\n",
              "      <td>NaN</td>\n",
              "      <td>4</td>\n",
              "      <td>ต.ในเมือง, อ.เมือง</td>\n",
              "      <td>Mueang, Kamphaeng Phet</td>\n",
              "      <td>2020-02-27 10:00:00</td>\n",
              "    </tr>\n",
              "    <tr>\n",
              "      <th>4</th>\n",
              "      <td>68469</td>\n",
              "      <td>o25</td>\n",
              "      <td>ที่ว่าการอำเภอเมืองกำแพงเพชร</td>\n",
              "      <td>District Hall, Kamphaeng Phet</td>\n",
              "      <td>MOBILE</td>\n",
              "      <td>16.48515</td>\n",
              "      <td>99.524454</td>\n",
              "      <td>2020-02-27</td>\n",
              "      <td>11:00:00</td>\n",
              "      <td>80.0</td>\n",
              "      <td>NaN</td>\n",
              "      <td>NaN</td>\n",
              "      <td>NaN</td>\n",
              "      <td>NaN</td>\n",
              "      <td>NaN</td>\n",
              "      <td>4</td>\n",
              "      <td>ต.ในเมือง, อ.เมือง,กำแพงเพชร</td>\n",
              "      <td>Mueang, Kamphaeng Phet</td>\n",
              "      <td>2020-02-27 11:00:00</td>\n",
              "    </tr>\n",
              "  </tbody>\n",
              "</table>\n",
              "</div>\n",
              "      <button class=\"colab-df-convert\" onclick=\"convertToInteractive('df-87bb915b-9282-4ade-92ef-2cceba48b43c')\"\n",
              "              title=\"Convert this dataframe to an interactive table.\"\n",
              "              style=\"display:none;\">\n",
              "        \n",
              "  <svg xmlns=\"http://www.w3.org/2000/svg\" height=\"24px\"viewBox=\"0 0 24 24\"\n",
              "       width=\"24px\">\n",
              "    <path d=\"M0 0h24v24H0V0z\" fill=\"none\"/>\n",
              "    <path d=\"M18.56 5.44l.94 2.06.94-2.06 2.06-.94-2.06-.94-.94-2.06-.94 2.06-2.06.94zm-11 1L8.5 8.5l.94-2.06 2.06-.94-2.06-.94L8.5 2.5l-.94 2.06-2.06.94zm10 10l.94 2.06.94-2.06 2.06-.94-2.06-.94-.94-2.06-.94 2.06-2.06.94z\"/><path d=\"M17.41 7.96l-1.37-1.37c-.4-.4-.92-.59-1.43-.59-.52 0-1.04.2-1.43.59L10.3 9.45l-7.72 7.72c-.78.78-.78 2.05 0 2.83L4 21.41c.39.39.9.59 1.41.59.51 0 1.02-.2 1.41-.59l7.78-7.78 2.81-2.81c.8-.78.8-2.07 0-2.86zM5.41 20L4 18.59l7.72-7.72 1.47 1.35L5.41 20z\"/>\n",
              "  </svg>\n",
              "      </button>\n",
              "      \n",
              "  <style>\n",
              "    .colab-df-container {\n",
              "      display:flex;\n",
              "      flex-wrap:wrap;\n",
              "      gap: 12px;\n",
              "    }\n",
              "\n",
              "    .colab-df-convert {\n",
              "      background-color: #E8F0FE;\n",
              "      border: none;\n",
              "      border-radius: 50%;\n",
              "      cursor: pointer;\n",
              "      display: none;\n",
              "      fill: #1967D2;\n",
              "      height: 32px;\n",
              "      padding: 0 0 0 0;\n",
              "      width: 32px;\n",
              "    }\n",
              "\n",
              "    .colab-df-convert:hover {\n",
              "      background-color: #E2EBFA;\n",
              "      box-shadow: 0px 1px 2px rgba(60, 64, 67, 0.3), 0px 1px 3px 1px rgba(60, 64, 67, 0.15);\n",
              "      fill: #174EA6;\n",
              "    }\n",
              "\n",
              "    [theme=dark] .colab-df-convert {\n",
              "      background-color: #3B4455;\n",
              "      fill: #D2E3FC;\n",
              "    }\n",
              "\n",
              "    [theme=dark] .colab-df-convert:hover {\n",
              "      background-color: #434B5C;\n",
              "      box-shadow: 0px 1px 3px 1px rgba(0, 0, 0, 0.15);\n",
              "      filter: drop-shadow(0px 1px 2px rgba(0, 0, 0, 0.3));\n",
              "      fill: #FFFFFF;\n",
              "    }\n",
              "  </style>\n",
              "\n",
              "      <script>\n",
              "        const buttonEl =\n",
              "          document.querySelector('#df-87bb915b-9282-4ade-92ef-2cceba48b43c button.colab-df-convert');\n",
              "        buttonEl.style.display =\n",
              "          google.colab.kernel.accessAllowed ? 'block' : 'none';\n",
              "\n",
              "        async function convertToInteractive(key) {\n",
              "          const element = document.querySelector('#df-87bb915b-9282-4ade-92ef-2cceba48b43c');\n",
              "          const dataTable =\n",
              "            await google.colab.kernel.invokeFunction('convertToInteractive',\n",
              "                                                     [key], {});\n",
              "          if (!dataTable) return;\n",
              "\n",
              "          const docLinkHtml = 'Like what you see? Visit the ' +\n",
              "            '<a target=\"_blank\" href=https://colab.research.google.com/notebooks/data_table.ipynb>data table notebook</a>'\n",
              "            + ' to learn more about interactive tables.';\n",
              "          element.innerHTML = '';\n",
              "          dataTable['output_type'] = 'display_data';\n",
              "          await google.colab.output.renderOutput(dataTable, element);\n",
              "          const docLink = document.createElement('div');\n",
              "          docLink.innerHTML = docLinkHtml;\n",
              "          element.appendChild(docLink);\n",
              "        }\n",
              "      </script>\n",
              "    </div>\n",
              "  </div>\n",
              "  "
            ]
          },
          "metadata": {},
          "execution_count": 41
        }
      ]
    },
    {
      "cell_type": "code",
      "source": [
        "df2 = pd.read_excel(\"/content/drive/MyDrive/Senior Project/Datasets/Results from 2020-7-20 till 2021-10-18 (Only Northern provinces).xlsx\")\n",
        "df2.head()"
      ],
      "metadata": {
        "id": "kVf2G1De5uoS",
        "colab": {
          "base_uri": "https://localhost:8080/",
          "height": 424
        },
        "outputId": "2b666051-58e1-41d3-b3c3-2bab96bc1afd"
      },
      "execution_count": null,
      "outputs": [
        {
          "output_type": "execute_result",
          "data": {
            "text/plain": [
              "       id stationID                         nameTH  \\\n",
              "0  912168       o21   ที่ว่าการอำเภอเมืองกำแพงเพชร   \n",
              "1  912302       o21   ที่ว่าการอำเภอเมืองกำแพงเพชร   \n",
              "2  912436       o21   ที่ว่าการอำเภอเมืองกำแพงเพชร   \n",
              "3  912570       o21   ที่ว่าการอำเภอเมืองกำแพงเพชร   \n",
              "4  912704       o21   ที่ว่าการอำเภอเมืองกำแพงเพชร   \n",
              "\n",
              "                          nameEN stationType       lat       long    date_aq  \\\n",
              "0  District Hall, Kamphaeng Phet      MOBILE  16.48515  99.524454 2020-11-29   \n",
              "1  District Hall, Kamphaeng Phet      MOBILE  16.48515  99.524454 2020-11-29   \n",
              "2  District Hall, Kamphaeng Phet      MOBILE  16.48515  99.524454 2020-11-29   \n",
              "3  District Hall, Kamphaeng Phet      MOBILE  16.48515  99.524454 2020-11-29   \n",
              "4  District Hall, Kamphaeng Phet      MOBILE  16.48515  99.524454 2020-11-29   \n",
              "\n",
              "    time_aq  PM25  PM10  NO2  SO2  CO  O3  AQI                        areaTH  \\\n",
              "0  14:00:00  22.0   NaN  NaN  NaN NaN NaN    1  ต.ในเมือง อ.เมือง, กำแพงเพชร   \n",
              "1  15:00:00  22.0   NaN  NaN  NaN NaN NaN    1  ต.ในเมือง อ.เมือง, กำแพงเพชร   \n",
              "2  16:00:00  22.0   NaN  NaN  NaN NaN NaN    1  ต.ในเมือง อ.เมือง, กำแพงเพชร   \n",
              "3  17:00:00  22.0   NaN  NaN  NaN NaN NaN    1  ต.ในเมือง อ.เมือง, กำแพงเพชร   \n",
              "4  18:00:00  22.0   NaN  NaN  NaN NaN NaN    1  ต.ในเมือง อ.เมือง, กำแพงเพชร   \n",
              "\n",
              "                   areaEN         datetime_aq  \n",
              "0  Mueang, Kamphaeng Phet 2020-11-29 14:00:00  \n",
              "1  Mueang, Kamphaeng Phet 2020-11-29 15:00:00  \n",
              "2  Mueang, Kamphaeng Phet 2020-11-29 16:00:00  \n",
              "3  Mueang, Kamphaeng Phet 2020-11-29 17:00:00  \n",
              "4  Mueang, Kamphaeng Phet 2020-11-29 18:00:00  "
            ],
            "text/html": [
              "\n",
              "  <div id=\"df-e39c05a4-ea69-4eee-b58f-d485224e869e\">\n",
              "    <div class=\"colab-df-container\">\n",
              "      <div>\n",
              "<style scoped>\n",
              "    .dataframe tbody tr th:only-of-type {\n",
              "        vertical-align: middle;\n",
              "    }\n",
              "\n",
              "    .dataframe tbody tr th {\n",
              "        vertical-align: top;\n",
              "    }\n",
              "\n",
              "    .dataframe thead th {\n",
              "        text-align: right;\n",
              "    }\n",
              "</style>\n",
              "<table border=\"1\" class=\"dataframe\">\n",
              "  <thead>\n",
              "    <tr style=\"text-align: right;\">\n",
              "      <th></th>\n",
              "      <th>id</th>\n",
              "      <th>stationID</th>\n",
              "      <th>nameTH</th>\n",
              "      <th>nameEN</th>\n",
              "      <th>stationType</th>\n",
              "      <th>lat</th>\n",
              "      <th>long</th>\n",
              "      <th>date_aq</th>\n",
              "      <th>time_aq</th>\n",
              "      <th>PM25</th>\n",
              "      <th>PM10</th>\n",
              "      <th>NO2</th>\n",
              "      <th>SO2</th>\n",
              "      <th>CO</th>\n",
              "      <th>O3</th>\n",
              "      <th>AQI</th>\n",
              "      <th>areaTH</th>\n",
              "      <th>areaEN</th>\n",
              "      <th>datetime_aq</th>\n",
              "    </tr>\n",
              "  </thead>\n",
              "  <tbody>\n",
              "    <tr>\n",
              "      <th>0</th>\n",
              "      <td>912168</td>\n",
              "      <td>o21</td>\n",
              "      <td>ที่ว่าการอำเภอเมืองกำแพงเพชร</td>\n",
              "      <td>District Hall, Kamphaeng Phet</td>\n",
              "      <td>MOBILE</td>\n",
              "      <td>16.48515</td>\n",
              "      <td>99.524454</td>\n",
              "      <td>2020-11-29</td>\n",
              "      <td>14:00:00</td>\n",
              "      <td>22.0</td>\n",
              "      <td>NaN</td>\n",
              "      <td>NaN</td>\n",
              "      <td>NaN</td>\n",
              "      <td>NaN</td>\n",
              "      <td>NaN</td>\n",
              "      <td>1</td>\n",
              "      <td>ต.ในเมือง อ.เมือง, กำแพงเพชร</td>\n",
              "      <td>Mueang, Kamphaeng Phet</td>\n",
              "      <td>2020-11-29 14:00:00</td>\n",
              "    </tr>\n",
              "    <tr>\n",
              "      <th>1</th>\n",
              "      <td>912302</td>\n",
              "      <td>o21</td>\n",
              "      <td>ที่ว่าการอำเภอเมืองกำแพงเพชร</td>\n",
              "      <td>District Hall, Kamphaeng Phet</td>\n",
              "      <td>MOBILE</td>\n",
              "      <td>16.48515</td>\n",
              "      <td>99.524454</td>\n",
              "      <td>2020-11-29</td>\n",
              "      <td>15:00:00</td>\n",
              "      <td>22.0</td>\n",
              "      <td>NaN</td>\n",
              "      <td>NaN</td>\n",
              "      <td>NaN</td>\n",
              "      <td>NaN</td>\n",
              "      <td>NaN</td>\n",
              "      <td>1</td>\n",
              "      <td>ต.ในเมือง อ.เมือง, กำแพงเพชร</td>\n",
              "      <td>Mueang, Kamphaeng Phet</td>\n",
              "      <td>2020-11-29 15:00:00</td>\n",
              "    </tr>\n",
              "    <tr>\n",
              "      <th>2</th>\n",
              "      <td>912436</td>\n",
              "      <td>o21</td>\n",
              "      <td>ที่ว่าการอำเภอเมืองกำแพงเพชร</td>\n",
              "      <td>District Hall, Kamphaeng Phet</td>\n",
              "      <td>MOBILE</td>\n",
              "      <td>16.48515</td>\n",
              "      <td>99.524454</td>\n",
              "      <td>2020-11-29</td>\n",
              "      <td>16:00:00</td>\n",
              "      <td>22.0</td>\n",
              "      <td>NaN</td>\n",
              "      <td>NaN</td>\n",
              "      <td>NaN</td>\n",
              "      <td>NaN</td>\n",
              "      <td>NaN</td>\n",
              "      <td>1</td>\n",
              "      <td>ต.ในเมือง อ.เมือง, กำแพงเพชร</td>\n",
              "      <td>Mueang, Kamphaeng Phet</td>\n",
              "      <td>2020-11-29 16:00:00</td>\n",
              "    </tr>\n",
              "    <tr>\n",
              "      <th>3</th>\n",
              "      <td>912570</td>\n",
              "      <td>o21</td>\n",
              "      <td>ที่ว่าการอำเภอเมืองกำแพงเพชร</td>\n",
              "      <td>District Hall, Kamphaeng Phet</td>\n",
              "      <td>MOBILE</td>\n",
              "      <td>16.48515</td>\n",
              "      <td>99.524454</td>\n",
              "      <td>2020-11-29</td>\n",
              "      <td>17:00:00</td>\n",
              "      <td>22.0</td>\n",
              "      <td>NaN</td>\n",
              "      <td>NaN</td>\n",
              "      <td>NaN</td>\n",
              "      <td>NaN</td>\n",
              "      <td>NaN</td>\n",
              "      <td>1</td>\n",
              "      <td>ต.ในเมือง อ.เมือง, กำแพงเพชร</td>\n",
              "      <td>Mueang, Kamphaeng Phet</td>\n",
              "      <td>2020-11-29 17:00:00</td>\n",
              "    </tr>\n",
              "    <tr>\n",
              "      <th>4</th>\n",
              "      <td>912704</td>\n",
              "      <td>o21</td>\n",
              "      <td>ที่ว่าการอำเภอเมืองกำแพงเพชร</td>\n",
              "      <td>District Hall, Kamphaeng Phet</td>\n",
              "      <td>MOBILE</td>\n",
              "      <td>16.48515</td>\n",
              "      <td>99.524454</td>\n",
              "      <td>2020-11-29</td>\n",
              "      <td>18:00:00</td>\n",
              "      <td>22.0</td>\n",
              "      <td>NaN</td>\n",
              "      <td>NaN</td>\n",
              "      <td>NaN</td>\n",
              "      <td>NaN</td>\n",
              "      <td>NaN</td>\n",
              "      <td>1</td>\n",
              "      <td>ต.ในเมือง อ.เมือง, กำแพงเพชร</td>\n",
              "      <td>Mueang, Kamphaeng Phet</td>\n",
              "      <td>2020-11-29 18:00:00</td>\n",
              "    </tr>\n",
              "  </tbody>\n",
              "</table>\n",
              "</div>\n",
              "      <button class=\"colab-df-convert\" onclick=\"convertToInteractive('df-e39c05a4-ea69-4eee-b58f-d485224e869e')\"\n",
              "              title=\"Convert this dataframe to an interactive table.\"\n",
              "              style=\"display:none;\">\n",
              "        \n",
              "  <svg xmlns=\"http://www.w3.org/2000/svg\" height=\"24px\"viewBox=\"0 0 24 24\"\n",
              "       width=\"24px\">\n",
              "    <path d=\"M0 0h24v24H0V0z\" fill=\"none\"/>\n",
              "    <path d=\"M18.56 5.44l.94 2.06.94-2.06 2.06-.94-2.06-.94-.94-2.06-.94 2.06-2.06.94zm-11 1L8.5 8.5l.94-2.06 2.06-.94-2.06-.94L8.5 2.5l-.94 2.06-2.06.94zm10 10l.94 2.06.94-2.06 2.06-.94-2.06-.94-.94-2.06-.94 2.06-2.06.94z\"/><path d=\"M17.41 7.96l-1.37-1.37c-.4-.4-.92-.59-1.43-.59-.52 0-1.04.2-1.43.59L10.3 9.45l-7.72 7.72c-.78.78-.78 2.05 0 2.83L4 21.41c.39.39.9.59 1.41.59.51 0 1.02-.2 1.41-.59l7.78-7.78 2.81-2.81c.8-.78.8-2.07 0-2.86zM5.41 20L4 18.59l7.72-7.72 1.47 1.35L5.41 20z\"/>\n",
              "  </svg>\n",
              "      </button>\n",
              "      \n",
              "  <style>\n",
              "    .colab-df-container {\n",
              "      display:flex;\n",
              "      flex-wrap:wrap;\n",
              "      gap: 12px;\n",
              "    }\n",
              "\n",
              "    .colab-df-convert {\n",
              "      background-color: #E8F0FE;\n",
              "      border: none;\n",
              "      border-radius: 50%;\n",
              "      cursor: pointer;\n",
              "      display: none;\n",
              "      fill: #1967D2;\n",
              "      height: 32px;\n",
              "      padding: 0 0 0 0;\n",
              "      width: 32px;\n",
              "    }\n",
              "\n",
              "    .colab-df-convert:hover {\n",
              "      background-color: #E2EBFA;\n",
              "      box-shadow: 0px 1px 2px rgba(60, 64, 67, 0.3), 0px 1px 3px 1px rgba(60, 64, 67, 0.15);\n",
              "      fill: #174EA6;\n",
              "    }\n",
              "\n",
              "    [theme=dark] .colab-df-convert {\n",
              "      background-color: #3B4455;\n",
              "      fill: #D2E3FC;\n",
              "    }\n",
              "\n",
              "    [theme=dark] .colab-df-convert:hover {\n",
              "      background-color: #434B5C;\n",
              "      box-shadow: 0px 1px 3px 1px rgba(0, 0, 0, 0.15);\n",
              "      filter: drop-shadow(0px 1px 2px rgba(0, 0, 0, 0.3));\n",
              "      fill: #FFFFFF;\n",
              "    }\n",
              "  </style>\n",
              "\n",
              "      <script>\n",
              "        const buttonEl =\n",
              "          document.querySelector('#df-e39c05a4-ea69-4eee-b58f-d485224e869e button.colab-df-convert');\n",
              "        buttonEl.style.display =\n",
              "          google.colab.kernel.accessAllowed ? 'block' : 'none';\n",
              "\n",
              "        async function convertToInteractive(key) {\n",
              "          const element = document.querySelector('#df-e39c05a4-ea69-4eee-b58f-d485224e869e');\n",
              "          const dataTable =\n",
              "            await google.colab.kernel.invokeFunction('convertToInteractive',\n",
              "                                                     [key], {});\n",
              "          if (!dataTable) return;\n",
              "\n",
              "          const docLinkHtml = 'Like what you see? Visit the ' +\n",
              "            '<a target=\"_blank\" href=https://colab.research.google.com/notebooks/data_table.ipynb>data table notebook</a>'\n",
              "            + ' to learn more about interactive tables.';\n",
              "          element.innerHTML = '';\n",
              "          dataTable['output_type'] = 'display_data';\n",
              "          await google.colab.output.renderOutput(dataTable, element);\n",
              "          const docLink = document.createElement('div');\n",
              "          docLink.innerHTML = docLinkHtml;\n",
              "          element.appendChild(docLink);\n",
              "        }\n",
              "      </script>\n",
              "    </div>\n",
              "  </div>\n",
              "  "
            ]
          },
          "metadata": {},
          "execution_count": 42
        }
      ]
    },
    {
      "cell_type": "code",
      "source": [
        "df3 = pd.read_csv(\"/content/drive/MyDrive/Senior Project/Datasets/MODIS_ChiangMai_1_1_2020 - 31_7_2020.csv\")\n",
        "df3['ACQ_DATE'] = pd.to_datetime(df3['ACQ_DATE'],format='%m/%d/%Y')\n",
        "df3['ACQ_DATE'] = df3['ACQ_DATE'].dt.strftime('%02m/%02d/%Y').astype(str)"
      ],
      "metadata": {
        "id": "T9-Pzlh1NMW7"
      },
      "execution_count": null,
      "outputs": []
    },
    {
      "cell_type": "code",
      "source": [
        "df4 = pd.read_csv(\"/content/drive/MyDrive/Senior Project/Datasets/MODIS_ChiangMai_20_7_2020 - 31_12_2020.csv\")\n",
        "df4['ACQ_DATE'] = pd.to_datetime(df4['ACQ_DATE'],format='%Y/%m/%d')\n",
        "df4['ACQ_DATE'] = df4['ACQ_DATE'].dt.strftime('%m/%d/%Y').astype(str)"
      ],
      "metadata": {
        "id": "09-_dpluNhLC"
      },
      "execution_count": null,
      "outputs": []
    },
    {
      "cell_type": "code",
      "source": [
        "df5 = pd.read_csv(\"/content/drive/MyDrive/Senior Project/Datasets/MODIS_ChiangMai_1_1_2021 - 30_9_2021.csv\")\n",
        "df5['ACQ_DATE'] = pd.to_datetime(df5['ACQ_DATE'],format='%Y/%m/%d')\n",
        "df5['ACQ_DATE'] = df5['ACQ_DATE'].dt.strftime('%m/%d/%Y').astype(str)"
      ],
      "metadata": {
        "id": "c5YuMm9DNUsT"
      },
      "execution_count": null,
      "outputs": []
    },
    {
      "cell_type": "code",
      "source": [
        "df6 = pd.read_csv(\"/content/drive/MyDrive/Senior Project/Datasets/VIIRS_ChiangMai_1_1_2020 - 31_7_2020.csv\")\n",
        "df6['ACQ_DATE'] = pd.to_datetime(df6['ACQ_DATE'],format='%Y/%m/%d')\n",
        "df6['ACQ_DATE'] = df6['ACQ_DATE'].dt.strftime('%m/%d/%Y').astype(str)"
      ],
      "metadata": {
        "id": "0uxKsZGVNhIU"
      },
      "execution_count": null,
      "outputs": []
    },
    {
      "cell_type": "code",
      "source": [
        "df7 = pd.read_csv(\"/content/drive/MyDrive/Senior Project/Datasets/VIIRS_ChiangMai_20_7_2020 - 31_12_2020.csv\")\n",
        "df7['ACQ_DATE'] = pd.to_datetime(df7['ACQ_DATE'],format='%Y/%m/%d')\n",
        "df7['ACQ_DATE'] = df7['ACQ_DATE'].dt.strftime('%m/%d/%Y').astype(str)"
      ],
      "metadata": {
        "id": "eSX6P1fyNg5k"
      },
      "execution_count": null,
      "outputs": []
    },
    {
      "cell_type": "code",
      "source": [
        "df8 = pd.read_csv(\"/content/drive/MyDrive/Senior Project/Datasets/VIIRS_ChiangMai_1_1_2021 - 30_9_2021.csv\")\n",
        "df8['ACQ_DATE'] = pd.to_datetime(df8['ACQ_DATE'],format='%Y/%m/%d')\n",
        "df8['ACQ_DATE'] = df8['ACQ_DATE'].dt.strftime('%m/%d/%Y').astype(str)"
      ],
      "metadata": {
        "id": "sFIyP5ZTNhD2"
      },
      "execution_count": null,
      "outputs": []
    },
    {
      "cell_type": "code",
      "source": [
        "working_data_1 = 0\n",
        "waste_data = 0\n",
        "test = []\n",
        "for index, row in df1.iterrows():\n",
        "  if (pd.notnull(row[\"PM25\"]) and pd.notnull(row[\"PM10\"]) and pd.notnull(row[\"NO2\"]) and pd.notnull(row[\"SO2\"]) and pd.notnull(row[\"CO\"]) and pd.notnull(row[\"O3\"])):\n",
        "    working_data_1 += 1\n",
        "    test.append({row[\"PM25\"],row[\"PM10\"], row[\"NO2\"],row[\"SO2\"],row[\"CO\"], row[\"O3\"]})\n",
        "  else:\n",
        "    waste_data += 1\n",
        "\n",
        "print(\"Working from the first dataset is :\", working_data_1)\n",
        "print(\"Waste from the first data set is :\", waste_data)\n",
        "print(\"Working percentage from the first dataset is :\", working_data_1/len(df1.index)*100, \"%\")\n",
        "print(test[:5])"
      ],
      "metadata": {
        "id": "-k7SIjhM5-sq"
      },
      "execution_count": null,
      "outputs": []
    },
    {
      "cell_type": "code",
      "source": [
        "working_data_2 = 0\n",
        "waste_data = 0\n",
        "test = []\n",
        "for index, row in df2.iterrows():\n",
        "  if (pd.notnull(row[\"PM25\"]) and pd.notnull(row[\"PM10\"]) and pd.notnull(row[\"NO2\"]) and pd.notnull(row[\"SO2\"]) and pd.notnull(row[\"CO\"]) and pd.notnull(row[\"O3\"])):\n",
        "    working_data_2 += 1\n",
        "    test.append({row[\"PM25\"],row[\"PM10\"], row[\"NO2\"],row[\"SO2\"],row[\"CO\"], row[\"O3\"]})\n",
        "  else:\n",
        "    waste_data += 1\n",
        "\n",
        "print(\"Working from the second dataset is :\", working_data_2)\n",
        "print(\"Waste from the second data set is :\", waste_data)\n",
        "print(\"Working percentage from the second dataset is :\", working_data_2/len(df2.index)*100, \"%\")\n",
        "print(test[:5])"
      ],
      "metadata": {
        "id": "W7uFf8Gv-nZb"
      },
      "execution_count": null,
      "outputs": []
    },
    {
      "cell_type": "code",
      "source": [
        "print(\"Total rows of data that can be used is :\" ,working_data_1+working_data_2)\n",
        "print(\"Total percentage of working data is :\", (working_data_1+working_data_2)/(len(df1.index)+len(df2.index))*100, \"%\")"
      ],
      "metadata": {
        "id": "wkW_Ikyc-oBh"
      },
      "execution_count": null,
      "outputs": []
    },
    {
      "cell_type": "code",
      "source": [
        "#merge dataframes\n",
        "ds1 =  pd.concat([df1.reset_index(drop=True), \n",
        "                  df2.reset_index(drop=True)], axis=0).reset_index(drop=True)\n",
        "ds2 = pd.concat([df3.reset_index(drop=True),\n",
        "                 df4.reset_index(drop=True),\n",
        "                 df5.reset_index(drop=True),\n",
        "                 df6.reset_index(drop=True),\n",
        "                 df7.reset_index(drop=True),\n",
        "                 df8.reset_index(drop=True)],axis=0).reset_index(drop=True)"
      ],
      "metadata": {
        "id": "d4kRaeBYfhs5"
      },
      "execution_count": null,
      "outputs": []
    },
    {
      "cell_type": "markdown",
      "source": [
        "## Data Labeling Pipeline"
      ],
      "metadata": {
        "id": "gav3mdZBwpfv"
      }
    },
    {
      "cell_type": "code",
      "source": [
        "# Convert FRP data to {0,1}\n",
        "ds2[\"FireOccurred\"]=(ds2['FRP'] > 100).astype(int)\n",
        "ds2.head()"
      ],
      "metadata": {
        "id": "9rqECrRuPHK3",
        "colab": {
          "base_uri": "https://localhost:8080/",
          "height": 206
        },
        "outputId": "d58e31ae-babc-46a2-e0d4-ad71be3bab66"
      },
      "execution_count": null,
      "outputs": [
        {
          "output_type": "execute_result",
          "data": {
            "text/plain": [
              "   LATITUDE  LONGITUDE    ACQ_DATE  ACQ_TIME SATELLITE   FRP DAYNIGHT  \\\n",
              "0   18.2293    98.4216  01/03/2020       654      Aqua  16.5        D   \n",
              "1   18.4900    98.3828  01/03/2020       654      Aqua  19.0        D   \n",
              "2   18.4913    98.3923  01/03/2020       654      Aqua   5.8        D   \n",
              "3   17.9233    98.7987  01/05/2020       641      Aqua   9.1        D   \n",
              "4   18.2463    98.4140  01/06/2020       418     Terra   6.9        D   \n",
              "\n",
              "   PROV_NAME_ INSTRUMENT PROV_NAME  FireOccurred  \n",
              "0  CHIANG MAI        NaN       NaN             0  \n",
              "1  CHIANG MAI        NaN       NaN             0  \n",
              "2  CHIANG MAI        NaN       NaN             0  \n",
              "3  CHIANG MAI        NaN       NaN             0  \n",
              "4  CHIANG MAI        NaN       NaN             0  "
            ],
            "text/html": [
              "\n",
              "  <div id=\"df-0aa95f69-929a-44e0-a040-af69129b2eec\">\n",
              "    <div class=\"colab-df-container\">\n",
              "      <div>\n",
              "<style scoped>\n",
              "    .dataframe tbody tr th:only-of-type {\n",
              "        vertical-align: middle;\n",
              "    }\n",
              "\n",
              "    .dataframe tbody tr th {\n",
              "        vertical-align: top;\n",
              "    }\n",
              "\n",
              "    .dataframe thead th {\n",
              "        text-align: right;\n",
              "    }\n",
              "</style>\n",
              "<table border=\"1\" class=\"dataframe\">\n",
              "  <thead>\n",
              "    <tr style=\"text-align: right;\">\n",
              "      <th></th>\n",
              "      <th>LATITUDE</th>\n",
              "      <th>LONGITUDE</th>\n",
              "      <th>ACQ_DATE</th>\n",
              "      <th>ACQ_TIME</th>\n",
              "      <th>SATELLITE</th>\n",
              "      <th>FRP</th>\n",
              "      <th>DAYNIGHT</th>\n",
              "      <th>PROV_NAME_</th>\n",
              "      <th>INSTRUMENT</th>\n",
              "      <th>PROV_NAME</th>\n",
              "      <th>FireOccurred</th>\n",
              "    </tr>\n",
              "  </thead>\n",
              "  <tbody>\n",
              "    <tr>\n",
              "      <th>0</th>\n",
              "      <td>18.2293</td>\n",
              "      <td>98.4216</td>\n",
              "      <td>01/03/2020</td>\n",
              "      <td>654</td>\n",
              "      <td>Aqua</td>\n",
              "      <td>16.5</td>\n",
              "      <td>D</td>\n",
              "      <td>CHIANG MAI</td>\n",
              "      <td>NaN</td>\n",
              "      <td>NaN</td>\n",
              "      <td>0</td>\n",
              "    </tr>\n",
              "    <tr>\n",
              "      <th>1</th>\n",
              "      <td>18.4900</td>\n",
              "      <td>98.3828</td>\n",
              "      <td>01/03/2020</td>\n",
              "      <td>654</td>\n",
              "      <td>Aqua</td>\n",
              "      <td>19.0</td>\n",
              "      <td>D</td>\n",
              "      <td>CHIANG MAI</td>\n",
              "      <td>NaN</td>\n",
              "      <td>NaN</td>\n",
              "      <td>0</td>\n",
              "    </tr>\n",
              "    <tr>\n",
              "      <th>2</th>\n",
              "      <td>18.4913</td>\n",
              "      <td>98.3923</td>\n",
              "      <td>01/03/2020</td>\n",
              "      <td>654</td>\n",
              "      <td>Aqua</td>\n",
              "      <td>5.8</td>\n",
              "      <td>D</td>\n",
              "      <td>CHIANG MAI</td>\n",
              "      <td>NaN</td>\n",
              "      <td>NaN</td>\n",
              "      <td>0</td>\n",
              "    </tr>\n",
              "    <tr>\n",
              "      <th>3</th>\n",
              "      <td>17.9233</td>\n",
              "      <td>98.7987</td>\n",
              "      <td>01/05/2020</td>\n",
              "      <td>641</td>\n",
              "      <td>Aqua</td>\n",
              "      <td>9.1</td>\n",
              "      <td>D</td>\n",
              "      <td>CHIANG MAI</td>\n",
              "      <td>NaN</td>\n",
              "      <td>NaN</td>\n",
              "      <td>0</td>\n",
              "    </tr>\n",
              "    <tr>\n",
              "      <th>4</th>\n",
              "      <td>18.2463</td>\n",
              "      <td>98.4140</td>\n",
              "      <td>01/06/2020</td>\n",
              "      <td>418</td>\n",
              "      <td>Terra</td>\n",
              "      <td>6.9</td>\n",
              "      <td>D</td>\n",
              "      <td>CHIANG MAI</td>\n",
              "      <td>NaN</td>\n",
              "      <td>NaN</td>\n",
              "      <td>0</td>\n",
              "    </tr>\n",
              "  </tbody>\n",
              "</table>\n",
              "</div>\n",
              "      <button class=\"colab-df-convert\" onclick=\"convertToInteractive('df-0aa95f69-929a-44e0-a040-af69129b2eec')\"\n",
              "              title=\"Convert this dataframe to an interactive table.\"\n",
              "              style=\"display:none;\">\n",
              "        \n",
              "  <svg xmlns=\"http://www.w3.org/2000/svg\" height=\"24px\"viewBox=\"0 0 24 24\"\n",
              "       width=\"24px\">\n",
              "    <path d=\"M0 0h24v24H0V0z\" fill=\"none\"/>\n",
              "    <path d=\"M18.56 5.44l.94 2.06.94-2.06 2.06-.94-2.06-.94-.94-2.06-.94 2.06-2.06.94zm-11 1L8.5 8.5l.94-2.06 2.06-.94-2.06-.94L8.5 2.5l-.94 2.06-2.06.94zm10 10l.94 2.06.94-2.06 2.06-.94-2.06-.94-.94-2.06-.94 2.06-2.06.94z\"/><path d=\"M17.41 7.96l-1.37-1.37c-.4-.4-.92-.59-1.43-.59-.52 0-1.04.2-1.43.59L10.3 9.45l-7.72 7.72c-.78.78-.78 2.05 0 2.83L4 21.41c.39.39.9.59 1.41.59.51 0 1.02-.2 1.41-.59l7.78-7.78 2.81-2.81c.8-.78.8-2.07 0-2.86zM5.41 20L4 18.59l7.72-7.72 1.47 1.35L5.41 20z\"/>\n",
              "  </svg>\n",
              "      </button>\n",
              "      \n",
              "  <style>\n",
              "    .colab-df-container {\n",
              "      display:flex;\n",
              "      flex-wrap:wrap;\n",
              "      gap: 12px;\n",
              "    }\n",
              "\n",
              "    .colab-df-convert {\n",
              "      background-color: #E8F0FE;\n",
              "      border: none;\n",
              "      border-radius: 50%;\n",
              "      cursor: pointer;\n",
              "      display: none;\n",
              "      fill: #1967D2;\n",
              "      height: 32px;\n",
              "      padding: 0 0 0 0;\n",
              "      width: 32px;\n",
              "    }\n",
              "\n",
              "    .colab-df-convert:hover {\n",
              "      background-color: #E2EBFA;\n",
              "      box-shadow: 0px 1px 2px rgba(60, 64, 67, 0.3), 0px 1px 3px 1px rgba(60, 64, 67, 0.15);\n",
              "      fill: #174EA6;\n",
              "    }\n",
              "\n",
              "    [theme=dark] .colab-df-convert {\n",
              "      background-color: #3B4455;\n",
              "      fill: #D2E3FC;\n",
              "    }\n",
              "\n",
              "    [theme=dark] .colab-df-convert:hover {\n",
              "      background-color: #434B5C;\n",
              "      box-shadow: 0px 1px 3px 1px rgba(0, 0, 0, 0.15);\n",
              "      filter: drop-shadow(0px 1px 2px rgba(0, 0, 0, 0.3));\n",
              "      fill: #FFFFFF;\n",
              "    }\n",
              "  </style>\n",
              "\n",
              "      <script>\n",
              "        const buttonEl =\n",
              "          document.querySelector('#df-0aa95f69-929a-44e0-a040-af69129b2eec button.colab-df-convert');\n",
              "        buttonEl.style.display =\n",
              "          google.colab.kernel.accessAllowed ? 'block' : 'none';\n",
              "\n",
              "        async function convertToInteractive(key) {\n",
              "          const element = document.querySelector('#df-0aa95f69-929a-44e0-a040-af69129b2eec');\n",
              "          const dataTable =\n",
              "            await google.colab.kernel.invokeFunction('convertToInteractive',\n",
              "                                                     [key], {});\n",
              "          if (!dataTable) return;\n",
              "\n",
              "          const docLinkHtml = 'Like what you see? Visit the ' +\n",
              "            '<a target=\"_blank\" href=https://colab.research.google.com/notebooks/data_table.ipynb>data table notebook</a>'\n",
              "            + ' to learn more about interactive tables.';\n",
              "          element.innerHTML = '';\n",
              "          dataTable['output_type'] = 'display_data';\n",
              "          await google.colab.output.renderOutput(dataTable, element);\n",
              "          const docLink = document.createElement('div');\n",
              "          docLink.innerHTML = docLinkHtml;\n",
              "          element.appendChild(docLink);\n",
              "        }\n",
              "      </script>\n",
              "    </div>\n",
              "  </div>\n",
              "  "
            ]
          },
          "metadata": {},
          "execution_count": 50
        }
      ]
    },
    {
      "cell_type": "markdown",
      "source": [
        "## Data Cleaning Pipeline"
      ],
      "metadata": {
        "id": "R5v8t7AuwwFG"
      }
    },
    {
      "cell_type": "code",
      "source": [
        "ds1['date_aq'] = pd.to_datetime(ds1['date_aq'],format='%m/%d/%Y')\n",
        "ds1['date_aq'] = ds1['date_aq'].dt.strftime('%m/%d/%Y').astype(str)"
      ],
      "metadata": {
        "id": "THjf6du7vHtv"
      },
      "execution_count": null,
      "outputs": []
    },
    {
      "cell_type": "code",
      "source": [
        "ds1 = ds1.drop_duplicates()\n",
        "ds2 = ds2.drop_duplicates()\n",
        "ds2.head()"
      ],
      "metadata": {
        "id": "5hUeb_cO_uy9",
        "colab": {
          "base_uri": "https://localhost:8080/",
          "height": 206
        },
        "outputId": "bbad62c2-a13e-4b94-a91f-3d98f0a19a9d"
      },
      "execution_count": null,
      "outputs": [
        {
          "output_type": "execute_result",
          "data": {
            "text/plain": [
              "   LATITUDE  LONGITUDE    ACQ_DATE  ACQ_TIME SATELLITE   FRP DAYNIGHT  \\\n",
              "0   18.2293    98.4216  01/03/2020       654      Aqua  16.5        D   \n",
              "1   18.4900    98.3828  01/03/2020       654      Aqua  19.0        D   \n",
              "2   18.4913    98.3923  01/03/2020       654      Aqua   5.8        D   \n",
              "3   17.9233    98.7987  01/05/2020       641      Aqua   9.1        D   \n",
              "4   18.2463    98.4140  01/06/2020       418     Terra   6.9        D   \n",
              "\n",
              "   PROV_NAME_ INSTRUMENT PROV_NAME  FireOccurred  \n",
              "0  CHIANG MAI        NaN       NaN             0  \n",
              "1  CHIANG MAI        NaN       NaN             0  \n",
              "2  CHIANG MAI        NaN       NaN             0  \n",
              "3  CHIANG MAI        NaN       NaN             0  \n",
              "4  CHIANG MAI        NaN       NaN             0  "
            ],
            "text/html": [
              "\n",
              "  <div id=\"df-9b3e8659-7afb-49ae-99d6-a080716e9b7c\">\n",
              "    <div class=\"colab-df-container\">\n",
              "      <div>\n",
              "<style scoped>\n",
              "    .dataframe tbody tr th:only-of-type {\n",
              "        vertical-align: middle;\n",
              "    }\n",
              "\n",
              "    .dataframe tbody tr th {\n",
              "        vertical-align: top;\n",
              "    }\n",
              "\n",
              "    .dataframe thead th {\n",
              "        text-align: right;\n",
              "    }\n",
              "</style>\n",
              "<table border=\"1\" class=\"dataframe\">\n",
              "  <thead>\n",
              "    <tr style=\"text-align: right;\">\n",
              "      <th></th>\n",
              "      <th>LATITUDE</th>\n",
              "      <th>LONGITUDE</th>\n",
              "      <th>ACQ_DATE</th>\n",
              "      <th>ACQ_TIME</th>\n",
              "      <th>SATELLITE</th>\n",
              "      <th>FRP</th>\n",
              "      <th>DAYNIGHT</th>\n",
              "      <th>PROV_NAME_</th>\n",
              "      <th>INSTRUMENT</th>\n",
              "      <th>PROV_NAME</th>\n",
              "      <th>FireOccurred</th>\n",
              "    </tr>\n",
              "  </thead>\n",
              "  <tbody>\n",
              "    <tr>\n",
              "      <th>0</th>\n",
              "      <td>18.2293</td>\n",
              "      <td>98.4216</td>\n",
              "      <td>01/03/2020</td>\n",
              "      <td>654</td>\n",
              "      <td>Aqua</td>\n",
              "      <td>16.5</td>\n",
              "      <td>D</td>\n",
              "      <td>CHIANG MAI</td>\n",
              "      <td>NaN</td>\n",
              "      <td>NaN</td>\n",
              "      <td>0</td>\n",
              "    </tr>\n",
              "    <tr>\n",
              "      <th>1</th>\n",
              "      <td>18.4900</td>\n",
              "      <td>98.3828</td>\n",
              "      <td>01/03/2020</td>\n",
              "      <td>654</td>\n",
              "      <td>Aqua</td>\n",
              "      <td>19.0</td>\n",
              "      <td>D</td>\n",
              "      <td>CHIANG MAI</td>\n",
              "      <td>NaN</td>\n",
              "      <td>NaN</td>\n",
              "      <td>0</td>\n",
              "    </tr>\n",
              "    <tr>\n",
              "      <th>2</th>\n",
              "      <td>18.4913</td>\n",
              "      <td>98.3923</td>\n",
              "      <td>01/03/2020</td>\n",
              "      <td>654</td>\n",
              "      <td>Aqua</td>\n",
              "      <td>5.8</td>\n",
              "      <td>D</td>\n",
              "      <td>CHIANG MAI</td>\n",
              "      <td>NaN</td>\n",
              "      <td>NaN</td>\n",
              "      <td>0</td>\n",
              "    </tr>\n",
              "    <tr>\n",
              "      <th>3</th>\n",
              "      <td>17.9233</td>\n",
              "      <td>98.7987</td>\n",
              "      <td>01/05/2020</td>\n",
              "      <td>641</td>\n",
              "      <td>Aqua</td>\n",
              "      <td>9.1</td>\n",
              "      <td>D</td>\n",
              "      <td>CHIANG MAI</td>\n",
              "      <td>NaN</td>\n",
              "      <td>NaN</td>\n",
              "      <td>0</td>\n",
              "    </tr>\n",
              "    <tr>\n",
              "      <th>4</th>\n",
              "      <td>18.2463</td>\n",
              "      <td>98.4140</td>\n",
              "      <td>01/06/2020</td>\n",
              "      <td>418</td>\n",
              "      <td>Terra</td>\n",
              "      <td>6.9</td>\n",
              "      <td>D</td>\n",
              "      <td>CHIANG MAI</td>\n",
              "      <td>NaN</td>\n",
              "      <td>NaN</td>\n",
              "      <td>0</td>\n",
              "    </tr>\n",
              "  </tbody>\n",
              "</table>\n",
              "</div>\n",
              "      <button class=\"colab-df-convert\" onclick=\"convertToInteractive('df-9b3e8659-7afb-49ae-99d6-a080716e9b7c')\"\n",
              "              title=\"Convert this dataframe to an interactive table.\"\n",
              "              style=\"display:none;\">\n",
              "        \n",
              "  <svg xmlns=\"http://www.w3.org/2000/svg\" height=\"24px\"viewBox=\"0 0 24 24\"\n",
              "       width=\"24px\">\n",
              "    <path d=\"M0 0h24v24H0V0z\" fill=\"none\"/>\n",
              "    <path d=\"M18.56 5.44l.94 2.06.94-2.06 2.06-.94-2.06-.94-.94-2.06-.94 2.06-2.06.94zm-11 1L8.5 8.5l.94-2.06 2.06-.94-2.06-.94L8.5 2.5l-.94 2.06-2.06.94zm10 10l.94 2.06.94-2.06 2.06-.94-2.06-.94-.94-2.06-.94 2.06-2.06.94z\"/><path d=\"M17.41 7.96l-1.37-1.37c-.4-.4-.92-.59-1.43-.59-.52 0-1.04.2-1.43.59L10.3 9.45l-7.72 7.72c-.78.78-.78 2.05 0 2.83L4 21.41c.39.39.9.59 1.41.59.51 0 1.02-.2 1.41-.59l7.78-7.78 2.81-2.81c.8-.78.8-2.07 0-2.86zM5.41 20L4 18.59l7.72-7.72 1.47 1.35L5.41 20z\"/>\n",
              "  </svg>\n",
              "      </button>\n",
              "      \n",
              "  <style>\n",
              "    .colab-df-container {\n",
              "      display:flex;\n",
              "      flex-wrap:wrap;\n",
              "      gap: 12px;\n",
              "    }\n",
              "\n",
              "    .colab-df-convert {\n",
              "      background-color: #E8F0FE;\n",
              "      border: none;\n",
              "      border-radius: 50%;\n",
              "      cursor: pointer;\n",
              "      display: none;\n",
              "      fill: #1967D2;\n",
              "      height: 32px;\n",
              "      padding: 0 0 0 0;\n",
              "      width: 32px;\n",
              "    }\n",
              "\n",
              "    .colab-df-convert:hover {\n",
              "      background-color: #E2EBFA;\n",
              "      box-shadow: 0px 1px 2px rgba(60, 64, 67, 0.3), 0px 1px 3px 1px rgba(60, 64, 67, 0.15);\n",
              "      fill: #174EA6;\n",
              "    }\n",
              "\n",
              "    [theme=dark] .colab-df-convert {\n",
              "      background-color: #3B4455;\n",
              "      fill: #D2E3FC;\n",
              "    }\n",
              "\n",
              "    [theme=dark] .colab-df-convert:hover {\n",
              "      background-color: #434B5C;\n",
              "      box-shadow: 0px 1px 3px 1px rgba(0, 0, 0, 0.15);\n",
              "      filter: drop-shadow(0px 1px 2px rgba(0, 0, 0, 0.3));\n",
              "      fill: #FFFFFF;\n",
              "    }\n",
              "  </style>\n",
              "\n",
              "      <script>\n",
              "        const buttonEl =\n",
              "          document.querySelector('#df-9b3e8659-7afb-49ae-99d6-a080716e9b7c button.colab-df-convert');\n",
              "        buttonEl.style.display =\n",
              "          google.colab.kernel.accessAllowed ? 'block' : 'none';\n",
              "\n",
              "        async function convertToInteractive(key) {\n",
              "          const element = document.querySelector('#df-9b3e8659-7afb-49ae-99d6-a080716e9b7c');\n",
              "          const dataTable =\n",
              "            await google.colab.kernel.invokeFunction('convertToInteractive',\n",
              "                                                     [key], {});\n",
              "          if (!dataTable) return;\n",
              "\n",
              "          const docLinkHtml = 'Like what you see? Visit the ' +\n",
              "            '<a target=\"_blank\" href=https://colab.research.google.com/notebooks/data_table.ipynb>data table notebook</a>'\n",
              "            + ' to learn more about interactive tables.';\n",
              "          element.innerHTML = '';\n",
              "          dataTable['output_type'] = 'display_data';\n",
              "          await google.colab.output.renderOutput(dataTable, element);\n",
              "          const docLink = document.createElement('div');\n",
              "          docLink.innerHTML = docLinkHtml;\n",
              "          element.appendChild(docLink);\n",
              "        }\n",
              "      </script>\n",
              "    </div>\n",
              "  </div>\n",
              "  "
            ]
          },
          "metadata": {},
          "execution_count": 52
        }
      ]
    },
    {
      "cell_type": "code",
      "source": [
        "def getTime(t):\n",
        "  if len(str(t))==3 :\n",
        "    return '0'+str(t)[0] + ':' + str(t)[1:]\n",
        "  elif len(str(t))==4 :\n",
        "    return str(t)[:2] + ':' + str(t)[2:]"
      ],
      "metadata": {
        "id": "-ikVacx_HCoU"
      },
      "execution_count": null,
      "outputs": []
    },
    {
      "cell_type": "code",
      "source": [
        "ds2['ACQ_TIME'] = ds2['ACQ_TIME'].apply(getTime)"
      ],
      "metadata": {
        "id": "PbB7S4fAJrly",
        "colab": {
          "base_uri": "https://localhost:8080/"
        },
        "outputId": "13362d23-5409-4a0b-bd90-905dc6a69838"
      },
      "execution_count": null,
      "outputs": [
        {
          "output_type": "stream",
          "name": "stderr",
          "text": [
            "/usr/local/lib/python3.7/dist-packages/ipykernel_launcher.py:1: SettingWithCopyWarning: \n",
            "A value is trying to be set on a copy of a slice from a DataFrame.\n",
            "Try using .loc[row_indexer,col_indexer] = value instead\n",
            "\n",
            "See the caveats in the documentation: https://pandas.pydata.org/pandas-docs/stable/user_guide/indexing.html#returning-a-view-versus-a-copy\n",
            "  \"\"\"Entry point for launching an IPython kernel.\n"
          ]
        }
      ]
    },
    {
      "cell_type": "code",
      "source": [
        "ds2.shape"
      ],
      "metadata": {
        "id": "a98DNpKTTieR",
        "colab": {
          "base_uri": "https://localhost:8080/"
        },
        "outputId": "0b174c77-94b5-4216-c776-8b3c863c152a"
      },
      "execution_count": null,
      "outputs": [
        {
          "output_type": "execute_result",
          "data": {
            "text/plain": [
              "(33527, 11)"
            ]
          },
          "metadata": {},
          "execution_count": 55
        }
      ]
    },
    {
      "cell_type": "code",
      "source": [
        "ds2[\"FireOccurred\"].sum()"
      ],
      "metadata": {
        "id": "4XmloDUNTMZD",
        "colab": {
          "base_uri": "https://localhost:8080/"
        },
        "outputId": "8c32cc70-1cbf-4c04-a750-bfcf2108852b"
      },
      "execution_count": null,
      "outputs": [
        {
          "output_type": "execute_result",
          "data": {
            "text/plain": [
              "82"
            ]
          },
          "metadata": {},
          "execution_count": 56
        }
      ]
    },
    {
      "cell_type": "code",
      "source": [
        "ds1_CNX=ds1[ds1[\"areaTH\"].str.contains(\"เชียงใหม่\") == True].reset_index(drop=True)\n",
        "ds1_CNX.loc[0]"
      ],
      "metadata": {
        "id": "dH00uQ4wTloa",
        "colab": {
          "base_uri": "https://localhost:8080/"
        },
        "outputId": "ee7c2ffe-2e8c-4e59-acc0-75feeddb0fac"
      },
      "execution_count": null,
      "outputs": [
        {
          "output_type": "execute_result",
          "data": {
            "text/plain": [
              "id                                      709\n",
              "stationID                               36t\n",
              "nameTH              โรงเรียนยุพราชวิทยาลัย \n",
              "nameEN           Yupparaj Wittayalai School\n",
              "stationType                          GROUND\n",
              "lat                                18.79092\n",
              "long                              98.988106\n",
              "date_aq                          02/04/2020\n",
              "time_aq                            04:00:00\n",
              "PM25                                   40.0\n",
              "PM10                                   79.0\n",
              "NO2                                    14.0\n",
              "SO2                                     0.0\n",
              "CO                                     0.88\n",
              "O3                                      NaN\n",
              "AQI                                       3\n",
              "areaTH         ต.ศรีภูมิ อ.เมือง, เชียงใหม่\n",
              "areaEN          Si Phum, Meuang, Chiang Mai\n",
              "datetime_aq             2020-02-04 04:00:00\n",
              "Name: 0, dtype: object"
            ]
          },
          "metadata": {},
          "execution_count": 57
        }
      ]
    },
    {
      "cell_type": "code",
      "source": [
        "ds1_CNX['nameEN'].unique()"
      ],
      "metadata": {
        "colab": {
          "base_uri": "https://localhost:8080/"
        },
        "id": "6d0DS8qC-TCp",
        "outputId": "e44d1c56-0d1f-4e13-f1e9-05e2cf562b4a"
      },
      "execution_count": null,
      "outputs": [
        {
          "output_type": "execute_result",
          "data": {
            "text/plain": [
              "array(['Yupparaj Wittayalai School', 'City Hall, Chiangmai'], dtype=object)"
            ]
          },
          "metadata": {},
          "execution_count": 68
        }
      ]
    },
    {
      "cell_type": "code",
      "source": [
        "def ApproxTime(t):\n",
        "  if t[-2:] >= \"30\" :\n",
        "    if int(t[:2]) < 10 :\n",
        "      s = '0'+str(int(t[:2])+1) + ':00:00' \n",
        "    else :\n",
        "      s = str(int(t[:2])+1) + ':00:00' \n",
        "  elif t[-2:] < \"30\" :\n",
        "    if int(t[:2]) < 10 :\n",
        "      s = t[:2] + ':00:00' \n",
        "    else :\n",
        "      s = t[:2] + ':00:00' \n",
        "  return s\n",
        "  #return datetime.strptime(s,'%H:%M:%S').time()"
      ],
      "metadata": {
        "id": "VSGqPZn5YU8f"
      },
      "execution_count": null,
      "outputs": []
    },
    {
      "cell_type": "code",
      "source": [
        "ds2_1 = ds2.copy()\n",
        "ds1_1 = ds1_CNX.copy()\n",
        "# 1 degree = 111 km\n",
        "ds2_1[\"lat_high\"] = ds2_1[\"LATITUDE\"] + 50/111\n",
        "ds2_1[\"lat_low\"] = ds2_1[\"LATITUDE\"] - 50/111\n",
        "ds2_1[\"long_high\"] = ds2_1[\"LONGITUDE\"] + 50/111\n",
        "ds2_1[\"long_low\"] = ds2_1[\"LONGITUDE\"] - 50/111\n",
        "ds2_1[\"time_acq\"] = ds2_1['ACQ_TIME'].apply(ApproxTime)\n",
        "ds1_1[\"time_aq\"] = ds1_1[\"time_aq\"].astype(str)\n",
        "ds2_1.head()"
      ],
      "metadata": {
        "id": "fdRKygm4HbS_",
        "colab": {
          "base_uri": "https://localhost:8080/",
          "height": 250
        },
        "outputId": "adc2437c-d9fb-46bb-a8cd-be33b00a9b32"
      },
      "execution_count": null,
      "outputs": [
        {
          "output_type": "execute_result",
          "data": {
            "text/plain": [
              "   LATITUDE  LONGITUDE    ACQ_DATE ACQ_TIME SATELLITE   FRP DAYNIGHT  \\\n",
              "0   18.2293    98.4216  01/03/2020    06:54      Aqua  16.5        D   \n",
              "1   18.4900    98.3828  01/03/2020    06:54      Aqua  19.0        D   \n",
              "2   18.4913    98.3923  01/03/2020    06:54      Aqua   5.8        D   \n",
              "3   17.9233    98.7987  01/05/2020    06:41      Aqua   9.1        D   \n",
              "4   18.2463    98.4140  01/06/2020    04:18     Terra   6.9        D   \n",
              "\n",
              "   PROV_NAME_ INSTRUMENT PROV_NAME  FireOccurred  lat_high   lat_low  \\\n",
              "0  CHIANG MAI        NaN       NaN             0  18.67975  17.77885   \n",
              "1  CHIANG MAI        NaN       NaN             0  18.94045  18.03955   \n",
              "2  CHIANG MAI        NaN       NaN             0  18.94175  18.04085   \n",
              "3  CHIANG MAI        NaN       NaN             0  18.37375  17.47285   \n",
              "4  CHIANG MAI        NaN       NaN             0  18.69675  17.79585   \n",
              "\n",
              "   long_high  long_low  time_acq  \n",
              "0   98.87205  97.97115  07:00:00  \n",
              "1   98.83325  97.93235  07:00:00  \n",
              "2   98.84275  97.94185  07:00:00  \n",
              "3   99.24915  98.34825  07:00:00  \n",
              "4   98.86445  97.96355  04:00:00  "
            ],
            "text/html": [
              "\n",
              "  <div id=\"df-bde98450-9e9b-46d1-bfd3-ac2ab248a6ca\">\n",
              "    <div class=\"colab-df-container\">\n",
              "      <div>\n",
              "<style scoped>\n",
              "    .dataframe tbody tr th:only-of-type {\n",
              "        vertical-align: middle;\n",
              "    }\n",
              "\n",
              "    .dataframe tbody tr th {\n",
              "        vertical-align: top;\n",
              "    }\n",
              "\n",
              "    .dataframe thead th {\n",
              "        text-align: right;\n",
              "    }\n",
              "</style>\n",
              "<table border=\"1\" class=\"dataframe\">\n",
              "  <thead>\n",
              "    <tr style=\"text-align: right;\">\n",
              "      <th></th>\n",
              "      <th>LATITUDE</th>\n",
              "      <th>LONGITUDE</th>\n",
              "      <th>ACQ_DATE</th>\n",
              "      <th>ACQ_TIME</th>\n",
              "      <th>SATELLITE</th>\n",
              "      <th>FRP</th>\n",
              "      <th>DAYNIGHT</th>\n",
              "      <th>PROV_NAME_</th>\n",
              "      <th>INSTRUMENT</th>\n",
              "      <th>PROV_NAME</th>\n",
              "      <th>FireOccurred</th>\n",
              "      <th>lat_high</th>\n",
              "      <th>lat_low</th>\n",
              "      <th>long_high</th>\n",
              "      <th>long_low</th>\n",
              "      <th>time_acq</th>\n",
              "    </tr>\n",
              "  </thead>\n",
              "  <tbody>\n",
              "    <tr>\n",
              "      <th>0</th>\n",
              "      <td>18.2293</td>\n",
              "      <td>98.4216</td>\n",
              "      <td>01/03/2020</td>\n",
              "      <td>06:54</td>\n",
              "      <td>Aqua</td>\n",
              "      <td>16.5</td>\n",
              "      <td>D</td>\n",
              "      <td>CHIANG MAI</td>\n",
              "      <td>NaN</td>\n",
              "      <td>NaN</td>\n",
              "      <td>0</td>\n",
              "      <td>18.67975</td>\n",
              "      <td>17.77885</td>\n",
              "      <td>98.87205</td>\n",
              "      <td>97.97115</td>\n",
              "      <td>07:00:00</td>\n",
              "    </tr>\n",
              "    <tr>\n",
              "      <th>1</th>\n",
              "      <td>18.4900</td>\n",
              "      <td>98.3828</td>\n",
              "      <td>01/03/2020</td>\n",
              "      <td>06:54</td>\n",
              "      <td>Aqua</td>\n",
              "      <td>19.0</td>\n",
              "      <td>D</td>\n",
              "      <td>CHIANG MAI</td>\n",
              "      <td>NaN</td>\n",
              "      <td>NaN</td>\n",
              "      <td>0</td>\n",
              "      <td>18.94045</td>\n",
              "      <td>18.03955</td>\n",
              "      <td>98.83325</td>\n",
              "      <td>97.93235</td>\n",
              "      <td>07:00:00</td>\n",
              "    </tr>\n",
              "    <tr>\n",
              "      <th>2</th>\n",
              "      <td>18.4913</td>\n",
              "      <td>98.3923</td>\n",
              "      <td>01/03/2020</td>\n",
              "      <td>06:54</td>\n",
              "      <td>Aqua</td>\n",
              "      <td>5.8</td>\n",
              "      <td>D</td>\n",
              "      <td>CHIANG MAI</td>\n",
              "      <td>NaN</td>\n",
              "      <td>NaN</td>\n",
              "      <td>0</td>\n",
              "      <td>18.94175</td>\n",
              "      <td>18.04085</td>\n",
              "      <td>98.84275</td>\n",
              "      <td>97.94185</td>\n",
              "      <td>07:00:00</td>\n",
              "    </tr>\n",
              "    <tr>\n",
              "      <th>3</th>\n",
              "      <td>17.9233</td>\n",
              "      <td>98.7987</td>\n",
              "      <td>01/05/2020</td>\n",
              "      <td>06:41</td>\n",
              "      <td>Aqua</td>\n",
              "      <td>9.1</td>\n",
              "      <td>D</td>\n",
              "      <td>CHIANG MAI</td>\n",
              "      <td>NaN</td>\n",
              "      <td>NaN</td>\n",
              "      <td>0</td>\n",
              "      <td>18.37375</td>\n",
              "      <td>17.47285</td>\n",
              "      <td>99.24915</td>\n",
              "      <td>98.34825</td>\n",
              "      <td>07:00:00</td>\n",
              "    </tr>\n",
              "    <tr>\n",
              "      <th>4</th>\n",
              "      <td>18.2463</td>\n",
              "      <td>98.4140</td>\n",
              "      <td>01/06/2020</td>\n",
              "      <td>04:18</td>\n",
              "      <td>Terra</td>\n",
              "      <td>6.9</td>\n",
              "      <td>D</td>\n",
              "      <td>CHIANG MAI</td>\n",
              "      <td>NaN</td>\n",
              "      <td>NaN</td>\n",
              "      <td>0</td>\n",
              "      <td>18.69675</td>\n",
              "      <td>17.79585</td>\n",
              "      <td>98.86445</td>\n",
              "      <td>97.96355</td>\n",
              "      <td>04:00:00</td>\n",
              "    </tr>\n",
              "  </tbody>\n",
              "</table>\n",
              "</div>\n",
              "      <button class=\"colab-df-convert\" onclick=\"convertToInteractive('df-bde98450-9e9b-46d1-bfd3-ac2ab248a6ca')\"\n",
              "              title=\"Convert this dataframe to an interactive table.\"\n",
              "              style=\"display:none;\">\n",
              "        \n",
              "  <svg xmlns=\"http://www.w3.org/2000/svg\" height=\"24px\"viewBox=\"0 0 24 24\"\n",
              "       width=\"24px\">\n",
              "    <path d=\"M0 0h24v24H0V0z\" fill=\"none\"/>\n",
              "    <path d=\"M18.56 5.44l.94 2.06.94-2.06 2.06-.94-2.06-.94-.94-2.06-.94 2.06-2.06.94zm-11 1L8.5 8.5l.94-2.06 2.06-.94-2.06-.94L8.5 2.5l-.94 2.06-2.06.94zm10 10l.94 2.06.94-2.06 2.06-.94-2.06-.94-.94-2.06-.94 2.06-2.06.94z\"/><path d=\"M17.41 7.96l-1.37-1.37c-.4-.4-.92-.59-1.43-.59-.52 0-1.04.2-1.43.59L10.3 9.45l-7.72 7.72c-.78.78-.78 2.05 0 2.83L4 21.41c.39.39.9.59 1.41.59.51 0 1.02-.2 1.41-.59l7.78-7.78 2.81-2.81c.8-.78.8-2.07 0-2.86zM5.41 20L4 18.59l7.72-7.72 1.47 1.35L5.41 20z\"/>\n",
              "  </svg>\n",
              "      </button>\n",
              "      \n",
              "  <style>\n",
              "    .colab-df-container {\n",
              "      display:flex;\n",
              "      flex-wrap:wrap;\n",
              "      gap: 12px;\n",
              "    }\n",
              "\n",
              "    .colab-df-convert {\n",
              "      background-color: #E8F0FE;\n",
              "      border: none;\n",
              "      border-radius: 50%;\n",
              "      cursor: pointer;\n",
              "      display: none;\n",
              "      fill: #1967D2;\n",
              "      height: 32px;\n",
              "      padding: 0 0 0 0;\n",
              "      width: 32px;\n",
              "    }\n",
              "\n",
              "    .colab-df-convert:hover {\n",
              "      background-color: #E2EBFA;\n",
              "      box-shadow: 0px 1px 2px rgba(60, 64, 67, 0.3), 0px 1px 3px 1px rgba(60, 64, 67, 0.15);\n",
              "      fill: #174EA6;\n",
              "    }\n",
              "\n",
              "    [theme=dark] .colab-df-convert {\n",
              "      background-color: #3B4455;\n",
              "      fill: #D2E3FC;\n",
              "    }\n",
              "\n",
              "    [theme=dark] .colab-df-convert:hover {\n",
              "      background-color: #434B5C;\n",
              "      box-shadow: 0px 1px 3px 1px rgba(0, 0, 0, 0.15);\n",
              "      filter: drop-shadow(0px 1px 2px rgba(0, 0, 0, 0.3));\n",
              "      fill: #FFFFFF;\n",
              "    }\n",
              "  </style>\n",
              "\n",
              "      <script>\n",
              "        const buttonEl =\n",
              "          document.querySelector('#df-bde98450-9e9b-46d1-bfd3-ac2ab248a6ca button.colab-df-convert');\n",
              "        buttonEl.style.display =\n",
              "          google.colab.kernel.accessAllowed ? 'block' : 'none';\n",
              "\n",
              "        async function convertToInteractive(key) {\n",
              "          const element = document.querySelector('#df-bde98450-9e9b-46d1-bfd3-ac2ab248a6ca');\n",
              "          const dataTable =\n",
              "            await google.colab.kernel.invokeFunction('convertToInteractive',\n",
              "                                                     [key], {});\n",
              "          if (!dataTable) return;\n",
              "\n",
              "          const docLinkHtml = 'Like what you see? Visit the ' +\n",
              "            '<a target=\"_blank\" href=https://colab.research.google.com/notebooks/data_table.ipynb>data table notebook</a>'\n",
              "            + ' to learn more about interactive tables.';\n",
              "          element.innerHTML = '';\n",
              "          dataTable['output_type'] = 'display_data';\n",
              "          await google.colab.output.renderOutput(dataTable, element);\n",
              "          const docLink = document.createElement('div');\n",
              "          docLink.innerHTML = docLinkHtml;\n",
              "          element.appendChild(docLink);\n",
              "        }\n",
              "      </script>\n",
              "    </div>\n",
              "  </div>\n",
              "  "
            ]
          },
          "metadata": {},
          "execution_count": 59
        }
      ]
    },
    {
      "cell_type": "code",
      "source": [
        "ds_merge1 = ds1_1.conditional_join(ds2_1, (\"lat\",\"lat_high\", \"<=\"), (\"lat\",\"lat_low\", \">=\"), (\"long\",\"long_high\", \"<=\"), (\"long\",\"long_low\", \">=\"), (\"date_aq\",\"ACQ_DATE\", \"==\"), (\"time_aq\",\"time_acq\", \"==\"))\n",
        "ds_merge1.loc[:,['FRP','lat','long','LATITUDE','LONGITUDE','time_acq','date_aq','ACQ_DATE','time_aq']].shape"
      ],
      "metadata": {
        "id": "ijrxbFpRTpKs",
        "colab": {
          "base_uri": "https://localhost:8080/"
        },
        "outputId": "5afd75aa-5a29-4b2a-db84-cb00925a16ee"
      },
      "execution_count": null,
      "outputs": [
        {
          "output_type": "execute_result",
          "data": {
            "text/plain": [
              "(17521, 9)"
            ]
          },
          "metadata": {},
          "execution_count": 60
        }
      ]
    },
    {
      "cell_type": "code",
      "source": [
        "ds1_1['nameEN'].nunique()"
      ],
      "metadata": {
        "colab": {
          "base_uri": "https://localhost:8080/"
        },
        "id": "SLOmfCWwRwJK",
        "outputId": "f9490b72-cf63-4220-fa8e-ca82afc8e12f"
      },
      "execution_count": null,
      "outputs": [
        {
          "output_type": "execute_result",
          "data": {
            "text/plain": [
              "2"
            ]
          },
          "metadata": {},
          "execution_count": 73
        }
      ]
    },
    {
      "cell_type": "code",
      "source": [
        "ds_merge1.loc[ds_merge1[\"FireOccurred\"]==1, ['FRP','lat','long','LATITUDE','LONGITUDE','time_acq','date_aq','ACQ_DATE','time_aq']].shape"
      ],
      "metadata": {
        "id": "w4gWSLbELM63",
        "colab": {
          "base_uri": "https://localhost:8080/"
        },
        "outputId": "d0be312d-1b9c-40a3-c155-27da77b998f1"
      },
      "execution_count": null,
      "outputs": [
        {
          "output_type": "execute_result",
          "data": {
            "text/plain": [
              "(16, 9)"
            ]
          },
          "metadata": {},
          "execution_count": 75
        }
      ]
    },
    {
      "cell_type": "code",
      "source": [
        "ds_m = ds_merge1[[\"PM25\",\"PM10\",\"NO2\",\"SO2\",\"CO\",\"O3\",'FireOccurred','lat','long','lat_low','LATITUDE','lat_high','long_low','LONGITUDE','long_high','time_acq','ACQ_DATE','time_aq','date_aq',]].sort_values(by=['lat'])"
      ],
      "metadata": {
        "id": "mAZwt1mr5rGj"
      },
      "execution_count": null,
      "outputs": []
    },
    {
      "cell_type": "code",
      "source": [
        "ds2_1.loc[ds2_1['FireOccurred']==1].to_csv(\"fire.csv\",index=False)\n",
        "ds1_1.to_csv(\"cnx.csv\",index=False)"
      ],
      "metadata": {
        "id": "U02yWq3WPQM9"
      },
      "execution_count": null,
      "outputs": []
    },
    {
      "cell_type": "code",
      "source": [
        "ds_m['LONGITUDE'].nunique()"
      ],
      "metadata": {
        "colab": {
          "base_uri": "https://localhost:8080/"
        },
        "id": "gCLsbf8o_dYN",
        "outputId": "c9f115f3-72e8-4683-ab75-0f1a3f934c96"
      },
      "execution_count": null,
      "outputs": [
        {
          "output_type": "execute_result",
          "data": {
            "text/plain": [
              "8541"
            ]
          },
          "metadata": {},
          "execution_count": 72
        }
      ]
    },
    {
      "cell_type": "code",
      "source": [
        "ds_m.to_csv(\"merge50km.csv\")"
      ],
      "metadata": {
        "id": "xX9guGik45bw"
      },
      "execution_count": null,
      "outputs": []
    },
    {
      "cell_type": "code",
      "source": [
        "ds1.shape"
      ],
      "metadata": {
        "id": "yoNcVbnBVlW6"
      },
      "execution_count": null,
      "outputs": []
    },
    {
      "cell_type": "code",
      "source": [
        "ds1_CNX.shape\n"
      ],
      "metadata": {
        "id": "ED4iVYuiVw2z"
      },
      "execution_count": null,
      "outputs": []
    },
    {
      "cell_type": "code",
      "source": [
        "ds1_CNX_notnull=ds1_CNX[(ds1_CNX[\"PM25\"].isna()==False) & (ds1_CNX[\"PM10\"].isna()==False) & (ds1_CNX[\"NO2\"].isna()==False) & (ds1_CNX[\"SO2\"].isna()==False) & (ds1_CNX[\"CO\"].isna()==False) & (ds1_CNX[\"O3\"].isna()==False)]\n",
        "ds1_CNX_notnull.shape"
      ],
      "metadata": {
        "id": "uebh7ACvWl0L"
      },
      "execution_count": null,
      "outputs": []
    },
    {
      "cell_type": "code",
      "source": [
        "df1[\"Next_datetime_aq\"] = df1[\"datetime_aq\"].tolist()[1:] + df1[\"datetime_aq\"].tolist()[:1]\n",
        "df1.tail()\n",
        "# last row use data from first row"
      ],
      "metadata": {
        "id": "4l0odaY73U4W"
      },
      "execution_count": null,
      "outputs": []
    },
    {
      "cell_type": "code",
      "source": [
        "  df1[\"TimeDelta\"] = df1[\"Next_datetime_aq\"]-df1[\"datetime_aq\"]\n",
        "  df1.head()"
      ],
      "metadata": {
        "id": "f_Czi8Md1nAq"
      },
      "execution_count": null,
      "outputs": []
    },
    {
      "cell_type": "code",
      "source": [
        "#it doesn't work\n",
        "f = df1.copy()\n",
        "f['NO2'] = np.where((f['TimeDelta'] <= pd.to_timedelta(\"0 days 02:00:00\")) & (f[\"NO2\"].isna()), f['NO2'].interpolate(method='nearest',limit=2), f['NO2'])\n",
        "f[7550:7600]"
      ],
      "metadata": {
        "id": "1RyOLwbJ7i0q"
      },
      "execution_count": null,
      "outputs": []
    },
    {
      "cell_type": "code",
      "source": [
        "test = df1[df1['lat'] > 17]"
      ],
      "metadata": {
        "id": "qyCBKWlfKseZ"
      },
      "execution_count": null,
      "outputs": []
    },
    {
      "cell_type": "code",
      "source": [
        "test.shape"
      ],
      "metadata": {
        "id": "Q62RzBZfOsEQ"
      },
      "execution_count": null,
      "outputs": []
    },
    {
      "cell_type": "code",
      "source": [
        "df3 = pd.concat((df3,pd.get_dummies(df3[\"DAYNIGHT\"])), axis = 1)"
      ],
      "metadata": {
        "id": "wb1H1sfiTE6h"
      },
      "execution_count": null,
      "outputs": []
    },
    {
      "cell_type": "code",
      "source": [
        "df3 = df3.drop([\"DAYNIGHT\"], axis = 1)\n",
        "df3 = df3.drop([\"N\"], axis = 1)"
      ],
      "metadata": {
        "id": "VbcrhgDuT8kF"
      },
      "execution_count": null,
      "outputs": []
    },
    {
      "cell_type": "code",
      "source": [
        "df3 = df3.rename(columns = {\"D\":\"DAYNIGHT\"})"
      ],
      "metadata": {
        "id": "oSVb4hqbUcK-"
      },
      "execution_count": null,
      "outputs": []
    },
    {
      "cell_type": "code",
      "source": [],
      "metadata": {
        "id": "zwnUglxwwVKB"
      },
      "execution_count": null,
      "outputs": []
    },
    {
      "cell_type": "markdown",
      "source": [
        "## Data Detection Pipeline\n",
        "\n",
        "For when new data is loaded into the Google Drive"
      ],
      "metadata": {
        "id": "tnB3CDowxeiN"
      }
    },
    {
      "cell_type": "code",
      "source": [],
      "metadata": {
        "id": "bf5UubvpxjoA"
      },
      "execution_count": null,
      "outputs": []
    },
    {
      "cell_type": "markdown",
      "source": [
        "{Fill in dataset(s) format here}\n",
        "<br>Attributes & datatype"
      ],
      "metadata": {
        "id": "vOq-KGDKryeC"
      }
    },
    {
      "cell_type": "markdown",
      "source": [
        "## Model Training & Model Evaluation\n",
        "\n",
        "Model training specifications: https://docs.google.com/document/d/1UiDi8nyTcfMeMNIAz3KntlVZBlYrpoMAURuDccTt-wk/edit?usp=sharing\n",
        "\n",
        "Model Evaluation: Identifying the best parameters for each model"
      ],
      "metadata": {
        "id": "V-aSDFfuAEHW"
      }
    },
    {
      "cell_type": "code",
      "source": [
        "import numpy as np\n",
        "import pandas as pd\n",
        "import seaborn as sb\n",
        "import matplotlib.pyplot as plt\n",
        "from sklearn.metrics import confusion_matrix, recall_score, f1_score, roc_auc_score"
      ],
      "metadata": {
        "id": "fZLP8-gBALDo"
      },
      "execution_count": null,
      "outputs": []
    },
    {
      "cell_type": "code",
      "source": [
        "# Dummy data (delete later)\n",
        "\n",
        "from sklearn import datasets\n",
        "\n",
        "breast_cancer = datasets.load_breast_cancer()\n",
        "X_loaded = breast_cancer.data\n",
        "y_loaded = breast_cancer.target\n",
        "\n",
        "X = pd.DataFrame(X_loaded)\n",
        "y = pd.DataFrame(y_loaded)\n",
        "display(y.value_counts())"
      ],
      "metadata": {
        "id": "F_wmf9P1sOuQ",
        "colab": {
          "base_uri": "https://localhost:8080/",
          "height": 71
        },
        "outputId": "c49ce877-af35-4bf7-e1c0-0a42e5f6a8a1"
      },
      "execution_count": null,
      "outputs": [
        {
          "output_type": "display_data",
          "data": {
            "text/plain": [
              "1    357\n",
              "0    212\n",
              "dtype: int64"
            ]
          },
          "metadata": {}
        }
      ]
    },
    {
      "cell_type": "code",
      "source": [
        "from sklearn.model_selection import train_test_split\n",
        "\n",
        "# 80:10:10\n",
        "\n",
        "X_train, X_test, y_train, y_test = train_test_split(X, y, test_size=0.10, random_state=1, shuffle=True)\n",
        "X_train, X_val, y_train, y_val = train_test_split(X_train, y_train, test_size=1/9, random_state=1, shuffle=True)"
      ],
      "metadata": {
        "id": "VZFm_c0Sz7RV"
      },
      "execution_count": null,
      "outputs": []
    },
    {
      "cell_type": "code",
      "source": [
        "if len(X_train)==len(y_train) and len(X_test) == len(y_test) and len(X_val) == len(y_val):\n",
        "  print(\"X and y data length matching\")\n",
        "else:\n",
        "  print(\"Error in data pipeline\")\n",
        "print()\n",
        "print(\"No. of training data = %d\" % len(X_train))\n",
        "print(\"No. of validation data = %d\" % len(X_val))\n",
        "print(\"No. of testing data = %d\" % len(X_test))"
      ],
      "metadata": {
        "colab": {
          "base_uri": "https://localhost:8080/"
        },
        "id": "T5u18lRhDj8_",
        "outputId": "af0b7529-dfd7-48d6-f584-88024d47d90a"
      },
      "execution_count": null,
      "outputs": [
        {
          "output_type": "stream",
          "name": "stdout",
          "text": [
            "X and y data length matching\n",
            "\n",
            "No. of training data = 455\n",
            "No. of validation data = 57\n",
            "No. of testing data = 57\n"
          ]
        }
      ]
    },
    {
      "cell_type": "markdown",
      "source": [
        "### Random Forest Classifier\n",
        "\n",
        "Library: Scikit-learn"
      ],
      "metadata": {
        "id": "reh3qT1Bsanc"
      }
    },
    {
      "cell_type": "code",
      "source": [
        "from sklearn.ensemble import RandomForestClassifier\n",
        "\n",
        "name = 'rnd_clf'\n",
        "\n",
        "train = pd.DataFrame(columns = ['n_estimators', 'max_depth', 'n_jobs', 'random_state'])\n",
        "train = train.append({'n_estimators' : 10, 'max_depth' : None, 'n_jobs': -1, 'random_state': 10}, ignore_index=True)\n",
        "train = train.append({'n_estimators' : 500, 'max_depth' : None, 'n_jobs': -1, 'random_state': 10}, ignore_index=True)\n",
        "train = train.append({'n_estimators' : 1000, 'max_depth' : None, 'n_jobs': -1, 'random_state': 10}, ignore_index=True)\n",
        "\n",
        "models = pd.DataFrame(columns = ['model_name', 'model', 'parameters'])\n",
        "models_eval = pd.DataFrame(columns = ['model_name', 'confusion_matrix', 'recall', 'f1_score', 'roc_auc_score'])\n",
        "\n",
        "train = train.reset_index()\n",
        "for index, row in train.iterrows():\n",
        "    model_name = name + str(index)\n",
        "    rnd_clf = RandomForestClassifier(n_estimators = int(row['n_estimators']), max_depth = None, \n",
        "                                    n_jobs = int(row['n_jobs']), random_state = int(row['random_state']))\n",
        "    rnd_clf.fit(X_train, y_train)\n",
        "    y_true = y_val\n",
        "    y_pred = rnd_clf.predict(X_val)\n",
        "    cfm = confusion_matrix(y_true, y_pred).ravel()\n",
        "    recs = recall_score(y_true, y_pred, average='binary')\n",
        "    f1s = f1_score(y_true, y_pred, average='binary')\n",
        "    rocs = roc_auc_score(y_true, y_pred, average='macro')\n",
        "\n",
        "    models = models.append({'model_name': model_name, 'model': rnd_clf, 'parameters': rnd_clf.get_params()}, ignore_index=True)\n",
        "    models_eval = models_eval.append({'model_name': model_name, 'confusion_matrix' : cfm, 'recall' : recs, \n",
        "                                      'f1_score': f1s, 'roc_auc_score': rocs}, ignore_index=True)\n",
        "\n",
        "# display(models)  \n",
        "# display(models_eval)\n",
        "\n",
        "# y_pred = rnd_clf.predict(X_val)\n",
        "# print(y_pred)\n",
        "\n",
        "# accuracy_train = round(rnd_clf.score(X_train, y_train)*100,2)\n",
        "# print(round(accuracy_train, 2), '%')\n",
        "\n",
        "# accuracy_test = round(rnd_clf.score(X_test, y_test)*100,2)\n",
        "# print(round(accuracy_test, 2), '%')\n",
        "\n",
        "# accuracy_val = round(rnd_clf.score(X_val, y_val)*100,2)\n",
        "# print(round(accuracy_val, 2), '%')"
      ],
      "metadata": {
        "colab": {
          "base_uri": "https://localhost:8080/",
          "height": 343
        },
        "id": "6NqCa2LO0CjO",
        "outputId": "539bec9a-6b6d-4914-cd04-4431f1b59819"
      },
      "execution_count": null,
      "outputs": [
        {
          "output_type": "stream",
          "name": "stderr",
          "text": [
            "/usr/local/lib/python3.7/dist-packages/ipykernel_launcher.py:18: DataConversionWarning: A column-vector y was passed when a 1d array was expected. Please change the shape of y to (n_samples,), for example using ravel().\n",
            "/usr/local/lib/python3.7/dist-packages/ipykernel_launcher.py:18: DataConversionWarning: A column-vector y was passed when a 1d array was expected. Please change the shape of y to (n_samples,), for example using ravel().\n",
            "/usr/local/lib/python3.7/dist-packages/ipykernel_launcher.py:18: DataConversionWarning: A column-vector y was passed when a 1d array was expected. Please change the shape of y to (n_samples,), for example using ravel().\n"
          ]
        },
        {
          "output_type": "display_data",
          "data": {
            "text/plain": [
              "  model_name                                              model  \\\n",
              "0   rnd_clf0  (DecisionTreeClassifier(max_features='auto', r...   \n",
              "1   rnd_clf1  (DecisionTreeClassifier(max_features='auto', r...   \n",
              "2   rnd_clf2  (DecisionTreeClassifier(max_features='auto', r...   \n",
              "\n",
              "                                          parameters  \n",
              "0  {'bootstrap': True, 'ccp_alpha': 0.0, 'class_w...  \n",
              "1  {'bootstrap': True, 'ccp_alpha': 0.0, 'class_w...  \n",
              "2  {'bootstrap': True, 'ccp_alpha': 0.0, 'class_w...  "
            ],
            "text/html": [
              "\n",
              "  <div id=\"df-8a17b681-c23f-4b08-a185-ea23a2e96046\">\n",
              "    <div class=\"colab-df-container\">\n",
              "      <div>\n",
              "<style scoped>\n",
              "    .dataframe tbody tr th:only-of-type {\n",
              "        vertical-align: middle;\n",
              "    }\n",
              "\n",
              "    .dataframe tbody tr th {\n",
              "        vertical-align: top;\n",
              "    }\n",
              "\n",
              "    .dataframe thead th {\n",
              "        text-align: right;\n",
              "    }\n",
              "</style>\n",
              "<table border=\"1\" class=\"dataframe\">\n",
              "  <thead>\n",
              "    <tr style=\"text-align: right;\">\n",
              "      <th></th>\n",
              "      <th>model_name</th>\n",
              "      <th>model</th>\n",
              "      <th>parameters</th>\n",
              "    </tr>\n",
              "  </thead>\n",
              "  <tbody>\n",
              "    <tr>\n",
              "      <th>0</th>\n",
              "      <td>rnd_clf0</td>\n",
              "      <td>(DecisionTreeClassifier(max_features='auto', r...</td>\n",
              "      <td>{'bootstrap': True, 'ccp_alpha': 0.0, 'class_w...</td>\n",
              "    </tr>\n",
              "    <tr>\n",
              "      <th>1</th>\n",
              "      <td>rnd_clf1</td>\n",
              "      <td>(DecisionTreeClassifier(max_features='auto', r...</td>\n",
              "      <td>{'bootstrap': True, 'ccp_alpha': 0.0, 'class_w...</td>\n",
              "    </tr>\n",
              "    <tr>\n",
              "      <th>2</th>\n",
              "      <td>rnd_clf2</td>\n",
              "      <td>(DecisionTreeClassifier(max_features='auto', r...</td>\n",
              "      <td>{'bootstrap': True, 'ccp_alpha': 0.0, 'class_w...</td>\n",
              "    </tr>\n",
              "  </tbody>\n",
              "</table>\n",
              "</div>\n",
              "      <button class=\"colab-df-convert\" onclick=\"convertToInteractive('df-8a17b681-c23f-4b08-a185-ea23a2e96046')\"\n",
              "              title=\"Convert this dataframe to an interactive table.\"\n",
              "              style=\"display:none;\">\n",
              "        \n",
              "  <svg xmlns=\"http://www.w3.org/2000/svg\" height=\"24px\"viewBox=\"0 0 24 24\"\n",
              "       width=\"24px\">\n",
              "    <path d=\"M0 0h24v24H0V0z\" fill=\"none\"/>\n",
              "    <path d=\"M18.56 5.44l.94 2.06.94-2.06 2.06-.94-2.06-.94-.94-2.06-.94 2.06-2.06.94zm-11 1L8.5 8.5l.94-2.06 2.06-.94-2.06-.94L8.5 2.5l-.94 2.06-2.06.94zm10 10l.94 2.06.94-2.06 2.06-.94-2.06-.94-.94-2.06-.94 2.06-2.06.94z\"/><path d=\"M17.41 7.96l-1.37-1.37c-.4-.4-.92-.59-1.43-.59-.52 0-1.04.2-1.43.59L10.3 9.45l-7.72 7.72c-.78.78-.78 2.05 0 2.83L4 21.41c.39.39.9.59 1.41.59.51 0 1.02-.2 1.41-.59l7.78-7.78 2.81-2.81c.8-.78.8-2.07 0-2.86zM5.41 20L4 18.59l7.72-7.72 1.47 1.35L5.41 20z\"/>\n",
              "  </svg>\n",
              "      </button>\n",
              "      \n",
              "  <style>\n",
              "    .colab-df-container {\n",
              "      display:flex;\n",
              "      flex-wrap:wrap;\n",
              "      gap: 12px;\n",
              "    }\n",
              "\n",
              "    .colab-df-convert {\n",
              "      background-color: #E8F0FE;\n",
              "      border: none;\n",
              "      border-radius: 50%;\n",
              "      cursor: pointer;\n",
              "      display: none;\n",
              "      fill: #1967D2;\n",
              "      height: 32px;\n",
              "      padding: 0 0 0 0;\n",
              "      width: 32px;\n",
              "    }\n",
              "\n",
              "    .colab-df-convert:hover {\n",
              "      background-color: #E2EBFA;\n",
              "      box-shadow: 0px 1px 2px rgba(60, 64, 67, 0.3), 0px 1px 3px 1px rgba(60, 64, 67, 0.15);\n",
              "      fill: #174EA6;\n",
              "    }\n",
              "\n",
              "    [theme=dark] .colab-df-convert {\n",
              "      background-color: #3B4455;\n",
              "      fill: #D2E3FC;\n",
              "    }\n",
              "\n",
              "    [theme=dark] .colab-df-convert:hover {\n",
              "      background-color: #434B5C;\n",
              "      box-shadow: 0px 1px 3px 1px rgba(0, 0, 0, 0.15);\n",
              "      filter: drop-shadow(0px 1px 2px rgba(0, 0, 0, 0.3));\n",
              "      fill: #FFFFFF;\n",
              "    }\n",
              "  </style>\n",
              "\n",
              "      <script>\n",
              "        const buttonEl =\n",
              "          document.querySelector('#df-8a17b681-c23f-4b08-a185-ea23a2e96046 button.colab-df-convert');\n",
              "        buttonEl.style.display =\n",
              "          google.colab.kernel.accessAllowed ? 'block' : 'none';\n",
              "\n",
              "        async function convertToInteractive(key) {\n",
              "          const element = document.querySelector('#df-8a17b681-c23f-4b08-a185-ea23a2e96046');\n",
              "          const dataTable =\n",
              "            await google.colab.kernel.invokeFunction('convertToInteractive',\n",
              "                                                     [key], {});\n",
              "          if (!dataTable) return;\n",
              "\n",
              "          const docLinkHtml = 'Like what you see? Visit the ' +\n",
              "            '<a target=\"_blank\" href=https://colab.research.google.com/notebooks/data_table.ipynb>data table notebook</a>'\n",
              "            + ' to learn more about interactive tables.';\n",
              "          element.innerHTML = '';\n",
              "          dataTable['output_type'] = 'display_data';\n",
              "          await google.colab.output.renderOutput(dataTable, element);\n",
              "          const docLink = document.createElement('div');\n",
              "          docLink.innerHTML = docLinkHtml;\n",
              "          element.appendChild(docLink);\n",
              "        }\n",
              "      </script>\n",
              "    </div>\n",
              "  </div>\n",
              "  "
            ]
          },
          "metadata": {}
        },
        {
          "output_type": "display_data",
          "data": {
            "text/plain": [
              "  model_name confusion_matrix    recall  f1_score  roc_auc_score\n",
              "0   rnd_clf0   [16, 2, 1, 38]  0.974359  0.962025       0.931624\n",
              "1   rnd_clf1   [17, 1, 0, 39]  1.000000  0.987342       0.972222\n",
              "2   rnd_clf2   [17, 1, 0, 39]  1.000000  0.987342       0.972222"
            ],
            "text/html": [
              "\n",
              "  <div id=\"df-2ffd9f0a-8cac-457b-8874-ae1c3ca17ce3\">\n",
              "    <div class=\"colab-df-container\">\n",
              "      <div>\n",
              "<style scoped>\n",
              "    .dataframe tbody tr th:only-of-type {\n",
              "        vertical-align: middle;\n",
              "    }\n",
              "\n",
              "    .dataframe tbody tr th {\n",
              "        vertical-align: top;\n",
              "    }\n",
              "\n",
              "    .dataframe thead th {\n",
              "        text-align: right;\n",
              "    }\n",
              "</style>\n",
              "<table border=\"1\" class=\"dataframe\">\n",
              "  <thead>\n",
              "    <tr style=\"text-align: right;\">\n",
              "      <th></th>\n",
              "      <th>model_name</th>\n",
              "      <th>confusion_matrix</th>\n",
              "      <th>recall</th>\n",
              "      <th>f1_score</th>\n",
              "      <th>roc_auc_score</th>\n",
              "    </tr>\n",
              "  </thead>\n",
              "  <tbody>\n",
              "    <tr>\n",
              "      <th>0</th>\n",
              "      <td>rnd_clf0</td>\n",
              "      <td>[16, 2, 1, 38]</td>\n",
              "      <td>0.974359</td>\n",
              "      <td>0.962025</td>\n",
              "      <td>0.931624</td>\n",
              "    </tr>\n",
              "    <tr>\n",
              "      <th>1</th>\n",
              "      <td>rnd_clf1</td>\n",
              "      <td>[17, 1, 0, 39]</td>\n",
              "      <td>1.000000</td>\n",
              "      <td>0.987342</td>\n",
              "      <td>0.972222</td>\n",
              "    </tr>\n",
              "    <tr>\n",
              "      <th>2</th>\n",
              "      <td>rnd_clf2</td>\n",
              "      <td>[17, 1, 0, 39]</td>\n",
              "      <td>1.000000</td>\n",
              "      <td>0.987342</td>\n",
              "      <td>0.972222</td>\n",
              "    </tr>\n",
              "  </tbody>\n",
              "</table>\n",
              "</div>\n",
              "      <button class=\"colab-df-convert\" onclick=\"convertToInteractive('df-2ffd9f0a-8cac-457b-8874-ae1c3ca17ce3')\"\n",
              "              title=\"Convert this dataframe to an interactive table.\"\n",
              "              style=\"display:none;\">\n",
              "        \n",
              "  <svg xmlns=\"http://www.w3.org/2000/svg\" height=\"24px\"viewBox=\"0 0 24 24\"\n",
              "       width=\"24px\">\n",
              "    <path d=\"M0 0h24v24H0V0z\" fill=\"none\"/>\n",
              "    <path d=\"M18.56 5.44l.94 2.06.94-2.06 2.06-.94-2.06-.94-.94-2.06-.94 2.06-2.06.94zm-11 1L8.5 8.5l.94-2.06 2.06-.94-2.06-.94L8.5 2.5l-.94 2.06-2.06.94zm10 10l.94 2.06.94-2.06 2.06-.94-2.06-.94-.94-2.06-.94 2.06-2.06.94z\"/><path d=\"M17.41 7.96l-1.37-1.37c-.4-.4-.92-.59-1.43-.59-.52 0-1.04.2-1.43.59L10.3 9.45l-7.72 7.72c-.78.78-.78 2.05 0 2.83L4 21.41c.39.39.9.59 1.41.59.51 0 1.02-.2 1.41-.59l7.78-7.78 2.81-2.81c.8-.78.8-2.07 0-2.86zM5.41 20L4 18.59l7.72-7.72 1.47 1.35L5.41 20z\"/>\n",
              "  </svg>\n",
              "      </button>\n",
              "      \n",
              "  <style>\n",
              "    .colab-df-container {\n",
              "      display:flex;\n",
              "      flex-wrap:wrap;\n",
              "      gap: 12px;\n",
              "    }\n",
              "\n",
              "    .colab-df-convert {\n",
              "      background-color: #E8F0FE;\n",
              "      border: none;\n",
              "      border-radius: 50%;\n",
              "      cursor: pointer;\n",
              "      display: none;\n",
              "      fill: #1967D2;\n",
              "      height: 32px;\n",
              "      padding: 0 0 0 0;\n",
              "      width: 32px;\n",
              "    }\n",
              "\n",
              "    .colab-df-convert:hover {\n",
              "      background-color: #E2EBFA;\n",
              "      box-shadow: 0px 1px 2px rgba(60, 64, 67, 0.3), 0px 1px 3px 1px rgba(60, 64, 67, 0.15);\n",
              "      fill: #174EA6;\n",
              "    }\n",
              "\n",
              "    [theme=dark] .colab-df-convert {\n",
              "      background-color: #3B4455;\n",
              "      fill: #D2E3FC;\n",
              "    }\n",
              "\n",
              "    [theme=dark] .colab-df-convert:hover {\n",
              "      background-color: #434B5C;\n",
              "      box-shadow: 0px 1px 3px 1px rgba(0, 0, 0, 0.15);\n",
              "      filter: drop-shadow(0px 1px 2px rgba(0, 0, 0, 0.3));\n",
              "      fill: #FFFFFF;\n",
              "    }\n",
              "  </style>\n",
              "\n",
              "      <script>\n",
              "        const buttonEl =\n",
              "          document.querySelector('#df-2ffd9f0a-8cac-457b-8874-ae1c3ca17ce3 button.colab-df-convert');\n",
              "        buttonEl.style.display =\n",
              "          google.colab.kernel.accessAllowed ? 'block' : 'none';\n",
              "\n",
              "        async function convertToInteractive(key) {\n",
              "          const element = document.querySelector('#df-2ffd9f0a-8cac-457b-8874-ae1c3ca17ce3');\n",
              "          const dataTable =\n",
              "            await google.colab.kernel.invokeFunction('convertToInteractive',\n",
              "                                                     [key], {});\n",
              "          if (!dataTable) return;\n",
              "\n",
              "          const docLinkHtml = 'Like what you see? Visit the ' +\n",
              "            '<a target=\"_blank\" href=https://colab.research.google.com/notebooks/data_table.ipynb>data table notebook</a>'\n",
              "            + ' to learn more about interactive tables.';\n",
              "          element.innerHTML = '';\n",
              "          dataTable['output_type'] = 'display_data';\n",
              "          await google.colab.output.renderOutput(dataTable, element);\n",
              "          const docLink = document.createElement('div');\n",
              "          docLink.innerHTML = docLinkHtml;\n",
              "          element.appendChild(docLink);\n",
              "        }\n",
              "      </script>\n",
              "    </div>\n",
              "  </div>\n",
              "  "
            ]
          },
          "metadata": {}
        }
      ]
    },
    {
      "cell_type": "code",
      "source": [
        "display(models['model'][0])\n",
        "display(models['model_name'][0])\n",
        "display(models['parameters'][0])"
      ],
      "metadata": {
        "colab": {
          "base_uri": "https://localhost:8080/",
          "height": 375
        },
        "id": "gtc-ilS8ePOu",
        "outputId": "9016f6c6-8d08-4a5f-8537-b9b26fcdec3e"
      },
      "execution_count": null,
      "outputs": [
        {
          "output_type": "display_data",
          "data": {
            "text/plain": [
              "RandomForestClassifier(n_estimators=10, n_jobs=-1, random_state=10)"
            ]
          },
          "metadata": {}
        },
        {
          "output_type": "display_data",
          "data": {
            "text/plain": [
              "'rnd_clf0'"
            ],
            "application/vnd.google.colaboratory.intrinsic+json": {
              "type": "string"
            }
          },
          "metadata": {}
        },
        {
          "output_type": "display_data",
          "data": {
            "text/plain": [
              "{'bootstrap': True,\n",
              " 'ccp_alpha': 0.0,\n",
              " 'class_weight': None,\n",
              " 'criterion': 'gini',\n",
              " 'max_depth': None,\n",
              " 'max_features': 'auto',\n",
              " 'max_leaf_nodes': None,\n",
              " 'max_samples': None,\n",
              " 'min_impurity_decrease': 0.0,\n",
              " 'min_samples_leaf': 1,\n",
              " 'min_samples_split': 2,\n",
              " 'min_weight_fraction_leaf': 0.0,\n",
              " 'n_estimators': 10,\n",
              " 'n_jobs': -1,\n",
              " 'oob_score': False,\n",
              " 'random_state': 10,\n",
              " 'verbose': 0,\n",
              " 'warm_start': False}"
            ]
          },
          "metadata": {}
        }
      ]
    },
    {
      "cell_type": "code",
      "source": [
        "# Plot Classifier"
      ],
      "metadata": {
        "id": "uNxY5Fz3Pt_u"
      },
      "execution_count": null,
      "outputs": []
    },
    {
      "cell_type": "markdown",
      "source": [
        "### Decision Tree\n",
        "\n",
        "Library: Scikit-learn"
      ],
      "metadata": {
        "id": "0-_T_i4rsgy7"
      }
    },
    {
      "cell_type": "code",
      "source": [
        "from sklearn.tree import DecisionTreeClassifier\n",
        "\n",
        "name = 'tree_clf'\n",
        "\n",
        "train = pd.DataFrame(columns = ['criterion', 'splitter', 'n_jobs', 'random_state'])\n",
        "train = train.append({'criterion' : 'gini','splitter': 'best', 'random_state': 10}, ignore_index=True)\n",
        "train = train.append({'criterion' : 'entropy','splitter': 'best', 'random_state': 10}, ignore_index=True)\n",
        "train = train.append({'criterion' : 'gini','splitter': 'random', 'random_state': 10}, ignore_index=True)\n",
        "\n",
        "# models_eval = pd.DataFrame(columns = ['no.', 'confusion_matrix', 'recall', 'f1_score', 'roc_auc_score'])\n",
        "\n",
        "train = train.reset_index()\n",
        "for index, row in train.iterrows():\n",
        "    model_name = name + str(index)\n",
        "    tree_clf = DecisionTreeClassifier(criterion = row['criterion'], splitter = row['splitter'], max_depth = None, random_state = row['random_state'])\n",
        "    tree_clf.fit(X_train, y_train)\n",
        "    y_true = y_val\n",
        "    y_pred = tree_clf.predict(X_val)\n",
        "    cfm = confusion_matrix(y_true, y_pred).ravel()\n",
        "    recs = recall_score(y_true, y_pred, average='binary')\n",
        "    f1s = f1_score(y_true, y_pred, average='binary')\n",
        "    rocs = roc_auc_score(y_true, y_pred, average='macro')\n",
        "\n",
        "    models = models.append({'model_name': model_name, 'model': tree_clf, 'parameters': tree_clf.get_params()}, ignore_index=True)\n",
        "    models_eval = models_eval.append({'model_name': model_name, 'confusion_matrix' : cfm, 'recall' : recs, \n",
        "                                      'f1_score': f1s, 'roc_auc_score': rocs}, ignore_index=True)\n",
        "  \n",
        "# display(model)  \n",
        "# display(models_eval)\n",
        "\n",
        "# y_pred = tree_clf.predict(X_val)\n",
        "# print(y_pred)\n",
        "\n",
        "# accuracy_train = round(tree_clf.score(X_train, y_train)*100,2)\n",
        "# print(round(accuracy_train, 2), '%')\n",
        "\n",
        "# accuracy_test = round(tree_clf.score(X_test, y_test)*100,2)\n",
        "# print(round(accuracy_test, 2), '%')\n",
        "\n",
        "# accuracy_val = round(tree_clf.score(X_val, y_val)*100,2)\n",
        "# print(round(accuracy_val, 2), '%')"
      ],
      "metadata": {
        "id": "MSHkzMZ7G8hb"
      },
      "execution_count": null,
      "outputs": []
    },
    {
      "cell_type": "code",
      "source": [
        "# Plot Classifier\n",
        "\n",
        "import os\n",
        "from sklearn.tree import export_graphviz\n",
        "\n",
        "export_graphviz(tree_clf,\n",
        "                filled=True,\n",
        "                rounded=True)\n",
        "\n",
        "os.system('dot -Tpng tree.dot -o tree.png')"
      ],
      "metadata": {
        "colab": {
          "base_uri": "https://localhost:8080/"
        },
        "id": "5FNrrZ43OkNo",
        "outputId": "986bcded-0237-48c4-a9cf-fa0097e70ee9"
      },
      "execution_count": null,
      "outputs": [
        {
          "output_type": "execute_result",
          "data": {
            "text/plain": [
              "512"
            ]
          },
          "metadata": {},
          "execution_count": 17
        }
      ]
    },
    {
      "cell_type": "markdown",
      "source": [
        "### Support Vector Machine (SVM)\n",
        "\n",
        "Library: Scikit-learn"
      ],
      "metadata": {
        "id": "XJeua7O8t0TU"
      }
    },
    {
      "cell_type": "code",
      "source": [
        "from sklearn.svm import SVC\n",
        "\n",
        "name = 'svc_clf'\n",
        "\n",
        "train = pd.DataFrame(columns = ['kernel', 'random_state'])\n",
        "train = train.append({'kernel' : 'rbf', 'random_state': 10}, ignore_index=True)\n",
        "train = train.append({'kernel' : 'sigmoid', 'random_state': 10}, ignore_index=True)\n",
        "train = train.append({'kernel' : 'linear', 'random_state': 10}, ignore_index=True)\n",
        "\n",
        "# models_eval = pd.DataFrame(columns = ['no.', 'confusion_matrix', 'recall', 'f1_score', 'roc_auc_score'])\n",
        "\n",
        "train = train.reset_index()\n",
        "for index, row in train.iterrows():\n",
        "    model_name = name + str(index)\n",
        "    svc_clf = SVC(kernel=row[\"kernel\"], random_state = int(row[\"random_state\"]))\n",
        "    svc_clf.fit(X_train, y_train)\n",
        "    y_true = y_val\n",
        "    y_pred = svc_clf.predict(X_val)\n",
        "    cfm = confusion_matrix(y_true, y_pred).ravel()\n",
        "    recs = recall_score(y_true, y_pred, average='binary')\n",
        "    f1s = f1_score(y_true, y_pred, average='binary')\n",
        "    rocs = roc_auc_score(y_true, y_pred, average='macro')\n",
        "\n",
        "    models = models.append({'model_name': model_name, 'model': svc_clf, 'parameters': svc_clf.get_params()}, ignore_index=True)\n",
        "    models_eval = models_eval.append({'model_name': model_name, 'confusion_matrix' : cfm, 'recall' : recs, \n",
        "                                      'f1_score': f1s, 'roc_auc_score': rocs}, ignore_index=True)\n",
        "  \n",
        "# display(models_eval)\n",
        "\n",
        "\n",
        "\n",
        "# y_pred = svc_clf.predict(X_val)\n",
        "# print(y_pred)\n",
        "\n",
        "# accuracy_train = round(svc_clf.score(X_train, y_train)*100,2)\n",
        "# print(round(accuracy_train, 2), '%')\n",
        "\n",
        "# accuracy_test = round(svc_clf.score(X_test, y_test)*100,2)\n",
        "# print(round(accuracy_test, 2), '%')\n",
        "\n",
        "# accuracy_val = round(svc_clf.score(X_val, y_val)*100,2)\n",
        "# print(round(accuracy_val, 2), '%')"
      ],
      "metadata": {
        "colab": {
          "base_uri": "https://localhost:8080/"
        },
        "id": "LkArYr14Gyy2",
        "outputId": "7d92ffc6-4331-4f06-d774-602051ee98fc"
      },
      "execution_count": null,
      "outputs": [
        {
          "output_type": "stream",
          "name": "stderr",
          "text": [
            "/usr/local/lib/python3.7/dist-packages/sklearn/utils/validation.py:993: DataConversionWarning: A column-vector y was passed when a 1d array was expected. Please change the shape of y to (n_samples, ), for example using ravel().\n",
            "  y = column_or_1d(y, warn=True)\n",
            "/usr/local/lib/python3.7/dist-packages/sklearn/utils/validation.py:993: DataConversionWarning: A column-vector y was passed when a 1d array was expected. Please change the shape of y to (n_samples, ), for example using ravel().\n",
            "  y = column_or_1d(y, warn=True)\n",
            "/usr/local/lib/python3.7/dist-packages/sklearn/utils/validation.py:993: DataConversionWarning: A column-vector y was passed when a 1d array was expected. Please change the shape of y to (n_samples, ), for example using ravel().\n",
            "  y = column_or_1d(y, warn=True)\n"
          ]
        }
      ]
    },
    {
      "cell_type": "markdown",
      "source": [
        "### Logistic Regression\n",
        "\n",
        "Library: Scikit-learn"
      ],
      "metadata": {
        "id": "6f8inZbat2_Y"
      }
    },
    {
      "cell_type": "code",
      "source": [
        "from sklearn.linear_model import LogisticRegression\n",
        "\n",
        "name = 'log_clf'\n",
        "\n",
        "train = pd.DataFrame(columns = ['penalty', 'n_jobs','random_state'])\n",
        "train = train.append({'penalty' : 'l2', 'n_jobs': -1, 'random_state': 10}, ignore_index=True)\n",
        "train = train.append({'penalty' : 'l2', 'n_jobs': -1, 'random_state': 2}, ignore_index=True)\n",
        "train = train.append({'penalty' : 'none', 'n_jobs': -1, 'random_state': 2}, ignore_index=True)\n",
        "\n",
        "# models_eval = pd.DataFrame(columns = ['no.', 'confusion_matrix', 'recall', 'f1_score', 'roc_auc_score'])\n",
        "\n",
        "train = train.reset_index()\n",
        "for index, row in train.iterrows():\n",
        "    model_name = name + str(index)\n",
        "    log_clf = LogisticRegression(penalty = row['penalty'], n_jobs = int(row['n_jobs']), random_state = int(row['random_state']))\n",
        "    log_clf.fit(X_train, y_train)\n",
        "    y_true = y_val\n",
        "    y_pred = log_clf.predict(X_val)\n",
        "    cfm = confusion_matrix(y_true, y_pred).ravel()\n",
        "    recs = recall_score(y_true, y_pred, average='binary')\n",
        "    f1s = f1_score(y_true, y_pred, average='binary')\n",
        "    rocs = roc_auc_score(y_true, y_pred, average='macro')\n",
        "\n",
        "    models = models.append({'model_name': model_name, 'model': log_clf, 'parameters': log_clf.get_params()}, ignore_index=True)\n",
        "    models_eval = models_eval.append({'model_name': model_name, 'confusion_matrix' : cfm, 'recall' : recs, \n",
        "                                      'f1_score': f1s, 'roc_auc_score': rocs}, ignore_index=True)\n",
        "  \n",
        "# display(models_eval)\n",
        "\n",
        "# y_pred = log_clf.predict(X_val)\n",
        "# print(y_pred)\n",
        "\n",
        "# accuracy_train = round(log_clf.score(X_train, y_train)*100,2)\n",
        "# print(round(accuracy_train, 2), '%')\n",
        "\n",
        "# accuracy_test = round(log_clf.score(X_test, y_test)*100,2)\n",
        "# print(round(accuracy_test, 2), '%')\n",
        "\n",
        "# accuracy_val = round(log_clf.score(X_val, y_val)*100,2)\n",
        "# print(round(accuracy_val, 2), '%')"
      ],
      "metadata": {
        "colab": {
          "base_uri": "https://localhost:8080/"
        },
        "id": "zTqPctofGweh",
        "outputId": "36f949fb-39f8-4e08-d6c8-4374a442eb5e"
      },
      "execution_count": null,
      "outputs": [
        {
          "output_type": "stream",
          "name": "stderr",
          "text": [
            "/usr/local/lib/python3.7/dist-packages/sklearn/utils/validation.py:993: DataConversionWarning: A column-vector y was passed when a 1d array was expected. Please change the shape of y to (n_samples, ), for example using ravel().\n",
            "  y = column_or_1d(y, warn=True)\n",
            "/usr/local/lib/python3.7/dist-packages/sklearn/utils/validation.py:993: DataConversionWarning: A column-vector y was passed when a 1d array was expected. Please change the shape of y to (n_samples, ), for example using ravel().\n",
            "  y = column_or_1d(y, warn=True)\n",
            "/usr/local/lib/python3.7/dist-packages/sklearn/utils/validation.py:993: DataConversionWarning: A column-vector y was passed when a 1d array was expected. Please change the shape of y to (n_samples, ), for example using ravel().\n",
            "  y = column_or_1d(y, warn=True)\n"
          ]
        }
      ]
    },
    {
      "cell_type": "markdown",
      "source": [
        "### Naive Bayes\n",
        "\n",
        "Library: Scikit-learn"
      ],
      "metadata": {
        "id": "d9_lkmRBt7XH"
      }
    },
    {
      "cell_type": "code",
      "source": [
        "from sklearn.naive_bayes import GaussianNB\n",
        "\n",
        "name = 'bayes_clf'\n",
        "\n",
        "train = pd.DataFrame(columns = ['var_smoothing'])\n",
        "train = train.append({'var_smoothing': 1e-10}, ignore_index=True)\n",
        "train = train.append({'var_smoothing': 1e-20}, ignore_index=True)\n",
        "train = train.append({'var_smoothing': 1e-5}, ignore_index=True)\n",
        "\n",
        "# models_eval = pd.DataFrame(columns = ['no.', 'confusion_matrix', 'recall', 'f1_score', 'roc_auc_score'])\n",
        "\n",
        "train = train.reset_index()\n",
        "for index, row in train.iterrows():\n",
        "    model_name = name + str(index)\n",
        "    bayes_clf = GaussianNB(var_smoothing = row['var_smoothing'])\n",
        "    bayes_clf.fit(X_train, y_train)\n",
        "    y_true = y_val\n",
        "    y_pred = bayes_clf.predict(X_val)\n",
        "    cfm = confusion_matrix(y_true, y_pred).ravel()\n",
        "    recs = recall_score(y_true, y_pred, average='binary')\n",
        "    f1s = f1_score(y_true, y_pred, average='binary')\n",
        "    rocs = roc_auc_score(y_true, y_pred, average='macro')\n",
        "\n",
        "    models = models.append({'model_name': model_name, 'model': bayes_clf, 'parameters': bayes_clf.get_params()}, ignore_index=True)\n",
        "    models_eval = models_eval.append({'model_name': model_name, 'confusion_matrix' : cfm, 'recall' : recs, \n",
        "                                      'f1_score': f1s, 'roc_auc_score': rocs}, ignore_index=True)\n",
        "  \n",
        "# display(models_eval)\n",
        "\n",
        "# y_pred = bayes_clf.predict(X_val)\n",
        "# print(y_pred)\n",
        "\n",
        "# accuracy_train = round(bayes_clf.score(X_train, y_train)*100,2)\n",
        "# print(round(accuracy_train, 2), '%')\n",
        "\n",
        "# accuracy_test = round(bayes_clf.score(X_test, y_test)*100,2)\n",
        "# print(round(accuracy_test, 2), '%')\n",
        "\n",
        "# accuracy_val = round(bayes_clf.score(X_val, y_val)*100,2)\n",
        "# print(round(accuracy_val, 2), '%')"
      ],
      "metadata": {
        "colab": {
          "base_uri": "https://localhost:8080/"
        },
        "id": "m_AMZPBsG75x",
        "outputId": "3253baab-f988-47b6-dc0f-a11792439f6c"
      },
      "execution_count": null,
      "outputs": [
        {
          "output_type": "stream",
          "name": "stderr",
          "text": [
            "/usr/local/lib/python3.7/dist-packages/sklearn/utils/validation.py:993: DataConversionWarning: A column-vector y was passed when a 1d array was expected. Please change the shape of y to (n_samples, ), for example using ravel().\n",
            "  y = column_or_1d(y, warn=True)\n",
            "/usr/local/lib/python3.7/dist-packages/sklearn/utils/validation.py:993: DataConversionWarning: A column-vector y was passed when a 1d array was expected. Please change the shape of y to (n_samples, ), for example using ravel().\n",
            "  y = column_or_1d(y, warn=True)\n",
            "/usr/local/lib/python3.7/dist-packages/sklearn/utils/validation.py:993: DataConversionWarning: A column-vector y was passed when a 1d array was expected. Please change the shape of y to (n_samples, ), for example using ravel().\n",
            "  y = column_or_1d(y, warn=True)\n"
          ]
        }
      ]
    },
    {
      "cell_type": "markdown",
      "source": [
        "### K-Nearest Neighbor\n",
        "\n",
        "Library: Scikit-learn"
      ],
      "metadata": {
        "id": "Wa5UhZfCuAlN"
      }
    },
    {
      "cell_type": "code",
      "source": [
        "from sklearn.neighbors import KNeighborsClassifier\n",
        "\n",
        "name = 'neigh_clf'\n",
        "\n",
        "train = pd.DataFrame(columns = ['n_neighbors', 'algorithm', 'n_jobs'])\n",
        "train = train.append({'n_neighbors': 5, 'algorithm':'auto', 'n_jobs':-1}, ignore_index=True)\n",
        "train = train.append({'n_neighbors': 1, 'algorithm':'auto', 'n_jobs':-1}, ignore_index=True)\n",
        "train = train.append({'n_neighbors': 20, 'algorithm':'kd_tree', 'n_jobs':-1}, ignore_index=True)\n",
        "\n",
        "# models_eval = pd.DataFrame(columns = ['no.', 'confusion_matrix', 'recall', 'f1_score', 'roc_auc_score'])\n",
        "\n",
        "train = train.reset_index()\n",
        "for index, row in train.iterrows():\n",
        "    model_name = name + str(index)\n",
        "    neigh_clf = KNeighborsClassifier(n_neighbors=int(row['n_neighbors']), algorithm = row['algorithm'], n_jobs = int(row['n_jobs']))\n",
        "    neigh_clf.fit(X_train, y_train)\n",
        "    y_true = y_val\n",
        "    y_pred = neigh_clf.predict(X_val)\n",
        "    cfm = confusion_matrix(y_true, y_pred).ravel()\n",
        "    recs = recall_score(y_true, y_pred, average='binary')\n",
        "    f1s = f1_score(y_true, y_pred, average='binary')\n",
        "    rocs = roc_auc_score(y_true, y_pred, average='macro')\n",
        "\n",
        "    models = models.append({'model_name': model_name, 'model': neigh_clf, 'parameters': neigh_clf.get_params()}, ignore_index=True)\n",
        "    models_eval = models_eval.append({'model_name': model_name, 'confusion_matrix' : cfm, 'recall' : recs, \n",
        "                                      'f1_score': f1s, 'roc_auc_score': rocs}, ignore_index=True)\n",
        "  \n",
        "# display(models_eval)\n",
        "\n",
        "# y_pred = neigh_clf.predict(X_val)\n",
        "# print(y_pred)\n",
        "\n",
        "# accuracy_train = round(neigh_clf.score(X_train, y_train)*100,2)\n",
        "# print(round(accuracy_train, 2), '%')\n",
        "\n",
        "# accuracy_test = round(neigh_clf.score(X_test, y_test)*100,2)\n",
        "# print(round(accuracy_test, 2), '%')\n",
        "\n",
        "# accuracy_val = round(neigh_clf.score(X_val, y_val)*100,2)\n",
        "# print(round(accuracy_val, 2), '%')"
      ],
      "metadata": {
        "colab": {
          "base_uri": "https://localhost:8080/"
        },
        "id": "KR1OUBrFG7cK",
        "outputId": "60d26162-a22f-4d62-f89a-1b4e6c32a87a"
      },
      "execution_count": null,
      "outputs": [
        {
          "output_type": "stream",
          "name": "stderr",
          "text": [
            "/usr/local/lib/python3.7/dist-packages/sklearn/neighbors/_classification.py:198: DataConversionWarning: A column-vector y was passed when a 1d array was expected. Please change the shape of y to (n_samples,), for example using ravel().\n",
            "  return self._fit(X, y)\n",
            "/usr/local/lib/python3.7/dist-packages/sklearn/neighbors/_classification.py:198: DataConversionWarning: A column-vector y was passed when a 1d array was expected. Please change the shape of y to (n_samples,), for example using ravel().\n",
            "  return self._fit(X, y)\n",
            "/usr/local/lib/python3.7/dist-packages/sklearn/neighbors/_classification.py:198: DataConversionWarning: A column-vector y was passed when a 1d array was expected. Please change the shape of y to (n_samples,), for example using ravel().\n",
            "  return self._fit(X, y)\n"
          ]
        }
      ]
    },
    {
      "cell_type": "markdown",
      "source": [
        "### Gradient Boosting Classifier\n",
        "\n",
        "Library: Scikit-learn"
      ],
      "metadata": {
        "id": "mUqLO4xSuDou"
      }
    },
    {
      "cell_type": "code",
      "source": [
        "from sklearn.ensemble import GradientBoostingClassifier\n",
        "\n",
        "name = 'gboost_clf'\n",
        "\n",
        "train = pd.DataFrame(columns = ['n_estimators', 'learning_rate', 'max_depth', 'random_state'])\n",
        "train = train.append({'n_estimators': 100, 'learning_rate':0.1, 'max_depth':3, 'random_state':10}, ignore_index=True)\n",
        "train = train.append({'n_estimators': 500, 'learning_rate':0.5, 'max_depth':1, 'random_state':10}, ignore_index=True)\n",
        "train = train.append({'n_estimators': 50, 'learning_rate':0.01, 'max_depth':10, 'random_state':10}, ignore_index=True)\n",
        "\n",
        "# models_eval = pd.DataFrame(columns = ['no.', 'confusion_matrix', 'recall', 'f1_score', 'roc_auc_score'])\n",
        "\n",
        "train = train.reset_index()\n",
        "for index, row in train.iterrows():\n",
        "    model_name = name + str(index)\n",
        "    gboost_clf = GradientBoostingClassifier(n_estimators=int(row['n_estimators']), learning_rate=row['learning_rate'],\n",
        "                                            max_depth=int(row['max_depth']), random_state=int(row['random_state']))\n",
        "    gboost_clf.fit(X_train, y_train)\n",
        "    y_true = y_val\n",
        "    y_pred = gboost_clf.predict(X_val)\n",
        "    cfm = confusion_matrix(y_true, y_pred).ravel()\n",
        "    recs = recall_score(y_true, y_pred, average='binary')\n",
        "    f1s = f1_score(y_true, y_pred, average='binary')\n",
        "    rocs = roc_auc_score(y_true, y_pred, average='macro')\n",
        "\n",
        "    models = models.append({'model_name': model_name, 'model': gboost_clf, 'parameters': gboost_clf.get_params()}, ignore_index=True)\n",
        "    models_eval = models_eval.append({'model_name': model_name, 'confusion_matrix' : cfm, 'recall' : recs, \n",
        "                                      'f1_score': f1s, 'roc_auc_score': rocs}, ignore_index=True)\n",
        "  \n",
        "# display(models_eval)\n",
        "\n",
        "# y_pred = gboost_clf.predict(X_val)\n",
        "# print(y_pred)\n",
        "\n",
        "# accuracy_train = round(gboost_clf.score(X_train, y_train)*100,2)\n",
        "# print(round(accuracy_train, 2), '%')\n",
        "\n",
        "# accuracy_test = round(gboost_clf.score(X_test, y_test)*100,2)\n",
        "# print(round(accuracy_test, 2), '%')\n",
        "\n",
        "# accuracy_val = round(gboost_clf.score(X_val, y_val)*100,2)\n",
        "# print(round(accuracy_val, 2), '%')"
      ],
      "metadata": {
        "colab": {
          "base_uri": "https://localhost:8080/"
        },
        "id": "O7FKV-TNG7Li",
        "outputId": "a805612d-93b7-4d27-8594-008593971f41"
      },
      "execution_count": null,
      "outputs": [
        {
          "output_type": "stream",
          "name": "stderr",
          "text": [
            "/usr/local/lib/python3.7/dist-packages/sklearn/ensemble/_gb.py:494: DataConversionWarning: A column-vector y was passed when a 1d array was expected. Please change the shape of y to (n_samples, ), for example using ravel().\n",
            "  y = column_or_1d(y, warn=True)\n",
            "/usr/local/lib/python3.7/dist-packages/sklearn/ensemble/_gb.py:494: DataConversionWarning: A column-vector y was passed when a 1d array was expected. Please change the shape of y to (n_samples, ), for example using ravel().\n",
            "  y = column_or_1d(y, warn=True)\n",
            "/usr/local/lib/python3.7/dist-packages/sklearn/ensemble/_gb.py:494: DataConversionWarning: A column-vector y was passed when a 1d array was expected. Please change the shape of y to (n_samples, ), for example using ravel().\n",
            "  y = column_or_1d(y, warn=True)\n"
          ]
        }
      ]
    },
    {
      "cell_type": "markdown",
      "source": [
        "### Artificial Neural Network\n",
        "\n",
        "Library: Keras, Tensorflow"
      ],
      "metadata": {
        "id": "xa1upTFtuJYt"
      }
    },
    {
      "cell_type": "code",
      "source": [
        "import tensorflow as tf\n",
        "from tensorflow import keras\n",
        "\n",
        "print(tf.__version__)\n",
        "print(keras.__version__)\n",
        "\n",
        "tf.random.set_seed(12)"
      ],
      "metadata": {
        "colab": {
          "base_uri": "https://localhost:8080/"
        },
        "id": "XZHzNn9DG7AH",
        "outputId": "b86b2264-c1ce-4a9e-8ac3-be9d8a81831b"
      },
      "execution_count": null,
      "outputs": [
        {
          "output_type": "stream",
          "name": "stdout",
          "text": [
            "2.8.2\n",
            "2.8.0\n"
          ]
        }
      ]
    },
    {
      "cell_type": "code",
      "source": [
        "ann_clf = keras.models.Sequential([\n",
        "    keras.layers.Dense(6, input_shape=(X_train.shape[1],), activation='sigmoid'),\n",
        "    keras.layers.Dense(6, activation='sigmoid'),\n",
        "    keras.layers.Dense(6, activation='sigmoid'), \n",
        "    # keras.layers.Dropout(0.2),\n",
        "    keras.layers.Dense(1, activation = 'sigmoid')\n",
        "])\n",
        "\n",
        "ann_clf.summary()"
      ],
      "metadata": {
        "colab": {
          "base_uri": "https://localhost:8080/"
        },
        "id": "9opHQwWTV6r2",
        "outputId": "a49ea35d-c218-4503-df9a-27efc8668088"
      },
      "execution_count": null,
      "outputs": [
        {
          "output_type": "stream",
          "name": "stdout",
          "text": [
            "Model: \"sequential\"\n",
            "_________________________________________________________________\n",
            " Layer (type)                Output Shape              Param #   \n",
            "=================================================================\n",
            " dense (Dense)               (None, 6)                 186       \n",
            "                                                                 \n",
            " dense_1 (Dense)             (None, 6)                 42        \n",
            "                                                                 \n",
            " dense_2 (Dense)             (None, 6)                 42        \n",
            "                                                                 \n",
            " dense_3 (Dense)             (None, 1)                 7         \n",
            "                                                                 \n",
            "=================================================================\n",
            "Total params: 277\n",
            "Trainable params: 277\n",
            "Non-trainable params: 0\n",
            "_________________________________________________________________\n"
          ]
        }
      ]
    },
    {
      "cell_type": "code",
      "source": [
        "ann_clf.layers"
      ],
      "metadata": {
        "colab": {
          "base_uri": "https://localhost:8080/"
        },
        "id": "9VT-xEvhV6mT",
        "outputId": "d7f845f5-a98a-4f28-d048-25acbe242a17"
      },
      "execution_count": null,
      "outputs": [
        {
          "output_type": "execute_result",
          "data": {
            "text/plain": [
              "[<keras.layers.core.dense.Dense at 0x7ff557314f50>,\n",
              " <keras.layers.core.dense.Dense at 0x7ff5595b4a90>,\n",
              " <keras.layers.core.dense.Dense at 0x7ff5572b9850>,\n",
              " <keras.layers.core.dense.Dense at 0x7ff5572b9a90>]"
            ]
          },
          "metadata": {},
          "execution_count": 27
        }
      ]
    },
    {
      "cell_type": "code",
      "source": [
        "ann_clf.compile(optimizer = 'adam', \n",
        "                metrics=['accuracy'], \n",
        "                loss ='binary_crossentropy')\n",
        "\n",
        "record = ann_clf.fit(\n",
        "            X_train, \n",
        "            y_train, \n",
        "            validation_data = (X_val, y_val), \n",
        "            batch_size = 10, \n",
        "            epochs = 200)"
      ],
      "metadata": {
        "colab": {
          "base_uri": "https://localhost:8080/"
        },
        "id": "0Wc0UnxMX6ih",
        "outputId": "c1b87719-4db0-4ab5-f046-ee8d20519bab"
      },
      "execution_count": null,
      "outputs": [
        {
          "output_type": "stream",
          "name": "stdout",
          "text": [
            "Epoch 1/200\n",
            "46/46 [==============================] - 1s 8ms/step - loss: 0.6826 - accuracy: 0.6242 - val_loss: 0.6618 - val_accuracy: 0.6842\n",
            "Epoch 2/200\n",
            "46/46 [==============================] - 0s 3ms/step - loss: 0.6685 - accuracy: 0.6242 - val_loss: 0.6443 - val_accuracy: 0.6842\n",
            "Epoch 3/200\n",
            "46/46 [==============================] - 0s 3ms/step - loss: 0.6607 - accuracy: 0.6242 - val_loss: 0.6343 - val_accuracy: 0.6842\n",
            "Epoch 4/200\n",
            "46/46 [==============================] - 0s 3ms/step - loss: 0.6559 - accuracy: 0.6242 - val_loss: 0.6290 - val_accuracy: 0.6842\n",
            "Epoch 5/200\n",
            "46/46 [==============================] - 0s 4ms/step - loss: 0.6523 - accuracy: 0.6242 - val_loss: 0.6226 - val_accuracy: 0.6842\n",
            "Epoch 6/200\n",
            "46/46 [==============================] - 0s 3ms/step - loss: 0.6485 - accuracy: 0.6242 - val_loss: 0.6179 - val_accuracy: 0.6842\n",
            "Epoch 7/200\n",
            "46/46 [==============================] - 0s 3ms/step - loss: 0.6438 - accuracy: 0.6242 - val_loss: 0.6111 - val_accuracy: 0.6842\n",
            "Epoch 8/200\n",
            "46/46 [==============================] - 0s 3ms/step - loss: 0.6385 - accuracy: 0.6242 - val_loss: 0.6049 - val_accuracy: 0.6842\n",
            "Epoch 9/200\n",
            "46/46 [==============================] - 0s 3ms/step - loss: 0.6313 - accuracy: 0.6242 - val_loss: 0.5970 - val_accuracy: 0.6842\n",
            "Epoch 10/200\n",
            "46/46 [==============================] - 0s 3ms/step - loss: 0.6231 - accuracy: 0.6242 - val_loss: 0.5855 - val_accuracy: 0.6842\n",
            "Epoch 11/200\n",
            "46/46 [==============================] - 0s 3ms/step - loss: 0.6116 - accuracy: 0.6242 - val_loss: 0.5748 - val_accuracy: 0.6842\n",
            "Epoch 12/200\n",
            "46/46 [==============================] - 0s 3ms/step - loss: 0.5959 - accuracy: 0.6242 - val_loss: 0.5586 - val_accuracy: 0.6842\n",
            "Epoch 13/200\n",
            "46/46 [==============================] - 0s 3ms/step - loss: 0.5801 - accuracy: 0.6242 - val_loss: 0.5398 - val_accuracy: 0.6842\n",
            "Epoch 14/200\n",
            "46/46 [==============================] - 0s 3ms/step - loss: 0.5647 - accuracy: 0.6242 - val_loss: 0.5251 - val_accuracy: 0.6842\n",
            "Epoch 15/200\n",
            "46/46 [==============================] - 0s 3ms/step - loss: 0.5420 - accuracy: 0.7055 - val_loss: 0.4983 - val_accuracy: 0.9123\n",
            "Epoch 16/200\n",
            "46/46 [==============================] - 0s 3ms/step - loss: 0.5256 - accuracy: 0.8813 - val_loss: 0.4818 - val_accuracy: 0.9298\n",
            "Epoch 17/200\n",
            "46/46 [==============================] - 0s 4ms/step - loss: 0.5020 - accuracy: 0.8813 - val_loss: 0.4637 - val_accuracy: 0.9298\n",
            "Epoch 18/200\n",
            "46/46 [==============================] - 0s 3ms/step - loss: 0.4800 - accuracy: 0.9011 - val_loss: 0.4428 - val_accuracy: 0.9123\n",
            "Epoch 19/200\n",
            "46/46 [==============================] - 0s 3ms/step - loss: 0.4584 - accuracy: 0.8901 - val_loss: 0.4269 - val_accuracy: 0.9123\n",
            "Epoch 20/200\n",
            "46/46 [==============================] - 0s 3ms/step - loss: 0.4379 - accuracy: 0.8813 - val_loss: 0.3891 - val_accuracy: 0.9298\n",
            "Epoch 21/200\n",
            "46/46 [==============================] - 0s 3ms/step - loss: 0.4254 - accuracy: 0.9033 - val_loss: 0.3950 - val_accuracy: 0.9123\n",
            "Epoch 22/200\n",
            "46/46 [==============================] - 0s 3ms/step - loss: 0.4068 - accuracy: 0.9099 - val_loss: 0.3686 - val_accuracy: 0.9123\n",
            "Epoch 23/200\n",
            "46/46 [==============================] - 0s 3ms/step - loss: 0.3858 - accuracy: 0.8967 - val_loss: 0.3317 - val_accuracy: 0.9123\n",
            "Epoch 24/200\n",
            "46/46 [==============================] - 0s 3ms/step - loss: 0.3812 - accuracy: 0.8857 - val_loss: 0.3614 - val_accuracy: 0.9123\n",
            "Epoch 25/200\n",
            "46/46 [==============================] - 0s 3ms/step - loss: 0.3692 - accuracy: 0.8989 - val_loss: 0.3247 - val_accuracy: 0.9123\n",
            "Epoch 26/200\n",
            "46/46 [==============================] - 0s 3ms/step - loss: 0.3667 - accuracy: 0.8967 - val_loss: 0.3440 - val_accuracy: 0.9298\n",
            "Epoch 27/200\n",
            "46/46 [==============================] - 0s 3ms/step - loss: 0.3605 - accuracy: 0.8945 - val_loss: 0.3019 - val_accuracy: 0.9298\n",
            "Epoch 28/200\n",
            "46/46 [==============================] - 0s 3ms/step - loss: 0.3355 - accuracy: 0.9033 - val_loss: 0.3033 - val_accuracy: 0.9298\n",
            "Epoch 29/200\n",
            "46/46 [==============================] - 0s 3ms/step - loss: 0.3240 - accuracy: 0.9033 - val_loss: 0.2992 - val_accuracy: 0.9123\n",
            "Epoch 30/200\n",
            "46/46 [==============================] - 0s 3ms/step - loss: 0.3175 - accuracy: 0.8901 - val_loss: 0.2996 - val_accuracy: 0.9123\n",
            "Epoch 31/200\n",
            "46/46 [==============================] - 0s 3ms/step - loss: 0.3187 - accuracy: 0.8923 - val_loss: 0.2640 - val_accuracy: 0.9298\n",
            "Epoch 32/200\n",
            "46/46 [==============================] - 0s 3ms/step - loss: 0.3150 - accuracy: 0.8967 - val_loss: 0.2702 - val_accuracy: 0.9123\n",
            "Epoch 33/200\n",
            "46/46 [==============================] - 0s 3ms/step - loss: 0.3090 - accuracy: 0.8901 - val_loss: 0.2960 - val_accuracy: 0.8772\n",
            "Epoch 34/200\n",
            "46/46 [==============================] - 0s 3ms/step - loss: 0.3190 - accuracy: 0.8967 - val_loss: 0.2684 - val_accuracy: 0.9123\n",
            "Epoch 35/200\n",
            "46/46 [==============================] - 0s 3ms/step - loss: 0.2912 - accuracy: 0.8967 - val_loss: 0.2565 - val_accuracy: 0.9123\n",
            "Epoch 36/200\n",
            "46/46 [==============================] - 0s 3ms/step - loss: 0.2888 - accuracy: 0.8945 - val_loss: 0.2632 - val_accuracy: 0.9123\n",
            "Epoch 37/200\n",
            "46/46 [==============================] - 0s 3ms/step - loss: 0.2843 - accuracy: 0.8989 - val_loss: 0.2717 - val_accuracy: 0.9123\n",
            "Epoch 38/200\n",
            "46/46 [==============================] - 0s 3ms/step - loss: 0.2979 - accuracy: 0.9011 - val_loss: 0.2291 - val_accuracy: 0.9298\n",
            "Epoch 39/200\n",
            "46/46 [==============================] - 0s 3ms/step - loss: 0.2856 - accuracy: 0.8967 - val_loss: 0.2267 - val_accuracy: 0.9123\n",
            "Epoch 40/200\n",
            "46/46 [==============================] - 0s 3ms/step - loss: 0.3050 - accuracy: 0.8813 - val_loss: 0.2593 - val_accuracy: 0.9298\n",
            "Epoch 41/200\n",
            "46/46 [==============================] - 0s 3ms/step - loss: 0.2772 - accuracy: 0.9033 - val_loss: 0.2468 - val_accuracy: 0.9123\n",
            "Epoch 42/200\n",
            "46/46 [==============================] - 0s 4ms/step - loss: 0.2889 - accuracy: 0.8989 - val_loss: 0.2369 - val_accuracy: 0.9123\n",
            "Epoch 43/200\n",
            "46/46 [==============================] - 0s 3ms/step - loss: 0.2709 - accuracy: 0.8923 - val_loss: 0.2322 - val_accuracy: 0.8947\n",
            "Epoch 44/200\n",
            "46/46 [==============================] - 0s 3ms/step - loss: 0.2864 - accuracy: 0.9011 - val_loss: 0.2226 - val_accuracy: 0.9123\n",
            "Epoch 45/200\n",
            "46/46 [==============================] - 0s 3ms/step - loss: 0.2740 - accuracy: 0.8813 - val_loss: 0.2140 - val_accuracy: 0.9298\n",
            "Epoch 46/200\n",
            "46/46 [==============================] - 0s 3ms/step - loss: 0.2783 - accuracy: 0.8857 - val_loss: 0.2068 - val_accuracy: 0.9123\n",
            "Epoch 47/200\n",
            "46/46 [==============================] - 0s 3ms/step - loss: 0.2654 - accuracy: 0.8945 - val_loss: 0.2096 - val_accuracy: 0.9123\n",
            "Epoch 48/200\n",
            "46/46 [==============================] - 0s 3ms/step - loss: 0.2641 - accuracy: 0.9165 - val_loss: 0.2447 - val_accuracy: 0.9298\n",
            "Epoch 49/200\n",
            "46/46 [==============================] - 0s 3ms/step - loss: 0.2670 - accuracy: 0.9011 - val_loss: 0.2296 - val_accuracy: 0.8772\n",
            "Epoch 50/200\n",
            "46/46 [==============================] - 0s 3ms/step - loss: 0.2590 - accuracy: 0.8923 - val_loss: 0.2595 - val_accuracy: 0.8947\n",
            "Epoch 51/200\n",
            "46/46 [==============================] - 0s 3ms/step - loss: 0.2577 - accuracy: 0.9055 - val_loss: 0.2179 - val_accuracy: 0.9298\n",
            "Epoch 52/200\n",
            "46/46 [==============================] - 0s 3ms/step - loss: 0.2598 - accuracy: 0.8989 - val_loss: 0.2429 - val_accuracy: 0.9298\n",
            "Epoch 53/200\n",
            "46/46 [==============================] - 0s 3ms/step - loss: 0.2889 - accuracy: 0.8945 - val_loss: 0.2589 - val_accuracy: 0.9123\n",
            "Epoch 54/200\n",
            "46/46 [==============================] - 0s 3ms/step - loss: 0.2817 - accuracy: 0.8681 - val_loss: 0.1982 - val_accuracy: 0.9123\n",
            "Epoch 55/200\n",
            "46/46 [==============================] - 0s 3ms/step - loss: 0.2692 - accuracy: 0.9055 - val_loss: 0.2299 - val_accuracy: 0.9298\n",
            "Epoch 56/200\n",
            "46/46 [==============================] - 0s 3ms/step - loss: 0.2605 - accuracy: 0.8989 - val_loss: 0.2258 - val_accuracy: 0.9123\n",
            "Epoch 57/200\n",
            "46/46 [==============================] - 0s 3ms/step - loss: 0.2783 - accuracy: 0.8989 - val_loss: 0.2091 - val_accuracy: 0.9298\n",
            "Epoch 58/200\n",
            "46/46 [==============================] - 0s 3ms/step - loss: 0.2711 - accuracy: 0.8857 - val_loss: 0.2202 - val_accuracy: 0.9123\n",
            "Epoch 59/200\n",
            "46/46 [==============================] - 0s 4ms/step - loss: 0.2733 - accuracy: 0.8769 - val_loss: 0.2737 - val_accuracy: 0.9123\n",
            "Epoch 60/200\n",
            "46/46 [==============================] - 0s 3ms/step - loss: 0.2702 - accuracy: 0.8681 - val_loss: 0.2285 - val_accuracy: 0.9123\n",
            "Epoch 61/200\n",
            "46/46 [==============================] - 0s 3ms/step - loss: 0.2504 - accuracy: 0.8813 - val_loss: 0.1898 - val_accuracy: 0.9123\n",
            "Epoch 62/200\n",
            "46/46 [==============================] - 0s 3ms/step - loss: 0.2386 - accuracy: 0.9033 - val_loss: 0.2091 - val_accuracy: 0.9298\n",
            "Epoch 63/200\n",
            "46/46 [==============================] - 0s 3ms/step - loss: 0.2752 - accuracy: 0.8791 - val_loss: 0.2107 - val_accuracy: 0.9298\n",
            "Epoch 64/200\n",
            "46/46 [==============================] - 0s 3ms/step - loss: 0.2453 - accuracy: 0.9011 - val_loss: 0.2111 - val_accuracy: 0.9298\n",
            "Epoch 65/200\n",
            "46/46 [==============================] - 0s 3ms/step - loss: 0.2420 - accuracy: 0.9011 - val_loss: 0.2124 - val_accuracy: 0.9298\n",
            "Epoch 66/200\n",
            "46/46 [==============================] - 0s 3ms/step - loss: 0.2368 - accuracy: 0.9033 - val_loss: 0.1969 - val_accuracy: 0.9298\n",
            "Epoch 67/200\n",
            "46/46 [==============================] - 0s 3ms/step - loss: 0.2504 - accuracy: 0.8879 - val_loss: 0.1884 - val_accuracy: 0.9123\n",
            "Epoch 68/200\n",
            "46/46 [==============================] - 0s 3ms/step - loss: 0.2772 - accuracy: 0.8637 - val_loss: 0.2370 - val_accuracy: 0.8772\n",
            "Epoch 69/200\n",
            "46/46 [==============================] - 0s 3ms/step - loss: 0.2585 - accuracy: 0.8571 - val_loss: 0.2203 - val_accuracy: 0.9298\n",
            "Epoch 70/200\n",
            "46/46 [==============================] - 0s 3ms/step - loss: 0.2568 - accuracy: 0.8923 - val_loss: 0.1914 - val_accuracy: 0.9298\n",
            "Epoch 71/200\n",
            "46/46 [==============================] - 0s 3ms/step - loss: 0.2634 - accuracy: 0.9011 - val_loss: 0.1820 - val_accuracy: 0.9123\n",
            "Epoch 72/200\n",
            "46/46 [==============================] - 0s 3ms/step - loss: 0.2512 - accuracy: 0.8879 - val_loss: 0.1887 - val_accuracy: 0.9123\n",
            "Epoch 73/200\n",
            "46/46 [==============================] - 0s 3ms/step - loss: 0.2553 - accuracy: 0.8967 - val_loss: 0.2226 - val_accuracy: 0.9298\n",
            "Epoch 74/200\n",
            "46/46 [==============================] - 0s 3ms/step - loss: 0.2806 - accuracy: 0.8725 - val_loss: 0.1904 - val_accuracy: 0.9298\n",
            "Epoch 75/200\n",
            "46/46 [==============================] - 0s 3ms/step - loss: 0.2831 - accuracy: 0.9077 - val_loss: 0.2763 - val_accuracy: 0.9123\n",
            "Epoch 76/200\n",
            "46/46 [==============================] - 0s 3ms/step - loss: 0.2790 - accuracy: 0.8923 - val_loss: 0.1953 - val_accuracy: 0.9298\n",
            "Epoch 77/200\n",
            "46/46 [==============================] - 0s 3ms/step - loss: 0.2520 - accuracy: 0.8879 - val_loss: 0.1960 - val_accuracy: 0.9123\n",
            "Epoch 78/200\n",
            "46/46 [==============================] - 0s 3ms/step - loss: 0.2476 - accuracy: 0.9077 - val_loss: 0.2192 - val_accuracy: 0.9123\n",
            "Epoch 79/200\n",
            "46/46 [==============================] - 0s 3ms/step - loss: 0.2382 - accuracy: 0.9011 - val_loss: 0.1816 - val_accuracy: 0.9123\n",
            "Epoch 80/200\n",
            "46/46 [==============================] - 0s 6ms/step - loss: 0.2432 - accuracy: 0.9033 - val_loss: 0.2161 - val_accuracy: 0.9298\n",
            "Epoch 81/200\n",
            "46/46 [==============================] - 0s 8ms/step - loss: 0.2446 - accuracy: 0.9011 - val_loss: 0.1987 - val_accuracy: 0.9123\n",
            "Epoch 82/200\n",
            "46/46 [==============================] - 0s 9ms/step - loss: 0.2476 - accuracy: 0.9055 - val_loss: 0.2106 - val_accuracy: 0.9298\n",
            "Epoch 83/200\n",
            "46/46 [==============================] - 0s 6ms/step - loss: 0.2497 - accuracy: 0.9055 - val_loss: 0.2102 - val_accuracy: 0.9123\n",
            "Epoch 84/200\n",
            "46/46 [==============================] - 0s 3ms/step - loss: 0.2522 - accuracy: 0.8967 - val_loss: 0.2093 - val_accuracy: 0.9298\n",
            "Epoch 85/200\n",
            "46/46 [==============================] - 0s 3ms/step - loss: 0.2408 - accuracy: 0.8989 - val_loss: 0.2048 - val_accuracy: 0.9123\n",
            "Epoch 86/200\n",
            "46/46 [==============================] - 0s 3ms/step - loss: 0.2372 - accuracy: 0.9011 - val_loss: 0.1977 - val_accuracy: 0.9123\n",
            "Epoch 87/200\n",
            "46/46 [==============================] - 0s 3ms/step - loss: 0.2515 - accuracy: 0.8989 - val_loss: 0.1911 - val_accuracy: 0.9123\n",
            "Epoch 88/200\n",
            "46/46 [==============================] - 0s 3ms/step - loss: 0.2514 - accuracy: 0.8989 - val_loss: 0.2224 - val_accuracy: 0.9298\n",
            "Epoch 89/200\n",
            "46/46 [==============================] - 0s 3ms/step - loss: 0.2444 - accuracy: 0.8967 - val_loss: 0.1854 - val_accuracy: 0.9298\n",
            "Epoch 90/200\n",
            "46/46 [==============================] - 0s 3ms/step - loss: 0.2475 - accuracy: 0.8967 - val_loss: 0.1978 - val_accuracy: 0.9123\n",
            "Epoch 91/200\n",
            "46/46 [==============================] - 0s 3ms/step - loss: 0.2505 - accuracy: 0.8901 - val_loss: 0.1912 - val_accuracy: 0.9298\n",
            "Epoch 92/200\n",
            "46/46 [==============================] - 0s 3ms/step - loss: 0.2530 - accuracy: 0.9011 - val_loss: 0.1876 - val_accuracy: 0.9298\n",
            "Epoch 93/200\n",
            "46/46 [==============================] - 0s 3ms/step - loss: 0.2462 - accuracy: 0.8989 - val_loss: 0.1920 - val_accuracy: 0.9298\n",
            "Epoch 94/200\n",
            "46/46 [==============================] - 0s 3ms/step - loss: 0.2604 - accuracy: 0.8989 - val_loss: 0.1920 - val_accuracy: 0.9298\n",
            "Epoch 95/200\n",
            "46/46 [==============================] - 0s 3ms/step - loss: 0.2638 - accuracy: 0.8989 - val_loss: 0.2012 - val_accuracy: 0.9298\n",
            "Epoch 96/200\n",
            "46/46 [==============================] - 0s 3ms/step - loss: 0.2386 - accuracy: 0.8945 - val_loss: 0.1907 - val_accuracy: 0.9298\n",
            "Epoch 97/200\n",
            "46/46 [==============================] - 0s 3ms/step - loss: 0.2473 - accuracy: 0.8967 - val_loss: 0.1928 - val_accuracy: 0.9298\n",
            "Epoch 98/200\n",
            "46/46 [==============================] - 0s 3ms/step - loss: 0.2405 - accuracy: 0.8989 - val_loss: 0.1818 - val_accuracy: 0.9298\n",
            "Epoch 99/200\n",
            "46/46 [==============================] - 0s 3ms/step - loss: 0.2380 - accuracy: 0.9055 - val_loss: 0.1758 - val_accuracy: 0.9298\n",
            "Epoch 100/200\n",
            "46/46 [==============================] - 0s 3ms/step - loss: 0.2467 - accuracy: 0.9011 - val_loss: 0.2101 - val_accuracy: 0.9123\n",
            "Epoch 101/200\n",
            "46/46 [==============================] - 0s 3ms/step - loss: 0.2552 - accuracy: 0.9011 - val_loss: 0.2016 - val_accuracy: 0.9298\n",
            "Epoch 102/200\n",
            "46/46 [==============================] - 0s 3ms/step - loss: 0.2825 - accuracy: 0.8703 - val_loss: 0.2133 - val_accuracy: 0.9123\n",
            "Epoch 103/200\n",
            "46/46 [==============================] - 0s 3ms/step - loss: 0.2573 - accuracy: 0.8769 - val_loss: 0.1931 - val_accuracy: 0.9298\n",
            "Epoch 104/200\n",
            "46/46 [==============================] - 0s 3ms/step - loss: 0.2444 - accuracy: 0.8967 - val_loss: 0.2061 - val_accuracy: 0.9123\n",
            "Epoch 105/200\n",
            "46/46 [==============================] - 0s 3ms/step - loss: 0.2498 - accuracy: 0.9033 - val_loss: 0.1871 - val_accuracy: 0.9298\n",
            "Epoch 106/200\n",
            "46/46 [==============================] - 0s 3ms/step - loss: 0.2435 - accuracy: 0.8967 - val_loss: 0.2043 - val_accuracy: 0.9298\n",
            "Epoch 107/200\n",
            "46/46 [==============================] - 0s 3ms/step - loss: 0.2390 - accuracy: 0.9077 - val_loss: 0.1870 - val_accuracy: 0.9298\n",
            "Epoch 108/200\n",
            "46/46 [==============================] - 0s 3ms/step - loss: 0.2335 - accuracy: 0.9033 - val_loss: 0.1897 - val_accuracy: 0.9298\n",
            "Epoch 109/200\n",
            "46/46 [==============================] - 0s 3ms/step - loss: 0.2514 - accuracy: 0.9055 - val_loss: 0.1968 - val_accuracy: 0.9298\n",
            "Epoch 110/200\n",
            "46/46 [==============================] - 0s 3ms/step - loss: 0.2302 - accuracy: 0.9033 - val_loss: 0.2471 - val_accuracy: 0.9298\n",
            "Epoch 111/200\n",
            "46/46 [==============================] - 0s 3ms/step - loss: 0.2512 - accuracy: 0.9055 - val_loss: 0.1841 - val_accuracy: 0.9298\n",
            "Epoch 112/200\n",
            "46/46 [==============================] - 0s 3ms/step - loss: 0.2795 - accuracy: 0.8484 - val_loss: 0.2059 - val_accuracy: 0.9298\n",
            "Epoch 113/200\n",
            "46/46 [==============================] - 0s 3ms/step - loss: 0.2404 - accuracy: 0.8989 - val_loss: 0.1761 - val_accuracy: 0.9123\n",
            "Epoch 114/200\n",
            "46/46 [==============================] - 0s 3ms/step - loss: 0.2447 - accuracy: 0.9077 - val_loss: 0.1987 - val_accuracy: 0.8947\n",
            "Epoch 115/200\n",
            "46/46 [==============================] - 0s 3ms/step - loss: 0.2358 - accuracy: 0.9099 - val_loss: 0.1874 - val_accuracy: 0.9123\n",
            "Epoch 116/200\n",
            "46/46 [==============================] - 0s 3ms/step - loss: 0.2471 - accuracy: 0.8945 - val_loss: 0.1806 - val_accuracy: 0.9298\n",
            "Epoch 117/200\n",
            "46/46 [==============================] - 0s 3ms/step - loss: 0.2416 - accuracy: 0.8967 - val_loss: 0.2895 - val_accuracy: 0.8772\n",
            "Epoch 118/200\n",
            "46/46 [==============================] - 0s 3ms/step - loss: 0.2803 - accuracy: 0.9055 - val_loss: 0.2027 - val_accuracy: 0.9298\n",
            "Epoch 119/200\n",
            "46/46 [==============================] - 0s 3ms/step - loss: 0.2441 - accuracy: 0.8879 - val_loss: 0.2536 - val_accuracy: 0.9123\n",
            "Epoch 120/200\n",
            "46/46 [==============================] - 0s 4ms/step - loss: 0.2921 - accuracy: 0.9055 - val_loss: 0.1730 - val_accuracy: 0.9298\n",
            "Epoch 121/200\n",
            "46/46 [==============================] - 0s 3ms/step - loss: 0.2821 - accuracy: 0.8659 - val_loss: 0.2103 - val_accuracy: 0.9123\n",
            "Epoch 122/200\n",
            "46/46 [==============================] - 0s 3ms/step - loss: 0.2544 - accuracy: 0.8901 - val_loss: 0.2475 - val_accuracy: 0.9298\n",
            "Epoch 123/200\n",
            "46/46 [==============================] - 0s 3ms/step - loss: 0.2453 - accuracy: 0.9055 - val_loss: 0.1906 - val_accuracy: 0.9298\n",
            "Epoch 124/200\n",
            "46/46 [==============================] - 0s 3ms/step - loss: 0.2349 - accuracy: 0.9011 - val_loss: 0.1840 - val_accuracy: 0.9298\n",
            "Epoch 125/200\n",
            "46/46 [==============================] - 0s 3ms/step - loss: 0.2360 - accuracy: 0.8945 - val_loss: 0.1913 - val_accuracy: 0.9123\n",
            "Epoch 126/200\n",
            "46/46 [==============================] - 0s 3ms/step - loss: 0.2527 - accuracy: 0.8923 - val_loss: 0.2010 - val_accuracy: 0.9123\n",
            "Epoch 127/200\n",
            "46/46 [==============================] - 0s 3ms/step - loss: 0.2542 - accuracy: 0.8945 - val_loss: 0.1733 - val_accuracy: 0.9298\n",
            "Epoch 128/200\n",
            "46/46 [==============================] - 0s 3ms/step - loss: 0.2436 - accuracy: 0.8967 - val_loss: 0.1952 - val_accuracy: 0.9298\n",
            "Epoch 129/200\n",
            "46/46 [==============================] - 0s 3ms/step - loss: 0.2516 - accuracy: 0.9055 - val_loss: 0.2400 - val_accuracy: 0.9298\n",
            "Epoch 130/200\n",
            "46/46 [==============================] - 0s 3ms/step - loss: 0.2688 - accuracy: 0.8549 - val_loss: 0.1771 - val_accuracy: 0.9123\n",
            "Epoch 131/200\n",
            "46/46 [==============================] - 0s 3ms/step - loss: 0.2530 - accuracy: 0.8923 - val_loss: 0.1662 - val_accuracy: 0.9298\n",
            "Epoch 132/200\n",
            "46/46 [==============================] - 0s 3ms/step - loss: 0.2474 - accuracy: 0.8923 - val_loss: 0.2117 - val_accuracy: 0.8772\n",
            "Epoch 133/200\n",
            "46/46 [==============================] - 0s 3ms/step - loss: 0.2609 - accuracy: 0.8747 - val_loss: 0.1990 - val_accuracy: 0.9298\n",
            "Epoch 134/200\n",
            "46/46 [==============================] - 0s 3ms/step - loss: 0.2372 - accuracy: 0.9121 - val_loss: 0.1809 - val_accuracy: 0.9298\n",
            "Epoch 135/200\n",
            "46/46 [==============================] - 0s 3ms/step - loss: 0.2461 - accuracy: 0.9011 - val_loss: 0.1674 - val_accuracy: 0.9298\n",
            "Epoch 136/200\n",
            "46/46 [==============================] - 0s 3ms/step - loss: 0.2373 - accuracy: 0.9077 - val_loss: 0.1821 - val_accuracy: 0.9298\n",
            "Epoch 137/200\n",
            "46/46 [==============================] - 0s 3ms/step - loss: 0.2284 - accuracy: 0.9055 - val_loss: 0.1897 - val_accuracy: 0.9298\n",
            "Epoch 138/200\n",
            "46/46 [==============================] - 0s 3ms/step - loss: 0.2320 - accuracy: 0.8945 - val_loss: 0.1649 - val_accuracy: 0.9298\n",
            "Epoch 139/200\n",
            "46/46 [==============================] - 0s 3ms/step - loss: 0.2260 - accuracy: 0.9033 - val_loss: 0.1819 - val_accuracy: 0.9298\n",
            "Epoch 140/200\n",
            "46/46 [==============================] - 0s 3ms/step - loss: 0.2507 - accuracy: 0.9077 - val_loss: 0.1849 - val_accuracy: 0.9298\n",
            "Epoch 141/200\n",
            "46/46 [==============================] - 0s 3ms/step - loss: 0.2384 - accuracy: 0.8989 - val_loss: 0.1847 - val_accuracy: 0.9298\n",
            "Epoch 142/200\n",
            "46/46 [==============================] - 0s 3ms/step - loss: 0.2322 - accuracy: 0.9033 - val_loss: 0.1768 - val_accuracy: 0.9298\n",
            "Epoch 143/200\n",
            "46/46 [==============================] - 0s 3ms/step - loss: 0.2398 - accuracy: 0.8901 - val_loss: 0.2006 - val_accuracy: 0.9123\n",
            "Epoch 144/200\n",
            "46/46 [==============================] - 0s 3ms/step - loss: 0.2325 - accuracy: 0.9055 - val_loss: 0.1932 - val_accuracy: 0.9123\n",
            "Epoch 145/200\n",
            "46/46 [==============================] - 0s 3ms/step - loss: 0.2341 - accuracy: 0.9033 - val_loss: 0.1821 - val_accuracy: 0.9298\n",
            "Epoch 146/200\n",
            "46/46 [==============================] - 0s 3ms/step - loss: 0.2572 - accuracy: 0.8989 - val_loss: 0.1983 - val_accuracy: 0.9123\n",
            "Epoch 147/200\n",
            "46/46 [==============================] - 0s 3ms/step - loss: 0.2504 - accuracy: 0.8813 - val_loss: 0.1914 - val_accuracy: 0.9298\n",
            "Epoch 148/200\n",
            "46/46 [==============================] - 0s 3ms/step - loss: 0.2319 - accuracy: 0.9033 - val_loss: 0.1645 - val_accuracy: 0.9298\n",
            "Epoch 149/200\n",
            "46/46 [==============================] - 0s 3ms/step - loss: 0.2329 - accuracy: 0.9033 - val_loss: 0.2029 - val_accuracy: 0.9298\n",
            "Epoch 150/200\n",
            "46/46 [==============================] - 0s 3ms/step - loss: 0.2337 - accuracy: 0.9033 - val_loss: 0.1855 - val_accuracy: 0.9298\n",
            "Epoch 151/200\n",
            "46/46 [==============================] - 0s 3ms/step - loss: 0.2338 - accuracy: 0.9011 - val_loss: 0.1753 - val_accuracy: 0.9298\n",
            "Epoch 152/200\n",
            "46/46 [==============================] - 0s 3ms/step - loss: 0.2345 - accuracy: 0.8989 - val_loss: 0.1855 - val_accuracy: 0.9298\n",
            "Epoch 153/200\n",
            "46/46 [==============================] - 0s 3ms/step - loss: 0.2357 - accuracy: 0.9055 - val_loss: 0.1886 - val_accuracy: 0.9298\n",
            "Epoch 154/200\n",
            "46/46 [==============================] - 0s 3ms/step - loss: 0.2358 - accuracy: 0.9077 - val_loss: 0.1833 - val_accuracy: 0.9474\n",
            "Epoch 155/200\n",
            "46/46 [==============================] - 0s 3ms/step - loss: 0.2472 - accuracy: 0.9077 - val_loss: 0.1923 - val_accuracy: 0.9474\n",
            "Epoch 156/200\n",
            "46/46 [==============================] - 0s 3ms/step - loss: 0.2347 - accuracy: 0.9033 - val_loss: 0.1957 - val_accuracy: 0.9123\n",
            "Epoch 157/200\n",
            "46/46 [==============================] - 0s 4ms/step - loss: 0.2341 - accuracy: 0.8923 - val_loss: 0.1728 - val_accuracy: 0.9298\n",
            "Epoch 158/200\n",
            "46/46 [==============================] - 0s 3ms/step - loss: 0.2547 - accuracy: 0.9121 - val_loss: 0.1810 - val_accuracy: 0.9298\n",
            "Epoch 159/200\n",
            "46/46 [==============================] - 0s 3ms/step - loss: 0.2382 - accuracy: 0.9099 - val_loss: 0.1676 - val_accuracy: 0.9298\n",
            "Epoch 160/200\n",
            "46/46 [==============================] - 0s 3ms/step - loss: 0.2392 - accuracy: 0.8945 - val_loss: 0.1864 - val_accuracy: 0.9298\n",
            "Epoch 161/200\n",
            "46/46 [==============================] - 0s 4ms/step - loss: 0.2375 - accuracy: 0.8901 - val_loss: 0.1621 - val_accuracy: 0.9474\n",
            "Epoch 162/200\n",
            "46/46 [==============================] - 0s 4ms/step - loss: 0.2542 - accuracy: 0.8923 - val_loss: 0.1986 - val_accuracy: 0.9298\n",
            "Epoch 163/200\n",
            "46/46 [==============================] - 0s 3ms/step - loss: 0.2377 - accuracy: 0.8989 - val_loss: 0.1632 - val_accuracy: 0.9123\n",
            "Epoch 164/200\n",
            "46/46 [==============================] - 0s 4ms/step - loss: 0.2401 - accuracy: 0.8945 - val_loss: 0.1783 - val_accuracy: 0.9123\n",
            "Epoch 165/200\n",
            "46/46 [==============================] - 0s 4ms/step - loss: 0.2347 - accuracy: 0.9011 - val_loss: 0.1697 - val_accuracy: 0.9298\n",
            "Epoch 166/200\n",
            "46/46 [==============================] - 0s 3ms/step - loss: 0.2339 - accuracy: 0.9011 - val_loss: 0.1643 - val_accuracy: 0.9298\n",
            "Epoch 167/200\n",
            "46/46 [==============================] - 0s 3ms/step - loss: 0.2322 - accuracy: 0.9055 - val_loss: 0.1732 - val_accuracy: 0.9123\n",
            "Epoch 168/200\n",
            "46/46 [==============================] - 0s 4ms/step - loss: 0.2462 - accuracy: 0.9033 - val_loss: 0.2009 - val_accuracy: 0.9298\n",
            "Epoch 169/200\n",
            "46/46 [==============================] - 0s 3ms/step - loss: 0.2484 - accuracy: 0.9055 - val_loss: 0.1613 - val_accuracy: 0.9474\n",
            "Epoch 170/200\n",
            "46/46 [==============================] - 0s 3ms/step - loss: 0.2661 - accuracy: 0.8769 - val_loss: 0.1883 - val_accuracy: 0.9298\n",
            "Epoch 171/200\n",
            "46/46 [==============================] - 0s 3ms/step - loss: 0.2437 - accuracy: 0.8989 - val_loss: 0.1725 - val_accuracy: 0.9298\n",
            "Epoch 172/200\n",
            "46/46 [==============================] - 0s 3ms/step - loss: 0.2293 - accuracy: 0.9099 - val_loss: 0.1963 - val_accuracy: 0.9298\n",
            "Epoch 173/200\n",
            "46/46 [==============================] - 0s 3ms/step - loss: 0.2420 - accuracy: 0.9055 - val_loss: 0.1657 - val_accuracy: 0.9298\n",
            "Epoch 174/200\n",
            "46/46 [==============================] - 0s 3ms/step - loss: 0.2432 - accuracy: 0.8989 - val_loss: 0.2035 - val_accuracy: 0.9123\n",
            "Epoch 175/200\n",
            "46/46 [==============================] - 0s 3ms/step - loss: 0.2338 - accuracy: 0.9033 - val_loss: 0.1892 - val_accuracy: 0.9298\n",
            "Epoch 176/200\n",
            "46/46 [==============================] - 0s 3ms/step - loss: 0.2324 - accuracy: 0.9055 - val_loss: 0.1824 - val_accuracy: 0.9298\n",
            "Epoch 177/200\n",
            "46/46 [==============================] - 0s 3ms/step - loss: 0.2547 - accuracy: 0.8747 - val_loss: 0.1971 - val_accuracy: 0.9298\n",
            "Epoch 178/200\n",
            "46/46 [==============================] - 0s 3ms/step - loss: 0.2375 - accuracy: 0.9077 - val_loss: 0.1623 - val_accuracy: 0.9298\n",
            "Epoch 179/200\n",
            "46/46 [==============================] - 0s 3ms/step - loss: 0.2348 - accuracy: 0.9099 - val_loss: 0.1733 - val_accuracy: 0.9298\n",
            "Epoch 180/200\n",
            "46/46 [==============================] - 0s 3ms/step - loss: 0.2426 - accuracy: 0.9143 - val_loss: 0.1719 - val_accuracy: 0.9298\n",
            "Epoch 181/200\n",
            "46/46 [==============================] - 0s 3ms/step - loss: 0.2308 - accuracy: 0.9055 - val_loss: 0.1943 - val_accuracy: 0.9123\n",
            "Epoch 182/200\n",
            "46/46 [==============================] - 0s 3ms/step - loss: 0.2328 - accuracy: 0.8967 - val_loss: 0.1709 - val_accuracy: 0.9298\n",
            "Epoch 183/200\n",
            "46/46 [==============================] - 0s 3ms/step - loss: 0.2328 - accuracy: 0.8945 - val_loss: 0.1853 - val_accuracy: 0.9298\n",
            "Epoch 184/200\n",
            "46/46 [==============================] - 0s 3ms/step - loss: 0.2277 - accuracy: 0.9055 - val_loss: 0.1721 - val_accuracy: 0.9298\n",
            "Epoch 185/200\n",
            "46/46 [==============================] - 0s 3ms/step - loss: 0.2269 - accuracy: 0.8989 - val_loss: 0.1988 - val_accuracy: 0.9298\n",
            "Epoch 186/200\n",
            "46/46 [==============================] - 0s 3ms/step - loss: 0.2326 - accuracy: 0.8967 - val_loss: 0.1724 - val_accuracy: 0.9298\n",
            "Epoch 187/200\n",
            "46/46 [==============================] - 0s 3ms/step - loss: 0.2310 - accuracy: 0.8967 - val_loss: 0.1932 - val_accuracy: 0.9298\n",
            "Epoch 188/200\n",
            "46/46 [==============================] - 0s 3ms/step - loss: 0.2284 - accuracy: 0.8967 - val_loss: 0.1736 - val_accuracy: 0.9298\n",
            "Epoch 189/200\n",
            "46/46 [==============================] - 0s 3ms/step - loss: 0.2480 - accuracy: 0.8901 - val_loss: 0.1768 - val_accuracy: 0.9298\n",
            "Epoch 190/200\n",
            "46/46 [==============================] - 0s 3ms/step - loss: 0.2298 - accuracy: 0.9033 - val_loss: 0.1883 - val_accuracy: 0.9298\n",
            "Epoch 191/200\n",
            "46/46 [==============================] - 0s 3ms/step - loss: 0.2270 - accuracy: 0.9033 - val_loss: 0.1681 - val_accuracy: 0.9298\n",
            "Epoch 192/200\n",
            "46/46 [==============================] - 0s 3ms/step - loss: 0.2450 - accuracy: 0.8637 - val_loss: 0.1787 - val_accuracy: 0.9298\n",
            "Epoch 193/200\n",
            "46/46 [==============================] - 0s 3ms/step - loss: 0.2422 - accuracy: 0.9077 - val_loss: 0.1920 - val_accuracy: 0.9298\n",
            "Epoch 194/200\n",
            "46/46 [==============================] - 0s 4ms/step - loss: 0.2337 - accuracy: 0.9077 - val_loss: 0.1919 - val_accuracy: 0.9298\n",
            "Epoch 195/200\n",
            "46/46 [==============================] - 0s 3ms/step - loss: 0.2354 - accuracy: 0.8989 - val_loss: 0.1907 - val_accuracy: 0.9298\n",
            "Epoch 196/200\n",
            "46/46 [==============================] - 0s 3ms/step - loss: 0.2292 - accuracy: 0.9055 - val_loss: 0.1887 - val_accuracy: 0.9298\n",
            "Epoch 197/200\n",
            "46/46 [==============================] - 0s 3ms/step - loss: 0.2291 - accuracy: 0.9033 - val_loss: 0.1647 - val_accuracy: 0.9298\n",
            "Epoch 198/200\n",
            "46/46 [==============================] - 0s 3ms/step - loss: 0.2286 - accuracy: 0.9143 - val_loss: 0.1617 - val_accuracy: 0.9298\n",
            "Epoch 199/200\n",
            "46/46 [==============================] - 0s 3ms/step - loss: 0.2204 - accuracy: 0.9143 - val_loss: 0.1831 - val_accuracy: 0.9298\n",
            "Epoch 200/200\n",
            "46/46 [==============================] - 0s 4ms/step - loss: 0.2345 - accuracy: 0.9121 - val_loss: 0.1882 - val_accuracy: 0.9298\n"
          ]
        }
      ]
    },
    {
      "cell_type": "code",
      "source": [
        "keras.utils.plot_model(ann_clf, show_shapes=True, rankdir=\"LR\")"
      ],
      "metadata": {
        "colab": {
          "base_uri": "https://localhost:8080/",
          "height": 150
        },
        "id": "sUCYUYN3cg2P",
        "outputId": "283533f2-3fc6-4cd3-a993-465aff76aea2"
      },
      "execution_count": null,
      "outputs": [
        {
          "output_type": "execute_result",
          "data": {
            "image/png": "[encoded data removed]",
            "text/plain": [
              "<IPython.core.display.Image object>"
            ]
          },
          "metadata": {},
          "execution_count": 29
        }
      ]
    },
    {
      "cell_type": "code",
      "source": [
        "_, train_acc = ann_clf.evaluate(X_train, y_train, verbose=0)\n",
        "_, val_acc = ann_clf.evaluate(X_val, y_val, verbose=0)\n",
        "_, test_acc = ann_clf.evaluate(X_test, y_test, verbose=0)\n",
        "print('Train: %.3f, Validation: %.3f, Test: %.3f' % (train_acc, val_acc, test_acc))"
      ],
      "metadata": {
        "colab": {
          "base_uri": "https://localhost:8080/"
        },
        "id": "Bfj1lHGzcOo7",
        "outputId": "97d35bc9-a702-4b6c-9a35-c3eea65aaaab"
      },
      "execution_count": null,
      "outputs": [
        {
          "output_type": "stream",
          "name": "stdout",
          "text": [
            "Train: 0.914, Validation: 0.930, Test: 0.877\n"
          ]
        }
      ]
    },
    {
      "cell_type": "code",
      "source": [
        "plt.figure(figsize=[8,5])\n",
        "plt.plot(record.history['accuracy'], label='Train')\n",
        "plt.plot(record.history['val_accuracy'], label='Valid')\n",
        "plt.legend()\n",
        "plt.xlabel('Epochs', fontsize=16)\n",
        "plt.ylabel('Accuracy', fontsize=16)\n",
        "plt.title('Accuracy Curves', fontsize=16)\n",
        "plt.show()"
      ],
      "metadata": {
        "colab": {
          "base_uri": "https://localhost:8080/",
          "height": 357
        },
        "id": "VxEcep0dZGaB",
        "outputId": "54806e45-93ae-4048-8b24-44a7a33696da"
      },
      "execution_count": null,
      "outputs": [
        {
          "output_type": "display_data",
          "data": {
            "text/plain": [
              "<Figure size 576x360 with 1 Axes>"
            ],
            "image/png": "[encoded data removed]"
          },
          "metadata": {
            "needs_background": "light"
          }
        }
      ]
    },
    {
      "cell_type": "code",
      "source": [
        "# Experiment with different batch size\n",
        "\n"
      ],
      "metadata": {
        "id": "iQCDBvc1b9EV"
      },
      "execution_count": null,
      "outputs": []
    },
    {
      "cell_type": "code",
      "source": [
        "# Experiment with different EPOCHs\n",
        "\n"
      ],
      "metadata": {
        "id": "jJJUEMb2cA8O"
      },
      "execution_count": null,
      "outputs": []
    },
    {
      "cell_type": "code",
      "source": [
        "# Experiment with early stopping\n",
        "\n"
      ],
      "metadata": {
        "id": "7JMZOO2wcC1m"
      },
      "execution_count": null,
      "outputs": []
    },
    {
      "cell_type": "markdown",
      "source": [
        "### Ensemble Learning\n",
        "\n",
        "Library: Scikit-learn, Keras, Tensorflow"
      ],
      "metadata": {
        "id": "P3Ad2FUxuTzX"
      }
    },
    {
      "cell_type": "code",
      "source": [
        "display(models)"
      ],
      "metadata": {
        "colab": {
          "base_uri": "https://localhost:8080/",
          "height": 708
        },
        "id": "tU01DUlqoIhq",
        "outputId": "da0305e9-5aad-400c-cdb8-7aa7369fce55"
      },
      "execution_count": null,
      "outputs": [
        {
          "output_type": "display_data",
          "data": {
            "text/plain": [
              "     model_name                                              model  \\\n",
              "0      rnd_clf0  (DecisionTreeClassifier(max_features='auto', r...   \n",
              "1      rnd_clf1  (DecisionTreeClassifier(max_features='auto', r...   \n",
              "2      rnd_clf2  (DecisionTreeClassifier(max_features='auto', r...   \n",
              "3     tree_clf0            DecisionTreeClassifier(random_state=10)   \n",
              "4     tree_clf1  DecisionTreeClassifier(criterion='entropy', ra...   \n",
              "5     tree_clf2  DecisionTreeClassifier(random_state=10, splitt...   \n",
              "6      svc_clf0                               SVC(random_state=10)   \n",
              "7      svc_clf1             SVC(kernel='sigmoid', random_state=10)   \n",
              "8      svc_clf2              SVC(kernel='linear', random_state=10)   \n",
              "9      log_clf0     LogisticRegression(n_jobs=-1, random_state=10)   \n",
              "10     log_clf1      LogisticRegression(n_jobs=-1, random_state=2)   \n",
              "11     log_clf2  LogisticRegression(n_jobs=-1, penalty='none', ...   \n",
              "12   bayes_clf0                    GaussianNB(var_smoothing=1e-10)   \n",
              "13   bayes_clf1                    GaussianNB(var_smoothing=1e-20)   \n",
              "14   bayes_clf2                    GaussianNB(var_smoothing=1e-05)   \n",
              "15   neigh_clf0                    KNeighborsClassifier(n_jobs=-1)   \n",
              "16   neigh_clf1     KNeighborsClassifier(n_jobs=-1, n_neighbors=1)   \n",
              "17   neigh_clf2  KNeighborsClassifier(algorithm='kd_tree', n_jo...   \n",
              "18  gboost_clf0  ([DecisionTreeRegressor(criterion='friedman_ms...   \n",
              "19  gboost_clf1  ([DecisionTreeRegressor(criterion='friedman_ms...   \n",
              "20  gboost_clf2  ([DecisionTreeRegressor(criterion='friedman_ms...   \n",
              "\n",
              "                                           parameters  \n",
              "0   {'bootstrap': True, 'ccp_alpha': 0.0, 'class_w...  \n",
              "1   {'bootstrap': True, 'ccp_alpha': 0.0, 'class_w...  \n",
              "2   {'bootstrap': True, 'ccp_alpha': 0.0, 'class_w...  \n",
              "3   {'ccp_alpha': 0.0, 'class_weight': None, 'crit...  \n",
              "4   {'ccp_alpha': 0.0, 'class_weight': None, 'crit...  \n",
              "5   {'ccp_alpha': 0.0, 'class_weight': None, 'crit...  \n",
              "6   {'C': 1.0, 'break_ties': False, 'cache_size': ...  \n",
              "7   {'C': 1.0, 'break_ties': False, 'cache_size': ...  \n",
              "8   {'C': 1.0, 'break_ties': False, 'cache_size': ...  \n",
              "9   {'C': 1.0, 'class_weight': None, 'dual': False...  \n",
              "10  {'C': 1.0, 'class_weight': None, 'dual': False...  \n",
              "11  {'C': 1.0, 'class_weight': None, 'dual': False...  \n",
              "12           {'priors': None, 'var_smoothing': 1e-10}  \n",
              "13           {'priors': None, 'var_smoothing': 1e-20}  \n",
              "14           {'priors': None, 'var_smoothing': 1e-05}  \n",
              "15  {'algorithm': 'auto', 'leaf_size': 30, 'metric...  \n",
              "16  {'algorithm': 'auto', 'leaf_size': 30, 'metric...  \n",
              "17  {'algorithm': 'kd_tree', 'leaf_size': 30, 'met...  \n",
              "18  {'ccp_alpha': 0.0, 'criterion': 'friedman_mse'...  \n",
              "19  {'ccp_alpha': 0.0, 'criterion': 'friedman_mse'...  \n",
              "20  {'ccp_alpha': 0.0, 'criterion': 'friedman_mse'...  "
            ],
            "text/html": [
              "\n",
              "  <div id=\"df-dab82106-6747-4987-9719-c4347b8223a8\">\n",
              "    <div class=\"colab-df-container\">\n",
              "      <div>\n",
              "<style scoped>\n",
              "    .dataframe tbody tr th:only-of-type {\n",
              "        vertical-align: middle;\n",
              "    }\n",
              "\n",
              "    .dataframe tbody tr th {\n",
              "        vertical-align: top;\n",
              "    }\n",
              "\n",
              "    .dataframe thead th {\n",
              "        text-align: right;\n",
              "    }\n",
              "</style>\n",
              "<table border=\"1\" class=\"dataframe\">\n",
              "  <thead>\n",
              "    <tr style=\"text-align: right;\">\n",
              "      <th></th>\n",
              "      <th>model_name</th>\n",
              "      <th>model</th>\n",
              "      <th>parameters</th>\n",
              "    </tr>\n",
              "  </thead>\n",
              "  <tbody>\n",
              "    <tr>\n",
              "      <th>0</th>\n",
              "      <td>rnd_clf0</td>\n",
              "      <td>(DecisionTreeClassifier(max_features='auto', r...</td>\n",
              "      <td>{'bootstrap': True, 'ccp_alpha': 0.0, 'class_w...</td>\n",
              "    </tr>\n",
              "    <tr>\n",
              "      <th>1</th>\n",
              "      <td>rnd_clf1</td>\n",
              "      <td>(DecisionTreeClassifier(max_features='auto', r...</td>\n",
              "      <td>{'bootstrap': True, 'ccp_alpha': 0.0, 'class_w...</td>\n",
              "    </tr>\n",
              "    <tr>\n",
              "      <th>2</th>\n",
              "      <td>rnd_clf2</td>\n",
              "      <td>(DecisionTreeClassifier(max_features='auto', r...</td>\n",
              "      <td>{'bootstrap': True, 'ccp_alpha': 0.0, 'class_w...</td>\n",
              "    </tr>\n",
              "    <tr>\n",
              "      <th>3</th>\n",
              "      <td>tree_clf0</td>\n",
              "      <td>DecisionTreeClassifier(random_state=10)</td>\n",
              "      <td>{'ccp_alpha': 0.0, 'class_weight': None, 'crit...</td>\n",
              "    </tr>\n",
              "    <tr>\n",
              "      <th>4</th>\n",
              "      <td>tree_clf1</td>\n",
              "      <td>DecisionTreeClassifier(criterion='entropy', ra...</td>\n",
              "      <td>{'ccp_alpha': 0.0, 'class_weight': None, 'crit...</td>\n",
              "    </tr>\n",
              "    <tr>\n",
              "      <th>5</th>\n",
              "      <td>tree_clf2</td>\n",
              "      <td>DecisionTreeClassifier(random_state=10, splitt...</td>\n",
              "      <td>{'ccp_alpha': 0.0, 'class_weight': None, 'crit...</td>\n",
              "    </tr>\n",
              "    <tr>\n",
              "      <th>6</th>\n",
              "      <td>svc_clf0</td>\n",
              "      <td>SVC(random_state=10)</td>\n",
              "      <td>{'C': 1.0, 'break_ties': False, 'cache_size': ...</td>\n",
              "    </tr>\n",
              "    <tr>\n",
              "      <th>7</th>\n",
              "      <td>svc_clf1</td>\n",
              "      <td>SVC(kernel='sigmoid', random_state=10)</td>\n",
              "      <td>{'C': 1.0, 'break_ties': False, 'cache_size': ...</td>\n",
              "    </tr>\n",
              "    <tr>\n",
              "      <th>8</th>\n",
              "      <td>svc_clf2</td>\n",
              "      <td>SVC(kernel='linear', random_state=10)</td>\n",
              "      <td>{'C': 1.0, 'break_ties': False, 'cache_size': ...</td>\n",
              "    </tr>\n",
              "    <tr>\n",
              "      <th>9</th>\n",
              "      <td>log_clf0</td>\n",
              "      <td>LogisticRegression(n_jobs=-1, random_state=10)</td>\n",
              "      <td>{'C': 1.0, 'class_weight': None, 'dual': False...</td>\n",
              "    </tr>\n",
              "    <tr>\n",
              "      <th>10</th>\n",
              "      <td>log_clf1</td>\n",
              "      <td>LogisticRegression(n_jobs=-1, random_state=2)</td>\n",
              "      <td>{'C': 1.0, 'class_weight': None, 'dual': False...</td>\n",
              "    </tr>\n",
              "    <tr>\n",
              "      <th>11</th>\n",
              "      <td>log_clf2</td>\n",
              "      <td>LogisticRegression(n_jobs=-1, penalty='none', ...</td>\n",
              "      <td>{'C': 1.0, 'class_weight': None, 'dual': False...</td>\n",
              "    </tr>\n",
              "    <tr>\n",
              "      <th>12</th>\n",
              "      <td>bayes_clf0</td>\n",
              "      <td>GaussianNB(var_smoothing=1e-10)</td>\n",
              "      <td>{'priors': None, 'var_smoothing': 1e-10}</td>\n",
              "    </tr>\n",
              "    <tr>\n",
              "      <th>13</th>\n",
              "      <td>bayes_clf1</td>\n",
              "      <td>GaussianNB(var_smoothing=1e-20)</td>\n",
              "      <td>{'priors': None, 'var_smoothing': 1e-20}</td>\n",
              "    </tr>\n",
              "    <tr>\n",
              "      <th>14</th>\n",
              "      <td>bayes_clf2</td>\n",
              "      <td>GaussianNB(var_smoothing=1e-05)</td>\n",
              "      <td>{'priors': None, 'var_smoothing': 1e-05}</td>\n",
              "    </tr>\n",
              "    <tr>\n",
              "      <th>15</th>\n",
              "      <td>neigh_clf0</td>\n",
              "      <td>KNeighborsClassifier(n_jobs=-1)</td>\n",
              "      <td>{'algorithm': 'auto', 'leaf_size': 30, 'metric...</td>\n",
              "    </tr>\n",
              "    <tr>\n",
              "      <th>16</th>\n",
              "      <td>neigh_clf1</td>\n",
              "      <td>KNeighborsClassifier(n_jobs=-1, n_neighbors=1)</td>\n",
              "      <td>{'algorithm': 'auto', 'leaf_size': 30, 'metric...</td>\n",
              "    </tr>\n",
              "    <tr>\n",
              "      <th>17</th>\n",
              "      <td>neigh_clf2</td>\n",
              "      <td>KNeighborsClassifier(algorithm='kd_tree', n_jo...</td>\n",
              "      <td>{'algorithm': 'kd_tree', 'leaf_size': 30, 'met...</td>\n",
              "    </tr>\n",
              "    <tr>\n",
              "      <th>18</th>\n",
              "      <td>gboost_clf0</td>\n",
              "      <td>([DecisionTreeRegressor(criterion='friedman_ms...</td>\n",
              "      <td>{'ccp_alpha': 0.0, 'criterion': 'friedman_mse'...</td>\n",
              "    </tr>\n",
              "    <tr>\n",
              "      <th>19</th>\n",
              "      <td>gboost_clf1</td>\n",
              "      <td>([DecisionTreeRegressor(criterion='friedman_ms...</td>\n",
              "      <td>{'ccp_alpha': 0.0, 'criterion': 'friedman_mse'...</td>\n",
              "    </tr>\n",
              "    <tr>\n",
              "      <th>20</th>\n",
              "      <td>gboost_clf2</td>\n",
              "      <td>([DecisionTreeRegressor(criterion='friedman_ms...</td>\n",
              "      <td>{'ccp_alpha': 0.0, 'criterion': 'friedman_mse'...</td>\n",
              "    </tr>\n",
              "  </tbody>\n",
              "</table>\n",
              "</div>\n",
              "      <button class=\"colab-df-convert\" onclick=\"convertToInteractive('df-dab82106-6747-4987-9719-c4347b8223a8')\"\n",
              "              title=\"Convert this dataframe to an interactive table.\"\n",
              "              style=\"display:none;\">\n",
              "        \n",
              "  <svg xmlns=\"http://www.w3.org/2000/svg\" height=\"24px\"viewBox=\"0 0 24 24\"\n",
              "       width=\"24px\">\n",
              "    <path d=\"M0 0h24v24H0V0z\" fill=\"none\"/>\n",
              "    <path d=\"M18.56 5.44l.94 2.06.94-2.06 2.06-.94-2.06-.94-.94-2.06-.94 2.06-2.06.94zm-11 1L8.5 8.5l.94-2.06 2.06-.94-2.06-.94L8.5 2.5l-.94 2.06-2.06.94zm10 10l.94 2.06.94-2.06 2.06-.94-2.06-.94-.94-2.06-.94 2.06-2.06.94z\"/><path d=\"M17.41 7.96l-1.37-1.37c-.4-.4-.92-.59-1.43-.59-.52 0-1.04.2-1.43.59L10.3 9.45l-7.72 7.72c-.78.78-.78 2.05 0 2.83L4 21.41c.39.39.9.59 1.41.59.51 0 1.02-.2 1.41-.59l7.78-7.78 2.81-2.81c.8-.78.8-2.07 0-2.86zM5.41 20L4 18.59l7.72-7.72 1.47 1.35L5.41 20z\"/>\n",
              "  </svg>\n",
              "      </button>\n",
              "      \n",
              "  <style>\n",
              "    .colab-df-container {\n",
              "      display:flex;\n",
              "      flex-wrap:wrap;\n",
              "      gap: 12px;\n",
              "    }\n",
              "\n",
              "    .colab-df-convert {\n",
              "      background-color: #E8F0FE;\n",
              "      border: none;\n",
              "      border-radius: 50%;\n",
              "      cursor: pointer;\n",
              "      display: none;\n",
              "      fill: #1967D2;\n",
              "      height: 32px;\n",
              "      padding: 0 0 0 0;\n",
              "      width: 32px;\n",
              "    }\n",
              "\n",
              "    .colab-df-convert:hover {\n",
              "      background-color: #E2EBFA;\n",
              "      box-shadow: 0px 1px 2px rgba(60, 64, 67, 0.3), 0px 1px 3px 1px rgba(60, 64, 67, 0.15);\n",
              "      fill: #174EA6;\n",
              "    }\n",
              "\n",
              "    [theme=dark] .colab-df-convert {\n",
              "      background-color: #3B4455;\n",
              "      fill: #D2E3FC;\n",
              "    }\n",
              "\n",
              "    [theme=dark] .colab-df-convert:hover {\n",
              "      background-color: #434B5C;\n",
              "      box-shadow: 0px 1px 3px 1px rgba(0, 0, 0, 0.15);\n",
              "      filter: drop-shadow(0px 1px 2px rgba(0, 0, 0, 0.3));\n",
              "      fill: #FFFFFF;\n",
              "    }\n",
              "  </style>\n",
              "\n",
              "      <script>\n",
              "        const buttonEl =\n",
              "          document.querySelector('#df-dab82106-6747-4987-9719-c4347b8223a8 button.colab-df-convert');\n",
              "        buttonEl.style.display =\n",
              "          google.colab.kernel.accessAllowed ? 'block' : 'none';\n",
              "\n",
              "        async function convertToInteractive(key) {\n",
              "          const element = document.querySelector('#df-dab82106-6747-4987-9719-c4347b8223a8');\n",
              "          const dataTable =\n",
              "            await google.colab.kernel.invokeFunction('convertToInteractive',\n",
              "                                                     [key], {});\n",
              "          if (!dataTable) return;\n",
              "\n",
              "          const docLinkHtml = 'Like what you see? Visit the ' +\n",
              "            '<a target=\"_blank\" href=https://colab.research.google.com/notebooks/data_table.ipynb>data table notebook</a>'\n",
              "            + ' to learn more about interactive tables.';\n",
              "          element.innerHTML = '';\n",
              "          dataTable['output_type'] = 'display_data';\n",
              "          await google.colab.output.renderOutput(dataTable, element);\n",
              "          const docLink = document.createElement('div');\n",
              "          docLink.innerHTML = docLinkHtml;\n",
              "          element.appendChild(docLink);\n",
              "        }\n",
              "      </script>\n",
              "    </div>\n",
              "  </div>\n",
              "  "
            ]
          },
          "metadata": {}
        }
      ]
    },
    {
      "cell_type": "code",
      "source": [
        "display(models_eval)"
      ],
      "metadata": {
        "colab": {
          "base_uri": "https://localhost:8080/",
          "height": 708
        },
        "id": "NJgKuqjkoLgU",
        "outputId": "a180c309-1bee-4e5d-9571-62ae0c65e78a"
      },
      "execution_count": null,
      "outputs": [
        {
          "output_type": "display_data",
          "data": {
            "text/plain": [
              "     model_name confusion_matrix    recall  f1_score  roc_auc_score\n",
              "0      rnd_clf0   [16, 2, 1, 38]  0.974359  0.962025       0.931624\n",
              "1      rnd_clf1   [17, 1, 0, 39]  1.000000  0.987342       0.972222\n",
              "2      rnd_clf2   [17, 1, 0, 39]  1.000000  0.987342       0.972222\n",
              "3     tree_clf0   [15, 3, 2, 37]  0.948718  0.936709       0.891026\n",
              "4     tree_clf1   [15, 3, 2, 37]  0.948718  0.936709       0.891026\n",
              "5     tree_clf2   [17, 1, 0, 39]  1.000000  0.987342       0.972222\n",
              "6      svc_clf0   [13, 5, 0, 39]  1.000000  0.939759       0.861111\n",
              "7      svc_clf1  [5, 13, 17, 22]  0.564103  0.594595       0.420940\n",
              "8      svc_clf2   [16, 2, 1, 38]  0.974359  0.962025       0.931624\n",
              "9      log_clf0   [15, 3, 1, 38]  0.974359  0.950000       0.903846\n",
              "10     log_clf1   [15, 3, 1, 38]  0.974359  0.950000       0.903846\n",
              "11     log_clf2   [17, 1, 2, 37]  0.948718  0.961039       0.946581\n",
              "12   bayes_clf0   [15, 3, 1, 38]  0.974359  0.950000       0.903846\n",
              "13   bayes_clf1   [15, 3, 1, 38]  0.974359  0.950000       0.903846\n",
              "14   bayes_clf2   [14, 4, 0, 39]  1.000000  0.951220       0.888889\n",
              "15   neigh_clf0   [15, 3, 0, 39]  1.000000  0.962963       0.916667\n",
              "16   neigh_clf1   [16, 2, 3, 36]  0.923077  0.935065       0.905983\n",
              "17   neigh_clf2   [14, 4, 0, 39]  1.000000  0.951220       0.888889\n",
              "18  gboost_clf0   [17, 1, 0, 39]  1.000000  0.987342       0.972222\n",
              "19  gboost_clf1   [18, 0, 0, 39]  1.000000  1.000000       1.000000\n",
              "20  gboost_clf2   [15, 3, 2, 37]  0.948718  0.936709       0.891026"
            ],
            "text/html": [
              "\n",
              "  <div id=\"df-58e1a3e0-7f0a-4358-894d-70cbcb8bad8f\">\n",
              "    <div class=\"colab-df-container\">\n",
              "      <div>\n",
              "<style scoped>\n",
              "    .dataframe tbody tr th:only-of-type {\n",
              "        vertical-align: middle;\n",
              "    }\n",
              "\n",
              "    .dataframe tbody tr th {\n",
              "        vertical-align: top;\n",
              "    }\n",
              "\n",
              "    .dataframe thead th {\n",
              "        text-align: right;\n",
              "    }\n",
              "</style>\n",
              "<table border=\"1\" class=\"dataframe\">\n",
              "  <thead>\n",
              "    <tr style=\"text-align: right;\">\n",
              "      <th></th>\n",
              "      <th>model_name</th>\n",
              "      <th>confusion_matrix</th>\n",
              "      <th>recall</th>\n",
              "      <th>f1_score</th>\n",
              "      <th>roc_auc_score</th>\n",
              "    </tr>\n",
              "  </thead>\n",
              "  <tbody>\n",
              "    <tr>\n",
              "      <th>0</th>\n",
              "      <td>rnd_clf0</td>\n",
              "      <td>[16, 2, 1, 38]</td>\n",
              "      <td>0.974359</td>\n",
              "      <td>0.962025</td>\n",
              "      <td>0.931624</td>\n",
              "    </tr>\n",
              "    <tr>\n",
              "      <th>1</th>\n",
              "      <td>rnd_clf1</td>\n",
              "      <td>[17, 1, 0, 39]</td>\n",
              "      <td>1.000000</td>\n",
              "      <td>0.987342</td>\n",
              "      <td>0.972222</td>\n",
              "    </tr>\n",
              "    <tr>\n",
              "      <th>2</th>\n",
              "      <td>rnd_clf2</td>\n",
              "      <td>[17, 1, 0, 39]</td>\n",
              "      <td>1.000000</td>\n",
              "      <td>0.987342</td>\n",
              "      <td>0.972222</td>\n",
              "    </tr>\n",
              "    <tr>\n",
              "      <th>3</th>\n",
              "      <td>tree_clf0</td>\n",
              "      <td>[15, 3, 2, 37]</td>\n",
              "      <td>0.948718</td>\n",
              "      <td>0.936709</td>\n",
              "      <td>0.891026</td>\n",
              "    </tr>\n",
              "    <tr>\n",
              "      <th>4</th>\n",
              "      <td>tree_clf1</td>\n",
              "      <td>[15, 3, 2, 37]</td>\n",
              "      <td>0.948718</td>\n",
              "      <td>0.936709</td>\n",
              "      <td>0.891026</td>\n",
              "    </tr>\n",
              "    <tr>\n",
              "      <th>5</th>\n",
              "      <td>tree_clf2</td>\n",
              "      <td>[17, 1, 0, 39]</td>\n",
              "      <td>1.000000</td>\n",
              "      <td>0.987342</td>\n",
              "      <td>0.972222</td>\n",
              "    </tr>\n",
              "    <tr>\n",
              "      <th>6</th>\n",
              "      <td>svc_clf0</td>\n",
              "      <td>[13, 5, 0, 39]</td>\n",
              "      <td>1.000000</td>\n",
              "      <td>0.939759</td>\n",
              "      <td>0.861111</td>\n",
              "    </tr>\n",
              "    <tr>\n",
              "      <th>7</th>\n",
              "      <td>svc_clf1</td>\n",
              "      <td>[5, 13, 17, 22]</td>\n",
              "      <td>0.564103</td>\n",
              "      <td>0.594595</td>\n",
              "      <td>0.420940</td>\n",
              "    </tr>\n",
              "    <tr>\n",
              "      <th>8</th>\n",
              "      <td>svc_clf2</td>\n",
              "      <td>[16, 2, 1, 38]</td>\n",
              "      <td>0.974359</td>\n",
              "      <td>0.962025</td>\n",
              "      <td>0.931624</td>\n",
              "    </tr>\n",
              "    <tr>\n",
              "      <th>9</th>\n",
              "      <td>log_clf0</td>\n",
              "      <td>[15, 3, 1, 38]</td>\n",
              "      <td>0.974359</td>\n",
              "      <td>0.950000</td>\n",
              "      <td>0.903846</td>\n",
              "    </tr>\n",
              "    <tr>\n",
              "      <th>10</th>\n",
              "      <td>log_clf1</td>\n",
              "      <td>[15, 3, 1, 38]</td>\n",
              "      <td>0.974359</td>\n",
              "      <td>0.950000</td>\n",
              "      <td>0.903846</td>\n",
              "    </tr>\n",
              "    <tr>\n",
              "      <th>11</th>\n",
              "      <td>log_clf2</td>\n",
              "      <td>[17, 1, 2, 37]</td>\n",
              "      <td>0.948718</td>\n",
              "      <td>0.961039</td>\n",
              "      <td>0.946581</td>\n",
              "    </tr>\n",
              "    <tr>\n",
              "      <th>12</th>\n",
              "      <td>bayes_clf0</td>\n",
              "      <td>[15, 3, 1, 38]</td>\n",
              "      <td>0.974359</td>\n",
              "      <td>0.950000</td>\n",
              "      <td>0.903846</td>\n",
              "    </tr>\n",
              "    <tr>\n",
              "      <th>13</th>\n",
              "      <td>bayes_clf1</td>\n",
              "      <td>[15, 3, 1, 38]</td>\n",
              "      <td>0.974359</td>\n",
              "      <td>0.950000</td>\n",
              "      <td>0.903846</td>\n",
              "    </tr>\n",
              "    <tr>\n",
              "      <th>14</th>\n",
              "      <td>bayes_clf2</td>\n",
              "      <td>[14, 4, 0, 39]</td>\n",
              "      <td>1.000000</td>\n",
              "      <td>0.951220</td>\n",
              "      <td>0.888889</td>\n",
              "    </tr>\n",
              "    <tr>\n",
              "      <th>15</th>\n",
              "      <td>neigh_clf0</td>\n",
              "      <td>[15, 3, 0, 39]</td>\n",
              "      <td>1.000000</td>\n",
              "      <td>0.962963</td>\n",
              "      <td>0.916667</td>\n",
              "    </tr>\n",
              "    <tr>\n",
              "      <th>16</th>\n",
              "      <td>neigh_clf1</td>\n",
              "      <td>[16, 2, 3, 36]</td>\n",
              "      <td>0.923077</td>\n",
              "      <td>0.935065</td>\n",
              "      <td>0.905983</td>\n",
              "    </tr>\n",
              "    <tr>\n",
              "      <th>17</th>\n",
              "      <td>neigh_clf2</td>\n",
              "      <td>[14, 4, 0, 39]</td>\n",
              "      <td>1.000000</td>\n",
              "      <td>0.951220</td>\n",
              "      <td>0.888889</td>\n",
              "    </tr>\n",
              "    <tr>\n",
              "      <th>18</th>\n",
              "      <td>gboost_clf0</td>\n",
              "      <td>[17, 1, 0, 39]</td>\n",
              "      <td>1.000000</td>\n",
              "      <td>0.987342</td>\n",
              "      <td>0.972222</td>\n",
              "    </tr>\n",
              "    <tr>\n",
              "      <th>19</th>\n",
              "      <td>gboost_clf1</td>\n",
              "      <td>[18, 0, 0, 39]</td>\n",
              "      <td>1.000000</td>\n",
              "      <td>1.000000</td>\n",
              "      <td>1.000000</td>\n",
              "    </tr>\n",
              "    <tr>\n",
              "      <th>20</th>\n",
              "      <td>gboost_clf2</td>\n",
              "      <td>[15, 3, 2, 37]</td>\n",
              "      <td>0.948718</td>\n",
              "      <td>0.936709</td>\n",
              "      <td>0.891026</td>\n",
              "    </tr>\n",
              "  </tbody>\n",
              "</table>\n",
              "</div>\n",
              "      <button class=\"colab-df-convert\" onclick=\"convertToInteractive('df-58e1a3e0-7f0a-4358-894d-70cbcb8bad8f')\"\n",
              "              title=\"Convert this dataframe to an interactive table.\"\n",
              "              style=\"display:none;\">\n",
              "        \n",
              "  <svg xmlns=\"http://www.w3.org/2000/svg\" height=\"24px\"viewBox=\"0 0 24 24\"\n",
              "       width=\"24px\">\n",
              "    <path d=\"M0 0h24v24H0V0z\" fill=\"none\"/>\n",
              "    <path d=\"M18.56 5.44l.94 2.06.94-2.06 2.06-.94-2.06-.94-.94-2.06-.94 2.06-2.06.94zm-11 1L8.5 8.5l.94-2.06 2.06-.94-2.06-.94L8.5 2.5l-.94 2.06-2.06.94zm10 10l.94 2.06.94-2.06 2.06-.94-2.06-.94-.94-2.06-.94 2.06-2.06.94z\"/><path d=\"M17.41 7.96l-1.37-1.37c-.4-.4-.92-.59-1.43-.59-.52 0-1.04.2-1.43.59L10.3 9.45l-7.72 7.72c-.78.78-.78 2.05 0 2.83L4 21.41c.39.39.9.59 1.41.59.51 0 1.02-.2 1.41-.59l7.78-7.78 2.81-2.81c.8-.78.8-2.07 0-2.86zM5.41 20L4 18.59l7.72-7.72 1.47 1.35L5.41 20z\"/>\n",
              "  </svg>\n",
              "      </button>\n",
              "      \n",
              "  <style>\n",
              "    .colab-df-container {\n",
              "      display:flex;\n",
              "      flex-wrap:wrap;\n",
              "      gap: 12px;\n",
              "    }\n",
              "\n",
              "    .colab-df-convert {\n",
              "      background-color: #E8F0FE;\n",
              "      border: none;\n",
              "      border-radius: 50%;\n",
              "      cursor: pointer;\n",
              "      display: none;\n",
              "      fill: #1967D2;\n",
              "      height: 32px;\n",
              "      padding: 0 0 0 0;\n",
              "      width: 32px;\n",
              "    }\n",
              "\n",
              "    .colab-df-convert:hover {\n",
              "      background-color: #E2EBFA;\n",
              "      box-shadow: 0px 1px 2px rgba(60, 64, 67, 0.3), 0px 1px 3px 1px rgba(60, 64, 67, 0.15);\n",
              "      fill: #174EA6;\n",
              "    }\n",
              "\n",
              "    [theme=dark] .colab-df-convert {\n",
              "      background-color: #3B4455;\n",
              "      fill: #D2E3FC;\n",
              "    }\n",
              "\n",
              "    [theme=dark] .colab-df-convert:hover {\n",
              "      background-color: #434B5C;\n",
              "      box-shadow: 0px 1px 3px 1px rgba(0, 0, 0, 0.15);\n",
              "      filter: drop-shadow(0px 1px 2px rgba(0, 0, 0, 0.3));\n",
              "      fill: #FFFFFF;\n",
              "    }\n",
              "  </style>\n",
              "\n",
              "      <script>\n",
              "        const buttonEl =\n",
              "          document.querySelector('#df-58e1a3e0-7f0a-4358-894d-70cbcb8bad8f button.colab-df-convert');\n",
              "        buttonEl.style.display =\n",
              "          google.colab.kernel.accessAllowed ? 'block' : 'none';\n",
              "\n",
              "        async function convertToInteractive(key) {\n",
              "          const element = document.querySelector('#df-58e1a3e0-7f0a-4358-894d-70cbcb8bad8f');\n",
              "          const dataTable =\n",
              "            await google.colab.kernel.invokeFunction('convertToInteractive',\n",
              "                                                     [key], {});\n",
              "          if (!dataTable) return;\n",
              "\n",
              "          const docLinkHtml = 'Like what you see? Visit the ' +\n",
              "            '<a target=\"_blank\" href=https://colab.research.google.com/notebooks/data_table.ipynb>data table notebook</a>'\n",
              "            + ' to learn more about interactive tables.';\n",
              "          element.innerHTML = '';\n",
              "          dataTable['output_type'] = 'display_data';\n",
              "          await google.colab.output.renderOutput(dataTable, element);\n",
              "          const docLink = document.createElement('div');\n",
              "          docLink.innerHTML = docLinkHtml;\n",
              "          element.appendChild(docLink);\n",
              "        }\n",
              "      </script>\n",
              "    </div>\n",
              "  </div>\n",
              "  "
            ]
          },
          "metadata": {}
        }
      ]
    },
    {
      "cell_type": "code",
      "source": [
        "from sklearn.ensemble import VotingClassifier\n",
        "\n",
        "# Retrain top 3 models using their parameters specifically\n",
        "\n",
        "# Temp code\n",
        "ens_clf = VotingClassifier(\n",
        "    estimators=[('rf', rnd_clf), ('tf', tree_clf), ('svc', svc_clf)],\n",
        "    voting='hard',\n",
        "    n_jobs = -1)\n",
        "\n",
        "ens_clf.fit(X_train, y_train)\n",
        "\n",
        "\n",
        "# y_pred = ens_clf.predict(X_val)\n",
        "# print(y_pred)\n",
        "\n",
        "# accuracy_train = round(ens_clf.score(X_train, y_train)*100,2)\n",
        "# print(round(accuracy_train, 2), '%')\n",
        "\n",
        "# accuracy_test = round(ens_clf.score(X_test, y_test)*100,2)\n",
        "# print(round(accuracy_test, 2), '%')\n",
        "\n",
        "# accuracy_val = round(ens_clf.score(X_val, y_val)*100,2)\n",
        "# print(round(accuracy_val, 2), '%')"
      ],
      "metadata": {
        "colab": {
          "base_uri": "https://localhost:8080/"
        },
        "id": "TweMDNQhG6tk",
        "outputId": "5a765a1d-089d-4553-bef0-6cafb26387c7"
      },
      "execution_count": null,
      "outputs": [
        {
          "output_type": "stream",
          "name": "stderr",
          "text": [
            "/usr/local/lib/python3.7/dist-packages/sklearn/preprocessing/_label.py:98: DataConversionWarning: A column-vector y was passed when a 1d array was expected. Please change the shape of y to (n_samples, ), for example using ravel().\n",
            "  y = column_or_1d(y, warn=True)\n",
            "/usr/local/lib/python3.7/dist-packages/sklearn/preprocessing/_label.py:133: DataConversionWarning: A column-vector y was passed when a 1d array was expected. Please change the shape of y to (n_samples, ), for example using ravel().\n",
            "  y = column_or_1d(y, warn=True)\n"
          ]
        },
        {
          "output_type": "stream",
          "name": "stdout",
          "text": [
            "[1 1 0 1 1 1 1 1 1 0 1 0 0 0 1 1 1 0 0 1 1 0 1 1 1 0 1 1 1 1 0 1 0 1 1 1 1\n",
            " 1 0 0 1 1 1 1 1 0 1 1 0 1 1 1 1 0 1 1 1]\n",
            "100.0 %\n",
            "98.25 %\n",
            "96.49 %\n"
          ]
        }
      ]
    },
    {
      "cell_type": "markdown",
      "source": [
        "## Model Testing\n",
        "\n",
        "Identifying the best model (when considering their best parameters)\n",
        "\n",
        "1.   Re-train models using both training and validation data\n",
        "2.   Evaluate models using testing data\n",
        "\n"
      ],
      "metadata": {
        "id": "EytD83GHvRaB"
      }
    },
    {
      "cell_type": "code",
      "source": [
        "X_train = np.concatenate((X_train, X_val), axis = 0)\n",
        "y_train = np.concatenate((y_train, y_val), axis = 0)"
      ],
      "metadata": {
        "id": "sQX3kseSAkXr"
      },
      "execution_count": null,
      "outputs": []
    },
    {
      "cell_type": "code",
      "source": [
        "if len(X_train)==len(y_train) and len(X_test) == len(y_test):\n",
        "  print(\"X and y data length matching\")\n",
        "else:\n",
        "  print(\"Error in data pipeline\")\n",
        "print()\n",
        "print(\"No. of training data = %d\" % len(X_train))\n",
        "print(\"No. of testing data = %d\" % len(X_test))"
      ],
      "metadata": {
        "colab": {
          "base_uri": "https://localhost:8080/"
        },
        "id": "iA8VA1cxmnwh",
        "outputId": "d4e28071-89e6-4ce0-fff6-89da3b071a1d"
      },
      "execution_count": null,
      "outputs": [
        {
          "output_type": "stream",
          "name": "stdout",
          "text": [
            "X and y data length matching\n",
            "\n",
            "No. of training data = 512\n",
            "No. of testing data = 57\n"
          ]
        }
      ]
    },
    {
      "cell_type": "markdown",
      "source": [
        "### Random Forest Classifier"
      ],
      "metadata": {
        "id": "ShQoI_wyCJvA"
      }
    },
    {
      "cell_type": "markdown",
      "source": [
        "### Decision Tree\n"
      ],
      "metadata": {
        "id": "zVzV1sHeCQ7u"
      }
    },
    {
      "cell_type": "markdown",
      "source": [
        "### Support Vector Machine (SVM)"
      ],
      "metadata": {
        "id": "hl3pSaYgCS1G"
      }
    },
    {
      "cell_type": "markdown",
      "source": [
        "### Logistic Regression"
      ],
      "metadata": {
        "id": "aDUDwOunCnnm"
      }
    },
    {
      "cell_type": "markdown",
      "source": [
        "### Naive Bayes"
      ],
      "metadata": {
        "id": "hjvjqGJACp8j"
      }
    },
    {
      "cell_type": "markdown",
      "source": [
        "### K-Nearest Neighbor"
      ],
      "metadata": {
        "id": "M582sDKnCsB0"
      }
    },
    {
      "cell_type": "markdown",
      "source": [
        "### Gradient Boosting Classifier"
      ],
      "metadata": {
        "id": "UGPEWY9GCv6l"
      }
    },
    {
      "cell_type": "markdown",
      "source": [
        "### Artificial Neural Network"
      ],
      "metadata": {
        "id": "D8jiVoE5Cylc"
      }
    },
    {
      "cell_type": "markdown",
      "source": [
        "### Ensemble Learning"
      ],
      "metadata": {
        "id": "zX4Psi4fC0XP"
      }
    },
    {
      "cell_type": "markdown",
      "source": [
        "## Discussion & Conclusion"
      ],
      "metadata": {
        "id": "vZo494q1m9qN"
      }
    },
    {
      "cell_type": "markdown",
      "source": [
        "After model testing, the best model identified is ..."
      ],
      "metadata": {
        "id": "MlFa0SBknDUZ"
      }
    }
  ]
}