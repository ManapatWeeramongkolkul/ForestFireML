{
  "nbformat": 4,
  "nbformat_minor": 0,
  "metadata": {
    "colab": {
      "provenance": []
    },
    "kernelspec": {
      "name": "python3",
      "display_name": "Python 3"
    },
    "language_info": {
      "name": "python"
    },
    "accelerator": "TPU",
    "gpuClass": "standard"
  },
  "cells": [
    {
      "cell_type": "markdown",
      "source": [
        "# Model Validation Pipeline\n",
        "\n",
        "Identified best parameters in ModelTraining_Pipeline\n",
        "\n",
        "This pipeline is only used to get the model's performance using training data against validation data."
      ],
      "metadata": {
        "id": "X0gcT8nXCSrj"
      }
    },
    {
      "cell_type": "code",
      "source": [
        "!pip install ipython-autotime\n",
        "%load_ext autotime"
      ],
      "metadata": {
        "id": "nuDP5W8itS2d",
        "colab": {
          "base_uri": "https://localhost:8080/"
        },
        "outputId": "2e6d81d2-b3dc-49c9-a286-23bc1ba94864"
      },
      "execution_count": null,
      "outputs": [
        {
          "output_type": "stream",
          "name": "stdout",
          "text": [
            "Looking in indexes: https://pypi.org/simple, https://us-python.pkg.dev/colab-wheels/public/simple/\n",
            "Requirement already satisfied: ipython-autotime in /usr/local/lib/python3.8/dist-packages (0.3.1)\n",
            "Requirement already satisfied: ipython in /usr/local/lib/python3.8/dist-packages (from ipython-autotime) (7.9.0)\n",
            "Requirement already satisfied: pickleshare in /usr/local/lib/python3.8/dist-packages (from ipython->ipython-autotime) (0.7.5)\n",
            "Requirement already satisfied: pygments in /usr/local/lib/python3.8/dist-packages (from ipython->ipython-autotime) (2.6.1)\n",
            "Requirement already satisfied: decorator in /usr/local/lib/python3.8/dist-packages (from ipython->ipython-autotime) (4.4.2)\n",
            "Requirement already satisfied: backcall in /usr/local/lib/python3.8/dist-packages (from ipython->ipython-autotime) (0.2.0)\n",
            "Requirement already satisfied: prompt-toolkit<2.1.0,>=2.0.0 in /usr/local/lib/python3.8/dist-packages (from ipython->ipython-autotime) (2.0.10)\n",
            "Requirement already satisfied: setuptools>=18.5 in /usr/local/lib/python3.8/dist-packages (from ipython->ipython-autotime) (57.4.0)\n",
            "Requirement already satisfied: traitlets>=4.2 in /usr/local/lib/python3.8/dist-packages (from ipython->ipython-autotime) (5.7.1)\n",
            "Requirement already satisfied: jedi>=0.10 in /usr/local/lib/python3.8/dist-packages (from ipython->ipython-autotime) (0.18.2)\n",
            "Requirement already satisfied: pexpect in /usr/local/lib/python3.8/dist-packages (from ipython->ipython-autotime) (4.8.0)\n",
            "Requirement already satisfied: parso<0.9.0,>=0.8.0 in /usr/local/lib/python3.8/dist-packages (from jedi>=0.10->ipython->ipython-autotime) (0.8.3)\n",
            "Requirement already satisfied: six>=1.9.0 in /usr/local/lib/python3.8/dist-packages (from prompt-toolkit<2.1.0,>=2.0.0->ipython->ipython-autotime) (1.15.0)\n",
            "Requirement already satisfied: wcwidth in /usr/local/lib/python3.8/dist-packages (from prompt-toolkit<2.1.0,>=2.0.0->ipython->ipython-autotime) (0.2.5)\n",
            "Requirement already satisfied: ptyprocess>=0.5 in /usr/local/lib/python3.8/dist-packages (from pexpect->ipython->ipython-autotime) (0.7.0)\n",
            "The autotime extension is already loaded. To reload it, use:\n",
            "  %reload_ext autotime\n",
            "time: 7.07 s (started: 2023-01-16 11:35:35 +00:00)\n"
          ]
        }
      ]
    },
    {
      "cell_type": "code",
      "source": [
        "# Basic Libraries\n",
        "\n",
        "import numpy as np\n",
        "import pandas as pd\n",
        "import seaborn as sb\n",
        "import matplotlib.pyplot as plt\n",
        "from datetime import datetime\n",
        "\n",
        "from google.colab import drive\n",
        "drive.mount('/content/drive')"
      ],
      "metadata": {
        "id": "MHtSfJxdWlq0",
        "colab": {
          "base_uri": "https://localhost:8080/"
        },
        "outputId": "accb0624-3866-455f-f489-b7c41e9af7d8"
      },
      "execution_count": null,
      "outputs": [
        {
          "output_type": "stream",
          "name": "stdout",
          "text": [
            "Mounted at /content/drive\n",
            "time: 20.5 s (started: 2023-01-16 11:35:42 +00:00)\n"
          ]
        }
      ]
    },
    {
      "cell_type": "code",
      "source": [
        "# Data Source\n",
        "\n",
        "df = pd.read_csv(\"/content/drive/MyDrive/cleaned_gee_data.csv\")\n",
        "df = df.drop(columns = ['Unnamed: 0'], axis=1) # Remove index\n",
        "df.head()"
      ],
      "metadata": {
        "id": "0GxSoEprWoLW",
        "outputId": "fd31d625-dbb4-4215-f010-b81ae0eaf895",
        "colab": {
          "base_uri": "https://localhost:8080/",
          "height": 287
        }
      },
      "execution_count": null,
      "outputs": [
        {
          "output_type": "execute_result",
          "data": {
            "text/plain": [
              "   LATITUDE  LONGITUDE  ACQ_DATE  ACQ_TIME  OPEN_TIME  CLOSE_TIME  \\\n",
              "0 -5.466232  -0.176027 -1.866392  0.634294   0.506405    0.526945   \n",
              "1 -5.466232  -0.176027 -1.866392  0.634294   0.506405    0.526945   \n",
              "2 -5.466232  -0.176027 -1.866392  0.634294   0.506405    0.526945   \n",
              "3 -5.466232  -0.176027 -1.866392  0.634294   0.506405    0.526945   \n",
              "4 -5.433352  -0.197441 -1.723773  0.634294   2.286080    1.793843   \n",
              "\n",
              "   FIRE_OCCURRED  CO_MOL/M2  SO2_MOL/M2  NO2_MOL/M2  O3_MOL/M2  LOCATION  \\\n",
              "0              0  -0.024223   -0.474440   -1.152277  -0.511001 -1.159086   \n",
              "1              0   0.113599   -0.474440   -1.152277  -0.511001 -1.159086   \n",
              "2              0  -0.024223   -0.474440   -1.361255  -0.511001 -1.159086   \n",
              "3              0   0.113599   -0.474440   -1.361255  -0.511001 -1.159086   \n",
              "4              0  -0.967684    0.339667   -1.251770   0.426114 -1.159086   \n",
              "\n",
              "   INSTRUMENT  DRY_SEASON  \n",
              "0           0           1  \n",
              "1           0           1  \n",
              "2           0           1  \n",
              "3           0           1  \n",
              "4           0           1  "
            ],
            "text/html": [
              "\n",
              "  <div id=\"df-e125b2b2-b5b4-4a71-ab6e-b595d35c78ab\">\n",
              "    <div class=\"colab-df-container\">\n",
              "      <div>\n",
              "<style scoped>\n",
              "    .dataframe tbody tr th:only-of-type {\n",
              "        vertical-align: middle;\n",
              "    }\n",
              "\n",
              "    .dataframe tbody tr th {\n",
              "        vertical-align: top;\n",
              "    }\n",
              "\n",
              "    .dataframe thead th {\n",
              "        text-align: right;\n",
              "    }\n",
              "</style>\n",
              "<table border=\"1\" class=\"dataframe\">\n",
              "  <thead>\n",
              "    <tr style=\"text-align: right;\">\n",
              "      <th></th>\n",
              "      <th>LATITUDE</th>\n",
              "      <th>LONGITUDE</th>\n",
              "      <th>ACQ_DATE</th>\n",
              "      <th>ACQ_TIME</th>\n",
              "      <th>OPEN_TIME</th>\n",
              "      <th>CLOSE_TIME</th>\n",
              "      <th>FIRE_OCCURRED</th>\n",
              "      <th>CO_MOL/M2</th>\n",
              "      <th>SO2_MOL/M2</th>\n",
              "      <th>NO2_MOL/M2</th>\n",
              "      <th>O3_MOL/M2</th>\n",
              "      <th>LOCATION</th>\n",
              "      <th>INSTRUMENT</th>\n",
              "      <th>DRY_SEASON</th>\n",
              "    </tr>\n",
              "  </thead>\n",
              "  <tbody>\n",
              "    <tr>\n",
              "      <th>0</th>\n",
              "      <td>-5.466232</td>\n",
              "      <td>-0.176027</td>\n",
              "      <td>-1.866392</td>\n",
              "      <td>0.634294</td>\n",
              "      <td>0.506405</td>\n",
              "      <td>0.526945</td>\n",
              "      <td>0</td>\n",
              "      <td>-0.024223</td>\n",
              "      <td>-0.474440</td>\n",
              "      <td>-1.152277</td>\n",
              "      <td>-0.511001</td>\n",
              "      <td>-1.159086</td>\n",
              "      <td>0</td>\n",
              "      <td>1</td>\n",
              "    </tr>\n",
              "    <tr>\n",
              "      <th>1</th>\n",
              "      <td>-5.466232</td>\n",
              "      <td>-0.176027</td>\n",
              "      <td>-1.866392</td>\n",
              "      <td>0.634294</td>\n",
              "      <td>0.506405</td>\n",
              "      <td>0.526945</td>\n",
              "      <td>0</td>\n",
              "      <td>0.113599</td>\n",
              "      <td>-0.474440</td>\n",
              "      <td>-1.152277</td>\n",
              "      <td>-0.511001</td>\n",
              "      <td>-1.159086</td>\n",
              "      <td>0</td>\n",
              "      <td>1</td>\n",
              "    </tr>\n",
              "    <tr>\n",
              "      <th>2</th>\n",
              "      <td>-5.466232</td>\n",
              "      <td>-0.176027</td>\n",
              "      <td>-1.866392</td>\n",
              "      <td>0.634294</td>\n",
              "      <td>0.506405</td>\n",
              "      <td>0.526945</td>\n",
              "      <td>0</td>\n",
              "      <td>-0.024223</td>\n",
              "      <td>-0.474440</td>\n",
              "      <td>-1.361255</td>\n",
              "      <td>-0.511001</td>\n",
              "      <td>-1.159086</td>\n",
              "      <td>0</td>\n",
              "      <td>1</td>\n",
              "    </tr>\n",
              "    <tr>\n",
              "      <th>3</th>\n",
              "      <td>-5.466232</td>\n",
              "      <td>-0.176027</td>\n",
              "      <td>-1.866392</td>\n",
              "      <td>0.634294</td>\n",
              "      <td>0.506405</td>\n",
              "      <td>0.526945</td>\n",
              "      <td>0</td>\n",
              "      <td>0.113599</td>\n",
              "      <td>-0.474440</td>\n",
              "      <td>-1.361255</td>\n",
              "      <td>-0.511001</td>\n",
              "      <td>-1.159086</td>\n",
              "      <td>0</td>\n",
              "      <td>1</td>\n",
              "    </tr>\n",
              "    <tr>\n",
              "      <th>4</th>\n",
              "      <td>-5.433352</td>\n",
              "      <td>-0.197441</td>\n",
              "      <td>-1.723773</td>\n",
              "      <td>0.634294</td>\n",
              "      <td>2.286080</td>\n",
              "      <td>1.793843</td>\n",
              "      <td>0</td>\n",
              "      <td>-0.967684</td>\n",
              "      <td>0.339667</td>\n",
              "      <td>-1.251770</td>\n",
              "      <td>0.426114</td>\n",
              "      <td>-1.159086</td>\n",
              "      <td>0</td>\n",
              "      <td>1</td>\n",
              "    </tr>\n",
              "  </tbody>\n",
              "</table>\n",
              "</div>\n",
              "      <button class=\"colab-df-convert\" onclick=\"convertToInteractive('df-e125b2b2-b5b4-4a71-ab6e-b595d35c78ab')\"\n",
              "              title=\"Convert this dataframe to an interactive table.\"\n",
              "              style=\"display:none;\">\n",
              "        \n",
              "  <svg xmlns=\"http://www.w3.org/2000/svg\" height=\"24px\"viewBox=\"0 0 24 24\"\n",
              "       width=\"24px\">\n",
              "    <path d=\"M0 0h24v24H0V0z\" fill=\"none\"/>\n",
              "    <path d=\"M18.56 5.44l.94 2.06.94-2.06 2.06-.94-2.06-.94-.94-2.06-.94 2.06-2.06.94zm-11 1L8.5 8.5l.94-2.06 2.06-.94-2.06-.94L8.5 2.5l-.94 2.06-2.06.94zm10 10l.94 2.06.94-2.06 2.06-.94-2.06-.94-.94-2.06-.94 2.06-2.06.94z\"/><path d=\"M17.41 7.96l-1.37-1.37c-.4-.4-.92-.59-1.43-.59-.52 0-1.04.2-1.43.59L10.3 9.45l-7.72 7.72c-.78.78-.78 2.05 0 2.83L4 21.41c.39.39.9.59 1.41.59.51 0 1.02-.2 1.41-.59l7.78-7.78 2.81-2.81c.8-.78.8-2.07 0-2.86zM5.41 20L4 18.59l7.72-7.72 1.47 1.35L5.41 20z\"/>\n",
              "  </svg>\n",
              "      </button>\n",
              "      \n",
              "  <style>\n",
              "    .colab-df-container {\n",
              "      display:flex;\n",
              "      flex-wrap:wrap;\n",
              "      gap: 12px;\n",
              "    }\n",
              "\n",
              "    .colab-df-convert {\n",
              "      background-color: #E8F0FE;\n",
              "      border: none;\n",
              "      border-radius: 50%;\n",
              "      cursor: pointer;\n",
              "      display: none;\n",
              "      fill: #1967D2;\n",
              "      height: 32px;\n",
              "      padding: 0 0 0 0;\n",
              "      width: 32px;\n",
              "    }\n",
              "\n",
              "    .colab-df-convert:hover {\n",
              "      background-color: #E2EBFA;\n",
              "      box-shadow: 0px 1px 2px rgba(60, 64, 67, 0.3), 0px 1px 3px 1px rgba(60, 64, 67, 0.15);\n",
              "      fill: #174EA6;\n",
              "    }\n",
              "\n",
              "    [theme=dark] .colab-df-convert {\n",
              "      background-color: #3B4455;\n",
              "      fill: #D2E3FC;\n",
              "    }\n",
              "\n",
              "    [theme=dark] .colab-df-convert:hover {\n",
              "      background-color: #434B5C;\n",
              "      box-shadow: 0px 1px 3px 1px rgba(0, 0, 0, 0.15);\n",
              "      filter: drop-shadow(0px 1px 2px rgba(0, 0, 0, 0.3));\n",
              "      fill: #FFFFFF;\n",
              "    }\n",
              "  </style>\n",
              "\n",
              "      <script>\n",
              "        const buttonEl =\n",
              "          document.querySelector('#df-e125b2b2-b5b4-4a71-ab6e-b595d35c78ab button.colab-df-convert');\n",
              "        buttonEl.style.display =\n",
              "          google.colab.kernel.accessAllowed ? 'block' : 'none';\n",
              "\n",
              "        async function convertToInteractive(key) {\n",
              "          const element = document.querySelector('#df-e125b2b2-b5b4-4a71-ab6e-b595d35c78ab');\n",
              "          const dataTable =\n",
              "            await google.colab.kernel.invokeFunction('convertToInteractive',\n",
              "                                                     [key], {});\n",
              "          if (!dataTable) return;\n",
              "\n",
              "          const docLinkHtml = 'Like what you see? Visit the ' +\n",
              "            '<a target=\"_blank\" href=https://colab.research.google.com/notebooks/data_table.ipynb>data table notebook</a>'\n",
              "            + ' to learn more about interactive tables.';\n",
              "          element.innerHTML = '';\n",
              "          dataTable['output_type'] = 'display_data';\n",
              "          await google.colab.output.renderOutput(dataTable, element);\n",
              "          const docLink = document.createElement('div');\n",
              "          docLink.innerHTML = docLinkHtml;\n",
              "          element.appendChild(docLink);\n",
              "        }\n",
              "      </script>\n",
              "    </div>\n",
              "  </div>\n",
              "  "
            ]
          },
          "metadata": {},
          "execution_count": 5
        },
        {
          "output_type": "stream",
          "name": "stdout",
          "text": [
            "time: 1.7 s (started: 2023-01-16 11:36:02 +00:00)\n"
          ]
        }
      ]
    },
    {
      "cell_type": "code",
      "source": [
        "df.info()"
      ],
      "metadata": {
        "id": "_YD_aLsrWoFf",
        "colab": {
          "base_uri": "https://localhost:8080/"
        },
        "outputId": "3bb4cbe3-5a6f-4260-d0ea-6d8f7e3f9d1a"
      },
      "execution_count": null,
      "outputs": [
        {
          "output_type": "stream",
          "name": "stdout",
          "text": [
            "<class 'pandas.core.frame.DataFrame'>\n",
            "RangeIndex: 171893 entries, 0 to 171892\n",
            "Data columns (total 14 columns):\n",
            " #   Column         Non-Null Count   Dtype  \n",
            "---  ------         --------------   -----  \n",
            " 0   LATITUDE       171893 non-null  float64\n",
            " 1   LONGITUDE      171893 non-null  float64\n",
            " 2   ACQ_DATE       171893 non-null  float64\n",
            " 3   ACQ_TIME       171893 non-null  float64\n",
            " 4   OPEN_TIME      171893 non-null  float64\n",
            " 5   CLOSE_TIME     171893 non-null  float64\n",
            " 6   FIRE_OCCURRED  171893 non-null  int64  \n",
            " 7   CO_MOL/M2      171893 non-null  float64\n",
            " 8   SO2_MOL/M2     171893 non-null  float64\n",
            " 9   NO2_MOL/M2     171893 non-null  float64\n",
            " 10  O3_MOL/M2      171893 non-null  float64\n",
            " 11  LOCATION       171893 non-null  float64\n",
            " 12  INSTRUMENT     171893 non-null  int64  \n",
            " 13  DRY_SEASON     171893 non-null  int64  \n",
            "dtypes: float64(11), int64(3)\n",
            "memory usage: 18.4 MB\n",
            "time: 24.9 ms (started: 2023-01-16 11:36:04 +00:00)\n"
          ]
        }
      ]
    },
    {
      "cell_type": "code",
      "source": [
        "display(df['FIRE_OCCURRED'].value_counts())"
      ],
      "metadata": {
        "colab": {
          "base_uri": "https://localhost:8080/",
          "height": 86
        },
        "id": "jXbXzzezgiT4",
        "outputId": "a91c9de5-ae10-4d20-ebc6-6eda722c120f"
      },
      "execution_count": null,
      "outputs": [
        {
          "output_type": "display_data",
          "data": {
            "text/plain": [
              "0    170544\n",
              "1      1349\n",
              "Name: FIRE_OCCURRED, dtype: int64"
            ]
          },
          "metadata": {}
        },
        {
          "output_type": "stream",
          "name": "stdout",
          "text": [
            "time: 7.88 ms (started: 2023-01-16 11:36:04 +00:00)\n"
          ]
        }
      ]
    },
    {
      "cell_type": "code",
      "source": [
        "X = df.drop('FIRE_OCCURRED', axis=1)\n",
        "y = df['FIRE_OCCURRED']"
      ],
      "metadata": {
        "id": "lRQpZTs5hQ7x",
        "colab": {
          "base_uri": "https://localhost:8080/"
        },
        "outputId": "f6099cdc-ff6d-4cf2-8d42-126b8a5a259d"
      },
      "execution_count": null,
      "outputs": [
        {
          "output_type": "stream",
          "name": "stdout",
          "text": [
            "time: 9 ms (started: 2023-01-16 11:36:04 +00:00)\n"
          ]
        }
      ]
    },
    {
      "cell_type": "code",
      "source": [
        "# Training, Validation, Testing Split\n",
        "\n",
        "from sklearn.model_selection import train_test_split\n",
        "\n",
        "# 80:10:10\n",
        "\n",
        "X_train, X_test, y_train, y_test = train_test_split(X, y, test_size=0.10, random_state=10, shuffle=True)\n",
        "X_train, X_val, y_train, y_val = train_test_split(X_train, y_train, test_size=1/9, random_state=10, shuffle=True)\n",
        "\n",
        "Original = [X_train, X_val, X_test, y_train, y_val, y_test] # For reference"
      ],
      "metadata": {
        "id": "LF5R0TqqWqAQ",
        "colab": {
          "base_uri": "https://localhost:8080/"
        },
        "outputId": "5289fc32-86d7-4434-bdda-5d58910961c4"
      },
      "execution_count": null,
      "outputs": [
        {
          "output_type": "stream",
          "name": "stdout",
          "text": [
            "time: 356 ms (started: 2023-01-16 11:36:04 +00:00)\n"
          ]
        }
      ]
    },
    {
      "cell_type": "code",
      "source": [
        "if len(X_train)==len(y_train) and len(X_test) == len(y_test) and len(X_val) == len(y_val):\n",
        "  print(\"X and y data length matching\")\n",
        "else:\n",
        "  print(\"Error in data preparation pipeline\")\n",
        "print()\n",
        "print(\"No. of training data = %d\" % len(X_train))\n",
        "print(\"No. of validation data = %d\" % len(X_val))\n",
        "print(\"No. of testing data = %d\" % len(X_test))"
      ],
      "metadata": {
        "id": "Q1mt3NsQWgVN",
        "colab": {
          "base_uri": "https://localhost:8080/"
        },
        "outputId": "d5131242-ef79-4d53-d5f0-60cfc3b9d7d6"
      },
      "execution_count": null,
      "outputs": [
        {
          "output_type": "stream",
          "name": "stdout",
          "text": [
            "X and y data length matching\n",
            "\n",
            "No. of training data = 137513\n",
            "No. of validation data = 17190\n",
            "No. of testing data = 17190\n",
            "time: 2.02 ms (started: 2023-01-16 11:36:04 +00:00)\n"
          ]
        }
      ]
    },
    {
      "cell_type": "code",
      "source": [
        "display(y_val.value_counts())"
      ],
      "metadata": {
        "id": "Ps9Vr7-Vy3Of",
        "colab": {
          "base_uri": "https://localhost:8080/",
          "height": 86
        },
        "outputId": "4e7f0599-69df-4ddb-abc7-e8c14162e69a"
      },
      "execution_count": null,
      "outputs": [
        {
          "output_type": "display_data",
          "data": {
            "text/plain": [
              "0    17068\n",
              "1      122\n",
              "Name: FIRE_OCCURRED, dtype: int64"
            ]
          },
          "metadata": {}
        },
        {
          "output_type": "stream",
          "name": "stdout",
          "text": [
            "time: 15.9 ms (started: 2023-01-16 11:36:04 +00:00)\n"
          ]
        }
      ]
    },
    {
      "cell_type": "code",
      "source": [
        "display(y_test.value_counts())"
      ],
      "metadata": {
        "id": "pIhtWUGDmlHn",
        "colab": {
          "base_uri": "https://localhost:8080/",
          "height": 86
        },
        "outputId": "ffb36ecd-d466-411d-db5b-c5d874ebe8cc"
      },
      "execution_count": null,
      "outputs": [
        {
          "output_type": "display_data",
          "data": {
            "text/plain": [
              "0    17059\n",
              "1      131\n",
              "Name: FIRE_OCCURRED, dtype: int64"
            ]
          },
          "metadata": {}
        },
        {
          "output_type": "stream",
          "name": "stdout",
          "text": [
            "time: 5.68 ms (started: 2023-01-16 11:36:04 +00:00)\n"
          ]
        }
      ]
    },
    {
      "cell_type": "code",
      "source": [
        "# SMOTE\n",
        "\n",
        "from collections import Counter\n",
        "from imblearn.over_sampling import SMOTE \n",
        "\n",
        "print('Original dataset shape %s' % Counter(y_train))\n",
        "sm = SMOTE(random_state=10)\n",
        "X_train, y_train = sm.fit_resample(X_train, y_train)\n",
        "print('Resampled dataset shape %s' % Counter(y_train))"
      ],
      "metadata": {
        "id": "GhX5M0pSnDq7",
        "colab": {
          "base_uri": "https://localhost:8080/"
        },
        "outputId": "eed383a6-41b7-4f57-aceb-ca76be1f7a5a"
      },
      "execution_count": null,
      "outputs": [
        {
          "output_type": "stream",
          "name": "stdout",
          "text": [
            "Original dataset shape Counter({0: 136417, 1: 1096})\n",
            "Resampled dataset shape Counter({0: 136417, 1: 136417})\n",
            "time: 895 ms (started: 2023-01-16 11:36:04 +00:00)\n"
          ]
        }
      ]
    },
    {
      "cell_type": "code",
      "source": [
        "# Shuffle Data since SMOTE appended many 1s at the end\n",
        "# Required for some algorithms such as ANN\n",
        "\n",
        "from sklearn.utils import shuffle\n",
        "\n",
        "X_train, y_train = shuffle(X_train, y_train, random_state = 10)"
      ],
      "metadata": {
        "id": "6EKTZ2IjuBtu",
        "colab": {
          "base_uri": "https://localhost:8080/"
        },
        "outputId": "79db351b-1c92-4b74-caf1-0c058484e631"
      },
      "execution_count": null,
      "outputs": [
        {
          "output_type": "stream",
          "name": "stdout",
          "text": [
            "time: 83.8 ms (started: 2023-01-16 11:36:05 +00:00)\n"
          ]
        }
      ]
    },
    {
      "cell_type": "code",
      "source": [
        "# Evaluation Metrics\n",
        "\n",
        "from sklearn.metrics import confusion_matrix, recall_score, f1_score, roc_auc_score, accuracy_score\n",
        "\n",
        "def evaluation_metrics(y_true, y_pred):\n",
        "  cfm = confusion_matrix(y_true, y_pred).ravel()\n",
        "  acc = accuracy_score(y_true, y_pred)\n",
        "  recs = recall_score(y_true, y_pred, average='binary')\n",
        "  f1s = f1_score(y_true, y_pred, average='binary')\n",
        "  rocs = roc_auc_score(y_true, y_pred, average='macro')\n",
        "  return [cfm, acc, recs, f1s, rocs]"
      ],
      "metadata": {
        "id": "AsnI9sv5nNyu",
        "colab": {
          "base_uri": "https://localhost:8080/"
        },
        "outputId": "872daa4f-a169-41f8-b58a-2ed8477dcfc7"
      },
      "execution_count": null,
      "outputs": [
        {
          "output_type": "stream",
          "name": "stdout",
          "text": [
            "time: 1.32 ms (started: 2023-01-16 11:36:05 +00:00)\n"
          ]
        }
      ]
    },
    {
      "cell_type": "markdown",
      "source": [
        "Confusion matrix format : [ tn , fp , fn , tp ]"
      ],
      "metadata": {
        "id": "bPS8aE8bpEa4"
      }
    },
    {
      "cell_type": "code",
      "source": [
        "# Store Model Parameters and Eval\n",
        "\n",
        "models = pd.DataFrame(columns = ['model_name', 'model', 'parameters'])\n",
        "models_eval = pd.DataFrame(columns = ['model_name', 'confusion_matrix', 'accuracy', 'recall', 'f1_score', 'roc_auc_score'])"
      ],
      "metadata": {
        "id": "beEJSW87njvC",
        "colab": {
          "base_uri": "https://localhost:8080/"
        },
        "outputId": "19dbda15-df55-4a53-c923-2ea2447fac29"
      },
      "execution_count": null,
      "outputs": [
        {
          "output_type": "stream",
          "name": "stdout",
          "text": [
            "time: 8.05 ms (started: 2023-01-16 11:36:05 +00:00)\n"
          ]
        }
      ]
    },
    {
      "cell_type": "code",
      "execution_count": null,
      "metadata": {
        "id": "jZr8lVAHyw_I",
        "colab": {
          "base_uri": "https://localhost:8080/"
        },
        "outputId": "6bb10114-091b-4dc6-8d53-54f8e7d5794f"
      },
      "outputs": [
        {
          "output_type": "stream",
          "name": "stdout",
          "text": [
            "time: 5.29 s (started: 2023-01-16 11:36:05 +00:00)\n"
          ]
        }
      ],
      "source": [
        "# Import ML Algorithms\n",
        "\n",
        "from sklearn.linear_model import LogisticRegression\n",
        "from sklearn.svm import SVC\n",
        "from sklearn.naive_bayes import GaussianNB\n",
        "from sklearn.neighbors import KNeighborsClassifier\n",
        "from sklearn.ensemble import RandomForestClassifier\n",
        "from sklearn.tree import DecisionTreeClassifier\n",
        "from sklearn.ensemble import GradientBoostingClassifier\n",
        "import xgboost\n",
        "from xgboost import XGBClassifier\n",
        "import lightgbm\n",
        "from lightgbm import LGBMClassifier\n",
        "import tensorflow as tf\n",
        "from tensorflow import keras\n",
        "from sklearn.ensemble import VotingClassifier"
      ]
    },
    {
      "cell_type": "markdown",
      "source": [
        "## Logistic Regression\n",
        "\n",
        "- Library: Scikit-learn\n",
        "\n",
        "**Best Parameters:**\n",
        "\n",
        "{'warm_start': True,\n",
        " 'solver': 'lbfgs',\n",
        " 'penalty': 'none',\n",
        " 'max_iter': 331,\n",
        " 'dual': False,\n",
        " 'C': 0}"
      ],
      "metadata": {
        "id": "Xcwy2Vgsuu56"
      }
    },
    {
      "cell_type": "code",
      "source": [
        "name = 'log_clf'\n",
        "\n",
        "log_clf = LogisticRegression(penalty = 'none', \n",
        "                             warm_start = True,\n",
        "                             solver = 'lbfgs',\n",
        "                             max_iter = 331,\n",
        "                             dual = False,\n",
        "                             C = 0,\n",
        "                             n_jobs = -1, \n",
        "                             random_state = 10\n",
        "                             ).fit(X_train,y_train)\n",
        "\n",
        "y_true = y_val\n",
        "y_pred = log_clf.predict(X_val)\n",
        "evaluation_results = evaluation_metrics(y_true, y_pred)\n",
        "\n",
        "models = models.append({'model_name': name, \n",
        "                        'model': log_clf, \n",
        "                        'parameters': log_clf.get_params()}, \n",
        "                        ignore_index=True)\n",
        "\n",
        "models_eval = models_eval.append({'model_name': name, \n",
        "                                  'confusion_matrix' : evaluation_results[0], \n",
        "                                  'accuracy': evaluation_results[1], \n",
        "                                  'recall' : evaluation_results[2], \n",
        "                                  'f1_score': evaluation_results[3],\n",
        "                                  'roc_auc_score': evaluation_results[4]}, \n",
        "                                 ignore_index=True)"
      ],
      "metadata": {
        "id": "GTz0ABHmZXIA",
        "colab": {
          "base_uri": "https://localhost:8080/"
        },
        "outputId": "690cdae3-83c7-41e9-afb1-a7c66c93f632"
      },
      "execution_count": null,
      "outputs": [
        {
          "output_type": "stream",
          "name": "stderr",
          "text": [
            "/usr/local/lib/python3.8/dist-packages/sklearn/linear_model/_logistic.py:1483: UserWarning: Setting penalty='none' will ignore the C and l1_ratio parameters\n",
            "  warnings.warn(\n"
          ]
        },
        {
          "output_type": "stream",
          "name": "stdout",
          "text": [
            "time: 8.12 s (started: 2023-01-16 11:36:11 +00:00)\n"
          ]
        }
      ]
    },
    {
      "cell_type": "markdown",
      "source": [
        "## Support Vector Machine (SVM)\n",
        "\n",
        "- Library: Scikit-learn\n",
        "\n",
        "**Best Parameters:**\n",
        "\n",
        "{\n",
        "'kernel': 'rbf',\n",
        "'C' : '8',\n",
        "'class_weight'='balanced'\n",
        "}"
      ],
      "metadata": {
        "id": "1LPWXBKHuu3j"
      }
    },
    {
      "cell_type": "code",
      "source": [
        "X_train_SVM = Original[0]\n",
        "X_val_SVM = Original[1]\n",
        "y_train_SVM = Original[3]\n",
        "y_val_SVM = Original[4]"
      ],
      "metadata": {
        "colab": {
          "base_uri": "https://localhost:8080/"
        },
        "id": "bv2drcGlRH_Q",
        "outputId": "aa333df9-8b78-4fb8-8b97-a8e92ad852f2"
      },
      "execution_count": null,
      "outputs": [
        {
          "output_type": "stream",
          "name": "stdout",
          "text": [
            "time: 5.32 ms (started: 2023-01-16 11:36:19 +00:00)\n"
          ]
        }
      ]
    },
    {
      "cell_type": "code",
      "source": [
        "# Shuffle\n",
        "\n",
        "X_train_SVM, y_train_SVM = shuffle(X_train_SVM, y_train_SVM, random_state = 10)"
      ],
      "metadata": {
        "id": "p_ny6ndEumCF",
        "colab": {
          "base_uri": "https://localhost:8080/"
        },
        "outputId": "b672b7f3-8326-48bf-e948-42b256e41cc8"
      },
      "execution_count": null,
      "outputs": [
        {
          "output_type": "stream",
          "name": "stdout",
          "text": [
            "time: 245 ms (started: 2023-01-16 11:36:19 +00:00)\n"
          ]
        }
      ]
    },
    {
      "cell_type": "code",
      "source": [
        "display(y_train_SVM.value_counts())"
      ],
      "metadata": {
        "id": "r_PiEhleyUgO",
        "colab": {
          "base_uri": "https://localhost:8080/",
          "height": 86
        },
        "outputId": "6cf40d61-8039-4a9f-a184-f05f31ec6a5e"
      },
      "execution_count": null,
      "outputs": [
        {
          "output_type": "display_data",
          "data": {
            "text/plain": [
              "0    136417\n",
              "1      1096\n",
              "Name: FIRE_OCCURRED, dtype: int64"
            ]
          },
          "metadata": {}
        },
        {
          "output_type": "stream",
          "name": "stdout",
          "text": [
            "time: 37.7 ms (started: 2023-01-16 11:36:19 +00:00)\n"
          ]
        }
      ]
    },
    {
      "cell_type": "code",
      "source": [
        "name = 'svc_clf'\n",
        "\n",
        "svc_clf = SVC(kernel = 'rbf', \n",
        "              C = 8,\n",
        "              class_weight='balanced',\n",
        "              random_state = 10\n",
        "              ).fit(X_train_SVM,y_train_SVM)\n",
        "\n",
        "y_true = y_val_SVM\n",
        "y_pred = svc_clf.predict(X_val_SVM)\n",
        "evaluation_results = evaluation_metrics(y_true, y_pred)\n",
        "\n",
        "models = models.append({'model_name': name, \n",
        "                        'model': svc_clf, \n",
        "                        'parameters': svc_clf.get_params()}, \n",
        "                       ignore_index=True)\n",
        "\n",
        "models_eval = models_eval.append({'model_name': name, \n",
        "                                  'confusion_matrix' : evaluation_results[0], \n",
        "                                  'accuracy': evaluation_results[1], \n",
        "                                  'recall' : evaluation_results[2], \n",
        "                                  'f1_score': evaluation_results[3],\n",
        "                                  'roc_auc_score': evaluation_results[4]}, \n",
        "                                 ignore_index=True)"
      ],
      "metadata": {
        "id": "vio-Fo6Nyl9S",
        "colab": {
          "base_uri": "https://localhost:8080/"
        },
        "outputId": "e27b36b6-398c-43fd-dd32-eeeeeaab182a"
      },
      "execution_count": null,
      "outputs": [
        {
          "output_type": "stream",
          "name": "stdout",
          "text": [
            "time: 4min 35s (started: 2023-01-16 11:36:19 +00:00)\n"
          ]
        }
      ]
    },
    {
      "cell_type": "markdown",
      "source": [
        "## Naive Bayes\n",
        "\n",
        "- Library: Scikit-learn\n",
        "\n",
        "**Best Parameters:**\n",
        "\n",
        "{'var_smoothing': 1e-3}"
      ],
      "metadata": {
        "id": "jFKJ-rs3uu1O"
      }
    },
    {
      "cell_type": "code",
      "source": [
        "name = 'bayes_clf'\n",
        "\n",
        "bayes_clf = GaussianNB(var_smoothing = 1e-3\n",
        "                       ).fit(X_train,y_train)\n",
        "\n",
        "y_true = y_val\n",
        "y_pred = bayes_clf.predict(X_val)\n",
        "evaluation_results = evaluation_metrics(y_true, y_pred)\n",
        "\n",
        "models = models.append({'model_name': name, \n",
        "                        'model': bayes_clf, \n",
        "                        'parameters': bayes_clf.get_params()}, \n",
        "                       ignore_index=True)\n",
        "\n",
        "models_eval = models_eval.append({'model_name': name, \n",
        "                                  'confusion_matrix' : evaluation_results[0], \n",
        "                                  'accuracy': evaluation_results[1], \n",
        "                                  'recall' : evaluation_results[2], \n",
        "                                  'f1_score': evaluation_results[3],\n",
        "                                  'roc_auc_score': evaluation_results[4]}, \n",
        "                                 ignore_index=True)"
      ],
      "metadata": {
        "id": "xX1Uk1TcZX4R",
        "colab": {
          "base_uri": "https://localhost:8080/"
        },
        "outputId": "ea31961f-c988-4706-ba4b-fa0bdfad03c0"
      },
      "execution_count": null,
      "outputs": [
        {
          "output_type": "stream",
          "name": "stdout",
          "text": [
            "time: 148 ms (started: 2023-01-16 11:40:55 +00:00)\n"
          ]
        }
      ]
    },
    {
      "cell_type": "markdown",
      "source": [
        "## K-Nearest Neighbor\n",
        "\n",
        "- Library: Scikit-learn\n",
        "\n",
        "**Best Parameters:**\n",
        "\n",
        "{'n_neighbors': 19, 'algorithm': 'kd_tree'}"
      ],
      "metadata": {
        "id": "tLaZu_G9uuzC"
      }
    },
    {
      "cell_type": "code",
      "source": [
        "name = 'neigh_clf'\n",
        "\n",
        "neigh_clf = KNeighborsClassifier(n_neighbors = 19, \n",
        "                                 algorithm = 'kd_tree',\n",
        "                                 n_jobs = -1, \n",
        "                                 ).fit(X_train,y_train)\n",
        "\n",
        "y_true = y_val\n",
        "y_pred = neigh_clf.predict(X_val)\n",
        "evaluation_results = evaluation_metrics(y_true, y_pred)\n",
        "\n",
        "models = models.append({'model_name': name, \n",
        "                        'model': neigh_clf, \n",
        "                        'parameters': neigh_clf.get_params()}, \n",
        "                       ignore_index=True)\n",
        "\n",
        "models_eval = models_eval.append({'model_name': name, \n",
        "                                  'confusion_matrix' : evaluation_results[0], \n",
        "                                  'accuracy': evaluation_results[1], \n",
        "                                  'recall' : evaluation_results[2], \n",
        "                                  'f1_score': evaluation_results[3],\n",
        "                                  'roc_auc_score': evaluation_results[4]}, \n",
        "                                 ignore_index=True)"
      ],
      "metadata": {
        "id": "DDM4MrNrZYTH",
        "colab": {
          "base_uri": "https://localhost:8080/"
        },
        "outputId": "ed7d30a6-4723-4d1a-c95f-e7e6f994cc4b"
      },
      "execution_count": null,
      "outputs": [
        {
          "output_type": "stream",
          "name": "stdout",
          "text": [
            "time: 11.9 s (started: 2023-01-16 11:40:55 +00:00)\n"
          ]
        }
      ]
    },
    {
      "cell_type": "markdown",
      "source": [
        "## Decision Tree\n",
        "\n",
        "- Library: Scikit-learn\n",
        "\n",
        "**Best Parameters:**\n",
        "\n",
        "{'splitter': 'random',\n",
        " 'min_samples_leaf': 2,\n",
        " 'max_features': 11,\n",
        " 'max_depth': None,\n",
        " 'criterion': 'entropy'}"
      ],
      "metadata": {
        "id": "h4rV9G4OuurU"
      }
    },
    {
      "cell_type": "code",
      "source": [
        "name = 'tree_clf'\n",
        "\n",
        "tree_clf = DecisionTreeClassifier(criterion = 'entropy', \n",
        "                                  splitter = 'random', \n",
        "                                  min_samples_leaf = 2,\n",
        "                                  max_features = 11,\n",
        "                                  max_depth = None,\n",
        "                                  random_state = 10\n",
        "                                  ).fit(X_train,y_train)\n",
        "\n",
        "y_true = y_val\n",
        "y_pred = tree_clf.predict(X_val)\n",
        "evaluation_results = evaluation_metrics(y_true, y_pred)\n",
        "\n",
        "models = models.append({'model_name': name, \n",
        "                        'model': tree_clf, \n",
        "                        'parameters': tree_clf.get_params()}, \n",
        "                       ignore_index=True)\n",
        "\n",
        "models_eval = models_eval.append({'model_name': name, \n",
        "                                  'confusion_matrix' : evaluation_results[0], \n",
        "                                  'accuracy': evaluation_results[1], \n",
        "                                  'recall' : evaluation_results[2], \n",
        "                                  'f1_score': evaluation_results[3],\n",
        "                                  'roc_auc_score': evaluation_results[4]}, \n",
        "                                 ignore_index=True)"
      ],
      "metadata": {
        "id": "-2V9TCX1ZY-y",
        "colab": {
          "base_uri": "https://localhost:8080/"
        },
        "outputId": "7fb739c2-8ed9-4052-a0c4-fe5437debd9f"
      },
      "execution_count": null,
      "outputs": [
        {
          "output_type": "stream",
          "name": "stdout",
          "text": [
            "time: 647 ms (started: 2023-01-16 11:41:07 +00:00)\n"
          ]
        }
      ]
    },
    {
      "cell_type": "markdown",
      "source": [
        "## Random Forest Classifier\n",
        "\n",
        "- Library: Scikit-learn\n",
        "\n",
        "**Best Parameters:**\n",
        "\n",
        "{'n_estimators': 415,\n",
        " 'min_samples_split': 6,\n",
        " 'min_samples_leaf': 1,\n",
        " 'max_features': 4,\n",
        " 'max_depth': 18}"
      ],
      "metadata": {
        "id": "qAaISg5Kuuwi"
      }
    },
    {
      "cell_type": "code",
      "source": [
        "name = 'rnd_clf'\n",
        "\n",
        "rnd_clf = RandomForestClassifier(n_estimators = 415, \n",
        "                                  min_samples_split = 6,\n",
        "                                  min_samples_leaf = 1,\n",
        "                                  max_features = 4,\n",
        "                                  max_depth = 18, \n",
        "                                  n_jobs = -1, \n",
        "                                  random_state = 10\n",
        "                                  ).fit(X_train,y_train)\n",
        "\n",
        "y_true = y_val\n",
        "y_pred = rnd_clf.predict(X_val)\n",
        "evaluation_results = evaluation_metrics(y_true, y_pred)\n",
        "\n",
        "models = models.append({'model_name': name, \n",
        "                        'model': rnd_clf, \n",
        "                        'parameters': rnd_clf.get_params()}, \n",
        "                       ignore_index=True)\n",
        "\n",
        "models_eval = models_eval.append({'model_name': name, \n",
        "                                  'confusion_matrix' : evaluation_results[0], \n",
        "                                  'accuracy': evaluation_results[1], \n",
        "                                  'recall' : evaluation_results[2], \n",
        "                                  'f1_score': evaluation_results[3],\n",
        "                                  'roc_auc_score': evaluation_results[4]}, \n",
        "                                 ignore_index=True)"
      ],
      "metadata": {
        "id": "1ZdpWxd0ZYo3",
        "colab": {
          "base_uri": "https://localhost:8080/"
        },
        "outputId": "d5450642-14f2-4962-b7ab-93313c2c55d1"
      },
      "execution_count": null,
      "outputs": [
        {
          "output_type": "stream",
          "name": "stdout",
          "text": [
            "time: 4min 15s (started: 2023-01-16 11:41:08 +00:00)\n"
          ]
        }
      ]
    },
    {
      "cell_type": "markdown",
      "source": [
        "## Gradient Boosting Classifier\n",
        "\n",
        "- Library: Scikit-learn\n",
        "\n",
        "**Best Parameters:**\n",
        "\n",
        "{'n_estimators': 1000, 'max_depth': 8, 'learning_rate': 0.1}"
      ],
      "metadata": {
        "id": "7Vvojs9tuuoh"
      }
    },
    {
      "cell_type": "code",
      "source": [
        "name = 'gboost_clf'\n",
        "\n",
        "gboost_clf = GradientBoostingClassifier(n_estimators = 1000, \n",
        "                                        learning_rate = 0.1, \n",
        "                                        max_depth = 8,\n",
        "                                        random_state = 10\n",
        "                                        ).fit(X_train,y_train)\n",
        "\n",
        "y_true = y_val\n",
        "y_pred = gboost_clf.predict(X_val)\n",
        "evaluation_results = evaluation_metrics(y_true, y_pred)\n",
        "\n",
        "models = models.append({'model_name': name, \n",
        "                        'model': gboost_clf, \n",
        "                        'parameters': gboost_clf.get_params()}, \n",
        "                       ignore_index=True)\n",
        "\n",
        "models_eval = models_eval.append({'model_name': name, \n",
        "                                  'confusion_matrix' : evaluation_results[0], \n",
        "                                  'accuracy': evaluation_results[1], \n",
        "                                  'recall' : evaluation_results[2], \n",
        "                                  'f1_score': evaluation_results[3],\n",
        "                                  'roc_auc_score': evaluation_results[4]}, \n",
        "                                 ignore_index=True)"
      ],
      "metadata": {
        "id": "cXDZXJXyZZVj",
        "colab": {
          "base_uri": "https://localhost:8080/"
        },
        "outputId": "e481ed31-b8d9-4943-b1da-6cccc2554b75"
      },
      "execution_count": null,
      "outputs": [
        {
          "output_type": "stream",
          "name": "stdout",
          "text": [
            "time: 39min 43s (started: 2023-01-16 11:45:23 +00:00)\n"
          ]
        }
      ]
    },
    {
      "cell_type": "markdown",
      "source": [
        "## XGBoost\n",
        "\n",
        "- Library: xgboost\n",
        "\n",
        "**Best Parameters:**\n",
        "\n",
        "{'n_estimators': 1000,\n",
        " 'min_child_weight': 7,\n",
        " 'max_depth': 8,\n",
        " 'learning_rate': 0.1}"
      ],
      "metadata": {
        "id": "NfVD2dOouulp"
      }
    },
    {
      "cell_type": "code",
      "source": [
        "name = 'xgboost_clf'\n",
        "\n",
        "xgboost_clf = XGBClassifier(n_estimators = 1000, \n",
        "                            learning_rate = 0.1,\n",
        "                            max_depth = 8, \n",
        "                            min_child_weight = 7,\n",
        "                            random_state = 10\n",
        "                            ).fit(X_train,y_train)\n",
        "\n",
        "y_true = y_val\n",
        "y_pred = xgboost_clf.predict(X_val)\n",
        "evaluation_results = evaluation_metrics(y_true, y_pred)\n",
        "\n",
        "models = models.append({'model_name': name, \n",
        "                        'model': xgboost_clf, \n",
        "                        'parameters': xgboost_clf.get_params()}, \n",
        "                       ignore_index=True)\n",
        "\n",
        "models_eval = models_eval.append({'model_name': name, \n",
        "                                  'confusion_matrix' : evaluation_results[0], \n",
        "                                  'accuracy': evaluation_results[1], \n",
        "                                  'recall' : evaluation_results[2], \n",
        "                                  'f1_score': evaluation_results[3],\n",
        "                                  'roc_auc_score': evaluation_results[4]}, \n",
        "                                 ignore_index=True)"
      ],
      "metadata": {
        "id": "6QYj-9csZZvE",
        "colab": {
          "base_uri": "https://localhost:8080/"
        },
        "outputId": "22799a6c-ee5d-4b67-941d-469a0c6e8ef3"
      },
      "execution_count": null,
      "outputs": [
        {
          "output_type": "stream",
          "name": "stdout",
          "text": [
            "time: 10min 21s (started: 2023-01-16 12:25:06 +00:00)\n"
          ]
        }
      ]
    },
    {
      "cell_type": "markdown",
      "source": [
        "## LightGBM\n",
        "\n",
        "- Library: lightbgm\n",
        "\n",
        "**Best Parameters:**\n",
        "\n",
        "{'num_leaves': 50,\n",
        " 'n_estimators': 1000,\n",
        " 'min_data_in_leaf': 10,\n",
        " 'max_depth': 8,\n",
        " 'learning_rate': 0.05}"
      ],
      "metadata": {
        "id": "X23LZaWruugg"
      }
    },
    {
      "cell_type": "code",
      "source": [
        "name = 'lightgbm_clf'\n",
        "\n",
        "lightgbm_clf = LGBMClassifier(n_estimators = 1000, \n",
        "                              learning_rate = 0.05, \n",
        "                              max_depth = 8,\n",
        "                              num_leaves = 50,\n",
        "                              min_data_in_leaf = 10,\n",
        "                              random_state = 10\n",
        "                              ).fit(X_train,y_train)\n",
        "\n",
        "y_true = y_val\n",
        "y_pred = lightgbm_clf.predict(X_val)\n",
        "evaluation_results = evaluation_metrics(y_true, y_pred)\n",
        "\n",
        "models = models.append({'model_name': name, \n",
        "                        'model': lightgbm_clf, \n",
        "                        'parameters': lightgbm_clf.get_params()}, \n",
        "                       ignore_index=True)\n",
        "\n",
        "models_eval = models_eval.append({'model_name': name, \n",
        "                                  'confusion_matrix' : evaluation_results[0], \n",
        "                                  'accuracy': evaluation_results[1], \n",
        "                                  'recall' : evaluation_results[2], \n",
        "                                  'f1_score': evaluation_results[3],\n",
        "                                  'roc_auc_score': evaluation_results[4]}, \n",
        "                                 ignore_index=True)"
      ],
      "metadata": {
        "id": "B0wkCOloZaJc",
        "colab": {
          "base_uri": "https://localhost:8080/"
        },
        "outputId": "0db521a4-8756-4367-bbaf-bd6b850fec99"
      },
      "execution_count": null,
      "outputs": [
        {
          "output_type": "stream",
          "name": "stdout",
          "text": [
            "time: 43.6 s (started: 2023-01-16 12:35:28 +00:00)\n"
          ]
        }
      ]
    },
    {
      "cell_type": "markdown",
      "source": [
        "## Artificial Neural Network\n",
        "\n",
        "- Library: Keras, Tensorflow\n",
        "\n",
        "**Best Parameters:**\n",
        "- Batch size 15\n",
        "- EPOCH 50"
      ],
      "metadata": {
        "id": "9ZkjCtnBuuZq"
      }
    },
    {
      "cell_type": "code",
      "source": [
        "tf.random.set_seed(10)"
      ],
      "metadata": {
        "id": "ammU32hvw0om",
        "colab": {
          "base_uri": "https://localhost:8080/"
        },
        "outputId": "d22604b4-cd3a-4cfa-a4a6-0505159ea2f7"
      },
      "execution_count": null,
      "outputs": [
        {
          "output_type": "stream",
          "name": "stdout",
          "text": [
            "time: 1.44 ms (started: 2023-01-16 12:36:12 +00:00)\n"
          ]
        }
      ]
    },
    {
      "cell_type": "code",
      "source": [
        "name = 'ann_clf'\n",
        "\n",
        "ann_clf = keras.models.Sequential([\n",
        "    keras.layers.Dense(15, input_shape=(X_train.shape[1],), activation='relu'), # No bias term\n",
        "    # keras.layers.Dense(10, activation='relu'), \n",
        "    keras.layers.Dense(10, activation='relu'), \n",
        "    keras.layers.Dense(1, activation='sigmoid')\n",
        "])\n",
        "\n",
        "ann_clf.summary()"
      ],
      "metadata": {
        "id": "6arjXn0ZZafL",
        "colab": {
          "base_uri": "https://localhost:8080/"
        },
        "outputId": "a1b2ff52-7fbb-4b34-a401-5df9f5364a47"
      },
      "execution_count": null,
      "outputs": [
        {
          "output_type": "stream",
          "name": "stdout",
          "text": [
            "Model: \"sequential\"\n",
            "_________________________________________________________________\n",
            " Layer (type)                Output Shape              Param #   \n",
            "=================================================================\n",
            " dense (Dense)               (None, 15)                210       \n",
            "                                                                 \n",
            " dense_1 (Dense)             (None, 10)                160       \n",
            "                                                                 \n",
            " dense_2 (Dense)             (None, 1)                 11        \n",
            "                                                                 \n",
            "=================================================================\n",
            "Total params: 381\n",
            "Trainable params: 381\n",
            "Non-trainable params: 0\n",
            "_________________________________________________________________\n",
            "time: 427 ms (started: 2023-01-16 12:36:12 +00:00)\n"
          ]
        }
      ]
    },
    {
      "cell_type": "code",
      "source": [
        "display(y_train.value_counts())"
      ],
      "metadata": {
        "id": "s2hCVFYFOGKG",
        "colab": {
          "base_uri": "https://localhost:8080/",
          "height": 86
        },
        "outputId": "bdd5510b-3202-4672-e584-59c9d010e77f"
      },
      "execution_count": null,
      "outputs": [
        {
          "output_type": "display_data",
          "data": {
            "text/plain": [
              "0    136417\n",
              "1    136417\n",
              "Name: FIRE_OCCURRED, dtype: int64"
            ]
          },
          "metadata": {}
        },
        {
          "output_type": "stream",
          "name": "stdout",
          "text": [
            "time: 16.7 ms (started: 2023-01-16 12:36:12 +00:00)\n"
          ]
        }
      ]
    },
    {
      "cell_type": "code",
      "source": [
        "display(y_test.value_counts())"
      ],
      "metadata": {
        "id": "qkyja7zKOJhE",
        "colab": {
          "base_uri": "https://localhost:8080/",
          "height": 86
        },
        "outputId": "d0786957-920d-49f8-936a-2473e21ede77"
      },
      "execution_count": null,
      "outputs": [
        {
          "output_type": "display_data",
          "data": {
            "text/plain": [
              "0    17059\n",
              "1      131\n",
              "Name: FIRE_OCCURRED, dtype: int64"
            ]
          },
          "metadata": {}
        },
        {
          "output_type": "stream",
          "name": "stdout",
          "text": [
            "time: 8.62 ms (started: 2023-01-16 12:36:12 +00:00)\n"
          ]
        }
      ]
    },
    {
      "cell_type": "code",
      "source": [
        "ann_clf.compile(optimizer = 'adam', \n",
        "                metrics=['accuracy'], \n",
        "                loss ='binary_crossentropy')\n",
        "\n",
        "record = ann_clf.fit(\n",
        "            X_train, \n",
        "            y_train, \n",
        "            validation_data = (X_val, y_val), \n",
        "            batch_size = 15, \n",
        "            epochs = 50)"
      ],
      "metadata": {
        "id": "fSMBrn5lOPjl",
        "colab": {
          "base_uri": "https://localhost:8080/"
        },
        "outputId": "71df5edd-539d-454d-e8eb-b742b45a04df"
      },
      "execution_count": null,
      "outputs": [
        {
          "output_type": "stream",
          "name": "stdout",
          "text": [
            "Epoch 1/50\n",
            "18189/18189 [==============================] - 47s 3ms/step - loss: 0.2149 - accuracy: 0.9200 - val_loss: 0.2072 - val_accuracy: 0.9083\n",
            "Epoch 2/50\n",
            "18189/18189 [==============================] - 48s 3ms/step - loss: 0.1674 - accuracy: 0.9405 - val_loss: 0.1730 - val_accuracy: 0.9247\n",
            "Epoch 3/50\n",
            "18189/18189 [==============================] - 48s 3ms/step - loss: 0.1549 - accuracy: 0.9450 - val_loss: 0.1862 - val_accuracy: 0.9226\n",
            "Epoch 4/50\n",
            "18189/18189 [==============================] - 47s 3ms/step - loss: 0.1494 - accuracy: 0.9470 - val_loss: 0.1797 - val_accuracy: 0.9219\n",
            "Epoch 5/50\n",
            "18189/18189 [==============================] - 47s 3ms/step - loss: 0.1454 - accuracy: 0.9488 - val_loss: 0.1563 - val_accuracy: 0.9337\n",
            "Epoch 6/50\n",
            "18189/18189 [==============================] - 48s 3ms/step - loss: 0.1419 - accuracy: 0.9500 - val_loss: 0.1608 - val_accuracy: 0.9312\n",
            "Epoch 7/50\n",
            "18189/18189 [==============================] - 45s 2ms/step - loss: 0.1384 - accuracy: 0.9519 - val_loss: 0.1600 - val_accuracy: 0.9357\n",
            "Epoch 8/50\n",
            "18189/18189 [==============================] - 45s 2ms/step - loss: 0.1355 - accuracy: 0.9535 - val_loss: 0.1758 - val_accuracy: 0.9300\n",
            "Epoch 9/50\n",
            "18189/18189 [==============================] - 46s 3ms/step - loss: 0.1332 - accuracy: 0.9545 - val_loss: 0.1784 - val_accuracy: 0.9326\n",
            "Epoch 10/50\n",
            "18189/18189 [==============================] - 47s 3ms/step - loss: 0.1315 - accuracy: 0.9555 - val_loss: 0.1503 - val_accuracy: 0.9382\n",
            "Epoch 11/50\n",
            "18189/18189 [==============================] - 47s 3ms/step - loss: 0.1302 - accuracy: 0.9561 - val_loss: 0.1401 - val_accuracy: 0.9435\n",
            "Epoch 12/50\n",
            "18189/18189 [==============================] - 46s 3ms/step - loss: 0.1285 - accuracy: 0.9566 - val_loss: 0.1410 - val_accuracy: 0.9396\n",
            "Epoch 13/50\n",
            "18189/18189 [==============================] - 47s 3ms/step - loss: 0.1271 - accuracy: 0.9572 - val_loss: 0.1671 - val_accuracy: 0.9343\n",
            "Epoch 14/50\n",
            "18189/18189 [==============================] - 48s 3ms/step - loss: 0.1262 - accuracy: 0.9582 - val_loss: 0.1601 - val_accuracy: 0.9358\n",
            "Epoch 15/50\n",
            "18189/18189 [==============================] - 47s 3ms/step - loss: 0.1252 - accuracy: 0.9583 - val_loss: 0.1812 - val_accuracy: 0.9300\n",
            "Epoch 16/50\n",
            "18189/18189 [==============================] - 45s 2ms/step - loss: 0.1244 - accuracy: 0.9589 - val_loss: 0.1269 - val_accuracy: 0.9484\n",
            "Epoch 17/50\n",
            "18189/18189 [==============================] - 47s 3ms/step - loss: 0.1235 - accuracy: 0.9589 - val_loss: 0.1488 - val_accuracy: 0.9428\n",
            "Epoch 18/50\n",
            "18189/18189 [==============================] - 44s 2ms/step - loss: 0.1226 - accuracy: 0.9597 - val_loss: 0.1452 - val_accuracy: 0.9445\n",
            "Epoch 19/50\n",
            "18189/18189 [==============================] - 45s 2ms/step - loss: 0.1221 - accuracy: 0.9599 - val_loss: 0.1406 - val_accuracy: 0.9425\n",
            "Epoch 20/50\n",
            "18189/18189 [==============================] - 45s 2ms/step - loss: 0.1213 - accuracy: 0.9599 - val_loss: 0.1387 - val_accuracy: 0.9436\n",
            "Epoch 21/50\n",
            "18189/18189 [==============================] - 44s 2ms/step - loss: 0.1211 - accuracy: 0.9600 - val_loss: 0.1467 - val_accuracy: 0.9418\n",
            "Epoch 22/50\n",
            "18189/18189 [==============================] - 43s 2ms/step - loss: 0.1204 - accuracy: 0.9606 - val_loss: 0.1532 - val_accuracy: 0.9408\n",
            "Epoch 23/50\n",
            "18189/18189 [==============================] - 43s 2ms/step - loss: 0.1199 - accuracy: 0.9604 - val_loss: 0.1253 - val_accuracy: 0.9470\n",
            "Epoch 24/50\n",
            "18189/18189 [==============================] - 42s 2ms/step - loss: 0.1194 - accuracy: 0.9604 - val_loss: 0.1257 - val_accuracy: 0.9500\n",
            "Epoch 25/50\n",
            "18189/18189 [==============================] - 44s 2ms/step - loss: 0.1188 - accuracy: 0.9605 - val_loss: 0.1571 - val_accuracy: 0.9396\n",
            "Epoch 26/50\n",
            "18189/18189 [==============================] - 43s 2ms/step - loss: 0.1184 - accuracy: 0.9605 - val_loss: 0.1459 - val_accuracy: 0.9438\n",
            "Epoch 27/50\n",
            "18189/18189 [==============================] - 42s 2ms/step - loss: 0.1179 - accuracy: 0.9611 - val_loss: 0.1402 - val_accuracy: 0.9443\n",
            "Epoch 28/50\n",
            "18189/18189 [==============================] - 44s 2ms/step - loss: 0.1178 - accuracy: 0.9613 - val_loss: 0.1419 - val_accuracy: 0.9446\n",
            "Epoch 29/50\n",
            "18189/18189 [==============================] - 43s 2ms/step - loss: 0.1171 - accuracy: 0.9613 - val_loss: 0.1385 - val_accuracy: 0.9458\n",
            "Epoch 30/50\n",
            "18189/18189 [==============================] - 44s 2ms/step - loss: 0.1170 - accuracy: 0.9614 - val_loss: 0.1621 - val_accuracy: 0.9380\n",
            "Epoch 31/50\n",
            "18189/18189 [==============================] - 48s 3ms/step - loss: 0.1165 - accuracy: 0.9617 - val_loss: 0.1368 - val_accuracy: 0.9464\n",
            "Epoch 32/50\n",
            "18189/18189 [==============================] - 50s 3ms/step - loss: 0.1163 - accuracy: 0.9618 - val_loss: 0.1511 - val_accuracy: 0.9404\n",
            "Epoch 33/50\n",
            "18189/18189 [==============================] - 47s 3ms/step - loss: 0.1161 - accuracy: 0.9620 - val_loss: 0.1460 - val_accuracy: 0.9426\n",
            "Epoch 34/50\n",
            "18189/18189 [==============================] - 51s 3ms/step - loss: 0.1157 - accuracy: 0.9621 - val_loss: 0.1641 - val_accuracy: 0.9378\n",
            "Epoch 35/50\n",
            "18189/18189 [==============================] - 50s 3ms/step - loss: 0.1152 - accuracy: 0.9620 - val_loss: 0.1598 - val_accuracy: 0.9407\n",
            "Epoch 36/50\n",
            "18189/18189 [==============================] - 48s 3ms/step - loss: 0.1152 - accuracy: 0.9618 - val_loss: 0.1337 - val_accuracy: 0.9498\n",
            "Epoch 37/50\n",
            "18189/18189 [==============================] - 46s 3ms/step - loss: 0.1144 - accuracy: 0.9620 - val_loss: 0.1440 - val_accuracy: 0.9457\n",
            "Epoch 38/50\n",
            "18189/18189 [==============================] - 53s 3ms/step - loss: 0.1141 - accuracy: 0.9622 - val_loss: 0.1570 - val_accuracy: 0.9429\n",
            "Epoch 39/50\n",
            "18189/18189 [==============================] - 46s 3ms/step - loss: 0.1136 - accuracy: 0.9623 - val_loss: 0.1626 - val_accuracy: 0.9405\n",
            "Epoch 40/50\n",
            "18189/18189 [==============================] - 48s 3ms/step - loss: 0.1135 - accuracy: 0.9623 - val_loss: 0.1374 - val_accuracy: 0.9478\n",
            "Epoch 41/50\n",
            "18189/18189 [==============================] - 47s 3ms/step - loss: 0.1131 - accuracy: 0.9627 - val_loss: 0.1699 - val_accuracy: 0.9385\n",
            "Epoch 42/50\n",
            "18189/18189 [==============================] - 47s 3ms/step - loss: 0.1130 - accuracy: 0.9626 - val_loss: 0.1783 - val_accuracy: 0.9371\n",
            "Epoch 43/50\n",
            "18189/18189 [==============================] - 47s 3ms/step - loss: 0.1127 - accuracy: 0.9626 - val_loss: 0.1464 - val_accuracy: 0.9450\n",
            "Epoch 44/50\n",
            "18189/18189 [==============================] - 44s 2ms/step - loss: 0.1124 - accuracy: 0.9628 - val_loss: 0.1533 - val_accuracy: 0.9418\n",
            "Epoch 45/50\n",
            "18189/18189 [==============================] - 45s 2ms/step - loss: 0.1122 - accuracy: 0.9630 - val_loss: 0.1483 - val_accuracy: 0.9456\n",
            "Epoch 46/50\n",
            "18189/18189 [==============================] - 43s 2ms/step - loss: 0.1122 - accuracy: 0.9628 - val_loss: 0.1580 - val_accuracy: 0.9417\n",
            "Epoch 47/50\n",
            "18189/18189 [==============================] - 42s 2ms/step - loss: 0.1117 - accuracy: 0.9631 - val_loss: 0.1590 - val_accuracy: 0.9411\n",
            "Epoch 48/50\n",
            "18189/18189 [==============================] - 45s 2ms/step - loss: 0.1115 - accuracy: 0.9631 - val_loss: 0.1336 - val_accuracy: 0.9478\n",
            "Epoch 49/50\n",
            "18189/18189 [==============================] - 45s 2ms/step - loss: 0.1117 - accuracy: 0.9628 - val_loss: 0.1612 - val_accuracy: 0.9417\n",
            "Epoch 50/50\n",
            "18189/18189 [==============================] - 48s 3ms/step - loss: 0.1113 - accuracy: 0.9632 - val_loss: 0.1568 - val_accuracy: 0.9417\n",
            "time: 39min 23s (started: 2023-01-16 12:36:12 +00:00)\n"
          ]
        }
      ]
    },
    {
      "cell_type": "code",
      "source": [
        "y_true = y_val\n",
        "prediction = ann_clf.predict(X_val)\n",
        "prediction = pd.Series(prediction[:, 0])\n",
        "y_pred = []\n",
        "\n",
        "for i in range(len(prediction)):\n",
        "  if prediction[i] >= 0.5:\n",
        "    y_pred.append(1)\n",
        "  else:\n",
        "    y_pred.append(0)\n",
        "\n",
        "evaluation_results = evaluation_metrics(y_true, y_pred)\n",
        "\n",
        "models = models.append({'model_name': name, \n",
        "                        'model': ann_clf, \n",
        "                        'parameters': ann_clf.layers}, \n",
        "                       ignore_index=True)\n",
        "\n",
        "models_eval = models_eval.append({'model_name': name, \n",
        "                                  'confusion_matrix' : evaluation_results[0], \n",
        "                                  'accuracy': evaluation_results[1], \n",
        "                                  'recall' : evaluation_results[2], \n",
        "                                  'f1_score': evaluation_results[3],\n",
        "                                  'roc_auc_score': evaluation_results[4]}, \n",
        "                                 ignore_index=True)"
      ],
      "metadata": {
        "id": "LBW9ybn_ORDF",
        "colab": {
          "base_uri": "https://localhost:8080/"
        },
        "outputId": "adbe0dc1-4a51-4d4b-e553-3f35f2fd495b"
      },
      "execution_count": null,
      "outputs": [
        {
          "output_type": "stream",
          "name": "stdout",
          "text": [
            "538/538 [==============================] - 1s 1ms/step\n",
            "time: 1.56 s (started: 2023-01-16 13:15:35 +00:00)\n"
          ]
        }
      ]
    },
    {
      "cell_type": "markdown",
      "source": [
        "## Voting Classifier\n",
        "- Library: Scikit-learn, Keras, Tensorflow\n",
        "\n",
        "**Best Parameters:**\n",
        "\n",
        "{'voting': 'hard'}"
      ],
      "metadata": {
        "id": "2splAOL5vKme"
      }
    },
    {
      "cell_type": "code",
      "source": [
        "display(models_eval)"
      ],
      "metadata": {
        "id": "J0W9wksKZa5w",
        "colab": {
          "base_uri": "https://localhost:8080/",
          "height": 380
        },
        "outputId": "68c5693a-40bd-4839-b253-a0992fe0fec8"
      },
      "execution_count": null,
      "outputs": [
        {
          "output_type": "display_data",
          "data": {
            "text/plain": [
              "     model_name        confusion_matrix  accuracy    recall  f1_score  \\\n",
              "0       log_clf   [14046, 3022, 42, 80]  0.821757  0.655738  0.049628   \n",
              "1       svc_clf   [16317, 751, 14, 108]  0.955497  0.885246  0.220183   \n",
              "2     bayes_clf  [11475, 5593, 18, 104]  0.673589  0.852459  0.035745   \n",
              "3     neigh_clf   [16554, 514, 16, 106]  0.969168  0.868852  0.285714   \n",
              "4      tree_clf    [16930, 138, 24, 98]  0.990576  0.803279  0.547486   \n",
              "5       rnd_clf   [16838, 230, 21, 101]  0.985398  0.827869  0.445916   \n",
              "6    gboost_clf    [17017, 51, 20, 102]  0.995870  0.836066  0.741818   \n",
              "7   xgboost_clf     [17005, 63, 23, 99]  0.994997  0.811475  0.697183   \n",
              "8  lightgbm_clf    [16980, 88, 22, 100]  0.993601  0.819672  0.645161   \n",
              "9       ann_clf   [16079, 989, 14, 108]  0.941652  0.885246  0.177194   \n",
              "\n",
              "   roc_auc_score  \n",
              "0       0.739341  \n",
              "1       0.920623  \n",
              "2       0.762385  \n",
              "3       0.919369  \n",
              "4       0.897597  \n",
              "5       0.907197  \n",
              "6       0.916539  \n",
              "7       0.903892  \n",
              "8       0.907258  \n",
              "9       0.913651  "
            ],
            "text/html": [
              "\n",
              "  <div id=\"df-8bce8ca6-1b61-4625-bd81-0c3554589acf\">\n",
              "    <div class=\"colab-df-container\">\n",
              "      <div>\n",
              "<style scoped>\n",
              "    .dataframe tbody tr th:only-of-type {\n",
              "        vertical-align: middle;\n",
              "    }\n",
              "\n",
              "    .dataframe tbody tr th {\n",
              "        vertical-align: top;\n",
              "    }\n",
              "\n",
              "    .dataframe thead th {\n",
              "        text-align: right;\n",
              "    }\n",
              "</style>\n",
              "<table border=\"1\" class=\"dataframe\">\n",
              "  <thead>\n",
              "    <tr style=\"text-align: right;\">\n",
              "      <th></th>\n",
              "      <th>model_name</th>\n",
              "      <th>confusion_matrix</th>\n",
              "      <th>accuracy</th>\n",
              "      <th>recall</th>\n",
              "      <th>f1_score</th>\n",
              "      <th>roc_auc_score</th>\n",
              "    </tr>\n",
              "  </thead>\n",
              "  <tbody>\n",
              "    <tr>\n",
              "      <th>0</th>\n",
              "      <td>log_clf</td>\n",
              "      <td>[14046, 3022, 42, 80]</td>\n",
              "      <td>0.821757</td>\n",
              "      <td>0.655738</td>\n",
              "      <td>0.049628</td>\n",
              "      <td>0.739341</td>\n",
              "    </tr>\n",
              "    <tr>\n",
              "      <th>1</th>\n",
              "      <td>svc_clf</td>\n",
              "      <td>[16317, 751, 14, 108]</td>\n",
              "      <td>0.955497</td>\n",
              "      <td>0.885246</td>\n",
              "      <td>0.220183</td>\n",
              "      <td>0.920623</td>\n",
              "    </tr>\n",
              "    <tr>\n",
              "      <th>2</th>\n",
              "      <td>bayes_clf</td>\n",
              "      <td>[11475, 5593, 18, 104]</td>\n",
              "      <td>0.673589</td>\n",
              "      <td>0.852459</td>\n",
              "      <td>0.035745</td>\n",
              "      <td>0.762385</td>\n",
              "    </tr>\n",
              "    <tr>\n",
              "      <th>3</th>\n",
              "      <td>neigh_clf</td>\n",
              "      <td>[16554, 514, 16, 106]</td>\n",
              "      <td>0.969168</td>\n",
              "      <td>0.868852</td>\n",
              "      <td>0.285714</td>\n",
              "      <td>0.919369</td>\n",
              "    </tr>\n",
              "    <tr>\n",
              "      <th>4</th>\n",
              "      <td>tree_clf</td>\n",
              "      <td>[16930, 138, 24, 98]</td>\n",
              "      <td>0.990576</td>\n",
              "      <td>0.803279</td>\n",
              "      <td>0.547486</td>\n",
              "      <td>0.897597</td>\n",
              "    </tr>\n",
              "    <tr>\n",
              "      <th>5</th>\n",
              "      <td>rnd_clf</td>\n",
              "      <td>[16838, 230, 21, 101]</td>\n",
              "      <td>0.985398</td>\n",
              "      <td>0.827869</td>\n",
              "      <td>0.445916</td>\n",
              "      <td>0.907197</td>\n",
              "    </tr>\n",
              "    <tr>\n",
              "      <th>6</th>\n",
              "      <td>gboost_clf</td>\n",
              "      <td>[17017, 51, 20, 102]</td>\n",
              "      <td>0.995870</td>\n",
              "      <td>0.836066</td>\n",
              "      <td>0.741818</td>\n",
              "      <td>0.916539</td>\n",
              "    </tr>\n",
              "    <tr>\n",
              "      <th>7</th>\n",
              "      <td>xgboost_clf</td>\n",
              "      <td>[17005, 63, 23, 99]</td>\n",
              "      <td>0.994997</td>\n",
              "      <td>0.811475</td>\n",
              "      <td>0.697183</td>\n",
              "      <td>0.903892</td>\n",
              "    </tr>\n",
              "    <tr>\n",
              "      <th>8</th>\n",
              "      <td>lightgbm_clf</td>\n",
              "      <td>[16980, 88, 22, 100]</td>\n",
              "      <td>0.993601</td>\n",
              "      <td>0.819672</td>\n",
              "      <td>0.645161</td>\n",
              "      <td>0.907258</td>\n",
              "    </tr>\n",
              "    <tr>\n",
              "      <th>9</th>\n",
              "      <td>ann_clf</td>\n",
              "      <td>[16079, 989, 14, 108]</td>\n",
              "      <td>0.941652</td>\n",
              "      <td>0.885246</td>\n",
              "      <td>0.177194</td>\n",
              "      <td>0.913651</td>\n",
              "    </tr>\n",
              "  </tbody>\n",
              "</table>\n",
              "</div>\n",
              "      <button class=\"colab-df-convert\" onclick=\"convertToInteractive('df-8bce8ca6-1b61-4625-bd81-0c3554589acf')\"\n",
              "              title=\"Convert this dataframe to an interactive table.\"\n",
              "              style=\"display:none;\">\n",
              "        \n",
              "  <svg xmlns=\"http://www.w3.org/2000/svg\" height=\"24px\"viewBox=\"0 0 24 24\"\n",
              "       width=\"24px\">\n",
              "    <path d=\"M0 0h24v24H0V0z\" fill=\"none\"/>\n",
              "    <path d=\"M18.56 5.44l.94 2.06.94-2.06 2.06-.94-2.06-.94-.94-2.06-.94 2.06-2.06.94zm-11 1L8.5 8.5l.94-2.06 2.06-.94-2.06-.94L8.5 2.5l-.94 2.06-2.06.94zm10 10l.94 2.06.94-2.06 2.06-.94-2.06-.94-.94-2.06-.94 2.06-2.06.94z\"/><path d=\"M17.41 7.96l-1.37-1.37c-.4-.4-.92-.59-1.43-.59-.52 0-1.04.2-1.43.59L10.3 9.45l-7.72 7.72c-.78.78-.78 2.05 0 2.83L4 21.41c.39.39.9.59 1.41.59.51 0 1.02-.2 1.41-.59l7.78-7.78 2.81-2.81c.8-.78.8-2.07 0-2.86zM5.41 20L4 18.59l7.72-7.72 1.47 1.35L5.41 20z\"/>\n",
              "  </svg>\n",
              "      </button>\n",
              "      \n",
              "  <style>\n",
              "    .colab-df-container {\n",
              "      display:flex;\n",
              "      flex-wrap:wrap;\n",
              "      gap: 12px;\n",
              "    }\n",
              "\n",
              "    .colab-df-convert {\n",
              "      background-color: #E8F0FE;\n",
              "      border: none;\n",
              "      border-radius: 50%;\n",
              "      cursor: pointer;\n",
              "      display: none;\n",
              "      fill: #1967D2;\n",
              "      height: 32px;\n",
              "      padding: 0 0 0 0;\n",
              "      width: 32px;\n",
              "    }\n",
              "\n",
              "    .colab-df-convert:hover {\n",
              "      background-color: #E2EBFA;\n",
              "      box-shadow: 0px 1px 2px rgba(60, 64, 67, 0.3), 0px 1px 3px 1px rgba(60, 64, 67, 0.15);\n",
              "      fill: #174EA6;\n",
              "    }\n",
              "\n",
              "    [theme=dark] .colab-df-convert {\n",
              "      background-color: #3B4455;\n",
              "      fill: #D2E3FC;\n",
              "    }\n",
              "\n",
              "    [theme=dark] .colab-df-convert:hover {\n",
              "      background-color: #434B5C;\n",
              "      box-shadow: 0px 1px 3px 1px rgba(0, 0, 0, 0.15);\n",
              "      filter: drop-shadow(0px 1px 2px rgba(0, 0, 0, 0.3));\n",
              "      fill: #FFFFFF;\n",
              "    }\n",
              "  </style>\n",
              "\n",
              "      <script>\n",
              "        const buttonEl =\n",
              "          document.querySelector('#df-8bce8ca6-1b61-4625-bd81-0c3554589acf button.colab-df-convert');\n",
              "        buttonEl.style.display =\n",
              "          google.colab.kernel.accessAllowed ? 'block' : 'none';\n",
              "\n",
              "        async function convertToInteractive(key) {\n",
              "          const element = document.querySelector('#df-8bce8ca6-1b61-4625-bd81-0c3554589acf');\n",
              "          const dataTable =\n",
              "            await google.colab.kernel.invokeFunction('convertToInteractive',\n",
              "                                                     [key], {});\n",
              "          if (!dataTable) return;\n",
              "\n",
              "          const docLinkHtml = 'Like what you see? Visit the ' +\n",
              "            '<a target=\"_blank\" href=https://colab.research.google.com/notebooks/data_table.ipynb>data table notebook</a>'\n",
              "            + ' to learn more about interactive tables.';\n",
              "          element.innerHTML = '';\n",
              "          dataTable['output_type'] = 'display_data';\n",
              "          await google.colab.output.renderOutput(dataTable, element);\n",
              "          const docLink = document.createElement('div');\n",
              "          docLink.innerHTML = docLinkHtml;\n",
              "          element.appendChild(docLink);\n",
              "        }\n",
              "      </script>\n",
              "    </div>\n",
              "  </div>\n",
              "  "
            ]
          },
          "metadata": {}
        },
        {
          "output_type": "stream",
          "name": "stdout",
          "text": [
            "time: 21.3 ms (started: 2023-01-16 13:15:37 +00:00)\n"
          ]
        }
      ]
    },
    {
      "cell_type": "markdown",
      "source": [
        "Confusion matrix format : [ tn , fp , fn , tp ]"
      ],
      "metadata": {
        "id": "vOXxERQZOgc8"
      }
    },
    {
      "cell_type": "code",
      "source": [
        "print('Best Model By Accuracy')\n",
        "print(models_eval.loc[models_eval['accuracy'] == max(models_eval['accuracy'])].model_name.to_string(index=False))\n",
        "print('-----------------------')\n",
        "print('Best Model By Recall')\n",
        "print(models_eval.loc[models_eval['recall'] == max(models_eval['recall'])].model_name.to_string(index=False))\n",
        "print('-----------------------')\n",
        "print('Best Model By F1')\n",
        "print(models_eval.loc[models_eval['f1_score'] == max(models_eval['f1_score'])].model_name.to_string(index=False))\n",
        "print('-----------------------')\n",
        "print('Best Model By ROC')\n",
        "print(models_eval.loc[models_eval['roc_auc_score'] == max(models_eval['roc_auc_score'])].model_name.to_string(index=False))\n",
        "print('-----------------------')"
      ],
      "metadata": {
        "id": "WtqTQizSOfOI",
        "colab": {
          "base_uri": "https://localhost:8080/"
        },
        "outputId": "598583b9-f90f-4d8d-89d3-656cf8fa7197"
      },
      "execution_count": null,
      "outputs": [
        {
          "output_type": "stream",
          "name": "stdout",
          "text": [
            "Best Model By Accuracy\n",
            "gboost_clf\n",
            "-----------------------\n",
            "Best Model By Recall\n",
            "svc_clf\n",
            "ann_clf\n",
            "-----------------------\n",
            "Best Model By F1\n",
            "gboost_clf\n",
            "-----------------------\n",
            "Best Model By ROC\n",
            "svc_clf\n",
            "-----------------------\n",
            "time: 19.3 ms (started: 2023-01-16 13:15:37 +00:00)\n"
          ]
        }
      ]
    },
    {
      "cell_type": "code",
      "source": [
        "name = 'ensem_clf'\n",
        "\n",
        "ensem_clf = VotingClassifier(estimators=[('m1', gboost_clf), ('m2', svc_clf), ('m3', xgboost_clf)],\n",
        "                             voting = 'hard',\n",
        "                             n_jobs = -1, \n",
        "                             ).fit(X_train,y_train)\n",
        "\n",
        "y_true = y_val\n",
        "y_pred = ensem_clf.predict(X_val)\n",
        "evaluation_results = evaluation_metrics(y_true, y_pred)\n",
        "\n",
        "models = models.append({'model_name': name, \n",
        "                        'model': ensem_clf, \n",
        "                        'parameters': ensem_clf.get_params()}, \n",
        "                       ignore_index=True)\n",
        "\n",
        "models_eval = models_eval.append({'model_name': name, \n",
        "                                  'confusion_matrix' : evaluation_results[0], \n",
        "                                  'accuracy': evaluation_results[1], \n",
        "                                  'recall' : evaluation_results[2], \n",
        "                                  'f1_score': evaluation_results[3],\n",
        "                                  'roc_auc_score': evaluation_results[4]}, \n",
        "                                 ignore_index=True)"
      ],
      "metadata": {
        "id": "yvIO5Ch_F0O-"
      },
      "execution_count": null,
      "outputs": []
    },
    {
      "cell_type": "markdown",
      "source": [
        "# Model Validation Result"
      ],
      "metadata": {
        "id": "X5HHciHoO1we"
      }
    },
    {
      "cell_type": "code",
      "source": [
        "display(models)"
      ],
      "metadata": {
        "id": "OKyL20L2F1b0",
        "colab": {
          "base_uri": "https://localhost:8080/",
          "height": 380
        },
        "outputId": "0083b6d1-0bac-43f4-e14c-f830f6f90186"
      },
      "execution_count": null,
      "outputs": [
        {
          "output_type": "display_data",
          "data": {
            "text/plain": [
              "     model_name                                              model  \\\n",
              "0       log_clf  LogisticRegression(C=0, max_iter=331, n_jobs=-...   \n",
              "1       svc_clf  SVC(C=8, class_weight='balanced', random_state...   \n",
              "2     bayes_clf                    GaussianNB(var_smoothing=0.001)   \n",
              "3     neigh_clf  KNeighborsClassifier(algorithm='kd_tree', n_jo...   \n",
              "4      tree_clf  DecisionTreeClassifier(criterion='entropy', ma...   \n",
              "5       rnd_clf  (DecisionTreeClassifier(max_depth=18, max_feat...   \n",
              "6    gboost_clf  ([DecisionTreeRegressor(criterion='friedman_ms...   \n",
              "7   xgboost_clf  XGBClassifier(max_depth=8, min_child_weight=7,...   \n",
              "8  lightgbm_clf  LGBMClassifier(learning_rate=0.05, max_depth=8...   \n",
              "9       ann_clf  <keras.engine.sequential.Sequential object at ...   \n",
              "\n",
              "                                          parameters  \n",
              "0  {'C': 0, 'class_weight': None, 'dual': False, ...  \n",
              "1  {'C': 8, 'break_ties': False, 'cache_size': 20...  \n",
              "2           {'priors': None, 'var_smoothing': 0.001}  \n",
              "3  {'algorithm': 'kd_tree', 'leaf_size': 30, 'met...  \n",
              "4  {'ccp_alpha': 0.0, 'class_weight': None, 'crit...  \n",
              "5  {'bootstrap': True, 'ccp_alpha': 0.0, 'class_w...  \n",
              "6  {'ccp_alpha': 0.0, 'criterion': 'friedman_mse'...  \n",
              "7  {'base_score': 0.5, 'booster': 'gbtree', 'cols...  \n",
              "8  {'boosting_type': 'gbdt', 'class_weight': None...  \n",
              "9  [<keras.layers.core.dense.Dense object at 0x7f...  "
            ],
            "text/html": [
              "\n",
              "  <div id=\"df-5e5d4bad-9d6e-44a3-b885-9260f5697037\">\n",
              "    <div class=\"colab-df-container\">\n",
              "      <div>\n",
              "<style scoped>\n",
              "    .dataframe tbody tr th:only-of-type {\n",
              "        vertical-align: middle;\n",
              "    }\n",
              "\n",
              "    .dataframe tbody tr th {\n",
              "        vertical-align: top;\n",
              "    }\n",
              "\n",
              "    .dataframe thead th {\n",
              "        text-align: right;\n",
              "    }\n",
              "</style>\n",
              "<table border=\"1\" class=\"dataframe\">\n",
              "  <thead>\n",
              "    <tr style=\"text-align: right;\">\n",
              "      <th></th>\n",
              "      <th>model_name</th>\n",
              "      <th>model</th>\n",
              "      <th>parameters</th>\n",
              "    </tr>\n",
              "  </thead>\n",
              "  <tbody>\n",
              "    <tr>\n",
              "      <th>0</th>\n",
              "      <td>log_clf</td>\n",
              "      <td>LogisticRegression(C=0, max_iter=331, n_jobs=-...</td>\n",
              "      <td>{'C': 0, 'class_weight': None, 'dual': False, ...</td>\n",
              "    </tr>\n",
              "    <tr>\n",
              "      <th>1</th>\n",
              "      <td>svc_clf</td>\n",
              "      <td>SVC(C=8, class_weight='balanced', random_state...</td>\n",
              "      <td>{'C': 8, 'break_ties': False, 'cache_size': 20...</td>\n",
              "    </tr>\n",
              "    <tr>\n",
              "      <th>2</th>\n",
              "      <td>bayes_clf</td>\n",
              "      <td>GaussianNB(var_smoothing=0.001)</td>\n",
              "      <td>{'priors': None, 'var_smoothing': 0.001}</td>\n",
              "    </tr>\n",
              "    <tr>\n",
              "      <th>3</th>\n",
              "      <td>neigh_clf</td>\n",
              "      <td>KNeighborsClassifier(algorithm='kd_tree', n_jo...</td>\n",
              "      <td>{'algorithm': 'kd_tree', 'leaf_size': 30, 'met...</td>\n",
              "    </tr>\n",
              "    <tr>\n",
              "      <th>4</th>\n",
              "      <td>tree_clf</td>\n",
              "      <td>DecisionTreeClassifier(criterion='entropy', ma...</td>\n",
              "      <td>{'ccp_alpha': 0.0, 'class_weight': None, 'crit...</td>\n",
              "    </tr>\n",
              "    <tr>\n",
              "      <th>5</th>\n",
              "      <td>rnd_clf</td>\n",
              "      <td>(DecisionTreeClassifier(max_depth=18, max_feat...</td>\n",
              "      <td>{'bootstrap': True, 'ccp_alpha': 0.0, 'class_w...</td>\n",
              "    </tr>\n",
              "    <tr>\n",
              "      <th>6</th>\n",
              "      <td>gboost_clf</td>\n",
              "      <td>([DecisionTreeRegressor(criterion='friedman_ms...</td>\n",
              "      <td>{'ccp_alpha': 0.0, 'criterion': 'friedman_mse'...</td>\n",
              "    </tr>\n",
              "    <tr>\n",
              "      <th>7</th>\n",
              "      <td>xgboost_clf</td>\n",
              "      <td>XGBClassifier(max_depth=8, min_child_weight=7,...</td>\n",
              "      <td>{'base_score': 0.5, 'booster': 'gbtree', 'cols...</td>\n",
              "    </tr>\n",
              "    <tr>\n",
              "      <th>8</th>\n",
              "      <td>lightgbm_clf</td>\n",
              "      <td>LGBMClassifier(learning_rate=0.05, max_depth=8...</td>\n",
              "      <td>{'boosting_type': 'gbdt', 'class_weight': None...</td>\n",
              "    </tr>\n",
              "    <tr>\n",
              "      <th>9</th>\n",
              "      <td>ann_clf</td>\n",
              "      <td>&lt;keras.engine.sequential.Sequential object at ...</td>\n",
              "      <td>[&lt;keras.layers.core.dense.Dense object at 0x7f...</td>\n",
              "    </tr>\n",
              "  </tbody>\n",
              "</table>\n",
              "</div>\n",
              "      <button class=\"colab-df-convert\" onclick=\"convertToInteractive('df-5e5d4bad-9d6e-44a3-b885-9260f5697037')\"\n",
              "              title=\"Convert this dataframe to an interactive table.\"\n",
              "              style=\"display:none;\">\n",
              "        \n",
              "  <svg xmlns=\"http://www.w3.org/2000/svg\" height=\"24px\"viewBox=\"0 0 24 24\"\n",
              "       width=\"24px\">\n",
              "    <path d=\"M0 0h24v24H0V0z\" fill=\"none\"/>\n",
              "    <path d=\"M18.56 5.44l.94 2.06.94-2.06 2.06-.94-2.06-.94-.94-2.06-.94 2.06-2.06.94zm-11 1L8.5 8.5l.94-2.06 2.06-.94-2.06-.94L8.5 2.5l-.94 2.06-2.06.94zm10 10l.94 2.06.94-2.06 2.06-.94-2.06-.94-.94-2.06-.94 2.06-2.06.94z\"/><path d=\"M17.41 7.96l-1.37-1.37c-.4-.4-.92-.59-1.43-.59-.52 0-1.04.2-1.43.59L10.3 9.45l-7.72 7.72c-.78.78-.78 2.05 0 2.83L4 21.41c.39.39.9.59 1.41.59.51 0 1.02-.2 1.41-.59l7.78-7.78 2.81-2.81c.8-.78.8-2.07 0-2.86zM5.41 20L4 18.59l7.72-7.72 1.47 1.35L5.41 20z\"/>\n",
              "  </svg>\n",
              "      </button>\n",
              "      \n",
              "  <style>\n",
              "    .colab-df-container {\n",
              "      display:flex;\n",
              "      flex-wrap:wrap;\n",
              "      gap: 12px;\n",
              "    }\n",
              "\n",
              "    .colab-df-convert {\n",
              "      background-color: #E8F0FE;\n",
              "      border: none;\n",
              "      border-radius: 50%;\n",
              "      cursor: pointer;\n",
              "      display: none;\n",
              "      fill: #1967D2;\n",
              "      height: 32px;\n",
              "      padding: 0 0 0 0;\n",
              "      width: 32px;\n",
              "    }\n",
              "\n",
              "    .colab-df-convert:hover {\n",
              "      background-color: #E2EBFA;\n",
              "      box-shadow: 0px 1px 2px rgba(60, 64, 67, 0.3), 0px 1px 3px 1px rgba(60, 64, 67, 0.15);\n",
              "      fill: #174EA6;\n",
              "    }\n",
              "\n",
              "    [theme=dark] .colab-df-convert {\n",
              "      background-color: #3B4455;\n",
              "      fill: #D2E3FC;\n",
              "    }\n",
              "\n",
              "    [theme=dark] .colab-df-convert:hover {\n",
              "      background-color: #434B5C;\n",
              "      box-shadow: 0px 1px 3px 1px rgba(0, 0, 0, 0.15);\n",
              "      filter: drop-shadow(0px 1px 2px rgba(0, 0, 0, 0.3));\n",
              "      fill: #FFFFFF;\n",
              "    }\n",
              "  </style>\n",
              "\n",
              "      <script>\n",
              "        const buttonEl =\n",
              "          document.querySelector('#df-5e5d4bad-9d6e-44a3-b885-9260f5697037 button.colab-df-convert');\n",
              "        buttonEl.style.display =\n",
              "          google.colab.kernel.accessAllowed ? 'block' : 'none';\n",
              "\n",
              "        async function convertToInteractive(key) {\n",
              "          const element = document.querySelector('#df-5e5d4bad-9d6e-44a3-b885-9260f5697037');\n",
              "          const dataTable =\n",
              "            await google.colab.kernel.invokeFunction('convertToInteractive',\n",
              "                                                     [key], {});\n",
              "          if (!dataTable) return;\n",
              "\n",
              "          const docLinkHtml = 'Like what you see? Visit the ' +\n",
              "            '<a target=\"_blank\" href=https://colab.research.google.com/notebooks/data_table.ipynb>data table notebook</a>'\n",
              "            + ' to learn more about interactive tables.';\n",
              "          element.innerHTML = '';\n",
              "          dataTable['output_type'] = 'display_data';\n",
              "          await google.colab.output.renderOutput(dataTable, element);\n",
              "          const docLink = document.createElement('div');\n",
              "          docLink.innerHTML = docLinkHtml;\n",
              "          element.appendChild(docLink);\n",
              "        }\n",
              "      </script>\n",
              "    </div>\n",
              "  </div>\n",
              "  "
            ]
          },
          "metadata": {}
        },
        {
          "output_type": "stream",
          "name": "stdout",
          "text": [
            "time: 182 ms (started: 2023-01-16 13:44:37 +00:00)\n"
          ]
        }
      ]
    },
    {
      "cell_type": "code",
      "source": [
        "display(models_eval)"
      ],
      "metadata": {
        "id": "uCIrYLsCF2a1",
        "colab": {
          "base_uri": "https://localhost:8080/",
          "height": 380
        },
        "outputId": "221d263d-1c61-4970-b8f0-975559e42ee7"
      },
      "execution_count": null,
      "outputs": [
        {
          "output_type": "display_data",
          "data": {
            "text/plain": [
              "     model_name        confusion_matrix  accuracy    recall  f1_score  \\\n",
              "0       log_clf   [14046, 3022, 42, 80]  0.821757  0.655738  0.049628   \n",
              "1       svc_clf   [16317, 751, 14, 108]  0.955497  0.885246  0.220183   \n",
              "2     bayes_clf  [11475, 5593, 18, 104]  0.673589  0.852459  0.035745   \n",
              "3     neigh_clf   [16554, 514, 16, 106]  0.969168  0.868852  0.285714   \n",
              "4      tree_clf    [16930, 138, 24, 98]  0.990576  0.803279  0.547486   \n",
              "5       rnd_clf   [16838, 230, 21, 101]  0.985398  0.827869  0.445916   \n",
              "6    gboost_clf    [17017, 51, 20, 102]  0.995870  0.836066  0.741818   \n",
              "7   xgboost_clf     [17005, 63, 23, 99]  0.994997  0.811475  0.697183   \n",
              "8  lightgbm_clf    [16980, 88, 22, 100]  0.993601  0.819672  0.645161   \n",
              "9       ann_clf   [16079, 989, 14, 108]  0.941652  0.885246  0.177194   \n",
              "\n",
              "   roc_auc_score  \n",
              "0       0.739341  \n",
              "1       0.920623  \n",
              "2       0.762385  \n",
              "3       0.919369  \n",
              "4       0.897597  \n",
              "5       0.907197  \n",
              "6       0.916539  \n",
              "7       0.903892  \n",
              "8       0.907258  \n",
              "9       0.913651  "
            ],
            "text/html": [
              "\n",
              "  <div id=\"df-5d71aa4f-9709-4b81-8fb3-cdd8e4f583fb\">\n",
              "    <div class=\"colab-df-container\">\n",
              "      <div>\n",
              "<style scoped>\n",
              "    .dataframe tbody tr th:only-of-type {\n",
              "        vertical-align: middle;\n",
              "    }\n",
              "\n",
              "    .dataframe tbody tr th {\n",
              "        vertical-align: top;\n",
              "    }\n",
              "\n",
              "    .dataframe thead th {\n",
              "        text-align: right;\n",
              "    }\n",
              "</style>\n",
              "<table border=\"1\" class=\"dataframe\">\n",
              "  <thead>\n",
              "    <tr style=\"text-align: right;\">\n",
              "      <th></th>\n",
              "      <th>model_name</th>\n",
              "      <th>confusion_matrix</th>\n",
              "      <th>accuracy</th>\n",
              "      <th>recall</th>\n",
              "      <th>f1_score</th>\n",
              "      <th>roc_auc_score</th>\n",
              "    </tr>\n",
              "  </thead>\n",
              "  <tbody>\n",
              "    <tr>\n",
              "      <th>0</th>\n",
              "      <td>log_clf</td>\n",
              "      <td>[14046, 3022, 42, 80]</td>\n",
              "      <td>0.821757</td>\n",
              "      <td>0.655738</td>\n",
              "      <td>0.049628</td>\n",
              "      <td>0.739341</td>\n",
              "    </tr>\n",
              "    <tr>\n",
              "      <th>1</th>\n",
              "      <td>svc_clf</td>\n",
              "      <td>[16317, 751, 14, 108]</td>\n",
              "      <td>0.955497</td>\n",
              "      <td>0.885246</td>\n",
              "      <td>0.220183</td>\n",
              "      <td>0.920623</td>\n",
              "    </tr>\n",
              "    <tr>\n",
              "      <th>2</th>\n",
              "      <td>bayes_clf</td>\n",
              "      <td>[11475, 5593, 18, 104]</td>\n",
              "      <td>0.673589</td>\n",
              "      <td>0.852459</td>\n",
              "      <td>0.035745</td>\n",
              "      <td>0.762385</td>\n",
              "    </tr>\n",
              "    <tr>\n",
              "      <th>3</th>\n",
              "      <td>neigh_clf</td>\n",
              "      <td>[16554, 514, 16, 106]</td>\n",
              "      <td>0.969168</td>\n",
              "      <td>0.868852</td>\n",
              "      <td>0.285714</td>\n",
              "      <td>0.919369</td>\n",
              "    </tr>\n",
              "    <tr>\n",
              "      <th>4</th>\n",
              "      <td>tree_clf</td>\n",
              "      <td>[16930, 138, 24, 98]</td>\n",
              "      <td>0.990576</td>\n",
              "      <td>0.803279</td>\n",
              "      <td>0.547486</td>\n",
              "      <td>0.897597</td>\n",
              "    </tr>\n",
              "    <tr>\n",
              "      <th>5</th>\n",
              "      <td>rnd_clf</td>\n",
              "      <td>[16838, 230, 21, 101]</td>\n",
              "      <td>0.985398</td>\n",
              "      <td>0.827869</td>\n",
              "      <td>0.445916</td>\n",
              "      <td>0.907197</td>\n",
              "    </tr>\n",
              "    <tr>\n",
              "      <th>6</th>\n",
              "      <td>gboost_clf</td>\n",
              "      <td>[17017, 51, 20, 102]</td>\n",
              "      <td>0.995870</td>\n",
              "      <td>0.836066</td>\n",
              "      <td>0.741818</td>\n",
              "      <td>0.916539</td>\n",
              "    </tr>\n",
              "    <tr>\n",
              "      <th>7</th>\n",
              "      <td>xgboost_clf</td>\n",
              "      <td>[17005, 63, 23, 99]</td>\n",
              "      <td>0.994997</td>\n",
              "      <td>0.811475</td>\n",
              "      <td>0.697183</td>\n",
              "      <td>0.903892</td>\n",
              "    </tr>\n",
              "    <tr>\n",
              "      <th>8</th>\n",
              "      <td>lightgbm_clf</td>\n",
              "      <td>[16980, 88, 22, 100]</td>\n",
              "      <td>0.993601</td>\n",
              "      <td>0.819672</td>\n",
              "      <td>0.645161</td>\n",
              "      <td>0.907258</td>\n",
              "    </tr>\n",
              "    <tr>\n",
              "      <th>9</th>\n",
              "      <td>ann_clf</td>\n",
              "      <td>[16079, 989, 14, 108]</td>\n",
              "      <td>0.941652</td>\n",
              "      <td>0.885246</td>\n",
              "      <td>0.177194</td>\n",
              "      <td>0.913651</td>\n",
              "    </tr>\n",
              "  </tbody>\n",
              "</table>\n",
              "</div>\n",
              "      <button class=\"colab-df-convert\" onclick=\"convertToInteractive('df-5d71aa4f-9709-4b81-8fb3-cdd8e4f583fb')\"\n",
              "              title=\"Convert this dataframe to an interactive table.\"\n",
              "              style=\"display:none;\">\n",
              "        \n",
              "  <svg xmlns=\"http://www.w3.org/2000/svg\" height=\"24px\"viewBox=\"0 0 24 24\"\n",
              "       width=\"24px\">\n",
              "    <path d=\"M0 0h24v24H0V0z\" fill=\"none\"/>\n",
              "    <path d=\"M18.56 5.44l.94 2.06.94-2.06 2.06-.94-2.06-.94-.94-2.06-.94 2.06-2.06.94zm-11 1L8.5 8.5l.94-2.06 2.06-.94-2.06-.94L8.5 2.5l-.94 2.06-2.06.94zm10 10l.94 2.06.94-2.06 2.06-.94-2.06-.94-.94-2.06-.94 2.06-2.06.94z\"/><path d=\"M17.41 7.96l-1.37-1.37c-.4-.4-.92-.59-1.43-.59-.52 0-1.04.2-1.43.59L10.3 9.45l-7.72 7.72c-.78.78-.78 2.05 0 2.83L4 21.41c.39.39.9.59 1.41.59.51 0 1.02-.2 1.41-.59l7.78-7.78 2.81-2.81c.8-.78.8-2.07 0-2.86zM5.41 20L4 18.59l7.72-7.72 1.47 1.35L5.41 20z\"/>\n",
              "  </svg>\n",
              "      </button>\n",
              "      \n",
              "  <style>\n",
              "    .colab-df-container {\n",
              "      display:flex;\n",
              "      flex-wrap:wrap;\n",
              "      gap: 12px;\n",
              "    }\n",
              "\n",
              "    .colab-df-convert {\n",
              "      background-color: #E8F0FE;\n",
              "      border: none;\n",
              "      border-radius: 50%;\n",
              "      cursor: pointer;\n",
              "      display: none;\n",
              "      fill: #1967D2;\n",
              "      height: 32px;\n",
              "      padding: 0 0 0 0;\n",
              "      width: 32px;\n",
              "    }\n",
              "\n",
              "    .colab-df-convert:hover {\n",
              "      background-color: #E2EBFA;\n",
              "      box-shadow: 0px 1px 2px rgba(60, 64, 67, 0.3), 0px 1px 3px 1px rgba(60, 64, 67, 0.15);\n",
              "      fill: #174EA6;\n",
              "    }\n",
              "\n",
              "    [theme=dark] .colab-df-convert {\n",
              "      background-color: #3B4455;\n",
              "      fill: #D2E3FC;\n",
              "    }\n",
              "\n",
              "    [theme=dark] .colab-df-convert:hover {\n",
              "      background-color: #434B5C;\n",
              "      box-shadow: 0px 1px 3px 1px rgba(0, 0, 0, 0.15);\n",
              "      filter: drop-shadow(0px 1px 2px rgba(0, 0, 0, 0.3));\n",
              "      fill: #FFFFFF;\n",
              "    }\n",
              "  </style>\n",
              "\n",
              "      <script>\n",
              "        const buttonEl =\n",
              "          document.querySelector('#df-5d71aa4f-9709-4b81-8fb3-cdd8e4f583fb button.colab-df-convert');\n",
              "        buttonEl.style.display =\n",
              "          google.colab.kernel.accessAllowed ? 'block' : 'none';\n",
              "\n",
              "        async function convertToInteractive(key) {\n",
              "          const element = document.querySelector('#df-5d71aa4f-9709-4b81-8fb3-cdd8e4f583fb');\n",
              "          const dataTable =\n",
              "            await google.colab.kernel.invokeFunction('convertToInteractive',\n",
              "                                                     [key], {});\n",
              "          if (!dataTable) return;\n",
              "\n",
              "          const docLinkHtml = 'Like what you see? Visit the ' +\n",
              "            '<a target=\"_blank\" href=https://colab.research.google.com/notebooks/data_table.ipynb>data table notebook</a>'\n",
              "            + ' to learn more about interactive tables.';\n",
              "          element.innerHTML = '';\n",
              "          dataTable['output_type'] = 'display_data';\n",
              "          await google.colab.output.renderOutput(dataTable, element);\n",
              "          const docLink = document.createElement('div');\n",
              "          docLink.innerHTML = docLinkHtml;\n",
              "          element.appendChild(docLink);\n",
              "        }\n",
              "      </script>\n",
              "    </div>\n",
              "  </div>\n",
              "  "
            ]
          },
          "metadata": {}
        },
        {
          "output_type": "stream",
          "name": "stdout",
          "text": [
            "time: 21.2 ms (started: 2023-01-16 13:44:37 +00:00)\n"
          ]
        }
      ]
    },
    {
      "cell_type": "code",
      "source": [
        "print('Best Model By Accuracy')\n",
        "print(models_eval.loc[models_eval['accuracy'] == max(models_eval['accuracy'])].model_name.to_string(index=False))\n",
        "print('-----------------------')\n",
        "print('Best Model By Recall')\n",
        "print(models_eval.loc[models_eval['recall'] == max(models_eval['recall'])].model_name.to_string(index=False))\n",
        "print('-----------------------')\n",
        "print('Best Model By F1')\n",
        "print(models_eval.loc[models_eval['f1_score'] == max(models_eval['f1_score'])].model_name.to_string(index=False))\n",
        "print('-----------------------')\n",
        "print('Best Model By ROC')\n",
        "print(models_eval.loc[models_eval['roc_auc_score'] == max(models_eval['roc_auc_score'])].model_name.to_string(index=False))\n",
        "print('-----------------------')"
      ],
      "metadata": {
        "id": "DjmAfaCfF3R0",
        "colab": {
          "base_uri": "https://localhost:8080/"
        },
        "outputId": "a1541be2-96f8-4c0e-d2c0-df9453834c3b"
      },
      "execution_count": null,
      "outputs": [
        {
          "output_type": "stream",
          "name": "stdout",
          "text": [
            "Best Model By Accuracy\n",
            "gboost_clf\n",
            "-----------------------\n",
            "Best Model By Recall\n",
            "svc_clf\n",
            "ann_clf\n",
            "-----------------------\n",
            "Best Model By F1\n",
            "gboost_clf\n",
            "-----------------------\n",
            "Best Model By ROC\n",
            "svc_clf\n",
            "-----------------------\n",
            "time: 23.5 ms (started: 2023-01-16 13:44:41 +00:00)\n"
          ]
        }
      ]
    },
    {
      "cell_type": "code",
      "source": [
        "models.to_csv('models_validation.csv')\n",
        "!cp models_validation.csv \"drive/My Drive/\""
      ],
      "metadata": {
        "colab": {
          "base_uri": "https://localhost:8080/"
        },
        "id": "dOm3kZ_EzYwI",
        "outputId": "3ad16265-a1e0-4181-8bae-f50e2bf980cd"
      },
      "execution_count": null,
      "outputs": [
        {
          "output_type": "stream",
          "name": "stdout",
          "text": [
            "time: 202 ms (started: 2023-01-16 13:45:07 +00:00)\n"
          ]
        }
      ]
    },
    {
      "cell_type": "code",
      "source": [
        "models_eval.to_csv('models_validation_eval.csv')\n",
        "!cp models_validation_eval.csv \"drive/My Drive/\""
      ],
      "metadata": {
        "colab": {
          "base_uri": "https://localhost:8080/"
        },
        "id": "_zdPo_AkzdE1",
        "outputId": "526db5a8-e3ef-44ff-f5f0-575c97875563"
      },
      "execution_count": null,
      "outputs": [
        {
          "output_type": "stream",
          "name": "stdout",
          "text": [
            "time: 159 ms (started: 2023-01-16 13:45:09 +00:00)\n"
          ]
        }
      ]
    }
  ]
}