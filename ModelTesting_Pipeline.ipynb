{
  "nbformat": 4,
  "nbformat_minor": 0,
  "metadata": {
    "colab": {
      "provenance": [],
      "toc_visible": true
    },
    "kernelspec": {
      "name": "python3",
      "display_name": "Python 3"
    },
    "language_info": {
      "name": "python"
    },
    "accelerator": "TPU",
    "gpuClass": "standard"
  },
  "cells": [
    {
      "cell_type": "markdown",
      "source": [
        "# Model Testing Pipeline"
      ],
      "metadata": {
        "id": "X0gcT8nXCSrj"
      }
    },
    {
      "cell_type": "markdown",
      "source": [
        "Identifying the best model (considered with best parameters of each respectively)\n",
        "1.   Re-train models using both training and validation data\n",
        "2.   Evaluate models against the testing data"
      ],
      "metadata": {
        "id": "offcn2_6XQuz"
      }
    },
    {
      "cell_type": "code",
      "source": [
        "!pip install ipython-autotime\n",
        "%load_ext autotime"
      ],
      "metadata": {
        "colab": {
          "base_uri": "https://localhost:8080/"
        },
        "id": "-zKkXRudtXOX",
        "outputId": "e3425902-a6a6-4ee2-d1d7-1bee5436c548"
      },
      "execution_count": 1,
      "outputs": [
        {
          "output_type": "stream",
          "name": "stdout",
          "text": [
            "Looking in indexes: https://pypi.org/simple, https://us-python.pkg.dev/colab-wheels/public/simple/\n",
            "Collecting ipython-autotime\n",
            "  Downloading ipython_autotime-0.3.1-py2.py3-none-any.whl (6.8 kB)\n",
            "Requirement already satisfied: ipython in /usr/local/lib/python3.8/dist-packages (from ipython-autotime) (7.9.0)\n",
            "Requirement already satisfied: backcall in /usr/local/lib/python3.8/dist-packages (from ipython->ipython-autotime) (0.2.0)\n",
            "Requirement already satisfied: setuptools>=18.5 in /usr/local/lib/python3.8/dist-packages (from ipython->ipython-autotime) (57.4.0)\n",
            "Collecting jedi>=0.10\n",
            "  Downloading jedi-0.18.2-py2.py3-none-any.whl (1.6 MB)\n",
            "\u001b[2K     \u001b[90m━━━━━━━━━━━━━━━━━━━━━━━━━━━━━━━━━━━━━━━━\u001b[0m \u001b[32m1.6/1.6 MB\u001b[0m \u001b[31m20.0 MB/s\u001b[0m eta \u001b[36m0:00:00\u001b[0m\n",
            "\u001b[?25hRequirement already satisfied: pickleshare in /usr/local/lib/python3.8/dist-packages (from ipython->ipython-autotime) (0.7.5)\n",
            "Requirement already satisfied: decorator in /usr/local/lib/python3.8/dist-packages (from ipython->ipython-autotime) (4.4.2)\n",
            "Requirement already satisfied: pygments in /usr/local/lib/python3.8/dist-packages (from ipython->ipython-autotime) (2.6.1)\n",
            "Requirement already satisfied: traitlets>=4.2 in /usr/local/lib/python3.8/dist-packages (from ipython->ipython-autotime) (5.7.1)\n",
            "Requirement already satisfied: pexpect in /usr/local/lib/python3.8/dist-packages (from ipython->ipython-autotime) (4.8.0)\n",
            "Requirement already satisfied: prompt-toolkit<2.1.0,>=2.0.0 in /usr/local/lib/python3.8/dist-packages (from ipython->ipython-autotime) (2.0.10)\n",
            "Requirement already satisfied: parso<0.9.0,>=0.8.0 in /usr/local/lib/python3.8/dist-packages (from jedi>=0.10->ipython->ipython-autotime) (0.8.3)\n",
            "Requirement already satisfied: wcwidth in /usr/local/lib/python3.8/dist-packages (from prompt-toolkit<2.1.0,>=2.0.0->ipython->ipython-autotime) (0.2.5)\n",
            "Requirement already satisfied: six>=1.9.0 in /usr/local/lib/python3.8/dist-packages (from prompt-toolkit<2.1.0,>=2.0.0->ipython->ipython-autotime) (1.15.0)\n",
            "Requirement already satisfied: ptyprocess>=0.5 in /usr/local/lib/python3.8/dist-packages (from pexpect->ipython->ipython-autotime) (0.7.0)\n",
            "Installing collected packages: jedi, ipython-autotime\n",
            "Successfully installed ipython-autotime-0.3.1 jedi-0.18.2\n",
            "time: 529 µs (started: 2023-01-16 11:36:14 +00:00)\n"
          ]
        }
      ]
    },
    {
      "cell_type": "code",
      "source": [
        "# Basic Libraries\n",
        "\n",
        "import numpy as np\n",
        "import pandas as pd\n",
        "import seaborn as sb\n",
        "import matplotlib.pyplot as plt\n",
        "from datetime import datetime\n",
        "\n",
        "from google.colab import drive\n",
        "drive.mount('/content/drive')"
      ],
      "metadata": {
        "id": "MHtSfJxdWlq0",
        "colab": {
          "base_uri": "https://localhost:8080/"
        },
        "outputId": "7ec61f27-8eda-4a63-8c77-79cd86cf3f61"
      },
      "execution_count": 2,
      "outputs": [
        {
          "output_type": "stream",
          "name": "stdout",
          "text": [
            "Mounted at /content/drive\n",
            "time: 36.5 s (started: 2023-01-16 11:36:14 +00:00)\n"
          ]
        }
      ]
    },
    {
      "cell_type": "code",
      "source": [
        "# Data Source\n",
        "\n",
        "df = pd.read_csv(\"/content/drive/MyDrive/cleaned_gee_data.csv\")\n",
        "df = df.drop(columns = ['Unnamed: 0', 'BRIGHTNESS'], axis=1) # BRIGHTNESS deprecated\n",
        "df.head()"
      ],
      "metadata": {
        "id": "0GxSoEprWoLW",
        "outputId": "94f5fbd9-557c-4c82-8e9f-228e5bde9a89",
        "colab": {
          "base_uri": "https://localhost:8080/",
          "height": 287
        }
      },
      "execution_count": 3,
      "outputs": [
        {
          "output_type": "execute_result",
          "data": {
            "text/plain": [
              "   LATITUDE  LONGITUDE  ACQ_DATE  ACQ_TIME  OPEN_TIME  CLOSE_TIME  \\\n",
              "0 -5.466232  -0.176027 -1.866392  0.634294   0.506405    0.526945   \n",
              "1 -5.466232  -0.176027 -1.866392  0.634294   0.506405    0.526945   \n",
              "2 -5.466232  -0.176027 -1.866392  0.634294   0.506405    0.526945   \n",
              "3 -5.466232  -0.176027 -1.866392  0.634294   0.506405    0.526945   \n",
              "4 -5.433352  -0.197441 -1.723773  0.634294   2.286080    1.793843   \n",
              "\n",
              "   FIRE_OCCURRED  CO_MOL/M2  SO2_MOL/M2  NO2_MOL/M2  O3_MOL/M2  LOCATION  \\\n",
              "0              0  -0.024223   -0.474440   -1.152277  -0.511001 -1.159086   \n",
              "1              0   0.113599   -0.474440   -1.152277  -0.511001 -1.159086   \n",
              "2              0  -0.024223   -0.474440   -1.361255  -0.511001 -1.159086   \n",
              "3              0   0.113599   -0.474440   -1.361255  -0.511001 -1.159086   \n",
              "4              0  -0.967684    0.339667   -1.251770   0.426114 -1.159086   \n",
              "\n",
              "   INSTRUMENT  DRY_SEASON  \n",
              "0           0           1  \n",
              "1           0           1  \n",
              "2           0           1  \n",
              "3           0           1  \n",
              "4           0           1  "
            ],
            "text/html": [
              "\n",
              "  <div id=\"df-84b871dd-4071-463a-b84f-beb297ad1b7a\">\n",
              "    <div class=\"colab-df-container\">\n",
              "      <div>\n",
              "<style scoped>\n",
              "    .dataframe tbody tr th:only-of-type {\n",
              "        vertical-align: middle;\n",
              "    }\n",
              "\n",
              "    .dataframe tbody tr th {\n",
              "        vertical-align: top;\n",
              "    }\n",
              "\n",
              "    .dataframe thead th {\n",
              "        text-align: right;\n",
              "    }\n",
              "</style>\n",
              "<table border=\"1\" class=\"dataframe\">\n",
              "  <thead>\n",
              "    <tr style=\"text-align: right;\">\n",
              "      <th></th>\n",
              "      <th>LATITUDE</th>\n",
              "      <th>LONGITUDE</th>\n",
              "      <th>ACQ_DATE</th>\n",
              "      <th>ACQ_TIME</th>\n",
              "      <th>OPEN_TIME</th>\n",
              "      <th>CLOSE_TIME</th>\n",
              "      <th>FIRE_OCCURRED</th>\n",
              "      <th>CO_MOL/M2</th>\n",
              "      <th>SO2_MOL/M2</th>\n",
              "      <th>NO2_MOL/M2</th>\n",
              "      <th>O3_MOL/M2</th>\n",
              "      <th>LOCATION</th>\n",
              "      <th>INSTRUMENT</th>\n",
              "      <th>DRY_SEASON</th>\n",
              "    </tr>\n",
              "  </thead>\n",
              "  <tbody>\n",
              "    <tr>\n",
              "      <th>0</th>\n",
              "      <td>-5.466232</td>\n",
              "      <td>-0.176027</td>\n",
              "      <td>-1.866392</td>\n",
              "      <td>0.634294</td>\n",
              "      <td>0.506405</td>\n",
              "      <td>0.526945</td>\n",
              "      <td>0</td>\n",
              "      <td>-0.024223</td>\n",
              "      <td>-0.474440</td>\n",
              "      <td>-1.152277</td>\n",
              "      <td>-0.511001</td>\n",
              "      <td>-1.159086</td>\n",
              "      <td>0</td>\n",
              "      <td>1</td>\n",
              "    </tr>\n",
              "    <tr>\n",
              "      <th>1</th>\n",
              "      <td>-5.466232</td>\n",
              "      <td>-0.176027</td>\n",
              "      <td>-1.866392</td>\n",
              "      <td>0.634294</td>\n",
              "      <td>0.506405</td>\n",
              "      <td>0.526945</td>\n",
              "      <td>0</td>\n",
              "      <td>0.113599</td>\n",
              "      <td>-0.474440</td>\n",
              "      <td>-1.152277</td>\n",
              "      <td>-0.511001</td>\n",
              "      <td>-1.159086</td>\n",
              "      <td>0</td>\n",
              "      <td>1</td>\n",
              "    </tr>\n",
              "    <tr>\n",
              "      <th>2</th>\n",
              "      <td>-5.466232</td>\n",
              "      <td>-0.176027</td>\n",
              "      <td>-1.866392</td>\n",
              "      <td>0.634294</td>\n",
              "      <td>0.506405</td>\n",
              "      <td>0.526945</td>\n",
              "      <td>0</td>\n",
              "      <td>-0.024223</td>\n",
              "      <td>-0.474440</td>\n",
              "      <td>-1.361255</td>\n",
              "      <td>-0.511001</td>\n",
              "      <td>-1.159086</td>\n",
              "      <td>0</td>\n",
              "      <td>1</td>\n",
              "    </tr>\n",
              "    <tr>\n",
              "      <th>3</th>\n",
              "      <td>-5.466232</td>\n",
              "      <td>-0.176027</td>\n",
              "      <td>-1.866392</td>\n",
              "      <td>0.634294</td>\n",
              "      <td>0.506405</td>\n",
              "      <td>0.526945</td>\n",
              "      <td>0</td>\n",
              "      <td>0.113599</td>\n",
              "      <td>-0.474440</td>\n",
              "      <td>-1.361255</td>\n",
              "      <td>-0.511001</td>\n",
              "      <td>-1.159086</td>\n",
              "      <td>0</td>\n",
              "      <td>1</td>\n",
              "    </tr>\n",
              "    <tr>\n",
              "      <th>4</th>\n",
              "      <td>-5.433352</td>\n",
              "      <td>-0.197441</td>\n",
              "      <td>-1.723773</td>\n",
              "      <td>0.634294</td>\n",
              "      <td>2.286080</td>\n",
              "      <td>1.793843</td>\n",
              "      <td>0</td>\n",
              "      <td>-0.967684</td>\n",
              "      <td>0.339667</td>\n",
              "      <td>-1.251770</td>\n",
              "      <td>0.426114</td>\n",
              "      <td>-1.159086</td>\n",
              "      <td>0</td>\n",
              "      <td>1</td>\n",
              "    </tr>\n",
              "  </tbody>\n",
              "</table>\n",
              "</div>\n",
              "      <button class=\"colab-df-convert\" onclick=\"convertToInteractive('df-84b871dd-4071-463a-b84f-beb297ad1b7a')\"\n",
              "              title=\"Convert this dataframe to an interactive table.\"\n",
              "              style=\"display:none;\">\n",
              "        \n",
              "  <svg xmlns=\"http://www.w3.org/2000/svg\" height=\"24px\"viewBox=\"0 0 24 24\"\n",
              "       width=\"24px\">\n",
              "    <path d=\"M0 0h24v24H0V0z\" fill=\"none\"/>\n",
              "    <path d=\"M18.56 5.44l.94 2.06.94-2.06 2.06-.94-2.06-.94-.94-2.06-.94 2.06-2.06.94zm-11 1L8.5 8.5l.94-2.06 2.06-.94-2.06-.94L8.5 2.5l-.94 2.06-2.06.94zm10 10l.94 2.06.94-2.06 2.06-.94-2.06-.94-.94-2.06-.94 2.06-2.06.94z\"/><path d=\"M17.41 7.96l-1.37-1.37c-.4-.4-.92-.59-1.43-.59-.52 0-1.04.2-1.43.59L10.3 9.45l-7.72 7.72c-.78.78-.78 2.05 0 2.83L4 21.41c.39.39.9.59 1.41.59.51 0 1.02-.2 1.41-.59l7.78-7.78 2.81-2.81c.8-.78.8-2.07 0-2.86zM5.41 20L4 18.59l7.72-7.72 1.47 1.35L5.41 20z\"/>\n",
              "  </svg>\n",
              "      </button>\n",
              "      \n",
              "  <style>\n",
              "    .colab-df-container {\n",
              "      display:flex;\n",
              "      flex-wrap:wrap;\n",
              "      gap: 12px;\n",
              "    }\n",
              "\n",
              "    .colab-df-convert {\n",
              "      background-color: #E8F0FE;\n",
              "      border: none;\n",
              "      border-radius: 50%;\n",
              "      cursor: pointer;\n",
              "      display: none;\n",
              "      fill: #1967D2;\n",
              "      height: 32px;\n",
              "      padding: 0 0 0 0;\n",
              "      width: 32px;\n",
              "    }\n",
              "\n",
              "    .colab-df-convert:hover {\n",
              "      background-color: #E2EBFA;\n",
              "      box-shadow: 0px 1px 2px rgba(60, 64, 67, 0.3), 0px 1px 3px 1px rgba(60, 64, 67, 0.15);\n",
              "      fill: #174EA6;\n",
              "    }\n",
              "\n",
              "    [theme=dark] .colab-df-convert {\n",
              "      background-color: #3B4455;\n",
              "      fill: #D2E3FC;\n",
              "    }\n",
              "\n",
              "    [theme=dark] .colab-df-convert:hover {\n",
              "      background-color: #434B5C;\n",
              "      box-shadow: 0px 1px 3px 1px rgba(0, 0, 0, 0.15);\n",
              "      filter: drop-shadow(0px 1px 2px rgba(0, 0, 0, 0.3));\n",
              "      fill: #FFFFFF;\n",
              "    }\n",
              "  </style>\n",
              "\n",
              "      <script>\n",
              "        const buttonEl =\n",
              "          document.querySelector('#df-84b871dd-4071-463a-b84f-beb297ad1b7a button.colab-df-convert');\n",
              "        buttonEl.style.display =\n",
              "          google.colab.kernel.accessAllowed ? 'block' : 'none';\n",
              "\n",
              "        async function convertToInteractive(key) {\n",
              "          const element = document.querySelector('#df-84b871dd-4071-463a-b84f-beb297ad1b7a');\n",
              "          const dataTable =\n",
              "            await google.colab.kernel.invokeFunction('convertToInteractive',\n",
              "                                                     [key], {});\n",
              "          if (!dataTable) return;\n",
              "\n",
              "          const docLinkHtml = 'Like what you see? Visit the ' +\n",
              "            '<a target=\"_blank\" href=https://colab.research.google.com/notebooks/data_table.ipynb>data table notebook</a>'\n",
              "            + ' to learn more about interactive tables.';\n",
              "          element.innerHTML = '';\n",
              "          dataTable['output_type'] = 'display_data';\n",
              "          await google.colab.output.renderOutput(dataTable, element);\n",
              "          const docLink = document.createElement('div');\n",
              "          docLink.innerHTML = docLinkHtml;\n",
              "          element.appendChild(docLink);\n",
              "        }\n",
              "      </script>\n",
              "    </div>\n",
              "  </div>\n",
              "  "
            ]
          },
          "metadata": {},
          "execution_count": 3
        },
        {
          "output_type": "stream",
          "name": "stdout",
          "text": [
            "time: 1.31 s (started: 2023-01-16 11:36:51 +00:00)\n"
          ]
        }
      ]
    },
    {
      "cell_type": "code",
      "source": [
        "df.info()"
      ],
      "metadata": {
        "id": "_YD_aLsrWoFf",
        "colab": {
          "base_uri": "https://localhost:8080/"
        },
        "outputId": "f7086c43-b73d-4ad1-f48a-17538c3c9659"
      },
      "execution_count": 4,
      "outputs": [
        {
          "output_type": "stream",
          "name": "stdout",
          "text": [
            "<class 'pandas.core.frame.DataFrame'>\n",
            "RangeIndex: 171893 entries, 0 to 171892\n",
            "Data columns (total 14 columns):\n",
            " #   Column         Non-Null Count   Dtype  \n",
            "---  ------         --------------   -----  \n",
            " 0   LATITUDE       171893 non-null  float64\n",
            " 1   LONGITUDE      171893 non-null  float64\n",
            " 2   ACQ_DATE       171893 non-null  float64\n",
            " 3   ACQ_TIME       171893 non-null  float64\n",
            " 4   OPEN_TIME      171893 non-null  float64\n",
            " 5   CLOSE_TIME     171893 non-null  float64\n",
            " 6   FIRE_OCCURRED  171893 non-null  int64  \n",
            " 7   CO_MOL/M2      171893 non-null  float64\n",
            " 8   SO2_MOL/M2     171893 non-null  float64\n",
            " 9   NO2_MOL/M2     171893 non-null  float64\n",
            " 10  O3_MOL/M2      171893 non-null  float64\n",
            " 11  LOCATION       171893 non-null  float64\n",
            " 12  INSTRUMENT     171893 non-null  int64  \n",
            " 13  DRY_SEASON     171893 non-null  int64  \n",
            "dtypes: float64(11), int64(3)\n",
            "memory usage: 18.4 MB\n",
            "time: 36.2 ms (started: 2023-01-16 11:36:52 +00:00)\n"
          ]
        }
      ]
    },
    {
      "cell_type": "code",
      "source": [
        "display(df['FIRE_OCCURRED'].value_counts())"
      ],
      "metadata": {
        "colab": {
          "base_uri": "https://localhost:8080/",
          "height": 86
        },
        "id": "jXbXzzezgiT4",
        "outputId": "44ed6759-f088-4573-fe0a-2b54466d2c61"
      },
      "execution_count": 5,
      "outputs": [
        {
          "output_type": "display_data",
          "data": {
            "text/plain": [
              "0    170544\n",
              "1      1349\n",
              "Name: FIRE_OCCURRED, dtype: int64"
            ]
          },
          "metadata": {}
        },
        {
          "output_type": "stream",
          "name": "stdout",
          "text": [
            "time: 13.5 ms (started: 2023-01-16 11:36:52 +00:00)\n"
          ]
        }
      ]
    },
    {
      "cell_type": "code",
      "source": [
        "X = df.drop('FIRE_OCCURRED', axis=1)\n",
        "y = df['FIRE_OCCURRED']"
      ],
      "metadata": {
        "id": "lRQpZTs5hQ7x",
        "colab": {
          "base_uri": "https://localhost:8080/"
        },
        "outputId": "702f61d7-1dce-4b2d-c1a8-e5277bb58df7"
      },
      "execution_count": 6,
      "outputs": [
        {
          "output_type": "stream",
          "name": "stdout",
          "text": [
            "time: 13.5 ms (started: 2023-01-16 11:36:52 +00:00)\n"
          ]
        }
      ]
    },
    {
      "cell_type": "code",
      "source": [
        "# Training, Testing Split\n",
        "\n",
        "from sklearn.model_selection import train_test_split\n",
        "\n",
        "# 90:10\n",
        "\n",
        "X_train, X_test, y_train, y_test = train_test_split(X, y, test_size=0.10, random_state=10, shuffle=True)\n",
        "\n",
        "Original = [X_train, X_test, y_train, y_test] # For reference"
      ],
      "metadata": {
        "id": "LF5R0TqqWqAQ",
        "colab": {
          "base_uri": "https://localhost:8080/"
        },
        "outputId": "2250f8e6-dd11-4499-a738-81d66e45f978"
      },
      "execution_count": 7,
      "outputs": [
        {
          "output_type": "stream",
          "name": "stdout",
          "text": [
            "time: 328 ms (started: 2023-01-16 11:36:52 +00:00)\n"
          ]
        }
      ]
    },
    {
      "cell_type": "code",
      "source": [
        "if len(X_train)==len(y_train) and len(X_test) == len(y_test):\n",
        "  print(\"X and y data length matching\")\n",
        "else:\n",
        "  print(\"Error in data preparation pipeline\")\n",
        "print()\n",
        "print(\"No. of training data = %d\" % len(X_train))\n",
        "print(\"No. of testing data = %d\" % len(X_test))"
      ],
      "metadata": {
        "id": "Q1mt3NsQWgVN",
        "colab": {
          "base_uri": "https://localhost:8080/"
        },
        "outputId": "4108b8bd-9d56-48ef-cd06-f971ee5430c5"
      },
      "execution_count": 8,
      "outputs": [
        {
          "output_type": "stream",
          "name": "stdout",
          "text": [
            "X and y data length matching\n",
            "\n",
            "No. of training data = 154703\n",
            "No. of testing data = 17190\n",
            "time: 6.11 ms (started: 2023-01-16 11:36:53 +00:00)\n"
          ]
        }
      ]
    },
    {
      "cell_type": "code",
      "source": [
        "display(y_test.value_counts())"
      ],
      "metadata": {
        "id": "pIhtWUGDmlHn",
        "colab": {
          "base_uri": "https://localhost:8080/",
          "height": 86
        },
        "outputId": "fc8682a8-5480-4311-f1d0-9295b369df14"
      },
      "execution_count": 9,
      "outputs": [
        {
          "output_type": "display_data",
          "data": {
            "text/plain": [
              "0    17059\n",
              "1      131\n",
              "Name: FIRE_OCCURRED, dtype: int64"
            ]
          },
          "metadata": {}
        },
        {
          "output_type": "stream",
          "name": "stdout",
          "text": [
            "time: 7.29 ms (started: 2023-01-16 11:36:53 +00:00)\n"
          ]
        }
      ]
    },
    {
      "cell_type": "code",
      "source": [
        "# SMOTE\n",
        "\n",
        "from collections import Counter\n",
        "from imblearn.over_sampling import SMOTE \n",
        "\n",
        "print('Original dataset shape %s' % Counter(y_train))\n",
        "sm = SMOTE(random_state=10)\n",
        "X_train, y_train = sm.fit_resample(X_train, y_train)\n",
        "print('Resampled dataset shape %s' % Counter(y_train))"
      ],
      "metadata": {
        "id": "GhX5M0pSnDq7",
        "colab": {
          "base_uri": "https://localhost:8080/"
        },
        "outputId": "41b33636-719c-4898-fdb2-6af7d84aaed5"
      },
      "execution_count": 10,
      "outputs": [
        {
          "output_type": "stream",
          "name": "stdout",
          "text": [
            "Original dataset shape Counter({0: 153485, 1: 1218})\n",
            "Resampled dataset shape Counter({0: 153485, 1: 153485})\n",
            "time: 847 ms (started: 2023-01-16 11:36:53 +00:00)\n"
          ]
        }
      ]
    },
    {
      "cell_type": "code",
      "source": [
        "# Shuffle Data since SMOTE appended many 1s at the end\n",
        "# Required for some algorithms such as ANN\n",
        "\n",
        "from sklearn.utils import shuffle\n",
        "\n",
        "X_train, y_train = shuffle(X_train, y_train, random_state = 10)"
      ],
      "metadata": {
        "id": "6EKTZ2IjuBtu",
        "colab": {
          "base_uri": "https://localhost:8080/"
        },
        "outputId": "162470d0-6fb2-4031-bcd5-2db8eae5ba70"
      },
      "execution_count": 11,
      "outputs": [
        {
          "output_type": "stream",
          "name": "stdout",
          "text": [
            "time: 83.4 ms (started: 2023-01-16 11:36:54 +00:00)\n"
          ]
        }
      ]
    },
    {
      "cell_type": "code",
      "source": [
        "# Evaluation Metrics\n",
        "\n",
        "from sklearn.metrics import confusion_matrix, recall_score, f1_score, roc_auc_score, accuracy_score\n",
        "\n",
        "def evaluation_metrics(y_true, y_pred):\n",
        "  cfm = confusion_matrix(y_true, y_pred).ravel()\n",
        "  acc = accuracy_score(y_true, y_pred)\n",
        "  recs = recall_score(y_true, y_pred, average='binary')\n",
        "  f1s = f1_score(y_true, y_pred, average='binary')\n",
        "  rocs = roc_auc_score(y_true, y_pred, average='macro')\n",
        "  return [cfm, acc, recs, f1s, rocs]"
      ],
      "metadata": {
        "id": "AsnI9sv5nNyu",
        "colab": {
          "base_uri": "https://localhost:8080/"
        },
        "outputId": "a19f49cf-a067-4834-d548-c5e986e32069"
      },
      "execution_count": 12,
      "outputs": [
        {
          "output_type": "stream",
          "name": "stdout",
          "text": [
            "time: 1.8 ms (started: 2023-01-16 11:36:54 +00:00)\n"
          ]
        }
      ]
    },
    {
      "cell_type": "markdown",
      "source": [
        "Confusion matrix format : [ tn , fp , fn , tp ]"
      ],
      "metadata": {
        "id": "bPS8aE8bpEa4"
      }
    },
    {
      "cell_type": "code",
      "source": [
        "# Store Model Parameters and Eval\n",
        "\n",
        "models_final = pd.DataFrame(columns = ['model_name', 'model', 'parameters'])\n",
        "models_test = pd.DataFrame(columns = ['model_name', 'confusion_matrix', 'accuracy', 'recall', 'f1_score', 'roc_auc_score'])"
      ],
      "metadata": {
        "id": "beEJSW87njvC",
        "colab": {
          "base_uri": "https://localhost:8080/"
        },
        "outputId": "1df88282-58a8-42bf-8520-e9560f441de5"
      },
      "execution_count": 13,
      "outputs": [
        {
          "output_type": "stream",
          "name": "stdout",
          "text": [
            "time: 6.47 ms (started: 2023-01-16 11:36:54 +00:00)\n"
          ]
        }
      ]
    },
    {
      "cell_type": "code",
      "execution_count": 14,
      "metadata": {
        "id": "jZr8lVAHyw_I",
        "colab": {
          "base_uri": "https://localhost:8080/"
        },
        "outputId": "7e2ce30f-f202-42da-e3c3-c666f979de15"
      },
      "outputs": [
        {
          "output_type": "stream",
          "name": "stdout",
          "text": [
            "time: 4 s (started: 2023-01-16 11:36:54 +00:00)\n"
          ]
        }
      ],
      "source": [
        "# Import ML Algorithms\n",
        "\n",
        "from sklearn.linear_model import LogisticRegression\n",
        "from sklearn.svm import SVC\n",
        "from sklearn.naive_bayes import GaussianNB\n",
        "from sklearn.neighbors import KNeighborsClassifier\n",
        "from sklearn.ensemble import RandomForestClassifier\n",
        "from sklearn.tree import DecisionTreeClassifier\n",
        "from sklearn.ensemble import GradientBoostingClassifier\n",
        "import xgboost\n",
        "from xgboost import XGBClassifier\n",
        "import lightgbm\n",
        "from lightgbm import LGBMClassifier\n",
        "import tensorflow as tf\n",
        "from tensorflow import keras\n",
        "from sklearn.ensemble import VotingClassifier\n",
        "\n",
        "# Save Model\n",
        "\n",
        "import pickle"
      ]
    },
    {
      "cell_type": "markdown",
      "source": [
        "## Logistic Regression\n",
        "\n",
        "- Library: Scikit-learn\n",
        "\n",
        "**Best Parameters:**\n",
        "\n",
        "{'warm_start': True,\n",
        " 'solver': 'lbfgs',\n",
        " 'penalty': 'none',\n",
        " 'max_iter': 331,\n",
        " 'dual': False,\n",
        " 'C': 0}"
      ],
      "metadata": {
        "id": "Xcwy2Vgsuu56"
      }
    },
    {
      "cell_type": "code",
      "source": [
        "name = 'log_clf'\n",
        "\n",
        "log_clf = LogisticRegression(penalty = 'none', \n",
        "                             warm_start = True,\n",
        "                             solver = 'lbfgs',\n",
        "                             max_iter = 331,\n",
        "                             dual = False,\n",
        "                             C = 0,\n",
        "                             n_jobs = -1, \n",
        "                             random_state = 10\n",
        "                             ).fit(X_train,y_train)\n",
        "\n",
        "y_true = y_test\n",
        "y_pred = log_clf.predict(X_test)\n",
        "evaluation_results = evaluation_metrics(y_true, y_pred)\n",
        "\n",
        "models_final = models_final.append({'model_name': name, \n",
        "                        'model': log_clf, \n",
        "                        'parameters': log_clf.get_params()}, \n",
        "                        ignore_index=True)\n",
        "\n",
        "models_test = models_test.append({'model_name': name, \n",
        "                                  'confusion_matrix' : evaluation_results[0], \n",
        "                                  'accuracy': evaluation_results[1], \n",
        "                                  'recall' : evaluation_results[2], \n",
        "                                  'f1_score': evaluation_results[3],\n",
        "                                  'roc_auc_score': evaluation_results[4]}, \n",
        "                                 ignore_index=True)"
      ],
      "metadata": {
        "id": "GTz0ABHmZXIA",
        "colab": {
          "base_uri": "https://localhost:8080/"
        },
        "outputId": "bd941371-a8ed-4573-dd70-afee1e98d0a0"
      },
      "execution_count": 15,
      "outputs": [
        {
          "output_type": "stream",
          "name": "stderr",
          "text": [
            "/usr/local/lib/python3.8/dist-packages/sklearn/linear_model/_logistic.py:1483: UserWarning: Setting penalty='none' will ignore the C and l1_ratio parameters\n",
            "  warnings.warn(\n"
          ]
        },
        {
          "output_type": "stream",
          "name": "stdout",
          "text": [
            "time: 5.78 s (started: 2023-01-16 11:36:58 +00:00)\n"
          ]
        }
      ]
    },
    {
      "cell_type": "code",
      "source": [
        "# Save Model\n",
        "pickle.dump(log_clf, open('log_clf.sav', 'wb')) \n",
        "\n",
        "# Load Model\n",
        "# log_clf = pickle.load(open('log_clf.sav', 'rb'))"
      ],
      "metadata": {
        "id": "awohG7WaP4AL",
        "colab": {
          "base_uri": "https://localhost:8080/"
        },
        "outputId": "649e12c4-efc3-469b-e9a3-b63f1688e380"
      },
      "execution_count": 16,
      "outputs": [
        {
          "output_type": "stream",
          "name": "stdout",
          "text": [
            "time: 1.39 ms (started: 2023-01-16 11:37:04 +00:00)\n"
          ]
        }
      ]
    },
    {
      "cell_type": "markdown",
      "source": [
        "## Support Vector Machine (SVM)\n",
        "\n",
        "- Library: Scikit-learn\n",
        "\n",
        "**Best Parameters:**\n",
        "\n",
        "{\n",
        "'kernel': 'rbf',\n",
        "'C' : '8',\n",
        "'class_weight'='balanced'\n",
        "}"
      ],
      "metadata": {
        "id": "1LPWXBKHuu3j"
      }
    },
    {
      "cell_type": "code",
      "source": [
        "X_train_SVM = Original[0]\n",
        "X_test_SVM = Original[1]\n",
        "y_train_SVM = Original[2]\n",
        "y_test_SVM = Original[3]"
      ],
      "metadata": {
        "id": "HpYzEFK-ZXez",
        "colab": {
          "base_uri": "https://localhost:8080/"
        },
        "outputId": "d3f4fa9f-0fac-4e9e-8d35-56775ff20b4c"
      },
      "execution_count": 17,
      "outputs": [
        {
          "output_type": "stream",
          "name": "stdout",
          "text": [
            "time: 1.42 ms (started: 2023-01-16 11:37:04 +00:00)\n"
          ]
        }
      ]
    },
    {
      "cell_type": "code",
      "source": [
        "# Shuffle\n",
        "\n",
        "X_train_SVM, y_train_SVM = shuffle(X_train_SVM, y_train_SVM, random_state = 10)"
      ],
      "metadata": {
        "id": "p_ny6ndEumCF",
        "colab": {
          "base_uri": "https://localhost:8080/"
        },
        "outputId": "6e227013-ce6b-4f77-93ff-e0ae71edabd0"
      },
      "execution_count": 18,
      "outputs": [
        {
          "output_type": "stream",
          "name": "stdout",
          "text": [
            "time: 60.2 ms (started: 2023-01-16 11:37:04 +00:00)\n"
          ]
        }
      ]
    },
    {
      "cell_type": "code",
      "source": [
        "display(y_train_SVM.value_counts())"
      ],
      "metadata": {
        "id": "r_PiEhleyUgO",
        "colab": {
          "base_uri": "https://localhost:8080/",
          "height": 86
        },
        "outputId": "ed71c7ab-d0f4-45ad-9238-8924d5b4152b"
      },
      "execution_count": 19,
      "outputs": [
        {
          "output_type": "display_data",
          "data": {
            "text/plain": [
              "0    153485\n",
              "1      1218\n",
              "Name: FIRE_OCCURRED, dtype: int64"
            ]
          },
          "metadata": {}
        },
        {
          "output_type": "stream",
          "name": "stdout",
          "text": [
            "time: 11.7 ms (started: 2023-01-16 11:37:04 +00:00)\n"
          ]
        }
      ]
    },
    {
      "cell_type": "code",
      "source": [
        "name = 'svc_clf'\n",
        "\n",
        "svc_clf = SVC(kernel = 'rbf', \n",
        "              C = 8,\n",
        "              class_weight='balanced',\n",
        "              random_state = 10\n",
        "              ).fit(X_train_SVM,y_train_SVM)\n",
        "\n",
        "y_true = y_test_SVM\n",
        "y_pred = svc_clf.predict(X_test_SVM)\n",
        "evaluation_results = evaluation_metrics(y_true, y_pred)\n",
        "\n",
        "models_final = models_final.append({'model_name': name, \n",
        "                        'model': svc_clf, \n",
        "                        'parameters': svc_clf.get_params()}, \n",
        "                       ignore_index=True)\n",
        "\n",
        "models_test = models_test.append({'model_name': name, \n",
        "                                  'confusion_matrix' : evaluation_results[0], \n",
        "                                  'accuracy': evaluation_results[1], \n",
        "                                  'recall' : evaluation_results[2], \n",
        "                                  'f1_score': evaluation_results[3],\n",
        "                                  'roc_auc_score': evaluation_results[4]}, \n",
        "                                 ignore_index=True)"
      ],
      "metadata": {
        "id": "vio-Fo6Nyl9S",
        "colab": {
          "base_uri": "https://localhost:8080/"
        },
        "outputId": "91f713b7-0966-4167-b7ef-3be3deeb3db0"
      },
      "execution_count": 20,
      "outputs": [
        {
          "output_type": "stream",
          "name": "stdout",
          "text": [
            "time: 5min 47s (started: 2023-01-16 11:37:04 +00:00)\n"
          ]
        }
      ]
    },
    {
      "cell_type": "code",
      "source": [
        "# Save Model\n",
        "pickle.dump(svc_clf, open('svc_clf.sav', 'wb')) \n",
        "\n",
        "# Load Model\n",
        "# svc_clf = pickle.load(open('svc_clf.sav', 'rb'))"
      ],
      "metadata": {
        "id": "JxxyWrHYUM94",
        "colab": {
          "base_uri": "https://localhost:8080/"
        },
        "outputId": "8bbc62fb-a2cf-4d3c-b041-c5f44d71efa2"
      },
      "execution_count": 21,
      "outputs": [
        {
          "output_type": "stream",
          "name": "stdout",
          "text": [
            "time: 6.23 ms (started: 2023-01-16 11:42:51 +00:00)\n"
          ]
        }
      ]
    },
    {
      "cell_type": "markdown",
      "source": [
        "## Naive Bayes\n",
        "\n",
        "- Library: Scikit-learn\n",
        "\n",
        "**Best Parameters:**\n",
        "\n",
        "{'var_smoothing': 1e-3}"
      ],
      "metadata": {
        "id": "jFKJ-rs3uu1O"
      }
    },
    {
      "cell_type": "code",
      "source": [
        "name = 'bayes_clf'\n",
        "\n",
        "bayes_clf = GaussianNB(var_smoothing = 1e-3\n",
        "                       ).fit(X_train,y_train)\n",
        "\n",
        "y_true = y_test\n",
        "y_pred = bayes_clf.predict(X_test)\n",
        "evaluation_results = evaluation_metrics(y_true, y_pred)\n",
        "\n",
        "models_final = models_final.append({'model_name': name, \n",
        "                        'model': bayes_clf, \n",
        "                        'parameters': bayes_clf.get_params()}, \n",
        "                       ignore_index=True)\n",
        "\n",
        "models_test = models_test.append({'model_name': name, \n",
        "                                  'confusion_matrix' : evaluation_results[0], \n",
        "                                  'accuracy': evaluation_results[1], \n",
        "                                  'recall' : evaluation_results[2], \n",
        "                                  'f1_score': evaluation_results[3],\n",
        "                                  'roc_auc_score': evaluation_results[4]}, \n",
        "                                 ignore_index=True)"
      ],
      "metadata": {
        "id": "xX1Uk1TcZX4R",
        "colab": {
          "base_uri": "https://localhost:8080/"
        },
        "outputId": "97b40ac1-b430-4678-83f7-296e6d854c7e"
      },
      "execution_count": 22,
      "outputs": [
        {
          "output_type": "stream",
          "name": "stdout",
          "text": [
            "time: 166 ms (started: 2023-01-16 11:42:51 +00:00)\n"
          ]
        }
      ]
    },
    {
      "cell_type": "code",
      "source": [
        "# Save Model\n",
        "pickle.dump(bayes_clf, open('bayes_clf.sav', 'wb')) \n",
        "\n",
        "# Load Model\n",
        "# bayes_clf = pickle.load(open('bayes_clf.sav', 'rb'))"
      ],
      "metadata": {
        "id": "TNFSyBguUQs7",
        "colab": {
          "base_uri": "https://localhost:8080/"
        },
        "outputId": "c4260add-a0bf-4a52-8a6a-6ca6d07ec751"
      },
      "execution_count": 23,
      "outputs": [
        {
          "output_type": "stream",
          "name": "stdout",
          "text": [
            "time: 1.57 ms (started: 2023-01-16 11:42:52 +00:00)\n"
          ]
        }
      ]
    },
    {
      "cell_type": "markdown",
      "source": [
        "## K-Nearest Neighbor\n",
        "\n",
        "- Library: Scikit-learn\n",
        "\n",
        "**Best Parameters:**\n",
        "\n",
        "{'n_neighbors': 19, 'algorithm': 'kd_tree'}"
      ],
      "metadata": {
        "id": "tLaZu_G9uuzC"
      }
    },
    {
      "cell_type": "code",
      "source": [
        "name = 'neigh_clf'\n",
        "\n",
        "neigh_clf = KNeighborsClassifier(n_neighbors = 19, \n",
        "                                 algorithm = 'kd_tree',\n",
        "                                 n_jobs = -1, \n",
        "                                 ).fit(X_train,y_train)\n",
        "\n",
        "y_true = y_test\n",
        "y_pred = neigh_clf.predict(X_test)\n",
        "evaluation_results = evaluation_metrics(y_true, y_pred)\n",
        "\n",
        "models_final = models_final.append({'model_name': name, \n",
        "                        'model': neigh_clf, \n",
        "                        'parameters': neigh_clf.get_params()}, \n",
        "                       ignore_index=True)\n",
        "\n",
        "models_test = models_test.append({'model_name': name, \n",
        "                                  'confusion_matrix' : evaluation_results[0], \n",
        "                                  'accuracy': evaluation_results[1], \n",
        "                                  'recall' : evaluation_results[2], \n",
        "                                  'f1_score': evaluation_results[3],\n",
        "                                  'roc_auc_score': evaluation_results[4]}, \n",
        "                                 ignore_index=True)"
      ],
      "metadata": {
        "id": "DDM4MrNrZYTH",
        "colab": {
          "base_uri": "https://localhost:8080/"
        },
        "outputId": "3db24501-9ce0-4034-bafc-f4b25bea186e"
      },
      "execution_count": 24,
      "outputs": [
        {
          "output_type": "stream",
          "name": "stdout",
          "text": [
            "time: 14.4 s (started: 2023-01-16 11:42:52 +00:00)\n"
          ]
        }
      ]
    },
    {
      "cell_type": "code",
      "source": [
        "# Save Model\n",
        "# pickle.dump(neigh_clf, open('neigh_clf.sav', 'wb')) \n",
        "pickle.dump(neigh_clf, open('neigh_clf.h', 'wb')) \n",
        "\n",
        "# Load Model\n",
        "# neigh_clf = pickle.load(open('neigh_clf.sav', 'rb'))"
      ],
      "metadata": {
        "id": "QFlPN08YUVCk",
        "colab": {
          "base_uri": "https://localhost:8080/"
        },
        "outputId": "b3970294-0252-4174-853f-f6fa54920953"
      },
      "execution_count": 88,
      "outputs": [
        {
          "output_type": "stream",
          "name": "stdout",
          "text": [
            "time: 408 ms (started: 2023-01-16 14:29:46 +00:00)\n"
          ]
        }
      ]
    },
    {
      "cell_type": "markdown",
      "source": [
        "## Decision Tree\n",
        "\n",
        "- Library: Scikit-learn\n",
        "\n",
        "**Best Parameters:**\n",
        "\n",
        "{'splitter': 'random',\n",
        " 'min_samples_leaf': 2,\n",
        " 'max_features': 11,\n",
        " 'max_depth': None,\n",
        " 'criterion': 'entropy'}"
      ],
      "metadata": {
        "id": "h4rV9G4OuurU"
      }
    },
    {
      "cell_type": "code",
      "source": [
        "name = 'tree_clf'\n",
        "\n",
        "tree_clf = DecisionTreeClassifier(criterion = 'entropy', \n",
        "                                  splitter = 'random', \n",
        "                                  min_samples_leaf = 2,\n",
        "                                  max_features = 11,\n",
        "                                  max_depth = None,\n",
        "                                  random_state = 10\n",
        "                                  ).fit(X_train,y_train)\n",
        "\n",
        "y_true = y_test\n",
        "y_pred = tree_clf.predict(X_test)\n",
        "evaluation_results = evaluation_metrics(y_true, y_pred)\n",
        "\n",
        "models_final = models_final.append({'model_name': name, \n",
        "                        'model': tree_clf, \n",
        "                        'parameters': tree_clf.get_params()}, \n",
        "                       ignore_index=True)\n",
        "\n",
        "models_test = models_test.append({'model_name': name, \n",
        "                                  'confusion_matrix' : evaluation_results[0], \n",
        "                                  'accuracy': evaluation_results[1], \n",
        "                                  'recall' : evaluation_results[2], \n",
        "                                  'f1_score': evaluation_results[3],\n",
        "                                  'roc_auc_score': evaluation_results[4]}, \n",
        "                                 ignore_index=True)"
      ],
      "metadata": {
        "id": "-2V9TCX1ZY-y",
        "colab": {
          "base_uri": "https://localhost:8080/"
        },
        "outputId": "16a0e18c-aaef-4759-81cf-3790421fef2b"
      },
      "execution_count": 26,
      "outputs": [
        {
          "output_type": "stream",
          "name": "stdout",
          "text": [
            "time: 698 ms (started: 2023-01-16 11:43:06 +00:00)\n"
          ]
        }
      ]
    },
    {
      "cell_type": "code",
      "source": [
        "# Save Model\n",
        "pickle.dump(tree_clf, open('tree_clf.sav', 'wb')) \n",
        "\n",
        "# Load Model\n",
        "# tree_clf = pickle.load(open('tree_clf.sav', 'rb'))"
      ],
      "metadata": {
        "id": "NpSlVQAqUXdP",
        "colab": {
          "base_uri": "https://localhost:8080/"
        },
        "outputId": "3d1dcaee-eeeb-4392-cfe9-c4b09e0acc72"
      },
      "execution_count": 27,
      "outputs": [
        {
          "output_type": "stream",
          "name": "stdout",
          "text": [
            "time: 3.8 ms (started: 2023-01-16 11:43:07 +00:00)\n"
          ]
        }
      ]
    },
    {
      "cell_type": "markdown",
      "source": [
        "## Random Forest Classifier\n",
        "\n",
        "- Library: Scikit-learn\n",
        "\n",
        "**Best Parameters:**\n",
        "\n",
        "{'n_estimators': 415,\n",
        " 'min_samples_split': 6,\n",
        " 'min_samples_leaf': 1,\n",
        " 'max_features': 4,\n",
        " 'max_depth': 18}"
      ],
      "metadata": {
        "id": "qAaISg5Kuuwi"
      }
    },
    {
      "cell_type": "code",
      "source": [
        "name = 'rnd_clf'\n",
        "\n",
        "rnd_clf = RandomForestClassifier(n_estimators = 415, \n",
        "                                  min_samples_split = 6,\n",
        "                                  min_samples_leaf = 1,\n",
        "                                  max_features = 4,\n",
        "                                  max_depth = 18, \n",
        "                                  n_jobs = -1, \n",
        "                                  random_state = 10\n",
        "                                  ).fit(X_train,y_train)\n",
        "\n",
        "y_true = y_test\n",
        "y_pred = rnd_clf.predict(X_test)\n",
        "evaluation_results = evaluation_metrics(y_true, y_pred)\n",
        "\n",
        "models_final = models_final.append({'model_name': name, \n",
        "                        'model': rnd_clf, \n",
        "                        'parameters': rnd_clf.get_params()}, \n",
        "                       ignore_index=True)\n",
        "\n",
        "models_test = models_test.append({'model_name': name, \n",
        "                                  'confusion_matrix' : evaluation_results[0], \n",
        "                                  'accuracy': evaluation_results[1], \n",
        "                                  'recall' : evaluation_results[2], \n",
        "                                  'f1_score': evaluation_results[3],\n",
        "                                  'roc_auc_score': evaluation_results[4]}, \n",
        "                                 ignore_index=True)"
      ],
      "metadata": {
        "id": "1ZdpWxd0ZYo3",
        "colab": {
          "base_uri": "https://localhost:8080/"
        },
        "outputId": "702c7c4e-6ed1-44a9-ec18-e250e9347bf9"
      },
      "execution_count": 28,
      "outputs": [
        {
          "output_type": "stream",
          "name": "stdout",
          "text": [
            "time: 5min 12s (started: 2023-01-16 11:43:07 +00:00)\n"
          ]
        }
      ]
    },
    {
      "cell_type": "code",
      "source": [
        "# Save Model\n",
        "pickle.dump(rnd_clf, open('rnd_clf.sav', 'wb')) \n",
        "\n",
        "\n",
        "# Load Model\n",
        "# rnd_clf = pickle.load(open('rnd_clf.sav', 'rb'))"
      ],
      "metadata": {
        "id": "y1I0R1PlUa-y",
        "colab": {
          "base_uri": "https://localhost:8080/"
        },
        "outputId": "9b032ac9-1996-4c53-886b-c50c56f8e5fb"
      },
      "execution_count": 80,
      "outputs": [
        {
          "output_type": "stream",
          "name": "stdout",
          "text": [
            "time: 389 ms (started: 2023-01-16 14:23:07 +00:00)\n"
          ]
        }
      ]
    },
    {
      "cell_type": "markdown",
      "source": [
        "## Gradient Boosting Classifier\n",
        "\n",
        "- Library: Scikit-learn\n",
        "\n",
        "**Best Parameters:**\n",
        "\n",
        "{'n_estimators': 1000, 'max_depth': 8, 'learning_rate': 0.1}"
      ],
      "metadata": {
        "id": "7Vvojs9tuuoh"
      }
    },
    {
      "cell_type": "code",
      "source": [
        "name = 'gboost_clf'\n",
        "\n",
        "gboost_clf = GradientBoostingClassifier(n_estimators = 1000, \n",
        "                                        learning_rate = 0.1, \n",
        "                                        max_depth = 8,\n",
        "                                        random_state = 10\n",
        "                                        ).fit(X_train,y_train)\n",
        "\n",
        "y_true = y_test\n",
        "y_pred = gboost_clf.predict(X_test)\n",
        "evaluation_results = evaluation_metrics(y_true, y_pred)\n",
        "\n",
        "models_final = models_final.append({'model_name': name, \n",
        "                        'model': gboost_clf, \n",
        "                        'parameters': gboost_clf.get_params()}, \n",
        "                       ignore_index=True)\n",
        "\n",
        "models_test = models_test.append({'model_name': name, \n",
        "                                  'confusion_matrix' : evaluation_results[0], \n",
        "                                  'accuracy': evaluation_results[1], \n",
        "                                  'recall' : evaluation_results[2], \n",
        "                                  'f1_score': evaluation_results[3],\n",
        "                                  'roc_auc_score': evaluation_results[4]}, \n",
        "                                 ignore_index=True)"
      ],
      "metadata": {
        "id": "cXDZXJXyZZVj",
        "colab": {
          "base_uri": "https://localhost:8080/"
        },
        "outputId": "0f879f3a-4f0a-4167-e4f3-cf6b2d4c002a"
      },
      "execution_count": 30,
      "outputs": [
        {
          "output_type": "stream",
          "name": "stdout",
          "text": [
            "time: 47min (started: 2023-01-16 11:48:20 +00:00)\n"
          ]
        }
      ]
    },
    {
      "cell_type": "code",
      "source": [
        "# Save Model\n",
        "# pickle.dump(gboost_clf, open('gboost_clf.sav', 'wb')) \n",
        "pickle.dump(gboost_clf, open('gboost_clf.h', 'wb')) \n",
        "\n",
        "# Load Model\n",
        "# gboost_clf = pickle.load(open('gboost_clf.sav', 'rb'))"
      ],
      "metadata": {
        "id": "zce_1i0JUdSO",
        "colab": {
          "base_uri": "https://localhost:8080/"
        },
        "outputId": "8461a448-4148-4025-dc49-e72d23f3c8d0"
      },
      "execution_count": 84,
      "outputs": [
        {
          "output_type": "stream",
          "name": "stdout",
          "text": [
            "time: 186 ms (started: 2023-01-16 14:24:25 +00:00)\n"
          ]
        }
      ]
    },
    {
      "cell_type": "markdown",
      "source": [
        "## XGBoost\n",
        "\n",
        "- Library: xgboost\n",
        "\n",
        "**Best Parameters:**\n",
        "\n",
        "{'n_estimators': 1000,\n",
        " 'min_child_weight': 7,\n",
        " 'max_depth': 8,\n",
        " 'learning_rate': 0.1}"
      ],
      "metadata": {
        "id": "NfVD2dOouulp"
      }
    },
    {
      "cell_type": "code",
      "source": [
        "name = 'xgboost_clf'\n",
        "\n",
        "xgboost_clf = XGBClassifier(n_estimators = 1000, \n",
        "                            learning_rate = 0.1,\n",
        "                            max_depth = 8, \n",
        "                            min_child_weight = 7,\n",
        "                            random_state = 10\n",
        "                            ).fit(X_train,y_train)\n",
        "\n",
        "y_true = y_test\n",
        "y_pred = xgboost_clf.predict(X_test)\n",
        "evaluation_results = evaluation_metrics(y_true, y_pred)\n",
        "\n",
        "models_final = models_final.append({'model_name': name, \n",
        "                        'model': xgboost_clf, \n",
        "                        'parameters': xgboost_clf.get_params()}, \n",
        "                       ignore_index=True)\n",
        "\n",
        "models_test = models_test.append({'model_name': name, \n",
        "                                  'confusion_matrix' : evaluation_results[0], \n",
        "                                  'accuracy': evaluation_results[1], \n",
        "                                  'recall' : evaluation_results[2], \n",
        "                                  'f1_score': evaluation_results[3],\n",
        "                                  'roc_auc_score': evaluation_results[4]}, \n",
        "                                 ignore_index=True)"
      ],
      "metadata": {
        "id": "6QYj-9csZZvE",
        "colab": {
          "base_uri": "https://localhost:8080/"
        },
        "outputId": "16c36d6b-722e-4961-9e51-e14f8a9baff3"
      },
      "execution_count": 32,
      "outputs": [
        {
          "output_type": "stream",
          "name": "stdout",
          "text": [
            "time: 11min 14s (started: 2023-01-16 12:35:21 +00:00)\n"
          ]
        }
      ]
    },
    {
      "cell_type": "code",
      "source": [
        "# Save Model\n",
        "# pickle.dump(xgboost_clf, open('xgboost_clf.sav', 'wb')) \n",
        "pickle.dump(xgboost_clf, open('xgboost_clf.h', 'wb')) \n",
        "\n",
        "# Load Model\n",
        "# xgboost_clf = pickle.load(open('xgboost_clf.sav', 'rb'))"
      ],
      "metadata": {
        "id": "zaiGv1r7UgrB",
        "colab": {
          "base_uri": "https://localhost:8080/"
        },
        "outputId": "8b2018bb-6968-4461-f8d1-bcc81431a6aa"
      },
      "execution_count": 82,
      "outputs": [
        {
          "output_type": "stream",
          "name": "stdout",
          "text": [
            "time: 16.2 ms (started: 2023-01-16 14:24:03 +00:00)\n"
          ]
        }
      ]
    },
    {
      "cell_type": "markdown",
      "source": [
        "## LightGBM\n",
        "\n",
        "- Library: lightbgm\n",
        "\n",
        "**Best Parameters:**\n",
        "\n",
        "{'num_leaves': 50,\n",
        " 'n_estimators': 1000,\n",
        " 'min_data_in_leaf': 10,\n",
        " 'max_depth': 8,\n",
        " 'learning_rate': 0.05}"
      ],
      "metadata": {
        "id": "X23LZaWruugg"
      }
    },
    {
      "cell_type": "code",
      "source": [
        "name = 'lightgbm_clf'\n",
        "\n",
        "lightgbm_clf = LGBMClassifier(n_estimators = 1000, \n",
        "                              learning_rate = 0.05, \n",
        "                              max_depth = 8,\n",
        "                              num_leaves = 50,\n",
        "                              min_data_in_leaf = 10,\n",
        "                              random_state = 10\n",
        "                              ).fit(X_train,y_train)\n",
        "\n",
        "y_true = y_test\n",
        "y_pred = lightgbm_clf.predict(X_test)\n",
        "evaluation_results = evaluation_metrics(y_true, y_pred)\n",
        "\n",
        "models_final = models_final.append({'model_name': name, \n",
        "                        'model': lightgbm_clf, \n",
        "                        'parameters': lightgbm_clf.get_params()}, \n",
        "                       ignore_index=True)\n",
        "\n",
        "models_test = models_test.append({'model_name': name, \n",
        "                                  'confusion_matrix' : evaluation_results[0], \n",
        "                                  'accuracy': evaluation_results[1], \n",
        "                                  'recall' : evaluation_results[2], \n",
        "                                  'f1_score': evaluation_results[3],\n",
        "                                  'roc_auc_score': evaluation_results[4]}, \n",
        "                                 ignore_index=True)"
      ],
      "metadata": {
        "id": "B0wkCOloZaJc",
        "colab": {
          "base_uri": "https://localhost:8080/"
        },
        "outputId": "80731c64-be97-4763-e615-53b7ea1d9434"
      },
      "execution_count": 34,
      "outputs": [
        {
          "output_type": "stream",
          "name": "stdout",
          "text": [
            "time: 46.7 s (started: 2023-01-16 12:46:36 +00:00)\n"
          ]
        }
      ]
    },
    {
      "cell_type": "code",
      "source": [
        "# Save Model\n",
        "pickle.dump(lightgbm_clf, open('lightgbm_clf.sav', 'wb')) \n",
        "\n",
        "# Load Model\n",
        "# lightgbm_clf = pickle.load(open('lightgbm_clf.sav', 'rb'))"
      ],
      "metadata": {
        "id": "hKuZKlbHUjKl",
        "colab": {
          "base_uri": "https://localhost:8080/"
        },
        "outputId": "379134f5-a8ec-45ab-82ee-d6fd769c9c7f"
      },
      "execution_count": 35,
      "outputs": [
        {
          "output_type": "stream",
          "name": "stdout",
          "text": [
            "time: 274 ms (started: 2023-01-16 12:47:22 +00:00)\n"
          ]
        }
      ]
    },
    {
      "cell_type": "markdown",
      "source": [
        "## Artificial Neural Network\n",
        "\n",
        "- Library: Keras, Tensorflow\n",
        "\n",
        "**Best Parameters:**\n",
        "- Batch size 15\n",
        "- EPOCH 50"
      ],
      "metadata": {
        "id": "9ZkjCtnBuuZq"
      }
    },
    {
      "cell_type": "code",
      "source": [
        "tf.random.set_seed(10)"
      ],
      "metadata": {
        "id": "ammU32hvw0om",
        "colab": {
          "base_uri": "https://localhost:8080/"
        },
        "outputId": "bccbb968-a53a-46e5-e456-684103e7f14c"
      },
      "execution_count": 36,
      "outputs": [
        {
          "output_type": "stream",
          "name": "stdout",
          "text": [
            "time: 1.47 ms (started: 2023-01-16 12:47:23 +00:00)\n"
          ]
        }
      ]
    },
    {
      "cell_type": "code",
      "source": [
        "name = 'ann_clf'\n",
        "\n",
        "ann_clf = keras.models.Sequential([\n",
        "    keras.layers.Dense(15, input_shape=(X_train.shape[1],), activation='relu'), # No bias term\n",
        "    # keras.layers.Dense(10, activation='relu'), \n",
        "    keras.layers.Dense(10, activation='relu'), \n",
        "    keras.layers.Dense(1, activation='sigmoid')\n",
        "])\n",
        "\n",
        "ann_clf.summary()"
      ],
      "metadata": {
        "id": "6arjXn0ZZafL",
        "colab": {
          "base_uri": "https://localhost:8080/"
        },
        "outputId": "16ef22ac-3957-42c3-c2e8-1b7938244cc5"
      },
      "execution_count": 37,
      "outputs": [
        {
          "output_type": "stream",
          "name": "stdout",
          "text": [
            "Model: \"sequential\"\n",
            "_________________________________________________________________\n",
            " Layer (type)                Output Shape              Param #   \n",
            "=================================================================\n",
            " dense (Dense)               (None, 15)                210       \n",
            "                                                                 \n",
            " dense_1 (Dense)             (None, 10)                160       \n",
            "                                                                 \n",
            " dense_2 (Dense)             (None, 1)                 11        \n",
            "                                                                 \n",
            "=================================================================\n",
            "Total params: 381\n",
            "Trainable params: 381\n",
            "Non-trainable params: 0\n",
            "_________________________________________________________________\n",
            "time: 214 ms (started: 2023-01-16 12:47:23 +00:00)\n"
          ]
        }
      ]
    },
    {
      "cell_type": "code",
      "source": [
        "display(y_train.value_counts())"
      ],
      "metadata": {
        "id": "s2hCVFYFOGKG",
        "colab": {
          "base_uri": "https://localhost:8080/",
          "height": 86
        },
        "outputId": "306ea866-b5a6-4f7e-8b4f-065003bbc08b"
      },
      "execution_count": 38,
      "outputs": [
        {
          "output_type": "display_data",
          "data": {
            "text/plain": [
              "1    153485\n",
              "0    153485\n",
              "Name: FIRE_OCCURRED, dtype: int64"
            ]
          },
          "metadata": {}
        },
        {
          "output_type": "stream",
          "name": "stdout",
          "text": [
            "time: 21.6 ms (started: 2023-01-16 12:47:23 +00:00)\n"
          ]
        }
      ]
    },
    {
      "cell_type": "code",
      "source": [
        "display(y_test.value_counts())"
      ],
      "metadata": {
        "id": "qkyja7zKOJhE",
        "colab": {
          "base_uri": "https://localhost:8080/",
          "height": 86
        },
        "outputId": "cc41dfbc-f47f-48d5-a53d-7b74c99e97c5"
      },
      "execution_count": 39,
      "outputs": [
        {
          "output_type": "display_data",
          "data": {
            "text/plain": [
              "0    17059\n",
              "1      131\n",
              "Name: FIRE_OCCURRED, dtype: int64"
            ]
          },
          "metadata": {}
        },
        {
          "output_type": "stream",
          "name": "stdout",
          "text": [
            "time: 11.2 ms (started: 2023-01-16 12:47:23 +00:00)\n"
          ]
        }
      ]
    },
    {
      "cell_type": "code",
      "source": [
        "ann_clf.compile(optimizer = 'adam', \n",
        "                metrics=['accuracy'], \n",
        "                loss ='binary_crossentropy')\n",
        "\n",
        "record = ann_clf.fit(\n",
        "            X_train, \n",
        "            y_train, \n",
        "            validation_data = (X_test, y_test), \n",
        "            batch_size = 15, \n",
        "            epochs = 50)"
      ],
      "metadata": {
        "colab": {
          "base_uri": "https://localhost:8080/"
        },
        "id": "4C_TvCF9qn6S",
        "outputId": "f7a597e1-46c4-4207-ceff-1f28f89242ae"
      },
      "execution_count": 40,
      "outputs": [
        {
          "output_type": "stream",
          "name": "stdout",
          "text": [
            "Epoch 1/50\n",
            "20465/20465 [==============================] - 51s 2ms/step - loss: 0.2060 - accuracy: 0.9237 - val_loss: 0.2158 - val_accuracy: 0.9000\n",
            "Epoch 2/50\n",
            "20465/20465 [==============================] - 50s 2ms/step - loss: 0.1613 - accuracy: 0.9418 - val_loss: 0.1874 - val_accuracy: 0.9163\n",
            "Epoch 3/50\n",
            "20465/20465 [==============================] - 50s 2ms/step - loss: 0.1538 - accuracy: 0.9437 - val_loss: 0.1529 - val_accuracy: 0.9328\n",
            "Epoch 4/50\n",
            "20465/20465 [==============================] - 48s 2ms/step - loss: 0.1492 - accuracy: 0.9463 - val_loss: 0.1872 - val_accuracy: 0.9208\n",
            "Epoch 5/50\n",
            "20465/20465 [==============================] - 50s 2ms/step - loss: 0.1453 - accuracy: 0.9485 - val_loss: 0.1644 - val_accuracy: 0.9313\n",
            "Epoch 6/50\n",
            "20465/20465 [==============================] - 48s 2ms/step - loss: 0.1416 - accuracy: 0.9501 - val_loss: 0.1646 - val_accuracy: 0.9300\n",
            "Epoch 7/50\n",
            "20465/20465 [==============================] - 46s 2ms/step - loss: 0.1385 - accuracy: 0.9515 - val_loss: 0.1719 - val_accuracy: 0.9317\n",
            "Epoch 8/50\n",
            "20465/20465 [==============================] - 47s 2ms/step - loss: 0.1358 - accuracy: 0.9529 - val_loss: 0.1468 - val_accuracy: 0.9392\n",
            "Epoch 9/50\n",
            "20465/20465 [==============================] - 47s 2ms/step - loss: 0.1345 - accuracy: 0.9540 - val_loss: 0.1487 - val_accuracy: 0.9411\n",
            "Epoch 10/50\n",
            "20465/20465 [==============================] - 46s 2ms/step - loss: 0.1330 - accuracy: 0.9546 - val_loss: 0.1471 - val_accuracy: 0.9398\n",
            "Epoch 11/50\n",
            "20465/20465 [==============================] - 45s 2ms/step - loss: 0.1323 - accuracy: 0.9550 - val_loss: 0.1807 - val_accuracy: 0.9311\n",
            "Epoch 12/50\n",
            "20465/20465 [==============================] - 46s 2ms/step - loss: 0.1312 - accuracy: 0.9554 - val_loss: 0.1670 - val_accuracy: 0.9353\n",
            "Epoch 13/50\n",
            "20465/20465 [==============================] - 45s 2ms/step - loss: 0.1306 - accuracy: 0.9555 - val_loss: 0.1880 - val_accuracy: 0.9289\n",
            "Epoch 14/50\n",
            "20465/20465 [==============================] - 45s 2ms/step - loss: 0.1301 - accuracy: 0.9561 - val_loss: 0.1654 - val_accuracy: 0.9346\n",
            "Epoch 15/50\n",
            "20465/20465 [==============================] - 46s 2ms/step - loss: 0.1291 - accuracy: 0.9566 - val_loss: 0.1572 - val_accuracy: 0.9380\n",
            "Epoch 16/50\n",
            "20465/20465 [==============================] - 45s 2ms/step - loss: 0.1280 - accuracy: 0.9569 - val_loss: 0.1243 - val_accuracy: 0.9485\n",
            "Epoch 17/50\n",
            "20465/20465 [==============================] - 45s 2ms/step - loss: 0.1273 - accuracy: 0.9569 - val_loss: 0.1719 - val_accuracy: 0.9333\n",
            "Epoch 18/50\n",
            "20465/20465 [==============================] - 46s 2ms/step - loss: 0.1264 - accuracy: 0.9576 - val_loss: 0.1949 - val_accuracy: 0.9269\n",
            "Epoch 19/50\n",
            "20465/20465 [==============================] - 54s 3ms/step - loss: 0.1257 - accuracy: 0.9574 - val_loss: 0.1422 - val_accuracy: 0.9457\n",
            "Epoch 20/50\n",
            "20465/20465 [==============================] - 56s 3ms/step - loss: 0.1250 - accuracy: 0.9581 - val_loss: 0.1698 - val_accuracy: 0.9352\n",
            "Epoch 21/50\n",
            "20465/20465 [==============================] - 56s 3ms/step - loss: 0.1247 - accuracy: 0.9583 - val_loss: 0.1655 - val_accuracy: 0.9360\n",
            "Epoch 22/50\n",
            "20465/20465 [==============================] - 55s 3ms/step - loss: 0.1245 - accuracy: 0.9583 - val_loss: 0.1856 - val_accuracy: 0.9310\n",
            "Epoch 23/50\n",
            "20465/20465 [==============================] - 53s 3ms/step - loss: 0.1240 - accuracy: 0.9588 - val_loss: 0.1369 - val_accuracy: 0.9460\n",
            "Epoch 24/50\n",
            "20465/20465 [==============================] - 56s 3ms/step - loss: 0.1237 - accuracy: 0.9587 - val_loss: 0.1610 - val_accuracy: 0.9369\n",
            "Epoch 25/50\n",
            "20465/20465 [==============================] - 61s 3ms/step - loss: 0.1230 - accuracy: 0.9587 - val_loss: 0.1554 - val_accuracy: 0.9396\n",
            "Epoch 26/50\n",
            "20465/20465 [==============================] - 57s 3ms/step - loss: 0.1229 - accuracy: 0.9590 - val_loss: 0.1926 - val_accuracy: 0.9282\n",
            "Epoch 27/50\n",
            "20465/20465 [==============================] - 57s 3ms/step - loss: 0.1225 - accuracy: 0.9591 - val_loss: 0.1861 - val_accuracy: 0.9300\n",
            "Epoch 28/50\n",
            "20465/20465 [==============================] - 56s 3ms/step - loss: 0.1225 - accuracy: 0.9588 - val_loss: 0.1343 - val_accuracy: 0.9468\n",
            "Epoch 29/50\n",
            "20465/20465 [==============================] - 51s 2ms/step - loss: 0.1221 - accuracy: 0.9592 - val_loss: 0.1696 - val_accuracy: 0.9348\n",
            "Epoch 30/50\n",
            "20465/20465 [==============================] - 51s 3ms/step - loss: 0.1219 - accuracy: 0.9595 - val_loss: 0.1446 - val_accuracy: 0.9446\n",
            "Epoch 31/50\n",
            "20465/20465 [==============================] - 56s 3ms/step - loss: 0.1217 - accuracy: 0.9594 - val_loss: 0.1807 - val_accuracy: 0.9311\n",
            "Epoch 32/50\n",
            "20465/20465 [==============================] - 55s 3ms/step - loss: 0.1214 - accuracy: 0.9594 - val_loss: 0.1325 - val_accuracy: 0.9478\n",
            "Epoch 33/50\n",
            "20465/20465 [==============================] - 56s 3ms/step - loss: 0.1210 - accuracy: 0.9598 - val_loss: 0.1462 - val_accuracy: 0.9419\n",
            "Epoch 34/50\n",
            "20465/20465 [==============================] - 58s 3ms/step - loss: 0.1204 - accuracy: 0.9601 - val_loss: 0.1675 - val_accuracy: 0.9365\n",
            "Epoch 35/50\n",
            "20465/20465 [==============================] - 58s 3ms/step - loss: 0.1203 - accuracy: 0.9599 - val_loss: 0.1277 - val_accuracy: 0.9493\n",
            "Epoch 36/50\n",
            "20465/20465 [==============================] - 59s 3ms/step - loss: 0.1202 - accuracy: 0.9601 - val_loss: 0.1728 - val_accuracy: 0.9330\n",
            "Epoch 37/50\n",
            "20465/20465 [==============================] - 57s 3ms/step - loss: 0.1197 - accuracy: 0.9604 - val_loss: 0.1427 - val_accuracy: 0.9462\n",
            "Epoch 38/50\n",
            "20465/20465 [==============================] - 59s 3ms/step - loss: 0.1194 - accuracy: 0.9604 - val_loss: 0.1630 - val_accuracy: 0.9382\n",
            "Epoch 39/50\n",
            "20465/20465 [==============================] - 55s 3ms/step - loss: 0.1192 - accuracy: 0.9604 - val_loss: 0.1516 - val_accuracy: 0.9411\n",
            "Epoch 40/50\n",
            "20465/20465 [==============================] - 50s 2ms/step - loss: 0.1188 - accuracy: 0.9606 - val_loss: 0.1486 - val_accuracy: 0.9418\n",
            "Epoch 41/50\n",
            "20465/20465 [==============================] - 52s 3ms/step - loss: 0.1186 - accuracy: 0.9607 - val_loss: 0.1521 - val_accuracy: 0.9422\n",
            "Epoch 42/50\n",
            "20465/20465 [==============================] - 52s 3ms/step - loss: 0.1183 - accuracy: 0.9606 - val_loss: 0.1361 - val_accuracy: 0.9472\n",
            "Epoch 43/50\n",
            "20465/20465 [==============================] - 53s 3ms/step - loss: 0.1181 - accuracy: 0.9609 - val_loss: 0.1461 - val_accuracy: 0.9436\n",
            "Epoch 44/50\n",
            "20465/20465 [==============================] - 54s 3ms/step - loss: 0.1179 - accuracy: 0.9610 - val_loss: 0.1663 - val_accuracy: 0.9351\n",
            "Epoch 45/50\n",
            "20465/20465 [==============================] - 52s 3ms/step - loss: 0.1177 - accuracy: 0.9613 - val_loss: 0.1444 - val_accuracy: 0.9436\n",
            "Epoch 46/50\n",
            "20465/20465 [==============================] - 50s 2ms/step - loss: 0.1174 - accuracy: 0.9612 - val_loss: 0.1280 - val_accuracy: 0.9496\n",
            "Epoch 47/50\n",
            "20465/20465 [==============================] - 48s 2ms/step - loss: 0.1173 - accuracy: 0.9615 - val_loss: 0.1378 - val_accuracy: 0.9465\n",
            "Epoch 48/50\n",
            "20465/20465 [==============================] - 50s 2ms/step - loss: 0.1172 - accuracy: 0.9612 - val_loss: 0.1531 - val_accuracy: 0.9417\n",
            "Epoch 49/50\n",
            "20465/20465 [==============================] - 51s 2ms/step - loss: 0.1170 - accuracy: 0.9614 - val_loss: 0.1224 - val_accuracy: 0.9499\n",
            "Epoch 50/50\n",
            "20465/20465 [==============================] - 50s 2ms/step - loss: 0.1167 - accuracy: 0.9615 - val_loss: 0.1587 - val_accuracy: 0.9421\n",
            "time: 43min 22s (started: 2023-01-16 12:47:23 +00:00)\n"
          ]
        }
      ]
    },
    {
      "cell_type": "code",
      "source": [
        "y_true = y_test\n",
        "prediction = ann_clf.predict(X_test)\n",
        "prediction = pd.Series(prediction[:, 0])\n",
        "y_pred = []\n",
        "\n",
        "for i in range(len(prediction)):\n",
        "  if prediction[i] >= 0.5:\n",
        "    y_pred.append(1)\n",
        "  else:\n",
        "    y_pred.append(0)\n",
        "\n",
        "evaluation_results = evaluation_metrics(y_true, y_pred)\n",
        "\n",
        "models_final = models_final.append({'model_name': name, \n",
        "                        'model': ann_clf, \n",
        "                        'parameters': ann_clf.layers}, \n",
        "                       ignore_index=True)\n",
        "\n",
        "models_test = models_test.append({'model_name': name, \n",
        "                                  'confusion_matrix' : evaluation_results[0], \n",
        "                                  'accuracy': evaluation_results[1], \n",
        "                                  'recall' : evaluation_results[2], \n",
        "                                  'f1_score': evaluation_results[3],\n",
        "                                  'roc_auc_score': evaluation_results[4]}, \n",
        "                                 ignore_index=True)"
      ],
      "metadata": {
        "colab": {
          "base_uri": "https://localhost:8080/"
        },
        "id": "GLO1dYakqo_E",
        "outputId": "13a92d1c-1ad4-451a-c923-38bd5e30ba04"
      },
      "execution_count": 41,
      "outputs": [
        {
          "output_type": "stream",
          "name": "stdout",
          "text": [
            "538/538 [==============================] - 1s 1ms/step\n",
            "time: 1.18 s (started: 2023-01-16 13:30:46 +00:00)\n"
          ]
        }
      ]
    },
    {
      "cell_type": "code",
      "source": [
        "# Save Model\n",
        "ann_clf.save('ann_clf.h5') \n",
        "\n",
        "# Load Model\n",
        "# ann_clf = tf.keras.models.load_model('ann_clf.h5')"
      ],
      "metadata": {
        "colab": {
          "base_uri": "https://localhost:8080/"
        },
        "id": "wgQfzUyyqp46",
        "outputId": "f7dcd59f-afe9-45fd-cfe8-3709b7e401d5"
      },
      "execution_count": 42,
      "outputs": [
        {
          "output_type": "stream",
          "name": "stdout",
          "text": [
            "time: 28.9 ms (started: 2023-01-16 13:30:47 +00:00)\n"
          ]
        }
      ]
    },
    {
      "cell_type": "markdown",
      "source": [
        "## Voting Classifier\n",
        "- Library: Scikit-learn, Keras, Tensorflow\n",
        "\n",
        "**Best Parameters:**\n",
        "\n",
        "{'voting': 'hard'}"
      ],
      "metadata": {
        "id": "2splAOL5vKme"
      }
    },
    {
      "cell_type": "code",
      "source": [
        "display(models_test)"
      ],
      "metadata": {
        "colab": {
          "base_uri": "https://localhost:8080/",
          "height": 380
        },
        "id": "5eBqT3Crqq_O",
        "outputId": "94ad9c9c-2d7d-478e-cad4-efd70f01a062"
      },
      "execution_count": 43,
      "outputs": [
        {
          "output_type": "display_data",
          "data": {
            "text/plain": [
              "     model_name        confusion_matrix  accuracy    recall  f1_score  \\\n",
              "0       log_clf   [13920, 3139, 39, 92]  0.815125  0.702290  0.054729   \n",
              "1       svc_clf   [16301, 758, 14, 117]  0.955090  0.893130  0.232604   \n",
              "2     bayes_clf  [11200, 5859, 14, 117]  0.658348  0.893130  0.038317   \n",
              "3     neigh_clf   [16553, 506, 12, 119]  0.969866  0.908397  0.314815   \n",
              "4      tree_clf   [16927, 132, 22, 109]  0.991041  0.832061  0.586022   \n",
              "5       rnd_clf   [16823, 236, 19, 112]  0.985166  0.854962  0.467641   \n",
              "6    gboost_clf    [17008, 51, 21, 110]  0.995812  0.839695  0.753425   \n",
              "7   xgboost_clf    [17001, 58, 22, 109]  0.995346  0.832061  0.731544   \n",
              "8  lightgbm_clf    [16976, 83, 22, 109]  0.993892  0.832061  0.674923   \n",
              "9       ann_clf   [16078, 981, 14, 117]  0.942118  0.893130  0.190399   \n",
              "\n",
              "   roc_auc_score  \n",
              "0       0.759141  \n",
              "1       0.924348  \n",
              "2       0.774837  \n",
              "3       0.939368  \n",
              "4       0.912162  \n",
              "5       0.920564  \n",
              "6       0.918353  \n",
              "7       0.914331  \n",
              "8       0.913598  \n",
              "9       0.917812  "
            ],
            "text/html": [
              "\n",
              "  <div id=\"df-afb1e683-7a08-4382-9245-690b56ed943c\">\n",
              "    <div class=\"colab-df-container\">\n",
              "      <div>\n",
              "<style scoped>\n",
              "    .dataframe tbody tr th:only-of-type {\n",
              "        vertical-align: middle;\n",
              "    }\n",
              "\n",
              "    .dataframe tbody tr th {\n",
              "        vertical-align: top;\n",
              "    }\n",
              "\n",
              "    .dataframe thead th {\n",
              "        text-align: right;\n",
              "    }\n",
              "</style>\n",
              "<table border=\"1\" class=\"dataframe\">\n",
              "  <thead>\n",
              "    <tr style=\"text-align: right;\">\n",
              "      <th></th>\n",
              "      <th>model_name</th>\n",
              "      <th>confusion_matrix</th>\n",
              "      <th>accuracy</th>\n",
              "      <th>recall</th>\n",
              "      <th>f1_score</th>\n",
              "      <th>roc_auc_score</th>\n",
              "    </tr>\n",
              "  </thead>\n",
              "  <tbody>\n",
              "    <tr>\n",
              "      <th>0</th>\n",
              "      <td>log_clf</td>\n",
              "      <td>[13920, 3139, 39, 92]</td>\n",
              "      <td>0.815125</td>\n",
              "      <td>0.702290</td>\n",
              "      <td>0.054729</td>\n",
              "      <td>0.759141</td>\n",
              "    </tr>\n",
              "    <tr>\n",
              "      <th>1</th>\n",
              "      <td>svc_clf</td>\n",
              "      <td>[16301, 758, 14, 117]</td>\n",
              "      <td>0.955090</td>\n",
              "      <td>0.893130</td>\n",
              "      <td>0.232604</td>\n",
              "      <td>0.924348</td>\n",
              "    </tr>\n",
              "    <tr>\n",
              "      <th>2</th>\n",
              "      <td>bayes_clf</td>\n",
              "      <td>[11200, 5859, 14, 117]</td>\n",
              "      <td>0.658348</td>\n",
              "      <td>0.893130</td>\n",
              "      <td>0.038317</td>\n",
              "      <td>0.774837</td>\n",
              "    </tr>\n",
              "    <tr>\n",
              "      <th>3</th>\n",
              "      <td>neigh_clf</td>\n",
              "      <td>[16553, 506, 12, 119]</td>\n",
              "      <td>0.969866</td>\n",
              "      <td>0.908397</td>\n",
              "      <td>0.314815</td>\n",
              "      <td>0.939368</td>\n",
              "    </tr>\n",
              "    <tr>\n",
              "      <th>4</th>\n",
              "      <td>tree_clf</td>\n",
              "      <td>[16927, 132, 22, 109]</td>\n",
              "      <td>0.991041</td>\n",
              "      <td>0.832061</td>\n",
              "      <td>0.586022</td>\n",
              "      <td>0.912162</td>\n",
              "    </tr>\n",
              "    <tr>\n",
              "      <th>5</th>\n",
              "      <td>rnd_clf</td>\n",
              "      <td>[16823, 236, 19, 112]</td>\n",
              "      <td>0.985166</td>\n",
              "      <td>0.854962</td>\n",
              "      <td>0.467641</td>\n",
              "      <td>0.920564</td>\n",
              "    </tr>\n",
              "    <tr>\n",
              "      <th>6</th>\n",
              "      <td>gboost_clf</td>\n",
              "      <td>[17008, 51, 21, 110]</td>\n",
              "      <td>0.995812</td>\n",
              "      <td>0.839695</td>\n",
              "      <td>0.753425</td>\n",
              "      <td>0.918353</td>\n",
              "    </tr>\n",
              "    <tr>\n",
              "      <th>7</th>\n",
              "      <td>xgboost_clf</td>\n",
              "      <td>[17001, 58, 22, 109]</td>\n",
              "      <td>0.995346</td>\n",
              "      <td>0.832061</td>\n",
              "      <td>0.731544</td>\n",
              "      <td>0.914331</td>\n",
              "    </tr>\n",
              "    <tr>\n",
              "      <th>8</th>\n",
              "      <td>lightgbm_clf</td>\n",
              "      <td>[16976, 83, 22, 109]</td>\n",
              "      <td>0.993892</td>\n",
              "      <td>0.832061</td>\n",
              "      <td>0.674923</td>\n",
              "      <td>0.913598</td>\n",
              "    </tr>\n",
              "    <tr>\n",
              "      <th>9</th>\n",
              "      <td>ann_clf</td>\n",
              "      <td>[16078, 981, 14, 117]</td>\n",
              "      <td>0.942118</td>\n",
              "      <td>0.893130</td>\n",
              "      <td>0.190399</td>\n",
              "      <td>0.917812</td>\n",
              "    </tr>\n",
              "  </tbody>\n",
              "</table>\n",
              "</div>\n",
              "      <button class=\"colab-df-convert\" onclick=\"convertToInteractive('df-afb1e683-7a08-4382-9245-690b56ed943c')\"\n",
              "              title=\"Convert this dataframe to an interactive table.\"\n",
              "              style=\"display:none;\">\n",
              "        \n",
              "  <svg xmlns=\"http://www.w3.org/2000/svg\" height=\"24px\"viewBox=\"0 0 24 24\"\n",
              "       width=\"24px\">\n",
              "    <path d=\"M0 0h24v24H0V0z\" fill=\"none\"/>\n",
              "    <path d=\"M18.56 5.44l.94 2.06.94-2.06 2.06-.94-2.06-.94-.94-2.06-.94 2.06-2.06.94zm-11 1L8.5 8.5l.94-2.06 2.06-.94-2.06-.94L8.5 2.5l-.94 2.06-2.06.94zm10 10l.94 2.06.94-2.06 2.06-.94-2.06-.94-.94-2.06-.94 2.06-2.06.94z\"/><path d=\"M17.41 7.96l-1.37-1.37c-.4-.4-.92-.59-1.43-.59-.52 0-1.04.2-1.43.59L10.3 9.45l-7.72 7.72c-.78.78-.78 2.05 0 2.83L4 21.41c.39.39.9.59 1.41.59.51 0 1.02-.2 1.41-.59l7.78-7.78 2.81-2.81c.8-.78.8-2.07 0-2.86zM5.41 20L4 18.59l7.72-7.72 1.47 1.35L5.41 20z\"/>\n",
              "  </svg>\n",
              "      </button>\n",
              "      \n",
              "  <style>\n",
              "    .colab-df-container {\n",
              "      display:flex;\n",
              "      flex-wrap:wrap;\n",
              "      gap: 12px;\n",
              "    }\n",
              "\n",
              "    .colab-df-convert {\n",
              "      background-color: #E8F0FE;\n",
              "      border: none;\n",
              "      border-radius: 50%;\n",
              "      cursor: pointer;\n",
              "      display: none;\n",
              "      fill: #1967D2;\n",
              "      height: 32px;\n",
              "      padding: 0 0 0 0;\n",
              "      width: 32px;\n",
              "    }\n",
              "\n",
              "    .colab-df-convert:hover {\n",
              "      background-color: #E2EBFA;\n",
              "      box-shadow: 0px 1px 2px rgba(60, 64, 67, 0.3), 0px 1px 3px 1px rgba(60, 64, 67, 0.15);\n",
              "      fill: #174EA6;\n",
              "    }\n",
              "\n",
              "    [theme=dark] .colab-df-convert {\n",
              "      background-color: #3B4455;\n",
              "      fill: #D2E3FC;\n",
              "    }\n",
              "\n",
              "    [theme=dark] .colab-df-convert:hover {\n",
              "      background-color: #434B5C;\n",
              "      box-shadow: 0px 1px 3px 1px rgba(0, 0, 0, 0.15);\n",
              "      filter: drop-shadow(0px 1px 2px rgba(0, 0, 0, 0.3));\n",
              "      fill: #FFFFFF;\n",
              "    }\n",
              "  </style>\n",
              "\n",
              "      <script>\n",
              "        const buttonEl =\n",
              "          document.querySelector('#df-afb1e683-7a08-4382-9245-690b56ed943c button.colab-df-convert');\n",
              "        buttonEl.style.display =\n",
              "          google.colab.kernel.accessAllowed ? 'block' : 'none';\n",
              "\n",
              "        async function convertToInteractive(key) {\n",
              "          const element = document.querySelector('#df-afb1e683-7a08-4382-9245-690b56ed943c');\n",
              "          const dataTable =\n",
              "            await google.colab.kernel.invokeFunction('convertToInteractive',\n",
              "                                                     [key], {});\n",
              "          if (!dataTable) return;\n",
              "\n",
              "          const docLinkHtml = 'Like what you see? Visit the ' +\n",
              "            '<a target=\"_blank\" href=https://colab.research.google.com/notebooks/data_table.ipynb>data table notebook</a>'\n",
              "            + ' to learn more about interactive tables.';\n",
              "          element.innerHTML = '';\n",
              "          dataTable['output_type'] = 'display_data';\n",
              "          await google.colab.output.renderOutput(dataTable, element);\n",
              "          const docLink = document.createElement('div');\n",
              "          docLink.innerHTML = docLinkHtml;\n",
              "          element.appendChild(docLink);\n",
              "        }\n",
              "      </script>\n",
              "    </div>\n",
              "  </div>\n",
              "  "
            ]
          },
          "metadata": {}
        },
        {
          "output_type": "stream",
          "name": "stdout",
          "text": [
            "time: 22.9 ms (started: 2023-01-16 13:30:47 +00:00)\n"
          ]
        }
      ]
    },
    {
      "cell_type": "code",
      "source": [
        "print('Best Model By Accuracy')\n",
        "print(models_test.loc[models_test['accuracy'] == max(models_test['accuracy'])].model_name.to_string(index=False))\n",
        "print('-----------------------')\n",
        "print('Best Model By Recall')\n",
        "print(models_test.loc[models_test['recall'] == max(models_test['recall'])].model_name.to_string(index=False))\n",
        "print('-----------------------')\n",
        "print('Best Model By F1')\n",
        "print(models_test.loc[models_test['f1_score'] == max(models_test['f1_score'])].model_name.to_string(index=False))\n",
        "print('-----------------------')\n",
        "print('Best Model By ROC')\n",
        "print(models_test.loc[models_test['roc_auc_score'] == max(models_test['roc_auc_score'])].model_name.to_string(index=False))\n",
        "print('-----------------------')"
      ],
      "metadata": {
        "colab": {
          "base_uri": "https://localhost:8080/"
        },
        "id": "c0qTEysxqsdg",
        "outputId": "19c85968-3228-43b8-e9f3-d6bed8cf2dba"
      },
      "execution_count": 44,
      "outputs": [
        {
          "output_type": "stream",
          "name": "stdout",
          "text": [
            "Best Model By Accuracy\n",
            "gboost_clf\n",
            "-----------------------\n",
            "Best Model By Recall\n",
            "neigh_clf\n",
            "-----------------------\n",
            "Best Model By F1\n",
            "gboost_clf\n",
            "-----------------------\n",
            "Best Model By ROC\n",
            "neigh_clf\n",
            "-----------------------\n",
            "time: 17.2 ms (started: 2023-01-16 13:30:47 +00:00)\n"
          ]
        }
      ]
    },
    {
      "cell_type": "code",
      "source": [
        "name = 'ensem_clf'\n",
        "\n",
        "ensem_clf = VotingClassifier(estimators=[('m1', neigh_clf), ('m2', gboost_clf), ('m3', xgboost_clf)],\n",
        "                             voting = 'hard',\n",
        "                             n_jobs = -1, \n",
        "                             ).fit(X_train,y_train)\n",
        "\n",
        "y_true = y_test\n",
        "y_pred = ensem_clf.predict(X_test)\n",
        "evaluation_results = evaluation_metrics(y_true, y_pred)\n",
        "\n",
        "models_final = models_final.append({'model_name': name, \n",
        "                        'model': ensem_clf, \n",
        "                        'parameters': ensem_clf.get_params()}, \n",
        "                       ignore_index=True)\n",
        "\n",
        "models_test = models_test.append({'model_name': name, \n",
        "                                  'confusion_matrix' : evaluation_results[0], \n",
        "                                  'accuracy': evaluation_results[1], \n",
        "                                  'recall' : evaluation_results[2], \n",
        "                                  'f1_score': evaluation_results[3],\n",
        "                                  'roc_auc_score': evaluation_results[4]}, \n",
        "                                 ignore_index=True)"
      ],
      "metadata": {
        "id": "zAD2-7T59-4w"
      },
      "execution_count": null,
      "outputs": []
    },
    {
      "cell_type": "code",
      "source": [
        "# Save Model\n",
        "pickle.dump(ensem_clf, open('ensem_clf.sav', 'wb')) \n",
        "\n",
        "# Load Model\n",
        "# ensem_clf = pickle.load(open('ensem_clf.sav', 'rb'))"
      ],
      "metadata": {
        "id": "Tksl4oVw9_qK"
      },
      "execution_count": null,
      "outputs": []
    },
    {
      "cell_type": "markdown",
      "source": [
        "# Model Testing Result"
      ],
      "metadata": {
        "id": "X5HHciHoO1we"
      }
    },
    {
      "cell_type": "markdown",
      "source": [
        "### Results"
      ],
      "metadata": {
        "id": "xE9WvYWP_ZCf"
      }
    },
    {
      "cell_type": "code",
      "source": [
        "display(models_final)"
      ],
      "metadata": {
        "id": "RNhaMzBeO39g",
        "colab": {
          "base_uri": "https://localhost:8080/",
          "height": 380
        },
        "outputId": "ec778adb-5000-475a-a46a-643911cfad73"
      },
      "execution_count": 46,
      "outputs": [
        {
          "output_type": "display_data",
          "data": {
            "text/plain": [
              "     model_name                                              model  \\\n",
              "0       log_clf  LogisticRegression(C=0, max_iter=331, n_jobs=-...   \n",
              "1       svc_clf  SVC(C=8, class_weight='balanced', random_state...   \n",
              "2     bayes_clf                    GaussianNB(var_smoothing=0.001)   \n",
              "3     neigh_clf  KNeighborsClassifier(algorithm='kd_tree', n_jo...   \n",
              "4      tree_clf  DecisionTreeClassifier(criterion='entropy', ma...   \n",
              "5       rnd_clf  (DecisionTreeClassifier(max_depth=18, max_feat...   \n",
              "6    gboost_clf  ([DecisionTreeRegressor(criterion='friedman_ms...   \n",
              "7   xgboost_clf  XGBClassifier(max_depth=8, min_child_weight=7,...   \n",
              "8  lightgbm_clf  LGBMClassifier(learning_rate=0.05, max_depth=8...   \n",
              "9       ann_clf  <keras.engine.sequential.Sequential object at ...   \n",
              "\n",
              "                                          parameters  \n",
              "0  {'C': 0, 'class_weight': None, 'dual': False, ...  \n",
              "1  {'C': 8, 'break_ties': False, 'cache_size': 20...  \n",
              "2           {'priors': None, 'var_smoothing': 0.001}  \n",
              "3  {'algorithm': 'kd_tree', 'leaf_size': 30, 'met...  \n",
              "4  {'ccp_alpha': 0.0, 'class_weight': None, 'crit...  \n",
              "5  {'bootstrap': True, 'ccp_alpha': 0.0, 'class_w...  \n",
              "6  {'ccp_alpha': 0.0, 'criterion': 'friedman_mse'...  \n",
              "7  {'base_score': 0.5, 'booster': 'gbtree', 'cols...  \n",
              "8  {'boosting_type': 'gbdt', 'class_weight': None...  \n",
              "9  [<keras.layers.core.dense.Dense object at 0x7f...  "
            ],
            "text/html": [
              "\n",
              "  <div id=\"df-7b057951-5149-4968-8fae-5a3fc23b8ab2\">\n",
              "    <div class=\"colab-df-container\">\n",
              "      <div>\n",
              "<style scoped>\n",
              "    .dataframe tbody tr th:only-of-type {\n",
              "        vertical-align: middle;\n",
              "    }\n",
              "\n",
              "    .dataframe tbody tr th {\n",
              "        vertical-align: top;\n",
              "    }\n",
              "\n",
              "    .dataframe thead th {\n",
              "        text-align: right;\n",
              "    }\n",
              "</style>\n",
              "<table border=\"1\" class=\"dataframe\">\n",
              "  <thead>\n",
              "    <tr style=\"text-align: right;\">\n",
              "      <th></th>\n",
              "      <th>model_name</th>\n",
              "      <th>model</th>\n",
              "      <th>parameters</th>\n",
              "    </tr>\n",
              "  </thead>\n",
              "  <tbody>\n",
              "    <tr>\n",
              "      <th>0</th>\n",
              "      <td>log_clf</td>\n",
              "      <td>LogisticRegression(C=0, max_iter=331, n_jobs=-...</td>\n",
              "      <td>{'C': 0, 'class_weight': None, 'dual': False, ...</td>\n",
              "    </tr>\n",
              "    <tr>\n",
              "      <th>1</th>\n",
              "      <td>svc_clf</td>\n",
              "      <td>SVC(C=8, class_weight='balanced', random_state...</td>\n",
              "      <td>{'C': 8, 'break_ties': False, 'cache_size': 20...</td>\n",
              "    </tr>\n",
              "    <tr>\n",
              "      <th>2</th>\n",
              "      <td>bayes_clf</td>\n",
              "      <td>GaussianNB(var_smoothing=0.001)</td>\n",
              "      <td>{'priors': None, 'var_smoothing': 0.001}</td>\n",
              "    </tr>\n",
              "    <tr>\n",
              "      <th>3</th>\n",
              "      <td>neigh_clf</td>\n",
              "      <td>KNeighborsClassifier(algorithm='kd_tree', n_jo...</td>\n",
              "      <td>{'algorithm': 'kd_tree', 'leaf_size': 30, 'met...</td>\n",
              "    </tr>\n",
              "    <tr>\n",
              "      <th>4</th>\n",
              "      <td>tree_clf</td>\n",
              "      <td>DecisionTreeClassifier(criterion='entropy', ma...</td>\n",
              "      <td>{'ccp_alpha': 0.0, 'class_weight': None, 'crit...</td>\n",
              "    </tr>\n",
              "    <tr>\n",
              "      <th>5</th>\n",
              "      <td>rnd_clf</td>\n",
              "      <td>(DecisionTreeClassifier(max_depth=18, max_feat...</td>\n",
              "      <td>{'bootstrap': True, 'ccp_alpha': 0.0, 'class_w...</td>\n",
              "    </tr>\n",
              "    <tr>\n",
              "      <th>6</th>\n",
              "      <td>gboost_clf</td>\n",
              "      <td>([DecisionTreeRegressor(criterion='friedman_ms...</td>\n",
              "      <td>{'ccp_alpha': 0.0, 'criterion': 'friedman_mse'...</td>\n",
              "    </tr>\n",
              "    <tr>\n",
              "      <th>7</th>\n",
              "      <td>xgboost_clf</td>\n",
              "      <td>XGBClassifier(max_depth=8, min_child_weight=7,...</td>\n",
              "      <td>{'base_score': 0.5, 'booster': 'gbtree', 'cols...</td>\n",
              "    </tr>\n",
              "    <tr>\n",
              "      <th>8</th>\n",
              "      <td>lightgbm_clf</td>\n",
              "      <td>LGBMClassifier(learning_rate=0.05, max_depth=8...</td>\n",
              "      <td>{'boosting_type': 'gbdt', 'class_weight': None...</td>\n",
              "    </tr>\n",
              "    <tr>\n",
              "      <th>9</th>\n",
              "      <td>ann_clf</td>\n",
              "      <td>&lt;keras.engine.sequential.Sequential object at ...</td>\n",
              "      <td>[&lt;keras.layers.core.dense.Dense object at 0x7f...</td>\n",
              "    </tr>\n",
              "  </tbody>\n",
              "</table>\n",
              "</div>\n",
              "      <button class=\"colab-df-convert\" onclick=\"convertToInteractive('df-7b057951-5149-4968-8fae-5a3fc23b8ab2')\"\n",
              "              title=\"Convert this dataframe to an interactive table.\"\n",
              "              style=\"display:none;\">\n",
              "        \n",
              "  <svg xmlns=\"http://www.w3.org/2000/svg\" height=\"24px\"viewBox=\"0 0 24 24\"\n",
              "       width=\"24px\">\n",
              "    <path d=\"M0 0h24v24H0V0z\" fill=\"none\"/>\n",
              "    <path d=\"M18.56 5.44l.94 2.06.94-2.06 2.06-.94-2.06-.94-.94-2.06-.94 2.06-2.06.94zm-11 1L8.5 8.5l.94-2.06 2.06-.94-2.06-.94L8.5 2.5l-.94 2.06-2.06.94zm10 10l.94 2.06.94-2.06 2.06-.94-2.06-.94-.94-2.06-.94 2.06-2.06.94z\"/><path d=\"M17.41 7.96l-1.37-1.37c-.4-.4-.92-.59-1.43-.59-.52 0-1.04.2-1.43.59L10.3 9.45l-7.72 7.72c-.78.78-.78 2.05 0 2.83L4 21.41c.39.39.9.59 1.41.59.51 0 1.02-.2 1.41-.59l7.78-7.78 2.81-2.81c.8-.78.8-2.07 0-2.86zM5.41 20L4 18.59l7.72-7.72 1.47 1.35L5.41 20z\"/>\n",
              "  </svg>\n",
              "      </button>\n",
              "      \n",
              "  <style>\n",
              "    .colab-df-container {\n",
              "      display:flex;\n",
              "      flex-wrap:wrap;\n",
              "      gap: 12px;\n",
              "    }\n",
              "\n",
              "    .colab-df-convert {\n",
              "      background-color: #E8F0FE;\n",
              "      border: none;\n",
              "      border-radius: 50%;\n",
              "      cursor: pointer;\n",
              "      display: none;\n",
              "      fill: #1967D2;\n",
              "      height: 32px;\n",
              "      padding: 0 0 0 0;\n",
              "      width: 32px;\n",
              "    }\n",
              "\n",
              "    .colab-df-convert:hover {\n",
              "      background-color: #E2EBFA;\n",
              "      box-shadow: 0px 1px 2px rgba(60, 64, 67, 0.3), 0px 1px 3px 1px rgba(60, 64, 67, 0.15);\n",
              "      fill: #174EA6;\n",
              "    }\n",
              "\n",
              "    [theme=dark] .colab-df-convert {\n",
              "      background-color: #3B4455;\n",
              "      fill: #D2E3FC;\n",
              "    }\n",
              "\n",
              "    [theme=dark] .colab-df-convert:hover {\n",
              "      background-color: #434B5C;\n",
              "      box-shadow: 0px 1px 3px 1px rgba(0, 0, 0, 0.15);\n",
              "      filter: drop-shadow(0px 1px 2px rgba(0, 0, 0, 0.3));\n",
              "      fill: #FFFFFF;\n",
              "    }\n",
              "  </style>\n",
              "\n",
              "      <script>\n",
              "        const buttonEl =\n",
              "          document.querySelector('#df-7b057951-5149-4968-8fae-5a3fc23b8ab2 button.colab-df-convert');\n",
              "        buttonEl.style.display =\n",
              "          google.colab.kernel.accessAllowed ? 'block' : 'none';\n",
              "\n",
              "        async function convertToInteractive(key) {\n",
              "          const element = document.querySelector('#df-7b057951-5149-4968-8fae-5a3fc23b8ab2');\n",
              "          const dataTable =\n",
              "            await google.colab.kernel.invokeFunction('convertToInteractive',\n",
              "                                                     [key], {});\n",
              "          if (!dataTable) return;\n",
              "\n",
              "          const docLinkHtml = 'Like what you see? Visit the ' +\n",
              "            '<a target=\"_blank\" href=https://colab.research.google.com/notebooks/data_table.ipynb>data table notebook</a>'\n",
              "            + ' to learn more about interactive tables.';\n",
              "          element.innerHTML = '';\n",
              "          dataTable['output_type'] = 'display_data';\n",
              "          await google.colab.output.renderOutput(dataTable, element);\n",
              "          const docLink = document.createElement('div');\n",
              "          docLink.innerHTML = docLinkHtml;\n",
              "          element.appendChild(docLink);\n",
              "        }\n",
              "      </script>\n",
              "    </div>\n",
              "  </div>\n",
              "  "
            ]
          },
          "metadata": {}
        },
        {
          "output_type": "stream",
          "name": "stdout",
          "text": [
            "time: 454 ms (started: 2023-01-16 13:45:27 +00:00)\n"
          ]
        }
      ]
    },
    {
      "cell_type": "code",
      "source": [
        "display(models_test)"
      ],
      "metadata": {
        "id": "w7582rF8O1ll",
        "colab": {
          "base_uri": "https://localhost:8080/",
          "height": 380
        },
        "outputId": "78694124-f22f-4d89-aa95-2e1bc19eaf27"
      },
      "execution_count": 47,
      "outputs": [
        {
          "output_type": "display_data",
          "data": {
            "text/plain": [
              "     model_name        confusion_matrix  accuracy    recall  f1_score  \\\n",
              "0       log_clf   [13920, 3139, 39, 92]  0.815125  0.702290  0.054729   \n",
              "1       svc_clf   [16301, 758, 14, 117]  0.955090  0.893130  0.232604   \n",
              "2     bayes_clf  [11200, 5859, 14, 117]  0.658348  0.893130  0.038317   \n",
              "3     neigh_clf   [16553, 506, 12, 119]  0.969866  0.908397  0.314815   \n",
              "4      tree_clf   [16927, 132, 22, 109]  0.991041  0.832061  0.586022   \n",
              "5       rnd_clf   [16823, 236, 19, 112]  0.985166  0.854962  0.467641   \n",
              "6    gboost_clf    [17008, 51, 21, 110]  0.995812  0.839695  0.753425   \n",
              "7   xgboost_clf    [17001, 58, 22, 109]  0.995346  0.832061  0.731544   \n",
              "8  lightgbm_clf    [16976, 83, 22, 109]  0.993892  0.832061  0.674923   \n",
              "9       ann_clf   [16078, 981, 14, 117]  0.942118  0.893130  0.190399   \n",
              "\n",
              "   roc_auc_score  \n",
              "0       0.759141  \n",
              "1       0.924348  \n",
              "2       0.774837  \n",
              "3       0.939368  \n",
              "4       0.912162  \n",
              "5       0.920564  \n",
              "6       0.918353  \n",
              "7       0.914331  \n",
              "8       0.913598  \n",
              "9       0.917812  "
            ],
            "text/html": [
              "\n",
              "  <div id=\"df-0aa41537-9f21-4d07-a371-c48e6077e1f6\">\n",
              "    <div class=\"colab-df-container\">\n",
              "      <div>\n",
              "<style scoped>\n",
              "    .dataframe tbody tr th:only-of-type {\n",
              "        vertical-align: middle;\n",
              "    }\n",
              "\n",
              "    .dataframe tbody tr th {\n",
              "        vertical-align: top;\n",
              "    }\n",
              "\n",
              "    .dataframe thead th {\n",
              "        text-align: right;\n",
              "    }\n",
              "</style>\n",
              "<table border=\"1\" class=\"dataframe\">\n",
              "  <thead>\n",
              "    <tr style=\"text-align: right;\">\n",
              "      <th></th>\n",
              "      <th>model_name</th>\n",
              "      <th>confusion_matrix</th>\n",
              "      <th>accuracy</th>\n",
              "      <th>recall</th>\n",
              "      <th>f1_score</th>\n",
              "      <th>roc_auc_score</th>\n",
              "    </tr>\n",
              "  </thead>\n",
              "  <tbody>\n",
              "    <tr>\n",
              "      <th>0</th>\n",
              "      <td>log_clf</td>\n",
              "      <td>[13920, 3139, 39, 92]</td>\n",
              "      <td>0.815125</td>\n",
              "      <td>0.702290</td>\n",
              "      <td>0.054729</td>\n",
              "      <td>0.759141</td>\n",
              "    </tr>\n",
              "    <tr>\n",
              "      <th>1</th>\n",
              "      <td>svc_clf</td>\n",
              "      <td>[16301, 758, 14, 117]</td>\n",
              "      <td>0.955090</td>\n",
              "      <td>0.893130</td>\n",
              "      <td>0.232604</td>\n",
              "      <td>0.924348</td>\n",
              "    </tr>\n",
              "    <tr>\n",
              "      <th>2</th>\n",
              "      <td>bayes_clf</td>\n",
              "      <td>[11200, 5859, 14, 117]</td>\n",
              "      <td>0.658348</td>\n",
              "      <td>0.893130</td>\n",
              "      <td>0.038317</td>\n",
              "      <td>0.774837</td>\n",
              "    </tr>\n",
              "    <tr>\n",
              "      <th>3</th>\n",
              "      <td>neigh_clf</td>\n",
              "      <td>[16553, 506, 12, 119]</td>\n",
              "      <td>0.969866</td>\n",
              "      <td>0.908397</td>\n",
              "      <td>0.314815</td>\n",
              "      <td>0.939368</td>\n",
              "    </tr>\n",
              "    <tr>\n",
              "      <th>4</th>\n",
              "      <td>tree_clf</td>\n",
              "      <td>[16927, 132, 22, 109]</td>\n",
              "      <td>0.991041</td>\n",
              "      <td>0.832061</td>\n",
              "      <td>0.586022</td>\n",
              "      <td>0.912162</td>\n",
              "    </tr>\n",
              "    <tr>\n",
              "      <th>5</th>\n",
              "      <td>rnd_clf</td>\n",
              "      <td>[16823, 236, 19, 112]</td>\n",
              "      <td>0.985166</td>\n",
              "      <td>0.854962</td>\n",
              "      <td>0.467641</td>\n",
              "      <td>0.920564</td>\n",
              "    </tr>\n",
              "    <tr>\n",
              "      <th>6</th>\n",
              "      <td>gboost_clf</td>\n",
              "      <td>[17008, 51, 21, 110]</td>\n",
              "      <td>0.995812</td>\n",
              "      <td>0.839695</td>\n",
              "      <td>0.753425</td>\n",
              "      <td>0.918353</td>\n",
              "    </tr>\n",
              "    <tr>\n",
              "      <th>7</th>\n",
              "      <td>xgboost_clf</td>\n",
              "      <td>[17001, 58, 22, 109]</td>\n",
              "      <td>0.995346</td>\n",
              "      <td>0.832061</td>\n",
              "      <td>0.731544</td>\n",
              "      <td>0.914331</td>\n",
              "    </tr>\n",
              "    <tr>\n",
              "      <th>8</th>\n",
              "      <td>lightgbm_clf</td>\n",
              "      <td>[16976, 83, 22, 109]</td>\n",
              "      <td>0.993892</td>\n",
              "      <td>0.832061</td>\n",
              "      <td>0.674923</td>\n",
              "      <td>0.913598</td>\n",
              "    </tr>\n",
              "    <tr>\n",
              "      <th>9</th>\n",
              "      <td>ann_clf</td>\n",
              "      <td>[16078, 981, 14, 117]</td>\n",
              "      <td>0.942118</td>\n",
              "      <td>0.893130</td>\n",
              "      <td>0.190399</td>\n",
              "      <td>0.917812</td>\n",
              "    </tr>\n",
              "  </tbody>\n",
              "</table>\n",
              "</div>\n",
              "      <button class=\"colab-df-convert\" onclick=\"convertToInteractive('df-0aa41537-9f21-4d07-a371-c48e6077e1f6')\"\n",
              "              title=\"Convert this dataframe to an interactive table.\"\n",
              "              style=\"display:none;\">\n",
              "        \n",
              "  <svg xmlns=\"http://www.w3.org/2000/svg\" height=\"24px\"viewBox=\"0 0 24 24\"\n",
              "       width=\"24px\">\n",
              "    <path d=\"M0 0h24v24H0V0z\" fill=\"none\"/>\n",
              "    <path d=\"M18.56 5.44l.94 2.06.94-2.06 2.06-.94-2.06-.94-.94-2.06-.94 2.06-2.06.94zm-11 1L8.5 8.5l.94-2.06 2.06-.94-2.06-.94L8.5 2.5l-.94 2.06-2.06.94zm10 10l.94 2.06.94-2.06 2.06-.94-2.06-.94-.94-2.06-.94 2.06-2.06.94z\"/><path d=\"M17.41 7.96l-1.37-1.37c-.4-.4-.92-.59-1.43-.59-.52 0-1.04.2-1.43.59L10.3 9.45l-7.72 7.72c-.78.78-.78 2.05 0 2.83L4 21.41c.39.39.9.59 1.41.59.51 0 1.02-.2 1.41-.59l7.78-7.78 2.81-2.81c.8-.78.8-2.07 0-2.86zM5.41 20L4 18.59l7.72-7.72 1.47 1.35L5.41 20z\"/>\n",
              "  </svg>\n",
              "      </button>\n",
              "      \n",
              "  <style>\n",
              "    .colab-df-container {\n",
              "      display:flex;\n",
              "      flex-wrap:wrap;\n",
              "      gap: 12px;\n",
              "    }\n",
              "\n",
              "    .colab-df-convert {\n",
              "      background-color: #E8F0FE;\n",
              "      border: none;\n",
              "      border-radius: 50%;\n",
              "      cursor: pointer;\n",
              "      display: none;\n",
              "      fill: #1967D2;\n",
              "      height: 32px;\n",
              "      padding: 0 0 0 0;\n",
              "      width: 32px;\n",
              "    }\n",
              "\n",
              "    .colab-df-convert:hover {\n",
              "      background-color: #E2EBFA;\n",
              "      box-shadow: 0px 1px 2px rgba(60, 64, 67, 0.3), 0px 1px 3px 1px rgba(60, 64, 67, 0.15);\n",
              "      fill: #174EA6;\n",
              "    }\n",
              "\n",
              "    [theme=dark] .colab-df-convert {\n",
              "      background-color: #3B4455;\n",
              "      fill: #D2E3FC;\n",
              "    }\n",
              "\n",
              "    [theme=dark] .colab-df-convert:hover {\n",
              "      background-color: #434B5C;\n",
              "      box-shadow: 0px 1px 3px 1px rgba(0, 0, 0, 0.15);\n",
              "      filter: drop-shadow(0px 1px 2px rgba(0, 0, 0, 0.3));\n",
              "      fill: #FFFFFF;\n",
              "    }\n",
              "  </style>\n",
              "\n",
              "      <script>\n",
              "        const buttonEl =\n",
              "          document.querySelector('#df-0aa41537-9f21-4d07-a371-c48e6077e1f6 button.colab-df-convert');\n",
              "        buttonEl.style.display =\n",
              "          google.colab.kernel.accessAllowed ? 'block' : 'none';\n",
              "\n",
              "        async function convertToInteractive(key) {\n",
              "          const element = document.querySelector('#df-0aa41537-9f21-4d07-a371-c48e6077e1f6');\n",
              "          const dataTable =\n",
              "            await google.colab.kernel.invokeFunction('convertToInteractive',\n",
              "                                                     [key], {});\n",
              "          if (!dataTable) return;\n",
              "\n",
              "          const docLinkHtml = 'Like what you see? Visit the ' +\n",
              "            '<a target=\"_blank\" href=https://colab.research.google.com/notebooks/data_table.ipynb>data table notebook</a>'\n",
              "            + ' to learn more about interactive tables.';\n",
              "          element.innerHTML = '';\n",
              "          dataTable['output_type'] = 'display_data';\n",
              "          await google.colab.output.renderOutput(dataTable, element);\n",
              "          const docLink = document.createElement('div');\n",
              "          docLink.innerHTML = docLinkHtml;\n",
              "          element.appendChild(docLink);\n",
              "        }\n",
              "      </script>\n",
              "    </div>\n",
              "  </div>\n",
              "  "
            ]
          },
          "metadata": {}
        },
        {
          "output_type": "stream",
          "name": "stdout",
          "text": [
            "time: 38.3 ms (started: 2023-01-16 13:45:28 +00:00)\n"
          ]
        }
      ]
    },
    {
      "cell_type": "code",
      "source": [
        "print('Best Model By Accuracy')\n",
        "print(models_test.loc[models_test['accuracy'] == max(models_test['accuracy'])].model_name.to_string(index=False))\n",
        "print('-----------------------')\n",
        "print('Best Model By Recall')\n",
        "print(models_test.loc[models_test['recall'] == max(models_test['recall'])].model_name.to_string(index=False))\n",
        "print('-----------------------')\n",
        "print('Best Model By F1')\n",
        "print(models_test.loc[models_test['f1_score'] == max(models_test['f1_score'])].model_name.to_string(index=False))\n",
        "print('-----------------------')\n",
        "print('Best Model By ROC')\n",
        "print(models_test.loc[models_test['roc_auc_score'] == max(models_test['roc_auc_score'])].model_name.to_string(index=False))\n",
        "print('-----------------------')"
      ],
      "metadata": {
        "id": "UIIwktbiO-KH",
        "colab": {
          "base_uri": "https://localhost:8080/"
        },
        "outputId": "e5b9e68f-2a76-449a-8929-75df2215a729"
      },
      "execution_count": 48,
      "outputs": [
        {
          "output_type": "stream",
          "name": "stdout",
          "text": [
            "Best Model By Accuracy\n",
            "gboost_clf\n",
            "-----------------------\n",
            "Best Model By Recall\n",
            "neigh_clf\n",
            "-----------------------\n",
            "Best Model By F1\n",
            "gboost_clf\n",
            "-----------------------\n",
            "Best Model By ROC\n",
            "neigh_clf\n",
            "-----------------------\n",
            "time: 39.9 ms (started: 2023-01-16 13:45:28 +00:00)\n"
          ]
        }
      ]
    },
    {
      "cell_type": "code",
      "source": [
        "models_final.to_csv('models_testing.csv')\n",
        "!cp models_testing.csv \"drive/My Drive/\""
      ],
      "metadata": {
        "colab": {
          "base_uri": "https://localhost:8080/"
        },
        "id": "n0PrCRYHzizm",
        "outputId": "4f812dd2-91f6-42c4-eca0-760ff99fd708"
      },
      "execution_count": 50,
      "outputs": [
        {
          "output_type": "stream",
          "name": "stdout",
          "text": [
            "time: 263 ms (started: 2023-01-16 13:45:41 +00:00)\n"
          ]
        }
      ]
    },
    {
      "cell_type": "code",
      "source": [
        "models_test.to_csv('models_testing_eval.csv')\n",
        "!cp models_testing_eval.csv \"drive/My Drive/\""
      ],
      "metadata": {
        "colab": {
          "base_uri": "https://localhost:8080/"
        },
        "id": "FkHLKqHfzkC7",
        "outputId": "368e642e-1741-4bb0-df4c-4a9de2b5f988"
      },
      "execution_count": 51,
      "outputs": [
        {
          "output_type": "stream",
          "name": "stdout",
          "text": [
            "time: 225 ms (started: 2023-01-16 13:45:42 +00:00)\n"
          ]
        }
      ]
    },
    {
      "cell_type": "code",
      "source": [
        "result = models_test.reindex([0,1,2,3,4,5,7,6,8,9])\n",
        "result.loc[6,'model_name'] = 'xgboost_clf'\n",
        "result.loc[7,'model_name'] = 'gboost_clf'\n",
        "display(result)"
      ],
      "metadata": {
        "colab": {
          "base_uri": "https://localhost:8080/",
          "height": 380
        },
        "id": "Ocqn154h2vu4",
        "outputId": "62d0b177-ad04-4298-d18c-21ed5c6e3c34"
      },
      "execution_count": 63,
      "outputs": [
        {
          "output_type": "display_data",
          "data": {
            "text/plain": [
              "     model_name        confusion_matrix  accuracy    recall  f1_score  \\\n",
              "0       log_clf   [13920, 3139, 39, 92]  0.815125  0.702290  0.054729   \n",
              "1       svc_clf   [16301, 758, 14, 117]  0.955090  0.893130  0.232604   \n",
              "2     bayes_clf  [11200, 5859, 14, 117]  0.658348  0.893130  0.038317   \n",
              "3     neigh_clf   [16553, 506, 12, 119]  0.969866  0.908397  0.314815   \n",
              "4      tree_clf   [16927, 132, 22, 109]  0.991041  0.832061  0.586022   \n",
              "5       rnd_clf   [16823, 236, 19, 112]  0.985166  0.854962  0.467641   \n",
              "7    gboost_clf    [17001, 58, 22, 109]  0.995346  0.832061  0.731544   \n",
              "6   xgboost_clf    [17008, 51, 21, 110]  0.995812  0.839695  0.753425   \n",
              "8  lightgbm_clf    [16976, 83, 22, 109]  0.993892  0.832061  0.674923   \n",
              "9       ann_clf   [16078, 981, 14, 117]  0.942118  0.893130  0.190399   \n",
              "\n",
              "   roc_auc_score  \n",
              "0       0.759141  \n",
              "1       0.924348  \n",
              "2       0.774837  \n",
              "3       0.939368  \n",
              "4       0.912162  \n",
              "5       0.920564  \n",
              "7       0.914331  \n",
              "6       0.918353  \n",
              "8       0.913598  \n",
              "9       0.917812  "
            ],
            "text/html": [
              "\n",
              "  <div id=\"df-45b46994-270e-4dfc-a1cd-064f9559010d\">\n",
              "    <div class=\"colab-df-container\">\n",
              "      <div>\n",
              "<style scoped>\n",
              "    .dataframe tbody tr th:only-of-type {\n",
              "        vertical-align: middle;\n",
              "    }\n",
              "\n",
              "    .dataframe tbody tr th {\n",
              "        vertical-align: top;\n",
              "    }\n",
              "\n",
              "    .dataframe thead th {\n",
              "        text-align: right;\n",
              "    }\n",
              "</style>\n",
              "<table border=\"1\" class=\"dataframe\">\n",
              "  <thead>\n",
              "    <tr style=\"text-align: right;\">\n",
              "      <th></th>\n",
              "      <th>model_name</th>\n",
              "      <th>confusion_matrix</th>\n",
              "      <th>accuracy</th>\n",
              "      <th>recall</th>\n",
              "      <th>f1_score</th>\n",
              "      <th>roc_auc_score</th>\n",
              "    </tr>\n",
              "  </thead>\n",
              "  <tbody>\n",
              "    <tr>\n",
              "      <th>0</th>\n",
              "      <td>log_clf</td>\n",
              "      <td>[13920, 3139, 39, 92]</td>\n",
              "      <td>0.815125</td>\n",
              "      <td>0.702290</td>\n",
              "      <td>0.054729</td>\n",
              "      <td>0.759141</td>\n",
              "    </tr>\n",
              "    <tr>\n",
              "      <th>1</th>\n",
              "      <td>svc_clf</td>\n",
              "      <td>[16301, 758, 14, 117]</td>\n",
              "      <td>0.955090</td>\n",
              "      <td>0.893130</td>\n",
              "      <td>0.232604</td>\n",
              "      <td>0.924348</td>\n",
              "    </tr>\n",
              "    <tr>\n",
              "      <th>2</th>\n",
              "      <td>bayes_clf</td>\n",
              "      <td>[11200, 5859, 14, 117]</td>\n",
              "      <td>0.658348</td>\n",
              "      <td>0.893130</td>\n",
              "      <td>0.038317</td>\n",
              "      <td>0.774837</td>\n",
              "    </tr>\n",
              "    <tr>\n",
              "      <th>3</th>\n",
              "      <td>neigh_clf</td>\n",
              "      <td>[16553, 506, 12, 119]</td>\n",
              "      <td>0.969866</td>\n",
              "      <td>0.908397</td>\n",
              "      <td>0.314815</td>\n",
              "      <td>0.939368</td>\n",
              "    </tr>\n",
              "    <tr>\n",
              "      <th>4</th>\n",
              "      <td>tree_clf</td>\n",
              "      <td>[16927, 132, 22, 109]</td>\n",
              "      <td>0.991041</td>\n",
              "      <td>0.832061</td>\n",
              "      <td>0.586022</td>\n",
              "      <td>0.912162</td>\n",
              "    </tr>\n",
              "    <tr>\n",
              "      <th>5</th>\n",
              "      <td>rnd_clf</td>\n",
              "      <td>[16823, 236, 19, 112]</td>\n",
              "      <td>0.985166</td>\n",
              "      <td>0.854962</td>\n",
              "      <td>0.467641</td>\n",
              "      <td>0.920564</td>\n",
              "    </tr>\n",
              "    <tr>\n",
              "      <th>7</th>\n",
              "      <td>gboost_clf</td>\n",
              "      <td>[17001, 58, 22, 109]</td>\n",
              "      <td>0.995346</td>\n",
              "      <td>0.832061</td>\n",
              "      <td>0.731544</td>\n",
              "      <td>0.914331</td>\n",
              "    </tr>\n",
              "    <tr>\n",
              "      <th>6</th>\n",
              "      <td>xgboost_clf</td>\n",
              "      <td>[17008, 51, 21, 110]</td>\n",
              "      <td>0.995812</td>\n",
              "      <td>0.839695</td>\n",
              "      <td>0.753425</td>\n",
              "      <td>0.918353</td>\n",
              "    </tr>\n",
              "    <tr>\n",
              "      <th>8</th>\n",
              "      <td>lightgbm_clf</td>\n",
              "      <td>[16976, 83, 22, 109]</td>\n",
              "      <td>0.993892</td>\n",
              "      <td>0.832061</td>\n",
              "      <td>0.674923</td>\n",
              "      <td>0.913598</td>\n",
              "    </tr>\n",
              "    <tr>\n",
              "      <th>9</th>\n",
              "      <td>ann_clf</td>\n",
              "      <td>[16078, 981, 14, 117]</td>\n",
              "      <td>0.942118</td>\n",
              "      <td>0.893130</td>\n",
              "      <td>0.190399</td>\n",
              "      <td>0.917812</td>\n",
              "    </tr>\n",
              "  </tbody>\n",
              "</table>\n",
              "</div>\n",
              "      <button class=\"colab-df-convert\" onclick=\"convertToInteractive('df-45b46994-270e-4dfc-a1cd-064f9559010d')\"\n",
              "              title=\"Convert this dataframe to an interactive table.\"\n",
              "              style=\"display:none;\">\n",
              "        \n",
              "  <svg xmlns=\"http://www.w3.org/2000/svg\" height=\"24px\"viewBox=\"0 0 24 24\"\n",
              "       width=\"24px\">\n",
              "    <path d=\"M0 0h24v24H0V0z\" fill=\"none\"/>\n",
              "    <path d=\"M18.56 5.44l.94 2.06.94-2.06 2.06-.94-2.06-.94-.94-2.06-.94 2.06-2.06.94zm-11 1L8.5 8.5l.94-2.06 2.06-.94-2.06-.94L8.5 2.5l-.94 2.06-2.06.94zm10 10l.94 2.06.94-2.06 2.06-.94-2.06-.94-.94-2.06-.94 2.06-2.06.94z\"/><path d=\"M17.41 7.96l-1.37-1.37c-.4-.4-.92-.59-1.43-.59-.52 0-1.04.2-1.43.59L10.3 9.45l-7.72 7.72c-.78.78-.78 2.05 0 2.83L4 21.41c.39.39.9.59 1.41.59.51 0 1.02-.2 1.41-.59l7.78-7.78 2.81-2.81c.8-.78.8-2.07 0-2.86zM5.41 20L4 18.59l7.72-7.72 1.47 1.35L5.41 20z\"/>\n",
              "  </svg>\n",
              "      </button>\n",
              "      \n",
              "  <style>\n",
              "    .colab-df-container {\n",
              "      display:flex;\n",
              "      flex-wrap:wrap;\n",
              "      gap: 12px;\n",
              "    }\n",
              "\n",
              "    .colab-df-convert {\n",
              "      background-color: #E8F0FE;\n",
              "      border: none;\n",
              "      border-radius: 50%;\n",
              "      cursor: pointer;\n",
              "      display: none;\n",
              "      fill: #1967D2;\n",
              "      height: 32px;\n",
              "      padding: 0 0 0 0;\n",
              "      width: 32px;\n",
              "    }\n",
              "\n",
              "    .colab-df-convert:hover {\n",
              "      background-color: #E2EBFA;\n",
              "      box-shadow: 0px 1px 2px rgba(60, 64, 67, 0.3), 0px 1px 3px 1px rgba(60, 64, 67, 0.15);\n",
              "      fill: #174EA6;\n",
              "    }\n",
              "\n",
              "    [theme=dark] .colab-df-convert {\n",
              "      background-color: #3B4455;\n",
              "      fill: #D2E3FC;\n",
              "    }\n",
              "\n",
              "    [theme=dark] .colab-df-convert:hover {\n",
              "      background-color: #434B5C;\n",
              "      box-shadow: 0px 1px 3px 1px rgba(0, 0, 0, 0.15);\n",
              "      filter: drop-shadow(0px 1px 2px rgba(0, 0, 0, 0.3));\n",
              "      fill: #FFFFFF;\n",
              "    }\n",
              "  </style>\n",
              "\n",
              "      <script>\n",
              "        const buttonEl =\n",
              "          document.querySelector('#df-45b46994-270e-4dfc-a1cd-064f9559010d button.colab-df-convert');\n",
              "        buttonEl.style.display =\n",
              "          google.colab.kernel.accessAllowed ? 'block' : 'none';\n",
              "\n",
              "        async function convertToInteractive(key) {\n",
              "          const element = document.querySelector('#df-45b46994-270e-4dfc-a1cd-064f9559010d');\n",
              "          const dataTable =\n",
              "            await google.colab.kernel.invokeFunction('convertToInteractive',\n",
              "                                                     [key], {});\n",
              "          if (!dataTable) return;\n",
              "\n",
              "          const docLinkHtml = 'Like what you see? Visit the ' +\n",
              "            '<a target=\"_blank\" href=https://colab.research.google.com/notebooks/data_table.ipynb>data table notebook</a>'\n",
              "            + ' to learn more about interactive tables.';\n",
              "          element.innerHTML = '';\n",
              "          dataTable['output_type'] = 'display_data';\n",
              "          await google.colab.output.renderOutput(dataTable, element);\n",
              "          const docLink = document.createElement('div');\n",
              "          docLink.innerHTML = docLinkHtml;\n",
              "          element.appendChild(docLink);\n",
              "        }\n",
              "      </script>\n",
              "    </div>\n",
              "  </div>\n",
              "  "
            ]
          },
          "metadata": {}
        },
        {
          "output_type": "stream",
          "name": "stdout",
          "text": [
            "time: 62.3 ms (started: 2023-01-16 14:05:09 +00:00)\n"
          ]
        }
      ]
    },
    {
      "cell_type": "code",
      "source": [
        "print('Best Model By Accuracy')\n",
        "print(result.loc[result['accuracy'] == max(result['accuracy'])].model_name.to_string(index=False))\n",
        "print('-----------------------')\n",
        "print('Best Model By Recall')\n",
        "print(result.loc[result['recall'] == max(result['recall'])].model_name.to_string(index=False))\n",
        "print('-----------------------')\n",
        "print('Best Model By F1')\n",
        "print(result.loc[result['f1_score'] == max(result['f1_score'])].model_name.to_string(index=False))\n",
        "print('-----------------------')\n",
        "print('Best Model By ROC')\n",
        "print(result.loc[result['roc_auc_score'] == max(result['roc_auc_score'])].model_name.to_string(index=False))\n",
        "print('-----------------------')"
      ],
      "metadata": {
        "colab": {
          "base_uri": "https://localhost:8080/"
        },
        "id": "bs20f2RO5ij-",
        "outputId": "d2126ba4-a475-4199-d555-4723fa79acf2"
      },
      "execution_count": 64,
      "outputs": [
        {
          "output_type": "stream",
          "name": "stdout",
          "text": [
            "Best Model By Accuracy\n",
            "xgboost_clf\n",
            "-----------------------\n",
            "Best Model By Recall\n",
            "neigh_clf\n",
            "-----------------------\n",
            "Best Model By F1\n",
            "xgboost_clf\n",
            "-----------------------\n",
            "Best Model By ROC\n",
            "neigh_clf\n",
            "-----------------------\n",
            "time: 28.4 ms (started: 2023-01-16 14:05:43 +00:00)\n"
          ]
        }
      ]
    },
    {
      "cell_type": "code",
      "source": [
        "result.to_csv('model_testing_result.csv')\n",
        "!cp model_testing_result.csv \"drive/My Drive/\""
      ],
      "metadata": {
        "colab": {
          "base_uri": "https://localhost:8080/"
        },
        "id": "FQEsCb4C57L2",
        "outputId": "38d168c9-9e8b-49ec-97f3-57fa8a8874e3"
      },
      "execution_count": 66,
      "outputs": [
        {
          "output_type": "stream",
          "name": "stdout",
          "text": [
            "time: 180 ms (started: 2023-01-16 14:07:42 +00:00)\n"
          ]
        }
      ]
    },
    {
      "cell_type": "markdown",
      "source": [
        "xgboost_clf is the most suitable model"
      ],
      "metadata": {
        "id": "vsf9xFNJPCDb"
      }
    },
    {
      "cell_type": "markdown",
      "source": [
        "### Model Export"
      ],
      "metadata": {
        "id": "tYjltHZF8cAQ"
      }
    },
    {
      "cell_type": "code",
      "source": [
        "from google.colab import files"
      ],
      "metadata": {
        "id": "bxo9--l78Ji-"
      },
      "execution_count": null,
      "outputs": []
    },
    {
      "cell_type": "code",
      "source": [
        "files.download('log_clf.sav')"
      ],
      "metadata": {
        "id": "2BRGSAxt83LV"
      },
      "execution_count": null,
      "outputs": []
    },
    {
      "cell_type": "code",
      "source": [
        "files.download('svc_clf.sav')"
      ],
      "metadata": {
        "id": "-GnHLJEL87C4"
      },
      "execution_count": null,
      "outputs": []
    },
    {
      "cell_type": "code",
      "source": [
        "files.download('bayes_clf.sav')"
      ],
      "metadata": {
        "id": "WVnf5akh8-oD"
      },
      "execution_count": null,
      "outputs": []
    },
    {
      "cell_type": "code",
      "source": [
        "files.download('neigh_clf.sav')"
      ],
      "metadata": {
        "id": "QwdwJyxs8z6I"
      },
      "execution_count": null,
      "outputs": []
    },
    {
      "cell_type": "code",
      "source": [
        "files.download('tree_clf.sav')"
      ],
      "metadata": {
        "id": "a85jzUOQ9Erx"
      },
      "execution_count": null,
      "outputs": []
    },
    {
      "cell_type": "code",
      "source": [
        "files.download('rnd_clf.sav')"
      ],
      "metadata": {
        "id": "eRm64CVg9Fue"
      },
      "execution_count": null,
      "outputs": []
    },
    {
      "cell_type": "code",
      "source": [
        "files.download('gboost_clf.sav')"
      ],
      "metadata": {
        "id": "12mo0-6z8Mty"
      },
      "execution_count": null,
      "outputs": []
    },
    {
      "cell_type": "code",
      "source": [
        "files.download('xgboost_clf.sav')"
      ],
      "metadata": {
        "id": "cZ0a2GOM-0be"
      },
      "execution_count": null,
      "outputs": []
    },
    {
      "cell_type": "code",
      "source": [
        "files.download('lightgbm_clf.sav')"
      ],
      "metadata": {
        "id": "8sbmH9A69HgB"
      },
      "execution_count": null,
      "outputs": []
    },
    {
      "cell_type": "code",
      "source": [
        "files.download('ann_clf.h5')"
      ],
      "metadata": {
        "id": "pB-G5cB39KHv"
      },
      "execution_count": null,
      "outputs": []
    }
  ]
}