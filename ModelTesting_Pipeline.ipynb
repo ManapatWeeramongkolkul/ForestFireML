{
  "nbformat": 4,
  "nbformat_minor": 0,
  "metadata": {
    "colab": {
      "provenance": [],
      "authorship_tag": "ABX9TyO6ts9SJIBkdZ/akdPhO2Lc"
    },
    "kernelspec": {
      "name": "python3",
      "display_name": "Python 3"
    },
    "language_info": {
      "name": "python"
    }
  },
  "cells": [
    {
      "cell_type": "code",
      "execution_count": null,
      "metadata": {
        "id": "jZr8lVAHyw_I"
      },
      "outputs": [],
      "source": [
        "\n"
      ]
    }
  ]
}