{
  "nbformat": 4,
  "nbformat_minor": 0,
  "metadata": {
    "colab": {
      "provenance": [],
      "toc_visible": true
    },
    "kernelspec": {
      "name": "python3",
      "display_name": "Python 3"
    },
    "language_info": {
      "name": "python"
    },
    "accelerator": "TPU",
    "gpuClass": "standard"
  },
  "cells": [
    {
      "cell_type": "markdown",
      "source": [
        "# Model Testing Pipeline"
      ],
      "metadata": {
        "id": "X0gcT8nXCSrj"
      }
    },
    {
      "cell_type": "markdown",
      "source": [
        "Identifying the best model (considered with best parameters of each respectively)\n",
        "1.   Re-train models using both training and validation data\n",
        "2.   Evaluate models against the testing data"
      ],
      "metadata": {
        "id": "offcn2_6XQuz"
      }
    },
    {
      "cell_type": "code",
      "source": [
        "!pip install ipython-autotime\n",
        "%load_ext autotime"
      ],
      "metadata": {
        "colab": {
          "base_uri": "https://localhost:8080/"
        },
        "id": "-zKkXRudtXOX",
        "outputId": "bcfda7ab-4384-4309-e97c-bb2698e018d8"
      },
      "execution_count": null,
      "outputs": [
        {
          "output_type": "stream",
          "name": "stdout",
          "text": [
            "Looking in indexes: https://pypi.org/simple, https://us-python.pkg.dev/colab-wheels/public/simple/\n",
            "Collecting ipython-autotime\n",
            "  Downloading ipython_autotime-0.3.1-py2.py3-none-any.whl (6.8 kB)\n",
            "Requirement already satisfied: ipython in /usr/local/lib/python3.8/dist-packages (from ipython-autotime) (7.9.0)\n",
            "Requirement already satisfied: backcall in /usr/local/lib/python3.8/dist-packages (from ipython->ipython-autotime) (0.2.0)\n",
            "Requirement already satisfied: pexpect in /usr/local/lib/python3.8/dist-packages (from ipython->ipython-autotime) (4.8.0)\n",
            "Requirement already satisfied: decorator in /usr/local/lib/python3.8/dist-packages (from ipython->ipython-autotime) (4.4.2)\n",
            "Collecting jedi>=0.10\n",
            "  Downloading jedi-0.18.2-py2.py3-none-any.whl (1.6 MB)\n",
            "\u001b[2K     \u001b[90m━━━━━━━━━━━━━━━━━━━━━━━━━━━━━━━━━━━━━━━━\u001b[0m \u001b[32m1.6/1.6 MB\u001b[0m \u001b[31m19.5 MB/s\u001b[0m eta \u001b[36m0:00:00\u001b[0m\n",
            "\u001b[?25hRequirement already satisfied: prompt-toolkit<2.1.0,>=2.0.0 in /usr/local/lib/python3.8/dist-packages (from ipython->ipython-autotime) (2.0.10)\n",
            "Requirement already satisfied: setuptools>=18.5 in /usr/local/lib/python3.8/dist-packages (from ipython->ipython-autotime) (57.4.0)\n",
            "Requirement already satisfied: pygments in /usr/local/lib/python3.8/dist-packages (from ipython->ipython-autotime) (2.6.1)\n",
            "Requirement already satisfied: traitlets>=4.2 in /usr/local/lib/python3.8/dist-packages (from ipython->ipython-autotime) (5.7.1)\n",
            "Requirement already satisfied: pickleshare in /usr/local/lib/python3.8/dist-packages (from ipython->ipython-autotime) (0.7.5)\n",
            "Requirement already satisfied: parso<0.9.0,>=0.8.0 in /usr/local/lib/python3.8/dist-packages (from jedi>=0.10->ipython->ipython-autotime) (0.8.3)\n",
            "Requirement already satisfied: wcwidth in /usr/local/lib/python3.8/dist-packages (from prompt-toolkit<2.1.0,>=2.0.0->ipython->ipython-autotime) (0.2.5)\n",
            "Requirement already satisfied: six>=1.9.0 in /usr/local/lib/python3.8/dist-packages (from prompt-toolkit<2.1.0,>=2.0.0->ipython->ipython-autotime) (1.15.0)\n",
            "Requirement already satisfied: ptyprocess>=0.5 in /usr/local/lib/python3.8/dist-packages (from pexpect->ipython->ipython-autotime) (0.7.0)\n",
            "Installing collected packages: jedi, ipython-autotime\n",
            "Successfully installed ipython-autotime-0.3.1 jedi-0.18.2\n",
            "time: 572 µs (started: 2023-01-16 09:37:09 +00:00)\n"
          ]
        }
      ]
    },
    {
      "cell_type": "code",
      "source": [
        "# Basic Libraries\n",
        "\n",
        "import numpy as np\n",
        "import pandas as pd\n",
        "import seaborn as sb\n",
        "import matplotlib.pyplot as plt\n",
        "from datetime import datetime\n",
        "\n",
        "from google.colab import drive\n",
        "drive.mount('/content/drive')"
      ],
      "metadata": {
        "id": "MHtSfJxdWlq0",
        "colab": {
          "base_uri": "https://localhost:8080/"
        },
        "outputId": "fd357c26-a539-4053-d354-24a6f11bf7af"
      },
      "execution_count": null,
      "outputs": [
        {
          "output_type": "stream",
          "name": "stdout",
          "text": [
            "Mounted at /content/drive\n",
            "time: 19.8 s (started: 2023-01-16 09:37:09 +00:00)\n"
          ]
        }
      ]
    },
    {
      "cell_type": "code",
      "source": [
        "# Data Source\n",
        "\n",
        "df = pd.read_csv(\"/content/drive/MyDrive/cleaned_gee_data.csv\")\n",
        "df = df.drop(columns = ['Unnamed: 0', 'BRIGHTNESS'], axis=1) # BRIGHTNESS deprecated\n",
        "df.head()"
      ],
      "metadata": {
        "id": "0GxSoEprWoLW",
        "outputId": "da7bc54e-7af5-4d29-837b-61442a816530",
        "colab": {
          "base_uri": "https://localhost:8080/",
          "height": 223
        }
      },
      "execution_count": null,
      "outputs": [
        {
          "output_type": "execute_result",
          "data": {
            "text/plain": [
              "   LATITUDE  LONGITUDE  ACQ_DATE  ACQ_TIME  OPEN_TIME  CLOSE_TIME  \\\n",
              "0 -5.466232  -0.176027 -1.866392  0.634294   0.506405    0.526945   \n",
              "1 -5.466232  -0.176027 -1.866392  0.634294   0.506405    0.526945   \n",
              "2 -5.466232  -0.176027 -1.866392  0.634294   0.506405    0.526945   \n",
              "3 -5.466232  -0.176027 -1.866392  0.634294   0.506405    0.526945   \n",
              "4 -5.433352  -0.197441 -1.723773  0.634294   2.286080    1.793843   \n",
              "\n",
              "   FIRE_OCCURRED  CO_MOL/M2  SO2_MOL/M2  NO2_MOL/M2  O3_MOL/M2  LOCATION  \\\n",
              "0              0  -0.024223   -0.474440   -1.152277  -0.511001 -1.159086   \n",
              "1              0   0.113599   -0.474440   -1.152277  -0.511001 -1.159086   \n",
              "2              0  -0.024223   -0.474440   -1.361255  -0.511001 -1.159086   \n",
              "3              0   0.113599   -0.474440   -1.361255  -0.511001 -1.159086   \n",
              "4              0  -0.967684    0.339667   -1.251770   0.426114 -1.159086   \n",
              "\n",
              "   INSTRUMENT  DRY_SEASON  \n",
              "0           0           1  \n",
              "1           0           1  \n",
              "2           0           1  \n",
              "3           0           1  \n",
              "4           0           1  "
            ],
            "text/html": [
              "\n",
              "  <div id=\"df-9d646337-f37c-4d35-a64b-54cff9d5ca03\">\n",
              "    <div class=\"colab-df-container\">\n",
              "      <div>\n",
              "<style scoped>\n",
              "    .dataframe tbody tr th:only-of-type {\n",
              "        vertical-align: middle;\n",
              "    }\n",
              "\n",
              "    .dataframe tbody tr th {\n",
              "        vertical-align: top;\n",
              "    }\n",
              "\n",
              "    .dataframe thead th {\n",
              "        text-align: right;\n",
              "    }\n",
              "</style>\n",
              "<table border=\"1\" class=\"dataframe\">\n",
              "  <thead>\n",
              "    <tr style=\"text-align: right;\">\n",
              "      <th></th>\n",
              "      <th>LATITUDE</th>\n",
              "      <th>LONGITUDE</th>\n",
              "      <th>ACQ_DATE</th>\n",
              "      <th>ACQ_TIME</th>\n",
              "      <th>OPEN_TIME</th>\n",
              "      <th>CLOSE_TIME</th>\n",
              "      <th>FIRE_OCCURRED</th>\n",
              "      <th>CO_MOL/M2</th>\n",
              "      <th>SO2_MOL/M2</th>\n",
              "      <th>NO2_MOL/M2</th>\n",
              "      <th>O3_MOL/M2</th>\n",
              "      <th>LOCATION</th>\n",
              "      <th>INSTRUMENT</th>\n",
              "      <th>DRY_SEASON</th>\n",
              "    </tr>\n",
              "  </thead>\n",
              "  <tbody>\n",
              "    <tr>\n",
              "      <th>0</th>\n",
              "      <td>-5.466232</td>\n",
              "      <td>-0.176027</td>\n",
              "      <td>-1.866392</td>\n",
              "      <td>0.634294</td>\n",
              "      <td>0.506405</td>\n",
              "      <td>0.526945</td>\n",
              "      <td>0</td>\n",
              "      <td>-0.024223</td>\n",
              "      <td>-0.474440</td>\n",
              "      <td>-1.152277</td>\n",
              "      <td>-0.511001</td>\n",
              "      <td>-1.159086</td>\n",
              "      <td>0</td>\n",
              "      <td>1</td>\n",
              "    </tr>\n",
              "    <tr>\n",
              "      <th>1</th>\n",
              "      <td>-5.466232</td>\n",
              "      <td>-0.176027</td>\n",
              "      <td>-1.866392</td>\n",
              "      <td>0.634294</td>\n",
              "      <td>0.506405</td>\n",
              "      <td>0.526945</td>\n",
              "      <td>0</td>\n",
              "      <td>0.113599</td>\n",
              "      <td>-0.474440</td>\n",
              "      <td>-1.152277</td>\n",
              "      <td>-0.511001</td>\n",
              "      <td>-1.159086</td>\n",
              "      <td>0</td>\n",
              "      <td>1</td>\n",
              "    </tr>\n",
              "    <tr>\n",
              "      <th>2</th>\n",
              "      <td>-5.466232</td>\n",
              "      <td>-0.176027</td>\n",
              "      <td>-1.866392</td>\n",
              "      <td>0.634294</td>\n",
              "      <td>0.506405</td>\n",
              "      <td>0.526945</td>\n",
              "      <td>0</td>\n",
              "      <td>-0.024223</td>\n",
              "      <td>-0.474440</td>\n",
              "      <td>-1.361255</td>\n",
              "      <td>-0.511001</td>\n",
              "      <td>-1.159086</td>\n",
              "      <td>0</td>\n",
              "      <td>1</td>\n",
              "    </tr>\n",
              "    <tr>\n",
              "      <th>3</th>\n",
              "      <td>-5.466232</td>\n",
              "      <td>-0.176027</td>\n",
              "      <td>-1.866392</td>\n",
              "      <td>0.634294</td>\n",
              "      <td>0.506405</td>\n",
              "      <td>0.526945</td>\n",
              "      <td>0</td>\n",
              "      <td>0.113599</td>\n",
              "      <td>-0.474440</td>\n",
              "      <td>-1.361255</td>\n",
              "      <td>-0.511001</td>\n",
              "      <td>-1.159086</td>\n",
              "      <td>0</td>\n",
              "      <td>1</td>\n",
              "    </tr>\n",
              "    <tr>\n",
              "      <th>4</th>\n",
              "      <td>-5.433352</td>\n",
              "      <td>-0.197441</td>\n",
              "      <td>-1.723773</td>\n",
              "      <td>0.634294</td>\n",
              "      <td>2.286080</td>\n",
              "      <td>1.793843</td>\n",
              "      <td>0</td>\n",
              "      <td>-0.967684</td>\n",
              "      <td>0.339667</td>\n",
              "      <td>-1.251770</td>\n",
              "      <td>0.426114</td>\n",
              "      <td>-1.159086</td>\n",
              "      <td>0</td>\n",
              "      <td>1</td>\n",
              "    </tr>\n",
              "  </tbody>\n",
              "</table>\n",
              "</div>\n",
              "      <button class=\"colab-df-convert\" onclick=\"convertToInteractive('df-9d646337-f37c-4d35-a64b-54cff9d5ca03')\"\n",
              "              title=\"Convert this dataframe to an interactive table.\"\n",
              "              style=\"display:none;\">\n",
              "        \n",
              "  <svg xmlns=\"http://www.w3.org/2000/svg\" height=\"24px\"viewBox=\"0 0 24 24\"\n",
              "       width=\"24px\">\n",
              "    <path d=\"M0 0h24v24H0V0z\" fill=\"none\"/>\n",
              "    <path d=\"M18.56 5.44l.94 2.06.94-2.06 2.06-.94-2.06-.94-.94-2.06-.94 2.06-2.06.94zm-11 1L8.5 8.5l.94-2.06 2.06-.94-2.06-.94L8.5 2.5l-.94 2.06-2.06.94zm10 10l.94 2.06.94-2.06 2.06-.94-2.06-.94-.94-2.06-.94 2.06-2.06.94z\"/><path d=\"M17.41 7.96l-1.37-1.37c-.4-.4-.92-.59-1.43-.59-.52 0-1.04.2-1.43.59L10.3 9.45l-7.72 7.72c-.78.78-.78 2.05 0 2.83L4 21.41c.39.39.9.59 1.41.59.51 0 1.02-.2 1.41-.59l7.78-7.78 2.81-2.81c.8-.78.8-2.07 0-2.86zM5.41 20L4 18.59l7.72-7.72 1.47 1.35L5.41 20z\"/>\n",
              "  </svg>\n",
              "      </button>\n",
              "      \n",
              "  <style>\n",
              "    .colab-df-container {\n",
              "      display:flex;\n",
              "      flex-wrap:wrap;\n",
              "      gap: 12px;\n",
              "    }\n",
              "\n",
              "    .colab-df-convert {\n",
              "      background-color: #E8F0FE;\n",
              "      border: none;\n",
              "      border-radius: 50%;\n",
              "      cursor: pointer;\n",
              "      display: none;\n",
              "      fill: #1967D2;\n",
              "      height: 32px;\n",
              "      padding: 0 0 0 0;\n",
              "      width: 32px;\n",
              "    }\n",
              "\n",
              "    .colab-df-convert:hover {\n",
              "      background-color: #E2EBFA;\n",
              "      box-shadow: 0px 1px 2px rgba(60, 64, 67, 0.3), 0px 1px 3px 1px rgba(60, 64, 67, 0.15);\n",
              "      fill: #174EA6;\n",
              "    }\n",
              "\n",
              "    [theme=dark] .colab-df-convert {\n",
              "      background-color: #3B4455;\n",
              "      fill: #D2E3FC;\n",
              "    }\n",
              "\n",
              "    [theme=dark] .colab-df-convert:hover {\n",
              "      background-color: #434B5C;\n",
              "      box-shadow: 0px 1px 3px 1px rgba(0, 0, 0, 0.15);\n",
              "      filter: drop-shadow(0px 1px 2px rgba(0, 0, 0, 0.3));\n",
              "      fill: #FFFFFF;\n",
              "    }\n",
              "  </style>\n",
              "\n",
              "      <script>\n",
              "        const buttonEl =\n",
              "          document.querySelector('#df-9d646337-f37c-4d35-a64b-54cff9d5ca03 button.colab-df-convert');\n",
              "        buttonEl.style.display =\n",
              "          google.colab.kernel.accessAllowed ? 'block' : 'none';\n",
              "\n",
              "        async function convertToInteractive(key) {\n",
              "          const element = document.querySelector('#df-9d646337-f37c-4d35-a64b-54cff9d5ca03');\n",
              "          const dataTable =\n",
              "            await google.colab.kernel.invokeFunction('convertToInteractive',\n",
              "                                                     [key], {});\n",
              "          if (!dataTable) return;\n",
              "\n",
              "          const docLinkHtml = 'Like what you see? Visit the ' +\n",
              "            '<a target=\"_blank\" href=https://colab.research.google.com/notebooks/data_table.ipynb>data table notebook</a>'\n",
              "            + ' to learn more about interactive tables.';\n",
              "          element.innerHTML = '';\n",
              "          dataTable['output_type'] = 'display_data';\n",
              "          await google.colab.output.renderOutput(dataTable, element);\n",
              "          const docLink = document.createElement('div');\n",
              "          docLink.innerHTML = docLinkHtml;\n",
              "          element.appendChild(docLink);\n",
              "        }\n",
              "      </script>\n",
              "    </div>\n",
              "  </div>\n",
              "  "
            ]
          },
          "metadata": {},
          "execution_count": 3
        },
        {
          "output_type": "stream",
          "name": "stdout",
          "text": [
            "time: 1.83 s (started: 2023-01-16 09:37:29 +00:00)\n"
          ]
        }
      ]
    },
    {
      "cell_type": "code",
      "source": [
        "df.info()"
      ],
      "metadata": {
        "id": "_YD_aLsrWoFf",
        "colab": {
          "base_uri": "https://localhost:8080/"
        },
        "outputId": "83590d1b-b516-4210-efe5-4fdb7881643b"
      },
      "execution_count": null,
      "outputs": [
        {
          "output_type": "stream",
          "name": "stdout",
          "text": [
            "<class 'pandas.core.frame.DataFrame'>\n",
            "RangeIndex: 171893 entries, 0 to 171892\n",
            "Data columns (total 14 columns):\n",
            " #   Column         Non-Null Count   Dtype  \n",
            "---  ------         --------------   -----  \n",
            " 0   LATITUDE       171893 non-null  float64\n",
            " 1   LONGITUDE      171893 non-null  float64\n",
            " 2   ACQ_DATE       171893 non-null  float64\n",
            " 3   ACQ_TIME       171893 non-null  float64\n",
            " 4   OPEN_TIME      171893 non-null  float64\n",
            " 5   CLOSE_TIME     171893 non-null  float64\n",
            " 6   FIRE_OCCURRED  171893 non-null  int64  \n",
            " 7   CO_MOL/M2      171893 non-null  float64\n",
            " 8   SO2_MOL/M2     171893 non-null  float64\n",
            " 9   NO2_MOL/M2     171893 non-null  float64\n",
            " 10  O3_MOL/M2      171893 non-null  float64\n",
            " 11  LOCATION       171893 non-null  float64\n",
            " 12  INSTRUMENT     171893 non-null  int64  \n",
            " 13  DRY_SEASON     171893 non-null  int64  \n",
            "dtypes: float64(11), int64(3)\n",
            "memory usage: 18.4 MB\n",
            "time: 28.4 ms (started: 2023-01-16 09:37:31 +00:00)\n"
          ]
        }
      ]
    },
    {
      "cell_type": "code",
      "source": [
        "display(df['FIRE_OCCURRED'].value_counts())"
      ],
      "metadata": {
        "colab": {
          "base_uri": "https://localhost:8080/",
          "height": 86
        },
        "id": "jXbXzzezgiT4",
        "outputId": "2a13f5a8-9edf-4520-bbc0-587799859599"
      },
      "execution_count": null,
      "outputs": [
        {
          "output_type": "display_data",
          "data": {
            "text/plain": [
              "0    170544\n",
              "1      1349\n",
              "Name: FIRE_OCCURRED, dtype: int64"
            ]
          },
          "metadata": {}
        },
        {
          "output_type": "stream",
          "name": "stdout",
          "text": [
            "time: 7.65 ms (started: 2023-01-16 09:37:31 +00:00)\n"
          ]
        }
      ]
    },
    {
      "cell_type": "code",
      "source": [
        "X = df.drop('FIRE_OCCURRED', axis=1)\n",
        "y = df['FIRE_OCCURRED']"
      ],
      "metadata": {
        "id": "lRQpZTs5hQ7x",
        "colab": {
          "base_uri": "https://localhost:8080/"
        },
        "outputId": "9b1dfac0-8358-4c98-ea34-9fb63fa36551"
      },
      "execution_count": null,
      "outputs": [
        {
          "output_type": "stream",
          "name": "stdout",
          "text": [
            "time: 9.27 ms (started: 2023-01-16 09:37:31 +00:00)\n"
          ]
        }
      ]
    },
    {
      "cell_type": "code",
      "source": [
        "# Training, Testing Split\n",
        "\n",
        "from sklearn.model_selection import train_test_split\n",
        "\n",
        "# 90:10\n",
        "\n",
        "X_train, X_test, y_train, y_test = train_test_split(X, y, test_size=0.10, random_state=10, shuffle=True)\n",
        "\n",
        "Original = [X_train, X_test, y_train, y_test] # For reference"
      ],
      "metadata": {
        "id": "LF5R0TqqWqAQ",
        "colab": {
          "base_uri": "https://localhost:8080/"
        },
        "outputId": "aa86a27f-5f9d-4036-ca17-9fb305b9a6a2"
      },
      "execution_count": null,
      "outputs": [
        {
          "output_type": "stream",
          "name": "stdout",
          "text": [
            "time: 304 ms (started: 2023-01-16 09:37:31 +00:00)\n"
          ]
        }
      ]
    },
    {
      "cell_type": "code",
      "source": [
        "if len(X_train)==len(y_train) and len(X_test) == len(y_test):\n",
        "  print(\"X and y data length matching\")\n",
        "else:\n",
        "  print(\"Error in data preparation pipeline\")\n",
        "print()\n",
        "print(\"No. of training data = %d\" % len(X_train))\n",
        "print(\"No. of testing data = %d\" % len(X_test))"
      ],
      "metadata": {
        "id": "Q1mt3NsQWgVN",
        "colab": {
          "base_uri": "https://localhost:8080/"
        },
        "outputId": "06834490-98e5-490f-8ede-797fad2ce0d8"
      },
      "execution_count": null,
      "outputs": [
        {
          "output_type": "stream",
          "name": "stdout",
          "text": [
            "X and y data length matching\n",
            "\n",
            "No. of training data = 154703\n",
            "No. of testing data = 17190\n",
            "time: 1.98 ms (started: 2023-01-16 09:37:31 +00:00)\n"
          ]
        }
      ]
    },
    {
      "cell_type": "code",
      "source": [
        "display(y_test.value_counts())"
      ],
      "metadata": {
        "id": "pIhtWUGDmlHn",
        "colab": {
          "base_uri": "https://localhost:8080/",
          "height": 86
        },
        "outputId": "1515cf6e-d672-4e11-ea15-60f1b9ef3704"
      },
      "execution_count": null,
      "outputs": [
        {
          "output_type": "display_data",
          "data": {
            "text/plain": [
              "0    17059\n",
              "1      131\n",
              "Name: FIRE_OCCURRED, dtype: int64"
            ]
          },
          "metadata": {}
        },
        {
          "output_type": "stream",
          "name": "stdout",
          "text": [
            "time: 6.88 ms (started: 2023-01-16 09:37:31 +00:00)\n"
          ]
        }
      ]
    },
    {
      "cell_type": "code",
      "source": [
        "# SMOTE\n",
        "\n",
        "from collections import Counter\n",
        "from imblearn.over_sampling import SMOTE \n",
        "\n",
        "print('Original dataset shape %s' % Counter(y_train))\n",
        "sm = SMOTE(random_state=10)\n",
        "X_train, y_train = sm.fit_resample(X_train, y_train)\n",
        "print('Resampled dataset shape %s' % Counter(y_train))"
      ],
      "metadata": {
        "id": "GhX5M0pSnDq7",
        "colab": {
          "base_uri": "https://localhost:8080/"
        },
        "outputId": "b2984045-cefd-47fd-d2a2-d76deae35bf2"
      },
      "execution_count": null,
      "outputs": [
        {
          "output_type": "stream",
          "name": "stdout",
          "text": [
            "Original dataset shape Counter({0: 153485, 1: 1218})\n",
            "Resampled dataset shape Counter({0: 153485, 1: 153485})\n",
            "time: 1.01 s (started: 2023-01-16 09:37:31 +00:00)\n"
          ]
        }
      ]
    },
    {
      "cell_type": "code",
      "source": [
        "# Shuffle Data since SMOTE appended many 1s at the end\n",
        "# Required for some algorithms such as ANN\n",
        "\n",
        "from sklearn.utils import shuffle\n",
        "\n",
        "X_train, y_train = shuffle(X_train, y_train, random_state = 10)"
      ],
      "metadata": {
        "id": "6EKTZ2IjuBtu",
        "colab": {
          "base_uri": "https://localhost:8080/"
        },
        "outputId": "348f0964-dc74-497a-8860-3ef164ffa261"
      },
      "execution_count": null,
      "outputs": [
        {
          "output_type": "stream",
          "name": "stdout",
          "text": [
            "time: 123 ms (started: 2023-01-16 09:37:32 +00:00)\n"
          ]
        }
      ]
    },
    {
      "cell_type": "code",
      "source": [
        "# Evaluation Metrics\n",
        "\n",
        "from sklearn.metrics import confusion_matrix, recall_score, f1_score, roc_auc_score, accuracy_score\n",
        "\n",
        "def evaluation_metrics(y_true, y_pred):\n",
        "  cfm = confusion_matrix(y_true, y_pred).ravel()\n",
        "  acc = accuracy_score(y_true, y_pred)\n",
        "  recs = recall_score(y_true, y_pred, average='binary')\n",
        "  f1s = f1_score(y_true, y_pred, average='binary')\n",
        "  rocs = roc_auc_score(y_true, y_pred, average='macro')\n",
        "  return [cfm, acc, recs, f1s, rocs]"
      ],
      "metadata": {
        "id": "AsnI9sv5nNyu",
        "colab": {
          "base_uri": "https://localhost:8080/"
        },
        "outputId": "f89ed2dd-94db-477d-a2bf-985ca49a6d7b"
      },
      "execution_count": null,
      "outputs": [
        {
          "output_type": "stream",
          "name": "stdout",
          "text": [
            "time: 1.49 ms (started: 2023-01-16 09:37:32 +00:00)\n"
          ]
        }
      ]
    },
    {
      "cell_type": "markdown",
      "source": [
        "Confusion matrix format : [ tn , fp , fn , tp ]"
      ],
      "metadata": {
        "id": "bPS8aE8bpEa4"
      }
    },
    {
      "cell_type": "code",
      "source": [
        "# Store Model Parameters and Eval\n",
        "\n",
        "models_final = pd.DataFrame(columns = ['model_name', 'model', 'parameters'])\n",
        "models_test = pd.DataFrame(columns = ['model_name', 'confusion_matrix', 'accuracy', 'recall', 'f1_score', 'roc_auc_score'])"
      ],
      "metadata": {
        "id": "beEJSW87njvC",
        "colab": {
          "base_uri": "https://localhost:8080/"
        },
        "outputId": "54150510-1c0e-4682-b1ca-4e4b9d4fe458"
      },
      "execution_count": null,
      "outputs": [
        {
          "output_type": "stream",
          "name": "stdout",
          "text": [
            "time: 4.71 ms (started: 2023-01-16 09:37:32 +00:00)\n"
          ]
        }
      ]
    },
    {
      "cell_type": "code",
      "execution_count": null,
      "metadata": {
        "id": "jZr8lVAHyw_I",
        "colab": {
          "base_uri": "https://localhost:8080/"
        },
        "outputId": "570fc448-1aab-4bc9-8644-8637010688d5"
      },
      "outputs": [
        {
          "output_type": "stream",
          "name": "stdout",
          "text": [
            "time: 4.28 s (started: 2023-01-16 09:37:32 +00:00)\n"
          ]
        }
      ],
      "source": [
        "# Import ML Algorithms\n",
        "\n",
        "from sklearn.linear_model import LogisticRegression\n",
        "from sklearn.svm import SVC\n",
        "from sklearn.naive_bayes import GaussianNB\n",
        "from sklearn.neighbors import KNeighborsClassifier\n",
        "from sklearn.ensemble import RandomForestClassifier\n",
        "from sklearn.tree import DecisionTreeClassifier\n",
        "from sklearn.ensemble import GradientBoostingClassifier\n",
        "import xgboost\n",
        "from xgboost import XGBClassifier\n",
        "import lightgbm\n",
        "from lightgbm import LGBMClassifier\n",
        "import tensorflow as tf\n",
        "from tensorflow import keras\n",
        "from sklearn.ensemble import VotingClassifier\n",
        "\n",
        "# Save Model\n",
        "\n",
        "import pickle"
      ]
    },
    {
      "cell_type": "markdown",
      "source": [
        "## Logistic Regression\n",
        "\n",
        "- Library: Scikit-learn\n",
        "\n",
        "**Best Parameters:**\n",
        "\n",
        "{'warm_start': True,\n",
        " 'solver': 'lbfgs',\n",
        " 'penalty': 'none',\n",
        " 'max_iter': 331,\n",
        " 'dual': False,\n",
        " 'C': 0}"
      ],
      "metadata": {
        "id": "Xcwy2Vgsuu56"
      }
    },
    {
      "cell_type": "code",
      "source": [
        "name = 'log_clf'\n",
        "\n",
        "log_clf = LogisticRegression(penalty = 'none', \n",
        "                             warm_start = True,\n",
        "                             solver = 'lbfgs',\n",
        "                             max_iter = 331,\n",
        "                             dual = False,\n",
        "                             C = 0,\n",
        "                             n_jobs = -1, \n",
        "                             random_state = 10\n",
        "                             ).fit(X_train,y_train)\n",
        "\n",
        "y_true = y_test\n",
        "y_pred = log_clf.predict(X_test)\n",
        "evaluation_results = evaluation_metrics(y_true, y_pred)\n",
        "\n",
        "models_final = models_final.append({'model_name': name, \n",
        "                        'model': log_clf, \n",
        "                        'parameters': log_clf.get_params()}, \n",
        "                        ignore_index=True)\n",
        "\n",
        "models_test = models_test.append({'model_name': name, \n",
        "                                  'confusion_matrix' : evaluation_results[0], \n",
        "                                  'accuracy': evaluation_results[1], \n",
        "                                  'recall' : evaluation_results[2], \n",
        "                                  'f1_score': evaluation_results[3],\n",
        "                                  'roc_auc_score': evaluation_results[4]}, \n",
        "                                 ignore_index=True)"
      ],
      "metadata": {
        "id": "GTz0ABHmZXIA",
        "colab": {
          "base_uri": "https://localhost:8080/"
        },
        "outputId": "c664d746-d435-49f6-9ca4-6ff8ba4c3fb0"
      },
      "execution_count": null,
      "outputs": [
        {
          "output_type": "stream",
          "name": "stderr",
          "text": [
            "/usr/local/lib/python3.8/dist-packages/sklearn/linear_model/_logistic.py:1483: UserWarning: Setting penalty='none' will ignore the C and l1_ratio parameters\n",
            "  warnings.warn(\n"
          ]
        },
        {
          "output_type": "stream",
          "name": "stdout",
          "text": [
            "time: 5.55 s (started: 2023-01-16 09:37:37 +00:00)\n"
          ]
        }
      ]
    },
    {
      "cell_type": "code",
      "source": [
        "# Save Model\n",
        "pickle.dump(log_clf, open('log_clf.sav', 'wb')) \n",
        "\n",
        "# Load Model\n",
        "# log_clf = pickle.load(open('log_clf.sav', 'rb'))"
      ],
      "metadata": {
        "id": "awohG7WaP4AL",
        "colab": {
          "base_uri": "https://localhost:8080/"
        },
        "outputId": "b47983c1-540f-45e4-f6d4-d03a4d24781a"
      },
      "execution_count": null,
      "outputs": [
        {
          "output_type": "stream",
          "name": "stdout",
          "text": [
            "time: 5.34 ms (started: 2023-01-16 09:37:42 +00:00)\n"
          ]
        }
      ]
    },
    {
      "cell_type": "markdown",
      "source": [
        "## Support Vector Machine (SVM)\n",
        "\n",
        "- Library: Scikit-learn\n",
        "\n",
        "**Best Parameters:**\n",
        "\n",
        "{\n",
        "'kernel': 'rbf',\n",
        "'C' : '8',\n",
        "'class_weight'='balanced'\n",
        "}"
      ],
      "metadata": {
        "id": "1LPWXBKHuu3j"
      }
    },
    {
      "cell_type": "code",
      "source": [
        "X_train_SVM = Original[0]\n",
        "X_test_SVM = Original[1]\n",
        "y_train_SVM = Original[2]\n",
        "y_test_SVM = Original[3]"
      ],
      "metadata": {
        "id": "HpYzEFK-ZXez",
        "colab": {
          "base_uri": "https://localhost:8080/"
        },
        "outputId": "389dfedb-a71a-41fd-8a69-747546521812"
      },
      "execution_count": null,
      "outputs": [
        {
          "output_type": "stream",
          "name": "stdout",
          "text": [
            "time: 1.23 ms (started: 2023-01-16 09:37:42 +00:00)\n"
          ]
        }
      ]
    },
    {
      "cell_type": "code",
      "source": [
        "# Shuffle\n",
        "\n",
        "X_train_SVM, y_train_SVM = shuffle(X_train_SVM, y_train_SVM, random_state = 10)"
      ],
      "metadata": {
        "id": "p_ny6ndEumCF",
        "colab": {
          "base_uri": "https://localhost:8080/"
        },
        "outputId": "776d57e9-9e47-4be5-d189-6e7be7415b4a"
      },
      "execution_count": null,
      "outputs": [
        {
          "output_type": "stream",
          "name": "stdout",
          "text": [
            "time: 99.5 ms (started: 2023-01-16 09:37:42 +00:00)\n"
          ]
        }
      ]
    },
    {
      "cell_type": "code",
      "source": [
        "display(y_train_SVM.value_counts())"
      ],
      "metadata": {
        "id": "r_PiEhleyUgO",
        "colab": {
          "base_uri": "https://localhost:8080/",
          "height": 86
        },
        "outputId": "15d7eee5-f8fb-4861-c4b9-72b388721ab8"
      },
      "execution_count": null,
      "outputs": [
        {
          "output_type": "display_data",
          "data": {
            "text/plain": [
              "0    153485\n",
              "1      1218\n",
              "Name: FIRE_OCCURRED, dtype: int64"
            ]
          },
          "metadata": {}
        },
        {
          "output_type": "stream",
          "name": "stdout",
          "text": [
            "time: 44.7 ms (started: 2023-01-16 09:37:42 +00:00)\n"
          ]
        }
      ]
    },
    {
      "cell_type": "code",
      "source": [
        "name = 'svc_clf'\n",
        "\n",
        "svc_clf = SVC(kernel = 'rbf', \n",
        "              C = 8,\n",
        "              class_weight='balanced',\n",
        "              random_state = 10\n",
        "              ).fit(X_train_SVM,y_train_SVM)\n",
        "\n",
        "y_true = y_test_SVM\n",
        "y_pred = svc_clf.predict(X_test_SVM)\n",
        "evaluation_results = evaluation_metrics(y_true, y_pred)\n",
        "\n",
        "models_final = models_final.append({'model_name': name, \n",
        "                        'model': svc_clf, \n",
        "                        'parameters': svc_clf.get_params()}, \n",
        "                       ignore_index=True)\n",
        "\n",
        "models_test = models_test.append({'model_name': name, \n",
        "                                  'confusion_matrix' : evaluation_results[0], \n",
        "                                  'accuracy': evaluation_results[1], \n",
        "                                  'recall' : evaluation_results[2], \n",
        "                                  'f1_score': evaluation_results[3],\n",
        "                                  'roc_auc_score': evaluation_results[4]}, \n",
        "                                 ignore_index=True)"
      ],
      "metadata": {
        "id": "vio-Fo6Nyl9S",
        "colab": {
          "base_uri": "https://localhost:8080/"
        },
        "outputId": "af8d4a41-ae9f-4ccb-f491-c3587d3ceb47"
      },
      "execution_count": null,
      "outputs": [
        {
          "output_type": "stream",
          "name": "stdout",
          "text": [
            "time: 5min 18s (started: 2023-01-16 09:37:42 +00:00)\n"
          ]
        }
      ]
    },
    {
      "cell_type": "code",
      "source": [
        "# Save Model\n",
        "pickle.dump(svc_clf, open('svc_clf.sav', 'wb')) \n",
        "\n",
        "# Load Model\n",
        "# svc_clf = pickle.load(open('svc_clf.sav', 'rb'))"
      ],
      "metadata": {
        "id": "JxxyWrHYUM94",
        "colab": {
          "base_uri": "https://localhost:8080/"
        },
        "outputId": "a08f553d-8be3-4f9a-f83e-2bd04ab39bb8"
      },
      "execution_count": null,
      "outputs": [
        {
          "output_type": "stream",
          "name": "stdout",
          "text": [
            "time: 4.7 ms (started: 2023-01-16 09:43:01 +00:00)\n"
          ]
        }
      ]
    },
    {
      "cell_type": "markdown",
      "source": [
        "## Naive Bayes\n",
        "\n",
        "- Library: Scikit-learn\n",
        "\n",
        "**Best Parameters:**\n",
        "\n",
        "{'var_smoothing': 1e-3}"
      ],
      "metadata": {
        "id": "jFKJ-rs3uu1O"
      }
    },
    {
      "cell_type": "code",
      "source": [
        "name = 'bayes_clf'\n",
        "\n",
        "bayes_clf = GaussianNB(var_smoothing = 1e-3\n",
        "                       ).fit(X_train,y_train)\n",
        "\n",
        "y_true = y_test\n",
        "y_pred = bayes_clf.predict(X_test)\n",
        "evaluation_results = evaluation_metrics(y_true, y_pred)\n",
        "\n",
        "models_final = models_final.append({'model_name': name, \n",
        "                        'model': bayes_clf, \n",
        "                        'parameters': bayes_clf.get_params()}, \n",
        "                       ignore_index=True)\n",
        "\n",
        "models_test = models_test.append({'model_name': name, \n",
        "                                  'confusion_matrix' : evaluation_results[0], \n",
        "                                  'accuracy': evaluation_results[1], \n",
        "                                  'recall' : evaluation_results[2], \n",
        "                                  'f1_score': evaluation_results[3],\n",
        "                                  'roc_auc_score': evaluation_results[4]}, \n",
        "                                 ignore_index=True)"
      ],
      "metadata": {
        "id": "xX1Uk1TcZX4R",
        "colab": {
          "base_uri": "https://localhost:8080/"
        },
        "outputId": "d2cbbf4c-0561-46a9-939b-b8abf6ec58f9"
      },
      "execution_count": null,
      "outputs": [
        {
          "output_type": "stream",
          "name": "stdout",
          "text": [
            "time: 143 ms (started: 2023-01-16 09:43:01 +00:00)\n"
          ]
        }
      ]
    },
    {
      "cell_type": "code",
      "source": [
        "# Save Model\n",
        "pickle.dump(bayes_clf, open('bayes_clf.sav', 'wb')) \n",
        "\n",
        "# Load Model\n",
        "# bayes_clf = pickle.load(open('bayes_clf.sav', 'rb'))"
      ],
      "metadata": {
        "id": "TNFSyBguUQs7",
        "colab": {
          "base_uri": "https://localhost:8080/"
        },
        "outputId": "6007c962-c4be-465c-c936-ada56afe02a5"
      },
      "execution_count": null,
      "outputs": [
        {
          "output_type": "stream",
          "name": "stdout",
          "text": [
            "time: 3.83 ms (started: 2023-01-16 09:43:01 +00:00)\n"
          ]
        }
      ]
    },
    {
      "cell_type": "markdown",
      "source": [
        "## K-Nearest Neighbor\n",
        "\n",
        "- Library: Scikit-learn\n",
        "\n",
        "**Best Parameters:**\n",
        "\n",
        "{'n_neighbors': 19, 'algorithm': 'kd_tree'}"
      ],
      "metadata": {
        "id": "tLaZu_G9uuzC"
      }
    },
    {
      "cell_type": "code",
      "source": [
        "name = 'neigh_clf'\n",
        "\n",
        "neigh_clf = KNeighborsClassifier(n_neighbors = 19, \n",
        "                                 algorithm = 'kd_tree',\n",
        "                                 n_jobs = -1, \n",
        "                                 ).fit(X_train,y_train)\n",
        "\n",
        "y_true = y_test\n",
        "y_pred = neigh_clf.predict(X_test)\n",
        "evaluation_results = evaluation_metrics(y_true, y_pred)\n",
        "\n",
        "models_final = models_final.append({'model_name': name, \n",
        "                        'model': neigh_clf, \n",
        "                        'parameters': neigh_clf.get_params()}, \n",
        "                       ignore_index=True)\n",
        "\n",
        "models_test = models_test.append({'model_name': name, \n",
        "                                  'confusion_matrix' : evaluation_results[0], \n",
        "                                  'accuracy': evaluation_results[1], \n",
        "                                  'recall' : evaluation_results[2], \n",
        "                                  'f1_score': evaluation_results[3],\n",
        "                                  'roc_auc_score': evaluation_results[4]}, \n",
        "                                 ignore_index=True)"
      ],
      "metadata": {
        "id": "DDM4MrNrZYTH",
        "colab": {
          "base_uri": "https://localhost:8080/"
        },
        "outputId": "aea4f289-e2f2-4f61-e58e-2fbd7ac4be7d"
      },
      "execution_count": null,
      "outputs": [
        {
          "output_type": "stream",
          "name": "stdout",
          "text": [
            "time: 12.4 s (started: 2023-01-16 09:43:01 +00:00)\n"
          ]
        }
      ]
    },
    {
      "cell_type": "code",
      "source": [
        "# Save Model\n",
        "pickle.dump(neigh_clf, open('neigh_clf.sav', 'wb')) \n",
        "\n",
        "# Load Model\n",
        "# neigh_clf = pickle.load(open('neigh_clf.sav', 'rb'))"
      ],
      "metadata": {
        "id": "QFlPN08YUVCk",
        "colab": {
          "base_uri": "https://localhost:8080/"
        },
        "outputId": "d09b96b6-b2b0-4d85-8d52-f3437c56f094"
      },
      "execution_count": null,
      "outputs": [
        {
          "output_type": "stream",
          "name": "stdout",
          "text": [
            "time: 126 ms (started: 2023-01-16 09:43:14 +00:00)\n"
          ]
        }
      ]
    },
    {
      "cell_type": "markdown",
      "source": [
        "## Decision Tree\n",
        "\n",
        "- Library: Scikit-learn\n",
        "\n",
        "**Best Parameters:**\n",
        "\n",
        "{'splitter': 'random',\n",
        " 'min_samples_leaf': 2,\n",
        " 'max_features': 11,\n",
        " 'max_depth': None,\n",
        " 'criterion': 'entropy'}"
      ],
      "metadata": {
        "id": "h4rV9G4OuurU"
      }
    },
    {
      "cell_type": "code",
      "source": [
        "name = 'tree_clf'\n",
        "\n",
        "tree_clf = DecisionTreeClassifier(criterion = 'entropy', \n",
        "                                  splitter = 'random', \n",
        "                                  min_samples_leaf = 2,\n",
        "                                  max_features = 11,\n",
        "                                  max_depth = None,\n",
        "                                  random_state = 10\n",
        "                                  ).fit(X_train,y_train)\n",
        "\n",
        "y_true = y_test\n",
        "y_pred = tree_clf.predict(X_test)\n",
        "evaluation_results = evaluation_metrics(y_true, y_pred)\n",
        "\n",
        "models_final = models_final.append({'model_name': name, \n",
        "                        'model': tree_clf, \n",
        "                        'parameters': tree_clf.get_params()}, \n",
        "                       ignore_index=True)\n",
        "\n",
        "models_test = models_test.append({'model_name': name, \n",
        "                                  'confusion_matrix' : evaluation_results[0], \n",
        "                                  'accuracy': evaluation_results[1], \n",
        "                                  'recall' : evaluation_results[2], \n",
        "                                  'f1_score': evaluation_results[3],\n",
        "                                  'roc_auc_score': evaluation_results[4]}, \n",
        "                                 ignore_index=True)"
      ],
      "metadata": {
        "id": "-2V9TCX1ZY-y",
        "colab": {
          "base_uri": "https://localhost:8080/"
        },
        "outputId": "54413b63-76a3-4821-a6d0-6a0a4e8b1d89"
      },
      "execution_count": null,
      "outputs": [
        {
          "output_type": "stream",
          "name": "stdout",
          "text": [
            "time: 661 ms (started: 2023-01-16 09:43:14 +00:00)\n"
          ]
        }
      ]
    },
    {
      "cell_type": "code",
      "source": [
        "# Save Model\n",
        "pickle.dump(tree_clf, open('tree_clf.sav', 'wb')) \n",
        "\n",
        "# Load Model\n",
        "# tree_clf = pickle.load(open('tree_clf.sav', 'rb'))"
      ],
      "metadata": {
        "id": "NpSlVQAqUXdP",
        "colab": {
          "base_uri": "https://localhost:8080/"
        },
        "outputId": "277a5cc2-2e2f-4a65-bf7a-195fb3192e55"
      },
      "execution_count": null,
      "outputs": [
        {
          "output_type": "stream",
          "name": "stdout",
          "text": [
            "time: 3.29 ms (started: 2023-01-16 09:43:15 +00:00)\n"
          ]
        }
      ]
    },
    {
      "cell_type": "markdown",
      "source": [
        "## Random Forest Classifier\n",
        "\n",
        "- Library: Scikit-learn\n",
        "\n",
        "**Best Parameters:**\n",
        "\n",
        "{'n_estimators': 415,\n",
        " 'min_samples_split': 6,\n",
        " 'min_samples_leaf': 1,\n",
        " 'max_features': 4,\n",
        " 'max_depth': 18}"
      ],
      "metadata": {
        "id": "qAaISg5Kuuwi"
      }
    },
    {
      "cell_type": "code",
      "source": [
        "name = 'rnd_clf'\n",
        "\n",
        "rnd_clf = RandomForestClassifier(n_estimators = 415, \n",
        "                                  min_samples_split = 6,\n",
        "                                  min_samples_leaf = 1,\n",
        "                                  max_features = 4,\n",
        "                                  max_depth = 18, \n",
        "                                  n_jobs = -1, \n",
        "                                  random_state = 10\n",
        "                                  ).fit(X_train,y_train)\n",
        "\n",
        "y_true = y_test\n",
        "y_pred = rnd_clf.predict(X_test)\n",
        "evaluation_results = evaluation_metrics(y_true, y_pred)\n",
        "\n",
        "models_final = models_final.append({'model_name': name, \n",
        "                        'model': rnd_clf, \n",
        "                        'parameters': rnd_clf.get_params()}, \n",
        "                       ignore_index=True)\n",
        "\n",
        "models_test = models_test.append({'model_name': name, \n",
        "                                  'confusion_matrix' : evaluation_results[0], \n",
        "                                  'accuracy': evaluation_results[1], \n",
        "                                  'recall' : evaluation_results[2], \n",
        "                                  'f1_score': evaluation_results[3],\n",
        "                                  'roc_auc_score': evaluation_results[4]}, \n",
        "                                 ignore_index=True)"
      ],
      "metadata": {
        "id": "1ZdpWxd0ZYo3",
        "colab": {
          "base_uri": "https://localhost:8080/"
        },
        "outputId": "523aec72-a092-416c-b467-2570a4d0792f"
      },
      "execution_count": null,
      "outputs": [
        {
          "output_type": "stream",
          "name": "stdout",
          "text": [
            "time: 4min 52s (started: 2023-01-16 09:43:15 +00:00)\n"
          ]
        }
      ]
    },
    {
      "cell_type": "code",
      "source": [
        "# Save Model\n",
        "# pickle.dump(rnd_clf, open('rnd_clf.sav', 'wb')) \n",
        "pickle.dump(rnd_clf, open('rnd_clf.h', 'wb')) \n",
        "\n",
        "# Load Model\n",
        "# rnd_clf = pickle.load(open('rnd_clf.sav', 'rb'))"
      ],
      "metadata": {
        "id": "y1I0R1PlUa-y",
        "colab": {
          "base_uri": "https://localhost:8080/"
        },
        "outputId": "4b32e081-ed7f-420e-a298-05b117390fcf"
      },
      "execution_count": null,
      "outputs": [
        {
          "output_type": "stream",
          "name": "stdout",
          "text": [
            "time: 162 ms (started: 2023-01-16 09:48:07 +00:00)\n"
          ]
        }
      ]
    },
    {
      "cell_type": "markdown",
      "source": [
        "## Gradient Boosting Classifier\n",
        "\n",
        "- Library: Scikit-learn\n",
        "\n",
        "**Best Parameters:**\n",
        "\n",
        "{'n_estimators': 1000, 'max_depth': 8, 'learning_rate': 0.1}"
      ],
      "metadata": {
        "id": "7Vvojs9tuuoh"
      }
    },
    {
      "cell_type": "code",
      "source": [
        "name = 'gboost_clf'\n",
        "\n",
        "gboost_clf = GradientBoostingClassifier(n_estimators = 1000, \n",
        "                                        learning_rate = 0.1, \n",
        "                                        max_depth = 8,\n",
        "                                        random_state = 10\n",
        "                                        ).fit(X_train,y_train)\n",
        "\n",
        "y_true = y_test\n",
        "y_pred = gboost_clf.predict(X_test)\n",
        "evaluation_results = evaluation_metrics(y_true, y_pred)\n",
        "\n",
        "models_final = models_final.append({'model_name': name, \n",
        "                        'model': gboost_clf, \n",
        "                        'parameters': gboost_clf.get_params()}, \n",
        "                       ignore_index=True)\n",
        "\n",
        "models_test = models_test.append({'model_name': name, \n",
        "                                  'confusion_matrix' : evaluation_results[0], \n",
        "                                  'accuracy': evaluation_results[1], \n",
        "                                  'recall' : evaluation_results[2], \n",
        "                                  'f1_score': evaluation_results[3],\n",
        "                                  'roc_auc_score': evaluation_results[4]}, \n",
        "                                 ignore_index=True)"
      ],
      "metadata": {
        "id": "cXDZXJXyZZVj",
        "colab": {
          "base_uri": "https://localhost:8080/"
        },
        "outputId": "377799c5-f4d9-441b-d864-9dc860bdc62e"
      },
      "execution_count": null,
      "outputs": [
        {
          "output_type": "stream",
          "name": "stdout",
          "text": [
            "time: 42min 54s (started: 2023-01-16 09:48:07 +00:00)\n"
          ]
        }
      ]
    },
    {
      "cell_type": "code",
      "source": [
        "# Save Model\n",
        "pickle.dump(gboost_clf, open('gboost_clf.sav', 'wb')) \n",
        "\n",
        "# Load Model\n",
        "# gboost_clf = pickle.load(open('gboost_clf.sav', 'rb'))"
      ],
      "metadata": {
        "id": "zce_1i0JUdSO",
        "colab": {
          "base_uri": "https://localhost:8080/"
        },
        "outputId": "693e7d0e-cca8-4284-a52a-84a7ef12a11f"
      },
      "execution_count": null,
      "outputs": [
        {
          "output_type": "stream",
          "name": "stdout",
          "text": [
            "time: 64.3 ms (started: 2023-01-16 10:31:01 +00:00)\n"
          ]
        }
      ]
    },
    {
      "cell_type": "markdown",
      "source": [
        "## XGBoost\n",
        "\n",
        "- Library: xgboost\n",
        "\n",
        "**Best Parameters:**\n",
        "\n",
        "{'n_estimators': 1000,\n",
        " 'min_child_weight': 7,\n",
        " 'max_depth': 8,\n",
        " 'learning_rate': 0.1}"
      ],
      "metadata": {
        "id": "NfVD2dOouulp"
      }
    },
    {
      "cell_type": "code",
      "source": [
        "name = 'xgboost_clf'\n",
        "\n",
        "xgboost_clf = XGBClassifier(n_estimators = 1000, \n",
        "                            learning_rate = 0.1,\n",
        "                            max_depth = 8, \n",
        "                            min_child_weight = 7,\n",
        "                            random_state = 10\n",
        "                            ).fit(X_train,y_train)\n",
        "\n",
        "y_true = y_test\n",
        "y_pred = xgboost_clf.predict(X_test)\n",
        "evaluation_results = evaluation_metrics(y_true, y_pred)\n",
        "\n",
        "models_final = models_final.append({'model_name': name, \n",
        "                        'model': xgboost_clf, \n",
        "                        'parameters': xgboost_clf.get_params()}, \n",
        "                       ignore_index=True)\n",
        "\n",
        "models_test = models_test.append({'model_name': name, \n",
        "                                  'confusion_matrix' : evaluation_results[0], \n",
        "                                  'accuracy': evaluation_results[1], \n",
        "                                  'recall' : evaluation_results[2], \n",
        "                                  'f1_score': evaluation_results[3],\n",
        "                                  'roc_auc_score': evaluation_results[4]}, \n",
        "                                 ignore_index=True)"
      ],
      "metadata": {
        "id": "6QYj-9csZZvE",
        "colab": {
          "base_uri": "https://localhost:8080/"
        },
        "outputId": "f334ca01-c128-404e-f3e9-87a1806d4cc9"
      },
      "execution_count": null,
      "outputs": [
        {
          "output_type": "stream",
          "name": "stdout",
          "text": [
            "time: 10min 44s (started: 2023-01-16 10:31:02 +00:00)\n"
          ]
        }
      ]
    },
    {
      "cell_type": "code",
      "source": [
        "# Save Model\n",
        "pickle.dump(xgboost_clf, open('xgboost_clf.sav', 'wb')) \n",
        "\n",
        "# Load Model\n",
        "# xgboost_clf = pickle.load(open('xgboost_clf.sav', 'rb'))"
      ],
      "metadata": {
        "id": "zaiGv1r7UgrB",
        "colab": {
          "base_uri": "https://localhost:8080/"
        },
        "outputId": "a61bc21e-9b9f-4470-d374-68983be7a9c8"
      },
      "execution_count": null,
      "outputs": [
        {
          "output_type": "stream",
          "name": "stdout",
          "text": [
            "time: 11.1 ms (started: 2023-01-16 10:41:46 +00:00)\n"
          ]
        }
      ]
    },
    {
      "cell_type": "markdown",
      "source": [
        "## LightGBM\n",
        "\n",
        "- Library: lightbgm\n",
        "\n",
        "**Best Parameters:**\n",
        "\n",
        "{'num_leaves': 50,\n",
        " 'n_estimators': 1000,\n",
        " 'min_data_in_leaf': 10,\n",
        " 'max_depth': 8,\n",
        " 'learning_rate': 0.05}"
      ],
      "metadata": {
        "id": "X23LZaWruugg"
      }
    },
    {
      "cell_type": "code",
      "source": [
        "name = 'lightgbm_clf'\n",
        "\n",
        "lightgbm_clf = LGBMClassifier(n_estimators = 1000, \n",
        "                              learning_rate = 0.05, \n",
        "                              max_depth = 8,\n",
        "                              num_leaves = 50,\n",
        "                              min_data_in_leaf = 10,\n",
        "                              random_state = 10\n",
        "                              ).fit(X_train,y_train)\n",
        "\n",
        "y_true = y_test\n",
        "y_pred = lightgbm_clf.predict(X_test)\n",
        "evaluation_results = evaluation_metrics(y_true, y_pred)\n",
        "\n",
        "models_final = models_final.append({'model_name': name, \n",
        "                        'model': lightgbm_clf, \n",
        "                        'parameters': lightgbm_clf.get_params()}, \n",
        "                       ignore_index=True)\n",
        "\n",
        "models_test = models_test.append({'model_name': name, \n",
        "                                  'confusion_matrix' : evaluation_results[0], \n",
        "                                  'accuracy': evaluation_results[1], \n",
        "                                  'recall' : evaluation_results[2], \n",
        "                                  'f1_score': evaluation_results[3],\n",
        "                                  'roc_auc_score': evaluation_results[4]}, \n",
        "                                 ignore_index=True)"
      ],
      "metadata": {
        "id": "B0wkCOloZaJc",
        "colab": {
          "base_uri": "https://localhost:8080/"
        },
        "outputId": "2150d8fd-4bd3-4276-e857-32828f9a1877"
      },
      "execution_count": null,
      "outputs": [
        {
          "output_type": "stream",
          "name": "stdout",
          "text": [
            "time: 45.8 s (started: 2023-01-16 10:41:46 +00:00)\n"
          ]
        }
      ]
    },
    {
      "cell_type": "code",
      "source": [
        "# Save Model\n",
        "pickle.dump(lightgbm_clf, open('lightgbm_clf.sav', 'wb')) \n",
        "\n",
        "# Load Model\n",
        "# lightgbm_clf = pickle.load(open('lightgbm_clf.sav', 'rb'))"
      ],
      "metadata": {
        "id": "hKuZKlbHUjKl",
        "colab": {
          "base_uri": "https://localhost:8080/"
        },
        "outputId": "da5c3ec0-9093-4399-abdf-77e2ba1177fa"
      },
      "execution_count": null,
      "outputs": [
        {
          "output_type": "stream",
          "name": "stdout",
          "text": [
            "time: 278 ms (started: 2023-01-16 10:42:32 +00:00)\n"
          ]
        }
      ]
    },
    {
      "cell_type": "markdown",
      "source": [
        "## Artificial Neural Network\n",
        "\n",
        "- Library: Keras, Tensorflow\n",
        "\n",
        "**Best Parameters:**\n",
        "- Batch size 15\n",
        "- EPOCH 50"
      ],
      "metadata": {
        "id": "9ZkjCtnBuuZq"
      }
    },
    {
      "cell_type": "code",
      "source": [
        "tf.random.set_seed(10)"
      ],
      "metadata": {
        "id": "ammU32hvw0om",
        "colab": {
          "base_uri": "https://localhost:8080/"
        },
        "outputId": "86d83ffe-bbea-4019-ee49-42db3252b561"
      },
      "execution_count": null,
      "outputs": [
        {
          "output_type": "stream",
          "name": "stdout",
          "text": [
            "time: 1.37 ms (started: 2023-01-16 10:42:32 +00:00)\n"
          ]
        }
      ]
    },
    {
      "cell_type": "code",
      "source": [
        "name = 'ann_clf'\n",
        "\n",
        "ann_clf = keras.models.Sequential([\n",
        "    keras.layers.Dense(15, input_shape=(X_train.shape[1],), activation='relu'), # No bias term\n",
        "    # keras.layers.Dense(10, activation='relu'), \n",
        "    keras.layers.Dense(10, activation='relu'), \n",
        "    keras.layers.Dense(1, activation='sigmoid')\n",
        "])\n",
        "\n",
        "ann_clf.summary()"
      ],
      "metadata": {
        "id": "6arjXn0ZZafL",
        "colab": {
          "base_uri": "https://localhost:8080/"
        },
        "outputId": "21d5c185-1413-4632-c76a-79390a3fd071"
      },
      "execution_count": null,
      "outputs": [
        {
          "output_type": "stream",
          "name": "stdout",
          "text": [
            "Model: \"sequential\"\n",
            "_________________________________________________________________\n",
            " Layer (type)                Output Shape              Param #   \n",
            "=================================================================\n",
            " dense (Dense)               (None, 15)                210       \n",
            "                                                                 \n",
            " dense_1 (Dense)             (None, 10)                160       \n",
            "                                                                 \n",
            " dense_2 (Dense)             (None, 1)                 11        \n",
            "                                                                 \n",
            "=================================================================\n",
            "Total params: 381\n",
            "Trainable params: 381\n",
            "Non-trainable params: 0\n",
            "_________________________________________________________________\n",
            "time: 239 ms (started: 2023-01-16 10:42:32 +00:00)\n"
          ]
        }
      ]
    },
    {
      "cell_type": "code",
      "source": [
        "display(y_train.value_counts())"
      ],
      "metadata": {
        "id": "s2hCVFYFOGKG",
        "colab": {
          "base_uri": "https://localhost:8080/",
          "height": 86
        },
        "outputId": "95b19926-4779-48fb-e7ac-d140fdbba15c"
      },
      "execution_count": null,
      "outputs": [
        {
          "output_type": "display_data",
          "data": {
            "text/plain": [
              "1    153485\n",
              "0    153485\n",
              "Name: FIRE_OCCURRED, dtype: int64"
            ]
          },
          "metadata": {}
        },
        {
          "output_type": "stream",
          "name": "stdout",
          "text": [
            "time: 20.8 ms (started: 2023-01-16 10:42:32 +00:00)\n"
          ]
        }
      ]
    },
    {
      "cell_type": "code",
      "source": [
        "display(y_test.value_counts())"
      ],
      "metadata": {
        "id": "qkyja7zKOJhE",
        "colab": {
          "base_uri": "https://localhost:8080/",
          "height": 86
        },
        "outputId": "7f861d72-8554-4950-f35e-352d95e2b08a"
      },
      "execution_count": null,
      "outputs": [
        {
          "output_type": "display_data",
          "data": {
            "text/plain": [
              "0    17059\n",
              "1      131\n",
              "Name: FIRE_OCCURRED, dtype: int64"
            ]
          },
          "metadata": {}
        },
        {
          "output_type": "stream",
          "name": "stdout",
          "text": [
            "time: 10.1 ms (started: 2023-01-16 10:42:32 +00:00)\n"
          ]
        }
      ]
    },
    {
      "cell_type": "code",
      "source": [
        "ann_clf.compile(optimizer = 'adam', \n",
        "                metrics=['accuracy'], \n",
        "                loss ='binary_crossentropy')\n",
        "\n",
        "record = ann_clf.fit(\n",
        "            X_train, \n",
        "            y_train, \n",
        "            validation_data = (X_test, y_test), \n",
        "            batch_size = 15, \n",
        "            epochs = 50)"
      ],
      "metadata": {
        "colab": {
          "base_uri": "https://localhost:8080/"
        },
        "id": "4C_TvCF9qn6S",
        "outputId": "57fe44c0-6263-4bb1-c399-e3d29cfc0bc9"
      },
      "execution_count": null,
      "outputs": [
        {
          "output_type": "stream",
          "name": "stdout",
          "text": [
            "Epoch 1/50\n",
            "20465/20465 [==============================] - 49s 2ms/step - loss: 0.2060 - accuracy: 0.9237 - val_loss: 0.2158 - val_accuracy: 0.9000\n",
            "Epoch 2/50\n",
            "20465/20465 [==============================] - 50s 2ms/step - loss: 0.1613 - accuracy: 0.9418 - val_loss: 0.1874 - val_accuracy: 0.9163\n",
            "Epoch 3/50\n",
            "20465/20465 [==============================] - 56s 3ms/step - loss: 0.1538 - accuracy: 0.9437 - val_loss: 0.1529 - val_accuracy: 0.9328\n",
            "Epoch 4/50\n",
            "20465/20465 [==============================] - 52s 3ms/step - loss: 0.1492 - accuracy: 0.9463 - val_loss: 0.1872 - val_accuracy: 0.9208\n",
            "Epoch 5/50\n",
            "20465/20465 [==============================] - 50s 2ms/step - loss: 0.1453 - accuracy: 0.9485 - val_loss: 0.1644 - val_accuracy: 0.9313\n",
            "Epoch 6/50\n",
            "20465/20465 [==============================] - 49s 2ms/step - loss: 0.1416 - accuracy: 0.9501 - val_loss: 0.1646 - val_accuracy: 0.9300\n",
            "Epoch 7/50\n",
            "20465/20465 [==============================] - 51s 2ms/step - loss: 0.1385 - accuracy: 0.9515 - val_loss: 0.1719 - val_accuracy: 0.9317\n",
            "Epoch 8/50\n",
            "20465/20465 [==============================] - 47s 2ms/step - loss: 0.1358 - accuracy: 0.9529 - val_loss: 0.1468 - val_accuracy: 0.9392\n",
            "Epoch 9/50\n",
            "20465/20465 [==============================] - 47s 2ms/step - loss: 0.1345 - accuracy: 0.9540 - val_loss: 0.1487 - val_accuracy: 0.9411\n",
            "Epoch 10/50\n",
            "20465/20465 [==============================] - 48s 2ms/step - loss: 0.1330 - accuracy: 0.9546 - val_loss: 0.1471 - val_accuracy: 0.9398\n",
            "Epoch 11/50\n",
            "20465/20465 [==============================] - 47s 2ms/step - loss: 0.1323 - accuracy: 0.9550 - val_loss: 0.1807 - val_accuracy: 0.9311\n",
            "Epoch 12/50\n",
            "20465/20465 [==============================] - 48s 2ms/step - loss: 0.1312 - accuracy: 0.9554 - val_loss: 0.1670 - val_accuracy: 0.9353\n",
            "Epoch 13/50\n",
            "20465/20465 [==============================] - 49s 2ms/step - loss: 0.1306 - accuracy: 0.9555 - val_loss: 0.1880 - val_accuracy: 0.9289\n",
            "Epoch 14/50\n",
            "20465/20465 [==============================] - 48s 2ms/step - loss: 0.1301 - accuracy: 0.9561 - val_loss: 0.1654 - val_accuracy: 0.9346\n",
            "Epoch 15/50\n",
            "20465/20465 [==============================] - 50s 2ms/step - loss: 0.1291 - accuracy: 0.9566 - val_loss: 0.1572 - val_accuracy: 0.9380\n",
            "Epoch 16/50\n",
            "20465/20465 [==============================] - 48s 2ms/step - loss: 0.1280 - accuracy: 0.9569 - val_loss: 0.1243 - val_accuracy: 0.9485\n",
            "Epoch 17/50\n",
            "20465/20465 [==============================] - 47s 2ms/step - loss: 0.1273 - accuracy: 0.9569 - val_loss: 0.1719 - val_accuracy: 0.9333\n",
            "Epoch 18/50\n",
            "20465/20465 [==============================] - 47s 2ms/step - loss: 0.1264 - accuracy: 0.9576 - val_loss: 0.1949 - val_accuracy: 0.9269\n",
            "Epoch 19/50\n",
            "20465/20465 [==============================] - 48s 2ms/step - loss: 0.1257 - accuracy: 0.9574 - val_loss: 0.1422 - val_accuracy: 0.9457\n",
            "Epoch 20/50\n",
            "20465/20465 [==============================] - 47s 2ms/step - loss: 0.1250 - accuracy: 0.9581 - val_loss: 0.1698 - val_accuracy: 0.9352\n",
            "Epoch 21/50\n",
            "20465/20465 [==============================] - 48s 2ms/step - loss: 0.1247 - accuracy: 0.9583 - val_loss: 0.1655 - val_accuracy: 0.9360\n",
            "Epoch 22/50\n",
            "20465/20465 [==============================] - 48s 2ms/step - loss: 0.1245 - accuracy: 0.9583 - val_loss: 0.1856 - val_accuracy: 0.9310\n",
            "Epoch 23/50\n",
            "20465/20465 [==============================] - 50s 2ms/step - loss: 0.1240 - accuracy: 0.9588 - val_loss: 0.1369 - val_accuracy: 0.9460\n",
            "Epoch 24/50\n",
            "20465/20465 [==============================] - 49s 2ms/step - loss: 0.1237 - accuracy: 0.9587 - val_loss: 0.1610 - val_accuracy: 0.9369\n",
            "Epoch 25/50\n",
            "20465/20465 [==============================] - 48s 2ms/step - loss: 0.1230 - accuracy: 0.9587 - val_loss: 0.1554 - val_accuracy: 0.9396\n",
            "Epoch 26/50\n",
            "20465/20465 [==============================] - 51s 3ms/step - loss: 0.1229 - accuracy: 0.9590 - val_loss: 0.1926 - val_accuracy: 0.9282\n",
            "Epoch 27/50\n",
            "20465/20465 [==============================] - 51s 3ms/step - loss: 0.1225 - accuracy: 0.9591 - val_loss: 0.1861 - val_accuracy: 0.9300\n",
            "Epoch 28/50\n",
            "20465/20465 [==============================] - 48s 2ms/step - loss: 0.1225 - accuracy: 0.9588 - val_loss: 0.1343 - val_accuracy: 0.9468\n",
            "Epoch 29/50\n",
            "20465/20465 [==============================] - 46s 2ms/step - loss: 0.1221 - accuracy: 0.9592 - val_loss: 0.1696 - val_accuracy: 0.9348\n",
            "Epoch 30/50\n",
            "20465/20465 [==============================] - 47s 2ms/step - loss: 0.1219 - accuracy: 0.9595 - val_loss: 0.1446 - val_accuracy: 0.9446\n",
            "Epoch 31/50\n",
            "20465/20465 [==============================] - 48s 2ms/step - loss: 0.1217 - accuracy: 0.9594 - val_loss: 0.1807 - val_accuracy: 0.9311\n",
            "Epoch 32/50\n",
            "20465/20465 [==============================] - 50s 2ms/step - loss: 0.1214 - accuracy: 0.9594 - val_loss: 0.1325 - val_accuracy: 0.9478\n",
            "Epoch 33/50\n",
            "20465/20465 [==============================] - 51s 2ms/step - loss: 0.1210 - accuracy: 0.9598 - val_loss: 0.1462 - val_accuracy: 0.9419\n",
            "Epoch 34/50\n",
            "20465/20465 [==============================] - 52s 3ms/step - loss: 0.1204 - accuracy: 0.9601 - val_loss: 0.1675 - val_accuracy: 0.9365\n",
            "Epoch 35/50\n",
            "20465/20465 [==============================] - 51s 2ms/step - loss: 0.1203 - accuracy: 0.9599 - val_loss: 0.1277 - val_accuracy: 0.9493\n",
            "Epoch 36/50\n",
            "20465/20465 [==============================] - 49s 2ms/step - loss: 0.1202 - accuracy: 0.9601 - val_loss: 0.1728 - val_accuracy: 0.9330\n",
            "Epoch 37/50\n",
            "20465/20465 [==============================] - 49s 2ms/step - loss: 0.1197 - accuracy: 0.9604 - val_loss: 0.1427 - val_accuracy: 0.9462\n",
            "Epoch 38/50\n",
            "20465/20465 [==============================] - 49s 2ms/step - loss: 0.1194 - accuracy: 0.9604 - val_loss: 0.1630 - val_accuracy: 0.9382\n",
            "Epoch 39/50\n",
            "20465/20465 [==============================] - 50s 2ms/step - loss: 0.1192 - accuracy: 0.9604 - val_loss: 0.1516 - val_accuracy: 0.9411\n",
            "Epoch 40/50\n",
            "20465/20465 [==============================] - 49s 2ms/step - loss: 0.1188 - accuracy: 0.9606 - val_loss: 0.1486 - val_accuracy: 0.9418\n",
            "Epoch 41/50\n",
            "20465/20465 [==============================] - 50s 2ms/step - loss: 0.1186 - accuracy: 0.9607 - val_loss: 0.1521 - val_accuracy: 0.9422\n",
            "Epoch 42/50\n",
            "20465/20465 [==============================] - 52s 3ms/step - loss: 0.1183 - accuracy: 0.9606 - val_loss: 0.1361 - val_accuracy: 0.9472\n",
            "Epoch 43/50\n",
            "20465/20465 [==============================] - 49s 2ms/step - loss: 0.1181 - accuracy: 0.9609 - val_loss: 0.1461 - val_accuracy: 0.9436\n",
            "Epoch 44/50\n",
            "20465/20465 [==============================] - 50s 2ms/step - loss: 0.1179 - accuracy: 0.9610 - val_loss: 0.1663 - val_accuracy: 0.9351\n",
            "Epoch 45/50\n",
            "20465/20465 [==============================] - 50s 2ms/step - loss: 0.1177 - accuracy: 0.9613 - val_loss: 0.1444 - val_accuracy: 0.9436\n",
            "Epoch 46/50\n",
            "20465/20465 [==============================] - 57s 3ms/step - loss: 0.1174 - accuracy: 0.9612 - val_loss: 0.1280 - val_accuracy: 0.9496\n",
            "Epoch 47/50\n",
            "20465/20465 [==============================] - 56s 3ms/step - loss: 0.1173 - accuracy: 0.9615 - val_loss: 0.1378 - val_accuracy: 0.9465\n",
            "Epoch 48/50\n",
            "20465/20465 [==============================] - 51s 3ms/step - loss: 0.1172 - accuracy: 0.9612 - val_loss: 0.1531 - val_accuracy: 0.9417\n",
            "Epoch 49/50\n",
            "20465/20465 [==============================] - 49s 2ms/step - loss: 0.1170 - accuracy: 0.9614 - val_loss: 0.1224 - val_accuracy: 0.9499\n",
            "Epoch 50/50\n",
            "20465/20465 [==============================] - 47s 2ms/step - loss: 0.1167 - accuracy: 0.9615 - val_loss: 0.1587 - val_accuracy: 0.9421\n",
            "time: 41min 22s (started: 2023-01-16 10:42:32 +00:00)\n"
          ]
        }
      ]
    },
    {
      "cell_type": "code",
      "source": [
        "y_true = y_test\n",
        "prediction = ann_clf.predict(X_test)\n",
        "prediction = pd.Series(prediction[:, 0])\n",
        "y_pred = []\n",
        "\n",
        "for i in range(len(prediction)):\n",
        "  if prediction[i] >= 0.5:\n",
        "    y_pred.append(1)\n",
        "  else:\n",
        "    y_pred.append(0)\n",
        "\n",
        "evaluation_results = evaluation_metrics(y_true, y_pred)\n",
        "\n",
        "models_final = models_final.append({'model_name': name, \n",
        "                        'model': ann_clf, \n",
        "                        'parameters': ann_clf.layers}, \n",
        "                       ignore_index=True)\n",
        "\n",
        "models_test = models_test.append({'model_name': name, \n",
        "                                  'confusion_matrix' : evaluation_results[0], \n",
        "                                  'accuracy': evaluation_results[1], \n",
        "                                  'recall' : evaluation_results[2], \n",
        "                                  'f1_score': evaluation_results[3],\n",
        "                                  'roc_auc_score': evaluation_results[4]}, \n",
        "                                 ignore_index=True)"
      ],
      "metadata": {
        "colab": {
          "base_uri": "https://localhost:8080/"
        },
        "id": "GLO1dYakqo_E",
        "outputId": "7fb56a73-8181-480d-e2e6-0c5e839296e4"
      },
      "execution_count": null,
      "outputs": [
        {
          "output_type": "stream",
          "name": "stdout",
          "text": [
            "538/538 [==============================] - 1s 1ms/step\n",
            "time: 1.55 s (started: 2023-01-16 11:23:55 +00:00)\n"
          ]
        }
      ]
    },
    {
      "cell_type": "code",
      "source": [
        "# Save Model\n",
        "ann_clf.save('ann_clf.h5') \n",
        "\n",
        "# Load Model\n",
        "# ann_clf = tf.keras.models.load_model('ann_clf.h5')"
      ],
      "metadata": {
        "colab": {
          "base_uri": "https://localhost:8080/"
        },
        "id": "wgQfzUyyqp46",
        "outputId": "b1803ac5-116a-4586-ae2e-eaf592ea6834"
      },
      "execution_count": null,
      "outputs": [
        {
          "output_type": "stream",
          "name": "stdout",
          "text": [
            "time: 23.1 ms (started: 2023-01-16 11:23:57 +00:00)\n"
          ]
        }
      ]
    },
    {
      "cell_type": "markdown",
      "source": [
        "## Voting Classifier\n",
        "- Library: Scikit-learn, Keras, Tensorflow\n",
        "\n",
        "**Best Parameters:**\n",
        "\n",
        "{'voting': 'hard'}"
      ],
      "metadata": {
        "id": "2splAOL5vKme"
      }
    },
    {
      "cell_type": "code",
      "source": [
        "display(models_test)"
      ],
      "metadata": {
        "colab": {
          "base_uri": "https://localhost:8080/",
          "height": 380
        },
        "id": "5eBqT3Crqq_O",
        "outputId": "7d278419-5514-4138-afe9-bb0b2810adbe"
      },
      "execution_count": null,
      "outputs": [
        {
          "output_type": "display_data",
          "data": {
            "text/plain": [
              "     model_name        confusion_matrix  accuracy    recall  f1_score  \\\n",
              "0       log_clf   [13920, 3139, 39, 92]  0.815125  0.702290  0.054729   \n",
              "1       svc_clf   [16301, 758, 14, 117]  0.955090  0.893130  0.232604   \n",
              "2     bayes_clf  [11200, 5859, 14, 117]  0.658348  0.893130  0.038317   \n",
              "3     neigh_clf   [16553, 506, 12, 119]  0.969866  0.908397  0.314815   \n",
              "4      tree_clf   [16927, 132, 22, 109]  0.991041  0.832061  0.586022   \n",
              "5       rnd_clf   [16823, 236, 19, 112]  0.985166  0.854962  0.467641   \n",
              "6    gboost_clf    [17008, 51, 21, 110]  0.995812  0.839695  0.753425   \n",
              "7   xgboost_clf    [17001, 58, 22, 109]  0.995346  0.832061  0.731544   \n",
              "8  lightgbm_clf    [16976, 83, 22, 109]  0.993892  0.832061  0.674923   \n",
              "9       ann_clf   [16078, 981, 14, 117]  0.942118  0.893130  0.190399   \n",
              "\n",
              "   roc_auc_score  \n",
              "0       0.759141  \n",
              "1       0.924348  \n",
              "2       0.774837  \n",
              "3       0.939368  \n",
              "4       0.912162  \n",
              "5       0.920564  \n",
              "6       0.918353  \n",
              "7       0.914331  \n",
              "8       0.913598  \n",
              "9       0.917812  "
            ],
            "text/html": [
              "\n",
              "  <div id=\"df-19227fc3-c0c7-4553-a903-5313dadd61e8\">\n",
              "    <div class=\"colab-df-container\">\n",
              "      <div>\n",
              "<style scoped>\n",
              "    .dataframe tbody tr th:only-of-type {\n",
              "        vertical-align: middle;\n",
              "    }\n",
              "\n",
              "    .dataframe tbody tr th {\n",
              "        vertical-align: top;\n",
              "    }\n",
              "\n",
              "    .dataframe thead th {\n",
              "        text-align: right;\n",
              "    }\n",
              "</style>\n",
              "<table border=\"1\" class=\"dataframe\">\n",
              "  <thead>\n",
              "    <tr style=\"text-align: right;\">\n",
              "      <th></th>\n",
              "      <th>model_name</th>\n",
              "      <th>confusion_matrix</th>\n",
              "      <th>accuracy</th>\n",
              "      <th>recall</th>\n",
              "      <th>f1_score</th>\n",
              "      <th>roc_auc_score</th>\n",
              "    </tr>\n",
              "  </thead>\n",
              "  <tbody>\n",
              "    <tr>\n",
              "      <th>0</th>\n",
              "      <td>log_clf</td>\n",
              "      <td>[13920, 3139, 39, 92]</td>\n",
              "      <td>0.815125</td>\n",
              "      <td>0.702290</td>\n",
              "      <td>0.054729</td>\n",
              "      <td>0.759141</td>\n",
              "    </tr>\n",
              "    <tr>\n",
              "      <th>1</th>\n",
              "      <td>svc_clf</td>\n",
              "      <td>[16301, 758, 14, 117]</td>\n",
              "      <td>0.955090</td>\n",
              "      <td>0.893130</td>\n",
              "      <td>0.232604</td>\n",
              "      <td>0.924348</td>\n",
              "    </tr>\n",
              "    <tr>\n",
              "      <th>2</th>\n",
              "      <td>bayes_clf</td>\n",
              "      <td>[11200, 5859, 14, 117]</td>\n",
              "      <td>0.658348</td>\n",
              "      <td>0.893130</td>\n",
              "      <td>0.038317</td>\n",
              "      <td>0.774837</td>\n",
              "    </tr>\n",
              "    <tr>\n",
              "      <th>3</th>\n",
              "      <td>neigh_clf</td>\n",
              "      <td>[16553, 506, 12, 119]</td>\n",
              "      <td>0.969866</td>\n",
              "      <td>0.908397</td>\n",
              "      <td>0.314815</td>\n",
              "      <td>0.939368</td>\n",
              "    </tr>\n",
              "    <tr>\n",
              "      <th>4</th>\n",
              "      <td>tree_clf</td>\n",
              "      <td>[16927, 132, 22, 109]</td>\n",
              "      <td>0.991041</td>\n",
              "      <td>0.832061</td>\n",
              "      <td>0.586022</td>\n",
              "      <td>0.912162</td>\n",
              "    </tr>\n",
              "    <tr>\n",
              "      <th>5</th>\n",
              "      <td>rnd_clf</td>\n",
              "      <td>[16823, 236, 19, 112]</td>\n",
              "      <td>0.985166</td>\n",
              "      <td>0.854962</td>\n",
              "      <td>0.467641</td>\n",
              "      <td>0.920564</td>\n",
              "    </tr>\n",
              "    <tr>\n",
              "      <th>6</th>\n",
              "      <td>gboost_clf</td>\n",
              "      <td>[17008, 51, 21, 110]</td>\n",
              "      <td>0.995812</td>\n",
              "      <td>0.839695</td>\n",
              "      <td>0.753425</td>\n",
              "      <td>0.918353</td>\n",
              "    </tr>\n",
              "    <tr>\n",
              "      <th>7</th>\n",
              "      <td>xgboost_clf</td>\n",
              "      <td>[17001, 58, 22, 109]</td>\n",
              "      <td>0.995346</td>\n",
              "      <td>0.832061</td>\n",
              "      <td>0.731544</td>\n",
              "      <td>0.914331</td>\n",
              "    </tr>\n",
              "    <tr>\n",
              "      <th>8</th>\n",
              "      <td>lightgbm_clf</td>\n",
              "      <td>[16976, 83, 22, 109]</td>\n",
              "      <td>0.993892</td>\n",
              "      <td>0.832061</td>\n",
              "      <td>0.674923</td>\n",
              "      <td>0.913598</td>\n",
              "    </tr>\n",
              "    <tr>\n",
              "      <th>9</th>\n",
              "      <td>ann_clf</td>\n",
              "      <td>[16078, 981, 14, 117]</td>\n",
              "      <td>0.942118</td>\n",
              "      <td>0.893130</td>\n",
              "      <td>0.190399</td>\n",
              "      <td>0.917812</td>\n",
              "    </tr>\n",
              "  </tbody>\n",
              "</table>\n",
              "</div>\n",
              "      <button class=\"colab-df-convert\" onclick=\"convertToInteractive('df-19227fc3-c0c7-4553-a903-5313dadd61e8')\"\n",
              "              title=\"Convert this dataframe to an interactive table.\"\n",
              "              style=\"display:none;\">\n",
              "        \n",
              "  <svg xmlns=\"http://www.w3.org/2000/svg\" height=\"24px\"viewBox=\"0 0 24 24\"\n",
              "       width=\"24px\">\n",
              "    <path d=\"M0 0h24v24H0V0z\" fill=\"none\"/>\n",
              "    <path d=\"M18.56 5.44l.94 2.06.94-2.06 2.06-.94-2.06-.94-.94-2.06-.94 2.06-2.06.94zm-11 1L8.5 8.5l.94-2.06 2.06-.94-2.06-.94L8.5 2.5l-.94 2.06-2.06.94zm10 10l.94 2.06.94-2.06 2.06-.94-2.06-.94-.94-2.06-.94 2.06-2.06.94z\"/><path d=\"M17.41 7.96l-1.37-1.37c-.4-.4-.92-.59-1.43-.59-.52 0-1.04.2-1.43.59L10.3 9.45l-7.72 7.72c-.78.78-.78 2.05 0 2.83L4 21.41c.39.39.9.59 1.41.59.51 0 1.02-.2 1.41-.59l7.78-7.78 2.81-2.81c.8-.78.8-2.07 0-2.86zM5.41 20L4 18.59l7.72-7.72 1.47 1.35L5.41 20z\"/>\n",
              "  </svg>\n",
              "      </button>\n",
              "      \n",
              "  <style>\n",
              "    .colab-df-container {\n",
              "      display:flex;\n",
              "      flex-wrap:wrap;\n",
              "      gap: 12px;\n",
              "    }\n",
              "\n",
              "    .colab-df-convert {\n",
              "      background-color: #E8F0FE;\n",
              "      border: none;\n",
              "      border-radius: 50%;\n",
              "      cursor: pointer;\n",
              "      display: none;\n",
              "      fill: #1967D2;\n",
              "      height: 32px;\n",
              "      padding: 0 0 0 0;\n",
              "      width: 32px;\n",
              "    }\n",
              "\n",
              "    .colab-df-convert:hover {\n",
              "      background-color: #E2EBFA;\n",
              "      box-shadow: 0px 1px 2px rgba(60, 64, 67, 0.3), 0px 1px 3px 1px rgba(60, 64, 67, 0.15);\n",
              "      fill: #174EA6;\n",
              "    }\n",
              "\n",
              "    [theme=dark] .colab-df-convert {\n",
              "      background-color: #3B4455;\n",
              "      fill: #D2E3FC;\n",
              "    }\n",
              "\n",
              "    [theme=dark] .colab-df-convert:hover {\n",
              "      background-color: #434B5C;\n",
              "      box-shadow: 0px 1px 3px 1px rgba(0, 0, 0, 0.15);\n",
              "      filter: drop-shadow(0px 1px 2px rgba(0, 0, 0, 0.3));\n",
              "      fill: #FFFFFF;\n",
              "    }\n",
              "  </style>\n",
              "\n",
              "      <script>\n",
              "        const buttonEl =\n",
              "          document.querySelector('#df-19227fc3-c0c7-4553-a903-5313dadd61e8 button.colab-df-convert');\n",
              "        buttonEl.style.display =\n",
              "          google.colab.kernel.accessAllowed ? 'block' : 'none';\n",
              "\n",
              "        async function convertToInteractive(key) {\n",
              "          const element = document.querySelector('#df-19227fc3-c0c7-4553-a903-5313dadd61e8');\n",
              "          const dataTable =\n",
              "            await google.colab.kernel.invokeFunction('convertToInteractive',\n",
              "                                                     [key], {});\n",
              "          if (!dataTable) return;\n",
              "\n",
              "          const docLinkHtml = 'Like what you see? Visit the ' +\n",
              "            '<a target=\"_blank\" href=https://colab.research.google.com/notebooks/data_table.ipynb>data table notebook</a>'\n",
              "            + ' to learn more about interactive tables.';\n",
              "          element.innerHTML = '';\n",
              "          dataTable['output_type'] = 'display_data';\n",
              "          await google.colab.output.renderOutput(dataTable, element);\n",
              "          const docLink = document.createElement('div');\n",
              "          docLink.innerHTML = docLinkHtml;\n",
              "          element.appendChild(docLink);\n",
              "        }\n",
              "      </script>\n",
              "    </div>\n",
              "  </div>\n",
              "  "
            ]
          },
          "metadata": {}
        },
        {
          "output_type": "stream",
          "name": "stdout",
          "text": [
            "time: 26.5 ms (started: 2023-01-16 11:23:57 +00:00)\n"
          ]
        }
      ]
    },
    {
      "cell_type": "code",
      "source": [
        "print('Best Model By Accuracy')\n",
        "print(models_test.loc[models_test['accuracy'] == max(models_test['accuracy'])].model_name.to_string(index=False))\n",
        "print('-----------------------')\n",
        "print('Best Model By Recall')\n",
        "print(models_test.loc[models_test['recall'] == max(models_test['recall'])].model_name.to_string(index=False))\n",
        "print('-----------------------')\n",
        "print('Best Model By F1')\n",
        "print(models_test.loc[models_test['f1_score'] == max(models_test['f1_score'])].model_name.to_string(index=False))\n",
        "print('-----------------------')\n",
        "print('Best Model By ROC')\n",
        "print(models_test.loc[models_test['roc_auc_score'] == max(models_test['roc_auc_score'])].model_name.to_string(index=False))\n",
        "print('-----------------------')"
      ],
      "metadata": {
        "colab": {
          "base_uri": "https://localhost:8080/"
        },
        "id": "c0qTEysxqsdg",
        "outputId": "ed2a2006-9588-4692-97cb-5e2014db592d"
      },
      "execution_count": null,
      "outputs": [
        {
          "output_type": "stream",
          "name": "stdout",
          "text": [
            "Best Model By Accuracy\n",
            "gboost_clf\n",
            "-----------------------\n",
            "Best Model By Recall\n",
            "neigh_clf\n",
            "-----------------------\n",
            "Best Model By F1\n",
            "gboost_clf\n",
            "-----------------------\n",
            "Best Model By ROC\n",
            "neigh_clf\n",
            "-----------------------\n",
            "time: 14.1 ms (started: 2023-01-16 11:23:57 +00:00)\n"
          ]
        }
      ]
    },
    {
      "cell_type": "code",
      "source": [
        "name = 'ensem_clf'\n",
        "\n",
        "ensem_clf = VotingClassifier(estimators=[('m1', neigh_clf), ('m2', gboost_clf), ('m3', xgboost_clf)],\n",
        "                             voting = 'hard',\n",
        "                             n_jobs = -1, \n",
        "                             ).fit(X_train,y_train)\n",
        "\n",
        "y_true = y_test\n",
        "y_pred = ensem_clf.predict(X_test)\n",
        "evaluation_results = evaluation_metrics(y_true, y_pred)\n",
        "\n",
        "models_final = models_final.append({'model_name': name, \n",
        "                        'model': ensem_clf, \n",
        "                        'parameters': ensem_clf.get_params()}, \n",
        "                       ignore_index=True)\n",
        "\n",
        "models_test = models_test.append({'model_name': name, \n",
        "                                  'confusion_matrix' : evaluation_results[0], \n",
        "                                  'accuracy': evaluation_results[1], \n",
        "                                  'recall' : evaluation_results[2], \n",
        "                                  'f1_score': evaluation_results[3],\n",
        "                                  'roc_auc_score': evaluation_results[4]}, \n",
        "                                 ignore_index=True)"
      ],
      "metadata": {
        "id": "_xsVRC-uTvWB"
      },
      "execution_count": null,
      "outputs": []
    },
    {
      "cell_type": "code",
      "source": [
        "# Save Model\n",
        "pickle.dump(ensem_clf, open('ensem_clf.sav', 'wb')) \n",
        "\n",
        "# Load Model\n",
        "# ensem_clf = pickle.load(open('ensem_clf.sav', 'rb'))"
      ],
      "metadata": {
        "id": "IE0vWRn_TxEt"
      },
      "execution_count": null,
      "outputs": []
    },
    {
      "cell_type": "markdown",
      "source": [
        "# Model Testing Result"
      ],
      "metadata": {
        "id": "X5HHciHoO1we"
      }
    },
    {
      "cell_type": "markdown",
      "source": [
        "### Export Model"
      ],
      "metadata": {
        "id": "70sohAgS_bYu"
      }
    },
    {
      "cell_type": "code",
      "source": [
        "# !pip install micromlgen"
      ],
      "metadata": {
        "id": "l8Xtm8jzU8KQ"
      },
      "execution_count": null,
      "outputs": []
    },
    {
      "cell_type": "code",
      "source": [
        "# from micromlgen import port\n",
        "\n",
        "# print(port(rnd_clf))"
      ],
      "metadata": {
        "id": "Z3mQKLz2U9DB"
      },
      "execution_count": null,
      "outputs": []
    },
    {
      "cell_type": "markdown",
      "source": [
        "### Results"
      ],
      "metadata": {
        "id": "xE9WvYWP_ZCf"
      }
    },
    {
      "cell_type": "code",
      "source": [
        "display(models_final)"
      ],
      "metadata": {
        "id": "RNhaMzBeO39g"
      },
      "execution_count": null,
      "outputs": []
    },
    {
      "cell_type": "code",
      "source": [
        "display(models_test)"
      ],
      "metadata": {
        "id": "w7582rF8O1ll"
      },
      "execution_count": null,
      "outputs": []
    },
    {
      "cell_type": "code",
      "source": [
        "print('Best Model By Accuracy')\n",
        "print(models_test.loc[models_test['accuracy'] == max(models_test['accuracy'])].model_name.to_string(index=False))\n",
        "print('-----------------------')\n",
        "print('Best Model By Recall')\n",
        "print(models_test.loc[models_test['recall'] == max(models_test['recall'])].model_name.to_string(index=False))\n",
        "print('-----------------------')\n",
        "print('Best Model By F1')\n",
        "print(models_test.loc[models_test['f1_score'] == max(models_test['f1_score'])].model_name.to_string(index=False))\n",
        "print('-----------------------')\n",
        "print('Best Model By ROC')\n",
        "print(models_test.loc[models_test['roc_auc_score'] == max(models_test['roc_auc_score'])].model_name.to_string(index=False))\n",
        "print('-----------------------')"
      ],
      "metadata": {
        "id": "UIIwktbiO-KH"
      },
      "execution_count": null,
      "outputs": []
    },
    {
      "cell_type": "markdown",
      "source": [
        "After model testing, the best model identified is xgboost_clf with the following parameters\n",
        "\n",
        "* booster = 'gbtree',\n",
        "* verbosity = 1,\n",
        "* n_estimators = 750, \n",
        "* learning_rate = 0.01,\n",
        "* max_depth = 10, \n",
        "* min_child_weight = 1,\n",
        "* sampling_method = 'uniform',\n",
        "* gamma = 0,\n",
        "* random_state = 10\n",
        "\n",
        "Full version:\n",
        "{'base_score': 0.5, 'booster': 'gbtree', 'colsample_bylevel': 1, 'colsample_bynode': 1, 'colsample_bytree': 1, 'gamma': 0, 'learning_rate': 0.01, 'max_delta_step': 0, 'max_depth': 10, 'min_child_weight': 1, 'missing': None, 'n_estimators': 750, 'n_jobs': 1, 'nthread': None, 'objective': 'binary:logistic', 'random_state': 10, 'reg_alpha': 0, 'reg_lambda': 1, 'scale_pos_weight': 1, 'seed': None, 'silent': None, 'subsample': 1, 'verbosity': 1, 'sampling_method': 'uniform'}\n",
        "\n",
        "### **Key Findings**\n",
        "**General**\n",
        "* All models have a fairly good accuracy and recall score\n",
        "* F1 score, on the other hand, is quite poor for some\n",
        "  * This is due to the underfitting on an unbalanced dataset. Although SMOTE technique has been applied, some model algorithms are unable to capture the relationship between the input and output variables accurately even with the synthetic data\n",
        "* ROC score is the least important evaluation metrics here since it averages over all possible evaluation thresholds. It is just used for reference.\n",
        "\n",
        "**Random Forest Classifier**\n",
        "* Very quickly trained but performs slightly worse than xgboost_clf in all categories\n",
        "* Slightly worse than tree_clf in recall and roc\n",
        "\n",
        "**Decision Tree**\n",
        "* Very quickly trained but performs slightly worse than xgboost_clf in all categories\n",
        "* Slightly worse than rnd_clf in accuracy and f1\n",
        "\n",
        "**Support Vector Machine**\n",
        "* The SVM was deprecated early on in the development due to its many requirements and poor performance\n",
        "* It requires less training data, thus requiring undersampling technique to be applied\n",
        "* Despite this, it is still unable to gain an accuracy of over 80% and take notoriously long to train\n",
        "* Even the best parameters for it were not identified as it would take too long for possibly the worst result of all models\n",
        "\n",
        "**Logistic Regression**\n",
        "* Not that computationally expensive but poor performance generally in relative to other models, especially in f1_score\n",
        "\n",
        "**Naive Bayes**\n",
        "* Not that computationally expensive but poor performance generally in relative to other models, especially in f1_score\n",
        "\n",
        "**K-Nearest Neighbor**\n",
        "* A slightly worse version of gboost_clf\n",
        "\n",
        "**Gradient Boosting Classifier**\n",
        "* Although the best recall score is obtained by the gboost_clf and ann_clf, it performs massively worse in f1_score and is thus disqualified. \n",
        "\n",
        "**XGBoost**\n",
        "* xgboost_clf is the best performer in all metrics used except for recall, where it comes in 2nd\n",
        " * Upon further inspection, it is revealed that it is only be a different of 1 misclassification of 1 false negative case. \n",
        " * Thus, this can be overlooked\n",
        "* However, one massive downside to xgboost_clf is that it takes significantly longer to train when compared to other models that perform slightly worse (rnd_clf and tree_clf)\n",
        "\n",
        "**LightGBM**\n",
        "* Similar to gboost_clf and ann_clf with its poor performance in f1_score, but also worse than the other 2 in recall score\n",
        "\n",
        "**Artificial Neural Network**\n",
        "* Although the best recall score is obtained by the gboost_clf and ann_clf, it performs massively worse in f1_score and is thus disqualified. \n",
        "* Not much experiment has been conducted on ann_clf yet but this is due to the massive computational resources required. Note that this ann_clf is already nearly optimized in many of its parameters.\n",
        "\n",
        "**Ensemble Learning**\n",
        "* The application of ensemble learning did not improve the result of xgboost_clf especially in the recall score and took a long time to train. "
      ],
      "metadata": {
        "id": "WEqs8FYJO_2G"
      }
    },
    {
      "cell_type": "markdown",
      "source": [
        "### **Conclusion:**\n",
        "* Thus, xgboost_clf is the best performing model.\n",
        "* Personally, I would rate xgboost_clf > tree_clf = rnd_clf > ensem_clf > ann_clf = gboost_clf > lightgbm_clf >>> rest\n",
        "* If we need to retrain a model quickly, either tree_clf and rnd_clf would be more applicable."
      ],
      "metadata": {
        "id": "vsf9xFNJPCDb"
      }
    }
  ]
}