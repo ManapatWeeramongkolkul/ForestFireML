{
  "nbformat": 4,
  "nbformat_minor": 0,
  "metadata": {
    "colab": {
      "provenance": [],
      "toc_visible": true
    },
    "kernelspec": {
      "name": "python3",
      "display_name": "Python 3"
    },
    "language_info": {
      "name": "python"
    }
  },
  "cells": [
    {
      "cell_type": "markdown",
      "source": [
        "# Model Testing Pipeline"
      ],
      "metadata": {
        "id": "X0gcT8nXCSrj"
      }
    },
    {
      "cell_type": "markdown",
      "source": [
        "Identifying the best model (when considering their best parameters)\n",
        "\n",
        "1.   Re-train models using both training and validation data\n",
        "2.   Evaluate models using testing data"
      ],
      "metadata": {
        "id": "offcn2_6XQuz"
      }
    },
    {
      "cell_type": "code",
      "source": [
        "# Basic Libraries\n",
        "\n",
        "import numpy as np\n",
        "import pandas as pd\n",
        "import seaborn as sb\n",
        "import matplotlib.pyplot as plt\n",
        "\n",
        "from google.colab import drive\n",
        "drive.mount('/content/drive')"
      ],
      "metadata": {
        "id": "MHtSfJxdWlq0",
        "colab": {
          "base_uri": "https://localhost:8080/"
        },
        "outputId": "1505fc94-6c12-4673-80a3-7c0a7a737770"
      },
      "execution_count": null,
      "outputs": [
        {
          "output_type": "stream",
          "name": "stdout",
          "text": [
            "Mounted at /content/drive\n"
          ]
        }
      ]
    },
    {
      "cell_type": "code",
      "source": [
        "# Data Source\n",
        "\n",
        "df = pd.read_csv(\"/content/drive/MyDrive/Senior Project/Datasets/test_gee.csv\")\n",
        "df = df.drop('Unnamed: 0', axis=1)\n",
        "df.head()"
      ],
      "metadata": {
        "id": "0GxSoEprWoLW",
        "outputId": "55211ce0-2d7e-4f33-e815-536d321e0fc6",
        "colab": {
          "base_uri": "https://localhost:8080/",
          "height": 270
        }
      },
      "execution_count": null,
      "outputs": [
        {
          "output_type": "execute_result",
          "data": {
            "text/plain": [
              "   lat_min  lat_max  long_min  long_max  LATITUDE  LONGITUDE  BRIGHTNESS  \\\n",
              "0    9.704   10.130    98.405    98.699    9.9564    98.6264       311.7   \n",
              "1   13.827   13.944   100.926   101.128   13.9029   101.0592       314.4   \n",
              "2    8.517   18.718    99.298   100.996   15.0922   100.1598       313.3   \n",
              "3    8.517   18.718    99.298   100.996   15.0922   100.1598       313.3   \n",
              "4   13.672   18.502    98.565   100.476   15.0922   100.1598       313.3   \n",
              "\n",
              "     ACQ_DATE  ACQ_TIME  BRIGHT_T31  FireOccurred  CO_mol/m2  SO2_mol/m2  \\\n",
              "0  11/22/2018  07:00:00       296.7             0   0.029759   -0.000030   \n",
              "1  11/22/2018  07:00:00       293.4             0   0.035132    0.000080   \n",
              "2  11/22/2018  07:00:00       298.0             0   0.033847    0.000113   \n",
              "3  11/22/2018  07:00:00       298.0             0   0.033847    0.000113   \n",
              "4  11/22/2018  07:00:00       298.0             0   0.033263   -0.000102   \n",
              "\n",
              "   NO2_mol/m2  O3_mol/m2  A_NAME_E  INSTRUMENT  DAYNIGHT  \n",
              "0    0.000048   0.112910       288           0         0  \n",
              "1    0.000073   0.110186        38           0         0  \n",
              "2    0.000040   0.111066       602           0         0  \n",
              "3    0.000048   0.111066       602           0         0  \n",
              "4    0.000053   0.110693        88           0         0  "
            ],
            "text/html": [
              "\n",
              "  <div id=\"df-92d67e64-a1d1-4123-bcba-1c3a122705d0\">\n",
              "    <div class=\"colab-df-container\">\n",
              "      <div>\n",
              "<style scoped>\n",
              "    .dataframe tbody tr th:only-of-type {\n",
              "        vertical-align: middle;\n",
              "    }\n",
              "\n",
              "    .dataframe tbody tr th {\n",
              "        vertical-align: top;\n",
              "    }\n",
              "\n",
              "    .dataframe thead th {\n",
              "        text-align: right;\n",
              "    }\n",
              "</style>\n",
              "<table border=\"1\" class=\"dataframe\">\n",
              "  <thead>\n",
              "    <tr style=\"text-align: right;\">\n",
              "      <th></th>\n",
              "      <th>lat_min</th>\n",
              "      <th>lat_max</th>\n",
              "      <th>long_min</th>\n",
              "      <th>long_max</th>\n",
              "      <th>LATITUDE</th>\n",
              "      <th>LONGITUDE</th>\n",
              "      <th>BRIGHTNESS</th>\n",
              "      <th>ACQ_DATE</th>\n",
              "      <th>ACQ_TIME</th>\n",
              "      <th>BRIGHT_T31</th>\n",
              "      <th>FireOccurred</th>\n",
              "      <th>CO_mol/m2</th>\n",
              "      <th>SO2_mol/m2</th>\n",
              "      <th>NO2_mol/m2</th>\n",
              "      <th>O3_mol/m2</th>\n",
              "      <th>A_NAME_E</th>\n",
              "      <th>INSTRUMENT</th>\n",
              "      <th>DAYNIGHT</th>\n",
              "    </tr>\n",
              "  </thead>\n",
              "  <tbody>\n",
              "    <tr>\n",
              "      <th>0</th>\n",
              "      <td>9.704</td>\n",
              "      <td>10.130</td>\n",
              "      <td>98.405</td>\n",
              "      <td>98.699</td>\n",
              "      <td>9.9564</td>\n",
              "      <td>98.6264</td>\n",
              "      <td>311.7</td>\n",
              "      <td>11/22/2018</td>\n",
              "      <td>07:00:00</td>\n",
              "      <td>296.7</td>\n",
              "      <td>0</td>\n",
              "      <td>0.029759</td>\n",
              "      <td>-0.000030</td>\n",
              "      <td>0.000048</td>\n",
              "      <td>0.112910</td>\n",
              "      <td>288</td>\n",
              "      <td>0</td>\n",
              "      <td>0</td>\n",
              "    </tr>\n",
              "    <tr>\n",
              "      <th>1</th>\n",
              "      <td>13.827</td>\n",
              "      <td>13.944</td>\n",
              "      <td>100.926</td>\n",
              "      <td>101.128</td>\n",
              "      <td>13.9029</td>\n",
              "      <td>101.0592</td>\n",
              "      <td>314.4</td>\n",
              "      <td>11/22/2018</td>\n",
              "      <td>07:00:00</td>\n",
              "      <td>293.4</td>\n",
              "      <td>0</td>\n",
              "      <td>0.035132</td>\n",
              "      <td>0.000080</td>\n",
              "      <td>0.000073</td>\n",
              "      <td>0.110186</td>\n",
              "      <td>38</td>\n",
              "      <td>0</td>\n",
              "      <td>0</td>\n",
              "    </tr>\n",
              "    <tr>\n",
              "      <th>2</th>\n",
              "      <td>8.517</td>\n",
              "      <td>18.718</td>\n",
              "      <td>99.298</td>\n",
              "      <td>100.996</td>\n",
              "      <td>15.0922</td>\n",
              "      <td>100.1598</td>\n",
              "      <td>313.3</td>\n",
              "      <td>11/22/2018</td>\n",
              "      <td>07:00:00</td>\n",
              "      <td>298.0</td>\n",
              "      <td>0</td>\n",
              "      <td>0.033847</td>\n",
              "      <td>0.000113</td>\n",
              "      <td>0.000040</td>\n",
              "      <td>0.111066</td>\n",
              "      <td>602</td>\n",
              "      <td>0</td>\n",
              "      <td>0</td>\n",
              "    </tr>\n",
              "    <tr>\n",
              "      <th>3</th>\n",
              "      <td>8.517</td>\n",
              "      <td>18.718</td>\n",
              "      <td>99.298</td>\n",
              "      <td>100.996</td>\n",
              "      <td>15.0922</td>\n",
              "      <td>100.1598</td>\n",
              "      <td>313.3</td>\n",
              "      <td>11/22/2018</td>\n",
              "      <td>07:00:00</td>\n",
              "      <td>298.0</td>\n",
              "      <td>0</td>\n",
              "      <td>0.033847</td>\n",
              "      <td>0.000113</td>\n",
              "      <td>0.000048</td>\n",
              "      <td>0.111066</td>\n",
              "      <td>602</td>\n",
              "      <td>0</td>\n",
              "      <td>0</td>\n",
              "    </tr>\n",
              "    <tr>\n",
              "      <th>4</th>\n",
              "      <td>13.672</td>\n",
              "      <td>18.502</td>\n",
              "      <td>98.565</td>\n",
              "      <td>100.476</td>\n",
              "      <td>15.0922</td>\n",
              "      <td>100.1598</td>\n",
              "      <td>313.3</td>\n",
              "      <td>11/22/2018</td>\n",
              "      <td>07:00:00</td>\n",
              "      <td>298.0</td>\n",
              "      <td>0</td>\n",
              "      <td>0.033263</td>\n",
              "      <td>-0.000102</td>\n",
              "      <td>0.000053</td>\n",
              "      <td>0.110693</td>\n",
              "      <td>88</td>\n",
              "      <td>0</td>\n",
              "      <td>0</td>\n",
              "    </tr>\n",
              "  </tbody>\n",
              "</table>\n",
              "</div>\n",
              "      <button class=\"colab-df-convert\" onclick=\"convertToInteractive('df-92d67e64-a1d1-4123-bcba-1c3a122705d0')\"\n",
              "              title=\"Convert this dataframe to an interactive table.\"\n",
              "              style=\"display:none;\">\n",
              "        \n",
              "  <svg xmlns=\"http://www.w3.org/2000/svg\" height=\"24px\"viewBox=\"0 0 24 24\"\n",
              "       width=\"24px\">\n",
              "    <path d=\"M0 0h24v24H0V0z\" fill=\"none\"/>\n",
              "    <path d=\"M18.56 5.44l.94 2.06.94-2.06 2.06-.94-2.06-.94-.94-2.06-.94 2.06-2.06.94zm-11 1L8.5 8.5l.94-2.06 2.06-.94-2.06-.94L8.5 2.5l-.94 2.06-2.06.94zm10 10l.94 2.06.94-2.06 2.06-.94-2.06-.94-.94-2.06-.94 2.06-2.06.94z\"/><path d=\"M17.41 7.96l-1.37-1.37c-.4-.4-.92-.59-1.43-.59-.52 0-1.04.2-1.43.59L10.3 9.45l-7.72 7.72c-.78.78-.78 2.05 0 2.83L4 21.41c.39.39.9.59 1.41.59.51 0 1.02-.2 1.41-.59l7.78-7.78 2.81-2.81c.8-.78.8-2.07 0-2.86zM5.41 20L4 18.59l7.72-7.72 1.47 1.35L5.41 20z\"/>\n",
              "  </svg>\n",
              "      </button>\n",
              "      \n",
              "  <style>\n",
              "    .colab-df-container {\n",
              "      display:flex;\n",
              "      flex-wrap:wrap;\n",
              "      gap: 12px;\n",
              "    }\n",
              "\n",
              "    .colab-df-convert {\n",
              "      background-color: #E8F0FE;\n",
              "      border: none;\n",
              "      border-radius: 50%;\n",
              "      cursor: pointer;\n",
              "      display: none;\n",
              "      fill: #1967D2;\n",
              "      height: 32px;\n",
              "      padding: 0 0 0 0;\n",
              "      width: 32px;\n",
              "    }\n",
              "\n",
              "    .colab-df-convert:hover {\n",
              "      background-color: #E2EBFA;\n",
              "      box-shadow: 0px 1px 2px rgba(60, 64, 67, 0.3), 0px 1px 3px 1px rgba(60, 64, 67, 0.15);\n",
              "      fill: #174EA6;\n",
              "    }\n",
              "\n",
              "    [theme=dark] .colab-df-convert {\n",
              "      background-color: #3B4455;\n",
              "      fill: #D2E3FC;\n",
              "    }\n",
              "\n",
              "    [theme=dark] .colab-df-convert:hover {\n",
              "      background-color: #434B5C;\n",
              "      box-shadow: 0px 1px 3px 1px rgba(0, 0, 0, 0.15);\n",
              "      filter: drop-shadow(0px 1px 2px rgba(0, 0, 0, 0.3));\n",
              "      fill: #FFFFFF;\n",
              "    }\n",
              "  </style>\n",
              "\n",
              "      <script>\n",
              "        const buttonEl =\n",
              "          document.querySelector('#df-92d67e64-a1d1-4123-bcba-1c3a122705d0 button.colab-df-convert');\n",
              "        buttonEl.style.display =\n",
              "          google.colab.kernel.accessAllowed ? 'block' : 'none';\n",
              "\n",
              "        async function convertToInteractive(key) {\n",
              "          const element = document.querySelector('#df-92d67e64-a1d1-4123-bcba-1c3a122705d0');\n",
              "          const dataTable =\n",
              "            await google.colab.kernel.invokeFunction('convertToInteractive',\n",
              "                                                     [key], {});\n",
              "          if (!dataTable) return;\n",
              "\n",
              "          const docLinkHtml = 'Like what you see? Visit the ' +\n",
              "            '<a target=\"_blank\" href=https://colab.research.google.com/notebooks/data_table.ipynb>data table notebook</a>'\n",
              "            + ' to learn more about interactive tables.';\n",
              "          element.innerHTML = '';\n",
              "          dataTable['output_type'] = 'display_data';\n",
              "          await google.colab.output.renderOutput(dataTable, element);\n",
              "          const docLink = document.createElement('div');\n",
              "          docLink.innerHTML = docLinkHtml;\n",
              "          element.appendChild(docLink);\n",
              "        }\n",
              "      </script>\n",
              "    </div>\n",
              "  </div>\n",
              "  "
            ]
          },
          "metadata": {},
          "execution_count": 3
        }
      ]
    },
    {
      "cell_type": "code",
      "source": [
        "df['FireOccurred'].value_counts()\n",
        "print(\"Column numbers: \", len(df.columns))"
      ],
      "metadata": {
        "id": "_YD_aLsrWoFf",
        "colab": {
          "base_uri": "https://localhost:8080/"
        },
        "outputId": "49654f02-f17b-4e52-9779-81e8c85e1311"
      },
      "execution_count": null,
      "outputs": [
        {
          "output_type": "stream",
          "name": "stdout",
          "text": [
            "Column numbers:  18\n"
          ]
        }
      ]
    },
    {
      "cell_type": "code",
      "source": [
        "# Encoder & Scaler\n",
        "\n",
        "X = df.drop('FireOccurred', axis=1)\n",
        "y = df['FireOccurred']\n",
        "\n",
        "from sklearn.preprocessing import LabelEncoder\n",
        "from sklearn.preprocessing import StandardScaler\n",
        "\n",
        "encoder = LabelEncoder()\n",
        "for i in range(len(df.columns)-1):\n",
        "  X.iloc[:,i] = encoder.fit_transform(X.iloc[:,i])\n",
        "\n",
        "scaler = StandardScaler().fit(X)\n",
        "test = scaler.transform(X)\n",
        "\n",
        "display(X)"
      ],
      "metadata": {
        "id": "5oCgW1dXWn2z",
        "colab": {
          "base_uri": "https://localhost:8080/",
          "height": 424
        },
        "outputId": "ea76d4fc-5625-4e24-c023-76ce35802863"
      },
      "execution_count": null,
      "outputs": [
        {
          "output_type": "display_data",
          "data": {
            "text/plain": [
              "        lat_min  lat_max  long_min  long_max  LATITUDE  LONGITUDE  BRIGHTNESS  \\\n",
              "0            49       48        15        16       158       2658          53   \n",
              "1           121      115       288       295      1315      14877          80   \n",
              "2            36      539        83       280      5402      10407          69   \n",
              "3            36      539        83       280      5402      10407          69   \n",
              "4           109      530        20       219      5402      10407          69   \n",
              "...         ...      ...       ...       ...       ...        ...         ...   \n",
              "154396      146      146       208       233      2146      11002         305   \n",
              "154397      146      146       208       233      2146      11002         305   \n",
              "154398      146      146       208       233      2146      11002         305   \n",
              "154399      146      146       208       233      2146      11002         305   \n",
              "154400      180      454       266       456      6682      15481         337   \n",
              "\n",
              "        ACQ_DATE  ACQ_TIME  BRIGHT_T31  CO_mol/m2  SO2_mol/m2  NO2_mol/m2  \\\n",
              "0            345         1         256        349        3822         906   \n",
              "1            345         1         221        828        6483        6029   \n",
              "2            345         1         269        631        7115         167   \n",
              "3            345         1         269        631        7115         914   \n",
              "4            345         1         269        556        2134        1826   \n",
              "...          ...       ...         ...        ...         ...         ...   \n",
              "154396       311         1          86        133        1145        6767   \n",
              "154397       311         1          86        118        1145        6767   \n",
              "154398       311         1          86        133        1145        6201   \n",
              "154399       311         1          86        118        1145        6201   \n",
              "154400       321         1          78        176        4313        5668   \n",
              "\n",
              "        O3_mol/m2  A_NAME_E  INSTRUMENT  DAYNIGHT  \n",
              "0            4287       288           0         0  \n",
              "1            2689        38           0         0  \n",
              "2            3191       602           0         0  \n",
              "3            3191       602           0         0  \n",
              "4            2985        88           0         0  \n",
              "...           ...       ...         ...       ...  \n",
              "154396       7157        47           1         0  \n",
              "154397       7157        47           1         0  \n",
              "154398       7157        47           1         0  \n",
              "154399       7157        47           1         0  \n",
              "154400       8350       364           1         0  \n",
              "\n",
              "[154401 rows x 17 columns]"
            ],
            "text/html": [
              "\n",
              "  <div id=\"df-8047a097-fcdb-454f-8e57-136522ac0901\">\n",
              "    <div class=\"colab-df-container\">\n",
              "      <div>\n",
              "<style scoped>\n",
              "    .dataframe tbody tr th:only-of-type {\n",
              "        vertical-align: middle;\n",
              "    }\n",
              "\n",
              "    .dataframe tbody tr th {\n",
              "        vertical-align: top;\n",
              "    }\n",
              "\n",
              "    .dataframe thead th {\n",
              "        text-align: right;\n",
              "    }\n",
              "</style>\n",
              "<table border=\"1\" class=\"dataframe\">\n",
              "  <thead>\n",
              "    <tr style=\"text-align: right;\">\n",
              "      <th></th>\n",
              "      <th>lat_min</th>\n",
              "      <th>lat_max</th>\n",
              "      <th>long_min</th>\n",
              "      <th>long_max</th>\n",
              "      <th>LATITUDE</th>\n",
              "      <th>LONGITUDE</th>\n",
              "      <th>BRIGHTNESS</th>\n",
              "      <th>ACQ_DATE</th>\n",
              "      <th>ACQ_TIME</th>\n",
              "      <th>BRIGHT_T31</th>\n",
              "      <th>CO_mol/m2</th>\n",
              "      <th>SO2_mol/m2</th>\n",
              "      <th>NO2_mol/m2</th>\n",
              "      <th>O3_mol/m2</th>\n",
              "      <th>A_NAME_E</th>\n",
              "      <th>INSTRUMENT</th>\n",
              "      <th>DAYNIGHT</th>\n",
              "    </tr>\n",
              "  </thead>\n",
              "  <tbody>\n",
              "    <tr>\n",
              "      <th>0</th>\n",
              "      <td>49</td>\n",
              "      <td>48</td>\n",
              "      <td>15</td>\n",
              "      <td>16</td>\n",
              "      <td>158</td>\n",
              "      <td>2658</td>\n",
              "      <td>53</td>\n",
              "      <td>345</td>\n",
              "      <td>1</td>\n",
              "      <td>256</td>\n",
              "      <td>349</td>\n",
              "      <td>3822</td>\n",
              "      <td>906</td>\n",
              "      <td>4287</td>\n",
              "      <td>288</td>\n",
              "      <td>0</td>\n",
              "      <td>0</td>\n",
              "    </tr>\n",
              "    <tr>\n",
              "      <th>1</th>\n",
              "      <td>121</td>\n",
              "      <td>115</td>\n",
              "      <td>288</td>\n",
              "      <td>295</td>\n",
              "      <td>1315</td>\n",
              "      <td>14877</td>\n",
              "      <td>80</td>\n",
              "      <td>345</td>\n",
              "      <td>1</td>\n",
              "      <td>221</td>\n",
              "      <td>828</td>\n",
              "      <td>6483</td>\n",
              "      <td>6029</td>\n",
              "      <td>2689</td>\n",
              "      <td>38</td>\n",
              "      <td>0</td>\n",
              "      <td>0</td>\n",
              "    </tr>\n",
              "    <tr>\n",
              "      <th>2</th>\n",
              "      <td>36</td>\n",
              "      <td>539</td>\n",
              "      <td>83</td>\n",
              "      <td>280</td>\n",
              "      <td>5402</td>\n",
              "      <td>10407</td>\n",
              "      <td>69</td>\n",
              "      <td>345</td>\n",
              "      <td>1</td>\n",
              "      <td>269</td>\n",
              "      <td>631</td>\n",
              "      <td>7115</td>\n",
              "      <td>167</td>\n",
              "      <td>3191</td>\n",
              "      <td>602</td>\n",
              "      <td>0</td>\n",
              "      <td>0</td>\n",
              "    </tr>\n",
              "    <tr>\n",
              "      <th>3</th>\n",
              "      <td>36</td>\n",
              "      <td>539</td>\n",
              "      <td>83</td>\n",
              "      <td>280</td>\n",
              "      <td>5402</td>\n",
              "      <td>10407</td>\n",
              "      <td>69</td>\n",
              "      <td>345</td>\n",
              "      <td>1</td>\n",
              "      <td>269</td>\n",
              "      <td>631</td>\n",
              "      <td>7115</td>\n",
              "      <td>914</td>\n",
              "      <td>3191</td>\n",
              "      <td>602</td>\n",
              "      <td>0</td>\n",
              "      <td>0</td>\n",
              "    </tr>\n",
              "    <tr>\n",
              "      <th>4</th>\n",
              "      <td>109</td>\n",
              "      <td>530</td>\n",
              "      <td>20</td>\n",
              "      <td>219</td>\n",
              "      <td>5402</td>\n",
              "      <td>10407</td>\n",
              "      <td>69</td>\n",
              "      <td>345</td>\n",
              "      <td>1</td>\n",
              "      <td>269</td>\n",
              "      <td>556</td>\n",
              "      <td>2134</td>\n",
              "      <td>1826</td>\n",
              "      <td>2985</td>\n",
              "      <td>88</td>\n",
              "      <td>0</td>\n",
              "      <td>0</td>\n",
              "    </tr>\n",
              "    <tr>\n",
              "      <th>...</th>\n",
              "      <td>...</td>\n",
              "      <td>...</td>\n",
              "      <td>...</td>\n",
              "      <td>...</td>\n",
              "      <td>...</td>\n",
              "      <td>...</td>\n",
              "      <td>...</td>\n",
              "      <td>...</td>\n",
              "      <td>...</td>\n",
              "      <td>...</td>\n",
              "      <td>...</td>\n",
              "      <td>...</td>\n",
              "      <td>...</td>\n",
              "      <td>...</td>\n",
              "      <td>...</td>\n",
              "      <td>...</td>\n",
              "      <td>...</td>\n",
              "    </tr>\n",
              "    <tr>\n",
              "      <th>154396</th>\n",
              "      <td>146</td>\n",
              "      <td>146</td>\n",
              "      <td>208</td>\n",
              "      <td>233</td>\n",
              "      <td>2146</td>\n",
              "      <td>11002</td>\n",
              "      <td>305</td>\n",
              "      <td>311</td>\n",
              "      <td>1</td>\n",
              "      <td>86</td>\n",
              "      <td>133</td>\n",
              "      <td>1145</td>\n",
              "      <td>6767</td>\n",
              "      <td>7157</td>\n",
              "      <td>47</td>\n",
              "      <td>1</td>\n",
              "      <td>0</td>\n",
              "    </tr>\n",
              "    <tr>\n",
              "      <th>154397</th>\n",
              "      <td>146</td>\n",
              "      <td>146</td>\n",
              "      <td>208</td>\n",
              "      <td>233</td>\n",
              "      <td>2146</td>\n",
              "      <td>11002</td>\n",
              "      <td>305</td>\n",
              "      <td>311</td>\n",
              "      <td>1</td>\n",
              "      <td>86</td>\n",
              "      <td>118</td>\n",
              "      <td>1145</td>\n",
              "      <td>6767</td>\n",
              "      <td>7157</td>\n",
              "      <td>47</td>\n",
              "      <td>1</td>\n",
              "      <td>0</td>\n",
              "    </tr>\n",
              "    <tr>\n",
              "      <th>154398</th>\n",
              "      <td>146</td>\n",
              "      <td>146</td>\n",
              "      <td>208</td>\n",
              "      <td>233</td>\n",
              "      <td>2146</td>\n",
              "      <td>11002</td>\n",
              "      <td>305</td>\n",
              "      <td>311</td>\n",
              "      <td>1</td>\n",
              "      <td>86</td>\n",
              "      <td>133</td>\n",
              "      <td>1145</td>\n",
              "      <td>6201</td>\n",
              "      <td>7157</td>\n",
              "      <td>47</td>\n",
              "      <td>1</td>\n",
              "      <td>0</td>\n",
              "    </tr>\n",
              "    <tr>\n",
              "      <th>154399</th>\n",
              "      <td>146</td>\n",
              "      <td>146</td>\n",
              "      <td>208</td>\n",
              "      <td>233</td>\n",
              "      <td>2146</td>\n",
              "      <td>11002</td>\n",
              "      <td>305</td>\n",
              "      <td>311</td>\n",
              "      <td>1</td>\n",
              "      <td>86</td>\n",
              "      <td>118</td>\n",
              "      <td>1145</td>\n",
              "      <td>6201</td>\n",
              "      <td>7157</td>\n",
              "      <td>47</td>\n",
              "      <td>1</td>\n",
              "      <td>0</td>\n",
              "    </tr>\n",
              "    <tr>\n",
              "      <th>154400</th>\n",
              "      <td>180</td>\n",
              "      <td>454</td>\n",
              "      <td>266</td>\n",
              "      <td>456</td>\n",
              "      <td>6682</td>\n",
              "      <td>15481</td>\n",
              "      <td>337</td>\n",
              "      <td>321</td>\n",
              "      <td>1</td>\n",
              "      <td>78</td>\n",
              "      <td>176</td>\n",
              "      <td>4313</td>\n",
              "      <td>5668</td>\n",
              "      <td>8350</td>\n",
              "      <td>364</td>\n",
              "      <td>1</td>\n",
              "      <td>0</td>\n",
              "    </tr>\n",
              "  </tbody>\n",
              "</table>\n",
              "<p>154401 rows × 17 columns</p>\n",
              "</div>\n",
              "      <button class=\"colab-df-convert\" onclick=\"convertToInteractive('df-8047a097-fcdb-454f-8e57-136522ac0901')\"\n",
              "              title=\"Convert this dataframe to an interactive table.\"\n",
              "              style=\"display:none;\">\n",
              "        \n",
              "  <svg xmlns=\"http://www.w3.org/2000/svg\" height=\"24px\"viewBox=\"0 0 24 24\"\n",
              "       width=\"24px\">\n",
              "    <path d=\"M0 0h24v24H0V0z\" fill=\"none\"/>\n",
              "    <path d=\"M18.56 5.44l.94 2.06.94-2.06 2.06-.94-2.06-.94-.94-2.06-.94 2.06-2.06.94zm-11 1L8.5 8.5l.94-2.06 2.06-.94-2.06-.94L8.5 2.5l-.94 2.06-2.06.94zm10 10l.94 2.06.94-2.06 2.06-.94-2.06-.94-.94-2.06-.94 2.06-2.06.94z\"/><path d=\"M17.41 7.96l-1.37-1.37c-.4-.4-.92-.59-1.43-.59-.52 0-1.04.2-1.43.59L10.3 9.45l-7.72 7.72c-.78.78-.78 2.05 0 2.83L4 21.41c.39.39.9.59 1.41.59.51 0 1.02-.2 1.41-.59l7.78-7.78 2.81-2.81c.8-.78.8-2.07 0-2.86zM5.41 20L4 18.59l7.72-7.72 1.47 1.35L5.41 20z\"/>\n",
              "  </svg>\n",
              "      </button>\n",
              "      \n",
              "  <style>\n",
              "    .colab-df-container {\n",
              "      display:flex;\n",
              "      flex-wrap:wrap;\n",
              "      gap: 12px;\n",
              "    }\n",
              "\n",
              "    .colab-df-convert {\n",
              "      background-color: #E8F0FE;\n",
              "      border: none;\n",
              "      border-radius: 50%;\n",
              "      cursor: pointer;\n",
              "      display: none;\n",
              "      fill: #1967D2;\n",
              "      height: 32px;\n",
              "      padding: 0 0 0 0;\n",
              "      width: 32px;\n",
              "    }\n",
              "\n",
              "    .colab-df-convert:hover {\n",
              "      background-color: #E2EBFA;\n",
              "      box-shadow: 0px 1px 2px rgba(60, 64, 67, 0.3), 0px 1px 3px 1px rgba(60, 64, 67, 0.15);\n",
              "      fill: #174EA6;\n",
              "    }\n",
              "\n",
              "    [theme=dark] .colab-df-convert {\n",
              "      background-color: #3B4455;\n",
              "      fill: #D2E3FC;\n",
              "    }\n",
              "\n",
              "    [theme=dark] .colab-df-convert:hover {\n",
              "      background-color: #434B5C;\n",
              "      box-shadow: 0px 1px 3px 1px rgba(0, 0, 0, 0.15);\n",
              "      filter: drop-shadow(0px 1px 2px rgba(0, 0, 0, 0.3));\n",
              "      fill: #FFFFFF;\n",
              "    }\n",
              "  </style>\n",
              "\n",
              "      <script>\n",
              "        const buttonEl =\n",
              "          document.querySelector('#df-8047a097-fcdb-454f-8e57-136522ac0901 button.colab-df-convert');\n",
              "        buttonEl.style.display =\n",
              "          google.colab.kernel.accessAllowed ? 'block' : 'none';\n",
              "\n",
              "        async function convertToInteractive(key) {\n",
              "          const element = document.querySelector('#df-8047a097-fcdb-454f-8e57-136522ac0901');\n",
              "          const dataTable =\n",
              "            await google.colab.kernel.invokeFunction('convertToInteractive',\n",
              "                                                     [key], {});\n",
              "          if (!dataTable) return;\n",
              "\n",
              "          const docLinkHtml = 'Like what you see? Visit the ' +\n",
              "            '<a target=\"_blank\" href=https://colab.research.google.com/notebooks/data_table.ipynb>data table notebook</a>'\n",
              "            + ' to learn more about interactive tables.';\n",
              "          element.innerHTML = '';\n",
              "          dataTable['output_type'] = 'display_data';\n",
              "          await google.colab.output.renderOutput(dataTable, element);\n",
              "          const docLink = document.createElement('div');\n",
              "          docLink.innerHTML = docLinkHtml;\n",
              "          element.appendChild(docLink);\n",
              "        }\n",
              "      </script>\n",
              "    </div>\n",
              "  </div>\n",
              "  "
            ]
          },
          "metadata": {}
        }
      ]
    },
    {
      "cell_type": "code",
      "source": [
        "# Training, Testing Split\n",
        "\n",
        "from sklearn.model_selection import train_test_split\n",
        "\n",
        "# 90:10\n",
        "\n",
        "X_train, X_test, y_train, y_test = train_test_split(X, y, test_size=0.10, random_state=10, shuffle=True)\n",
        "\n",
        "Original = [X_train, X_test, y_train, y_test] # For reference"
      ],
      "metadata": {
        "id": "LF5R0TqqWqAQ"
      },
      "execution_count": null,
      "outputs": []
    },
    {
      "cell_type": "code",
      "source": [
        "if len(X_train)==len(y_train) and len(X_test) == len(y_test):\n",
        "  print(\"X and y data length matching\")\n",
        "else:\n",
        "  print(\"Error in data preparation pipeline\")\n",
        "print()\n",
        "print(\"No. of training data = %d\" % len(X_train))\n",
        "print(\"No. of testing data = %d\" % len(X_test))"
      ],
      "metadata": {
        "id": "Q1mt3NsQWgVN",
        "colab": {
          "base_uri": "https://localhost:8080/"
        },
        "outputId": "c7913075-b77c-4cf7-f89f-9f2ba5ca8173"
      },
      "execution_count": null,
      "outputs": [
        {
          "output_type": "stream",
          "name": "stdout",
          "text": [
            "X and y data length matching\n",
            "\n",
            "No. of training data = 138960\n",
            "No. of testing data = 15441\n"
          ]
        }
      ]
    },
    {
      "cell_type": "code",
      "source": [
        "display(y_test.value_counts())"
      ],
      "metadata": {
        "id": "pIhtWUGDmlHn",
        "colab": {
          "base_uri": "https://localhost:8080/",
          "height": 69
        },
        "outputId": "864b74d3-282c-4085-8e9c-fccebd605e4a"
      },
      "execution_count": null,
      "outputs": [
        {
          "output_type": "display_data",
          "data": {
            "text/plain": [
              "0    15266\n",
              "1      175\n",
              "Name: FireOccurred, dtype: int64"
            ]
          },
          "metadata": {}
        }
      ]
    },
    {
      "cell_type": "code",
      "source": [
        "# SMOTE\n",
        "\n",
        "from collections import Counter\n",
        "from imblearn.over_sampling import SMOTE \n",
        "\n",
        "print('Original dataset shape %s' % Counter(y_train))\n",
        "sm = SMOTE(random_state=10)\n",
        "X_train, y_train = sm.fit_resample(X_train, y_train)\n",
        "print('Resampled dataset shape %s' % Counter(y_train))"
      ],
      "metadata": {
        "id": "GhX5M0pSnDq7",
        "colab": {
          "base_uri": "https://localhost:8080/"
        },
        "outputId": "48b8df0f-62dc-4e47-9781-f65a18e69353"
      },
      "execution_count": null,
      "outputs": [
        {
          "output_type": "stream",
          "name": "stdout",
          "text": [
            "Original dataset shape Counter({0: 137314, 1: 1646})\n",
            "Resampled dataset shape Counter({0: 137314, 1: 137314})\n"
          ]
        }
      ]
    },
    {
      "cell_type": "code",
      "source": [
        "# Evaluation Metrics\n",
        "\n",
        "from sklearn.metrics import confusion_matrix, recall_score, f1_score, roc_auc_score, accuracy_score\n",
        "\n",
        "def evaluation_metrics(y_true, y_pred):\n",
        "  cfm = confusion_matrix(y_true, y_pred).ravel()\n",
        "  acc = accuracy_score(y_true, y_pred)\n",
        "  recs = recall_score(y_true, y_pred, average='binary')\n",
        "  f1s = f1_score(y_true, y_pred, average='binary')\n",
        "  rocs = roc_auc_score(y_true, y_pred, average='macro')\n",
        "  return [cfm, acc, recs, f1s, rocs]"
      ],
      "metadata": {
        "id": "AsnI9sv5nNyu"
      },
      "execution_count": null,
      "outputs": []
    },
    {
      "cell_type": "markdown",
      "source": [
        "Confusion matrix format : [ tn , fp , fn , tp ]"
      ],
      "metadata": {
        "id": "bPS8aE8bpEa4"
      }
    },
    {
      "cell_type": "code",
      "source": [
        "# Store Model Parameters and Eval\n",
        "\n",
        "models_final = pd.DataFrame(columns = ['model_name', 'model', 'parameters'])\n",
        "models_test = pd.DataFrame(columns = ['model_name', 'confusion_matrix', 'accuracy', 'recall', 'f1_score', 'roc_auc_score'])"
      ],
      "metadata": {
        "id": "beEJSW87njvC"
      },
      "execution_count": null,
      "outputs": []
    },
    {
      "cell_type": "code",
      "execution_count": null,
      "metadata": {
        "id": "jZr8lVAHyw_I"
      },
      "outputs": [],
      "source": [
        "# Import ML Algorithms\n",
        "\n",
        "from sklearn.linear_model import LogisticRegression\n",
        "from sklearn.svm import SVC\n",
        "from sklearn.naive_bayes import GaussianNB\n",
        "from sklearn.neighbors import KNeighborsClassifier\n",
        "from sklearn.ensemble import RandomForestClassifier\n",
        "from sklearn.tree import DecisionTreeClassifier\n",
        "from sklearn.ensemble import GradientBoostingClassifier\n",
        "import xgboost\n",
        "from xgboost import XGBClassifier\n",
        "import lightgbm\n",
        "from lightgbm import LGBMClassifier\n",
        "import tensorflow as tf\n",
        "from tensorflow import keras\n",
        "from sklearn.ensemble import VotingClassifier\n",
        "\n",
        "# Save Model\n",
        "\n",
        "import pickle"
      ]
    },
    {
      "cell_type": "markdown",
      "source": [
        "## Logistic Regression\n",
        "\n",
        "- Library: Scikit-learn\n",
        "- 39 seconds to train\n",
        "\n",
        "**Best Parameters:**\n",
        "\n",
        "{'warm_start': False,\n",
        " 'solver': 'newton-cg',\n",
        " 'penalty': 'none',\n",
        " 'max_iter': 247,\n",
        " 'dual': False,\n",
        " 'C': 0}"
      ],
      "metadata": {
        "id": "Xcwy2Vgsuu56"
      }
    },
    {
      "cell_type": "code",
      "source": [
        "name = 'log_clf'\n",
        "\n",
        "log_clf = LogisticRegression(penalty = 'none', \n",
        "                             warm_start = False,\n",
        "                             solver = 'newton-cg',\n",
        "                             max_iter = 247,\n",
        "                             dual = False,\n",
        "                             C = 0,\n",
        "                             n_jobs = -1, \n",
        "                             random_state = 10\n",
        "                             ).fit(X_train,y_train)\n",
        "\n",
        "y_true = y_test\n",
        "y_pred = log_clf.predict(X_test)\n",
        "evaluation_results = evaluation_metrics(y_true, y_pred)\n",
        "\n",
        "models_final = models_final.append({'model_name': name, \n",
        "                        'model': log_clf, \n",
        "                        'parameters': log_clf.get_params()}, \n",
        "                       ignore_index=True)\n",
        "\n",
        "models_test = models_test.append({'model_name': name, \n",
        "                                  'confusion_matrix' : evaluation_results[0], \n",
        "                                  'accuracy': evaluation_results[1], \n",
        "                                  'recall' : evaluation_results[2], \n",
        "                                  'f1_score': evaluation_results[3],\n",
        "                                  'roc_auc_score': evaluation_results[4]}, \n",
        "                                 ignore_index=True)"
      ],
      "metadata": {
        "id": "GTz0ABHmZXIA",
        "colab": {
          "base_uri": "https://localhost:8080/"
        },
        "outputId": "2a8d878e-32bf-4f44-cc26-f05d9997121d"
      },
      "execution_count": null,
      "outputs": [
        {
          "output_type": "stream",
          "name": "stderr",
          "text": [
            "/usr/local/lib/python3.8/dist-packages/sklearn/linear_model/_logistic.py:1483: UserWarning: Setting penalty='none' will ignore the C and l1_ratio parameters\n",
            "  warnings.warn(\n"
          ]
        }
      ]
    },
    {
      "cell_type": "code",
      "source": [
        "# Save Model\n",
        "pickle.dump(log_clf, open('log_clf.sav', 'wb')) \n",
        "\n",
        "# Load Model\n",
        "# log_clf = pickle.load(open('log_clf.sav', 'rb'))"
      ],
      "metadata": {
        "id": "awohG7WaP4AL"
      },
      "execution_count": null,
      "outputs": []
    },
    {
      "cell_type": "markdown",
      "source": [
        "## Support Vector Machine (SVM)\n",
        "\n",
        "- Library: Scikit-learn\n",
        "\n",
        "- Deprecated. Poor performance no matter what.\n",
        "\n",
        "**Best Parameters:**"
      ],
      "metadata": {
        "id": "1LPWXBKHuu3j"
      }
    },
    {
      "cell_type": "code",
      "source": [
        "X_train_SVM = Original[0]\n",
        "X_test_SVM = Original[1]\n",
        "y_train_SVM = Original[2]\n",
        "y_test_SVM = Original[3]"
      ],
      "metadata": {
        "id": "HpYzEFK-ZXez"
      },
      "execution_count": null,
      "outputs": []
    },
    {
      "cell_type": "code",
      "source": [
        "y_train_SVM.value_counts()"
      ],
      "metadata": {
        "id": "r_PiEhleyUgO"
      },
      "execution_count": null,
      "outputs": []
    },
    {
      "cell_type": "code",
      "source": [
        "# Undersampling\n",
        "\n",
        "from imblearn.under_sampling import RandomUnderSampler\n",
        "\n",
        "rus = RandomUnderSampler(random_state=10)\n",
        "X_train_SVM, y_train_SVM = rus.fit_resample(X_train_SVM, y_train_SVM)"
      ],
      "metadata": {
        "id": "xm5dMsbQyYti"
      },
      "execution_count": null,
      "outputs": []
    },
    {
      "cell_type": "code",
      "source": [
        "display(y_train_SVM.value_counts())"
      ],
      "metadata": {
        "id": "NIAB45oCyhzw"
      },
      "execution_count": null,
      "outputs": []
    },
    {
      "cell_type": "code",
      "source": [
        "name = 'svc_clf'\n",
        "\n",
        "svc_clf = SVC(kernel = 'rbf', \n",
        "              random_state = 10\n",
        "              ).fit(X_train_SVM,y_train_SVM)\n",
        "\n",
        "y_true = y_test_SVM\n",
        "y_pred = svc_clf.predict(X_test_SVM)\n",
        "evaluation_results = evaluation_metrics(y_true, y_pred)\n",
        "\n",
        "models_final = models_final.append({'model_name': name, \n",
        "                        'model': svc_clf, \n",
        "                        'parameters': svc_clf.get_params()}, \n",
        "                       ignore_index=True)\n",
        "\n",
        "models_test = models_test.append({'model_name': name, \n",
        "                                  'confusion_matrix' : evaluation_results[0], \n",
        "                                  'accuracy': evaluation_results[1], \n",
        "                                  'recall' : evaluation_results[2], \n",
        "                                  'f1_score': evaluation_results[3],\n",
        "                                  'roc_auc_score': evaluation_results[4]}, \n",
        "                                 ignore_index=True)"
      ],
      "metadata": {
        "id": "vio-Fo6Nyl9S"
      },
      "execution_count": null,
      "outputs": []
    },
    {
      "cell_type": "code",
      "source": [
        "# Save Model\n",
        "pickle.dump(svc_clf, open('svc_clf.sav', 'wb')) \n",
        "\n",
        "# Load Model\n",
        "# svc_clf = pickle.load(open('svc_clf.sav', 'rb'))"
      ],
      "metadata": {
        "id": "JxxyWrHYUM94"
      },
      "execution_count": null,
      "outputs": []
    },
    {
      "cell_type": "markdown",
      "source": [
        "## Naive Bayes\n",
        "\n",
        "- Library: Scikit-learn\n",
        "- 1 minute to train\n",
        "\n",
        "**Best Parameters:**\n",
        "\n",
        "{'var_smoothing': 1e-20}"
      ],
      "metadata": {
        "id": "jFKJ-rs3uu1O"
      }
    },
    {
      "cell_type": "code",
      "source": [
        "name = 'bayes_clf'\n",
        "\n",
        "bayes_clf = GaussianNB(var_smoothing = 1e-20\n",
        "                       ).fit(X_train,y_train)\n",
        "\n",
        "y_true = y_test\n",
        "y_pred = bayes_clf.predict(X_test)\n",
        "evaluation_results = evaluation_metrics(y_true, y_pred)\n",
        "\n",
        "models_final = models_final.append({'model_name': name, \n",
        "                        'model': bayes_clf, \n",
        "                        'parameters': bayes_clf.get_params()}, \n",
        "                       ignore_index=True)\n",
        "\n",
        "models_test = models_test.append({'model_name': name, \n",
        "                                  'confusion_matrix' : evaluation_results[0], \n",
        "                                  'accuracy': evaluation_results[1], \n",
        "                                  'recall' : evaluation_results[2], \n",
        "                                  'f1_score': evaluation_results[3],\n",
        "                                  'roc_auc_score': evaluation_results[4]}, \n",
        "                                 ignore_index=True)"
      ],
      "metadata": {
        "id": "xX1Uk1TcZX4R"
      },
      "execution_count": null,
      "outputs": []
    },
    {
      "cell_type": "code",
      "source": [
        "# Save Model\n",
        "pickle.dump(bayes_clf, open('bayes_clf.sav', 'wb')) \n",
        "\n",
        "# Load Model\n",
        "# bayes_clf = pickle.load(open('bayes_clf.sav', 'rb'))"
      ],
      "metadata": {
        "id": "TNFSyBguUQs7"
      },
      "execution_count": null,
      "outputs": []
    },
    {
      "cell_type": "markdown",
      "source": [
        "## K-Nearest Neighbor\n",
        "\n",
        "- Library: Scikit-learn\n",
        "- 1 mins 10 seconds to train\n",
        "\n",
        "**Best Parameters:**\n",
        "\n",
        "{'n_neighbors': 5, 'algorithm':'auto', 'leaf_size':30 }"
      ],
      "metadata": {
        "id": "tLaZu_G9uuzC"
      }
    },
    {
      "cell_type": "code",
      "source": [
        "name = 'neigh_clf'\n",
        "\n",
        "neigh_clf = KNeighborsClassifier(n_neighbors = 5, \n",
        "                                 algorithm = 'auto',\n",
        "                                 leaf_size = 30,\n",
        "                                 p = 2,\n",
        "                                 metric = 'minkowski',\n",
        "                                 n_jobs = -1, \n",
        "                                 ).fit(X_train,y_train)\n",
        "\n",
        "y_true = y_test\n",
        "y_pred = neigh_clf.predict(X_test)\n",
        "evaluation_results = evaluation_metrics(y_true, y_pred)\n",
        "\n",
        "models_final = models_final.append({'model_name': name, \n",
        "                        'model': neigh_clf, \n",
        "                        'parameters': neigh_clf.get_params()}, \n",
        "                       ignore_index=True)\n",
        "\n",
        "models_test = models_test.append({'model_name': name, \n",
        "                                  'confusion_matrix' : evaluation_results[0], \n",
        "                                  'accuracy': evaluation_results[1], \n",
        "                                  'recall' : evaluation_results[2], \n",
        "                                  'f1_score': evaluation_results[3],\n",
        "                                  'roc_auc_score': evaluation_results[4]}, \n",
        "                                 ignore_index=True)"
      ],
      "metadata": {
        "id": "DDM4MrNrZYTH"
      },
      "execution_count": null,
      "outputs": []
    },
    {
      "cell_type": "code",
      "source": [
        "# Save Model\n",
        "pickle.dump(neigh_clf, open('neigh_clf.sav', 'wb')) \n",
        "\n",
        "# Load Model\n",
        "# neigh_clf = pickle.load(open('neigh_clf.sav', 'rb'))"
      ],
      "metadata": {
        "id": "QFlPN08YUVCk"
      },
      "execution_count": null,
      "outputs": []
    },
    {
      "cell_type": "markdown",
      "source": [
        "## Decision Tree\n",
        "\n",
        "- Library: Scikit-learn\n",
        "- Very quick to train. Almost immediately trained.\n",
        "\n",
        "**Best Parameters:**\n",
        "\n",
        "{'splitter': 'best',\n",
        " 'min_samples_leaf': 1,\n",
        " 'max_features': 9,\n",
        " 'max_depth': None,\n",
        " 'criterion': 'gini'}\n"
      ],
      "metadata": {
        "id": "h4rV9G4OuurU"
      }
    },
    {
      "cell_type": "code",
      "source": [
        "name = 'tree_clf'\n",
        "\n",
        "tree_clf = DecisionTreeClassifier(criterion = 'gini', \n",
        "                                  splitter = 'best', \n",
        "                                  min_samples_leaf = 1,\n",
        "                                  max_features = 9,\n",
        "                                  max_depth = None,\n",
        "                                  random_state = 10\n",
        "                                  ).fit(X_train,y_train)\n",
        "\n",
        "y_true = y_test\n",
        "y_pred = tree_clf.predict(X_test)\n",
        "evaluation_results = evaluation_metrics(y_true, y_pred)\n",
        "\n",
        "models_final = models_final.append({'model_name': name, \n",
        "                        'model': tree_clf, \n",
        "                        'parameters': tree_clf.get_params()}, \n",
        "                       ignore_index=True)\n",
        "\n",
        "models_test = models_test.append({'model_name': name, \n",
        "                                  'confusion_matrix' : evaluation_results[0], \n",
        "                                  'accuracy': evaluation_results[1], \n",
        "                                  'recall' : evaluation_results[2], \n",
        "                                  'f1_score': evaluation_results[3],\n",
        "                                  'roc_auc_score': evaluation_results[4]}, \n",
        "                                 ignore_index=True)"
      ],
      "metadata": {
        "id": "-2V9TCX1ZY-y"
      },
      "execution_count": null,
      "outputs": []
    },
    {
      "cell_type": "code",
      "source": [
        "# Save Model\n",
        "pickle.dump(tree_clf, open('tree_clf.sav', 'wb')) \n",
        "\n",
        "# Load Model\n",
        "# tree_clf = pickle.load(open('tree_clf.sav', 'rb'))"
      ],
      "metadata": {
        "id": "NpSlVQAqUXdP"
      },
      "execution_count": null,
      "outputs": []
    },
    {
      "cell_type": "markdown",
      "source": [
        "## Random Forest Classifier\n",
        "\n",
        "- Library: Scikit-learn\n",
        "- Very quick to train. Only 6 seconds needed.\n",
        "\n",
        "**Best Parameters:**\n",
        "\n",
        "{'n_estimators': 300,\n",
        " 'min_samples_split': 2,\n",
        " 'min_samples_leaf': 1,\n",
        " 'max_features': 'auto',\n",
        " 'max_depth': 31}"
      ],
      "metadata": {
        "id": "qAaISg5Kuuwi"
      }
    },
    {
      "cell_type": "code",
      "source": [
        "name = 'rnd_clf'\n",
        "\n",
        "rnd_clf = RandomForestClassifier(n_estimators = 300, \n",
        "                                  min_samples_split = 2,\n",
        "                                  min_samples_leaf = 1,\n",
        "                                  max_features = 'auto',\n",
        "                                  max_depth = 31, \n",
        "                                  n_jobs = -1, \n",
        "                                  random_state = 10\n",
        "                                  ).fit(X_train,y_train)\n",
        "\n",
        "y_true = y_test\n",
        "y_pred = rnd_clf.predict(X_test)\n",
        "evaluation_results = evaluation_metrics(y_true, y_pred)\n",
        "\n",
        "models_final = models_final.append({'model_name': name, \n",
        "                        'model': rnd_clf, \n",
        "                        'parameters': rnd_clf.get_params()}, \n",
        "                       ignore_index=True)\n",
        "\n",
        "models_test = models_test.append({'model_name': name, \n",
        "                                  'confusion_matrix' : evaluation_results[0], \n",
        "                                  'accuracy': evaluation_results[1], \n",
        "                                  'recall' : evaluation_results[2], \n",
        "                                  'f1_score': evaluation_results[3],\n",
        "                                  'roc_auc_score': evaluation_results[4]}, \n",
        "                                 ignore_index=True)"
      ],
      "metadata": {
        "id": "1ZdpWxd0ZYo3"
      },
      "execution_count": null,
      "outputs": []
    },
    {
      "cell_type": "code",
      "source": [
        "# Save Model\n",
        "pickle.dump(rnd_clf, open('rnd_clf.sav', 'wb')) \n",
        "\n",
        "# Load Model\n",
        "# rnd_clf = pickle.load(open('rnd_clf.sav', 'rb'))"
      ],
      "metadata": {
        "id": "y1I0R1PlUa-y"
      },
      "execution_count": null,
      "outputs": []
    },
    {
      "cell_type": "markdown",
      "source": [
        "## Gradient Boosting Classifier\n",
        "\n",
        "- Library: Scikit-learn\n",
        "- 1 mins 25 seconds to train\n",
        "\n",
        "**Best Parameters:**\n",
        "\n",
        "{'n_estimators': 500, 'learning_rate':0.5, 'max_depth':1, 'random_state':10}"
      ],
      "metadata": {
        "id": "7Vvojs9tuuoh"
      }
    },
    {
      "cell_type": "code",
      "source": [
        "name = 'gboost_clf'\n",
        "\n",
        "gboost_clf = GradientBoostingClassifier(n_estimators = 500, \n",
        "                                        learning_rate = 0.5, \n",
        "                                        max_depth = 1,\n",
        "                                        criterion = 'friedman_mse',\n",
        "                                        random_state = 10\n",
        "                                        ).fit(X_train,y_train)\n",
        "\n",
        "y_true = y_test\n",
        "y_pred = gboost_clf.predict(X_test)\n",
        "evaluation_results = evaluation_metrics(y_true, y_pred)\n",
        "\n",
        "models_final = models_final.append({'model_name': name, \n",
        "                        'model': gboost_clf, \n",
        "                        'parameters': gboost_clf.get_params()}, \n",
        "                       ignore_index=True)\n",
        "\n",
        "models_test = models_test.append({'model_name': name, \n",
        "                                  'confusion_matrix' : evaluation_results[0], \n",
        "                                  'accuracy': evaluation_results[1], \n",
        "                                  'recall' : evaluation_results[2], \n",
        "                                  'f1_score': evaluation_results[3],\n",
        "                                  'roc_auc_score': evaluation_results[4]}, \n",
        "                                 ignore_index=True)"
      ],
      "metadata": {
        "id": "cXDZXJXyZZVj"
      },
      "execution_count": null,
      "outputs": []
    },
    {
      "cell_type": "code",
      "source": [
        "# Save Model\n",
        "pickle.dump(gboost_clf, open('gboost_clf.sav', 'wb')) \n",
        "\n",
        "# Load Model\n",
        "# gboost_clf = pickle.load(open('gboost_clf.sav', 'rb'))"
      ],
      "metadata": {
        "id": "zce_1i0JUdSO"
      },
      "execution_count": null,
      "outputs": []
    },
    {
      "cell_type": "markdown",
      "source": [
        "## XGBoost\n",
        "\n",
        "- Library: xgboost\n",
        "- ~6 minutes to train\n",
        "\n",
        "**Best Parameters:**\n",
        "\n",
        "{'n_estimators': 750, 'learning_rate':0.01, 'max_depth':10}"
      ],
      "metadata": {
        "id": "NfVD2dOouulp"
      }
    },
    {
      "cell_type": "code",
      "source": [
        "name = 'xgboost_clf'\n",
        "\n",
        "xgboost_clf = XGBClassifier(booster = 'gbtree',\n",
        "                            verbosity = 1,\n",
        "                            n_estimators = 750, \n",
        "                            learning_rate = 0.01,\n",
        "                            max_depth = 10, \n",
        "                            min_child_weight = 1,\n",
        "                            sampling_method = 'uniform',\n",
        "                            gamma = 0,\n",
        "                            random_state = 10\n",
        "                            ).fit(X_train,y_train)\n",
        "\n",
        "y_true = y_test\n",
        "y_pred = xgboost_clf.predict(X_test)\n",
        "evaluation_results = evaluation_metrics(y_true, y_pred)\n",
        "\n",
        "models_final = models_final.append({'model_name': name, \n",
        "                        'model': xgboost_clf, \n",
        "                        'parameters': xgboost_clf.get_params()}, \n",
        "                       ignore_index=True)\n",
        "\n",
        "models_test = models_test.append({'model_name': name, \n",
        "                                  'confusion_matrix' : evaluation_results[0], \n",
        "                                  'accuracy': evaluation_results[1], \n",
        "                                  'recall' : evaluation_results[2], \n",
        "                                  'f1_score': evaluation_results[3],\n",
        "                                  'roc_auc_score': evaluation_results[4]}, \n",
        "                                 ignore_index=True)"
      ],
      "metadata": {
        "id": "6QYj-9csZZvE"
      },
      "execution_count": null,
      "outputs": []
    },
    {
      "cell_type": "code",
      "source": [
        "# Save Model\n",
        "pickle.dump(xgboost_clf, open('xgboost_clf.sav', 'wb')) \n",
        "\n",
        "# Load Model\n",
        "# xgboost_clf = pickle.load(open('xgboost_clf.sav', 'rb'))"
      ],
      "metadata": {
        "id": "zaiGv1r7UgrB"
      },
      "execution_count": null,
      "outputs": []
    },
    {
      "cell_type": "markdown",
      "source": [
        "## LightGBM\n",
        "\n",
        "- Library: lightbgm\n",
        "- 3 seconds to train\n",
        "\n",
        "**Best Parameters:**\n",
        "\n",
        "{'n_estimators': 1000, 'learning_rate':0.1, 'max_depth':3, 'random_state':10}"
      ],
      "metadata": {
        "id": "X23LZaWruugg"
      }
    },
    {
      "cell_type": "code",
      "source": [
        "name = 'lightgbm_clf'\n",
        "\n",
        "lightgbm_clf = LGBMClassifier(booster = 'gbdt',\n",
        "                              n_estimators = 1000, \n",
        "                              num_iterations = 100,\n",
        "                              learning_rate = 0.1, \n",
        "                              max_depth = 3,\n",
        "                              num_leaves = 31,\n",
        "                              tree_learner = 'serial',\n",
        "                              random_state = 10\n",
        "                              ).fit(X_train,y_train)\n",
        "\n",
        "y_true = y_test\n",
        "y_pred = lightgbm_clf.predict(X_test)\n",
        "evaluation_results = evaluation_metrics(y_true, y_pred)\n",
        "\n",
        "models_final = models_final.append({'model_name': name, \n",
        "                        'model': lightgbm_clf, \n",
        "                        'parameters': lightgbm_clf.get_params()}, \n",
        "                       ignore_index=True)\n",
        "\n",
        "models_test = models_test.append({'model_name': name, \n",
        "                                  'confusion_matrix' : evaluation_results[0], \n",
        "                                  'accuracy': evaluation_results[1], \n",
        "                                  'recall' : evaluation_results[2], \n",
        "                                  'f1_score': evaluation_results[3],\n",
        "                                  'roc_auc_score': evaluation_results[4]}, \n",
        "                                 ignore_index=True)"
      ],
      "metadata": {
        "id": "B0wkCOloZaJc"
      },
      "execution_count": null,
      "outputs": []
    },
    {
      "cell_type": "code",
      "source": [
        "# Save Model\n",
        "pickle.dump(lightgbm_clf, open('lightgbm_clf.sav', 'wb')) \n",
        "\n",
        "# Load Model\n",
        "# lightgbm_clf = pickle.load(open('lightgbm_clf.sav', 'rb'))"
      ],
      "metadata": {
        "id": "hKuZKlbHUjKl"
      },
      "execution_count": null,
      "outputs": []
    },
    {
      "cell_type": "markdown",
      "source": [
        "## Artificial Neural Network\n",
        "\n",
        "- Library: Keras, Tensorflow\n",
        "- Approximately 30+ minutes to train\n",
        "\n",
        "**Best Parameters:**"
      ],
      "metadata": {
        "id": "9ZkjCtnBuuZq"
      }
    },
    {
      "cell_type": "code",
      "source": [
        "name = 'ann_clf'\n",
        "\n",
        "ann_clf = keras.models.Sequential([\n",
        "    keras.layers.Dense(17, input_shape=(X_train.shape[1],), activation='relu'), # 16 columns. 1 bias term to accelerate activation of a node.\n",
        "    keras.layers.Dense(8, activation='relu'), # One hidden layer is sufficient for the large majority of problems. \n",
        "    # Set the number of neurons in the hidden layer as the mean of the neurons in the input and output layers.\n",
        "    keras.layers.Dense(1, activation='sigmoid'), # Only 1 acceptable unless softmax activation function is used\n",
        "])\n",
        "\n",
        "ann_clf.summary()"
      ],
      "metadata": {
        "id": "6arjXn0ZZafL"
      },
      "execution_count": null,
      "outputs": []
    },
    {
      "cell_type": "code",
      "source": [
        "# Shuffle Data since SMOTE appends many 1s at the end\n",
        "\n",
        "from sklearn.utils import shuffle\n",
        "\n",
        "X_train_ANN, y_train_ANN = shuffle(X_train, y_train, random_state = 10)"
      ],
      "metadata": {
        "id": "vj52PJMuOEEt"
      },
      "execution_count": null,
      "outputs": []
    },
    {
      "cell_type": "code",
      "source": [
        "display(y_train_ANN.value_counts())"
      ],
      "metadata": {
        "id": "s2hCVFYFOGKG"
      },
      "execution_count": null,
      "outputs": []
    },
    {
      "cell_type": "code",
      "source": [
        "display(y_test.value_counts())"
      ],
      "metadata": {
        "id": "qkyja7zKOJhE"
      },
      "execution_count": null,
      "outputs": []
    },
    {
      "cell_type": "code",
      "source": [
        "ann_clf.compile(optimizer = 'adam', \n",
        "                metrics=['accuracy'], \n",
        "                loss ='binary_crossentropy')\n",
        "\n",
        "record = ann_clf.fit(\n",
        "            X_train_ANN, \n",
        "            y_train_ANN, \n",
        "            validation_data = (X_test, y_test), \n",
        "            batch_size = 10, \n",
        "            epochs = 50)"
      ],
      "metadata": {
        "id": "fSMBrn5lOPjl"
      },
      "execution_count": null,
      "outputs": []
    },
    {
      "cell_type": "code",
      "source": [
        "y_true = y_test\n",
        "prediction = ann_clf.predict(X_test)\n",
        "prediction = pd.Series(prediction[:, 0])\n",
        "y_pred = []\n",
        "\n",
        "for i in range(len(prediction)):\n",
        "  if prediction[i] >= 0.5:\n",
        "    y_pred.append(1)\n",
        "  else:\n",
        "    y_pred.append(0)\n",
        "\n",
        "evaluation_results = evaluation_metrics(y_true, y_pred)\n",
        "\n",
        "models_final = models_final.append({'model_name': name, \n",
        "                        'model': ann_clf, \n",
        "                        'parameters': ann_clf.layers}, \n",
        "                       ignore_index=True)\n",
        "\n",
        "models_test = models_test.append({'model_name': name, \n",
        "                                  'confusion_matrix' : evaluation_results[0], \n",
        "                                  'accuracy': evaluation_results[1], \n",
        "                                  'recall' : evaluation_results[2], \n",
        "                                  'f1_score': evaluation_results[3],\n",
        "                                  'roc_auc_score': evaluation_results[4]}, \n",
        "                                 ignore_index=True)"
      ],
      "metadata": {
        "id": "LBW9ybn_ORDF"
      },
      "execution_count": null,
      "outputs": []
    },
    {
      "cell_type": "code",
      "source": [
        "# Save Model\n",
        "ann_clf.save('ann_clf.h5') \n",
        "\n",
        "# Load Model\n",
        "# ann_clf = tf.keras.models.load_model('ann_clf.h5')"
      ],
      "metadata": {
        "id": "zpqGEd-mUu_c"
      },
      "execution_count": null,
      "outputs": []
    },
    {
      "cell_type": "markdown",
      "source": [
        "## Ensemble Learning\n",
        "\n",
        "- Library: Scikit-learn, Keras, Tensorflow\n",
        "- 7 minutes to train\n",
        "\n",
        "**Best Parameters:**\n",
        "\n",
        "{'voting': 'hard', 'n_jobs': -1}"
      ],
      "metadata": {
        "id": "2splAOL5vKme"
      }
    },
    {
      "cell_type": "code",
      "source": [
        "display(models_test)"
      ],
      "metadata": {
        "id": "J0W9wksKZa5w"
      },
      "execution_count": null,
      "outputs": []
    },
    {
      "cell_type": "markdown",
      "source": [
        "Confusion matrix format : [ tn , fp , fn , tp ]"
      ],
      "metadata": {
        "id": "vOXxERQZOgc8"
      }
    },
    {
      "cell_type": "code",
      "source": [
        "print('Best Model By Accuracy')\n",
        "print(models_test.loc[models_test['accuracy'] == max(models_test['accuracy'])].model_name.to_string(index=False))\n",
        "print('-----------------------')\n",
        "print('Best Model By Recall')\n",
        "print(models_test.loc[models_test['recall'] == max(models_test['recall'])].model_name.to_string(index=False))\n",
        "print('-----------------------')\n",
        "print('Best Model By F1')\n",
        "print(models_test.loc[models_test['f1_score'] == max(models_test['f1_score'])].model_name.to_string(index=False))\n",
        "print('-----------------------')\n",
        "print('Best Model By ROC')\n",
        "print(models_test.loc[models_test['roc_auc_score'] == max(models_test['roc_auc_score'])].model_name.to_string(index=False))\n",
        "print('-----------------------')"
      ],
      "metadata": {
        "id": "WtqTQizSOfOI"
      },
      "execution_count": null,
      "outputs": []
    },
    {
      "cell_type": "code",
      "source": [
        "name = 'ensem_clf'\n",
        "\n",
        "ensem_clf = VotingClassifier(estimators=[('m1', xgboost_clf), ('m2', tree_clf), ('m3', rnd_clf)],\n",
        "                             voting = 'hard',\n",
        "                             n_jobs = -1, \n",
        "                             ).fit(X_train,y_train)\n",
        "\n",
        "y_true = y_test\n",
        "y_pred = ensem_clf.predict(X_test)\n",
        "evaluation_results = evaluation_metrics(y_true, y_pred)\n",
        "\n",
        "models_final = models_final.append({'model_name': name, \n",
        "                        'model': ensem_clf, \n",
        "                        'parameters': ensem_clf.get_params()}, \n",
        "                       ignore_index=True)\n",
        "\n",
        "models_test = models_test.append({'model_name': name, \n",
        "                                  'confusion_matrix' : evaluation_results[0], \n",
        "                                  'accuracy': evaluation_results[1], \n",
        "                                  'recall' : evaluation_results[2], \n",
        "                                  'f1_score': evaluation_results[3],\n",
        "                                  'roc_auc_score': evaluation_results[4]}, \n",
        "                                 ignore_index=True)"
      ],
      "metadata": {
        "id": "lx135hAGOn3Z"
      },
      "execution_count": null,
      "outputs": []
    },
    {
      "cell_type": "code",
      "source": [
        "# Save Model\n",
        "pickle.dump(ensem_clf, open('ensem_clf.sav', 'wb')) \n",
        "\n",
        "# Load Model\n",
        "# ensem_clf = pickle.load(open('ensem_clf.sav', 'rb'))"
      ],
      "metadata": {
        "id": "VzdBh8CJUnQi"
      },
      "execution_count": null,
      "outputs": []
    },
    {
      "cell_type": "markdown",
      "source": [
        "## Discussion"
      ],
      "metadata": {
        "id": "X5HHciHoO1we"
      }
    },
    {
      "cell_type": "code",
      "source": [
        "display(models_final)"
      ],
      "metadata": {
        "id": "RNhaMzBeO39g"
      },
      "execution_count": null,
      "outputs": []
    },
    {
      "cell_type": "code",
      "source": [
        "display(models_test)"
      ],
      "metadata": {
        "id": "w7582rF8O1ll"
      },
      "execution_count": null,
      "outputs": []
    },
    {
      "cell_type": "code",
      "source": [
        "print('Best Model By Accuracy')\n",
        "print(models_test.loc[models_test['accuracy'] == max(models_test['accuracy'])].model_name.to_string(index=False))\n",
        "print('-----------------------')\n",
        "print('Best Model By Recall')\n",
        "print(models_test.loc[models_test['recall'] == max(models_test['recall'])].model_name.to_string(index=False))\n",
        "print('-----------------------')\n",
        "print('Best Model By F1')\n",
        "print(models_test.loc[models_test['f1_score'] == max(models_test['f1_score'])].model_name.to_string(index=False))\n",
        "print('-----------------------')\n",
        "print('Best Model By ROC')\n",
        "print(models_test.loc[models_test['roc_auc_score'] == max(models_test['roc_auc_score'])].model_name.to_string(index=False))\n",
        "print('-----------------------')"
      ],
      "metadata": {
        "id": "UIIwktbiO-KH"
      },
      "execution_count": null,
      "outputs": []
    },
    {
      "cell_type": "markdown",
      "source": [
        "After model testing, the best model identified is xgboost_clf with the following parameters\n",
        "\n",
        "* booster = 'gbtree',\n",
        "* verbosity = 1,\n",
        "* n_estimators = 750, \n",
        "* learning_rate = 0.01,\n",
        "* max_depth = 10, \n",
        "* min_child_weight = 1,\n",
        "* sampling_method = 'uniform',\n",
        "* gamma = 0,\n",
        "* random_state = 10\n",
        "\n",
        "Full version:\n",
        "{'base_score': 0.5, 'booster': 'gbtree', 'colsample_bylevel': 1, 'colsample_bynode': 1, 'colsample_bytree': 1, 'gamma': 0, 'learning_rate': 0.01, 'max_delta_step': 0, 'max_depth': 10, 'min_child_weight': 1, 'missing': None, 'n_estimators': 750, 'n_jobs': 1, 'nthread': None, 'objective': 'binary:logistic', 'random_state': 10, 'reg_alpha': 0, 'reg_lambda': 1, 'scale_pos_weight': 1, 'seed': None, 'silent': None, 'subsample': 1, 'verbosity': 1, 'sampling_method': 'uniform'}\n",
        "\n",
        "### **Key Findings**\n",
        "**General**\n",
        "* All models have a fairly good accuracy and recall score\n",
        "* F1 score, on the other hand, is quite poor for some\n",
        "  * This is due to the underfitting on an unbalanced dataset. Although SMOTE technique has been applied, some model algorithms are unable to capture the relationship between the input and output variables accurately even with the synthetic data\n",
        "* ROC score is the least important evaluation metrics here since it averages over all possible evaluation thresholds. It is just used for reference.\n",
        "\n",
        "**Random Forest Classifier**\n",
        "* Very quickly trained but performs slightly worse than xgboost_clf in all categories\n",
        "* Slightly worse than tree_clf in recall and roc\n",
        "\n",
        "**Decision Tree**\n",
        "* Very quickly trained but performs slightly worse than xgboost_clf in all categories\n",
        "* Slightly worse than rnd_clf in accuracy and f1\n",
        "\n",
        "**Support Vector Machine**\n",
        "* The SVM was deprecated early on in the development due to its many requirements and poor performance\n",
        "* It requires less training data, thus requiring undersampling technique to be applied\n",
        "* Despite this, it is still unable to gain an accuracy of over 80% and take notoriously long to train\n",
        "* Even the best parameters for it were not identified as it would take too long for possibly the worst result of all models\n",
        "\n",
        "**Logistic Regression**\n",
        "* Not that computationally expensive but poor performance generally in relative to other models, especially in f1_score\n",
        "\n",
        "**Naive Bayes**\n",
        "* Not that computationally expensive but poor performance generally in relative to other models, especially in f1_score\n",
        "\n",
        "**K-Nearest Neighbor**\n",
        "* A slightly worse version of gboost_clf\n",
        "\n",
        "**Gradient Boosting Classifier**\n",
        "* Although the best recall score is obtained by the gboost_clf and ann_clf, it performs massively worse in f1_score and is thus disqualified. \n",
        "\n",
        "**XGBoost**\n",
        "* xgboost_clf is the best performer in all metrics used except for recall, where it comes in 2nd\n",
        " * Upon further inspection, it is revealed that it is only be a different of 1 misclassification of 1 false negative case. \n",
        " * Thus, this can be overlooked\n",
        "* However, one massive downside to xgboost_clf is that it takes significantly longer to train when compared to other models that perform slightly worse (rnd_clf and tree_clf)\n",
        "\n",
        "**LightGBM**\n",
        "* Similar to gboost_clf and ann_clf with its poor performance in f1_score, but also worse than the other 2 in recall score\n",
        "\n",
        "**Artificial Neural Network**\n",
        "* Although the best recall score is obtained by the gboost_clf and ann_clf, it performs massively worse in f1_score and is thus disqualified. \n",
        "* Not much experiment has been conducted on ann_clf yet but this is due to the massive computational resources required. Note that this ann_clf is already nearly optimized in many of its parameters.\n",
        "\n",
        "**Ensemble Learning**\n",
        "* The application of ensemble learning did not improve the result of xgboost_clf especially in the recall score and took a long time to train. "
      ],
      "metadata": {
        "id": "WEqs8FYJO_2G"
      }
    },
    {
      "cell_type": "markdown",
      "source": [
        "### **Conclusion:**\n",
        "* Thus, xgboost_clf is the best performing model.\n",
        "* Personally, I would rate xgboost_clf > tree_clf = rnd_clf > ensem_clf > ann_clf = gboost_clf > lightgbm_clf >>> rest\n",
        "* If we need to retrain a model quickly, either tree_clf and rnd_clf would be more applicable."
      ],
      "metadata": {
        "id": "vsf9xFNJPCDb"
      }
    },
    {
      "cell_type": "markdown",
      "source": [
        "### **Additional Notes**\n",
        "\n",
        "* RandomizedSearchCV has been used to find the optimal parameters\n",
        "  * Some literature may prefer to use GridSearchCV rather than RandomizedSearchCV\n",
        "  * GridSearchCV can define all combinations of parameters to test with\n",
        "  * RandomizedSearchCV selects the combinations randomly\n",
        "  * Both are effective in model tuning, but since some algorithms (such as xgboost_clf) requires a lot of computational resources to train, RandomizedSearchCV can save a lot of time and computational resources required."
      ],
      "metadata": {
        "id": "S6jHg4dHPDMl"
      }
    }
  ]
}