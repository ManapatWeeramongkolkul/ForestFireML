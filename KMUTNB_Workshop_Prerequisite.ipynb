{
  "nbformat": 4,
  "nbformat_minor": 0,
  "metadata": {
    "colab": {
      "provenance": [],
      "toc_visible": true,
      "authorship_tag": "ABX9TyMSOz8ZoQh8zODr1UnWE7Qq",
      "include_colab_link": true
    },
    "kernelspec": {
      "name": "python3",
      "display_name": "Python 3"
    },
    "language_info": {
      "name": "python"
    }
  },
  "cells": [
    {
      "cell_type": "markdown",
      "metadata": {
        "id": "view-in-github",
        "colab_type": "text"
      },
      "source": [
        "<a href=\"https://colab.research.google.com/github/ManapatWeeramongkolkul/ForestFireML/blob/main/KMUTNB_Workshop_Prerequisite.ipynb\" target=\"_parent\"><img src=\"https://colab.research.google.com/assets/colab-badge.svg\" alt=\"Open In Colab\"/></a>"
      ]
    },
    {
      "cell_type": "markdown",
      "source": [
        "# Libraries"
      ],
      "metadata": {
        "id": "h58kCJVG-t44"
      }
    },
    {
      "cell_type": "code",
      "source": [
        "!pip install pyspark\n",
        "!pip install matplotlib seaborn openpyxl pandas shap"
      ],
      "metadata": {
        "colab": {
          "base_uri": "https://localhost:8080/"
        },
        "id": "R-xLxw5wnicL",
        "outputId": "db03b640-95ee-4095-f3d1-ec9c5091ae04"
      },
      "execution_count": null,
      "outputs": [
        {
          "output_type": "stream",
          "name": "stdout",
          "text": [
            "Requirement already satisfied: pyspark in /usr/local/lib/python3.11/dist-packages (3.5.4)\n",
            "Requirement already satisfied: py4j==0.10.9.7 in /usr/local/lib/python3.11/dist-packages (from pyspark) (0.10.9.7)\n",
            "Requirement already satisfied: matplotlib in /usr/local/lib/python3.11/dist-packages (3.10.0)\n",
            "Requirement already satisfied: seaborn in /usr/local/lib/python3.11/dist-packages (0.13.2)\n",
            "Requirement already satisfied: openpyxl in /usr/local/lib/python3.11/dist-packages (3.1.5)\n",
            "Requirement already satisfied: pandas in /usr/local/lib/python3.11/dist-packages (2.2.2)\n",
            "Requirement already satisfied: shap in /usr/local/lib/python3.11/dist-packages (0.46.0)\n",
            "Requirement already satisfied: contourpy>=1.0.1 in /usr/local/lib/python3.11/dist-packages (from matplotlib) (1.3.1)\n",
            "Requirement already satisfied: cycler>=0.10 in /usr/local/lib/python3.11/dist-packages (from matplotlib) (0.12.1)\n",
            "Requirement already satisfied: fonttools>=4.22.0 in /usr/local/lib/python3.11/dist-packages (from matplotlib) (4.56.0)\n",
            "Requirement already satisfied: kiwisolver>=1.3.1 in /usr/local/lib/python3.11/dist-packages (from matplotlib) (1.4.8)\n",
            "Requirement already satisfied: numpy>=1.23 in /usr/local/lib/python3.11/dist-packages (from matplotlib) (1.26.4)\n",
            "Requirement already satisfied: packaging>=20.0 in /usr/local/lib/python3.11/dist-packages (from matplotlib) (24.2)\n",
            "Requirement already satisfied: pillow>=8 in /usr/local/lib/python3.11/dist-packages (from matplotlib) (11.1.0)\n",
            "Requirement already satisfied: pyparsing>=2.3.1 in /usr/local/lib/python3.11/dist-packages (from matplotlib) (3.2.1)\n",
            "Requirement already satisfied: python-dateutil>=2.7 in /usr/local/lib/python3.11/dist-packages (from matplotlib) (2.8.2)\n",
            "Requirement already satisfied: et-xmlfile in /usr/local/lib/python3.11/dist-packages (from openpyxl) (2.0.0)\n",
            "Requirement already satisfied: pytz>=2020.1 in /usr/local/lib/python3.11/dist-packages (from pandas) (2025.1)\n",
            "Requirement already satisfied: tzdata>=2022.7 in /usr/local/lib/python3.11/dist-packages (from pandas) (2025.1)\n",
            "Requirement already satisfied: scipy in /usr/local/lib/python3.11/dist-packages (from shap) (1.13.1)\n",
            "Requirement already satisfied: scikit-learn in /usr/local/lib/python3.11/dist-packages (from shap) (1.6.1)\n",
            "Requirement already satisfied: tqdm>=4.27.0 in /usr/local/lib/python3.11/dist-packages (from shap) (4.67.1)\n",
            "Requirement already satisfied: slicer==0.0.8 in /usr/local/lib/python3.11/dist-packages (from shap) (0.0.8)\n",
            "Requirement already satisfied: numba in /usr/local/lib/python3.11/dist-packages (from shap) (0.61.0)\n",
            "Requirement already satisfied: cloudpickle in /usr/local/lib/python3.11/dist-packages (from shap) (3.1.1)\n",
            "Requirement already satisfied: six>=1.5 in /usr/local/lib/python3.11/dist-packages (from python-dateutil>=2.7->matplotlib) (1.17.0)\n",
            "Requirement already satisfied: llvmlite<0.45,>=0.44.0dev0 in /usr/local/lib/python3.11/dist-packages (from numba->shap) (0.44.0)\n",
            "Requirement already satisfied: joblib>=1.2.0 in /usr/local/lib/python3.11/dist-packages (from scikit-learn->shap) (1.4.2)\n",
            "Requirement already satisfied: threadpoolctl>=3.1.0 in /usr/local/lib/python3.11/dist-packages (from scikit-learn->shap) (3.5.0)\n"
          ]
        }
      ]
    },
    {
      "cell_type": "code",
      "source": [
        "# Common Libraries\n",
        "import matplotlib.pyplot as plt\n",
        "import pandas as pd\n",
        "import seaborn as sns\n",
        "import numpy as np\n",
        "\n",
        "# Spark Libraries\n",
        "from pyspark.sql import SparkSession\n",
        "from pyspark.sql.functions import col, to_date, datediff\n",
        "\n",
        "# ML Model\n",
        "import lightgbm as lgb\n",
        "import shap\n",
        "from sklearn.model_selection import train_test_split\n",
        "from sklearn.metrics import mean_squared_error, mean_absolute_error, r2_score"
      ],
      "metadata": {
        "id": "K-bUmXq6qfLT"
      },
      "execution_count": null,
      "outputs": []
    },
    {
      "cell_type": "markdown",
      "source": [
        "## Initializing Spark Session"
      ],
      "metadata": {
        "id": "SGUqYCm6_aec"
      }
    },
    {
      "cell_type": "code",
      "source": [
        "spark = SparkSession.builder.appName(\"PySparkWorkshop\").getOrCreate()"
      ],
      "metadata": {
        "id": "DBs_vPInqh9h"
      },
      "execution_count": null,
      "outputs": []
    },
    {
      "cell_type": "markdown",
      "source": [
        "# Import Data"
      ],
      "metadata": {
        "id": "T5hwWUgD_kIa"
      }
    },
    {
      "cell_type": "code",
      "source": [
        "file_path = \"/content/Price_SampleDataset.xlsx\"\n",
        "pandas_df = pd.read_excel(file_path)\n",
        "data = spark.createDataFrame(pandas_df)"
      ],
      "metadata": {
        "id": "34X99oWZUML5"
      },
      "execution_count": null,
      "outputs": []
    },
    {
      "cell_type": "code",
      "source": [
        "data.printSchema()"
      ],
      "metadata": {
        "colab": {
          "base_uri": "https://localhost:8080/"
        },
        "id": "5s_MQjMGUMJe",
        "outputId": "c2992195-f506-4d89-82c0-1027d8d9ccee"
      },
      "execution_count": null,
      "outputs": [
        {
          "output_type": "stream",
          "name": "stdout",
          "text": [
            "root\n",
            " |-- #: long (nullable = true)\n",
            " |-- ADR_USD: double (nullable = true)\n",
            " |-- hotel_id: long (nullable = true)\n",
            " |-- star_rating: double (nullable = true)\n",
            " |-- accommodation_type_name: string (nullable = true)\n",
            " |-- chain_hotel: string (nullable = true)\n",
            " |-- booking_date: timestamp (nullable = true)\n",
            " |-- checkin_date: timestamp (nullable = true)\n",
            " |-- checkout_date: timestamp (nullable = true)\n",
            " |-- city: string (nullable = true)\n",
            "\n"
          ]
        }
      ]
    },
    {
      "cell_type": "code",
      "source": [
        "data.show(5)"
      ],
      "metadata": {
        "colab": {
          "base_uri": "https://localhost:8080/"
        },
        "id": "dvX_KTEtUMHP",
        "outputId": "b41387de-11e0-4ea9-9c13-c9699570e921"
      },
      "execution_count": null,
      "outputs": [
        {
          "output_type": "stream",
          "name": "stdout",
          "text": [
            "+---+-------+--------+-----------+-----------------------+-----------+-------------------+-------------------+-------------------+----+\n",
            "|  #|ADR_USD|hotel_id|star_rating|accommodation_type_name|chain_hotel|       booking_date|       checkin_date|      checkout_date|city|\n",
            "+---+-------+--------+-----------+-----------------------+-----------+-------------------+-------------------+-------------------+----+\n",
            "|  1|  71.06|  297388|        2.5|                  Hotel|  non-chain|2016-08-02 00:00:00|2016-10-01 00:00:00|2016-10-02 00:00:00|   A|\n",
            "|  2|  76.56|  298322|        3.0|                  Hotel|  non-chain|2016-08-02 00:00:00|2016-10-01 00:00:00|2016-10-02 00:00:00|   A|\n",
            "|  3| 153.88| 2313076|        5.0|                  Hotel|      chain|2016-08-02 00:00:00|2016-10-01 00:00:00|2016-10-02 00:00:00|   A|\n",
            "|  4|  126.6| 2240838|        3.5|                  Hotel|  non-chain|2016-08-04 00:00:00|2016-10-02 00:00:00|2016-10-03 00:00:00|   A|\n",
            "|  5| 115.08| 2240838|        3.5|                  Hotel|  non-chain|2016-08-04 00:00:00|2016-10-02 00:00:00|2016-10-03 00:00:00|   A|\n",
            "+---+-------+--------+-----------+-----------------------+-----------+-------------------+-------------------+-------------------+----+\n",
            "only showing top 5 rows\n",
            "\n"
          ]
        }
      ]
    },
    {
      "cell_type": "code",
      "source": [
        "print(\"Number of rows:\", data.count())\n",
        "print(\"Number of columns:\", len(data.columns))\n",
        "data.describe().show()"
      ],
      "metadata": {
        "id": "Sf-eG9drUMFG",
        "colab": {
          "base_uri": "https://localhost:8080/"
        },
        "outputId": "7f5721b3-5fe7-4c7c-dcd6-fbedbe047c03"
      },
      "execution_count": null,
      "outputs": [
        {
          "output_type": "stream",
          "name": "stdout",
          "text": [
            "Number of rows: 27298\n",
            "Number of columns: 10\n",
            "+-------+-----------------+------------------+-----------------+------------------+-----------------------+-----------+-----+\n",
            "|summary|                #|           ADR_USD|         hotel_id|       star_rating|accommodation_type_name|chain_hotel| city|\n",
            "+-------+-----------------+------------------+-----------------+------------------+-----------------------+-----------+-----+\n",
            "|  count|            27298|             27298|            27298|             27298|                  27298|      27298|27298|\n",
            "|   mean|          13649.5|103.72624774214553|703581.0592717415|3.5205143233936553|                   NULL|       NULL| NULL|\n",
            "| stddev|7880.398160414654| 83.21099679408057|711981.7060026889|0.8669716334032895|                   NULL|       NULL| NULL|\n",
            "|    min|                1|              4.26|              770|               0.0|              Apartment|      chain|    A|\n",
            "|    max|            27298|           2326.24|          4525158|               5.0|                  Villa|  non-chain|    B|\n",
            "+-------+-----------------+------------------+-----------------+------------------+-----------------------+-----------+-----+\n",
            "\n"
          ]
        }
      ]
    },
    {
      "cell_type": "code",
      "source": [
        "data = data.withColumn(\"leadtime\", datediff(col(\"checkin_date\"), col(\"booking_date\")))\n",
        "data = data.withColumn(\"los\", datediff(col(\"checkout_date\"), col(\"checkin_date\")))"
      ],
      "metadata": {
        "id": "ZnzVNwel2Ni3"
      },
      "execution_count": null,
      "outputs": []
    },
    {
      "cell_type": "code",
      "source": [
        "data.show(5)"
      ],
      "metadata": {
        "colab": {
          "base_uri": "https://localhost:8080/"
        },
        "id": "AL4PFoR_2Ngp",
        "outputId": "8ae361b9-4a2c-452e-82a4-598b8d3e7579"
      },
      "execution_count": null,
      "outputs": [
        {
          "output_type": "stream",
          "name": "stdout",
          "text": [
            "+---+-------+--------+-----------+-----------------------+-----------+-------------------+-------------------+-------------------+----+--------+---+\n",
            "|  #|ADR_USD|hotel_id|star_rating|accommodation_type_name|chain_hotel|       booking_date|       checkin_date|      checkout_date|city|leadtime|los|\n",
            "+---+-------+--------+-----------+-----------------------+-----------+-------------------+-------------------+-------------------+----+--------+---+\n",
            "|  1|  71.06|  297388|        2.5|                  Hotel|  non-chain|2016-08-02 00:00:00|2016-10-01 00:00:00|2016-10-02 00:00:00|   A|      60|  1|\n",
            "|  2|  76.56|  298322|        3.0|                  Hotel|  non-chain|2016-08-02 00:00:00|2016-10-01 00:00:00|2016-10-02 00:00:00|   A|      60|  1|\n",
            "|  3| 153.88| 2313076|        5.0|                  Hotel|      chain|2016-08-02 00:00:00|2016-10-01 00:00:00|2016-10-02 00:00:00|   A|      60|  1|\n",
            "|  4|  126.6| 2240838|        3.5|                  Hotel|  non-chain|2016-08-04 00:00:00|2016-10-02 00:00:00|2016-10-03 00:00:00|   A|      59|  1|\n",
            "|  5| 115.08| 2240838|        3.5|                  Hotel|  non-chain|2016-08-04 00:00:00|2016-10-02 00:00:00|2016-10-03 00:00:00|   A|      59|  1|\n",
            "+---+-------+--------+-----------+-----------------------+-----------+-------------------+-------------------+-------------------+----+--------+---+\n",
            "only showing top 5 rows\n",
            "\n"
          ]
        }
      ]
    },
    {
      "cell_type": "markdown",
      "source": [
        "## Convert Spark to Pandas\n",
        "\n",
        "*   Here we're converting Spark back to Pandas since we've created new columns\n",
        "*   Some people will recommend to NOT use toPandas()\n",
        "\n",
        "https://stackoverflow.com/questions/75575544/why-topandas-is-bad\n",
        "\n",
        "https://stackoverflow.com/questions/29226210/what-is-the-spark-dataframe-method-topandas-actually-doing\n",
        "\n",
        "\n",
        "*   What do you think are the solutions to this? 🤔\n",
        "\n"
      ],
      "metadata": {
        "id": "Q_idkD0EC0Do"
      }
    },
    {
      "cell_type": "code",
      "source": [
        "pandas_df = data.toPandas()"
      ],
      "metadata": {
        "id": "nEnjaQ2L59Mv"
      },
      "execution_count": null,
      "outputs": []
    },
    {
      "cell_type": "markdown",
      "source": [
        "### Answer"
      ],
      "metadata": {
        "id": "BHlnjJuwI5WI"
      }
    },
    {
      "cell_type": "markdown",
      "source": [
        "\n",
        "\n",
        "1.   Just use less data\n",
        "2.   Use Spark native libraries for your work\n",
        "\n"
      ],
      "metadata": {
        "id": "51wZfHOHIfGw"
      }
    },
    {
      "cell_type": "markdown",
      "source": [
        "### Data Cleaning and Visualization"
      ],
      "metadata": {
        "id": "aK7fc3wzC41m"
      }
    },
    {
      "cell_type": "code",
      "source": [
        "pandas_df.dtypes"
      ],
      "metadata": {
        "colab": {
          "base_uri": "https://localhost:8080/",
          "height": 460
        },
        "id": "UeqIBaqw70OO",
        "outputId": "bb00b682-4768-46ed-80ca-33a1904c67fc"
      },
      "execution_count": null,
      "outputs": [
        {
          "output_type": "execute_result",
          "data": {
            "text/plain": [
              "#                                   int64\n",
              "ADR_USD                           float64\n",
              "hotel_id                            int64\n",
              "star_rating                       float64\n",
              "accommodation_type_name            object\n",
              "chain_hotel                        object\n",
              "booking_date               datetime64[ns]\n",
              "checkin_date               datetime64[ns]\n",
              "checkout_date              datetime64[ns]\n",
              "city                               object\n",
              "leadtime                            int32\n",
              "los                                 int32\n",
              "dtype: object"
            ],
            "text/html": [
              "<div>\n",
              "<style scoped>\n",
              "    .dataframe tbody tr th:only-of-type {\n",
              "        vertical-align: middle;\n",
              "    }\n",
              "\n",
              "    .dataframe tbody tr th {\n",
              "        vertical-align: top;\n",
              "    }\n",
              "\n",
              "    .dataframe thead th {\n",
              "        text-align: right;\n",
              "    }\n",
              "</style>\n",
              "<table border=\"1\" class=\"dataframe\">\n",
              "  <thead>\n",
              "    <tr style=\"text-align: right;\">\n",
              "      <th></th>\n",
              "      <th>0</th>\n",
              "    </tr>\n",
              "  </thead>\n",
              "  <tbody>\n",
              "    <tr>\n",
              "      <th>#</th>\n",
              "      <td>int64</td>\n",
              "    </tr>\n",
              "    <tr>\n",
              "      <th>ADR_USD</th>\n",
              "      <td>float64</td>\n",
              "    </tr>\n",
              "    <tr>\n",
              "      <th>hotel_id</th>\n",
              "      <td>int64</td>\n",
              "    </tr>\n",
              "    <tr>\n",
              "      <th>star_rating</th>\n",
              "      <td>float64</td>\n",
              "    </tr>\n",
              "    <tr>\n",
              "      <th>accommodation_type_name</th>\n",
              "      <td>object</td>\n",
              "    </tr>\n",
              "    <tr>\n",
              "      <th>chain_hotel</th>\n",
              "      <td>object</td>\n",
              "    </tr>\n",
              "    <tr>\n",
              "      <th>booking_date</th>\n",
              "      <td>datetime64[ns]</td>\n",
              "    </tr>\n",
              "    <tr>\n",
              "      <th>checkin_date</th>\n",
              "      <td>datetime64[ns]</td>\n",
              "    </tr>\n",
              "    <tr>\n",
              "      <th>checkout_date</th>\n",
              "      <td>datetime64[ns]</td>\n",
              "    </tr>\n",
              "    <tr>\n",
              "      <th>city</th>\n",
              "      <td>object</td>\n",
              "    </tr>\n",
              "    <tr>\n",
              "      <th>leadtime</th>\n",
              "      <td>int32</td>\n",
              "    </tr>\n",
              "    <tr>\n",
              "      <th>los</th>\n",
              "      <td>int32</td>\n",
              "    </tr>\n",
              "  </tbody>\n",
              "</table>\n",
              "</div><br><label><b>dtype:</b> object</label>"
            ]
          },
          "metadata": {},
          "execution_count": 188
        }
      ]
    },
    {
      "cell_type": "code",
      "source": [
        "pandas_df.head(5)"
      ],
      "metadata": {
        "colab": {
          "base_uri": "https://localhost:8080/",
          "height": 206
        },
        "id": "lfwXq7uC5aHf",
        "outputId": "2d5c29af-83fd-4540-fb4f-0db1f57f9673"
      },
      "execution_count": null,
      "outputs": [
        {
          "output_type": "execute_result",
          "data": {
            "text/plain": [
              "   #  ADR_USD  hotel_id  star_rating accommodation_type_name chain_hotel  \\\n",
              "0  1    71.06    297388          2.5                   Hotel   non-chain   \n",
              "1  2    76.56    298322          3.0                   Hotel   non-chain   \n",
              "2  3   153.88   2313076          5.0                   Hotel       chain   \n",
              "3  4   126.60   2240838          3.5                   Hotel   non-chain   \n",
              "4  5   115.08   2240838          3.5                   Hotel   non-chain   \n",
              "\n",
              "  booking_date checkin_date checkout_date city  leadtime  los  \n",
              "0   2016-08-02   2016-10-01    2016-10-02    A        60    1  \n",
              "1   2016-08-02   2016-10-01    2016-10-02    A        60    1  \n",
              "2   2016-08-02   2016-10-01    2016-10-02    A        60    1  \n",
              "3   2016-08-04   2016-10-02    2016-10-03    A        59    1  \n",
              "4   2016-08-04   2016-10-02    2016-10-03    A        59    1  "
            ],
            "text/html": [
              "\n",
              "  <div id=\"df-f00cfc49-d654-4377-b35f-20bb7edd1f59\" class=\"colab-df-container\">\n",
              "    <div>\n",
              "<style scoped>\n",
              "    .dataframe tbody tr th:only-of-type {\n",
              "        vertical-align: middle;\n",
              "    }\n",
              "\n",
              "    .dataframe tbody tr th {\n",
              "        vertical-align: top;\n",
              "    }\n",
              "\n",
              "    .dataframe thead th {\n",
              "        text-align: right;\n",
              "    }\n",
              "</style>\n",
              "<table border=\"1\" class=\"dataframe\">\n",
              "  <thead>\n",
              "    <tr style=\"text-align: right;\">\n",
              "      <th></th>\n",
              "      <th>#</th>\n",
              "      <th>ADR_USD</th>\n",
              "      <th>hotel_id</th>\n",
              "      <th>star_rating</th>\n",
              "      <th>accommodation_type_name</th>\n",
              "      <th>chain_hotel</th>\n",
              "      <th>booking_date</th>\n",
              "      <th>checkin_date</th>\n",
              "      <th>checkout_date</th>\n",
              "      <th>city</th>\n",
              "      <th>leadtime</th>\n",
              "      <th>los</th>\n",
              "    </tr>\n",
              "  </thead>\n",
              "  <tbody>\n",
              "    <tr>\n",
              "      <th>0</th>\n",
              "      <td>1</td>\n",
              "      <td>71.06</td>\n",
              "      <td>297388</td>\n",
              "      <td>2.5</td>\n",
              "      <td>Hotel</td>\n",
              "      <td>non-chain</td>\n",
              "      <td>2016-08-02</td>\n",
              "      <td>2016-10-01</td>\n",
              "      <td>2016-10-02</td>\n",
              "      <td>A</td>\n",
              "      <td>60</td>\n",
              "      <td>1</td>\n",
              "    </tr>\n",
              "    <tr>\n",
              "      <th>1</th>\n",
              "      <td>2</td>\n",
              "      <td>76.56</td>\n",
              "      <td>298322</td>\n",
              "      <td>3.0</td>\n",
              "      <td>Hotel</td>\n",
              "      <td>non-chain</td>\n",
              "      <td>2016-08-02</td>\n",
              "      <td>2016-10-01</td>\n",
              "      <td>2016-10-02</td>\n",
              "      <td>A</td>\n",
              "      <td>60</td>\n",
              "      <td>1</td>\n",
              "    </tr>\n",
              "    <tr>\n",
              "      <th>2</th>\n",
              "      <td>3</td>\n",
              "      <td>153.88</td>\n",
              "      <td>2313076</td>\n",
              "      <td>5.0</td>\n",
              "      <td>Hotel</td>\n",
              "      <td>chain</td>\n",
              "      <td>2016-08-02</td>\n",
              "      <td>2016-10-01</td>\n",
              "      <td>2016-10-02</td>\n",
              "      <td>A</td>\n",
              "      <td>60</td>\n",
              "      <td>1</td>\n",
              "    </tr>\n",
              "    <tr>\n",
              "      <th>3</th>\n",
              "      <td>4</td>\n",
              "      <td>126.60</td>\n",
              "      <td>2240838</td>\n",
              "      <td>3.5</td>\n",
              "      <td>Hotel</td>\n",
              "      <td>non-chain</td>\n",
              "      <td>2016-08-04</td>\n",
              "      <td>2016-10-02</td>\n",
              "      <td>2016-10-03</td>\n",
              "      <td>A</td>\n",
              "      <td>59</td>\n",
              "      <td>1</td>\n",
              "    </tr>\n",
              "    <tr>\n",
              "      <th>4</th>\n",
              "      <td>5</td>\n",
              "      <td>115.08</td>\n",
              "      <td>2240838</td>\n",
              "      <td>3.5</td>\n",
              "      <td>Hotel</td>\n",
              "      <td>non-chain</td>\n",
              "      <td>2016-08-04</td>\n",
              "      <td>2016-10-02</td>\n",
              "      <td>2016-10-03</td>\n",
              "      <td>A</td>\n",
              "      <td>59</td>\n",
              "      <td>1</td>\n",
              "    </tr>\n",
              "  </tbody>\n",
              "</table>\n",
              "</div>\n",
              "    <div class=\"colab-df-buttons\">\n",
              "\n",
              "  <div class=\"colab-df-container\">\n",
              "    <button class=\"colab-df-convert\" onclick=\"convertToInteractive('df-f00cfc49-d654-4377-b35f-20bb7edd1f59')\"\n",
              "            title=\"Convert this dataframe to an interactive table.\"\n",
              "            style=\"display:none;\">\n",
              "\n",
              "  <svg xmlns=\"http://www.w3.org/2000/svg\" height=\"24px\" viewBox=\"0 -960 960 960\">\n",
              "    <path d=\"M120-120v-720h720v720H120Zm60-500h600v-160H180v160Zm220 220h160v-160H400v160Zm0 220h160v-160H400v160ZM180-400h160v-160H180v160Zm440 0h160v-160H620v160ZM180-180h160v-160H180v160Zm440 0h160v-160H620v160Z\"/>\n",
              "  </svg>\n",
              "    </button>\n",
              "\n",
              "  <style>\n",
              "    .colab-df-container {\n",
              "      display:flex;\n",
              "      gap: 12px;\n",
              "    }\n",
              "\n",
              "    .colab-df-convert {\n",
              "      background-color: #E8F0FE;\n",
              "      border: none;\n",
              "      border-radius: 50%;\n",
              "      cursor: pointer;\n",
              "      display: none;\n",
              "      fill: #1967D2;\n",
              "      height: 32px;\n",
              "      padding: 0 0 0 0;\n",
              "      width: 32px;\n",
              "    }\n",
              "\n",
              "    .colab-df-convert:hover {\n",
              "      background-color: #E2EBFA;\n",
              "      box-shadow: 0px 1px 2px rgba(60, 64, 67, 0.3), 0px 1px 3px 1px rgba(60, 64, 67, 0.15);\n",
              "      fill: #174EA6;\n",
              "    }\n",
              "\n",
              "    .colab-df-buttons div {\n",
              "      margin-bottom: 4px;\n",
              "    }\n",
              "\n",
              "    [theme=dark] .colab-df-convert {\n",
              "      background-color: #3B4455;\n",
              "      fill: #D2E3FC;\n",
              "    }\n",
              "\n",
              "    [theme=dark] .colab-df-convert:hover {\n",
              "      background-color: #434B5C;\n",
              "      box-shadow: 0px 1px 3px 1px rgba(0, 0, 0, 0.15);\n",
              "      filter: drop-shadow(0px 1px 2px rgba(0, 0, 0, 0.3));\n",
              "      fill: #FFFFFF;\n",
              "    }\n",
              "  </style>\n",
              "\n",
              "    <script>\n",
              "      const buttonEl =\n",
              "        document.querySelector('#df-f00cfc49-d654-4377-b35f-20bb7edd1f59 button.colab-df-convert');\n",
              "      buttonEl.style.display =\n",
              "        google.colab.kernel.accessAllowed ? 'block' : 'none';\n",
              "\n",
              "      async function convertToInteractive(key) {\n",
              "        const element = document.querySelector('#df-f00cfc49-d654-4377-b35f-20bb7edd1f59');\n",
              "        const dataTable =\n",
              "          await google.colab.kernel.invokeFunction('convertToInteractive',\n",
              "                                                    [key], {});\n",
              "        if (!dataTable) return;\n",
              "\n",
              "        const docLinkHtml = 'Like what you see? Visit the ' +\n",
              "          '<a target=\"_blank\" href=https://colab.research.google.com/notebooks/data_table.ipynb>data table notebook</a>'\n",
              "          + ' to learn more about interactive tables.';\n",
              "        element.innerHTML = '';\n",
              "        dataTable['output_type'] = 'display_data';\n",
              "        await google.colab.output.renderOutput(dataTable, element);\n",
              "        const docLink = document.createElement('div');\n",
              "        docLink.innerHTML = docLinkHtml;\n",
              "        element.appendChild(docLink);\n",
              "      }\n",
              "    </script>\n",
              "  </div>\n",
              "\n",
              "\n",
              "<div id=\"df-51e1aaea-556e-443c-af06-75d8797746e3\">\n",
              "  <button class=\"colab-df-quickchart\" onclick=\"quickchart('df-51e1aaea-556e-443c-af06-75d8797746e3')\"\n",
              "            title=\"Suggest charts\"\n",
              "            style=\"display:none;\">\n",
              "\n",
              "<svg xmlns=\"http://www.w3.org/2000/svg\" height=\"24px\"viewBox=\"0 0 24 24\"\n",
              "     width=\"24px\">\n",
              "    <g>\n",
              "        <path d=\"M19 3H5c-1.1 0-2 .9-2 2v14c0 1.1.9 2 2 2h14c1.1 0 2-.9 2-2V5c0-1.1-.9-2-2-2zM9 17H7v-7h2v7zm4 0h-2V7h2v10zm4 0h-2v-4h2v4z\"/>\n",
              "    </g>\n",
              "</svg>\n",
              "  </button>\n",
              "\n",
              "<style>\n",
              "  .colab-df-quickchart {\n",
              "      --bg-color: #E8F0FE;\n",
              "      --fill-color: #1967D2;\n",
              "      --hover-bg-color: #E2EBFA;\n",
              "      --hover-fill-color: #174EA6;\n",
              "      --disabled-fill-color: #AAA;\n",
              "      --disabled-bg-color: #DDD;\n",
              "  }\n",
              "\n",
              "  [theme=dark] .colab-df-quickchart {\n",
              "      --bg-color: #3B4455;\n",
              "      --fill-color: #D2E3FC;\n",
              "      --hover-bg-color: #434B5C;\n",
              "      --hover-fill-color: #FFFFFF;\n",
              "      --disabled-bg-color: #3B4455;\n",
              "      --disabled-fill-color: #666;\n",
              "  }\n",
              "\n",
              "  .colab-df-quickchart {\n",
              "    background-color: var(--bg-color);\n",
              "    border: none;\n",
              "    border-radius: 50%;\n",
              "    cursor: pointer;\n",
              "    display: none;\n",
              "    fill: var(--fill-color);\n",
              "    height: 32px;\n",
              "    padding: 0;\n",
              "    width: 32px;\n",
              "  }\n",
              "\n",
              "  .colab-df-quickchart:hover {\n",
              "    background-color: var(--hover-bg-color);\n",
              "    box-shadow: 0 1px 2px rgba(60, 64, 67, 0.3), 0 1px 3px 1px rgba(60, 64, 67, 0.15);\n",
              "    fill: var(--button-hover-fill-color);\n",
              "  }\n",
              "\n",
              "  .colab-df-quickchart-complete:disabled,\n",
              "  .colab-df-quickchart-complete:disabled:hover {\n",
              "    background-color: var(--disabled-bg-color);\n",
              "    fill: var(--disabled-fill-color);\n",
              "    box-shadow: none;\n",
              "  }\n",
              "\n",
              "  .colab-df-spinner {\n",
              "    border: 2px solid var(--fill-color);\n",
              "    border-color: transparent;\n",
              "    border-bottom-color: var(--fill-color);\n",
              "    animation:\n",
              "      spin 1s steps(1) infinite;\n",
              "  }\n",
              "\n",
              "  @keyframes spin {\n",
              "    0% {\n",
              "      border-color: transparent;\n",
              "      border-bottom-color: var(--fill-color);\n",
              "      border-left-color: var(--fill-color);\n",
              "    }\n",
              "    20% {\n",
              "      border-color: transparent;\n",
              "      border-left-color: var(--fill-color);\n",
              "      border-top-color: var(--fill-color);\n",
              "    }\n",
              "    30% {\n",
              "      border-color: transparent;\n",
              "      border-left-color: var(--fill-color);\n",
              "      border-top-color: var(--fill-color);\n",
              "      border-right-color: var(--fill-color);\n",
              "    }\n",
              "    40% {\n",
              "      border-color: transparent;\n",
              "      border-right-color: var(--fill-color);\n",
              "      border-top-color: var(--fill-color);\n",
              "    }\n",
              "    60% {\n",
              "      border-color: transparent;\n",
              "      border-right-color: var(--fill-color);\n",
              "    }\n",
              "    80% {\n",
              "      border-color: transparent;\n",
              "      border-right-color: var(--fill-color);\n",
              "      border-bottom-color: var(--fill-color);\n",
              "    }\n",
              "    90% {\n",
              "      border-color: transparent;\n",
              "      border-bottom-color: var(--fill-color);\n",
              "    }\n",
              "  }\n",
              "</style>\n",
              "\n",
              "  <script>\n",
              "    async function quickchart(key) {\n",
              "      const quickchartButtonEl =\n",
              "        document.querySelector('#' + key + ' button');\n",
              "      quickchartButtonEl.disabled = true;  // To prevent multiple clicks.\n",
              "      quickchartButtonEl.classList.add('colab-df-spinner');\n",
              "      try {\n",
              "        const charts = await google.colab.kernel.invokeFunction(\n",
              "            'suggestCharts', [key], {});\n",
              "      } catch (error) {\n",
              "        console.error('Error during call to suggestCharts:', error);\n",
              "      }\n",
              "      quickchartButtonEl.classList.remove('colab-df-spinner');\n",
              "      quickchartButtonEl.classList.add('colab-df-quickchart-complete');\n",
              "    }\n",
              "    (() => {\n",
              "      let quickchartButtonEl =\n",
              "        document.querySelector('#df-51e1aaea-556e-443c-af06-75d8797746e3 button');\n",
              "      quickchartButtonEl.style.display =\n",
              "        google.colab.kernel.accessAllowed ? 'block' : 'none';\n",
              "    })();\n",
              "  </script>\n",
              "</div>\n",
              "\n",
              "    </div>\n",
              "  </div>\n"
            ],
            "application/vnd.google.colaboratory.intrinsic+json": {
              "type": "dataframe",
              "variable_name": "pandas_df",
              "summary": "{\n  \"name\": \"pandas_df\",\n  \"rows\": 27298,\n  \"fields\": [\n    {\n      \"column\": \"#\",\n      \"properties\": {\n        \"dtype\": \"number\",\n        \"std\": 7880,\n        \"min\": 1,\n        \"max\": 27298,\n        \"num_unique_values\": 27298,\n        \"samples\": [\n          7676,\n          19939,\n          8122\n        ],\n        \"semantic_type\": \"\",\n        \"description\": \"\"\n      }\n    },\n    {\n      \"column\": \"ADR_USD\",\n      \"properties\": {\n        \"dtype\": \"number\",\n        \"std\": 83.21099679408111,\n        \"min\": 4.26,\n        \"max\": 2326.24,\n        \"num_unique_values\": 11202,\n        \"samples\": [\n          24.64,\n          176.24,\n          71.12\n        ],\n        \"semantic_type\": \"\",\n        \"description\": \"\"\n      }\n    },\n    {\n      \"column\": \"hotel_id\",\n      \"properties\": {\n        \"dtype\": \"number\",\n        \"std\": 711981,\n        \"min\": 770,\n        \"max\": 4525158,\n        \"num_unique_values\": 557,\n        \"samples\": [\n          1465362,\n          1247524,\n          348814\n        ],\n        \"semantic_type\": \"\",\n        \"description\": \"\"\n      }\n    },\n    {\n      \"column\": \"star_rating\",\n      \"properties\": {\n        \"dtype\": \"number\",\n        \"std\": 0.8669716334033221,\n        \"min\": 0.0,\n        \"max\": 5.0,\n        \"num_unique_values\": 10,\n        \"samples\": [\n          0.0,\n          3.0,\n          4.0\n        ],\n        \"semantic_type\": \"\",\n        \"description\": \"\"\n      }\n    },\n    {\n      \"column\": \"accommodation_type_name\",\n      \"properties\": {\n        \"dtype\": \"category\",\n        \"num_unique_values\": 13,\n        \"samples\": [\n          \"Villa\",\n          \"Private Villa\",\n          \"Hotel\"\n        ],\n        \"semantic_type\": \"\",\n        \"description\": \"\"\n      }\n    },\n    {\n      \"column\": \"chain_hotel\",\n      \"properties\": {\n        \"dtype\": \"category\",\n        \"num_unique_values\": 2,\n        \"samples\": [\n          \"chain\",\n          \"non-chain\"\n        ],\n        \"semantic_type\": \"\",\n        \"description\": \"\"\n      }\n    },\n    {\n      \"column\": \"booking_date\",\n      \"properties\": {\n        \"dtype\": \"date\",\n        \"min\": \"2016-08-02 00:00:00\",\n        \"max\": \"2016-12-31 00:00:00\",\n        \"num_unique_values\": 151,\n        \"samples\": [\n          \"2016-10-18 00:00:00\",\n          \"2016-08-21 00:00:00\"\n        ],\n        \"semantic_type\": \"\",\n        \"description\": \"\"\n      }\n    },\n    {\n      \"column\": \"checkin_date\",\n      \"properties\": {\n        \"dtype\": \"date\",\n        \"min\": \"2016-10-01 00:00:00\",\n        \"max\": \"2016-12-31 00:00:00\",\n        \"num_unique_values\": 92,\n        \"samples\": [\n          \"2016-11-11 00:00:00\",\n          \"2016-10-22 00:00:00\"\n        ],\n        \"semantic_type\": \"\",\n        \"description\": \"\"\n      }\n    },\n    {\n      \"column\": \"checkout_date\",\n      \"properties\": {\n        \"dtype\": \"date\",\n        \"min\": \"2016-10-02 00:00:00\",\n        \"max\": \"2017-01-03 00:00:00\",\n        \"num_unique_values\": 94,\n        \"samples\": [\n          \"2016-11-11 00:00:00\",\n          \"2016-10-25 00:00:00\"\n        ],\n        \"semantic_type\": \"\",\n        \"description\": \"\"\n      }\n    },\n    {\n      \"column\": \"city\",\n      \"properties\": {\n        \"dtype\": \"category\",\n        \"num_unique_values\": 2,\n        \"samples\": [\n          \"B\",\n          \"A\"\n        ],\n        \"semantic_type\": \"\",\n        \"description\": \"\"\n      }\n    },\n    {\n      \"column\": \"leadtime\",\n      \"properties\": {\n        \"dtype\": \"int32\",\n        \"num_unique_values\": 62,\n        \"samples\": [\n          10,\n          4\n        ],\n        \"semantic_type\": \"\",\n        \"description\": \"\"\n      }\n    },\n    {\n      \"column\": \"los\",\n      \"properties\": {\n        \"dtype\": \"int32\",\n        \"num_unique_values\": 3,\n        \"samples\": [\n          1,\n          2\n        ],\n        \"semantic_type\": \"\",\n        \"description\": \"\"\n      }\n    }\n  ]\n}"
            }
          },
          "metadata": {},
          "execution_count": 189
        }
      ]
    },
    {
      "cell_type": "code",
      "source": [
        "pandas_df.info()"
      ],
      "metadata": {
        "colab": {
          "base_uri": "https://localhost:8080/"
        },
        "id": "I-W1SM1Q-TBs",
        "outputId": "ec617c2e-0ff9-47e8-f4c7-d16af9a2f0e9"
      },
      "execution_count": null,
      "outputs": [
        {
          "output_type": "stream",
          "name": "stdout",
          "text": [
            "<class 'pandas.core.frame.DataFrame'>\n",
            "RangeIndex: 27298 entries, 0 to 27297\n",
            "Data columns (total 12 columns):\n",
            " #   Column                   Non-Null Count  Dtype         \n",
            "---  ------                   --------------  -----         \n",
            " 0   #                        27298 non-null  int64         \n",
            " 1   ADR_USD                  27298 non-null  float64       \n",
            " 2   hotel_id                 27298 non-null  int64         \n",
            " 3   star_rating              27298 non-null  float64       \n",
            " 4   accommodation_type_name  27298 non-null  object        \n",
            " 5   chain_hotel              27298 non-null  object        \n",
            " 6   booking_date             27298 non-null  datetime64[ns]\n",
            " 7   checkin_date             27298 non-null  datetime64[ns]\n",
            " 8   checkout_date            27298 non-null  datetime64[ns]\n",
            " 9   city                     27298 non-null  object        \n",
            " 10  leadtime                 27298 non-null  int32         \n",
            " 11  los                      27298 non-null  int32         \n",
            "dtypes: datetime64[ns](3), float64(2), int32(2), int64(2), object(3)\n",
            "memory usage: 2.3+ MB\n"
          ]
        }
      ]
    },
    {
      "cell_type": "code",
      "source": [
        "pandas_df.describe().round(1)"
      ],
      "metadata": {
        "colab": {
          "base_uri": "https://localhost:8080/",
          "height": 300
        },
        "id": "2qDVrsB3-bL5",
        "outputId": "26dd79c7-7b33-4f39-e464-f8193f80ab19"
      },
      "execution_count": null,
      "outputs": [
        {
          "output_type": "execute_result",
          "data": {
            "text/plain": [
              "             #  ADR_USD   hotel_id  star_rating  \\\n",
              "count  27298.0  27298.0    27298.0      27298.0   \n",
              "mean   13649.5    103.7   703581.1          3.5   \n",
              "min        1.0      4.3      770.0          0.0   \n",
              "25%     6825.2     52.6   197996.0          3.0   \n",
              "50%    13649.5     82.9   475584.0          3.5   \n",
              "75%    20473.8    129.6   866630.0          4.0   \n",
              "max    27298.0   2326.2  4525158.0          5.0   \n",
              "std     7880.4     83.2   711981.7          0.9   \n",
              "\n",
              "                        booking_date                   checkin_date  \\\n",
              "count                          27298                          27298   \n",
              "mean   2016-11-03 05:15:39.761154560  2016-11-16 14:20:19.078320640   \n",
              "min              2016-08-02 00:00:00            2016-10-01 00:00:00   \n",
              "25%              2016-10-11 00:00:00            2016-10-24 00:00:00   \n",
              "50%              2016-11-04 00:00:00            2016-11-17 00:00:00   \n",
              "75%              2016-11-27 00:00:00            2016-12-10 00:00:00   \n",
              "max              2016-12-31 00:00:00            2016-12-31 00:00:00   \n",
              "std                              NaN                            NaN   \n",
              "\n",
              "                       checkout_date  leadtime      los  \n",
              "count                          27298   27298.0  27298.0  \n",
              "mean   2016-11-18 06:30:18.331013632      13.4      1.7  \n",
              "min              2016-10-02 00:00:00      -1.0      1.0  \n",
              "25%              2016-10-26 00:00:00       1.0      1.0  \n",
              "50%              2016-11-19 00:00:00       7.0      1.0  \n",
              "75%              2016-12-12 00:00:00      21.0      2.0  \n",
              "max              2017-01-03 00:00:00      60.0      3.0  \n",
              "std                              NaN      15.3      0.8  "
            ],
            "text/html": [
              "\n",
              "  <div id=\"df-7cfb1a02-872f-4409-99fa-b6e084311f53\" class=\"colab-df-container\">\n",
              "    <div>\n",
              "<style scoped>\n",
              "    .dataframe tbody tr th:only-of-type {\n",
              "        vertical-align: middle;\n",
              "    }\n",
              "\n",
              "    .dataframe tbody tr th {\n",
              "        vertical-align: top;\n",
              "    }\n",
              "\n",
              "    .dataframe thead th {\n",
              "        text-align: right;\n",
              "    }\n",
              "</style>\n",
              "<table border=\"1\" class=\"dataframe\">\n",
              "  <thead>\n",
              "    <tr style=\"text-align: right;\">\n",
              "      <th></th>\n",
              "      <th>#</th>\n",
              "      <th>ADR_USD</th>\n",
              "      <th>hotel_id</th>\n",
              "      <th>star_rating</th>\n",
              "      <th>booking_date</th>\n",
              "      <th>checkin_date</th>\n",
              "      <th>checkout_date</th>\n",
              "      <th>leadtime</th>\n",
              "      <th>los</th>\n",
              "    </tr>\n",
              "  </thead>\n",
              "  <tbody>\n",
              "    <tr>\n",
              "      <th>count</th>\n",
              "      <td>27298.0</td>\n",
              "      <td>27298.0</td>\n",
              "      <td>27298.0</td>\n",
              "      <td>27298.0</td>\n",
              "      <td>27298</td>\n",
              "      <td>27298</td>\n",
              "      <td>27298</td>\n",
              "      <td>27298.0</td>\n",
              "      <td>27298.0</td>\n",
              "    </tr>\n",
              "    <tr>\n",
              "      <th>mean</th>\n",
              "      <td>13649.5</td>\n",
              "      <td>103.7</td>\n",
              "      <td>703581.1</td>\n",
              "      <td>3.5</td>\n",
              "      <td>2016-11-03 05:15:39.761154560</td>\n",
              "      <td>2016-11-16 14:20:19.078320640</td>\n",
              "      <td>2016-11-18 06:30:18.331013632</td>\n",
              "      <td>13.4</td>\n",
              "      <td>1.7</td>\n",
              "    </tr>\n",
              "    <tr>\n",
              "      <th>min</th>\n",
              "      <td>1.0</td>\n",
              "      <td>4.3</td>\n",
              "      <td>770.0</td>\n",
              "      <td>0.0</td>\n",
              "      <td>2016-08-02 00:00:00</td>\n",
              "      <td>2016-10-01 00:00:00</td>\n",
              "      <td>2016-10-02 00:00:00</td>\n",
              "      <td>-1.0</td>\n",
              "      <td>1.0</td>\n",
              "    </tr>\n",
              "    <tr>\n",
              "      <th>25%</th>\n",
              "      <td>6825.2</td>\n",
              "      <td>52.6</td>\n",
              "      <td>197996.0</td>\n",
              "      <td>3.0</td>\n",
              "      <td>2016-10-11 00:00:00</td>\n",
              "      <td>2016-10-24 00:00:00</td>\n",
              "      <td>2016-10-26 00:00:00</td>\n",
              "      <td>1.0</td>\n",
              "      <td>1.0</td>\n",
              "    </tr>\n",
              "    <tr>\n",
              "      <th>50%</th>\n",
              "      <td>13649.5</td>\n",
              "      <td>82.9</td>\n",
              "      <td>475584.0</td>\n",
              "      <td>3.5</td>\n",
              "      <td>2016-11-04 00:00:00</td>\n",
              "      <td>2016-11-17 00:00:00</td>\n",
              "      <td>2016-11-19 00:00:00</td>\n",
              "      <td>7.0</td>\n",
              "      <td>1.0</td>\n",
              "    </tr>\n",
              "    <tr>\n",
              "      <th>75%</th>\n",
              "      <td>20473.8</td>\n",
              "      <td>129.6</td>\n",
              "      <td>866630.0</td>\n",
              "      <td>4.0</td>\n",
              "      <td>2016-11-27 00:00:00</td>\n",
              "      <td>2016-12-10 00:00:00</td>\n",
              "      <td>2016-12-12 00:00:00</td>\n",
              "      <td>21.0</td>\n",
              "      <td>2.0</td>\n",
              "    </tr>\n",
              "    <tr>\n",
              "      <th>max</th>\n",
              "      <td>27298.0</td>\n",
              "      <td>2326.2</td>\n",
              "      <td>4525158.0</td>\n",
              "      <td>5.0</td>\n",
              "      <td>2016-12-31 00:00:00</td>\n",
              "      <td>2016-12-31 00:00:00</td>\n",
              "      <td>2017-01-03 00:00:00</td>\n",
              "      <td>60.0</td>\n",
              "      <td>3.0</td>\n",
              "    </tr>\n",
              "    <tr>\n",
              "      <th>std</th>\n",
              "      <td>7880.4</td>\n",
              "      <td>83.2</td>\n",
              "      <td>711981.7</td>\n",
              "      <td>0.9</td>\n",
              "      <td>NaN</td>\n",
              "      <td>NaN</td>\n",
              "      <td>NaN</td>\n",
              "      <td>15.3</td>\n",
              "      <td>0.8</td>\n",
              "    </tr>\n",
              "  </tbody>\n",
              "</table>\n",
              "</div>\n",
              "    <div class=\"colab-df-buttons\">\n",
              "\n",
              "  <div class=\"colab-df-container\">\n",
              "    <button class=\"colab-df-convert\" onclick=\"convertToInteractive('df-7cfb1a02-872f-4409-99fa-b6e084311f53')\"\n",
              "            title=\"Convert this dataframe to an interactive table.\"\n",
              "            style=\"display:none;\">\n",
              "\n",
              "  <svg xmlns=\"http://www.w3.org/2000/svg\" height=\"24px\" viewBox=\"0 -960 960 960\">\n",
              "    <path d=\"M120-120v-720h720v720H120Zm60-500h600v-160H180v160Zm220 220h160v-160H400v160Zm0 220h160v-160H400v160ZM180-400h160v-160H180v160Zm440 0h160v-160H620v160ZM180-180h160v-160H180v160Zm440 0h160v-160H620v160Z\"/>\n",
              "  </svg>\n",
              "    </button>\n",
              "\n",
              "  <style>\n",
              "    .colab-df-container {\n",
              "      display:flex;\n",
              "      gap: 12px;\n",
              "    }\n",
              "\n",
              "    .colab-df-convert {\n",
              "      background-color: #E8F0FE;\n",
              "      border: none;\n",
              "      border-radius: 50%;\n",
              "      cursor: pointer;\n",
              "      display: none;\n",
              "      fill: #1967D2;\n",
              "      height: 32px;\n",
              "      padding: 0 0 0 0;\n",
              "      width: 32px;\n",
              "    }\n",
              "\n",
              "    .colab-df-convert:hover {\n",
              "      background-color: #E2EBFA;\n",
              "      box-shadow: 0px 1px 2px rgba(60, 64, 67, 0.3), 0px 1px 3px 1px rgba(60, 64, 67, 0.15);\n",
              "      fill: #174EA6;\n",
              "    }\n",
              "\n",
              "    .colab-df-buttons div {\n",
              "      margin-bottom: 4px;\n",
              "    }\n",
              "\n",
              "    [theme=dark] .colab-df-convert {\n",
              "      background-color: #3B4455;\n",
              "      fill: #D2E3FC;\n",
              "    }\n",
              "\n",
              "    [theme=dark] .colab-df-convert:hover {\n",
              "      background-color: #434B5C;\n",
              "      box-shadow: 0px 1px 3px 1px rgba(0, 0, 0, 0.15);\n",
              "      filter: drop-shadow(0px 1px 2px rgba(0, 0, 0, 0.3));\n",
              "      fill: #FFFFFF;\n",
              "    }\n",
              "  </style>\n",
              "\n",
              "    <script>\n",
              "      const buttonEl =\n",
              "        document.querySelector('#df-7cfb1a02-872f-4409-99fa-b6e084311f53 button.colab-df-convert');\n",
              "      buttonEl.style.display =\n",
              "        google.colab.kernel.accessAllowed ? 'block' : 'none';\n",
              "\n",
              "      async function convertToInteractive(key) {\n",
              "        const element = document.querySelector('#df-7cfb1a02-872f-4409-99fa-b6e084311f53');\n",
              "        const dataTable =\n",
              "          await google.colab.kernel.invokeFunction('convertToInteractive',\n",
              "                                                    [key], {});\n",
              "        if (!dataTable) return;\n",
              "\n",
              "        const docLinkHtml = 'Like what you see? Visit the ' +\n",
              "          '<a target=\"_blank\" href=https://colab.research.google.com/notebooks/data_table.ipynb>data table notebook</a>'\n",
              "          + ' to learn more about interactive tables.';\n",
              "        element.innerHTML = '';\n",
              "        dataTable['output_type'] = 'display_data';\n",
              "        await google.colab.output.renderOutput(dataTable, element);\n",
              "        const docLink = document.createElement('div');\n",
              "        docLink.innerHTML = docLinkHtml;\n",
              "        element.appendChild(docLink);\n",
              "      }\n",
              "    </script>\n",
              "  </div>\n",
              "\n",
              "\n",
              "<div id=\"df-dd45a06e-6a39-48d3-a1b5-772135aaf3ec\">\n",
              "  <button class=\"colab-df-quickchart\" onclick=\"quickchart('df-dd45a06e-6a39-48d3-a1b5-772135aaf3ec')\"\n",
              "            title=\"Suggest charts\"\n",
              "            style=\"display:none;\">\n",
              "\n",
              "<svg xmlns=\"http://www.w3.org/2000/svg\" height=\"24px\"viewBox=\"0 0 24 24\"\n",
              "     width=\"24px\">\n",
              "    <g>\n",
              "        <path d=\"M19 3H5c-1.1 0-2 .9-2 2v14c0 1.1.9 2 2 2h14c1.1 0 2-.9 2-2V5c0-1.1-.9-2-2-2zM9 17H7v-7h2v7zm4 0h-2V7h2v10zm4 0h-2v-4h2v4z\"/>\n",
              "    </g>\n",
              "</svg>\n",
              "  </button>\n",
              "\n",
              "<style>\n",
              "  .colab-df-quickchart {\n",
              "      --bg-color: #E8F0FE;\n",
              "      --fill-color: #1967D2;\n",
              "      --hover-bg-color: #E2EBFA;\n",
              "      --hover-fill-color: #174EA6;\n",
              "      --disabled-fill-color: #AAA;\n",
              "      --disabled-bg-color: #DDD;\n",
              "  }\n",
              "\n",
              "  [theme=dark] .colab-df-quickchart {\n",
              "      --bg-color: #3B4455;\n",
              "      --fill-color: #D2E3FC;\n",
              "      --hover-bg-color: #434B5C;\n",
              "      --hover-fill-color: #FFFFFF;\n",
              "      --disabled-bg-color: #3B4455;\n",
              "      --disabled-fill-color: #666;\n",
              "  }\n",
              "\n",
              "  .colab-df-quickchart {\n",
              "    background-color: var(--bg-color);\n",
              "    border: none;\n",
              "    border-radius: 50%;\n",
              "    cursor: pointer;\n",
              "    display: none;\n",
              "    fill: var(--fill-color);\n",
              "    height: 32px;\n",
              "    padding: 0;\n",
              "    width: 32px;\n",
              "  }\n",
              "\n",
              "  .colab-df-quickchart:hover {\n",
              "    background-color: var(--hover-bg-color);\n",
              "    box-shadow: 0 1px 2px rgba(60, 64, 67, 0.3), 0 1px 3px 1px rgba(60, 64, 67, 0.15);\n",
              "    fill: var(--button-hover-fill-color);\n",
              "  }\n",
              "\n",
              "  .colab-df-quickchart-complete:disabled,\n",
              "  .colab-df-quickchart-complete:disabled:hover {\n",
              "    background-color: var(--disabled-bg-color);\n",
              "    fill: var(--disabled-fill-color);\n",
              "    box-shadow: none;\n",
              "  }\n",
              "\n",
              "  .colab-df-spinner {\n",
              "    border: 2px solid var(--fill-color);\n",
              "    border-color: transparent;\n",
              "    border-bottom-color: var(--fill-color);\n",
              "    animation:\n",
              "      spin 1s steps(1) infinite;\n",
              "  }\n",
              "\n",
              "  @keyframes spin {\n",
              "    0% {\n",
              "      border-color: transparent;\n",
              "      border-bottom-color: var(--fill-color);\n",
              "      border-left-color: var(--fill-color);\n",
              "    }\n",
              "    20% {\n",
              "      border-color: transparent;\n",
              "      border-left-color: var(--fill-color);\n",
              "      border-top-color: var(--fill-color);\n",
              "    }\n",
              "    30% {\n",
              "      border-color: transparent;\n",
              "      border-left-color: var(--fill-color);\n",
              "      border-top-color: var(--fill-color);\n",
              "      border-right-color: var(--fill-color);\n",
              "    }\n",
              "    40% {\n",
              "      border-color: transparent;\n",
              "      border-right-color: var(--fill-color);\n",
              "      border-top-color: var(--fill-color);\n",
              "    }\n",
              "    60% {\n",
              "      border-color: transparent;\n",
              "      border-right-color: var(--fill-color);\n",
              "    }\n",
              "    80% {\n",
              "      border-color: transparent;\n",
              "      border-right-color: var(--fill-color);\n",
              "      border-bottom-color: var(--fill-color);\n",
              "    }\n",
              "    90% {\n",
              "      border-color: transparent;\n",
              "      border-bottom-color: var(--fill-color);\n",
              "    }\n",
              "  }\n",
              "</style>\n",
              "\n",
              "  <script>\n",
              "    async function quickchart(key) {\n",
              "      const quickchartButtonEl =\n",
              "        document.querySelector('#' + key + ' button');\n",
              "      quickchartButtonEl.disabled = true;  // To prevent multiple clicks.\n",
              "      quickchartButtonEl.classList.add('colab-df-spinner');\n",
              "      try {\n",
              "        const charts = await google.colab.kernel.invokeFunction(\n",
              "            'suggestCharts', [key], {});\n",
              "      } catch (error) {\n",
              "        console.error('Error during call to suggestCharts:', error);\n",
              "      }\n",
              "      quickchartButtonEl.classList.remove('colab-df-spinner');\n",
              "      quickchartButtonEl.classList.add('colab-df-quickchart-complete');\n",
              "    }\n",
              "    (() => {\n",
              "      let quickchartButtonEl =\n",
              "        document.querySelector('#df-dd45a06e-6a39-48d3-a1b5-772135aaf3ec button');\n",
              "      quickchartButtonEl.style.display =\n",
              "        google.colab.kernel.accessAllowed ? 'block' : 'none';\n",
              "    })();\n",
              "  </script>\n",
              "</div>\n",
              "\n",
              "    </div>\n",
              "  </div>\n"
            ],
            "application/vnd.google.colaboratory.intrinsic+json": {
              "type": "dataframe",
              "summary": "{\n  \"name\": \"pandas_df\",\n  \"rows\": 8,\n  \"fields\": [\n    {\n      \"column\": \"#\",\n      \"properties\": {\n        \"dtype\": \"number\",\n        \"std\": 9838.036204264985,\n        \"min\": 1.0,\n        \"max\": 27298.0,\n        \"num_unique_values\": 6,\n        \"samples\": [\n          27298.0,\n          13649.5,\n          7880.4\n        ],\n        \"semantic_type\": \"\",\n        \"description\": \"\"\n      }\n    },\n    {\n      \"column\": \"ADR_USD\",\n      \"properties\": {\n        \"dtype\": \"number\",\n        \"std\": 9543.371522825597,\n        \"min\": 4.3,\n        \"max\": 27298.0,\n        \"num_unique_values\": 8,\n        \"samples\": [\n          103.7,\n          129.6,\n          27298.0\n        ],\n        \"semantic_type\": \"\",\n        \"description\": \"\"\n      }\n    },\n    {\n      \"column\": \"hotel_id\",\n      \"properties\": {\n        \"dtype\": \"number\",\n        \"std\": 1485551.4726742252,\n        \"min\": 770.0,\n        \"max\": 4525158.0,\n        \"num_unique_values\": 8,\n        \"samples\": [\n          703581.1,\n          866630.0,\n          27298.0\n        ],\n        \"semantic_type\": \"\",\n        \"description\": \"\"\n      }\n    },\n    {\n      \"column\": \"star_rating\",\n      \"properties\": {\n        \"dtype\": \"number\",\n        \"std\": 9650.295493320029,\n        \"min\": 0.0,\n        \"max\": 27298.0,\n        \"num_unique_values\": 7,\n        \"samples\": [\n          27298.0,\n          3.5,\n          5.0\n        ],\n        \"semantic_type\": \"\",\n        \"description\": \"\"\n      }\n    },\n    {\n      \"column\": \"booking_date\",\n      \"properties\": {\n        \"dtype\": \"date\",\n        \"min\": \"1970-01-01 00:00:00.000027298\",\n        \"max\": \"2016-12-31 00:00:00\",\n        \"num_unique_values\": 7,\n        \"samples\": [\n          \"27298\",\n          \"2016-11-03 05:15:39.761154560\",\n          \"2016-11-27 00:00:00\"\n        ],\n        \"semantic_type\": \"\",\n        \"description\": \"\"\n      }\n    },\n    {\n      \"column\": \"checkin_date\",\n      \"properties\": {\n        \"dtype\": \"date\",\n        \"min\": \"1970-01-01 00:00:00.000027298\",\n        \"max\": \"2016-12-31 00:00:00\",\n        \"num_unique_values\": 7,\n        \"samples\": [\n          \"27298\",\n          \"2016-11-16 14:20:19.078320640\",\n          \"2016-12-10 00:00:00\"\n        ],\n        \"semantic_type\": \"\",\n        \"description\": \"\"\n      }\n    },\n    {\n      \"column\": \"checkout_date\",\n      \"properties\": {\n        \"dtype\": \"date\",\n        \"min\": \"1970-01-01 00:00:00.000027298\",\n        \"max\": \"2017-01-03 00:00:00\",\n        \"num_unique_values\": 7,\n        \"samples\": [\n          \"27298\",\n          \"2016-11-18 06:30:18.331013632\",\n          \"2016-12-12 00:00:00\"\n        ],\n        \"semantic_type\": \"\",\n        \"description\": \"\"\n      }\n    },\n    {\n      \"column\": \"leadtime\",\n      \"properties\": {\n        \"dtype\": \"number\",\n        \"std\": 9645.42517494878,\n        \"min\": -1.0,\n        \"max\": 27298.0,\n        \"num_unique_values\": 8,\n        \"samples\": [\n          13.4,\n          21.0,\n          27298.0\n        ],\n        \"semantic_type\": \"\",\n        \"description\": \"\"\n      }\n    },\n    {\n      \"column\": \"los\",\n      \"properties\": {\n        \"dtype\": \"number\",\n        \"std\": 9650.77015430634,\n        \"min\": 0.8,\n        \"max\": 27298.0,\n        \"num_unique_values\": 6,\n        \"samples\": [\n          27298.0,\n          1.7,\n          0.8\n        ],\n        \"semantic_type\": \"\",\n        \"description\": \"\"\n      }\n    }\n  ]\n}"
            }
          },
          "metadata": {},
          "execution_count": 191
        }
      ]
    },
    {
      "cell_type": "code",
      "source": [
        "plt.figure(figsize=(5, 3))\n",
        "sns.histplot(pandas_df[\"ADR_USD\"], bins=50)\n",
        "plt.title(\"Distribution of ADR_USD\")\n",
        "plt.xlabel(\"ADR_USD\")\n",
        "plt.ylabel(\"Frequency\")\n",
        "plt.show()"
      ],
      "metadata": {
        "colab": {
          "base_uri": "https://localhost:8080/",
          "height": 333
        },
        "id": "oFr2jCRX2Nbs",
        "outputId": "f894678f-fe86-48b1-a055-fda7bcb63630"
      },
      "execution_count": null,
      "outputs": [
        {
          "output_type": "display_data",
          "data": {
            "text/plain": [
              "<Figure size 500x300 with 1 Axes>"
            ],
            "image/png": "[encoded data removed]"
          },
          "metadata": {}
        }
      ]
    },
    {
      "cell_type": "code",
      "source": [
        "pandas_df.hist(bins=100, figsize = (20,10))\n",
        "plt.show()"
      ],
      "metadata": {
        "colab": {
          "base_uri": "https://localhost:8080/",
          "height": 853
        },
        "id": "hE9Zu65aD01d",
        "outputId": "f1102deb-c641-4055-cb5f-8ff18ac3874c"
      },
      "execution_count": null,
      "outputs": [
        {
          "output_type": "display_data",
          "data": {
            "text/plain": [
              "<Figure size 2000x1000 with 9 Axes>"
            ],
            "image/png": "[encoded data removed]"
          },
          "metadata": {}
        }
      ]
    },
    {
      "cell_type": "markdown",
      "source": [
        "# ML Model (Pandas)"
      ],
      "metadata": {
        "id": "KSZnwJOb_eFg"
      }
    },
    {
      "cell_type": "code",
      "source": [
        "numerical_features = [\"star_rating\", \"leadtime\", \"los\"]\n",
        "# hotel_id is an identifier so should not be included\n",
        "categorical_features = [\"accommodation_type_name\", \"chain_hotel\", \"city\"]\n",
        "features = numerical_features + categorical_features\n",
        "print(features)\n",
        "\n",
        "target = \"ADR_USD\""
      ],
      "metadata": {
        "colab": {
          "base_uri": "https://localhost:8080/"
        },
        "id": "TuVRg8rd4B_1",
        "outputId": "84bae4a1-fee8-4e64-e468-d4a808d2eb52"
      },
      "execution_count": null,
      "outputs": [
        {
          "output_type": "stream",
          "name": "stdout",
          "text": [
            "['star_rating', 'leadtime', 'los', 'accommodation_type_name', 'chain_hotel', 'city']\n"
          ]
        }
      ]
    },
    {
      "cell_type": "code",
      "source": [
        "pandas_df[categorical_features] = pandas_df[categorical_features].astype(\"category\")\n",
        "pandas_df[numerical_features] = pandas_df[numerical_features].astype(\"float\")"
      ],
      "metadata": {
        "id": "-QYivxyK8tHu"
      },
      "execution_count": null,
      "outputs": []
    },
    {
      "cell_type": "code",
      "source": [
        "pandas_df.dtypes"
      ],
      "metadata": {
        "colab": {
          "base_uri": "https://localhost:8080/",
          "height": 460
        },
        "id": "F42Z3C7X8w5f",
        "outputId": "1f685a75-e4da-4da9-d00c-dd752c2c0640"
      },
      "execution_count": null,
      "outputs": [
        {
          "output_type": "execute_result",
          "data": {
            "text/plain": [
              "#                                   int64\n",
              "ADR_USD                           float64\n",
              "hotel_id                            int64\n",
              "star_rating                       float64\n",
              "accommodation_type_name          category\n",
              "chain_hotel                      category\n",
              "booking_date               datetime64[ns]\n",
              "checkin_date               datetime64[ns]\n",
              "checkout_date              datetime64[ns]\n",
              "city                             category\n",
              "leadtime                          float64\n",
              "los                               float64\n",
              "dtype: object"
            ],
            "text/html": [
              "<div>\n",
              "<style scoped>\n",
              "    .dataframe tbody tr th:only-of-type {\n",
              "        vertical-align: middle;\n",
              "    }\n",
              "\n",
              "    .dataframe tbody tr th {\n",
              "        vertical-align: top;\n",
              "    }\n",
              "\n",
              "    .dataframe thead th {\n",
              "        text-align: right;\n",
              "    }\n",
              "</style>\n",
              "<table border=\"1\" class=\"dataframe\">\n",
              "  <thead>\n",
              "    <tr style=\"text-align: right;\">\n",
              "      <th></th>\n",
              "      <th>0</th>\n",
              "    </tr>\n",
              "  </thead>\n",
              "  <tbody>\n",
              "    <tr>\n",
              "      <th>#</th>\n",
              "      <td>int64</td>\n",
              "    </tr>\n",
              "    <tr>\n",
              "      <th>ADR_USD</th>\n",
              "      <td>float64</td>\n",
              "    </tr>\n",
              "    <tr>\n",
              "      <th>hotel_id</th>\n",
              "      <td>int64</td>\n",
              "    </tr>\n",
              "    <tr>\n",
              "      <th>star_rating</th>\n",
              "      <td>float64</td>\n",
              "    </tr>\n",
              "    <tr>\n",
              "      <th>accommodation_type_name</th>\n",
              "      <td>category</td>\n",
              "    </tr>\n",
              "    <tr>\n",
              "      <th>chain_hotel</th>\n",
              "      <td>category</td>\n",
              "    </tr>\n",
              "    <tr>\n",
              "      <th>booking_date</th>\n",
              "      <td>datetime64[ns]</td>\n",
              "    </tr>\n",
              "    <tr>\n",
              "      <th>checkin_date</th>\n",
              "      <td>datetime64[ns]</td>\n",
              "    </tr>\n",
              "    <tr>\n",
              "      <th>checkout_date</th>\n",
              "      <td>datetime64[ns]</td>\n",
              "    </tr>\n",
              "    <tr>\n",
              "      <th>city</th>\n",
              "      <td>category</td>\n",
              "    </tr>\n",
              "    <tr>\n",
              "      <th>leadtime</th>\n",
              "      <td>float64</td>\n",
              "    </tr>\n",
              "    <tr>\n",
              "      <th>los</th>\n",
              "      <td>float64</td>\n",
              "    </tr>\n",
              "  </tbody>\n",
              "</table>\n",
              "</div><br><label><b>dtype:</b> object</label>"
            ]
          },
          "metadata": {},
          "execution_count": 196
        }
      ]
    },
    {
      "cell_type": "markdown",
      "source": [
        "### Train-Test Split"
      ],
      "metadata": {
        "id": "DicZspBrDR2w"
      }
    },
    {
      "cell_type": "code",
      "source": [
        "X = pandas_df[features]\n",
        "y = pandas_df[target]\n",
        "\n",
        "X_train, X_test, y_train, y_test = train_test_split(X, y, test_size=0.2, random_state=42)"
      ],
      "metadata": {
        "id": "kK8Vsp8X6gkN"
      },
      "execution_count": null,
      "outputs": []
    },
    {
      "cell_type": "markdown",
      "source": [
        "### Model Training"
      ],
      "metadata": {
        "id": "cTOJBxXyDePv"
      }
    },
    {
      "cell_type": "code",
      "source": [
        "train_data = lgb.Dataset(X_train, label=y_train, categorical_feature=categorical_features)\n",
        "test_data = lgb.Dataset(X_test, label=y_test, categorical_feature=categorical_features, reference=train_data)\n",
        "\n",
        "params = {\n",
        "    \"objective\": \"regression\",\n",
        "    \"metric\": \"rmse\",\n",
        "    \"boosting_type\": \"gbdt\",\n",
        "    \"learning_rate\": 0.1,\n",
        "    \"num_leaves\": 31,\n",
        "    \"max_depth\": -1,\n",
        "    \"verbose\": 1\n",
        "}\n",
        "\n",
        "model = lgb.train(params, train_data, valid_sets=[train_data, test_data], num_boost_round=1000)"
      ],
      "metadata": {
        "colab": {
          "base_uri": "https://localhost:8080/"
        },
        "id": "m1l4fP7S6hAn",
        "outputId": "b809fdfa-ccc0-41a8-d012-f7f6ed095a91"
      },
      "execution_count": null,
      "outputs": [
        {
          "output_type": "stream",
          "name": "stdout",
          "text": [
            "[LightGBM] [Info] Auto-choosing row-wise multi-threading, the overhead of testing was 0.054432 seconds.\n",
            "You can set `force_row_wise=true` to remove the overhead.\n",
            "And if memory is not enough, you can set `force_col_wise=true`.\n",
            "[LightGBM] [Info] Total Bins 94\n",
            "[LightGBM] [Info] Number of data points in the train set: 21838, number of used features: 6\n",
            "[LightGBM] [Info] Start training from score 103.894162\n"
          ]
        }
      ]
    },
    {
      "cell_type": "markdown",
      "source": [
        "### Model Testing"
      ],
      "metadata": {
        "id": "u-_7IOAoDlYT"
      }
    },
    {
      "cell_type": "code",
      "source": [
        "y_pred = model.predict(X_test, num_iteration=model.best_iteration)"
      ],
      "metadata": {
        "id": "3cKaw8tO61pu"
      },
      "execution_count": null,
      "outputs": []
    },
    {
      "cell_type": "code",
      "source": [
        "rmse = np.sqrt(mean_squared_error(y_test, y_pred))\n",
        "mse = mean_squared_error(y_test, y_pred)\n",
        "mae = mean_absolute_error(y_test, y_pred)\n",
        "r2 = r2_score(y_test, y_pred)\n",
        "\n",
        "evaluation_metrics = pd.DataFrame({\n",
        "    \"Metric\": [\"MSE\",\"RMSE\",\"MAE\", \"R² Score\"],\n",
        "    \"Value\": [mse, rmse, mae, r2]\n",
        "})\n",
        "display(evaluation_metrics)"
      ],
      "metadata": {
        "colab": {
          "base_uri": "https://localhost:8080/",
          "height": 175
        },
        "id": "mwBVRaYg61jG",
        "outputId": "6c775813-d89b-4495-9d8b-a22d0a491b91"
      },
      "execution_count": null,
      "outputs": [
        {
          "output_type": "display_data",
          "data": {
            "text/plain": [
              "     Metric        Value\n",
              "0       MSE  3763.266888\n",
              "1      RMSE    61.345472\n",
              "2       MAE    31.647147\n",
              "3  R² Score     0.392869"
            ],
            "text/html": [
              "\n",
              "  <div id=\"df-1865dc2b-9aeb-49f9-a773-9315138fd7d3\" class=\"colab-df-container\">\n",
              "    <div>\n",
              "<style scoped>\n",
              "    .dataframe tbody tr th:only-of-type {\n",
              "        vertical-align: middle;\n",
              "    }\n",
              "\n",
              "    .dataframe tbody tr th {\n",
              "        vertical-align: top;\n",
              "    }\n",
              "\n",
              "    .dataframe thead th {\n",
              "        text-align: right;\n",
              "    }\n",
              "</style>\n",
              "<table border=\"1\" class=\"dataframe\">\n",
              "  <thead>\n",
              "    <tr style=\"text-align: right;\">\n",
              "      <th></th>\n",
              "      <th>Metric</th>\n",
              "      <th>Value</th>\n",
              "    </tr>\n",
              "  </thead>\n",
              "  <tbody>\n",
              "    <tr>\n",
              "      <th>0</th>\n",
              "      <td>MSE</td>\n",
              "      <td>3763.266888</td>\n",
              "    </tr>\n",
              "    <tr>\n",
              "      <th>1</th>\n",
              "      <td>RMSE</td>\n",
              "      <td>61.345472</td>\n",
              "    </tr>\n",
              "    <tr>\n",
              "      <th>2</th>\n",
              "      <td>MAE</td>\n",
              "      <td>31.647147</td>\n",
              "    </tr>\n",
              "    <tr>\n",
              "      <th>3</th>\n",
              "      <td>R² Score</td>\n",
              "      <td>0.392869</td>\n",
              "    </tr>\n",
              "  </tbody>\n",
              "</table>\n",
              "</div>\n",
              "    <div class=\"colab-df-buttons\">\n",
              "\n",
              "  <div class=\"colab-df-container\">\n",
              "    <button class=\"colab-df-convert\" onclick=\"convertToInteractive('df-1865dc2b-9aeb-49f9-a773-9315138fd7d3')\"\n",
              "            title=\"Convert this dataframe to an interactive table.\"\n",
              "            style=\"display:none;\">\n",
              "\n",
              "  <svg xmlns=\"http://www.w3.org/2000/svg\" height=\"24px\" viewBox=\"0 -960 960 960\">\n",
              "    <path d=\"M120-120v-720h720v720H120Zm60-500h600v-160H180v160Zm220 220h160v-160H400v160Zm0 220h160v-160H400v160ZM180-400h160v-160H180v160Zm440 0h160v-160H620v160ZM180-180h160v-160H180v160Zm440 0h160v-160H620v160Z\"/>\n",
              "  </svg>\n",
              "    </button>\n",
              "\n",
              "  <style>\n",
              "    .colab-df-container {\n",
              "      display:flex;\n",
              "      gap: 12px;\n",
              "    }\n",
              "\n",
              "    .colab-df-convert {\n",
              "      background-color: #E8F0FE;\n",
              "      border: none;\n",
              "      border-radius: 50%;\n",
              "      cursor: pointer;\n",
              "      display: none;\n",
              "      fill: #1967D2;\n",
              "      height: 32px;\n",
              "      padding: 0 0 0 0;\n",
              "      width: 32px;\n",
              "    }\n",
              "\n",
              "    .colab-df-convert:hover {\n",
              "      background-color: #E2EBFA;\n",
              "      box-shadow: 0px 1px 2px rgba(60, 64, 67, 0.3), 0px 1px 3px 1px rgba(60, 64, 67, 0.15);\n",
              "      fill: #174EA6;\n",
              "    }\n",
              "\n",
              "    .colab-df-buttons div {\n",
              "      margin-bottom: 4px;\n",
              "    }\n",
              "\n",
              "    [theme=dark] .colab-df-convert {\n",
              "      background-color: #3B4455;\n",
              "      fill: #D2E3FC;\n",
              "    }\n",
              "\n",
              "    [theme=dark] .colab-df-convert:hover {\n",
              "      background-color: #434B5C;\n",
              "      box-shadow: 0px 1px 3px 1px rgba(0, 0, 0, 0.15);\n",
              "      filter: drop-shadow(0px 1px 2px rgba(0, 0, 0, 0.3));\n",
              "      fill: #FFFFFF;\n",
              "    }\n",
              "  </style>\n",
              "\n",
              "    <script>\n",
              "      const buttonEl =\n",
              "        document.querySelector('#df-1865dc2b-9aeb-49f9-a773-9315138fd7d3 button.colab-df-convert');\n",
              "      buttonEl.style.display =\n",
              "        google.colab.kernel.accessAllowed ? 'block' : 'none';\n",
              "\n",
              "      async function convertToInteractive(key) {\n",
              "        const element = document.querySelector('#df-1865dc2b-9aeb-49f9-a773-9315138fd7d3');\n",
              "        const dataTable =\n",
              "          await google.colab.kernel.invokeFunction('convertToInteractive',\n",
              "                                                    [key], {});\n",
              "        if (!dataTable) return;\n",
              "\n",
              "        const docLinkHtml = 'Like what you see? Visit the ' +\n",
              "          '<a target=\"_blank\" href=https://colab.research.google.com/notebooks/data_table.ipynb>data table notebook</a>'\n",
              "          + ' to learn more about interactive tables.';\n",
              "        element.innerHTML = '';\n",
              "        dataTable['output_type'] = 'display_data';\n",
              "        await google.colab.output.renderOutput(dataTable, element);\n",
              "        const docLink = document.createElement('div');\n",
              "        docLink.innerHTML = docLinkHtml;\n",
              "        element.appendChild(docLink);\n",
              "      }\n",
              "    </script>\n",
              "  </div>\n",
              "\n",
              "\n",
              "<div id=\"df-fef6eae9-067a-4eea-b64d-c7e26d99b99b\">\n",
              "  <button class=\"colab-df-quickchart\" onclick=\"quickchart('df-fef6eae9-067a-4eea-b64d-c7e26d99b99b')\"\n",
              "            title=\"Suggest charts\"\n",
              "            style=\"display:none;\">\n",
              "\n",
              "<svg xmlns=\"http://www.w3.org/2000/svg\" height=\"24px\"viewBox=\"0 0 24 24\"\n",
              "     width=\"24px\">\n",
              "    <g>\n",
              "        <path d=\"M19 3H5c-1.1 0-2 .9-2 2v14c0 1.1.9 2 2 2h14c1.1 0 2-.9 2-2V5c0-1.1-.9-2-2-2zM9 17H7v-7h2v7zm4 0h-2V7h2v10zm4 0h-2v-4h2v4z\"/>\n",
              "    </g>\n",
              "</svg>\n",
              "  </button>\n",
              "\n",
              "<style>\n",
              "  .colab-df-quickchart {\n",
              "      --bg-color: #E8F0FE;\n",
              "      --fill-color: #1967D2;\n",
              "      --hover-bg-color: #E2EBFA;\n",
              "      --hover-fill-color: #174EA6;\n",
              "      --disabled-fill-color: #AAA;\n",
              "      --disabled-bg-color: #DDD;\n",
              "  }\n",
              "\n",
              "  [theme=dark] .colab-df-quickchart {\n",
              "      --bg-color: #3B4455;\n",
              "      --fill-color: #D2E3FC;\n",
              "      --hover-bg-color: #434B5C;\n",
              "      --hover-fill-color: #FFFFFF;\n",
              "      --disabled-bg-color: #3B4455;\n",
              "      --disabled-fill-color: #666;\n",
              "  }\n",
              "\n",
              "  .colab-df-quickchart {\n",
              "    background-color: var(--bg-color);\n",
              "    border: none;\n",
              "    border-radius: 50%;\n",
              "    cursor: pointer;\n",
              "    display: none;\n",
              "    fill: var(--fill-color);\n",
              "    height: 32px;\n",
              "    padding: 0;\n",
              "    width: 32px;\n",
              "  }\n",
              "\n",
              "  .colab-df-quickchart:hover {\n",
              "    background-color: var(--hover-bg-color);\n",
              "    box-shadow: 0 1px 2px rgba(60, 64, 67, 0.3), 0 1px 3px 1px rgba(60, 64, 67, 0.15);\n",
              "    fill: var(--button-hover-fill-color);\n",
              "  }\n",
              "\n",
              "  .colab-df-quickchart-complete:disabled,\n",
              "  .colab-df-quickchart-complete:disabled:hover {\n",
              "    background-color: var(--disabled-bg-color);\n",
              "    fill: var(--disabled-fill-color);\n",
              "    box-shadow: none;\n",
              "  }\n",
              "\n",
              "  .colab-df-spinner {\n",
              "    border: 2px solid var(--fill-color);\n",
              "    border-color: transparent;\n",
              "    border-bottom-color: var(--fill-color);\n",
              "    animation:\n",
              "      spin 1s steps(1) infinite;\n",
              "  }\n",
              "\n",
              "  @keyframes spin {\n",
              "    0% {\n",
              "      border-color: transparent;\n",
              "      border-bottom-color: var(--fill-color);\n",
              "      border-left-color: var(--fill-color);\n",
              "    }\n",
              "    20% {\n",
              "      border-color: transparent;\n",
              "      border-left-color: var(--fill-color);\n",
              "      border-top-color: var(--fill-color);\n",
              "    }\n",
              "    30% {\n",
              "      border-color: transparent;\n",
              "      border-left-color: var(--fill-color);\n",
              "      border-top-color: var(--fill-color);\n",
              "      border-right-color: var(--fill-color);\n",
              "    }\n",
              "    40% {\n",
              "      border-color: transparent;\n",
              "      border-right-color: var(--fill-color);\n",
              "      border-top-color: var(--fill-color);\n",
              "    }\n",
              "    60% {\n",
              "      border-color: transparent;\n",
              "      border-right-color: var(--fill-color);\n",
              "    }\n",
              "    80% {\n",
              "      border-color: transparent;\n",
              "      border-right-color: var(--fill-color);\n",
              "      border-bottom-color: var(--fill-color);\n",
              "    }\n",
              "    90% {\n",
              "      border-color: transparent;\n",
              "      border-bottom-color: var(--fill-color);\n",
              "    }\n",
              "  }\n",
              "</style>\n",
              "\n",
              "  <script>\n",
              "    async function quickchart(key) {\n",
              "      const quickchartButtonEl =\n",
              "        document.querySelector('#' + key + ' button');\n",
              "      quickchartButtonEl.disabled = true;  // To prevent multiple clicks.\n",
              "      quickchartButtonEl.classList.add('colab-df-spinner');\n",
              "      try {\n",
              "        const charts = await google.colab.kernel.invokeFunction(\n",
              "            'suggestCharts', [key], {});\n",
              "      } catch (error) {\n",
              "        console.error('Error during call to suggestCharts:', error);\n",
              "      }\n",
              "      quickchartButtonEl.classList.remove('colab-df-spinner');\n",
              "      quickchartButtonEl.classList.add('colab-df-quickchart-complete');\n",
              "    }\n",
              "    (() => {\n",
              "      let quickchartButtonEl =\n",
              "        document.querySelector('#df-fef6eae9-067a-4eea-b64d-c7e26d99b99b button');\n",
              "      quickchartButtonEl.style.display =\n",
              "        google.colab.kernel.accessAllowed ? 'block' : 'none';\n",
              "    })();\n",
              "  </script>\n",
              "</div>\n",
              "\n",
              "  <div id=\"id_0d2c1b7b-2d94-4f93-8197-b07702b5dbcf\">\n",
              "    <style>\n",
              "      .colab-df-generate {\n",
              "        background-color: #E8F0FE;\n",
              "        border: none;\n",
              "        border-radius: 50%;\n",
              "        cursor: pointer;\n",
              "        display: none;\n",
              "        fill: #1967D2;\n",
              "        height: 32px;\n",
              "        padding: 0 0 0 0;\n",
              "        width: 32px;\n",
              "      }\n",
              "\n",
              "      .colab-df-generate:hover {\n",
              "        background-color: #E2EBFA;\n",
              "        box-shadow: 0px 1px 2px rgba(60, 64, 67, 0.3), 0px 1px 3px 1px rgba(60, 64, 67, 0.15);\n",
              "        fill: #174EA6;\n",
              "      }\n",
              "\n",
              "      [theme=dark] .colab-df-generate {\n",
              "        background-color: #3B4455;\n",
              "        fill: #D2E3FC;\n",
              "      }\n",
              "\n",
              "      [theme=dark] .colab-df-generate:hover {\n",
              "        background-color: #434B5C;\n",
              "        box-shadow: 0px 1px 3px 1px rgba(0, 0, 0, 0.15);\n",
              "        filter: drop-shadow(0px 1px 2px rgba(0, 0, 0, 0.3));\n",
              "        fill: #FFFFFF;\n",
              "      }\n",
              "    </style>\n",
              "    <button class=\"colab-df-generate\" onclick=\"generateWithVariable('evaluation_metrics')\"\n",
              "            title=\"Generate code using this dataframe.\"\n",
              "            style=\"display:none;\">\n",
              "\n",
              "  <svg xmlns=\"http://www.w3.org/2000/svg\" height=\"24px\"viewBox=\"0 0 24 24\"\n",
              "       width=\"24px\">\n",
              "    <path d=\"M7,19H8.4L18.45,9,17,7.55,7,17.6ZM5,21V16.75L18.45,3.32a2,2,0,0,1,2.83,0l1.4,1.43a1.91,1.91,0,0,1,.58,1.4,1.91,1.91,0,0,1-.58,1.4L9.25,21ZM18.45,9,17,7.55Zm-12,3A5.31,5.31,0,0,0,4.9,8.1,5.31,5.31,0,0,0,1,6.5,5.31,5.31,0,0,0,4.9,4.9,5.31,5.31,0,0,0,6.5,1,5.31,5.31,0,0,0,8.1,4.9,5.31,5.31,0,0,0,12,6.5,5.46,5.46,0,0,0,6.5,12Z\"/>\n",
              "  </svg>\n",
              "    </button>\n",
              "    <script>\n",
              "      (() => {\n",
              "      const buttonEl =\n",
              "        document.querySelector('#id_0d2c1b7b-2d94-4f93-8197-b07702b5dbcf button.colab-df-generate');\n",
              "      buttonEl.style.display =\n",
              "        google.colab.kernel.accessAllowed ? 'block' : 'none';\n",
              "\n",
              "      buttonEl.onclick = () => {\n",
              "        google.colab.notebook.generateWithVariable('evaluation_metrics');\n",
              "      }\n",
              "      })();\n",
              "    </script>\n",
              "  </div>\n",
              "\n",
              "    </div>\n",
              "  </div>\n"
            ],
            "application/vnd.google.colaboratory.intrinsic+json": {
              "type": "dataframe",
              "variable_name": "evaluation_metrics",
              "summary": "{\n  \"name\": \"evaluation_metrics\",\n  \"rows\": 4,\n  \"fields\": [\n    {\n      \"column\": \"Metric\",\n      \"properties\": {\n        \"dtype\": \"string\",\n        \"num_unique_values\": 4,\n        \"samples\": [\n          \"RMSE\",\n          \"R\\u00b2 Score\",\n          \"MSE\"\n        ],\n        \"semantic_type\": \"\",\n        \"description\": \"\"\n      }\n    },\n    {\n      \"column\": \"Value\",\n      \"properties\": {\n        \"dtype\": \"number\",\n        \"std\": 1866.2351355305602,\n        \"min\": 0.39286928701986024,\n        \"max\": 3763.266887517804,\n        \"num_unique_values\": 4,\n        \"samples\": [\n          61.34547161378584,\n          0.39286928701986024,\n          3763.266887517804\n        ],\n        \"semantic_type\": \"\",\n        \"description\": \"\"\n      }\n    }\n  ]\n}"
            }
          },
          "metadata": {}
        }
      ]
    },
    {
      "cell_type": "markdown",
      "source": [
        "### Feature Importance"
      ],
      "metadata": {
        "id": "evIRMvdYEphq"
      }
    },
    {
      "cell_type": "code",
      "source": [
        "lgb.plot_importance(model, max_num_features=10, importance_type=\"gain\", figsize=(5, 3))\n",
        "plt.title(\"Feature Importance\")\n",
        "plt.show()"
      ],
      "metadata": {
        "colab": {
          "base_uri": "https://localhost:8080/",
          "height": 333
        },
        "id": "_y9BpwBs64LQ",
        "outputId": "666b6e6a-6ecb-47c0-ce7e-ee941bec8d34"
      },
      "execution_count": null,
      "outputs": [
        {
          "output_type": "display_data",
          "data": {
            "text/plain": [
              "<Figure size 500x300 with 1 Axes>"
            ],
            "image/png": "[encoded data removed]"
          },
          "metadata": {}
        }
      ]
    },
    {
      "cell_type": "markdown",
      "source": [
        "### SHAP Explainer"
      ],
      "metadata": {
        "id": "dEz7ULSLErFz"
      }
    },
    {
      "cell_type": "code",
      "source": [
        "explainer = shap.TreeExplainer(model)\n",
        "shap_values = explainer.shap_values(X_test)\n",
        "shap.summary_plot(shap_values, X_test, plot_type=\"bar\", feature_names=features)"
      ],
      "metadata": {
        "colab": {
          "base_uri": "https://localhost:8080/",
          "height": 397
        },
        "id": "vtyzOghG64eJ",
        "outputId": "76ac132e-41f9-40e0-cb1e-d6119d5fd809"
      },
      "execution_count": null,
      "outputs": [
        {
          "output_type": "display_data",
          "data": {
            "text/plain": [
              "<Figure size 800x390 with 1 Axes>"
            ],
            "image/png": "[encoded data removed]"
          },
          "metadata": {}
        }
      ]
    },
    {
      "cell_type": "code",
      "source": [
        "shap.summary_plot(shap_values, X_test, feature_names=features)"
      ],
      "metadata": {
        "colab": {
          "base_uri": "https://localhost:8080/",
          "height": 397
        },
        "id": "5dY6Q6HGE7Jm",
        "outputId": "9c0d8be5-1c3d-415c-c3e4-917ce4768fce"
      },
      "execution_count": null,
      "outputs": [
        {
          "output_type": "display_data",
          "data": {
            "text/plain": [
              "<Figure size 800x390 with 2 Axes>"
            ],
            "image/png": "[encoded data removed]"
          },
          "metadata": {}
        }
      ]
    },
    {
      "cell_type": "code",
      "source": [
        "shap.dependence_plot(\"star_rating\", shap_values, X_test, feature_names=features)"
      ],
      "metadata": {
        "colab": {
          "base_uri": "https://localhost:8080/",
          "height": 470
        },
        "id": "yXpZPw0vE6ug",
        "outputId": "c41765f7-b803-4afe-b51e-eaa4f8a97dbe"
      },
      "execution_count": null,
      "outputs": [
        {
          "output_type": "display_data",
          "data": {
            "text/plain": [
              "<Figure size 750x500 with 2 Axes>"
            ],
            "image/png": "[encoded data removed]"
          },
          "metadata": {}
        }
      ]
    },
    {
      "cell_type": "markdown",
      "source": [
        "# Starting over with Spark Entirely"
      ],
      "metadata": {
        "id": "GvQjHvceKON-"
      }
    },
    {
      "cell_type": "code",
      "source": [
        "from pyspark.sql import SparkSession\n",
        "from pyspark.sql.functions import col, to_date, datediff\n",
        "from pyspark.ml.feature import VectorAssembler\n",
        "from pyspark.ml.regression import GBTRegressor\n",
        "from pyspark.ml.evaluation import RegressionEvaluator"
      ],
      "metadata": {
        "id": "jlsRB90aE84W"
      },
      "execution_count": null,
      "outputs": []
    },
    {
      "cell_type": "code",
      "source": [
        "data.show(5)"
      ],
      "metadata": {
        "colab": {
          "base_uri": "https://localhost:8080/"
        },
        "id": "4tUk5WpwKmPq",
        "outputId": "82363974-4a87-415e-d906-8719b29e4a4c"
      },
      "execution_count": null,
      "outputs": [
        {
          "output_type": "stream",
          "name": "stdout",
          "text": [
            "+---+-------+--------+-----------+-----------------------+-----------+-------------------+-------------------+-------------------+----+--------+---+\n",
            "|  #|ADR_USD|hotel_id|star_rating|accommodation_type_name|chain_hotel|       booking_date|       checkin_date|      checkout_date|city|leadtime|los|\n",
            "+---+-------+--------+-----------+-----------------------+-----------+-------------------+-------------------+-------------------+----+--------+---+\n",
            "|  1|  71.06|  297388|        2.5|                  Hotel|  non-chain|2016-08-02 00:00:00|2016-10-01 00:00:00|2016-10-02 00:00:00|   A|      60|  1|\n",
            "|  2|  76.56|  298322|        3.0|                  Hotel|  non-chain|2016-08-02 00:00:00|2016-10-01 00:00:00|2016-10-02 00:00:00|   A|      60|  1|\n",
            "|  3| 153.88| 2313076|        5.0|                  Hotel|      chain|2016-08-02 00:00:00|2016-10-01 00:00:00|2016-10-02 00:00:00|   A|      60|  1|\n",
            "|  4|  126.6| 2240838|        3.5|                  Hotel|  non-chain|2016-08-04 00:00:00|2016-10-02 00:00:00|2016-10-03 00:00:00|   A|      59|  1|\n",
            "|  5| 115.08| 2240838|        3.5|                  Hotel|  non-chain|2016-08-04 00:00:00|2016-10-02 00:00:00|2016-10-03 00:00:00|   A|      59|  1|\n",
            "+---+-------+--------+-----------+-----------------------+-----------+-------------------+-------------------+-------------------+----+--------+---+\n",
            "only showing top 5 rows\n",
            "\n"
          ]
        }
      ]
    },
    {
      "cell_type": "code",
      "source": [
        "feature_columns = [\"star_rating\", \"leadtime\", \"los\"]\n",
        "# GBTRegressor cannot handle categorical feature\n",
        "assembler = VectorAssembler(inputCols=feature_columns, outputCol=\"features\")\n",
        "data_copy = assembler.transform(data)"
      ],
      "metadata": {
        "id": "Om6XiNXcK5m3"
      },
      "execution_count": null,
      "outputs": []
    },
    {
      "cell_type": "code",
      "source": [
        "train_data, test_data = data_copy.randomSplit([0.8, 0.2], seed=42)"
      ],
      "metadata": {
        "id": "ttngHJ--K5hp"
      },
      "execution_count": null,
      "outputs": []
    },
    {
      "cell_type": "code",
      "source": [
        "gbt = GBTRegressor(featuresCol=\"features\", labelCol=\"ADR_USD\", maxIter=100)\n",
        "gbt_model = gbt.fit(train_data)"
      ],
      "metadata": {
        "id": "sbLT67OtK5fr"
      },
      "execution_count": null,
      "outputs": []
    },
    {
      "cell_type": "code",
      "source": [
        "predictions = gbt_model.transform(test_data)"
      ],
      "metadata": {
        "id": "2MT0YsAfK5dk"
      },
      "execution_count": null,
      "outputs": []
    },
    {
      "cell_type": "code",
      "source": [
        "evaluator_rmse = RegressionEvaluator(labelCol=\"ADR_USD\", predictionCol=\"prediction\", metricName=\"rmse\")\n",
        "evaluator_mae = RegressionEvaluator(labelCol=\"ADR_USD\", predictionCol=\"prediction\", metricName=\"mae\")\n",
        "evaluator_r2 = RegressionEvaluator(labelCol=\"ADR_USD\", predictionCol=\"prediction\", metricName=\"r2\")\n",
        "\n",
        "rmse = evaluator_rmse.evaluate(predictions)\n",
        "mae = evaluator_mae.evaluate(predictions)\n",
        "r2 = evaluator_r2.evaluate(predictions)\n",
        "\n",
        "metrics_df = spark.createDataFrame([\n",
        "    (\"RMSE\", rmse),\n",
        "    (\"MAE\", mae),\n",
        "    (\"R²\", r2)\n",
        "], [\"Metric\", \"Value\"])\n",
        "\n",
        "metrics_df.show()"
      ],
      "metadata": {
        "colab": {
          "base_uri": "https://localhost:8080/"
        },
        "id": "Tz7imu04KvJ1",
        "outputId": "40135f3b-eccf-4c10-d481-15b2539c3f4e"
      },
      "execution_count": null,
      "outputs": [
        {
          "output_type": "stream",
          "name": "stdout",
          "text": [
            "+------+------------------+\n",
            "|Metric|             Value|\n",
            "+------+------------------+\n",
            "|  RMSE| 66.76707515828548|\n",
            "|   MAE| 34.63248262188715|\n",
            "|    R²|0.3929525172701669|\n",
            "+------+------------------+\n",
            "\n"
          ]
        }
      ]
    },
    {
      "cell_type": "markdown",
      "source": [
        "# Now it's your turn!\n",
        "\n",
        "*   For people interested in modeling\n",
        "  * Think about how you can improve these models further\n",
        "    * Separate model for each city?\n",
        "    * Create more features, get creative (Ex: average ADR by city, proportion of chain hotels in city)\n",
        "    * OneHotEncode the categorical features and try other ML algorithms (Ex: DecisionTreeRegressor)\n",
        "*   For people interested in visualization\n",
        "  * Dive deeper into the data: How many cities are there? How many hotels? What are the impact these can have on the model?\n",
        "    * What is the average ADR in each city?\n",
        "  * Try to find the relationship between leadtime and ADR\n",
        "  * Analyze the feature correlation. Use heatmap.\n",
        "  * Any trend in seasonality you can observe\n",
        "\n",
        "**Please also prepare a quick presentation for sharing!**"
      ],
      "metadata": {
        "id": "KHqQNjqDRD59"
      }
    }
  ]
}